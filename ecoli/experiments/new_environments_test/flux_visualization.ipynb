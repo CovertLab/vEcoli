{
 "cells": [
  {
   "cell_type": "code",
   "execution_count": 586,
   "metadata": {
    "collapsed": true,
    "ExecuteTime": {
     "end_time": "2023-08-03T00:33:31.735361Z",
     "start_time": "2023-08-03T00:33:30.987501Z"
    }
   },
   "outputs": [],
   "source": [
    "import numpy as np\n",
    "import networkx as nx\n",
    "from pyvis.network import Network\n",
    "import math\n",
    "import community as community_louvain\n",
    "\n",
    "import seaborn as sns\n",
    "import pandas as pd\n",
    "import os\n",
    "\n",
    "os.chdir(os.path.expanduser('~/Documents/vivarium-ecoli'))\n",
    "\n",
    "import matplotlib.pyplot as plt\n",
    "import dill\n",
    "import xmltodict\n",
    "import os\n",
    "import requests\n",
    "from bs4 import BeautifulSoup\n",
    "from ecoli.processes.metabolism_redux import NetworkFlowModel, FlowResult, MetabolismRedux\n",
    "\n",
    "\n",
    "FREE_RXNS = [\"TRANS-RXN-145\", \"TRANS-RXN0-545\", \"TRANS-RXN0-474\"]"
   ]
  },
  {
   "cell_type": "code",
   "execution_count": 587,
   "outputs": [],
   "source": [
    "# Change the environment name here\n",
    "env_name = 'Hydrogen_fumarate_-O2_Glc'"
   ],
   "metadata": {
    "collapsed": false,
    "ExecuteTime": {
     "end_time": "2023-08-03T00:33:31.740490Z",
     "start_time": "2023-08-03T00:33:31.055939Z"
    }
   }
  },
  {
   "cell_type": "code",
   "execution_count": 588,
   "outputs": [],
   "source": [
    "condition_df = pd.read_excel(\"ecoli/experiments/new_environments_test/done.xlsx\")\n",
    "condition_df[\"Add\"] = condition_df[\"Add\"].apply(lambda x: set(str(x).split(\", \") if x == x else set()))\n",
    "condition_df[\"Remove\"] = condition_df[\"Remove\"].apply(lambda x: set(str(x).split(\", \") if x == x else set()))\n",
    "\n",
    "row_num = condition_df[condition_df['Environment'] == env_name].index[0]\n",
    "important_add = condition_df[\"Add\"].loc[row_num]\n",
    "important_remove = condition_df[\"Remove\"].loc[row_num]"
   ],
   "metadata": {
    "collapsed": false,
    "ExecuteTime": {
     "end_time": "2023-08-03T00:33:31.807191Z",
     "start_time": "2023-08-03T00:33:31.151740Z"
    }
   }
  },
  {
   "cell_type": "code",
   "execution_count": 589,
   "outputs": [],
   "source": [
    "time = '50'\n",
    "date = '2023-07-21'\n",
    "experiment = 'fba_new_environments'\n",
    "entry = f'{experiment}_{env_name}_{time}_{date}'\n",
    "folder = f'out/fba_new_env/{entry}/'\n",
    "\n",
    "f = open(folder + 'agent_steps.pkl', 'rb')\n",
    "agent = dill.load(f)\n",
    "f.close()\n",
    "\n",
    "metabolism = agent['ecoli-metabolism-redux']\n",
    "stoichiometry = metabolism.stoichiometry\n",
    "\n",
    "output = np.load(folder + 'output.npy',allow_pickle='TRUE').item()\n",
    "output = output['agents']['0']\n",
    "fba = output['listeners']['fba_results']\n",
    "mass = output['listeners']['mass']\n",
    "bulk = pd.DataFrame(output['bulk'])\n",
    "\n",
    "sim_fluxes = pd.DataFrame(fba[\"estimated_fluxes\"], columns = metabolism.reaction_names)\n",
    "sim_fluxes = pd.DataFrame(sim_fluxes.loc[24, :].abs().sort_values(ascending=False))\n",
    "\n",
    "metabolites_idx = {species: i for i, species in enumerate(metabolism.metabolite_names)}\n",
    "index_to_met = {v: k for k, v in metabolites_idx.items()}\n",
    "\n",
    "reaction_idx = {reaction: i for i, reaction in enumerate(metabolism.reaction_names)}\n",
    "index_to_rxn = {v: k for k, v in reaction_idx.items()}\n",
    "\n",
    "metabolism.catalyst_ids = metabolism.parameters['catalyst_ids']\n",
    "catalyst_idx = {catalyst: i for i, catalyst in enumerate(metabolism.catalyst_ids)}"
   ],
   "metadata": {
    "collapsed": false,
    "ExecuteTime": {
     "end_time": "2023-08-03T00:33:43.697106Z",
     "start_time": "2023-08-03T00:33:31.466493Z"
    }
   }
  },
  {
   "cell_type": "code",
   "execution_count": 590,
   "outputs": [],
   "source": [
    "homeostatic = pd.DataFrame(fba[\"target_homeostatic_dmdt\"], columns=metabolism.homeostatic_metabolites).loc[24, :]"
   ],
   "metadata": {
    "collapsed": false,
    "ExecuteTime": {
     "end_time": "2023-08-03T00:33:43.716645Z",
     "start_time": "2023-08-03T00:33:43.708629Z"
    }
   }
  },
  {
   "cell_type": "code",
   "execution_count": 591,
   "outputs": [],
   "source": [
    "heatmap_df = pd.read_excel(\"out/new_env_analysis/heatmap.xlsx\")\n",
    "heatmap_df = heatmap_df[heatmap_df[env_name] != 0]"
   ],
   "metadata": {
    "collapsed": false,
    "ExecuteTime": {
     "end_time": "2023-08-03T00:33:56.791162Z",
     "start_time": "2023-08-03T00:33:43.724032Z"
    }
   }
  },
  {
   "cell_type": "markdown",
   "source": [
    "## Building the graph"
   ],
   "metadata": {
    "collapsed": false
   }
  },
  {
   "cell_type": "code",
   "execution_count": 592,
   "outputs": [],
   "source": [
    "G = nx.DiGraph()\n",
    "\n",
    "met_length = len(metabolism.metabolite_names)\n",
    "reaction_length = np.shape(stoichiometry)[1]\n",
    "met_not_include = [\"ATP[c]\", \"WATER[c]\", \"PROTON[p]\", \"Pi[c]\", \"PROTON[c]\", \"ADP[c]\"]\n",
    "# met_not_include = []\n",
    "do_not_include = []\n",
    "\n",
    "for met in met_not_include:\n",
    "    do_not_include.append(metabolites_idx[met])\n",
    "\n",
    "def plot_reaction(G, reaction, flux, color):\n",
    "    index = reaction_idx[reaction]\n",
    "    reactants = []\n",
    "    products = []\n",
    "    clean_name = clean_reaction_name(reaction)\n",
    "    for k in range(met_length):\n",
    "        if stoichiometry[k, index] > 0 and index_to_met[k] not in met_not_include:\n",
    "            products.append(index_to_met[k])\n",
    "        elif stoichiometry[k, index] < 0 and index_to_met[k] not in met_not_include:\n",
    "            reactants.append(index_to_met[k])\n",
    "\n",
    "    for reactant in reactants:\n",
    "        # nt.add_node(reactant, label=reactant, color='lightblue', shape='star', size=10)\n",
    "        # nt.add_node(clean_name, label=clean_name, color='lightblue', shape='dot', size=10)\n",
    "        # nt.add_edge(reactant, clean_name, color=color, title=flux, arrowStrikethrough=False)\n",
    "\n",
    "        G.add_edge(reactant, clean_name, color=color, title=flux)\n",
    "\n",
    "    for product in products:\n",
    "        # nt.add_node(product, label=product, color='lightblue', shape='star', size=10)\n",
    "        # nt.add_node(clean_name, label=clean_name, color='lightblue', shape='dot', size=10)\n",
    "        # nt.add_edge(clean_name, product, color=color, title=flux, arrowStrikethrough=False)\n",
    "\n",
    "        G.add_edge(clean_name, product, color=color, title=flux)"
   ],
   "metadata": {
    "collapsed": false,
    "ExecuteTime": {
     "end_time": "2023-08-03T00:33:56.823990Z",
     "start_time": "2023-08-03T00:33:56.792026Z"
    }
   }
  },
  {
   "cell_type": "code",
   "execution_count": 593,
   "outputs": [],
   "source": [
    "# Not currently used in this analysis but can be useful later\n",
    "\n",
    "def clean_reaction_name(reaction):\n",
    "    if '/' in reaction:\n",
    "        index = reaction.find('RXN')\n",
    "        if (reaction[index+3] == '-' and reaction[index+4].isdigit()) or (reaction[index+4] == '-' and reaction[index+5].isdigit()):\n",
    "            index = index + 4\n",
    "            if reaction[index] == '-':\n",
    "                index += 1\n",
    "            while reaction[index].isdigit():\n",
    "                index += 1\n",
    "            reaction = reaction[:index]\n",
    "        else:\n",
    "            reaction = reaction[:index+3]\n",
    "    elif '__' in reaction:\n",
    "        reaction = reaction[:reaction.find('__')]\n",
    "    elif '(reverse)' in reaction:\n",
    "        reaction = reaction[:reaction.find('(reverse)') - 1]\n",
    "    elif '[' in reaction:\n",
    "        reaction = reaction[:reaction.find('[') - 1]\n",
    "    elif ' ' in reaction:\n",
    "        reaction = reaction[:reaction.find('[')]\n",
    "    return reaction\n"
   ],
   "metadata": {
    "collapsed": false,
    "ExecuteTime": {
     "end_time": "2023-08-03T00:33:56.865064Z",
     "start_time": "2023-08-03T00:33:56.830643Z"
    }
   }
  },
  {
   "cell_type": "code",
   "execution_count": 594,
   "outputs": [],
   "source": [
    "k = 30\n",
    "heatmap_df.sort_values(by=[env_name], ascending=False, inplace=True)\n",
    "top_increase = [heatmap_df.iloc[i, 0] for i in range(k)]\n",
    "bottom_increase = [heatmap_df.iloc[i, 0] for i in range(-1, -1*k - 1, -1)]\n",
    "\n",
    "if \"Non-zero Values for each environment\" in top_increase:\n",
    "    top_increase.remove(\"Non-zero Values for each environment\")\n",
    "elif \"Non-zero Values for each environment\" in bottom_increase:\n",
    "    bottom_increase.remove(\"Non-zero Values for each environment\")\n",
    "\n",
    "for reaction in top_increase:\n",
    "    row_num = heatmap_df[heatmap_df['Reactions'] == reaction].index[0]\n",
    "    plot_reaction(G, reaction, math.log(heatmap_df[env_name].loc[row_num], 10), 'green')\n",
    "\n",
    "for reaction in bottom_increase:\n",
    "    row_num = heatmap_df[heatmap_df['Reactions'] == reaction].index[0]\n",
    "    plot_reaction(G, reaction, math.log(heatmap_df[env_name].loc[row_num], 10), 'red')\n",
    "\n",
    "# nx.write_graphml(G, f'out/new_env_analysis/{env_name}_top10_graph.graphml')\n",
    "\n",
    "# nt = Network('1000px', '2000px', notebook=True, cdn_resources='in_line')\n",
    "# nt.from_nx(G)"
   ],
   "metadata": {
    "collapsed": false,
    "ExecuteTime": {
     "end_time": "2023-08-03T00:34:01.851567Z",
     "start_time": "2023-08-03T00:33:56.857635Z"
    }
   }
  },
  {
   "cell_type": "markdown",
   "source": [
    "## Graph Analysis using NetworkX"
   ],
   "metadata": {
    "collapsed": false
   }
  },
  {
   "cell_type": "code",
   "execution_count": 595,
   "outputs": [
    {
     "name": "stdout",
     "output_type": "stream",
     "text": [
      "Degree Centrality: [('R15-RXN', 0.06622516556291391), ('PYRUVATE[c]', 0.046357615894039736), ('PYFLAVOXRE-RXN', 0.039735099337748346), ('CARBON-DIOXIDE[c]', 0.039735099337748346), ('ACETYL-COA[c]', 0.033112582781456956), ('NADH[c]', 0.033112582781456956), ('NAD[c]', 0.033112582781456956), ('MALIC-NADP-RXN', 0.033112582781456956), ('GAP[c]', 0.033112582781456956), ('ACETALD-DEHYDROG-RXN', 0.033112582781456956), ('FUM[c]', 0.026490066225165563), ('R601-RXN', 0.026490066225165563), ('TRANS-RXN-106', 0.026490066225165563), ('FORMATE[c]', 0.026490066225165563), ('CO-A[c]', 0.026490066225165563), ('PYRUVFORMLY-RXN', 0.026490066225165563), ('NADPH[c]', 0.026490066225165563), ('FLAVONADPREDUCT-RXN', 0.026490066225165563), ('NADP[c]', 0.026490066225165563), ('MALATE-DEH-RXN', 0.026490066225165563), ('GAPOXNPHOSPHN-RXN', 0.026490066225165563), ('DIHYDROOROTATE-DEHYDROGENASE-RXN', 0.026490066225165563), ('THIOREDOXIN-REDUCT-NADPH-RXN', 0.026490066225165563), ('RXN0-5055', 0.026490066225165563), ('DXS-RXN', 0.026490066225165563), ('GTP-CYCLOHYDRO-II-RXN', 0.026490066225165563), ('RIBOFLAVINSYNREDUC-RXN', 0.026490066225165563), ('GLUC1PURIDYLTRANS-RXN', 0.026490066225165563), ('DHBDEHYD-RXN', 0.026490066225165563), ('GLYCOLALD-DEHYDROG-RXN', 0.026490066225165563), ('REDUCED-MENAQUINONE[i]', 0.019867549668874173), ('CPD-9728[i]', 0.019867549668874173), ('SUC[c]', 0.019867549668874173), ('RXN0-5256', 0.019867549668874173), ('PEPCARBOXYKIN-RXN', 0.019867549668874173), ('PHOSPHO-ENOL-PYRUVATE[c]', 0.019867549668874173), ('MAL[c]', 0.019867549668874173), ('ISOCIT-CLEAV-RXN', 0.019867549668874173), ('DIHYDROXY-ACETONE-PHOSPHATE[c]', 0.019867549668874173), ('RXN0-313', 0.019867549668874173), ('F16ALDOLASE-RXN', 0.019867549668874173), ('DAHPSYN-RXN', 0.019867549668874173), ('BIOTIN-CARBOXYL-RXN', 0.019867549668874173), ('RXN0-310', 0.019867549668874173), ('3.2.2.10-RXN', 0.019867549668874173), ('ACETYL-COA-ACETYLTRANSFER-RXN', 0.019867549668874173), ('RIBOFLAVIN-SYN-RXN', 0.019867549668874173), ('AMINO-RIBOSYLAMINO-1H-3H-PYR-DIONE[c]', 0.019867549668874173), ('RIBOFLAVINSYNDEAM-RXN', 0.019867549668874173), ('CHORPYRLY-RXN', 0.019867549668874173), ('LUMAZINESYN-RXN', 0.019867549668874173), ('DIOHBUTANONEPSYN-RXN', 0.019867549668874173), ('ISOCHORMAT-RXN', 0.019867549668874173), ('FUM[p]', 0.013245033112582781), ('TRANS-RXN-1', 0.013245033112582781), ('Reduced-flavodoxins[c]', 0.013245033112582781), ('Oxidized-flavodoxins[c]', 0.013245033112582781), ('TRANS-RXN0-517', 0.013245033112582781), ('OXALACETIC_ACID[c]', 0.013245033112582781), ('2PGADEHYDRAT-RXN', 0.013245033112582781), ('2-PG[c]', 0.013245033112582781), ('3PGAREARR-RXN', 0.013245033112582781), ('G3P[c]', 0.013245033112582781), ('FUMHYDR-RXN', 0.013245033112582781), ('GLYOX[c]', 0.013245033112582781), ('THREO-DS-ISO-CITRATE[c]', 0.013245033112582781), ('CPD-479[c]', 0.013245033112582781), ('MET[c]', 0.013245033112582781), ('PHOSGLYPHOS-RXN', 0.013245033112582781), ('DPG[c]', 0.013245033112582781), ('TRIOSEPISOMERIZATION-RXN', 0.013245033112582781), ('RXN0-7249', 0.013245033112582781), ('DIHYDROXYACETONE[c]', 0.013245033112582781), ('FRUCTOSE-6P[c]', 0.013245033112582781), ('FRUCTOSE-16-DIPHOSPHATE[c]', 0.013245033112582781), ('F16BDEPHOS-RXN', 0.013245033112582781), ('TRANS-RXN0-474', 0.013245033112582781), ('OXYGEN-MOLECULE[c]', 0.013245033112582781), ('biotin-L-lysine-in-BCCP-dimers[c]', 0.013245033112582781), ('carboxybiotin-L-lysine-in-BCCP-dimers[c]', 0.013245033112582781), ('METHYLMALONYL-COA-MUT-RXN', 0.013245033112582781), ('METHYL-MALONYL-COA[c]', 0.013245033112582781), ('CMP[c]', 0.013245033112582781), ('RXN-14026', 0.013245033112582781), ('NUCLEOSIDE-DIPHOSPHATASE-RXN', 0.013245033112582781), ('TRANS-RXN-141A', 0.013245033112582781), ('RXN0-5038', 0.013245033112582781), ('ACONITATEHYDR-RXN', 0.013245033112582781), ('RIBOFLAVIN[c]', 0.013245033112582781), ('RIBOFLAVINKIN-RXN', 0.013245033112582781), ('RXN0-5185', 0.013245033112582781), ('DIMETHYL-D-RIBITYL-LUMAZINE[c]', 0.013245033112582781), ('CPD-1086[c]', 0.013245033112582781), ('RIBOPHOSPHAT-RXN', 0.013245033112582781), ('DIAMINO-OH-PHOSPHORIBOSYLAMINO-PYR[c]', 0.013245033112582781), ('PPI[c]', 0.013245033112582781), ('CPD-602[c]', 0.013245033112582781), ('CATAL-RXN', 0.013245033112582781), ('GMKALT-RXN', 0.013245033112582781), ('TRANS-RXN0-545', 0.013245033112582781), ('DIHYDROXY-BUTANONE-P[c]', 0.013245033112582781), ('DIHYDRO-DIOH-BENZOATE[c]', 0.013245033112582781), ('HYDROGEN-MOLECULE[p]', 0.006622516556291391), ('SUC[p]', 0.006622516556291391), ('FORMATE[p]', 0.006622516556291391), ('GLY[c]', 0.006622516556291391), ('2-KETOGLUTARATE[c]', 0.006622516556291391), ('GLT[c]', 0.006622516556291391), ('ACETALD[c]', 0.006622516556291391), ('L-ALPHA-ALANINE[c]', 0.006622516556291391), ('DI-H-OROTATE[c]', 0.006622516556291391), ('OROTATE[c]', 0.006622516556291391), ('ERYTHROSE-4P[c]', 0.006622516556291391), ('3-DEOXY-D-ARABINO-HEPTULOSONATE-7-P[c]', 0.006622516556291391), ('Oxidized-CcmH-Proteins[c]', 0.006622516556291391), ('Reduced-CcmH-Proteins[c]', 0.006622516556291391), ('OXYGEN-MOLECULE[p]', 0.006622516556291391), ('HCO3[c]', 0.006622516556291391), ('MALONYL-COA[c]', 0.006622516556291391), ('SUC-COA[c]', 0.006622516556291391), ('PROPIONYL-COA[c]', 0.006622516556291391), ('CYTIDINE[c]', 0.006622516556291391), ('CYTOSINE[c]', 0.006622516556291391), ('RIBOSE-5P[c]', 0.006622516556291391), ('DADP[c]', 0.006622516556291391), ('DAMP[c]', 0.006622516556291391), ('CO+2[p]', 0.006622516556291391), ('CO+2[c]', 0.006622516556291391), ('CAMP[c]', 0.006622516556291391), ('AMP[c]', 0.006622516556291391), ('DEOXYXYLULOSE-5P[c]', 0.006622516556291391), ('CIS-ACONITATE[c]', 0.006622516556291391), ('ACETOACETYL-COA[c]', 0.006622516556291391), ('FMN[c]', 0.006622516556291391), ('CPD-2961[c]', 0.006622516556291391), ('GLUCONATE[c]', 0.006622516556291391), ('GTP[c]', 0.006622516556291391), ('AMMONIUM[c]', 0.006622516556291391), ('HYDROGEN-PEROXIDE[c]', 0.006622516556291391), ('CHORISMATE[c]', 0.006622516556291391), ('4-hydroxybenzoate[c]', 0.006622516556291391), ('DGDP[c]', 0.006622516556291391), ('DGMP[c]', 0.006622516556291391), ('CARBON-DIOXIDE[p]', 0.006622516556291391), ('GLC-1-P[c]', 0.006622516556291391), ('UTP[c]', 0.006622516556291391), ('CPD-12575[c]', 0.006622516556291391), ('RIBULOSE-5P[c]', 0.006622516556291391), ('2-3-DIHYDROXYBENZOATE[c]', 0.006622516556291391), ('ISOCHORISMATE[c]', 0.006622516556291391), ('GLYCOLALDEHYDE[c]', 0.006622516556291391), ('GLYCOLLATE[c]', 0.006622516556291391)]\n",
      "\n",
      "Closeness Centrality: [('CARBON-DIOXIDE[c]', 0.08401634865473302), ('PYRUVATE[c]', 0.081332120263208), ('DXS-RXN', 0.07857084457525958), ('R15-RXN', 0.07823283373997908), ('PYFLAVOXRE-RXN', 0.0766775712120003), ('PYRUVFORMLY-RXN', 0.07315216563903479), ('ISOCIT-CLEAV-RXN', 0.07215057511327988), ('TRANS-RXN0-545', 0.07181630658994681), ('CO-A[c]', 0.07091073437990002), ('MALIC-NADP-RXN', 0.07071376011773363), ('FORMATE[c]', 0.07030184032746514), ('GLYOX[c]', 0.06835383159886471), ('GLT[c]', 0.06835383159886471), ('L-ALPHA-ALANINE[c]', 0.06835383159886471), ('DEOXYXYLULOSE-5P[c]', 0.06791929770522101), ('CPD-479[c]', 0.06665577762599115), ('MET[c]', 0.06665577762599115), ('FLAVONADPREDUCT-RXN', 0.06629415011037527), ('Oxidized-flavodoxins[c]', 0.06510729831811791), ('THREO-DS-ISO-CITRATE[c]', 0.0640045978813172), ('CARBON-DIOXIDE[p]', 0.06308332049899892), ('ACETALD-DEHYDROG-RXN', 0.06270185626202981), ('ACETYL-COA[c]', 0.0625477976471354), ('TRANS-RXN-1', 0.06217172870518384), ('RXN0-5055', 0.06206362593150741), ('NADP[c]', 0.06193905995713895), ('NADPH[c]', 0.060756452607121966), ('NAD[c]', 0.05989871445266848), ('ACONITATEHYDR-RXN', 0.05775796878938564), ('Reduced-flavodoxins[c]', 0.05746490664195058), ('ACETALD[c]', 0.05604428190174953), ('FORMATE[p]', 0.05598583205497562), ('MALONYL-COA[c]', 0.05598266280857659), ('RIBOFLAVINSYNREDUC-RXN', 0.05558286821481246), ('biotin-L-lysine-in-BCCP-dimers[c]', 0.054748576097959585), ('ACETYL-COA-ACETYLTRANSFER-RXN', 0.05462865588494443), ('DHBDEHYD-RXN', 0.0539342238186104), ('THIOREDOXIN-REDUCT-NADPH-RXN', 0.05370665325397491), ('GLYCOLALD-DEHYDROG-RXN', 0.053035320088300225), ('CIS-ACONITATE[c]', 0.05281711665817626), ('MAL[c]', 0.05081228271932955), ('CPD-1086[c]', 0.05045061077144056), ('AMINO-RIBOSYLAMINO-1H-3H-PYR-DIONE[c]', 0.04975276596164665), ('ACETOACETYL-COA[c]', 0.04968765257451896), ('BIOTIN-CARBOXYL-RXN', 0.049300956585724795), ('2-3-DIHYDROXYBENZOATE[c]', 0.04913040787274865), ('Reduced-CcmH-Proteins[c]', 0.04894742683784084), ('NADH[c]', 0.04867486356096387), ('GLYCOLLATE[c]', 0.04840657129267133), ('RIBOPHOSPHAT-RXN', 0.0463689364351616), ('GAPOXNPHOSPHN-RXN', 0.04611766964200019), ('LUMAZINESYN-RXN', 0.04592036583255144), ('carboxybiotin-L-lysine-in-BCCP-dimers[c]', 0.04457043001677969), ('FRUCTOSE-6P[c]', 0.0445121412803532), ('MALATE-DEH-RXN', 0.044043172391668), ('RXN0-313', 0.043977036717739726), ('GAP[c]', 0.042217170219542466), ('DIMETHYL-D-RIBITYL-LUMAZINE[c]', 0.04199258611354075), ('F16ALDOLASE-RXN', 0.04182381532187014), ('TRIOSEPISOMERIZATION-RXN', 0.03946661893681762), ('FRUCTOSE-16-DIPHOSPHATE[c]', 0.03924854710095959), ('RIBOFLAVIN-SYN-RXN', 0.038683784426726424), ('DIHYDROXY-ACETONE-PHOSPHATE[c]', 0.03715866823913635), ('F16BDEPHOS-RXN', 0.03706792621096266), ('RIBOFLAVIN[c]', 0.03671778163402628), ('RXN0-7249', 0.03519513515764921), ('RIBOFLAVINKIN-RXN', 0.03501130032586987), ('FMN[c]', 0.033516544050140165), ('DIHYDROXYACETONE[c]', 0.03350485728130696), ('R601-RXN', 0.03205298013245033), ('CPD-9728[i]', 0.024282560706401765), ('SUC[c]', 0.024282560706401765), ('REDUCED-MENAQUINONE[i]', 0.021657419008412386), ('RXN0-5256', 0.021657419008412386), ('TRANS-RXN-106', 0.021657419008412386), ('DIHYDROOROTATE-DEHYDROGENASE-RXN', 0.021657419008412386), ('PPI[c]', 0.020695364238410598), ('FUM[c]', 0.019544500080762396), ('SUC[p]', 0.01946208947155021), ('OROTATE[c]', 0.01946208947155021), ('FUMHYDR-RXN', 0.017993252530301138), ('OXYGEN-MOLECULE[c]', 0.017660044150110375), ('DAHPSYN-RXN', 0.015137180700094607), ('3-DEOXY-D-ARABINO-HEPTULOSONATE-7-P[c]', 0.013796909492273732), ('GLUC1PURIDYLTRANS-RXN', 0.013245033112582781), ('CPD-12575[c]', 0.011920529801324504), ('DPG[c]', 0.01177336276674025), ('PHOSGLYPHOS-RXN', 0.011589403973509934), ('G3P[c]', 0.011352885525070956), ('3PGAREARR-RXN', 0.011037527593818985), ('2-PG[c]', 0.010596026490066225), ('PROPIONYL-COA[c]', 0.010596026490066225), ('CPD-602[c]', 0.010596026490066225), ('AMMONIUM[c]', 0.010596026490066225), ('2PGADEHYDRAT-RXN', 0.009933774834437087), ('RXN0-310', 0.009933774834437087), ('RIBOFLAVINSYNDEAM-RXN', 0.009933774834437087), ('PHOSPHO-ENOL-PYRUVATE[c]', 0.008830022075055188), ('METHYL-MALONYL-COA[c]', 0.008830022075055188), ('CYTIDINE[c]', 0.008830022075055188), ('CYTOSINE[c]', 0.008830022075055188), ('RIBOSE-5P[c]', 0.008830022075055188), ('DAMP[c]', 0.008830022075055188), ('CO+2[c]', 0.008830022075055188), ('AMP[c]', 0.008830022075055188), ('GLUCONATE[c]', 0.008830022075055188), ('DIAMINO-OH-PHOSPHORIBOSYLAMINO-PYR[c]', 0.008830022075055188), ('4-hydroxybenzoate[c]', 0.008830022075055188), ('DGMP[c]', 0.008830022075055188), ('DIHYDROXY-BUTANONE-P[c]', 0.008830022075055188), ('DIHYDRO-DIOH-BENZOATE[c]', 0.008830022075055188), ('TRANS-RXN0-517', 0.006622516556291391), ('PEPCARBOXYKIN-RXN', 0.006622516556291391), ('TRANS-RXN0-474', 0.006622516556291391), ('METHYLMALONYL-COA-MUT-RXN', 0.006622516556291391), ('RXN-14026', 0.006622516556291391), ('3.2.2.10-RXN', 0.006622516556291391), ('NUCLEOSIDE-DIPHOSPHATASE-RXN', 0.006622516556291391), ('TRANS-RXN-141A', 0.006622516556291391), ('RXN0-5038', 0.006622516556291391), ('RXN0-5185', 0.006622516556291391), ('GTP-CYCLOHYDRO-II-RXN', 0.006622516556291391), ('CATAL-RXN', 0.006622516556291391), ('CHORPYRLY-RXN', 0.006622516556291391), ('GMKALT-RXN', 0.006622516556291391), ('DIOHBUTANONEPSYN-RXN', 0.006622516556291391), ('ISOCHORMAT-RXN', 0.006622516556291391), ('HYDROGEN-MOLECULE[p]', 0.0), ('FUM[p]', 0.0), ('OXALACETIC_ACID[c]', 0.0), ('GLY[c]', 0.0), ('2-KETOGLUTARATE[c]', 0.0), ('DI-H-OROTATE[c]', 0.0), ('ERYTHROSE-4P[c]', 0.0), ('Oxidized-CcmH-Proteins[c]', 0.0), ('OXYGEN-MOLECULE[p]', 0.0), ('HCO3[c]', 0.0), ('SUC-COA[c]', 0.0), ('CMP[c]', 0.0), ('DADP[c]', 0.0), ('CO+2[p]', 0.0), ('CAMP[c]', 0.0), ('CPD-2961[c]', 0.0), ('GTP[c]', 0.0), ('HYDROGEN-PEROXIDE[c]', 0.0), ('CHORISMATE[c]', 0.0), ('DGDP[c]', 0.0), ('GLC-1-P[c]', 0.0), ('UTP[c]', 0.0), ('RIBULOSE-5P[c]', 0.0), ('ISOCHORISMATE[c]', 0.0), ('GLYCOLALDEHYDE[c]', 0.0)]\n",
      "Average Clustering: 0.0\n",
      "Transitivity: 0\n"
     ]
    }
   ],
   "source": [
    "degree = nx.degree_centrality(G)\n",
    "sort_degree = sorted(degree.items(), key=lambda x:x[1], reverse=True)\n",
    "print(\"Degree Centrality: \"+ str(sort_degree) + \"\\n\")\n",
    "\n",
    "closeness = nx.closeness_centrality(G)\n",
    "sort_closeness = sorted(closeness.items(), key=lambda x:x[1], reverse=True)\n",
    "print(\"Closeness Centrality: \"+ str(sort_closeness))\n",
    "\n",
    "print(\"Average Clustering: \" + str(nx.average_clustering(G)))\n",
    "print(\"Transitivity: \" + str(nx.transitivity(G)))"
   ],
   "metadata": {
    "collapsed": false,
    "ExecuteTime": {
     "end_time": "2023-08-03T00:34:01.907829Z",
     "start_time": "2023-08-03T00:34:01.878167Z"
    }
   }
  },
  {
   "cell_type": "code",
   "execution_count": 596,
   "outputs": [
    {
     "name": "stdout",
     "output_type": "stream",
     "text": [
      "out/new_env_analysis/flux_visualization/Hydrogen_fumarate_-O2_Glc_top30_network.html\n"
     ]
    },
    {
     "data": {
      "text/plain": "<IPython.lib.display.IFrame at 0x152a21f40>",
      "text/html": "\n        <iframe\n            width=\"3000px\"\n            height=\"3000px\"\n            src=\"out/new_env_analysis/flux_visualization/Hydrogen_fumarate_-O2_Glc_top30_network.html\"\n            frameborder=\"0\"\n            allowfullscreen\n            \n        ></iframe>\n        "
     },
     "execution_count": 596,
     "metadata": {},
     "output_type": "execute_result"
    }
   ],
   "source": [
    "sort_closeness = sort_closeness[:8]\n",
    "nt = Network('1000px', '1500px', notebook=True, cdn_resources='in_line', directed=True)\n",
    "nt.from_nx(G)\n",
    "\n",
    "for tup in sort_closeness:\n",
    "    nt.get_node(tup[0])['color'] = 'blue'\n",
    "\n",
    "for n in nt.nodes:\n",
    "    if n['label'] in metabolites_idx:\n",
    "        n['shape'] = 'star'\n",
    "    if n['label'] in important_add:\n",
    "        n['color'] = 'orange'\n",
    "    if n['label'] in important_remove:\n",
    "        n['color'] = 'purple'\n",
    "\n",
    "\n",
    "nt.toggle_physics(True)\n",
    "nt.show_buttons(filter_=['physics'])\n",
    "nt.show(f'out/new_env_analysis/flux_visualization/{env_name}_top{k}_network.html')\n",
    "\n",
    "# plt.figure(figsize=(25, 25))\n",
    "# nx.draw_spring(G, with_labels=True, font_size=10, node_size=1000, node_color='lightblue', edge_color='black', width=1.5)\n",
    "# plt.savefig(f'out/new_env_analysis/{env_name}_top10_graph.png', dpi=300)\n",
    "# plt.show()"
   ],
   "metadata": {
    "collapsed": false,
    "ExecuteTime": {
     "end_time": "2023-08-03T00:34:02.132013Z",
     "start_time": "2023-08-03T00:34:01.908225Z"
    }
   }
  },
  {
   "cell_type": "code",
   "execution_count": 596,
   "outputs": [],
   "source": [],
   "metadata": {
    "collapsed": false,
    "ExecuteTime": {
     "end_time": "2023-08-03T00:34:02.174970Z",
     "start_time": "2023-08-03T00:34:02.133843Z"
    }
   }
  }
 ],
 "metadata": {
  "kernelspec": {
   "display_name": "Python 3",
   "language": "python",
   "name": "python3"
  },
  "language_info": {
   "codemirror_mode": {
    "name": "ipython",
    "version": 2
   },
   "file_extension": ".py",
   "mimetype": "text/x-python",
   "name": "python",
   "nbconvert_exporter": "python",
   "pygments_lexer": "ipython2",
   "version": "2.7.6"
  }
 },
 "nbformat": 4,
 "nbformat_minor": 0
}
