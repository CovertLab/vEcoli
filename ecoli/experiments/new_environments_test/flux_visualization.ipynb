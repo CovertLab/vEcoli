{
 "cells": [
  {
   "cell_type": "code",
   "execution_count": 561,
   "metadata": {
    "collapsed": true,
    "ExecuteTime": {
     "end_time": "2023-08-02T21:04:37.266827Z",
     "start_time": "2023-08-02T21:04:37.213764Z"
    }
   },
   "outputs": [],
   "source": [
    "import numpy as np\n",
    "import networkx as nx\n",
    "from pyvis.network import Network\n",
    "import math\n",
    "import community as community_louvain\n",
    "\n",
    "import seaborn as sns\n",
    "import pandas as pd\n",
    "import os\n",
    "\n",
    "os.chdir(os.path.expanduser('~/Documents/vivarium-ecoli'))\n",
    "\n",
    "import matplotlib.pyplot as plt\n",
    "import dill\n",
    "import xmltodict\n",
    "import os\n",
    "import requests\n",
    "from bs4 import BeautifulSoup\n",
    "from ecoli.processes.metabolism_redux import NetworkFlowModel, FlowResult, MetabolismRedux\n",
    "\n",
    "\n",
    "FREE_RXNS = [\"TRANS-RXN-145\", \"TRANS-RXN0-545\", \"TRANS-RXN0-474\"]"
   ]
  },
  {
   "cell_type": "code",
   "execution_count": 562,
   "outputs": [],
   "source": [
    "# Change the environment name here\n",
    "env_name = 'Acetoacetate_Transport'"
   ],
   "metadata": {
    "collapsed": false,
    "ExecuteTime": {
     "end_time": "2023-08-02T21:04:37.316318Z",
     "start_time": "2023-08-02T21:04:37.221690Z"
    }
   }
  },
  {
   "cell_type": "code",
   "execution_count": 563,
   "outputs": [],
   "source": [
    "condition_df = pd.read_excel(\"ecoli/experiments/new_environments_test/done.xlsx\")\n",
    "condition_df[\"Add\"] = condition_df[\"Add\"].apply(lambda x: set(str(x).split(\", \") if x == x else set()))\n",
    "condition_df[\"Remove\"] = condition_df[\"Remove\"].apply(lambda x: set(str(x).split(\", \") if x == x else set()))\n",
    "\n",
    "row_num = condition_df[condition_df['Environment'] == env_name].index[0]\n",
    "important_add = condition_df[\"Add\"].loc[row_num]\n",
    "important_remove = condition_df[\"Remove\"].loc[row_num]"
   ],
   "metadata": {
    "collapsed": false,
    "ExecuteTime": {
     "end_time": "2023-08-02T21:04:37.371871Z",
     "start_time": "2023-08-02T21:04:37.232200Z"
    }
   }
  },
  {
   "cell_type": "code",
   "execution_count": 564,
   "outputs": [],
   "source": [
    "time = '50'\n",
    "date = '2023-07-21'\n",
    "experiment = 'fba_new_environments'\n",
    "entry = f'{experiment}_{env_name}_{time}_{date}'\n",
    "folder = f'out/fba_new_env/{entry}/'\n",
    "\n",
    "f = open(folder + 'agent_steps.pkl', 'rb')\n",
    "agent = dill.load(f)\n",
    "f.close()\n",
    "\n",
    "metabolism = agent['ecoli-metabolism-redux']\n",
    "stoichiometry = metabolism.stoichiometry\n",
    "\n",
    "output = np.load(folder + 'output.npy',allow_pickle='TRUE').item()\n",
    "output = output['agents']['0']\n",
    "fba = output['listeners']['fba_results']\n",
    "mass = output['listeners']['mass']\n",
    "bulk = pd.DataFrame(output['bulk'])\n",
    "\n",
    "sim_fluxes = pd.DataFrame(fba[\"estimated_fluxes\"], columns = metabolism.reaction_names)\n",
    "sim_fluxes = pd.DataFrame(sim_fluxes.loc[24, :].abs().sort_values(ascending=False))\n",
    "\n",
    "metabolites_idx = {species: i for i, species in enumerate(metabolism.metabolite_names)}\n",
    "index_to_met = {v: k for k, v in metabolites_idx.items()}\n",
    "\n",
    "reaction_idx = {reaction: i for i, reaction in enumerate(metabolism.reaction_names)}\n",
    "index_to_rxn = {v: k for k, v in reaction_idx.items()}\n",
    "\n",
    "metabolism.catalyst_ids = metabolism.parameters['catalyst_ids']\n",
    "catalyst_idx = {catalyst: i for i, catalyst in enumerate(metabolism.catalyst_ids)}"
   ],
   "metadata": {
    "collapsed": false,
    "ExecuteTime": {
     "end_time": "2023-08-02T21:04:53.375420Z",
     "start_time": "2023-08-02T21:04:37.312184Z"
    }
   }
  },
  {
   "cell_type": "code",
   "execution_count": 574,
   "outputs": [
    {
     "name": "stdout",
     "output_type": "stream",
     "text": [
      "yes!\n"
     ]
    }
   ],
   "source": [
    "homeostatic = pd.DataFrame(fba[\"target_homeostatic_dmdt\"], columns=metabolism.homeostatic_metabolites).loc[24, :]"
   ],
   "metadata": {
    "collapsed": false,
    "ExecuteTime": {
     "end_time": "2023-08-02T21:06:04.258636Z",
     "start_time": "2023-08-02T21:06:04.238559Z"
    }
   }
  },
  {
   "cell_type": "code",
   "execution_count": 566,
   "outputs": [],
   "source": [
    "heatmap_df = pd.read_excel(\"out/new_env_analysis/heatmap.xlsx\")\n",
    "heatmap_df = heatmap_df[heatmap_df[env_name] != 0]"
   ],
   "metadata": {
    "collapsed": false,
    "ExecuteTime": {
     "end_time": "2023-08-02T21:05:10.368495Z",
     "start_time": "2023-08-02T21:04:53.381657Z"
    }
   }
  },
  {
   "cell_type": "markdown",
   "source": [
    "## Building the graph"
   ],
   "metadata": {
    "collapsed": false
   }
  },
  {
   "cell_type": "code",
   "execution_count": 567,
   "outputs": [],
   "source": [
    "G = nx.DiGraph()\n",
    "\n",
    "met_length = len(metabolism.metabolite_names)\n",
    "reaction_length = np.shape(stoichiometry)[1]\n",
    "met_not_include = [\"ATP[c]\", \"WATER[c]\", \"PROTON[p]\", \"Pi[c]\", \"PROTON[c]\", \"ADP[c]\"]\n",
    "# met_not_include = []\n",
    "do_not_include = []\n",
    "\n",
    "for met in met_not_include:\n",
    "    do_not_include.append(metabolites_idx[met])\n",
    "\n",
    "def plot_metabolite(G, metabolite):\n",
    "    index = metabolites_idx[metabolite]\n",
    "    for k in range(reaction_length):\n",
    "        if stoichiometry[index, k] > 0:\n",
    "            for l in range(met_length):\n",
    "                if stoichiometry[l, k] < 0:\n",
    "                    if l != index and l not in do_not_include:\n",
    "                        G.add_edge(index_to_met[l], metabolite) # Add weight here equal to reaction flux\n",
    "        elif stoichiometry[index, k] < 0:\n",
    "            for l in range(met_length):\n",
    "                if stoichiometry[l, k] > 0:\n",
    "                    if l != index and l not in do_not_include:\n",
    "                        G.add_edge(index_to_met[l], metabolite) # Add weight here equal to reaction flux\n",
    "\n",
    "\n",
    "def plot_reaction(G, reaction, flux, color):\n",
    "    index = reaction_idx[reaction]\n",
    "    reactants = []\n",
    "    products = []\n",
    "    clean_name = clean_reaction_name(reaction)\n",
    "    for k in range(met_length):\n",
    "        if stoichiometry[k, index] > 0 and index_to_met[k] not in met_not_include:\n",
    "            products.append(index_to_met[k])\n",
    "        elif stoichiometry[k, index] < 0 and index_to_met[k] not in met_not_include:\n",
    "            reactants.append(index_to_met[k])\n",
    "\n",
    "    for reactant in reactants:\n",
    "        # nt.add_node(reactant, label=reactant, color='lightblue', shape='star', size=10)\n",
    "        # nt.add_node(clean_name, label=clean_name, color='lightblue', shape='dot', size=10)\n",
    "        # nt.add_edge(reactant, clean_name, color=color, title=flux, arrowStrikethrough=False)\n",
    "\n",
    "        G.add_edge(reactant, clean_name, color=color, title=flux)\n",
    "\n",
    "    for product in products:\n",
    "        # nt.add_node(product, label=product, color='lightblue', shape='star', size=10)\n",
    "        # nt.add_node(clean_name, label=clean_name, color='lightblue', shape='dot', size=10)\n",
    "        # nt.add_edge(clean_name, product, color=color, title=flux, arrowStrikethrough=False)\n",
    "\n",
    "        G.add_edge(clean_name, product, color=color, title=flux)"
   ],
   "metadata": {
    "collapsed": false,
    "ExecuteTime": {
     "end_time": "2023-08-02T21:05:10.389088Z",
     "start_time": "2023-08-02T21:05:10.358336Z"
    }
   }
  },
  {
   "cell_type": "code",
   "execution_count": 568,
   "outputs": [],
   "source": [
    "# Not currently used in this analysis but can be useful later\n",
    "\n",
    "def clean_reaction_name(reaction):\n",
    "    if '/' in reaction:\n",
    "        index = reaction.find('RXN')\n",
    "        if (reaction[index+3] == '-' and reaction[index+4].isdigit()) or (reaction[index+4] == '-' and reaction[index+5].isdigit()):\n",
    "            index = index + 4\n",
    "            if reaction[index] == '-':\n",
    "                index += 1\n",
    "            while reaction[index].isdigit():\n",
    "                index += 1\n",
    "            reaction = reaction[:index]\n",
    "        else:\n",
    "            reaction = reaction[:index+3]\n",
    "    elif '__' in reaction:\n",
    "        reaction = reaction[:reaction.find('__')]\n",
    "    elif '(reverse)' in reaction:\n",
    "        reaction = reaction[:reaction.find('(reverse)') - 1]\n",
    "    elif '[' in reaction:\n",
    "        reaction = reaction[:reaction.find('[') - 1]\n",
    "    elif ' ' in reaction:\n",
    "        reaction = reaction[:reaction.find('[')]\n",
    "    return reaction\n"
   ],
   "metadata": {
    "collapsed": false,
    "ExecuteTime": {
     "end_time": "2023-08-02T21:05:10.427625Z",
     "start_time": "2023-08-02T21:05:10.396527Z"
    }
   }
  },
  {
   "cell_type": "code",
   "execution_count": 569,
   "outputs": [],
   "source": [
    "k = 30\n",
    "heatmap_df.sort_values(by=[env_name], ascending=False, inplace=True)\n",
    "top_increase = [heatmap_df.iloc[i, 0] for i in range(k)]\n",
    "bottom_increase = [heatmap_df.iloc[i, 0] for i in range(-1, -1*k - 1, -1)]\n",
    "\n",
    "if \"Non-zero Values for each environment\" in top_increase:\n",
    "    top_increase.remove(\"Non-zero Values for each environment\")\n",
    "elif \"Non-zero Values for each environment\" in bottom_increase:\n",
    "    bottom_increase.remove(\"Non-zero Values for each environment\")\n",
    "\n",
    "for reaction in top_increase:\n",
    "    row_num = heatmap_df[heatmap_df['Reactions'] == reaction].index[0]\n",
    "    plot_reaction(G, reaction, math.log(heatmap_df[env_name].loc[row_num], 10), 'green')\n",
    "\n",
    "for reaction in bottom_increase:\n",
    "    row_num = heatmap_df[heatmap_df['Reactions'] == reaction].index[0]\n",
    "    plot_reaction(G, reaction, math.log(heatmap_df[env_name].loc[row_num], 10), 'red')\n",
    "\n",
    "# nx.write_graphml(G, f'out/new_env_analysis/{env_name}_top10_graph.graphml')\n",
    "\n",
    "# nt = Network('1000px', '2000px', notebook=True, cdn_resources='in_line')\n",
    "# nt.from_nx(G)"
   ],
   "metadata": {
    "collapsed": false,
    "ExecuteTime": {
     "end_time": "2023-08-02T21:05:12.536829Z",
     "start_time": "2023-08-02T21:05:10.423840Z"
    }
   }
  },
  {
   "cell_type": "markdown",
   "source": [
    "## Graph Analysis using NetworkX"
   ],
   "metadata": {
    "collapsed": false
   }
  },
  {
   "cell_type": "code",
   "execution_count": 570,
   "outputs": [
    {
     "name": "stdout",
     "output_type": "stream",
     "text": [
      "Degree Centrality: [('2.8.1.6-RXN', 0.05844155844155845), ('CARBON-DIOXIDE[c]', 0.045454545454545456), ('NAD[c]', 0.045454545454545456), ('NADH[c]', 0.045454545454545456), ('ACETYL-COA[c]', 0.03896103896103896), ('PYFLAVOXRE-RXN', 0.03896103896103896), ('ENOYL-ACP-REDUCT-NADPH-RXN', 0.03896103896103896), ('CO-A[c]', 0.03246753246753247), ('NADPH[c]', 0.03246753246753247), ('NADP[c]', 0.03246753246753247), ('ACETALD-DEHYDROG-RXN', 0.03246753246753247), ('RXN-11484', 0.03246753246753247), ('RXN-11474', 0.03246753246753247), ('RXN-11479', 0.03246753246753247), ('ACETOACETYL-COA-TRANSFER-RXN', 0.025974025974025976), ('FLAVONADPREDUCT-RXN', 0.025974025974025976), ('PYRUVFORMLY-RXN', 0.025974025974025976), ('PRPPSYN-RXN', 0.025974025974025976), ('GART-RXN-10', 0.025974025974025976), ('RXN-7682', 0.025974025974025976), ('PYRNUTRANSHYDROGEN-RXN', 0.025974025974025976), ('GAPOXNPHOSPHN-RXN', 0.025974025974025976), ('GAP[c]', 0.025974025974025976), ('RXN-12588', 0.025974025974025976), ('RXN-11482', 0.025974025974025976), ('RXN-11476', 0.025974025974025976), ('DAPASYN-RXN', 0.025974025974025976), ('RXN-11475', 0.025974025974025976), ('FERREDOXIN--NAD+-REDUCTASE-RXN', 0.025974025974025976), ('RXN-11480', 0.025974025974025976), ('RXN-11478', 0.025974025974025976), ('RXN-8999', 0.025974025974025976), ('ACETYL-COA-ACETYLTRANSFER-RXN', 0.01948051948051948), ('GARTRANSFORMYL2-RXN', 0.01948051948051948), ('CPD-15318[c]', 0.01948051948051948), ('PEPCARBOXYKIN-RXN', 0.01948051948051948), ('XANTHINE[c]', 0.01948051948051948), ('INOSINATE-NUCLEOSIDASE-RXN', 0.01948051948051948), ('PHOSACETYLTRANS-RXN', 0.01948051948051948), ('DIHYDROXY-ACETONE-PHOSPHATE[c]', 0.01948051948051948), ('RXN0-313', 0.01948051948051948), ('F16ALDOLASE-RXN', 0.01948051948051948), ('RXN0-310', 0.01948051948051948), ('DEOXYADENPHOSPHOR-RXN', 0.01948051948051948), ('XANTHOSINEPHOSPHORY-RXN', 0.01948051948051948), ('3.2.2.10-RXN', 0.01948051948051948), ('ACP[c]', 0.01948051948051948), ('RXN-11483', 0.01948051948051948), ('S-ADENOSYLMETHIONINE[c]', 0.01948051948051948), ('MALONYL-ACP[c]', 0.01948051948051948), ('DETHIOBIOTIN-SYN-RXN', 0.01948051948051948), ('3-KETOBUTYRATE[c]', 0.012987012987012988), ('ACETOACETYL-COA[c]', 0.012987012987012988), ('ACET[c]', 0.012987012987012988), ('TRANS-RXN0-281', 0.012987012987012988), ('FUMHYDR-RXN', 0.012987012987012988), ('Oxidized-flavodoxins[c]', 0.012987012987012988), ('Reduced-flavodoxins[c]', 0.012987012987012988), ('PYRUVATE[c]', 0.012987012987012988), ('5-PHOSPHO-RIBOSYL-GLYCINEAMIDE[c]', 0.012987012987012988), ('FORMATE[c]', 0.012987012987012988), ('5-P-RIBOSYL-N-FORMYLGLYCINEAMIDE[c]', 0.012987012987012988), ('AMP[c]', 0.012987012987012988), ('PHOSPHO-ENOL-PYRUVATE[c]', 0.012987012987012988), ('TRANS-RXN0-561', 0.012987012987012988), ('HYPOXANTHINE[c]', 0.012987012987012988), ('2PGADEHYDRAT-RXN', 0.012987012987012988), ('2-PG[c]', 0.012987012987012988), ('3PGAREARR-RXN', 0.012987012987012988), ('G3P[c]', 0.012987012987012988), ('PHOSGLYPHOS-RXN', 0.012987012987012988), ('DPG[c]', 0.012987012987012988), ('ACETYL-P[c]', 0.012987012987012988), ('TRIOSEPISOMERIZATION-RXN', 0.012987012987012988), ('RIB5PISOM-RXN', 0.012987012987012988), ('ACETATEKIN-RXN', 0.012987012987012988), ('DIHYDROXYACETONE[c]', 0.012987012987012988), ('RXN0-7249', 0.012987012987012988), ('METHYL-MALONYL-COA[c]', 0.012987012987012988), ('METHYLMALONYL-COA-MUT-RXN', 0.012987012987012988), ('XANTHOSINE[c]', 0.012987012987012988), ('5-NUCLEOTID-RXN', 0.012987012987012988), ('CMP[c]', 0.012987012987012988), ('RXN-14026', 0.012987012987012988), ('RXN0-5038', 0.012987012987012988), ('NUCLEOSIDE-DIPHOSPHATASE-RXN', 0.012987012987012988), ('RIBOSE-5P[c]', 0.012987012987012988), ('TRANS-RXN-141A', 0.012987012987012988), ('ACONITATEDEHYDR-RXN', 0.012987012987012988), ('L-ALPHA-ALANINE[c]', 0.012987012987012988), ('Pimeloyl-ACPs[c]', 0.012987012987012988), ('8-AMINO-7-OXONONANOATE[c]', 0.012987012987012988), ('Unsulfurated-Sulfur-Acceptors[c]', 0.012987012987012988), ('Sulfurated-Sulfur-Acceptors[c]', 0.012987012987012988), ('Pimeloyl-ACP-methyl-esters[c]', 0.012987012987012988), ('METOH[c]', 0.012987012987012988), ('Enoylpimeloyl-ACP-methyl-esters[c]', 0.012987012987012988), ('3-hydroxypimeloyl-ACP-methyl-esters[c]', 0.012987012987012988), ('RXN-11481', 0.012987012987012988), ('DETHIOBIOTIN[c]', 0.012987012987012988), ('Reduced-2Fe-2S-Ferredoxins[c]', 0.012987012987012988), ('Oxidized-2Fe-2S-Ferredoxins[c]', 0.012987012987012988), ('TRANS-RXN0-459', 0.012987012987012988), ('3-Ketoglutaryl-ACP-methyl-ester[c]', 0.012987012987012988), ('3-Hydroxyglutaryl-ACP-methyl-ester[c]', 0.012987012987012988), ('Malonyl-acp-methyl-ester[c]', 0.012987012987012988), ('DIAMINONONANOATE[c]', 0.012987012987012988), ('3-Ketopimeloyl-ACP-methyl-esters[c]', 0.012987012987012988), ('Glutaryl-ACP-methyl-esters[c]', 0.012987012987012988), ('Enoylglutaryl-ACP-methyl-esters[c]', 0.012987012987012988), ('RXN-11477', 0.012987012987012988), ('3-KETOBUTYRATE[p]', 0.006493506493506494), ('FUM[c]', 0.006493506493506494), ('MAL[c]', 0.006493506493506494), ('PRPP[c]', 0.006493506493506494), ('THF[c]', 0.006493506493506494), ('10-FORMYL-THF[c]', 0.006493506493506494), ('OXALACETIC_ACID[c]', 0.006493506493506494), ('XANTHINE[p]', 0.006493506493506494), ('IMP[c]', 0.006493506493506494), ('RIBULOSE-5P[c]', 0.006493506493506494), ('ACETALD[c]', 0.006493506493506494), ('FRUCTOSE-6P[c]', 0.006493506493506494), ('FRUCTOSE-16-DIPHOSPHATE[c]', 0.006493506493506494), ('2-Hexadecenoyl-ACPs[c]', 0.006493506493506494), ('Palmitoyl-ACPs[c]', 0.006493506493506494), ('POLYMER-INST-TRANS-D2-ENOYL-ACP-C4-H8[c]', 0.006493506493506494), ('POLYMER-INST-Saturated-Fatty-Acyl-ACPs-C4-H8[c]', 0.006493506493506494), ('PROPIONYL-COA[c]', 0.006493506493506494), ('SUC-COA[c]', 0.006493506493506494), ('ADENINE[c]', 0.006493506493506494), ('DEOXY-D-RIBOSE-1-PHOSPHATE[c]', 0.006493506493506494), ('DEOXYADENOSINE[c]', 0.006493506493506494), ('RIBOSE-1P[c]', 0.006493506493506494), ('XANTHOSINE-5-PHOSPHATE[c]', 0.006493506493506494), ('CYTIDINE[c]', 0.006493506493506494), ('CAMP[c]', 0.006493506493506494), ('DADP[c]', 0.006493506493506494), ('DAMP[c]', 0.006493506493506494), ('CYTOSINE[c]', 0.006493506493506494), ('CO+2[p]', 0.006493506493506494), ('CO+2[c]', 0.006493506493506494), ('CIT[c]', 0.006493506493506494), ('CIS-ACONITATE[c]', 0.006493506493506494), ('CYS[c]', 0.006493506493506494), ('BIOTIN[c]', 0.006493506493506494), ('CH33ADO[c]', 0.006493506493506494), ('MET[c]', 0.006493506493506494), ('METOH[p]', 0.006493506493506494), ('S-ADENOSYL-4-METHYLTHIO-2-OXOBUTANOATE[c]', 0.006493506493506494), ('ADENOSYL-HOMO-CYS[c]', 0.006493506493506494), ('DELTA3-ISOPENTENYL-PP[c]', 0.006493506493506494), ('FARNESYL-PP[c]', 0.006493506493506494), ('PPI[c]', 0.006493506493506494), ('UNDECAPRENYL-DIPHOSPHATE[c]', 0.006493506493506494)]\n",
      "\n",
      "Closeness Centrality: [('NADP[c]', 0.10201480762228425), ('NAD[c]', 0.09754689754689753), ('CO-A[c]', 0.08999201254326537), ('PYFLAVOXRE-RXN', 0.08818413729128013), ('ACETALD-DEHYDROG-RXN', 0.08477788306114485), ('RXN-7682', 0.0844155844155844), ('PYRNUTRANSHYDROGEN-RXN', 0.08299683509767543), ('FERREDOXIN--NAD+-REDUCTASE-RXN', 0.08128908128908127), ('XANTHINE[c]', 0.08031196810370957), ('ACETYL-COA-ACETYLTRANSFER-RXN', 0.07997265892002733), ('PHOSACETYLTRANS-RXN', 0.07997265892002733), ('PYRUVFORMLY-RXN', 0.0774637127578304), ('Oxidized-flavodoxins[c]', 0.07553822850189963), ('PYRUVATE[c]', 0.07553822850189963), ('2.8.1.6-RXN', 0.07539407157727768), ('ACETALD[c]', 0.07435958536875968), ('NADH[c]', 0.07384391309624953), ('CARBON-DIOXIDE[c]', 0.07356888921134731), ('ACETYL-COA[c]', 0.07248897891099726), ('TRANS-RXN0-561', 0.07147922280527584), ('Reduced-2Fe-2S-Ferredoxins[c]', 0.0704215570525731), ('RXN-11478', 0.06882664373953572), ('FORMATE[c]', 0.06880470972151786), ('GAPOXNPHOSPHN-RXN', 0.06835033478632095), ('RXN-11482', 0.06835033478632095), ('ACP[c]', 0.0683405970083879), ('DETHIOBIOTIN-SYN-RXN', 0.06788057303521221), ('GARTRANSFORMYL2-RXN', 0.06757843925985518), ('BIOTIN[c]', 0.06720725377441794), ('CH33ADO[c]', 0.06720725377441794), ('MET[c]', 0.06720725377441794), ('FLAVONADPREDUCT-RXN', 0.06650924832743015), ('Unsulfurated-Sulfur-Acceptors[c]', 0.06595407930967197), ('Oxidized-2Fe-2S-Ferredoxins[c]', 0.06595407930967197), ('ACETOACETYL-COA-TRANSFER-RXN', 0.06497778537252222), ('XANTHINE[p]', 0.06462201710135594), ('GAP[c]', 0.06168336990254798), ('Glutaryl-ACP-methyl-esters[c]', 0.06163259517393682), ('Pimeloyl-ACP-methyl-esters[c]', 0.061440891923007), ('RXN0-313', 0.061336254107338437), ('DETHIOBIOTIN[c]', 0.06049999005588592), ('5-P-RIBOSYL-N-FORMYLGLYCINEAMIDE[c]', 0.06036651095939633), ('Reduced-flavodoxins[c]', 0.05905305456874963), ('F16ALDOLASE-RXN', 0.059003159003159), ('RXN-11484', 0.05896491568133358), ('RXN-12588', 0.05896491568133358), ('ACET[c]', 0.058012472109388404), ('ACETOACETYL-COA[c]', 0.05784259664201099), ('RXN-11479', 0.05643784786641929), ('FRUCTOSE-6P[c]', 0.056388923576423576), ('TRIOSEPISOMERIZATION-RXN', 0.056388658830992616), ('RXN-11483', 0.0558001320713185), ('GART-RXN-10', 0.05480643758155719), ('FRUCTOSE-16-DIPHOSPHATE[c]', 0.054354515472376956), ('8-AMINO-7-OXONONANOATE[c]', 0.05345939581392896), ('L-ALPHA-ALANINE[c]', 0.053315105946684885), ('Sulfurated-Sulfur-Acceptors[c]', 0.05302885034428658), ('ACETATEKIN-RXN', 0.05239587998208687), ('DIHYDROXY-ACETONE-PHOSPHATE[c]', 0.052083002572000124), ('3-Ketopimeloyl-ACP-methyl-esters[c]', 0.05150781421967862), ('METOH[c]', 0.051494249080017825), ('Pimeloyl-ACPs[c]', 0.05110801229818047), ('10-FORMYL-THF[c]', 0.05093983107012423), ('5-PHOSPHO-RIBOSYL-GLYCINEAMIDE[c]', 0.04996530187369882), ('DAPASYN-RXN', 0.04925996696570262), ('RXN0-7249', 0.04851370851370851), ('TRANS-RXN0-459', 0.04793361194745278), ('ACETYL-P[c]', 0.04777085067290629), ('RXN-11480', 0.04771315640880858), ('S-ADENOSYL-4-METHYLTHIO-2-OXOBUTANOATE[c]', 0.04599997051756416), ('DIHYDROXYACETONE[c]', 0.04550739189599821), ('DIAMINONONANOATE[c]', 0.04535762744717968), ('METOH[p]', 0.04494081867499589), ('3-hydroxypimeloyl-ACP-methyl-esters[c]', 0.044141333526808386), ('RXN-11481', 0.041067041067041066), ('Enoylpimeloyl-ACP-methyl-esters[c]', 0.038393093786679794), ('AMP[c]', 0.0270935960591133), ('PRPPSYN-RXN', 0.024446142093200916), ('PRPP[c]', 0.020229770229770228), ('ENOYL-ACP-REDUCT-NADPH-RXN', 0.01948051948051948), ('CPD-15318[c]', 0.017316017316017316), ('RXN-11476', 0.01674641148325359), ('3-Hydroxyglutaryl-ACP-methyl-ester[c]', 0.015392015392015393), ('Palmitoyl-ACPs[c]', 0.014842300556586271), ('POLYMER-INST-Saturated-Fatty-Acyl-ACPs-C4-H8[c]', 0.014842300556586271), ('RXN-11474', 0.014842300556586271), ('RXN-11477', 0.01461038961038961), ('Enoylglutaryl-ACP-methyl-esters[c]', 0.01411631846414455), ('3-Ketoglutaryl-ACP-methyl-ester[c]', 0.013528138528138528), ('DEOXYADENPHOSPHOR-RXN', 0.012987012987012988), ('RXN-11475', 0.012987012987012988), ('RXN-8999', 0.012987012987012988), ('DEOXYADENOSINE[c]', 0.011688311688311687), ('Malonyl-acp-methyl-ester[c]', 0.011688311688311687), ('ADENOSYL-HOMO-CYS[c]', 0.011688311688311687), ('PPI[c]', 0.011688311688311687), ('UNDECAPRENYL-DIPHOSPHATE[c]', 0.011688311688311687), ('DPG[c]', 0.011544011544011544), ('PHOSGLYPHOS-RXN', 0.011363636363636364), ('G3P[c]', 0.011131725417439703), ('3PGAREARR-RXN', 0.01082251082251082), ('2-PG[c]', 0.010389610389610391), ('PROPIONYL-COA[c]', 0.010389610389610391), ('RIBOSE-1P[c]', 0.010389610389610391), ('2PGADEHYDRAT-RXN', 0.00974025974025974), ('RXN0-310', 0.00974025974025974), ('XANTHOSINEPHOSPHORY-RXN', 0.00974025974025974), ('3-KETOBUTYRATE[c]', 0.008658008658008658), ('MAL[c]', 0.008658008658008658), ('PHOSPHO-ENOL-PYRUVATE[c]', 0.008658008658008658), ('HYPOXANTHINE[c]', 0.008658008658008658), ('METHYL-MALONYL-COA[c]', 0.008658008658008658), ('XANTHOSINE[c]', 0.008658008658008658), ('CYTIDINE[c]', 0.008658008658008658), ('DAMP[c]', 0.008658008658008658), ('CYTOSINE[c]', 0.008658008658008658), ('RIBOSE-5P[c]', 0.008658008658008658), ('CO+2[c]', 0.008658008658008658), ('CIS-ACONITATE[c]', 0.008658008658008658), ('TRANS-RXN0-281', 0.006493506493506494), ('FUMHYDR-RXN', 0.006493506493506494), ('PEPCARBOXYKIN-RXN', 0.006493506493506494), ('INOSINATE-NUCLEOSIDASE-RXN', 0.006493506493506494), ('RIB5PISOM-RXN', 0.006493506493506494), ('METHYLMALONYL-COA-MUT-RXN', 0.006493506493506494), ('5-NUCLEOTID-RXN', 0.006493506493506494), ('RXN-14026', 0.006493506493506494), ('RXN0-5038', 0.006493506493506494), ('NUCLEOSIDE-DIPHOSPHATASE-RXN', 0.006493506493506494), ('3.2.2.10-RXN', 0.006493506493506494), ('TRANS-RXN-141A', 0.006493506493506494), ('ACONITATEDEHYDR-RXN', 0.006493506493506494), ('3-KETOBUTYRATE[p]', 0.0), ('FUM[c]', 0.0), ('NADPH[c]', 0.0), ('THF[c]', 0.0), ('OXALACETIC_ACID[c]', 0.0), ('IMP[c]', 0.0), ('RIBULOSE-5P[c]', 0.0), ('2-Hexadecenoyl-ACPs[c]', 0.0), ('POLYMER-INST-TRANS-D2-ENOYL-ACP-C4-H8[c]', 0.0), ('SUC-COA[c]', 0.0), ('ADENINE[c]', 0.0), ('DEOXY-D-RIBOSE-1-PHOSPHATE[c]', 0.0), ('XANTHOSINE-5-PHOSPHATE[c]', 0.0), ('CMP[c]', 0.0), ('CAMP[c]', 0.0), ('DADP[c]', 0.0), ('CO+2[p]', 0.0), ('CIT[c]', 0.0), ('CYS[c]', 0.0), ('S-ADENOSYLMETHIONINE[c]', 0.0), ('MALONYL-ACP[c]', 0.0), ('DELTA3-ISOPENTENYL-PP[c]', 0.0), ('FARNESYL-PP[c]', 0.0)]\n",
      "Average Clustering: 0.0\n",
      "Transitivity: 0\n"
     ]
    }
   ],
   "source": [
    "degree = nx.degree_centrality(G)\n",
    "sort_degree = sorted(degree.items(), key=lambda x:x[1], reverse=True)\n",
    "print(\"Degree Centrality: \"+ str(sort_degree) + \"\\n\")\n",
    "\n",
    "closeness = nx.closeness_centrality(G)\n",
    "sort_closeness = sorted(closeness.items(), key=lambda x:x[1], reverse=True)\n",
    "print(\"Closeness Centrality: \"+ str(sort_closeness))\n",
    "\n",
    "print(\"Average Clustering: \" + str(nx.average_clustering(G)))\n",
    "print(\"Transitivity: \" + str(nx.transitivity(G)))"
   ],
   "metadata": {
    "collapsed": false,
    "ExecuteTime": {
     "end_time": "2023-08-02T21:05:12.594798Z",
     "start_time": "2023-08-02T21:05:12.572320Z"
    }
   }
  },
  {
   "cell_type": "code",
   "execution_count": 585,
   "outputs": [
    {
     "name": "stdout",
     "output_type": "stream",
     "text": [
      "out/new_env_analysis/flux_visualization/Acetoacetate_Transport_top30_network.html\n"
     ]
    },
    {
     "data": {
      "text/plain": "<IPython.lib.display.IFrame at 0x15cdd9a00>",
      "text/html": "\n        <iframe\n            width=\"3000px\"\n            height=\"3000px\"\n            src=\"out/new_env_analysis/flux_visualization/Acetoacetate_Transport_top30_network.html\"\n            frameborder=\"0\"\n            allowfullscreen\n            \n        ></iframe>\n        "
     },
     "execution_count": 585,
     "metadata": {},
     "output_type": "execute_result"
    }
   ],
   "source": [
    "sort_closeness = sort_closeness[:8]\n",
    "nt = Network('3000px', '3000px', notebook=True, cdn_resources='in_line', directed=True)\n",
    "nt.from_nx(G)\n",
    "nt.repulsion()\n",
    "\n",
    "for tup in sort_closeness:\n",
    "    nt.get_node(tup[0])['color'] = 'blue'\n",
    "\n",
    "for n in nt.nodes:\n",
    "    if n['label'] in metabolites_idx:\n",
    "        n['shape'] = 'star'\n",
    "    if n['label'] in important_add:\n",
    "        n['color'] = 'orange'\n",
    "    if n['label'] in important_remove:\n",
    "        n['color'] = 'purple'\n",
    "\n",
    "\n",
    "nt.toggle_physics(True)\n",
    "nt.show_buttons(filter_=['physics'])\n",
    "nt.show(f'out/new_env_analysis/flux_visualization/{env_name}_top{k}_network.html')\n",
    "\n",
    "# plt.figure(figsize=(25, 25))\n",
    "# nx.draw_spring(G, with_labels=True, font_size=10, node_size=1000, node_color='lightblue', edge_color='black', width=1.5)\n",
    "# plt.savefig(f'out/new_env_analysis/{env_name}_top10_graph.png', dpi=300)\n",
    "# plt.show()"
   ],
   "metadata": {
    "collapsed": false,
    "ExecuteTime": {
     "end_time": "2023-08-02T21:13:00.892269Z",
     "start_time": "2023-08-02T21:13:00.708692Z"
    }
   }
  },
  {
   "cell_type": "code",
   "execution_count": 571,
   "outputs": [],
   "source": [],
   "metadata": {
    "collapsed": false,
    "ExecuteTime": {
     "end_time": "2023-08-02T21:05:12.788133Z",
     "start_time": "2023-08-02T21:05:12.774538Z"
    }
   }
  }
 ],
 "metadata": {
  "kernelspec": {
   "display_name": "Python 3",
   "language": "python",
   "name": "python3"
  },
  "language_info": {
   "codemirror_mode": {
    "name": "ipython",
    "version": 2
   },
   "file_extension": ".py",
   "mimetype": "text/x-python",
   "name": "python",
   "nbconvert_exporter": "python",
   "pygments_lexer": "ipython2",
   "version": "2.7.6"
  }
 },
 "nbformat": 4,
 "nbformat_minor": 0
}
