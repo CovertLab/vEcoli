{
 "cells": [
  {
   "cell_type": "code",
   "execution_count": 165,
   "metadata": {
    "collapsed": true,
    "ExecuteTime": {
     "end_time": "2023-08-01T20:09:42.487642Z",
     "start_time": "2023-08-01T20:09:42.403836Z"
    }
   },
   "outputs": [],
   "source": [
    "import numpy as np\n",
    "import networkx as nx\n",
    "from pyvis.network import Network\n",
    "import math\n",
    "\n",
    "import seaborn as sns\n",
    "import pandas as pd\n",
    "import os\n",
    "\n",
    "os.chdir(os.path.expanduser('~/Documents/vivarium-ecoli'))\n",
    "\n",
    "import matplotlib.pyplot as plt\n",
    "import dill\n",
    "import xmltodict\n",
    "import os\n",
    "import requests\n",
    "from bs4 import BeautifulSoup\n",
    "from ecoli.processes.metabolism_redux import NetworkFlowModel, FlowResult, MetabolismRedux\n",
    "\n",
    "\n",
    "FREE_RXNS = [\"TRANS-RXN-145\", \"TRANS-RXN0-545\", \"TRANS-RXN0-474\"]"
   ]
  },
  {
   "cell_type": "code",
   "execution_count": 166,
   "outputs": [],
   "source": [
    "# Change the environment name here\n",
    "env_name = 'Acetate_Transport_+_Metabolism'"
   ],
   "metadata": {
    "collapsed": false,
    "ExecuteTime": {
     "end_time": "2023-08-01T20:09:42.487930Z",
     "start_time": "2023-08-01T20:09:42.417104Z"
    }
   }
  },
  {
   "cell_type": "code",
   "execution_count": 167,
   "outputs": [],
   "source": [
    "time = '50'\n",
    "date = '2023-07-21'\n",
    "experiment = 'fba_new_environments'\n",
    "entry = f'{experiment}_{env_name}_{time}_{date}'\n",
    "folder = f'out/fba_new_env/{entry}/'\n",
    "\n",
    "f = open(folder + 'agent_steps.pkl', 'rb')\n",
    "agent = dill.load(f)\n",
    "f.close()\n",
    "\n",
    "metabolism = agent['ecoli-metabolism-redux']\n",
    "stoichiometry = metabolism.stoichiometry\n",
    "\n",
    "output = np.load(folder + 'output.npy',allow_pickle='TRUE').item()\n",
    "output = output['agents']['0']\n",
    "fba = output['listeners']['fba_results']\n",
    "mass = output['listeners']['mass']\n",
    "bulk = pd.DataFrame(output['bulk'])\n",
    "\n",
    "sim_fluxes = pd.DataFrame(fba[\"estimated_fluxes\"], columns = metabolism.reaction_names)\n",
    "sim_fluxes = pd.DataFrame(sim_fluxes.loc[24, :].abs().sort_values(ascending=False))\n",
    "\n",
    "metabolites_idx = {species: i for i, species in enumerate(metabolism.metabolite_names)}\n",
    "index_to_met = {v: k for k, v in metabolites_idx.items()}\n",
    "\n",
    "reaction_idx = {reaction: i for i, reaction in enumerate(metabolism.reaction_names)}\n",
    "index_to_rxn = {v: k for k, v in reaction_idx.items()}\n",
    "\n",
    "metabolism.catalyst_ids = metabolism.parameters['catalyst_ids']\n",
    "catalyst_idx = {catalyst: i for i, catalyst in enumerate(metabolism.catalyst_ids)}\n"
   ],
   "metadata": {
    "collapsed": false,
    "ExecuteTime": {
     "end_time": "2023-08-01T20:09:48.646038Z",
     "start_time": "2023-08-01T20:09:42.434934Z"
    }
   }
  },
  {
   "cell_type": "code",
   "execution_count": 168,
   "outputs": [],
   "source": [
    "heatmap_df = pd.read_excel(\"out/new_env_analysis/heatmap.xlsx\")"
   ],
   "metadata": {
    "collapsed": false,
    "ExecuteTime": {
     "end_time": "2023-08-01T20:09:57.199691Z",
     "start_time": "2023-08-01T20:09:48.646700Z"
    }
   }
  },
  {
   "cell_type": "markdown",
   "source": [
    "## Building the graph"
   ],
   "metadata": {
    "collapsed": false
   }
  },
  {
   "cell_type": "code",
   "execution_count": 169,
   "outputs": [],
   "source": [
    "G = nx.MultiDiGraph()\n",
    "\n",
    "met_length = len(metabolism.metabolite_names)\n",
    "reaction_length = np.shape(stoichiometry)[1]\n",
    "met_not_include = [\"ATP[c]\", \"WATER[c]\", \"PROTON[p]\", \"Pi[c]\", \"PROTON[c]\"]\n",
    "# met_not_include = []\n",
    "do_not_include = []\n",
    "\n",
    "for met in met_not_include:\n",
    "    do_not_include.append(metabolites_idx[met])\n",
    "\n",
    "def plot_metabolite(G, metabolite):\n",
    "    index = metabolites_idx[metabolite]\n",
    "    for k in range(reaction_length):\n",
    "        if stoichiometry[index, k] > 0:\n",
    "            for l in range(met_length):\n",
    "                if stoichiometry[l, k] < 0:\n",
    "                    if l != index and l not in do_not_include:\n",
    "                        G.add_edge(index_to_met[l], metabolite) # Add weight here equal to reaction flux\n",
    "        elif stoichiometry[index, k] < 0:\n",
    "            for l in range(met_length):\n",
    "                if stoichiometry[l, k] > 0:\n",
    "                    if l != index and l not in do_not_include:\n",
    "                        G.add_edge(index_to_met[l], metabolite) # Add weight here equal to reaction flux\n",
    "\n",
    "\n",
    "def plot_reaction(G, reaction, flux, color):\n",
    "    index = reaction_idx[reaction]\n",
    "    reactants = []\n",
    "    products = []\n",
    "    clean_name = clean_reaction_name(reaction)\n",
    "    for k in range(met_length):\n",
    "        if stoichiometry[k, index] > 0 and index_to_met[k] not in met_not_include:\n",
    "            products.append(index_to_met[k])\n",
    "        elif stoichiometry[k, index] < 0 and index_to_met[k] not in met_not_include:\n",
    "            reactants.append(index_to_met[k])\n",
    "\n",
    "    for reactant in reactants:\n",
    "        G.add_edge(reactant, clean_name, color=color, title=flux)\n",
    "\n",
    "    for product in products:\n",
    "        G.add_edge(product, clean_name, color=color, title=flux)"
   ],
   "metadata": {
    "collapsed": false,
    "ExecuteTime": {
     "end_time": "2023-08-01T20:09:57.216308Z",
     "start_time": "2023-08-01T20:09:57.210717Z"
    }
   }
  },
  {
   "cell_type": "code",
   "execution_count": 170,
   "outputs": [],
   "source": [
    "# Not currently used in this analysis but can be useful later\n",
    "\n",
    "def clean_reaction_name(reaction):\n",
    "    if '/' in reaction:\n",
    "        index = reaction.find('RXN')\n",
    "        if (reaction[index+3] == '-' and reaction[index+4].isdigit()) or (reaction[index+4] == '-' and reaction[index+5].isdigit()):\n",
    "            index = index + 4\n",
    "            if reaction[index] == '-':\n",
    "                index += 1\n",
    "            while reaction[index].isdigit():\n",
    "                index += 1\n",
    "            reaction = reaction[:index]\n",
    "        else:\n",
    "            reaction = reaction[:index+3]\n",
    "    elif '__' in reaction:\n",
    "        reaction = reaction[:reaction.find('__')]\n",
    "    elif '(reverse)' in reaction:\n",
    "        reaction = reaction[:reaction.find('(reverse)') - 1]\n",
    "    elif '[' in reaction:\n",
    "        reaction = reaction[:reaction.find('[') - 1]\n",
    "    elif ' ' in reaction:\n",
    "        reaction = reaction[:reaction.find('[')]\n",
    "    return reaction\n"
   ],
   "metadata": {
    "collapsed": false,
    "ExecuteTime": {
     "end_time": "2023-08-01T20:09:57.230824Z",
     "start_time": "2023-08-01T20:09:57.224123Z"
    }
   }
  },
  {
   "cell_type": "code",
   "execution_count": 171,
   "outputs": [
    {
     "name": "stdout",
     "output_type": "stream",
     "text": [
      "Warning: When  cdn_resources is 'local' jupyter notebook has issues displaying graphics on chrome/safari. Use cdn_resources='in_line' or cdn_resources='remote' if you have issues viewing graphics in a notebook.\n",
      "out/new_env_analysis/flux_visualization/Acetate_Transport_+_Metabolism_top20_network.html\n"
     ]
    },
    {
     "data": {
      "text/plain": "<IPython.lib.display.IFrame at 0x15cd8c2e0>",
      "text/html": "\n        <iframe\n            width=\"2000px\"\n            height=\"1000px\"\n            src=\"out/new_env_analysis/flux_visualization/Acetate_Transport_+_Metabolism_top20_network.html\"\n            frameborder=\"0\"\n            allowfullscreen\n            \n        ></iframe>\n        "
     },
     "execution_count": 171,
     "metadata": {},
     "output_type": "execute_result"
    }
   ],
   "source": [
    "k = 20\n",
    "heatmap_df.sort_values(by=[env_name], ascending=False, inplace=True)\n",
    "top_increase = [heatmap_df.iloc[i, 0] for i in range(k)]\n",
    "bottom_increase = [heatmap_df.iloc[i, 0] for i in range(-1, -1*k - 1, -1)]\n",
    "\n",
    "if \"Non-zero Values for each environment\" in top_increase:\n",
    "    top_increase.remove(\"Non-zero Values for each environment\")\n",
    "elif \"Non-zero Values for each environment\" in bottom_increase:\n",
    "    bottom_increase.remove(\"Non-zero Values for each environment\")\n",
    "\n",
    "for reaction in top_increase:\n",
    "    row_num = heatmap_df[heatmap_df['Reactions'] == reaction].index[0]\n",
    "    plot_reaction(G, reaction, heatmap_df[env_name].loc[row_num], 'green')\n",
    "\n",
    "for reaction in bottom_increase:\n",
    "    row_num = heatmap_df[heatmap_df['Reactions'] == reaction].index[0]\n",
    "    plot_reaction(G, reaction, heatmap_df[env_name].loc[row_num], 'red')\n",
    "\n",
    "# nx.write_graphml(G, f'out/new_env_analysis/{env_name}_top10_graph.graphml')\n",
    "\n",
    "nt = Network('1000px', '2000px', notebook=True)\n",
    "nt.repulsion()\n",
    "nt.from_nx(G)\n",
    "# for e in nt.edges:\n",
    "#     e['value'] = e['width']\n",
    "\n",
    "# nt.toggle_physics(True)\n",
    "nt.show(f'out/new_env_analysis/flux_visualization/{env_name}_top20_network.html')\n",
    "\n",
    "\n",
    "# plt.figure(figsize=(25, 25))\n",
    "# nx.draw_spring(G, with_labels=True, font_size=10, node_size=1000, node_color='lightblue', edge_color='black', width=1.5)\n",
    "# plt.savefig(f'out/new_env_analysis/{env_name}_top10_graph.png', dpi=300)\n",
    "# plt.show()"
   ],
   "metadata": {
    "collapsed": false,
    "ExecuteTime": {
     "end_time": "2023-08-01T20:09:58.334193Z",
     "start_time": "2023-08-01T20:09:57.235174Z"
    }
   }
  },
  {
   "cell_type": "code",
   "execution_count": 171,
   "outputs": [],
   "source": [],
   "metadata": {
    "collapsed": false,
    "ExecuteTime": {
     "end_time": "2023-08-01T20:09:58.341764Z",
     "start_time": "2023-08-01T20:09:58.336713Z"
    }
   }
  }
 ],
 "metadata": {
  "kernelspec": {
   "display_name": "Python 3",
   "language": "python",
   "name": "python3"
  },
  "language_info": {
   "codemirror_mode": {
    "name": "ipython",
    "version": 2
   },
   "file_extension": ".py",
   "mimetype": "text/x-python",
   "name": "python",
   "nbconvert_exporter": "python",
   "pygments_lexer": "ipython2",
   "version": "2.7.6"
  }
 },
 "nbformat": 4,
 "nbformat_minor": 0
}
