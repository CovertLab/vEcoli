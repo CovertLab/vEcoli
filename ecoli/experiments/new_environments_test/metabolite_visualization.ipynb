{
 "cells": [
  {
   "cell_type": "code",
   "execution_count": 220,
   "metadata": {
    "collapsed": true,
    "ExecuteTime": {
     "end_time": "2023-08-03T18:29:54.719541Z",
     "start_time": "2023-08-03T18:29:54.669794Z"
    }
   },
   "outputs": [],
   "source": [
    "import numpy as np\n",
    "import networkx as nx\n",
    "from pyvis.network import Network\n",
    "import math\n",
    "import community as community_louvain\n",
    "\n",
    "import seaborn as sns\n",
    "import pandas as pd\n",
    "import os\n",
    "\n",
    "os.chdir(os.path.expanduser('~/Documents/vivarium-ecoli'))\n",
    "\n",
    "import matplotlib.pyplot as plt\n",
    "import dill\n",
    "import xmltodict\n",
    "import os\n",
    "import requests\n",
    "from bs4 import BeautifulSoup\n",
    "from ecoli.processes.metabolism_redux import NetworkFlowModel, FlowResult, MetabolismRedux\n",
    "\n",
    "\n",
    "FREE_RXNS = [\"TRANS-RXN-145\", \"TRANS-RXN0-545\", \"TRANS-RXN0-474\"]"
   ]
  },
  {
   "cell_type": "code",
   "execution_count": 221,
   "outputs": [],
   "source": [
    "# Change the environment name here\n",
    "env_name = 'Nitrate_as_reduction_target'"
   ],
   "metadata": {
    "collapsed": false,
    "ExecuteTime": {
     "end_time": "2023-08-03T18:29:54.906026Z",
     "start_time": "2023-08-03T18:29:54.676289Z"
    }
   }
  },
  {
   "cell_type": "code",
   "execution_count": 222,
   "outputs": [],
   "source": [
    "condition_df = pd.read_excel(\"ecoli/experiments/new_environments_test/done.xlsx\")\n",
    "condition_df[\"Add\"] = condition_df[\"Add\"].apply(lambda x: set(str(x).split(\", \") if x == x else set()))\n",
    "condition_df[\"Remove\"] = condition_df[\"Remove\"].apply(lambda x: set(str(x).split(\", \") if x == x else set()))\n",
    "\n",
    "row_num = condition_df[condition_df['Environment'] == env_name].index[0]\n",
    "important_add = condition_df[\"Add\"].loc[row_num]\n",
    "important_remove = condition_df[\"Remove\"].loc[row_num]"
   ],
   "metadata": {
    "collapsed": false,
    "ExecuteTime": {
     "end_time": "2023-08-03T18:29:54.909544Z",
     "start_time": "2023-08-03T18:29:54.684199Z"
    }
   }
  },
  {
   "cell_type": "code",
   "execution_count": 223,
   "outputs": [],
   "source": [
    "time = '50'\n",
    "date = '2023-07-21'\n",
    "experiment = 'fba_new_environments'\n",
    "entry = f'{experiment}_{env_name}_{time}_{date}'\n",
    "folder = f'out/fba_new_env/{entry}/'\n",
    "\n",
    "f = open(folder + 'agent_steps.pkl', 'rb')\n",
    "agent = dill.load(f)\n",
    "f.close()\n",
    "\n",
    "metabolism = agent['ecoli-metabolism-redux']\n",
    "stoichiometry = metabolism.stoichiometry\n",
    "\n",
    "output = np.load(folder + 'output.npy',allow_pickle='TRUE').item()\n",
    "output = output['agents']['0']\n",
    "fba = output['listeners']['fba_results']\n",
    "mass = output['listeners']['mass']\n",
    "bulk = pd.DataFrame(output['bulk'])\n",
    "\n",
    "sim_fluxes = pd.DataFrame(fba[\"estimated_fluxes\"], columns = metabolism.reaction_names)\n",
    "sim_fluxes = pd.DataFrame(sim_fluxes.loc[24, :].abs().sort_values(ascending=False))\n",
    "\n",
    "metabolites_idx = {species: i for i, species in enumerate(metabolism.metabolite_names)}\n",
    "index_to_met = {v: k for k, v in metabolites_idx.items()}\n",
    "\n",
    "reaction_idx = {reaction: i for i, reaction in enumerate(metabolism.reaction_names)}\n",
    "index_to_rxn = {v: k for k, v in reaction_idx.items()}\n",
    "\n",
    "metabolism.catalyst_ids = metabolism.parameters['catalyst_ids']\n",
    "catalyst_idx = {catalyst: i for i, catalyst in enumerate(metabolism.catalyst_ids)}"
   ],
   "metadata": {
    "collapsed": false,
    "ExecuteTime": {
     "end_time": "2023-08-03T18:30:01.825262Z",
     "start_time": "2023-08-03T18:29:54.736419Z"
    }
   }
  },
  {
   "cell_type": "code",
   "execution_count": 224,
   "outputs": [],
   "source": [
    "heatmap_df = pd.read_excel(\"out/new_env_analysis/heatmap.xlsx\")"
   ],
   "metadata": {
    "collapsed": false,
    "ExecuteTime": {
     "end_time": "2023-08-03T18:30:11.511426Z",
     "start_time": "2023-08-03T18:30:01.831321Z"
    }
   }
  },
  {
   "cell_type": "markdown",
   "source": [
    "# Building the Graph"
   ],
   "metadata": {
    "collapsed": false
   }
  },
  {
   "cell_type": "code",
   "execution_count": 225,
   "outputs": [],
   "source": [
    "G = nx.DiGraph()\n",
    "\n",
    "met_length = len(metabolism.metabolite_names)\n",
    "reaction_length = np.shape(stoichiometry)[1]\n",
    "met_not_include = [\"ATP[c]\", \"WATER[c]\", \"PROTON[p]\", \"Pi[c]\", \"PROTON[c]\", \"ADP[c]\", \"Pi[p]\", \"WATER[p]\"]\n",
    "# met_not_include = []\n",
    "do_not_include = []\n",
    "\n",
    "for met in met_not_include:\n",
    "    do_not_include.append(metabolites_idx[met])\n",
    "\n",
    "def plot_metabolite(G, metabolite, heatmap_df, mode):\n",
    "    index = metabolites_idx[metabolite]\n",
    "    to_return = []\n",
    "    for k in range(reaction_length):\n",
    "        if stoichiometry[index, k] < 0:\n",
    "            reaction = index_to_rxn[k]\n",
    "            clean_reaction = clean_reaction_name(reaction)\n",
    "\n",
    "            row_num = heatmap_df[heatmap_df['Reactions'] == reaction].index[0]\n",
    "            if heatmap_df[env_name].loc[row_num] == 0:\n",
    "                continue\n",
    "            else:\n",
    "                flux = math.log(heatmap_df[env_name].loc[row_num], 10)\n",
    "\n",
    "            if flux < 0 and mode == 'green':\n",
    "                continue\n",
    "            elif flux > 0 and mode == 'red':\n",
    "                continue\n",
    "\n",
    "            if flux > 0:\n",
    "                color = 'green'\n",
    "            else:\n",
    "                color = 'red'\n",
    "\n",
    "            G.add_edge(metabolite, clean_reaction, color=color, title=flux)\n",
    "            for l in range(met_length):\n",
    "                if stoichiometry[l, k] > 0:\n",
    "                    if l != index and l not in do_not_include:\n",
    "                        product = index_to_met[l]\n",
    "                        to_return.append(product)\n",
    "                        G.add_edge(clean_reaction, product, color=color, title=flux)\n",
    "                elif stoichiometry[l, k] < 0:\n",
    "                    if l != index and l not in do_not_include:\n",
    "                        reactant = index_to_met[l]\n",
    "                        G.add_edge(reactant, clean_reaction, color=color, title=flux)\n",
    "\n",
    "    return to_return"
   ],
   "metadata": {
    "collapsed": false,
    "ExecuteTime": {
     "end_time": "2023-08-03T18:30:11.528447Z",
     "start_time": "2023-08-03T18:30:11.511840Z"
    }
   }
  },
  {
   "cell_type": "code",
   "execution_count": 226,
   "outputs": [],
   "source": [
    "def clean_reaction_name(reaction):\n",
    "    if '/' in reaction:\n",
    "        index = reaction.find('RXN')\n",
    "        if (reaction[index+3] == '-' and reaction[index+4].isdigit()) or (reaction[index+4] == '-' and reaction[index+5].isdigit()):\n",
    "            index = index + 4\n",
    "            if reaction[index] == '-':\n",
    "                index += 1\n",
    "            while reaction[index].isdigit():\n",
    "                index += 1\n",
    "            reaction = reaction[:index]\n",
    "        else:\n",
    "            reaction = reaction[:index+3]\n",
    "    elif '__' in reaction:\n",
    "        reaction = reaction[:reaction.find('__')]\n",
    "    elif '(reverse)' in reaction:\n",
    "        reaction = reaction[:reaction.find('(reverse)') - 1]\n",
    "    elif '[' in reaction:\n",
    "        reaction = reaction[:reaction.find('[') - 1]\n",
    "    elif ' ' in reaction:\n",
    "        reaction = reaction[:reaction.find('[')]\n",
    "    return reaction"
   ],
   "metadata": {
    "collapsed": false,
    "ExecuteTime": {
     "end_time": "2023-08-03T18:30:11.544908Z",
     "start_time": "2023-08-03T18:30:11.537718Z"
    }
   }
  },
  {
   "cell_type": "code",
   "execution_count": 227,
   "outputs": [],
   "source": [
    "# Change Parameters Here\n",
    "k = 10\n",
    "mode = 'green'"
   ],
   "metadata": {
    "collapsed": false,
    "ExecuteTime": {
     "end_time": "2023-08-03T18:30:11.562115Z",
     "start_time": "2023-08-03T18:30:11.544496Z"
    }
   }
  },
  {
   "cell_type": "code",
   "execution_count": 228,
   "outputs": [],
   "source": [
    "if mode == 'red':\n",
    "    return_met_1 = important_remove\n",
    "else:\n",
    "    return_met_1 = important_add\n",
    "heatmap_df.sort_values(by=[env_name], ascending=False, inplace=True)\n",
    "return_met_2 = []\n",
    "\n",
    "for i in range(k):\n",
    "    for met in return_met_1:\n",
    "        if met is None:\n",
    "            continue\n",
    "        return_met_2 += plot_metabolite(G, met, heatmap_df, mode)\n",
    "    return_met_2 = list(set(return_met_2))\n",
    "    return_met_1 = return_met_2\n",
    "    return_met_2 = []"
   ],
   "metadata": {
    "collapsed": false,
    "ExecuteTime": {
     "end_time": "2023-08-03T18:30:33.043406Z",
     "start_time": "2023-08-03T18:30:11.555187Z"
    }
   }
  },
  {
   "cell_type": "code",
   "execution_count": 229,
   "outputs": [
    {
     "name": "stdout",
     "output_type": "stream",
     "text": [
      "out/new_env_analysis/met_visualization/green/Nitrate_as_reduction_target_metabolite_10green_graph.html\n"
     ]
    },
    {
     "data": {
      "text/plain": "<IPython.lib.display.IFrame at 0x168abebb0>",
      "text/html": "\n        <iframe\n            width=\"1500px\"\n            height=\"1000px\"\n            src=\"out/new_env_analysis/met_visualization/green/Nitrate_as_reduction_target_metabolite_10green_graph.html\"\n            frameborder=\"0\"\n            allowfullscreen\n            \n        ></iframe>\n        "
     },
     "execution_count": 229,
     "metadata": {},
     "output_type": "execute_result"
    }
   ],
   "source": [
    "closeness = nx.closeness_centrality(G)\n",
    "sort_closeness = sorted(closeness.items(), key=lambda x:x[1], reverse=True)\n",
    "\n",
    "sort_closeness = sort_closeness[:8]\n",
    "nt = Network('1000px', '1500px', notebook=True, cdn_resources='in_line', directed=True)\n",
    "nt.from_nx(G)\n",
    "\n",
    "for tup in sort_closeness:\n",
    "    nt.get_node(tup[0])['color'] = 'blue'\n",
    "\n",
    "for n in nt.nodes:\n",
    "    if n['label'] in metabolites_idx:\n",
    "        n['shape'] = 'star'\n",
    "    if n['label'] in important_add:\n",
    "        n['color'] = 'orange'\n",
    "    if n['label'] in important_remove:\n",
    "        n['color'] = 'purple'\n",
    "\n",
    "\n",
    "# nt.toggle_physics(True)\n",
    "nt.show_buttons(filter_=['physics'])\n",
    "nt.show(f'out/new_env_analysis/met_visualization/{mode}/{env_name}_metabolite_{k}{mode}_graph.html')"
   ],
   "metadata": {
    "collapsed": false,
    "ExecuteTime": {
     "end_time": "2023-08-03T18:30:33.241452Z",
     "start_time": "2023-08-03T18:30:33.067417Z"
    }
   }
  },
  {
   "cell_type": "code",
   "execution_count": 229,
   "outputs": [],
   "source": [],
   "metadata": {
    "collapsed": false,
    "ExecuteTime": {
     "end_time": "2023-08-03T18:30:33.241731Z",
     "start_time": "2023-08-03T18:30:33.235885Z"
    }
   }
  }
 ],
 "metadata": {
  "kernelspec": {
   "display_name": "Python 3",
   "language": "python",
   "name": "python3"
  },
  "language_info": {
   "codemirror_mode": {
    "name": "ipython",
    "version": 2
   },
   "file_extension": ".py",
   "mimetype": "text/x-python",
   "name": "python",
   "nbconvert_exporter": "python",
   "pygments_lexer": "ipython2",
   "version": "2.7.6"
  }
 },
 "nbformat": 4,
 "nbformat_minor": 0
}
