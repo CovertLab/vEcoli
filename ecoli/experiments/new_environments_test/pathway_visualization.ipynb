{
 "cells": [
  {
   "cell_type": "code",
   "execution_count": 15,
   "metadata": {
    "collapsed": true,
    "ExecuteTime": {
     "end_time": "2023-08-14T23:15:00.189747Z",
     "start_time": "2023-08-14T23:14:59.999452Z"
    }
   },
   "outputs": [],
   "source": [
    "import numpy as np\n",
    "import networkx as nx\n",
    "from pyvis.network import Network\n",
    "import math\n",
    "import community as community_louvain\n",
    "\n",
    "import seaborn as sns\n",
    "import pandas as pd\n",
    "import os\n",
    "\n",
    "os.chdir(os.path.expanduser('~/Documents/vivarium-ecoli'))\n",
    "\n",
    "import matplotlib.pyplot as plt\n",
    "import dill\n",
    "import xmltodict\n",
    "import os\n",
    "import requests\n",
    "from bs4 import BeautifulSoup\n",
    "from ecoli.processes.metabolism_redux import NetworkFlowModel, FlowResult, MetabolismRedux\n",
    "\n",
    "\n",
    "FREE_RXNS = [\"TRANS-RXN-145\", \"TRANS-RXN0-545\", \"TRANS-RXN0-474\"]"
   ]
  },
  {
   "cell_type": "code",
   "execution_count": 16,
   "outputs": [
    {
     "data": {
      "text/plain": "<Response [200]>"
     },
     "execution_count": 16,
     "metadata": {},
     "output_type": "execute_result"
    }
   ],
   "source": [
    "s = requests.Session() # create session\n",
    "# Post login credentials to session:\n",
    "s.post('https://websvc.biocyc.org/credentials/login/', data={'email':'cellulararchitect@protonmail.com', 'password':'Cellman0451'})"
   ],
   "metadata": {
    "collapsed": false,
    "ExecuteTime": {
     "end_time": "2023-08-14T23:15:00.642405Z",
     "start_time": "2023-08-14T23:15:00.034913Z"
    }
   }
  },
  {
   "cell_type": "code",
   "execution_count": 17,
   "outputs": [],
   "source": [
    "env_name = 'Nitrate_as_reduction_target'"
   ],
   "metadata": {
    "collapsed": false,
    "ExecuteTime": {
     "end_time": "2023-08-14T23:15:00.643968Z",
     "start_time": "2023-08-14T23:15:00.641548Z"
    }
   }
  },
  {
   "cell_type": "code",
   "execution_count": 18,
   "outputs": [],
   "source": [
    "condition_df = pd.read_excel(\"ecoli/experiments/new_environments_test/done.xlsx\")\n",
    "condition_df[\"Add\"] = condition_df[\"Add\"].apply(lambda x: set(str(x).split(\", \") if x == x else set()))\n",
    "condition_df[\"Remove\"] = condition_df[\"Remove\"].apply(lambda x: set(str(x).split(\", \") if x == x else set()))\n",
    "\n",
    "row_num = condition_df[condition_df['Environment'] == env_name].index[0]\n",
    "important_add = condition_df[\"Add\"].loc[row_num]\n",
    "important_remove = condition_df[\"Remove\"].loc[row_num]"
   ],
   "metadata": {
    "collapsed": false,
    "ExecuteTime": {
     "end_time": "2023-08-14T23:15:00.722598Z",
     "start_time": "2023-08-14T23:15:00.649390Z"
    }
   }
  },
  {
   "cell_type": "code",
   "execution_count": 19,
   "outputs": [],
   "source": [
    "time = '50'\n",
    "date = '2023-07-21'\n",
    "experiment = 'fba_new_environments'\n",
    "entry = f'{experiment}_{env_name}_{time}_{date}'\n",
    "folder = f'out/fba_new_env/{entry}/'\n",
    "\n",
    "f = open(folder + 'agent_steps.pkl', 'rb')\n",
    "agent = dill.load(f)\n",
    "f.close()\n",
    "\n",
    "metabolism = agent['ecoli-metabolism-redux']\n",
    "stoichiometry = metabolism.stoichiometry\n",
    "\n",
    "output = np.load(folder + 'output.npy',allow_pickle='TRUE').item()\n",
    "output = output['agents']['0']\n",
    "fba = output['listeners']['fba_results']\n",
    "mass = output['listeners']['mass']\n",
    "bulk = pd.DataFrame(output['bulk'])\n",
    "\n",
    "sim_fluxes = pd.DataFrame(fba[\"estimated_fluxes\"], columns = metabolism.reaction_names)\n",
    "sim_fluxes = pd.DataFrame(sim_fluxes.loc[24, :].abs().sort_values(ascending=False))\n",
    "\n",
    "metabolites_idx = {species: i for i, species in enumerate(metabolism.metabolite_names)}\n",
    "index_to_met = {v: k for k, v in metabolites_idx.items()}\n",
    "\n",
    "reaction_idx = {reaction: i for i, reaction in enumerate(metabolism.reaction_names)}\n",
    "index_to_rxn = {v: k for k, v in reaction_idx.items()}\n",
    "\n",
    "metabolism.catalyst_ids = metabolism.parameters['catalyst_ids']\n",
    "catalyst_idx = {catalyst: i for i, catalyst in enumerate(metabolism.catalyst_ids)}"
   ],
   "metadata": {
    "collapsed": false,
    "ExecuteTime": {
     "end_time": "2023-08-14T23:15:08.276493Z",
     "start_time": "2023-08-14T23:15:00.737606Z"
    }
   }
  },
  {
   "cell_type": "code",
   "execution_count": 20,
   "outputs": [],
   "source": [
    "heatmap_df = pd.read_excel(\"out/new_env_analysis/heatmap.xlsx\")\n",
    "heatmap_df = heatmap_df[heatmap_df[env_name] != 0]"
   ],
   "metadata": {
    "collapsed": false,
    "ExecuteTime": {
     "end_time": "2023-08-14T23:15:20.684632Z",
     "start_time": "2023-08-14T23:15:08.284651Z"
    }
   }
  },
  {
   "cell_type": "code",
   "execution_count": 21,
   "outputs": [],
   "source": [
    "G = nx.DiGraph()\n",
    "\n",
    "met_length = len(metabolism.metabolite_names)\n",
    "reaction_length = np.shape(stoichiometry)[1]\n",
    "met_not_include = [\"ATP[c]\", \"WATER[c]\", \"PROTON[p]\", \"Pi[c]\", \"PROTON[c]\", \"ADP[c]\", \"Pi[p]\", \"WATER[p]\", \"NAD[c]\", \"NADH[c]\", \"NADP[c]\", \"NADPH[c]\", \"PPI[c]\", \"CARBON-DIOXIDE[c]\", \"CO-A[c]\", \"ACETYL-COA[c]\"\n",
    "  ]\n",
    "# met_not_include = []\n",
    "do_not_include = []\n",
    "\n",
    "for met in met_not_include:\n",
    "    do_not_include.append(metabolites_idx[met])\n",
    "\n",
    "def plot_pathway_from_reaction(G, reaction, heatmap_df, pathway_to_colors, completed_pathways):\n",
    "    index = reaction_idx[reaction]\n",
    "    reactants = []\n",
    "    products = []\n",
    "    pathways = []\n",
    "    colors = ['purple', 'orange', 'green', 'lightblue', 'blue', 'pink', 'brown', 'red']\n",
    "    color_index = 0\n",
    "\n",
    "    for k in range(met_length):\n",
    "        if stoichiometry[k, index] > 0 and index_to_met[k] not in met_not_include:\n",
    "            products.append(index_to_met[k])\n",
    "        elif stoichiometry[k, index] < 0 and index_to_met[k] not in met_not_include:\n",
    "            reactants.append(index_to_met[k])\n",
    "\n",
    "    for reactant in reactants:\n",
    "        pathways += get_pathway_from_metabolite(reactant)\n",
    "\n",
    "    for product in products:\n",
    "        pathways += get_pathway_from_metabolite(product)\n",
    "\n",
    "    weird_name = []\n",
    "    pathways = list(set(pathways) - set(completed_pathways))\n",
    "    for pathway in pathways:\n",
    "        plot_reactions = []\n",
    "        try:\n",
    "            req_str = f\"https://websvc.biocyc.org/getxml?id=ECOLI:{pathway}&detail=low\"\n",
    "            r = s.get(req_str)\n",
    "            o = xmltodict.parse(r.content)['ptools-xml']['Pathway']['reaction-list']['Reaction']\n",
    "            if type(o) is dict:\n",
    "                o = [o]\n",
    "\n",
    "            for rxn in o:\n",
    "                if type(rxn) is not str:\n",
    "                    plot_reactions.append(rxn['@frameid'])\n",
    "        except KeyError:\n",
    "            pass\n",
    "        except Exception:\n",
    "            pass\n",
    "\n",
    "        has_node = False\n",
    "        for reaction in plot_reactions:\n",
    "            try:\n",
    "                row_number = heatmap_df[heatmap_df['Reactions'] == reaction].index[0]\n",
    "            except IndexError:\n",
    "                try:\n",
    "                    row_number = heatmap_df[heatmap_df['Reactions'].str.contains(reaction)].index[0]\n",
    "                    weird_name.append(reaction)\n",
    "                    reaction = heatmap_df['Reactions'].loc[row_number]\n",
    "                except IndexError:\n",
    "                    continue\n",
    "\n",
    "            if heatmap_df[env_name].loc[row_number] == 0:\n",
    "                continue\n",
    "            else:\n",
    "                flux = math.log(heatmap_df[env_name].loc[row_number], 10)\n",
    "\n",
    "            if abs(flux) < 0.2:\n",
    "                continue\n",
    "\n",
    "            has_node = True\n",
    "            plot_reaction(G, reaction, flux, colors[color_index])\n",
    "\n",
    "        if pathway not in pathway_to_colors and has_node:\n",
    "            pathway_to_colors[pathway] = colors[color_index]\n",
    "            color_index = (color_index + 1) % len(colors)\n",
    "\n",
    "    completed_pathways += pathways\n",
    "    return weird_name\n"
   ],
   "metadata": {
    "collapsed": false,
    "ExecuteTime": {
     "end_time": "2023-08-14T23:15:20.713812Z",
     "start_time": "2023-08-14T23:15:20.685178Z"
    }
   }
  },
  {
   "cell_type": "code",
   "execution_count": 22,
   "outputs": [],
   "source": [
    "def plot_reaction(G, reaction, flux, color):\n",
    "    index = reaction_idx[reaction]\n",
    "    reactants = []\n",
    "    products = []\n",
    "    clean_name = clean_reaction_name(reaction)\n",
    "    for k in range(met_length):\n",
    "        if stoichiometry[k, index] > 0 and index_to_met[k] not in met_not_include:\n",
    "            products.append(index_to_met[k])\n",
    "        elif stoichiometry[k, index] < 0 and index_to_met[k] not in met_not_include:\n",
    "            reactants.append(index_to_met[k])\n",
    "\n",
    "    for reactant in reactants:\n",
    "        G.add_edge(reactant, clean_name, color=color, title=flux)\n",
    "\n",
    "    for product in products:\n",
    "        G.add_edge(clean_name, product, color=color, title=flux)"
   ],
   "metadata": {
    "collapsed": false,
    "ExecuteTime": {
     "end_time": "2023-08-14T23:15:20.739598Z",
     "start_time": "2023-08-14T23:15:20.718809Z"
    }
   }
  },
  {
   "cell_type": "code",
   "execution_count": 23,
   "outputs": [],
   "source": [
    "def get_pathway_from_metabolite(met):\n",
    "    to_return = []\n",
    "    function = \"pathways-of-compound\"\n",
    "    req_str = f\"https://websvc.biocyc.org/apixml?fn={function}&id=ECOLI:{met[:-3]}&detail=none&fmt=json\"\n",
    "\n",
    "    r = s.get(req_str)\n",
    "    try:\n",
    "        o = xmltodict.parse(r.content)['ptools-xml']['Pathway']\n",
    "        if type(o) is dict:\n",
    "            o = [o]\n",
    "\n",
    "        for pathway in o:\n",
    "            if type(pathway) is not str: # no rxns\n",
    "                to_return.append(pathway['@frameid'])\n",
    "    except KeyError:\n",
    "        pass\n",
    "    except Exception:\n",
    "        pass\n",
    "\n",
    "    return to_return"
   ],
   "metadata": {
    "collapsed": false,
    "ExecuteTime": {
     "end_time": "2023-08-14T23:15:20.775007Z",
     "start_time": "2023-08-14T23:15:20.733394Z"
    }
   }
  },
  {
   "cell_type": "code",
   "execution_count": 24,
   "outputs": [],
   "source": [
    "def clean_reaction_name(reaction):\n",
    "    if '/' in reaction:\n",
    "        index = reaction.find('RXN')\n",
    "        if (reaction[index+3] == '-' and reaction[index+4].isdigit()) or (reaction[index+4] == '-' and reaction[index+5].isdigit()):\n",
    "            index = index + 4\n",
    "            if reaction[index] == '-':\n",
    "                index += 1\n",
    "            while reaction[index].isdigit():\n",
    "                index += 1\n",
    "            reaction = reaction[:index]\n",
    "        else:\n",
    "            reaction = reaction[:index+3]\n",
    "    elif '__' in reaction:\n",
    "        reaction = reaction[:reaction.find('__')]\n",
    "    elif '(reverse)' in reaction:\n",
    "        reaction = reaction[:reaction.find('(reverse)') - 1]\n",
    "    elif '[' in reaction:\n",
    "        reaction = reaction[:reaction.find('[') - 1]\n",
    "    elif ' ' in reaction:\n",
    "        reaction = reaction[:reaction.find('[')]\n",
    "    return reaction"
   ],
   "metadata": {
    "collapsed": false,
    "ExecuteTime": {
     "end_time": "2023-08-14T23:15:20.775775Z",
     "start_time": "2023-08-14T23:15:20.750017Z"
    }
   }
  },
  {
   "cell_type": "code",
   "execution_count": 25,
   "outputs": [],
   "source": [
    "def plot_metabolite(G, metabolite, heatmap_df):\n",
    "    index = metabolites_idx[metabolite]\n",
    "    to_return = []\n",
    "    for k in range(reaction_length):\n",
    "        if stoichiometry[index, k] > 0:\n",
    "            reaction = index_to_rxn[k]\n",
    "            clean_reaction = clean_reaction_name(reaction)\n",
    "\n",
    "            try:\n",
    "                row = heatmap_df[heatmap_df['Reactions'] == reaction].index[0]\n",
    "                flux_num = math.log(heatmap_df[env_name].loc[row], 10)\n",
    "            except IndexError:\n",
    "                flux_num = 0\n",
    "\n",
    "            if abs(flux_num) < 0.2:\n",
    "                continue\n",
    "\n",
    "            color = 'black'\n",
    "\n",
    "            G.add_edge(clean_reaction, metabolite, color=color, title=flux_num)\n",
    "            for l in range(met_length):\n",
    "                if stoichiometry[l, k] < 0:\n",
    "                    if l != index and l not in do_not_include:\n",
    "                        reactant = index_to_met[l]\n",
    "                        to_return.append(reactant)\n",
    "                        G.add_edge(reactant, clean_reaction, color=color, title=flux_num)\n",
    "                elif stoichiometry[l, k] > 0:\n",
    "                    if l != index and l not in do_not_include:\n",
    "                        product = index_to_met[l]\n",
    "                        G.add_edge(clean_reaction, product, color=color, title=flux_num)\n",
    "\n",
    "    return to_return"
   ],
   "metadata": {
    "collapsed": false,
    "ExecuteTime": {
     "end_time": "2023-08-14T23:15:20.776121Z",
     "start_time": "2023-08-14T23:15:20.765890Z"
    }
   }
  },
  {
   "cell_type": "code",
   "execution_count": 26,
   "outputs": [],
   "source": [
    "# Change K here to select the top k reactions/pathways to plot\n",
    "\n",
    "k = 6\n",
    "green_offset = 0\n",
    "heatmap_df.sort_values(by=[env_name], ascending=False, inplace=True)\n",
    "top_increase = [heatmap_df.iloc[i, 0] for i in range(k + green_offset)]\n",
    "bottom_increase = [heatmap_df.iloc[i, 0] for i in range(-1, -1*k - 1, -1)]\n",
    "pathway_to_colors = {}\n",
    "\n",
    "failed_name = []\n",
    "completed_pathways = []\n",
    "\n",
    "if \"Non-zero Values for each environment\" in top_increase:\n",
    "    top_increase.remove(\"Non-zero Values for each environment\")\n",
    "elif \"Non-zero Values for each environment\" in bottom_increase:\n",
    "    bottom_increase.remove(\"Non-zero Values for each environment\")\n",
    "\n",
    "for reaction in top_increase:\n",
    "    failed_name += plot_pathway_from_reaction(G, reaction, heatmap_df, pathway_to_colors, completed_pathways)\n",
    "\n",
    "for reaction in bottom_increase:\n",
    "    failed_name += plot_pathway_from_reaction(G, reaction, heatmap_df, pathway_to_colors, completed_pathways)\n",
    "\n",
    "failed_name = list(set(failed_name))\n",
    "\n",
    "with open(f'out/new_env_analysis/pathway_visualization/{env_name}_{k}_legend.txt', 'w') as f:\n",
    "    for reaction in (top_increase + bottom_increase):\n",
    "        row_number = heatmap_df[heatmap_df['Reactions'] == reaction].index[0]\n",
    "        flux = heatmap_df[env_name].loc[row_number]\n",
    "        f.write('%s: %s\\n' % (reaction, flux))\n",
    "\n",
    "    for key, value in pathway_to_colors.items():\n",
    "        f.write('%s: %s\\n' % (key, value))\n"
   ],
   "metadata": {
    "collapsed": false,
    "ExecuteTime": {
     "end_time": "2023-08-14T23:15:34.557185Z",
     "start_time": "2023-08-14T23:15:20.838942Z"
    }
   }
  },
  {
   "cell_type": "code",
   "execution_count": 27,
   "outputs": [],
   "source": [
    "# Add interesting extra metabolites to examine here\n",
    "met_level = 1\n",
    "extra_metabolites = [\"AMMONIUM[c]\"]\n",
    "temp = []\n",
    "\n",
    "for i in range(met_level):\n",
    "    for met in extra_metabolites:\n",
    "        if met is None:\n",
    "            continue\n",
    "        temp += plot_metabolite(G, met, heatmap_df)\n",
    "    temp = list(set(temp))\n",
    "    extra_metabolites = temp\n",
    "    temp = []"
   ],
   "metadata": {
    "collapsed": false,
    "ExecuteTime": {
     "end_time": "2023-08-14T23:15:34.840125Z",
     "start_time": "2023-08-14T23:15:34.657579Z"
    }
   }
  },
  {
   "cell_type": "code",
   "execution_count": 28,
   "outputs": [
    {
     "name": "stdout",
     "output_type": "stream",
     "text": [
      "out/new_env_analysis/pathway_visualization/Nitrate_as_reduction_target_pathway_6_graph.html\n"
     ]
    },
    {
     "data": {
      "text/plain": "<IPython.lib.display.IFrame at 0x156695340>",
      "text/html": "\n        <iframe\n            width=\"1500px\"\n            height=\"1000px\"\n            src=\"out/new_env_analysis/pathway_visualization/Nitrate_as_reduction_target_pathway_6_graph.html\"\n            frameborder=\"0\"\n            allowfullscreen\n            \n        ></iframe>\n        "
     },
     "execution_count": 28,
     "metadata": {},
     "output_type": "execute_result"
    }
   ],
   "source": [
    "closeness = nx.closeness_centrality(G)\n",
    "sort_closeness = sorted(closeness.items(), key=lambda x:x[1], reverse=True)\n",
    "\n",
    "sort_closeness = sort_closeness[:8]\n",
    "nt = Network('1000px', '1500px', notebook=True, cdn_resources='in_line', directed=True)\n",
    "nt.from_nx(G)\n",
    "\n",
    "for tup in sort_closeness:\n",
    "    nt.get_node(tup[0])['color'] = 'blue'\n",
    "\n",
    "for n in nt.nodes:\n",
    "    if n['label'] in metabolites_idx:\n",
    "        n['shape'] = 'star'\n",
    "    if n['label'] in important_add:\n",
    "        n['color'] = 'orange'\n",
    "    if n['label'] in important_remove:\n",
    "        n['color'] = 'purple'\n",
    "\n",
    "\n",
    "nt.show_buttons(filter_=['physics'])\n",
    "nt.show(f'out/new_env_analysis/pathway_visualization/{env_name}_pathway_{k}_graph.html')"
   ],
   "metadata": {
    "collapsed": false,
    "ExecuteTime": {
     "end_time": "2023-08-14T23:15:35.067489Z",
     "start_time": "2023-08-14T23:15:34.852074Z"
    }
   }
  },
  {
   "cell_type": "code",
   "execution_count": 28,
   "outputs": [],
   "source": [],
   "metadata": {
    "collapsed": false,
    "ExecuteTime": {
     "end_time": "2023-08-14T23:15:35.117234Z",
     "start_time": "2023-08-14T23:15:35.069332Z"
    }
   }
  }
 ],
 "metadata": {
  "kernelspec": {
   "display_name": "Python 3",
   "language": "python",
   "name": "python3"
  },
  "language_info": {
   "codemirror_mode": {
    "name": "ipython",
    "version": 2
   },
   "file_extension": ".py",
   "mimetype": "text/x-python",
   "name": "python",
   "nbconvert_exporter": "python",
   "pygments_lexer": "ipython2",
   "version": "2.7.6"
  }
 },
 "nbformat": 4,
 "nbformat_minor": 0
}
