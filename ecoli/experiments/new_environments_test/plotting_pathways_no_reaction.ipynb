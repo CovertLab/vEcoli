{
 "cells": [
  {
   "cell_type": "code",
   "execution_count": 249,
   "metadata": {
    "collapsed": true,
    "ExecuteTime": {
     "end_time": "2023-08-16T22:14:42.836924Z",
     "start_time": "2023-08-16T22:14:42.809427Z"
    }
   },
   "outputs": [],
   "source": [
    "import numpy as np\n",
    "import networkx as nx\n",
    "from pyvis.network import Network\n",
    "import math\n",
    "import community as community_louvain\n",
    "\n",
    "import seaborn as sns\n",
    "import pandas as pd\n",
    "import os\n",
    "\n",
    "os.chdir(os.path.expanduser('~/Documents/vivarium-ecoli'))\n",
    "\n",
    "import matplotlib.pyplot as plt\n",
    "import dill\n",
    "import xmltodict\n",
    "import os\n",
    "import requests\n",
    "from bs4 import BeautifulSoup\n",
    "from ecoli.processes.metabolism_redux import NetworkFlowModel, FlowResult, MetabolismRedux\n",
    "\n",
    "\n",
    "FREE_RXNS = [\"TRANS-RXN-145\", \"TRANS-RXN0-545\", \"TRANS-RXN0-474\"]"
   ]
  },
  {
   "cell_type": "code",
   "execution_count": 250,
   "outputs": [
    {
     "data": {
      "text/plain": "<Response [200]>"
     },
     "execution_count": 250,
     "metadata": {},
     "output_type": "execute_result"
    }
   ],
   "source": [
    "s = requests.Session() # create session\n",
    "# Post login credentials to session:\n",
    "s.post('https://websvc.biocyc.org/credentials/login/', data={'email':'cellulararchitect@protonmail.com', 'password':'Cellman0451'})"
   ],
   "metadata": {
    "collapsed": false,
    "ExecuteTime": {
     "end_time": "2023-08-16T22:14:43.123930Z",
     "start_time": "2023-08-16T22:14:42.825869Z"
    }
   }
  },
  {
   "cell_type": "code",
   "execution_count": 251,
   "outputs": [],
   "source": [
    "env_name = 'Nitrate_as_reduction_target'"
   ],
   "metadata": {
    "collapsed": false,
    "ExecuteTime": {
     "end_time": "2023-08-16T22:14:43.133255Z",
     "start_time": "2023-08-16T22:14:43.127851Z"
    }
   }
  },
  {
   "cell_type": "code",
   "execution_count": 252,
   "outputs": [],
   "source": [
    "condition_df = pd.read_excel(\"ecoli/experiments/new_environments_test/done.xlsx\")\n",
    "condition_df[\"Add\"] = condition_df[\"Add\"].apply(lambda x: set(str(x).split(\", \") if x == x else set()))\n",
    "condition_df[\"Remove\"] = condition_df[\"Remove\"].apply(lambda x: set(str(x).split(\", \") if x == x else set()))\n",
    "\n",
    "row_num = condition_df[condition_df['Environment'] == env_name].index[0]\n",
    "important_add = condition_df[\"Add\"].loc[row_num]\n",
    "important_remove = condition_df[\"Remove\"].loc[row_num]"
   ],
   "metadata": {
    "collapsed": false,
    "ExecuteTime": {
     "end_time": "2023-08-16T22:14:43.220612Z",
     "start_time": "2023-08-16T22:14:43.137905Z"
    }
   }
  },
  {
   "cell_type": "code",
   "execution_count": 253,
   "outputs": [],
   "source": [
    "time = '50'\n",
    "date = '2023-07-21'\n",
    "experiment = 'fba_new_environments'\n",
    "entry = f'{experiment}_{env_name}_{time}_{date}'\n",
    "folder = f'out/fba_new_env/{entry}/'\n",
    "\n",
    "f = open(folder + 'agent_steps.pkl', 'rb')\n",
    "agent = dill.load(f)\n",
    "f.close()\n",
    "\n",
    "metabolism = agent['ecoli-metabolism-redux']\n",
    "stoichiometry = metabolism.stoichiometry\n",
    "\n",
    "output = np.load(folder + 'output.npy',allow_pickle='TRUE').item()\n",
    "output = output['agents']['0']\n",
    "fba = output['listeners']['fba_results']\n",
    "mass = output['listeners']['mass']\n",
    "bulk = pd.DataFrame(output['bulk'])\n",
    "\n",
    "sim_fluxes = pd.DataFrame(fba[\"estimated_fluxes\"], columns = metabolism.reaction_names)\n",
    "sim_fluxes = pd.DataFrame(sim_fluxes.loc[24, :].abs().sort_values(ascending=False))\n",
    "\n",
    "metabolites_idx = {species: i for i, species in enumerate(metabolism.metabolite_names)}\n",
    "index_to_met = {v: k for k, v in metabolites_idx.items()}\n",
    "\n",
    "reaction_idx = {reaction: i for i, reaction in enumerate(metabolism.reaction_names)}\n",
    "index_to_rxn = {v: k for k, v in reaction_idx.items()}\n",
    "\n",
    "metabolism.catalyst_ids = metabolism.parameters['catalyst_ids']\n",
    "catalyst_idx = {catalyst: i for i, catalyst in enumerate(metabolism.catalyst_ids)}"
   ],
   "metadata": {
    "collapsed": false,
    "ExecuteTime": {
     "end_time": "2023-08-16T22:14:51.641749Z",
     "start_time": "2023-08-16T22:14:43.238530Z"
    }
   }
  },
  {
   "cell_type": "code",
   "execution_count": 254,
   "outputs": [],
   "source": [
    "heatmap_df = pd.read_excel(\"out/new_env_analysis/pathway_heatmap.xlsx\")\n",
    "heatmap_df = heatmap_df[heatmap_df[env_name] != 0]"
   ],
   "metadata": {
    "collapsed": false,
    "ExecuteTime": {
     "end_time": "2023-08-16T22:14:52.316743Z",
     "start_time": "2023-08-16T22:14:51.647040Z"
    }
   }
  },
  {
   "cell_type": "code",
   "execution_count": 255,
   "outputs": [],
   "source": [
    "G = nx.DiGraph()"
   ],
   "metadata": {
    "collapsed": false,
    "ExecuteTime": {
     "end_time": "2023-08-16T22:14:52.334222Z",
     "start_time": "2023-08-16T22:14:52.323572Z"
    }
   }
  },
  {
   "cell_type": "code",
   "execution_count": 277,
   "outputs": [],
   "source": [
    "def find_connecting_reactions(one, two):\n",
    "    one_reactions = []\n",
    "    two_reactions = []\n",
    "    try:\n",
    "        req_str = f\"https://websvc.biocyc.org/getxml?id=ECOLI:{one}&detail=low\"\n",
    "        r = s.get(req_str)\n",
    "        o = xmltodict.parse(r.content)['ptools-xml']['Pathway']['reaction-list']['Reaction']\n",
    "        if type(o) is dict:\n",
    "            o = [o]\n",
    "\n",
    "        for rxn in o:\n",
    "            one_reactions.append(rxn['@frameid'])\n",
    "\n",
    "        req_str = f\"https://websvc.biocyc.org/getxml?id=ECOLI:{two}&detail=low\"\n",
    "        r = s.get(req_str)\n",
    "        o = xmltodict.parse(r.content)['ptools-xml']['Pathway']['reaction-list']['Reaction']\n",
    "        if type(o) is dict:\n",
    "            o = [o]\n",
    "\n",
    "        for rxn in o:\n",
    "            two_reactions.append(rxn['@frameid'])\n",
    "    except Exception:\n",
    "        pass\n",
    "\n",
    "    intersection = set(one_reactions).intersection(set(two_reactions))\n",
    "    print(intersection)"
   ],
   "metadata": {
    "collapsed": false,
    "ExecuteTime": {
     "end_time": "2023-08-16T23:13:44.746521Z",
     "start_time": "2023-08-16T23:13:44.731300Z"
    }
   }
  },
  {
   "cell_type": "code",
   "execution_count": 279,
   "outputs": [
    {
     "name": "stdout",
     "output_type": "stream",
     "text": [
      "set()\n"
     ]
    }
   ],
   "source": [
    "find_connecting_reactions(\"PWY0-1335\", \"PWY-7219\")"
   ],
   "metadata": {
    "collapsed": false,
    "ExecuteTime": {
     "end_time": "2023-08-16T23:13:59.934754Z",
     "start_time": "2023-08-16T23:13:59.482930Z"
    }
   }
  },
  {
   "cell_type": "code",
   "execution_count": 278,
   "outputs": [],
   "source": [
    "def get_pathway_name(pathway):\n",
    "    try:\n",
    "        req_str = f\"https://websvc.biocyc.org/getxml?id=ECOLI:{pathway}&detail=low\"\n",
    "        r = s.get(req_str)\n",
    "        o = xmltodict.parse(r.content)['ptools-xml']['Pathway']['common-name']['#text']\n",
    "        if type(o) is dict:\n",
    "            o = [o]\n",
    "\n",
    "        return o\n",
    "    except KeyError:\n",
    "        pass\n",
    "    except Exception:\n",
    "        pass"
   ],
   "metadata": {
    "collapsed": false,
    "ExecuteTime": {
     "end_time": "2023-08-16T23:13:46.482540Z",
     "start_time": "2023-08-16T23:13:46.475923Z"
    }
   }
  },
  {
   "cell_type": "code",
   "execution_count": 257,
   "outputs": [],
   "source": [
    "# Change K here to select the top k reactions/pathways to plot\n",
    "k = 100\n",
    "heatmap_df.sort_values(by=[env_name], ascending=False, inplace=True)\n",
    "top_increase = [heatmap_df.iloc[i, 1] for i in range(k)]\n",
    "bottom_increase = [heatmap_df.iloc[i, 1] for i in range(-1, -1*k - 1, -1)]\n",
    "\n",
    "if \"Non-zero Values for each environment\" in top_increase:\n",
    "    top_increase.remove(\"Non-zero Values for each environment\")\n",
    "elif \"Non-zero Values for each environment\" in bottom_increase:\n",
    "    bottom_increase.remove(\"Non-zero Values for each environment\")\n",
    "\n",
    "count = 0\n",
    "for pathway in top_increase:\n",
    "    row = heatmap_df[heatmap_df['Pathways'] == pathway].index[0]\n",
    "    flux = heatmap_df[env_name].loc[row]\n",
    "    name = get_pathway_name(pathway)\n",
    "\n",
    "    color = \"green\"\n",
    "    if flux < 0 or abs(flux) < 0.1:\n",
    "        break\n",
    "\n",
    "    G.add_node(count, label=name, size=abs(flux*30), color=color, title=pathway)\n",
    "    count += 1\n",
    "\n",
    "for pathway in bottom_increase:\n",
    "    row = heatmap_df[heatmap_df['Pathways'] == pathway].index[0]\n",
    "    flux = heatmap_df[env_name].loc[row]\n",
    "    name = get_pathway_name(pathway)\n",
    "\n",
    "    color = \"red\"\n",
    "    if flux > 0 or abs(flux) < 0.1:\n",
    "        break\n",
    "\n",
    "    G.add_node(count, label=pathway, size=abs(flux*30), color=color, title=pathway)\n",
    "    count += 1\n"
   ],
   "metadata": {
    "collapsed": false,
    "ExecuteTime": {
     "end_time": "2023-08-16T22:14:59.012437Z",
     "start_time": "2023-08-16T22:14:52.386355Z"
    }
   }
  },
  {
   "cell_type": "code",
   "execution_count": 258,
   "outputs": [
    {
     "name": "stdout",
     "output_type": "stream",
     "text": [
      "{'label': 'NADH to fumarate electron transfer', 'size': 71.2772610480168, 'color': 'green', 'title': 'PWY0-1336'}\n",
      "{'label': 'NADH to dimethyl sulfoxide electron transfer', 'size': 71.2772610480168, 'color': 'green', 'title': 'PWY0-1348'}\n",
      "{'label': 'nitrate reduction III (dissimilatory)', 'size': 61.8855509774106, 'color': 'green', 'title': 'PWY0-1321'}\n",
      "{'label': 'L-alanine degradation I', 'size': 56.269925742461396, 'color': 'green', 'title': 'ALADEG-PWY'}\n",
      "{'label': 'L-aspartate degradation III (anaerobic)', 'size': 38.9882754774837, 'color': 'green', 'title': 'PWY-8294'}\n",
      "{'label': 'UMP biosynthesis I', 'size': 12.63840817311879, 'color': 'green', 'title': 'PWY-5686'}\n",
      "{'label': 'glycolysis II (from fructose 6-phosphate)', 'size': 8.54316559689027, 'color': 'green', 'title': 'PWY-5484'}\n",
      "{'label': 'superpathway of glycolysis, pyruvate dehydrogenase, TCA, and glyoxylate bypass', 'size': 8.15241469630458, 'color': 'green', 'title': 'GLYCOLYSIS-TCA-GLYOX-BYPASS'}\n",
      "{'label': 'glycolysis I (from glucose 6-phosphate)', 'size': 7.2288324281379, 'color': 'green', 'title': 'GLYCOLYSIS'}\n",
      "{'label': 'glycerol degradation V', 'size': 5.74187594311098, 'color': 'green', 'title': 'GLYCEROLMETAB-PWY'}\n",
      "{'label': 'palmitate biosynthesis II (type II fatty acid synthase)', 'size': 5.73620381333175, 'color': 'green', 'title': 'PWY-5971'}\n",
      "{'label': 'PWY0-1335', 'size': 44.2617922591245, 'color': 'red', 'title': 'PWY0-1335'}\n",
      "{'label': 'PWY-6519', 'size': 37.4146384464336, 'color': 'red', 'title': 'PWY-6519'}\n",
      "{'label': 'PWY-5755', 'size': 25.81014019712985, 'color': 'red', 'title': 'PWY-5755'}\n",
      "{'label': 'ASPARTATESYN-PWY', 'size': 20.96667872774646, 'color': 'red', 'title': 'ASPARTATESYN-PWY'}\n",
      "{'label': 'PWY-6890', 'size': 19.445751372008793, 'color': 'red', 'title': 'PWY-6890'}\n",
      "{'label': 'PWY-6894', 'size': 19.445751372008793, 'color': 'red', 'title': 'PWY-6894'}\n",
      "{'label': 'MENAQUINONESYN-PWY', 'size': 18.777288054644792, 'color': 'red', 'title': 'MENAQUINONESYN-PWY'}\n",
      "{'label': 'ACETOACETATE-DEG-PWY', 'size': 18.70731922321689, 'color': 'red', 'title': 'ACETOACETATE-DEG-PWY'}\n",
      "{'label': 'PWY0-1507', 'size': 18.70731922321689, 'color': 'red', 'title': 'PWY0-1507'}\n",
      "{'label': 'PWY0-43', 'size': 17.07570176097936, 'color': 'red', 'title': 'PWY0-43'}\n",
      "{'label': 'PWY-5785', 'size': 16.95500652742509, 'color': 'red', 'title': 'PWY-5785'}\n",
      "{'label': 'PWY-6892', 'size': 16.52189630345277, 'color': 'red', 'title': 'PWY-6892'}\n",
      "{'label': 'PWY-6614', 'size': 13.05687280174458, 'color': 'red', 'title': 'PWY-6614'}\n",
      "{'label': 'PWY-6543', 'size': 13.05687280174458, 'color': 'red', 'title': 'PWY-6543'}\n",
      "{'label': 'PWY-6147', 'size': 13.05687280174458, 'color': 'red', 'title': 'PWY-6147'}\n",
      "{'label': 'PWY-5783', 'size': 12.513699751331309, 'color': 'red', 'title': 'PWY-5783'}\n",
      "{'label': 'PWY-5852', 'size': 12.513699751331309, 'color': 'red', 'title': 'PWY-5852'}\n",
      "{'label': 'HEMESYN2-PWY', 'size': 12.32389660614708, 'color': 'red', 'title': 'HEMESYN2-PWY'}\n",
      "{'label': 'PWY-7220', 'size': 11.69181439176759, 'color': 'red', 'title': 'PWY-7220'}\n",
      "{'label': 'PWY-5123', 'size': 11.67112841629254, 'color': 'red', 'title': 'PWY-5123'}\n",
      "{'label': 'PWY0-1280', 'size': 11.04388633583199, 'color': 'red', 'title': 'PWY0-1280'}\n",
      "{'label': 'PWY-5837', 'size': 10.72602835828398, 'color': 'red', 'title': 'PWY-5837'}\n",
      "{'label': 'RIBOSYN2-PWY', 'size': 10.50688991739423, 'color': 'red', 'title': 'RIBOSYN2-PWY'}\n",
      "{'label': 'GLUTDEG-PWY', 'size': 10.48333936387323, 'color': 'red', 'title': 'GLUTDEG-PWY'}\n",
      "{'label': 'TCA', 'size': 10.2846064911531, 'color': 'red', 'title': 'TCA'}\n",
      "{'label': 'PWY0-1353', 'size': 9.988891674811649, 'color': 'red', 'title': 'PWY0-1353'}\n",
      "{'label': 'PWY0-1329', 'size': 9.988891674811649, 'color': 'red', 'title': 'PWY0-1329'}\n",
      "{'label': 'PWY-5194', 'size': 9.38864402732238, 'color': 'red', 'title': 'PWY-5194'}\n",
      "{'label': 'PWY0-1569', 'size': 9.09653645436471, 'color': 'red', 'title': 'PWY0-1569'}\n",
      "{'label': 'PYRIDOXSYN-PWY', 'size': 8.75818505831154, 'color': 'red', 'title': 'PYRIDOXSYN-PWY'}\n",
      "{'label': 'PWY-7222', 'size': 6.78931522186944, 'color': 'red', 'title': 'PWY-7222'}\n",
      "{'label': 'PWY-6897', 'size': 6.48191712400293, 'color': 'red', 'title': 'PWY-6897'}\n",
      "{'label': 'PWY-5188', 'size': 6.0964412681913895, 'color': 'red', 'title': 'PWY-5188'}\n",
      "{'label': 'PWY-7346', 'size': 5.9712137137995, 'color': 'red', 'title': 'PWY-7346'}\n",
      "{'label': 'PWY-5901', 'size': 4.81468187553459, 'color': 'red', 'title': 'PWY-5901'}\n",
      "{'label': 'HEME-BIOSYNTHESIS-II-1', 'size': 4.69432201366119, 'color': 'red', 'title': 'HEME-BIOSYNTHESIS-II-1'}\n",
      "{'label': 'PWY-6151', 'size': 4.647533268753749, 'color': 'red', 'title': 'PWY-6151'}\n",
      "{'label': 'GLYCOLATEMET-PWY', 'size': 4.0320150157578, 'color': 'red', 'title': 'GLYCOLATEMET-PWY'}\n",
      "{'label': 'PWY-6153', 'size': 3.63861458174586, 'color': 'red', 'title': 'PWY-6153'}\n",
      "{'label': 'NADPHOS-DEPHOS-PWY', 'size': 3.52182518111361, 'color': 'red', 'title': 'NADPHOS-DEPHOS-PWY'}\n",
      "{'label': 'PLPSAL-PWY', 'size': 3.30025969152822, 'color': 'red', 'title': 'PLPSAL-PWY'}\n",
      "{'label': 'PWY-6703', 'size': 3.26421820043613, 'color': 'red', 'title': 'PWY-6703'}\n",
      "{'label': 'PWY0-1433', 'size': 3.26421820043613, 'color': 'red', 'title': 'PWY0-1433'}\n"
     ]
    }
   ],
   "source": [
    "all_nodes = list(G.nodes(data=True))\n",
    "for node in all_nodes:\n",
    "    print(node[1])"
   ],
   "metadata": {
    "collapsed": false,
    "ExecuteTime": {
     "end_time": "2023-08-16T22:14:59.028993Z",
     "start_time": "2023-08-16T22:14:59.018057Z"
    }
   }
  },
  {
   "cell_type": "code",
   "execution_count": 259,
   "outputs": [
    {
     "name": "stdout",
     "output_type": "stream",
     "text": [
      "out/new_env_analysis/pathway_only/Nitrate_as_reduction_target_pathway_100_graph.html\n"
     ]
    },
    {
     "data": {
      "text/plain": "<IPython.lib.display.IFrame at 0x150e57be0>",
      "text/html": "\n        <iframe\n            width=\"1500px\"\n            height=\"1000px\"\n            src=\"out/new_env_analysis/pathway_only/Nitrate_as_reduction_target_pathway_100_graph.html\"\n            frameborder=\"0\"\n            allowfullscreen\n            \n        ></iframe>\n        "
     },
     "execution_count": 259,
     "metadata": {},
     "output_type": "execute_result"
    }
   ],
   "source": [
    "nt = Network('1000px', '1500px', notebook=True, cdn_resources='in_line', directed=True)\n",
    "nt.from_nx(G)\n",
    "\n",
    "nt.show_buttons(filter_=['physics'])\n",
    "nt.show(f'out/new_env_analysis/pathway_only/{env_name}_pathway_{k}_graph.html')"
   ],
   "metadata": {
    "collapsed": false,
    "ExecuteTime": {
     "end_time": "2023-08-16T22:14:59.239306Z",
     "start_time": "2023-08-16T22:14:59.033330Z"
    }
   }
  },
  {
   "cell_type": "code",
   "execution_count": 259,
   "outputs": [],
   "source": [],
   "metadata": {
    "collapsed": false,
    "ExecuteTime": {
     "end_time": "2023-08-16T22:14:59.279971Z",
     "start_time": "2023-08-16T22:14:59.240073Z"
    }
   }
  }
 ],
 "metadata": {
  "kernelspec": {
   "display_name": "Python 3",
   "language": "python",
   "name": "python3"
  },
  "language_info": {
   "codemirror_mode": {
    "name": "ipython",
    "version": 2
   },
   "file_extension": ".py",
   "mimetype": "text/x-python",
   "name": "python",
   "nbconvert_exporter": "python",
   "pygments_lexer": "ipython2",
   "version": "2.7.6"
  }
 },
 "nbformat": 4,
 "nbformat_minor": 0
}
