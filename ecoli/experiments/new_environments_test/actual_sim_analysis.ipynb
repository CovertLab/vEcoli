{
 "cells": [
  {
   "cell_type": "markdown",
   "source": [
    "# Need to install lxml"
   ],
   "metadata": {
    "collapsed": false
   }
  },
  {
   "cell_type": "code",
   "execution_count": 92,
   "id": "8022bfb4-c69b-4cb7-a24c-fec017cc3661",
   "metadata": {
    "ExecuteTime": {
     "end_time": "2023-07-27T17:15:52.197541Z",
     "start_time": "2023-07-27T17:15:52.188326Z"
    }
   },
   "outputs": [],
   "source": [
    "import numpy as np\n",
    "\n",
    "import seaborn as sns\n",
    "import pandas as pd\n",
    "import os\n",
    "\n",
    "os.chdir(os.path.expanduser('~/Documents/vivarium-ecoli'))\n",
    "\n",
    "import matplotlib.pyplot as plt\n",
    "import dill\n",
    "import xmltodict\n",
    "import os\n",
    "import requests\n",
    "from bs4 import BeautifulSoup\n",
    "from ecoli.processes.metabolism_redux import NetworkFlowModel, FlowResult, MetabolismRedux\n",
    "\n",
    "\n",
    "FREE_RXNS = [\"TRANS-RXN-145\", \"TRANS-RXN0-545\", \"TRANS-RXN0-474\"]"
   ]
  },
  {
   "cell_type": "markdown",
   "id": "a143cbbb-3570-4548-bc24-f499c070a880",
   "metadata": {
    "tags": []
   },
   "source": [
    "# Import simulation output\n",
    "\n",
    "Before running this, I ran a sim in ecoli/experiments/new_environments.py with -n 0 to generate a simulation output. This is necessary to replicate the simulation environment, where we e.g. have dynamic demand for amino acids and nucleotides, and varying cell volumes."
   ]
  },
  {
   "cell_type": "code",
   "execution_count": 49,
   "outputs": [],
   "source": [
    "flux_save = pd.DataFrame()\n",
    "\n",
    "condition_df = pd.read_excel(\"ecoli/experiments/new_environments_test/done.xlsx\")\n",
    "condition_df[\"Add\"] = condition_df[\"Add\"].apply(lambda x: set(str(x).split(\", \") if x == x else set()))\n",
    "condition_df[\"Remove\"] = condition_df[\"Remove\"].apply(lambda x: set(str(x).split(\", \") if x == x else set()))\n",
    "condition_df[\"Demand\"] = condition_df[\"Demand\"].apply(lambda x: set(str(x).split(\", \") if x == x else set()))\n",
    "\n",
    "for i in range(len(condition_df)):\n",
    "    time = '50'\n",
    "    date = '2023-07-21'\n",
    "    experiment = 'fba_new_environments'\n",
    "    env_name = f'{condition_df.loc[i, \"Environment\"]}'\n",
    "    entry = f'{experiment}_{env_name}_{time}_{date}'\n",
    "    folder = f'out/fba_new_env/{entry}/'\n",
    "    try:\n",
    "        output = np.load(folder + 'output.npy',allow_pickle='TRUE').item()\n",
    "        # output = np.load(r\"out/geneRxnVerifData/output_glc.npy\", allow_pickle=True, encoding='ASCII').tolist()\n",
    "        output = output['agents']['0']\n",
    "        fba = output['listeners']['fba_results']\n",
    "        mass = output['listeners']['mass']\n",
    "        bulk = pd.DataFrame(output['bulk'])\n",
    "        # this is the model itself - we'll pull e.g. stoichiometry from here.\n",
    "        f = open(folder + 'agent_steps.pkl', 'rb')\n",
    "        agent = dill.load(f)\n",
    "        f.close()\n",
    "\n",
    "        metabolism = agent['ecoli-metabolism-redux']\n",
    "        stoichiometry = metabolism.stoichiometry\n",
    "\n",
    "        # sim_exchanges = pd.DataFrame(fba[\"estimated_exchange_dmdt\"])\n",
    "        # sim_exchanges = pd.DataFrame(sim_exchanges.loc[24, :].abs().sort_values(ascending=False))\n",
    "        # if os.path.exists(f'out/new_env_analysis/{env_name}'):\n",
    "        #     pass\n",
    "        # else:\n",
    "        #     os.mkdir(f'out/new_env_analysis/{env_name}')\n",
    "        # sim_exchanges.to_csv(rf'out/new_env_analysis/{env_name}/sim_exchanges.csv')\n",
    "\n",
    "        sim_fluxes = pd.DataFrame(fba[\"estimated_fluxes\"], columns = metabolism.reaction_names)\n",
    "        sim_fluxes = pd.DataFrame(sim_fluxes.loc[24, :].abs().sort_values(ascending=False))\n",
    "\n",
    "        if i == 0:\n",
    "            flux_save = sim_fluxes\n",
    "        else:\n",
    "            new_col = sim_fluxes.iloc[:,0].to_frame()\n",
    "            flux_save[env_name] = new_col\n",
    "        # sim_fluxes.to_csv(rf'out/new_env_analysis/{env_name}/sim_fluxes.csv')\n",
    "        #\n",
    "        # sim_catalysts = pd.DataFrame(fba[\"reaction_catalyst_counts\"], columns=metabolism.reaction_names)\n",
    "        # sim_catalysts = pd.DataFrame(sim_catalysts.loc[4, :].abs().sort_values(ascending=False))\n",
    "        # sim_catalysts.to_csv(rf'out/new_env_analysis/{env_name}/sim_catalysts.csv')\n",
    "\n",
    "    except FileNotFoundError:\n",
    "        pass"
   ],
   "metadata": {
    "collapsed": false,
    "ExecuteTime": {
     "end_time": "2023-07-24T22:28:49.970745Z",
     "start_time": "2023-07-24T22:24:35.275845Z"
    }
   }
  },
  {
   "cell_type": "code",
   "execution_count": 50,
   "outputs": [],
   "source": [
    "df = pd.DataFrame(flux_save)\n",
    "flux_save.to_csv(rf'out/new_env_analysis/overall_sim_fluxes.csv')"
   ],
   "metadata": {
    "collapsed": false,
    "ExecuteTime": {
     "end_time": "2023-07-24T22:28:50.400495Z",
     "start_time": "2023-07-24T22:28:49.973553Z"
    }
   }
  },
  {
   "cell_type": "markdown",
   "source": [
    "## Analysis on spreadsheet with all fluxes for all environments"
   ],
   "metadata": {
    "collapsed": false
   }
  },
  {
   "cell_type": "code",
   "execution_count": 96,
   "outputs": [],
   "source": [
    "overall_flux = pd.read_excel(\"out/new_env_analysis/overall_sim_fluxes.xlsx\")\n",
    "# print(overall_flux.head())"
   ],
   "metadata": {
    "collapsed": false,
    "ExecuteTime": {
     "end_time": "2023-07-27T18:58:24.157493Z",
     "start_time": "2023-07-27T18:58:13.572628Z"
    }
   }
  },
  {
   "cell_type": "code",
   "execution_count": 97,
   "outputs": [],
   "source": [
    "array = overall_flux.to_numpy()\n",
    "\n",
    "for row in array:\n",
    "    for i in range(len(row)):\n",
    "        if i == 0 or i == len(row) - 1:\n",
    "            continue\n",
    "        else:\n",
    "            row[i] = (row[i] - row[len(row) - 1])"
   ],
   "metadata": {
    "collapsed": false,
    "ExecuteTime": {
     "end_time": "2023-07-27T19:01:32.932860Z",
     "start_time": "2023-07-27T19:01:32.215674Z"
    }
   }
  },
  {
   "cell_type": "code",
   "execution_count": 99,
   "outputs": [],
   "source": [
    "data = array[:,1:]\n",
    "\n",
    "reactions = list(array[:,0])\n",
    "environments = list(overall_flux.columns)[1:]\n",
    "\n",
    "heatmap_df = pd.DataFrame(data, index=reactions, columns=environments)\n",
    "for env in environments:\n",
    "    heatmap_df[env] = heatmap_df[env].astype(float)\n",
    "\n",
    "heatmap_df.to_csv(rf'out/new_env_analysis/absolute_heatmap.csv')\n",
    "\n",
    "# heatmap_df = pd.read_excel(\"out/new_env_analysis/absolute_heatmap.xlsx\")"
   ],
   "metadata": {
    "collapsed": false,
    "ExecuteTime": {
     "end_time": "2023-07-27T19:01:47.214970Z",
     "start_time": "2023-07-27T19:01:45.693285Z"
    }
   }
  },
  {
   "cell_type": "code",
   "execution_count": 54,
   "outputs": [],
   "source": [
    "# plt.figure(figsize=(125, 125))\n",
    "# sns.set(font_scale=0.5)\n",
    "#\n",
    "# svm = sns.heatmap(heatmap_df, annot=True, fmt=\".2f\", linewidths=.5, cmap=\"YlGnBu\")\n",
    "#\n",
    "# plt.xlabel(\"Environment\")\n",
    "# plt.ylabel(\"Reaction\")\n",
    "# figure = svm.get_figure()\n",
    "# figure.savefig('out/new_env_analysis/heatmap.png', dpi=400)"
   ],
   "metadata": {
    "collapsed": false,
    "ExecuteTime": {
     "end_time": "2023-07-24T22:29:04.877183Z",
     "start_time": "2023-07-24T22:29:04.823865Z"
    }
   }
  },
  {
   "cell_type": "code",
   "execution_count": 33,
   "outputs": [
    {
     "data": {
      "text/plain": "<Response [200]>"
     },
     "execution_count": 33,
     "metadata": {},
     "output_type": "execute_result"
    }
   ],
   "source": [
    "s = requests.Session() # create session\n",
    "# Post login credentials to session:\n",
    "s.post('https://websvc.biocyc.org/credentials/login/', data={'email':'cellulararchitect@protonmail.com', 'password':'Cellman0451'})"
   ],
   "metadata": {
    "collapsed": false,
    "ExecuteTime": {
     "end_time": "2023-07-26T17:20:58.359195Z",
     "start_time": "2023-07-26T17:20:57.655880Z"
    }
   }
  },
  {
   "cell_type": "code",
   "execution_count": 11,
   "outputs": [
    {
     "name": "stdout",
     "output_type": "stream",
     "text": [
      "['BRANCHED-CHAINAMINOTRANSFERLEU-RXN (reverse)', 'BRANCHED-CHAINAMINOTRANSFERLEU-RXN__BRANCHED-CHAINAMINOTRANSFER-CPLX', 'BRANCHED-CHAINAMINOTRANSFERLEU-RXN']\n",
      "KeyError\n",
      "KeyError\n",
      "KeyError\n",
      "[]\n",
      "[]\n",
      "[]\n",
      "['TRANS-RXN-126B']\n",
      "KeyError\n",
      "['TRANS-RXN0-270']\n",
      "KeyError\n",
      "['RXN0-6979']\n",
      "KeyError\n",
      "['ABC-35-RXN']\n",
      "KeyError\n"
     ]
    }
   ],
   "source": [
    "function = \"reactions-of-compound\"\n",
    "name = \"LEU\"\n",
    "env = \"Hydrogen_fumarate_-O2_Glc\"\n",
    "req_str = f\"https://websvc.biocyc.org/apixml?fn={function}&id=ECOLI:{name}&detail=none&fmt=json\"\n",
    "\n",
    "r = s.get(req_str)\n",
    "o = xmltodict.parse(r.content)['ptools-xml']['Reaction']\n",
    "if type(o) is dict:\n",
    "    o = [o]\n",
    "for rxn in o:\n",
    "    if type(rxn) is not str:\n",
    "        to_check = []\n",
    "        for reaction in reactions:\n",
    "            if rxn['@frameid'] in reaction:\n",
    "                to_check.append(reaction)\n",
    "        for reaction in to_check:\n",
    "            try:\n",
    "                if heatmap_df.loc[reaction, env] != 0:\n",
    "                    print(str(heatmap_df.loc[reaction, env]) + f\" {reaction}\")\n",
    "            except KeyError:\n",
    "                print(\"KeyError\")"
   ],
   "metadata": {
    "collapsed": false,
    "ExecuteTime": {
     "end_time": "2023-07-25T22:14:08.830750Z",
     "start_time": "2023-07-25T22:14:08.730099Z"
    }
   }
  },
  {
   "cell_type": "markdown",
   "source": [
    "## Tool to create graphs of upstream metabolites"
   ],
   "metadata": {
    "collapsed": false
   }
  },
  {
   "cell_type": "code",
   "execution_count": 94,
   "outputs": [],
   "source": [
    "time = '50'\n",
    "date = '2023-07-21'\n",
    "experiment = 'fba_new_environments'\n",
    "# Change the environment name here\n",
    "env_name = 'Hydrogen_fumarate_-O2_Glc'\n",
    "entry = f'{experiment}_{env_name}_{time}_{date}'\n",
    "folder = f'out/fba_new_env/{entry}/'\n",
    "\n",
    "f = open(folder + 'agent_steps.pkl', 'rb')\n",
    "agent = dill.load(f)\n",
    "f.close()\n",
    "\n",
    "metabolism = agent['ecoli-metabolism-redux']\n",
    "stoichiometry = metabolism.stoichiometry\n",
    "\n",
    "output = np.load(folder + 'output.npy',allow_pickle='TRUE').item()\n",
    "output = output['agents']['0']\n",
    "fba = output['listeners']['fba_results']\n",
    "mass = output['listeners']['mass']\n",
    "bulk = pd.DataFrame(output['bulk'])\n",
    "\n",
    "sim_fluxes = pd.DataFrame(fba[\"estimated_fluxes\"], columns = metabolism.reaction_names)\n",
    "sim_fluxes = pd.DataFrame(sim_fluxes.loc[24, :].abs().sort_values(ascending=False))\n",
    "\n",
    "metabolites_idx = {species: i for i, species in enumerate(metabolism.metabolite_names)}\n",
    "reaction_catalysts = metabolism.parameters['reaction_catalysts']\n",
    "metabolism.catalyst_ids = metabolism.parameters['catalyst_ids']\n",
    "catalyst_idx = {catalyst: i for i, catalyst in enumerate(metabolism.catalyst_ids)}"
   ],
   "metadata": {
    "collapsed": false,
    "ExecuteTime": {
     "end_time": "2023-07-27T17:17:50.480718Z",
     "start_time": "2023-07-27T17:17:44.659483Z"
    }
   }
  },
  {
   "cell_type": "code",
   "execution_count": 75,
   "outputs": [],
   "source": [
    "class Node:\n",
    "    def __init__(self, val, order):\n",
    "        self.val = val\n",
    "        self.nodes = []\n",
    "        self.order = order\n",
    "\n",
    "    def add_node(self, val, order):\n",
    "        self.nodes.append(Node(val, order))\n",
    "\n",
    "    def __repr__(self, level=0):\n",
    "        ret = \"\\t\"*level+repr(self.val)+\"\\n\"\n",
    "        for child in self.nodes:\n",
    "            ret += child.__repr__(level+1)\n",
    "        return ret"
   ],
   "metadata": {
    "collapsed": false,
    "ExecuteTime": {
     "end_time": "2023-07-26T18:47:24.200051Z",
     "start_time": "2023-07-26T18:47:24.173216Z"
    }
   }
  },
  {
   "cell_type": "code",
   "execution_count": 88,
   "outputs": [],
   "source": [
    "index_to_met = {v: k for k, v in metabolites_idx.items()}\n",
    "met_length = len(metabolism.metabolite_names)\n",
    "reaction_length = np.shape(stoichiometry)[1]\n",
    "met_not_include = [\"ATP[c]\", \"WATER[c]\", \"PROTON[p]\", \"Pi[c]\"]\n",
    "do_not_include = []\n",
    "\n",
    "for met in met_not_include:\n",
    "    do_not_include.append(metabolites_idx[met])\n",
    "\n",
    "def find_upstream_metabolites(metabolite):\n",
    "    to_return = []\n",
    "    index = metabolites_idx[metabolite]\n",
    "    for k in range(reaction_length):\n",
    "        if stoichiometry[index, k] > 0:\n",
    "            for l in range(met_length):\n",
    "                if stoichiometry[l, k] < 0:\n",
    "                    if l != index and l not in do_not_include and index_to_met[l] not in to_return:\n",
    "                        to_return.append(index_to_met[l])\n",
    "    return to_return"
   ],
   "metadata": {
    "collapsed": false,
    "ExecuteTime": {
     "end_time": "2023-07-26T18:57:12.910710Z",
     "start_time": "2023-07-26T18:57:12.902344Z"
    }
   }
  },
  {
   "cell_type": "code",
   "execution_count": 90,
   "outputs": [
    {
     "name": "stdout",
     "output_type": "stream",
     "text": [
      "'LEU[c]'\n",
      "\t'LEU[p]'\n",
      "\t\t'LEU[c]'\n",
      "\t\t'LEU[e]'\n",
      "\t'2K-4CH3-PENTANOATE[c]'\n",
      "\t\t'2-KETOGLUTARATE[c]'\n",
      "\t\t'LEU[c]'\n",
      "\t\t'2-D-THREO-HYDROXY-3-CARBOXY-ISOCAPROATE[c]'\n",
      "\t\t'NAD[c]'\n",
      "\t\t'CPD-7100[c]'\n",
      "\t\t'PROTON[c]'\n",
      "\t'GLT[c]'\n",
      "\t\t'2-KETOGLUTARATE[c]'\n",
      "\t\t'Aromatic-Amino-Acids[c]'\n",
      "\t\t'PUTRESCINE[c]'\n",
      "\t\t'5-OXOPROLINE[c]'\n",
      "\t\t'GLT[p]'\n",
      "\t\t'L-ALPHA-ALANINE[c]'\n",
      "\t\t'CHORISMATE[c]'\n",
      "\t\t'GLN[c]'\n",
      "\t\t'L-ASPARTATE[c]'\n",
      "\t\t'ILE[c]'\n",
      "\t\t'LEU[c]'\n",
      "\t\t'VAL[c]'\n",
      "\t\t'HCO3[c]'\n",
      "\t\t'UTP[c]'\n",
      "\t\t'CYS[c]'\n",
      "\t\t'5-P-RIBOSYL-N-FORMYLGLYCINEAMIDE[c]'\n",
      "\t\t'4-AMINO-BUTYRATE[c]'\n",
      "\t\t'NADPH[c]'\n",
      "\t\t'PROTON[c]'\n",
      "\t\t'PHOSPHORIBULOSYL-FORMIMINO-AICAR-P[c]'\n",
      "\t\t'AMMONIUM[c]'\n",
      "\t\t'D-GLT[c]'\n",
      "\t\t'XANTHOSINE-5-PHOSPHATE[c]'\n",
      "\t\t'L-HISTIDINOL-P[c]'\n",
      "\t\t'FRUCTOSE-6P[c]'\n",
      "\t\t'ACETYL-GLU[c]'\n",
      "\t\t'CO-A[c]'\n",
      "\t\t'DEAMIDO-NAD[c]'\n",
      "\t\t'PRPP[c]'\n",
      "\t\t'3-P-SERINE[c]'\n",
      "\t\t'4-PHOSPHONOOXY-THREONINE[c]'\n",
      "\t\t'L-DELTA1-PYRROLINE_5-CARBOXYLATE[c]'\n",
      "\t\t'NAD[c]'\n",
      "\t\t'MET[c]'\n",
      "\t\t'PHE[c]'\n",
      "\t\t'L-GLUTAMATE_GAMMA-SEMIALDEHYDE[c]'\n",
      "\t\t'CPD-14736[c]'\n",
      "\t\t'UDP-4-AMINO-4-DEOXY-L-ARABINOSE[c]'\n",
      "\t\t'CPD-9000[c]'\n",
      "\t\t'CPD0-889[c]'\n",
      "\t\t'CPD0-1445[c]'\n",
      "\t\t'CPD-3569[c]'\n",
      "\t\t'N2-SUCCINYLGLUTAMATE[c]'\n",
      "\t\t'N2-SUCCINYLORNITHINE[c]'\n",
      "\t\t'NA+[p]'\n",
      "\t\t'TYR[c]'\n",
      "\t\t'5-AMINOPENTANOATE[c]'\n",
      "\t'CPD-13398[c]'\n",
      "\t\t'CPD-13398[p]'\n",
      "\t'NA+[p]'\n",
      "\t\t'NA+[c]'\n",
      "\t\t'NA+[e]'\n",
      "\n"
     ]
    }
   ],
   "source": [
    "metabolite = \"LEU[c]\"\n",
    "\n",
    "root = Node(metabolite, 0)\n",
    "for i in range(2):\n",
    "    if i == 0:\n",
    "        for met in find_upstream_metabolites(metabolite):\n",
    "            root.add_node(met, 1)\n",
    "    else:\n",
    "        for j in range(len(root.nodes)):\n",
    "            for met in find_upstream_metabolites(root.nodes[j].val):\n",
    "                if met not in root.nodes[j].nodes:\n",
    "                    root.nodes[j].add_node(met, 2)\n",
    "\n",
    "print(root)\n"
   ],
   "metadata": {
    "collapsed": false,
    "ExecuteTime": {
     "end_time": "2023-07-26T23:14:41.070621Z",
     "start_time": "2023-07-26T23:14:38.876655Z"
    }
   }
  },
  {
   "cell_type": "markdown",
   "source": [
    "## Pathway visualization of changing fluxes"
   ],
   "metadata": {
    "collapsed": false
   }
  },
  {
   "cell_type": "code",
   "execution_count": 95,
   "outputs": [
    {
     "name": "stdout",
     "output_type": "stream",
     "text": [
      "                                                            24\n",
      "R601-RXN-FUM/REDUCED-MENAQUINONE//SUC/CPD-9728.38.  20133261.0\n",
      "RXN0-5256-CPD-9728/PROTON/HYDROGEN-MOLECULE//RE...  20101063.0\n",
      "TRANS-RXN-106                                       20033460.0\n",
      "TRANS-RXN-145                                       10477226.0\n",
      "ATPSYN-RXN (reverse)                                 9599983.0\n",
      "...                                                        ...\n",
      "RXN-21538                                                  0.0\n",
      "RXN-21533-CPD-23688/ATP//CPD-23428/ADP/PROTON.36.          0.0\n",
      "RXN-21533-CPD-23431/ATP//CPD-23690/ADP/PROTON.36.          0.0\n",
      "RXN-21533-CPD-23431/ATP//CPD-23428/ADP/PROTON.36.          0.0\n",
      "RXN0-7200-NMNH//NMNH.11. (reverse)                         0.0\n",
      "\n",
      "[7504 rows x 1 columns]\n"
     ]
    }
   ],
   "source": [],
   "metadata": {
    "collapsed": false,
    "ExecuteTime": {
     "end_time": "2023-07-27T17:17:53.121382Z",
     "start_time": "2023-07-27T17:17:53.109559Z"
    }
   }
  },
  {
   "cell_type": "code",
   "execution_count": null,
   "outputs": [],
   "source": [],
   "metadata": {
    "collapsed": false
   }
  }
 ],
 "metadata": {
  "kernelspec": {
   "display_name": "Python 3 (ipykernel)",
   "language": "python",
   "name": "python3"
  },
  "language_info": {
   "codemirror_mode": {
    "name": "ipython",
    "version": 3
   },
   "file_extension": ".py",
   "mimetype": "text/x-python",
   "name": "python",
   "nbconvert_exporter": "python",
   "pygments_lexer": "ipython3",
   "version": "3.9.9"
  }
 },
 "nbformat": 4,
 "nbformat_minor": 5
}
