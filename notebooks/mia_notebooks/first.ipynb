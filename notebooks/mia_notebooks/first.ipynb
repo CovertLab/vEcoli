{
 "cells": [
  {
   "cell_type": "code",
   "id": "initial_id",
   "metadata": {
    "collapsed": true,
    "ExecuteTime": {
     "end_time": "2024-07-09T15:47:56.323714Z",
     "start_time": "2024-07-09T15:47:56.321368Z"
    }
   },
   "source": [
    "import polars as pl\n",
    "import numpy as np\n",
    "import os\n",
    "import json\n",
    "os.chdir(os.path.expanduser('~/vEcoli'))\n",
    "from matplotlib import pyplot as plt\n",
    "import pandas as pd\n",
    "import seaborn as sns\n",
    "from scipy.sparse import csr_matrix"
   ],
   "outputs": [],
   "execution_count": 16
  },
  {
   "cell_type": "markdown",
   "source": "# LB Media Data",
   "metadata": {
    "collapsed": false
   },
   "id": "379d22a18dab361d"
  },
  {
   "metadata": {},
   "cell_type": "markdown",
   "source": [
    "## Ground truth data from Outten & O'Halloran, Science, 2001 (https://pubmed.ncbi.nlm.nih.gov/11397910/)\n",
    "\n",
    "Media type: LB media\n",
    "\n",
    "Bacterial species: I think based on the 1999 paper they published, it is E. coli strain DH5a\n",
    "\n",
    "Units used in calculations: Atoms/cell\n",
    "\n",
    "QUESTIONS/ISSUES: need to confirm if this is the correct strain of E. coli\n"
   ],
   "id": "bd2672f4a8d56be5"
  },
  {
   "cell_type": "code",
   "source": [
    "# load in the \"ground truth\" data that cyrus collected from Outten & O'Halloran, Science, 2001 (https://pubmed.ncbi.nlm.nih.gov/11397910/): \n",
    "GT_data = pd.read_csv(\"notebooks/mia_notebooks/cofactor_ground_truth_data_from_cyrus_for_mia.csv\")\n",
    "GT_data\n",
    "# TODO: why is the log_concentration negative here?"
   ],
   "metadata": {
    "collapsed": false,
    "ExecuteTime": {
     "end_time": "2024-07-09T15:47:58.931226Z",
     "start_time": "2024-07-09T15:47:58.914563Z"
    }
   },
   "id": "527b569610f77447",
   "outputs": [
    {
     "data": {
      "text/plain": [
       "   Condition  Below_LOD  Cell Element    Distance  ScaleDist  ScaleCounts  \\\n",
       "0    Minimal          0     1      MO  138.225817     354.00      9.08603   \n",
       "1    Minimal          0     1      ZN  205.106947     354.00      9.08603   \n",
       "2    Minimal          0     1      CU  149.815832     354.00      9.08603   \n",
       "3    Minimal          1     1      NI  137.331179     354.00      9.08603   \n",
       "4    Minimal          1     1      CO  103.448109     354.00      9.08603   \n",
       "5    Minimal          0     1      FE  203.321486     354.00      9.08603   \n",
       "6    Minimal          0     1      MN  135.088853     354.00      9.08603   \n",
       "7    Minimal          0     1      CR  122.171244     354.00      9.08603   \n",
       "8    Minimal          0     1       V  113.253635     354.00      9.08603   \n",
       "9       Rich          0     1      MO  146.248788     353.14      9.30606   \n",
       "10      Rich          0     1      ZN  207.787945     353.14      9.30606   \n",
       "11      Rich          0     1      CU  181.919225     353.14      9.30606   \n",
       "12      Rich          1     1      NI  125.738288     353.14      9.30606   \n",
       "13      Rich          1     1      CO   91.851373     353.14      9.30606   \n",
       "14      Rich          0     1      FE  214.914378     353.14      9.30606   \n",
       "15      Rich          0     1      MN  171.220416     353.14      9.30606   \n",
       "16      Rich          0     1      CR  126.630048     353.14      9.30606   \n",
       "17      Rich          0     1       V   82.042003     353.14      9.30606   \n",
       "\n",
       "            Error  Log_concentration  Concentration_(M)     Atoms/cell  \n",
       "0     1000.000000          -5.485784       3.267501e-06    3983.324414  \n",
       "1    55212.922173          -3.785417       1.639017e-04  199808.236064  \n",
       "2     1000.000000          -5.191123       6.439870e-06    7850.676467  \n",
       "3     1000.000000          -5.508529       3.100778e-06    3780.077086  \n",
       "4     1000.000000          -6.369963       4.266155e-07     520.075813  \n",
       "5    24669.603524          -3.830810       1.476353e-04  179978.374255  \n",
       "6     1000.000000          -5.565538       2.719333e-06    3315.067378  \n",
       "7     1000.000000          -5.893951       1.276582e-06    1556.247155  \n",
       "8     1000.000000          -6.120670       7.574077e-07     923.335846  \n",
       "9     1000.000000          -5.272756       5.336351e-06   10797.032626  \n",
       "10   88105.726872          -3.704391       1.975192e-04  399640.415582  \n",
       "11   29368.575624          -4.363672       4.328410e-05   87576.668290  \n",
       "12    1000.000000          -5.795479       1.601479e-06    3240.269333  \n",
       "13    1000.000000          -6.659109       2.192256e-07     443.558908  \n",
       "14  128046.989721          -3.522769       3.000759e-04  607143.184501  \n",
       "15   12922.173275          -4.636338       2.310268e-05   46743.626407  \n",
       "16    1000.000000          -5.772752       1.687517e-06    3414.351358  \n",
       "17    1000.000000          -6.909107       1.232802e-07     249.432594  "
      ],
      "text/html": [
       "<div>\n",
       "<style scoped>\n",
       "    .dataframe tbody tr th:only-of-type {\n",
       "        vertical-align: middle;\n",
       "    }\n",
       "\n",
       "    .dataframe tbody tr th {\n",
       "        vertical-align: top;\n",
       "    }\n",
       "\n",
       "    .dataframe thead th {\n",
       "        text-align: right;\n",
       "    }\n",
       "</style>\n",
       "<table border=\"1\" class=\"dataframe\">\n",
       "  <thead>\n",
       "    <tr style=\"text-align: right;\">\n",
       "      <th></th>\n",
       "      <th>Condition</th>\n",
       "      <th>Below_LOD</th>\n",
       "      <th>Cell</th>\n",
       "      <th>Element</th>\n",
       "      <th>Distance</th>\n",
       "      <th>ScaleDist</th>\n",
       "      <th>ScaleCounts</th>\n",
       "      <th>Error</th>\n",
       "      <th>Log_concentration</th>\n",
       "      <th>Concentration_(M)</th>\n",
       "      <th>Atoms/cell</th>\n",
       "    </tr>\n",
       "  </thead>\n",
       "  <tbody>\n",
       "    <tr>\n",
       "      <th>0</th>\n",
       "      <td>Minimal</td>\n",
       "      <td>0</td>\n",
       "      <td>1</td>\n",
       "      <td>MO</td>\n",
       "      <td>138.225817</td>\n",
       "      <td>354.00</td>\n",
       "      <td>9.08603</td>\n",
       "      <td>1000.000000</td>\n",
       "      <td>-5.485784</td>\n",
       "      <td>3.267501e-06</td>\n",
       "      <td>3983.324414</td>\n",
       "    </tr>\n",
       "    <tr>\n",
       "      <th>1</th>\n",
       "      <td>Minimal</td>\n",
       "      <td>0</td>\n",
       "      <td>1</td>\n",
       "      <td>ZN</td>\n",
       "      <td>205.106947</td>\n",
       "      <td>354.00</td>\n",
       "      <td>9.08603</td>\n",
       "      <td>55212.922173</td>\n",
       "      <td>-3.785417</td>\n",
       "      <td>1.639017e-04</td>\n",
       "      <td>199808.236064</td>\n",
       "    </tr>\n",
       "    <tr>\n",
       "      <th>2</th>\n",
       "      <td>Minimal</td>\n",
       "      <td>0</td>\n",
       "      <td>1</td>\n",
       "      <td>CU</td>\n",
       "      <td>149.815832</td>\n",
       "      <td>354.00</td>\n",
       "      <td>9.08603</td>\n",
       "      <td>1000.000000</td>\n",
       "      <td>-5.191123</td>\n",
       "      <td>6.439870e-06</td>\n",
       "      <td>7850.676467</td>\n",
       "    </tr>\n",
       "    <tr>\n",
       "      <th>3</th>\n",
       "      <td>Minimal</td>\n",
       "      <td>1</td>\n",
       "      <td>1</td>\n",
       "      <td>NI</td>\n",
       "      <td>137.331179</td>\n",
       "      <td>354.00</td>\n",
       "      <td>9.08603</td>\n",
       "      <td>1000.000000</td>\n",
       "      <td>-5.508529</td>\n",
       "      <td>3.100778e-06</td>\n",
       "      <td>3780.077086</td>\n",
       "    </tr>\n",
       "    <tr>\n",
       "      <th>4</th>\n",
       "      <td>Minimal</td>\n",
       "      <td>1</td>\n",
       "      <td>1</td>\n",
       "      <td>CO</td>\n",
       "      <td>103.448109</td>\n",
       "      <td>354.00</td>\n",
       "      <td>9.08603</td>\n",
       "      <td>1000.000000</td>\n",
       "      <td>-6.369963</td>\n",
       "      <td>4.266155e-07</td>\n",
       "      <td>520.075813</td>\n",
       "    </tr>\n",
       "    <tr>\n",
       "      <th>5</th>\n",
       "      <td>Minimal</td>\n",
       "      <td>0</td>\n",
       "      <td>1</td>\n",
       "      <td>FE</td>\n",
       "      <td>203.321486</td>\n",
       "      <td>354.00</td>\n",
       "      <td>9.08603</td>\n",
       "      <td>24669.603524</td>\n",
       "      <td>-3.830810</td>\n",
       "      <td>1.476353e-04</td>\n",
       "      <td>179978.374255</td>\n",
       "    </tr>\n",
       "    <tr>\n",
       "      <th>6</th>\n",
       "      <td>Minimal</td>\n",
       "      <td>0</td>\n",
       "      <td>1</td>\n",
       "      <td>MN</td>\n",
       "      <td>135.088853</td>\n",
       "      <td>354.00</td>\n",
       "      <td>9.08603</td>\n",
       "      <td>1000.000000</td>\n",
       "      <td>-5.565538</td>\n",
       "      <td>2.719333e-06</td>\n",
       "      <td>3315.067378</td>\n",
       "    </tr>\n",
       "    <tr>\n",
       "      <th>7</th>\n",
       "      <td>Minimal</td>\n",
       "      <td>0</td>\n",
       "      <td>1</td>\n",
       "      <td>CR</td>\n",
       "      <td>122.171244</td>\n",
       "      <td>354.00</td>\n",
       "      <td>9.08603</td>\n",
       "      <td>1000.000000</td>\n",
       "      <td>-5.893951</td>\n",
       "      <td>1.276582e-06</td>\n",
       "      <td>1556.247155</td>\n",
       "    </tr>\n",
       "    <tr>\n",
       "      <th>8</th>\n",
       "      <td>Minimal</td>\n",
       "      <td>0</td>\n",
       "      <td>1</td>\n",
       "      <td>V</td>\n",
       "      <td>113.253635</td>\n",
       "      <td>354.00</td>\n",
       "      <td>9.08603</td>\n",
       "      <td>1000.000000</td>\n",
       "      <td>-6.120670</td>\n",
       "      <td>7.574077e-07</td>\n",
       "      <td>923.335846</td>\n",
       "    </tr>\n",
       "    <tr>\n",
       "      <th>9</th>\n",
       "      <td>Rich</td>\n",
       "      <td>0</td>\n",
       "      <td>1</td>\n",
       "      <td>MO</td>\n",
       "      <td>146.248788</td>\n",
       "      <td>353.14</td>\n",
       "      <td>9.30606</td>\n",
       "      <td>1000.000000</td>\n",
       "      <td>-5.272756</td>\n",
       "      <td>5.336351e-06</td>\n",
       "      <td>10797.032626</td>\n",
       "    </tr>\n",
       "    <tr>\n",
       "      <th>10</th>\n",
       "      <td>Rich</td>\n",
       "      <td>0</td>\n",
       "      <td>1</td>\n",
       "      <td>ZN</td>\n",
       "      <td>207.787945</td>\n",
       "      <td>353.14</td>\n",
       "      <td>9.30606</td>\n",
       "      <td>88105.726872</td>\n",
       "      <td>-3.704391</td>\n",
       "      <td>1.975192e-04</td>\n",
       "      <td>399640.415582</td>\n",
       "    </tr>\n",
       "    <tr>\n",
       "      <th>11</th>\n",
       "      <td>Rich</td>\n",
       "      <td>0</td>\n",
       "      <td>1</td>\n",
       "      <td>CU</td>\n",
       "      <td>181.919225</td>\n",
       "      <td>353.14</td>\n",
       "      <td>9.30606</td>\n",
       "      <td>29368.575624</td>\n",
       "      <td>-4.363672</td>\n",
       "      <td>4.328410e-05</td>\n",
       "      <td>87576.668290</td>\n",
       "    </tr>\n",
       "    <tr>\n",
       "      <th>12</th>\n",
       "      <td>Rich</td>\n",
       "      <td>1</td>\n",
       "      <td>1</td>\n",
       "      <td>NI</td>\n",
       "      <td>125.738288</td>\n",
       "      <td>353.14</td>\n",
       "      <td>9.30606</td>\n",
       "      <td>1000.000000</td>\n",
       "      <td>-5.795479</td>\n",
       "      <td>1.601479e-06</td>\n",
       "      <td>3240.269333</td>\n",
       "    </tr>\n",
       "    <tr>\n",
       "      <th>13</th>\n",
       "      <td>Rich</td>\n",
       "      <td>1</td>\n",
       "      <td>1</td>\n",
       "      <td>CO</td>\n",
       "      <td>91.851373</td>\n",
       "      <td>353.14</td>\n",
       "      <td>9.30606</td>\n",
       "      <td>1000.000000</td>\n",
       "      <td>-6.659109</td>\n",
       "      <td>2.192256e-07</td>\n",
       "      <td>443.558908</td>\n",
       "    </tr>\n",
       "    <tr>\n",
       "      <th>14</th>\n",
       "      <td>Rich</td>\n",
       "      <td>0</td>\n",
       "      <td>1</td>\n",
       "      <td>FE</td>\n",
       "      <td>214.914378</td>\n",
       "      <td>353.14</td>\n",
       "      <td>9.30606</td>\n",
       "      <td>128046.989721</td>\n",
       "      <td>-3.522769</td>\n",
       "      <td>3.000759e-04</td>\n",
       "      <td>607143.184501</td>\n",
       "    </tr>\n",
       "    <tr>\n",
       "      <th>15</th>\n",
       "      <td>Rich</td>\n",
       "      <td>0</td>\n",
       "      <td>1</td>\n",
       "      <td>MN</td>\n",
       "      <td>171.220416</td>\n",
       "      <td>353.14</td>\n",
       "      <td>9.30606</td>\n",
       "      <td>12922.173275</td>\n",
       "      <td>-4.636338</td>\n",
       "      <td>2.310268e-05</td>\n",
       "      <td>46743.626407</td>\n",
       "    </tr>\n",
       "    <tr>\n",
       "      <th>16</th>\n",
       "      <td>Rich</td>\n",
       "      <td>0</td>\n",
       "      <td>1</td>\n",
       "      <td>CR</td>\n",
       "      <td>126.630048</td>\n",
       "      <td>353.14</td>\n",
       "      <td>9.30606</td>\n",
       "      <td>1000.000000</td>\n",
       "      <td>-5.772752</td>\n",
       "      <td>1.687517e-06</td>\n",
       "      <td>3414.351358</td>\n",
       "    </tr>\n",
       "    <tr>\n",
       "      <th>17</th>\n",
       "      <td>Rich</td>\n",
       "      <td>0</td>\n",
       "      <td>1</td>\n",
       "      <td>V</td>\n",
       "      <td>82.042003</td>\n",
       "      <td>353.14</td>\n",
       "      <td>9.30606</td>\n",
       "      <td>1000.000000</td>\n",
       "      <td>-6.909107</td>\n",
       "      <td>1.232802e-07</td>\n",
       "      <td>249.432594</td>\n",
       "    </tr>\n",
       "  </tbody>\n",
       "</table>\n",
       "</div>"
      ]
     },
     "execution_count": 18,
     "metadata": {},
     "output_type": "execute_result"
    }
   ],
   "execution_count": 18
  },
  {
   "cell_type": "code",
   "source": [
    "# LB media data from GT data: \n",
    "GT_lb_data = GT_data[9:]\n",
    "GT_lb_df = pl.DataFrame(GT_lb_data[[\"Element\",\"Atoms/cell\"]])\n",
    "GT_lb_df = GT_lb_df.with_columns(pl.col(\"Atoms/cell\").log10().alias(\"GT_lb_log_APC\"))\n",
    "\n",
    "# replace the element names with the column names for merging later:\n",
    "col_names = [\"Mo\", \"Zn\", \"Cu\", \"Ni\", \"Co\", \"Fe\", \"Mn\", \"Cr\", \"V\"]\n",
    "GT_lb_df = GT_lb_df.with_columns(pl.col(\"Element\").replace(pl.col(\"Element\"), col_names).alias(\"Element\"))\n",
    "GT_lb_df"
   ],
   "metadata": {
    "collapsed": false,
    "ExecuteTime": {
     "end_time": "2024-07-09T15:49:13.257710Z",
     "start_time": "2024-07-09T15:49:13.223845Z"
    }
   },
   "id": "40160e9605757f66",
   "outputs": [
    {
     "data": {
      "text/plain": [
       "shape: (9, 3)\n",
       "┌─────────┬───────────────┬───────────────┐\n",
       "│ Element ┆ Atoms/cell    ┆ GT_lb_log_APC │\n",
       "│ ---     ┆ ---           ┆ ---           │\n",
       "│ str     ┆ f64           ┆ f64           │\n",
       "╞═════════╪═══════════════╪═══════════════╡\n",
       "│ Mo      ┆ 10797.032626  ┆ 4.033304      │\n",
       "│ Zn      ┆ 399640.415582 ┆ 5.601669      │\n",
       "│ Cu      ┆ 87576.66829   ┆ 4.942388      │\n",
       "│ Ni      ┆ 3240.269333   ┆ 3.510581      │\n",
       "│ Co      ┆ 443.558908    ┆ 2.646951      │\n",
       "│ Fe      ┆ 607143.184501 ┆ 5.783291      │\n",
       "│ Mn      ┆ 46743.626407  ┆ 4.669722      │\n",
       "│ Cr      ┆ 3414.351358   ┆ 3.533308      │\n",
       "│ V       ┆ 249.432594    ┆ 2.396953      │\n",
       "└─────────┴───────────────┴───────────────┘"
      ],
      "text/html": [
       "<div><style>\n",
       ".dataframe > thead > tr,\n",
       ".dataframe > tbody > tr {\n",
       "  text-align: right;\n",
       "  white-space: pre-wrap;\n",
       "}\n",
       "</style>\n",
       "<small>shape: (9, 3)</small><table border=\"1\" class=\"dataframe\"><thead><tr><th>Element</th><th>Atoms/cell</th><th>GT_lb_log_APC</th></tr><tr><td>str</td><td>f64</td><td>f64</td></tr></thead><tbody><tr><td>&quot;Mo&quot;</td><td>10797.032626</td><td>4.033304</td></tr><tr><td>&quot;Zn&quot;</td><td>399640.415582</td><td>5.601669</td></tr><tr><td>&quot;Cu&quot;</td><td>87576.66829</td><td>4.942388</td></tr><tr><td>&quot;Ni&quot;</td><td>3240.269333</td><td>3.510581</td></tr><tr><td>&quot;Co&quot;</td><td>443.558908</td><td>2.646951</td></tr><tr><td>&quot;Fe&quot;</td><td>607143.184501</td><td>5.783291</td></tr><tr><td>&quot;Mn&quot;</td><td>46743.626407</td><td>4.669722</td></tr><tr><td>&quot;Cr&quot;</td><td>3414.351358</td><td>3.533308</td></tr><tr><td>&quot;V&quot;</td><td>249.432594</td><td>2.396953</td></tr></tbody></table></div>"
      ]
     },
     "execution_count": 25,
     "metadata": {},
     "output_type": "execute_result"
    }
   ],
   "execution_count": 25
  },
  {
   "metadata": {},
   "cell_type": "markdown",
   "source": [
    "## LB media data from Huynh et al., 2022 fig 1c and 1d (https://journals.asm.org/doi/full/10.1128/spectrum.01006-21): \n",
    "\n",
    "Media type: LB media\n",
    "\n",
    "Bacterial species: E. coli K-12 BW25113\n",
    "\n",
    "Units used in calculations: Atoms/CFU\n",
    "\n",
    "QUESTIONS/ISSUES: double check that I did my web plot analyzer stuff right when I do it for the minimal media conditions"
   ],
   "id": "5c7899593af5d970"
  },
  {
   "metadata": {
    "ExecuteTime": {
     "end_time": "2024-07-11T21:31:03.627590Z",
     "start_time": "2024-07-11T21:31:03.616273Z"
    }
   },
   "cell_type": "code",
   "source": [
    "# load in LB media data from Huynh et al., 2022 fig 1c (https://journals.asm.org/doi/full/10.1128/spectrum.01006-21): \n",
    "LBM_1C = pd.read_excel(\"notebooks/mia_notebooks/Huynh_2022_F1C_LB_media_data.xlsx\")\n",
    "# load in LB media from Huynh et al., 2022 fig 1d LB (https://journals.asm.org/doi/full/10.1128/spectrum.01006-21): \n",
    "LBM_1D = pd.read_excel(\"notebooks/mia_notebooks/Huynh_2022_F1D_LB_media_data.xlsx\")\n",
    "\n",
    "# convert data frames to polars data frames and rename the columns to be more descriptive: \n",
    "LBM_1C_df = pl.DataFrame(LBM_1C[[\"metal\",\"atoms/CFU (non-log scale option)\"]])\n",
    "LBM_1C_df = LBM_1C_df.with_columns(pl.col(\"atoms/CFU (non-log scale option)\").alias(\"LBM_Huynh_log_APC\"))\n",
    "\n",
    "LBM_1D_df = pl.DataFrame(LBM_1D[[\"metal\",\"atoms/CFU (non-log scale option)\"]])\n",
    "LBM_1D_df = LBM_1D_df.with_columns(pl.col(\"atoms/CFU (non-log scale option)\").alias(\"LBM_Huynh_log_APC\"))\n",
    "\n",
    "# add the rows from LBM_1D to the bottom of LBM_1C:\n",
    "LBM_F1_2022_df = LBM_1C_df.vstack(LBM_1D_df)\n",
    "LBM_F1_2022_df"
   ],
   "id": "9d31fa0cff544f2d",
   "outputs": [
    {
     "data": {
      "text/plain": [
       "shape: (8, 3)\n",
       "┌───────┬─────────────────────────────────┬───────────────────┐\n",
       "│ metal ┆ atoms/CFU (non-log scale optio… ┆ LBM_Huynh_log_APC │\n",
       "│ ---   ┆ ---                             ┆ ---               │\n",
       "│ str   ┆ f64                             ┆ f64               │\n",
       "╞═══════╪═════════════════════════════════╪═══════════════════╡\n",
       "│ Mn    ┆ 3.557895                        ┆ 3.557895          │\n",
       "│ Fe    ┆ 5.793684                        ┆ 5.793684          │\n",
       "│ Cu    ┆ 4.581053                        ┆ 4.581053          │\n",
       "│ Zn    ┆ 4.543158                        ┆ 4.543158          │\n",
       "│ V     ┆ 2.708245                        ┆ 2.708245          │\n",
       "│ Cr    ┆ 4.232558                        ┆ 4.232558          │\n",
       "│ Co    ┆ 1.983087                        ┆ 1.983087          │\n",
       "│ Ni    ┆ 3.389006                        ┆ 3.389006          │\n",
       "└───────┴─────────────────────────────────┴───────────────────┘"
      ],
      "text/html": [
       "<div><style>\n",
       ".dataframe > thead > tr,\n",
       ".dataframe > tbody > tr {\n",
       "  text-align: right;\n",
       "  white-space: pre-wrap;\n",
       "}\n",
       "</style>\n",
       "<small>shape: (8, 3)</small><table border=\"1\" class=\"dataframe\"><thead><tr><th>metal</th><th>atoms/CFU (non-log scale option)</th><th>LBM_Huynh_log_APC</th></tr><tr><td>str</td><td>f64</td><td>f64</td></tr></thead><tbody><tr><td>&quot;Mn&quot;</td><td>3.557895</td><td>3.557895</td></tr><tr><td>&quot;Fe&quot;</td><td>5.793684</td><td>5.793684</td></tr><tr><td>&quot;Cu&quot;</td><td>4.581053</td><td>4.581053</td></tr><tr><td>&quot;Zn&quot;</td><td>4.543158</td><td>4.543158</td></tr><tr><td>&quot;V&quot;</td><td>2.708245</td><td>2.708245</td></tr><tr><td>&quot;Cr&quot;</td><td>4.232558</td><td>4.232558</td></tr><tr><td>&quot;Co&quot;</td><td>1.983087</td><td>1.983087</td></tr><tr><td>&quot;Ni&quot;</td><td>3.389006</td><td>3.389006</td></tr></tbody></table></div>"
      ]
     },
     "execution_count": 75,
     "metadata": {},
     "output_type": "execute_result"
    }
   ],
   "execution_count": 75
  },
  {
   "metadata": {},
   "cell_type": "markdown",
   "source": [
    "## LB media data from Budhraja, et al., 2019 Fig 1 (https://academic.oup.com/metallomics/article/11/5/925/5962190#supplementary-data):\n",
    "\n",
    "Media type: LB media\n",
    "\n",
    "Bacterial species: I think E. coli strain BW25113, but I could be wrong\n",
    "\n",
    "Units used in calculations: Atoms/cell\n",
    "\n",
    "QUESTIONS/ISSUES: need to confirm if this is the correct strain of E. coli!!!!!"
   ],
   "id": "2da74b2ae8bf33a2"
  },
  {
   "metadata": {
    "ExecuteTime": {
     "end_time": "2024-07-11T22:02:14.750895Z",
     "start_time": "2024-07-11T22:02:14.740507Z"
    }
   },
   "cell_type": "code",
   "source": [
    "# data from Budhraja, et al., 2019 Fig 1 (https://academic.oup.com/metallomics/article/11/5/925/5962190#supplementary-data): \n",
    "LBM_F1_2019 = pd.read_excel(\"notebooks/mia_notebooks/Budhraja_2019_F1_data.xlsx\")\n",
    "LBM_F1_2019"
   ],
   "id": "46197f818464106e",
   "outputs": [
    {
     "data": {
      "text/plain": [
       "  metal  metal ions per cell (ranging from 1000 to 1E+09)   Upper error  \\\n",
       "0    Mo                                      1.455079e+04  1.497124e+04   \n",
       "1    Ni                                      1.394215e+04  1.475952e+04   \n",
       "2    Co                                      3.261385e+03  3.502111e+03   \n",
       "3    Fe                                      2.038348e+06  2.157847e+06   \n",
       "\n",
       "    lower error  metal ions per cell (using 3 to 9 as the axis only)  \\\n",
       "0  1.414215e+04                                           4.166667     \n",
       "1  1.317006e+04                                           4.148148     \n",
       "2  2.994254e+03                                           3.518519     \n",
       "3  1.953087e+06                                           6.308642     \n",
       "\n",
       "   raise to ten  Upper Error  Lower Error   10^ (col E)  \n",
       "0  1.467799e+04     4.179012     4.154321  1.467799e+04  \n",
       "1  1.406527e+04     4.172840     4.123457  1.406527e+04  \n",
       "2  3.300035e+03     3.549383     3.481481  3.300035e+03  \n",
       "3  2.035363e+06     6.333333     6.290123  2.035363e+06  "
      ],
      "text/html": [
       "<div>\n",
       "<style scoped>\n",
       "    .dataframe tbody tr th:only-of-type {\n",
       "        vertical-align: middle;\n",
       "    }\n",
       "\n",
       "    .dataframe tbody tr th {\n",
       "        vertical-align: top;\n",
       "    }\n",
       "\n",
       "    .dataframe thead th {\n",
       "        text-align: right;\n",
       "    }\n",
       "</style>\n",
       "<table border=\"1\" class=\"dataframe\">\n",
       "  <thead>\n",
       "    <tr style=\"text-align: right;\">\n",
       "      <th></th>\n",
       "      <th>metal</th>\n",
       "      <th>metal ions per cell (ranging from 1000 to 1E+09)</th>\n",
       "      <th>Upper error</th>\n",
       "      <th>lower error</th>\n",
       "      <th>metal ions per cell (using 3 to 9 as the axis only)</th>\n",
       "      <th>raise to ten</th>\n",
       "      <th>Upper Error</th>\n",
       "      <th>Lower Error</th>\n",
       "      <th>10^ (col E)</th>\n",
       "    </tr>\n",
       "  </thead>\n",
       "  <tbody>\n",
       "    <tr>\n",
       "      <th>0</th>\n",
       "      <td>Mo</td>\n",
       "      <td>1.455079e+04</td>\n",
       "      <td>1.497124e+04</td>\n",
       "      <td>1.414215e+04</td>\n",
       "      <td>4.166667</td>\n",
       "      <td>1.467799e+04</td>\n",
       "      <td>4.179012</td>\n",
       "      <td>4.154321</td>\n",
       "      <td>1.467799e+04</td>\n",
       "    </tr>\n",
       "    <tr>\n",
       "      <th>1</th>\n",
       "      <td>Ni</td>\n",
       "      <td>1.394215e+04</td>\n",
       "      <td>1.475952e+04</td>\n",
       "      <td>1.317006e+04</td>\n",
       "      <td>4.148148</td>\n",
       "      <td>1.406527e+04</td>\n",
       "      <td>4.172840</td>\n",
       "      <td>4.123457</td>\n",
       "      <td>1.406527e+04</td>\n",
       "    </tr>\n",
       "    <tr>\n",
       "      <th>2</th>\n",
       "      <td>Co</td>\n",
       "      <td>3.261385e+03</td>\n",
       "      <td>3.502111e+03</td>\n",
       "      <td>2.994254e+03</td>\n",
       "      <td>3.518519</td>\n",
       "      <td>3.300035e+03</td>\n",
       "      <td>3.549383</td>\n",
       "      <td>3.481481</td>\n",
       "      <td>3.300035e+03</td>\n",
       "    </tr>\n",
       "    <tr>\n",
       "      <th>3</th>\n",
       "      <td>Fe</td>\n",
       "      <td>2.038348e+06</td>\n",
       "      <td>2.157847e+06</td>\n",
       "      <td>1.953087e+06</td>\n",
       "      <td>6.308642</td>\n",
       "      <td>2.035363e+06</td>\n",
       "      <td>6.333333</td>\n",
       "      <td>6.290123</td>\n",
       "      <td>2.035363e+06</td>\n",
       "    </tr>\n",
       "  </tbody>\n",
       "</table>\n",
       "</div>"
      ]
     },
     "execution_count": 82,
     "metadata": {},
     "output_type": "execute_result"
    }
   ],
   "execution_count": 82
  },
  {
   "metadata": {},
   "cell_type": "code",
   "outputs": [
    {
     "data": {
      "text/plain": [
       "shape: (4, 3)\n",
       "┌───────┬─────────────────────────────────┬──────────────────────┐\n",
       "│ metal ┆ metal ions per cell (ranging f… ┆ LBM_Budhraja_log_APC │\n",
       "│ ---   ┆ ---                             ┆ ---                  │\n",
       "│ str   ┆ f64                             ┆ f64                  │\n",
       "╞═══════╪═════════════════════════════════╪══════════════════════╡\n",
       "│ Mo    ┆ 14550.790838                    ┆ 4.162887             │\n",
       "│ Ni    ┆ 13942.154688                    ┆ 4.14433              │\n",
       "│ Co    ┆ 3261.384943                     ┆ 3.513402             │\n",
       "│ Fe    ┆ 2.0383e6                        ┆ 6.309278             │\n",
       "└───────┴─────────────────────────────────┴──────────────────────┘"
      ],
      "text/html": [
       "<div><style>\n",
       ".dataframe > thead > tr,\n",
       ".dataframe > tbody > tr {\n",
       "  text-align: right;\n",
       "  white-space: pre-wrap;\n",
       "}\n",
       "</style>\n",
       "<small>shape: (4, 3)</small><table border=\"1\" class=\"dataframe\"><thead><tr><th>metal</th><th>metal ions per cell (ranging from 1000 to 1E+09)</th><th>LBM_Budhraja_log_APC</th></tr><tr><td>str</td><td>f64</td><td>f64</td></tr></thead><tbody><tr><td>&quot;Mo&quot;</td><td>14550.790838</td><td>4.162887</td></tr><tr><td>&quot;Ni&quot;</td><td>13942.154688</td><td>4.14433</td></tr><tr><td>&quot;Co&quot;</td><td>3261.384943</td><td>3.513402</td></tr><tr><td>&quot;Fe&quot;</td><td>2.0383e6</td><td>6.309278</td></tr></tbody></table></div>"
      ]
     },
     "execution_count": 34,
     "metadata": {},
     "output_type": "execute_result"
    }
   ],
   "execution_count": 34,
   "source": [
    "# todo this is the original way I was grabbing the data for this graph, but I now do not think this axis calibration was the right one to go with. \n",
    "# LB media from second paper:\n",
    "LBM_F1_2019_df = pl.DataFrame(LBM_F1_2019[[\"metal\",\"metal ions per cell (ranging from 1000 to 1E+09)\"]])\n",
    "# add the log of the metal ions per cell to the data frame:\n",
    "LBM_F1_2019_df = LBM_F1_2019_df.with_columns(pl.col(\"metal ions per cell (ranging from 1000 to 1E+09)\").log10().alias(\"LBM_Budhraja_log_APC\"))\n",
    "LBM_F1_2019_df"
   ],
   "id": "7c962da7e45857e8"
  },
  {
   "metadata": {
    "ExecuteTime": {
     "end_time": "2024-07-11T22:02:37.673213Z",
     "start_time": "2024-07-11T22:02:37.669712Z"
    }
   },
   "cell_type": "code",
   "source": [
    "# TODO ask cyrus if he believes this is the correct option for the metal ions per cell data? I feel like this has to be it, but again the axes calibration is really tripping me up. \n",
    "# LB media from second paper:\n",
    "LBM_F1_2019_df = pl.DataFrame(LBM_F1_2019[[\"metal\",\"raise to ten\"]])\n",
    "# add the log of the metal ions per cell to the data frame:\n",
    "LBM_F1_2019_df = LBM_F1_2019_df.with_columns(pl.col(\"raise to ten\").log10().alias(\"LBM_Budhraja_log_APC\"))\n",
    "LBM_F1_2019_df"
   ],
   "id": "76e30d71a80a65fa",
   "outputs": [
    {
     "data": {
      "text/plain": [
       "shape: (4, 3)\n",
       "┌───────┬──────────────┬──────────────────────┐\n",
       "│ metal ┆ raise to ten ┆ LBM_Budhraja_log_APC │\n",
       "│ ---   ┆ ---          ┆ ---                  │\n",
       "│ str   ┆ f64          ┆ f64                  │\n",
       "╞═══════╪══════════════╪══════════════════════╡\n",
       "│ Mo    ┆ 14677.992676 ┆ 4.166667             │\n",
       "│ Ni    ┆ 14065.272421 ┆ 4.148148             │\n",
       "│ Co    ┆ 3300.034791  ┆ 3.518519             │\n",
       "│ Fe    ┆ 2.0354e6     ┆ 6.308642             │\n",
       "└───────┴──────────────┴──────────────────────┘"
      ],
      "text/html": [
       "<div><style>\n",
       ".dataframe > thead > tr,\n",
       ".dataframe > tbody > tr {\n",
       "  text-align: right;\n",
       "  white-space: pre-wrap;\n",
       "}\n",
       "</style>\n",
       "<small>shape: (4, 3)</small><table border=\"1\" class=\"dataframe\"><thead><tr><th>metal</th><th>raise to ten</th><th>LBM_Budhraja_log_APC</th></tr><tr><td>str</td><td>f64</td><td>f64</td></tr></thead><tbody><tr><td>&quot;Mo&quot;</td><td>14677.992676</td><td>4.166667</td></tr><tr><td>&quot;Ni&quot;</td><td>14065.272421</td><td>4.148148</td></tr><tr><td>&quot;Co&quot;</td><td>3300.034791</td><td>3.518519</td></tr><tr><td>&quot;Fe&quot;</td><td>2.0354e6</td><td>6.308642</td></tr></tbody></table></div>"
      ]
     },
     "execution_count": 84,
     "metadata": {},
     "output_type": "execute_result"
    }
   ],
   "execution_count": 84
  },
  {
   "metadata": {},
   "cell_type": "markdown",
   "source": [
    "## data from Umemura et al., 2017, table 11.2 (https://link.springer.com/chapter/10.1007/978-4-431-56463-8_11)\n",
    "\n",
    "Media type: LB media\n",
    "\n",
    "Bacterial species: E. coli MG1655\n",
    "\n",
    "Units used in calculations: Atoms/cell\n",
    "\n",
    "QUESTIONS/ISSUES: do I need table 11.3?"
   ],
   "id": "463e88aa9daafb02"
  },
  {
   "metadata": {
    "ExecuteTime": {
     "end_time": "2024-07-11T22:28:54.398261Z",
     "start_time": "2024-07-11T22:28:54.389133Z"
    }
   },
   "cell_type": "code",
   "source": [
    "# data from Umemura et al., 2017, table 11.2 (https://link.springer.com/chapter/10.1007/978-4-431-56463-8_11): \n",
    "LBM_T112_2017 = pd.read_excel(\"notebooks/mia_notebooks/Umemura_2017_T112_data.xlsx\")\n",
    "\n",
    "# transform into a polars data frame and rename the columns:\n",
    "LBM_T112_2017_df = pl.DataFrame(LBM_T112_2017[[\"Symbol\",\"E. coli\\xa0MG1655 in LB\"]])\n",
    "LBM_T112_2017_df = LBM_T112_2017_df.with_columns(pl.col(\"E. coli\\xa0MG1655 in LB\").log10().alias(\"LBM_Umemura_T112_log_APC\"))\n",
    "LBM_T112_2017_df"
   ],
   "id": "8d5b3696b2fb36a5",
   "outputs": [
    {
     "data": {
      "text/plain": [
       "shape: (48, 3)\n",
       "┌────────┬──────────────────────┬──────────────────────────┐\n",
       "│ Symbol ┆ E. coli MG1655 in LB ┆ LBM_Umemura_T112_log_APC │\n",
       "│ ---    ┆ ---                  ┆ ---                      │\n",
       "│ str    ┆ f64                  ┆ f64                      │\n",
       "╞════════╪══════════════════════╪══════════════════════════╡\n",
       "│ Mg     ┆ 7.5e7                ┆ 7.875061                 │\n",
       "│ P      ┆ 4.2e8                ┆ 8.623249                 │\n",
       "│ S      ┆ 1.7e8                ┆ 8.230449                 │\n",
       "│ K      ┆ 2.6e8                ┆ 8.414973                 │\n",
       "│ Ca     ┆ 6.2e6                ┆ 6.792392                 │\n",
       "│ …      ┆ …                    ┆ …                        │\n",
       "│ Au     ┆ 0.25                 ┆ -0.60206                 │\n",
       "│ Tl     ┆ 45.0                 ┆ 1.653213                 │\n",
       "│ Pb     ┆ 60.0                 ┆ 1.778151                 │\n",
       "│ Th     ┆ 26.0                 ┆ 1.414973                 │\n",
       "│ U      ┆ 12.0                 ┆ 1.079181                 │\n",
       "└────────┴──────────────────────┴──────────────────────────┘"
      ],
      "text/html": [
       "<div><style>\n",
       ".dataframe > thead > tr,\n",
       ".dataframe > tbody > tr {\n",
       "  text-align: right;\n",
       "  white-space: pre-wrap;\n",
       "}\n",
       "</style>\n",
       "<small>shape: (48, 3)</small><table border=\"1\" class=\"dataframe\"><thead><tr><th>Symbol</th><th>E. coli MG1655 in LB</th><th>LBM_Umemura_T112_log_APC</th></tr><tr><td>str</td><td>f64</td><td>f64</td></tr></thead><tbody><tr><td>&quot;Mg&quot;</td><td>7.5e7</td><td>7.875061</td></tr><tr><td>&quot;P&quot;</td><td>4.2e8</td><td>8.623249</td></tr><tr><td>&quot;S&quot;</td><td>1.7e8</td><td>8.230449</td></tr><tr><td>&quot;K&quot;</td><td>2.6e8</td><td>8.414973</td></tr><tr><td>&quot;Ca&quot;</td><td>6.2e6</td><td>6.792392</td></tr><tr><td>&hellip;</td><td>&hellip;</td><td>&hellip;</td></tr><tr><td>&quot;Au&quot;</td><td>0.25</td><td>-0.60206</td></tr><tr><td>&quot;Tl&quot;</td><td>45.0</td><td>1.653213</td></tr><tr><td>&quot;Pb&quot;</td><td>60.0</td><td>1.778151</td></tr><tr><td>&quot;Th&quot;</td><td>26.0</td><td>1.414973</td></tr><tr><td>&quot;U&quot;</td><td>12.0</td><td>1.079181</td></tr></tbody></table></div>"
      ]
     },
     "execution_count": 85,
     "metadata": {},
     "output_type": "execute_result"
    }
   ],
   "execution_count": 85
  },
  {
   "metadata": {},
   "cell_type": "markdown",
   "source": [
    "## LB media data from Nies & Herzberg, 2012: https://onlinelibrary.wiley.com/doi/full/10.1111/mmi.12123 / Kristen et al., 2011: https://journals.asm.org/doi/full/10.1128/jb.05293-11\n",
    "\n",
    "Media type: LB media\n",
    "\n",
    "Bacterial species: E. coli W3110 \n",
    "\n",
    "Units used in calculations: Atoms/cell\n",
    "\n",
    "QUESTIONS/ISSUES: "
   ],
   "id": "17dd94c99976f6e0"
  },
  {
   "metadata": {
    "ExecuteTime": {
     "end_time": "2024-07-11T23:08:25.875079Z",
     "start_time": "2024-07-11T23:08:25.866734Z"
    }
   },
   "cell_type": "code",
   "source": [
    "# LB media data from Nies et al., 2012: https://onlinelibrary.wiley.com/doi/full/10.1111/mmi.12123\n",
    "Nies_2012 = pd.read_excel(\"notebooks/mia_notebooks/Nies_2012_T1_data.xlsx\")\n",
    "Nies_2012 = pl.DataFrame(Nies_2012[[\"Element\", \"Atoms/cell\"]])\n",
    "N_2012 = Nies_2012.with_columns(pl.col(\"Atoms/cell\").log10().alias(\"E. coli W3110 (Nies & Herzberg, 2012)\"))\n",
    "N_2012"
   ],
   "id": "3e95631f19d53896",
   "outputs": [
    {
     "data": {
      "text/plain": [
       "shape: (9, 3)\n",
       "┌─────────┬────────────┬─────────────────────────────────┐\n",
       "│ Element ┆ Atoms/cell ┆ E. coli W3110 (Nies & Herzberg… │\n",
       "│ ---     ┆ ---        ┆ ---                             │\n",
       "│ str     ┆ f64        ┆ f64                             │\n",
       "╞═════════╪════════════╪═════════════════════════════════╡\n",
       "│ Mg      ┆ 1.27e7     ┆ 7.103804                        │\n",
       "│ Ca      ┆ 2.0500e6   ┆ 6.311754                        │\n",
       "│ Fe      ┆ 290000.0   ┆ 5.462398                        │\n",
       "│ Co      ┆ 4500.0     ┆ 3.653213                        │\n",
       "│ Ni      ┆ 9700.0     ┆ 3.986772                        │\n",
       "│ Zn      ┆ 114000.0   ┆ 5.056905                        │\n",
       "│ Mn      ┆ 11700.0    ┆ 4.068186                        │\n",
       "│ Mo      ┆ 3450.0     ┆ 3.537819                        │\n",
       "│ Cu      ┆ 169000.0   ┆ 5.227887                        │\n",
       "└─────────┴────────────┴─────────────────────────────────┘"
      ],
      "text/html": [
       "<div><style>\n",
       ".dataframe > thead > tr,\n",
       ".dataframe > tbody > tr {\n",
       "  text-align: right;\n",
       "  white-space: pre-wrap;\n",
       "}\n",
       "</style>\n",
       "<small>shape: (9, 3)</small><table border=\"1\" class=\"dataframe\"><thead><tr><th>Element</th><th>Atoms/cell</th><th>E. coli W3110 (Nies &amp; Herzberg, 2012)</th></tr><tr><td>str</td><td>f64</td><td>f64</td></tr></thead><tbody><tr><td>&quot;Mg&quot;</td><td>1.27e7</td><td>7.103804</td></tr><tr><td>&quot;Ca&quot;</td><td>2.0500e6</td><td>6.311754</td></tr><tr><td>&quot;Fe&quot;</td><td>290000.0</td><td>5.462398</td></tr><tr><td>&quot;Co&quot;</td><td>4500.0</td><td>3.653213</td></tr><tr><td>&quot;Ni&quot;</td><td>9700.0</td><td>3.986772</td></tr><tr><td>&quot;Zn&quot;</td><td>114000.0</td><td>5.056905</td></tr><tr><td>&quot;Mn&quot;</td><td>11700.0</td><td>4.068186</td></tr><tr><td>&quot;Mo&quot;</td><td>3450.0</td><td>3.537819</td></tr><tr><td>&quot;Cu&quot;</td><td>169000.0</td><td>5.227887</td></tr></tbody></table></div>"
      ]
     },
     "execution_count": 112,
     "metadata": {},
     "output_type": "execute_result"
    }
   ],
   "execution_count": 112
  },
  {
   "metadata": {
    "ExecuteTime": {
     "end_time": "2024-07-11T23:15:19.151115Z",
     "start_time": "2024-07-11T23:15:19.143451Z"
    }
   },
   "cell_type": "code",
   "source": [
    "# Create a data frame of all the data that overlaps with the ground truth data\n",
    "overlap_element_names = [\"Fe\", \"Mn\", \"Zn\", \"Cu\", \"Co\", \"Ni\", \"Mo\", \"V\", \"Cr\"]\n",
    "\n",
    "# Select and filter relevant data from each source based on what I have ground truth data for:\n",
    "H_2022 = LBM_F1_2022_df.select([\"metal\", \"LBM_Huynh_log_APC\"]).filter(pl.col(\"metal\").is_in(overlap_element_names))\n",
    "B_2019 = LBM_F1_2019_df.select([\"metal\", \"LBM_Budhraja_log_APC\"]).filter(pl.col(\"metal\").is_in(overlap_element_names))\n",
    "U_T112 = LBM_T112_2017_df.select([\"Symbol\", \"LBM_Umemura_T112_log_APC\"]).filter(pl.col(\"Symbol\").is_in(overlap_element_names))\n",
    "N_2012 = N_2012.select([\"Element\", \"E. coli W3110 (Nies & Herzberg, 2012)\"]).filter(pl.col(\"Element\").is_in(overlap_element_names))\n",
    "\n",
    "# Rename the 'Symbol' column in U_T112 to 'Element' for consistency\n",
    "H_2022 = H_2022.rename({\"metal\": \"Element\"})\n",
    "B_2019 = B_2019.rename({\"metal\": \"Element\"})\n",
    "U_T112 = U_T112.rename({\"Symbol\": \"Element\"})\n",
    "\n",
    "# Ensure unique column names before joining\n",
    "H_2022 = H_2022.rename({\"LBM_Huynh_log_APC\": \"E. coli K-12 BW25113 (Huynh et al., 2022)\"})\n",
    "B_2019 = B_2019.rename({\"LBM_Budhraja_log_APC\": \"E. coli strain? (Budhraja et al., 2019)\"})\n",
    "U_T112 = U_T112.rename({\"LBM_Umemura_T112_log_APC\": \"E. coli MG1655 (Umemura et al., 2017)\"})\n",
    "\n",
    "# Perform outer joins to combine the DataFrames\n",
    "lb_exp_data = H_2022.join(B_2019, on=\"Element\", how=\"left\")\n",
    "lb_exp_data = lb_exp_data.join(U_T112, on=\"Element\", how=\"left\")\n",
    "lb_exp_data = lb_exp_data.join(N_2012, on=\"Element\", how=\"left\")\n",
    "\n",
    "# Combine all data with Ground Truth data: \n",
    "GT_lb = GT_lb_df.select([\"Element\", \"GT_lb_log_APC\"])\n",
    "GT_lb = GT_lb.rename({\"GT_lb_log_APC\": \"E. coli DH5$\\\\alpha$ (Outten & O'Halloran, 2001 (GT Data))\"})\n",
    "lb_df = GT_lb.join(lb_exp_data, on=\"Element\", how=\"inner\")\n",
    "\n",
    "# elongate the polars dataframe:\n",
    "df_long = lb_df.melt(id_vars=[\"Element\"], variable_name=\"Data Source\", value_name=\"log$_{10}$(Atoms/Cell)\")\n",
    "# Convert to Pandas DataFrame\n",
    "df_long_pd = df_long.to_pandas()\n",
    "\n",
    "# show the df: \n",
    "lb_df"
   ],
   "id": "a52e46407e39c3df",
   "outputs": [
    {
     "name": "stderr",
     "output_type": "stream",
     "text": [
      "/var/folders/fg/mh5y1dgn2n5ft000p664m2z80000gq/T/ipykernel_6617/3688230658.py:21: DeprecationWarning: The default coalesce behavior of left join will change to `False` in the next breaking release. Pass `coalesce=True` to keep the current behavior and silence this warning.\n",
      "  lb_exp_data = H_2022.join(B_2019, on=\"Element\", how=\"left\")\n",
      "/var/folders/fg/mh5y1dgn2n5ft000p664m2z80000gq/T/ipykernel_6617/3688230658.py:22: DeprecationWarning: The default coalesce behavior of left join will change to `False` in the next breaking release. Pass `coalesce=True` to keep the current behavior and silence this warning.\n",
      "  lb_exp_data = lb_exp_data.join(U_T112, on=\"Element\", how=\"left\")\n",
      "/var/folders/fg/mh5y1dgn2n5ft000p664m2z80000gq/T/ipykernel_6617/3688230658.py:23: DeprecationWarning: The default coalesce behavior of left join will change to `False` in the next breaking release. Pass `coalesce=True` to keep the current behavior and silence this warning.\n",
      "  lb_exp_data = lb_exp_data.join(N_2012, on=\"Element\", how=\"left\")\n"
     ]
    },
    {
     "data": {
      "text/plain": [
       "shape: (8, 6)\n",
       "┌─────────┬─────────────┬──────────────────┬──────────────────┬──────────────────┬─────────────────┐\n",
       "│ Element ┆ E. coli     ┆ E. coli K-12     ┆ E. coli strain?  ┆ E. coli MG1655   ┆ E. coli W3110   │\n",
       "│ ---     ┆ DH5$\\alpha$ ┆ BW25113 (Huynh   ┆ (Budhraja et a…  ┆ (Umemura et al.… ┆ (Nies &         │\n",
       "│ str     ┆ (Outten & … ┆ et…              ┆ ---              ┆ ---              ┆ Herzberg…       │\n",
       "│         ┆ ---         ┆ ---              ┆ f64              ┆ f64              ┆ ---             │\n",
       "│         ┆ f64         ┆ f64              ┆                  ┆                  ┆ f64             │\n",
       "╞═════════╪═════════════╪══════════════════╪══════════════════╪══════════════════╪═════════════════╡\n",
       "│ Zn      ┆ 5.601669    ┆ 4.543158         ┆ null             ┆ 5.812913         ┆ 5.056905        │\n",
       "│ Cu      ┆ 4.942388    ┆ 4.581053         ┆ null             ┆ 4.778151         ┆ 5.227887        │\n",
       "│ Ni      ┆ 3.510581    ┆ 3.389006         ┆ 4.148148         ┆ 4.113943         ┆ 3.986772        │\n",
       "│ Co      ┆ 2.646951    ┆ 1.983087         ┆ 3.518519         ┆ 3.740363         ┆ 3.653213        │\n",
       "│ Fe      ┆ 5.783291    ┆ 5.793684         ┆ 6.308642         ┆ 6.518514         ┆ 5.462398        │\n",
       "│ Mn      ┆ 4.669722    ┆ 3.557895         ┆ null             ┆ 5.278754         ┆ 4.068186        │\n",
       "│ Cr      ┆ 3.533308    ┆ 4.232558         ┆ null             ┆ 3.778151         ┆ null            │\n",
       "│ V       ┆ 2.396953    ┆ 2.708245         ┆ null             ┆ 3.50515          ┆ null            │\n",
       "└─────────┴─────────────┴──────────────────┴──────────────────┴──────────────────┴─────────────────┘"
      ],
      "text/html": [
       "<div><style>\n",
       ".dataframe > thead > tr,\n",
       ".dataframe > tbody > tr {\n",
       "  text-align: right;\n",
       "  white-space: pre-wrap;\n",
       "}\n",
       "</style>\n",
       "<small>shape: (8, 6)</small><table border=\"1\" class=\"dataframe\"><thead><tr><th>Element</th><th>E. coli DH5$\\alpha$ (Outten &amp; O&#x27;Halloran, 2001 (GT Data))</th><th>E. coli K-12 BW25113 (Huynh et al., 2022)</th><th>E. coli strain? (Budhraja et al., 2019)</th><th>E. coli MG1655 (Umemura et al., 2017)</th><th>E. coli W3110 (Nies &amp; Herzberg, 2012)</th></tr><tr><td>str</td><td>f64</td><td>f64</td><td>f64</td><td>f64</td><td>f64</td></tr></thead><tbody><tr><td>&quot;Zn&quot;</td><td>5.601669</td><td>4.543158</td><td>null</td><td>5.812913</td><td>5.056905</td></tr><tr><td>&quot;Cu&quot;</td><td>4.942388</td><td>4.581053</td><td>null</td><td>4.778151</td><td>5.227887</td></tr><tr><td>&quot;Ni&quot;</td><td>3.510581</td><td>3.389006</td><td>4.148148</td><td>4.113943</td><td>3.986772</td></tr><tr><td>&quot;Co&quot;</td><td>2.646951</td><td>1.983087</td><td>3.518519</td><td>3.740363</td><td>3.653213</td></tr><tr><td>&quot;Fe&quot;</td><td>5.783291</td><td>5.793684</td><td>6.308642</td><td>6.518514</td><td>5.462398</td></tr><tr><td>&quot;Mn&quot;</td><td>4.669722</td><td>3.557895</td><td>null</td><td>5.278754</td><td>4.068186</td></tr><tr><td>&quot;Cr&quot;</td><td>3.533308</td><td>4.232558</td><td>null</td><td>3.778151</td><td>null</td></tr><tr><td>&quot;V&quot;</td><td>2.396953</td><td>2.708245</td><td>null</td><td>3.50515</td><td>null</td></tr></tbody></table></div>"
      ]
     },
     "execution_count": 127,
     "metadata": {},
     "output_type": "execute_result"
    }
   ],
   "execution_count": 127
  },
  {
   "metadata": {
    "ExecuteTime": {
     "end_time": "2024-07-11T23:15:19.910395Z",
     "start_time": "2024-07-11T23:15:19.802994Z"
    }
   },
   "cell_type": "code",
   "source": [
    "# Create the vertical strip plot\n",
    "plt.figure(figsize=(10, 6))\n",
    "ax = sns.stripplot(data=df_long_pd, y=\"log$_{10}$(Atoms/Cell)\", x=\"Element\", hue=\"Data Source\", jitter=False)\n",
    "sns.move_legend(ax, \"lower center\", bbox_to_anchor=(0.5, -0.5))\n",
    "plt.title(\"Metal Element Counts for E.coli cells in LB media from Different Sources\")\n",
    "plt.show()"
   ],
   "id": "a84806cc68ec5e59",
   "outputs": [
    {
     "data": {
      "text/plain": [
       "<Figure size 1000x600 with 1 Axes>"
      ],
      "image/png": "[encoded data removed]"
     },
     "metadata": {},
     "output_type": "display_data"
    }
   ],
   "execution_count": 128
  },
  {
   "metadata": {
    "ExecuteTime": {
     "end_time": "2024-07-11T23:15:22.564921Z",
     "start_time": "2024-07-11T23:15:22.455148Z"
    }
   },
   "cell_type": "code",
   "source": [
    "# create the horizontal stripplot:\n",
    "plt.figure(figsize=(10, 6))\n",
    "ax = sns.stripplot(data=df_long_pd, x=\"log$_{10}$(Atoms/Cell)\", y=\"Element\", hue=\"Data Source\", jitter=False)\n",
    "sns.move_legend(ax, \"lower center\", bbox_to_anchor=(0.5, -0.5))\n",
    "plt.title(\"Metal Element Counts from Different Sources\")\n",
    "plt.show()"
   ],
   "id": "ae0ee20b69d5f80a",
   "outputs": [
    {
     "data": {
      "text/plain": [
       "<Figure size 1000x600 with 1 Axes>"
      ],
      "image/png": "[encoded data removed]"
     },
     "metadata": {},
     "output_type": "display_data"
    }
   ],
   "execution_count": 129
  },
  {
   "metadata": {
    "ExecuteTime": {
     "end_time": "2024-07-11T23:15:23.740063Z",
     "start_time": "2024-07-11T23:15:23.605511Z"
    }
   },
   "cell_type": "code",
   "source": [
    "# create a bar plot of the metal counts data: \n",
    "import matplotlib.pyplot as plt\n",
    "plt.figure(figsize=(10, 6))\n",
    "ax = sns.barplot(data=df_long_pd, x=\"Element\", y=\"log$_{10}$(Atoms/Cell)\", hue=\"Data Source\")\n",
    "sns.move_legend(ax, \"lower center\", bbox_to_anchor=(0.5, -0.5))\n",
    "plt.title(\"LB Media Metal Element Counts in E. coli from Different Sources\")\n",
    "plt.show()"
   ],
   "id": "fa0acd0edfe1947",
   "outputs": [
    {
     "data": {
      "text/plain": [
       "<Figure size 1000x600 with 1 Axes>"
      ],
      "image/png": "[encoded data removed]"
     },
     "metadata": {},
     "output_type": "display_data"
    }
   ],
   "execution_count": 130
  },
  {
   "metadata": {},
   "cell_type": "markdown",
   "source": [
    "## template\n",
    "\n",
    "Media type: LB media\n",
    "\n",
    "Bacterial species:\n",
    "\n",
    "Units used in calculations:\n",
    "\n",
    "QUESTIONS/ISSUES:"
   ],
   "id": "8ca28d6d7d486f2b"
  },
  {
   "metadata": {},
   "cell_type": "markdown",
   "source": "## More LB media sources (that have more varying conditions)",
   "id": "5e1e95a9d8cb1e0c"
  },
  {
   "metadata": {},
   "cell_type": "code",
   "outputs": [
    {
     "data": {
      "text/plain": [
       "shape: (4, 4)\n",
       "┌─────────┬─────────────┬───────────┬────────────┐\n",
       "│ Element ┆ CFT073/pGEN ┆ yhiM/pGEN ┆ yhim_yhim  │\n",
       "│ ---     ┆ ---         ┆ ---       ┆ ---        │\n",
       "│ str     ┆ f64         ┆ f64       ┆ f64        │\n",
       "╞═════════╪═════════════╪═══════════╪════════════╡\n",
       "│ Cu      ┆ 114.675768  ┆ 77.8157   ┆ 135.153584 │\n",
       "│ Fe      ┆ 821.25      ┆ 615.0     ┆ 1023.75    │\n",
       "│ Mn      ┆ 22.0        ┆ 19.4      ┆ 47.4       │\n",
       "│ Zn      ┆ 780.0       ┆ 772.5     ┆ 1087.5     │\n",
       "└─────────┴─────────────┴───────────┴────────────┘"
      ],
      "text/html": [
       "<div><style>\n",
       ".dataframe > thead > tr,\n",
       ".dataframe > tbody > tr {\n",
       "  text-align: right;\n",
       "  white-space: pre-wrap;\n",
       "}\n",
       "</style>\n",
       "<small>shape: (4, 4)</small><table border=\"1\" class=\"dataframe\"><thead><tr><th>Element</th><th>CFT073/pGEN</th><th>yhiM/pGEN</th><th>yhim_yhim</th></tr><tr><td>str</td><td>f64</td><td>f64</td><td>f64</td></tr></thead><tbody><tr><td>&quot;Cu&quot;</td><td>114.675768</td><td>77.8157</td><td>135.153584</td></tr><tr><td>&quot;Fe&quot;</td><td>821.25</td><td>615.0</td><td>1023.75</td></tr><tr><td>&quot;Mn&quot;</td><td>22.0</td><td>19.4</td><td>47.4</td></tr><tr><td>&quot;Zn&quot;</td><td>780.0</td><td>772.5</td><td>1087.5</td></tr></tbody></table></div>"
      ]
     },
     "execution_count": 31,
     "metadata": {},
     "output_type": "execute_result"
    }
   ],
   "execution_count": 31,
   "source": [
    "# LB media from Saenkham-Huntsinger et al., 2024 (https://journals.asm.org/doi/full/10.1128/mbio.03522-23):\n",
    "SH_F2A_2024 = pd.read_excel(\"notebooks/mia_notebooks/Saenkham_2024_F2a_data.xlsx\")\n",
    "SH_F2A_2024 = pl.DataFrame(SH_F2A_2024)\n",
    "SH_F2A_2024\n",
    "# TODO: find if there is a WT tested???"
   ],
   "id": "bc7045e44a2c3675"
  },
  {
   "metadata": {
    "ExecuteTime": {
     "end_time": "2024-07-09T16:24:22.780432Z",
     "start_time": "2024-07-09T16:24:22.772924Z"
    }
   },
   "cell_type": "code",
   "source": "",
   "id": "4f87935887e8ab83",
   "outputs": [
    {
     "data": {
      "text/plain": [
       "shape: (4, 4)\n",
       "┌────────────┬─────────────┬────────────┬─────────────┐\n",
       "│ Unnamed: 0 ┆ CFT073/pGEN ┆ yhiM/pGEN  ┆ yhim_yhim   │\n",
       "│ ---        ┆ ---         ┆ ---        ┆ ---         │\n",
       "│ str        ┆ f64         ┆ f64        ┆ f64         │\n",
       "╞════════════╪═════════════╪════════════╪═════════════╡\n",
       "│ Cu         ┆ 1136.986301 ┆ 369.863014 ┆ 1397.260274 │\n",
       "│ Fe         ┆ 766.917293  ┆ 514.285714 ┆ 917.293233  │\n",
       "│ Mn         ┆ 609.022556  ┆ 796.992481 ┆ 996.240602  │\n",
       "│ Zn         ┆ 2675.0      ┆ 1025.0     ┆ 2562.5      │\n",
       "└────────────┴─────────────┴────────────┴─────────────┘"
      ],
      "text/html": [
       "<div><style>\n",
       ".dataframe > thead > tr,\n",
       ".dataframe > tbody > tr {\n",
       "  text-align: right;\n",
       "  white-space: pre-wrap;\n",
       "}\n",
       "</style>\n",
       "<small>shape: (4, 4)</small><table border=\"1\" class=\"dataframe\"><thead><tr><th>Unnamed: 0</th><th>CFT073/pGEN</th><th>yhiM/pGEN</th><th>yhim_yhim</th></tr><tr><td>str</td><td>f64</td><td>f64</td><td>f64</td></tr></thead><tbody><tr><td>&quot;Cu&quot;</td><td>1136.986301</td><td>369.863014</td><td>1397.260274</td></tr><tr><td>&quot;Fe&quot;</td><td>766.917293</td><td>514.285714</td><td>917.293233</td></tr><tr><td>&quot;Mn&quot;</td><td>609.022556</td><td>796.992481</td><td>996.240602</td></tr><tr><td>&quot;Zn&quot;</td><td>2675.0</td><td>1025.0</td><td>2562.5</td></tr></tbody></table></div>"
      ]
     },
     "execution_count": 56,
     "metadata": {},
     "output_type": "execute_result"
    }
   ],
   "execution_count": 56
  },
  {
   "metadata": {},
   "cell_type": "code",
   "outputs": [],
   "execution_count": null,
   "source": "# todo do the other LB media papers here! and consider doing one with the + Cu media?",
   "id": "e165f7db54384c28"
  },
  {
   "metadata": {},
   "cell_type": "code",
   "outputs": [],
   "execution_count": null,
   "source": [
    "# add the log of the metal ions per cell to the data frame:\n",
    "# TODO edit this for the new LB data\n",
    "LBM_F1_2019_df = LBM_F1_2019_df.with_columns(pl.col(\"metal ions per cell (ranging from 1000 to 1E+09)\").log10().alias(\"LBM_Budhraja_log_APC\"))\n",
    "LBM_F1_2019_df\n",
    "\n",
    "# Select and filter relevant data from each source\n",
    "H_2022 = LBM_F1_2022_df.select([\"metal\", \"LBM_Huynh_log_APC\"]).filter(pl.col(\"metal\").is_in(overlap_element_names))\n",
    "B_2019 = LBM_F1_2019_df.select([\"metal\", \"LBM_Budhraja_log_APC\"]).filter(pl.col(\"metal\").is_in(overlap_element_names))\n",
    "U_T112 = LBM_T112_2017_df.select([\"Symbol\", \"LBM_Umemura_T112_log_APC\"]).filter(pl.col(\"Symbol\").is_in(overlap_element_names))\n",
    "\n",
    "# Rename the 'Symbol' column in U_T112 to 'Element' for consistency\n",
    "H_2022 = H_2022.rename({\"metal\": \"Element\"})\n",
    "B_2019 = B_2019.rename({\"metal\": \"Element\"})\n",
    "U_T112 = U_T112.rename({\"Symbol\": \"Element\"})\n",
    "\n",
    "# Ensure unique column names before joining\n",
    "H_2022 = H_2022.rename({\"LBM_Huynh_log_APC\": \"Huynh et al., 2022\"})\n",
    "B_2019 = B_2019.rename({\"LBM_Budhraja_log_APC\": \"Budhraja et al., 2019\"})\n",
    "U_T112 = U_T112.rename({\"LBM_Umemura_T112_log_APC\": \"Umamura et al., 2017\"})"
   ],
   "id": "b0cfac62a1109b31"
  },
  {
   "metadata": {},
   "cell_type": "markdown",
   "source": "## Minimal Media Plots with more of the data sources: ",
   "id": "5b6755487f486450"
  },
  {
   "metadata": {
    "ExecuteTime": {
     "end_time": "2024-07-09T16:27:30.225731Z",
     "start_time": "2024-07-09T16:27:30.217771Z"
    }
   },
   "cell_type": "code",
   "source": [
    "# MOPS data from LaVoie et al., 2015: https://link.springer.com/article/10.1007/s00775-015-1303-1/figures/4\n",
    "LaVoie_F4_2015 = pd.read_excel(\"notebooks/mia_notebooks/LaVoie_2015_F4_data.xlsx\")\n",
    "LaVoie_F4_2015\n",
    "# minimal media data from LaVoie:\n",
    "MOPS_LaVoie_2015 = pl.DataFrame(LaVoie_F4_2015[[\"Element\",\"unexposed\"]])\n",
    "MOPS_LaVoie_2015 = MOPS_LaVoie_2015.rename({\"unexposed\": \"MOPS_LaVoie_log_APC\"})\n",
    "# TODO: figure out if this is already in the correct log transformed format\n",
    "MOPS_LaVoie_2015\n"
   ],
   "id": "38a33cac189e0fc7",
   "outputs": [
    {
     "data": {
      "text/plain": [
       "shape: (7, 2)\n",
       "┌─────────┬─────────────────────┐\n",
       "│ Element ┆ MOPS_LaVoie_log_APC │\n",
       "│ ---     ┆ ---                 │\n",
       "│ str     ┆ f64                 │\n",
       "╞═════════╪═════════════════════╡\n",
       "│ Mg      ┆ 7.339623            │\n",
       "│ Mn      ┆ 4.450135            │\n",
       "│ Fe      ┆ 5.894879            │\n",
       "│ Co      ┆ 3.975741            │\n",
       "│ Ni      ┆ 3.609164            │\n",
       "│ Cu      ┆ 4.277628            │\n",
       "│ Zn      ┆ 4.838275            │\n",
       "└─────────┴─────────────────────┘"
      ],
      "text/html": [
       "<div><style>\n",
       ".dataframe > thead > tr,\n",
       ".dataframe > tbody > tr {\n",
       "  text-align: right;\n",
       "  white-space: pre-wrap;\n",
       "}\n",
       "</style>\n",
       "<small>shape: (7, 2)</small><table border=\"1\" class=\"dataframe\"><thead><tr><th>Element</th><th>MOPS_LaVoie_log_APC</th></tr><tr><td>str</td><td>f64</td></tr></thead><tbody><tr><td>&quot;Mg&quot;</td><td>7.339623</td></tr><tr><td>&quot;Mn&quot;</td><td>4.450135</td></tr><tr><td>&quot;Fe&quot;</td><td>5.894879</td></tr><tr><td>&quot;Co&quot;</td><td>3.975741</td></tr><tr><td>&quot;Ni&quot;</td><td>3.609164</td></tr><tr><td>&quot;Cu&quot;</td><td>4.277628</td></tr><tr><td>&quot;Zn&quot;</td><td>4.838275</td></tr></tbody></table></div>"
      ]
     },
     "execution_count": 57,
     "metadata": {},
     "output_type": "execute_result"
    }
   ],
   "execution_count": 57
  },
  {
   "metadata": {
    "ExecuteTime": {
     "end_time": "2024-07-09T16:57:57.701952Z",
     "start_time": "2024-07-09T16:57:57.697434Z"
    }
   },
   "cell_type": "code",
   "source": [
    "# M9 media from Umamura et al., 2017, table 11.2:  https://link.springer.com/chapter/10.1007/978-4-431-56463-8_11\n",
    "# todo figure out if i need to be dividinig by something in table 11.3??? I think I do? \n",
    "M9_T112_2017_df = pl.DataFrame(LBM_T112_2017[[\"Symbol\",\"E. coli\\xa0MG1655 in M9\"]])\n",
    "M9_T112_2017_df = M9_T112_2017_df.with_columns(pl.col(\"E. coli\\xa0MG1655 in M9\").log10().alias(\"M9_Umemura_T112_log_APC\"))\n",
    "M9_T112_2017_df"
   ],
   "id": "41734ff19d3dd358",
   "outputs": [
    {
     "data": {
      "text/plain": [
       "shape: (48, 3)\n",
       "┌────────┬──────────────────────┬─────────────────────────┐\n",
       "│ Symbol ┆ E. coli MG1655 in M9 ┆ M9_Umemura_T112_log_APC │\n",
       "│ ---    ┆ ---                  ┆ ---                     │\n",
       "│ str    ┆ f64                  ┆ f64                     │\n",
       "╞════════╪══════════════════════╪═════════════════════════╡\n",
       "│ Mg     ┆ 1.1e8                ┆ 8.041393                │\n",
       "│ P      ┆ 5.6e8                ┆ 8.748188                │\n",
       "│ S      ┆ 1.5e8                ┆ 8.176091                │\n",
       "│ K      ┆ 4.2e8                ┆ 8.623249                │\n",
       "│ Ca     ┆ 3.8e6                ┆ 6.579784                │\n",
       "│ …      ┆ …                    ┆ …                       │\n",
       "│ Au     ┆ null                 ┆ null                    │\n",
       "│ Tl     ┆ null                 ┆ null                    │\n",
       "│ Pb     ┆ 120.0                ┆ 2.079181                │\n",
       "│ Th     ┆ null                 ┆ null                    │\n",
       "│ U      ┆ 12.0                 ┆ 1.079181                │\n",
       "└────────┴──────────────────────┴─────────────────────────┘"
      ],
      "text/html": [
       "<div><style>\n",
       ".dataframe > thead > tr,\n",
       ".dataframe > tbody > tr {\n",
       "  text-align: right;\n",
       "  white-space: pre-wrap;\n",
       "}\n",
       "</style>\n",
       "<small>shape: (48, 3)</small><table border=\"1\" class=\"dataframe\"><thead><tr><th>Symbol</th><th>E. coli MG1655 in M9</th><th>M9_Umemura_T112_log_APC</th></tr><tr><td>str</td><td>f64</td><td>f64</td></tr></thead><tbody><tr><td>&quot;Mg&quot;</td><td>1.1e8</td><td>8.041393</td></tr><tr><td>&quot;P&quot;</td><td>5.6e8</td><td>8.748188</td></tr><tr><td>&quot;S&quot;</td><td>1.5e8</td><td>8.176091</td></tr><tr><td>&quot;K&quot;</td><td>4.2e8</td><td>8.623249</td></tr><tr><td>&quot;Ca&quot;</td><td>3.8e6</td><td>6.579784</td></tr><tr><td>&hellip;</td><td>&hellip;</td><td>&hellip;</td></tr><tr><td>&quot;Au&quot;</td><td>null</td><td>null</td></tr><tr><td>&quot;Tl&quot;</td><td>null</td><td>null</td></tr><tr><td>&quot;Pb&quot;</td><td>120.0</td><td>2.079181</td></tr><tr><td>&quot;Th&quot;</td><td>null</td><td>null</td></tr><tr><td>&quot;U&quot;</td><td>12.0</td><td>1.079181</td></tr></tbody></table></div>"
      ]
     },
     "execution_count": 63,
     "metadata": {},
     "output_type": "execute_result"
    }
   ],
   "execution_count": 63
  },
  {
   "metadata": {
    "ExecuteTime": {
     "end_time": "2024-07-09T16:41:23.859463Z",
     "start_time": "2024-07-09T16:41:23.852377Z"
    }
   },
   "cell_type": "code",
   "source": [
    "# load in the data from Yan et al., 2019, figure 1A (https://www.sciencedirect.com/science/article/pii/S002192582030538X?via%3Dihub#sec1):\n",
    "Xu_F1A_2019 = pd.read_excel(\"notebooks/mia_notebooks/Xu_2019_F1A_data.xlsx\")\n",
    "MOPS_Xu_2019 = pl.DataFrame(Xu_F1A_2019[[\"Element\",\"Intracellular metal content (per cell) in No Zn(II) supplement\"]])\n",
    "MOPS_Xu_2019 = MOPS_Xu_2019.with_columns(pl.col(\"Intracellular metal content (per cell) in No Zn(II) supplement\").log10().alias(\"MOPS_Xu_log_APC\"))\n",
    "MOPS_Xu_2019"
   ],
   "id": "b8e8659361d8adb9",
   "outputs": [
    {
     "data": {
      "text/plain": [
       "shape: (5, 3)\n",
       "┌─────────┬─────────────────────────────────┬─────────────────┐\n",
       "│ Element ┆ Intracellular metal content (p… ┆ MOPS_Xu_log_APC │\n",
       "│ ---     ┆ ---                             ┆ ---             │\n",
       "│ str     ┆ i64                             ┆ f64             │\n",
       "╞═════════╪═════════════════════════════════╪═════════════════╡\n",
       "│ Zn      ┆ 140000                          ┆ 5.146128        │\n",
       "│ Fe      ┆ 380000                          ┆ 5.579784        │\n",
       "│ Mn      ┆ 32000                           ┆ 4.50515         │\n",
       "│ Ni      ┆ 3000                            ┆ 3.477121        │\n",
       "│ Cu      ┆ 20000                           ┆ 4.30103         │\n",
       "└─────────┴─────────────────────────────────┴─────────────────┘"
      ],
      "text/html": [
       "<div><style>\n",
       ".dataframe > thead > tr,\n",
       ".dataframe > tbody > tr {\n",
       "  text-align: right;\n",
       "  white-space: pre-wrap;\n",
       "}\n",
       "</style>\n",
       "<small>shape: (5, 3)</small><table border=\"1\" class=\"dataframe\"><thead><tr><th>Element</th><th>Intracellular metal content (per cell) in No Zn(II) supplement</th><th>MOPS_Xu_log_APC</th></tr><tr><td>str</td><td>i64</td><td>f64</td></tr></thead><tbody><tr><td>&quot;Zn&quot;</td><td>140000</td><td>5.146128</td></tr><tr><td>&quot;Fe&quot;</td><td>380000</td><td>5.579784</td></tr><tr><td>&quot;Mn&quot;</td><td>32000</td><td>4.50515</td></tr><tr><td>&quot;Ni&quot;</td><td>3000</td><td>3.477121</td></tr><tr><td>&quot;Cu&quot;</td><td>20000</td><td>4.30103</td></tr></tbody></table></div>"
      ]
     },
     "execution_count": 58,
     "metadata": {},
     "output_type": "execute_result"
    }
   ],
   "execution_count": 58
  },
  {
   "metadata": {
    "ExecuteTime": {
     "end_time": "2024-07-09T16:46:13.528309Z",
     "start_time": "2024-07-09T16:46:13.520301Z"
    }
   },
   "cell_type": "code",
   "source": [
    "# Samonella cells in M9 Media from Osman, et al., 2019: https://www.nature.com/articles/s41589-018-0211-4#Sec24\n",
    "Osman_ST3_2019 = pd.read_excel(\"notebooks/mia_notebooks/Osman_2019_ST3_data.xlsx\")\n",
    "Osman_ST3_2019\n",
    "#TODO: ask cyrus if the \"metals exposed\" data is something we also want to plot?\n",
    "# Osman minimal media data: \n",
    "M9_Osman_2019 = pl.DataFrame(Osman_ST3_2019[[\"Element\",\"Total Metal (atoms/cell), Control\"]])\n",
    "M9_Osman_2019 = M9_Osman_2019.with_columns(pl.col(\"Total Metal (atoms/cell), Control\").log10().alias(\"M9_Osman_log_APC\"))\n",
    "M9_Osman_2019"
   ],
   "id": "10240ec0accc265e",
   "outputs": [
    {
     "data": {
      "text/plain": [
       "shape: (7, 3)\n",
       "┌─────────┬─────────────────────────────────┬──────────────────┐\n",
       "│ Element ┆ Total Metal (atoms/cell), Cont… ┆ M9_Osman_log_APC │\n",
       "│ ---     ┆ ---                             ┆ ---              │\n",
       "│ str     ┆ i64                             ┆ f64              │\n",
       "╞═════════╪═════════════════════════════════╪══════════════════╡\n",
       "│ Mg      ┆ 26000000                        ┆ 7.414973         │\n",
       "│ Mn      ┆ 160000                          ┆ 5.20412          │\n",
       "│ Fe      ┆ 200000                          ┆ 5.30103          │\n",
       "│ Co      ┆ 900                             ┆ 2.954243         │\n",
       "│ Zn      ┆ 190000                          ┆ 5.278754         │\n",
       "│ Ni      ┆ 4600                            ┆ 3.662758         │\n",
       "│ Cu      ┆ 5100                            ┆ 3.70757          │\n",
       "└─────────┴─────────────────────────────────┴──────────────────┘"
      ],
      "text/html": [
       "<div><style>\n",
       ".dataframe > thead > tr,\n",
       ".dataframe > tbody > tr {\n",
       "  text-align: right;\n",
       "  white-space: pre-wrap;\n",
       "}\n",
       "</style>\n",
       "<small>shape: (7, 3)</small><table border=\"1\" class=\"dataframe\"><thead><tr><th>Element</th><th>Total Metal (atoms/cell), Control</th><th>M9_Osman_log_APC</th></tr><tr><td>str</td><td>i64</td><td>f64</td></tr></thead><tbody><tr><td>&quot;Mg&quot;</td><td>26000000</td><td>7.414973</td></tr><tr><td>&quot;Mn&quot;</td><td>160000</td><td>5.20412</td></tr><tr><td>&quot;Fe&quot;</td><td>200000</td><td>5.30103</td></tr><tr><td>&quot;Co&quot;</td><td>900</td><td>2.954243</td></tr><tr><td>&quot;Zn&quot;</td><td>190000</td><td>5.278754</td></tr><tr><td>&quot;Ni&quot;</td><td>4600</td><td>3.662758</td></tr><tr><td>&quot;Cu&quot;</td><td>5100</td><td>3.70757</td></tr></tbody></table></div>"
      ]
     },
     "execution_count": 59,
     "metadata": {},
     "output_type": "execute_result"
    }
   ],
   "execution_count": 59
  },
  {
   "metadata": {
    "ExecuteTime": {
     "end_time": "2024-07-09T16:49:46.210052Z",
     "start_time": "2024-07-09T16:49:46.201735Z"
    }
   },
   "cell_type": "code",
   "source": [
    "# load in data from Beauchene 2014: https://asset.library.wisc.edu/1711.dl/LE7AB2DFQKDIP8O/R/file-1aa76.pdf\n",
    "Beauchene_T2_2014 = pd.read_excel(\"notebooks/mia_notebooks/Beauchene_2014_T2_2_data.xlsx\")\n",
    "Beauchene_T2_2014"
   ],
   "id": "1c0f89e59fb66c7",
   "outputs": [
    {
     "data": {
      "text/plain": [
       "   Element  Aerobic Growth (µg/mL cell lysate)  Standard Error  \\\n",
       "0       Mn                               1.066           0.084   \n",
       "1       Co                               0.070           0.008   \n",
       "2       Ni                               0.012           0.001   \n",
       "3       Zn                               2.143           0.050   \n",
       "4       Mg                             139.169           1.723   \n",
       "5        P                            1052.066          10.473   \n",
       "6        S                             556.084           9.182   \n",
       "7       Fe                               6.306           0.371   \n",
       "8        K                             332.128          12.840   \n",
       "9       Cu                               0.163           0.010   \n",
       "10      Ca                               8.140           0.196   \n",
       "\n",
       "    Anaerobic Growth (µg/mL cell lysate)  Standard Error.1  \\\n",
       "0                                  0.029             0.001   \n",
       "1                                  0.013             0.000   \n",
       "2                                  0.007             0.002   \n",
       "3                                  1.341             0.024   \n",
       "4                                105.962             1.016   \n",
       "5                                880.023             3.144   \n",
       "6                                512.049             5.556   \n",
       "7                                  7.508             0.087   \n",
       "8                                516.316             3.029   \n",
       "9                                  0.270             0.046   \n",
       "10                                23.268             1.393   \n",
       "\n",
       "    Aerobic/Araerobic\\nFold-Change  \n",
       "0                             36.6  \n",
       "1                              5.5  \n",
       "2                              1.7  \n",
       "3                              1.6  \n",
       "4                              1.3  \n",
       "5                              1.2  \n",
       "6                              1.1  \n",
       "7                              0.8  \n",
       "8                              0.6  \n",
       "9                              0.6  \n",
       "10                             0.3  "
      ],
      "text/html": [
       "<div>\n",
       "<style scoped>\n",
       "    .dataframe tbody tr th:only-of-type {\n",
       "        vertical-align: middle;\n",
       "    }\n",
       "\n",
       "    .dataframe tbody tr th {\n",
       "        vertical-align: top;\n",
       "    }\n",
       "\n",
       "    .dataframe thead th {\n",
       "        text-align: right;\n",
       "    }\n",
       "</style>\n",
       "<table border=\"1\" class=\"dataframe\">\n",
       "  <thead>\n",
       "    <tr style=\"text-align: right;\">\n",
       "      <th></th>\n",
       "      <th>Element</th>\n",
       "      <th>Aerobic Growth (µg/mL cell lysate)</th>\n",
       "      <th>Standard Error</th>\n",
       "      <th>Anaerobic Growth (µg/mL cell lysate)</th>\n",
       "      <th>Standard Error.1</th>\n",
       "      <th>Aerobic/Araerobic\\nFold-Change</th>\n",
       "    </tr>\n",
       "  </thead>\n",
       "  <tbody>\n",
       "    <tr>\n",
       "      <th>0</th>\n",
       "      <td>Mn</td>\n",
       "      <td>1.066</td>\n",
       "      <td>0.084</td>\n",
       "      <td>0.029</td>\n",
       "      <td>0.001</td>\n",
       "      <td>36.6</td>\n",
       "    </tr>\n",
       "    <tr>\n",
       "      <th>1</th>\n",
       "      <td>Co</td>\n",
       "      <td>0.070</td>\n",
       "      <td>0.008</td>\n",
       "      <td>0.013</td>\n",
       "      <td>0.000</td>\n",
       "      <td>5.5</td>\n",
       "    </tr>\n",
       "    <tr>\n",
       "      <th>2</th>\n",
       "      <td>Ni</td>\n",
       "      <td>0.012</td>\n",
       "      <td>0.001</td>\n",
       "      <td>0.007</td>\n",
       "      <td>0.002</td>\n",
       "      <td>1.7</td>\n",
       "    </tr>\n",
       "    <tr>\n",
       "      <th>3</th>\n",
       "      <td>Zn</td>\n",
       "      <td>2.143</td>\n",
       "      <td>0.050</td>\n",
       "      <td>1.341</td>\n",
       "      <td>0.024</td>\n",
       "      <td>1.6</td>\n",
       "    </tr>\n",
       "    <tr>\n",
       "      <th>4</th>\n",
       "      <td>Mg</td>\n",
       "      <td>139.169</td>\n",
       "      <td>1.723</td>\n",
       "      <td>105.962</td>\n",
       "      <td>1.016</td>\n",
       "      <td>1.3</td>\n",
       "    </tr>\n",
       "    <tr>\n",
       "      <th>5</th>\n",
       "      <td>P</td>\n",
       "      <td>1052.066</td>\n",
       "      <td>10.473</td>\n",
       "      <td>880.023</td>\n",
       "      <td>3.144</td>\n",
       "      <td>1.2</td>\n",
       "    </tr>\n",
       "    <tr>\n",
       "      <th>6</th>\n",
       "      <td>S</td>\n",
       "      <td>556.084</td>\n",
       "      <td>9.182</td>\n",
       "      <td>512.049</td>\n",
       "      <td>5.556</td>\n",
       "      <td>1.1</td>\n",
       "    </tr>\n",
       "    <tr>\n",
       "      <th>7</th>\n",
       "      <td>Fe</td>\n",
       "      <td>6.306</td>\n",
       "      <td>0.371</td>\n",
       "      <td>7.508</td>\n",
       "      <td>0.087</td>\n",
       "      <td>0.8</td>\n",
       "    </tr>\n",
       "    <tr>\n",
       "      <th>8</th>\n",
       "      <td>K</td>\n",
       "      <td>332.128</td>\n",
       "      <td>12.840</td>\n",
       "      <td>516.316</td>\n",
       "      <td>3.029</td>\n",
       "      <td>0.6</td>\n",
       "    </tr>\n",
       "    <tr>\n",
       "      <th>9</th>\n",
       "      <td>Cu</td>\n",
       "      <td>0.163</td>\n",
       "      <td>0.010</td>\n",
       "      <td>0.270</td>\n",
       "      <td>0.046</td>\n",
       "      <td>0.6</td>\n",
       "    </tr>\n",
       "    <tr>\n",
       "      <th>10</th>\n",
       "      <td>Ca</td>\n",
       "      <td>8.140</td>\n",
       "      <td>0.196</td>\n",
       "      <td>23.268</td>\n",
       "      <td>1.393</td>\n",
       "      <td>0.3</td>\n",
       "    </tr>\n",
       "  </tbody>\n",
       "</table>\n",
       "</div>"
      ]
     },
     "execution_count": 60,
     "metadata": {},
     "output_type": "execute_result"
    }
   ],
   "execution_count": 60
  },
  {
   "metadata": {},
   "cell_type": "code",
   "outputs": [],
   "execution_count": null,
   "source": [
    "# minimal media data from Beauchene (aerobic conditions)\n",
    "MOPS_aerobic_Beauchene_2014 = pl.DataFrame(Beauchene_T2_2014[[\"Aerobic Growth (µg/mL cell lysate)\"]])\n",
    "MOPS_aerobic_Beauchene_2014 = MOPS_aerobic_Beauchene_2014.with_columns((pl.col(\"Aerobic Growth (µg/mL cell lysate)\") * .000001).alias(\"MOPS_aerobic_Beauchene\"))\n",
    "MOPS_aerobic_Beauchene_2014  = MOPS_aerobic_Beauchene_2014.with_columns((pl.col(\"MOPS_aerobic_Beauchene\") / .333 ).alias(\"MOPS_aerobic_Beauchene_log_APC\"))\n",
    "\n",
    "avogadro_number = 6.022e23  # atoms/mol\n",
    "# TODO mia double check these values with cyrus. ask if he would want the dry weight or wet weight of E. coli:\n",
    "cell_mass = 1e-12  # g (average mass of a dry E. coli cell according to https://ecmdb.ca/e_coli_stats)\n",
    "number_of_cells = 1e6  # number of cells (e.g., 10^6 CFU)\n",
    "# todo: I know i have to use each elements molecular mass here, but I also need to know the total mass of cells or the volume of the cell lysate to convert this to atoms/cell.. ask cyrus if he has any ideas on how to estimate these properly 13,140 or 13,190 "
   ],
   "id": "e0b3700d5358ee88"
  },
  {
   "metadata": {
    "ExecuteTime": {
     "end_time": "2024-07-09T17:12:55.932922Z",
     "start_time": "2024-07-09T17:12:55.927710Z"
    }
   },
   "cell_type": "code",
   "source": [
    "# minimal media data from GT data: \n",
    "GT_mm_data = GT_data[:9]\n",
    "GT_mm_df = pl.DataFrame(GT_mm_data[[\"Element\",\"Atoms/cell\"]])\n",
    "GT_mm_df = GT_mm_df.with_columns(pl.col(\"Atoms/cell\").log10().alias(\"GT_mm_log_APC\"))\n",
    "\n",
    "# replace the element names with the column names:\n",
    "col_names = [\"Mo\", \"Zn\", \"Cu\", \"Ni\", \"Co\", \"Fe\", \"Mn\", \"Cr\", \"V\"]\n",
    "GT_mm_df = GT_mm_df.with_columns(pl.col(\"Element\").replace(pl.col(\"Element\"), col_names).alias(\"Element\"))\n",
    "GT_mm_df"
   ],
   "id": "f4c9de859e12f4ad",
   "outputs": [
    {
     "data": {
      "text/plain": [
       "shape: (9, 3)\n",
       "┌─────────┬───────────────┬───────────────┐\n",
       "│ Element ┆ Atoms/cell    ┆ GT_mm_log_APC │\n",
       "│ ---     ┆ ---           ┆ ---           │\n",
       "│ str     ┆ f64           ┆ f64           │\n",
       "╞═════════╪═══════════════╪═══════════════╡\n",
       "│ Mo      ┆ 3983.324414   ┆ 3.600246      │\n",
       "│ Zn      ┆ 199808.236064 ┆ 5.300613      │\n",
       "│ Cu      ┆ 7850.676467   ┆ 3.894907      │\n",
       "│ Ni      ┆ 3780.077086   ┆ 3.577501      │\n",
       "│ Co      ┆ 520.075813    ┆ 2.716067      │\n",
       "│ Fe      ┆ 179978.374255 ┆ 5.25522       │\n",
       "│ Mn      ┆ 3315.067378   ┆ 3.520492      │\n",
       "│ Cr      ┆ 1556.247155   ┆ 3.192079      │\n",
       "│ V       ┆ 923.335846    ┆ 2.96536       │\n",
       "└─────────┴───────────────┴───────────────┘"
      ],
      "text/html": [
       "<div><style>\n",
       ".dataframe > thead > tr,\n",
       ".dataframe > tbody > tr {\n",
       "  text-align: right;\n",
       "  white-space: pre-wrap;\n",
       "}\n",
       "</style>\n",
       "<small>shape: (9, 3)</small><table border=\"1\" class=\"dataframe\"><thead><tr><th>Element</th><th>Atoms/cell</th><th>GT_mm_log_APC</th></tr><tr><td>str</td><td>f64</td><td>f64</td></tr></thead><tbody><tr><td>&quot;Mo&quot;</td><td>3983.324414</td><td>3.600246</td></tr><tr><td>&quot;Zn&quot;</td><td>199808.236064</td><td>5.300613</td></tr><tr><td>&quot;Cu&quot;</td><td>7850.676467</td><td>3.894907</td></tr><tr><td>&quot;Ni&quot;</td><td>3780.077086</td><td>3.577501</td></tr><tr><td>&quot;Co&quot;</td><td>520.075813</td><td>2.716067</td></tr><tr><td>&quot;Fe&quot;</td><td>179978.374255</td><td>5.25522</td></tr><tr><td>&quot;Mn&quot;</td><td>3315.067378</td><td>3.520492</td></tr><tr><td>&quot;Cr&quot;</td><td>1556.247155</td><td>3.192079</td></tr><tr><td>&quot;V&quot;</td><td>923.335846</td><td>2.96536</td></tr></tbody></table></div>"
      ]
     },
     "execution_count": 68,
     "metadata": {},
     "output_type": "execute_result"
    }
   ],
   "execution_count": 68
  },
  {
   "metadata": {
    "ExecuteTime": {
     "end_time": "2024-07-09T17:12:56.685964Z",
     "start_time": "2024-07-09T17:12:56.677685Z"
    }
   },
   "cell_type": "code",
   "source": [
    "# add the log of the metal ions per cell to the data frame:\n",
    "# TODO edit this for the new minimal media data\n",
    "\n",
    "# Select and filter relevant data from each source\n",
    "L_2015 = MOPS_LaVoie_2015.select([\"Element\", \"MOPS_LaVoie_log_APC\"]).filter(pl.col(\"Element\").is_in(overlap_element_names))\n",
    "U_2017 = M9_T112_2017_df.select([\"Symbol\", \"M9_Umemura_T112_log_APC\"]).filter(pl.col(\"Symbol\").is_in(overlap_element_names))\n",
    "X_2019 = MOPS_Xu_2019.select([\"Element\", \"MOPS_Xu_log_APC\"]).filter(pl.col(\"Element\").is_in(overlap_element_names))\n",
    "O_2019 = M9_Osman_2019.select([\"Element\", \"M9_Osman_log_APC\"]).filter(pl.col(\"Element\").is_in(overlap_element_names))\n",
    "#todo add beauchene data here!!!\n",
    "# Rename the 'Symbol' column in U_T112 to 'Element' for consistency\n",
    "U_2017 = U_2017.rename({\"Symbol\": \"Element\"})\n",
    "\n",
    "# Ensure unique column names before joining\n",
    "L_2015 = L_2015.rename({\"MOPS_LaVoie_log_APC\": \"E. coli K-12 MG1655 in MOPS (LaVoie et al., 2015)\"})\n",
    "U_2017 = U_2017.rename({\"M9_Umemura_T112_log_APC\": \"E. coli K-12 MG1655 in M9 (Umemura et al., 2017)\"})\n",
    "X_2019 = X_2019.rename({\"MOPS_Xu_log_APC\": \"E. coli MG1655 in MOPS (Xu et al., 2019)\"})\n",
    "O_2019 = O_2019.rename({\"M9_Osman_log_APC\": \"Salmonella in M9 (Osman et al., 2019)\"})\n",
    "\n",
    "# Perform outer joins to combine the DataFrames\n",
    "mm_exp_data = L_2015.join(U_2017, on=\"Element\", how=\"left\")\n",
    "mm_exp_data = mm_exp_data.join(X_2019, on=\"Element\", how=\"left\")\n",
    "mm_exp_data = mm_exp_data.join(O_2019, on=\"Element\", how=\"left\")\n",
    "mm_exp_data"
   ],
   "id": "1011d66a01f56b8f",
   "outputs": [
    {
     "name": "stderr",
     "output_type": "stream",
     "text": [
      "/var/folders/fg/mh5y1dgn2n5ft000p664m2z80000gq/T/ipykernel_6617/627330177.py:20: DeprecationWarning: The default coalesce behavior of left join will change to `False` in the next breaking release. Pass `coalesce=True` to keep the current behavior and silence this warning.\n",
      "  mm_exp_data = L_2015.join(U_2017, on=\"Element\", how=\"left\")\n",
      "/var/folders/fg/mh5y1dgn2n5ft000p664m2z80000gq/T/ipykernel_6617/627330177.py:21: DeprecationWarning: The default coalesce behavior of left join will change to `False` in the next breaking release. Pass `coalesce=True` to keep the current behavior and silence this warning.\n",
      "  mm_exp_data = mm_exp_data.join(X_2019, on=\"Element\", how=\"left\")\n",
      "/var/folders/fg/mh5y1dgn2n5ft000p664m2z80000gq/T/ipykernel_6617/627330177.py:22: DeprecationWarning: The default coalesce behavior of left join will change to `False` in the next breaking release. Pass `coalesce=True` to keep the current behavior and silence this warning.\n",
      "  mm_exp_data = mm_exp_data.join(O_2019, on=\"Element\", how=\"left\")\n"
     ]
    },
    {
     "data": {
      "text/plain": [
       "shape: (6, 5)\n",
       "┌─────────┬────────────────────────┬────────────────────────┬───────────────────┬──────────────────┐\n",
       "│ Element ┆ E. coli K-12 MG1655 in ┆ E. coli K-12 MG1655 in ┆ E. coli MG1655 in ┆ Salmonella in M9 │\n",
       "│ ---     ┆ MOPS (L…               ┆ M9 (Ume…               ┆ MOPS (Xu et …     ┆ (Osman et al.…   │\n",
       "│ str     ┆ ---                    ┆ ---                    ┆ ---               ┆ ---              │\n",
       "│         ┆ f64                    ┆ f64                    ┆ f64               ┆ f64              │\n",
       "╞═════════╪════════════════════════╪════════════════════════╪═══════════════════╪══════════════════╡\n",
       "│ Mn      ┆ 4.450135               ┆ 4.643453               ┆ 4.50515           ┆ 5.20412          │\n",
       "│ Fe      ┆ 5.894879               ┆ 6.079181               ┆ 5.579784          ┆ 5.30103          │\n",
       "│ Co      ┆ 3.975741               ┆ 3.342423               ┆ null              ┆ 2.954243         │\n",
       "│ Ni      ┆ 3.609164               ┆ 4.20412                ┆ 3.477121          ┆ 3.662758         │\n",
       "│ Cu      ┆ 4.277628               ┆ 4.845098               ┆ 4.30103           ┆ 3.70757          │\n",
       "│ Zn      ┆ 4.838275               ┆ 5.69897                ┆ 5.146128          ┆ 5.278754         │\n",
       "└─────────┴────────────────────────┴────────────────────────┴───────────────────┴──────────────────┘"
      ],
      "text/html": [
       "<div><style>\n",
       ".dataframe > thead > tr,\n",
       ".dataframe > tbody > tr {\n",
       "  text-align: right;\n",
       "  white-space: pre-wrap;\n",
       "}\n",
       "</style>\n",
       "<small>shape: (6, 5)</small><table border=\"1\" class=\"dataframe\"><thead><tr><th>Element</th><th>E. coli K-12 MG1655 in MOPS (LaVoie et al., 2015)</th><th>E. coli K-12 MG1655 in M9 (Umemura et al., 2017)</th><th>E. coli MG1655 in MOPS (Xu et al., 2019)</th><th>Salmonella in M9 (Osman et al., 2019)</th></tr><tr><td>str</td><td>f64</td><td>f64</td><td>f64</td><td>f64</td></tr></thead><tbody><tr><td>&quot;Mn&quot;</td><td>4.450135</td><td>4.643453</td><td>4.50515</td><td>5.20412</td></tr><tr><td>&quot;Fe&quot;</td><td>5.894879</td><td>6.079181</td><td>5.579784</td><td>5.30103</td></tr><tr><td>&quot;Co&quot;</td><td>3.975741</td><td>3.342423</td><td>null</td><td>2.954243</td></tr><tr><td>&quot;Ni&quot;</td><td>3.609164</td><td>4.20412</td><td>3.477121</td><td>3.662758</td></tr><tr><td>&quot;Cu&quot;</td><td>4.277628</td><td>4.845098</td><td>4.30103</td><td>3.70757</td></tr><tr><td>&quot;Zn&quot;</td><td>4.838275</td><td>5.69897</td><td>5.146128</td><td>5.278754</td></tr></tbody></table></div>"
      ]
     },
     "execution_count": 69,
     "metadata": {},
     "output_type": "execute_result"
    }
   ],
   "execution_count": 69
  },
  {
   "metadata": {
    "ExecuteTime": {
     "end_time": "2024-07-09T17:14:52.354184Z",
     "start_time": "2024-07-09T17:14:52.248581Z"
    }
   },
   "cell_type": "code",
   "source": [
    "# Combine all minimal media data: \n",
    "GT_mm = GT_mm_df.select([\"Element\", \"GT_mm_log_APC\"])\n",
    "GT_mm = GT_mm.rename({\"GT_mm_log_APC\": \"E. coli (Outten & O'Halloran, 2001 (GT Data))\"})\n",
    "mm_df = GT_mm.join(mm_exp_data, on=\"Element\", how=\"inner\")\n",
    "\n",
    "# Melt the Polars DataFrame to long format\n",
    "df_mm_long = mm_df.melt(id_vars=[\"Element\"], variable_name=\"Data Source\", value_name=\"$log_{10}(Atoms/CFU)$\")\n",
    "# Convert to Pandas DataFrame\n",
    "df_mm_long_pd = df_mm_long.to_pandas()\n",
    "\n",
    "# Create the strip plot\n",
    "plt.figure(figsize=(10, 6))\n",
    "sns.stripplot(data=df_mm_long_pd, y=\"$log_{10}(Atoms/CFU)$\", x=\"Element\", hue=\"Data Source\", jitter=False)\n",
    "plt.title(\"Metal Element Counts for Bacteria Cells in Minimal Media\")\n",
    "plt.show()"
   ],
   "id": "b9f51d513f25126b",
   "outputs": [
    {
     "data": {
      "text/plain": [
       "<Figure size 1000x600 with 1 Axes>"
      ],
      "image/png": "[encoded data removed]"
     },
     "metadata": {},
     "output_type": "display_data"
    }
   ],
   "execution_count": 72
  },
  {
   "metadata": {
    "ExecuteTime": {
     "end_time": "2024-07-09T17:15:41.607799Z",
     "start_time": "2024-07-09T17:15:41.501057Z"
    }
   },
   "cell_type": "code",
   "source": [
    "# other orientation: \n",
    "plt.figure(figsize=(10, 6))\n",
    "sns.stripplot(data=df_mm_long_pd, x=\"$log_{10}(Atoms/CFU)$\", y=\"Element\", hue=\"Data Source\", jitter=False)\n",
    "plt.title(\"Metal Element Counts for Bacteria Cells in Minimal Media\")\n",
    "plt.show()"
   ],
   "id": "5e3c6f759b50117e",
   "outputs": [
    {
     "data": {
      "text/plain": [
       "<Figure size 1000x600 with 1 Axes>"
      ],
      "image/png": "[encoded data removed]"
     },
     "metadata": {},
     "output_type": "display_data"
    }
   ],
   "execution_count": 73
  },
  {
   "metadata": {
    "ExecuteTime": {
     "end_time": "2024-07-09T17:16:16.651686Z",
     "start_time": "2024-07-09T17:16:16.516254Z"
    }
   },
   "cell_type": "code",
   "source": [
    "# create a bar plot of the metal counts data: \n",
    "import matplotlib.pyplot as plt\n",
    "plt.figure(figsize=(10, 6))\n",
    "sns.barplot(data=df_mm_long_pd, x=\"Element\", y=\"$log_{10}(Atoms/CFU)$\", hue=\"Data Source\")\n",
    "plt.title(\"Minimal Media Metal Element Counts in Bacteria Cells\")\n",
    "plt.show()"
   ],
   "id": "d20a3b0fbbd71d1a",
   "outputs": [
    {
     "data": {
      "text/plain": [
       "<Figure size 1000x600 with 1 Axes>"
      ],
      "image/png": "[encoded data removed]"
     },
     "metadata": {},
     "output_type": "display_data"
    }
   ],
   "execution_count": 74
  },
  {
   "metadata": {},
   "cell_type": "markdown",
   "source": "# Minimal media plots ",
   "id": "ebe58c4b88e5902e"
  },
  {
   "metadata": {},
   "cell_type": "code",
   "outputs": [
    {
     "data": {
      "text/plain": [
       "shape: (5, 3)\n",
       "┌─────────┬───────────────────────────────────┬───────────────┐\n",
       "│ Element ┆ Intracellular metal content (per… ┆ Zn_Xu_log_APC │\n",
       "│ ---     ┆ ---                               ┆ ---           │\n",
       "│ str     ┆ f64                               ┆ f64           │\n",
       "╞═════════╪═══════════════════════════════════╪═══════════════╡\n",
       "│ Zn      ┆ 4.9                               ┆ 0.690196      │\n",
       "│ Fe      ┆ 4.8                               ┆ 0.681241      │\n",
       "│ Mn      ┆ 3.5                               ┆ 0.544068      │\n",
       "│ Ni      ┆ 0.3                               ┆ -0.522879     │\n",
       "│ Cu      ┆ 1.4                               ┆ 0.146128      │\n",
       "└─────────┴───────────────────────────────────┴───────────────┘"
      ],
      "text/html": [
       "<div><style>\n",
       ".dataframe > thead > tr,\n",
       ".dataframe > tbody > tr {\n",
       "  text-align: right;\n",
       "  white-space: pre-wrap;\n",
       "}\n",
       "</style>\n",
       "<small>shape: (5, 3)</small><table border=\"1\" class=\"dataframe\"><thead><tr><th>Element</th><th>Intracellular metal content (per cell) in 0.1 mM Zn(II)</th><th>Zn_Xu_log_APC</th></tr><tr><td>str</td><td>f64</td><td>f64</td></tr></thead><tbody><tr><td>&quot;Zn&quot;</td><td>4.9</td><td>0.690196</td></tr><tr><td>&quot;Fe&quot;</td><td>4.8</td><td>0.681241</td></tr><tr><td>&quot;Mn&quot;</td><td>3.5</td><td>0.544068</td></tr><tr><td>&quot;Ni&quot;</td><td>0.3</td><td>-0.522879</td></tr><tr><td>&quot;Cu&quot;</td><td>1.4</td><td>0.146128</td></tr></tbody></table></div>"
      ]
     },
     "execution_count": 23,
     "metadata": {},
     "output_type": "execute_result"
    }
   ],
   "execution_count": 23,
   "source": [
    "# the rich media from this paper is made rich by the fact that there is a little bit of Zn in it:\n",
    "# TODO ask cyrus if this is the right data to use for rich media (or minimal instead)\n",
    "Zn_Xu_2019 = pl.DataFrame(Xu_F1A_2019[[\"Element\",\"Intracellular metal content (per cell) in 0.1 mM Zn(II)\"]])\n",
    "Zn_Xu_2019 = Zn_Xu_2019.with_columns(pl.col(\"Intracellular metal content (per cell) in 0.1 mM Zn(II)\").log10().alias(\"Zn_Xu_log_APC\"))\n",
    "Zn_Xu_2019"
   ],
   "id": "9bfe89a22306b813"
  },
  {
   "metadata": {},
   "cell_type": "code",
   "outputs": [
    {
     "data": {
      "text/plain": [
       "  Element  Total Metal (atoms/cell), Control  \\\n",
       "0      Mg                           26000000   \n",
       "1      Mn                             160000   \n",
       "2      Fe                             200000   \n",
       "3      Co                                900   \n",
       "4      Zn                             190000   \n",
       "5      Ni                               4600   \n",
       "6      Cu                               5100   \n",
       "\n",
       "   Total Metal (atoms/cell), Metal Exposed  \n",
       "0                                      0.0  \n",
       "1                                 180000.0  \n",
       "2                                 970000.0  \n",
       "3                                  35600.0  \n",
       "4                                 230000.0  \n",
       "5                                  27400.0  \n",
       "6                                 242600.0  "
      ],
      "text/html": [
       "<div>\n",
       "<style scoped>\n",
       "    .dataframe tbody tr th:only-of-type {\n",
       "        vertical-align: middle;\n",
       "    }\n",
       "\n",
       "    .dataframe tbody tr th {\n",
       "        vertical-align: top;\n",
       "    }\n",
       "\n",
       "    .dataframe thead th {\n",
       "        text-align: right;\n",
       "    }\n",
       "</style>\n",
       "<table border=\"1\" class=\"dataframe\">\n",
       "  <thead>\n",
       "    <tr style=\"text-align: right;\">\n",
       "      <th></th>\n",
       "      <th>Element</th>\n",
       "      <th>Total Metal (atoms/cell), Control</th>\n",
       "      <th>Total Metal (atoms/cell), Metal Exposed</th>\n",
       "    </tr>\n",
       "  </thead>\n",
       "  <tbody>\n",
       "    <tr>\n",
       "      <th>0</th>\n",
       "      <td>Mg</td>\n",
       "      <td>26000000</td>\n",
       "      <td>0.0</td>\n",
       "    </tr>\n",
       "    <tr>\n",
       "      <th>1</th>\n",
       "      <td>Mn</td>\n",
       "      <td>160000</td>\n",
       "      <td>180000.0</td>\n",
       "    </tr>\n",
       "    <tr>\n",
       "      <th>2</th>\n",
       "      <td>Fe</td>\n",
       "      <td>200000</td>\n",
       "      <td>970000.0</td>\n",
       "    </tr>\n",
       "    <tr>\n",
       "      <th>3</th>\n",
       "      <td>Co</td>\n",
       "      <td>900</td>\n",
       "      <td>35600.0</td>\n",
       "    </tr>\n",
       "    <tr>\n",
       "      <th>4</th>\n",
       "      <td>Zn</td>\n",
       "      <td>190000</td>\n",
       "      <td>230000.0</td>\n",
       "    </tr>\n",
       "    <tr>\n",
       "      <th>5</th>\n",
       "      <td>Ni</td>\n",
       "      <td>4600</td>\n",
       "      <td>27400.0</td>\n",
       "    </tr>\n",
       "    <tr>\n",
       "      <th>6</th>\n",
       "      <td>Cu</td>\n",
       "      <td>5100</td>\n",
       "      <td>242600.0</td>\n",
       "    </tr>\n",
       "  </tbody>\n",
       "</table>\n",
       "</div>"
      ]
     },
     "execution_count": 24,
     "metadata": {},
     "output_type": "execute_result"
    }
   ],
   "execution_count": 24,
   "source": [
    "# Samonella cells in M9 Media from Osman, et al., 2019: https://www.nature.com/articles/s41589-018-0211-4#Sec24\n",
    "Osman_ST3_2019 = pd.read_excel(\"notebooks/mia_notebooks/Osman_2019_ST3_data.xlsx\")\n",
    "Osman_ST3_2019\n",
    "#TODO: ask cyrus if the \"metals exposed\" data is something we also want to plot?\n",
    "# Osman minimal media data: \n",
    "M9_Osman_2019 = pl.DataFrame(Osman_ST3_2019[[\"Element\",\"Total Metal (atoms/cell), Control\"]])\n",
    "M9_Osman_2019 = M9_Osman_2019.with_columns(pl.col(\"Total Metal (atoms/cell), Control\").log10().alias(\"M9_Osman_log_APC\"))\n",
    "M9_Osman_2019"
   ],
   "id": "72685e79fa0196b5"
  },
  {
   "metadata": {},
   "cell_type": "code",
   "outputs": [
    {
     "data": {
      "text/plain": [
       "shape: (7, 3)\n",
       "┌─────────┬───────────────────────────────────┬──────────────────┐\n",
       "│ Element ┆ Total Metal (atoms/cell), Contro… ┆ M9_Osman_log_APC │\n",
       "│ ---     ┆ ---                               ┆ ---              │\n",
       "│ str     ┆ i64                               ┆ f64              │\n",
       "╞═════════╪═══════════════════════════════════╪══════════════════╡\n",
       "│ Mg      ┆ 26000000                          ┆ 7.414973         │\n",
       "│ Mn      ┆ 160000                            ┆ 5.20412          │\n",
       "│ Fe      ┆ 200000                            ┆ 5.30103          │\n",
       "│ Co      ┆ 900                               ┆ 2.954243         │\n",
       "│ Zn      ┆ 190000                            ┆ 5.278754         │\n",
       "│ Ni      ┆ 4600                              ┆ 3.662758         │\n",
       "│ Cu      ┆ 5100                              ┆ 3.70757          │\n",
       "└─────────┴───────────────────────────────────┴──────────────────┘"
      ],
      "text/html": [
       "<div><style>\n",
       ".dataframe > thead > tr,\n",
       ".dataframe > tbody > tr {\n",
       "  text-align: right;\n",
       "  white-space: pre-wrap;\n",
       "}\n",
       "</style>\n",
       "<small>shape: (7, 3)</small><table border=\"1\" class=\"dataframe\"><thead><tr><th>Element</th><th>Total Metal (atoms/cell), Control</th><th>M9_Osman_log_APC</th></tr><tr><td>str</td><td>i64</td><td>f64</td></tr></thead><tbody><tr><td>&quot;Mg&quot;</td><td>26000000</td><td>7.414973</td></tr><tr><td>&quot;Mn&quot;</td><td>160000</td><td>5.20412</td></tr><tr><td>&quot;Fe&quot;</td><td>200000</td><td>5.30103</td></tr><tr><td>&quot;Co&quot;</td><td>900</td><td>2.954243</td></tr><tr><td>&quot;Zn&quot;</td><td>190000</td><td>5.278754</td></tr><tr><td>&quot;Ni&quot;</td><td>4600</td><td>3.662758</td></tr><tr><td>&quot;Cu&quot;</td><td>5100</td><td>3.70757</td></tr></tbody></table></div>"
      ]
     },
     "execution_count": 25,
     "metadata": {},
     "output_type": "execute_result"
    }
   ],
   "execution_count": 25,
   "source": [
    "# Osman minimal media data: \n",
    "M9_Osman_2019 = pl.DataFrame(Osman_ST3_2019[[\"Element\",\"Total Metal (atoms/cell), Control\"]])\n",
    "M9_Osman_2019 = M9_Osman_2019.with_columns(pl.col(\"Total Metal (atoms/cell), Control\").log10().alias(\"M9_Osman_log_APC\"))\n",
    "M9_Osman_2019"
   ],
   "id": "1bcf433f5d5d6870"
  },
  {
   "metadata": {},
   "cell_type": "code",
   "outputs": [
    {
     "data": {
      "text/plain": [
       "  Element  unexposed  40 µM PMA  160 µM MT   16 µM HgCl2  80 µM HgCl2\n",
       "0      Mg   7.339623   7.382749    7.469003     7.506739     7.339623\n",
       "1      Mn   4.450135   4.234501    4.730458     3.932615     4.423181\n",
       "2      Fe   5.894879   5.700809    5.808625     5.851752     5.700809\n",
       "3      Co   3.975741   3.927224    3.932615     3.867925     3.932615\n",
       "4      Ni   3.609164   4.148248    3.846361     3.711590     3.544474\n",
       "5      Cu   4.277628   4.471698    4.514825     4.563342     4.277628\n",
       "6      Zn   4.838275   4.795148    5.204852     4.843666     4.730458"
      ],
      "text/html": [
       "<div>\n",
       "<style scoped>\n",
       "    .dataframe tbody tr th:only-of-type {\n",
       "        vertical-align: middle;\n",
       "    }\n",
       "\n",
       "    .dataframe tbody tr th {\n",
       "        vertical-align: top;\n",
       "    }\n",
       "\n",
       "    .dataframe thead th {\n",
       "        text-align: right;\n",
       "    }\n",
       "</style>\n",
       "<table border=\"1\" class=\"dataframe\">\n",
       "  <thead>\n",
       "    <tr style=\"text-align: right;\">\n",
       "      <th></th>\n",
       "      <th>Element</th>\n",
       "      <th>unexposed</th>\n",
       "      <th>40 µM PMA</th>\n",
       "      <th>160 µM MT</th>\n",
       "      <th>16 µM HgCl2</th>\n",
       "      <th>80 µM HgCl2</th>\n",
       "    </tr>\n",
       "  </thead>\n",
       "  <tbody>\n",
       "    <tr>\n",
       "      <th>0</th>\n",
       "      <td>Mg</td>\n",
       "      <td>7.339623</td>\n",
       "      <td>7.382749</td>\n",
       "      <td>7.469003</td>\n",
       "      <td>7.506739</td>\n",
       "      <td>7.339623</td>\n",
       "    </tr>\n",
       "    <tr>\n",
       "      <th>1</th>\n",
       "      <td>Mn</td>\n",
       "      <td>4.450135</td>\n",
       "      <td>4.234501</td>\n",
       "      <td>4.730458</td>\n",
       "      <td>3.932615</td>\n",
       "      <td>4.423181</td>\n",
       "    </tr>\n",
       "    <tr>\n",
       "      <th>2</th>\n",
       "      <td>Fe</td>\n",
       "      <td>5.894879</td>\n",
       "      <td>5.700809</td>\n",
       "      <td>5.808625</td>\n",
       "      <td>5.851752</td>\n",
       "      <td>5.700809</td>\n",
       "    </tr>\n",
       "    <tr>\n",
       "      <th>3</th>\n",
       "      <td>Co</td>\n",
       "      <td>3.975741</td>\n",
       "      <td>3.927224</td>\n",
       "      <td>3.932615</td>\n",
       "      <td>3.867925</td>\n",
       "      <td>3.932615</td>\n",
       "    </tr>\n",
       "    <tr>\n",
       "      <th>4</th>\n",
       "      <td>Ni</td>\n",
       "      <td>3.609164</td>\n",
       "      <td>4.148248</td>\n",
       "      <td>3.846361</td>\n",
       "      <td>3.711590</td>\n",
       "      <td>3.544474</td>\n",
       "    </tr>\n",
       "    <tr>\n",
       "      <th>5</th>\n",
       "      <td>Cu</td>\n",
       "      <td>4.277628</td>\n",
       "      <td>4.471698</td>\n",
       "      <td>4.514825</td>\n",
       "      <td>4.563342</td>\n",
       "      <td>4.277628</td>\n",
       "    </tr>\n",
       "    <tr>\n",
       "      <th>6</th>\n",
       "      <td>Zn</td>\n",
       "      <td>4.838275</td>\n",
       "      <td>4.795148</td>\n",
       "      <td>5.204852</td>\n",
       "      <td>4.843666</td>\n",
       "      <td>4.730458</td>\n",
       "    </tr>\n",
       "  </tbody>\n",
       "</table>\n",
       "</div>"
      ]
     },
     "execution_count": 26,
     "metadata": {},
     "output_type": "execute_result"
    }
   ],
   "execution_count": 26,
   "source": [
    "# load in LaVoie Data from: https://link.springer.com/article/10.1007/s00775-015-1303-1\n",
    "LaVoie_F4_2015 = pd.read_excel(\"notebooks/mia_notebooks/LaVoie_2015_F4_data.xlsx\")\n",
    "LaVoie_F4_2015\n",
    "# minimal media data from LaVoie:\n",
    "MOPS_LaVoie_2015 = pl.DataFrame(LaVoie_F4_2015[[\"Element\",\"unexposed\"]])\n",
    "MOPS_LaVoie_2015 = MOPS_LaVoie_2015.rename({\"unexposed\": \"MOPS_LaVoie_log_APC\"})\n",
    "# TODO: figure out if this is already in the correct log transformed format\n",
    "MOPS_LaVoie_2015"
   ],
   "id": "f4296b5500cfa31"
  },
  {
   "metadata": {},
   "cell_type": "code",
   "outputs": [
    {
     "data": {
      "text/plain": [
       "shape: (7, 2)\n",
       "┌─────────┬─────────────────────┐\n",
       "│ Element ┆ MOPS_LaVoie_log_APC │\n",
       "│ ---     ┆ ---                 │\n",
       "│ str     ┆ f64                 │\n",
       "╞═════════╪═════════════════════╡\n",
       "│ Mg      ┆ 7.339623            │\n",
       "│ Mn      ┆ 4.450135            │\n",
       "│ Fe      ┆ 5.894879            │\n",
       "│ Co      ┆ 3.975741            │\n",
       "│ Ni      ┆ 3.609164            │\n",
       "│ Cu      ┆ 4.277628            │\n",
       "│ Zn      ┆ 4.838275            │\n",
       "└─────────┴─────────────────────┘"
      ],
      "text/html": [
       "<div><style>\n",
       ".dataframe > thead > tr,\n",
       ".dataframe > tbody > tr {\n",
       "  text-align: right;\n",
       "  white-space: pre-wrap;\n",
       "}\n",
       "</style>\n",
       "<small>shape: (7, 2)</small><table border=\"1\" class=\"dataframe\"><thead><tr><th>Element</th><th>MOPS_LaVoie_log_APC</th></tr><tr><td>str</td><td>f64</td></tr></thead><tbody><tr><td>&quot;Mg&quot;</td><td>7.339623</td></tr><tr><td>&quot;Mn&quot;</td><td>4.450135</td></tr><tr><td>&quot;Fe&quot;</td><td>5.894879</td></tr><tr><td>&quot;Co&quot;</td><td>3.975741</td></tr><tr><td>&quot;Ni&quot;</td><td>3.609164</td></tr><tr><td>&quot;Cu&quot;</td><td>4.277628</td></tr><tr><td>&quot;Zn&quot;</td><td>4.838275</td></tr></tbody></table></div>"
      ]
     },
     "execution_count": 27,
     "metadata": {},
     "output_type": "execute_result"
    }
   ],
   "execution_count": 27,
   "source": [
    "# minimal media data from LaVoie:\n",
    "MOPS_LaVoie_2015 = pl.DataFrame(LaVoie_F4_2015[[\"Element\",\"unexposed\"]])\n",
    "MOPS_LaVoie_2015 = MOPS_LaVoie_2015.rename({\"unexposed\": \"MOPS_LaVoie_log_APC\"})\n",
    "# TODO: figure out if this is already in the correct log transformed format\n",
    "MOPS_LaVoie_2015"
   ],
   "id": "d811acdeadb95bff"
  },
  {
   "metadata": {},
   "cell_type": "code",
   "outputs": [
    {
     "data": {
      "text/plain": [
       "   Element  Aerobic Growth (µg/mL cell lysate)  Standard Error  \\\n",
       "0       Mn                               1.066           0.084   \n",
       "1       Co                               0.070           0.008   \n",
       "2       Ni                               0.012           0.001   \n",
       "3       Zn                               2.143           0.050   \n",
       "4       Mg                             139.169           1.723   \n",
       "5        P                            1052.066          10.473   \n",
       "6        S                             556.084           9.182   \n",
       "7       Fe                               6.306           0.371   \n",
       "8        K                             332.128          12.840   \n",
       "9       Cu                               0.163           0.010   \n",
       "10      Ca                               8.140           0.196   \n",
       "\n",
       "    Anaerobic Growth (µg/mL cell lysate)  Standard Error.1  \\\n",
       "0                                  0.029             0.001   \n",
       "1                                  0.013             0.000   \n",
       "2                                  0.007             0.002   \n",
       "3                                  1.341             0.024   \n",
       "4                                105.962             1.016   \n",
       "5                                880.023             3.144   \n",
       "6                                512.049             5.556   \n",
       "7                                  7.508             0.087   \n",
       "8                                516.316             3.029   \n",
       "9                                  0.270             0.046   \n",
       "10                                23.268             1.393   \n",
       "\n",
       "    Aerobic/Araerobic\\nFold-Change  \n",
       "0                             36.6  \n",
       "1                              5.5  \n",
       "2                              1.7  \n",
       "3                              1.6  \n",
       "4                              1.3  \n",
       "5                              1.2  \n",
       "6                              1.1  \n",
       "7                              0.8  \n",
       "8                              0.6  \n",
       "9                              0.6  \n",
       "10                             0.3  "
      ],
      "text/html": [
       "<div>\n",
       "<style scoped>\n",
       "    .dataframe tbody tr th:only-of-type {\n",
       "        vertical-align: middle;\n",
       "    }\n",
       "\n",
       "    .dataframe tbody tr th {\n",
       "        vertical-align: top;\n",
       "    }\n",
       "\n",
       "    .dataframe thead th {\n",
       "        text-align: right;\n",
       "    }\n",
       "</style>\n",
       "<table border=\"1\" class=\"dataframe\">\n",
       "  <thead>\n",
       "    <tr style=\"text-align: right;\">\n",
       "      <th></th>\n",
       "      <th>Element</th>\n",
       "      <th>Aerobic Growth (µg/mL cell lysate)</th>\n",
       "      <th>Standard Error</th>\n",
       "      <th>Anaerobic Growth (µg/mL cell lysate)</th>\n",
       "      <th>Standard Error.1</th>\n",
       "      <th>Aerobic/Araerobic\\nFold-Change</th>\n",
       "    </tr>\n",
       "  </thead>\n",
       "  <tbody>\n",
       "    <tr>\n",
       "      <th>0</th>\n",
       "      <td>Mn</td>\n",
       "      <td>1.066</td>\n",
       "      <td>0.084</td>\n",
       "      <td>0.029</td>\n",
       "      <td>0.001</td>\n",
       "      <td>36.6</td>\n",
       "    </tr>\n",
       "    <tr>\n",
       "      <th>1</th>\n",
       "      <td>Co</td>\n",
       "      <td>0.070</td>\n",
       "      <td>0.008</td>\n",
       "      <td>0.013</td>\n",
       "      <td>0.000</td>\n",
       "      <td>5.5</td>\n",
       "    </tr>\n",
       "    <tr>\n",
       "      <th>2</th>\n",
       "      <td>Ni</td>\n",
       "      <td>0.012</td>\n",
       "      <td>0.001</td>\n",
       "      <td>0.007</td>\n",
       "      <td>0.002</td>\n",
       "      <td>1.7</td>\n",
       "    </tr>\n",
       "    <tr>\n",
       "      <th>3</th>\n",
       "      <td>Zn</td>\n",
       "      <td>2.143</td>\n",
       "      <td>0.050</td>\n",
       "      <td>1.341</td>\n",
       "      <td>0.024</td>\n",
       "      <td>1.6</td>\n",
       "    </tr>\n",
       "    <tr>\n",
       "      <th>4</th>\n",
       "      <td>Mg</td>\n",
       "      <td>139.169</td>\n",
       "      <td>1.723</td>\n",
       "      <td>105.962</td>\n",
       "      <td>1.016</td>\n",
       "      <td>1.3</td>\n",
       "    </tr>\n",
       "    <tr>\n",
       "      <th>5</th>\n",
       "      <td>P</td>\n",
       "      <td>1052.066</td>\n",
       "      <td>10.473</td>\n",
       "      <td>880.023</td>\n",
       "      <td>3.144</td>\n",
       "      <td>1.2</td>\n",
       "    </tr>\n",
       "    <tr>\n",
       "      <th>6</th>\n",
       "      <td>S</td>\n",
       "      <td>556.084</td>\n",
       "      <td>9.182</td>\n",
       "      <td>512.049</td>\n",
       "      <td>5.556</td>\n",
       "      <td>1.1</td>\n",
       "    </tr>\n",
       "    <tr>\n",
       "      <th>7</th>\n",
       "      <td>Fe</td>\n",
       "      <td>6.306</td>\n",
       "      <td>0.371</td>\n",
       "      <td>7.508</td>\n",
       "      <td>0.087</td>\n",
       "      <td>0.8</td>\n",
       "    </tr>\n",
       "    <tr>\n",
       "      <th>8</th>\n",
       "      <td>K</td>\n",
       "      <td>332.128</td>\n",
       "      <td>12.840</td>\n",
       "      <td>516.316</td>\n",
       "      <td>3.029</td>\n",
       "      <td>0.6</td>\n",
       "    </tr>\n",
       "    <tr>\n",
       "      <th>9</th>\n",
       "      <td>Cu</td>\n",
       "      <td>0.163</td>\n",
       "      <td>0.010</td>\n",
       "      <td>0.270</td>\n",
       "      <td>0.046</td>\n",
       "      <td>0.6</td>\n",
       "    </tr>\n",
       "    <tr>\n",
       "      <th>10</th>\n",
       "      <td>Ca</td>\n",
       "      <td>8.140</td>\n",
       "      <td>0.196</td>\n",
       "      <td>23.268</td>\n",
       "      <td>1.393</td>\n",
       "      <td>0.3</td>\n",
       "    </tr>\n",
       "  </tbody>\n",
       "</table>\n",
       "</div>"
      ]
     },
     "execution_count": 34,
     "metadata": {},
     "output_type": "execute_result"
    }
   ],
   "execution_count": 34,
   "source": [
    "# load in data from Beauchene 2014: https://asset.library.wisc.edu/1711.dl/LE7AB2DFQKDIP8O/R/file-1aa76.pdf\n",
    "Beauchene_T2_2014 = pd.read_excel(\"notebooks/mia_notebooks/Beauchene_2014_T2_2_data.xlsx\")\n",
    "Beauchene_T2_2014"
   ],
   "id": "8f306383dd657c65"
  },
  {
   "metadata": {},
   "cell_type": "code",
   "outputs": [],
   "execution_count": 40,
   "source": [
    "# minimal media data from Beauchene (aerobic conditions)\n",
    "MOPS_aerobic_Beauchene_2014 = pl.DataFrame(Beauchene_T2_2014[[\"Aerobic Growth (µg/mL cell lysate)\"]])\n",
    "MOPS_aerobic_Beauchene_2014 = MOPS_aerobic_Beauchene_2014.with_columns((pl.col(\"Aerobic Growth (µg/mL cell lysate)\") * .000001).alias(\"MOPS_aerobic_Beauchene\"))\n",
    "MOPS_aerobic_Beauchene_2014  = MOPS_aerobic_Beauchene_2014.with_columns((pl.col(\"MOPS_aerobic_Beauchene\") / .333 ).alias(\"MOPS_aerobic_Beauchene_log_APC\"))\n",
    "\n",
    "avogadro_number = 6.022e23  # atoms/mol\n",
    "# TODO mia double check these values\n",
    "cell_mass = 1e-12  # g (average mass of a single bacterial cell)\n",
    "number_of_cells = 1e6  # number of cells (e.g., 10^6 CFU)\n",
    "# todo: I know i have to use each elements molecular mass here, but I also need to know the total mass of cells or the volume of the cell lysate to convert this to atoms/cell.. ask cyrus if he has any ideas on how to estimate these properly 13,140 or 13,190 "
   ],
   "id": "45fae4c5dd53cb1"
  },
  {
   "metadata": {},
   "cell_type": "code",
   "outputs": [
    {
     "data": {
      "text/plain": [
       "shape: (11, 2)\n",
       "┌───────────────────────────────────┬────────────────────────┐\n",
       "│ Aerobic Growth (µg/mL cell lysat… ┆ MOPS_aerobic_Beauchene │\n",
       "│ ---                               ┆ ---                    │\n",
       "│ f64                               ┆ f64                    │\n",
       "╞═══════════════════════════════════╪════════════════════════╡\n",
       "│ 1.066                             ┆ 0.000001               │\n",
       "│ 0.07                              ┆ 7.0000e-8              │\n",
       "│ 0.012                             ┆ 1.2000e-8              │\n",
       "│ 2.143                             ┆ 0.000002               │\n",
       "│ 139.169                           ┆ 0.000139               │\n",
       "│ …                                 ┆ …                      │\n",
       "│ 556.084                           ┆ 0.000556               │\n",
       "│ 6.306                             ┆ 0.000006               │\n",
       "│ 332.128                           ┆ 0.000332               │\n",
       "│ 0.163                             ┆ 1.6300e-7              │\n",
       "│ 8.14                              ┆ 0.000008               │\n",
       "└───────────────────────────────────┴────────────────────────┘"
      ],
      "text/html": [
       "<div><style>\n",
       ".dataframe > thead > tr,\n",
       ".dataframe > tbody > tr {\n",
       "  text-align: right;\n",
       "  white-space: pre-wrap;\n",
       "}\n",
       "</style>\n",
       "<small>shape: (11, 2)</small><table border=\"1\" class=\"dataframe\"><thead><tr><th>Aerobic Growth (µg/mL cell lysate)</th><th>MOPS_aerobic_Beauchene</th></tr><tr><td>f64</td><td>f64</td></tr></thead><tbody><tr><td>1.066</td><td>0.000001</td></tr><tr><td>0.07</td><td>7.0000e-8</td></tr><tr><td>0.012</td><td>1.2000e-8</td></tr><tr><td>2.143</td><td>0.000002</td></tr><tr><td>139.169</td><td>0.000139</td></tr><tr><td>&hellip;</td><td>&hellip;</td></tr><tr><td>556.084</td><td>0.000556</td></tr><tr><td>6.306</td><td>0.000006</td></tr><tr><td>332.128</td><td>0.000332</td></tr><tr><td>0.163</td><td>1.6300e-7</td></tr><tr><td>8.14</td><td>0.000008</td></tr></tbody></table></div>"
      ]
     },
     "execution_count": 41,
     "metadata": {},
     "output_type": "execute_result"
    }
   ],
   "execution_count": 41,
   "source": "MOPS_aerobic_Beauchene_2014\n",
   "id": "4c3725dd74bb627a"
  },
  {
   "metadata": {},
   "cell_type": "code",
   "outputs": [],
   "execution_count": null,
   "source": [
    "# Create a data frame of all the data that overlaps with the ground truth data\n",
    "overlap_element_names = [\"Fe\", \"Mn\", \"Zn\", \"Cu\", \"Co\", \"Ni\", \"Mo\", \"V\", \"Cr\"]\n",
    "\n",
    "# Select and filter relevant data from each source\n",
    "X_MOPS_2019 = MOPS_Xu_2019.select([\"Element\", \"MOPS_Xu_log_APC\"]).filter(pl.col(\"Element\").is_in(overlap_element_names))\n",
    "X_Zn_MOPS_2019 = Zn_Xu_2019.select([\"Element\", \"Zn_Xu_log_APC\"]).filter(pl.col(\"Element\").is_in(overlap_element_names))\n",
    "O_M9_2019 = M9_Osman_2019.select([\"Element\", \"M9_Osman_log_APC\"]).filter(pl.col(\"Element\").is_in(overlap_element_names))\n",
    "L_MOPS_2015 = MOPS_LaVoie_2015.select([\"Element\", \"MOPS_LaVoie_log_APC\"]).filter(pl.col(\"Element\").is_in(overlap_element_names))\n",
    "\n",
    "H_2022 = LBM_F1_2022_df.select([\"metal\", \"LBM_Huynh_log_APC\"]).filter(pl.col(\"metal\").is_in(overlap_element_names))\n",
    "B_2019 = LBM_F1_2019_df.select([\"metal\", \"LBM_Budhraja_log_APC\"]).filter(pl.col(\"metal\").is_in(overlap_element_names))\n",
    "U_T112 = LBM_T112_2017_df.select([\"Symbol\", \"LBM_Umemura_T112_log_APC\"]).filter(pl.col(\"Symbol\").is_in(overlap_element_names))\n",
    "\n",
    "# Rename the 'Symbol' column in U_T112 to 'Element' for consistency\n",
    "H_2022 = H_2022.rename({\"metal\": \"Element\"})\n",
    "B_2019 = B_2019.rename({\"metal\": \"Element\"})\n",
    "U_T112 = U_T112.rename({\"Symbol\": \"Element\"})\n",
    "\n",
    "# Ensure unique column names before joining\n",
    "H_2022 = H_2022.rename({\"LBM_Huynh_log_APC\": \"Huynh et al., 2022\"})\n",
    "B_2019 = B_2019.rename({\"LBM_Budhraja_log_APC\": \"Budhraja et al., 2019\"})\n",
    "U_T112 = U_T112.rename({\"LBM_Umemura_T112_log_APC\": \"Umamura et al., 2017\"})\n",
    "\n",
    "# Perform outer joins to combine the DataFrames\n",
    "lb_exp_data = H_2022.join(B_2019, on=\"Element\", how=\"left\")\n",
    "lb_exp_data = lb_exp_data.join(U_T112, on=\"Element\", how=\"left\")\n",
    "lb_exp_data\n",
    "hello = 2"
   ],
   "id": "8c11547423879069"
  }
 ],
 "metadata": {
  "kernelspec": {
   "display_name": "Python 3",
   "language": "python",
   "name": "python3"
  },
  "language_info": {
   "codemirror_mode": {
    "name": "ipython",
    "version": 2
   },
   "file_extension": ".py",
   "mimetype": "text/x-python",
   "name": "python",
   "nbconvert_exporter": "python",
   "pygments_lexer": "ipython2",
   "version": "2.7.6"
  }
 },
 "nbformat": 4,
 "nbformat_minor": 5
}
