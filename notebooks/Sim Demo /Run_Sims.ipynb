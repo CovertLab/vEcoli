{
 "cells": [
  {
   "cell_type": "markdown",
   "id": "c83ee770-b4fc-422e-9c70-c0ede1980a11",
   "metadata": {
    "pycharm": {
     "name": "#%% md\n"
    }
   },
   "source": [
    "# **Imports**"
   ]
  },
  {
   "cell_type": "code",
   "execution_count": 1,
   "id": "173d9835-7ed0-49b6-b5cd-0cac94a81d6b",
   "metadata": {
    "pycharm": {
     "name": "#%%\n"
    }
   },
   "outputs": [],
   "source": [
    "import os\n",
    "os.chdir(os.path.expanduser(\"~/PycharmProjects/vivarium-ecoli\"))"
   ]
  },
  {
   "cell_type": "code",
   "execution_count": 2,
   "id": "66f6457a",
   "metadata": {
    "collapsed": false,
    "jupyter": {
     "outputs_hidden": false
    },
    "pycharm": {
     "name": "#%%\n"
    }
   },
   "outputs": [],
   "source": [
    "import argparse\n",
    "import numpy as np\n",
    "import pathlib, datetime\n",
    "import pandas as pd\n",
    "import math\n",
    "import seaborn as sns\n",
    "\n",
    "# vivarium-core imports\n",
    "import pytest\n",
    "from vivarium.core.engine import Engine\n",
    "from vivarium.core.composer import Composer\n",
    "from vivarium.library.dict_utils import deep_merge\n",
    "\n",
    "# vivarium-ecoli imports\n",
    "from ecoli.experiments.ecoli_master_sim import EcoliSim, CONFIG_DIR_PATH\n",
    "from ecoli.library.sim_data import LoadSimData\n",
    "from ecoli.states.wcecoli_state import get_state_from_file\n",
    "from ecoli.composites.ecoli_master import SIM_DATA_PATH\n",
    "from ecoli.processes.registries import topology_registry"
   ]
  },
  {
   "cell_type": "markdown",
   "id": "eda233ab-9e38-4266-b75c-7da046c6f31f",
   "metadata": {
    "jupyter": {
     "outputs_hidden": false
    },
    "pycharm": {
     "name": "#%%\n"
    }
   },
   "source": [
    "# **Parameters**"
   ]
  },
  {
   "cell_type": "code",
   "execution_count": 3,
   "id": "9b786271-c1c5-43d3-859b-e84c4a1f093c",
   "metadata": {
    "pycharm": {
     "name": "#%%\n"
    }
   },
   "outputs": [],
   "source": [
    "filename='default'\n",
    "total_time=10\n",
    "divide=True\n",
    "initial_state_file='vivecoli_t2'\n",
    "progress_bar=True\n",
    "log_updates=False\n",
    "emitter='timeseries'"
   ]
  },
  {
   "cell_type": "code",
   "execution_count": 4,
   "id": "5abf7b10-c2b0-42c4-8996-d470ceccc0d1",
   "metadata": {
    "pycharm": {
     "name": "#%%\n"
    }
   },
   "outputs": [],
   "source": [
    "sim = EcoliSim.from_file(CONFIG_DIR_PATH + filename + '.json')\n",
    "sim.total_time = total_time\n",
    "sim.raw_output = False\n",
    "sim.divide = divide\n",
    "sim.progress_bar = progress_bar\n",
    "sim.log_updates = log_updates\n",
    "sim.emitter = emitter\n",
    "sim.initial_state = get_state_from_file(path=f'data/{initial_state_file}.json')"
   ]
  },
  {
   "cell_type": "code",
   "execution_count": 5,
   "id": "1cd18a41-4144-4039-b79f-d68b34da6e5a",
   "metadata": {},
   "outputs": [],
   "source": [
    "sim.build_ecoli()"
   ]
  },
  {
   "cell_type": "code",
   "execution_count": 6,
   "id": "64f72d71-bfc2-4045-b6b3-fac054ed1af4",
   "metadata": {},
   "outputs": [
    {
     "data": {
      "text/plain": [
       "{'ecoli-chromosome-structure': ecoli.processes.chromosome_structure.ChromosomeStructure,\n",
       " 'ecoli-metabolism': ecoli.processes.metabolism.Metabolism,\n",
       " 'ecoli-tf-binding': ecoli.processes.tf_binding.TfBinding,\n",
       " 'ecoli-transcript-initiation': ecoli.processes.transcript_initiation.TranscriptInitiation,\n",
       " 'ecoli-transcript-elongation': ecoli.processes.transcript_elongation.TranscriptElongation,\n",
       " 'ecoli-rna-degradation': ecoli.processes.rna_degradation.RnaDegradation,\n",
       " 'ecoli-polypeptide-initiation': ecoli.processes.polypeptide_initiation.PolypeptideInitiation,\n",
       " 'ecoli-polypeptide-elongation': ecoli.processes.polypeptide_elongation.PolypeptideElongation,\n",
       " 'ecoli-complexation': ecoli.processes.complexation.Complexation,\n",
       " 'ecoli-two-component-system': ecoli.processes.two_component_system.TwoComponentSystem,\n",
       " 'ecoli-equilibrium': ecoli.processes.equilibrium.Equilibrium,\n",
       " 'ecoli-protein-degradation': ecoli.processes.protein_degradation.ProteinDegradation,\n",
       " 'ecoli-chromosome-replication': ecoli.processes.chromosome_replication.ChromosomeReplication,\n",
       " 'ecoli-mass-listener': ecoli.processes.listeners.mass_listener.MassListener,\n",
       " 'mRNA_counts_listener': ecoli.processes.listeners.mRNA_counts.mRNACounts,\n",
       " 'monomer_counts_listener': ecoli.processes.listeners.monomer_counts.MonomerCounts}"
      ]
     },
     "execution_count": 6,
     "metadata": {},
     "output_type": "execute_result"
    }
   ],
   "source": [
    "sim.processes"
   ]
  },
  {
   "cell_type": "markdown",
   "id": "48acd0e7-98b0-43c1-8370-e10c48d52e27",
   "metadata": {
    "pycharm": {
     "name": "#%% md\n"
    }
   },
   "source": [
    "# **Run Simulation**"
   ]
  },
  {
   "cell_type": "code",
   "execution_count": 7,
   "id": "c935e362-381c-4b0b-8045-b2488cc53b91",
   "metadata": {
    "pycharm": {
     "name": "#%%\n"
    }
   },
   "outputs": [
    {
     "name": "stdout",
     "output_type": "stream",
     "text": [
      "\n",
      "Simulation ID: 33328874-5f95-11ed-a39b-acde48001122\n",
      "Created: 11/08/2022 at 10:43:17\n",
      "Progress:|██████████████████████████████████████████████████| 0.0/10.0 simulated seconds remaining    \n",
      "Completed in 18.89 seconds\n"
     ]
    }
   ],
   "source": [
    "sim.run()"
   ]
  },
  {
   "cell_type": "markdown",
   "id": "4303e13b-02c1-4333-a94e-bc15efddf5ea",
   "metadata": {
    "pycharm": {
     "name": "#%% md\n"
    }
   },
   "source": [
    "# **Query Output**"
   ]
  },
  {
   "cell_type": "code",
   "execution_count": 8,
   "id": "96a9d297-7eb8-4b4d-af6c-9562ed28e567",
   "metadata": {
    "pycharm": {
     "name": "#%%\n"
    }
   },
   "outputs": [
    {
     "name": "stdin",
     "output_type": "stream",
     "text": [
      "Enter the output Folder Path. If prefer default, press ENTER: \n"
     ]
    }
   ],
   "source": [
    "folderName = input(\"Enter the output Folder Path. If prefer default, press ENTER:\")\n",
    "\n",
    "if folderName == \"\":\n",
    "    folder = f'out/geneRxnVerifData'\n",
    "else:\n",
    "    folder = f'{folderName}'"
   ]
  },
  {
   "cell_type": "markdown",
   "id": "31332909-8a56-46ff-a48f-bd51aed9e7e0",
   "metadata": {
    "pycharm": {
     "name": "#%% md\n"
    }
   },
   "source": [
    "# *Enter Query Parameters*"
   ]
  },
  {
   "cell_type": "code",
   "execution_count": 9,
   "id": "ce6ae91a-8d6d-4161-94ce-23a9997e0f4d",
   "metadata": {
    "pycharm": {
     "name": "#%%\n"
    }
   },
   "outputs": [],
   "source": [
    "query = []\n",
    "agents = sim.query()['agents'].keys()\n",
    "for agent in agents:\n",
    "    query.extend([('agents', agent, 'listeners', 'fba_results'),\n",
    "                  ('agents', agent, 'bulk'), ('agents', agent, 'listeners', 'mass')])\n",
    "output = sim.query(query)\n",
    "\n",
    "pathlib.Path(folder).mkdir(parents=True, exist_ok=True)"
   ]
  },
  {
   "cell_type": "markdown",
   "id": "d7b22a80-bb73-4df8-93ab-4cc044a680bf",
   "metadata": {},
   "source": [
    "# *Visualize Output*"
   ]
  },
  {
   "cell_type": "markdown",
   "id": "d0f611d2-9041-4339-ad56-518e06aebdd6",
   "metadata": {},
   "source": [
    "## Basic Visualization"
   ]
  },
  {
   "cell_type": "code",
   "execution_count": 10,
   "id": "c6d3f774-36a2-4627-b426-747c7ae8c330",
   "metadata": {},
   "outputs": [],
   "source": [
    "all_masses = output['agents']['0']['listeners']['mass']\n",
    "all_masses = pd.DataFrame(all_masses)"
   ]
  },
  {
   "cell_type": "code",
   "execution_count": 11,
   "id": "cfbabfa7-1d91-44a2-b5f1-a5a812e73d73",
   "metadata": {},
   "outputs": [
    {
     "data": {
      "text/html": [
       "<div>\n",
       "<style scoped>\n",
       "    .dataframe tbody tr th:only-of-type {\n",
       "        vertical-align: middle;\n",
       "    }\n",
       "\n",
       "    .dataframe tbody tr th {\n",
       "        vertical-align: top;\n",
       "    }\n",
       "\n",
       "    .dataframe thead th {\n",
       "        text-align: right;\n",
       "    }\n",
       "</style>\n",
       "<table border=\"1\" class=\"dataframe\">\n",
       "  <thead>\n",
       "    <tr style=\"text-align: right;\">\n",
       "      <th></th>\n",
       "      <th>cell_mass</th>\n",
       "      <th>dry_mass</th>\n",
       "      <th>water_mass</th>\n",
       "      <th>rnaMass</th>\n",
       "      <th>rRnaMass</th>\n",
       "      <th>tRnaMass</th>\n",
       "      <th>mRnaMass</th>\n",
       "      <th>dnaMass</th>\n",
       "      <th>proteinMass</th>\n",
       "      <th>smallMoleculeMass</th>\n",
       "      <th>...</th>\n",
       "      <th>smallMoleculeFoldChange</th>\n",
       "      <th>projection_mass</th>\n",
       "      <th>cytosol_mass</th>\n",
       "      <th>extracellular_mass</th>\n",
       "      <th>flagellum_mass</th>\n",
       "      <th>membrane_mass</th>\n",
       "      <th>outer_membrane_mass</th>\n",
       "      <th>periplasm_mass</th>\n",
       "      <th>pilus_mass</th>\n",
       "      <th>inner_membrane_mass</th>\n",
       "    </tr>\n",
       "  </thead>\n",
       "  <tbody>\n",
       "    <tr>\n",
       "      <th>0</th>\n",
       "      <td>1170.397036</td>\n",
       "      <td>351.119077</td>\n",
       "      <td>819.277958</td>\n",
       "      <td>50.722351</td>\n",
       "      <td>41.145928</td>\n",
       "      <td>7.363780</td>\n",
       "      <td>1.966114</td>\n",
       "      <td>6.645941</td>\n",
       "      <td>162.085938</td>\n",
       "      <td>131.664847</td>\n",
       "      <td>...</td>\n",
       "      <td>1.000000</td>\n",
       "      <td>1.073390</td>\n",
       "      <td>1106.882915</td>\n",
       "      <td>2.973489</td>\n",
       "      <td>0.0</td>\n",
       "      <td>4.534407</td>\n",
       "      <td>11.079628</td>\n",
       "      <td>25.117234</td>\n",
       "      <td>0.024604</td>\n",
       "      <td>14.148163</td>\n",
       "    </tr>\n",
       "    <tr>\n",
       "      <th>1</th>\n",
       "      <td>1170.397036</td>\n",
       "      <td>351.106952</td>\n",
       "      <td>819.290084</td>\n",
       "      <td>50.754930</td>\n",
       "      <td>41.171078</td>\n",
       "      <td>7.367007</td>\n",
       "      <td>1.978304</td>\n",
       "      <td>6.649897</td>\n",
       "      <td>162.159778</td>\n",
       "      <td>131.542347</td>\n",
       "      <td>...</td>\n",
       "      <td>0.999070</td>\n",
       "      <td>1.073621</td>\n",
       "      <td>1106.856473</td>\n",
       "      <td>2.975714</td>\n",
       "      <td>0.0</td>\n",
       "      <td>4.537542</td>\n",
       "      <td>11.083848</td>\n",
       "      <td>25.122565</td>\n",
       "      <td>0.024604</td>\n",
       "      <td>14.154579</td>\n",
       "    </tr>\n",
       "    <tr>\n",
       "      <th>2</th>\n",
       "      <td>1170.563620</td>\n",
       "      <td>351.218901</td>\n",
       "      <td>819.344719</td>\n",
       "      <td>50.780476</td>\n",
       "      <td>41.200455</td>\n",
       "      <td>7.371176</td>\n",
       "      <td>1.980837</td>\n",
       "      <td>6.653852</td>\n",
       "      <td>162.240316</td>\n",
       "      <td>131.544257</td>\n",
       "      <td>...</td>\n",
       "      <td>0.999084</td>\n",
       "      <td>1.073812</td>\n",
       "      <td>1106.983144</td>\n",
       "      <td>2.976871</td>\n",
       "      <td>0.0</td>\n",
       "      <td>4.539576</td>\n",
       "      <td>11.088645</td>\n",
       "      <td>25.128810</td>\n",
       "      <td>0.024637</td>\n",
       "      <td>14.162492</td>\n",
       "    </tr>\n",
       "    <tr>\n",
       "      <th>3</th>\n",
       "      <td>1170.733247</td>\n",
       "      <td>351.329201</td>\n",
       "      <td>819.404046</td>\n",
       "      <td>50.807931</td>\n",
       "      <td>41.218703</td>\n",
       "      <td>7.375165</td>\n",
       "      <td>1.985122</td>\n",
       "      <td>6.657807</td>\n",
       "      <td>162.318436</td>\n",
       "      <td>131.545027</td>\n",
       "      <td>...</td>\n",
       "      <td>0.999090</td>\n",
       "      <td>1.074299</td>\n",
       "      <td>1107.116571</td>\n",
       "      <td>2.977790</td>\n",
       "      <td>0.0</td>\n",
       "      <td>4.540987</td>\n",
       "      <td>11.092831</td>\n",
       "      <td>25.133722</td>\n",
       "      <td>0.024637</td>\n",
       "      <td>14.168942</td>\n",
       "    </tr>\n",
       "    <tr>\n",
       "      <th>4</th>\n",
       "      <td>1170.918535</td>\n",
       "      <td>351.451682</td>\n",
       "      <td>819.466853</td>\n",
       "      <td>50.832087</td>\n",
       "      <td>41.234595</td>\n",
       "      <td>7.380147</td>\n",
       "      <td>1.985084</td>\n",
       "      <td>6.661763</td>\n",
       "      <td>162.396954</td>\n",
       "      <td>131.560878</td>\n",
       "      <td>...</td>\n",
       "      <td>0.999210</td>\n",
       "      <td>1.074505</td>\n",
       "      <td>1107.263416</td>\n",
       "      <td>2.979904</td>\n",
       "      <td>0.0</td>\n",
       "      <td>4.543112</td>\n",
       "      <td>11.097689</td>\n",
       "      <td>25.142378</td>\n",
       "      <td>0.024637</td>\n",
       "      <td>14.175742</td>\n",
       "    </tr>\n",
       "    <tr>\n",
       "      <th>5</th>\n",
       "      <td>1171.102115</td>\n",
       "      <td>351.571508</td>\n",
       "      <td>819.530606</td>\n",
       "      <td>50.858384</td>\n",
       "      <td>41.250197</td>\n",
       "      <td>7.384144</td>\n",
       "      <td>1.987756</td>\n",
       "      <td>6.665718</td>\n",
       "      <td>162.472931</td>\n",
       "      <td>131.574475</td>\n",
       "      <td>...</td>\n",
       "      <td>0.999314</td>\n",
       "      <td>1.074718</td>\n",
       "      <td>1107.414902</td>\n",
       "      <td>2.981097</td>\n",
       "      <td>0.0</td>\n",
       "      <td>4.545639</td>\n",
       "      <td>11.102122</td>\n",
       "      <td>25.149933</td>\n",
       "      <td>0.024689</td>\n",
       "      <td>14.181844</td>\n",
       "    </tr>\n",
       "  </tbody>\n",
       "</table>\n",
       "<p>6 rows × 28 columns</p>\n",
       "</div>"
      ],
      "text/plain": [
       "     cell_mass    dry_mass  water_mass    rnaMass   rRnaMass  tRnaMass  \\\n",
       "0  1170.397036  351.119077  819.277958  50.722351  41.145928  7.363780   \n",
       "1  1170.397036  351.106952  819.290084  50.754930  41.171078  7.367007   \n",
       "2  1170.563620  351.218901  819.344719  50.780476  41.200455  7.371176   \n",
       "3  1170.733247  351.329201  819.404046  50.807931  41.218703  7.375165   \n",
       "4  1170.918535  351.451682  819.466853  50.832087  41.234595  7.380147   \n",
       "5  1171.102115  351.571508  819.530606  50.858384  41.250197  7.384144   \n",
       "\n",
       "   mRnaMass   dnaMass  proteinMass  smallMoleculeMass  ...  \\\n",
       "0  1.966114  6.645941   162.085938         131.664847  ...   \n",
       "1  1.978304  6.649897   162.159778         131.542347  ...   \n",
       "2  1.980837  6.653852   162.240316         131.544257  ...   \n",
       "3  1.985122  6.657807   162.318436         131.545027  ...   \n",
       "4  1.985084  6.661763   162.396954         131.560878  ...   \n",
       "5  1.987756  6.665718   162.472931         131.574475  ...   \n",
       "\n",
       "   smallMoleculeFoldChange  projection_mass  cytosol_mass  extracellular_mass  \\\n",
       "0                 1.000000         1.073390   1106.882915            2.973489   \n",
       "1                 0.999070         1.073621   1106.856473            2.975714   \n",
       "2                 0.999084         1.073812   1106.983144            2.976871   \n",
       "3                 0.999090         1.074299   1107.116571            2.977790   \n",
       "4                 0.999210         1.074505   1107.263416            2.979904   \n",
       "5                 0.999314         1.074718   1107.414902            2.981097   \n",
       "\n",
       "   flagellum_mass  membrane_mass  outer_membrane_mass  periplasm_mass  \\\n",
       "0             0.0       4.534407            11.079628       25.117234   \n",
       "1             0.0       4.537542            11.083848       25.122565   \n",
       "2             0.0       4.539576            11.088645       25.128810   \n",
       "3             0.0       4.540987            11.092831       25.133722   \n",
       "4             0.0       4.543112            11.097689       25.142378   \n",
       "5             0.0       4.545639            11.102122       25.149933   \n",
       "\n",
       "   pilus_mass  inner_membrane_mass  \n",
       "0    0.024604            14.148163  \n",
       "1    0.024604            14.154579  \n",
       "2    0.024637            14.162492  \n",
       "3    0.024637            14.168942  \n",
       "4    0.024637            14.175742  \n",
       "5    0.024689            14.181844  \n",
       "\n",
       "[6 rows x 28 columns]"
      ]
     },
     "execution_count": 11,
     "metadata": {},
     "output_type": "execute_result"
    }
   ],
   "source": [
    "all_masses"
   ]
  },
  {
   "cell_type": "markdown",
   "id": "7df50715-a1be-4499-99e1-7aa0a44f6bd2",
   "metadata": {},
   "source": [
    "### Masses to be visualized contained in array below"
   ]
  },
  {
   "cell_type": "code",
   "execution_count": 12,
   "id": "3bc1deb7-2bee-47a1-abba-3ef19ef3e816",
   "metadata": {},
   "outputs": [],
   "source": [
    "collect = ['cell_mass', 'dry_mass', 'dnaMass', 'proteinMass', 'water_mass', 'smallMoleculeMass']"
   ]
  },
  {
   "cell_type": "code",
   "execution_count": 13,
   "id": "abdab00b-03ba-46af-a0aa-f06d7e668a83",
   "metadata": {},
   "outputs": [],
   "source": [
    "masses = all_masses.loc[:,collect]"
   ]
  },
  {
   "cell_type": "code",
   "execution_count": 14,
   "id": "49c4c76a-6dca-43d4-a7d4-854d4b0b4628",
   "metadata": {},
   "outputs": [],
   "source": [
    "for i, name in enumerate(collect):\n",
    "    maxVal = max(list(masses[name]))\n",
    "    masses[name] = masses[name].div(maxVal)"
   ]
  },
  {
   "cell_type": "code",
   "execution_count": 15,
   "id": "b88eeb14-9c06-42d7-b173-7d408279a01e",
   "metadata": {},
   "outputs": [
    {
     "data": {
      "text/html": [
       "<div>\n",
       "<style scoped>\n",
       "    .dataframe tbody tr th:only-of-type {\n",
       "        vertical-align: middle;\n",
       "    }\n",
       "\n",
       "    .dataframe tbody tr th {\n",
       "        vertical-align: top;\n",
       "    }\n",
       "\n",
       "    .dataframe thead th {\n",
       "        text-align: right;\n",
       "    }\n",
       "</style>\n",
       "<table border=\"1\" class=\"dataframe\">\n",
       "  <thead>\n",
       "    <tr style=\"text-align: right;\">\n",
       "      <th></th>\n",
       "      <th>cell_mass</th>\n",
       "      <th>dry_mass</th>\n",
       "      <th>dnaMass</th>\n",
       "      <th>proteinMass</th>\n",
       "      <th>water_mass</th>\n",
       "      <th>smallMoleculeMass</th>\n",
       "    </tr>\n",
       "  </thead>\n",
       "  <tbody>\n",
       "    <tr>\n",
       "      <th>0</th>\n",
       "      <td>0.999398</td>\n",
       "      <td>0.998713</td>\n",
       "      <td>0.997033</td>\n",
       "      <td>0.997618</td>\n",
       "      <td>0.999692</td>\n",
       "      <td>1.000000</td>\n",
       "    </tr>\n",
       "    <tr>\n",
       "      <th>1</th>\n",
       "      <td>0.999398</td>\n",
       "      <td>0.998679</td>\n",
       "      <td>0.997626</td>\n",
       "      <td>0.998073</td>\n",
       "      <td>0.999707</td>\n",
       "      <td>0.999070</td>\n",
       "    </tr>\n",
       "    <tr>\n",
       "      <th>2</th>\n",
       "      <td>0.999540</td>\n",
       "      <td>0.998997</td>\n",
       "      <td>0.998220</td>\n",
       "      <td>0.998568</td>\n",
       "      <td>0.999773</td>\n",
       "      <td>0.999084</td>\n",
       "    </tr>\n",
       "    <tr>\n",
       "      <th>3</th>\n",
       "      <td>0.999685</td>\n",
       "      <td>0.999311</td>\n",
       "      <td>0.998813</td>\n",
       "      <td>0.999049</td>\n",
       "      <td>0.999846</td>\n",
       "      <td>0.999090</td>\n",
       "    </tr>\n",
       "    <tr>\n",
       "      <th>4</th>\n",
       "      <td>0.999843</td>\n",
       "      <td>0.999659</td>\n",
       "      <td>0.999407</td>\n",
       "      <td>0.999532</td>\n",
       "      <td>0.999922</td>\n",
       "      <td>0.999210</td>\n",
       "    </tr>\n",
       "    <tr>\n",
       "      <th>5</th>\n",
       "      <td>1.000000</td>\n",
       "      <td>1.000000</td>\n",
       "      <td>1.000000</td>\n",
       "      <td>1.000000</td>\n",
       "      <td>1.000000</td>\n",
       "      <td>0.999314</td>\n",
       "    </tr>\n",
       "  </tbody>\n",
       "</table>\n",
       "</div>"
      ],
      "text/plain": [
       "   cell_mass  dry_mass   dnaMass  proteinMass  water_mass  smallMoleculeMass\n",
       "0   0.999398  0.998713  0.997033     0.997618    0.999692           1.000000\n",
       "1   0.999398  0.998679  0.997626     0.998073    0.999707           0.999070\n",
       "2   0.999540  0.998997  0.998220     0.998568    0.999773           0.999084\n",
       "3   0.999685  0.999311  0.998813     0.999049    0.999846           0.999090\n",
       "4   0.999843  0.999659  0.999407     0.999532    0.999922           0.999210\n",
       "5   1.000000  1.000000  1.000000     1.000000    1.000000           0.999314"
      ]
     },
     "execution_count": 15,
     "metadata": {},
     "output_type": "execute_result"
    }
   ],
   "source": [
    "masses"
   ]
  },
  {
   "cell_type": "code",
   "execution_count": 16,
   "id": "0f1a0266-4488-4de4-9973-33bf77b28e7b",
   "metadata": {},
   "outputs": [
    {
     "data": {
      "text/plain": [
       "<AxesSubplot:>"
      ]
     },
     "execution_count": 16,
     "metadata": {},
     "output_type": "execute_result"
    },
    {
     "data": {
      "image/png": "[encoded data removed]",
      "text/plain": [
       "<Figure size 432x288 with 1 Axes>"
      ]
     },
     "metadata": {
      "needs_background": "light"
     },
     "output_type": "display_data"
    }
   ],
   "source": [
    "sns.lineplot(data=masses)"
   ]
  },
  {
   "cell_type": "markdown",
   "id": "6749efbb-c3e6-4075-95fd-770a76a649e7",
   "metadata": {},
   "source": [
    "### For more advanced visualization, utilize other notebooks"
   ]
  }
 ],
 "metadata": {
  "kernelspec": {
   "display_name": "Python 3 (ipykernel)",
   "language": "python",
   "name": "python3"
  },
  "language_info": {
   "codemirror_mode": {
    "name": "ipython",
    "version": 3
   },
   "file_extension": ".py",
   "mimetype": "text/x-python",
   "name": "python",
   "nbconvert_exporter": "python",
   "pygments_lexer": "ipython3",
   "version": "3.8.5"
  }
 },
 "nbformat": 4,
 "nbformat_minor": 5
}
