{
 "cells": [
  {
   "cell_type": "markdown",
   "id": "c83ee770-b4fc-422e-9c70-c0ede1980a11",
   "metadata": {},
   "source": [
    "# **Imports**"
   ]
  },
  {
   "cell_type": "code",
   "execution_count": 6,
   "id": "cb2c3d2a-a2d2-45f6-9ea9-68d85c8bd329",
   "metadata": {},
   "outputs": [
    {
     "ename": "ModuleNotFoundError",
     "evalue": "No module named 'wholecell.utils._build_sequences'",
     "output_type": "error",
     "traceback": [
      "\u001B[0;31m---------------------------------------------------------------------------\u001B[0m",
      "\u001B[0;31mModuleNotFoundError\u001B[0m                       Traceback (most recent call last)",
      "\u001B[0;32m/var/folders/zf/fxd7d9jj64bc8s9zvphjp8n40000gn/T/ipykernel_4174/3445369186.py\u001B[0m in \u001B[0;36m<module>\u001B[0;34m\u001B[0m\n\u001B[1;32m      8\u001B[0m \u001B[0;34m\u001B[0m\u001B[0m\n\u001B[1;32m      9\u001B[0m \u001B[0;31m# vivarium-ecoli imports\u001B[0m\u001B[0;34m\u001B[0m\u001B[0;34m\u001B[0m\u001B[0;34m\u001B[0m\u001B[0m\n\u001B[0;32m---> 10\u001B[0;31m \u001B[0;32mfrom\u001B[0m \u001B[0mecoli\u001B[0m\u001B[0;34m.\u001B[0m\u001B[0mexperiments\u001B[0m\u001B[0;34m.\u001B[0m\u001B[0mecoli_master_sim\u001B[0m \u001B[0;32mimport\u001B[0m \u001B[0mEcoliSim\u001B[0m\u001B[0;34m,\u001B[0m \u001B[0mCONFIG_DIR_PATH\u001B[0m\u001B[0;34m\u001B[0m\u001B[0;34m\u001B[0m\u001B[0m\n\u001B[0m\u001B[1;32m     11\u001B[0m \u001B[0;32mfrom\u001B[0m \u001B[0mecoli\u001B[0m\u001B[0;34m.\u001B[0m\u001B[0mlibrary\u001B[0m\u001B[0;34m.\u001B[0m\u001B[0msim_data\u001B[0m \u001B[0;32mimport\u001B[0m \u001B[0mLoadSimData\u001B[0m\u001B[0;34m\u001B[0m\u001B[0;34m\u001B[0m\u001B[0m\n\u001B[1;32m     12\u001B[0m \u001B[0;32mfrom\u001B[0m \u001B[0mecoli\u001B[0m\u001B[0;34m.\u001B[0m\u001B[0mstates\u001B[0m\u001B[0;34m.\u001B[0m\u001B[0mwcecoli_state\u001B[0m \u001B[0;32mimport\u001B[0m \u001B[0mget_state_from_file\u001B[0m\u001B[0;34m\u001B[0m\u001B[0;34m\u001B[0m\u001B[0m\n",
      "\u001B[0;32m~/.pyenv/versions/viv-ecoli/lib/python3.8/site-packages/vivarium_ecoli-0.0.1-py3.8-macosx-12.4-x86_64.egg/ecoli/experiments/ecoli_master_sim.py\u001B[0m in \u001B[0;36m<module>\u001B[0;34m\u001B[0m\n\u001B[1;32m     24\u001B[0m \u001B[0;32mfrom\u001B[0m \u001B[0mvivarium\u001B[0m\u001B[0;34m.\u001B[0m\u001B[0mlibrary\u001B[0m\u001B[0;34m.\u001B[0m\u001B[0mtopology\u001B[0m \u001B[0;32mimport\u001B[0m \u001B[0massoc_path\u001B[0m\u001B[0;34m\u001B[0m\u001B[0;34m\u001B[0m\u001B[0m\n\u001B[1;32m     25\u001B[0m \u001B[0;32mfrom\u001B[0m \u001B[0mecoli\u001B[0m\u001B[0;34m.\u001B[0m\u001B[0mlibrary\u001B[0m\u001B[0;34m.\u001B[0m\u001B[0mlogging\u001B[0m \u001B[0;32mimport\u001B[0m \u001B[0mwrite_json\u001B[0m\u001B[0;34m\u001B[0m\u001B[0;34m\u001B[0m\u001B[0m\n\u001B[0;32m---> 26\u001B[0;31m \u001B[0;32mfrom\u001B[0m \u001B[0mecoli\u001B[0m\u001B[0;34m.\u001B[0m\u001B[0mcomposites\u001B[0m\u001B[0;34m.\u001B[0m\u001B[0mecoli_nonpartition\u001B[0m \u001B[0;32mimport\u001B[0m \u001B[0mSIM_DATA_PATH\u001B[0m\u001B[0;34m\u001B[0m\u001B[0;34m\u001B[0m\u001B[0m\n\u001B[0m\u001B[1;32m     27\u001B[0m \u001B[0;31m# Two different Ecoli composers depending on partitioning\u001B[0m\u001B[0;34m\u001B[0m\u001B[0;34m\u001B[0m\u001B[0;34m\u001B[0m\u001B[0m\n\u001B[1;32m     28\u001B[0m \u001B[0;32mimport\u001B[0m \u001B[0mecoli\u001B[0m\u001B[0;34m.\u001B[0m\u001B[0mcomposites\u001B[0m\u001B[0;34m.\u001B[0m\u001B[0mecoli_nonpartition\u001B[0m\u001B[0;34m\u001B[0m\u001B[0;34m\u001B[0m\u001B[0m\n",
      "\u001B[0;32m~/.pyenv/versions/viv-ecoli/lib/python3.8/site-packages/vivarium_ecoli-0.0.1-py3.8-macosx-12.4-x86_64.egg/ecoli/composites/ecoli_nonpartition.py\u001B[0m in \u001B[0;36m<module>\u001B[0;34m\u001B[0m\n\u001B[1;32m     16\u001B[0m \u001B[0;34m\u001B[0m\u001B[0m\n\u001B[1;32m     17\u001B[0m \u001B[0;31m# sim data\u001B[0m\u001B[0;34m\u001B[0m\u001B[0;34m\u001B[0m\u001B[0;34m\u001B[0m\u001B[0m\n\u001B[0;32m---> 18\u001B[0;31m \u001B[0;32mfrom\u001B[0m \u001B[0mecoli\u001B[0m\u001B[0;34m.\u001B[0m\u001B[0mlibrary\u001B[0m\u001B[0;34m.\u001B[0m\u001B[0msim_data\u001B[0m \u001B[0;32mimport\u001B[0m \u001B[0mLoadSimData\u001B[0m\u001B[0;34m\u001B[0m\u001B[0;34m\u001B[0m\u001B[0m\n\u001B[0m\u001B[1;32m     19\u001B[0m \u001B[0;34m\u001B[0m\u001B[0m\n\u001B[1;32m     20\u001B[0m \u001B[0;31m# logging\u001B[0m\u001B[0;34m\u001B[0m\u001B[0;34m\u001B[0m\u001B[0;34m\u001B[0m\u001B[0m\n",
      "\u001B[0;32m~/.pyenv/versions/viv-ecoli/lib/python3.8/site-packages/vivarium_ecoli-0.0.1-py3.8-macosx-12.4-x86_64.egg/ecoli/library/sim_data.py\u001B[0m in \u001B[0;36m<module>\u001B[0;34m\u001B[0m\n\u001B[1;32m      5\u001B[0m \u001B[0;32mfrom\u001B[0m \u001B[0mwholecell\u001B[0m\u001B[0;34m.\u001B[0m\u001B[0mutils\u001B[0m\u001B[0;34m.\u001B[0m\u001B[0mfitting\u001B[0m \u001B[0;32mimport\u001B[0m \u001B[0mnormalize\u001B[0m\u001B[0;34m\u001B[0m\u001B[0;34m\u001B[0m\u001B[0m\n\u001B[1;32m      6\u001B[0m \u001B[0;34m\u001B[0m\u001B[0m\n\u001B[0;32m----> 7\u001B[0;31m \u001B[0;32mfrom\u001B[0m \u001B[0mecoli\u001B[0m\u001B[0;34m.\u001B[0m\u001B[0mprocesses\u001B[0m\u001B[0;34m.\u001B[0m\u001B[0mpolypeptide_elongation\u001B[0m \u001B[0;32mimport\u001B[0m \u001B[0mMICROMOLAR_UNITS\u001B[0m\u001B[0;34m\u001B[0m\u001B[0;34m\u001B[0m\u001B[0m\n\u001B[0m\u001B[1;32m      8\u001B[0m \u001B[0;32mfrom\u001B[0m \u001B[0mecoli\u001B[0m\u001B[0;34m.\u001B[0m\u001B[0mstates\u001B[0m\u001B[0;34m.\u001B[0m\u001B[0mwcecoli_state\u001B[0m \u001B[0;32mimport\u001B[0m \u001B[0mMASSDIFFS\u001B[0m\u001B[0;34m\u001B[0m\u001B[0;34m\u001B[0m\u001B[0m\n\u001B[1;32m      9\u001B[0m \u001B[0;34m\u001B[0m\u001B[0m\n",
      "\u001B[0;32m~/.pyenv/versions/viv-ecoli/lib/python3.8/site-packages/vivarium_ecoli-0.0.1-py3.8-macosx-12.4-x86_64.egg/ecoli/processes/__init__.py\u001B[0m in \u001B[0;36m<module>\u001B[0;34m\u001B[0m\n\u001B[1;32m      3\u001B[0m \u001B[0;32mfrom\u001B[0m \u001B[0mecoli\u001B[0m\u001B[0;34m.\u001B[0m\u001B[0mprocesses\u001B[0m\u001B[0;34m.\u001B[0m\u001B[0mtf_binding\u001B[0m \u001B[0;32mimport\u001B[0m \u001B[0mTfBinding\u001B[0m\u001B[0;34m\u001B[0m\u001B[0;34m\u001B[0m\u001B[0m\n\u001B[1;32m      4\u001B[0m \u001B[0;32mfrom\u001B[0m \u001B[0mecoli\u001B[0m\u001B[0;34m.\u001B[0m\u001B[0mprocesses\u001B[0m\u001B[0;34m.\u001B[0m\u001B[0mtranscript_initiation\u001B[0m \u001B[0;32mimport\u001B[0m \u001B[0mTranscriptInitiation\u001B[0m\u001B[0;34m\u001B[0m\u001B[0;34m\u001B[0m\u001B[0m\n\u001B[0;32m----> 5\u001B[0;31m \u001B[0;32mfrom\u001B[0m \u001B[0mecoli\u001B[0m\u001B[0;34m.\u001B[0m\u001B[0mprocesses\u001B[0m\u001B[0;34m.\u001B[0m\u001B[0mtranscript_elongation\u001B[0m \u001B[0;32mimport\u001B[0m \u001B[0mTranscriptElongation\u001B[0m\u001B[0;34m\u001B[0m\u001B[0;34m\u001B[0m\u001B[0m\n\u001B[0m\u001B[1;32m      6\u001B[0m \u001B[0;32mfrom\u001B[0m \u001B[0mecoli\u001B[0m\u001B[0;34m.\u001B[0m\u001B[0mprocesses\u001B[0m\u001B[0;34m.\u001B[0m\u001B[0mrna_degradation\u001B[0m \u001B[0;32mimport\u001B[0m \u001B[0mRnaDegradation\u001B[0m\u001B[0;34m\u001B[0m\u001B[0;34m\u001B[0m\u001B[0m\n\u001B[1;32m      7\u001B[0m \u001B[0;32mfrom\u001B[0m \u001B[0mecoli\u001B[0m\u001B[0;34m.\u001B[0m\u001B[0mprocesses\u001B[0m\u001B[0;34m.\u001B[0m\u001B[0mpolypeptide_initiation\u001B[0m \u001B[0;32mimport\u001B[0m \u001B[0mPolypeptideInitiation\u001B[0m\u001B[0;34m\u001B[0m\u001B[0;34m\u001B[0m\u001B[0m\n",
      "\u001B[0;32m~/.pyenv/versions/viv-ecoli/lib/python3.8/site-packages/vivarium_ecoli-0.0.1-py3.8-macosx-12.4-x86_64.egg/ecoli/processes/transcript_elongation.py\u001B[0m in \u001B[0;36m<module>\u001B[0;34m\u001B[0m\n\u001B[1;32m     18\u001B[0m \u001B[0;34m\u001B[0m\u001B[0m\n\u001B[1;32m     19\u001B[0m \u001B[0;32mfrom\u001B[0m \u001B[0mwholecell\u001B[0m\u001B[0;34m.\u001B[0m\u001B[0mutils\u001B[0m\u001B[0;34m.\u001B[0m\u001B[0mrandom\u001B[0m \u001B[0;32mimport\u001B[0m \u001B[0mstochasticRound\u001B[0m\u001B[0;34m\u001B[0m\u001B[0;34m\u001B[0m\u001B[0m\n\u001B[0;32m---> 20\u001B[0;31m \u001B[0;32mfrom\u001B[0m \u001B[0mwholecell\u001B[0m\u001B[0;34m.\u001B[0m\u001B[0mutils\u001B[0m\u001B[0;34m.\u001B[0m\u001B[0mpolymerize\u001B[0m \u001B[0;32mimport\u001B[0m \u001B[0mbuildSequences\u001B[0m\u001B[0;34m,\u001B[0m \u001B[0mpolymerize\u001B[0m\u001B[0;34m,\u001B[0m \u001B[0mcomputeMassIncrease\u001B[0m\u001B[0;34m\u001B[0m\u001B[0;34m\u001B[0m\u001B[0m\n\u001B[0m\u001B[1;32m     21\u001B[0m \u001B[0;32mfrom\u001B[0m \u001B[0mwholecell\u001B[0m\u001B[0;34m.\u001B[0m\u001B[0mutils\u001B[0m \u001B[0;32mimport\u001B[0m \u001B[0munits\u001B[0m\u001B[0;34m\u001B[0m\u001B[0;34m\u001B[0m\u001B[0m\n\u001B[1;32m     22\u001B[0m \u001B[0;34m\u001B[0m\u001B[0m\n",
      "\u001B[0;32m~/.pyenv/versions/viv-ecoli/lib/python3.8/site-packages/vivarium_ecoli-0.0.1-py3.8-macosx-12.4-x86_64.egg/wholecell/utils/polymerize.py\u001B[0m in \u001B[0;36m<module>\u001B[0;34m\u001B[0m\n\u001B[1;32m     15\u001B[0m \u001B[0;32mimport\u001B[0m \u001B[0mnumpy\u001B[0m \u001B[0;32mas\u001B[0m \u001B[0mnp\u001B[0m\u001B[0;34m\u001B[0m\u001B[0;34m\u001B[0m\u001B[0m\n\u001B[1;32m     16\u001B[0m \u001B[0;34m\u001B[0m\u001B[0m\n\u001B[0;32m---> 17\u001B[0;31m \u001B[0;32mfrom\u001B[0m \u001B[0;34m.\u001B[0m\u001B[0m_build_sequences\u001B[0m \u001B[0;32mimport\u001B[0m \u001B[0mbuildSequences\u001B[0m\u001B[0;34m,\u001B[0m \u001B[0mcomputeMassIncrease\u001B[0m\u001B[0;34m\u001B[0m\u001B[0;34m\u001B[0m\u001B[0m\n\u001B[0m\u001B[1;32m     18\u001B[0m \u001B[0;32mfrom\u001B[0m \u001B[0;34m.\u001B[0m\u001B[0m_fastsums\u001B[0m \u001B[0;32mimport\u001B[0m \u001B[0msum_monomers\u001B[0m\u001B[0;34m,\u001B[0m \u001B[0msum_monomers_reference_implementation\u001B[0m\u001B[0;34m\u001B[0m\u001B[0;34m\u001B[0m\u001B[0m\n\u001B[1;32m     19\u001B[0m \u001B[0;32mfrom\u001B[0m \u001B[0msix\u001B[0m\u001B[0;34m.\u001B[0m\u001B[0mmoves\u001B[0m \u001B[0;32mimport\u001B[0m \u001B[0mrange\u001B[0m\u001B[0;34m\u001B[0m\u001B[0;34m\u001B[0m\u001B[0m\n",
      "\u001B[0;31mModuleNotFoundError\u001B[0m: No module named 'wholecell.utils._build_sequences'"
     ]
    }
   ],
   "source": [
    "import argparse\n",
    "\n",
    "# vivarium-core imports\n",
    "import pytest\n",
    "from vivarium.core.engine import Engine\n",
    "from vivarium.core.composer import Composer\n",
    "from vivarium.library.dict_utils import deep_merge\n",
    "\n",
    "# vivarium-ecoli imports\n",
    "from ecoli.experiments.ecoli_master_sim import EcoliSim, CONFIG_DIR_PATH\n",
    "from ecoli.library.sim_data import LoadSimData\n",
    "from ecoli.states.wcecoli_state import get_state_from_file\n",
    "from ecoli.composites.ecoli_master import SIM_DATA_PATH\n",
    "from ecoli.processes.registries import topology_registry\n",
    "\n",
    "import numpy as np\n",
    "import pathlib, datetime"
   ]
  },
  {
   "cell_type": "code",
   "execution_count": null,
   "id": "ea27d83e-8788-40e1-85af-7166cac92cd4",
   "metadata": {},
   "outputs": [],
   "source": []
  }
 ],
 "metadata": {
  "kernelspec": {
   "display_name": "Python 3 (ipykernel)",
   "language": "python",
   "name": "python3"
  },
  "language_info": {
   "codemirror_mode": {
    "name": "ipython",
    "version": 3
   },
   "file_extension": ".py",
   "mimetype": "text/x-python",
   "name": "python",
   "nbconvert_exporter": "python",
   "pygments_lexer": "ipython3",
   "version": "3.8.5"
  }
 },
 "nbformat": 4,
 "nbformat_minor": 5
}