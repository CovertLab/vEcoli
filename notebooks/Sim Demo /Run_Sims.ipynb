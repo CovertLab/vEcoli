{
 "cells": [
  {
   "cell_type": "markdown",
   "id": "c83ee770-b4fc-422e-9c70-c0ede1980a11",
   "metadata": {
    "pycharm": {
     "name": "#%% md\n"
    }
   },
   "source": [
    "# **Imports**"
   ]
  },
  {
   "cell_type": "code",
   "execution_count": 1,
   "id": "173d9835-7ed0-49b6-b5cd-0cac94a81d6b",
   "metadata": {
    "pycharm": {
     "name": "#%%\n"
    }
   },
   "outputs": [],
   "source": [
    "import os\n",
    "os.chdir(os.path.expanduser(\"~/PycharmProjects/vivarium-ecoli\"))"
   ]
  },
  {
   "cell_type": "code",
   "execution_count": null,
   "outputs": [],
   "source": [
    "import argparse\n",
    "import numpy as np\n",
    "import pathlib, datetime\n",
    "\n",
    "# vivarium-core imports\n",
    "import pytest\n",
    "from vivarium.core.engine import Engine\n",
    "from vivarium.core.composer import Composer\n",
    "from vivarium.library.dict_utils import deep_merge\n",
    "\n",
    "# vivarium-ecoli imports\n",
    "from ecoli.experiments.ecoli_master_sim import EcoliSim, CONFIG_DIR_PATH\n",
    "from ecoli.library.sim_data import LoadSimData\n",
    "from ecoli.states.wcecoli_state import get_state_from_file\n",
    "from ecoli.composites.ecoli_master import SIM_DATA_PATH\n",
    "from ecoli.processes.registries import topology_registry"
   ],
   "metadata": {
    "collapsed": false,
    "pycharm": {
     "name": "#%%\n"
    }
   }
  },
  {
   "cell_type": "code",
   "execution_count": null,
   "outputs": [],
   "source": [
    "# **Parameters**"
   ],
   "metadata": {
    "collapsed": false,
    "pycharm": {
     "name": "#%%\n"
    }
   }
  },
  {
   "cell_type": "code",
   "execution_count": null,
   "outputs": [],
   "source": [
    "filename='default'\n",
    "total_time=10\n",
    "divide=True\n",
    "initial_state_file='vivecoli_t2'\n",
    "progress_bar=True\n",
    "log_updates=False\n",
    "emitter='timeseries'"
   ],
   "metadata": {
    "collapsed": false,
    "pycharm": {
     "name": "#%%\n"
    }
   }
  },
  {
   "cell_type": "code",
   "execution_count": null,
   "outputs": [],
   "source": [
    "sim = EcoliSim.from_file(CONFIG_DIR_PATH + filename + '.json')\n",
    "sim.total_time = total_time\n",
    "sim.raw_output = False\n",
    "sim.divide = divide\n",
    "sim.progress_bar = progress_bar\n",
    "sim.log_updates = log_updates\n",
    "sim.emitter = emitter\n",
    "sim.initial_state = get_state_from_file(path=f'data/{initial_state_file}.json')"
   ],
   "metadata": {
    "collapsed": false,
    "pycharm": {
     "name": "#%%\n"
    }
   }
  },
  {
   "cell_type": "code",
   "execution_count": null,
   "outputs": [],
   "source": [
    "sim.build_ecoli()"
   ],
   "metadata": {
    "collapsed": false,
    "pycharm": {
     "name": "#%%\n"
    }
   }
  },
  {
   "cell_type": "code",
   "execution_count": null,
   "outputs": [],
   "source": [
    "sim.processes"
   ],
   "metadata": {
    "collapsed": false,
    "pycharm": {
     "name": "#%%\n"
    }
   }
  },
  {
   "cell_type": "markdown",
   "source": [
    "# **Run Simulation**"
   ],
   "metadata": {
    "collapsed": false,
    "pycharm": {
     "name": "#%% md\n"
    }
   }
  },
  {
   "cell_type": "code",
   "execution_count": null,
   "outputs": [],
   "source": [
    "sim.run()"
   ],
   "metadata": {
    "collapsed": false,
    "pycharm": {
     "name": "#%%\n"
    }
   }
  },
  {
   "cell_type": "markdown",
   "source": [
    "# **Query Output**"
   ],
   "metadata": {
    "collapsed": false,
    "pycharm": {
     "name": "#%% md\n"
    }
   }
  },
  {
   "cell_type": "code",
   "execution_count": null,
   "outputs": [],
   "source": [
    "sim.query([ ('agents', 0, 'listeners', 'mass')])"
   ],
   "metadata": {
    "collapsed": false,
    "pycharm": {
     "name": "#%%\n"
    }
   }
  },
  {
   "cell_type": "markdown",
   "id": "4303e13b-02c1-4333-a94e-bc15efddf5ea",
   "metadata": {
    "pycharm": {
     "name": "#%% md\n"
    }
   },
   "source": [
    "# **Query Output**"
   ]
  },
  {
   "cell_type": "code",
   "execution_count": 12,
   "id": "0aa3ce72-8105-4a1f-a9d4-3e48fe36b17c",
   "metadata": {},
   "outputs": [
    {
     "data": {
      "text/plain": [
       "{'agents': {0: {'listeners': {'mass': [None, None, None, None, None, None]}}},\n",
       " 'time': [0.0, 2.0, 4.0, 6.0, 8.0, 10.0]}"
      ]
     },
     "execution_count": 12,
     "metadata": {},
     "output_type": "execute_result"
    }
   ],
   "source": [
    "sim.query([ ('agents', 0, 'listeners', 'mass')])"
   ]
  },
  {
   "cell_type": "code",
   "execution_count": 8,
   "id": "96a9d297-7eb8-4b4d-af6c-9562ed28e567",
   "metadata": {
    "pycharm": {
     "name": "#%%\n"
    }
   },
   "outputs": [
    {
     "name": "stdin",
     "output_type": "stream",
     "text": [
      "Enter the output Folder Path. If prefer default, press ENTER: \n"
     ]
    }
   ],
   "source": [
    "folderName = input(\"Enter the output Folder Path. If prefer default, press ENTER:\")\n",
    "\n",
    "if folderName == \"\":\n",
    "    folder = f'out/geneRxnVerifData'\n",
    "else:\n",
    "    folder = f'{folderName}'"
   ]
  },
  {
   "cell_type": "markdown",
   "id": "31332909-8a56-46ff-a48f-bd51aed9e7e0",
   "metadata": {
    "pycharm": {
     "name": "#%% md\n"
    }
   },
   "source": [
    "# *Enter Query Parameters*"
   ]
  },
  {
   "cell_type": "code",
   "execution_count": null,
   "id": "ce6ae91a-8d6d-4161-94ce-23a9997e0f4d",
   "metadata": {
    "pycharm": {
     "name": "#%%\n"
    }
   },
   "outputs": [],
   "source": [
    "query = []\n",
    "agents = sim.query()['agents'].keys()\n",
    "for agent in agents:\n",
    "    query.extend([('agents', agent, 'listeners', 'fba_results'),\n",
    "                  ('agents', agent, 'bulk'), ('agents', agent, 'listeners', 'mass')])\n",
    "output = sim.query(query)\n",
    "\n",
    "pathlib.Path(folder).mkdir(parents=True, exist_ok=True)"
   ]
  },
  {
   "cell_type": "code",
   "execution_count": null,
   "id": "f78f59dc-7b38-4b4d-95d4-b1770d404dda",
   "metadata": {
    "pycharm": {
     "name": "#%%\n"
    }
   },
   "outputs": [],
   "source": []
  }
 ],
 "metadata": {
  "kernelspec": {
   "display_name": "Python 3 (ipykernel)",
   "language": "python",
   "name": "python3"
  },
  "language_info": {
   "codemirror_mode": {
    "name": "ipython",
    "version": 3
   },
   "file_extension": ".py",
   "mimetype": "text/x-python",
   "name": "python",
   "nbconvert_exporter": "python",
   "pygments_lexer": "ipython3",
   "version": "3.8.5"
  }
 },
 "nbformat": 4,
 "nbformat_minor": 5
}