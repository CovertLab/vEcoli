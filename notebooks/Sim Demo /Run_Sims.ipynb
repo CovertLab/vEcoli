{
 "cells": [
  {
   "cell_type": "markdown",
   "id": "c83ee770-b4fc-422e-9c70-c0ede1980a11",
   "metadata": {
    "pycharm": {
     "name": "#%% md\n"
    }
   },
   "source": [
    "# **Imports**"
   ]
  },
  {
   "cell_type": "code",
   "execution_count": 1,
   "id": "173d9835-7ed0-49b6-b5cd-0cac94a81d6b",
   "metadata": {
    "pycharm": {
     "name": "#%%\n"
    }
   },
   "outputs": [],
   "source": [
    "import os\n",
    "os.chdir(os.path.expanduser(\"~/PycharmProjects/vivarium-ecoli\"))"
   ]
  },
  {
   "cell_type": "code",
   "execution_count": 2,
   "id": "66f6457a",
   "metadata": {
    "collapsed": false,
    "jupyter": {
     "outputs_hidden": false
    },
    "pycharm": {
     "name": "#%%\n"
    }
   },
   "outputs": [],
   "source": [
    "import argparse\n",
    "import numpy as np\n",
    "import pathlib, datetime\n",
    "import pandas as pd\n",
    "import math\n",
    "import seaborn as sns\n",
    "\n",
    "# vivarium-core imports\n",
    "import pytest\n",
    "from vivarium.core.engine import Engine\n",
    "from vivarium.core.composer import Composer\n",
    "from vivarium.library.dict_utils import deep_merge\n",
    "\n",
    "# vivarium-ecoli imports\n",
    "from ecoli.experiments.ecoli_master_sim import EcoliSim, CONFIG_DIR_PATH\n",
    "from ecoli.library.sim_data import LoadSimData\n",
    "from ecoli.states.wcecoli_state import get_state_from_file\n",
    "from ecoli.composites.ecoli_master import SIM_DATA_PATH\n",
    "from ecoli.processes.registries import topology_registry"
   ]
  },
  {
   "cell_type": "markdown",
   "id": "eda233ab-9e38-4266-b75c-7da046c6f31f",
   "metadata": {
    "jupyter": {
     "outputs_hidden": false
    },
    "pycharm": {
     "name": "#%%\n"
    }
   },
   "source": [
    "# **Parameters**"
   ]
  },
  {
   "cell_type": "code",
   "execution_count": 3,
   "id": "9b786271-c1c5-43d3-859b-e84c4a1f093c",
   "metadata": {
    "pycharm": {
     "name": "#%%\n"
    }
   },
   "outputs": [],
   "source": [
    "filename='default'\n",
    "total_time=60\n",
    "divide=True\n",
    "initial_state_file='vivecoli_t2'\n",
    "progress_bar=True\n",
    "log_updates=False\n",
    "emitter='timeseries'"
   ]
  },
  {
   "cell_type": "code",
   "execution_count": 4,
   "id": "5abf7b10-c2b0-42c4-8996-d470ceccc0d1",
   "metadata": {
    "pycharm": {
     "name": "#%%\n"
    }
   },
   "outputs": [],
   "source": [
    "sim = EcoliSim.from_file(CONFIG_DIR_PATH + filename + '.json')\n",
    "sim.total_time = total_time\n",
    "sim.raw_output = False\n",
    "sim.divide = divide\n",
    "sim.progress_bar = progress_bar\n",
    "sim.log_updates = log_updates\n",
    "sim.emitter = emitter\n",
    "sim.initial_state = get_state_from_file(path=f'data/{initial_state_file}.json')"
   ]
  },
  {
   "cell_type": "code",
   "execution_count": 5,
   "id": "1cd18a41-4144-4039-b79f-d68b34da6e5a",
   "metadata": {},
   "outputs": [],
   "source": [
    "sim.build_ecoli()"
   ]
  },
  {
   "cell_type": "code",
   "execution_count": 6,
   "id": "64f72d71-bfc2-4045-b6b3-fac054ed1af4",
   "metadata": {},
   "outputs": [
    {
     "data": {
      "text/plain": [
       "{'ecoli-chromosome-structure': ecoli.processes.chromosome_structure.ChromosomeStructure,\n",
       " 'ecoli-metabolism': ecoli.processes.metabolism.Metabolism,\n",
       " 'ecoli-tf-binding': ecoli.processes.tf_binding.TfBinding,\n",
       " 'ecoli-transcript-initiation': ecoli.processes.transcript_initiation.TranscriptInitiation,\n",
       " 'ecoli-transcript-elongation': ecoli.processes.transcript_elongation.TranscriptElongation,\n",
       " 'ecoli-rna-degradation': ecoli.processes.rna_degradation.RnaDegradation,\n",
       " 'ecoli-polypeptide-initiation': ecoli.processes.polypeptide_initiation.PolypeptideInitiation,\n",
       " 'ecoli-polypeptide-elongation': ecoli.processes.polypeptide_elongation.PolypeptideElongation,\n",
       " 'ecoli-complexation': ecoli.processes.complexation.Complexation,\n",
       " 'ecoli-two-component-system': ecoli.processes.two_component_system.TwoComponentSystem,\n",
       " 'ecoli-equilibrium': ecoli.processes.equilibrium.Equilibrium,\n",
       " 'ecoli-protein-degradation': ecoli.processes.protein_degradation.ProteinDegradation,\n",
       " 'ecoli-chromosome-replication': ecoli.processes.chromosome_replication.ChromosomeReplication,\n",
       " 'ecoli-mass-listener': ecoli.processes.listeners.mass_listener.MassListener,\n",
       " 'mRNA_counts_listener': ecoli.processes.listeners.mRNA_counts.mRNACounts,\n",
       " 'monomer_counts_listener': ecoli.processes.listeners.monomer_counts.MonomerCounts}"
      ]
     },
     "execution_count": 6,
     "metadata": {},
     "output_type": "execute_result"
    }
   ],
   "source": [
    "sim.processes"
   ]
  },
  {
   "cell_type": "markdown",
   "id": "48acd0e7-98b0-43c1-8370-e10c48d52e27",
   "metadata": {
    "pycharm": {
     "name": "#%% md\n"
    }
   },
   "source": [
    "# **Run Simulation**"
   ]
  },
  {
   "cell_type": "code",
   "execution_count": 7,
   "id": "c935e362-381c-4b0b-8045-b2488cc53b91",
   "metadata": {
    "pycharm": {
     "name": "#%%\n"
    }
   },
   "outputs": [
    {
     "name": "stdout",
     "output_type": "stream",
     "text": [
      "\n",
      "Simulation ID: 88c20826-5efc-11ed-9d41-acde48001122\n",
      "Created: 11/07/2022 at 16:30:27\n",
      "Progress:|██████████████████████████████████████████████████| 0.0/60.0 simulated seconds remaining     \n",
      "Completed in 79.14 seconds\n"
     ]
    }
   ],
   "source": [
    "sim.run()"
   ]
  },
  {
   "cell_type": "markdown",
   "id": "4303e13b-02c1-4333-a94e-bc15efddf5ea",
   "metadata": {
    "pycharm": {
     "name": "#%% md\n"
    }
   },
   "source": [
    "# **Query Output**"
   ]
  },
  {
   "cell_type": "code",
   "execution_count": 8,
   "id": "96a9d297-7eb8-4b4d-af6c-9562ed28e567",
   "metadata": {
    "pycharm": {
     "name": "#%%\n"
    }
   },
   "outputs": [
    {
     "name": "stdin",
     "output_type": "stream",
     "text": [
      "Enter the output Folder Path. If prefer default, press ENTER: \n"
     ]
    }
   ],
   "source": [
    "folderName = input(\"Enter the output Folder Path. If prefer default, press ENTER:\")\n",
    "\n",
    "if folderName == \"\":\n",
    "    folder = f'out/geneRxnVerifData'\n",
    "else:\n",
    "    folder = f'{folderName}'"
   ]
  },
  {
   "cell_type": "markdown",
   "id": "31332909-8a56-46ff-a48f-bd51aed9e7e0",
   "metadata": {
    "pycharm": {
     "name": "#%% md\n"
    }
   },
   "source": [
    "# *Enter Query Parameters*"
   ]
  },
  {
   "cell_type": "code",
   "execution_count": null,
   "id": "ce6ae91a-8d6d-4161-94ce-23a9997e0f4d",
   "metadata": {
    "pycharm": {
     "name": "#%%\n"
    }
   },
   "outputs": [],
   "source": [
    "query = []\n",
    "agents = sim.query()['agents'].keys()\n",
    "for agent in agents:\n",
    "    query.extend([('agents', agent, 'listeners', 'fba_results'),\n",
    "                  ('agents', agent, 'bulk'), ('agents', agent, 'listeners', 'mass')])\n",
    "output = sim.query(query)\n",
    "\n",
    "pathlib.Path(folder).mkdir(parents=True, exist_ok=True)"
   ]
  },
  {
   "cell_type": "markdown",
   "id": "d7b22a80-bb73-4df8-93ab-4cc044a680bf",
   "metadata": {},
   "source": [
    "# *Visualize Output*"
   ]
  },
  {
   "cell_type": "markdown",
   "id": "d0f611d2-9041-4339-ad56-518e06aebdd6",
   "metadata": {},
   "source": [
    "## Basic Visualization"
   ]
  },
  {
   "cell_type": "code",
   "execution_count": null,
   "id": "c6d3f774-36a2-4627-b426-747c7ae8c330",
   "metadata": {},
   "outputs": [],
   "source": [
    "all_masses = output['agents']['0']['listeners']['mass']\n",
    "all_masses = pd.DataFrame(all_masses)"
   ]
  },
  {
   "cell_type": "code",
   "execution_count": null,
   "id": "cfbabfa7-1d91-44a2-b5f1-a5a812e73d73",
   "metadata": {},
   "outputs": [],
   "source": [
    "all_masses"
   ]
  },
  {
   "cell_type": "markdown",
   "id": "7df50715-a1be-4499-99e1-7aa0a44f6bd2",
   "metadata": {},
   "source": [
    "### Masses to be visualized contained in array below"
   ]
  },
  {
   "cell_type": "code",
   "execution_count": null,
   "id": "3bc1deb7-2bee-47a1-abba-3ef19ef3e816",
   "metadata": {},
   "outputs": [],
   "source": [
    "collect = ['cell_mass', 'dry_mass', 'dnaMass', 'proteinMass', 'water_mass', 'smallMoleculeMass']"
   ]
  },
  {
   "cell_type": "code",
   "execution_count": null,
   "id": "abdab00b-03ba-46af-a0aa-f06d7e668a83",
   "metadata": {},
   "outputs": [],
   "source": [
    "masses = all_masses.loc[:,collect]"
   ]
  },
  {
   "cell_type": "code",
   "execution_count": null,
   "id": "49c4c76a-6dca-43d4-a7d4-854d4b0b4628",
   "metadata": {},
   "outputs": [],
   "source": [
    "for i, name in enumerate(collect):\n",
    "    maxVal = max(list(masses[name]))\n",
    "    masses[name] = masses[name].div(maxVal)"
   ]
  },
  {
   "cell_type": "code",
   "execution_count": null,
   "id": "b88eeb14-9c06-42d7-b173-7d408279a01e",
   "metadata": {},
   "outputs": [],
   "source": [
    "masses"
   ]
  },
  {
   "cell_type": "code",
   "execution_count": null,
   "id": "0f1a0266-4488-4de4-9973-33bf77b28e7b",
   "metadata": {},
   "outputs": [],
   "source": [
    "sns.lineplot(data=masses)"
   ]
  },
  {
   "cell_type": "markdown",
   "id": "6749efbb-c3e6-4075-95fd-770a76a649e7",
   "metadata": {},
   "source": [
    "### For more advanced visualization, utilize other notebooks"
   ]
  }
 ],
 "metadata": {
  "kernelspec": {
   "display_name": "Python 3 (ipykernel)",
   "language": "python",
   "name": "python3"
  },
  "language_info": {
   "codemirror_mode": {
    "name": "ipython",
    "version": 3
   },
   "file_extension": ".py",
   "mimetype": "text/x-python",
   "name": "python",
   "nbconvert_exporter": "python",
   "pygments_lexer": "ipython3",
   "version": "3.8.5"
  }
 },
 "nbformat": 4,
 "nbformat_minor": 5
}
