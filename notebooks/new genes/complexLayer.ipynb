{
 "cells": [
  {
   "cell_type": "code",
   "execution_count": 51,
   "id": "fb3ca566-7b86-42ab-9687-495ca012b0df",
   "metadata": {},
   "outputs": [],
   "source": [
    "%store -r complexDicts\n",
    "%run geneSearchFunctions.ipynb"
   ]
  },
  {
   "cell_type": "code",
   "execution_count": 52,
   "id": "2a88224b-8d47-47d1-9811-771c55fb26a9",
   "metadata": {},
   "outputs": [],
   "source": [
    "# Get information: "
   ]
  },
  {
   "cell_type": "code",
   "execution_count": 53,
   "id": "77e370e2-e001-4866-8d02-1c9072962671",
   "metadata": {},
   "outputs": [],
   "source": [
    "# Get reaction addresses\n",
    "\n",
    "reactionAddresses = []\n",
    "\n",
    "for dictionary in complexDicts:\n",
    "    stem = dictionary[\"ptools-xml\"][\"Protein\"]\n",
    "    if \"catalyzes\" not in stem:\n",
    "        reactionAddresses.append(\"NONE\")\n",
    "    else:\n",
    "        reactions = stem[\"catalyzes\"][\"Enzymatic-Reaction\"]\n",
    "        if type(reactions) is dict:\n",
    "            respectiveReactions = []\n",
    "            respectiveReactions.append(reactions[\"reaction\"][\"Reaction\"][\"@resource\"])\n",
    "            reactionAddresses.append(respectiveReactions)\n",
    "        else:\n",
    "            respectiveReactions = []\n",
    "            for reaction in reactions:\n",
    "                respectiveReactions.append(reaction[\"reaction\"][\"Reaction\"][\"@resource\"]) \n",
    "            reactionAddresses.append(respectiveReactions)"
   ]
  },
  {
   "cell_type": "code",
   "execution_count": 54,
   "id": "6c48f633-42db-4452-961c-0d85f913f22f",
   "metadata": {},
   "outputs": [
    {
     "name": "stdout",
     "output_type": "stream",
     "text": [
      "200\n",
      "200\n",
      "200\n"
     ]
    }
   ],
   "source": [
    "# Get reaction dictionaries\n",
    "\n",
    "reactionDicts = []\n",
    "\n",
    "for addressList in reactionAddresses:\n",
    "    if addressList == \"NONE\":\n",
    "        reactionDicts.append(\"NONE\")\n",
    "    else:\n",
    "        temp = []\n",
    "        for address in addressList:\n",
    "            linkReaction = \"https://websvc.biocyc.org/\" + address\n",
    "            treeReaction = createTree(linkReaction)\n",
    "            treeDictReaction = etree_to_dict(treeReaction)\n",
    "            temp.append(treeDictReaction)\n",
    "            \n",
    "        reactionDicts.append(temp)"
   ]
  },
  {
   "cell_type": "code",
   "execution_count": 55,
   "id": "4bb95fd5-f95a-45e9-8f27-4d76cbc8e69a",
   "metadata": {},
   "outputs": [
    {
     "name": "stdout",
     "output_type": "stream",
     "text": [
      "Stored 'reactionDicts' (list)\n"
     ]
    }
   ],
   "source": [
    "%store reactionDicts"
   ]
  },
  {
   "cell_type": "code",
   "execution_count": null,
   "id": "7a36cd77-caf4-4250-bca1-de71d04b956d",
   "metadata": {},
   "outputs": [],
   "source": []
  }
 ],
 "metadata": {
  "kernelspec": {
   "display_name": "Python 3 (ipykernel)",
   "language": "python",
   "name": "python3"
  },
  "language_info": {
   "codemirror_mode": {
    "name": "ipython",
    "version": 3
   },
   "file_extension": ".py",
   "mimetype": "text/x-python",
   "name": "python",
   "nbconvert_exporter": "python",
   "pygments_lexer": "ipython3",
   "version": "3.8.7"
  }
 },
 "nbformat": 4,
 "nbformat_minor": 5
}
