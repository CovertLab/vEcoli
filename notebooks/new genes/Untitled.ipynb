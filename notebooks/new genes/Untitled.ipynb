{
 "cells": [
  {
   "cell_type": "code",
   "execution_count": 13,
   "id": "637c9481-4c38-4993-a033-505988517f8c",
   "metadata": {},
   "outputs": [],
   "source": [
    "import requests\n",
    "from xml.etree import ElementTree\n",
    "from collections import defaultdict\n"
   ]
  },
  {
   "cell_type": "code",
   "execution_count": 14,
   "id": "f96ed973-58bd-40a9-8b51-527e3dc23b2c",
   "metadata": {},
   "outputs": [],
   "source": [
    "geneReactions = {\n",
    "    \"reactionID\": \"\",\n",
    "    \"stoichiometry\": {\n",
    "        \"substrates\": [],\n",
    "        \"products\": []\n",
    "    },\n",
    "    \"reversible\": False,\n",
    "    \"protein_complex\": \"\",\n",
    "    \"protein_monomers\": [],\n",
    "    \"monomer_counts\": [],\n",
    "    \"genes\": [],\n",
    "}"
   ]
  },
  {
   "cell_type": "code",
   "execution_count": 15,
   "id": "658f51ff-42f4-4a02-a8e1-bcdcdca0db1a",
   "metadata": {},
   "outputs": [
    {
     "name": "stdin",
     "output_type": "stream",
     "text": [
      "Enter geneID:  EG10022\n"
     ]
    }
   ],
   "source": [
    "geneID = input(\"Enter geneID: \")"
   ]
  },
  {
   "cell_type": "code",
   "execution_count": 16,
   "id": "f34e5dc2-4ca0-4833-bcf5-4a669cf5ef29",
   "metadata": {},
   "outputs": [
    {
     "name": "stdout",
     "output_type": "stream",
     "text": [
      "200\n"
     ]
    },
    {
     "data": {
      "text/plain": [
       "{'ptools-xml': {'metadata': {'url': 'http://BioCyc.org/',\n",
       "   'service_name': 'getxml',\n",
       "   'query': 'ECOLI:EG10022',\n",
       "   'num_results': '1',\n",
       "   'PGDB': {'species': {'@datatype': 'string', '#text': 'Escherichia coli'},\n",
       "    'strain': {'@datatype': 'string', '#text': 'K-12 substr. MG1655'},\n",
       "    '@orgid': 'ECOLI',\n",
       "    '@version': '26.0'}},\n",
       "  'Gene': {'parent': {'Gene': {'@resource': 'getxml?ECOLI:BC-1.7.2',\n",
       "     '@orgid': 'ECOLI',\n",
       "     '@frameid': 'BC-1.7.2',\n",
       "     '@class': 'true'}},\n",
       "   'replicon': {'Genetic-Element': {'@resource': 'getxml?ECOLI:COLI-K12',\n",
       "     '@orgid': 'ECOLI',\n",
       "     '@frameid': 'COLI-K12'}},\n",
       "   'product': {'Protein': {'@resource': 'getxml?ECOLI:ISOCIT-LYASE-MONOMER',\n",
       "     '@orgid': 'ECOLI',\n",
       "     '@frameid': 'ISOCIT-LYASE-MONOMER'}},\n",
       "   'common-name': {'@datatype': 'string', '#text': 'aceA'},\n",
       "   'synonym': {'@datatype': 'string', '#text': 'icl'},\n",
       "   '@ID': 'ECOLI:EG10022',\n",
       "   '@orgid': 'ECOLI',\n",
       "   '@frameid': 'EG10022',\n",
       "   '@detail': 'low'},\n",
       "  '@ptools-version': '26.0',\n",
       "  '@{http://www.w3.org/XML/1998/namespace}base': 'http://BioCyc.org/getxml?ECOLI:EG10022'}}"
      ]
     },
     "execution_count": 16,
     "metadata": {},
     "output_type": "execute_result"
    }
   ],
   "source": [
    "# Getting Gene Page and Converting to dictionary\n",
    "linkGene = \"https://websvc.biocyc.org/getxml?id=ECOLI:\" + geneID + \"&detail=low\"\n",
    "treeGene = createTree(linkGene)\n",
    "treeDictGene = etree_to_dict(treeGene)\n",
    "treeDictGene"
   ]
  },
  {
   "cell_type": "code",
   "execution_count": 17,
   "id": "2fb4d983-1cda-44b1-b768-9177162892d9",
   "metadata": {},
   "outputs": [],
   "source": [
    "# Getting address of the gene product\n",
    "geneProductLink = getProductLink(treeDictGene)"
   ]
  },
  {
   "cell_type": "code",
   "execution_count": 18,
   "id": "570a578e-80cb-46fe-be0a-a8b14f9ed40e",
   "metadata": {},
   "outputs": [
    {
     "ename": "NameError",
     "evalue": "name 'getComplexPageOrEquiv' is not defined",
     "output_type": "error",
     "traceback": [
      "\u001b[0;31m---------------------------------------------------------------------------\u001b[0m",
      "\u001b[0;31mNameError\u001b[0m                                 Traceback (most recent call last)",
      "\u001b[0;32m/var/folders/mv/hch_65fn41b_2mjc6j04j0n40000gn/T/ipykernel_706/453962179.py\u001b[0m in \u001b[0;36m<module>\u001b[0;34m\u001b[0m\n\u001b[1;32m      1\u001b[0m \u001b[0;31m#From this product, go to the the structure before the reaction page\u001b[0m\u001b[0;34m\u001b[0m\u001b[0;34m\u001b[0m\u001b[0;34m\u001b[0m\u001b[0m\n\u001b[0;32m----> 2\u001b[0;31m \u001b[0mcomplexOfMonomerLink\u001b[0m \u001b[0;34m=\u001b[0m \u001b[0mgetComplexPageOrEquiv\u001b[0m\u001b[0;34m(\u001b[0m\u001b[0mgeneProductLink\u001b[0m\u001b[0;34m)\u001b[0m\u001b[0;34m\u001b[0m\u001b[0;34m\u001b[0m\u001b[0m\n\u001b[0m",
      "\u001b[0;31mNameError\u001b[0m: name 'getComplexPageOrEquiv' is not defined"
     ]
    }
   ],
   "source": [
    "#From this product, go to the the structure before the reaction page\n",
    "complexOfMonomerLink = getComplexPageOrEquiv(geneProductLink)"
   ]
  },
  {
   "cell_type": "code",
   "execution_count": 19,
   "id": "3e83d93d-9003-495f-8be5-4244c1b6096f",
   "metadata": {},
   "outputs": [
    {
     "name": "stdout",
     "output_type": "stream",
     "text": [
      "200\n"
     ]
    }
   ],
   "source": [
    "if \"MONOMER\" in geneProductLink:\n",
    "    linkGeneProduct = \"https://websvc.biocyc.org/\" + geneProductLink + \"&detail=low\"\n",
    "    treeGeneProduct = createTree(linkGeneProduct)\n",
    "    treeDictGeneProduct = etree_to_dict(treeGeneProduct)\n",
    "    complexOfMonomerLink = getComplexLink(treeDictGeneProduct)\n",
    "    geneProductLink = complexOfMonomerLink"
   ]
  },
  {
   "cell_type": "code",
   "execution_count": 20,
   "id": "4d5f9b2d-415b-42c3-ae43-714dfe2d1d86",
   "metadata": {},
   "outputs": [
    {
     "data": {
      "text/plain": [
       "{'ptools-xml': {'metadata': {'url': 'http://BioCyc.org/',\n",
       "   'service_name': 'getxml',\n",
       "   'query': 'ECOLI:ISOCIT-LYASE-MONOMER',\n",
       "   'num_results': '1',\n",
       "   'PGDB': {'species': {'@datatype': 'string', '#text': 'Escherichia coli'},\n",
       "    'strain': {'@datatype': 'string', '#text': 'K-12 substr. MG1655'},\n",
       "    '@orgid': 'ECOLI',\n",
       "    '@version': '26.0'}},\n",
       "  'Protein': {'parent': {'Protein': {'@resource': 'getxml?ECOLI:Polypeptides',\n",
       "     '@orgid': 'ECOLI',\n",
       "     '@frameid': 'Polypeptides',\n",
       "     '@class': 'true'}},\n",
       "   'gene': {'Gene': {'@resource': 'getxml?ECOLI:EG10022',\n",
       "     '@orgid': 'ECOLI',\n",
       "     '@frameid': 'EG10022'}},\n",
       "   'common-name': {'@datatype': 'string', '#text': 'isocitrate lyase'},\n",
       "   'component-of': {'Protein': {'@resource': 'getxml?ECOLI:ISOCIT-LYASE',\n",
       "     '@orgid': 'ECOLI',\n",
       "     '@frameid': 'ISOCIT-LYASE'}},\n",
       "   'synonym': [{'@datatype': 'string', '#text': 'Icl'},\n",
       "    {'@datatype': 'string', '#text': 'AceA'}],\n",
       "   '@ID': 'ECOLI:ISOCIT-LYASE-MONOMER',\n",
       "   '@orgid': 'ECOLI',\n",
       "   '@frameid': 'ISOCIT-LYASE-MONOMER',\n",
       "   '@detail': 'low'},\n",
       "  '@ptools-version': '26.0',\n",
       "  '@{http://www.w3.org/XML/1998/namespace}base': 'http://BioCyc.org/getxml?ECOLI:ISOCIT-LYASE-MONOMER'}}"
      ]
     },
     "execution_count": 20,
     "metadata": {},
     "output_type": "execute_result"
    }
   ],
   "source": [
    "treeDictGeneProduct "
   ]
  },
  {
   "cell_type": "code",
   "execution_count": 21,
   "id": "579fa677-5b1e-4a44-9d5a-df3ae524c193",
   "metadata": {},
   "outputs": [
    {
     "name": "stdout",
     "output_type": "stream",
     "text": [
      "200\n"
     ]
    },
    {
     "data": {
      "text/plain": [
       "{'ptools-xml': {'metadata': {'url': 'http://BioCyc.org/',\n",
       "   'service_name': 'getxml',\n",
       "   'query': 'ECOLI:ISOCIT-LYASE',\n",
       "   'num_results': '1',\n",
       "   'PGDB': {'species': {'@datatype': 'string', '#text': 'Escherichia coli'},\n",
       "    'strain': {'@datatype': 'string', '#text': 'K-12 substr. MG1655'},\n",
       "    '@orgid': 'ECOLI',\n",
       "    '@version': '26.0'}},\n",
       "  'Protein': {'parent': {'Protein': {'@resource': 'getxml?ECOLI:Protein-Complexes',\n",
       "     '@orgid': 'ECOLI',\n",
       "     '@frameid': 'Protein-Complexes',\n",
       "     '@class': 'true'}},\n",
       "   'catalyzes': {'Enzymatic-Reaction': {'reaction': {'Reaction': {'@resource': 'getxml?ECOLI:ISOCIT-CLEAV-RXN',\n",
       "       '@orgid': 'ECOLI',\n",
       "       '@frameid': 'ISOCIT-CLEAV-RXN'}},\n",
       "     'common-name': {'@datatype': 'string', '#text': 'isocitrate lyase'},\n",
       "     'enzyme': {'Protein': {'@resource': '#ECOLI:ISOCIT-LYASE',\n",
       "       '@orgid': 'ECOLI',\n",
       "       '@frameid': 'ISOCIT-LYASE'}},\n",
       "     '@ID': 'ECOLI:ISOCITLYASE-ENZRXN',\n",
       "     '@orgid': 'ECOLI',\n",
       "     '@frameid': 'ISOCITLYASE-ENZRXN',\n",
       "     '@detail': 'low'}},\n",
       "   'component': {'Protein': {'@resource': 'getxml?ECOLI:ISOCIT-LYASE-MONOMER',\n",
       "     '@orgid': 'ECOLI',\n",
       "     '@frameid': 'ISOCIT-LYASE-MONOMER'},\n",
       "    'coefficient': {'@datatype': 'integer', '#text': '4'}},\n",
       "   '@ID': 'ECOLI:ISOCIT-LYASE',\n",
       "   '@orgid': 'ECOLI',\n",
       "   '@frameid': 'ISOCIT-LYASE',\n",
       "   '@detail': 'low'},\n",
       "  '@ptools-version': '26.0',\n",
       "  '@{http://www.w3.org/XML/1998/namespace}base': 'http://BioCyc.org/getxml?ECOLI:ISOCIT-LYASE'}}"
      ]
     },
     "execution_count": 21,
     "metadata": {},
     "output_type": "execute_result"
    }
   ],
   "source": [
    "linkComplex = \"https://websvc.biocyc.org/\" + geneProductLink + \"&detail=low\"\n",
    "treeComplex = createTree(linkComplex)\n",
    "treeDictComplex = etree_to_dict(treeComplex)\n",
    "treeDictComplex"
   ]
  },
  {
   "cell_type": "code",
   "execution_count": 22,
   "id": "35602cef-324a-4e5d-a7a1-e80afa12e46a",
   "metadata": {},
   "outputs": [
    {
     "ename": "NameError",
     "evalue": "name 'getMonomersCountsGenes' is not defined",
     "output_type": "error",
     "traceback": [
      "\u001b[0;31m---------------------------------------------------------------------------\u001b[0m",
      "\u001b[0;31mNameError\u001b[0m                                 Traceback (most recent call last)",
      "\u001b[0;32m/var/folders/mv/hch_65fn41b_2mjc6j04j0n40000gn/T/ipykernel_706/1789355629.py\u001b[0m in \u001b[0;36m<module>\u001b[0;34m\u001b[0m\n\u001b[1;32m      1\u001b[0m \u001b[0mgeneReactions\u001b[0m\u001b[0;34m[\u001b[0m\u001b[0;34m\"reactionID\"\u001b[0m\u001b[0;34m]\u001b[0m \u001b[0;34m=\u001b[0m \u001b[0mgetReactionID\u001b[0m\u001b[0;34m(\u001b[0m\u001b[0mtreeDictComplex\u001b[0m\u001b[0;34m)\u001b[0m\u001b[0;34m\u001b[0m\u001b[0;34m\u001b[0m\u001b[0m\n\u001b[1;32m      2\u001b[0m \u001b[0mgeneReactions\u001b[0m\u001b[0;34m[\u001b[0m\u001b[0;34m\"protein_complex\"\u001b[0m\u001b[0;34m]\u001b[0m \u001b[0;34m=\u001b[0m \u001b[0mgetProteinComplex\u001b[0m\u001b[0;34m(\u001b[0m\u001b[0mtreeDictComplex\u001b[0m\u001b[0;34m)\u001b[0m\u001b[0;34m\u001b[0m\u001b[0;34m\u001b[0m\u001b[0m\n\u001b[0;32m----> 3\u001b[0;31m \u001b[0mdata\u001b[0m \u001b[0;34m=\u001b[0m \u001b[0mgetMonomersCountsGenes\u001b[0m\u001b[0;34m(\u001b[0m\u001b[0mtreeDictComplex\u001b[0m\u001b[0;34m)\u001b[0m\u001b[0;34m\u001b[0m\u001b[0;34m\u001b[0m\u001b[0m\n\u001b[0m\u001b[1;32m      4\u001b[0m \u001b[0;31m#geneReactions[\"protein_monomers\"] = data[0]\u001b[0m\u001b[0;34m\u001b[0m\u001b[0;34m\u001b[0m\u001b[0;34m\u001b[0m\u001b[0m\n\u001b[1;32m      5\u001b[0m \u001b[0;31m#geneReactions[\"monomer_counts\"] = data[1]\u001b[0m\u001b[0;34m\u001b[0m\u001b[0;34m\u001b[0m\u001b[0;34m\u001b[0m\u001b[0m\n",
      "\u001b[0;31mNameError\u001b[0m: name 'getMonomersCountsGenes' is not defined"
     ]
    }
   ],
   "source": [
    "geneReactions[\"reactionID\"] = getReactionID(treeDictComplex)\n",
    "geneReactions[\"protein_complex\"] = getProteinComplex(treeDictComplex)\n",
    "data = getMonomersCountsGenes(treeDictComplex)\n",
    "#geneReactions[\"protein_monomers\"] = data[0]\n",
    "#geneReactions[\"monomer_counts\"] = data[1]\n",
    "#geneReactions[\"genes\"] = data[2]"
   ]
  },
  {
   "cell_type": "code",
   "execution_count": 23,
   "id": "fcc98981-1f42-40ce-a6d1-abf1c4f404e8",
   "metadata": {},
   "outputs": [],
   "source": [
    "geneReactionLink = getReactionLink(treeDictComplex)"
   ]
  },
  {
   "cell_type": "code",
   "execution_count": 25,
   "id": "f5b51cbc-feea-47f1-9fea-a52263e0d44c",
   "metadata": {},
   "outputs": [
    {
     "name": "stdout",
     "output_type": "stream",
     "text": [
      "200\n"
     ]
    },
    {
     "data": {
      "text/plain": [
       "{'ptools-xml': {'metadata': {'url': 'http://BioCyc.org/',\n",
       "   'service_name': 'getxml',\n",
       "   'query': 'ECOLI:RXN-16650',\n",
       "   'num_results': '1',\n",
       "   'PGDB': {'species': {'@datatype': 'string', '#text': 'Escherichia coli'},\n",
       "    'strain': {'@datatype': 'string', '#text': 'K-12 substr. MG1655'},\n",
       "    'dblink': {'dblink-db': 'NCBI-TAXONOMY-DB',\n",
       "     'dblink-oid': '511145',\n",
       "     'dblink-relationship': 'unification',\n",
       "     'dblink-URL': 'http://www.ncbi.nlm.nih.gov/Taxonomy/Browser/wwwtax.cgi?mode=Info&id=511145'},\n",
       "    '@orgid': 'ECOLI',\n",
       "    '@version': '26.0'}},\n",
       "  'Reaction': {'parent': [{'Reaction': {'@resource': 'getxml?ECOLI:Chemical-Reactions',\n",
       "      '@orgid': 'ECOLI',\n",
       "      '@frameid': 'Chemical-Reactions',\n",
       "      '@class': 'true'}},\n",
       "    {'Reaction': {'@resource': 'getxml?ECOLI:Small-Molecule-Reactions',\n",
       "      '@orgid': 'ECOLI',\n",
       "      '@frameid': 'Small-Molecule-Reactions',\n",
       "      '@class': 'true'}}],\n",
       "   'physiologically-relevant': {'@datatype': 'boolean', '#text': 'true'},\n",
       "   'in-pathway': {'Pathway': {'@resource': 'getxml?ECOLI:PWY0-1586',\n",
       "     '@orgid': 'ECOLI',\n",
       "     '@frameid': 'PWY0-1586'}},\n",
       "   'reaction-direction': 'PHYSIOL-LEFT-TO-RIGHT',\n",
       "   'left': [{'Compound': {'@resource': 'getxml?ECOLI:CPD-17927',\n",
       "      '@orgid': 'ECOLI',\n",
       "      '@frameid': 'CPD-17927',\n",
       "      '@class': 'true'},\n",
       "     'name-slot': 'N-Name'},\n",
       "    {'Compound': {'@resource': 'getxml?ECOLI:C6',\n",
       "      '@orgid': 'ECOLI',\n",
       "      '@frameid': 'C6'}}],\n",
       "   'right': [{'Compound': {'@resource': 'getxml?ECOLI:CPD-17927',\n",
       "      '@orgid': 'ECOLI',\n",
       "      '@frameid': 'CPD-17927',\n",
       "      '@class': 'true'},\n",
       "     'name-slot': 'N+1-Name'},\n",
       "    {'Compound': {'@resource': 'getxml?ECOLI:UNDECAPRENYL-DIPHOSPHATE',\n",
       "      '@orgid': 'ECOLI',\n",
       "      '@frameid': 'UNDECAPRENYL-DIPHOSPHATE'}}],\n",
       "   'credits': {'created': {'date': {'@datatype': 'date',\n",
       "      '#text': '2015-05-05'},\n",
       "     'Person': {'affiliations': {'Organization': {'common-name': {'@datatype': 'string',\n",
       "         '#text': 'Macquarie University'},\n",
       "        '@ID': 'ECOLI:O0-13',\n",
       "        '@orgid': 'ECOLI',\n",
       "        '@frameid': 'O0-13',\n",
       "        '@detail': 'full'}},\n",
       "      'email': {'@datatype': 'string', '#text': 'amanda.mackie@mq.edu.au'},\n",
       "      '@ID': 'ECOLI:amackie',\n",
       "      '@orgid': 'ECOLI',\n",
       "      '@frameid': 'amackie',\n",
       "      '@detail': 'full'},\n",
       "     'Organization': {'@resource': '#ECOLI:O0-13',\n",
       "      '@orgid': 'ECOLI',\n",
       "      '@frameid': 'O0-13'}},\n",
       "    'imported-from-meta': {'date': {'@datatype': 'date',\n",
       "      '#text': '2015-05-05'},\n",
       "     'Person': {'@resource': '#ECOLI:amackie',\n",
       "      '@orgid': 'ECOLI',\n",
       "      '@frameid': 'amackie'},\n",
       "     'Organization': {'@resource': '#ECOLI:O0-13',\n",
       "      '@orgid': 'ECOLI',\n",
       "      '@frameid': 'O0-13'}}},\n",
       "   'ec-number': 'EC-2.4.1.129',\n",
       "   'enzymatic-reaction': {'Enzymatic-Reaction': [{'reaction': {'Reaction': {'@resource': '#ECOLI:RXN-16650',\n",
       "        '@orgid': 'ECOLI',\n",
       "        '@frameid': 'RXN-16650'}},\n",
       "      'common-name': {'@datatype': 'string',\n",
       "       '#text': 'peptidoglycan glycosyltransferase'},\n",
       "      'enzyme': {'Protein': {'@resource': 'getxml?ECOLI:CPLX0-7717',\n",
       "        '@orgid': 'ECOLI',\n",
       "        '@frameid': 'CPLX0-7717'}},\n",
       "      '@ID': 'ECOLI:ENZRXN0-7971',\n",
       "      '@orgid': 'ECOLI',\n",
       "      '@frameid': 'ENZRXN0-7971',\n",
       "      '@detail': 'low'},\n",
       "     {'reaction': {'Reaction': {'@resource': '#ECOLI:RXN-16650',\n",
       "        '@orgid': 'ECOLI',\n",
       "        '@frameid': 'RXN-16650'}},\n",
       "      'common-name': {'@datatype': 'string',\n",
       "       '#text': 'peptidoglycan glycosyltransferase'},\n",
       "      'enzyme': {'Protein': {'@resource': 'getxml?ECOLI:CPLX0-3951',\n",
       "        '@orgid': 'ECOLI',\n",
       "        '@frameid': 'CPLX0-3951'}},\n",
       "      '@ID': 'ECOLI:ENZRXN0-7969',\n",
       "      '@orgid': 'ECOLI',\n",
       "      '@frameid': 'ENZRXN0-7969',\n",
       "      '@detail': 'low'},\n",
       "     {'reaction': {'Reaction': {'@resource': '#ECOLI:RXN-16650',\n",
       "        '@orgid': 'ECOLI',\n",
       "        '@frameid': 'RXN-16650'}},\n",
       "      'common-name': {'@datatype': 'string',\n",
       "       '#text': 'peptidoglycan glycosyltransferase'},\n",
       "      'enzyme': {'Protein': {'@resource': 'getxml?ECOLI:G7322-MONOMER',\n",
       "        '@orgid': 'ECOLI',\n",
       "        '@frameid': 'G7322-MONOMER'}},\n",
       "      '@ID': 'ECOLI:ENZRXN0-6562',\n",
       "      '@orgid': 'ECOLI',\n",
       "      '@frameid': 'ENZRXN0-6562',\n",
       "      '@detail': 'low'},\n",
       "     {'reaction': {'Reaction': {'@resource': '#ECOLI:RXN-16650',\n",
       "        '@orgid': 'ECOLI',\n",
       "        '@frameid': 'RXN-16650'}},\n",
       "      'common-name': {'@datatype': 'string',\n",
       "       '#text': 'peptidoglycan glycosyltransferase'},\n",
       "      'enzyme': {'Protein': {'@resource': 'getxml?ECOLI:G7668-MONOMER',\n",
       "        '@orgid': 'ECOLI',\n",
       "        '@frameid': 'G7668-MONOMER'}},\n",
       "      '@ID': 'ECOLI:ENZRXN0-6563',\n",
       "      '@orgid': 'ECOLI',\n",
       "      '@frameid': 'ENZRXN0-6563',\n",
       "      '@detail': 'low'},\n",
       "     {'reaction': {'Reaction': {'@resource': '#ECOLI:RXN-16650',\n",
       "        '@orgid': 'ECOLI',\n",
       "        '@frameid': 'RXN-16650'}},\n",
       "      'common-name': {'@datatype': 'string',\n",
       "       '#text': 'peptidoglycan glycosyltransferase'},\n",
       "      'enzyme': {'Protein': {'@resource': 'getxml?ECOLI:EG10607-MONOMER',\n",
       "        '@orgid': 'ECOLI',\n",
       "        '@frameid': 'EG10607-MONOMER'}},\n",
       "      '@ID': 'ECOLI:ENZRXN0-12561',\n",
       "      '@orgid': 'ECOLI',\n",
       "      '@frameid': 'ENZRXN0-12561',\n",
       "      '@detail': 'low'},\n",
       "     {'reaction': {'Reaction': {'@resource': '#ECOLI:RXN-16650',\n",
       "        '@orgid': 'ECOLI',\n",
       "        '@frameid': 'RXN-16650'}},\n",
       "      'common-name': {'@datatype': 'string',\n",
       "       '#text': 'peptidoglycan glycosyltransferase'},\n",
       "      'enzyme': {'Protein': {'@resource': 'getxml?ECOLI:EG10344-MONOMER',\n",
       "        '@orgid': 'ECOLI',\n",
       "        '@frameid': 'EG10344-MONOMER'}},\n",
       "      '@ID': 'ECOLI:ENZRXN0-12562',\n",
       "      '@orgid': 'ECOLI',\n",
       "      '@frameid': 'ENZRXN0-12562',\n",
       "      '@detail': 'low'}]},\n",
       "   '@ID': 'ECOLI:RXN-16650',\n",
       "   '@orgid': 'ECOLI',\n",
       "   '@frameid': 'RXN-16650',\n",
       "   '@detail': 'full'},\n",
       "  '@ptools-version': '26.0',\n",
       "  '@{http://www.w3.org/XML/1998/namespace}base': 'http://BioCyc.org/getxml?ECOLI:RXN-16650'}}"
      ]
     },
     "execution_count": 25,
     "metadata": {},
     "output_type": "execute_result"
    }
   ],
   "source": [
    "linkReaction = \"http://BioCyc.org/getxml?ECOLI:RXN-16650\"\n",
    "treeReaction = createTree(linkReaction)\n",
    "treeDictReaction = etree_to_dict(treeReaction)\n",
    "treeDictReaction"
   ]
  },
  {
   "cell_type": "code",
   "execution_count": null,
   "id": "27eef418-923c-44b6-a931-b2a6936e21b2",
   "metadata": {},
   "outputs": [],
   "source": [
    "geneReactions[\"stoichiometry\"][\"substrates\"] = getStoichiometrySubstrate(treeDictReaction)\n",
    "geneReactions[\"stoichiometry\"][\"products\"] = getStoichiometryProduct(treeDictReaction)\n",
    "geneReactions[\"reversible\"] = isReversible(treeDictReaction)"
   ]
  },
  {
   "cell_type": "code",
   "execution_count": null,
   "id": "16733a03-44e0-49c2-9a36-c2a4487ef903",
   "metadata": {},
   "outputs": [],
   "source": [
    "geneReactions"
   ]
  },
  {
   "cell_type": "code",
   "execution_count": null,
   "id": "7e1a8a54-124f-4030-97a0-eee2035ffc8e",
   "metadata": {},
   "outputs": [],
   "source": []
  }
 ],
 "metadata": {
  "kernelspec": {
   "display_name": "Python 3 (ipykernel)",
   "language": "python",
   "name": "python3"
  },
  "language_info": {
   "codemirror_mode": {
    "name": "ipython",
    "version": 3
   },
   "file_extension": ".py",
   "mimetype": "text/x-python",
   "name": "python",
   "nbconvert_exporter": "python",
   "pygments_lexer": "ipython3",
   "version": "3.8.7"
  }
 },
 "nbformat": 4,
 "nbformat_minor": 5
}
