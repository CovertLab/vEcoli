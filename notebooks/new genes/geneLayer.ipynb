{
 "cells": [
  {
   "cell_type": "code",
   "execution_count": 144,
   "id": "b9eff633-6c4d-4ffe-8a41-e39f4c1bdaf8",
   "metadata": {
    "pycharm": {
     "name": "#%%\n"
    }
   },
   "outputs": [],
   "source": [
    "%run geneSearchFunctions.ipynb"
   ]
  },
  {
   "cell_type": "code",
   "execution_count": 145,
   "id": "1b59e6b7-2297-444e-ac2e-e1b32aa7e564",
   "metadata": {
    "pycharm": {
     "name": "#%%\n"
    }
   },
   "outputs": [],
   "source": [
    "def getGeneProductAddresses(products):\n",
    "    result = []\n",
    "    \n",
    "    if type(products) is dict:\n",
    "        link = products[\"@resource\"]\n",
    "        result.append(link)\n",
    "        return result\n",
    "    else:\n",
    "        for product in products:\n",
    "            result.append(product[\"@resource\"])\n",
    "            \n",
    "    return result"
   ]
  },
  {
   "cell_type": "code",
   "execution_count": 151,
   "id": "dbd733f4-41f1-400d-be7d-fee7695dbc80",
   "metadata": {
    "pycharm": {
     "name": "#%%\n"
    }
   },
   "outputs": [
    {
     "name": "stdin",
     "output_type": "stream",
     "text": [
      "Enter Gene ID:  EG10022\n"
     ]
    }
   ],
   "source": [
    "geneID = input(\"Enter Gene ID: \")"
   ]
  },
  {
   "cell_type": "code",
   "execution_count": 152,
   "id": "b4f1a379-0a00-4a37-b4d1-8d461bac0317",
   "metadata": {
    "pycharm": {
     "name": "#%%\n"
    }
   },
   "outputs": [],
   "source": [
    "# Getting gene dict\n",
    "linkGene = \"https://websvc.biocyc.org/getxml?id=ECOLI:\" + geneID + \"&detail=low\"\n",
    "treeGene = createTree(linkGene)\n",
    "treeDictGene = etree_to_dict(treeGene)"
   ]
  },
  {
   "cell_type": "code",
   "execution_count": 153,
   "id": "fef8d9de-cf04-45d8-b9ee-6a40a26921ee",
   "metadata": {
    "pycharm": {
     "name": "#%%\n"
    }
   },
   "outputs": [],
   "source": [
    "# Getting addresses of all gene products\n",
    "try: \n",
    "    products = treeDictGene[\"ptools-xml\"][\"Gene\"][\"product\"][\"Protein\"]\n",
    "except:\n",
    "    print(\"Invalid GeneID or Gene has no products\")\n",
    "\n",
    "productAddresses = getGeneProductAddresses(products)"
   ]
  },
  {
   "cell_type": "code",
   "execution_count": 154,
   "id": "58f0ce17-a686-4409-a1a7-62acdff5c787",
   "metadata": {
    "pycharm": {
     "name": "#%%\n"
    }
   },
   "outputs": [],
   "source": [
    "# Convert Gene Product Addresses into Dictionaries\n",
    "monomerDicts = []\n",
    "\n",
    "for address in productAddresses:\n",
    "    try: \n",
    "        linkGeneProduct = \"https://websvc.biocyc.org/\" + address + \"&detail=low\"\n",
    "        treeGeneProduct = createTree(linkGeneProduct)\n",
    "        treeDictGeneProduct = etree_to_dict(treeGeneProduct)\n",
    "        monomerDicts.append(treeDictGeneProduct)\n",
    "    except:\n",
    "        print(\"Gene product does not have a valid API Link/Page\")"
   ]
  },
  {
   "cell_type": "code",
   "execution_count": 155,
   "id": "23e7f9a1-e675-458c-b3b1-8f8f4e1c404b",
   "metadata": {
    "pycharm": {
     "name": "#%%\n"
    }
   },
   "outputs": [
    {
     "name": "stdout",
     "output_type": "stream",
     "text": [
      "Stored 'monomerDicts' (list)\n"
     ]
    }
   ],
   "source": [
    "%store monomerDicts"
   ]
  },
  {
   "cell_type": "code",
   "execution_count": null,
   "id": "703bbafb-d79a-4457-b869-ab2830d10518",
   "metadata": {
    "pycharm": {
     "name": "#%%\n"
    }
   },
   "outputs": [],
   "source": []
  }
 ],
 "metadata": {
  "kernelspec": {
   "display_name": "Python 3 (ipykernel)",
   "language": "python",
   "name": "python3"
  },
  "language_info": {
   "codemirror_mode": {
    "name": "ipython",
    "version": 3
   },
   "file_extension": ".py",
   "mimetype": "text/x-python",
   "name": "python",
   "nbconvert_exporter": "python",
   "pygments_lexer": "ipython3",
   "version": "3.8.7"
  }
 },
 "nbformat": 4,
 "nbformat_minor": 5
}