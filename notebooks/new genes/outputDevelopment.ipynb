{
 "cells": [
  {
   "cell_type": "code",
   "execution_count": 16,
   "id": "007461ab-dbbd-422c-a989-d29ad3e24712",
   "metadata": {},
   "outputs": [],
   "source": [
    "%store -r complexDicts\n",
    "%store -r reactionDicts\n",
    "%run geneSearchFunctions.ipynb\n",
    "import copy"
   ]
  },
  {
   "cell_type": "code",
   "execution_count": 19,
   "id": "32bab1fd-3771-45e3-b5ab-0c8224403ce2",
   "metadata": {},
   "outputs": [],
   "source": [
    "geneReactionInfo = []\n",
    "\n",
    "for x in range(len(complexDicts)):\n",
    "    \n",
    "    dictionary1 = complexDicts[x]\n",
    "    \n",
    "    geneReactions = {\n",
    "        \"reactionID\": \"\",\n",
    "        \"stoichiometry\": {\n",
    "            \"substrates\": [],\n",
    "            \"products\": []\n",
    "        },\n",
    "        \"reversible\": \"\",\n",
    "        \"protein_complexes\": \"\",\n",
    "        \"protein_monomers\": [],\n",
    "        \"monomer_counts\": [],\n",
    "        \"genes\": [],\n",
    "    } \n",
    "    \n",
    "    \n",
    "    dictionary2 = reactionDicts[x]\n",
    "    \n",
    "    if dictionary2 == \"NONE\":\n",
    "        geneReactions[\"reactionID\"] = \"No Reaction Found\"\n",
    "        geneReactions[\"protein_complexes\"] = getProteinComplex(dictionary1)\n",
    "        \n",
    "        components = dictionary1[\"ptools-xml\"][\"Protein\"]\n",
    "        \n",
    "        if \"component\" in dictionary1:\n",
    "            components = components[\"component\"]\n",
    "            if type(components) is dict:\n",
    "                monomers.append(components[\"Protein\"][\"@frameid\"])\n",
    "            else:\n",
    "                for protein in components:\n",
    "                    monomers.append(protein[\"Protein\"][\"@frameid\"])\n",
    "                    \n",
    "        copy = geneReactions.copy()\n",
    "        geneReactionInfo.append(copy)  \n",
    "        \n",
    "    else:\n",
    "        for dictionary2nest in dictionary2:\n",
    "            geneReactions[\"protein_complexes\"] = getProteinComplexes(dictionary2nest)\n",
    "            easy = geneReactions[\"protein_complexes\"]\n",
    "            data = getMonomersCountsGenes(easy)\n",
    "            geneReactions[\"protein_monomers\"] = data[0]\n",
    "            geneReactions[\"monomer_counts\"] = data[1]\n",
    "            geneReactions[\"genes\"] = data[2]\n",
    "            geneReactions[\"reactionID\"] = getReactionID(dictionary2nest)\n",
    "            geneReactions[\"stoichiometry\"][\"substrates\"] = getStoichiometrySubstrate(dictionary2nest)\n",
    "            geneReactions[\"stoichiometry\"][\"products\"] = getStoichiometryProduct(dictionary2nest)\n",
    "            geneReactions[\"reversible\"] = isReversible(dictionary2nest)\n",
    "            copy = geneReactions.copy()\n",
    "            geneReactionInfo.append(copy)"
   ]
  },
  {
   "cell_type": "code",
   "execution_count": 20,
   "id": "be06e2f6-6274-47a4-be2a-d3ff502702e3",
   "metadata": {},
   "outputs": [
    {
     "name": "stdout",
     "output_type": "stream",
     "text": [
      "Stored 'geneReactionInfo' (list)\n"
     ]
    }
   ],
   "source": [
    "%store geneReactionInfo"
   ]
  },
  {
   "cell_type": "code",
   "execution_count": null,
   "id": "9d967e80-9545-450d-9e55-ba69602bf265",
   "metadata": {},
   "outputs": [],
   "source": []
  }
 ],
 "metadata": {
  "kernelspec": {
   "display_name": "Python 3 (ipykernel)",
   "language": "python",
   "name": "python3"
  },
  "language_info": {
   "codemirror_mode": {
    "name": "ipython",
    "version": 3
   },
   "file_extension": ".py",
   "mimetype": "text/x-python",
   "name": "python",
   "nbconvert_exporter": "python",
   "pygments_lexer": "ipython3",
   "version": "3.8.7"
  }
 },
 "nbformat": 4,
 "nbformat_minor": 5
}
