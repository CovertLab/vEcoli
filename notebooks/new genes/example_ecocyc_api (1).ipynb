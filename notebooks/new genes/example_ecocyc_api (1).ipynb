{
 "cells": [
  {
   "cell_type": "code",
   "execution_count": 1,
   "id": "83798013-311f-445e-8b79-20d3944dfaab",
   "metadata": {
    "pycharm": {
     "name": "#%%\n"
    }
   },
   "outputs": [],
   "source": [
    "from collections import defaultdict\n",
    "\n",
    "def etree_to_dict(t):\n",
    "    d = {t.tag: {} if t.attrib else None}\n",
    "    children = list(t)\n",
    "    if children:\n",
    "        dd = defaultdict(list)\n",
    "        for dc in map(etree_to_dict, children):\n",
    "            for k, v in dc.items():\n",
    "                dd[k].append(v)\n",
    "        d = {t.tag: {k: v[0] if len(v) == 1 else v\n",
    "                     for k, v in dd.items()}}\n",
    "    if t.attrib:\n",
    "        d[t.tag].update(('@' + k, v)\n",
    "                        for k, v in t.attrib.items())\n",
    "    if t.text:\n",
    "        text = t.text.strip()\n",
    "        if children or t.attrib:\n",
    "            if text:\n",
    "                d[t.tag]['#text'] = text\n",
    "        else:\n",
    "            d[t.tag] = text\n",
    "    return d"
   ]
  },
  {
   "cell_type": "code",
   "execution_count": 2,
   "id": "c5dc4d4e-db1d-4ec2-9e32-8caba2218fc0",
   "metadata": {
    "pycharm": {
     "name": "#%%\n"
    }
   },
   "outputs": [],
   "source": [
    "import requests\n",
    "from xml.etree import ElementTree\n",
    "\n",
    "response = requests.get('https://websvc.biocyc.org/getxml?id=ECOLI:ISOCIT-LYASE&detail=low')\n",
    "\n",
    "tree = ElementTree.fromstring(response.content)\n"
   ]
  },
  {
   "cell_type": "code",
   "execution_count": 3,
   "id": "cae773b3-64ef-4735-ae91-c5689e4c32e9",
   "metadata": {
    "pycharm": {
     "name": "#%%\n"
    }
   },
   "outputs": [
    {
     "data": {
      "text/plain": [
       "{'ptools-xml': {'metadata': {'url': 'http://BioCyc.org/',\n",
       "   'service_name': 'getxml',\n",
       "   'query': 'ECOLI:ISOCIT-LYASE',\n",
       "   'num_results': '1',\n",
       "   'PGDB': {'species': {'@datatype': 'string', '#text': 'Escherichia coli'},\n",
       "    'strain': {'@datatype': 'string', '#text': 'K-12 substr. MG1655'},\n",
       "    '@orgid': 'ECOLI',\n",
       "    '@version': '26.0'}},\n",
       "  'Protein': {'parent': {'Protein': {'@resource': 'getxml?ECOLI:Protein-Complexes',\n",
       "     '@orgid': 'ECOLI',\n",
       "     '@frameid': 'Protein-Complexes',\n",
       "     '@class': 'true'}},\n",
       "   'catalyzes': {'Enzymatic-Reaction': {'reaction': {'Reaction': {'@resource': 'getxml?ECOLI:ISOCIT-CLEAV-RXN',\n",
       "       '@orgid': 'ECOLI',\n",
       "       '@frameid': 'ISOCIT-CLEAV-RXN'}},\n",
       "     'common-name': {'@datatype': 'string', '#text': 'isocitrate lyase'},\n",
       "     'enzyme': {'Protein': {'@resource': '#ECOLI:ISOCIT-LYASE',\n",
       "       '@orgid': 'ECOLI',\n",
       "       '@frameid': 'ISOCIT-LYASE'}},\n",
       "     '@ID': 'ECOLI:ISOCITLYASE-ENZRXN',\n",
       "     '@orgid': 'ECOLI',\n",
       "     '@frameid': 'ISOCITLYASE-ENZRXN',\n",
       "     '@detail': 'low'}},\n",
       "   'component': {'Protein': {'@resource': 'getxml?ECOLI:ISOCIT-LYASE-MONOMER',\n",
       "     '@orgid': 'ECOLI',\n",
       "     '@frameid': 'ISOCIT-LYASE-MONOMER'},\n",
       "    'coefficient': {'@datatype': 'integer', '#text': '4'}},\n",
       "   '@ID': 'ECOLI:ISOCIT-LYASE',\n",
       "   '@orgid': 'ECOLI',\n",
       "   '@frameid': 'ISOCIT-LYASE',\n",
       "   '@detail': 'low'},\n",
       "  '@ptools-version': '26.0',\n",
       "  '@{http://www.w3.org/XML/1998/namespace}base': 'http://BioCyc.org/getxml?ECOLI:ISOCIT-LYASE'}}"
      ]
     },
     "execution_count": 3,
     "metadata": {},
     "output_type": "execute_result"
    }
   ],
   "source": [
    "etree_to_dict(tree)"
   ]
  }
 ],
 "metadata": {
  "kernelspec": {
   "display_name": "Python 3 (ipykernel)",
   "language": "python",
   "name": "python3"
  },
  "language_info": {
   "codemirror_mode": {
    "name": "ipython",
    "version": 3
   },
   "file_extension": ".py",
   "mimetype": "text/x-python",
   "name": "python",
   "nbconvert_exporter": "python",
   "pygments_lexer": "ipython3",
   "version": "3.8.5"
  }
 },
 "nbformat": 4,
 "nbformat_minor": 5
}
