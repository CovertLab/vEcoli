{
 "cells": [
  {
   "cell_type": "code",
   "execution_count": 53,
   "id": "7c91e012-ad16-4230-9c62-09160007eeaf",
   "metadata": {
    "pycharm": {
     "name": "#%%\n"
    }
   },
   "outputs": [],
   "source": [
    "%store -r monomerDicts\n",
    "%run geneSearchFunctions.ipynb"
   ]
  },
  {
   "cell_type": "code",
   "execution_count": 54,
   "id": "93b2bb5a-cf74-4e61-9f53-f3cba556c20b",
   "metadata": {
    "pycharm": {
     "name": "#%%\n"
    }
   },
   "outputs": [],
   "source": [
    "# Getting \"complex addresses\" if applicable\n",
    "\n",
    "complexAddresses = []\n",
    "\n",
    "for dictionary in monomerDicts:\n",
    "    stem = dictionary[\"ptools-xml\"][\"Protein\"]\n",
    "    \n",
    "    if \"component-of\" not in stem:\n",
    "        complexAddresses.append(\"NONE\")\n",
    "    else:\n",
    "        complexes = stem[\"component-of\"]\n",
    "        if type(complexes) is dict:\n",
    "            complexAddresses.append(complexes[\"Protein\"][\"@resource\"])\n",
    "        else:\n",
    "            for complexR in complexes:\n",
    "                complexAddresses.append(complexR[\"@resource\"])"
   ]
  },
  {
   "cell_type": "code",
   "execution_count": 55,
   "id": "1cd1de0a-2323-48bd-aee5-9f75529ffd42",
   "metadata": {
    "pycharm": {
     "name": "#%%\n"
    }
   },
   "outputs": [
    {
     "name": "stdout",
     "output_type": "stream",
     "text": [
      "200\n",
      "200\n"
     ]
    }
   ],
   "source": [
    "# Get dict for all complex addresses\n",
    "\n",
    "complexDicts = []\n",
    "\n",
    "for x in range(len(complexAddresses)):\n",
    "    if complexAddresses[x] == \"NONE\":\n",
    "        complexDicts.append(monomerDicts.pop(0))\n",
    "    else:\n",
    "        linkComplex = \"https://websvc.biocyc.org/\" + complexAddresses[x] + \"&detail=low\"\n",
    "        treeComplex = createTree(linkComplex)\n",
    "        treeDictComplex = etree_to_dict(treeComplex)\n",
    "        complexDicts.append(treeDictComplex)"
   ]
  },
  {
   "cell_type": "code",
   "execution_count": 56,
   "id": "1c86d2a6-83a1-4570-a362-5e3ef0a607ae",
   "metadata": {
    "pycharm": {
     "name": "#%%\n"
    }
   },
   "outputs": [
    {
     "name": "stdout",
     "output_type": "stream",
     "text": [
      "Stored 'complexDicts' (list)\n"
     ]
    }
   ],
   "source": [
    "%store complexDicts"
   ]
  },
  {
   "cell_type": "code",
   "execution_count": null,
   "id": "77ea6694-5a64-411c-8e54-6bca933edfb5",
   "metadata": {
    "pycharm": {
     "name": "#%%\n"
    }
   },
   "outputs": [],
   "source": []
  }
 ],
 "metadata": {
  "kernelspec": {
   "display_name": "Python 3 (ipykernel)",
   "language": "python",
   "name": "python3"
  },
  "language_info": {
   "codemirror_mode": {
    "name": "ipython",
    "version": 3
   },
   "file_extension": ".py",
   "mimetype": "text/x-python",
   "name": "python",
   "nbconvert_exporter": "python",
   "pygments_lexer": "ipython3",
   "version": "3.8.7"
  }
 },
 "nbformat": 4,
 "nbformat_minor": 5
}
