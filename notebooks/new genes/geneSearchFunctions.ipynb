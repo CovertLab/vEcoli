{
 "cells": [
  {
   "cell_type": "code",
   "execution_count": null,
   "id": "f782a7d2-9e98-4a09-a65d-af8f8fcd0275",
   "metadata": {},
   "outputs": [],
   "source": [
    "import requests\n",
    "from xml.etree import ElementTree\n",
    "from collections import defaultdict"
   ]
  },
  {
   "cell_type": "code",
   "execution_count": null,
   "id": "1b8f7074-6fc1-487c-8c6f-4661c46bb67b",
   "metadata": {},
   "outputs": [],
   "source": [
    "def etree_to_dict(t):\n",
    "    d = {t.tag: {} if t.attrib else None}\n",
    "    children = list(t)\n",
    "    if children:\n",
    "        dd = defaultdict(list)\n",
    "        for dc in map(etree_to_dict, children):\n",
    "            for k, v in dc.items():\n",
    "                dd[k].append(v)\n",
    "        d = {t.tag: {k: v[0] if len(v) == 1 else v\n",
    "                     for k, v in dd.items()}}\n",
    "    if t.attrib:\n",
    "        d[t.tag].update(('@' + k, v)\n",
    "                        for k, v in t.attrib.items())\n",
    "    if t.text:\n",
    "        text = t.text.strip()\n",
    "        if children or t.attrib:\n",
    "            if text:\n",
    "                d[t.tag]['#text'] = text\n",
    "        else:\n",
    "            d[t.tag] = text\n",
    "    return d"
   ]
  },
  {
   "cell_type": "code",
   "execution_count": null,
   "id": "5cd9a871-0e59-41f8-9227-b53914a57730",
   "metadata": {},
   "outputs": [],
   "source": [
    "def createTree(link):\n",
    "    response = requests.get(link)\n",
    "    tree = ElementTree.fromstring(response.content)\n",
    "    return tree"
   ]
  },
  {
   "cell_type": "code",
   "execution_count": null,
   "id": "be93dd9d-ad6c-42ab-9113-5032aa419637",
   "metadata": {},
   "outputs": [],
   "source": [
    "def getReactionID(tree):\n",
    "    return tree[\"ptools-xml\"][\"Reaction\"][\"@frameid\"]"
   ]
  },
  {
   "cell_type": "code",
   "execution_count": null,
   "id": "123c7edf-8b20-49ad-b812-edb99ff0e620",
   "metadata": {},
   "outputs": [],
   "source": [
    "def getProteinComplex(tree):\n",
    "    return tree[\"ptools-xml\"][\"Protein\"][\"@frameid\"]"
   ]
  },
  {
   "cell_type": "code",
   "execution_count": null,
   "id": "cf77a01c-c029-405b-afa6-773b8a6c2bcc",
   "metadata": {},
   "outputs": [],
   "source": [
    "def isReversible(tree):\n",
    "    return \"REVERSIBLE\" == tree[\"ptools-xml\"][\"Reaction\"][\"reaction-direction\"]"
   ]
  },
  {
   "cell_type": "code",
   "execution_count": null,
   "id": "a4a411a2-c3ea-4957-ad7a-aec7b040219b",
   "metadata": {},
   "outputs": [],
   "source": [
    "def getStoichiometrySubstrate(tree, geneReactions, stoichDict):\n",
    "    coefficients = []\n",
    "    substrates = tree[\"ptools-xml\"][\"Reaction\"][\"left\"]\n",
    "    \n",
    "    if type(substrates) is dict:\n",
    "        name = substrates[\"Compound\"][\"@frameid\"]\n",
    "        if \"coefficient\" in substrates:\n",
    "            coef = substrates[\"coefficient\"][\"#text\"]\n",
    "            stoichDict[name] = int(coef) * -1\n",
    "        else:\n",
    "            stoichDict[name] = -1\n",
    "    else:\n",
    "        for compound in substrates:\n",
    "            name = compound[\"Compound\"][\"@frameid\"]\n",
    "            if \"coefficient\" in compound:\n",
    "                coef = compound[\"coefficient\"][\"#text\"]\n",
    "                stoichDict[name] = int(coef) * -1\n",
    "            else:\n",
    "                stoichDict[name] = -1"
   ]
  },
  {
   "cell_type": "code",
   "execution_count": null,
   "id": "0b3c2389-5a9e-4a3c-93fd-f9dbd62f3b47",
   "metadata": {},
   "outputs": [],
   "source": [
    "def getStoichiometryProduct(tree, geneReactions, stoichDict):\n",
    "    coefficients = []\n",
    "    products = tree[\"ptools-xml\"][\"Reaction\"][\"right\"]\n",
    "    \n",
    "    if type(products) is dict:\n",
    "        name = products[\"Compound\"][\"@frameid\"]\n",
    "        if name not in stoichDict:\n",
    "            if \"coefficient\" in products:\n",
    "                coef = products[\"coefficient\"][\"#text\"]\n",
    "                stoichDict[name] = int(coef)\n",
    "            else:\n",
    "                stoichDict[name] = 1\n",
    "        else:\n",
    "            if \"coefficient\" in products:\n",
    "                coef = products[\"coefficient\"][\"#text\"]\n",
    "                stoichDict[name] = [stoichDict[name], int(coef)]\n",
    "            else:\n",
    "                stoichDict[name] = [stoichDict[name], 1]\n",
    "    else:\n",
    "        for compound in products:\n",
    "            name = compound[\"Compound\"][\"@frameid\"]\n",
    "            if name not in stoichDict:\n",
    "                if \"coefficient\" in products:\n",
    "                    coef = products[\"coefficient\"][\"#text\"]\n",
    "                    stoichDict[name] = int(coef)\n",
    "                else:\n",
    "                    stoichDict[name] = 1\n",
    "            else:\n",
    "                if \"coefficient\" in products:\n",
    "                    coef = products[\"coefficient\"][\"#text\"]\n",
    "                    stoichDict[name] = [stoichDict[name], int(coef)]\n",
    "                else:\n",
    "                    stoichDict[name] = [stoichDict[name], 1]\n",
    "                \n",
    "    geneReactions[\"stoichiometry\"] = stoichDict"
   ]
  },
  {
   "cell_type": "code",
   "execution_count": null,
   "id": "6aa824ab-cfe9-4d40-9ce3-9b05865295ea",
   "metadata": {},
   "outputs": [],
   "source": [
    "def createDictFromName(complexList):\n",
    "    result = []\n",
    "    \n",
    "    for name in complexList:\n",
    "        linkComplex = \"https://websvc.biocyc.org/getxml?id=ECOLI:\" + name + \"&detail=low\"\n",
    "        treeComplex = createTree(linkComplex)\n",
    "        treeDictComplex = etree_to_dict(treeComplex)\n",
    "        result.append(treeDictComplex)\n",
    "        \n",
    "    return result"
   ]
  },
  {
   "cell_type": "code",
   "execution_count": null,
   "id": "13d1a3e8-b02e-4550-9eeb-e35f0e232d9f",
   "metadata": {},
   "outputs": [],
   "source": [
    "def allMonomers(currentDicts):\n",
    "    for dictionary in currentDicts:\n",
    "        if \"gene\" not in dictionary[\"ptools-xml\"][\"Protein\"]:\n",
    "            return False\n",
    "        \n",
    "    return True"
   ]
  },
  {
   "cell_type": "code",
   "execution_count": null,
   "id": "52d257e2-1f2a-447c-a806-7798b337e7b0",
   "metadata": {},
   "outputs": [],
   "source": [
    "def getMonomersHelper(dictionary):\n",
    "    result = []\n",
    "    components = dictionary[\"ptools-xml\"][\"Protein\"][\"component\"]\n",
    "    \n",
    "    if type(components) is dict:\n",
    "        result.append(components[\"Protein\"][\"@frameid\"])         \n",
    "    else:\n",
    "        for protein in components:\n",
    "            result.append(protein[\"Protein\"][\"@frameid\"])\n",
    "            \n",
    "    return result\n",
    "             "
   ]
  },
  {
   "cell_type": "code",
   "execution_count": null,
   "id": "956aff32-56a2-409e-b75b-0c4d4aaa7f98",
   "metadata": {},
   "outputs": [],
   "source": [
    "def getMonomers(currentList, monomerDicts):\n",
    "    currentDicts = createDictFromName(currentList)\n",
    "    \n",
    "    for dictionary in currentDicts:\n",
    "        if \"gene\" in dictionary[\"ptools-xml\"][\"Protein\"]:\n",
    "            monomerDicts.append(dictionary)\n",
    "        else:\n",
    "            monomers = getMonomersHelper(dictionary)\n",
    "            getMonomers(monomers, monomerDicts)\n",
    "            \n",
    "    return"
   ]
  },
  {
   "cell_type": "code",
   "execution_count": null,
   "id": "d7f7c784-dddd-4b46-9f58-70916805978b",
   "metadata": {},
   "outputs": [],
   "source": [
    "def getGenes(currentList):\n",
    "    result = []\n",
    "    monomerDicts = []\n",
    "    getMonomers(currentList, monomerDicts)\n",
    "    \n",
    "    for dictionary in monomerDicts:\n",
    "        genes = dictionary[\"ptools-xml\"][\"Protein\"][\"gene\"]\n",
    "        if type(genes) is dict:\n",
    "            result.append(genes[\"Gene\"][\"@frameid\"])         \n",
    "        else:\n",
    "            for gene in genes:\n",
    "                result.append(protein[\"@frameid\"])\n",
    "                \n",
    "    return result"
   ]
  },
  {
   "cell_type": "code",
   "execution_count": null,
   "id": "9186d934-0b6a-42fd-aa24-d1a488f6fa31",
   "metadata": {},
   "outputs": [],
   "source": [
    "def getMonomersCountsGenes(easy):\n",
    "    \n",
    "    complexDicts = createDictFromName(easy)\n",
    "\n",
    "    monomers = []\n",
    "    inAddition = []\n",
    "    count = []\n",
    "    genes = []\n",
    "    \n",
    "\n",
    "    for dictionary in complexDicts:\n",
    "\n",
    "        components = dictionary[\"ptools-xml\"][\"Protein\"]\n",
    "\n",
    "        if \"component\" in components:\n",
    "            components = components[\"component\"]\n",
    "\n",
    "            if type(components) is dict:\n",
    "                monomers.append(components[\"Protein\"][\"@frameid\"])\n",
    "                inAddition.append(components[\"Protein\"][\"@frameid\"])\n",
    "                if \"coefficient\" in components:\n",
    "                    coef = components[\"coefficient\"][\"#text\"]\n",
    "                    count.append(int(coef))\n",
    "                else:\n",
    "                    count.append(1)\n",
    "            else:\n",
    "                for protein in components:\n",
    "                    monomers.append(protein[\"Protein\"][\"@frameid\"])\n",
    "                    inAddition.append(protein[\"Protein\"][\"@frameid\"])\n",
    "                    if \"coefficient\" in protein:\n",
    "                        coef = protein[\"coefficient\"][\"#text\"]\n",
    "                        count.append(int(coef))\n",
    "                    else:\n",
    "                        count.append(1)\n",
    "        else:\n",
    "            inAddition.append(components[\"@frameid\"])\n",
    "\n",
    "    genes = getGenes(inAddition)\n",
    "\n",
    "    data = [monomers, count, genes]\n",
    "    \n",
    "    return data"
   ]
  },
  {
   "cell_type": "code",
   "execution_count": null,
   "id": "7203e321-8f98-418c-bad8-0f25f05db2e0",
   "metadata": {},
   "outputs": [],
   "source": [
    "def getProteinComplexes(tree):\n",
    "    result = []\n",
    "    \n",
    "    complexes = tree[\"ptools-xml\"][\"Reaction\"][\"enzymatic-reaction\"][\"Enzymatic-Reaction\"]\n",
    "    \n",
    "    if type(complexes) is dict:\n",
    "        result.append(complexes[\"enzyme\"][\"Protein\"][\"@frameid\"])\n",
    "    else:\n",
    "        for complexR in complexes:\n",
    "             result.append(complexR[\"enzyme\"][\"Protein\"][\"@frameid\"])\n",
    "                \n",
    "    return result"
   ]
  }
 ],
 "metadata": {
  "kernelspec": {
   "display_name": "Python 3 (ipykernel)",
   "language": "python",
   "name": "python3"
  },
  "language_info": {
   "codemirror_mode": {
    "name": "ipython",
    "version": 3
   },
   "file_extension": ".py",
   "mimetype": "text/x-python",
   "name": "python",
   "nbconvert_exporter": "python",
   "pygments_lexer": "ipython3",
   "version": "3.8.7"
  }
 },
 "nbformat": 4,
 "nbformat_minor": 5
}
