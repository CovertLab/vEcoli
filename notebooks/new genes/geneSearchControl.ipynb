{
 "cells": [
  {
   "cell_type": "code",
   "execution_count": 14,
   "id": "616558ef-33dc-4c94-bba7-7424bba8517e",
   "metadata": {},
   "outputs": [
    {
     "name": "stdout",
     "output_type": "stream",
     "text": [
      "Stored 'geneData' (DataFrame)\n",
      "Stored 'reactionStore' (set)\n"
     ]
    }
   ],
   "source": [
    "import pandas as pd\n",
    "import numpy as np\n",
    "geneData = pd.DataFrame()\n",
    "%store geneData\n",
    "genesList = list(pd.read_csv(\"../../out/Genes.txt\", header=None).loc[:,0])\n",
    "reactionStore = {}\n",
    "reactionStore = set()\n",
    "%store reactionStore"
   ]
  },
  {
   "cell_type": "code",
   "execution_count": 15,
   "id": "1302d0ce-3c47-469f-9745-f27b84267393",
   "metadata": {},
   "outputs": [
    {
     "ename": "ParseError",
     "evalue": "not well-formed (invalid token): line 1, column 0 (<string>)",
     "output_type": "error",
     "traceback": [
      "Traceback \u001B[0;36m(most recent call last)\u001B[0m:\n",
      "  File \u001B[1;32m\"/Users/anikethiyengar/.pyenv/versions/3.8.7/envs/viv-ecoli/lib/python3.8/site-packages/IPython/core/interactiveshell.py\"\u001B[0m, line \u001B[1;32m3457\u001B[0m, in \u001B[1;35mrun_code\u001B[0m\n    exec(code_obj, self.user_global_ns, self.user_ns)\n",
      "  File \u001B[1;32m\"/var/folders/mv/hch_65fn41b_2mjc6j04j0n40000gn/T/ipykernel_21538/2141152336.py\"\u001B[0m, line \u001B[1;32m19\u001B[0m, in \u001B[1;35m<module>\u001B[0m\n    treeGene = createTree(linkGene)\n",
      "  File \u001B[1;32m\"/var/folders/mv/hch_65fn41b_2mjc6j04j0n40000gn/T/ipykernel_21538/4157811031.py\"\u001B[0m, line \u001B[1;32m3\u001B[0m, in \u001B[1;35mcreateTree\u001B[0m\n    tree = ElementTree.fromstring(response.content)\n",
      "\u001B[0;36m  File \u001B[0;32m\"/Users/anikethiyengar/.pyenv/versions/3.8.7/lib/python3.8/xml/etree/ElementTree.py\"\u001B[0;36m, line \u001B[0;32m1320\u001B[0;36m, in \u001B[0;35mXML\u001B[0;36m\u001B[0m\n\u001B[0;31m    parser.feed(text)\u001B[0m\n",
      "\u001B[0;36m  File \u001B[0;32m\"<string>\"\u001B[0;36m, line \u001B[0;32munknown\u001B[0m\n\u001B[0;31mParseError\u001B[0m\u001B[0;31m:\u001B[0m not well-formed (invalid token): line 1, column 0\n"
     ]
    },
    {
     "ename": "ParseError",
     "evalue": "not well-formed (invalid token): line 1, column 0 (<string>)",
     "output_type": "error",
     "traceback": [
      "Traceback \u001B[0;36m(most recent call last)\u001B[0m:\n",
      "  File \u001B[1;32m\"/Users/anikethiyengar/.pyenv/versions/3.8.7/envs/viv-ecoli/lib/python3.8/site-packages/IPython/core/interactiveshell.py\"\u001B[0m, line \u001B[1;32m3457\u001B[0m, in \u001B[1;35mrun_code\u001B[0m\n    exec(code_obj, self.user_global_ns, self.user_ns)\n",
      "  File \u001B[1;32m\"/var/folders/mv/hch_65fn41b_2mjc6j04j0n40000gn/T/ipykernel_21538/1319449980.py\"\u001B[0m, line \u001B[1;32m32\u001B[0m, in \u001B[1;35m<module>\u001B[0m\n    treeReaction = createTree(linkReaction)\n",
      "  File \u001B[1;32m\"/var/folders/mv/hch_65fn41b_2mjc6j04j0n40000gn/T/ipykernel_21538/4157811031.py\"\u001B[0m, line \u001B[1;32m3\u001B[0m, in \u001B[1;35mcreateTree\u001B[0m\n    tree = ElementTree.fromstring(response.content)\n",
      "\u001B[0;36m  File \u001B[0;32m\"/Users/anikethiyengar/.pyenv/versions/3.8.7/lib/python3.8/xml/etree/ElementTree.py\"\u001B[0;36m, line \u001B[0;32m1320\u001B[0;36m, in \u001B[0;35mXML\u001B[0;36m\u001B[0m\n\u001B[0;31m    parser.feed(text)\u001B[0m\n",
      "\u001B[0;36m  File \u001B[0;32m\"<string>\"\u001B[0;36m, line \u001B[0;32munknown\u001B[0m\n\u001B[0;31mParseError\u001B[0m\u001B[0;31m:\u001B[0m not well-formed (invalid token): line 1, column 0\n"
     ]
    },
    {
     "ename": "ParseError",
     "evalue": "not well-formed (invalid token): line 1, column 0 (<string>)",
     "output_type": "error",
     "traceback": [
      "Traceback \u001B[0;36m(most recent call last)\u001B[0m:\n",
      "  File \u001B[1;32m\"/Users/anikethiyengar/.pyenv/versions/3.8.7/envs/viv-ecoli/lib/python3.8/site-packages/IPython/core/interactiveshell.py\"\u001B[0m, line \u001B[1;32m3457\u001B[0m, in \u001B[1;35mrun_code\u001B[0m\n    exec(code_obj, self.user_global_ns, self.user_ns)\n",
      "  File \u001B[1;32m\"/var/folders/mv/hch_65fn41b_2mjc6j04j0n40000gn/T/ipykernel_21538/3617719030.py\"\u001B[0m, line \u001B[1;32m3\u001B[0m, in \u001B[1;35m<module>\u001B[0m\n    get_ipython().run_line_magic('run', 'geneSearch.ipynb')\n",
      "  File \u001B[1;32m\"/Users/anikethiyengar/.pyenv/versions/3.8.7/envs/viv-ecoli/lib/python3.8/site-packages/IPython/core/interactiveshell.py\"\u001B[0m, line \u001B[1;32m2364\u001B[0m, in \u001B[1;35mrun_line_magic\u001B[0m\n    result = fn(*args, **kwargs)\n",
      "  File \u001B[1;32m\"/Users/anikethiyengar/.pyenv/versions/3.8.7/envs/viv-ecoli/lib/python3.8/site-packages/decorator.py\"\u001B[0m, line \u001B[1;32m232\u001B[0m, in \u001B[1;35mfun\u001B[0m\n    return caller(func, *(extras + args), **kw)\n",
      "  File \u001B[1;32m\"/Users/anikethiyengar/.pyenv/versions/3.8.7/envs/viv-ecoli/lib/python3.8/site-packages/IPython/core/magic.py\"\u001B[0m, line \u001B[1;32m187\u001B[0m, in \u001B[1;35m<lambda>\u001B[0m\n    call = lambda f, *a, **k: f(*a, **k)\n",
      "  File \u001B[1;32m\"/Users/anikethiyengar/.pyenv/versions/3.8.7/envs/viv-ecoli/lib/python3.8/site-packages/IPython/core/magics/execution.py\"\u001B[0m, line \u001B[1;32m735\u001B[0m, in \u001B[1;35mrun\u001B[0m\n    self.shell.safe_execfile_ipy(filename, raise_exceptions=True)\n",
      "  File \u001B[1;32m\"/Users/anikethiyengar/.pyenv/versions/3.8.7/envs/viv-ecoli/lib/python3.8/site-packages/IPython/core/interactiveshell.py\"\u001B[0m, line \u001B[1;32m2851\u001B[0m, in \u001B[1;35msafe_execfile_ipy\u001B[0m\n    result.raise_error()\n",
      "  File \u001B[1;32m\"/Users/anikethiyengar/.pyenv/versions/3.8.7/envs/viv-ecoli/lib/python3.8/site-packages/IPython/core/interactiveshell.py\"\u001B[0m, line \u001B[1;32m332\u001B[0m, in \u001B[1;35mraise_error\u001B[0m\n    raise self.error_in_exec\n",
      "  File \u001B[1;32m\"/Users/anikethiyengar/.pyenv/versions/3.8.7/envs/viv-ecoli/lib/python3.8/site-packages/IPython/core/interactiveshell.py\"\u001B[0m, line \u001B[1;32m3457\u001B[0m, in \u001B[1;35mrun_code\u001B[0m\n    exec(code_obj, self.user_global_ns, self.user_ns)\n",
      "  File \u001B[1;32m\"/var/folders/mv/hch_65fn41b_2mjc6j04j0n40000gn/T/ipykernel_21538/1319449980.py\"\u001B[0m, line \u001B[1;32m32\u001B[0m, in \u001B[1;35m<module>\u001B[0m\n    treeReaction = createTree(linkReaction)\n",
      "  File \u001B[1;32m\"/var/folders/mv/hch_65fn41b_2mjc6j04j0n40000gn/T/ipykernel_21538/4157811031.py\"\u001B[0m, line \u001B[1;32m3\u001B[0m, in \u001B[1;35mcreateTree\u001B[0m\n    tree = ElementTree.fromstring(response.content)\n",
      "\u001B[0;36m  File \u001B[0;32m\"/Users/anikethiyengar/.pyenv/versions/3.8.7/lib/python3.8/xml/etree/ElementTree.py\"\u001B[0;36m, line \u001B[0;32m1320\u001B[0;36m, in \u001B[0;35mXML\u001B[0;36m\u001B[0m\n\u001B[0;31m    parser.feed(text)\u001B[0m\n",
      "\u001B[0;36m  File \u001B[0;32m\"<string>\"\u001B[0;36m, line \u001B[0;32munknown\u001B[0m\n\u001B[0;31mParseError\u001B[0m\u001B[0;31m:\u001B[0m not well-formed (invalid token): line 1, column 0\n"
     ]
    }
   ],
   "source": [
    "%%capture\n",
    "for gene in genesList:\n",
    "    %store gene\n",
    "    %run geneSearch.ipynb"
   ]
  },
  {
   "cell_type": "code",
   "execution_count": null,
   "id": "3b12ebbe-4c57-4b4b-bdc5-d0e3eb0183c5",
   "metadata": {},
   "outputs": [],
   "source": [
    "geneData.to_csv(\"geneData.txt\", header=True, index=None)"
   ]
  },
  {
   "cell_type": "code",
   "execution_count": null,
   "id": "db2c96b1-02e1-4721-b4df-bdb6827ac990",
   "metadata": {},
   "outputs": [],
   "source": [
    "pd.read_csv(\"geneData.txt\")"
   ]
  }
 ],
 "metadata": {
  "kernelspec": {
   "display_name": "Python 3 (ipykernel)",
   "language": "python",
   "name": "python3"
  },
  "language_info": {
   "codemirror_mode": {
    "name": "ipython",
    "version": 3
   },
   "file_extension": ".py",
   "mimetype": "text/x-python",
   "name": "python",
   "nbconvert_exporter": "python",
   "pygments_lexer": "ipython3",
   "version": "3.8.7"
  }
 },
 "nbformat": 4,
 "nbformat_minor": 5
}