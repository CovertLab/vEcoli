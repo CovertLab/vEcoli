{
 "cells": [
  {
   "cell_type": "markdown",
   "id": "ee34aaeb",
   "metadata": {},
   "source": [
    "# Logger Processes"
   ]
  },
  {
   "cell_type": "code",
   "execution_count": 1,
   "id": "6f2edeff",
   "metadata": {},
   "outputs": [
    {
     "data": {
      "text/plain": [
       "'/Users/eranagmon/code/vivarium-ecoli'"
      ]
     },
     "execution_count": 1,
     "metadata": {},
     "output_type": "execute_result"
    }
   ],
   "source": [
    "# ONLY RUN THIS CELL ONCE!!\n",
    "# TODO: Fix this\n",
    "\n",
    "# Make sure this is running out of vivarium-ecoli directory\n",
    "import sys\n",
    "\n",
    "# sys.path[0] += '/..'\n",
    "s = sys.path[0]\n",
    "s = s.replace('/notebooks', '')\n",
    "s = s.replace('/..', '')\n",
    "sys.path[0] = s\n",
    "\n",
    "# display system path\n",
    "sys.path[0]"
   ]
  },
  {
   "cell_type": "markdown",
   "id": "c4b79d16",
   "metadata": {},
   "source": [
    "## imports"
   ]
  },
  {
   "cell_type": "code",
   "execution_count": 8,
   "id": "efa63fe3",
   "metadata": {},
   "outputs": [],
   "source": [
    "from vivarium.plots.topology import plot_topology\n",
    "from ecoli.library.logging import make_logging_process"
   ]
  },
  {
   "cell_type": "markdown",
   "id": "b5a26b1d",
   "metadata": {},
   "source": [
    "## Load sim_data"
   ]
  },
  {
   "cell_type": "code",
   "execution_count": 5,
   "id": "896d0e5a",
   "metadata": {},
   "outputs": [],
   "source": [
    "from ecoli.library.sim_data import LoadSimData\n",
    "\n",
    "SIM_DATA_PATH = '../reconstruction/sim_data/kb/simData.cPickle'\n",
    "\n",
    "load_sim_data = LoadSimData(\n",
    "            sim_data_path=SIM_DATA_PATH,\n",
    "            seed=0)"
   ]
  },
  {
   "cell_type": "markdown",
   "id": "9d883ec8",
   "metadata": {},
   "source": [
    "## <u>Complexation<u/>"
   ]
  },
  {
   "cell_type": "code",
   "execution_count": 6,
   "id": "bbf55f4b",
   "metadata": {},
   "outputs": [],
   "source": [
    "from ecoli.processes.complexation import Complexation\n",
    "\n",
    "# load in parameters\n",
    "cplx_config = load_sim_data.get_complexation_config()\n",
    "\n",
    "# initialize the process\n",
    "complexation = Complexation(cplx_config)\n",
    "\n",
    "# topology settings\n",
    "cplx_topo_plot = {\n",
    "    'graph_format': 'vertical',\n",
    "    'buffer': 1,\n",
    "    'node_labels': {\n",
    "        'ecoli-complexation': 'ecoli\\ncomplexation'\n",
    "    },\n",
    "    'show_ports': False,\n",
    "    'node_size': 10000,\n",
    "    'dashed_edges': True\n",
    "}\n",
    "cplx_logger_topo_plot = {\n",
    "    'graph_format': 'vertical',\n",
    "    'buffer': 1,\n",
    "    'node_labels': {\n",
    "        'ecoli-complexation': 'ecoli\\ncomplexation\\nlogger'\n",
    "    },\n",
    "    'show_ports': False,\n",
    "    'node_size': 10000,\n",
    "    'dashed_edges': True,\n",
    "    'coordinates': {\n",
    "        'log_update': (1, -2.5)\n",
    "    }\n",
    "}"
   ]
  },
  {
   "cell_type": "code",
   "execution_count": 10,
   "id": "d038e7d4",
   "metadata": {
    "scrolled": true
   },
   "outputs": [
    {
     "data": {
      "image/png": "[encoded data removed]",
      "text/plain": [
       "<Figure size 576x144 with 1 Axes>"
      ]
     },
     "metadata": {},
     "output_type": "display_data"
    }
   ],
   "source": [
    "# initialize the process\n",
    "complexation = Complexation(cplx_config)\n",
    "\n",
    "# plot topology\n",
    "cplx_topology_fig = plot_topology(complexation, cplx_topo_plot)"
   ]
  },
  {
   "cell_type": "code",
   "execution_count": 11,
   "id": "bbf98be7",
   "metadata": {},
   "outputs": [
    {
     "data": {
      "image/png": "[encoded data removed]",
      "text/plain": [
       "<Figure size 576x468 with 1 Axes>"
      ]
     },
     "metadata": {},
     "output_type": "display_data"
    }
   ],
   "source": [
    "# initialize logger process\n",
    "complexation_logger = make_logging_process(Complexation)(cplx_config)\n",
    "\n",
    "# plot topology\n",
    "cplx_logger_topology_fig = plot_topology(complexation_logger, cplx_logger_topo_plot)"
   ]
  }
 ],
 "metadata": {
  "kernelspec": {
   "display_name": "Python 3 (ipykernel)",
   "language": "python",
   "name": "python3"
  },
  "language_info": {
   "codemirror_mode": {
    "name": "ipython",
    "version": 3
   },
   "file_extension": ".py",
   "mimetype": "text/x-python",
   "name": "python",
   "nbconvert_exporter": "python",
   "pygments_lexer": "ipython3",
   "version": "3.8.3"
  },
  "toc": {
   "base_numbering": 1,
   "nav_menu": {},
   "number_sections": false,
   "sideBar": true,
   "skip_h1_title": false,
   "title_cell": "Table of Contents",
   "title_sidebar": "Contents",
   "toc_cell": false,
   "toc_position": {
    "height": "310px",
    "left": "695px",
    "top": "110px",
    "width": "303px"
   },
   "toc_section_display": true,
   "toc_window_display": true
  },
  "toc-autonumbering": false,
  "toc-showcode": false,
  "toc-showmarkdowntxt": false,
  "toc-showtags": false
 },
 "nbformat": 4,
 "nbformat_minor": 5
}
