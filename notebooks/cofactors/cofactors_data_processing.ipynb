{
 "cells": [
  {
   "cell_type": "markdown",
   "source": [
    "# Setup"
   ],
   "metadata": {
    "collapsed": false
   }
  },
  {
   "cell_type": "markdown",
   "source": [],
   "metadata": {
    "collapsed": false
   }
  },
  {
   "cell_type": "code",
   "execution_count": 1,
   "metadata": {
    "collapsed": true,
    "ExecuteTime": {
     "end_time": "2023-11-28T18:56:46.850503Z",
     "start_time": "2023-11-28T18:56:46.506688Z"
    }
   },
   "outputs": [],
   "source": [
    "import numpy as np\n",
    "\n",
    "import seaborn as sns\n",
    "import pandas as pd\n",
    "import os\n",
    "import pprint\n",
    "import ast\n",
    "import re\n",
    "import matplotlib.pyplot as plt\n",
    "import dill\n",
    "import requests\n",
    "import xmltodict\n",
    "import json\n",
    "\n",
    "pp = pprint.PrettyPrinter(depth=6)\n",
    "\n",
    "os.chdir(os.path.expanduser('~/vivarium-ecoli'))\n",
    "\n",
    "ALLOWED_METAL_NAMES =   {'Iron': 'FE+2', 'Cobalt': 'CO+2', 'Copper': 'CU+2', 'Manganese': 'MN+2', 'Molybdenum': 'CPD-8123', 'Nickel': 'NI+2', 'Zinc': 'ZN+2',\n",
    "                        'Calcium': 'CA+2', 'Magnesium': 'MG+2', 'Sodium': 'NA+', 'Potassium': 'K+',\n",
    "                        'Iron-sulfur \\(4Fe-4S\\)': 'CPD-7', 'Iron-sulfur \\(2Fe-2S\\)': 'CPD-6',\n",
    "                         'Iron-sulfur \\(4Fe-4S-S-AdoMet\\)': 'CPD-7', 'Iron-sulfur \\(3Fe-4S\\)': '3FE-4S', 'Iron-oxo-sulfur \\(4Fe-2O-2S\\)': 'CPD-7',\n",
    "                         'Iron-sulfur': 'CPD-7', # has to be after others since it is a substring of others\n",
    "                        'heme': 'Heme-b', 'Molybdate': 'CPD-3', 'heme B': 'Heme-b', 'Cobalamin': 'COB-I-ALAMIN',\n",
    "                         'Selenocysteine': 'L-SELENOCYSTEINE',\n",
    "                        'Divalent metal cation': 'Any+2'}\n",
    "\n",
    "\n",
    "ACCEPTED_OTHER_FEATURES = {'PYRIDOXAL_PHOSPHATE', 'THIAMINE-PYROPHOSPHATE', 'FMN', 'FAD', 'LIPOIC-ACID', 'BIOTIN'}\n",
    "\n",
    "AMINO_ACID_MAP = {'A': 'ALA', 'C': 'CYS', 'D': 'ASP', 'E': 'GLU', 'F': 'PHE', 'G': 'GLY', 'H': 'HIS', 'I': 'ILE',\n",
    "                  'K': 'LYS', 'L': 'LEU', 'M': 'MET', 'N': 'ASN', 'P': 'PRO', 'Q': 'GLN', 'R': 'ARG', 'S': 'SER',\n",
    "                  'T': 'THR', 'V': 'VAL', 'W': 'TRP', 'Y': 'TYR', 'U': 'SEL', '*': 'TER'}\n",
    "\n",
    "# Create a list of temporarily allowed Gene Ontology terms to fix gaps in pathway annotations. Usually non-metabolic\n",
    "# Currently: Tx Reg, Transcription, translation, DNA replication, Cell division, iron-sulfur cluster assembly, proteolysis, dna repair, copper response\n",
    "TEMP_GO_TERMS = {'GO:0006355': 'Regulation of transcription', 'GO:0010468': 'Regulation of transcription',\n",
    "                  'GO:0006351': 'Transcription', 'GO:0006350': 'Transcription',\n",
    "                  'GO:0006412': 'Translation', 'GO:0006260': 'DNA replication', 'GO:0006457': 'Protein folding', 'GO:0045454': 'Redox homeostasis',\n",
    "                  'GO:0051301': 'Cell division', 'GO:0015288': 'Porin',\n",
    "                  'GO:0016226': 'Iron-sulfur cluster assembly', 'GO:0006508': 'Proteolysis', 'GO:0006281': 'DNA repair',\n",
    "                  'GO:0046688': 'Response to copper ion'}\n",
    "\n",
    "\n",
    "# as residues\n",
    "AMINO_ACID_RESIDUE_MASSES = {\n",
    "    'ALA': 71.03711, 'ARG': 156.10111, 'ASN': 114.04293, 'ASP': 115.02694,\n",
    "    'CYS': 103.00919, 'GLU': 129.04259, 'GLN': 128.05858, 'GLY': 57.02146,\n",
    "    'HIS': 137.05891, 'ILE': 113.08406, 'LEU': 113.08406, 'LYS': 128.09496,\n",
    "    'MET': 131.04049, 'PHE': 147.06841, 'PRO': 97.05276, 'SER': 87.03203,\n",
    "    'THR': 101.04768, 'TRP': 186.07931, 'TYR': 163.06333, 'VAL': 99.06841,\n",
    "    'SEL': 150.0379, 'TER': 0.0\n",
    "}\n",
    "\n",
    "\n",
    "erroneous_monomer_metal_interactions = [\"EG11415-MONOMER\", \"EG12132-MONOMER\",\n",
    "    \"EG12332-MONOMER\", \"EG11378-MONOMER\", \"G7748-MONOMER\", \"CRR-MONOMER\"]\n",
    "\n",
    "def get_pathway_ith_level_parents(cur_pathway_idx, pathway_matrix, name_list, level_vector, level=2, parent_dict=None):\n",
    "\n",
    "    if parent_dict is None:\n",
    "        parent_dict = {}\n",
    "\n",
    "    cur_pathway_level = level_vector[cur_pathway_idx]\n",
    "\n",
    "    if cur_pathway_level == level:\n",
    "        parent_dict[name_list[cur_pathway_idx]] = cur_pathway_level\n",
    "\n",
    "    parent_slice = pathway_matrix[:, cur_pathway_idx]\n",
    "    parent_idxs = np.where(parent_slice != 0)[0]\n",
    "\n",
    "\n",
    "    for idx in parent_idxs:\n",
    "\n",
    "        _ = get_pathway_ith_level_parents(idx, pathway_matrix, name_list, level_vector, level, parent_dict)\n",
    "\n",
    "    return parent_dict"
   ]
  },
  {
   "cell_type": "markdown",
   "source": [
    "## Reload data"
   ],
   "metadata": {
    "collapsed": false
   }
  },
  {
   "cell_type": "code",
   "execution_count": 2,
   "outputs": [
    {
     "data": {
      "text/plain": "                                id  \\\n0               Transport-Pathways   \n1               Metabolic-Clusters   \n2                     OANTIGEN-PWY   \n3                         PWY-7206   \n4                         PWY-7184   \n...                            ...   \n1183                         Porin   \n1184  Iron-sulfur cluster assembly   \n1185                   Proteolysis   \n1186                    DNA repair   \n1187        Response to copper ion   \n\n                                                parents  \\\n0                                                    []   \n1                                                    []   \n2     [Metabolic-Clusters, SUGAR-NUCLEOTIDES, Super-...   \n3     [Metabolic-Clusters, Pyrimidine-Deoxyribonucle...   \n4     [Metabolic-Clusters, Pyrimid-Deoxyribonucleot-...   \n...                                                 ...   \n1183                                  [Other functions]   \n1184                                  [Other functions]   \n1185                                  [Other functions]   \n1186                                  [Other functions]   \n1187                                  [Other functions]   \n\n                                               children  level  \\\n0                                                    []      1   \n1     [OANTIGEN-PWY, PWY-7206, PWY-7184, PWY-7801, P...      1   \n2                                                    []      2   \n3                                                    []      2   \n4                                                    []      2   \n...                                                 ...    ...   \n1183                                                 []      2   \n1184                                                 []      2   \n1185                                                 []      2   \n1186                                                 []      2   \n1187                                                 []      2   \n\n                                            common_name  \n0                                             Transport  \n1                                    Metabolic Clusters  \n2     <i>O</i>-antigen building blocks biosynthesis ...  \n3     pyrimidine deoxyribonucleotides dephosphorylation  \n4     pyrimidine deoxyribonucleotides <i>de novo</i>...  \n...                                                 ...  \n1183                                              Porin  \n1184                       Iron-sulfur cluster assembly  \n1185                                        Proteolysis  \n1186                                         DNA repair  \n1187                             Response to copper ion  \n\n[1188 rows x 5 columns]",
      "text/html": "<div>\n<style scoped>\n    .dataframe tbody tr th:only-of-type {\n        vertical-align: middle;\n    }\n\n    .dataframe tbody tr th {\n        vertical-align: top;\n    }\n\n    .dataframe thead th {\n        text-align: right;\n    }\n</style>\n<table border=\"1\" class=\"dataframe\">\n  <thead>\n    <tr style=\"text-align: right;\">\n      <th></th>\n      <th>id</th>\n      <th>parents</th>\n      <th>children</th>\n      <th>level</th>\n      <th>common_name</th>\n    </tr>\n  </thead>\n  <tbody>\n    <tr>\n      <th>0</th>\n      <td>Transport-Pathways</td>\n      <td>[]</td>\n      <td>[]</td>\n      <td>1</td>\n      <td>Transport</td>\n    </tr>\n    <tr>\n      <th>1</th>\n      <td>Metabolic-Clusters</td>\n      <td>[]</td>\n      <td>[OANTIGEN-PWY, PWY-7206, PWY-7184, PWY-7801, P...</td>\n      <td>1</td>\n      <td>Metabolic Clusters</td>\n    </tr>\n    <tr>\n      <th>2</th>\n      <td>OANTIGEN-PWY</td>\n      <td>[Metabolic-Clusters, SUGAR-NUCLEOTIDES, Super-...</td>\n      <td>[]</td>\n      <td>2</td>\n      <td>&lt;i&gt;O&lt;/i&gt;-antigen building blocks biosynthesis ...</td>\n    </tr>\n    <tr>\n      <th>3</th>\n      <td>PWY-7206</td>\n      <td>[Metabolic-Clusters, Pyrimidine-Deoxyribonucle...</td>\n      <td>[]</td>\n      <td>2</td>\n      <td>pyrimidine deoxyribonucleotides dephosphorylation</td>\n    </tr>\n    <tr>\n      <th>4</th>\n      <td>PWY-7184</td>\n      <td>[Metabolic-Clusters, Pyrimid-Deoxyribonucleot-...</td>\n      <td>[]</td>\n      <td>2</td>\n      <td>pyrimidine deoxyribonucleotides &lt;i&gt;de novo&lt;/i&gt;...</td>\n    </tr>\n    <tr>\n      <th>...</th>\n      <td>...</td>\n      <td>...</td>\n      <td>...</td>\n      <td>...</td>\n      <td>...</td>\n    </tr>\n    <tr>\n      <th>1183</th>\n      <td>Porin</td>\n      <td>[Other functions]</td>\n      <td>[]</td>\n      <td>2</td>\n      <td>Porin</td>\n    </tr>\n    <tr>\n      <th>1184</th>\n      <td>Iron-sulfur cluster assembly</td>\n      <td>[Other functions]</td>\n      <td>[]</td>\n      <td>2</td>\n      <td>Iron-sulfur cluster assembly</td>\n    </tr>\n    <tr>\n      <th>1185</th>\n      <td>Proteolysis</td>\n      <td>[Other functions]</td>\n      <td>[]</td>\n      <td>2</td>\n      <td>Proteolysis</td>\n    </tr>\n    <tr>\n      <th>1186</th>\n      <td>DNA repair</td>\n      <td>[Other functions]</td>\n      <td>[]</td>\n      <td>2</td>\n      <td>DNA repair</td>\n    </tr>\n    <tr>\n      <th>1187</th>\n      <td>Response to copper ion</td>\n      <td>[Other functions]</td>\n      <td>[]</td>\n      <td>2</td>\n      <td>Response to copper ion</td>\n    </tr>\n  </tbody>\n</table>\n<p>1188 rows × 5 columns</p>\n</div>"
     },
     "execution_count": 2,
     "metadata": {},
     "output_type": "execute_result"
    }
   ],
   "source": [
    "parsed_complex_df = pd.read_csv('notebooks/cofactors/data/raw_complexes.csv', index_col=False)\n",
    "\n",
    "# read stoichiometry, cofactors and enzyme_reaction as literal sets\n",
    "for column in ['stoichiometry', 'cofactors', 'enzyme_reaction']:\n",
    "    parsed_complex_df[column] = parsed_complex_df[column].apply(ast.literal_eval)\n",
    "\n",
    "parsed_protein_df = pd.read_csv('notebooks/cofactors/data/raw_proteins.csv', index_col=False)\n",
    "\n",
    "for column in ['cofactors', 'enzyme_reaction', 'metal_features', 'other_features', 'direct_annotations', 'go_annotations']:\n",
    "    parsed_protein_df[column] = parsed_protein_df[column].apply(ast.literal_eval)\n",
    "\n",
    "\n",
    "parsed_cofactor_df = pd.read_csv('notebooks/cofactors/data/raw_cofactors.csv', index_col=False)\n",
    "\n",
    "for column in ['elemental_composition']:\n",
    "    parsed_cofactor_df[column] = parsed_cofactor_df[column].apply(ast.literal_eval)\n",
    "\n",
    "parsed_pathway_df = pd.read_csv('notebooks/cofactors/data/raw_pathways.csv', index_col=False)\n",
    "\n",
    "for column in ['parents', 'children']:\n",
    "    parsed_pathway_df[column] = parsed_pathway_df[column].apply(ast.literal_eval)\n",
    "\n",
    "# add GO \"pathways\" to pathway df\n",
    "go_collection = []\n",
    "go_collection.append({'id': 'Other functions', 'common_name': 'Other functions', 'level': 1, 'parents': [], 'children': []})\n",
    "\n",
    "for go_term, go_name in TEMP_GO_TERMS.items():\n",
    "    go_collection[0]['children'].append(go_name)\n",
    "    go_collection.append({'id': go_name, 'common_name': go_name, 'level': 2, 'parents': ['Other functions'], 'children': []})\n",
    "\n",
    "go_df = pd.DataFrame(go_collection)\n",
    "\n",
    "parsed_pathway_df = pd.concat([parsed_pathway_df, go_df], ignore_index=True)\n",
    "parsed_pathway_df"
   ],
   "metadata": {
    "collapsed": false,
    "ExecuteTime": {
     "end_time": "2023-11-28T18:56:46.986850Z",
     "start_time": "2023-11-28T18:56:46.560628Z"
    }
   }
  },
  {
   "cell_type": "markdown",
   "source": [
    "# Data processing into final tables\n",
    "## Specific adjustments"
   ],
   "metadata": {
    "collapsed": false
   }
  },
  {
   "cell_type": "code",
   "execution_count": 3,
   "outputs": [],
   "source": [
    "# removing specific troublesome interactions that have been discovered in the data\n",
    "# should not be in model\n",
    "\n",
    "\n",
    "# remove metal features from EG11415-MONOMER in parsed_protein_df\\\n",
    "for protein in erroneous_monomer_metal_interactions:\n",
    "    prot_idx = np.where(parsed_protein_df['id'] == protein)[0][0]\n",
    "    parsed_protein_df.at[prot_idx, 'metal_features'] = []\n",
    "\n",
    "# classify folE gene use as cofactor production (THF)\n",
    "pathway_idx = parsed_pathway_df[parsed_pathway_df['id'] == '6-HM-Dihydropterin-PP-Biosynthesis'].index[0]\n",
    "parsed_pathway_df.at[pathway_idx, 'parents'] = ['Cofactor-Biosynthesis']\n",
    "\n",
    "protein_idx = parsed_protein_df[parsed_protein_df['id'] == 'GTP-CYCLOHYDRO-I-MONOMER'].index[0]\n",
    "parsed_protein_df.at[protein_idx, 'direct_annotations'] = set(['PWY-6147'])"
   ],
   "metadata": {
    "collapsed": false,
    "ExecuteTime": {
     "end_time": "2023-11-28T18:56:46.987Z",
     "start_time": "2023-11-28T18:56:46.797808Z"
    }
   }
  },
  {
   "cell_type": "code",
   "execution_count": 4,
   "outputs": [
    {
     "data": {
      "text/plain": "{'PWY-6147'}"
     },
     "execution_count": 4,
     "metadata": {},
     "output_type": "execute_result"
    }
   ],
   "source": [
    "set(['PWY-6147'])"
   ],
   "metadata": {
    "collapsed": false,
    "ExecuteTime": {
     "end_time": "2023-11-28T18:56:46.987422Z",
     "start_time": "2023-11-28T18:56:46.801639Z"
    }
   }
  },
  {
   "cell_type": "markdown",
   "source": [
    "## Process raw EcoCyc annotations into standard EcoCyc names"
   ],
   "metadata": {
    "collapsed": false
   }
  },
  {
   "cell_type": "code",
   "execution_count": 5,
   "outputs": [
    {
     "name": "stdout",
     "output_type": "stream",
     "text": [
      "No match for UniProt: Magnesium or manganese. in 3-ISOPROPYLMALDEHYDROG-MONOMER\n",
      "No match for conserved, Fe(III) binding motif in BASS-MONOMER\n",
      "No match for predicted heme d ligand in CYDA-MONOMER\n",
      "No match for UniProt: Zn(2+); catalytic. in CYTDEAM-MONOMER\n",
      "No match for UniProt: Fe(2+); catalytic. in CYTDEAM-MONOMER\n",
      "No match for The amino-terminus of ClpA contains a Zinc binding site. in EG10156-MONOMER\n",
      "No match for The active-site magnesium ion is coordinated by three aspartate residues (401, 403, 555). Two of them form part of \n",
      "the PDXD active-site motif. in EG10238-MONOMER\n",
      "No match for Divalent magnesium ions are chelated by three aspartate residues, two in the conserved DPD sequence (345, 347) \n",
      "and one in the conserved EGYMD sequence (269). in EG10239-MONOMER\n",
      "No match for Based on crystal structures, Glu-265 and Asp-309 coordinate a divalent cation. in EG10239-MONOMER\n",
      "No match for These residues are thought to coordinate the one or two divalent magnesium ions required for the \n",
      "gyrase cleavage-religation reaction. in EG10424-MONOMER\n",
      "No match for Mg<sup>2+</sup> binding site in EG10599-MONOMER\n",
      "No match for This metal-binding motif was identified in a crystal structure [<a href=\"http://www.ncbi.nlm.nih.gov/pubmed/16885166\">Ito06</a>]. in EG10696-MONOMER\n",
      "No match for Asp-10 and Asp-134 coordinate a divalent manganese ion which, when present may inhibit enzymatic activity. in EG10860-MONOMER\n",
      "No match for Asn-44 and Glu-48 coordinate magnesium when it is present. in EG10860-MONOMER\n",
      "No match for Asp-10, Glu-48 and Asp-70 coordinate a divalent manganese ion which is required for catalytic activity. in EG10860-MONOMER\n",
      "No match for binds Zn<sup>2+</sup> and Cd<sup>2+</sup> with high affinity and Fe<sup>2+</sup> with lower affinity in EG11167-MONOMER\n",
      "No match for binds Fe<sup>2+</sup> with high affinity in EG11167-MONOMER\n",
      "No match for Zn<sup>2+</sup> binding in EG11918-MONOMER\n",
      "No match for predicted zinc binding site in EG11955-MONOMER\n",
      "No match for coordination of zinc in EG12045-MONOMER\n",
      "No match for cluster of cysteines that may be involved in binding zinc; possible zinc finger domains in EG12045-MONOMER\n",
      "No match for conserved histidines located in periplasmic regions on either side of the WWD region; ligands for heme in holoCcmE in EG12054-MONOMER\n",
      "No match for Ligands to <i>b</i> heme in EG12054-MONOMER\n",
      "No match for UniProt: Zn(2+); catalytic. in EG12097-MONOMER\n",
      "No match for Calcium in EG12244-MONOMER\n",
      "No match for substrate binding oxidation site: Cu(I) &rarr; Cu(II) in EG12318-MONOMER\n",
      "No match for labile or regulatory copper binding site; functions as an electron transfer site not a substrate reaction site in EG12318-MONOMER\n",
      "No match for type I, blue copper site in EG12318-MONOMER\n",
      "No match for type III, coupled binuclear Cu site in EG12318-MONOMER\n",
      "No match for a third Met ligand is likely located in the region 380-403; substrate binding oxidation site: Cu(I) &rarr; Cu(II) in EG12318-MONOMER\n",
      "No match for type II, non-blue copper site in EG12318-MONOMER\n",
      "No match for conserved in members of the TEES family of bacterial GTPases; implicated in potassium binding in <i>S. thermophilus</i> nFeoB in FEOB-MONOMER\n",
      "No match for 4Fe:4S coordination site in FUM-FE-S\n",
      "No match for 3Fe:4S coordination site in FUM-FE-S\n",
      "No match for 2Fe:2S coordination site in FUM-FE-S\n",
      "No match for UniProt: Copper(1+). in G6263-MONOMER\n",
      "No match for Ag(I) binding, symmetrical binding of two Ag(I) ions at the CusS dimer interface; F43, H176 and H42' co-ordinate one Ag(I) ion while F43', H176' and H42 coordinate the second in G6318-MONOMER\n",
      "No match for Ag(I) binding; involved in binding one Ag(I) ion per CusS monomer in G6318-MONOMER\n",
      "No match for Each of the cysteines in this conserved iron-binding motif is individually required\n",
      "for MiaB enzymatic activity. in G6364-MONOMER\n",
      "No match for potential metal binding site in G6527-MONOMER\n",
      "No match for potential Zn(2) binding site in G6527-MONOMER\n",
      "No match for enzyme shows preference for Fe<sup>2+</sup>, Ni<sup>2+</sup> and Co<sup>2+</sup> over Zn<sup>2+</sup> in G6530-MONOMER\n",
      "No match for Cu<sup>2+</sup>-binding site in G7014-MONOMER\n",
      "No match for potential, conserved copper binding site in G7139-MONOMER\n",
      "No match for zinc binding site in G7430-MONOMER\n",
      "No match for zinc binding in G7458-MONOMER\n",
      "No match for Cys ligands for the nickel ion of the Ni-Fe active site in HYAB-MONOMER\n",
      "No match for heme <i>b</i> ligand in HYAC-MONOMER\n",
      "No match for ligand single calcium ions bound to each monomer of the homodimer; R167 and Ser152 ligands are from monomer A, Ser172 ligand is from monomer B in MONOMER0-341\n",
      "No match for predicted copper ligands in NADH-DHII-MONOMER\n",
      "No match for UniProt: Magnesium or cobalt. in NAG1P-URIDYLTRANS-MONOMER\n",
      "No match for coordinates a molybdenum hydroxo ligand in NARG-MONOMER\n",
      "No match for [4Fe-4S] coordination; FS1 in NARY-MONOMER\n",
      "No match for [3Fe-4S] coordination, FS4 in NARY-MONOMER\n",
      "No match for [4Fe-4S] coordination, FS2 in NARY-MONOMER\n",
      "No match for [4Fe-4S] corodination, FS3 in NARY-MONOMER\n",
      "No match for implicated in Na<sup>+</sup> binding above pH7 in NHAA-MONOMER\n",
      "No match for These residues make up the zinc-binding site. Histidines 79 and 238 appear to directly coordinate zinc, with\n",
      "additional coordination provided by one of the two other residues. All four are essential for catalytic\n",
      "activity [<a href=\"http://www.ncbi.nlm.nih.gov/pubmed/11148046\">Jackman01</a>]. Extended X-ray absorption fine structure spectroscopy suggests that aspartate-246\n",
      "coordinates zinc with the aid of a solvent molecule [<a href=\"http://www.ncbi.nlm.nih.gov/pubmed/12620676\">McClure03</a>]. in UDPACYLGLCNACDEACETYL-MONOMER\n",
      "No match for methionine residues shown to coordinate Cu(I) in the periplasmic binding cleft in YBDE-MONOMER\n",
      "No match for residues constituting a (Met<sub>2</sub> O/N) metal binding motif in YBDE-MONOMER\n",
      "No match for methionine pair located in transmembrane region of protein; suggested to form binding site as part of a methionine shuttle for movement of substrate in YBDE-MONOMER\n",
      "No match for methionine pair located in periplasmic region of protein; suggested to form binding site as part of a methionine shuttle for movement of substrate in YBDE-MONOMER\n",
      "No match for implicated in metal (Zn<sup>2+</sup> and Cd<sup>2+</sup>) coordination in YIIP-MONOMER\n",
      "No match for zinc-coordinating residues in ZNUA-MONOMER\n",
      "No match for implicated in a second zinc binding site in ZNUA-MONOMER\n"
     ]
    }
   ],
   "source": [
    "\n",
    "# remove all \\ characters from keys in ALLOWED_METAL_NAMES\n",
    "NON_REGEX_METAL = {key.replace('\\\\', ''): value for key, value in ALLOWED_METAL_NAMES.items()}\n",
    "\n",
    "parsed_protein_df['metal_features_processed'] = 0\n",
    "parsed_protein_df['metal_features_processed'] = parsed_protein_df['metal_features_processed'].astype(object)\n",
    "\n",
    "metal_pattern = '|'.join(ALLOWED_METAL_NAMES.keys())\n",
    "metal_regex = re.compile(f'(({metal_pattern})(\\s\\d[\\.,;]|[\\.,;]|\\s\\())')\n",
    "\n",
    "\n",
    "for i in range(len(parsed_protein_df.index)):\n",
    "\n",
    "    metal_binding = parsed_protein_df.loc[i, 'metal_features']\n",
    "\n",
    "    metal_count_dict = {}\n",
    "    existing_matches = set()\n",
    "\n",
    "    for feature in metal_binding:\n",
    "        matches = metal_regex.search(feature)\n",
    "        if matches:\n",
    "            metal = matches.group(0)[:-1]\n",
    "\n",
    "            # eliminate duplicates\n",
    "            if metal not in existing_matches:\n",
    "\n",
    "                existing_matches.add(metal)\n",
    "\n",
    "                if 'heme' in feature:\n",
    "                    metal = metal.replace('Iron', 'heme')\n",
    "                if 'alamin' in feature:\n",
    "                    metal = metal.replace('Cobalt', 'Cobalamin')\n",
    "\n",
    "                # check if last char of metal is a number, then crop\n",
    "                if metal[-1].isdigit():\n",
    "                    metal = metal[:-2]\n",
    "\n",
    "                metal = metal.strip()\n",
    "\n",
    "                # replace metal name with allowed metal name\n",
    "                metal = NON_REGEX_METAL[metal]\n",
    "\n",
    "                if metal in metal_count_dict:\n",
    "                    metal_count_dict[metal] += 1\n",
    "                else:\n",
    "                    metal_count_dict[metal] = 1\n",
    "\n",
    "        else:\n",
    "            print(f'No match for {feature} in {parsed_protein_df.loc[i, \"id\"]}')\n",
    "\n",
    "\n",
    "\n",
    "    # EXCEPTIONS\n",
    "    # if both magnesium and manganese are present, replace with magnesium\n",
    "    # TODO remove when using UniProt data. Ecocyc data is not as reliable\n",
    "    if 'MG+2' in metal_count_dict and 'MN+2' in metal_count_dict and metal_count_dict['MG+2'] == metal_count_dict['MN+2']:\n",
    "        del metal_count_dict['MN+2']\n",
    "    # same with cobalt\n",
    "    if 'CO+2' in metal_count_dict and 'MG+2' in metal_count_dict and metal_count_dict['CO+2'] == metal_count_dict['MG+2']:\n",
    "        del metal_count_dict['CO+2']\n",
    "    elif 'CO+2' in metal_count_dict:\n",
    "        metal_count_dict['MG+2'] = metal_count_dict['CO+2']\n",
    "        del metal_count_dict['CO+2']\n",
    "\n",
    "    parsed_protein_df.at[i, 'metal_features_processed'] = metal_count_dict"
   ],
   "metadata": {
    "collapsed": false,
    "ExecuteTime": {
     "end_time": "2023-11-28T18:56:47.018814Z",
     "start_time": "2023-11-28T18:56:46.803510Z"
    }
   }
  },
  {
   "cell_type": "code",
   "execution_count": 6,
   "outputs": [],
   "source": [
    "# manual corrections in data\n",
    "correction_idx = parsed_protein_df.index[parsed_protein_df['id'] == '3-OXOACYL-ACP-REDUCT-MONOMER'][0]\n",
    "\n",
    "# remove cofactors\n",
    "parsed_protein_df.at[correction_idx, 'metal_features_processed'] = {}\n",
    "\n",
    "correction_idx = parsed_protein_df.index[parsed_protein_df['id'] == 'CARBPSYN-LARGE'][0]\n",
    "\n",
    "# remove cofactors\n",
    "parsed_protein_df.at[correction_idx, 'metal_features_processed']\n",
    "mn_cofactor_count = parsed_protein_df.at[correction_idx, 'metal_features_processed']['MN+2']\n",
    "parsed_protein_df.at[correction_idx, 'metal_features_processed'] = {'MG+2': mn_cofactor_count}\n",
    "\n",
    "# dps\n",
    "correction_idx = parsed_protein_df.index[parsed_protein_df['id'] == 'EG11415-MONOMER'][0]\n",
    "parsed_protein_df.at[correction_idx, 'metal_features_processed'] = {}"
   ],
   "metadata": {
    "collapsed": false,
    "ExecuteTime": {
     "end_time": "2023-11-28T18:56:47.018971Z",
     "start_time": "2023-11-28T18:56:46.900048Z"
    }
   }
  },
  {
   "cell_type": "code",
   "execution_count": 7,
   "outputs": [
    {
     "data": {
      "text/plain": "                                            id  \\\n0      1-ACYLGLYCEROL-3-P-ACYLTRANSFER-MONOMER   \n1                                1-PFK-MONOMER   \n2             2-DEHYDROPANTOATE-REDUCT-MONOMER   \n3                 2-ISOPROPYLMALATESYN-MONOMER   \n4     2-OCTAPRENYL-METHOXY-BENZOQ-METH-MONOMER   \n...                                        ...   \n4429                              YTFR-MONOMER   \n4430                              YTFT-MONOMER   \n4431                              ZNUA-MONOMER   \n4432                              ZNUB-MONOMER   \n4433                              ZNUC-MONOMER   \n\n                                            common_name  \\\n0     1-acylglycerol-3-phosphate <i>O</i>-acyltransf...   \n1                                 1-phosphofructokinase   \n2                         2-dehydropantoate 2-reductase   \n3                            2-isopropylmalate synthase   \n4     bifunctional 2-octaprenyl-6-methoxy-1,4-benzoq...   \n...                                                 ...   \n4429  galactofuranose ABC transporter putative ATP b...   \n4430  galactofuranose ABC transporter putative membr...   \n4431  Zn<sup>2+</sup> ABC transporter periplasmic bi...   \n4432   Zn<sup>2+</sup> ABC transporter membrane subunit   \n4433  Zn<sup>2+</sup> ABC transporter ATP binding su...   \n\n                                                    seq  \\\n0     MLYIFRLIITVIYSILVCVFGSIYCLFSPRNPKHVATFGHMFGRLA...   \n1     MSRRVATITLNPAYDLVGFCPEIERGEVNLVKTTGLHAAGKGINVA...   \n2     MKITVLGCGALGQLWLTALCKQGHEVQGWLRVPQPYCSVNLVETDG...   \n3     MSQQVIIFDTTLRDGEQALQASLSVKEKLQIALALERMGVDVMEVG...   \n4     MVDKSQETTHFGFQTVAKEQKADMVAHVFHSVASKYDVMNDLMSFG...   \n...                                                 ...   \n4429  MTTDQHQEILRTEGLSKFFPGVKALDNVDFSLRRGEIMALLGENGA...   \n4430  MMPQSLPDTTTPKRRFRWPTGMPQLVALLLVLLVDSLVAPHFWQVV...   \n4431  MLHKKTLLFAALSAALWGGATQAADAAVVASLKPVGFIASAIADGV...   \n4432  MIELLFPGWLAGIMLACAAGPLGSFVVWRRMSYFGDTLAHASLLGV...   \n4433  MTSLVSLENVSVSFGQRRVLSDVSLELKPGKILTLLGPNGAGKSTL...   \n\n                                        enzyme_reaction cofactors  \\\n0     {ENZRXN0-7994, ENZRXN0-8629, ENZRXN0-7993, ENZ...        {}   \n1                                                    {}        {}   \n2                     {2-DEHYDROPANTOATE-REDUCT-ENZRXN}        {}   \n3                                        {ENZRXN0-6250}        {}   \n4     {ADOMET-DMK-METHYLTRANSFER-ENZRXN, 2-OCTAPRENY...        {}   \n...                                                 ...       ...   \n4429                                                 {}        {}   \n4430                                                 {}        {}   \n4431                                                 {}        {}   \n4432                                                 {}        {}   \n4433                                                 {}        {}   \n\n     other_features              direct_annotations  \\\n0                []           {PWY0-1319, PWY-5667}   \n1             [ATP]                     {PWY0-1314}   \n2            [NADP]                     {PANTO-PWY}   \n3                []                    {LEUSYN-PWY}   \n4                []  {PWY-6708, MENAQUINONESYN-PWY}   \n...             ...                             ...   \n4429          [ATP]                              {}   \n4430             []                              {}   \n4431             []                              {}   \n4432             []                              {}   \n4433          [ATP]                              {}   \n\n                                         go_annotations uniprot_id  \\\n0     {GO:0008654, GO:0006629, GO:0003841, GO:000665...     P26647   \n1     {GO:0006001, GO:0016772, GO:0000166, GO:000552...     P0AEW9   \n2     {GO:0015940, GO:0005829, GO:0016616, GO:001649...     P0A9J4   \n3     {GO:0003852, GO:0008652, GO:0046912, GO:004687...     P09151   \n4     {GO:0030580, GO:0006744, GO:0043770, GO:004333...     P0A887   \n...                                                 ...        ...   \n4429  {GO:0042626, GO:0000166, GO:0005524, GO:005508...     Q6BEX0   \n4430  {GO:0022857, GO:0055085, GO:0043190, GO:000551...     P39328   \n4431  {GO:0030001, GO:0046872, GO:0030288, GO:000681...     P39172   \n4432  {GO:0010043, GO:0055085, GO:0043190, GO:000681...     P39832   \n4433  {GO:0015633, GO:0042626, GO:0010043, GO:000016...     P0A9X1   \n\n     metal_features_processed  \n0                          {}  \n1                          {}  \n2                          {}  \n3                          {}  \n4                          {}  \n...                       ...  \n4429                       {}  \n4430                       {}  \n4431              {'ZN+2': 1}  \n4432                       {}  \n4433                       {}  \n\n[4434 rows x 10 columns]",
      "text/html": "<div>\n<style scoped>\n    .dataframe tbody tr th:only-of-type {\n        vertical-align: middle;\n    }\n\n    .dataframe tbody tr th {\n        vertical-align: top;\n    }\n\n    .dataframe thead th {\n        text-align: right;\n    }\n</style>\n<table border=\"1\" class=\"dataframe\">\n  <thead>\n    <tr style=\"text-align: right;\">\n      <th></th>\n      <th>id</th>\n      <th>common_name</th>\n      <th>seq</th>\n      <th>enzyme_reaction</th>\n      <th>cofactors</th>\n      <th>other_features</th>\n      <th>direct_annotations</th>\n      <th>go_annotations</th>\n      <th>uniprot_id</th>\n      <th>metal_features_processed</th>\n    </tr>\n  </thead>\n  <tbody>\n    <tr>\n      <th>0</th>\n      <td>1-ACYLGLYCEROL-3-P-ACYLTRANSFER-MONOMER</td>\n      <td>1-acylglycerol-3-phosphate &lt;i&gt;O&lt;/i&gt;-acyltransf...</td>\n      <td>MLYIFRLIITVIYSILVCVFGSIYCLFSPRNPKHVATFGHMFGRLA...</td>\n      <td>{ENZRXN0-7994, ENZRXN0-8629, ENZRXN0-7993, ENZ...</td>\n      <td>{}</td>\n      <td>[]</td>\n      <td>{PWY0-1319, PWY-5667}</td>\n      <td>{GO:0008654, GO:0006629, GO:0003841, GO:000665...</td>\n      <td>P26647</td>\n      <td>{}</td>\n    </tr>\n    <tr>\n      <th>1</th>\n      <td>1-PFK-MONOMER</td>\n      <td>1-phosphofructokinase</td>\n      <td>MSRRVATITLNPAYDLVGFCPEIERGEVNLVKTTGLHAAGKGINVA...</td>\n      <td>{}</td>\n      <td>{}</td>\n      <td>[ATP]</td>\n      <td>{PWY0-1314}</td>\n      <td>{GO:0006001, GO:0016772, GO:0000166, GO:000552...</td>\n      <td>P0AEW9</td>\n      <td>{}</td>\n    </tr>\n    <tr>\n      <th>2</th>\n      <td>2-DEHYDROPANTOATE-REDUCT-MONOMER</td>\n      <td>2-dehydropantoate 2-reductase</td>\n      <td>MKITVLGCGALGQLWLTALCKQGHEVQGWLRVPQPYCSVNLVETDG...</td>\n      <td>{2-DEHYDROPANTOATE-REDUCT-ENZRXN}</td>\n      <td>{}</td>\n      <td>[NADP]</td>\n      <td>{PANTO-PWY}</td>\n      <td>{GO:0015940, GO:0005829, GO:0016616, GO:001649...</td>\n      <td>P0A9J4</td>\n      <td>{}</td>\n    </tr>\n    <tr>\n      <th>3</th>\n      <td>2-ISOPROPYLMALATESYN-MONOMER</td>\n      <td>2-isopropylmalate synthase</td>\n      <td>MSQQVIIFDTTLRDGEQALQASLSVKEKLQIALALERMGVDVMEVG...</td>\n      <td>{ENZRXN0-6250}</td>\n      <td>{}</td>\n      <td>[]</td>\n      <td>{LEUSYN-PWY}</td>\n      <td>{GO:0003852, GO:0008652, GO:0046912, GO:004687...</td>\n      <td>P09151</td>\n      <td>{}</td>\n    </tr>\n    <tr>\n      <th>4</th>\n      <td>2-OCTAPRENYL-METHOXY-BENZOQ-METH-MONOMER</td>\n      <td>bifunctional 2-octaprenyl-6-methoxy-1,4-benzoq...</td>\n      <td>MVDKSQETTHFGFQTVAKEQKADMVAHVFHSVASKYDVMNDLMSFG...</td>\n      <td>{ADOMET-DMK-METHYLTRANSFER-ENZRXN, 2-OCTAPRENY...</td>\n      <td>{}</td>\n      <td>[]</td>\n      <td>{PWY-6708, MENAQUINONESYN-PWY}</td>\n      <td>{GO:0030580, GO:0006744, GO:0043770, GO:004333...</td>\n      <td>P0A887</td>\n      <td>{}</td>\n    </tr>\n    <tr>\n      <th>...</th>\n      <td>...</td>\n      <td>...</td>\n      <td>...</td>\n      <td>...</td>\n      <td>...</td>\n      <td>...</td>\n      <td>...</td>\n      <td>...</td>\n      <td>...</td>\n      <td>...</td>\n    </tr>\n    <tr>\n      <th>4429</th>\n      <td>YTFR-MONOMER</td>\n      <td>galactofuranose ABC transporter putative ATP b...</td>\n      <td>MTTDQHQEILRTEGLSKFFPGVKALDNVDFSLRRGEIMALLGENGA...</td>\n      <td>{}</td>\n      <td>{}</td>\n      <td>[ATP]</td>\n      <td>{}</td>\n      <td>{GO:0042626, GO:0000166, GO:0005524, GO:005508...</td>\n      <td>Q6BEX0</td>\n      <td>{}</td>\n    </tr>\n    <tr>\n      <th>4430</th>\n      <td>YTFT-MONOMER</td>\n      <td>galactofuranose ABC transporter putative membr...</td>\n      <td>MMPQSLPDTTTPKRRFRWPTGMPQLVALLLVLLVDSLVAPHFWQVV...</td>\n      <td>{}</td>\n      <td>{}</td>\n      <td>[]</td>\n      <td>{}</td>\n      <td>{GO:0022857, GO:0055085, GO:0043190, GO:000551...</td>\n      <td>P39328</td>\n      <td>{}</td>\n    </tr>\n    <tr>\n      <th>4431</th>\n      <td>ZNUA-MONOMER</td>\n      <td>Zn&lt;sup&gt;2+&lt;/sup&gt; ABC transporter periplasmic bi...</td>\n      <td>MLHKKTLLFAALSAALWGGATQAADAAVVASLKPVGFIASAIADGV...</td>\n      <td>{}</td>\n      <td>{}</td>\n      <td>[]</td>\n      <td>{}</td>\n      <td>{GO:0030001, GO:0046872, GO:0030288, GO:000681...</td>\n      <td>P39172</td>\n      <td>{'ZN+2': 1}</td>\n    </tr>\n    <tr>\n      <th>4432</th>\n      <td>ZNUB-MONOMER</td>\n      <td>Zn&lt;sup&gt;2+&lt;/sup&gt; ABC transporter membrane subunit</td>\n      <td>MIELLFPGWLAGIMLACAAGPLGSFVVWRRMSYFGDTLAHASLLGV...</td>\n      <td>{}</td>\n      <td>{}</td>\n      <td>[]</td>\n      <td>{}</td>\n      <td>{GO:0010043, GO:0055085, GO:0043190, GO:000681...</td>\n      <td>P39832</td>\n      <td>{}</td>\n    </tr>\n    <tr>\n      <th>4433</th>\n      <td>ZNUC-MONOMER</td>\n      <td>Zn&lt;sup&gt;2+&lt;/sup&gt; ABC transporter ATP binding su...</td>\n      <td>MTSLVSLENVSVSFGQRRVLSDVSLELKPGKILTLLGPNGAGKSTL...</td>\n      <td>{}</td>\n      <td>{}</td>\n      <td>[ATP]</td>\n      <td>{}</td>\n      <td>{GO:0015633, GO:0042626, GO:0010043, GO:000016...</td>\n      <td>P0A9X1</td>\n      <td>{}</td>\n    </tr>\n  </tbody>\n</table>\n<p>4434 rows × 10 columns</p>\n</div>"
     },
     "execution_count": 7,
     "metadata": {},
     "output_type": "execute_result"
    }
   ],
   "source": [
    "parsed_protein_df = parsed_protein_df.drop(columns=['metal_features'])\n",
    "parsed_protein_df"
   ],
   "metadata": {
    "collapsed": false,
    "ExecuteTime": {
     "end_time": "2023-11-28T18:56:47.019102Z",
     "start_time": "2023-11-28T18:56:46.913646Z"
    }
   }
  },
  {
   "cell_type": "code",
   "execution_count": 8,
   "outputs": [],
   "source": [
    "parsed_protein_df['other_features_processed'] = 0\n",
    "parsed_protein_df['other_features_processed'] = parsed_protein_df['other_features_processed'].astype(object)\n",
    "\n",
    "for i in range(len(parsed_protein_df.index)):\n",
    "\n",
    "    other_features = parsed_protein_df.loc[i, 'other_features']\n",
    "\n",
    "    other_feature_count_dict = {}\n",
    "    existing_matches = set()\n",
    "\n",
    "    for feature in other_features:\n",
    "\n",
    "        # eliminate duplicates\n",
    "        if feature not in existing_matches:\n",
    "\n",
    "            existing_matches.add(feature)\n",
    "\n",
    "            if feature in ACCEPTED_OTHER_FEATURES:\n",
    "                if feature in other_feature_count_dict:\n",
    "                    other_feature_count_dict[feature] += 1\n",
    "                else:\n",
    "                    other_feature_count_dict[feature] = 1\n",
    "\n",
    "    parsed_protein_df.at[i, 'other_features_processed'] = other_feature_count_dict"
   ],
   "metadata": {
    "collapsed": false,
    "ExecuteTime": {
     "end_time": "2023-11-28T18:56:47.030115Z",
     "start_time": "2023-11-28T18:56:46.967725Z"
    }
   }
  },
  {
   "cell_type": "code",
   "execution_count": 9,
   "outputs": [
    {
     "name": "stdout",
     "output_type": "stream",
     "text": [
      "CYDC-MONOMER {'Redox homeostasis'}\n",
      "CYDD-MONOMER {'Redox homeostasis'}\n",
      "DSBC-MONOMER {'Response to copper ion'}\n",
      "EG10013-MONOMER {'Proteolysis'}\n",
      "EG10037-MONOMER {'DNA repair'}\n",
      "EG10087-MONOMER {'Regulation of transcription'}\n",
      "EG10108-MONOMER {'Redox homeostasis'}\n",
      "EG10116-MONOMER {'Regulation of transcription'}\n",
      "EG10125-MONOMER {'Transcription'}\n",
      "EG10126-MONOMER {'Porin'}\n",
      "EG10143-MONOMER {'Regulation of transcription'}\n",
      "EG10156-MONOMER {'Proteolysis'}\n",
      "EG10158-MONOMER {'Proteolysis'}\n",
      "EG10159-MONOMER {'Protein folding'}\n",
      "EG10204-MONOMER {'DNA replication'}\n",
      "EG10212-MONOMER {'Proteolysis'}\n",
      "EG10218-MONOMER {'Cell division'}\n",
      "EG10226-MONOMER {'Transcription'}\n",
      "EG10227-MONOMER {'Cell division'}\n",
      "EG10228-MONOMER {'Regulation of transcription'}\n",
      "EG10229-MONOMER {'Regulation of transcription'}\n",
      "EG10230-MONOMER {'Regulation of transcription'}\n",
      "EG10236-MONOMER {'DNA replication'}\n",
      "EG10237-MONOMER {'DNA replication'}\n",
      "EG10238-MONOMER {'DNA replication'}\n",
      "EG10239-MONOMER {'DNA replication'}\n",
      "EG10240-MONOMER {'DNA replication'}\n",
      "EG10241-MONOMER {'DNA replication'}\n",
      "EG10242-MONOMER {'DNA replication'}\n",
      "EG10243-MONOMER {'DNA replication'}\n",
      "EG10244-MONOMER {'DNA replication'}\n",
      "EG10245-MONOMER {'DNA replication'}\n",
      "EG10286-MONOMER {'Regulation of transcription'}\n",
      "EG10320-MONOMER {'Regulation of transcription'}\n",
      "EG10329-MONOMER {'DNA repair'}\n",
      "EG10335-MONOMER {'Translation'}\n",
      "EG10339-MONOMER {'Cell division'}\n",
      "EG10342-MONOMER {'Cell division'}\n",
      "EG10347-MONOMER {'Cell division'}\n",
      "EG10360-MONOMER {'Translation'}\n",
      "EG10374-MONOMER {'Proteolysis'}\n",
      "EG10397-MONOMER {'Proteolysis'}\n",
      "EG10416-MONOMER {'Protein folding'}\n",
      "EG10423-MONOMER {'Transcription'}\n",
      "EG10424-MONOMER {'Transcription'}\n",
      "EG10438-MONOMER {'Regulation of transcription'}\n",
      "EG10439-MONOMER {'Regulation of transcription'}\n",
      "EG10442-MONOMER {'Regulation of transcription'}\n",
      "EG10443-MONOMER {'Regulation of transcription'}\n",
      "EG10455-MONOMER {'Protein folding'}\n",
      "EG10461-MONOMER {'Protein folding'}\n",
      "EG10462-MONOMER {'Proteolysis'}\n",
      "EG10463-MONOMER {'Protein folding'}\n",
      "EG10466-MONOMER {'Transcription'}\n",
      "EG10467-MONOMER {'Transcription'}\n",
      "EG10471-MONOMER {'Proteolysis'}\n",
      "EG10488-MONOMER {'Proteolysis'}\n",
      "EG10490-MONOMER {'Regulation of transcription'}\n",
      "EG10504-MONOMER {'Translation'}\n",
      "EG10505-MONOMER {'Translation'}\n",
      "EG10506-MONOMER {'Translation'}\n",
      "EG10528-MONOMER {'Porin'}\n",
      "EG10529-MONOMER {'Translation'}\n",
      "EG10530-MONOMER {'Proteolysis'}\n",
      "EG10534-MONOMER {'DNA replication'}\n",
      "EG10535-MONOMER {'Proteolysis'}\n",
      "EG10542-MONOMER {'Proteolysis'}\n",
      "EG10570-MONOMER {'Proteolysis'}\n",
      "EG10571-MONOMER {'Regulation of transcription'}\n",
      "EG10580-MONOMER {'Proteolysis'}\n",
      "EG10596-MONOMER {'Cell division'}\n",
      "EG10597-MONOMER {'Cell division'}\n",
      "EG10598-MONOMER {'Cell division'}\n",
      "EG10599-MONOMER {'Protein folding'}\n",
      "EG10600-MONOMER {'Protein folding'}\n",
      "EG10603-MONOMER {'Regulation of transcription'}\n",
      "EG10611-MONOMER {'Iron-sulfur cluster assembly'}\n",
      "EG10618-MONOMER {'DNA replication'}\n",
      "EG10624-MONOMER {'DNA repair'}\n",
      "EG10625-MONOMER {'DNA repair'}\n",
      "EG10626-MONOMER {'DNA replication'}\n",
      "EG10627-MONOMER {'DNA repair'}\n",
      "EG10651-MONOMER {'DNA repair'}\n",
      "EG10656-MONOMER {'Transcription'}\n",
      "EG10662-MONOMER {'DNA repair'}\n",
      "EG10666-MONOMER {'Regulation of transcription'}\n",
      "EG10668-MONOMER {'DNA repair'}\n",
      "EG10669-MONOMER {'Porin'}\n",
      "EG10670-MONOMER {'Porin'}\n",
      "EG10671-MONOMER {'Porin'}\n",
      "EG10673-MONOMER {'Proteolysis'}\n",
      "EG10684-MONOMER {'Cell division'}\n",
      "EG10694-MONOMER {'Transcription'}\n",
      "EG10696-MONOMER {'Proteolysis'}\n",
      "EG10697-MONOMER {'Proteolysis'}\n",
      "EG10698-MONOMER {'Proteolysis'}\n",
      "EG10715-MONOMER {'Regulation of transcription'}\n",
      "EG10736-MONOMER {'DNA repair'}\n",
      "EG10741-MONOMER {'Proteolysis'}\n",
      "EG10746-MONOMER {'DNA replication'}\n",
      "EG10747-MONOMER {'DNA repair'}\n",
      "EG10757-MONOMER {'Protein folding'}\n",
      "EG10758-MONOMER {'Protein folding'}\n",
      "EG10760-MONOMER {'Proteolysis'}\n",
      "EG10761-MONOMER {'Translation'}\n",
      "EG10762-MONOMER {'Translation'}\n",
      "EG10763-MONOMER {'DNA replication'}\n",
      "EG10764-MONOMER {'DNA replication'}\n",
      "EG10776-MONOMER {'Regulation of transcription'}\n",
      "EG10777-MONOMER {'Regulation of transcription'}\n",
      "EG10785-MONOMER {'Translation'}\n",
      "EG10786-MONOMER {'Proteolysis'}\n",
      "EG10823-MONOMER {'DNA repair'}\n",
      "EG10824-MONOMER {'DNA repair'}\n",
      "EG10825-MONOMER {'DNA repair'}\n",
      "EG10826-MONOMER {'DNA repair'}\n",
      "EG10828-MONOMER {'DNA replication'}\n",
      "EG10829-MONOMER {'DNA repair'}\n",
      "EG10830-MONOMER {'DNA repair'}\n",
      "EG10831-MONOMER {'DNA repair'}\n",
      "EG10832-MONOMER {'DNA repair'}\n",
      "EG10833-MONOMER {'DNA replication'}\n",
      "EG10834-MONOMER {'DNA repair'}\n",
      "EG10836-MONOMER {'Regulation of transcription'}\n",
      "EG10837-MONOMER {'DNA replication'}\n",
      "EG10839-MONOMER {'Regulation of transcription'}\n",
      "EG10852-MONOMER {'Translation'}\n",
      "EG10857-MONOMER {'Regulation of transcription'}\n",
      "EG10864-MONOMER {'Translation'}\n",
      "EG10865-MONOMER {'Translation'}\n",
      "EG10866-MONOMER {'Translation'}\n",
      "EG10867-MONOMER {'Translation'}\n",
      "EG10868-MONOMER {'Translation'}\n",
      "EG10869-MONOMER {'Translation'}\n",
      "EG10870-MONOMER {'Translation'}\n",
      "EG10871-MONOMER {'Translation'}\n",
      "EG10872-MONOMER {'Translation'}\n",
      "EG10873-MONOMER {'Translation'}\n",
      "EG10874-MONOMER {'Translation'}\n",
      "EG10875-MONOMER {'Translation'}\n",
      "EG10876-MONOMER {'Translation'}\n",
      "EG10877-MONOMER {'Translation'}\n",
      "EG10878-MONOMER {'Translation'}\n",
      "EG10879-MONOMER {'Translation'}\n",
      "EG10880-MONOMER {'Translation'}\n",
      "EG10881-MONOMER {'Translation'}\n",
      "EG10882-MONOMER {'Translation'}\n",
      "EG10883-MONOMER {'Translation'}\n",
      "EG10884-MONOMER {'Translation'}\n",
      "EG10885-MONOMER {'Translation'}\n",
      "EG10886-MONOMER {'Translation'}\n",
      "EG10887-MONOMER {'Translation'}\n",
      "EG10888-MONOMER {'Translation'}\n",
      "EG10889-MONOMER {'Translation'}\n",
      "EG10890-MONOMER {'Translation'}\n",
      "EG10891-MONOMER {'Translation'}\n",
      "EG10892-MONOMER {'Translation'}\n",
      "EG10893-MONOMER {'Transcription'}\n",
      "EG10899-MONOMER {'Transcription'}\n",
      "EG10900-MONOMER {'Translation'}\n",
      "EG10901-MONOMER {'Translation'}\n",
      "EG10902-MONOMER {'Translation'}\n",
      "EG10903-MONOMER {'Translation'}\n",
      "EG10904-MONOMER {'Translation'}\n",
      "EG10905-MONOMER {'Translation'}\n",
      "EG10906-MONOMER {'Translation'}\n",
      "EG10907-MONOMER {'Translation'}\n",
      "EG10908-MONOMER {'Translation'}\n",
      "EG10909-MONOMER {'Translation'}\n",
      "EG10910-MONOMER {'Translation'}\n",
      "EG10911-MONOMER {'Translation'}\n",
      "EG10912-MONOMER {'Translation'}\n",
      "EG10913-MONOMER {'Translation'}\n",
      "EG10914-MONOMER {'Translation'}\n",
      "EG10915-MONOMER {'Translation'}\n",
      "EG10916-MONOMER {'Translation'}\n",
      "EG10917-MONOMER {'Translation'}\n",
      "EG10918-MONOMER {'Translation'}\n",
      "EG10919-MONOMER {'Translation'}\n",
      "EG10920-MONOMER {'Translation'}\n",
      "EG10923-MONOMER {'DNA repair'}\n",
      "EG10924-MONOMER {'DNA repair'}\n",
      "EG10925-MONOMER {'DNA repair'}\n",
      "EG10926-MONOMER {'DNA repair'}\n",
      "EG10927-MONOMER {'DNA replication'}\n",
      "EG10942-MONOMER {'Translation'}\n",
      "EG10955-MONOMER {'Regulation of transcription'}\n",
      "EG10956-MONOMER {'Proteolysis'}\n",
      "EG10976-MONOMER {'DNA replication'}\n",
      "EG10984-MONOMER {'Cell division'}\n",
      "EG10985-MONOMER {'Protein folding'}\n",
      "EG10986-MONOMER {'DNA repair'}\n",
      "EG11003-MONOMER {'Protein folding'}\n",
      "EG11004-MONOMER {'Proteolysis'}\n",
      "EG11007-MONOMER {'Cell division'}\n",
      "EG11008-MONOMER {'Cell division'}\n",
      "EG11009-MONOMER {'Porin'}\n",
      "EG11010-MONOMER {'Cell division'}\n",
      "EG11011-MONOMER {'Cell division'}\n",
      "EG11033-MONOMER {'Translation'}\n",
      "EG11035-MONOMER {'Porin'}\n",
      "EG11036-MONOMER {'Translation'}\n",
      "EG11037-MONOMER {'Translation'}\n",
      "EG11038-MONOMER {'DNA replication'}\n",
      "EG11056-MONOMER {'DNA repair'}\n",
      "EG11057-MONOMER {'Regulation of transcription'}\n",
      "EG11058-MONOMER {'DNA repair'}\n",
      "EG11061-MONOMER {'DNA repair'}\n",
      "EG11062-MONOMER {'DNA repair'}\n",
      "EG11063-MONOMER {'DNA repair'}\n",
      "EG11064-MONOMER {'DNA replication'}\n",
      "EG11068-MONOMER {'DNA repair'}\n",
      "EG11069-MONOMER {'Cell division'}\n",
      "EG11071-MONOMER {'Cell division'}\n",
      "EG11073-MONOMER {'DNA repair'}\n",
      "EG11080-MONOMER {'Protein folding'}\n",
      "EG11083-MONOMER {'Regulation of transcription'}\n",
      "EG11084-MONOMER {'Regulation of transcription'}\n",
      "EG11086-MONOMER {'Cell division'}\n",
      "EG11088-MONOMER {'Regulation of transcription'}\n",
      "EG11094-MONOMER {'DNA replication'}\n",
      "EG11103-MONOMER {'Regulation of transcription'}\n",
      "EG11111-MONOMER {'Regulation of transcription'}\n",
      "EG11128-MONOMER {'Translation'}\n",
      "EG11131-MONOMER {'Regulation of transcription'}\n",
      "EG11133-MONOMER {'Proteolysis'}\n",
      "EG11137-MONOMER {'Regulation of transcription'}\n",
      "EG11146-MONOMER {'Regulation of transcription'}\n",
      "EG11149-MONOMER {'Regulation of transcription'}\n",
      "EG11179-MONOMER {'Translation'}\n",
      "EG11183-MONOMER {'Cell division'}\n",
      "EG11191-MONOMER {'Regulation of transcription'}\n",
      "EG11203-MONOMER {'Cell division'}\n",
      "EG11210-MONOMER {'DNA replication'}\n",
      "EG11212-MONOMER {'Regulation of transcription'}\n",
      "EG11222-MONOMER {'DNA repair'}\n",
      "EG11231-MONOMER {'Translation'}\n",
      "EG11232-MONOMER {'Translation'}\n",
      "EG11236-MONOMER {'Regulation of transcription'}\n",
      "EG11249-MONOMER {'Regulation of transcription'}\n",
      "EG11250-MONOMER {'Regulation of transcription'}\n",
      "EG11252-MONOMER {'DNA replication'}\n",
      "EG11268-MONOMER {'Translation'}\n",
      "EG11272-MONOMER {'Regulation of transcription'}\n",
      "EG11281-MONOMER {'DNA repair'}\n",
      "EG11291-MONOMER {'Proteolysis'}\n",
      "EG11296-MONOMER {'DNA repair'}\n",
      "EG11299-MONOMER {'Cell division'}\n",
      "EG11312-MONOMER {'Proteolysis'}\n",
      "EG11334-MONOMER {'DNA replication'}\n",
      "EG11355-MONOMER {'Regulation of transcription'}\n",
      "EG11357-MONOMER {'DNA repair'}\n",
      "EG11359-MONOMER {'Proteolysis'}\n",
      "EG11364-MONOMER {'Porin'}\n",
      "EG11376-MONOMER {'Cell division'}\n",
      "EG11378-MONOMER {'Iron-sulfur cluster assembly'}\n",
      "EG11384-MONOMER {'Redox homeostasis'}\n",
      "EG11385-MONOMER {'Redox homeostasis'}\n",
      "EG11389-MONOMER {'Protein folding'}\n",
      "EG11394-MONOMER {'Regulation of transcription'}\n",
      "EG11412-MONOMER {'DNA replication'}\n",
      "EG11413-MONOMER {'DNA replication'}\n",
      "EG11414-MONOMER {'DNA replication'}\n",
      "EG11432-MONOMER {'Regulation of transcription'}\n",
      "EG11440-MONOMER {'Translation'}\n",
      "EG11441-MONOMER {'DNA replication'}\n",
      "EG11449-MONOMER {'Regulation of transcription'}\n",
      "EG11500-MONOMER {'DNA replication'}\n",
      "EG11505-MONOMER {'DNA replication'}\n",
      "EG11506-MONOMER {'Proteolysis'}\n",
      "EG11508-MONOMER {'Translation'}\n",
      "EG11519-MONOMER {'Regulation of transcription'}\n",
      "EG11529-MONOMER {'Cell division'}\n",
      "EG11544-MONOMER {'Regulation of transcription'}\n",
      "EG11549-MONOMER {'Proteolysis'}\n",
      "EG11554-MONOMER {'Regulation of transcription'}\n",
      "EG11594-MONOMER {'Regulation of transcription'}\n",
      "EG11619-MONOMER {'Regulation of transcription'}\n",
      "EG11649-MONOMER {'Regulation of transcription'}\n",
      "EG11652-MONOMER {'Proteolysis'}\n",
      "EG11653-MONOMER {'Iron-sulfur cluster assembly'}\n",
      "EG11662-MONOMER {'Proteolysis'}\n",
      "EG11676-MONOMER {'Proteolysis'}\n",
      "EG11707-MONOMER {'Regulation of transcription'}\n",
      "EG11711-MONOMER {'Regulation of transcription'}\n",
      "EG11721-MONOMER {'Regulation of transcription'}\n",
      "EG11733-MONOMER {'Regulation of transcription'}\n",
      "EG11738-MONOMER {'Regulation of transcription'}\n",
      "EG11744-MONOMER {'Proteolysis'}\n",
      "EG11775-MONOMER {'Regulation of transcription'}\n",
      "EG11785-MONOMER {'Regulation of transcription'}\n",
      "EG11808-MONOMER {'DNA repair'}\n",
      "EG11837-MONOMER {'Translation'}\n",
      "EG11838-MONOMER {'Regulation of transcription'}\n",
      "EG11849-MONOMER {'Regulation of transcription'}\n",
      "EG11854-MONOMER {'Regulation of transcription'}\n",
      "EG11855-MONOMER {'Regulation of transcription'}\n",
      "EG11861-MONOMER {'Transcription'}\n",
      "EG11862-MONOMER {'Proteolysis'}\n",
      "EG11878-MONOMER {'Cell division'}\n",
      "EG11881-MONOMER {'Proteolysis'}\n",
      "EG11889-MONOMER {'Regulation of transcription'}\n",
      "EG11913-MONOMER {'Regulation of transcription'}\n",
      "EG11915-MONOMER {'DNA repair'}\n",
      "EG11920-MONOMER {'Proteolysis'}\n",
      "EG11929-MONOMER {'Regulation of transcription'}\n",
      "EG11962-MONOMER {'Regulation of transcription'}\n",
      "EG11966-MONOMER {'Regulation of transcription'}\n",
      "EG11969-MONOMER {'Regulation of transcription'}\n",
      "EG11989-MONOMER {'Protein folding'}\n",
      "EG12008-MONOMER {'Regulation of transcription'}\n",
      "EG12015-MONOMER {'Proteolysis'}\n",
      "EG12031-MONOMER {'Regulation of transcription'}\n",
      "EG12045-MONOMER {'Translation'}\n",
      "EG12080-MONOMER {'DNA repair'}\n",
      "EG12096-MONOMER {'Regulation of transcription'}\n",
      "EG12099-MONOMER {'Translation'}\n",
      "EG12105-MONOMER {'Regulation of transcription'}\n",
      "EG12108-MONOMER {'Regulation of transcription'}\n",
      "EG12111-MONOMER {'Cell division'}\n",
      "EG12114-MONOMER {'Translation'}\n",
      "EG12116-MONOMER {'Regulation of transcription'}\n",
      "EG12121-MONOMER {'Regulation of transcription'}\n",
      "EG12123-MONOMER {'Regulation of transcription'}\n",
      "EG12130-MONOMER {'Protein folding'}\n",
      "EG12131-MONOMER {'Protein folding'}\n",
      "EG12132-MONOMER {'Iron-sulfur cluster assembly'}\n",
      "EG12138-MONOMER {'Proteolysis'}\n",
      "EG12140-MONOMER {'Regulation of transcription'}\n",
      "EG12155-MONOMER {'Cell division'}\n",
      "EG12163-MONOMER {'Regulation of transcription'}\n",
      "EG12165-MONOMER {'DNA replication'}\n",
      "EG12166-MONOMER {'Protein folding'}\n",
      "EG12177-MONOMER {'Response to copper ion'}\n",
      "EG12179-MONOMER {'Regulation of transcription'}\n",
      "EG12181-MONOMER {'Redox homeostasis'}\n",
      "EG12190-MONOMER {'Regulation of transcription'}\n",
      "EG12193-MONOMER {'Protein folding'}\n",
      "EG12195-MONOMER {'Protein folding'}\n",
      "EG12197-MONOMER {'Regulation of transcription'}\n",
      "EG12202-MONOMER {'Regulation of transcription'}\n",
      "EG12203-MONOMER {'Regulation of transcription'}\n",
      "EG12204-MONOMER {'Regulation of transcription'}\n",
      "EG12205-MONOMER {'Regulation of transcription'}\n",
      "EG12235-MONOMER {'Regulation of transcription'}\n",
      "EG12242-MONOMER {'Regulation of transcription'}\n",
      "EG12243-MONOMER {'Regulation of transcription'}\n",
      "EG12246-MONOMER {'Regulation of transcription'}\n",
      "EG12247-MONOMER {'Regulation of transcription'}\n",
      "EG12254-MONOMER {'Proteolysis'}\n",
      "EG12278-MONOMER {'Regulation of transcription'}\n",
      "EG12289-MONOMER {'Regulation of transcription'}\n",
      "EG12297-MONOMER {'Cell division'}\n",
      "EG12308-MONOMER {'Regulation of transcription'}\n",
      "EG12310-MONOMER {'Proteolysis'}\n",
      "EG12311-MONOMER {'Iron-sulfur cluster assembly'}\n",
      "EG12313-MONOMER {'Cell division'}\n",
      "EG12314-MONOMER {'Regulation of transcription'}\n",
      "EG12318-MONOMER {'Response to copper ion'}\n",
      "EG12332-MONOMER {'Iron-sulfur cluster assembly'}\n",
      "EG12344-MONOMER {'Regulation of transcription'}\n",
      "EG12356-MONOMER {'Regulation of transcription'}\n",
      "EG12371-MONOMER {'Cell division'}\n",
      "EG12386-MONOMER {'Regulation of transcription'}\n",
      "EG12406-MONOMER {'Regulation of transcription'}\n",
      "EG12424-MONOMER {'Regulation of transcription'}\n",
      "EG12431-MONOMER {'Regulation of transcription'}\n",
      "EG12454-MONOMER {'Translation'}\n",
      "EG12690-MONOMER {'DNA replication'}\n",
      "EG12694-MONOMER {'Regulation of transcription'}\n",
      "EG12717-MONOMER {'DNA repair'}\n",
      "EG12844-MONOMER {'Regulation of transcription'}\n",
      "EG12850-MONOMER {'Proteolysis'}\n",
      "EG12854-MONOMER {'Cell division'}\n",
      "EG12855-MONOMER {'Regulation of transcription'}\n",
      "EG12860-MONOMER {'Regulation of transcription'}\n",
      "EG12878-MONOMER {'Cell division'}\n",
      "EG12879-MONOMER {'Translation'}\n",
      "EG20249-MONOMER {'Regulation of transcription'}\n",
      "EG20253-MONOMER {'Regulation of transcription'}\n",
      "EG50001-MONOMER {'Translation'}\n",
      "EG50002-MONOMER {'Translation'}\n",
      "FLAVONADPREDUCT-MONOMER {'Iron-sulfur cluster assembly'}\n",
      "FTSE-MONOMER {'Cell division'}\n",
      "FTSX-MONOMER {'Cell division'}\n",
      "G6088-MONOMER {'Regulation of transcription'}\n",
      "G6110-MONOMER {'Regulation of transcription'}\n",
      "G6111-MONOMER {'Proteolysis'}\n",
      "G6115-MONOMER {'DNA replication'}\n",
      "G6116-MONOMER {'Regulation of transcription'}\n",
      "G6117-MONOMER {'Regulation of transcription'}\n",
      "G6118-MONOMER {'DNA repair'}\n",
      "G6122-MONOMER {'Proteolysis'}\n",
      "G6129-MONOMER {'Regulation of transcription'}\n",
      "G6144-MONOMER {'Regulation of transcription'}\n",
      "G6165-MONOMER {'Regulation of transcription'}\n",
      "G6167-MONOMER {'Translation'}\n",
      "G6175-MONOMER {'Regulation of transcription'}\n",
      "G6181-MONOMER {'Regulation of transcription'}\n",
      "G6195-MONOMER {'Regulation of transcription'}\n",
      "G6201-MONOMER {'Regulation of transcription'}\n",
      "G6209-MONOMER {'Regulation of transcription'}\n",
      "G6226-MONOMER {'Transcription'}\n",
      "G6227-MONOMER {'Transcription'}\n",
      "G6243-MONOMER {'DNA repair'}\n",
      "G6247-MONOMER {'Regulation of transcription'}\n",
      "G6251-MONOMER {'DNA repair'}\n",
      "G6259-MONOMER {'Transcription'}\n",
      "G6263-MONOMER {'Regulation of transcription'}\n",
      "G6268-MONOMER {'Redox homeostasis'}\n",
      "G6274-MONOMER {'Regulation of transcription'}\n",
      "G6276-MONOMER {'Regulation of transcription'}\n",
      "G6291-MONOMER {'Protein folding'}\n",
      "G6302-MONOMER {'Regulation of transcription'}\n",
      "G6306-MONOMER {'DNA repair'}\n",
      "G6311-MONOMER {'Proteolysis'}\n",
      "G6320-MONOMER {'Porin'}\n",
      "G6321-MONOMER {'Response to copper ion'}\n",
      "G6322-MONOMER {'Response to copper ion'}\n",
      "G6332-MONOMER {'Regulation of transcription'}\n",
      "G6362-MONOMER {'Translation'}\n",
      "G6370-MONOMER {'Porin'}\n",
      "G6379-MONOMER {'DNA repair'}\n",
      "G6383-MONOMER {'DNA repair'}\n",
      "G6384-MONOMER {'Regulation of transcription'}\n",
      "G6386-MONOMER {'Protein folding'}\n",
      "G6398-MONOMER {'Regulation of transcription'}\n",
      "G6420-MONOMER {'Regulation of transcription'}\n",
      "G6436-MONOMER {'Regulation of transcription'}\n",
      "G6444-MONOMER {'Transcription'}\n",
      "G6463-MONOMER {'Proteolysis'}\n",
      "G6464-MONOMER {'Cell division'}\n",
      "G6467-MONOMER {'Regulation of transcription'}\n",
      "G6470-MONOMER {'Proteolysis'}\n",
      "G6481-MONOMER {'Protein folding'}\n",
      "G6486-MONOMER {'Cell division'}\n",
      "G6493-MONOMER {'Proteolysis'}\n",
      "G6504-MONOMER {'Porin'}\n",
      "G6510-MONOMER {'Regulation of transcription'}\n",
      "G6511-MONOMER {'Regulation of transcription'}\n",
      "G6558-MONOMER {'DNA repair'}\n",
      "G6569-MONOMER {'Regulation of transcription'}\n",
      "G6570-MONOMER {'Response to copper ion'}\n",
      "G6602-MONOMER {'Regulation of transcription'}\n",
      "G6628-MONOMER {'Regulation of transcription'}\n",
      "G6638-MONOMER {'Regulation of transcription'}\n",
      "G6657-MONOMER {'Porin'}\n",
      "G6658-MONOMER {'Regulation of transcription'}\n",
      "G6663-MONOMER {'Cell division'}\n",
      "G6664-MONOMER {'Regulation of transcription'}\n",
      "G6671-MONOMER {'Regulation of transcription'}\n",
      "G6680-MONOMER {'Transcription'}\n",
      "G6684-MONOMER {'DNA replication'}\n",
      "G6700-MONOMER {'Porin'}\n",
      "G6706-MONOMER {'Regulation of transcription'}\n",
      "G6720-MONOMER {'Transcription'}\n",
      "G6737-MONOMER {'Regulation of transcription'}\n",
      "G6745-MONOMER {'Regulation of transcription'}\n",
      "G6749-MONOMER {'Regulation of transcription'}\n",
      "G6750-MONOMER {'Regulation of transcription'}\n",
      "G6761-MONOMER {'Regulation of transcription'}\n",
      "G6773-MONOMER {'Porin'}\n",
      "G6774-MONOMER {'Regulation of transcription'}\n",
      "G6782-MONOMER {'Proteolysis'}\n",
      "G6789-MONOMER {'Regulation of transcription'}\n",
      "G6799-MONOMER {'Transcription'}\n",
      "G6812-MONOMER {'Regulation of transcription'}\n",
      "G6814-MONOMER {'Regulation of transcription'}\n",
      "G6825-MONOMER {'Regulation of transcription'}\n",
      "G6830-MONOMER {'Regulation of transcription'}\n",
      "G6853-MONOMER {'Regulation of transcription'}\n",
      "G6856-MONOMER {'Proteolysis'}\n",
      "G6866-MONOMER {'Porin'}\n",
      "G6867-MONOMER {'Regulation of transcription'}\n",
      "G6882-MONOMER {'Regulation of transcription'}\n",
      "G6905-MONOMER {'Iron-sulfur cluster assembly'}\n",
      "G6906-MONOMER {'Iron-sulfur cluster assembly'}\n",
      "G6907-MONOMER {'Iron-sulfur cluster assembly'}\n",
      "G6908-MONOMER {'Iron-sulfur cluster assembly'}\n",
      "G6909-MONOMER {'Iron-sulfur cluster assembly'}\n",
      "G6919-MONOMER {'Regulation of transcription'}\n",
      "G6936-MONOMER {'Cell division'}\n",
      "G6937-MONOMER {'DNA repair'}\n",
      "G6957-MONOMER {'Regulation of transcription'}\n",
      "G6976-MONOMER {'Regulation of transcription'}\n",
      "G6985-MONOMER {'Regulation of transcription'}\n",
      "G6992-MONOMER {'DNA repair'}\n",
      "G7003-MONOMER {'Regulation of transcription'}\n",
      "G7014-MONOMER {'Response to copper ion'}\n",
      "G7016-MONOMER {'DNA repair'}\n",
      "G7051-MONOMER {'Cell division'}\n",
      "G7055-MONOMER {'DNA repair'}\n",
      "G7068-MONOMER {'Regulation of transcription'}\n",
      "G7071-MONOMER {'Regulation of transcription'}\n",
      "G7072-MONOMER {'Regulation of transcription'}\n",
      "G7082-MONOMER {'Proteolysis'}\n",
      "G7088-MONOMER {'Regulation of transcription'}\n",
      "G7107-MONOMER {'Porin'}\n",
      "G7118-MONOMER {'Proteolysis'}\n",
      "G7133-MONOMER {'Regulation of transcription'}\n",
      "G7137-MONOMER {'Regulation of transcription'}\n",
      "G7161-MONOMER {'Regulation of transcription'}\n",
      "G7176-MONOMER {'Proteolysis'}\n",
      "G7178-MONOMER {'Proteolysis'}\n",
      "G7207-MONOMER {'Protein folding'}\n",
      "G7245-MONOMER {'Regulation of transcription'}\n",
      "G7247-MONOMER {'Proteolysis'}\n",
      "G7248-MONOMER {'Proteolysis'}\n",
      "G7257-MONOMER {'Regulation of transcription'}\n",
      "G7258-MONOMER {'Cell division'}\n",
      "G7262-MONOMER {'Regulation of transcription'}\n",
      "G7308-MONOMER {'Regulation of transcription'}\n",
      "G7311-MONOMER {'Proteolysis'}\n",
      "G7313-MONOMER {'DNA replication'}\n",
      "G7324-MONOMER {'Iron-sulfur cluster assembly'}\n",
      "G7326-MONOMER {'Regulation of transcription'}\n",
      "G7329-MONOMER {'Regulation of transcription'}\n",
      "G7331-MONOMER {'Regulation of transcription'}\n",
      "G7344-MONOMER {'Transcription'}\n",
      "G7365-MONOMER {'Regulation of transcription'}\n",
      "G7366-MONOMER {'Regulation of transcription'}\n",
      "G7369-MONOMER {'Regulation of transcription'}\n",
      "G7379-MONOMER {'Proteolysis'}\n",
      "G7397-MONOMER {'Regulation of transcription'}\n",
      "G7416-MONOMER {'Regulation of transcription'}\n",
      "G7424-MONOMER {'Cell division'}\n",
      "G7425-MONOMER {'DNA repair'}\n",
      "G7434-MONOMER {'Regulation of transcription'}\n",
      "G7454-MONOMER {'Iron-sulfur cluster assembly'}\n",
      "G7458-MONOMER {'Cell division'}\n",
      "G7466-MONOMER {'Regulation of transcription'}\n",
      "G7467-MONOMER {'Regulation of transcription'}\n",
      "G7472-MONOMER {'Regulation of transcription'}\n",
      "G7488-MONOMER {'Regulation of transcription'}\n",
      "G7491-MONOMER {'Proteolysis'}\n",
      "G7511-MONOMER {'Iron-sulfur cluster assembly'}\n",
      "G7518-MONOMER {'Regulation of transcription'}\n",
      "G7546-MONOMER {'Regulation of transcription'}\n",
      "G7547-MONOMER {'Transcription'}\n",
      "G7563-MONOMER {'Regulation of transcription'}\n",
      "G7571-MONOMER {'Regulation of transcription'}\n",
      "G7572-MONOMER {'Regulation of transcription'}\n",
      "G7601-MONOMER {'Regulation of transcription'}\n",
      "G7602-MONOMER {'Regulation of transcription'}\n",
      "G7619-MONOMER {'Regulation of transcription'}\n",
      "G7629-MONOMER {'Regulation of transcription'}\n",
      "G7630-MONOMER {'Regulation of transcription'}\n",
      "G7638-MONOMER {'Protein folding'}\n",
      "G7647-MONOMER {'DNA repair'}\n",
      "G7657-MONOMER {'Redox homeostasis'}\n",
      "G7678-MONOMER {'Regulation of transcription'}\n",
      "G7680-MONOMER {'Cell division'}\n",
      "G7681-MONOMER {'Cell division'}\n",
      "G7682-MONOMER {'Proteolysis'}\n",
      "G7688-MONOMER {'Regulation of transcription'}\n",
      "G7689-MONOMER {'Proteolysis'}\n",
      "G7716-MONOMER {'Protein folding'}\n",
      "G7727-MONOMER {'Regulation of transcription'}\n",
      "G7734-MONOMER {'Regulation of transcription'}\n",
      "G7744-MONOMER {'Protein folding'}\n",
      "G7746-MONOMER {'Translation'}\n",
      "G7748-MONOMER {'Iron-sulfur cluster assembly'}\n",
      "G7751-MONOMER {'DNA repair'}\n",
      "G7790-MONOMER {'Regulation of transcription'}\n",
      "G7814-MONOMER {'Porin'}\n",
      "G7821-MONOMER {'Regulation of transcription'}\n",
      "G7853-MONOMER {'Proteolysis'}\n",
      "G7854-MONOMER {'Regulation of transcription'}\n",
      "G7864-MONOMER {'Cell division'}\n",
      "G7865-MONOMER {'Protein folding'}\n",
      "G7882-MONOMER {'Regulation of transcription'}\n",
      "G7891-MONOMER {'Regulation of transcription'}\n",
      "G7909-MONOMER {'Regulation of transcription'}\n",
      "G7912-MONOMER {'Regulation of transcription'}\n",
      "G7913-MONOMER {'Regulation of transcription'}\n",
      "G7921-MONOMER {'Porin'}\n",
      "G7924-MONOMER {'Regulation of transcription'}\n",
      "G7925-MONOMER {'Proteolysis'}\n",
      "G7936-MONOMER {'Regulation of transcription'}\n",
      "G7944-MONOMER {'Regulation of transcription'}\n",
      "G7947-MONOMER {'Regulation of transcription'}\n",
      "G7948-MONOMER {'Regulation of transcription'}\n",
      "GLUTATHIONE-REDUCT-NADPH-MONOMER {'Redox homeostasis'}\n",
      "GPH-MONOMER {'DNA repair'}\n",
      "HMP-KIN-MONOMER {'DNA repair'}\n",
      "MODF-MONOMER {'DNA repair'}\n",
      "MONOMER0-1041 {'Regulation of transcription'}\n",
      "MONOMER0-1561 {'Cell division'}\n",
      "MONOMER0-185 {'Regulation of transcription'}\n",
      "MONOMER0-2141 {'Cell division'}\n",
      "MONOMER0-2383 {'DNA replication'}\n",
      "MONOMER0-2488 {'Regulation of transcription'}\n",
      "MONOMER0-2656 {'Translation'}\n",
      "MONOMER0-2673 {'Regulation of transcription'}\n",
      "MONOMER0-282 {'Porin'}\n",
      "NACMURLALAAMI1-MONOMER {'Cell division'}\n",
      "NACMURLALAAMI2-MONOMER {'Cell division'}\n",
      "PD00194 {'Regulation of transcription'}\n",
      "PD00196 {'Regulation of transcription'}\n",
      "PD00197 {'Regulation of transcription'}\n",
      "PD00200 {'Regulation of transcription'}\n",
      "PD00205 {'Regulation of transcription'}\n",
      "PD00208 {'Regulation of transcription'}\n",
      "PD00214 {'Regulation of transcription'}\n",
      "PD00219 {'Regulation of transcription'}\n",
      "PD00221 {'Regulation of transcription'}\n",
      "PD00222 {'Regulation of transcription'}\n",
      "PD00230 {'Regulation of transcription'}\n",
      "PD00232 {'Regulation of transcription'}\n",
      "PD00237 {'Regulation of transcription'}\n",
      "PD00242 {'Regulation of transcription'}\n",
      "PD00250 {'Regulation of transcription'}\n",
      "PD00251 {'Regulation of transcription'}\n",
      "PD00257 {'Regulation of transcription'}\n",
      "PD00260 {'Regulation of transcription'}\n",
      "PD00261 {'Regulation of transcription'}\n",
      "PD00266 {'Regulation of transcription'}\n",
      "PD00268 {'Regulation of transcription'}\n",
      "PD00283 {'Regulation of transcription'}\n",
      "PD00288 {'Regulation of transcription'}\n",
      "PD00291 {'Regulation of transcription'}\n",
      "PD00297 {'Regulation of transcription'}\n",
      "PD00339 {'Regulation of transcription'}\n",
      "PD00345 {'Regulation of transcription'}\n",
      "PD00347 {'Regulation of transcription'}\n",
      "PD00348 {'Regulation of transcription'}\n",
      "PD00353 {'Regulation of transcription'}\n",
      "PD00360 {'Regulation of transcription'}\n",
      "PD00361 {'Regulation of transcription'}\n",
      "PD00364 {'Regulation of transcription'}\n",
      "PD00365 {'Regulation of transcription'}\n",
      "PD00406 {'Regulation of transcription'}\n",
      "PD00413 {'Regulation of transcription'}\n",
      "PD00423 {'Regulation of transcription'}\n",
      "PD00436 {'Regulation of transcription'}\n",
      "PD00440 {'Regulation of transcription'}\n",
      "PD00444 {'Regulation of transcription'}\n",
      "PD00474 {'Regulation of transcription'}\n",
      "PD00519 {'Regulation of transcription'}\n",
      "PD00521 {'Regulation of transcription'}\n",
      "PD00763 {'Regulation of transcription'}\n",
      "PD00967 {'Regulation of transcription'}\n",
      "PD00969 {'Regulation of transcription'}\n",
      "PD01103 {'Regulation of transcription'}\n",
      "PD01196 {'Regulation of transcription'}\n",
      "PD01352 {'Regulation of transcription'}\n",
      "PD01379 {'Regulation of transcription'}\n",
      "PD01520 {'Regulation of transcription'}\n",
      "PD01896 {'Regulation of transcription'}\n",
      "PD02198 {'Regulation of transcription'}\n",
      "PD02233 {'Regulation of transcription'}\n",
      "PD02936 {'Regulation of transcription'}\n",
      "PD03028 {'Regulation of transcription'}\n",
      "PD03254 {'Regulation of transcription'}\n",
      "PD03270 {'Regulation of transcription'}\n",
      "PD03585 {'Regulation of transcription'}\n",
      "PD03695 {'Regulation of transcription'}\n",
      "PD03831 {'DNA replication'}\n",
      "PD03867 {'Regulation of transcription'}\n",
      "PD03938 {'Regulation of transcription'}\n",
      "PD04028 {'Regulation of transcription'}\n",
      "PD04032 {'Regulation of transcription'}\n",
      "PD04099 {'Regulation of transcription'}\n",
      "PD04132 {'Regulation of transcription'}\n",
      "PD04418 {'Regulation of transcription'}\n",
      "RPOB-MONOMER {'Transcription'}\n",
      "RPOC-MONOMER {'Transcription'}\n",
      "RPOD-MONOMER {'Regulation of transcription'}\n",
      "RPOE-MONOMER {'Regulation of transcription'}\n",
      "RPOH-MONOMER {'Regulation of transcription'}\n",
      "RPON-MONOMER {'Regulation of transcription'}\n",
      "RPOS-MONOMER {'Regulation of transcription'}\n",
      "SECB {'Protein folding'}\n",
      "SGCB-MONOMER {'Proteolysis'}\n",
      "TORT-MONOMER {'Regulation of transcription'}\n",
      "UDHA-MONOMER {'Redox homeostasis'}\n",
      "UUP-MONOMER {'DNA repair'}\n",
      "YBDE-MONOMER {'Response to copper ion'}\n",
      "YJJK-MONOMER {'Translation'}\n",
      "YRAO-MONOMER {'DNA replication'}\n"
     ]
    }
   ],
   "source": [
    "# processed go_annotations. if no pathways exist for monomer, use go annotations\n",
    "for i in range(len(parsed_protein_df.index)):\n",
    "\n",
    "    cur_go_annotations = parsed_protein_df.loc[i, 'go_annotations']\n",
    "    cur_pathways = parsed_protein_df.loc[i, 'direct_annotations']\n",
    "\n",
    "    replacement_pathways = list()\n",
    "\n",
    "    if len(cur_pathways) == 0:\n",
    "\n",
    "        for go_term in TEMP_GO_TERMS:\n",
    "            for go_annotation in cur_go_annotations:\n",
    "                if go_term == go_annotation:\n",
    "                    replacement_pathways.append(TEMP_GO_TERMS[go_term])\n",
    "\n",
    "        if len(replacement_pathways) > 0:\n",
    "            print(parsed_protein_df.at[i, \"id\"], set([replacement_pathways[0]]))\n",
    "            parsed_protein_df.at[i, 'direct_annotations'] = set([replacement_pathways[0]])\n",
    "\n",
    "\n",
    "# parsed_protein_df[parsed_protein_df['id'] == 'PD00197']"
   ],
   "metadata": {
    "collapsed": false,
    "ExecuteTime": {
     "end_time": "2023-11-28T18:56:47.112682Z",
     "start_time": "2023-11-28T18:56:47.008841Z"
    }
   }
  },
  {
   "cell_type": "code",
   "execution_count": 10,
   "outputs": [
    {
     "name": "stdout",
     "output_type": "stream",
     "text": [
      "No sequence for MONOMER0-1241\n",
      "No sequence for MONOMER0-4223\n"
     ]
    }
   ],
   "source": [
    "# decompose sequence into dict of amino acid counts\n",
    "parsed_protein_df['sequence_processed'] = 0\n",
    "parsed_protein_df['sequence_processed'] = parsed_protein_df['sequence_processed'].astype(object)\n",
    "\n",
    "parsed_protein_df['sequence_mass'] = 0\n",
    "\n",
    "unique_aa = set()\n",
    "\n",
    "for i in range(len(parsed_protein_df.index)):\n",
    "\n",
    "    sequence = parsed_protein_df.loc[i, 'seq']\n",
    "\n",
    "    if type(sequence) != str:\n",
    "        print(f'No sequence for {parsed_protein_df.loc[i, \"id\"]}')\n",
    "        continue\n",
    "\n",
    "    aa_count_dict = {}\n",
    "\n",
    "    mass = 0\n",
    "\n",
    "    for aa in sequence:\n",
    "        if aa in aa_count_dict:\n",
    "            aa_count_dict[aa] += 1\n",
    "        else:\n",
    "            aa_count_dict[aa] = 1\n",
    "\n",
    "        if aa not in unique_aa:\n",
    "            unique_aa.add(aa)\n",
    "\n",
    "        mass += AMINO_ACID_RESIDUE_MASSES[AMINO_ACID_MAP[aa]]\n",
    "\n",
    "    parsed_protein_df.at[i, 'sequence_processed'] = aa_count_dict\n",
    "    parsed_protein_df.at[i, 'sequence_mass'] = mass"
   ],
   "metadata": {
    "collapsed": false,
    "ExecuteTime": {
     "end_time": "2023-11-28T18:56:47.579820Z",
     "start_time": "2023-11-28T18:56:47.160690Z"
    }
   }
  },
  {
   "cell_type": "code",
   "execution_count": 11,
   "outputs": [
    {
     "data": {
      "text/plain": "                                            id  \\\n0      1-ACYLGLYCEROL-3-P-ACYLTRANSFER-MONOMER   \n1                                1-PFK-MONOMER   \n2             2-DEHYDROPANTOATE-REDUCT-MONOMER   \n3                 2-ISOPROPYLMALATESYN-MONOMER   \n4     2-OCTAPRENYL-METHOXY-BENZOQ-METH-MONOMER   \n...                                        ...   \n4429                              YTFR-MONOMER   \n4430                              YTFT-MONOMER   \n4431                              ZNUA-MONOMER   \n4432                              ZNUB-MONOMER   \n4433                              ZNUC-MONOMER   \n\n                                            common_name  \\\n0     1-acylglycerol-3-phosphate <i>O</i>-acyltransf...   \n1                                 1-phosphofructokinase   \n2                         2-dehydropantoate 2-reductase   \n3                            2-isopropylmalate synthase   \n4     bifunctional 2-octaprenyl-6-methoxy-1,4-benzoq...   \n...                                                 ...   \n4429  galactofuranose ABC transporter putative ATP b...   \n4430  galactofuranose ABC transporter putative membr...   \n4431  Zn<sup>2+</sup> ABC transporter periplasmic bi...   \n4432   Zn<sup>2+</sup> ABC transporter membrane subunit   \n4433  Zn<sup>2+</sup> ABC transporter ATP binding su...   \n\n                                        enzyme_reaction cofactors  \\\n0     {ENZRXN0-7994, ENZRXN0-8629, ENZRXN0-7993, ENZ...        {}   \n1                                                    {}        {}   \n2                     {2-DEHYDROPANTOATE-REDUCT-ENZRXN}        {}   \n3                                        {ENZRXN0-6250}        {}   \n4     {ADOMET-DMK-METHYLTRANSFER-ENZRXN, 2-OCTAPRENY...        {}   \n...                                                 ...       ...   \n4429                                                 {}        {}   \n4430                                                 {}        {}   \n4431                                                 {}        {}   \n4432                                                 {}        {}   \n4433                                                 {}        {}   \n\n                  direct_annotations  \\\n0              {PWY0-1319, PWY-5667}   \n1                        {PWY0-1314}   \n2                        {PANTO-PWY}   \n3                       {LEUSYN-PWY}   \n4     {PWY-6708, MENAQUINONESYN-PWY}   \n...                              ...   \n4429                              {}   \n4430                              {}   \n4431                              {}   \n4432                              {}   \n4433                              {}   \n\n                                         go_annotations uniprot_id  \\\n0     {GO:0008654, GO:0006629, GO:0003841, GO:000665...     P26647   \n1     {GO:0006001, GO:0016772, GO:0000166, GO:000552...     P0AEW9   \n2     {GO:0015940, GO:0005829, GO:0016616, GO:001649...     P0A9J4   \n3     {GO:0003852, GO:0008652, GO:0046912, GO:004687...     P09151   \n4     {GO:0030580, GO:0006744, GO:0043770, GO:004333...     P0A887   \n...                                                 ...        ...   \n4429  {GO:0042626, GO:0000166, GO:0005524, GO:005508...     Q6BEX0   \n4430  {GO:0022857, GO:0055085, GO:0043190, GO:000551...     P39328   \n4431  {GO:0030001, GO:0046872, GO:0030288, GO:000681...     P39172   \n4432  {GO:0010043, GO:0055085, GO:0043190, GO:000681...     P39832   \n4433  {GO:0015633, GO:0042626, GO:0010043, GO:000016...     P0A9X1   \n\n     metal_features_processed other_features_processed  \\\n0                          {}                       {}   \n1                          {}                       {}   \n2                          {}                       {}   \n3                          {}                       {}   \n4                          {}                       {}   \n...                       ...                      ...   \n4429                       {}                       {}   \n4430                       {}                       {}   \n4431              {'ZN+2': 1}                       {}   \n4432                       {}                       {}   \n4433                       {}                       {}   \n\n                                     sequence_processed  sequence_mass  \n0     {'M': 6, 'L': 21, 'Y': 8, 'I': 22, 'F': 12, 'R...    27417.49715  \n1     {'M': 8, 'S': 21, 'R': 18, 'V': 32, 'A': 30, '...    33716.33963  \n2     {'M': 7, 'K': 7, 'I': 24, 'T': 21, 'V': 21, 'L...    33831.33232  \n3     {'M': 13, 'S': 30, 'Q': 22, 'V': 46, 'I': 39, ...    57244.09138  \n4     {'M': 10, 'V': 22, 'D': 19, 'K': 16, 'S': 16, ...    28037.26502  \n...                                                 ...            ...  \n4429  {'M': 11, 'T': 26, 'D': 24, 'Q': 26, 'H': 7, '...    55207.40745  \n4430  {'M': 12, 'P': 15, 'Q': 11, 'S': 17, 'L': 53, ...    35617.89729  \n4431  {'M': 7, 'L': 34, 'H': 13, 'K': 20, 'T': 16, '...    33738.19213  \n4432  {'M': 13, 'I': 18, 'E': 4, 'L': 47, 'F': 12, '...    27692.26700  \n4433  {'M': 5, 'T': 12, 'S': 13, 'L': 42, 'V': 25, '...    27832.00030  \n\n[4434 rows x 11 columns]",
      "text/html": "<div>\n<style scoped>\n    .dataframe tbody tr th:only-of-type {\n        vertical-align: middle;\n    }\n\n    .dataframe tbody tr th {\n        vertical-align: top;\n    }\n\n    .dataframe thead th {\n        text-align: right;\n    }\n</style>\n<table border=\"1\" class=\"dataframe\">\n  <thead>\n    <tr style=\"text-align: right;\">\n      <th></th>\n      <th>id</th>\n      <th>common_name</th>\n      <th>enzyme_reaction</th>\n      <th>cofactors</th>\n      <th>direct_annotations</th>\n      <th>go_annotations</th>\n      <th>uniprot_id</th>\n      <th>metal_features_processed</th>\n      <th>other_features_processed</th>\n      <th>sequence_processed</th>\n      <th>sequence_mass</th>\n    </tr>\n  </thead>\n  <tbody>\n    <tr>\n      <th>0</th>\n      <td>1-ACYLGLYCEROL-3-P-ACYLTRANSFER-MONOMER</td>\n      <td>1-acylglycerol-3-phosphate &lt;i&gt;O&lt;/i&gt;-acyltransf...</td>\n      <td>{ENZRXN0-7994, ENZRXN0-8629, ENZRXN0-7993, ENZ...</td>\n      <td>{}</td>\n      <td>{PWY0-1319, PWY-5667}</td>\n      <td>{GO:0008654, GO:0006629, GO:0003841, GO:000665...</td>\n      <td>P26647</td>\n      <td>{}</td>\n      <td>{}</td>\n      <td>{'M': 6, 'L': 21, 'Y': 8, 'I': 22, 'F': 12, 'R...</td>\n      <td>27417.49715</td>\n    </tr>\n    <tr>\n      <th>1</th>\n      <td>1-PFK-MONOMER</td>\n      <td>1-phosphofructokinase</td>\n      <td>{}</td>\n      <td>{}</td>\n      <td>{PWY0-1314}</td>\n      <td>{GO:0006001, GO:0016772, GO:0000166, GO:000552...</td>\n      <td>P0AEW9</td>\n      <td>{}</td>\n      <td>{}</td>\n      <td>{'M': 8, 'S': 21, 'R': 18, 'V': 32, 'A': 30, '...</td>\n      <td>33716.33963</td>\n    </tr>\n    <tr>\n      <th>2</th>\n      <td>2-DEHYDROPANTOATE-REDUCT-MONOMER</td>\n      <td>2-dehydropantoate 2-reductase</td>\n      <td>{2-DEHYDROPANTOATE-REDUCT-ENZRXN}</td>\n      <td>{}</td>\n      <td>{PANTO-PWY}</td>\n      <td>{GO:0015940, GO:0005829, GO:0016616, GO:001649...</td>\n      <td>P0A9J4</td>\n      <td>{}</td>\n      <td>{}</td>\n      <td>{'M': 7, 'K': 7, 'I': 24, 'T': 21, 'V': 21, 'L...</td>\n      <td>33831.33232</td>\n    </tr>\n    <tr>\n      <th>3</th>\n      <td>2-ISOPROPYLMALATESYN-MONOMER</td>\n      <td>2-isopropylmalate synthase</td>\n      <td>{ENZRXN0-6250}</td>\n      <td>{}</td>\n      <td>{LEUSYN-PWY}</td>\n      <td>{GO:0003852, GO:0008652, GO:0046912, GO:004687...</td>\n      <td>P09151</td>\n      <td>{}</td>\n      <td>{}</td>\n      <td>{'M': 13, 'S': 30, 'Q': 22, 'V': 46, 'I': 39, ...</td>\n      <td>57244.09138</td>\n    </tr>\n    <tr>\n      <th>4</th>\n      <td>2-OCTAPRENYL-METHOXY-BENZOQ-METH-MONOMER</td>\n      <td>bifunctional 2-octaprenyl-6-methoxy-1,4-benzoq...</td>\n      <td>{ADOMET-DMK-METHYLTRANSFER-ENZRXN, 2-OCTAPRENY...</td>\n      <td>{}</td>\n      <td>{PWY-6708, MENAQUINONESYN-PWY}</td>\n      <td>{GO:0030580, GO:0006744, GO:0043770, GO:004333...</td>\n      <td>P0A887</td>\n      <td>{}</td>\n      <td>{}</td>\n      <td>{'M': 10, 'V': 22, 'D': 19, 'K': 16, 'S': 16, ...</td>\n      <td>28037.26502</td>\n    </tr>\n    <tr>\n      <th>...</th>\n      <td>...</td>\n      <td>...</td>\n      <td>...</td>\n      <td>...</td>\n      <td>...</td>\n      <td>...</td>\n      <td>...</td>\n      <td>...</td>\n      <td>...</td>\n      <td>...</td>\n      <td>...</td>\n    </tr>\n    <tr>\n      <th>4429</th>\n      <td>YTFR-MONOMER</td>\n      <td>galactofuranose ABC transporter putative ATP b...</td>\n      <td>{}</td>\n      <td>{}</td>\n      <td>{}</td>\n      <td>{GO:0042626, GO:0000166, GO:0005524, GO:005508...</td>\n      <td>Q6BEX0</td>\n      <td>{}</td>\n      <td>{}</td>\n      <td>{'M': 11, 'T': 26, 'D': 24, 'Q': 26, 'H': 7, '...</td>\n      <td>55207.40745</td>\n    </tr>\n    <tr>\n      <th>4430</th>\n      <td>YTFT-MONOMER</td>\n      <td>galactofuranose ABC transporter putative membr...</td>\n      <td>{}</td>\n      <td>{}</td>\n      <td>{}</td>\n      <td>{GO:0022857, GO:0055085, GO:0043190, GO:000551...</td>\n      <td>P39328</td>\n      <td>{}</td>\n      <td>{}</td>\n      <td>{'M': 12, 'P': 15, 'Q': 11, 'S': 17, 'L': 53, ...</td>\n      <td>35617.89729</td>\n    </tr>\n    <tr>\n      <th>4431</th>\n      <td>ZNUA-MONOMER</td>\n      <td>Zn&lt;sup&gt;2+&lt;/sup&gt; ABC transporter periplasmic bi...</td>\n      <td>{}</td>\n      <td>{}</td>\n      <td>{}</td>\n      <td>{GO:0030001, GO:0046872, GO:0030288, GO:000681...</td>\n      <td>P39172</td>\n      <td>{'ZN+2': 1}</td>\n      <td>{}</td>\n      <td>{'M': 7, 'L': 34, 'H': 13, 'K': 20, 'T': 16, '...</td>\n      <td>33738.19213</td>\n    </tr>\n    <tr>\n      <th>4432</th>\n      <td>ZNUB-MONOMER</td>\n      <td>Zn&lt;sup&gt;2+&lt;/sup&gt; ABC transporter membrane subunit</td>\n      <td>{}</td>\n      <td>{}</td>\n      <td>{}</td>\n      <td>{GO:0010043, GO:0055085, GO:0043190, GO:000681...</td>\n      <td>P39832</td>\n      <td>{}</td>\n      <td>{}</td>\n      <td>{'M': 13, 'I': 18, 'E': 4, 'L': 47, 'F': 12, '...</td>\n      <td>27692.26700</td>\n    </tr>\n    <tr>\n      <th>4433</th>\n      <td>ZNUC-MONOMER</td>\n      <td>Zn&lt;sup&gt;2+&lt;/sup&gt; ABC transporter ATP binding su...</td>\n      <td>{}</td>\n      <td>{}</td>\n      <td>{}</td>\n      <td>{GO:0015633, GO:0042626, GO:0010043, GO:000016...</td>\n      <td>P0A9X1</td>\n      <td>{}</td>\n      <td>{}</td>\n      <td>{'M': 5, 'T': 12, 'S': 13, 'L': 42, 'V': 25, '...</td>\n      <td>27832.00030</td>\n    </tr>\n  </tbody>\n</table>\n<p>4434 rows × 11 columns</p>\n</div>"
     },
     "execution_count": 11,
     "metadata": {},
     "output_type": "execute_result"
    }
   ],
   "source": [
    "parsed_protein_df = parsed_protein_df.drop(columns=['other_features','seq'])\n",
    "\n",
    "parsed_protein_df"
   ],
   "metadata": {
    "collapsed": false,
    "ExecuteTime": {
     "end_time": "2023-11-28T18:56:47.595209Z",
     "start_time": "2023-11-28T18:56:47.592368Z"
    }
   }
  },
  {
   "cell_type": "markdown",
   "source": [
    "## Create new column for monomer component stoichiometry"
   ],
   "metadata": {
    "collapsed": false
   }
  },
  {
   "cell_type": "code",
   "execution_count": 12,
   "outputs": [],
   "source": [
    "complex_ids = parsed_complex_df['id'].tolist()\n",
    "monomer_names = parsed_protein_df['id'].tolist()"
   ],
   "metadata": {
    "collapsed": false,
    "ExecuteTime": {
     "end_time": "2023-11-28T18:56:47.597071Z",
     "start_time": "2023-11-28T18:56:47.595594Z"
    }
   }
  },
  {
   "cell_type": "code",
   "execution_count": 13,
   "outputs": [],
   "source": [
    "def recursive_component_tree(current_component_name, complex_table, protein_table,\n",
    "                             current_multiplier=1, component_list=None, parent=None, return_cofactors=False):\n",
    "    \"\"\"\n",
    "    Recursively find all downstream components of a given complex.\n",
    "    \"\"\"\n",
    "\n",
    "    complex_names = complex_table['id'].tolist()\n",
    "    monomer_names = protein_table['id'].tolist()\n",
    "\n",
    "\n",
    "    my_children = {}\n",
    "\n",
    "    if component_list is None:\n",
    "        component_list = []\n",
    "\n",
    "\n",
    "    if current_component_name in complex_names:\n",
    "\n",
    "\n",
    "        cplx_idx = complex_table.index[complex_table['id'] == current_component_name][0]\n",
    "        stoichiometry = complex_table.at[cplx_idx, 'stoichiometry']\n",
    "\n",
    "        direct_children = {k: abs(v) for k, v in stoichiometry.items() if v < 0}\n",
    "\n",
    "        for component_name, coefficient in stoichiometry.items():\n",
    "\n",
    "            if coefficient < 0 and component_name != current_component_name:\n",
    "\n",
    "                child_multiplier = abs(coefficient * current_multiplier)\n",
    "\n",
    "                new_child = recursive_component_tree(component_name, complex_table, protein_table,\n",
    "                                                     child_multiplier, component_list, current_component_name, return_cofactors)\n",
    "\n",
    "                my_children = my_children | new_child\n",
    "\n",
    "\n",
    "            elif coefficient > 0 and component_name == current_component_name:\n",
    "                continue\n",
    "\n",
    "            else:\n",
    "                raise ValueError(f\"key {component_name} and value {coefficient} for complex {component_name} not processed properly.\")\n",
    "\n",
    "        component_list.append({'name': current_component_name,'parent': parent, 'children': direct_children,\n",
    "                               'multiplier': int(current_multiplier), })\n",
    "\n",
    "\n",
    "    elif current_component_name in monomer_names:\n",
    "\n",
    "        # TODO check if enzrxn\n",
    "        if return_cofactors:\n",
    "            protein_idx = protein_table.index[protein_table['id'] == current_component_name][0]\n",
    "\n",
    "            protein_metals = protein_table.at[protein_idx, 'metal_features_processed']\n",
    "            protein_other = protein_table.at[protein_idx, 'other_features_processed']\n",
    "\n",
    "            table_cofactors = protein_metals | protein_other\n",
    "\n",
    "            if len(table_cofactors) > 0:\n",
    "                # TODO Add apo protein to component list\n",
    "                my_children = {}\n",
    "\n",
    "                for cofactor, cofactor_coefficient in table_cofactors.items():\n",
    "                    if table_cofactors[cofactor] !=  None:\n",
    "                        my_children[cofactor] = cofactor_coefficient\n",
    "                        component_list.append({'parent': current_component_name,\n",
    "                                               'name': cofactor,\n",
    "                                               'multiplier': abs(int(current_multiplier * cofactor_coefficient)),\n",
    "                                               'children': None})\n",
    "\n",
    "            component_list.append({'parent': parent, 'name': current_component_name, 'multiplier': current_multiplier, 'children': my_children})\n",
    "\n",
    "        else:\n",
    "            my_children = None\n",
    "            component_list.append({'parent': parent, 'name': current_component_name, 'multiplier': current_multiplier, 'children': None})\n",
    "\n",
    "\n",
    "\n",
    "    else:\n",
    "        print(f\"component {current_component_name} not found in complex or protein tables\")\n",
    "\n",
    "        return {}\n",
    "\n",
    "\n",
    "    if parent is None:\n",
    "        return {current_component_name: my_children}, component_list\n",
    "    else:\n",
    "        return {current_component_name: my_children}\n"
   ],
   "metadata": {
    "collapsed": false,
    "ExecuteTime": {
     "end_time": "2023-11-28T18:56:47.630154Z",
     "start_time": "2023-11-28T18:56:47.601985Z"
    }
   }
  },
  {
   "cell_type": "code",
   "execution_count": 14,
   "outputs": [
    {
     "name": "stdout",
     "output_type": "stream",
     "text": [
      "[{'children': None,\n",
      "  'multiplier': 4,\n",
      "  'name': 'HYAA-MONOMER',\n",
      "  'parent': 'FORMHYDROGI-CPLX'},\n",
      " {'children': None,\n",
      "  'multiplier': 4,\n",
      "  'name': 'HYAB-MONOMER',\n",
      "  'parent': 'FORMHYDROGI-CPLX'},\n",
      " {'children': None,\n",
      "  'multiplier': 2,\n",
      "  'name': 'HYAC-MONOMER',\n",
      "  'parent': 'FORMHYDROGI-CPLX'},\n",
      " {'children': {'HYAA-MONOMER': 2, 'HYAB-MONOMER': 2, 'HYAC-MONOMER': 1},\n",
      "  'multiplier': 2,\n",
      "  'name': 'FORMHYDROGI-CPLX',\n",
      "  'parent': 'CPLX0-8167'},\n",
      " {'children': {'FORMHYDROGI-CPLX': 2},\n",
      "  'multiplier': 1,\n",
      "  'name': 'CPLX0-8167',\n",
      "  'parent': None}]\n"
     ]
    }
   ],
   "source": [
    "complex_tree_structure, nodes = recursive_component_tree('CPLX0-8167', parsed_complex_df, parsed_protein_df)\n",
    "pp.pprint(nodes)"
   ],
   "metadata": {
    "collapsed": false,
    "ExecuteTime": {
     "end_time": "2023-11-28T18:56:47.653676Z",
     "start_time": "2023-11-28T18:56:47.605527Z"
    }
   }
  },
  {
   "cell_type": "code",
   "execution_count": 15,
   "outputs": [
    {
     "name": "stdout",
     "output_type": "stream",
     "text": [
      "component CPLX0-7701 not found in complex or protein tables\n",
      "component CPLX0-7677 not found in complex or protein tables\n",
      "component MONOMER0-1781 not found in complex or protein tables\n",
      "component CPLX0-7702 not found in complex or protein tables\n",
      "component CSRB-RNA not found in complex or protein tables\n",
      "component RNPB-RNA not found in complex or protein tables\n",
      "component RRSA-RRNA not found in complex or protein tables\n",
      "component RRLA-RRNA not found in complex or protein tables\n",
      "component RRFA-RRNA not found in complex or protein tables\n",
      "component RRSA-RRNA not found in complex or protein tables\n",
      "component RRLA-RRNA not found in complex or protein tables\n",
      "component RRFA-RRNA not found in complex or protein tables\n",
      "component IS061-RNA not found in complex or protein tables\n",
      "component CSRC-RNA not found in complex or protein tables\n",
      "component FFS-RNA not found in complex or protein tables\n"
     ]
    }
   ],
   "source": [
    "parsed_complex_df['monomer_component_stoichiometry'] = 0\n",
    "parsed_complex_df['monomer_component_stoichiometry'] = parsed_complex_df['monomer_component_stoichiometry'].astype(object)\n",
    "\n",
    "for i in range(len(parsed_complex_df.index)):\n",
    "    complex_name = parsed_complex_df.loc[i, 'id']\n",
    "    complex_tree_structure, nodes = recursive_component_tree(complex_name, parsed_complex_df, parsed_protein_df)\n",
    "\n",
    "    monomer_components = {node['name']: node['multiplier'] for node in nodes if node['children'] is None}\n",
    "\n",
    "    parsed_complex_df.at[i, 'monomer_component_stoichiometry'] = monomer_components"
   ],
   "metadata": {
    "collapsed": false,
    "ExecuteTime": {
     "end_time": "2023-11-28T18:56:47.873942Z",
     "start_time": "2023-11-28T18:56:47.614712Z"
    }
   }
  },
  {
   "cell_type": "code",
   "execution_count": 16,
   "outputs": [
    {
     "data": {
      "text/plain": "                                    id  \\\n0                                1-PFK   \n1                2OXOGLUTARATEDEH-CPLX   \n2          3-ISOPROPYLMALDEHYDROG-CPLX   \n3              3-ISOPROPYLMALISOM-CPLX   \n4     3-METHYL-2-OXOBUT-OHCH3XFER-CPLX   \n...                                ...   \n1088                        CPLX0-3964   \n1089                        CPLX0-8028   \n1090                        CPLX0-8053   \n1091                        CPLX0-8253   \n1092                          SRP-CPLX   \n\n                                           common_name  \\\n0                                1-phosphofructokinase   \n1                 2-oxoglutarate dehydrogenase complex   \n2                      3-isopropylmalate dehydrogenase   \n3                        3-isopropylmalate dehydratase   \n4     3-methyl-2-oxobutanoate hydroxymethyltransferase   \n...                                                ...   \n1088                                          ribosome   \n1089                        CsrA complex with McaS RNA   \n1090         SelB-L-selenocysteinyl-tRNA<sup>sec</sup>   \n1091                        CsrA complex with CsrC RNA   \n1092                       Signal Recognition Particle   \n\n                                          stoichiometry  \\\n0                     {'1-PFK': 1, '1-PFK-MONOMER': -2}   \n1     {'2OXOGLUTARATEDEH-CPLX': 1, 'E1O': -1, 'E2O':...   \n2     {'3-ISOPROPYLMALDEHYDROG-CPLX': 1, '3-ISOPROPY...   \n3     {'3-ISOPROPYLMALISOM-CPLX': 1, 'LEUC-MONOMER':...   \n4     {'3-METHYL-2-OXOBUT-OHCH3XFER-CPLX': 1, '3-CH3...   \n...                                                 ...   \n1088  {'CPLX0-3964': 1, 'CPLX0-3953': -1, 'CPLX0-396...   \n1089  {'CPLX0-8028': 1, 'IS061-RNA': -1, 'CPLX0-7956...   \n1090           {'CPLX0-8053': 1, 'EG10942-MONOMER': -1}   \n1091  {'CPLX0-8253': 1, 'CSRC-RNA': -1, 'EG11447-MON...   \n1092  {'SRP-CPLX': 1, 'EG10300-MONOMER': -1, 'FFS-RN...   \n\n                        monomer_component_stoichiometry  \\\n0                                  {'1-PFK-MONOMER': 2}   \n1     {'E1O-MONOMER': 12, 'E2O-MONOMER': 24, 'E3-MON...   \n2                 {'3-ISOPROPYLMALDEHYDROG-MONOMER': 2}   \n3                {'LEUC-MONOMER': 1, 'LEUD-MONOMER': 1}   \n4      {'3-CH3-2-OXOBUTANOATE-OH-CH3-XFER-MONOMER': 10}   \n...                                                 ...   \n1088  {'EG10900-MONOMER': 1, 'EG10901-MONOMER': 1, '...   \n1089                             {'EG11447-MONOMER': 2}   \n1090                             {'EG10942-MONOMER': 1}   \n1091                             {'EG11447-MONOMER': 9}   \n1092                             {'EG10300-MONOMER': 1}   \n\n                                             cofactors  \n0                                               {MG+2}  \n1     {THIAMINE-PYROPHOSPHATE, LIPOIC-ACID, MG+2, FAD}  \n2                                         {MG+2, MN+2}  \n3                                              {CPD-7}  \n4                                               {MG+2}  \n...                                                ...  \n1088                                                {}  \n1089                                                {}  \n1090                                                {}  \n1091                                                {}  \n1092                                                {}  \n\n[1093 rows x 5 columns]",
      "text/html": "<div>\n<style scoped>\n    .dataframe tbody tr th:only-of-type {\n        vertical-align: middle;\n    }\n\n    .dataframe tbody tr th {\n        vertical-align: top;\n    }\n\n    .dataframe thead th {\n        text-align: right;\n    }\n</style>\n<table border=\"1\" class=\"dataframe\">\n  <thead>\n    <tr style=\"text-align: right;\">\n      <th></th>\n      <th>id</th>\n      <th>common_name</th>\n      <th>stoichiometry</th>\n      <th>monomer_component_stoichiometry</th>\n      <th>cofactors</th>\n    </tr>\n  </thead>\n  <tbody>\n    <tr>\n      <th>0</th>\n      <td>1-PFK</td>\n      <td>1-phosphofructokinase</td>\n      <td>{'1-PFK': 1, '1-PFK-MONOMER': -2}</td>\n      <td>{'1-PFK-MONOMER': 2}</td>\n      <td>{MG+2}</td>\n    </tr>\n    <tr>\n      <th>1</th>\n      <td>2OXOGLUTARATEDEH-CPLX</td>\n      <td>2-oxoglutarate dehydrogenase complex</td>\n      <td>{'2OXOGLUTARATEDEH-CPLX': 1, 'E1O': -1, 'E2O':...</td>\n      <td>{'E1O-MONOMER': 12, 'E2O-MONOMER': 24, 'E3-MON...</td>\n      <td>{THIAMINE-PYROPHOSPHATE, LIPOIC-ACID, MG+2, FAD}</td>\n    </tr>\n    <tr>\n      <th>2</th>\n      <td>3-ISOPROPYLMALDEHYDROG-CPLX</td>\n      <td>3-isopropylmalate dehydrogenase</td>\n      <td>{'3-ISOPROPYLMALDEHYDROG-CPLX': 1, '3-ISOPROPY...</td>\n      <td>{'3-ISOPROPYLMALDEHYDROG-MONOMER': 2}</td>\n      <td>{MG+2, MN+2}</td>\n    </tr>\n    <tr>\n      <th>3</th>\n      <td>3-ISOPROPYLMALISOM-CPLX</td>\n      <td>3-isopropylmalate dehydratase</td>\n      <td>{'3-ISOPROPYLMALISOM-CPLX': 1, 'LEUC-MONOMER':...</td>\n      <td>{'LEUC-MONOMER': 1, 'LEUD-MONOMER': 1}</td>\n      <td>{CPD-7}</td>\n    </tr>\n    <tr>\n      <th>4</th>\n      <td>3-METHYL-2-OXOBUT-OHCH3XFER-CPLX</td>\n      <td>3-methyl-2-oxobutanoate hydroxymethyltransferase</td>\n      <td>{'3-METHYL-2-OXOBUT-OHCH3XFER-CPLX': 1, '3-CH3...</td>\n      <td>{'3-CH3-2-OXOBUTANOATE-OH-CH3-XFER-MONOMER': 10}</td>\n      <td>{MG+2}</td>\n    </tr>\n    <tr>\n      <th>...</th>\n      <td>...</td>\n      <td>...</td>\n      <td>...</td>\n      <td>...</td>\n      <td>...</td>\n    </tr>\n    <tr>\n      <th>1088</th>\n      <td>CPLX0-3964</td>\n      <td>ribosome</td>\n      <td>{'CPLX0-3964': 1, 'CPLX0-3953': -1, 'CPLX0-396...</td>\n      <td>{'EG10900-MONOMER': 1, 'EG10901-MONOMER': 1, '...</td>\n      <td>{}</td>\n    </tr>\n    <tr>\n      <th>1089</th>\n      <td>CPLX0-8028</td>\n      <td>CsrA complex with McaS RNA</td>\n      <td>{'CPLX0-8028': 1, 'IS061-RNA': -1, 'CPLX0-7956...</td>\n      <td>{'EG11447-MONOMER': 2}</td>\n      <td>{}</td>\n    </tr>\n    <tr>\n      <th>1090</th>\n      <td>CPLX0-8053</td>\n      <td>SelB-L-selenocysteinyl-tRNA&lt;sup&gt;sec&lt;/sup&gt;</td>\n      <td>{'CPLX0-8053': 1, 'EG10942-MONOMER': -1}</td>\n      <td>{'EG10942-MONOMER': 1}</td>\n      <td>{}</td>\n    </tr>\n    <tr>\n      <th>1091</th>\n      <td>CPLX0-8253</td>\n      <td>CsrA complex with CsrC RNA</td>\n      <td>{'CPLX0-8253': 1, 'CSRC-RNA': -1, 'EG11447-MON...</td>\n      <td>{'EG11447-MONOMER': 9}</td>\n      <td>{}</td>\n    </tr>\n    <tr>\n      <th>1092</th>\n      <td>SRP-CPLX</td>\n      <td>Signal Recognition Particle</td>\n      <td>{'SRP-CPLX': 1, 'EG10300-MONOMER': -1, 'FFS-RN...</td>\n      <td>{'EG10300-MONOMER': 1}</td>\n      <td>{}</td>\n    </tr>\n  </tbody>\n</table>\n<p>1093 rows × 5 columns</p>\n</div>"
     },
     "execution_count": 16,
     "metadata": {},
     "output_type": "execute_result"
    }
   ],
   "source": [
    "parsed_complex_df = parsed_complex_df.loc[:, [\"id\", \"common_name\", \"stoichiometry\", \"monomer_component_stoichiometry\", \"cofactors\"]]\n",
    "parsed_complex_df"
   ],
   "metadata": {
    "collapsed": false,
    "ExecuteTime": {
     "end_time": "2023-11-28T18:56:47.883546Z",
     "start_time": "2023-11-28T18:56:47.881024Z"
    }
   }
  },
  {
   "cell_type": "markdown",
   "source": [
    "## Create tree matrix (also for Julia)"
   ],
   "metadata": {
    "collapsed": false
   }
  },
  {
   "cell_type": "code",
   "execution_count": 17,
   "outputs": [
    {
     "name": "stdout",
     "output_type": "stream",
     "text": [
      "component CPLX0-7701 not found in complex or protein tables\n",
      "component CPLX0-7677 not found in complex or protein tables\n",
      "component MONOMER0-1781 not found in complex or protein tables\n",
      "component CPLX0-7702 not found in complex or protein tables\n",
      "component CSRB-RNA not found in complex or protein tables\n",
      "component RNPB-RNA not found in complex or protein tables\n",
      "component RRSA-RRNA not found in complex or protein tables\n",
      "component RRLA-RRNA not found in complex or protein tables\n",
      "component RRFA-RRNA not found in complex or protein tables\n",
      "component RRSA-RRNA not found in complex or protein tables\n",
      "component RRLA-RRNA not found in complex or protein tables\n",
      "component RRFA-RRNA not found in complex or protein tables\n",
      "component IS061-RNA not found in complex or protein tables\n",
      "component CSRC-RNA not found in complex or protein tables\n",
      "component FFS-RNA not found in complex or protein tables\n"
     ]
    }
   ],
   "source": [
    "# save names\n",
    "complex_ids = list(parsed_complex_df['id'])\n",
    "protein_ids = list(parsed_protein_df['id'])\n",
    "cofactor_ids = list(parsed_cofactor_df['id'])\n",
    "pathway_ids = list(parsed_pathway_df['id'])\n",
    "\n",
    "\n",
    "name_idx = complex_ids + protein_ids + cofactor_ids\n",
    "tree_matrix = np.zeros([len(complex_ids) + len(protein_ids) + len(cofactor_ids), len(complex_ids) + len(protein_ids) + len(cofactor_ids)], dtype=np.int64)\n",
    "\n",
    "for i in range(len(parsed_complex_df)):\n",
    "    name = parsed_complex_df.at[i, 'id']\n",
    "    tree_structure, nodes = recursive_component_tree(name, parsed_complex_df, parsed_protein_df, return_cofactors=True)\n",
    "\n",
    "    for node in nodes:\n",
    "        node_name = node['name']\n",
    "        node_children = node['children']\n",
    "\n",
    "        if node_children != None:\n",
    "            for child_name, child_coefficient in node_children.items():\n",
    "                if child_name in name_idx:\n",
    "                        tree_matrix[name_idx.index(node_name), name_idx.index(child_name)] = child_coefficient"
   ],
   "metadata": {
    "collapsed": false,
    "ExecuteTime": {
     "end_time": "2023-11-28T18:56:48.693090Z",
     "start_time": "2023-11-28T18:56:47.887749Z"
    }
   }
  },
  {
   "cell_type": "markdown",
   "source": [
    "# Create matrices to get cofactor counts"
   ],
   "metadata": {
    "collapsed": false
   }
  },
  {
   "cell_type": "code",
   "execution_count": 18,
   "outputs": [
    {
     "data": {
      "text/plain": "                                id  \\\n0               Transport-Pathways   \n1               Metabolic-Clusters   \n2                     OANTIGEN-PWY   \n3                         PWY-7206   \n4                         PWY-7184   \n...                            ...   \n1183                         Porin   \n1184  Iron-sulfur cluster assembly   \n1185                   Proteolysis   \n1186                    DNA repair   \n1187        Response to copper ion   \n\n                                                parents  \\\n0                                                    []   \n1                                                    []   \n2     [Metabolic-Clusters, SUGAR-NUCLEOTIDES, Super-...   \n3     [Metabolic-Clusters, Pyrimidine-Deoxyribonucle...   \n4     [Metabolic-Clusters, Pyrimid-Deoxyribonucleot-...   \n...                                                 ...   \n1183                                  [Other functions]   \n1184                                  [Other functions]   \n1185                                  [Other functions]   \n1186                                  [Other functions]   \n1187                                  [Other functions]   \n\n                                               children  level  \\\n0                                                    []      1   \n1     [OANTIGEN-PWY, PWY-7206, PWY-7184, PWY-7801, P...      1   \n2                                                    []      2   \n3                                                    []      2   \n4                                                    []      2   \n...                                                 ...    ...   \n1183                                                 []      2   \n1184                                                 []      2   \n1185                                                 []      2   \n1186                                                 []      2   \n1187                                                 []      2   \n\n                                            common_name  \n0                                             Transport  \n1                                    Metabolic Clusters  \n2     <i>O</i>-antigen building blocks biosynthesis ...  \n3     pyrimidine deoxyribonucleotides dephosphorylation  \n4     pyrimidine deoxyribonucleotides <i>de novo</i>...  \n...                                                 ...  \n1183                                              Porin  \n1184                       Iron-sulfur cluster assembly  \n1185                                        Proteolysis  \n1186                                         DNA repair  \n1187                             Response to copper ion  \n\n[1188 rows x 5 columns]",
      "text/html": "<div>\n<style scoped>\n    .dataframe tbody tr th:only-of-type {\n        vertical-align: middle;\n    }\n\n    .dataframe tbody tr th {\n        vertical-align: top;\n    }\n\n    .dataframe thead th {\n        text-align: right;\n    }\n</style>\n<table border=\"1\" class=\"dataframe\">\n  <thead>\n    <tr style=\"text-align: right;\">\n      <th></th>\n      <th>id</th>\n      <th>parents</th>\n      <th>children</th>\n      <th>level</th>\n      <th>common_name</th>\n    </tr>\n  </thead>\n  <tbody>\n    <tr>\n      <th>0</th>\n      <td>Transport-Pathways</td>\n      <td>[]</td>\n      <td>[]</td>\n      <td>1</td>\n      <td>Transport</td>\n    </tr>\n    <tr>\n      <th>1</th>\n      <td>Metabolic-Clusters</td>\n      <td>[]</td>\n      <td>[OANTIGEN-PWY, PWY-7206, PWY-7184, PWY-7801, P...</td>\n      <td>1</td>\n      <td>Metabolic Clusters</td>\n    </tr>\n    <tr>\n      <th>2</th>\n      <td>OANTIGEN-PWY</td>\n      <td>[Metabolic-Clusters, SUGAR-NUCLEOTIDES, Super-...</td>\n      <td>[]</td>\n      <td>2</td>\n      <td>&lt;i&gt;O&lt;/i&gt;-antigen building blocks biosynthesis ...</td>\n    </tr>\n    <tr>\n      <th>3</th>\n      <td>PWY-7206</td>\n      <td>[Metabolic-Clusters, Pyrimidine-Deoxyribonucle...</td>\n      <td>[]</td>\n      <td>2</td>\n      <td>pyrimidine deoxyribonucleotides dephosphorylation</td>\n    </tr>\n    <tr>\n      <th>4</th>\n      <td>PWY-7184</td>\n      <td>[Metabolic-Clusters, Pyrimid-Deoxyribonucleot-...</td>\n      <td>[]</td>\n      <td>2</td>\n      <td>pyrimidine deoxyribonucleotides &lt;i&gt;de novo&lt;/i&gt;...</td>\n    </tr>\n    <tr>\n      <th>...</th>\n      <td>...</td>\n      <td>...</td>\n      <td>...</td>\n      <td>...</td>\n      <td>...</td>\n    </tr>\n    <tr>\n      <th>1183</th>\n      <td>Porin</td>\n      <td>[Other functions]</td>\n      <td>[]</td>\n      <td>2</td>\n      <td>Porin</td>\n    </tr>\n    <tr>\n      <th>1184</th>\n      <td>Iron-sulfur cluster assembly</td>\n      <td>[Other functions]</td>\n      <td>[]</td>\n      <td>2</td>\n      <td>Iron-sulfur cluster assembly</td>\n    </tr>\n    <tr>\n      <th>1185</th>\n      <td>Proteolysis</td>\n      <td>[Other functions]</td>\n      <td>[]</td>\n      <td>2</td>\n      <td>Proteolysis</td>\n    </tr>\n    <tr>\n      <th>1186</th>\n      <td>DNA repair</td>\n      <td>[Other functions]</td>\n      <td>[]</td>\n      <td>2</td>\n      <td>DNA repair</td>\n    </tr>\n    <tr>\n      <th>1187</th>\n      <td>Response to copper ion</td>\n      <td>[Other functions]</td>\n      <td>[]</td>\n      <td>2</td>\n      <td>Response to copper ion</td>\n    </tr>\n  </tbody>\n</table>\n<p>1188 rows × 5 columns</p>\n</div>"
     },
     "execution_count": 18,
     "metadata": {},
     "output_type": "execute_result"
    }
   ],
   "source": [
    "parsed_pathway_df"
   ],
   "metadata": {
    "collapsed": false,
    "ExecuteTime": {
     "end_time": "2023-11-28T18:56:48.700287Z",
     "start_time": "2023-11-28T18:56:48.697828Z"
    }
   }
  },
  {
   "cell_type": "code",
   "execution_count": 19,
   "outputs": [],
   "source": [
    "priority_list = ['Activation-Inactivation-Interconversion','Metabolic-Clusters', 'Macromolecule-Modification', 'Glycan-Pathways','Detoxification',  'Degradation']\n",
    "\n",
    "# pathway matrix is necessary to traverse tree\n",
    "pathway_matrix = np.zeros((len(pathway_ids), len(pathway_ids)), dtype=np.int64)\n",
    "level_vector = np.zeros(len(pathway_ids), dtype=np.int64)\n",
    "\n",
    "for i in range(len(parsed_pathway_df)):\n",
    "\n",
    "    cur_pathway = parsed_pathway_df.at[i, 'id']\n",
    "    level_vector[i] = parsed_pathway_df.at[i, 'level']\n",
    "\n",
    "    pathway_parents = parsed_pathway_df.at[i, 'parents']\n",
    "    pathway_children = parsed_pathway_df.at[i, 'children']\n",
    "\n",
    "    for parent in pathway_parents:\n",
    "        j = pathway_ids.index(parent)\n",
    "        pathway_matrix[j, i] = 1\n",
    "\n",
    "    for child in pathway_children:\n",
    "        j = pathway_ids.index(child)\n",
    "        pathway_matrix[i, j] = 1\n",
    "\n",
    "original_pathway_matrix = pathway_matrix.copy()\n",
    "\n",
    "# get superpathway indices\n",
    "super_pathway_idx = pathway_ids.index('Super-Pathways')\n",
    "super_pathway_children_idxs = np.where(pathway_matrix[super_pathway_idx, :] == 1)[0]\n",
    "\n",
    "# zero out all superpathway children\n",
    "pathway_matrix[:, super_pathway_children_idxs] = 0\n",
    "\n",
    "# for columns (children) with multiple parents, if one parent leads to degradation or glycans, remove it.\n",
    "for i in range(len(pathway_matrix[0, :])):\n",
    "    cur_pathway = pathway_ids[i]\n",
    "\n",
    "    if pathway_matrix[:, i].sum() > 1:\n",
    "\n",
    "        nz_idxs = np.where(pathway_matrix[:, i] == 1)[0]\n",
    "        top_level_classes = [list(get_pathway_ith_level_parents(j, original_pathway_matrix, pathway_ids, level_vector, level=1).keys())[0] for j in nz_idxs]\n",
    "        # print(f\"multiple parents {top_level_classes} for {cur_pathway}\")\n",
    "\n",
    "\n",
    "        # when there are multiple parents, remove them in the following order of priority:\n",
    "        for priority in priority_list:\n",
    "            while priority in top_level_classes and len(nz_idxs) > 1:\n",
    "                priority_index = top_level_classes.index(priority)\n",
    "                pathway_matrix[nz_idxs[priority_index], i] = 0\n",
    "                nz_idxs = np.where(pathway_matrix[:, i] == 1)[0]\n",
    "                top_level_classes[priority_index] = 'N/A'\n",
    "\n",
    "\n",
    "        # then, if there are still multiple parents, remove all but the first one\n",
    "        # TODO Change to parent with most frequently occuring 2nd parent.\n",
    "        if len(nz_idxs) > 1:\n",
    "            # top_two_level_classes = [list(get_pathway_ith_level_parents(j, original_pathway_matrix, pathway_name_list, level_vector, level=2).keys())[0] for j in nz_idxs]\n",
    "            # print(f\"multiple parents with 2nd level categories {top_two_level_classes} for {cur_pathway}\")\n",
    "            pathway_matrix[nz_idxs[1:], i] = 0\n",
    "\n",
    "        nz_idxs = np.where(pathway_matrix[:, i] == 1)[0]\n",
    "        top_level_classes = [list(get_pathway_ith_level_parents(j, original_pathway_matrix, pathway_ids, level_vector, level=1).keys()) for j in nz_idxs]\n",
    "\n",
    "        # print(f\"pruned to {top_level_classes}\")"
   ],
   "metadata": {
    "collapsed": false,
    "ExecuteTime": {
     "end_time": "2023-11-28T18:56:48.769449Z",
     "start_time": "2023-11-28T18:56:48.727342Z"
    }
   }
  },
  {
   "cell_type": "code",
   "execution_count": 20,
   "outputs": [
    {
     "name": "stdout",
     "output_type": "stream",
     "text": [
      "1-ACYLGLYCEROL-3-P-ACYLTRANSFER-MONOMER has 2nd parents {'Lipid-Biosynthesis': 2} for PWY-5667\n",
      "1-ACYLGLYCEROL-3-P-ACYLTRANSFER-MONOMER has 2nd parents {'Lipid-Biosynthesis': 2} for PWY0-1319\n",
      "pruned to ['Lipid-Biosynthesis', 'Lipid-Biosynthesis']\n",
      "2-OCTAPRENYL-METHOXY-BENZOQ-METH-MONOMER has 2nd parents {'Cofactor-Biosynthesis': 2} for PWY-6708\n",
      "2-OCTAPRENYL-METHOXY-BENZOQ-METH-MONOMER has 2nd parents {'Cofactor-Biosynthesis': 2} for MENAQUINONESYN-PWY\n",
      "pruned to ['Cofactor-Biosynthesis', 'Cofactor-Biosynthesis']\n",
      "3-OXOACYL-ACP-REDUCT-MONOMER has 2nd parents {'Lipid-Biosynthesis': 2} for PWY0-862\n",
      "3-OXOACYL-ACP-REDUCT-MONOMER has 2nd parents {'Lipid-Biosynthesis': 2} for PWY-6282\n",
      "3-OXOACYL-ACP-REDUCT-MONOMER has 2nd parents {'Lipid-Biosynthesis': 2} for PWY-5973\n",
      "3-OXOACYL-ACP-REDUCT-MONOMER has 2nd parents {'Lipid-Biosynthesis': 2} for PWY-5971\n",
      "3-OXOACYL-ACP-REDUCT-MONOMER has 2nd parents {'Lipid-Biosynthesis': 2} for FASYN-ELONG-PWY\n",
      "3-OXOACYL-ACP-REDUCT-MONOMER has 2nd parents {'Other-biosynthesis': 2} for PWY-6519\n",
      "pruned to ['Lipid-Biosynthesis', 'Lipid-Biosynthesis', 'Lipid-Biosynthesis', 'Lipid-Biosynthesis', 'Lipid-Biosynthesis', 'Other-biosynthesis']\n",
      "3-OXOACYL-ACP-SYNTHII-MONOMER has 2nd parents {'Lipid-Biosynthesis': 2} for PWY-5966\n",
      "3-OXOACYL-ACP-SYNTHII-MONOMER has 2nd parents {'Lipid-Biosynthesis': 2} for PWY-5965\n",
      "3-OXOACYL-ACP-SYNTHII-MONOMER has 2nd parents {'Lipid-Biosynthesis': 2} for PWY-5973\n",
      "3-OXOACYL-ACP-SYNTHII-MONOMER has 2nd parents {'Lipid-Biosynthesis': 2} for PWY-5971\n",
      "3-OXOACYL-ACP-SYNTHII-MONOMER has 2nd parents {'Lipid-Biosynthesis': 2} for FASYN-ELONG-PWY\n",
      "3-OXOACYL-ACP-SYNTHII-MONOMER has 2nd parents {'Other-biosynthesis': 2} for PWY-6519\n",
      "pruned to ['Lipid-Biosynthesis', 'Lipid-Biosynthesis', 'Lipid-Biosynthesis', 'Lipid-Biosynthesis', 'Lipid-Biosynthesis', 'Other-biosynthesis']\n",
      "6PFK-1-MONOMER has 2nd parents {'GLYCOLYSIS-VARIANTS': 2} for GLYCOLYSIS\n",
      "6PFK-1-MONOMER has 2nd parents {'GLYCOLYSIS-VARIANTS': 2} for PWY-5484\n",
      "6PFK-1-MONOMER has 2nd parents {'PWY0-1517': 2} for PWY0-1517\n",
      "pruned to ['GLYCOLYSIS-VARIANTS', 'GLYCOLYSIS-VARIANTS', 'PWY0-1517']\n",
      "6PFK-2-MONOMER has 2nd parents {'GLYCOLYSIS-VARIANTS': 2} for GLYCOLYSIS\n",
      "6PFK-2-MONOMER has 2nd parents {'GLYCOLYSIS-VARIANTS': 2} for PWY-5484\n",
      "6PFK-2-MONOMER has 2nd parents {'Alcohol-Degradation': 2} for GALACTITOLCAT-PWY\n",
      "pruned to ['GLYCOLYSIS-VARIANTS', 'GLYCOLYSIS-VARIANTS', 'Alcohol-Degradation']\n",
      "6PGLUCONOLACT-MONOMER has 2nd parents {'Pentose-Phosphate-Cycle': 2} for OXIDATIVEPENT-PWY\n",
      "6PGLUCONOLACT-MONOMER has 2nd parents {'GLYCOLYSIS-E-D': 2} for GLYCOLYSIS-E-D\n",
      "pruned to ['Pentose-Phosphate-Cycle', 'N/A']\n",
      "ACETATEKINA-MONOMER has 2nd parents {'PWY-5485': 2} for PWY-5485\n",
      "ACETATEKINA-MONOMER has 2nd parents {'Fermentation': 2} for PWY0-1312\n",
      "ACETATEKINA-MONOMER has 2nd parents {'FERMENTATION-PWY': 2} for FERMENTATION-PWY\n",
      "ACETATEKINA-MONOMER has 2nd parents {'Fermentation': 2} for PWY-5437\n",
      "ACETATEKINA-MONOMER has 2nd parents {'AMINE-DEG': 2} for PWY0-1477\n",
      "pruned to ['N/A', 'Fermentation', 'N/A', 'Fermentation', 'AMINE-DEG']\n",
      "ACETOLACTSYNIII-HCHAIN-MONOMER has 2nd parents {'Amino-Acid-Biosynthesis': 2} for VALSYN-PWY\n",
      "ACETOLACTSYNIII-HCHAIN-MONOMER has 2nd parents {'Amino-Acid-Biosynthesis': 2} for ILEUSYN-PWY\n",
      "pruned to ['Amino-Acid-Biosynthesis', 'Amino-Acid-Biosynthesis']\n",
      "ACETOLACTSYNIII-ICHAIN-MONOMER has 2nd parents {'Amino-Acid-Biosynthesis': 2} for VALSYN-PWY\n",
      "ACETOLACTSYNIII-ICHAIN-MONOMER has 2nd parents {'Amino-Acid-Biosynthesis': 2} for ILEUSYN-PWY\n",
      "pruned to ['Amino-Acid-Biosynthesis', 'Amino-Acid-Biosynthesis']\n",
      "ACETYL-COA-ACETYLTRANSFER-MONOMER has 2nd parents {'Fatty-Acid-and-Lipid-Degradation': 2} for PWY0-1337\n",
      "ACETYL-COA-ACETYLTRANSFER-MONOMER has 2nd parents {'Other-Degradation': 2} for ACETOACETATE-DEG-PWY\n",
      "pruned to ['Fatty-Acid-and-Lipid-Degradation', 'Other-Degradation']\n",
      "ACETYLORNTRANSAM-MONOMER has 2nd parents {'Amino-Acid-Biosynthesis': 2} for GLUTORN-PWY\n",
      "ACETYLORNTRANSAM-MONOMER has 2nd parents {'Amino-Acid-Biosynthesis': 2} for DAPLYSINESYN-PWY\n",
      "pruned to ['Amino-Acid-Biosynthesis', 'Amino-Acid-Biosynthesis']\n",
      "ACONITASE-MONOMER has 2nd parents {'TCA-VARIANTS': 2} for TCA\n",
      "ACONITASE-MONOMER has 2nd parents {'GLYOXYLATE-BYPASS': 2} for GLYOXYLATE-BYPASS\n",
      "pruned to ['TCA-VARIANTS', 'GLYOXYLATE-BYPASS']\n",
      "ACONITATEDEHYDRB-MONOMER has 2nd parents {'FERMENTATION-PWY': 2} for FERMENTATION-PWY\n",
      "ACONITATEDEHYDRB-MONOMER has 2nd parents {'TCA-VARIANTS': 2} for TCA\n",
      "ACONITATEDEHYDRB-MONOMER has 2nd parents {'GLYOXYLATE-BYPASS': 2} for GLYOXYLATE-BYPASS\n",
      "ACONITATEDEHYDRB-MONOMER has 2nd parents {'CARBOXYLATES-DEG': 2} for PWY0-42\n",
      "pruned to ['N/A', 'TCA-VARIANTS', 'GLYOXYLATE-BYPASS', 'CARBOXYLATES-DEG']\n",
      "ACPSUB-MONOMER has 2nd parents {'Cofactor-Biosynthesis': 2} for P2-PWY\n",
      "ACPSUB-MONOMER has 2nd parents {'CARBOXYLATES-DEG': 2} for PWY-6038\n",
      "pruned to ['Cofactor-Biosynthesis', 'CARBOXYLATES-DEG']\n",
      "ACS-MONOMER has 2nd parents {'CARBOXYLATES-DEG': 2} for PWY0-42\n",
      "ACS-MONOMER has 2nd parents {'CARBOXYLATES-DEG': 2} for PWY0-1313\n",
      "pruned to ['CARBOXYLATES-DEG', 'CARBOXYLATES-DEG']\n",
      "ACSERLYA-MONOMER has 2nd parents {'Amino-Acid-Biosynthesis': 2} for CYSTSYN-PWY\n",
      "ACSERLYA-MONOMER has 2nd parents {'Amino-Acid-Degradation': 2} for LCYSDEG-PWY\n",
      "pruned to ['Amino-Acid-Biosynthesis', 'Amino-Acid-Degradation']\n",
      "ACSERLYB-MONOMER has 2nd parents {'Amino-Acid-Biosynthesis': 2} for PWY-7870\n",
      "ACSERLYB-MONOMER has 2nd parents {'Amino-Acid-Biosynthesis': 2} for CYSTSYN-PWY\n",
      "ACSERLYB-MONOMER has 2nd parents {'Amino-Acid-Degradation': 2} for LCYSDEG-PWY\n",
      "pruned to ['Amino-Acid-Biosynthesis', 'Amino-Acid-Biosynthesis', 'Amino-Acid-Degradation']\n",
      "ACYLCOADEHYDROG-MONOMER has 2nd parents {'Fatty-Acid-and-Lipid-Degradation': 2} for PWY0-1337\n",
      "ACYLCOADEHYDROG-MONOMER has 2nd parents {'Fatty-Acid-and-Lipid-Degradation': 2} for FAO-PWY\n",
      "pruned to ['Fatty-Acid-and-Lipid-Degradation', 'Fatty-Acid-and-Lipid-Degradation']\n",
      "ADENODEAMIN-MONOMER has 2nd parents {'Nucleotide-Biosynthesis': 2} for PWY-6611\n",
      "ADENODEAMIN-MONOMER has 2nd parents {'Nucleotide-Biosynthesis': 2} for PWY-6609\n",
      "ADENODEAMIN-MONOMER has 2nd parents {'NUCLEO-DEG': 2} for SALVADEHYPOX-PWY\n",
      "ADENODEAMIN-MONOMER has 2nd parents {'NUCLEO-DEG': 2} for PWY0-1296\n",
      "ADENODEAMIN-MONOMER has 2nd parents {'NUCLEO-DEG': 2} for PWY-7179\n",
      "pruned to ['Nucleotide-Biosynthesis', 'Nucleotide-Biosynthesis', 'NUCLEO-DEG', 'NUCLEO-DEG', 'NUCLEO-DEG']\n",
      "ADENPRIBOSYLTRAN-MONOMER has 2nd parents {'Nucleotide-Biosynthesis': 2} for PWY-6605\n",
      "ADENPRIBOSYLTRAN-MONOMER has 2nd parents {'Noncarbon-Nutrients': 2} for PWY-7805\n",
      "pruned to ['Nucleotide-Biosynthesis', 'Noncarbon-Nutrients']\n",
      "ADENYL-KIN-MONOMER has 2nd parents {'PWY-7184': 2, 'Nucleotide-Biosynthesis': 2} for PWY-7184\n",
      "ADENYL-KIN-MONOMER has 2nd parents {'PWY-7197': 2, 'Nucleotide-Biosynthesis': 2} for PWY-7197\n",
      "ADENYL-KIN-MONOMER has 2nd parents {'Nucleotide-Biosynthesis': 2} for PWY-7222\n",
      "ADENYL-KIN-MONOMER has 2nd parents {'PWY0-166': 2} for PWY0-166\n",
      "ADENYL-KIN-MONOMER has 2nd parents {'Nucleotide-Biosynthesis': 2} for PWY-7187\n",
      "ADENYL-KIN-MONOMER has 2nd parents {'Nucleotide-Biosynthesis': 2} for PWY-7219\n",
      "ADENYL-KIN-MONOMER has 2nd parents {'Nucleotide-Biosynthesis': 2} for PWY-7221\n",
      "ADENYL-KIN-MONOMER has 2nd parents {'Nucleotide-Biosynthesis': 2} for PWY0-163\n",
      "ADENYL-KIN-MONOMER has 2nd parents {'Nucleotide-Biosynthesis': 2} for PWY-7205\n",
      "ADENYL-KIN-MONOMER has 2nd parents {'Nucleotide-Biosynthesis': 2} for PWY-7176\n",
      "ADENYL-KIN-MONOMER has 2nd parents {'Metabolic-Regulators': 2} for PPGPPMET-PWY\n",
      "pruned to ['PWY-7184', 'PWY-7197', 'Nucleotide-Biosynthesis', 'N/A', 'Nucleotide-Biosynthesis', 'Nucleotide-Biosynthesis', 'Nucleotide-Biosynthesis', 'Nucleotide-Biosynthesis', 'Nucleotide-Biosynthesis', 'Nucleotide-Biosynthesis', 'Metabolic-Regulators']\n",
      "ADHE-MONOMER has 2nd parents {'FERMENTATION-PWY': 2} for FERMENTATION-PWY\n",
      "ADHE-MONOMER has 2nd parents {'Fermentation': 2} for PWY-5480\n",
      "ADHE-MONOMER has 2nd parents {'Carbohydrates-Degradation': 2} for PWY-7180\n",
      "ADHE-MONOMER has 2nd parents {'Amino-Acid-Degradation': 2} for PWY-5436\n",
      "ADHE-MONOMER has 2nd parents {'Alcohol-Degradation': 2} for ETOH-ACETYLCOA-ANA-PWY\n",
      "ADHE-MONOMER has 2nd parents {'AMINE-DEG': 2} for PWY0-1477\n",
      "pruned to ['N/A', 'Fermentation', 'Carbohydrates-Degradation', 'Amino-Acid-Degradation', 'Alcohol-Degradation', 'AMINE-DEG']\n",
      "ADHP-MONOMER has 2nd parents {'FERMENTATION-PWY': 2} for FERMENTATION-PWY\n",
      "ADHP-MONOMER has 2nd parents {'Fermentation': 2} for PWY-5480\n",
      "ADHP-MONOMER has 2nd parents {'Alcohol-Degradation': 2} for ETOH-ACETYLCOA-ANA-PWY\n",
      "ADHP-MONOMER has 2nd parents {'AMINE-DEG': 2} for PWY0-1477\n",
      "pruned to ['N/A', 'Fermentation', 'Alcohol-Degradation', 'AMINE-DEG']\n",
      "AERGLYC3PDEHYDROG-MONOMER has 2nd parents {'Electron-Transfer': 2} for PWY0-1561\n",
      "AERGLYC3PDEHYDROG-MONOMER has 2nd parents {'Electron-Transfer': 2} for PWY0-1584\n",
      "AERGLYC3PDEHYDROG-MONOMER has 2nd parents {'Alcohol-Degradation': 2} for PWY-6952\n",
      "AERGLYC3PDEHYDROG-MONOMER has 2nd parents {'Alcohol-Degradation': 2} for PWY-4261\n",
      "pruned to ['Electron-Transfer', 'Electron-Transfer', 'Alcohol-Degradation', 'Alcohol-Degradation']\n",
      "AGMATIN-MONOMER has 2nd parents {'Polyamine-Biosynthesis': 2} for PWY-40\n",
      "AGMATIN-MONOMER has 2nd parents {'Amino-Acid-Degradation': 2} for PWY0-823\n",
      "pruned to ['Polyamine-Biosynthesis', 'Amino-Acid-Degradation']\n",
      "AIRS-MONOMER has 2nd parents {'PWY-6277': 2} for PWY-6277\n",
      "AIRS-MONOMER has 2nd parents {'Nucleotide-Biosynthesis': 2} for PWY-6122\n",
      "AIRS-MONOMER has 2nd parents {'Nucleotide-Biosynthesis': 2} for PWY-6121\n",
      "pruned to ['N/A', 'Nucleotide-Biosynthesis', 'Nucleotide-Biosynthesis']\n",
      "ALARACEBIOSYN-MONOMER has 2nd parents {'Amino-Acid-Biosynthesis': 2} for PWY-8072\n",
      "ALARACEBIOSYN-MONOMER has 2nd parents {'Amino-Acid-Degradation': 2} for ALADEG-PWY\n",
      "pruned to ['Amino-Acid-Biosynthesis', 'Amino-Acid-Degradation']\n",
      "ALARACECAT-MONOMER has 2nd parents {'Amino-Acid-Biosynthesis': 2} for PWY-8072\n",
      "ALARACECAT-MONOMER has 2nd parents {'Amino-Acid-Degradation': 2} for ALADEG-PWY\n",
      "pruned to ['Amino-Acid-Biosynthesis', 'Amino-Acid-Degradation']\n",
      "ALAS-MONOMER has 2nd parents {'TRNA-CHARGING-PWY': 2, 'Aminoacyl-tRNAs-Charging': 2} for TRNA-CHARGING-PWY\n",
      "ALAS-MONOMER has 2nd parents {'ENTBACSYN-PWY': 2} for ENTBACSYN-PWY\n",
      "pruned to ['TRNA-CHARGING-PWY', 'N/A']\n",
      "ALDHDEHYDROG-MONOMER has 2nd parents {'AMINE-DEG': 2} for PWY0-1221\n",
      "ALDHDEHYDROG-MONOMER has 2nd parents {'AMINE-DEG': 2} for PUTDEG-PWY\n",
      "ALDHDEHYDROG-MONOMER has 2nd parents {'AMINE-DEG': 2} for PWY-6535\n",
      "pruned to ['AMINE-DEG', 'AMINE-DEG', 'AMINE-DEG']\n",
      "ALKAPHOSPHA-MONOMER has 2nd parents {'GLYCOLYSIS-VARIANTS': 2} for PWY-5484\n",
      "ALKAPHOSPHA-MONOMER has 2nd parents {'Carbohydrates-Biosynthesis': 2} for TRESYN-PWY\n",
      "ALKAPHOSPHA-MONOMER has 2nd parents {'NUCLEO-DEG': 2} for SALVADEHYPOX-PWY\n",
      "ALKAPHOSPHA-MONOMER has 2nd parents {'Noncarbon-Nutrients': 2} for PWY-7805\n",
      "pruned to ['GLYCOLYSIS-VARIANTS', 'Carbohydrates-Biosynthesis', 'NUCLEO-DEG', 'Noncarbon-Nutrients']\n",
      "AMINEOXID-MONOMER has 2nd parents {'Amino-Acid-Degradation': 2} for THRDLCTCAT-PWY\n",
      "AMINEOXID-MONOMER has 2nd parents {'AMINE-DEG': 2} for 2PHENDEG-PWY\n",
      "pruned to ['Amino-Acid-Degradation', 'AMINE-DEG']\n",
      "ANGLYC3PDEHYDROGSUBUNITA-MONOMER has 2nd parents {'Electron-Transfer': 2} for PWY0-1591\n",
      "ANGLYC3PDEHYDROGSUBUNITA-MONOMER has 2nd parents {'Electron-Transfer': 2} for PWY0-1582\n",
      "ANGLYC3PDEHYDROGSUBUNITA-MONOMER has 2nd parents {'Electron-Transfer': 2} for PWY0-1581\n",
      "ANGLYC3PDEHYDROGSUBUNITA-MONOMER has 2nd parents {'Alcohol-Degradation': 2} for PWY-6952\n",
      "ANGLYC3PDEHYDROGSUBUNITA-MONOMER has 2nd parents {'Alcohol-Degradation': 2} for PWY-4261\n",
      "pruned to ['Electron-Transfer', 'Electron-Transfer', 'Electron-Transfer', 'Alcohol-Degradation', 'Alcohol-Degradation']\n",
      "ANGLYC3PDEHYDROGSUBUNITB-MONOMER has 2nd parents {'Electron-Transfer': 2} for PWY0-1591\n",
      "ANGLYC3PDEHYDROGSUBUNITB-MONOMER has 2nd parents {'Electron-Transfer': 2} for PWY0-1582\n",
      "ANGLYC3PDEHYDROGSUBUNITB-MONOMER has 2nd parents {'Electron-Transfer': 2} for PWY0-1581\n",
      "ANGLYC3PDEHYDROGSUBUNITB-MONOMER has 2nd parents {'Alcohol-Degradation': 2} for PWY-6952\n",
      "ANGLYC3PDEHYDROGSUBUNITB-MONOMER has 2nd parents {'Alcohol-Degradation': 2} for PWY-4261\n",
      "pruned to ['Electron-Transfer', 'Electron-Transfer', 'Electron-Transfer', 'Alcohol-Degradation', 'Alcohol-Degradation']\n",
      "ANGLYC3PDEHYDROGSUBUNITC-MONOMER has 2nd parents {'Electron-Transfer': 2} for PWY0-1591\n",
      "ANGLYC3PDEHYDROGSUBUNITC-MONOMER has 2nd parents {'Electron-Transfer': 2} for PWY0-1582\n",
      "ANGLYC3PDEHYDROGSUBUNITC-MONOMER has 2nd parents {'Electron-Transfer': 2} for PWY0-1581\n",
      "ANGLYC3PDEHYDROGSUBUNITC-MONOMER has 2nd parents {'Alcohol-Degradation': 2} for PWY-6952\n",
      "ANGLYC3PDEHYDROGSUBUNITC-MONOMER has 2nd parents {'Alcohol-Degradation': 2} for PWY-4261\n",
      "pruned to ['Electron-Transfer', 'Electron-Transfer', 'Electron-Transfer', 'Alcohol-Degradation', 'Alcohol-Degradation']\n",
      "ANSA-MONOMER has 2nd parents {'ASPASN-PWY': 2} for ASPASN-PWY\n",
      "ANSA-MONOMER has 2nd parents {'Amino-Acid-Degradation': 2} for ASPARAGINE-DEG1-PWY\n",
      "pruned to ['N/A', 'Amino-Acid-Degradation']\n",
      "ANSB-MONOMER has 2nd parents {'ASPASN-PWY': 2} for ASPASN-PWY\n",
      "ANSB-MONOMER has 2nd parents {'Amino-Acid-Degradation': 2} for ASPARAGINE-DEG1-PWY\n",
      "pruned to ['N/A', 'Amino-Acid-Degradation']\n",
      "ANTHRANSYNCOMPI-MONOMER has 2nd parents {'Amino-Acid-Biosynthesis': 2} for GLUTSYN-PWY\n",
      "ANTHRANSYNCOMPI-MONOMER has 2nd parents {'Amino-Acid-Biosynthesis': 2} for TRPSYN-PWY\n",
      "ANTHRANSYNCOMPI-MONOMER has 2nd parents {'Amino-Acid-Degradation': 2} for GLUTAMINDEG-PWY\n",
      "ANTHRANSYNCOMPI-MONOMER has 2nd parents {'Noncarbon-Nutrients': 2} for AMMASSIM-PWY\n",
      "pruned to ['Amino-Acid-Biosynthesis', 'Amino-Acid-Biosynthesis', 'Amino-Acid-Degradation', 'Noncarbon-Nutrients']\n",
      "ANTHRANSYNCOMPII-MONOMER has 2nd parents {'Amino-Acid-Biosynthesis': 2} for GLUTSYN-PWY\n",
      "ANTHRANSYNCOMPII-MONOMER has 2nd parents {'Amino-Acid-Biosynthesis': 2} for TRPSYN-PWY\n",
      "ANTHRANSYNCOMPII-MONOMER has 2nd parents {'Amino-Acid-Degradation': 2} for GLUTAMINDEG-PWY\n",
      "ANTHRANSYNCOMPII-MONOMER has 2nd parents {'Noncarbon-Nutrients': 2} for AMMASSIM-PWY\n",
      "pruned to ['Amino-Acid-Biosynthesis', 'Amino-Acid-Biosynthesis', 'Amino-Acid-Degradation', 'Noncarbon-Nutrients']\n",
      "APHA-MONOMER has 2nd parents {'NUCLEO-DEG': 2} for SALVADEHYPOX-PWY\n",
      "APHA-MONOMER has 2nd parents {'NUCLEO-DEG': 2} for PWY-6608\n",
      "pruned to ['NUCLEO-DEG', 'NUCLEO-DEG']\n",
      "ARGDECARBOXBIO-MONOMER has 2nd parents {'Polyamine-Biosynthesis': 2} for PWY-40\n",
      "ARGDECARBOXBIO-MONOMER has 2nd parents {'Amino-Acid-Degradation': 2} for PWY0-823\n",
      "pruned to ['Polyamine-Biosynthesis', 'Amino-Acid-Degradation']\n",
      "ARGDECARBOXDEG-MONOMER has 2nd parents {'Amino-Acid-Degradation': 2} for PWY0-823\n",
      "ARGDECARBOXDEG-MONOMER has 2nd parents {'Acid-Resistance': 2} for PWY0-1299\n",
      "pruned to ['Amino-Acid-Degradation', 'Acid-Resistance']\n",
      "ASL-MONOMER has 2nd parents {'Nucleotide-Biosynthesis': 2} for PWY-6123\n",
      "ASL-MONOMER has 2nd parents {'Nucleotide-Biosynthesis': 2} for PWY-7219\n",
      "pruned to ['Nucleotide-Biosynthesis', 'Nucleotide-Biosynthesis']\n",
      "ASNSYNB-MONOMER has 2nd parents {'Amino-Acid-Biosynthesis': 2} for ASPARAGINE-BIOSYNTHESIS\n",
      "ASNSYNB-MONOMER has 2nd parents {'Amino-Acid-Biosynthesis': 2} for ASPARAGINESYN-PWY\n",
      "ASNSYNB-MONOMER has 2nd parents {'Amino-Acid-Degradation': 2} for GLUTAMINDEG-PWY\n",
      "ASNSYNB-MONOMER has 2nd parents {'Noncarbon-Nutrients': 2} for AMMASSIM-PWY\n",
      "pruned to ['Amino-Acid-Biosynthesis', 'Amino-Acid-Biosynthesis', 'Amino-Acid-Degradation', 'Noncarbon-Nutrients']\n",
      "ASP-SEMIALDEHYDE-DEHYDROGENASE-MONOMER has 2nd parents {'Amino-Acid-Biosynthesis': 2} for HOMOSERSYN-PWY\n",
      "ASP-SEMIALDEHYDE-DEHYDROGENASE-MONOMER has 2nd parents {'Amino-Acid-Biosynthesis': 2} for DAPLYSINESYN-PWY\n",
      "pruned to ['Amino-Acid-Biosynthesis', 'Amino-Acid-Biosynthesis']\n",
      "ASPAMINOTRANS-MONOMER has 2nd parents {'Amino-Acid-Biosynthesis': 2} for ASPARTATESYN-PWY\n",
      "ASPAMINOTRANS-MONOMER has 2nd parents {'Amino-Acid-Biosynthesis': 2} for PHESYN\n",
      "ASPAMINOTRANS-MONOMER has 2nd parents {'Amino-Acid-Biosynthesis': 2} for TYRSYN\n",
      "ASPAMINOTRANS-MONOMER has 2nd parents {'Noncarbon-Nutrients': 2} for PWY-5329\n",
      "ASPAMINOTRANS-MONOMER has 2nd parents {'Amino-Acid-Degradation': 2} for GLUTDEG-PWY\n",
      "pruned to ['Amino-Acid-Biosynthesis', 'Amino-Acid-Biosynthesis', 'Amino-Acid-Biosynthesis', 'Noncarbon-Nutrients', 'Amino-Acid-Degradation']\n",
      "ASPARTASE-MONOMER has 2nd parents {'ASPASN-PWY': 2} for ASPASN-PWY\n",
      "ASPARTASE-MONOMER has 2nd parents {'Amino-Acid-Degradation': 2} for GLUTDEG-PWY\n",
      "ASPARTASE-MONOMER has 2nd parents {'Amino-Acid-Degradation': 2} for PWY-8291\n",
      "ASPARTASE-MONOMER has 2nd parents {'Amino-Acid-Degradation': 2} for PWY-8294\n",
      "pruned to ['N/A', 'Amino-Acid-Degradation', 'Amino-Acid-Degradation', 'Amino-Acid-Degradation']\n",
      "ASPKINIII-MONOMER has 2nd parents {'Amino-Acid-Biosynthesis': 2} for HOMOSERSYN-PWY\n",
      "ASPKINIII-MONOMER has 2nd parents {'Amino-Acid-Biosynthesis': 2} for DAPLYSINESYN-PWY\n",
      "pruned to ['Amino-Acid-Biosynthesis', 'Amino-Acid-Biosynthesis']\n",
      "BRANCHED-CHAINAMINOTRANSFER-MONOMER has 2nd parents {'Amino-Acid-Biosynthesis': 2} for VALSYN-PWY\n",
      "BRANCHED-CHAINAMINOTRANSFER-MONOMER has 2nd parents {'Amino-Acid-Biosynthesis': 2} for ILEUSYN-PWY\n",
      "BRANCHED-CHAINAMINOTRANSFER-MONOMER has 2nd parents {'Amino-Acid-Biosynthesis': 2} for ALANINE-VALINESYN-PWY\n",
      "BRANCHED-CHAINAMINOTRANSFER-MONOMER has 2nd parents {'Amino-Acid-Biosynthesis': 2} for PHESYN\n",
      "BRANCHED-CHAINAMINOTRANSFER-MONOMER has 2nd parents {'Amino-Acid-Biosynthesis': 2} for LEUSYN-PWY\n",
      "pruned to ['Amino-Acid-Biosynthesis', 'Amino-Acid-Biosynthesis', 'Amino-Acid-Biosynthesis', 'Amino-Acid-Biosynthesis', 'Amino-Acid-Biosynthesis']\n",
      "CARBOXYL-TRANSFERASE-ALPHA-MONOMER has 2nd parents {'Lipid-Biosynthesis': 2} for PWY-4381\n",
      "CARBOXYL-TRANSFERASE-ALPHA-MONOMER has 2nd parents {'Lipid-Biosynthesis': 2} for PWY0-1264\n",
      "pruned to ['Lipid-Biosynthesis', 'Lipid-Biosynthesis']\n",
      "CARBOXYL-TRANSFERASE-BETA-MONOMER has 2nd parents {'Lipid-Biosynthesis': 2} for PWY-4381\n",
      "CARBOXYL-TRANSFERASE-BETA-MONOMER has 2nd parents {'Lipid-Biosynthesis': 2} for PWY0-1264\n",
      "pruned to ['Lipid-Biosynthesis', 'Lipid-Biosynthesis']\n",
      "CARBPSYN-LARGE has 2nd parents {'Nucleotide-Biosynthesis': 2} for PWY-5686\n",
      "CARBPSYN-LARGE has 2nd parents {'ARGSYN-PWY': 2} for ARGSYN-PWY\n",
      "CARBPSYN-LARGE has 2nd parents {'Amino-Acid-Degradation': 2} for GLUTAMINDEG-PWY\n",
      "CARBPSYN-LARGE has 2nd parents {'Noncarbon-Nutrients': 2} for AMMASSIM-PWY\n",
      "pruned to ['Nucleotide-Biosynthesis', 'N/A', 'Amino-Acid-Degradation', 'Noncarbon-Nutrients']\n",
      "CARBPSYN-SMALL has 2nd parents {'Nucleotide-Biosynthesis': 2} for PWY-5686\n",
      "CARBPSYN-SMALL has 2nd parents {'ARGSYN-PWY': 2} for ARGSYN-PWY\n",
      "CARBPSYN-SMALL has 2nd parents {'Amino-Acid-Degradation': 2} for GLUTAMINDEG-PWY\n",
      "CARBPSYN-SMALL has 2nd parents {'Noncarbon-Nutrients': 2} for AMMASSIM-PWY\n",
      "pruned to ['Nucleotide-Biosynthesis', 'N/A', 'Amino-Acid-Degradation', 'Noncarbon-Nutrients']\n",
      "CDPDIGLYSYN-MONOMER has 2nd parents {'Lipid-Biosynthesis': 2} for PWY-5667\n",
      "CDPDIGLYSYN-MONOMER has 2nd parents {'Lipid-Biosynthesis': 2} for PWY0-1319\n",
      "pruned to ['Lipid-Biosynthesis', 'Lipid-Biosynthesis']\n",
      "CHEA-SMALL has 2nd parents {'PWY0-1518': 2} for PWY0-1518\n",
      "CHEA-SMALL has 2nd parents {'PWY0-1519': 2} for PWY0-1519\n",
      "pruned to ['PWY0-1518', 'PWY0-1519']\n",
      "CHEY-MONOMER has 2nd parents {'PWY0-1518': 2} for PWY0-1518\n",
      "CHEY-MONOMER has 2nd parents {'PWY0-1519': 2} for PWY0-1519\n",
      "pruned to ['PWY0-1518', 'PWY0-1519']\n",
      "CHORISMUTPREPHENDEHYDRAT-MONOMER has 2nd parents {'Amino-Acid-Biosynthesis': 2} for PHESYN\n",
      "CHORISMUTPREPHENDEHYDRAT-MONOMER has 2nd parents {'Amino-Acid-Biosynthesis': 2} for TYRSYN\n",
      "pruned to ['Amino-Acid-Biosynthesis', 'Amino-Acid-Biosynthesis']\n",
      "CHORISMUTPREPHENDEHYDROG-MONOMER has 2nd parents {'Amino-Acid-Biosynthesis': 2} for PHESYN\n",
      "CHORISMUTPREPHENDEHYDROG-MONOMER has 2nd parents {'Amino-Acid-Biosynthesis': 2} for TYRSYN\n",
      "pruned to ['Amino-Acid-Biosynthesis', 'Amino-Acid-Biosynthesis']\n",
      "CITRYLY-MONOMER has 2nd parents {'Cofactor-Biosynthesis': 2} for P2-PWY\n",
      "CITRYLY-MONOMER has 2nd parents {'CARBOXYLATES-DEG': 2} for PWY-6038\n",
      "pruned to ['Cofactor-Biosynthesis', 'CARBOXYLATES-DEG']\n",
      "CITSYN-MONOMER has 2nd parents {'FERMENTATION-PWY': 2} for FERMENTATION-PWY\n",
      "CITSYN-MONOMER has 2nd parents {'TCA-VARIANTS': 2} for TCA\n",
      "CITSYN-MONOMER has 2nd parents {'GLYOXYLATE-BYPASS': 2} for GLYOXYLATE-BYPASS\n",
      "pruned to ['N/A', 'TCA-VARIANTS', 'GLYOXYLATE-BYPASS']\n",
      "CITTRANS-MONOMER has 2nd parents {'Cofactor-Biosynthesis': 2} for P2-PWY\n",
      "CITTRANS-MONOMER has 2nd parents {'CARBOXYLATES-DEG': 2} for PWY-6038\n",
      "pruned to ['Cofactor-Biosynthesis', 'CARBOXYLATES-DEG']\n",
      "CMPKI-MONOMER has 2nd parents {'PWY-7197': 2, 'Nucleotide-Biosynthesis': 2} for PWY-7197\n",
      "CMPKI-MONOMER has 2nd parents {'Nucleotide-Biosynthesis': 2} for PWY0-163\n",
      "CMPKI-MONOMER has 2nd parents {'Nucleotide-Biosynthesis': 2} for PWY-7205\n",
      "pruned to ['PWY-7197', 'Nucleotide-Biosynthesis', 'Nucleotide-Biosynthesis']\n",
      "COBALADENOSYLTRANS-MONOMER has 2nd parents {'Cofactor-Biosynthesis': 2} for PWY-7971\n",
      "COBALADENOSYLTRANS-MONOMER has 2nd parents {'Cofactor-Biosynthesis': 2} for PWY-6268\n",
      "pruned to ['Cofactor-Biosynthesis', 'Cofactor-Biosynthesis']\n",
      "COBS-MONOMER has 2nd parents {'Cofactor-Biosynthesis': 2} for PWY-5509\n",
      "COBS-MONOMER has 2nd parents {'COBALSYN-PWY': 2} for COBALSYN-PWY\n",
      "pruned to ['Cofactor-Biosynthesis', 'N/A']\n",
      "COBU-MONOMER has 2nd parents {'COBALSYN-PWY': 2} for COBALSYN-PWY\n",
      "COBU-MONOMER has 2nd parents {'Cofactor-Biosynthesis': 2} for PWY-7971\n",
      "pruned to ['N/A', 'Cofactor-Biosynthesis']\n",
      "CTPSYN-MONOMER has 2nd parents {'Nucleotide-Biosynthesis': 2} for PWY-7176\n",
      "CTPSYN-MONOMER has 2nd parents {'Amino-Acid-Degradation': 2} for GLUTAMINDEG-PWY\n",
      "CTPSYN-MONOMER has 2nd parents {'Noncarbon-Nutrients': 2} for AMMASSIM-PWY\n",
      "pruned to ['Nucleotide-Biosynthesis', 'Amino-Acid-Degradation', 'Noncarbon-Nutrients']\n",
      "CYCLASE-MONOMER has 2nd parents {'Amino-Acid-Biosynthesis': 2} for HISTSYN-PWY\n",
      "CYCLASE-MONOMER has 2nd parents {'Amino-Acid-Degradation': 2} for GLUTAMINDEG-PWY\n",
      "CYCLASE-MONOMER has 2nd parents {'Noncarbon-Nutrients': 2} for AMMASSIM-PWY\n",
      "pruned to ['Amino-Acid-Biosynthesis', 'Amino-Acid-Degradation', 'Noncarbon-Nutrients']\n",
      "CYDA-MONOMER has 2nd parents {'Electron-Transfer': 2} for PWY0-1353\n",
      "CYDA-MONOMER has 2nd parents {'Electron-Transfer': 2} for PWY0-1334\n",
      "CYDA-MONOMER has 2nd parents {'Electron-Transfer': 2} for PWY0-1568\n",
      "CYDA-MONOMER has 2nd parents {'Electron-Transfer': 2} for PWY-7545\n",
      "pruned to ['Electron-Transfer', 'Electron-Transfer', 'Electron-Transfer', 'Electron-Transfer']\n",
      "CYDB-MONOMER has 2nd parents {'Electron-Transfer': 2} for PWY0-1353\n",
      "CYDB-MONOMER has 2nd parents {'Electron-Transfer': 2} for PWY0-1334\n",
      "CYDB-MONOMER has 2nd parents {'Electron-Transfer': 2} for PWY0-1568\n",
      "CYDB-MONOMER has 2nd parents {'Electron-Transfer': 2} for PWY-7545\n",
      "pruned to ['Electron-Transfer', 'Electron-Transfer', 'Electron-Transfer', 'Electron-Transfer']\n",
      "CYOA-MONOMER has 2nd parents {'Electron-Transfer': 2} for PWY0-1335\n",
      "CYOA-MONOMER has 2nd parents {'Electron-Transfer': 2} for PWY0-1565\n",
      "CYOA-MONOMER has 2nd parents {'Electron-Transfer': 2} for PWY0-1329\n",
      "CYOA-MONOMER has 2nd parents {'Electron-Transfer': 2} for PWY0-1567\n",
      "CYOA-MONOMER has 2nd parents {'Electron-Transfer': 2} for PWY-7544\n",
      "CYOA-MONOMER has 2nd parents {'Electron-Transfer': 2} for PWY0-1544\n",
      "CYOA-MONOMER has 2nd parents {'Electron-Transfer': 2} for PWY0-1561\n",
      "pruned to ['Electron-Transfer', 'Electron-Transfer', 'Electron-Transfer', 'Electron-Transfer', 'Electron-Transfer', 'Electron-Transfer', 'Electron-Transfer']\n",
      "CYOB-MONOMER has 2nd parents {'Electron-Transfer': 2} for PWY0-1335\n",
      "CYOB-MONOMER has 2nd parents {'Electron-Transfer': 2} for PWY0-1565\n",
      "CYOB-MONOMER has 2nd parents {'Electron-Transfer': 2} for PWY0-1329\n",
      "CYOB-MONOMER has 2nd parents {'Electron-Transfer': 2} for PWY0-1567\n",
      "CYOB-MONOMER has 2nd parents {'Electron-Transfer': 2} for PWY-7544\n",
      "CYOB-MONOMER has 2nd parents {'Electron-Transfer': 2} for PWY0-1544\n",
      "CYOB-MONOMER has 2nd parents {'Electron-Transfer': 2} for PWY0-1561\n",
      "pruned to ['Electron-Transfer', 'Electron-Transfer', 'Electron-Transfer', 'Electron-Transfer', 'Electron-Transfer', 'Electron-Transfer', 'Electron-Transfer']\n",
      "CYOC-MONOMER has 2nd parents {'Electron-Transfer': 2} for PWY0-1335\n",
      "CYOC-MONOMER has 2nd parents {'Electron-Transfer': 2} for PWY0-1565\n",
      "CYOC-MONOMER has 2nd parents {'Electron-Transfer': 2} for PWY0-1329\n",
      "CYOC-MONOMER has 2nd parents {'Electron-Transfer': 2} for PWY0-1567\n",
      "CYOC-MONOMER has 2nd parents {'Electron-Transfer': 2} for PWY-7544\n",
      "CYOC-MONOMER has 2nd parents {'Electron-Transfer': 2} for PWY0-1544\n",
      "CYOC-MONOMER has 2nd parents {'Electron-Transfer': 2} for PWY0-1561\n",
      "pruned to ['Electron-Transfer', 'Electron-Transfer', 'Electron-Transfer', 'Electron-Transfer', 'Electron-Transfer', 'Electron-Transfer', 'Electron-Transfer']\n",
      "CYOD-MONOMER has 2nd parents {'Electron-Transfer': 2} for PWY0-1335\n",
      "CYOD-MONOMER has 2nd parents {'Electron-Transfer': 2} for PWY0-1565\n",
      "CYOD-MONOMER has 2nd parents {'Electron-Transfer': 2} for PWY0-1329\n",
      "CYOD-MONOMER has 2nd parents {'Electron-Transfer': 2} for PWY0-1567\n",
      "CYOD-MONOMER has 2nd parents {'Electron-Transfer': 2} for PWY-7544\n",
      "CYOD-MONOMER has 2nd parents {'Electron-Transfer': 2} for PWY0-1544\n",
      "CYOD-MONOMER has 2nd parents {'Electron-Transfer': 2} for PWY0-1561\n",
      "pruned to ['Electron-Transfer', 'Electron-Transfer', 'Electron-Transfer', 'Electron-Transfer', 'Electron-Transfer', 'Electron-Transfer', 'Electron-Transfer']\n",
      "CYSTATHIONINE-BETA-LYASE-MONOMER has 2nd parents {'Amino-Acid-Biosynthesis': 2} for PWY-8072\n",
      "CYSTATHIONINE-BETA-LYASE-MONOMER has 2nd parents {'Amino-Acid-Biosynthesis': 2} for HOMOSER-METSYN-PWY\n",
      "CYSTATHIONINE-BETA-LYASE-MONOMER has 2nd parents {'Amino-Acid-Degradation': 2} for LCYSDEG-PWY\n",
      "CYSTATHIONINE-BETA-LYASE-MONOMER has 2nd parents {'Amino-Acid-Degradation': 2} for ALADEG-PWY\n",
      "pruned to ['Amino-Acid-Biosynthesis', 'Amino-Acid-Biosynthesis', 'Amino-Acid-Degradation', 'Amino-Acid-Degradation']\n",
      "CYTDEAM-MONOMER has 2nd parents {'PWY-7194': 2} for PWY-7194\n",
      "CYTDEAM-MONOMER has 2nd parents {'Nucleotide-Biosynthesis': 2} for PWY0-163\n",
      "CYTDEAM-MONOMER has 2nd parents {'Nucleotide-Biosynthesis': 2} for PWY-7195\n",
      "pruned to ['N/A', 'Nucleotide-Biosynthesis', 'Nucleotide-Biosynthesis']\n",
      "CYTIDEAM-MONOMER has 2nd parents {'Nucleotide-Biosynthesis': 2} for PWY-7193\n",
      "CYTIDEAM-MONOMER has 2nd parents {'Nucleotide-Biosynthesis': 2} for PWY0-163\n",
      "CYTIDEAM-MONOMER has 2nd parents {'Nucleotide-Biosynthesis': 2} for PWY-6556\n",
      "CYTIDEAM-MONOMER has 2nd parents {'Nucleotide-Biosynthesis': 2} for PWY0-181\n",
      "CYTIDEAM-MONOMER has 2nd parents {'NUCLEO-DEG': 2} for PWY-7181\n",
      "CYTIDEAM-MONOMER has 2nd parents {'NUCLEO-DEG': 2} for PWY0-1295\n",
      "pruned to ['Nucleotide-Biosynthesis', 'Nucleotide-Biosynthesis', 'Nucleotide-Biosynthesis', 'Nucleotide-Biosynthesis', 'NUCLEO-DEG', 'NUCLEO-DEG']\n",
      "CYTOCHROMEC552-MONOMER has 2nd parents {'Electron-Transfer': 2} for PWY0-1585\n",
      "CYTOCHROMEC552-MONOMER has 2nd parents {'Cofactor-Biosynthesis': 2} for PWY-8147\n",
      "pruned to ['Electron-Transfer', 'Cofactor-Biosynthesis']\n",
      "DCTP-DEAM-MONOMER has 2nd parents {'PWY0-166': 2} for PWY0-166\n",
      "DCTP-DEAM-MONOMER has 2nd parents {'Nucleotide-Biosynthesis': 2} for PWY-7187\n",
      "pruned to ['N/A', 'Nucleotide-Biosynthesis']\n",
      "DCUA-MONOMER has 2nd parents {'Amino-Acid-Degradation': 2} for PWY-8291\n",
      "DCUA-MONOMER has 2nd parents {'Amino-Acid-Degradation': 2} for PWY-8294\n",
      "pruned to ['Amino-Acid-Degradation', 'Amino-Acid-Degradation']\n",
      "DEOA-MONOMER has 2nd parents {'Nucleotide-Biosynthesis': 2} for PWY0-181\n",
      "DEOA-MONOMER has 2nd parents {'NUCLEO-DEG': 2} for PWY-7181\n",
      "pruned to ['Nucleotide-Biosynthesis', 'NUCLEO-DEG']\n",
      "DEOD-MONOMER has 2nd parents {'Nucleotide-Biosynthesis': 2} for PWY-6611\n",
      "DEOD-MONOMER has 2nd parents {'Nucleotide-Biosynthesis': 2} for PWY-6609\n",
      "DEOD-MONOMER has 2nd parents {'Nucleotide-Biosynthesis': 2} for PWY-6620\n",
      "DEOD-MONOMER has 2nd parents {'NUCLEO-DEG': 2} for SALVADEHYPOX-PWY\n",
      "DEOD-MONOMER has 2nd parents {'NUCLEO-DEG': 2} for PWY-6608\n",
      "DEOD-MONOMER has 2nd parents {'NUCLEO-DEG': 2} for PWY0-1296\n",
      "DEOD-MONOMER has 2nd parents {'NUCLEO-DEG': 2} for PWY-7179\n",
      "pruned to ['Nucleotide-Biosynthesis', 'Nucleotide-Biosynthesis', 'Nucleotide-Biosynthesis', 'NUCLEO-DEG', 'NUCLEO-DEG', 'NUCLEO-DEG', 'NUCLEO-DEG']\n",
      "DEOXYGLUCONOKIN-MONOMER has 2nd parents {'CARBOXYLATES-DEG': 2} for GALACTUROCAT-PWY\n",
      "DEOXYGLUCONOKIN-MONOMER has 2nd parents {'CARBOXYLATES-DEG': 2} for PWY-7242\n",
      "pruned to ['CARBOXYLATES-DEG', 'CARBOXYLATES-DEG']\n",
      "DHPDIOXYGEN-MONOMER has 2nd parents {'AROMATIC-COMPOUNDS-DEGRADATION': 2} for PWY-6690\n",
      "DHPDIOXYGEN-MONOMER has 2nd parents {'AROMATIC-COMPOUNDS-DEGRADATION': 2} for HCAMHPDEG-PWY\n",
      "pruned to ['AROMATIC-COMPOUNDS-DEGRADATION', 'AROMATIC-COMPOUNDS-DEGRADATION']\n",
      "DIHYDROFOLATEREDUCT-MONOMER has 2nd parents {'Cofactor-Biosynthesis': 2} for 1CMET2-PWY\n",
      "DIHYDROFOLATEREDUCT-MONOMER has 2nd parents {'Cofactor-Biosynthesis': 2} for PWY-6614\n",
      "pruned to ['Cofactor-Biosynthesis', 'Cofactor-Biosynthesis']\n",
      "DIHYDROXYACIDDEHYDRAT-MONOMER has 2nd parents {'Amino-Acid-Biosynthesis': 2} for VALSYN-PWY\n",
      "DIHYDROXYACIDDEHYDRAT-MONOMER has 2nd parents {'Amino-Acid-Biosynthesis': 2} for ILEUSYN-PWY\n",
      "pruned to ['Amino-Acid-Biosynthesis', 'Amino-Acid-Biosynthesis']\n",
      "DISULFOXRED-MONOMER has 2nd parents {'Cofactor-Biosynthesis': 2} for PWY-8147\n",
      "DISULFOXRED-MONOMER has 2nd parents {'Other-biosynthesis': 2} for GLUT-REDOX-PWY\n",
      "DISULFOXRED-MONOMER has 2nd parents {'Protein-Modification': 2} for PWY0-1599\n",
      "pruned to ['Cofactor-Biosynthesis', 'Other-biosynthesis', 'Protein-Modification']\n",
      "DLACTDEHYDROGFAD-MONOMER has 2nd parents {'Electron-Transfer': 2} for PWY0-1565\n",
      "DLACTDEHYDROGFAD-MONOMER has 2nd parents {'Methylglyoxal-Detoxification': 2, 'Aldehyde-Degradation': 2} for PWY-5386\n",
      "pruned to ['Electron-Transfer', 'Methylglyoxal-Detoxification']\n",
      "DLACTDEHYDROGNAD-MONOMER has 2nd parents {'Fermentation': 2} for PWY-8274\n",
      "DLACTDEHYDROGNAD-MONOMER has 2nd parents {'FERMENTATION-PWY': 2} for FERMENTATION-PWY\n",
      "pruned to ['Fermentation', 'N/A']\n",
      "DMBPPRIBOSYLTRANS-MONOMER has 2nd parents {'Cofactor-Biosynthesis': 2} for PWY-5509\n",
      "DMBPPRIBOSYLTRANS-MONOMER has 2nd parents {'COBALSYN-PWY': 2} for COBALSYN-PWY\n",
      "pruned to ['Cofactor-Biosynthesis', 'N/A']\n",
      "DMSA-MONOMER has 2nd parents {'Electron-Transfer': 2} for PWY0-1577\n",
      "DMSA-MONOMER has 2nd parents {'Electron-Transfer': 2} for PWY0-1356\n",
      "DMSA-MONOMER has 2nd parents {'Electron-Transfer': 2} for PWY0-1348\n",
      "pruned to ['Electron-Transfer', 'Electron-Transfer', 'Electron-Transfer']\n",
      "DMSB-MONOMER has 2nd parents {'Electron-Transfer': 2} for PWY0-1577\n",
      "DMSB-MONOMER has 2nd parents {'Electron-Transfer': 2} for PWY0-1356\n",
      "DMSB-MONOMER has 2nd parents {'Electron-Transfer': 2} for PWY0-1348\n",
      "pruned to ['Electron-Transfer', 'Electron-Transfer', 'Electron-Transfer']\n",
      "DMSC-MONOMER has 2nd parents {'Electron-Transfer': 2} for PWY0-1577\n",
      "DMSC-MONOMER has 2nd parents {'Electron-Transfer': 2} for PWY0-1356\n",
      "DMSC-MONOMER has 2nd parents {'Electron-Transfer': 2} for PWY0-1348\n",
      "pruned to ['Electron-Transfer', 'Electron-Transfer', 'Electron-Transfer']\n",
      "DSBD-MONOMER has 2nd parents {'Cofactor-Biosynthesis': 2} for PWY-8147\n",
      "DSBD-MONOMER has 2nd parents {'Protein-Modification': 2} for PWY0-1600\n",
      "pruned to ['Cofactor-Biosynthesis', 'Protein-Modification']\n",
      "DTDPGLUCDEHYDRAT-MONOMER has 2nd parents {'Carbohydrates-Biosynthesis': 2} for DTDPRHAMSYN-PWY\n",
      "DTDPGLUCDEHYDRAT-MONOMER has 2nd parents {'Carbohydrates-Biosynthesis': 2} for PWY-7315\n",
      "pruned to ['Carbohydrates-Biosynthesis', 'Carbohydrates-Biosynthesis']\n",
      "DTDPGLUCOSEPP-MONOMER has 2nd parents {'Carbohydrates-Biosynthesis': 2} for DTDPRHAMSYN-PWY\n",
      "DTDPGLUCOSEPP-MONOMER has 2nd parents {'Carbohydrates-Biosynthesis': 2} for PWY-7315\n",
      "pruned to ['Carbohydrates-Biosynthesis', 'Carbohydrates-Biosynthesis']\n",
      "DTDPGLUCOSEPP2-MONOMER has 2nd parents {'Carbohydrates-Biosynthesis': 2} for DTDPRHAMSYN-PWY\n",
      "DTDPGLUCOSEPP2-MONOMER has 2nd parents {'Carbohydrates-Biosynthesis': 2} for PWY-7315\n",
      "pruned to ['Carbohydrates-Biosynthesis', 'Carbohydrates-Biosynthesis']\n",
      "DTMPKI-MONOMER has 2nd parents {'PWY-7184': 2, 'Nucleotide-Biosynthesis': 2} for PWY-7184\n",
      "DTMPKI-MONOMER has 2nd parents {'PWY-7197': 2, 'Nucleotide-Biosynthesis': 2} for PWY-7197\n",
      "DTMPKI-MONOMER has 2nd parents {'PWY0-166': 2} for PWY0-166\n",
      "DTMPKI-MONOMER has 2nd parents {'Nucleotide-Biosynthesis': 2} for PWY-7187\n",
      "pruned to ['PWY-7184', 'PWY-7197', 'N/A', 'Nucleotide-Biosynthesis']\n",
      "DUTP-PYROP-MONOMER has 2nd parents {'PWY-7206': 2, 'NUCLEO-DEG': 2} for PWY-7206\n",
      "DUTP-PYROP-MONOMER has 2nd parents {'PWY-7184': 2, 'Nucleotide-Biosynthesis': 2} for PWY-7184\n",
      "DUTP-PYROP-MONOMER has 2nd parents {'PWY0-166': 2} for PWY0-166\n",
      "DUTP-PYROP-MONOMER has 2nd parents {'Nucleotide-Biosynthesis': 2} for PWY-7187\n",
      "pruned to ['PWY-7206', 'PWY-7184', 'N/A', 'Nucleotide-Biosynthesis']\n",
      "DXS-MONOMER has 2nd parents {'Cofactor-Biosynthesis': 2} for PWY-6892\n",
      "DXS-MONOMER has 2nd parents {'Cofactor-Biosynthesis': 2} for PYRIDOXSYN-PWY\n",
      "DXS-MONOMER has 2nd parents {'SECONDARY-METABOLITE-BIOSYNTHESIS': 2} for NONMEVIPP-PWY\n",
      "pruned to ['Cofactor-Biosynthesis', 'Cofactor-Biosynthesis', 'N/A']\n",
      "E1O-MONOMER has 2nd parents {'TCA-VARIANTS': 2} for TCA\n",
      "E1O-MONOMER has 2nd parents {'Respiration': 2} for PWY-5084\n",
      "pruned to ['TCA-VARIANTS', 'N/A']\n",
      "E1P-MONOMER has 2nd parents {'Acetyl-CoA-Biosynthesis': 2} for PYRUVDEHYD-PWY\n",
      "E1P-MONOMER has 2nd parents {'GLYCOLYSIS-TCA-GLYOX-BYPASS': 2} for GLYCOLYSIS-TCA-GLYOX-BYPASS\n",
      "pruned to ['Acetyl-CoA-Biosynthesis', 'N/A']\n",
      "E2O-MONOMER has 2nd parents {'TCA-VARIANTS': 2} for TCA\n",
      "E2O-MONOMER has 2nd parents {'Respiration': 2} for PWY-5084\n",
      "pruned to ['TCA-VARIANTS', 'N/A']\n",
      "E2P-MONOMER has 2nd parents {'Acetyl-CoA-Biosynthesis': 2} for PYRUVDEHYD-PWY\n",
      "E2P-MONOMER has 2nd parents {'GLYCOLYSIS-TCA-GLYOX-BYPASS': 2} for GLYCOLYSIS-TCA-GLYOX-BYPASS\n",
      "pruned to ['Acetyl-CoA-Biosynthesis', 'N/A']\n",
      "E3-MONOMER has 2nd parents {'TCA-VARIANTS': 2} for TCA\n",
      "E3-MONOMER has 2nd parents {'Acetyl-CoA-Biosynthesis': 2} for PYRUVDEHYD-PWY\n",
      "E3-MONOMER has 2nd parents {'Respiration': 2} for PWY-5084\n",
      "E3-MONOMER has 2nd parents {'GLYCOLYSIS-TCA-GLYOX-BYPASS': 2} for GLYCOLYSIS-TCA-GLYOX-BYPASS\n",
      "E3-MONOMER has 2nd parents {'Cofactor-Biosynthesis': 2} for 1CMET2-PWY\n",
      "E3-MONOMER has 2nd parents {'Amino-Acid-Degradation': 2} for GLYCLEAV-PWY\n",
      "E3-MONOMER has 2nd parents {'Amino-Acid-Degradation': 2} for PWY0-1608\n",
      "pruned to ['TCA-VARIANTS', 'Acetyl-CoA-Biosynthesis', 'N/A', 'N/A', 'Cofactor-Biosynthesis', 'Amino-Acid-Degradation', 'Amino-Acid-Degradation']\n",
      "EG10344-MONOMER has 2nd parents {'PEPTIDOGLYCANSYN-PWY': 2} for PEPTIDOGLYCANSYN-PWY\n",
      "EG10344-MONOMER has 2nd parents {'Cell-Structure-Biosynthesis': 2} for PWY0-1586\n",
      "pruned to ['N/A', 'Cell-Structure-Biosynthesis']\n",
      "EG10355-MONOMER has 2nd parents {'Carbohydrates-Degradation': 2} for FUCCAT-PWY\n",
      "EG10355-MONOMER has 2nd parents {'Carbohydrates-Degradation': 2} for RIBOKIN-PWY\n",
      "pruned to ['Carbohydrates-Degradation', 'Carbohydrates-Degradation']\n",
      "EG10564-MONOMER has 2nd parents {'Amino-Acid-Biosynthesis': 2} for PWY-8072\n",
      "EG10564-MONOMER has 2nd parents {'Amino-Acid-Biosynthesis': 2} for HOMOSER-METSYN-PWY\n",
      "EG10564-MONOMER has 2nd parents {'Amino-Acid-Degradation': 2} for LCYSDEG-PWY\n",
      "EG10564-MONOMER has 2nd parents {'Amino-Acid-Degradation': 2} for ALADEG-PWY\n",
      "pruned to ['Amino-Acid-Biosynthesis', 'Amino-Acid-Biosynthesis', 'Amino-Acid-Degradation', 'Amino-Acid-Degradation']\n",
      "EG10572-MONOMER has 2nd parents {'PWY-7206': 2, 'NUCLEO-DEG': 2} for PWY-7206\n",
      "EG10572-MONOMER has 2nd parents {'PWY-7184': 2, 'Nucleotide-Biosynthesis': 2} for PWY-7184\n",
      "EG10572-MONOMER has 2nd parents {'PWY0-166': 2} for PWY0-166\n",
      "EG10572-MONOMER has 2nd parents {'Nucleotide-Biosynthesis': 2} for PWY-7187\n",
      "pruned to ['PWY-7206', 'PWY-7184', 'N/A', 'Nucleotide-Biosynthesis']\n",
      "EG10605-MONOMER has 2nd parents {'PEPTIDOGLYCANSYN-PWY': 2} for PEPTIDOGLYCANSYN-PWY\n",
      "EG10605-MONOMER has 2nd parents {'Cell-Structure-Biosynthesis': 2} for PWY0-1586\n",
      "pruned to ['N/A', 'Cell-Structure-Biosynthesis']\n",
      "EG10607-MONOMER has 2nd parents {'PEPTIDOGLYCANSYN-PWY': 2} for PEPTIDOGLYCANSYN-PWY\n",
      "EG10607-MONOMER has 2nd parents {'Cell-Structure-Biosynthesis': 2} for PWY0-1586\n",
      "pruned to ['N/A', 'Cell-Structure-Biosynthesis']\n",
      "EG10634-MONOMER has 2nd parents {'NUCLEO-DEG': 2} for SALVADEHYPOX-PWY\n",
      "EG10634-MONOMER has 2nd parents {'NUCLEO-DEG': 2} for PWY-6608\n",
      "pruned to ['NUCLEO-DEG', 'NUCLEO-DEG']\n",
      "EG10718-MONOMER has 2nd parents {'Noncarbon-Nutrients': 2} for PWY0-1533\n",
      "EG10718-MONOMER has 2nd parents {'Noncarbon-Nutrients': 2} for PWY-7805\n",
      "pruned to ['Noncarbon-Nutrients', 'Noncarbon-Nutrients']\n",
      "EG10719-MONOMER has 2nd parents {'Noncarbon-Nutrients': 2} for PWY0-1533\n",
      "EG10719-MONOMER has 2nd parents {'Noncarbon-Nutrients': 2} for PWY-7805\n",
      "pruned to ['Noncarbon-Nutrients', 'Noncarbon-Nutrients']\n",
      "EG10722-MONOMER has 2nd parents {'Noncarbon-Nutrients': 2} for PWY0-1533\n",
      "EG10722-MONOMER has 2nd parents {'Noncarbon-Nutrients': 2} for PWY-7805\n",
      "pruned to ['Noncarbon-Nutrients', 'Noncarbon-Nutrients']\n",
      "EG10723-MONOMER has 2nd parents {'Noncarbon-Nutrients': 2} for PWY0-1533\n",
      "EG10723-MONOMER has 2nd parents {'Noncarbon-Nutrients': 2} for PWY-7805\n",
      "pruned to ['Noncarbon-Nutrients', 'Noncarbon-Nutrients']\n",
      "EG10725-MONOMER has 2nd parents {'Noncarbon-Nutrients': 2} for PWY0-1533\n",
      "EG10725-MONOMER has 2nd parents {'Noncarbon-Nutrients': 2} for PWY-7805\n",
      "pruned to ['Noncarbon-Nutrients', 'Noncarbon-Nutrients']\n",
      "EG10748-MONOMER has 2nd parents {'PEPTIDOGLYCANSYN-PWY': 2} for PEPTIDOGLYCANSYN-PWY\n",
      "EG10748-MONOMER has 2nd parents {'Cell-Structure-Biosynthesis': 2} for PWY0-1586\n",
      "pruned to ['N/A', 'Cell-Structure-Biosynthesis']\n",
      "EG11082-MONOMER has 2nd parents {'Nucleotide-Biosynthesis': 2} for PWY-6605\n",
      "EG11082-MONOMER has 2nd parents {'Nucleotide-Biosynthesis': 2} for PWY-6556\n",
      "EG11082-MONOMER has 2nd parents {'Nucleotide-Biosynthesis': 2} for PWY-7195\n",
      "pruned to ['Nucleotide-Biosynthesis', 'Nucleotide-Biosynthesis', 'Nucleotide-Biosynthesis']\n",
      "EG11090-MONOMER has 2nd parents {'Cofactor-Biosynthesis': 2} for PWY-6151\n",
      "EG11090-MONOMER has 2nd parents {'SECONDARY-METABOLITE-BIOSYNTHESIS': 2} for PWY-6153\n",
      "EG11090-MONOMER has 2nd parents {'NUCLEO-DEG': 2} for PWY0-1391\n",
      "pruned to ['Cofactor-Biosynthesis', 'N/A', 'NUCLEO-DEG']\n",
      "EG11162-MONOMER has 2nd parents {'FERMENTATION-PWY': 2} for FERMENTATION-PWY\n",
      "EG11162-MONOMER has 2nd parents {'TCA-VARIANTS': 2} for TCA\n",
      "pruned to ['N/A', 'TCA-VARIANTS']\n",
      "EG11195-MONOMER has 2nd parents {'GLYCOLYSIS-VARIANTS': 2} for GLYCOLYSIS\n",
      "EG11195-MONOMER has 2nd parents {'GLYCOLYSIS-VARIANTS': 2} for PWY-5484\n",
      "EG11195-MONOMER has 2nd parents {'Carbohydrates-Biosynthesis': 2} for GLUCONEO-PWY\n",
      "EG11195-MONOMER has 2nd parents {'Carbohydrates-Degradation': 2} for GLUCOSE1PMETAB-PWY\n",
      "pruned to ['GLYCOLYSIS-VARIANTS', 'GLYCOLYSIS-VARIANTS', 'Carbohydrates-Biosynthesis', 'Carbohydrates-Degradation']\n",
      "EG11239-MONOMER has 2nd parents {'GLYCOLYSIS-VARIANTS': 2} for GLYCOLYSIS\n",
      "EG11239-MONOMER has 2nd parents {'GLYCOLYSIS-VARIANTS': 2} for PWY-5484\n",
      "EG11239-MONOMER has 2nd parents {'Carbohydrates-Biosynthesis': 2} for GLUCONEO-PWY\n",
      "pruned to ['GLYCOLYSIS-VARIANTS', 'GLYCOLYSIS-VARIANTS', 'Carbohydrates-Biosynthesis']\n",
      "EG11245-MONOMER has 2nd parents {'GLYCOLYSIS-VARIANTS': 2} for GLYCOLYSIS\n",
      "EG11245-MONOMER has 2nd parents {'GLYCOLYSIS-VARIANTS': 2} for PWY-5484\n",
      "EG11245-MONOMER has 2nd parents {'Carbohydrates-Biosynthesis': 2} for GLUCONEO-PWY\n",
      "pruned to ['GLYCOLYSIS-VARIANTS', 'GLYCOLYSIS-VARIANTS', 'Carbohydrates-Biosynthesis']\n",
      "EG11306-MONOMER has 2nd parents {'Cofactor-Biosynthesis': 2} for PWY0-1275\n",
      "EG11306-MONOMER has 2nd parents {'Cofactor-Biosynthesis': 2} for PWY0-501\n",
      "pruned to ['Cofactor-Biosynthesis', 'Cofactor-Biosynthesis']\n",
      "EG11371-MONOMER has 2nd parents {'Lipid-Biosynthesis': 2} for PWY0-1545\n",
      "EG11371-MONOMER has 2nd parents {'Lipid-Biosynthesis': 2} for PWY-5668\n",
      "pruned to ['Lipid-Biosynthesis', 'Lipid-Biosynthesis']\n",
      "EG11470-MONOMER has 2nd parents {'GLYCOLYSIS-VARIANTS': 2} for GLYCOLYSIS\n",
      "EG11470-MONOMER has 2nd parents {'GLYCOLYSIS-VARIANTS': 2} for PWY-5484\n",
      "EG11470-MONOMER has 2nd parents {'Carbohydrates-Biosynthesis': 2} for GLUCONEO-PWY\n",
      "EG11470-MONOMER has 2nd parents {'Carbohydrates-Degradation': 2} for GLUCOSE1PMETAB-PWY\n",
      "pruned to ['GLYCOLYSIS-VARIANTS', 'GLYCOLYSIS-VARIANTS', 'Carbohydrates-Biosynthesis', 'Carbohydrates-Degradation']\n",
      "EG11517-MONOMER has 2nd parents {'GLYCOLYSIS-VARIANTS': 2} for GLYCOLYSIS\n",
      "EG11517-MONOMER has 2nd parents {'GLYCOLYSIS-VARIANTS': 2} for PWY-5484\n",
      "EG11517-MONOMER has 2nd parents {'Carbohydrates-Biosynthesis': 2} for GLUCONEO-PWY\n",
      "pruned to ['GLYCOLYSIS-VARIANTS', 'GLYCOLYSIS-VARIANTS', 'Carbohydrates-Biosynthesis']\n",
      "EG11600-MONOMER has 2nd parents {'Noncarbon-Nutrients': 2} for PWY-5329\n",
      "EG11600-MONOMER has 2nd parents {'Noncarbon-Nutrients': 2} for PWY-5350\n",
      "pruned to ['Noncarbon-Nutrients', 'Noncarbon-Nutrients']\n",
      "EG11784-MONOMER has 2nd parents {'PWY-5485': 2} for PWY-5485\n",
      "EG11784-MONOMER has 2nd parents {'FERMENTATION-PWY': 2} for FERMENTATION-PWY\n",
      "EG11784-MONOMER has 2nd parents {'Fermentation': 2} for PWY-5480\n",
      "EG11784-MONOMER has 2nd parents {'Fermentation': 2} for PWY-5437\n",
      "pruned to ['N/A', 'N/A', 'Fermentation', 'Fermentation']\n",
      "EG11796-MONOMER has 2nd parents {'Cofactor-Biosynthesis': 2} for PWY0-1275\n",
      "EG11796-MONOMER has 2nd parents {'Cofactor-Biosynthesis': 2} for PWY0-522\n",
      "pruned to ['Cofactor-Biosynthesis', 'Cofactor-Biosynthesis']\n",
      "EG11800-MONOMER has 2nd parents {'Electron-Transfer': 2} for PWY0-1577\n",
      "EG11800-MONOMER has 2nd parents {'Electron-Transfer': 2} for PWY0-1578\n",
      "EG11800-MONOMER has 2nd parents {'Electron-Transfer': 2} for PWY0-1576\n",
      "pruned to ['Electron-Transfer', 'Electron-Transfer', 'Electron-Transfer']\n",
      "EG11815-MONOMER has 2nd parents {'Electron-Transfer': 2} for PWY0-1578\n",
      "EG11815-MONOMER has 2nd parents {'Electron-Transfer': 2} for PWY0-1355\n",
      "EG11815-MONOMER has 2nd parents {'Electron-Transfer': 2} for PWY0-1347\n",
      "EG11815-MONOMER has 2nd parents {'Cofactor-Biosynthesis': 2} for PWY-8147\n",
      "pruned to ['Electron-Transfer', 'Electron-Transfer', 'Electron-Transfer', 'Cofactor-Biosynthesis']\n",
      "EG11817-MONOMER has 2nd parents {'NUCLEO-DEG': 2} for SALVADEHYPOX-PWY\n",
      "EG11817-MONOMER has 2nd parents {'NUCLEO-DEG': 2} for PWY-6608\n",
      "pruned to ['NUCLEO-DEG', 'NUCLEO-DEG']\n",
      "EG11829-MONOMER has 2nd parents {'Cofactor-Biosynthesis': 2} for PWY-7639\n",
      "EG11829-MONOMER has 2nd parents {'Cofactor-Biosynthesis': 2} for PWY-5964\n",
      "pruned to ['Cofactor-Biosynthesis', 'Cofactor-Biosynthesis']\n",
      "EG12026-MONOMER has 2nd parents {'C1-COMPOUNDS': 2} for PWY-1801\n",
      "EG12026-MONOMER has 2nd parents {'Methylglyoxal-Detoxification': 2, 'Aldehyde-Degradation': 2} for PWY-5386\n",
      "pruned to ['C1-COMPOUNDS', 'Methylglyoxal-Detoxification']\n",
      "EG12030-MONOMER has 2nd parents {'Nucleotide-Biosynthesis': 2} for PWY-6556\n",
      "EG12030-MONOMER has 2nd parents {'Nucleotide-Biosynthesis': 2} for PWY-7195\n",
      "pruned to ['Nucleotide-Biosynthesis', 'Nucleotide-Biosynthesis']\n",
      "EG12097-MONOMER has 2nd parents {'Nucleotide-Biosynthesis': 2} for PWY-6611\n",
      "EG12097-MONOMER has 2nd parents {'Nucleotide-Biosynthesis': 2} for PWY-6609\n",
      "EG12097-MONOMER has 2nd parents {'NUCLEO-DEG': 2} for SALVADEHYPOX-PWY\n",
      "EG12097-MONOMER has 2nd parents {'NUCLEO-DEG': 2} for PWY0-1296\n",
      "pruned to ['Nucleotide-Biosynthesis', 'Nucleotide-Biosynthesis', 'NUCLEO-DEG', 'NUCLEO-DEG']\n",
      "EG12159-MONOMER has 2nd parents {'Nucleotide-Biosynthesis': 2} for PWY-6611\n",
      "EG12159-MONOMER has 2nd parents {'Nucleotide-Biosynthesis': 2} for PWY-6609\n",
      "EG12159-MONOMER has 2nd parents {'Nucleotide-Biosynthesis': 2} for PWY-6620\n",
      "EG12159-MONOMER has 2nd parents {'Nucleotide-Biosynthesis': 2} for SALVPURINE2-PWY\n",
      "EG12159-MONOMER has 2nd parents {'Nucleotide-Biosynthesis': 2} for PWY0-163\n",
      "EG12159-MONOMER has 2nd parents {'Nucleotide-Biosynthesis': 2} for PWY0-181\n",
      "EG12159-MONOMER has 2nd parents {'NUCLEO-DEG': 2} for SALVADEHYPOX-PWY\n",
      "EG12159-MONOMER has 2nd parents {'NUCLEO-DEG': 2} for PWY-6608\n",
      "EG12159-MONOMER has 2nd parents {'NUCLEO-DEG': 2} for PWY0-1296\n",
      "EG12159-MONOMER has 2nd parents {'NUCLEO-DEG': 2} for PWY-7181\n",
      "EG12159-MONOMER has 2nd parents {'NUCLEO-DEG': 2} for PWY0-1295\n",
      "pruned to ['Nucleotide-Biosynthesis', 'Nucleotide-Biosynthesis', 'Nucleotide-Biosynthesis', 'Nucleotide-Biosynthesis', 'Nucleotide-Biosynthesis', 'Nucleotide-Biosynthesis', 'NUCLEO-DEG', 'NUCLEO-DEG', 'NUCLEO-DEG', 'NUCLEO-DEG', 'NUCLEO-DEG']\n",
      "EG12221-MONOMER has 2nd parents {'ENTBACSYN-PWY': 2} for ENTBACSYN-PWY\n",
      "EG12221-MONOMER has 2nd parents {'Protein-Modification': 2} for PWY-6012\n",
      "pruned to ['N/A', 'Protein-Modification']\n",
      "EG12244-MONOMER has 2nd parents {'Electron-Transfer': 2} for PWY0-1590\n",
      "EG12244-MONOMER has 2nd parents {'Electron-Transfer': 2} for PWY0-1591\n",
      "pruned to ['Electron-Transfer', 'Electron-Transfer']\n",
      "EG12286-MONOMER has 2nd parents {'Carbohydrates-Degradation': 2} for LYXMET-PWY\n",
      "EG12286-MONOMER has 2nd parents {'CARBOXYLATES-DEG': 2} for PWY-6961\n",
      "pruned to ['Carbohydrates-Degradation', 'CARBOXYLATES-DEG']\n",
      "EG12287-MONOMER has 2nd parents {'Carbohydrates-Degradation': 2} for LYXMET-PWY\n",
      "EG12287-MONOMER has 2nd parents {'CARBOXYLATES-DEG': 2} for PWY-6961\n",
      "pruned to ['Carbohydrates-Degradation', 'CARBOXYLATES-DEG']\n",
      "EG12293-MONOMER has 2nd parents {'Amino-Acid-Degradation': 2} for THREONINE-DEG2-PWY\n",
      "EG12293-MONOMER has 2nd parents {'Amino-Acid-Degradation': 2} for THRDLCTCAT-PWY\n",
      "pruned to ['Amino-Acid-Degradation', 'Amino-Acid-Degradation']\n",
      "EG12407-MONOMER has 2nd parents {'ASPASN-PWY': 2} for ASPASN-PWY\n",
      "EG12407-MONOMER has 2nd parents {'Amino-Acid-Degradation': 2} for ASPARAGINE-DEG1-PWY\n",
      "pruned to ['N/A', 'Amino-Acid-Degradation']\n",
      "EG12712-MONOMER has 2nd parents {'Cofactor-Biosynthesis': 2} for PWY-6151\n",
      "EG12712-MONOMER has 2nd parents {'SECONDARY-METABOLITE-BIOSYNTHESIS': 2} for PWY-6153\n",
      "pruned to ['Cofactor-Biosynthesis', 'N/A']\n",
      "EG50003-MONOMER has 2nd parents {'Cofactor-Biosynthesis': 2} for PWY0-501\n",
      "EG50003-MONOMER has 2nd parents {'Lipid-Biosynthesis': 2} for NAGLIPASYN-PWY\n",
      "EG50003-MONOMER has 2nd parents {'Lipid-Biosynthesis': 2} for PWY0-1319\n",
      "EG50003-MONOMER has 2nd parents {'Lipid-Biosynthesis': 2} for KDO-LIPASYN-PWY\n",
      "EG50003-MONOMER has 2nd parents {'Lipid-Biosynthesis': 2} for PWY-5966\n",
      "EG50003-MONOMER has 2nd parents {'Lipid-Biosynthesis': 2} for PWY-4381\n",
      "EG50003-MONOMER has 2nd parents {'Lipid-Biosynthesis': 2} for PWY-5965\n",
      "EG50003-MONOMER has 2nd parents {'Lipid-Biosynthesis': 2} for PWY0-862\n",
      "EG50003-MONOMER has 2nd parents {'Lipid-Biosynthesis': 2} for PWY-6282\n",
      "EG50003-MONOMER has 2nd parents {'Lipid-Biosynthesis': 2} for PWY-5973\n",
      "EG50003-MONOMER has 2nd parents {'Lipid-Biosynthesis': 2} for PWY-5971\n",
      "EG50003-MONOMER has 2nd parents {'Lipid-Biosynthesis': 2} for FASYN-ELONG-PWY\n",
      "EG50003-MONOMER has 2nd parents {'KDO-NAGLIPASYN-PWY': 2} for KDO-NAGLIPASYN-PWY\n",
      "EG50003-MONOMER has 2nd parents {'Other-biosynthesis': 2} for PWY-6519\n",
      "EG50003-MONOMER has 2nd parents {'Protein-Modification': 2} for PWY-6012\n",
      "pruned to ['Cofactor-Biosynthesis', 'Lipid-Biosynthesis', 'Lipid-Biosynthesis', 'Lipid-Biosynthesis', 'Lipid-Biosynthesis', 'Lipid-Biosynthesis', 'Lipid-Biosynthesis', 'Lipid-Biosynthesis', 'Lipid-Biosynthesis', 'Lipid-Biosynthesis', 'Lipid-Biosynthesis', 'Lipid-Biosynthesis', 'N/A', 'Other-biosynthesis', 'Protein-Modification']\n",
      "ENOLASE-MONOMER has 2nd parents {'GLYCOLYSIS-VARIANTS': 2} for GLYCOLYSIS\n",
      "ENOLASE-MONOMER has 2nd parents {'GLYCOLYSIS-VARIANTS': 2} for PWY-5484\n",
      "ENOLASE-MONOMER has 2nd parents {'Carbohydrates-Biosynthesis': 2} for GLUCONEO-PWY\n",
      "pruned to ['GLYCOLYSIS-VARIANTS', 'GLYCOLYSIS-VARIANTS', 'Carbohydrates-Biosynthesis']\n",
      "ENOYL-ACP-REDUCT-NADH-MONOMER has 2nd parents {'Lipid-Biosynthesis': 2} for PWY0-862\n",
      "ENOYL-ACP-REDUCT-NADH-MONOMER has 2nd parents {'Lipid-Biosynthesis': 2} for PWY-6282\n",
      "ENOYL-ACP-REDUCT-NADH-MONOMER has 2nd parents {'Lipid-Biosynthesis': 2} for PWY-5973\n",
      "ENOYL-ACP-REDUCT-NADH-MONOMER has 2nd parents {'Lipid-Biosynthesis': 2} for PWY-5971\n",
      "ENOYL-ACP-REDUCT-NADH-MONOMER has 2nd parents {'Lipid-Biosynthesis': 2} for FASYN-ELONG-PWY\n",
      "ENOYL-ACP-REDUCT-NADH-MONOMER has 2nd parents {'Other-biosynthesis': 2} for PWY-6519\n",
      "pruned to ['Lipid-Biosynthesis', 'Lipid-Biosynthesis', 'Lipid-Biosynthesis', 'Lipid-Biosynthesis', 'Lipid-Biosynthesis', 'Other-biosynthesis']\n",
      "ENTB-MONOMER has 2nd parents {'AROMATIC-COMPOUNDS-BIOSYN': 2} for PWY-5901\n",
      "ENTB-MONOMER has 2nd parents {'Lipid-Biosynthesis': 2} for PWY0-1319\n",
      "ENTB-MONOMER has 2nd parents {'ENTBACSYN-PWY': 2} for ENTBACSYN-PWY\n",
      "ENTB-MONOMER has 2nd parents {'Protein-Modification': 2} for PWY-6012\n",
      "pruned to ['AROMATIC-COMPOUNDS-BIOSYN', 'Lipid-Biosynthesis', 'N/A', 'Protein-Modification']\n",
      "ENTF-MONOMER has 2nd parents {'ENTBACSYN-PWY': 2} for ENTBACSYN-PWY\n",
      "ENTF-MONOMER has 2nd parents {'Protein-Modification': 2} for PWY-6012\n",
      "pruned to ['N/A', 'Protein-Modification']\n",
      "F16B-MONOMER has 2nd parents {'GLYCOLYSIS-VARIANTS': 2} for GLYCOLYSIS\n",
      "F16B-MONOMER has 2nd parents {'GLYCOLYSIS-VARIANTS': 2} for PWY-5484\n",
      "F16B-MONOMER has 2nd parents {'Carbohydrates-Biosynthesis': 2} for GLUCONEO-PWY\n",
      "pruned to ['GLYCOLYSIS-VARIANTS', 'GLYCOLYSIS-VARIANTS', 'Carbohydrates-Biosynthesis']\n",
      "FABA-MONOMER has 2nd parents {'Lipid-Biosynthesis': 2} for PWY0-862\n",
      "FABA-MONOMER has 2nd parents {'Lipid-Biosynthesis': 2} for FASYN-ELONG-PWY\n",
      "pruned to ['Lipid-Biosynthesis', 'Lipid-Biosynthesis']\n",
      "FABB-MONOMER has 2nd parents {'Lipid-Biosynthesis': 2} for PWY-5966\n",
      "FABB-MONOMER has 2nd parents {'Lipid-Biosynthesis': 2} for PWY-5965\n",
      "FABB-MONOMER has 2nd parents {'Lipid-Biosynthesis': 2} for PWY0-862\n",
      "FABB-MONOMER has 2nd parents {'Lipid-Biosynthesis': 2} for PWY-6282\n",
      "FABB-MONOMER has 2nd parents {'Lipid-Biosynthesis': 2} for PWY-5971\n",
      "FABB-MONOMER has 2nd parents {'Lipid-Biosynthesis': 2} for FASYN-ELONG-PWY\n",
      "FABB-MONOMER has 2nd parents {'Other-biosynthesis': 2} for PWY-6519\n",
      "pruned to ['Lipid-Biosynthesis', 'Lipid-Biosynthesis', 'Lipid-Biosynthesis', 'Lipid-Biosynthesis', 'Lipid-Biosynthesis', 'Lipid-Biosynthesis', 'Other-biosynthesis']\n",
      "FABH-MONOMER has 2nd parents {'Lipid-Biosynthesis': 2} for PWY-5966\n",
      "FABH-MONOMER has 2nd parents {'Lipid-Biosynthesis': 2} for PWY-4381\n",
      "pruned to ['Lipid-Biosynthesis', 'Lipid-Biosynthesis']\n",
      "FABZ-MONOMER has 2nd parents {'Lipid-Biosynthesis': 2} for PWY0-862\n",
      "FABZ-MONOMER has 2nd parents {'Lipid-Biosynthesis': 2} for PWY-6282\n",
      "FABZ-MONOMER has 2nd parents {'Lipid-Biosynthesis': 2} for PWY-5973\n",
      "FABZ-MONOMER has 2nd parents {'Lipid-Biosynthesis': 2} for PWY-5971\n",
      "FABZ-MONOMER has 2nd parents {'Lipid-Biosynthesis': 2} for FASYN-ELONG-PWY\n",
      "FABZ-MONOMER has 2nd parents {'Other-biosynthesis': 2} for PWY-6519\n",
      "pruned to ['Lipid-Biosynthesis', 'Lipid-Biosynthesis', 'Lipid-Biosynthesis', 'Lipid-Biosynthesis', 'Lipid-Biosynthesis', 'Other-biosynthesis']\n",
      "FADA-MONOMER has 2nd parents {'Fatty-Acid-and-Lipid-Degradation': 2} for PWY0-1337\n",
      "FADA-MONOMER has 2nd parents {'Fatty-Acid-and-Lipid-Degradation': 2} for FAO-PWY\n",
      "pruned to ['Fatty-Acid-and-Lipid-Degradation', 'Fatty-Acid-and-Lipid-Degradation']\n",
      "FADB-MONOMER has 2nd parents {'Fatty-Acid-and-Lipid-Degradation': 2} for PWY0-1337\n",
      "FADB-MONOMER has 2nd parents {'Fatty-Acid-and-Lipid-Degradation': 2} for FAO-PWY\n",
      "pruned to ['Fatty-Acid-and-Lipid-Degradation', 'Fatty-Acid-and-Lipid-Degradation']\n",
      "FDNG-MONOMER has 2nd parents {'Electron-Transfer': 2} for PWY0-1356\n",
      "FDNG-MONOMER has 2nd parents {'Electron-Transfer': 2} for PWY0-1585\n",
      "FDNG-MONOMER has 2nd parents {'Electron-Transfer': 2} for PWY0-1355\n",
      "FDNG-MONOMER has 2nd parents {'Electron-Transfer': 2} for PWY0-1321\n",
      "pruned to ['Electron-Transfer', 'Electron-Transfer', 'Electron-Transfer', 'Electron-Transfer']\n",
      "FDNH-MONOMER has 2nd parents {'Electron-Transfer': 2} for PWY0-1356\n",
      "FDNH-MONOMER has 2nd parents {'Electron-Transfer': 2} for PWY0-1585\n",
      "FDNH-MONOMER has 2nd parents {'Electron-Transfer': 2} for PWY0-1355\n",
      "FDNH-MONOMER has 2nd parents {'Electron-Transfer': 2} for PWY0-1321\n",
      "pruned to ['Electron-Transfer', 'Electron-Transfer', 'Electron-Transfer', 'Electron-Transfer']\n",
      "FDNI-MONOMER has 2nd parents {'Electron-Transfer': 2} for PWY0-1356\n",
      "FDNI-MONOMER has 2nd parents {'Electron-Transfer': 2} for PWY0-1585\n",
      "FDNI-MONOMER has 2nd parents {'Electron-Transfer': 2} for PWY0-1355\n",
      "FDNI-MONOMER has 2nd parents {'Electron-Transfer': 2} for PWY0-1321\n",
      "pruned to ['Electron-Transfer', 'Electron-Transfer', 'Electron-Transfer', 'Electron-Transfer']\n",
      "FDOG-MONOMER has 2nd parents {'Electron-Transfer': 2} for PWY0-1356\n",
      "FDOG-MONOMER has 2nd parents {'Electron-Transfer': 2} for PWY0-1585\n",
      "FDOG-MONOMER has 2nd parents {'Electron-Transfer': 2} for PWY0-1355\n",
      "FDOG-MONOMER has 2nd parents {'Electron-Transfer': 2} for PWY0-1321\n",
      "pruned to ['Electron-Transfer', 'Electron-Transfer', 'Electron-Transfer', 'Electron-Transfer']\n",
      "FDOH-MONOMER has 2nd parents {'Electron-Transfer': 2} for PWY0-1356\n",
      "FDOH-MONOMER has 2nd parents {'Electron-Transfer': 2} for PWY0-1585\n",
      "FDOH-MONOMER has 2nd parents {'Electron-Transfer': 2} for PWY0-1355\n",
      "FDOH-MONOMER has 2nd parents {'Electron-Transfer': 2} for PWY0-1321\n",
      "pruned to ['Electron-Transfer', 'Electron-Transfer', 'Electron-Transfer', 'Electron-Transfer']\n",
      "FDOI-MONOMER has 2nd parents {'Electron-Transfer': 2} for PWY0-1356\n",
      "FDOI-MONOMER has 2nd parents {'Electron-Transfer': 2} for PWY0-1585\n",
      "FDOI-MONOMER has 2nd parents {'Electron-Transfer': 2} for PWY0-1355\n",
      "FDOI-MONOMER has 2nd parents {'Electron-Transfer': 2} for PWY0-1321\n",
      "pruned to ['Electron-Transfer', 'Electron-Transfer', 'Electron-Transfer', 'Electron-Transfer']\n",
      "FERREDOXIN-MONOMER has 2nd parents {'Cofactor-Biosynthesis': 2} for PWY-6892\n",
      "FERREDOXIN-MONOMER has 2nd parents {'Cofactor-Biosynthesis': 2} for PWY0-1275\n",
      "FERREDOXIN-MONOMER has 2nd parents {'Cofactor-Biosynthesis': 2} for PWY0-501\n",
      "FERREDOXIN-MONOMER has 2nd parents {'Cofactor-Biosynthesis': 2} for PWY0-1507\n",
      "pruned to ['Cofactor-Biosynthesis', 'Cofactor-Biosynthesis', 'Cofactor-Biosynthesis', 'Cofactor-Biosynthesis']\n",
      "FGAMSYN-MONOMER has 2nd parents {'PWY-6277': 2} for PWY-6277\n",
      "FGAMSYN-MONOMER has 2nd parents {'Nucleotide-Biosynthesis': 2} for PWY-6122\n",
      "FGAMSYN-MONOMER has 2nd parents {'Nucleotide-Biosynthesis': 2} for PWY-6121\n",
      "pruned to ['N/A', 'Nucleotide-Biosynthesis', 'Nucleotide-Biosynthesis']\n",
      "FOLC-MONOMER has 2nd parents {'Cofactor-Biosynthesis': 2} for PWY-2161\n",
      "FOLC-MONOMER has 2nd parents {'Cofactor-Biosynthesis': 2} for PWY-6614\n",
      "pruned to ['Cofactor-Biosynthesis', 'Cofactor-Biosynthesis']\n",
      "FORMATEDEHYDROGH-MONOMER has 2nd parents {'FERMENTATION-PWY': 2} for FERMENTATION-PWY\n",
      "FORMATEDEHYDROGH-MONOMER has 2nd parents {'Hydrogen-Production': 2} for PWY-6772\n",
      "pruned to ['N/A', 'Hydrogen-Production']\n",
      "FRUCBISALD-CLASSI-MONOMER has 2nd parents {'GLYCOLYSIS-VARIANTS': 2} for GLYCOLYSIS\n",
      "FRUCBISALD-CLASSI-MONOMER has 2nd parents {'GLYCOLYSIS-VARIANTS': 2} for PWY-5484\n",
      "FRUCBISALD-CLASSI-MONOMER has 2nd parents {'Carbohydrates-Biosynthesis': 2} for GLUCONEO-PWY\n",
      "pruned to ['GLYCOLYSIS-VARIANTS', 'GLYCOLYSIS-VARIANTS', 'Carbohydrates-Biosynthesis']\n",
      "FRUCTBISALD-CLASSII-MONOMER has 2nd parents {'GLYCOLYSIS-VARIANTS': 2} for GLYCOLYSIS\n",
      "FRUCTBISALD-CLASSII-MONOMER has 2nd parents {'GLYCOLYSIS-VARIANTS': 2} for PWY-5484\n",
      "FRUCTBISALD-CLASSII-MONOMER has 2nd parents {'PWY0-1517': 2} for PWY0-1517\n",
      "FRUCTBISALD-CLASSII-MONOMER has 2nd parents {'Carbohydrates-Biosynthesis': 2} for GLUCONEO-PWY\n",
      "pruned to ['GLYCOLYSIS-VARIANTS', 'GLYCOLYSIS-VARIANTS', 'PWY0-1517', 'Carbohydrates-Biosynthesis']\n",
      "FUCISOM-MONOMER has 2nd parents {'Carbohydrates-Degradation': 2} for DARABCATK12-PWY\n",
      "FUCISOM-MONOMER has 2nd parents {'Carbohydrates-Degradation': 2} for FUCCAT-PWY\n",
      "pruned to ['Carbohydrates-Degradation', 'Carbohydrates-Degradation']\n",
      "FUCPALDOL-MONOMER has 2nd parents {'Carbohydrates-Degradation': 2} for DARABCATK12-PWY\n",
      "FUCPALDOL-MONOMER has 2nd parents {'Carbohydrates-Degradation': 2} for FUCCAT-PWY\n",
      "pruned to ['Carbohydrates-Degradation', 'Carbohydrates-Degradation']\n",
      "FUCULOKIN-MONOMER has 2nd parents {'Carbohydrates-Degradation': 2} for DARABCATK12-PWY\n",
      "FUCULOKIN-MONOMER has 2nd parents {'Carbohydrates-Degradation': 2} for FUCCAT-PWY\n",
      "pruned to ['Carbohydrates-Degradation', 'Carbohydrates-Degradation']\n",
      "FUM-FE-S has 2nd parents {'FERMENTATION-PWY': 2} for FERMENTATION-PWY\n",
      "FUM-FE-S has 2nd parents {'Electron-Transfer': 2} for PWY0-1582\n",
      "FUM-FE-S has 2nd parents {'Electron-Transfer': 2} for PWY0-1336\n",
      "FUM-FE-S has 2nd parents {'Electron-Transfer': 2} for PWY0-1576\n",
      "pruned to ['N/A', 'Electron-Transfer', 'Electron-Transfer', 'Electron-Transfer']\n",
      "FUM-FLAVO has 2nd parents {'FERMENTATION-PWY': 2} for FERMENTATION-PWY\n",
      "FUM-FLAVO has 2nd parents {'Electron-Transfer': 2} for PWY0-1582\n",
      "FUM-FLAVO has 2nd parents {'Electron-Transfer': 2} for PWY0-1336\n",
      "FUM-FLAVO has 2nd parents {'Electron-Transfer': 2} for PWY0-1576\n",
      "pruned to ['N/A', 'Electron-Transfer', 'Electron-Transfer', 'Electron-Transfer']\n",
      "FUM-MEMB1 has 2nd parents {'FERMENTATION-PWY': 2} for FERMENTATION-PWY\n",
      "FUM-MEMB1 has 2nd parents {'Electron-Transfer': 2} for PWY0-1582\n",
      "FUM-MEMB1 has 2nd parents {'Electron-Transfer': 2} for PWY0-1336\n",
      "FUM-MEMB1 has 2nd parents {'Electron-Transfer': 2} for PWY0-1576\n",
      "pruned to ['N/A', 'Electron-Transfer', 'Electron-Transfer', 'Electron-Transfer']\n",
      "FUM-MEMB2 has 2nd parents {'FERMENTATION-PWY': 2} for FERMENTATION-PWY\n",
      "FUM-MEMB2 has 2nd parents {'Electron-Transfer': 2} for PWY0-1582\n",
      "FUM-MEMB2 has 2nd parents {'Electron-Transfer': 2} for PWY0-1336\n",
      "FUM-MEMB2 has 2nd parents {'Electron-Transfer': 2} for PWY0-1576\n",
      "pruned to ['N/A', 'Electron-Transfer', 'Electron-Transfer', 'Electron-Transfer']\n",
      "FUMA-MONOMER has 2nd parents {'FERMENTATION-PWY': 2} for FERMENTATION-PWY\n",
      "FUMA-MONOMER has 2nd parents {'TCA-VARIANTS': 2} for TCA\n",
      "pruned to ['N/A', 'TCA-VARIANTS']\n",
      "FUMB-MONOMER has 2nd parents {'FERMENTATION-PWY': 2} for FERMENTATION-PWY\n",
      "FUMB-MONOMER has 2nd parents {'TCA-VARIANTS': 2} for TCA\n",
      "pruned to ['N/A', 'TCA-VARIANTS']\n",
      "FUMC-MONOMER has 2nd parents {'FERMENTATION-PWY': 2} for FERMENTATION-PWY\n",
      "FUMC-MONOMER has 2nd parents {'TCA-VARIANTS': 2} for TCA\n",
      "pruned to ['N/A', 'TCA-VARIANTS']\n",
      "G6261-MONOMER has 2nd parents {'Amino-Acid-Degradation': 2} for GLUTAMINDEG-PWY\n",
      "G6261-MONOMER has 2nd parents {'Noncarbon-Nutrients': 2} for AMMASSIM-PWY\n",
      "pruned to ['Amino-Acid-Degradation', 'Noncarbon-Nutrients']\n",
      "G6358-MONOMER has 2nd parents {'Nucleotide-Biosynthesis': 2} for PWY-6556\n",
      "G6358-MONOMER has 2nd parents {'Nucleotide-Biosynthesis': 2} for PWY-7195\n",
      "pruned to ['Nucleotide-Biosynthesis', 'Nucleotide-Biosynthesis']\n",
      "G6425-MONOMER has 2nd parents {'GLYCOLYSIS-VARIANTS': 2} for GLYCOLYSIS\n",
      "G6425-MONOMER has 2nd parents {'GLYCOLYSIS-VARIANTS': 2} for PWY-5484\n",
      "G6425-MONOMER has 2nd parents {'Carbohydrates-Biosynthesis': 2} for GLUCONEO-PWY\n",
      "G6425-MONOMER has 2nd parents {'Carbohydrates-Degradation': 2} for GLUCOSE1PMETAB-PWY\n",
      "pruned to ['GLYCOLYSIS-VARIANTS', 'GLYCOLYSIS-VARIANTS', 'Carbohydrates-Biosynthesis', 'Carbohydrates-Degradation']\n",
      "G6621-MONOMER has 2nd parents {'Polymer-Degradation': 2} for PWY0-1546\n",
      "G6621-MONOMER has 2nd parents {'Other-Degradation': 2} for PWY0-1261\n",
      "pruned to ['Polymer-Degradation', 'Other-Degradation']\n",
      "G6646-MONOMER has 2nd parents {'Amino-Acid-Degradation': 2} for PWY0-461\n",
      "G6646-MONOMER has 2nd parents {'AMINE-DEG': 2} for PWY-6535\n",
      "pruned to ['Amino-Acid-Degradation', 'AMINE-DEG']\n",
      "G6755-MONOMER has 2nd parents {'Amino-Acid-Degradation': 2} for PWY0-461\n",
      "G6755-MONOMER has 2nd parents {'AMINE-DEG': 2} for PUTDEG-PWY\n",
      "pruned to ['Amino-Acid-Degradation', 'AMINE-DEG']\n",
      "G6810-MONOMER has 2nd parents {'Amino-Acid-Degradation': 2} for GLUTAMINDEG-PWY\n",
      "G6810-MONOMER has 2nd parents {'Noncarbon-Nutrients': 2} for AMMASSIM-PWY\n",
      "pruned to ['Amino-Acid-Degradation', 'Noncarbon-Nutrients']\n",
      "G6811-MONOMER has 2nd parents {'Amino-Acid-Degradation': 2} for PWY0-461\n",
      "G6811-MONOMER has 2nd parents {'AMINE-DEG': 2} for PWY-6535\n",
      "pruned to ['Amino-Acid-Degradation', 'AMINE-DEG']\n",
      "G6862-MONOMER has 2nd parents {'Cofactor-Biosynthesis': 2} for 1CMET2-PWY\n",
      "G6862-MONOMER has 2nd parents {'Cofactor-Biosynthesis': 2} for PWY-6614\n",
      "G6862-MONOMER has 2nd parents {'HORMONE-SYN': 2} for PWY0-1433\n",
      "pruned to ['Cofactor-Biosynthesis', 'Cofactor-Biosynthesis', 'HORMONE-SYN']\n",
      "G6903-MONOMER has 2nd parents {'FERMENTATION-PWY': 2} for FERMENTATION-PWY\n",
      "G6903-MONOMER has 2nd parents {'TCA-VARIANTS': 2} for TCA\n",
      "pruned to ['N/A', 'TCA-VARIANTS']\n",
      "G6986-MONOMER has 2nd parents {'Amino-Acid-Biosynthesis': 2} for LEUSYN-PWY\n",
      "G6986-MONOMER has 2nd parents {'CARBOXYLATES-DEG': 2} for PWY0-1465\n",
      "pruned to ['Amino-Acid-Biosynthesis', 'CARBOXYLATES-DEG']\n",
      "G7164-MONOMER has 2nd parents {'PWY-7206': 2, 'NUCLEO-DEG': 2} for PWY-7206\n",
      "G7164-MONOMER has 2nd parents {'PWY-7184': 2, 'Nucleotide-Biosynthesis': 2} for PWY-7184\n",
      "G7164-MONOMER has 2nd parents {'PWY0-166': 2} for PWY0-166\n",
      "G7164-MONOMER has 2nd parents {'Nucleotide-Biosynthesis': 2} for PWY-7187\n",
      "pruned to ['PWY-7206', 'PWY-7184', 'N/A', 'Nucleotide-Biosynthesis']\n",
      "G7187-MONOMER has 2nd parents {'GLYCOLYSIS-VARIANTS': 2} for GLYCOLYSIS\n",
      "G7187-MONOMER has 2nd parents {'GLYCOLYSIS-VARIANTS': 2} for PWY-5484\n",
      "G7187-MONOMER has 2nd parents {'Carbohydrates-Biosynthesis': 2} for GLUCONEO-PWY\n",
      "pruned to ['GLYCOLYSIS-VARIANTS', 'GLYCOLYSIS-VARIANTS', 'Carbohydrates-Biosynthesis']\n",
      "G7212-MONOMER has 2nd parents {'Fatty-Acid-and-Lipid-Degradation': 2} for PWY0-1337\n",
      "G7212-MONOMER has 2nd parents {'Fatty-Acid-and-Lipid-Degradation': 2} for FAO-PWY\n",
      "pruned to ['Fatty-Acid-and-Lipid-Degradation', 'Fatty-Acid-and-Lipid-Degradation']\n",
      "G7213-MONOMER has 2nd parents {'Fatty-Acid-and-Lipid-Degradation': 2} for PWY0-1337\n",
      "G7213-MONOMER has 2nd parents {'Fatty-Acid-and-Lipid-Degradation': 2} for FAO-PWY\n",
      "pruned to ['Fatty-Acid-and-Lipid-Degradation', 'Fatty-Acid-and-Lipid-Degradation']\n",
      "G7285-MONOMER has 2nd parents {'FERMENTATION-PWY': 2} for FERMENTATION-PWY\n",
      "G7285-MONOMER has 2nd parents {'Fermentation': 2} for PWY-5480\n",
      "G7285-MONOMER has 2nd parents {'Carbohydrates-Degradation': 2} for PWY-7180\n",
      "G7285-MONOMER has 2nd parents {'Amino-Acid-Degradation': 2} for PWY-5436\n",
      "G7285-MONOMER has 2nd parents {'Alcohol-Degradation': 2} for ETOH-ACETYLCOA-ANA-PWY\n",
      "G7285-MONOMER has 2nd parents {'CARBOXYLATES-DEG': 2} for PWY-5162\n",
      "G7285-MONOMER has 2nd parents {'AMINE-DEG': 2} for PWY0-1477\n",
      "pruned to ['N/A', 'Fermentation', 'Carbohydrates-Degradation', 'Amino-Acid-Degradation', 'Alcohol-Degradation', 'CARBOXYLATES-DEG', 'AMINE-DEG']\n",
      "G7288-MONOMER has 2nd parents {'PWY-5485': 2} for PWY-5485\n",
      "G7288-MONOMER has 2nd parents {'Fermentation': 2} for PWY0-1312\n",
      "G7288-MONOMER has 2nd parents {'FERMENTATION-PWY': 2} for FERMENTATION-PWY\n",
      "G7288-MONOMER has 2nd parents {'AMINE-DEG': 2} for PWY0-1477\n",
      "pruned to ['N/A', 'Fermentation', 'N/A', 'AMINE-DEG']\n",
      "G7322-MONOMER has 2nd parents {'PEPTIDOGLYCANSYN-PWY': 2} for PEPTIDOGLYCANSYN-PWY\n",
      "G7322-MONOMER has 2nd parents {'Cell-Structure-Biosynthesis': 2} for PWY0-1586\n",
      "pruned to ['N/A', 'Cell-Structure-Biosynthesis']\n",
      "G7325-MONOMER has 2nd parents {'Cofactor-Biosynthesis': 2} for PWY-6892\n",
      "G7325-MONOMER has 2nd parents {'Cofactor-Biosynthesis': 2} for PWY-8164\n",
      "G7325-MONOMER has 2nd parents {'Amino-Acid-Biosynthesis': 2} for PWY0-1021\n",
      "G7325-MONOMER has 2nd parents {'Nucleic-Acid-Processing': 2} for PWY-7892\n",
      "pruned to ['Cofactor-Biosynthesis', 'Cofactor-Biosynthesis', 'Amino-Acid-Biosynthesis', 'Nucleic-Acid-Processing']\n",
      "G7401-MONOMER has 2nd parents {'Nucleotide-Biosynthesis': 2} for PWY-7222\n",
      "G7401-MONOMER has 2nd parents {'Nucleotide-Biosynthesis': 2} for PWY-7220\n",
      "G7401-MONOMER has 2nd parents {'PWY0-166': 2} for PWY0-166\n",
      "G7401-MONOMER has 2nd parents {'Amino-Acid-Biosynthesis': 2} for PWY-7870\n",
      "G7401-MONOMER has 2nd parents {'Other-biosynthesis': 2} for GLUT-REDOX-PWY\n",
      "G7401-MONOMER has 2nd parents {'Arsenic-Detoxification': 2} for PWY-4621-1\n",
      "pruned to ['Nucleotide-Biosynthesis', 'Nucleotide-Biosynthesis', 'N/A', 'Amino-Acid-Biosynthesis', 'Other-biosynthesis', 'Arsenic-Detoxification']\n",
      "G7463-MONOMER has 2nd parents {'GLYCOLYSIS-VARIANTS': 2} for GLYCOLYSIS\n",
      "G7463-MONOMER has 2nd parents {'Carbohydrates-Biosynthesis': 2} for GLUCONEO-PWY\n",
      "G7463-MONOMER has 2nd parents {'Carbohydrates-Biosynthesis': 2} for UDPNAGSYN-PWY\n",
      "G7463-MONOMER has 2nd parents {'Carbohydrates-Biosynthesis': 2} for PWY-5659\n",
      "pruned to ['GLYCOLYSIS-VARIANTS', 'Carbohydrates-Biosynthesis', 'Carbohydrates-Biosynthesis', 'Carbohydrates-Biosynthesis']\n",
      "G7485-MONOMER has 2nd parents {'NUCLEO-DEG': 2} for SALVADEHYPOX-PWY\n",
      "G7485-MONOMER has 2nd parents {'NUCLEO-DEG': 2} for PWY-6608\n",
      "pruned to ['NUCLEO-DEG', 'NUCLEO-DEG']\n",
      "G7486-MONOMER has 2nd parents {'NUCLEO-DEG': 2} for SALVADEHYPOX-PWY\n",
      "G7486-MONOMER has 2nd parents {'NUCLEO-DEG': 2} for PWY-6608\n",
      "pruned to ['NUCLEO-DEG', 'NUCLEO-DEG']\n",
      "G7487-MONOMER has 2nd parents {'NUCLEO-DEG': 2} for SALVADEHYPOX-PWY\n",
      "G7487-MONOMER has 2nd parents {'NUCLEO-DEG': 2} for PWY-6608\n",
      "pruned to ['NUCLEO-DEG', 'NUCLEO-DEG']\n",
      "G7544-MONOMER has 2nd parents {'CARBOXYLATES-DEG': 2} for GLYCOLATEMET-PWY\n",
      "G7544-MONOMER has 2nd parents {'CARBOXYLATES-DEG': 2} for GLYOXDEG-PWY\n",
      "pruned to ['CARBOXYLATES-DEG', 'CARBOXYLATES-DEG']\n",
      "G7545-MONOMER has 2nd parents {'CARBOXYLATES-DEG': 2} for GLYCOLATEMET-PWY\n",
      "G7545-MONOMER has 2nd parents {'CARBOXYLATES-DEG': 2} for GLYOXDEG-PWY\n",
      "pruned to ['CARBOXYLATES-DEG', 'CARBOXYLATES-DEG']\n",
      "G7596-MONOMER has 2nd parents {'Amino-Acid-Degradation': 2} for PWY0-461\n",
      "G7596-MONOMER has 2nd parents {'AMINE-DEG': 2} for PUTDEG-PWY\n",
      "pruned to ['Amino-Acid-Degradation', 'AMINE-DEG']\n",
      "G7668-MONOMER has 2nd parents {'PEPTIDOGLYCANSYN-PWY': 2} for PEPTIDOGLYCANSYN-PWY\n",
      "G7668-MONOMER has 2nd parents {'Cell-Structure-Biosynthesis': 2} for PWY0-1586\n",
      "pruned to ['N/A', 'Cell-Structure-Biosynthesis']\n",
      "G7877-MONOMER has 2nd parents {'Fermentation': 2} for PWY-5437\n",
      "G7877-MONOMER has 2nd parents {'Amino-Acid-Biosynthesis': 2} for ILEUSYN-PWY\n",
      "G7877-MONOMER has 2nd parents {'Amino-Acid-Degradation': 2} for PWY0-1535\n",
      "G7877-MONOMER has 2nd parents {'Amino-Acid-Degradation': 2} for LCYSDEG-PWY\n",
      "G7877-MONOMER has 2nd parents {'Amino-Acid-Degradation': 2} for TRYPDEG-PWY\n",
      "G7877-MONOMER has 2nd parents {'Amino-Acid-Degradation': 2} for SERDEG-PWY\n",
      "pruned to ['Fermentation', 'Amino-Acid-Biosynthesis', 'Amino-Acid-Degradation', 'Amino-Acid-Degradation', 'Amino-Acid-Degradation', 'Amino-Acid-Degradation']\n",
      "GABATRANSAM-MONOMER has 2nd parents {'Amino-Acid-Biosynthesis': 2} for GLUTORN-PWY\n",
      "GABATRANSAM-MONOMER has 2nd parents {'Amino-Acid-Degradation': 2} for PWY0-461\n",
      "GABATRANSAM-MONOMER has 2nd parents {'AMINE-DEG': 2} for PWY-6537\n",
      "pruned to ['Amino-Acid-Biosynthesis', 'Amino-Acid-Degradation', 'AMINE-DEG']\n",
      "GAPDH-A-MONOMER has 2nd parents {'GLYCOLYSIS-VARIANTS': 2} for GLYCOLYSIS\n",
      "GAPDH-A-MONOMER has 2nd parents {'GLYCOLYSIS-VARIANTS': 2} for PWY-5484\n",
      "GAPDH-A-MONOMER has 2nd parents {'Carbohydrates-Biosynthesis': 2} for GLUCONEO-PWY\n",
      "pruned to ['GLYCOLYSIS-VARIANTS', 'GLYCOLYSIS-VARIANTS', 'Carbohydrates-Biosynthesis']\n",
      "GARTRANSFORMYL2-MONOMER has 2nd parents {'PWY-6277': 2} for PWY-6277\n",
      "GARTRANSFORMYL2-MONOMER has 2nd parents {'Nucleotide-Biosynthesis': 2} for PWY-6122\n",
      "GARTRANSFORMYL2-MONOMER has 2nd parents {'AMINE-DEG': 2} for PWY0-1477\n",
      "pruned to ['N/A', 'Nucleotide-Biosynthesis', 'AMINE-DEG']\n",
      "GCVH-MONOMER has 2nd parents {'Cofactor-Biosynthesis': 2} for 1CMET2-PWY\n",
      "GCVH-MONOMER has 2nd parents {'Amino-Acid-Degradation': 2} for GLYCLEAV-PWY\n",
      "GCVH-MONOMER has 2nd parents {'Amino-Acid-Degradation': 2} for PWY0-1608\n",
      "pruned to ['Cofactor-Biosynthesis', 'Amino-Acid-Degradation', 'Amino-Acid-Degradation']\n",
      "GCVP-MONOMER has 2nd parents {'Cofactor-Biosynthesis': 2} for 1CMET2-PWY\n",
      "GCVP-MONOMER has 2nd parents {'Amino-Acid-Degradation': 2} for GLYCLEAV-PWY\n",
      "GCVP-MONOMER has 2nd parents {'Amino-Acid-Degradation': 2} for PWY0-1608\n",
      "pruned to ['Cofactor-Biosynthesis', 'Amino-Acid-Degradation', 'Amino-Acid-Degradation']\n",
      "GCVT-MONOMER has 2nd parents {'Cofactor-Biosynthesis': 2} for 1CMET2-PWY\n",
      "GCVT-MONOMER has 2nd parents {'Amino-Acid-Degradation': 2} for GLYCLEAV-PWY\n",
      "GCVT-MONOMER has 2nd parents {'Amino-Acid-Degradation': 2} for PWY0-1608\n",
      "pruned to ['Cofactor-Biosynthesis', 'Amino-Acid-Degradation', 'Amino-Acid-Degradation']\n",
      "GKI-MONOMER has 2nd parents {'Carbohydrates-Degradation': 2} for PWY0-1300\n",
      "GKI-MONOMER has 2nd parents {'CARBOXYLATES-DEG': 2} for GLYCOLATEMET-PWY\n",
      "GKI-MONOMER has 2nd parents {'CARBOXYLATES-DEG': 2} for GALACTARDEG-PWY\n",
      "GKI-MONOMER has 2nd parents {'CARBOXYLATES-DEG': 2} for GLUCARDEG-PWY\n",
      "pruned to ['Carbohydrates-Degradation', 'CARBOXYLATES-DEG', 'CARBOXYLATES-DEG', 'CARBOXYLATES-DEG']\n",
      "GLU6PDEHYDROG-MONOMER has 2nd parents {'Pentose-Phosphate-Cycle': 2} for OXIDATIVEPENT-PWY\n",
      "GLU6PDEHYDROG-MONOMER has 2nd parents {'GLYCOLYSIS-E-D': 2} for GLYCOLYSIS-E-D\n",
      "pruned to ['Pentose-Phosphate-Cycle', 'N/A']\n",
      "GLUC1PURIDYLTRANS-MONOMER has 2nd parents {'Carbohydrates-Biosynthesis': 2} for PWY-7343\n",
      "GLUC1PURIDYLTRANS-MONOMER has 2nd parents {'Carbohydrates-Biosynthesis': 2} for GALACTMETAB-PWY\n",
      "pruned to ['Carbohydrates-Biosynthesis', 'Carbohydrates-Biosynthesis']\n",
      "GLUCOKIN-MONOMER has 2nd parents {'GLYCOCAT-PWY': 2, 'Polymer-Degradation': 2} for GLYCOCAT-PWY\n",
      "GLUCOKIN-MONOMER has 2nd parents {'Carbohydrates-Degradation': 2} for PWY0-1182\n",
      "GLUCOKIN-MONOMER has 2nd parents {'Carbohydrates-Degradation': 2} for TREDEGLOW-PWY\n",
      "GLUCOKIN-MONOMER has 2nd parents {'Carbohydrates-Degradation': 2} for GLUCOSE1PMETAB-PWY\n",
      "pruned to ['GLYCOCAT-PWY', 'Carbohydrates-Degradation', 'Carbohydrates-Degradation', 'Carbohydrates-Degradation']\n",
      "GLUCONOKINI-MONOMER has 2nd parents {'CARBOXYLATES-DEG': 2} for IDNCAT-PWY\n",
      "GLUCONOKINI-MONOMER has 2nd parents {'CARBOXYLATES-DEG': 2} for GLUCONSUPER-PWY\n",
      "pruned to ['CARBOXYLATES-DEG', 'CARBOXYLATES-DEG']\n",
      "GLURS-MONOMER has 2nd parents {'TRNA-CHARGING-PWY': 2, 'Aminoacyl-tRNAs-Charging': 2} for TRNA-CHARGING-PWY\n",
      "GLURS-MONOMER has 2nd parents {'Tetrapyrrole-Biosynthesis': 2} for PWY-5188\n",
      "pruned to ['TRNA-CHARGING-PWY', 'Tetrapyrrole-Biosynthesis']\n",
      "GLUSYNLARGE-MONOMER has 2nd parents {'Amino-Acid-Biosynthesis': 2} for GLUTSYN-PWY\n",
      "GLUSYNLARGE-MONOMER has 2nd parents {'Amino-Acid-Degradation': 2} for GLUTAMINDEG-PWY\n",
      "GLUSYNLARGE-MONOMER has 2nd parents {'Noncarbon-Nutrients': 2} for AMMASSIM-PWY\n",
      "pruned to ['Amino-Acid-Biosynthesis', 'Amino-Acid-Degradation', 'Noncarbon-Nutrients']\n",
      "GLUSYNSMALL-MONOMER has 2nd parents {'Amino-Acid-Biosynthesis': 2} for GLUTSYN-PWY\n",
      "GLUSYNSMALL-MONOMER has 2nd parents {'Amino-Acid-Degradation': 2} for GLUTAMINDEG-PWY\n",
      "GLUSYNSMALL-MONOMER has 2nd parents {'Noncarbon-Nutrients': 2} for AMMASSIM-PWY\n",
      "pruned to ['Amino-Acid-Biosynthesis', 'Amino-Acid-Degradation', 'Noncarbon-Nutrients']\n",
      "GLUTAMIDOTRANS-MONOMER has 2nd parents {'Amino-Acid-Biosynthesis': 2} for HISTSYN-PWY\n",
      "GLUTAMIDOTRANS-MONOMER has 2nd parents {'Amino-Acid-Degradation': 2} for GLUTAMINDEG-PWY\n",
      "GLUTAMIDOTRANS-MONOMER has 2nd parents {'Noncarbon-Nutrients': 2} for AMMASSIM-PWY\n",
      "pruned to ['Amino-Acid-Biosynthesis', 'Amino-Acid-Degradation', 'Noncarbon-Nutrients']\n",
      "GLUTAMINESYN-MONOMER has 2nd parents {'Amino-Acid-Biosynthesis': 2} for GLNSYN-PWY\n",
      "GLUTAMINESYN-MONOMER has 2nd parents {'Amino-Acid-Degradation': 2} for PWY-8291\n",
      "GLUTAMINESYN-MONOMER has 2nd parents {'Amino-Acid-Degradation': 2} for PWY-8294\n",
      "GLUTAMINESYN-MONOMER has 2nd parents {'Noncarbon-Nutrients': 2} for AMMASSIM-PWY\n",
      "pruned to ['Amino-Acid-Biosynthesis', 'Amino-Acid-Degradation', 'Amino-Acid-Degradation', 'Noncarbon-Nutrients']\n",
      "GLY3KIN-MONOMER has 2nd parents {'Carbohydrates-Degradation': 2} for PWY0-1300\n",
      "GLY3KIN-MONOMER has 2nd parents {'CARBOXYLATES-DEG': 2} for GLYCOLATEMET-PWY\n",
      "GLY3KIN-MONOMER has 2nd parents {'CARBOXYLATES-DEG': 2} for GALACTARDEG-PWY\n",
      "GLY3KIN-MONOMER has 2nd parents {'CARBOXYLATES-DEG': 2} for GLUCARDEG-PWY\n",
      "pruned to ['Carbohydrates-Degradation', 'CARBOXYLATES-DEG', 'CARBOXYLATES-DEG', 'CARBOXYLATES-DEG']\n",
      "GLYC3PDEHYDROGBIOSYN-MONOMER has 2nd parents {'Lipid-Biosynthesis': 2} for PWY-5667\n",
      "GLYC3PDEHYDROGBIOSYN-MONOMER has 2nd parents {'Lipid-Biosynthesis': 2} for PWY0-1319\n",
      "pruned to ['Lipid-Biosynthesis', 'Lipid-Biosynthesis']\n",
      "GLYCDEH-MONOMER has 2nd parents {'Alcohol-Degradation': 2} for GLYCEROLMETAB-PWY\n",
      "GLYCDEH-MONOMER has 2nd parents {'Methylglyoxal-Detoxification': 2, 'Aldehyde-Degradation': 2} for PWY-5453\n",
      "pruned to ['Alcohol-Degradation', 'Methylglyoxal-Detoxification']\n",
      "GLYCEROL-3-P-ACYLTRANSFER-MONOMER has 2nd parents {'Lipid-Biosynthesis': 2} for PWY-5667\n",
      "GLYCEROL-3-P-ACYLTRANSFER-MONOMER has 2nd parents {'Lipid-Biosynthesis': 2} for PWY0-1319\n",
      "pruned to ['Lipid-Biosynthesis', 'Lipid-Biosynthesis']\n",
      "GLYCRIBONUCSYN-MONOMER has 2nd parents {'PWY-6277': 2} for PWY-6277\n",
      "GLYCRIBONUCSYN-MONOMER has 2nd parents {'Nucleotide-Biosynthesis': 2} for PWY-6122\n",
      "GLYCRIBONUCSYN-MONOMER has 2nd parents {'Nucleotide-Biosynthesis': 2} for PWY-6121\n",
      "pruned to ['N/A', 'Nucleotide-Biosynthesis', 'Nucleotide-Biosynthesis']\n",
      "GLYOHMETRANS-MONOMER has 2nd parents {'Cofactor-Biosynthesis': 2} for 1CMET2-PWY\n",
      "GLYOHMETRANS-MONOMER has 2nd parents {'Cofactor-Biosynthesis': 2} for PWY-2161\n",
      "GLYOHMETRANS-MONOMER has 2nd parents {'Amino-Acid-Biosynthesis': 2} for GLYSYN-PWY\n",
      "GLYOHMETRANS-MONOMER has 2nd parents {'Amino-Acid-Degradation': 2} for PWY0-1608\n",
      "pruned to ['Cofactor-Biosynthesis', 'Cofactor-Biosynthesis', 'Amino-Acid-Biosynthesis', 'Amino-Acid-Degradation']\n",
      "GMP-SYN-MONOMER has 2nd parents {'Nucleotide-Biosynthesis': 2} for PWY-7221\n",
      "GMP-SYN-MONOMER has 2nd parents {'Amino-Acid-Degradation': 2} for GLUTAMINDEG-PWY\n",
      "GMP-SYN-MONOMER has 2nd parents {'Noncarbon-Nutrients': 2} for AMMASSIM-PWY\n",
      "pruned to ['Nucleotide-Biosynthesis', 'Amino-Acid-Degradation', 'Noncarbon-Nutrients']\n",
      "GPMA-MONOMER has 2nd parents {'GLYCOLYSIS-VARIANTS': 2} for GLYCOLYSIS\n",
      "GPMA-MONOMER has 2nd parents {'GLYCOLYSIS-VARIANTS': 2} for PWY-5484\n",
      "pruned to ['GLYCOLYSIS-VARIANTS', 'GLYCOLYSIS-VARIANTS']\n",
      "GPT-MONOMER has 2nd parents {'Nucleotide-Biosynthesis': 2} for PWY-6609\n",
      "GPT-MONOMER has 2nd parents {'Nucleotide-Biosynthesis': 2} for PWY-6620\n",
      "GPT-MONOMER has 2nd parents {'Nucleotide-Biosynthesis': 2} for SALVPURINE2-PWY\n",
      "pruned to ['Nucleotide-Biosynthesis', 'Nucleotide-Biosynthesis', 'Nucleotide-Biosynthesis']\n",
      "GRXB-MONOMER has 2nd parents {'Amino-Acid-Biosynthesis': 2} for PWY-7870\n",
      "GRXB-MONOMER has 2nd parents {'Other-biosynthesis': 2} for GLUT-REDOX-PWY\n",
      "GRXB-MONOMER has 2nd parents {'Arsenic-Detoxification': 2} for PWY-4621-1\n",
      "pruned to ['Amino-Acid-Biosynthesis', 'Other-biosynthesis', 'Arsenic-Detoxification']\n",
      "GRXC-MONOMER has 2nd parents {'Amino-Acid-Biosynthesis': 2} for PWY-7870\n",
      "GRXC-MONOMER has 2nd parents {'Other-biosynthesis': 2} for GLUT-REDOX-PWY\n",
      "GRXC-MONOMER has 2nd parents {'Arsenic-Detoxification': 2} for PWY-4621-1\n",
      "pruned to ['Amino-Acid-Biosynthesis', 'Other-biosynthesis', 'Arsenic-Detoxification']\n",
      "GSK-MONOMER has 2nd parents {'Nucleotide-Biosynthesis': 2} for PWY-6611\n",
      "GSK-MONOMER has 2nd parents {'Nucleotide-Biosynthesis': 2} for PWY-6618\n",
      "pruned to ['Nucleotide-Biosynthesis', 'Nucleotide-Biosynthesis']\n",
      "HCAA2-MONOMER has 2nd parents {'AROMATIC-COMPOUNDS-DEGRADATION': 2} for PWY-6690\n",
      "HCAA2-MONOMER has 2nd parents {'AROMATIC-COMPOUNDS-DEGRADATION': 2} for HCAMHPDEG-PWY\n",
      "pruned to ['AROMATIC-COMPOUNDS-DEGRADATION', 'AROMATIC-COMPOUNDS-DEGRADATION']\n",
      "HCAC-MONOMER has 2nd parents {'AROMATIC-COMPOUNDS-DEGRADATION': 2} for PWY-6690\n",
      "HCAC-MONOMER has 2nd parents {'AROMATIC-COMPOUNDS-DEGRADATION': 2} for HCAMHPDEG-PWY\n",
      "pruned to ['AROMATIC-COMPOUNDS-DEGRADATION', 'AROMATIC-COMPOUNDS-DEGRADATION']\n",
      "HCAD-MONOMER has 2nd parents {'AROMATIC-COMPOUNDS-DEGRADATION': 2} for PWY-6690\n",
      "HCAD-MONOMER has 2nd parents {'AROMATIC-COMPOUNDS-DEGRADATION': 2} for HCAMHPDEG-PWY\n",
      "pruned to ['AROMATIC-COMPOUNDS-DEGRADATION', 'AROMATIC-COMPOUNDS-DEGRADATION']\n",
      "HMP-P-KIN-MONOMER has 2nd parents {'Cofactor-Biosynthesis': 2} for PWY-6910\n",
      "HMP-P-KIN-MONOMER has 2nd parents {'Cofactor-Biosynthesis': 2} for PWY-6890\n",
      "pruned to ['Cofactor-Biosynthesis', 'Cofactor-Biosynthesis']\n",
      "HOLO-ACP-SYNTH-MONOMER has 2nd parents {'ENTBACSYN-PWY': 2} for ENTBACSYN-PWY\n",
      "HOLO-ACP-SYNTH-MONOMER has 2nd parents {'Protein-Modification': 2} for PWY-6012\n",
      "pruned to ['N/A', 'Protein-Modification']\n",
      "HOMOCYSMET-MONOMER has 2nd parents {'Cofactor-Biosynthesis': 2} for PWY-6151\n",
      "HOMOCYSMET-MONOMER has 2nd parents {'Amino-Acid-Biosynthesis': 2} for HOMOSER-METSYN-PWY\n",
      "pruned to ['Cofactor-Biosynthesis', 'Amino-Acid-Biosynthesis']\n",
      "HOMOCYSMETB12-MONOMER has 2nd parents {'Cofactor-Biosynthesis': 2} for 1CMET2-PWY\n",
      "HOMOCYSMETB12-MONOMER has 2nd parents {'Cofactor-Biosynthesis': 2} for PWY-6151\n",
      "HOMOCYSMETB12-MONOMER has 2nd parents {'Amino-Acid-Biosynthesis': 2} for HOMOSER-METSYN-PWY\n",
      "pruned to ['Cofactor-Biosynthesis', 'Cofactor-Biosynthesis', 'Amino-Acid-Biosynthesis']\n",
      "HYBA-MONOMER has 2nd parents {'Electron-Transfer': 2} for PWY0-1577\n",
      "HYBA-MONOMER has 2nd parents {'Electron-Transfer': 2} for PWY0-1578\n",
      "HYBA-MONOMER has 2nd parents {'Electron-Transfer': 2} for PWY0-1576\n",
      "pruned to ['Electron-Transfer', 'Electron-Transfer', 'Electron-Transfer']\n",
      "HYBC-MONOMER has 2nd parents {'Electron-Transfer': 2} for PWY0-1577\n",
      "HYBC-MONOMER has 2nd parents {'Electron-Transfer': 2} for PWY0-1578\n",
      "HYBC-MONOMER has 2nd parents {'Electron-Transfer': 2} for PWY0-1576\n",
      "pruned to ['Electron-Transfer', 'Electron-Transfer', 'Electron-Transfer']\n",
      "HYCBSMALL-MONOMER has 2nd parents {'FERMENTATION-PWY': 2} for FERMENTATION-PWY\n",
      "HYCBSMALL-MONOMER has 2nd parents {'Hydrogen-Production': 2} for PWY-6772\n",
      "pruned to ['N/A', 'Hydrogen-Production']\n",
      "HYCC-MONOMER has 2nd parents {'FERMENTATION-PWY': 2} for FERMENTATION-PWY\n",
      "HYCC-MONOMER has 2nd parents {'Hydrogen-Production': 2} for PWY-6772\n",
      "pruned to ['N/A', 'Hydrogen-Production']\n",
      "HYCD-MONOMER has 2nd parents {'FERMENTATION-PWY': 2} for FERMENTATION-PWY\n",
      "HYCD-MONOMER has 2nd parents {'Hydrogen-Production': 2} for PWY-6772\n",
      "pruned to ['N/A', 'Hydrogen-Production']\n",
      "HYCELARGE-MONOMER has 2nd parents {'FERMENTATION-PWY': 2} for FERMENTATION-PWY\n",
      "HYCELARGE-MONOMER has 2nd parents {'Hydrogen-Production': 2} for PWY-6772\n",
      "HYCELARGE-MONOMER has 2nd parents {'Cofactor-Biosynthesis': 2} for PWY-8319\n",
      "pruned to ['N/A', 'Hydrogen-Production', 'Cofactor-Biosynthesis']\n",
      "HYCF-MONOMER has 2nd parents {'FERMENTATION-PWY': 2} for FERMENTATION-PWY\n",
      "HYCF-MONOMER has 2nd parents {'Hydrogen-Production': 2} for PWY-6772\n",
      "pruned to ['N/A', 'Hydrogen-Production']\n",
      "HYCG-MONOMER has 2nd parents {'FERMENTATION-PWY': 2} for FERMENTATION-PWY\n",
      "HYCG-MONOMER has 2nd parents {'Hydrogen-Production': 2} for PWY-6772\n",
      "pruned to ['N/A', 'Hydrogen-Production']\n",
      "HYPOXANPRIBOSYLTRAN-MONOMER has 2nd parents {'Nucleotide-Biosynthesis': 2} for PWY-6609\n",
      "HYPOXANPRIBOSYLTRAN-MONOMER has 2nd parents {'Nucleotide-Biosynthesis': 2} for PWY-6620\n",
      "pruned to ['Nucleotide-Biosynthesis', 'Nucleotide-Biosynthesis']\n",
      "ISOCITDEH-SUBUNIT has 2nd parents {'FERMENTATION-PWY': 2} for FERMENTATION-PWY\n",
      "ISOCITDEH-SUBUNIT has 2nd parents {'TCA-VARIANTS': 2} for TCA\n",
      "pruned to ['N/A', 'TCA-VARIANTS']\n",
      "KDGALDOL-MONOMER has 2nd parents {'CARBOXYLATES-DEG': 2} for GALACTARDEG-PWY\n",
      "KDGALDOL-MONOMER has 2nd parents {'CARBOXYLATES-DEG': 2} for GLUCARDEG-PWY\n",
      "pruned to ['CARBOXYLATES-DEG', 'CARBOXYLATES-DEG']\n",
      "KDPGALDOL-4OH2OXOGLUTARALDOL-MONOMER has 2nd parents {'Entner-Duodoroff-Pathways': 2} for ENTNER-DOUDOROFF-PWY\n",
      "KDPGALDOL-4OH2OXOGLUTARALDOL-MONOMER has 2nd parents {'CARBOXYLATES-DEG': 2} for GALACTUROCAT-PWY\n",
      "KDPGALDOL-4OH2OXOGLUTARALDOL-MONOMER has 2nd parents {'CARBOXYLATES-DEG': 2} for PWY-7242\n",
      "pruned to ['Entner-Duodoroff-Pathways', 'CARBOXYLATES-DEG', 'CARBOXYLATES-DEG']\n",
      "KETOBUTFORMLY-INACT-MONOMER has 2nd parents {'PWY-5485': 2} for PWY-5485\n",
      "KETOBUTFORMLY-INACT-MONOMER has 2nd parents {'FERMENTATION-PWY': 2} for FERMENTATION-PWY\n",
      "KETOBUTFORMLY-INACT-MONOMER has 2nd parents {'Fermentation': 2} for PWY-5480\n",
      "KETOBUTFORMLY-INACT-MONOMER has 2nd parents {'Fermentation': 2} for PWY-5437\n",
      "pruned to ['N/A', 'N/A', 'Fermentation', 'Fermentation']\n",
      "KETOLREDUCTOISOM-MONOMER has 2nd parents {'Cofactor-Biosynthesis': 2} for PANTO-PWY\n",
      "KETOLREDUCTOISOM-MONOMER has 2nd parents {'Amino-Acid-Biosynthesis': 2} for VALSYN-PWY\n",
      "KETOLREDUCTOISOM-MONOMER has 2nd parents {'Amino-Acid-Biosynthesis': 2} for ILEUSYN-PWY\n",
      "pruned to ['Cofactor-Biosynthesis', 'Amino-Acid-Biosynthesis', 'Amino-Acid-Biosynthesis']\n",
      "LACTALDDEHYDROG-MONOMER has 2nd parents {'Carbohydrates-Degradation': 2} for DARABCATK12-PWY\n",
      "LACTALDDEHYDROG-MONOMER has 2nd parents {'Alcohol-Degradation': 2} for PWY0-1280\n",
      "LACTALDDEHYDROG-MONOMER has 2nd parents {'Aldehyde-Degradation': 2} for PWY0-1317\n",
      "pruned to ['Carbohydrates-Degradation', 'Alcohol-Degradation', 'Aldehyde-Degradation']\n",
      "LACTALDREDUCT-MONOMER has 2nd parents {'Alcohol-Degradation': 2} for PWY0-1280\n",
      "LACTALDREDUCT-MONOMER has 2nd parents {'Aldehyde-Degradation': 2} for PWY0-1315\n",
      "pruned to ['Alcohol-Degradation', 'Aldehyde-Degradation']\n",
      "LAUROYLACYLTRAN-MONOMER has 2nd parents {'Lipid-Biosynthesis': 2} for KDO-LIPASYN-PWY\n",
      "LAUROYLACYLTRAN-MONOMER has 2nd parents {'KDO-NAGLIPASYN-PWY': 2} for KDO-NAGLIPASYN-PWY\n",
      "pruned to ['Lipid-Biosynthesis', 'N/A']\n",
      "LDC2-MONOMER has 2nd parents {'Polyamine-Biosynthesis': 2} for PWY0-1601\n",
      "LDC2-MONOMER has 2nd parents {'Polyamine-Biosynthesis': 2} for PWY0-1303\n",
      "LDC2-MONOMER has 2nd parents {'Amino-Acid-Degradation': 2} for PWY0-461\n",
      "pruned to ['Polyamine-Biosynthesis', 'Polyamine-Biosynthesis', 'Amino-Acid-Degradation']\n",
      "LSERINEDEAM1-MONOMER has 2nd parents {'Amino-Acid-Degradation': 2} for PWY0-1608\n",
      "LSERINEDEAM1-MONOMER has 2nd parents {'Amino-Acid-Degradation': 2} for SERDEG-PWY\n",
      "pruned to ['Amino-Acid-Degradation', 'Amino-Acid-Degradation']\n",
      "LSERINEDEAM2-MONOMER has 2nd parents {'Amino-Acid-Degradation': 2} for PWY0-1608\n",
      "LSERINEDEAM2-MONOMER has 2nd parents {'Amino-Acid-Degradation': 2} for SERDEG-PWY\n",
      "pruned to ['Amino-Acid-Degradation', 'Amino-Acid-Degradation']\n",
      "LSERINEDEAM3-MONOMER has 2nd parents {'Amino-Acid-Degradation': 2} for PWY0-1608\n",
      "LSERINEDEAM3-MONOMER has 2nd parents {'Amino-Acid-Degradation': 2} for SERDEG-PWY\n",
      "pruned to ['Amino-Acid-Degradation', 'Amino-Acid-Degradation']\n",
      "LYSDECARBOX-MONOMER has 2nd parents {'Polyamine-Biosynthesis': 2} for PWY0-1601\n",
      "LYSDECARBOX-MONOMER has 2nd parents {'Polyamine-Biosynthesis': 2} for PWY0-1303\n",
      "LYSDECARBOX-MONOMER has 2nd parents {'Amino-Acid-Degradation': 2} for PWY0-461\n",
      "pruned to ['Polyamine-Biosynthesis', 'Polyamine-Biosynthesis', 'Amino-Acid-Degradation']\n",
      "LYXK-MONOMER has 2nd parents {'Carbohydrates-Degradation': 2} for LYXMET-PWY\n",
      "LYXK-MONOMER has 2nd parents {'CARBOXYLATES-DEG': 2} for PWY-6961\n",
      "pruned to ['Carbohydrates-Degradation', 'CARBOXYLATES-DEG']\n",
      "MALATE-DEHASE-MONOMER has 2nd parents {'FERMENTATION-PWY': 2} for FERMENTATION-PWY\n",
      "MALATE-DEHASE-MONOMER has 2nd parents {'TCA-VARIANTS': 2} for TCA\n",
      "MALATE-DEHASE-MONOMER has 2nd parents {'GLYOXYLATE-BYPASS': 2} for GLYOXYLATE-BYPASS\n",
      "MALATE-DEHASE-MONOMER has 2nd parents {'Carbohydrates-Biosynthesis': 2} for GLUCONEO-PWY\n",
      "pruned to ['N/A', 'TCA-VARIANTS', 'GLYOXYLATE-BYPASS', 'Carbohydrates-Biosynthesis']\n",
      "MALIC-NAD-MONOMER has 2nd parents {'TCA-VARIANTS': 2} for TCA\n",
      "MALIC-NAD-MONOMER has 2nd parents {'GLYOXYLATE-BYPASS': 2} for GLYOXYLATE-BYPASS\n",
      "MALIC-NAD-MONOMER has 2nd parents {'Carbohydrates-Biosynthesis': 2} for GLUCONEO-PWY\n",
      "pruned to ['TCA-VARIANTS', 'GLYOXYLATE-BYPASS', 'Carbohydrates-Biosynthesis']\n",
      "MANNPISOM-MONOMER has 2nd parents {'Carbohydrates-Biosynthesis': 2} for PWY-5659\n",
      "MANNPISOM-MONOMER has 2nd parents {'Carbohydrates-Degradation': 2} for MANNCAT-PWY\n",
      "pruned to ['Carbohydrates-Biosynthesis', 'Carbohydrates-Degradation']\n",
      "MANX-MONOMER has 2nd parents {'GLYCOLYSIS-VARIANTS': 2} for GLYCOLYSIS\n",
      "MANX-MONOMER has 2nd parents {'Carbohydrates-Degradation': 2} for MANNCAT-PWY\n",
      "pruned to ['GLYCOLYSIS-VARIANTS', 'Carbohydrates-Degradation']\n",
      "MANY-MONOMER has 2nd parents {'GLYCOLYSIS-VARIANTS': 2} for GLYCOLYSIS\n",
      "MANY-MONOMER has 2nd parents {'Carbohydrates-Degradation': 2} for MANNCAT-PWY\n",
      "pruned to ['GLYCOLYSIS-VARIANTS', 'Carbohydrates-Degradation']\n",
      "MANZ-MONOMER has 2nd parents {'GLYCOLYSIS-VARIANTS': 2} for GLYCOLYSIS\n",
      "MANZ-MONOMER has 2nd parents {'Carbohydrates-Degradation': 2} for MANNCAT-PWY\n",
      "pruned to ['GLYCOLYSIS-VARIANTS', 'Carbohydrates-Degradation']\n",
      "METHYLMALONYL-COA-MUT-MONOMER has 2nd parents {'CARBOXYLATES-DEG': 2} for PWY0-43\n",
      "METHYLMALONYL-COA-MUT-MONOMER has 2nd parents {'CARBOXYLATES-DEG': 2} for PROPIONMET-PWY\n",
      "pruned to ['CARBOXYLATES-DEG', 'CARBOXYLATES-DEG']\n",
      "MHPCHYDROL-MONOMER has 2nd parents {'AROMATIC-COMPOUNDS-DEGRADATION': 2} for PWY-6690\n",
      "MHPCHYDROL-MONOMER has 2nd parents {'AROMATIC-COMPOUNDS-DEGRADATION': 2} for HCAMHPDEG-PWY\n",
      "pruned to ['AROMATIC-COMPOUNDS-DEGRADATION', 'AROMATIC-COMPOUNDS-DEGRADATION']\n",
      "MHPF-MONOMER has 2nd parents {'Fermentation': 2} for PWY-5480\n",
      "MHPF-MONOMER has 2nd parents {'Carbohydrates-Degradation': 2} for PWY-7180\n",
      "MHPF-MONOMER has 2nd parents {'Amino-Acid-Degradation': 2} for PWY-5436\n",
      "MHPF-MONOMER has 2nd parents {'Alcohol-Degradation': 2} for ETOH-ACETYLCOA-ANA-PWY\n",
      "MHPF-MONOMER has 2nd parents {'CARBOXYLATES-DEG': 2} for PWY-5162\n",
      "MHPF-MONOMER has 2nd parents {'AMINE-DEG': 2} for PWY0-1477\n",
      "pruned to ['Fermentation', 'Carbohydrates-Degradation', 'Amino-Acid-Degradation', 'Alcohol-Degradation', 'CARBOXYLATES-DEG', 'AMINE-DEG']\n",
      "MHPHYDROXY-MONOMER has 2nd parents {'AROMATIC-COMPOUNDS-DEGRADATION': 2} for PWY-6690\n",
      "MHPHYDROXY-MONOMER has 2nd parents {'AROMATIC-COMPOUNDS-DEGRADATION': 2} for HCAMHPDEG-PWY\n",
      "pruned to ['AROMATIC-COMPOUNDS-DEGRADATION', 'AROMATIC-COMPOUNDS-DEGRADATION']\n",
      "MONOMER0-145 has 2nd parents {'Electron-Transfer': 2} for PWY0-1577\n",
      "MONOMER0-145 has 2nd parents {'Electron-Transfer': 2} for PWY0-1578\n",
      "MONOMER0-145 has 2nd parents {'Electron-Transfer': 2} for PWY0-1576\n",
      "pruned to ['Electron-Transfer', 'Electron-Transfer', 'Electron-Transfer']\n",
      "MONOMER0-148 has 2nd parents {'KETOGLUCONMET-PWY': 2} for KETOGLUCONMET-PWY\n",
      "MONOMER0-148 has 2nd parents {'Methylglyoxal-Detoxification': 2, 'Aldehyde-Degradation': 2} for PWY-5453\n",
      "pruned to ['N/A', 'Methylglyoxal-Detoxification']\n",
      "MONOMER0-149 has 2nd parents {'KETOGLUCONMET-PWY': 2} for KETOGLUCONMET-PWY\n",
      "MONOMER0-149 has 2nd parents {'Methylglyoxal-Detoxification': 2, 'Aldehyde-Degradation': 2} for PWY-5453\n",
      "pruned to ['N/A', 'Methylglyoxal-Detoxification']\n",
      "MONOMER0-2663 has 2nd parents {'Electron-Transfer': 2} for PWY0-1353\n",
      "MONOMER0-2663 has 2nd parents {'Electron-Transfer': 2} for PWY0-1334\n",
      "MONOMER0-2663 has 2nd parents {'Electron-Transfer': 2} for PWY0-1568\n",
      "MONOMER0-2663 has 2nd parents {'Electron-Transfer': 2} for PWY-7545\n",
      "pruned to ['Electron-Transfer', 'Electron-Transfer', 'Electron-Transfer', 'Electron-Transfer']\n",
      "MONOMER0-2822 has 2nd parents {'Electron-Transfer': 2} for PWY0-1353\n",
      "MONOMER0-2822 has 2nd parents {'Electron-Transfer': 2} for PWY0-1334\n",
      "MONOMER0-2822 has 2nd parents {'Electron-Transfer': 2} for PWY0-1568\n",
      "MONOMER0-2822 has 2nd parents {'Electron-Transfer': 2} for PWY-7545\n",
      "pruned to ['Electron-Transfer', 'Electron-Transfer', 'Electron-Transfer', 'Electron-Transfer']\n",
      "MONOMER0-4521 has 2nd parents {'PEPTIDOGLYCANSYN-PWY': 2} for PEPTIDOGLYCANSYN-PWY\n",
      "MONOMER0-4521 has 2nd parents {'Cell-Structure-Biosynthesis': 2} for PWY0-1586\n",
      "pruned to ['N/A', 'Cell-Structure-Biosynthesis']\n",
      "MONOMER0-561 has 2nd parents {'CARBOXYLATES-DEG': 2} for GLYCOLATEMET-PWY\n",
      "MONOMER0-561 has 2nd parents {'CARBOXYLATES-DEG': 2} for GLYOXDEG-PWY\n",
      "pruned to ['CARBOXYLATES-DEG', 'CARBOXYLATES-DEG']\n",
      "MYRISTOYLACYLTRAN-MONOMER has 2nd parents {'Lipid-Biosynthesis': 2} for KDO-LIPASYN-PWY\n",
      "MYRISTOYLACYLTRAN-MONOMER has 2nd parents {'KDO-NAGLIPASYN-PWY': 2} for KDO-NAGLIPASYN-PWY\n",
      "pruned to ['Lipid-Biosynthesis', 'N/A']\n",
      "NAD-SYNTH-MONOMER has 2nd parents {'Cofactor-Biosynthesis': 2} for PYRIDNUCSAL-PWY\n",
      "NAD-SYNTH-MONOMER has 2nd parents {'Cofactor-Biosynthesis': 2} for PYRIDNUCSYN-PWY\n",
      "NAD-SYNTH-MONOMER has 2nd parents {'Cofactor-Biosynthesis': 2} for PWY-7761\n",
      "pruned to ['Cofactor-Biosynthesis', 'Cofactor-Biosynthesis', 'Cofactor-Biosynthesis']\n",
      "NADH-DHII-MONOMER has 2nd parents {'Electron-Transfer': 2} for PWY0-1567\n",
      "NADH-DHII-MONOMER has 2nd parents {'Electron-Transfer': 2} for PWY0-1568\n",
      "NADH-DHII-MONOMER has 2nd parents {'Electron-Transfer': 2} for PWY0-1573\n",
      "pruned to ['Electron-Transfer', 'Electron-Transfer', 'Electron-Transfer']\n",
      "NAG1P-URIDYLTRANS-MONOMER has 2nd parents {'Carbohydrates-Biosynthesis': 2} for UDPNAGSYN-PWY\n",
      "NAG1P-URIDYLTRANS-MONOMER has 2nd parents {'Other-Degradation': 2} for PWY0-1261\n",
      "pruned to ['Carbohydrates-Biosynthesis', 'Other-Degradation']\n",
      "NAG6PDEACET-MONOMER has 2nd parents {'AMINE-DEG': 2} for GLUAMCAT-PWY\n",
      "NAG6PDEACET-MONOMER has 2nd parents {'Other-Degradation': 2} for PWY0-1261\n",
      "pruned to ['AMINE-DEG', 'Other-Degradation']\n",
      "NARG-MONOMER has 2nd parents {'Electron-Transfer': 2} for PWY0-1352\n",
      "NARG-MONOMER has 2nd parents {'Electron-Transfer': 2} for PWY0-1573\n",
      "NARG-MONOMER has 2nd parents {'Electron-Transfer': 2} for PWY0-1581\n",
      "NARG-MONOMER has 2nd parents {'Electron-Transfer': 2} for PWY0-1321\n",
      "pruned to ['Electron-Transfer', 'Electron-Transfer', 'Electron-Transfer', 'Electron-Transfer']\n",
      "NARH-MONOMER has 2nd parents {'Electron-Transfer': 2} for PWY0-1352\n",
      "NARH-MONOMER has 2nd parents {'Electron-Transfer': 2} for PWY0-1573\n",
      "NARH-MONOMER has 2nd parents {'Electron-Transfer': 2} for PWY0-1581\n",
      "NARH-MONOMER has 2nd parents {'Electron-Transfer': 2} for PWY0-1321\n",
      "pruned to ['Electron-Transfer', 'Electron-Transfer', 'Electron-Transfer', 'Electron-Transfer']\n",
      "NARI-MONOMER has 2nd parents {'Electron-Transfer': 2} for PWY0-1352\n",
      "NARI-MONOMER has 2nd parents {'Electron-Transfer': 2} for PWY0-1573\n",
      "NARI-MONOMER has 2nd parents {'Electron-Transfer': 2} for PWY0-1581\n",
      "NARI-MONOMER has 2nd parents {'Electron-Transfer': 2} for PWY0-1321\n",
      "pruned to ['Electron-Transfer', 'Electron-Transfer', 'Electron-Transfer', 'Electron-Transfer']\n",
      "NARL-MONOMER has 2nd parents {'PWY0-1515': 2} for PWY0-1515\n",
      "NARL-MONOMER has 2nd parents {'PWY0-1514': 2} for PWY0-1514\n",
      "pruned to ['PWY0-1515', 'PWY0-1514']\n",
      "NARP-MONOMER has 2nd parents {'PWY0-1515': 2} for PWY0-1515\n",
      "NARP-MONOMER has 2nd parents {'PWY0-1514': 2} for PWY0-1514\n",
      "pruned to ['PWY0-1515', 'PWY0-1514']\n",
      "NARV-MONOMER has 2nd parents {'Electron-Transfer': 2} for PWY0-1352\n",
      "NARV-MONOMER has 2nd parents {'Electron-Transfer': 2} for PWY0-1581\n",
      "NARV-MONOMER has 2nd parents {'Electron-Transfer': 2} for PWY0-1321\n",
      "pruned to ['Electron-Transfer', 'Electron-Transfer', 'Electron-Transfer']\n",
      "NARY-MONOMER has 2nd parents {'Electron-Transfer': 2} for PWY0-1352\n",
      "NARY-MONOMER has 2nd parents {'Electron-Transfer': 2} for PWY0-1581\n",
      "NARY-MONOMER has 2nd parents {'Electron-Transfer': 2} for PWY0-1321\n",
      "pruned to ['Electron-Transfer', 'Electron-Transfer', 'Electron-Transfer']\n",
      "NARZ-MONOMER has 2nd parents {'Electron-Transfer': 2} for PWY0-1352\n",
      "NARZ-MONOMER has 2nd parents {'Electron-Transfer': 2} for PWY0-1581\n",
      "NARZ-MONOMER has 2nd parents {'Electron-Transfer': 2} for PWY0-1321\n",
      "pruned to ['Electron-Transfer', 'Electron-Transfer', 'Electron-Transfer']\n",
      "NICONUCADENYLYLTRAN-MONOMER has 2nd parents {'Cofactor-Biosynthesis': 2} for PYRIDNUCSAL-PWY\n",
      "NICONUCADENYLYLTRAN-MONOMER has 2nd parents {'Cofactor-Biosynthesis': 2} for PYRIDNUCSYN-PWY\n",
      "NICONUCADENYLYLTRAN-MONOMER has 2nd parents {'Cofactor-Biosynthesis': 2} for PWY-7761\n",
      "pruned to ['Cofactor-Biosynthesis', 'Cofactor-Biosynthesis', 'Cofactor-Biosynthesis']\n",
      "NRDA-MONOMER has 2nd parents {'PWY-7184': 2, 'Nucleotide-Biosynthesis': 2} for PWY-7184\n",
      "NRDA-MONOMER has 2nd parents {'Nucleotide-Biosynthesis': 2} for PWY-7222\n",
      "NRDA-MONOMER has 2nd parents {'Nucleotide-Biosynthesis': 2} for PWY-7220\n",
      "NRDA-MONOMER has 2nd parents {'PWY0-166': 2} for PWY0-166\n",
      "pruned to ['PWY-7184', 'Nucleotide-Biosynthesis', 'Nucleotide-Biosynthesis', 'N/A']\n",
      "NRDB-MONOMER has 2nd parents {'PWY-7184': 2, 'Nucleotide-Biosynthesis': 2} for PWY-7184\n",
      "NRDB-MONOMER has 2nd parents {'Nucleotide-Biosynthesis': 2} for PWY-7222\n",
      "NRDB-MONOMER has 2nd parents {'Nucleotide-Biosynthesis': 2} for PWY-7220\n",
      "NRDB-MONOMER has 2nd parents {'PWY0-166': 2} for PWY0-166\n",
      "pruned to ['PWY-7184', 'Nucleotide-Biosynthesis', 'Nucleotide-Biosynthesis', 'N/A']\n",
      "NRDE-MONOMER has 2nd parents {'PWY-7184': 2, 'Nucleotide-Biosynthesis': 2} for PWY-7184\n",
      "NRDE-MONOMER has 2nd parents {'Nucleotide-Biosynthesis': 2} for PWY-7222\n",
      "NRDE-MONOMER has 2nd parents {'Nucleotide-Biosynthesis': 2} for PWY-7220\n",
      "NRDE-MONOMER has 2nd parents {'PWY0-166': 2} for PWY0-166\n",
      "pruned to ['PWY-7184', 'Nucleotide-Biosynthesis', 'Nucleotide-Biosynthesis', 'N/A']\n",
      "NRDF-MONOMER has 2nd parents {'PWY-7184': 2, 'Nucleotide-Biosynthesis': 2} for PWY-7184\n",
      "NRDF-MONOMER has 2nd parents {'Nucleotide-Biosynthesis': 2} for PWY-7222\n",
      "NRDF-MONOMER has 2nd parents {'Nucleotide-Biosynthesis': 2} for PWY-7220\n",
      "NRDF-MONOMER has 2nd parents {'PWY0-166': 2} for PWY0-166\n",
      "pruned to ['PWY-7184', 'Nucleotide-Biosynthesis', 'Nucleotide-Biosynthesis', 'N/A']\n",
      "NUCLEOSIDE-DIP-KIN-MONOMER has 2nd parents {'PWY-7184': 2, 'Nucleotide-Biosynthesis': 2} for PWY-7184\n",
      "NUCLEOSIDE-DIP-KIN-MONOMER has 2nd parents {'PWY-7197': 2, 'Nucleotide-Biosynthesis': 2} for PWY-7197\n",
      "NUCLEOSIDE-DIP-KIN-MONOMER has 2nd parents {'Nucleotide-Biosynthesis': 2} for PWY-7222\n",
      "NUCLEOSIDE-DIP-KIN-MONOMER has 2nd parents {'Nucleotide-Biosynthesis': 2} for PWY-7220\n",
      "NUCLEOSIDE-DIP-KIN-MONOMER has 2nd parents {'PWY0-166': 2} for PWY0-166\n",
      "NUCLEOSIDE-DIP-KIN-MONOMER has 2nd parents {'Nucleotide-Biosynthesis': 2} for PWY-7187\n",
      "NUCLEOSIDE-DIP-KIN-MONOMER has 2nd parents {'Nucleotide-Biosynthesis': 2} for PWY-7221\n",
      "NUCLEOSIDE-DIP-KIN-MONOMER has 2nd parents {'Nucleotide-Biosynthesis': 2} for PWY0-163\n",
      "NUCLEOSIDE-DIP-KIN-MONOMER has 2nd parents {'Nucleotide-Biosynthesis': 2} for PWY-7205\n",
      "NUCLEOSIDE-DIP-KIN-MONOMER has 2nd parents {'Nucleotide-Biosynthesis': 2} for PWY-7176\n",
      "NUCLEOSIDE-DIP-KIN-MONOMER has 2nd parents {'Metabolic-Regulators': 2} for PPGPPMET-PWY\n",
      "pruned to ['PWY-7184', 'PWY-7197', 'Nucleotide-Biosynthesis', 'Nucleotide-Biosynthesis', 'N/A', 'Nucleotide-Biosynthesis', 'Nucleotide-Biosynthesis', 'Nucleotide-Biosynthesis', 'Nucleotide-Biosynthesis', 'Nucleotide-Biosynthesis', 'Metabolic-Regulators']\n",
      "NUOA-MONOMER has 2nd parents {'Electron-Transfer': 2} for PWY0-1335\n",
      "NUOA-MONOMER has 2nd parents {'Electron-Transfer': 2} for PWY0-1590\n",
      "NUOA-MONOMER has 2nd parents {'Electron-Transfer': 2} for PWY0-1334\n",
      "NUOA-MONOMER has 2nd parents {'Electron-Transfer': 2} for PWY0-1348\n",
      "NUOA-MONOMER has 2nd parents {'Electron-Transfer': 2} for PWY0-1336\n",
      "NUOA-MONOMER has 2nd parents {'Electron-Transfer': 2} for PWY0-1347\n",
      "NUOA-MONOMER has 2nd parents {'Electron-Transfer': 2} for PWY0-1352\n",
      "pruned to ['Electron-Transfer', 'Electron-Transfer', 'Electron-Transfer', 'Electron-Transfer', 'Electron-Transfer', 'Electron-Transfer', 'Electron-Transfer']\n",
      "NUOB-MONOMER has 2nd parents {'Electron-Transfer': 2} for PWY0-1335\n",
      "NUOB-MONOMER has 2nd parents {'Electron-Transfer': 2} for PWY0-1590\n",
      "NUOB-MONOMER has 2nd parents {'Electron-Transfer': 2} for PWY0-1334\n",
      "NUOB-MONOMER has 2nd parents {'Electron-Transfer': 2} for PWY0-1348\n",
      "NUOB-MONOMER has 2nd parents {'Electron-Transfer': 2} for PWY0-1336\n",
      "NUOB-MONOMER has 2nd parents {'Electron-Transfer': 2} for PWY0-1347\n",
      "NUOB-MONOMER has 2nd parents {'Electron-Transfer': 2} for PWY0-1352\n",
      "pruned to ['Electron-Transfer', 'Electron-Transfer', 'Electron-Transfer', 'Electron-Transfer', 'Electron-Transfer', 'Electron-Transfer', 'Electron-Transfer']\n",
      "NUOC-MONOMER has 2nd parents {'Electron-Transfer': 2} for PWY0-1335\n",
      "NUOC-MONOMER has 2nd parents {'Electron-Transfer': 2} for PWY0-1590\n",
      "NUOC-MONOMER has 2nd parents {'Electron-Transfer': 2} for PWY0-1334\n",
      "NUOC-MONOMER has 2nd parents {'Electron-Transfer': 2} for PWY0-1348\n",
      "NUOC-MONOMER has 2nd parents {'Electron-Transfer': 2} for PWY0-1336\n",
      "NUOC-MONOMER has 2nd parents {'Electron-Transfer': 2} for PWY0-1347\n",
      "NUOC-MONOMER has 2nd parents {'Electron-Transfer': 2} for PWY0-1352\n",
      "pruned to ['Electron-Transfer', 'Electron-Transfer', 'Electron-Transfer', 'Electron-Transfer', 'Electron-Transfer', 'Electron-Transfer', 'Electron-Transfer']\n",
      "NUOE-MONOMER has 2nd parents {'Electron-Transfer': 2} for PWY0-1335\n",
      "NUOE-MONOMER has 2nd parents {'Electron-Transfer': 2} for PWY0-1590\n",
      "NUOE-MONOMER has 2nd parents {'Electron-Transfer': 2} for PWY0-1334\n",
      "NUOE-MONOMER has 2nd parents {'Electron-Transfer': 2} for PWY0-1348\n",
      "NUOE-MONOMER has 2nd parents {'Electron-Transfer': 2} for PWY0-1336\n",
      "NUOE-MONOMER has 2nd parents {'Electron-Transfer': 2} for PWY0-1347\n",
      "NUOE-MONOMER has 2nd parents {'Electron-Transfer': 2} for PWY0-1352\n",
      "pruned to ['Electron-Transfer', 'Electron-Transfer', 'Electron-Transfer', 'Electron-Transfer', 'Electron-Transfer', 'Electron-Transfer', 'Electron-Transfer']\n",
      "NUOF-MONOMER has 2nd parents {'Electron-Transfer': 2} for PWY0-1335\n",
      "NUOF-MONOMER has 2nd parents {'Electron-Transfer': 2} for PWY0-1590\n",
      "NUOF-MONOMER has 2nd parents {'Electron-Transfer': 2} for PWY0-1334\n",
      "NUOF-MONOMER has 2nd parents {'Electron-Transfer': 2} for PWY0-1348\n",
      "NUOF-MONOMER has 2nd parents {'Electron-Transfer': 2} for PWY0-1336\n",
      "NUOF-MONOMER has 2nd parents {'Electron-Transfer': 2} for PWY0-1347\n",
      "NUOF-MONOMER has 2nd parents {'Electron-Transfer': 2} for PWY0-1352\n",
      "pruned to ['Electron-Transfer', 'Electron-Transfer', 'Electron-Transfer', 'Electron-Transfer', 'Electron-Transfer', 'Electron-Transfer', 'Electron-Transfer']\n",
      "NUOG-MONOMER has 2nd parents {'Electron-Transfer': 2} for PWY0-1335\n",
      "NUOG-MONOMER has 2nd parents {'Electron-Transfer': 2} for PWY0-1590\n",
      "NUOG-MONOMER has 2nd parents {'Electron-Transfer': 2} for PWY0-1334\n",
      "NUOG-MONOMER has 2nd parents {'Electron-Transfer': 2} for PWY0-1348\n",
      "NUOG-MONOMER has 2nd parents {'Electron-Transfer': 2} for PWY0-1336\n",
      "NUOG-MONOMER has 2nd parents {'Electron-Transfer': 2} for PWY0-1347\n",
      "NUOG-MONOMER has 2nd parents {'Electron-Transfer': 2} for PWY0-1352\n",
      "pruned to ['Electron-Transfer', 'Electron-Transfer', 'Electron-Transfer', 'Electron-Transfer', 'Electron-Transfer', 'Electron-Transfer', 'Electron-Transfer']\n",
      "NUOH-MONOMER has 2nd parents {'Electron-Transfer': 2} for PWY0-1335\n",
      "NUOH-MONOMER has 2nd parents {'Electron-Transfer': 2} for PWY0-1590\n",
      "NUOH-MONOMER has 2nd parents {'Electron-Transfer': 2} for PWY0-1334\n",
      "NUOH-MONOMER has 2nd parents {'Electron-Transfer': 2} for PWY0-1348\n",
      "NUOH-MONOMER has 2nd parents {'Electron-Transfer': 2} for PWY0-1336\n",
      "NUOH-MONOMER has 2nd parents {'Electron-Transfer': 2} for PWY0-1347\n",
      "NUOH-MONOMER has 2nd parents {'Electron-Transfer': 2} for PWY0-1352\n",
      "pruned to ['Electron-Transfer', 'Electron-Transfer', 'Electron-Transfer', 'Electron-Transfer', 'Electron-Transfer', 'Electron-Transfer', 'Electron-Transfer']\n",
      "NUOI-MONOMER has 2nd parents {'Electron-Transfer': 2} for PWY0-1335\n",
      "NUOI-MONOMER has 2nd parents {'Electron-Transfer': 2} for PWY0-1590\n",
      "NUOI-MONOMER has 2nd parents {'Electron-Transfer': 2} for PWY0-1334\n",
      "NUOI-MONOMER has 2nd parents {'Electron-Transfer': 2} for PWY0-1348\n",
      "NUOI-MONOMER has 2nd parents {'Electron-Transfer': 2} for PWY0-1336\n",
      "NUOI-MONOMER has 2nd parents {'Electron-Transfer': 2} for PWY0-1347\n",
      "NUOI-MONOMER has 2nd parents {'Electron-Transfer': 2} for PWY0-1352\n",
      "pruned to ['Electron-Transfer', 'Electron-Transfer', 'Electron-Transfer', 'Electron-Transfer', 'Electron-Transfer', 'Electron-Transfer', 'Electron-Transfer']\n",
      "NUOJ-MONOMER has 2nd parents {'Electron-Transfer': 2} for PWY0-1335\n",
      "NUOJ-MONOMER has 2nd parents {'Electron-Transfer': 2} for PWY0-1590\n",
      "NUOJ-MONOMER has 2nd parents {'Electron-Transfer': 2} for PWY0-1334\n",
      "NUOJ-MONOMER has 2nd parents {'Electron-Transfer': 2} for PWY0-1348\n",
      "NUOJ-MONOMER has 2nd parents {'Electron-Transfer': 2} for PWY0-1336\n",
      "NUOJ-MONOMER has 2nd parents {'Electron-Transfer': 2} for PWY0-1347\n",
      "NUOJ-MONOMER has 2nd parents {'Electron-Transfer': 2} for PWY0-1352\n",
      "pruned to ['Electron-Transfer', 'Electron-Transfer', 'Electron-Transfer', 'Electron-Transfer', 'Electron-Transfer', 'Electron-Transfer', 'Electron-Transfer']\n",
      "NUOK-MONOMER has 2nd parents {'Electron-Transfer': 2} for PWY0-1335\n",
      "NUOK-MONOMER has 2nd parents {'Electron-Transfer': 2} for PWY0-1590\n",
      "NUOK-MONOMER has 2nd parents {'Electron-Transfer': 2} for PWY0-1334\n",
      "NUOK-MONOMER has 2nd parents {'Electron-Transfer': 2} for PWY0-1348\n",
      "NUOK-MONOMER has 2nd parents {'Electron-Transfer': 2} for PWY0-1336\n",
      "NUOK-MONOMER has 2nd parents {'Electron-Transfer': 2} for PWY0-1347\n",
      "NUOK-MONOMER has 2nd parents {'Electron-Transfer': 2} for PWY0-1352\n",
      "pruned to ['Electron-Transfer', 'Electron-Transfer', 'Electron-Transfer', 'Electron-Transfer', 'Electron-Transfer', 'Electron-Transfer', 'Electron-Transfer']\n",
      "NUOL-MONOMER has 2nd parents {'Electron-Transfer': 2} for PWY0-1335\n",
      "NUOL-MONOMER has 2nd parents {'Electron-Transfer': 2} for PWY0-1590\n",
      "NUOL-MONOMER has 2nd parents {'Electron-Transfer': 2} for PWY0-1334\n",
      "NUOL-MONOMER has 2nd parents {'Electron-Transfer': 2} for PWY0-1348\n",
      "NUOL-MONOMER has 2nd parents {'Electron-Transfer': 2} for PWY0-1336\n",
      "NUOL-MONOMER has 2nd parents {'Electron-Transfer': 2} for PWY0-1347\n",
      "NUOL-MONOMER has 2nd parents {'Electron-Transfer': 2} for PWY0-1352\n",
      "pruned to ['Electron-Transfer', 'Electron-Transfer', 'Electron-Transfer', 'Electron-Transfer', 'Electron-Transfer', 'Electron-Transfer', 'Electron-Transfer']\n",
      "NUOM-MONOMER has 2nd parents {'Electron-Transfer': 2} for PWY0-1335\n",
      "NUOM-MONOMER has 2nd parents {'Electron-Transfer': 2} for PWY0-1590\n",
      "NUOM-MONOMER has 2nd parents {'Electron-Transfer': 2} for PWY0-1334\n",
      "NUOM-MONOMER has 2nd parents {'Electron-Transfer': 2} for PWY0-1348\n",
      "NUOM-MONOMER has 2nd parents {'Electron-Transfer': 2} for PWY0-1336\n",
      "NUOM-MONOMER has 2nd parents {'Electron-Transfer': 2} for PWY0-1347\n",
      "NUOM-MONOMER has 2nd parents {'Electron-Transfer': 2} for PWY0-1352\n",
      "pruned to ['Electron-Transfer', 'Electron-Transfer', 'Electron-Transfer', 'Electron-Transfer', 'Electron-Transfer', 'Electron-Transfer', 'Electron-Transfer']\n",
      "NUON-MONOMER has 2nd parents {'Electron-Transfer': 2} for PWY0-1335\n",
      "NUON-MONOMER has 2nd parents {'Electron-Transfer': 2} for PWY0-1590\n",
      "NUON-MONOMER has 2nd parents {'Electron-Transfer': 2} for PWY0-1334\n",
      "NUON-MONOMER has 2nd parents {'Electron-Transfer': 2} for PWY0-1348\n",
      "NUON-MONOMER has 2nd parents {'Electron-Transfer': 2} for PWY0-1336\n",
      "NUON-MONOMER has 2nd parents {'Electron-Transfer': 2} for PWY0-1347\n",
      "NUON-MONOMER has 2nd parents {'Electron-Transfer': 2} for PWY0-1352\n",
      "pruned to ['Electron-Transfer', 'Electron-Transfer', 'Electron-Transfer', 'Electron-Transfer', 'Electron-Transfer', 'Electron-Transfer', 'Electron-Transfer']\n",
      "PABASYN-COMPI-MONOMER has 2nd parents {'AROMATIC-COMPOUNDS-BIOSYN': 2} for PWY-6543\n",
      "PABASYN-COMPI-MONOMER has 2nd parents {'Amino-Acid-Biosynthesis': 2} for GLUTSYN-PWY\n",
      "PABASYN-COMPI-MONOMER has 2nd parents {'Amino-Acid-Degradation': 2} for GLUTAMINDEG-PWY\n",
      "PABASYN-COMPI-MONOMER has 2nd parents {'Noncarbon-Nutrients': 2} for AMMASSIM-PWY\n",
      "pruned to ['AROMATIC-COMPOUNDS-BIOSYN', 'Amino-Acid-Biosynthesis', 'Amino-Acid-Degradation', 'Noncarbon-Nutrients']\n",
      "PABASYN-COMPII-MONOMER has 2nd parents {'AROMATIC-COMPOUNDS-BIOSYN': 2} for PWY-6543\n",
      "PABASYN-COMPII-MONOMER has 2nd parents {'Amino-Acid-Biosynthesis': 2} for GLUTSYN-PWY\n",
      "PABASYN-COMPII-MONOMER has 2nd parents {'Amino-Acid-Degradation': 2} for GLUTAMINDEG-PWY\n",
      "PABASYN-COMPII-MONOMER has 2nd parents {'Noncarbon-Nutrients': 2} for AMMASSIM-PWY\n",
      "pruned to ['AROMATIC-COMPOUNDS-BIOSYN', 'Amino-Acid-Biosynthesis', 'Amino-Acid-Degradation', 'Noncarbon-Nutrients']\n",
      "PDXH-MONOMER has 2nd parents {'Cofactor-Biosynthesis': 2} for PYRIDOXSYN-PWY\n",
      "PDXH-MONOMER has 2nd parents {'Cofactor-Biosynthesis': 2} for PLPSAL-PWY\n",
      "pruned to ['Cofactor-Biosynthesis', 'Cofactor-Biosynthesis']\n",
      "PDXK-MONOMER has 2nd parents {'Cofactor-Biosynthesis': 2} for PWY-6910\n",
      "PDXK-MONOMER has 2nd parents {'Cofactor-Biosynthesis': 2} for PLPSAL-PWY\n",
      "pruned to ['Cofactor-Biosynthesis', 'Cofactor-Biosynthesis']\n",
      "PEPSYNTH-MONOMER has 2nd parents {'GLYCOLYSIS-VARIANTS': 2} for GLYCOLYSIS\n",
      "PEPSYNTH-MONOMER has 2nd parents {'GLYCOLYSIS-VARIANTS': 2} for PWY-5484\n",
      "PEPSYNTH-MONOMER has 2nd parents {'Carbohydrates-Biosynthesis': 2} for GLUCONEO-PWY\n",
      "pruned to ['GLYCOLYSIS-VARIANTS', 'GLYCOLYSIS-VARIANTS', 'Carbohydrates-Biosynthesis']\n",
      "PGK has 2nd parents {'GLYCOLYSIS-VARIANTS': 2} for GLYCOLYSIS\n",
      "PGK has 2nd parents {'GLYCOLYSIS-VARIANTS': 2} for PWY-5484\n",
      "PGK has 2nd parents {'Carbohydrates-Biosynthesis': 2} for GLUCONEO-PWY\n",
      "pruned to ['GLYCOLYSIS-VARIANTS', 'GLYCOLYSIS-VARIANTS', 'Carbohydrates-Biosynthesis']\n",
      "PGLUCISOM has 2nd parents {'GLYCOLYSIS-VARIANTS': 2} for GLYCOLYSIS\n",
      "PGLUCISOM has 2nd parents {'Carbohydrates-Biosynthesis': 2} for GLUCONEO-PWY\n",
      "PGLUCISOM has 2nd parents {'Carbohydrates-Biosynthesis': 2} for UDPNAGSYN-PWY\n",
      "PGLUCISOM has 2nd parents {'Carbohydrates-Biosynthesis': 2} for PWY-5659\n",
      "pruned to ['GLYCOLYSIS-VARIANTS', 'Carbohydrates-Biosynthesis', 'Carbohydrates-Biosynthesis', 'Carbohydrates-Biosynthesis']\n",
      "PGMI-MONOMER has 2nd parents {'GLYCOLYSIS-VARIANTS': 2} for GLYCOLYSIS\n",
      "PGMI-MONOMER has 2nd parents {'GLYCOLYSIS-VARIANTS': 2} for PWY-5484\n",
      "PGMI-MONOMER has 2nd parents {'Carbohydrates-Biosynthesis': 2} for GLUCONEO-PWY\n",
      "pruned to ['GLYCOLYSIS-VARIANTS', 'GLYCOLYSIS-VARIANTS', 'Carbohydrates-Biosynthesis']\n",
      "PGPPHOSPHAA-MONOMER has 2nd parents {'Lipid-Biosynthesis': 2} for PWY0-1545\n",
      "PGPPHOSPHAA-MONOMER has 2nd parents {'Lipid-Biosynthesis': 2} for PWY-5668\n",
      "pruned to ['Lipid-Biosynthesis', 'Lipid-Biosynthesis']\n",
      "PGPPHOSPHAB-MONOMER has 2nd parents {'Cofactor-Biosynthesis': 2} for PWY-5785\n",
      "PGPPHOSPHAB-MONOMER has 2nd parents {'Lipid-Biosynthesis': 2} for PWY0-1545\n",
      "PGPPHOSPHAB-MONOMER has 2nd parents {'Lipid-Biosynthesis': 2} for PWY-5668\n",
      "pruned to ['Cofactor-Biosynthesis', 'Lipid-Biosynthesis', 'Lipid-Biosynthesis']\n",
      "PHENPRODIOLDEHYDROG-MONOMER has 2nd parents {'AROMATIC-COMPOUNDS-DEGRADATION': 2} for PWY-6690\n",
      "PHENPRODIOLDEHYDROG-MONOMER has 2nd parents {'AROMATIC-COMPOUNDS-DEGRADATION': 2} for HCAMHPDEG-PWY\n",
      "pruned to ['AROMATIC-COMPOUNDS-DEGRADATION', 'AROMATIC-COMPOUNDS-DEGRADATION']\n",
      "PHENYLPRODIOXY-MONOMER has 2nd parents {'AROMATIC-COMPOUNDS-DEGRADATION': 2} for PWY-6690\n",
      "PHENYLPRODIOXY-MONOMER has 2nd parents {'AROMATIC-COMPOUNDS-DEGRADATION': 2} for HCAMHPDEG-PWY\n",
      "pruned to ['AROMATIC-COMPOUNDS-DEGRADATION', 'AROMATIC-COMPOUNDS-DEGRADATION']\n",
      "PHOSACETYLTRANS-MONOMER has 2nd parents {'PWY-5485': 2} for PWY-5485\n",
      "PHOSACETYLTRANS-MONOMER has 2nd parents {'Fermentation': 2} for PWY0-1312\n",
      "PHOSACETYLTRANS-MONOMER has 2nd parents {'FERMENTATION-PWY': 2} for FERMENTATION-PWY\n",
      "PHOSACETYLTRANS-MONOMER has 2nd parents {'Fermentation': 2} for PWY-5437\n",
      "PHOSACETYLTRANS-MONOMER has 2nd parents {'AMINE-DEG': 2} for PWY0-1477\n",
      "pruned to ['N/A', 'Fermentation', 'N/A', 'Fermentation', 'AMINE-DEG']\n",
      "PHOSGLUCOSAMINEMUT-MONOMER has 2nd parents {'Carbohydrates-Biosynthesis': 2} for UDPNAGSYN-PWY\n",
      "PHOSGLUCOSAMINEMUT-MONOMER has 2nd parents {'Other-Degradation': 2} for PWY0-1261\n",
      "pruned to ['Carbohydrates-Biosynthesis', 'Other-Degradation']\n",
      "PHOSPHAGLYPSYN-MONOMER has 2nd parents {'Lipid-Biosynthesis': 2} for PWY0-1545\n",
      "PHOSPHAGLYPSYN-MONOMER has 2nd parents {'Lipid-Biosynthesis': 2} for PWY-5668\n",
      "pruned to ['Lipid-Biosynthesis', 'Lipid-Biosynthesis']\n",
      "PHOSPHOGLUCMUT-MONOMER has 2nd parents {'Carbohydrates-Biosynthesis': 2} for PWY-7343\n",
      "PHOSPHOGLUCMUT-MONOMER has 2nd parents {'Carbohydrates-Biosynthesis': 2} for DTDPRHAMSYN-PWY\n",
      "PHOSPHOGLUCMUT-MONOMER has 2nd parents {'Polysaccharides-Biosynthesis': 2, 'Carbohydrates-Biosynthesis': 2} for GLYCOGENSYNTH-PWY\n",
      "PHOSPHOGLUCMUT-MONOMER has 2nd parents {'GLYCOCAT-PWY': 2, 'Polymer-Degradation': 2} for GLYCOCAT-PWY\n",
      "PHOSPHOGLUCMUT-MONOMER has 2nd parents {'Carbohydrates-Degradation': 2} for GLUCOSE1PMETAB-PWY\n",
      "pruned to ['Carbohydrates-Biosynthesis', 'Carbohydrates-Biosynthesis', 'Polysaccharides-Biosynthesis', 'GLYCOCAT-PWY', 'Carbohydrates-Degradation']\n",
      "PKI-MONOMER has 2nd parents {'FERMENTATION-PWY': 2} for FERMENTATION-PWY\n",
      "PKI-MONOMER has 2nd parents {'GLYCOLYSIS-VARIANTS': 2} for GLYCOLYSIS\n",
      "PKI-MONOMER has 2nd parents {'GLYCOLYSIS-VARIANTS': 2} for PWY-5484\n",
      "pruned to ['N/A', 'GLYCOLYSIS-VARIANTS', 'GLYCOLYSIS-VARIANTS']\n",
      "PKII-MONOMER has 2nd parents {'FERMENTATION-PWY': 2} for FERMENTATION-PWY\n",
      "PKII-MONOMER has 2nd parents {'GLYCOLYSIS-VARIANTS': 2} for GLYCOLYSIS\n",
      "PKII-MONOMER has 2nd parents {'GLYCOLYSIS-VARIANTS': 2} for PWY-5484\n",
      "pruned to ['N/A', 'GLYCOLYSIS-VARIANTS', 'GLYCOLYSIS-VARIANTS']\n",
      "PPENTOMUT-MONOMER has 2nd parents {'Carbohydrates-Degradation': 2} for PWY-7180\n",
      "PPENTOMUT-MONOMER has 2nd parents {'NUCLEO-DEG': 2} for PWY0-1296\n",
      "PPENTOMUT-MONOMER has 2nd parents {'NUCLEO-DEG': 2} for PWY0-1295\n",
      "pruned to ['Carbohydrates-Degradation', 'NUCLEO-DEG', 'NUCLEO-DEG']\n",
      "PROTEIN-CHEA has 2nd parents {'PWY0-1518': 2} for PWY0-1518\n",
      "PROTEIN-CHEA has 2nd parents {'PWY0-1519': 2} for PWY0-1519\n",
      "pruned to ['PWY0-1518', 'PWY0-1519']\n",
      "PROTOHEME-FERROCHELAT-MONOMER has 2nd parents {'Cofactor-Biosynthesis': 2} for HEMESYN2-PWY\n",
      "PROTOHEME-FERROCHELAT-MONOMER has 2nd parents {'Cofactor-Biosynthesis': 2} for HEME-BIOSYNTHESIS-II-1\n",
      "pruned to ['Cofactor-Biosynthesis', 'Cofactor-Biosynthesis']\n",
      "PROTOPORGENOXI-MONOMER has 2nd parents {'Cofactor-Biosynthesis': 2} for HEMESYN2-PWY\n",
      "PROTOPORGENOXI-MONOMER has 2nd parents {'Cofactor-Biosynthesis': 2} for HEME-BIOSYNTHESIS-II-1\n",
      "pruned to ['Cofactor-Biosynthesis', 'Cofactor-Biosynthesis']\n",
      "PRPPAMIDOTRANS-MONOMER has 2nd parents {'PWY-6277': 2} for PWY-6277\n",
      "PRPPAMIDOTRANS-MONOMER has 2nd parents {'Nucleotide-Biosynthesis': 2} for PWY-6122\n",
      "PRPPAMIDOTRANS-MONOMER has 2nd parents {'Nucleotide-Biosynthesis': 2} for PWY-6121\n",
      "pruned to ['N/A', 'Nucleotide-Biosynthesis', 'Nucleotide-Biosynthesis']\n",
      "PSERTRANSAM-MONOMER has 2nd parents {'Cofactor-Biosynthesis': 2} for PYRIDOXSYN-PWY\n",
      "PSERTRANSAM-MONOMER has 2nd parents {'Amino-Acid-Biosynthesis': 2} for DAPLYSINESYN-PWY\n",
      "PSERTRANSAM-MONOMER has 2nd parents {'Amino-Acid-Biosynthesis': 2} for SERSYN-PWY-1\n",
      "pruned to ['Cofactor-Biosynthesis', 'Amino-Acid-Biosynthesis', 'Amino-Acid-Biosynthesis']\n",
      "PUTA-MONOMER has 2nd parents {'Electron-Transfer': 2} for PWY0-1544\n",
      "PUTA-MONOMER has 2nd parents {'Amino-Acid-Degradation': 2} for PROUT-PWY-I\n",
      "pruned to ['Electron-Transfer', 'Amino-Acid-Degradation']\n",
      "PYRUVFORMLY-MONOMER has 2nd parents {'PWY-5485': 2} for PWY-5485\n",
      "PYRUVFORMLY-MONOMER has 2nd parents {'FERMENTATION-PWY': 2} for FERMENTATION-PWY\n",
      "PYRUVFORMLY-MONOMER has 2nd parents {'Fermentation': 2} for PWY-5480\n",
      "PYRUVFORMLY-MONOMER has 2nd parents {'Fermentation': 2} for PWY-5437\n",
      "pruned to ['N/A', 'N/A', 'Fermentation', 'Fermentation']\n",
      "PYRUVOXID-MONOMER has 2nd parents {'Electron-Transfer': 2} for PWY-7544\n",
      "PYRUVOXID-MONOMER has 2nd parents {'Electron-Transfer': 2} for PWY-7545\n",
      "pruned to ['Electron-Transfer', 'Electron-Transfer']\n",
      "RED-GLUTAREDOXIN has 2nd parents {'Amino-Acid-Biosynthesis': 2} for PWY-7870\n",
      "RED-GLUTAREDOXIN has 2nd parents {'Other-biosynthesis': 2} for GLUT-REDOX-PWY\n",
      "RED-GLUTAREDOXIN has 2nd parents {'Arsenic-Detoxification': 2} for PWY-4621-1\n",
      "pruned to ['Amino-Acid-Biosynthesis', 'Other-biosynthesis', 'Arsenic-Detoxification']\n",
      "RED-THIOREDOXIN-MONOMER has 2nd parents {'PWY-7184': 2, 'Nucleotide-Biosynthesis': 2} for PWY-7184\n",
      "RED-THIOREDOXIN-MONOMER has 2nd parents {'Cofactor-Biosynthesis': 2} for PWY-8147\n",
      "RED-THIOREDOXIN-MONOMER has 2nd parents {'Nucleotide-Biosynthesis': 2} for PWY-7222\n",
      "RED-THIOREDOXIN-MONOMER has 2nd parents {'Nucleotide-Biosynthesis': 2} for PWY-7220\n",
      "RED-THIOREDOXIN-MONOMER has 2nd parents {'PWY0-166': 2} for PWY0-166\n",
      "RED-THIOREDOXIN-MONOMER has 2nd parents {'Other-biosynthesis': 2} for THIOREDOX-PWY\n",
      "RED-THIOREDOXIN-MONOMER has 2nd parents {'Noncarbon-Nutrients': 2} for PWY-5329\n",
      "RED-THIOREDOXIN-MONOMER has 2nd parents {'SO4ASSIM-PWY': 2} for SO4ASSIM-PWY\n",
      "RED-THIOREDOXIN-MONOMER has 2nd parents {'Protein-Modification': 2} for PWY0-1600\n",
      "pruned to ['PWY-7184', 'Cofactor-Biosynthesis', 'Nucleotide-Biosynthesis', 'Nucleotide-Biosynthesis', 'N/A', 'Other-biosynthesis', 'Noncarbon-Nutrients', 'N/A', 'Protein-Modification']\n",
      "RED-THIOREDOXIN2-MONOMER has 2nd parents {'PWY-7184': 2, 'Nucleotide-Biosynthesis': 2} for PWY-7184\n",
      "RED-THIOREDOXIN2-MONOMER has 2nd parents {'Cofactor-Biosynthesis': 2} for PWY-8147\n",
      "RED-THIOREDOXIN2-MONOMER has 2nd parents {'Nucleotide-Biosynthesis': 2} for PWY-7222\n",
      "RED-THIOREDOXIN2-MONOMER has 2nd parents {'Nucleotide-Biosynthesis': 2} for PWY-7220\n",
      "RED-THIOREDOXIN2-MONOMER has 2nd parents {'PWY0-166': 2} for PWY0-166\n",
      "RED-THIOREDOXIN2-MONOMER has 2nd parents {'Other-biosynthesis': 2} for THIOREDOX-PWY\n",
      "RED-THIOREDOXIN2-MONOMER has 2nd parents {'Noncarbon-Nutrients': 2} for PWY-5329\n",
      "RED-THIOREDOXIN2-MONOMER has 2nd parents {'SO4ASSIM-PWY': 2} for SO4ASSIM-PWY\n",
      "pruned to ['PWY-7184', 'Cofactor-Biosynthesis', 'Nucleotide-Biosynthesis', 'Nucleotide-Biosynthesis', 'N/A', 'Other-biosynthesis', 'Noncarbon-Nutrients', 'N/A']\n",
      "RHAMNISOM-MONOMER has 2nd parents {'Carbohydrates-Degradation': 2} for RHAMCAT-PWY\n",
      "RHAMNISOM-MONOMER has 2nd parents {'Carbohydrates-Degradation': 2} for LYXMET-PWY\n",
      "pruned to ['Carbohydrates-Degradation', 'Carbohydrates-Degradation']\n",
      "RIB5PISOMB-MONOMER has 2nd parents {'Pentose-Phosphate-Cycle': 2} for NONOXIPENT-PWY\n",
      "RIB5PISOMB-MONOMER has 2nd parents {'Carbohydrates-Degradation': 2} for PWY0-44\n",
      "pruned to ['Pentose-Phosphate-Cycle', 'Carbohydrates-Degradation']\n",
      "RIBAZOLEPHOSPHAT-MONOMER has 2nd parents {'Cofactor-Biosynthesis': 2} for PWY-5509\n",
      "RIBAZOLEPHOSPHAT-MONOMER has 2nd parents {'COBALSYN-PWY': 2} for COBALSYN-PWY\n",
      "pruned to ['Cofactor-Biosynthesis', 'N/A']\n",
      "RIBONUCLEOSIDE-TRIP-REDUCT-MONOMER has 2nd parents {'Nucleotide-Biosynthesis': 2} for PWY-7222\n",
      "RIBONUCLEOSIDE-TRIP-REDUCT-MONOMER has 2nd parents {'Nucleotide-Biosynthesis': 2} for PWY-7220\n",
      "RIBONUCLEOSIDE-TRIP-REDUCT-MONOMER has 2nd parents {'PWY0-166': 2} for PWY0-166\n",
      "RIBONUCLEOSIDE-TRIP-REDUCT-MONOMER has 2nd parents {'Nucleotide-Biosynthesis': 2} for PWY-7187\n",
      "pruned to ['Nucleotide-Biosynthesis', 'Nucleotide-Biosynthesis', 'N/A', 'Nucleotide-Biosynthesis']\n",
      "RIBULPEPIM-MONOMER has 2nd parents {'Carbohydrates-Degradation': 2} for ARABCAT-PWY\n",
      "RIBULPEPIM-MONOMER has 2nd parents {'Carbohydrates-Degradation': 2} for LYXMET-PWY\n",
      "pruned to ['Carbohydrates-Degradation', 'Carbohydrates-Degradation']\n",
      "S-ADENMETSYN-MONOMER has 2nd parents {'Cofactor-Biosynthesis': 2} for PWY-6151\n",
      "S-ADENMETSYN-MONOMER has 2nd parents {'Cofactor-Biosynthesis': 2} for SAM-PWY\n",
      "pruned to ['Cofactor-Biosynthesis', 'Cofactor-Biosynthesis']\n",
      "SDH-FE-S has 2nd parents {'TCA-VARIANTS': 2} for TCA\n",
      "SDH-FE-S has 2nd parents {'Electron-Transfer': 2} for PWY0-1329\n",
      "SDH-FE-S has 2nd parents {'Electron-Transfer': 2} for PWY0-1353\n",
      "pruned to ['TCA-VARIANTS', 'Electron-Transfer', 'Electron-Transfer']\n",
      "SDH-FLAVO has 2nd parents {'TCA-VARIANTS': 2} for TCA\n",
      "SDH-FLAVO has 2nd parents {'Electron-Transfer': 2} for PWY0-1329\n",
      "SDH-FLAVO has 2nd parents {'Electron-Transfer': 2} for PWY0-1353\n",
      "pruned to ['TCA-VARIANTS', 'Electron-Transfer', 'Electron-Transfer']\n",
      "SDH-MEMB1 has 2nd parents {'TCA-VARIANTS': 2} for TCA\n",
      "SDH-MEMB1 has 2nd parents {'Electron-Transfer': 2} for PWY0-1329\n",
      "SDH-MEMB1 has 2nd parents {'Electron-Transfer': 2} for PWY0-1353\n",
      "pruned to ['TCA-VARIANTS', 'Electron-Transfer', 'Electron-Transfer']\n",
      "SDH-MEMB2 has 2nd parents {'TCA-VARIANTS': 2} for TCA\n",
      "SDH-MEMB2 has 2nd parents {'Electron-Transfer': 2} for PWY0-1329\n",
      "SDH-MEMB2 has 2nd parents {'Electron-Transfer': 2} for PWY0-1353\n",
      "pruned to ['TCA-VARIANTS', 'Electron-Transfer', 'Electron-Transfer']\n",
      "SERINE-O-ACETTRAN-MONOMER has 2nd parents {'Amino-Acid-Biosynthesis': 2} for PWY-7870\n",
      "SERINE-O-ACETTRAN-MONOMER has 2nd parents {'Amino-Acid-Biosynthesis': 2} for CYSTSYN-PWY\n",
      "pruned to ['Amino-Acid-Biosynthesis', 'Amino-Acid-Biosynthesis']\n",
      "SERS-MONOMER has 2nd parents {'TRNA-CHARGING-PWY': 2, 'Aminoacyl-tRNAs-Charging': 2} for TRNA-CHARGING-PWY\n",
      "SERS-MONOMER has 2nd parents {'ENTBACSYN-PWY': 2} for ENTBACSYN-PWY\n",
      "SERS-MONOMER has 2nd parents {'Amino-Acid-Biosynthesis': 2} for PWY0-901\n",
      "pruned to ['TRNA-CHARGING-PWY', 'N/A', 'Amino-Acid-Biosynthesis']\n",
      "SMALLILVM-MONOMER has 2nd parents {'Amino-Acid-Biosynthesis': 2} for VALSYN-PWY\n",
      "SMALLILVM-MONOMER has 2nd parents {'Amino-Acid-Biosynthesis': 2} for ILEUSYN-PWY\n",
      "pruned to ['Amino-Acid-Biosynthesis', 'Amino-Acid-Biosynthesis']\n",
      "SPED-MONOMER has 2nd parents {'Polyamine-Biosynthesis': 2} for BSUBPOLYAMSYN-PWY\n",
      "SPED-MONOMER has 2nd parents {'Polyamine-Biosynthesis': 2} for PWY0-1303\n",
      "pruned to ['Polyamine-Biosynthesis', 'Polyamine-Biosynthesis']\n",
      "SPERMIDINESYN-MONOMER has 2nd parents {'Polyamine-Biosynthesis': 2} for BSUBPOLYAMSYN-PWY\n",
      "SPERMIDINESYN-MONOMER has 2nd parents {'Polyamine-Biosynthesis': 2} for PWY0-1303\n",
      "pruned to ['Polyamine-Biosynthesis', 'Polyamine-Biosynthesis']\n",
      "SUCCSEMIALDDEHYDROG-MONOMER has 2nd parents {'Amino-Acid-Degradation': 2} for PWY0-461\n",
      "SUCCSEMIALDDEHYDROG-MONOMER has 2nd parents {'AMINE-DEG': 2} for PWY-6537\n",
      "pruned to ['Amino-Acid-Degradation', 'AMINE-DEG']\n",
      "THI-P-KIN-MONOMER has 2nd parents {'PWY-6897': 2} for PWY-6897\n",
      "THI-P-KIN-MONOMER has 2nd parents {'Cofactor-Biosynthesis': 2} for PWY-8457\n",
      "THI-P-KIN-MONOMER has 2nd parents {'Cofactor-Biosynthesis': 2} for PWY-6894\n",
      "pruned to ['N/A', 'Cofactor-Biosynthesis', 'Cofactor-Biosynthesis']\n",
      "THIE-MONOMER has 2nd parents {'PWY-6897': 2} for PWY-6897\n",
      "THIE-MONOMER has 2nd parents {'Cofactor-Biosynthesis': 2} for PWY-8457\n",
      "THIE-MONOMER has 2nd parents {'Cofactor-Biosynthesis': 2} for PWY-6894\n",
      "pruned to ['N/A', 'Cofactor-Biosynthesis', 'Cofactor-Biosynthesis']\n",
      "THIOESTERI-MONOMER has 2nd parents {'Lipid-Biosynthesis': 2} for PWY-6282\n",
      "THIOESTERI-MONOMER has 2nd parents {'Lipid-Biosynthesis': 2} for PWY-5973\n",
      "pruned to ['Lipid-Biosynthesis', 'Lipid-Biosynthesis']\n",
      "THIS-MONOMER has 2nd parents {'Cofactor-Biosynthesis': 2} for PWY-6892\n",
      "THIS-MONOMER has 2nd parents {'Cofactor-Biosynthesis': 2} for PWY0-1507\n",
      "THIS-MONOMER has 2nd parents {'Amino-Acid-Biosynthesis': 2} for PWY0-1021\n",
      "pruned to ['Cofactor-Biosynthesis', 'Cofactor-Biosynthesis', 'Amino-Acid-Biosynthesis']\n",
      "THREDEHYDCAT-MONOMER has 2nd parents {'Fermentation': 2} for PWY-5437\n",
      "THREDEHYDCAT-MONOMER has 2nd parents {'Amino-Acid-Degradation': 2} for PWY0-1608\n",
      "THREDEHYDCAT-MONOMER has 2nd parents {'Amino-Acid-Degradation': 2} for SERDEG-PWY\n",
      "pruned to ['Fermentation', 'Amino-Acid-Degradation', 'Amino-Acid-Degradation']\n",
      "THREODEHYD-MONOMER has 2nd parents {'Amino-Acid-Degradation': 2} for THREONINE-DEG2-PWY\n",
      "THREODEHYD-MONOMER has 2nd parents {'Amino-Acid-Degradation': 2} for THRDLCTCAT-PWY\n",
      "pruned to ['Amino-Acid-Degradation', 'Amino-Acid-Degradation']\n",
      "THRS-MONOMER has 2nd parents {'TRNA-CHARGING-PWY': 2, 'Aminoacyl-tRNAs-Charging': 2} for TRNA-CHARGING-PWY\n",
      "THRS-MONOMER has 2nd parents {'ENTBACSYN-PWY': 2} for ENTBACSYN-PWY\n",
      "pruned to ['TRNA-CHARGING-PWY', 'N/A']\n",
      "THYMIDYLATESYN-MONOMER has 2nd parents {'PWY-7184': 2, 'Nucleotide-Biosynthesis': 2} for PWY-7184\n",
      "THYMIDYLATESYN-MONOMER has 2nd parents {'Cofactor-Biosynthesis': 2} for 1CMET2-PWY\n",
      "THYMIDYLATESYN-MONOMER has 2nd parents {'PWY0-166': 2} for PWY0-166\n",
      "THYMIDYLATESYN-MONOMER has 2nd parents {'Nucleotide-Biosynthesis': 2} for PWY-7187\n",
      "pruned to ['PWY-7184', 'Cofactor-Biosynthesis', 'N/A', 'Nucleotide-Biosynthesis']\n",
      "THZ-KIN-MONOMER has 2nd parents {'Cofactor-Biosynthesis': 2} for PWY0-1597\n",
      "THZ-KIN-MONOMER has 2nd parents {'PWY-6897': 2} for PWY-6897\n",
      "THZ-KIN-MONOMER has 2nd parents {'Cofactor-Biosynthesis': 2} for PWY-8457\n",
      "pruned to ['Cofactor-Biosynthesis', 'N/A', 'Cofactor-Biosynthesis']\n",
      "TORA-MONOMER has 2nd parents {'Electron-Transfer': 2} for PWY0-1578\n",
      "TORA-MONOMER has 2nd parents {'Electron-Transfer': 2} for PWY0-1355\n",
      "TORA-MONOMER has 2nd parents {'Electron-Transfer': 2} for PWY0-1347\n",
      "pruned to ['Electron-Transfer', 'Electron-Transfer', 'Electron-Transfer']\n",
      "TPI-MONOMER has 2nd parents {'GLYCOLYSIS-VARIANTS': 2} for GLYCOLYSIS\n",
      "TPI-MONOMER has 2nd parents {'GLYCOLYSIS-VARIANTS': 2} for PWY-5484\n",
      "TPI-MONOMER has 2nd parents {'Carbohydrates-Biosynthesis': 2} for GLUCONEO-PWY\n",
      "pruned to ['GLYCOLYSIS-VARIANTS', 'GLYCOLYSIS-VARIANTS', 'Carbohydrates-Biosynthesis']\n",
      "TRYPTOPHAN-MONOMER has 2nd parents {'Amino-Acid-Degradation': 2} for LCYSDEG-PWY\n",
      "TRYPTOPHAN-MONOMER has 2nd parents {'Amino-Acid-Degradation': 2} for TRYPDEG-PWY\n",
      "pruned to ['Amino-Acid-Degradation', 'Amino-Acid-Degradation']\n",
      "TSA-REDUCT-MONOMER has 2nd parents {'CARBOXYLATES-DEG': 2} for GLYCOLATEMET-PWY\n",
      "TSA-REDUCT-MONOMER has 2nd parents {'CARBOXYLATES-DEG': 2} for GALACTARDEG-PWY\n",
      "TSA-REDUCT-MONOMER has 2nd parents {'CARBOXYLATES-DEG': 2} for GLUCARDEG-PWY\n",
      "pruned to ['CARBOXYLATES-DEG', 'CARBOXYLATES-DEG', 'CARBOXYLATES-DEG']\n",
      "TYRB-MONOMER has 2nd parents {'Amino-Acid-Biosynthesis': 2} for PHESYN\n",
      "TYRB-MONOMER has 2nd parents {'Amino-Acid-Biosynthesis': 2} for LEUSYN-PWY\n",
      "TYRB-MONOMER has 2nd parents {'Amino-Acid-Biosynthesis': 2} for TYRSYN\n",
      "pruned to ['Amino-Acid-Biosynthesis', 'Amino-Acid-Biosynthesis', 'Amino-Acid-Biosynthesis']\n",
      "UDK-MONOMER has 2nd parents {'Nucleotide-Biosynthesis': 2} for PWY-7193\n",
      "UDK-MONOMER has 2nd parents {'Nucleotide-Biosynthesis': 2} for PWY0-163\n",
      "pruned to ['Nucleotide-Biosynthesis', 'Nucleotide-Biosynthesis']\n",
      "UDPGLUCEPIM-MONOMER has 2nd parents {'Carbohydrates-Biosynthesis': 2} for PWY-7344\n",
      "UDPGLUCEPIM-MONOMER has 2nd parents {'Carbohydrates-Biosynthesis': 2} for GALACTMETAB-PWY\n",
      "UDPGLUCEPIM-MONOMER has 2nd parents {'COLANSYN-PWY': 2} for COLANSYN-PWY\n",
      "pruned to ['Carbohydrates-Biosynthesis', 'Carbohydrates-Biosynthesis', 'N/A']\n",
      "UDPNACETYLGLUCOSAMENOLPYRTRANS-MONOMER has 2nd parents {'Cell-Structure-Biosynthesis': 2} for PWY-6387\n",
      "UDPNACETYLGLUCOSAMENOLPYRTRANS-MONOMER has 2nd parents {'Other-Degradation': 2} for PWY0-1261\n",
      "pruned to ['Cell-Structure-Biosynthesis', 'Other-Degradation']\n",
      "UDPNACETYLMURAMATEDEHYDROG-MONOMER has 2nd parents {'Cell-Structure-Biosynthesis': 2} for PWY-6387\n",
      "UDPNACETYLMURAMATEDEHYDROG-MONOMER has 2nd parents {'Other-Degradation': 2} for PWY0-1261\n",
      "pruned to ['Cell-Structure-Biosynthesis', 'Other-Degradation']\n",
      "URACIL-PRIBOSYLTRANS-MONOMER has 2nd parents {'Nucleotide-Biosynthesis': 2} for PWY-7183\n",
      "URACIL-PRIBOSYLTRANS-MONOMER has 2nd parents {'Nucleotide-Biosynthesis': 2} for PWY0-163\n",
      "pruned to ['Nucleotide-Biosynthesis', 'Nucleotide-Biosynthesis']\n",
      "UROGENDECARBOX-MONOMER has 2nd parents {'Cofactor-Biosynthesis': 2} for HEMESYN2-PWY\n",
      "UROGENDECARBOX-MONOMER has 2nd parents {'Cofactor-Biosynthesis': 2} for HEME-BIOSYNTHESIS-II-1\n",
      "pruned to ['Cofactor-Biosynthesis', 'Cofactor-Biosynthesis']\n",
      "URPHOS-MONOMER has 2nd parents {'Nucleotide-Biosynthesis': 2} for PWY0-163\n",
      "URPHOS-MONOMER has 2nd parents {'NUCLEO-DEG': 2} for PWY0-1295\n",
      "pruned to ['Nucleotide-Biosynthesis', 'NUCLEO-DEG']\n",
      "UXAC-MONOMER has 2nd parents {'CARBOXYLATES-DEG': 2} for GALACTUROCAT-PWY\n",
      "UXAC-MONOMER has 2nd parents {'CARBOXYLATES-DEG': 2} for PWY-7247\n",
      "pruned to ['CARBOXYLATES-DEG', 'CARBOXYLATES-DEG']\n",
      "XANTHOSINEPHOSPHORY-MONOMER has 2nd parents {'Nucleotide-Biosynthesis': 2} for PWY-6609\n",
      "XANTHOSINEPHOSPHORY-MONOMER has 2nd parents {'Nucleotide-Biosynthesis': 2} for PWY-6620\n",
      "XANTHOSINEPHOSPHORY-MONOMER has 2nd parents {'Nucleotide-Biosynthesis': 2} for SALVPURINE2-PWY\n",
      "XANTHOSINEPHOSPHORY-MONOMER has 2nd parents {'NUCLEO-DEG': 2} for SALVADEHYPOX-PWY\n",
      "XANTHOSINEPHOSPHORY-MONOMER has 2nd parents {'NUCLEO-DEG': 2} for PWY-6608\n",
      "XANTHOSINEPHOSPHORY-MONOMER has 2nd parents {'NUCLEO-DEG': 2} for PWY0-1296\n",
      "pruned to ['Nucleotide-Biosynthesis', 'Nucleotide-Biosynthesis', 'Nucleotide-Biosynthesis', 'NUCLEO-DEG', 'NUCLEO-DEG', 'NUCLEO-DEG']\n"
     ]
    }
   ],
   "source": [
    "# if choice can be made, don't pick these.\n",
    "priority_list_second = ['SECONDARY-METABOLITE-BIOSYNTHESIS', 'Respiration']\n",
    "\n",
    "# create protein name to pathway mapping\n",
    "W = np.zeros((len(parsed_protein_df.index), len(parsed_pathway_df.index)))\n",
    "\n",
    "for i in range(len(parsed_protein_df.index)):\n",
    "\n",
    "    cur_pathways = parsed_protein_df.at[i, 'direct_annotations']\n",
    "\n",
    "    for pathway in cur_pathways:\n",
    "        pathway_idx = pathway_ids.index(pathway)\n",
    "        W[i, pathway_idx] = 1\n",
    "\n",
    "\n",
    "for i in range(len(parsed_protein_df.index)):\n",
    "\n",
    "    cur_protein_pathways_idxs = np.where(W[i, :] == 1)[0]\n",
    "    cur_protein = parsed_protein_df.at[i, 'id']\n",
    "\n",
    "    if len(cur_protein_pathways_idxs) < 2:\n",
    "        continue\n",
    "\n",
    "    else:\n",
    "\n",
    "        # for pathway_idx in cur_protein_pathways_idxs:\n",
    "\n",
    "        # get top level class of every pathway, and remove all but the first one of each class.\n",
    "\n",
    "        cur_protein_pathway_parents = list()\n",
    "        cur_protein_pathway_two_parents = list()\n",
    "\n",
    "        for pathway_idx in cur_protein_pathways_idxs:\n",
    "            top_parents = get_pathway_ith_level_parents(pathway_idx, pathway_matrix, pathway_ids, level_vector, level=1)\n",
    "            top_two_parents = get_pathway_ith_level_parents(pathway_idx, pathway_matrix, pathway_ids, level_vector, level=2)\n",
    "\n",
    "            print(f\"{cur_protein} has 2nd parents {top_two_parents} for {pathway_ids[pathway_idx]}\")\n",
    "\n",
    "            if len(top_parents) > 1:\n",
    "                print(f\"multiple parents {top_parents} for {pathway_ids[pathway_idx]} for {cur_protein}, should not happen.\")\n",
    "\n",
    "            if len(top_parents) == 1:\n",
    "                cur_protein_pathway_parents.append(list(top_parents.keys())[0])\n",
    "                cur_protein_pathway_two_parents.append(list(top_two_parents.keys())[0])\n",
    "            else:\n",
    "                # remove pathway with no parents\n",
    "                W[i, pathway_idx] = 0\n",
    "                cur_protein_pathway_parents.append('N/A')\n",
    "                cur_protein_pathway_two_parents.append('N/A')\n",
    "\n",
    "\n",
    "        # TODO - remove direct annotations with deprioritized parents\n",
    "        for priority in priority_list:\n",
    "            while priority in cur_protein_pathway_parents and len(np.where(W[i, :] == 1)[0]) > 1:\n",
    "                priority_index = cur_protein_pathway_parents.index(priority)\n",
    "                W[i, cur_protein_pathways_idxs[priority_index]] = 0\n",
    "                cur_protein_pathway_parents[priority_index] = 'N/A'\n",
    "\n",
    "        # same for 2nd level\n",
    "        for priority in priority_list_second:\n",
    "            while priority in cur_protein_pathway_two_parents and len(np.where(W[i, :] == 1)[0]) > 1:\n",
    "                priority_index = cur_protein_pathway_two_parents.index(priority)\n",
    "                W[i, cur_protein_pathways_idxs[priority_index]] = 0\n",
    "                cur_protein_pathway_two_parents[priority_index] = 'N/A'\n",
    "\n",
    "        new_protein_pathways_idxs = np.where(W[i, :] == 1)[0]\n",
    "\n",
    "        # for pathway_idx in cur_protein_pathways_idxs:\n",
    "\n",
    "        # get top level class of every pathway, and remove all but the first one of each class.\n",
    "\n",
    "        new_protein_pathway_parents = list()\n",
    "        new_protein_pathway_two_parents = list()\n",
    "\n",
    "        for pathway_idx in new_protein_pathways_idxs:\n",
    "            top_parents = get_pathway_ith_level_parents(pathway_idx, pathway_matrix, pathway_ids, level_vector, level=1)\n",
    "            top_two_parents = get_pathway_ith_level_parents(pathway_idx, pathway_matrix, pathway_ids, level_vector, level=2)\n",
    "\n",
    "            if len(top_parents) == 1:\n",
    "                new_protein_pathway_parents.append(list(top_parents.keys())[0])\n",
    "                new_protein_pathway_two_parents.append(list(top_two_parents.keys())[0])\n",
    "\n",
    "        print(f\"pruned to {cur_protein_pathway_two_parents}\")\n",
    "\n",
    "\n",
    "        # remove all N/A\n",
    "        # cur_protein_pathways_idxs = cur_protein_pathways_idxs[cur_protein_pathway_parents != 'N/A']\n",
    "\n",
    "        if len(np.unique(cur_protein_pathway_parents)) < 2:\n",
    "            continue\n"
   ],
   "metadata": {
    "collapsed": false,
    "ExecuteTime": {
     "end_time": "2023-11-28T18:56:48.855788Z",
     "start_time": "2023-11-28T18:56:48.768267Z"
    }
   }
  },
  {
   "cell_type": "code",
   "execution_count": 21,
   "outputs": [],
   "source": [
    "# create pathway to 2nd layer pathway mapping\n",
    "W2 = np.zeros((len(parsed_pathway_df.index), len(parsed_pathway_df.index)))\n",
    "\n",
    "for i in range(len(parsed_pathway_df.index)):\n",
    "\n",
    "    cur_pathway = parsed_pathway_df.at[i, 'id']\n",
    "    cur_pathway_idx = pathway_ids.index(cur_pathway)\n",
    "\n",
    "    # get 2nd level parents\n",
    "    cur_pathway_parents = get_pathway_ith_level_parents(cur_pathway_idx, pathway_matrix, pathway_ids, level_vector, level=2)\n",
    "\n",
    "    # if len(cur_pathway_parents) > 1:\n",
    "    #     print(f\"cur pathway {cur_pathway} has parents {cur_pathway_parents}\")\n",
    "\n",
    "    for parent in cur_pathway_parents:\n",
    "        parent_idx = pathway_ids.index(parent)\n",
    "        W2[i, parent_idx] = 1\n",
    "\n",
    "# zero diagonal (don't return self, since some pathways return themselves as level 2 parents)\n",
    "np.fill_diagonal(W2[0:(W2.shape[0] - len(go_collection)), 0:(W2.shape[0] - len(go_collection))], 0)\n",
    "\n",
    "\n",
    "W1 = np.zeros((len(parsed_pathway_df.index), len(parsed_pathway_df.index)))\n",
    "\n",
    "for i in range(len(parsed_pathway_df.index)):\n",
    "\n",
    "    if parsed_pathway_df.at[i, 'level'] <= 2:\n",
    "        cur_pathway = parsed_pathway_df.at[i, 'id']\n",
    "        cur_pathway_idx = pathway_ids.index(cur_pathway)\n",
    "\n",
    "        # get 2nd level parents\n",
    "        cur_pathway_parents = get_pathway_ith_level_parents(cur_pathway_idx, pathway_matrix, pathway_ids, level_vector, level=1)\n",
    "\n",
    "        for parent in cur_pathway_parents:\n",
    "            parent_idx = pathway_ids.index(parent)\n",
    "            W1[i, parent_idx] = 1\n",
    "\n",
    "np.fill_diagonal(W1, 0)\n",
    "\n"
   ],
   "metadata": {
    "collapsed": false,
    "ExecuteTime": {
     "end_time": "2023-11-28T18:56:48.902942Z",
     "start_time": "2023-11-28T18:56:48.858081Z"
    }
   }
  },
  {
   "cell_type": "code",
   "execution_count": 22,
   "outputs": [
    {
     "name": "stdout",
     "output_type": "stream",
     "text": [
      "component_name: EG10893-MONOMER, component_count: 2, component_index: 697\n",
      "component_name: RPOC-MONOMER, component_count: 1, component_index: 4122\n",
      "component_name: RPOB-MONOMER, component_count: 1, component_index: 4121\n"
     ]
    }
   ],
   "source": [
    "# C matrix transforms complexes + monomers to just monomers.\n",
    "\n",
    "# create protein name to index mapping\n",
    "protein_name_to_index = {}\n",
    "for i in range(len(parsed_protein_df.index)):\n",
    "    protein_name_to_index[parsed_protein_df.at[i, 'id']] = i\n",
    "\n",
    "# C matrix: complexes x proteins\n",
    "C = np.zeros((len(parsed_complex_df.index), len(parsed_protein_df.index)))\n",
    "\n",
    "for i in range(len(parsed_complex_df.index)):\n",
    "\n",
    "    complex_components = parsed_complex_df.loc[i, 'monomer_component_stoichiometry']\n",
    "\n",
    "    # TODO consider cofactors\n",
    "    # complex_cofactors = filter_complex_df.loc[i, 'cofactors']\n",
    "\n",
    "\n",
    "    for component_name, component_count in complex_components.items():\n",
    "        if component_count is not None:             # side effect of parquet\n",
    "            # get index of component in filter_protein_df\n",
    "            component_index = protein_name_to_index[component_name]\n",
    "\n",
    "            if parsed_complex_df.at[i, 'id'] == 'APORNAP-CPLX':\n",
    "                print(f'component_name: {component_name}, component_count: {component_count}, component_index: {component_index}')\n",
    "\n",
    "            C[i, component_index] = component_count\n",
    "\n",
    "# append an identity matrix to C\n",
    "C = np.concatenate((C, np.identity(len(parsed_protein_df.index))), axis=0)\n",
    "\n",
    "C_names = list(parsed_complex_df['id']) + list(parsed_protein_df['id'])"
   ],
   "metadata": {
    "collapsed": false,
    "ExecuteTime": {
     "end_time": "2023-11-28T18:56:48.956674Z",
     "start_time": "2023-11-28T18:56:48.915926Z"
    }
   }
  },
  {
   "cell_type": "code",
   "execution_count": 23,
   "outputs": [],
   "source": [
    "# P matrix transforms proteins to their respective cofactor counts.\n",
    "\n",
    "# create cofactor name to index mapping\n",
    "cofactor_name_to_index = {}\n",
    "for i in range(len(parsed_cofactor_df.index)):\n",
    "    cofactor_name_to_index[parsed_cofactor_df.at[i, 'id']] = i\n",
    "\n",
    "cofactor_ids = list(parsed_cofactor_df['id'])\n",
    "\n",
    "# P matrix: proteins x cofactors\n",
    "P = np.zeros((len(parsed_protein_df.index), len(parsed_cofactor_df.index)))\n",
    "\n",
    "for i in range(len(parsed_protein_df.index)):\n",
    "    protein_metals = parsed_protein_df.loc[i, 'metal_features_processed']\n",
    "    protein_other = parsed_protein_df.loc[i, 'other_features_processed']\n",
    "\n",
    "    for metal, count in protein_metals.items():\n",
    "        if count is not None:             # side effect of parquet\n",
    "            cofactor_index = cofactor_name_to_index[metal]\n",
    "            P[i, cofactor_index] = count\n",
    "\n",
    "    for other, count in protein_other.items():\n",
    "        if count is not None:             # side effect of parquet\n",
    "            cofactor_index = cofactor_name_to_index[other]\n",
    "            P[i, cofactor_index] = count\n"
   ],
   "metadata": {
    "collapsed": false,
    "ExecuteTime": {
     "end_time": "2023-11-28T18:56:48.997827Z",
     "start_time": "2023-11-28T18:56:48.995191Z"
    }
   }
  },
  {
   "cell_type": "code",
   "execution_count": 24,
   "outputs": [],
   "source": [
    "# E matrix transforms cofactors to their respective elemental composition\n",
    "\n",
    "# create list of unique elements\n",
    "unique_elements = set()\n",
    "for i in range(len(parsed_cofactor_df.index)):\n",
    "    cofactor = parsed_cofactor_df.at[i, 'elemental_composition']\n",
    "    unique_elements.update(cofactor.keys())\n",
    "\n",
    "unique_elements = list(unique_elements)\n",
    "\n",
    "# create E matrix: cofactors x elements\n",
    "E = np.zeros((len(parsed_cofactor_df.index), len(unique_elements)))\n",
    "\n",
    "for i in range(len(parsed_cofactor_df.index)):\n",
    "    cofactor = parsed_cofactor_df.at[i, 'elemental_composition']\n",
    "\n",
    "    for element, count in cofactor.items():\n",
    "        if count is not None:             # side effect of parquet\n",
    "            element_index = unique_elements.index(element)\n",
    "            E[i, element_index] = count\n",
    "\n",
    "\n",
    "element_ids = unique_elements"
   ],
   "metadata": {
    "collapsed": false,
    "ExecuteTime": {
     "end_time": "2023-11-28T18:56:49.001668Z",
     "start_time": "2023-11-28T18:56:48.998745Z"
    }
   }
  },
  {
   "cell_type": "code",
   "execution_count": 25,
   "outputs": [],
   "source": [
    "# A matrix transforms proteins to their amino acid composition\n",
    "\n",
    "A = np.zeros((len(parsed_protein_df.index), len(unique_aa)))\n",
    "\n",
    "amino_acid_single_letter = list(unique_aa)\n",
    "amino_acid_ids = [AMINO_ACID_MAP[aa] for aa in amino_acid_single_letter]\n",
    "\n",
    "for i in range(len(parsed_protein_df.index)):\n",
    "    protein = parsed_protein_df.at[i, 'sequence_processed']\n",
    "\n",
    "    if type(protein) is not dict:\n",
    "        continue\n",
    "\n",
    "    for aa, count in protein.items():\n",
    "        if count is not None:             # side effect of parquet\n",
    "            aa_index = amino_acid_single_letter.index(aa)\n",
    "            A[i, aa_index] = count"
   ],
   "metadata": {
    "collapsed": false,
    "ExecuteTime": {
     "end_time": "2023-11-28T18:56:49.042612Z",
     "start_time": "2023-11-28T18:56:49.008176Z"
    }
   }
  },
  {
   "cell_type": "markdown",
   "source": [
    "# Now ... add the counts >:o"
   ],
   "metadata": {
    "collapsed": false
   }
  },
  {
   "cell_type": "code",
   "execution_count": 26,
   "outputs": [],
   "source": [
    "time = '3000'\n",
    "date = '2023-10-31'\n",
    "experiment = 'metabolism-redux-classic'\n",
    "entry = f'{experiment}_{time}_{date}'\n",
    "folder = f'out/cofactors/{entry}/'"
   ],
   "metadata": {
    "collapsed": false,
    "ExecuteTime": {
     "end_time": "2023-11-28T18:56:49.042996Z",
     "start_time": "2023-11-28T18:56:49.039631Z"
    }
   }
  },
  {
   "cell_type": "code",
   "execution_count": 86,
   "outputs": [
    {
     "data": {
      "text/plain": "[11929,\n 12223,\n 12414,\n 12513,\n 12414,\n 12343,\n 12293,\n 12386,\n 12356,\n 12406,\n 12445,\n 12446,\n 12536,\n 12565,\n 12461,\n 12477,\n 12448,\n 12510,\n 12490,\n 12465,\n 12443,\n 12488,\n 12440,\n 12523,\n 12467,\n 12489,\n 12483,\n 12498,\n 12527,\n 12523,\n 12590,\n 12535,\n 12532,\n 12541,\n 12525,\n 12579,\n 12583,\n 12532,\n 12489,\n 12507,\n 12548,\n 12590,\n 12664,\n 12678,\n 12695,\n 12623,\n 12588,\n 12566,\n 12561,\n 12635,\n 12628,\n 12613,\n 12584,\n 12652,\n 12670,\n 12702,\n 12685,\n 12684,\n 12719,\n 12685,\n 12658,\n 12656,\n 12689,\n 12748,\n 12791,\n 12762,\n 12802,\n 12718,\n 12748,\n 12669,\n 12698,\n 12688,\n 12766,\n 12762,\n 12802,\n 12858,\n 12789,\n 12762,\n 12823,\n 12858,\n 12850,\n 12805,\n 12760,\n 12840,\n 12777,\n 12805,\n 12797,\n 12789,\n 12807,\n 12832,\n 12825,\n 12813,\n 12942,\n 12942,\n 12972,\n 12849,\n 12905,\n 12958,\n 12916,\n 12922,\n 12919,\n 12930,\n 12871,\n 12847,\n 12876,\n 12948,\n 13049,\n 13004,\n 12892,\n 12980,\n 12936,\n 12902,\n 12888,\n 12950,\n 12985,\n 13025,\n 13008,\n 12978,\n 12935,\n 12949,\n 13007,\n 13105,\n 13032,\n 12982,\n 12903,\n 12977,\n 13003,\n 13019,\n 13065,\n 13030,\n 12986,\n 13039,\n 13057,\n 13095,\n 13010,\n 13027,\n 13057,\n 13095,\n 13098,\n 13050,\n 13067,\n 13113,\n 13105,\n 13102,\n 13088,\n 13067,\n 13112,\n 13099,\n 13092,\n 13061,\n 13105,\n 13134,\n 13119,\n 13061,\n 13110,\n 13150,\n 13216,\n 13109,\n 13143,\n 13106,\n 13162,\n 13194,\n 13212,\n 13206,\n 13177,\n 13211,\n 13238,\n 13249,\n 13234,\n 13268,\n 13256,\n 13215,\n 13183,\n 13218,\n 13203,\n 13256,\n 13223,\n 13243,\n 13263,\n 13250,\n 13161,\n 13208,\n 13304,\n 13310,\n 13274,\n 13272,\n 13239,\n 13227,\n 13321,\n 13319,\n 13300,\n 13283,\n 13323,\n 13320,\n 13377,\n 13377,\n 13325,\n 13393,\n 13354,\n 13223,\n 13223,\n 13285,\n 13345,\n 13338,\n 13343,\n 13293,\n 13379,\n 13400,\n 13327,\n 13370,\n 13377,\n 13367,\n 13363,\n 13370,\n 13359,\n 13348,\n 13388,\n 13405,\n 13446,\n 13363,\n 13399,\n 13363,\n 13452,\n 13557,\n 13481,\n 13498,\n 13482,\n 13448,\n 13461,\n 13482,\n 13482,\n 13483,\n 13439,\n 13442,\n 13441,\n 13490,\n 13489,\n 13485,\n 13538,\n 13516,\n 13482,\n 13521,\n 13528,\n 13496,\n 13488,\n 13541,\n 13544,\n 13453,\n 13510,\n 13536,\n 13517,\n 13559,\n 13589,\n 13628,\n 13719,\n 13725,\n 13663,\n 13652,\n 13624,\n 13652,\n 13638,\n 13688,\n 13688,\n 13676,\n 13678,\n 13737,\n 13646,\n 13753,\n 13715,\n 13748,\n 13734,\n 13704,\n 13671,\n 13681,\n 13662,\n 13663,\n 13721,\n 13696,\n 13649,\n 13688,\n 13684,\n 13717,\n 13694,\n 13722,\n 13789,\n 13742,\n 13828,\n 13751,\n 13778,\n 13690,\n 13735,\n 13780,\n 13822,\n 13827,\n 13798,\n 13731,\n 13782,\n 13813,\n 13840,\n 13867,\n 13833,\n 13750,\n 13786,\n 13847,\n 13870,\n 13840,\n 13821,\n 13835,\n 13927,\n 13952,\n 13916,\n 13881,\n 13905,\n 13943,\n 13910,\n 13868,\n 13905,\n 13894,\n 13858,\n 13907,\n 13902,\n 13944,\n 13916,\n 14022,\n 14004,\n 14000,\n 13911,\n 13955,\n 13858,\n 13944,\n 13975,\n 13982,\n 13916,\n 13968,\n 13931,\n 13928,\n 13961,\n 13979,\n 14021,\n 14021,\n 13991,\n 14089,\n 14075,\n 14059,\n 14003,\n 14039,\n 14089,\n 14049,\n 14063,\n 14113,\n 14127,\n 14049,\n 14108,\n 14125,\n 14100,\n 14021,\n 14037,\n 14039,\n 14149,\n 14187,\n 14055,\n 14055,\n 14069,\n 14083,\n 14143,\n 14145,\n 14102,\n 14109,\n 14121,\n 14143,\n 14178,\n 14203,\n 14171,\n 14205,\n 14212,\n 14172,\n 14195,\n 14237,\n 14194,\n 14233,\n 14236,\n 14193,\n 14208,\n 14219,\n 14235,\n 14230,\n 14234,\n 14234,\n 14261,\n 14210,\n 14295,\n 14211,\n 14324,\n 14373,\n 14348,\n 14333,\n 14372,\n 14393,\n 14397,\n 14363,\n 14359,\n 14356,\n 14351,\n 14359,\n 14338,\n 14378,\n 14358,\n 14430,\n 14425,\n 14394,\n 14404,\n 14471,\n 14488,\n 14444,\n 14438,\n 14473,\n 14434,\n 14443,\n 14466,\n 14503,\n 14444,\n 14411,\n 14413,\n 14433,\n 14424,\n 14433,\n 14446,\n 14390,\n 14442,\n 14465,\n 14429,\n 14479,\n 14538,\n 14464,\n 14478,\n 14500,\n 14434,\n 14492,\n 14607,\n 14614,\n 14623,\n 14556,\n 14552,\n 14592,\n 14558,\n 14595,\n 14563,\n 14575,\n 14560,\n 14607,\n 14635,\n 14668,\n 14645,\n 14690,\n 14647,\n 14591,\n 14625,\n 14625,\n 14673,\n 14684,\n 14591,\n 14581,\n 14701,\n 14774,\n 14741,\n 14673,\n 14664,\n 14675,\n 14642,\n 14638,\n 14693,\n 14670,\n 14724,\n 14687,\n 14692,\n 14660,\n 14767,\n 14720,\n 14722,\n 14717,\n 14749,\n 14691,\n 14713,\n 14720,\n 14758,\n 14796,\n 14834,\n 14854,\n 14843,\n 14825,\n 14801,\n 14757,\n 14796,\n 14836,\n 14866,\n 14777,\n 14832,\n 14789,\n 14759,\n 14763,\n 14804,\n 14834,\n 14771,\n 14800,\n 14848,\n 14825,\n 14772,\n 14835,\n 14781,\n 14855,\n 14909,\n 14928,\n 14872,\n 14813,\n 14849,\n 14871,\n 14952,\n 14871,\n 14950,\n 14958,\n 15014,\n 14979,\n 14961,\n 14965,\n 14951,\n 14909,\n 14945,\n 15003,\n 15031,\n 15048,\n 15014,\n 15015,\n 15012,\n 15037,\n 15017,\n 14951,\n 14943,\n 14920,\n 14955,\n 15052,\n 15012,\n 15010,\n 15041,\n 15016,\n 15077,\n 15115,\n 15125,\n 15113,\n 15119,\n 15099,\n 15052,\n 15081,\n 15095,\n 15071,\n 15096,\n 15117,\n 15168,\n 15249,\n 15214,\n 15217,\n 15179,\n 15090,\n 15043,\n 15116,\n 15199,\n 15169,\n 15202,\n 15190,\n 15132,\n 15130,\n 15132,\n 15188,\n 15159,\n 15175,\n 15215,\n 15211,\n 15144,\n 15123,\n 15263,\n 15144,\n 15175,\n 15266,\n 15304,\n 15301,\n 15320,\n 15294,\n 15259,\n 15258,\n 15305,\n 15313,\n 15338,\n 15324,\n 15332,\n 15361,\n 15357,\n 15391,\n 15330,\n 15348,\n 15338,\n 15367,\n 15318,\n 15366,\n 15367,\n 15295,\n 15292,\n 15333,\n 15315,\n 15347,\n 15329,\n 15371,\n 15381,\n 15382,\n 15287,\n 15388,\n 15321,\n 15412,\n 15425,\n 15395,\n 15393,\n 15371,\n 15408,\n 15413,\n 15469,\n 15430,\n 15371,\n 15441,\n 15484,\n 15458,\n 15454,\n 15386,\n 15381,\n 15446,\n 15492,\n 15490,\n 15456,\n 15515,\n 15558,\n 15582,\n 15436,\n 15440,\n 15524,\n 15506,\n 15481,\n 15608,\n 15601,\n 15580,\n 15592,\n 15603,\n 15613,\n 15600,\n 15596,\n 15578,\n 15530,\n 15560,\n 15564,\n 15679,\n 15642,\n 15699,\n 15654,\n 15669,\n 15629,\n 15622,\n 15633,\n 15688,\n 15676,\n 15657,\n 15646,\n 15700,\n 15746,\n 15763,\n 15752,\n 15760,\n 15678,\n 15735,\n 15719,\n 15769,\n 15821,\n 15823,\n 15670,\n 15692,\n 15692,\n 15740,\n 15820,\n 15751,\n 15797,\n 15741,\n 15751,\n 15650,\n 15795,\n 15724,\n 15749,\n 15803,\n 15870,\n 15822,\n 15739,\n 15757,\n 15807,\n 15828,\n 15927,\n 15852,\n 15861,\n 15865,\n 15818,\n 15804,\n 15876,\n 15839,\n 15845,\n 15849,\n 15848,\n 15866,\n 15901,\n 15856,\n 15870,\n 15782,\n 15778,\n 15918,\n 15944,\n 15928,\n 15890,\n 15907,\n 15887,\n 15892,\n 15880,\n 15948,\n 15943,\n 15946,\n 15950,\n 15961,\n 15939,\n 15976,\n 16033,\n 16069,\n 15979,\n 15971,\n 16115,\n 16076,\n 16057,\n 16064,\n 16070,\n 16083,\n 16050,\n 15999,\n 16022,\n 15994,\n 16055,\n 16076,\n 16103,\n 16152,\n 16028,\n 16013,\n 16007,\n 16066,\n 16101,\n 16125,\n 16142,\n 16106,\n 16250,\n 16239,\n 16213,\n 16141,\n 16113,\n 16176,\n 16247,\n 16248,\n 16215,\n 16223,\n 16236,\n 16274,\n 16240,\n 16231,\n 16207,\n 16250,\n 16288,\n 16219,\n 16196,\n 16193,\n 16233,\n 16234,\n 16241,\n 16301,\n 16319,\n 16319,\n 16248,\n 16228,\n 16209,\n 16266,\n 16209,\n 16201,\n 16332,\n 16341,\n 16344,\n 16378,\n 16345,\n 16381,\n 16387,\n 16414,\n 16452,\n 16459,\n 16408,\n 16418,\n 16425,\n 16418,\n 16381,\n 16370,\n 16471,\n 16453,\n 16436,\n 16499,\n 16483,\n 16497,\n 16483,\n 16475,\n 16500,\n 16438,\n 16446,\n 16458,\n 16540,\n 16459,\n 16496,\n 16462,\n 16558,\n 16506,\n 16568,\n 16545,\n 16575,\n 16510,\n 16524,\n 16543,\n 16527,\n 16553,\n 16581,\n 16521,\n 16542,\n 16528,\n 16583,\n 16568,\n 16620,\n 16584,\n 16652,\n 16647,\n 16595,\n 16601,\n 16637,\n 16649,\n 16691,\n 16650,\n 16664,\n 16677,\n 16662,\n 16723,\n 16726,\n 16709,\n 16779,\n 16724,\n 16800,\n 16809,\n 16752,\n 16773,\n 16795,\n 16812,\n 16833,\n 16755,\n 16695,\n 16689,\n 16772,\n 16761,\n 16815,\n 16797,\n 16854,\n 16801,\n 16746,\n 16732,\n 16743,\n 16797,\n 16844,\n 16825,\n 16866,\n 16818,\n 16851,\n 16852,\n 16841,\n 16834,\n 16811,\n 16870,\n 16825,\n 16911,\n 16871,\n 16847,\n 16835,\n 16868,\n 16908,\n 16878,\n 16928,\n 16943,\n 16937,\n 16971,\n 16935,\n 16928,\n 16911,\n 16906,\n 16931,\n 16906,\n 16944,\n 17014,\n 16986,\n 16898,\n 16956,\n 16944,\n 17003,\n 17013,\n 17039,\n 17027,\n 17114,\n 17093,\n 17031,\n 17039,\n 17020,\n 17096,\n 17051,\n 17117,\n 17087,\n 17119,\n 17106,\n 17039,\n 17166,\n 17060,\n 17024,\n 17017,\n 17072,\n 17105,\n 17119,\n 17110,\n 17117,\n 17139,\n 17219,\n 17176,\n 17231,\n 17145,\n 17235,\n 17200,\n 17210,\n 17190,\n 17214,\n 17199,\n 17231,\n 17214,\n 17179,\n 17183,\n 17208,\n 17285,\n 17290,\n 17326,\n 17251,\n 17205,\n 17226,\n 17186,\n 17231,\n 17253,\n 17263,\n 17298,\n 17324,\n 17309,\n 17263,\n 17257,\n 17310,\n 17326,\n 17256,\n 17345,\n 17388,\n 17410,\n 17373,\n 17440,\n 17350,\n 17369,\n 17411,\n 17326,\n 17341,\n 17430,\n 17443,\n 17486,\n 17412,\n 17441,\n 17396,\n 17374,\n 17403,\n 17416,\n 17475,\n 17474,\n 17527,\n 17508,\n 17456,\n 17501,\n 17504,\n 17443,\n 17446,\n 17440,\n 17469,\n 17431,\n 17508,\n 17489,\n ...]"
     },
     "execution_count": 86,
     "metadata": {},
     "output_type": "execute_result"
    }
   ],
   "source": [
    "output_all = np.load(folder + 'output.npy',allow_pickle='TRUE').item()\n",
    "# output = np.load(r\"out/geneRxnVerifData/output_glc.npy\", allow_pickle=True, encoding='ASCII').tolist()\n",
    "output = output_all['agents']['0']\n",
    "fba = output['listeners']['fba_results']\n",
    "mass = output['listeners']['mass']\n",
    "bulk = pd.DataFrame(output['bulk'])\n",
    "\n",
    "fluxes = np.array(fba['estimated_fluxes'][1:])\n",
    "exchanges = fba['estimated_exchange_dmdt']\n",
    "\n",
    "output['listeners']['unique_molecule_counts']['active_ribosome']"
   ],
   "metadata": {
    "collapsed": false,
    "ExecuteTime": {
     "end_time": "2023-11-28T19:06:57.811183Z",
     "start_time": "2023-11-28T19:06:37.318165Z"
    }
   }
  },
  {
   "cell_type": "code",
   "execution_count": 28,
   "outputs": [
    {
     "data": {
      "text/plain": "[729,\n 737,\n 750,\n 752,\n 759,\n 755,\n 746,\n 750,\n 750,\n 754,\n 747,\n 752,\n 768,\n 778,\n 794,\n 791,\n 796,\n 789,\n 783,\n 773,\n 775,\n 776,\n 774,\n 770,\n 780,\n 787,\n 792,\n 799,\n 797,\n 801,\n 806,\n 801,\n 797,\n 794,\n 799,\n 801,\n 810,\n 813,\n 819,\n 814,\n 814,\n 815,\n 801,\n 809,\n 816,\n 811,\n 819,\n 806,\n 800,\n 797,\n 787,\n 791,\n 799,\n 801,\n 801,\n 790,\n 796,\n 782,\n 778,\n 792,\n 792,\n 789,\n 791,\n 775,\n 770,\n 761,\n 770,\n 771,\n 773,\n 766,\n 770,\n 769,\n 782,\n 783,\n 772,\n 769,\n 779,\n 777,\n 770,\n 769,\n 780,\n 776,\n 785,\n 789,\n 790,\n 791,\n 789,\n 789,\n 785,\n 782,\n 784,\n 795,\n 792,\n 781,\n 791,\n 790,\n 804,\n 796,\n 802,\n 813,\n 807,\n 816,\n 816,\n 819,\n 820,\n 817,\n 817,\n 811,\n 800,\n 808,\n 810,\n 810,\n 799,\n 791,\n 791,\n 798,\n 791,\n 787,\n 783,\n 780,\n 782,\n 791,\n 798,\n 804,\n 808,\n 803,\n 790,\n 793,\n 796,\n 811,\n 811,\n 804,\n 788,\n 788,\n 798,\n 788,\n 796,\n 801,\n 800,\n 803,\n 808,\n 802,\n 808,\n 803,\n 808,\n 808,\n 811,\n 818,\n 815,\n 810,\n 810,\n 822,\n 830,\n 816,\n 808,\n 813,\n 802,\n 813,\n 814,\n 815,\n 823,\n 827,\n 818,\n 818,\n 807,\n 807,\n 805,\n 804,\n 795,\n 787,\n 788,\n 789,\n 793,\n 787,\n 775,\n 770,\n 768,\n 764,\n 761,\n 756,\n 754,\n 764,\n 747,\n 757,\n 745,\n 747,\n 758,\n 752,\n 754,\n 753,\n 770,\n 769,\n 770,\n 773,\n 787,\n 796,\n 794,\n 805,\n 808,\n 806,\n 809,\n 819,\n 825,\n 831,\n 816,\n 813,\n 815,\n 825,\n 819,\n 810,\n 814,\n 818,\n 824,\n 826,\n 834,\n 837,\n 832,\n 839,\n 851,\n 850,\n 845,\n 844,\n 848,\n 842,\n 841,\n 845,\n 850,\n 838,\n 836,\n 828,\n 827,\n 828,\n 829,\n 830,\n 838,\n 843,\n 846,\n 839,\n 833,\n 826,\n 830,\n 825,\n 818,\n 832,\n 835,\n 832,\n 829,\n 837,\n 820,\n 821,\n 831,\n 839,\n 829,\n 824,\n 829,\n 832,\n 825,\n 824,\n 814,\n 795,\n 799,\n 806,\n 805,\n 807,\n 804,\n 803,\n 800,\n 793,\n 794,\n 791,\n 799,\n 796,\n 801,\n 799,\n 793,\n 781,\n 784,\n 794,\n 795,\n 801,\n 799,\n 805,\n 809,\n 811,\n 800,\n 802,\n 805,\n 802,\n 802,\n 813,\n 811,\n 811,\n 815,\n 823,\n 818,\n 814,\n 813,\n 808,\n 813,\n 816,\n 830,\n 825,\n 833,\n 841,\n 832,\n 834,\n 842,\n 853,\n 850,\n 845,\n 850,\n 847,\n 844,\n 833,\n 841,\n 849,\n 843,\n 836,\n 829,\n 827,\n 822,\n 819,\n 828,\n 835,\n 833,\n 833,\n 819,\n 813,\n 820,\n 837,\n 837,\n 841,\n 836,\n 835,\n 831,\n 839,\n 847,\n 854,\n 854,\n 847,\n 843,\n 852,\n 836,\n 833,\n 845,\n 844,\n 848,\n 854,\n 856,\n 863,\n 862,\n 863,\n 861,\n 874,\n 875,\n 876,\n 872,\n 874,\n 869,\n 861,\n 857,\n 863,\n 864,\n 861,\n 853,\n 857,\n 840,\n 832,\n 837,\n 840,\n 838,\n 839,\n 839,\n 844,\n 831,\n 838,\n 831,\n 850,\n 842,\n 838,\n 831,\n 841,\n 852,\n 841,\n 843,\n 839,\n 828,\n 838,\n 833,\n 834,\n 827,\n 832,\n 836,\n 842,\n 838,\n 844,\n 850,\n 856,\n 859,\n 860,\n 855,\n 846,\n 846,\n 847,\n 847,\n 848,\n 854,\n 855,\n 869,\n 878,\n 887,\n 887,\n 886,\n 882,\n 885,\n 888,\n 896,\n 890,\n 892,\n 889,\n 892,\n 885,\n 885,\n 887,\n 875,\n 878,\n 875,\n 884,\n 880,\n 879,\n 879,\n 885,\n 887,\n 889,\n 887,\n 889,\n 877,\n 871,\n 866,\n 870,\n 867,\n 870,\n 874,\n 870,\n 862,\n 866,\n 866,\n 876,\n 873,\n 877,\n 883,\n 876,\n 873,\n 863,\n 854,\n 853,\n 852,\n 854,\n 857,\n 851,\n 844,\n 851,\n 860,\n 863,\n 859,\n 862,\n 850,\n 853,\n 844,\n 844,\n 850,\n 838,\n 849,\n 866,\n 866,\n 864,\n 870,\n 853,\n 856,\n 860,\n 854,\n 851,\n 852,\n 862,\n 861,\n 860,\n 856,\n 859,\n 855,\n 865,\n 863,\n 869,\n 881,\n 883,\n 879,\n 873,\n 876,\n 863,\n 858,\n 867,\n 858,\n 860,\n 871,\n 882,\n 888,\n 887,\n 884,\n 881,\n 879,\n 889,\n 874,\n 860,\n 862,\n 854,\n 851,\n 840,\n 844,\n 834,\n 824,\n 814,\n 818,\n 818,\n 814,\n 832,\n 837,\n 841,\n 829,\n 837,\n 839,\n 844,\n 850,\n 849,\n 847,\n 861,\n 859,\n 849,\n 845,\n 855,\n 854,\n 865,\n 863,\n 861,\n 875,\n 865,\n 855,\n 858,\n 858,\n 852,\n 846,\n 836,\n 827,\n 829,\n 830,\n 832,\n 818,\n 810,\n 811,\n 811,\n 825,\n 839,\n 847,\n 854,\n 845,\n 849,\n 851,\n 846,\n 845,\n 841,\n 836,\n 837,\n 833,\n 839,\n 842,\n 840,\n 851,\n 840,\n 842,\n 841,\n 858,\n 862,\n 865,\n 868,\n 880,\n 893,\n 888,\n 891,\n 884,\n 893,\n 889,\n 884,\n 887,\n 884,\n 881,\n 893,\n 886,\n 886,\n 882,\n 891,\n 881,\n 870,\n 878,\n 866,\n 858,\n 871,\n 869,\n 868,\n 862,\n 863,\n 868,\n 888,\n 888,\n 897,\n 897,\n 894,\n 892,\n 892,\n 896,\n 904,\n 910,\n 910,\n 912,\n 908,\n 904,\n 908,\n 906,\n 897,\n 894,\n 891,\n 891,\n 896,\n 889,\n 887,\n 884,\n 888,\n 888,\n 877,\n 866,\n 878,\n 878,\n 876,\n 878,\n 881,\n 886,\n 890,\n 880,\n 890,\n 884,\n 882,\n 896,\n 906,\n 898,\n 901,\n 902,\n 895,\n 896,\n 907,\n 908,\n 910,\n 905,\n 902,\n 883,\n 876,\n 883,\n 889,\n 886,\n 886,\n 881,\n 872,\n 885,\n 874,\n 882,\n 885,\n 900,\n 899,\n 893,\n 902,\n 905,\n 902,\n 910,\n 910,\n 913,\n 919,\n 914,\n 913,\n 916,\n 909,\n 916,\n 932,\n 939,\n 938,\n 939,\n 937,\n 944,\n 946,\n 940,\n 947,\n 941,\n 944,\n 952,\n 963,\n 975,\n 971,\n 971,\n 967,\n 959,\n 964,\n 963,\n 946,\n 935,\n 939,\n 937,\n 932,\n 930,\n 934,\n 936,\n 943,\n 935,\n 930,\n 930,\n 922,\n 922,\n 922,\n 934,\n 933,\n 935,\n 934,\n 941,\n 942,\n 946,\n 946,\n 944,\n 947,\n 949,\n 943,\n 938,\n 948,\n 951,\n 956,\n 953,\n 952,\n 954,\n 956,\n 947,\n 944,\n 945,\n 940,\n 934,\n 932,\n 936,\n 932,\n 937,\n 930,\n 930,\n 922,\n 931,\n 933,\n 937,\n 935,\n 929,\n 938,\n 943,\n 946,\n 945,\n 946,\n 952,\n 959,\n 955,\n 934,\n 943,\n 941,\n 947,\n 939,\n 941,\n 939,\n 934,\n 915,\n 912,\n 908,\n 907,\n 913,\n 914,\n 906,\n 913,\n 914,\n 911,\n 909,\n 915,\n 917,\n 912,\n 923,\n 933,\n 942,\n 943,\n 943,\n 941,\n 936,\n 929,\n 929,\n 931,\n 926,\n 930,\n 938,\n 940,\n 947,\n 943,\n 948,\n 948,\n 946,\n 949,\n 950,\n 947,\n 940,\n 947,\n 950,\n 949,\n 957,\n 956,\n 967,\n 969,\n 964,\n 959,\n 950,\n 948,\n 944,\n 953,\n 952,\n 946,\n 953,\n 943,\n 945,\n 956,\n 955,\n 966,\n 955,\n 957,\n 961,\n 966,\n 963,\n 959,\n 953,\n 962,\n 970,\n 965,\n 962,\n 965,\n 971,\n 979,\n 976,\n 953,\n 961,\n 960,\n 952,\n 953,\n 949,\n 950,\n 948,\n 937,\n 941,\n 957,\n 934,\n 927,\n 935,\n 927,\n 940,\n 923,\n 924,\n 929,\n 927,\n 928,\n 935,\n 937,\n 944,\n 955,\n 942,\n 934,\n 922,\n 921,\n 918,\n 919,\n 919,\n 916,\n 920,\n 925,\n 921,\n 927,\n 923,\n 927,\n 926,\n 919,\n 927,\n 940,\n 929,\n 929,\n 918,\n 922,\n 917,\n 910,\n 904,\n 910,\n 917,\n 920,\n 918,\n 922,\n 927,\n 923,\n 929,\n 930,\n 936,\n 930,\n 919,\n 908,\n 896,\n 898,\n 902,\n 922,\n 928,\n 926,\n 925,\n 922,\n 929,\n 926,\n 935,\n 934,\n 946,\n 949,\n 943,\n 932,\n 930,\n 939,\n 941,\n 947,\n 942,\n 937,\n 931,\n 924,\n 924,\n 941,\n 923,\n 928,\n 949,\n 960,\n 957,\n 954,\n 966,\n 961,\n 957,\n 959,\n 954,\n 960,\n 959,\n 962,\n 963,\n 954,\n 958,\n 964,\n 965,\n 959,\n 978,\n 983,\n 972,\n 980,\n 982,\n 970,\n 974,\n 978,\n 974,\n 975,\n 969,\n 958,\n 963,\n 975,\n 968,\n 966,\n 971,\n 973,\n 962,\n 963,\n 965,\n 966,\n 951,\n 958,\n 954,\n 965,\n 964,\n 960,\n 953,\n 959,\n 963,\n 962,\n 963,\n 961,\n 967,\n 974,\n 970,\n 968,\n 962,\n 950,\n 957,\n 965,\n 967,\n ...]"
     },
     "execution_count": 28,
     "metadata": {},
     "output_type": "execute_result"
    }
   ],
   "source": [
    "output['listeners']['unique_molecule_counts']['active_RNAP']"
   ],
   "metadata": {
    "collapsed": false,
    "ExecuteTime": {
     "end_time": "2023-11-28T18:57:00.649527Z",
     "start_time": "2023-11-28T18:57:00.646270Z"
    }
   }
  },
  {
   "cell_type": "code",
   "execution_count": 29,
   "outputs": [],
   "source": [
    "f = open(folder + 'agent_steps.pkl', 'rb')\n",
    "agent = dill.load(f)\n",
    "f.close()\n",
    "\n",
    "metabolism = agent['ecoli-metabolism-redux-classic']\n",
    "stoichiometry = metabolism.stoichiometry\n"
   ],
   "metadata": {
    "collapsed": false,
    "ExecuteTime": {
     "end_time": "2023-11-28T18:57:02.879359Z",
     "start_time": "2023-11-28T18:57:00.649219Z"
    }
   }
  },
  {
   "cell_type": "code",
   "execution_count": 30,
   "outputs": [],
   "source": [
    "initial_state = json.load(open('data/wcecoli_t0.json'))\n",
    "\n",
    "bulk_ids = [item[0] for item in initial_state['bulk']]\n",
    "\n",
    "bulk.columns = bulk_ids"
   ],
   "metadata": {
    "collapsed": false,
    "ExecuteTime": {
     "end_time": "2023-11-28T18:57:02.925725Z",
     "start_time": "2023-11-28T18:57:02.879929Z"
    }
   }
  },
  {
   "cell_type": "code",
   "execution_count": 31,
   "outputs": [],
   "source": [
    "# in the bulk dataframe, update RNAP and 50S, 30S rib counts from unique molecules since they are sequestered as unique when in use.\n",
    "for unique_key, bulk_id in [('active_ribosome', 'CPLX0-3962'), ('active_ribosome', 'CPLX0-3953'), ('active_RNAP', 'APORNAP-CPLX')]:\n",
    "    if unique_key in output['listeners']['unique_molecule_counts']:\n",
    "        unique_count = output['listeners']['unique_molecule_counts'][unique_key]\n",
    "        bulk.loc[:, bulk_id+'[c]'] += unique_count"
   ],
   "metadata": {
    "collapsed": false,
    "ExecuteTime": {
     "end_time": "2023-11-28T18:57:02.930936Z",
     "start_time": "2023-11-28T18:57:02.929284Z"
    }
   }
  },
  {
   "cell_type": "code",
   "execution_count": 32,
   "outputs": [
    {
     "name": "stdout",
     "output_type": "stream",
     "text": [
      "could not find MONOMER0-1241\n",
      "could not find MONOMER0-4223\n",
      "could not find CPLX0-3964\n"
     ]
    }
   ],
   "source": [
    "ecocyc_to_wcm_map = {}\n",
    "\n",
    "# combined complex and protein names\n",
    "complex_protein_names = list(parsed_protein_df['id']) + list(parsed_complex_df['id'])\n",
    "\n",
    "for name in complex_protein_names:\n",
    "\n",
    "    # find complex name in bulk_ids\n",
    "    found = False\n",
    "\n",
    "    try:\n",
    "        idx = bulk_ids.index(name+'[c]')\n",
    "        ecocyc_to_wcm_map[name] = name+'[c]'\n",
    "        found = True\n",
    "        # print(f'found {complex_name} at {idx}')\n",
    "\n",
    "    except ValueError:\n",
    "        # delete key\n",
    "        found = False\n",
    "\n",
    "\n",
    "    if found == False:\n",
    "\n",
    "        for id in bulk_ids:\n",
    "            if name+'[' in id and id.startswith(name) and bulk.loc[:, id].sum() > 0:\n",
    "                #print(f'found {name} in {id} with nonzero count')\n",
    "                ecocyc_to_wcm_map[name] = id\n",
    "                found = True\n",
    "                break           # ensures preferring nonzero counts\n",
    "\n",
    "            elif name+'[' in id and id.startswith(name):\n",
    "                # print(f'found {name} in {id} with zero count')\n",
    "                ecocyc_to_wcm_map[name] = id\n",
    "                found = True\n",
    "\n",
    "    if found == False:\n",
    "        ecocyc_to_wcm_map[name] = '--TRANS-ACENAPHTHENE-12-DIOL[c]' # should be none\n",
    "        print(f'could not find {name}')\n"
   ],
   "metadata": {
    "collapsed": false,
    "ExecuteTime": {
     "end_time": "2023-11-28T18:57:05.613714Z",
     "start_time": "2023-11-28T18:57:05.611086Z"
    }
   }
  },
  {
   "cell_type": "code",
   "execution_count": 33,
   "outputs": [],
   "source": [
    "complex_wcm_names = [ecocyc_to_wcm_map[name] for name in C_names]\n",
    "\n",
    "counts = bulk.loc[:, complex_wcm_names]"
   ],
   "metadata": {
    "collapsed": false,
    "ExecuteTime": {
     "end_time": "2023-11-28T18:57:05.626975Z",
     "start_time": "2023-11-28T18:57:05.625404Z"
    }
   }
  },
  {
   "cell_type": "markdown",
   "source": [
    "# External data sets"
   ],
   "metadata": {
    "collapsed": false
   }
  },
  {
   "cell_type": "markdown",
   "source": [
    "# Get surface area occupancy estimates"
   ],
   "metadata": {
    "collapsed": false
   }
  },
  {
   "cell_type": "code",
   "execution_count": 34,
   "outputs": [
    {
     "data": {
      "text/plain": "1920"
     },
     "execution_count": 34,
     "metadata": {},
     "output_type": "execute_result"
    }
   ],
   "source": [
    "# roughly 90 by 35 rectangle. pretty big? Multiplicity 2.\n",
    "# 0.009 x 0.0035 um^2 = 0.000032 um^2 * 3500 / 2 = 0.055 um^2\n",
    "# in rich media\n",
    "# 0.009 x 0.0035 um^2 = 0.000032 um^2 * 15000 / 2 = 0.24 um^2\n",
    "counts.at[0, ecocyc_to_wcm_map['CPLX-157']]"
   ],
   "metadata": {
    "collapsed": false,
    "ExecuteTime": {
     "end_time": "2023-11-28T18:57:05.631446Z",
     "start_time": "2023-11-28T18:57:05.628932Z"
    }
   }
  },
  {
   "cell_type": "code",
   "execution_count": 35,
   "outputs": [
    {
     "data": {
      "text/plain": "85"
     },
     "execution_count": 35,
     "metadata": {},
     "output_type": "execute_result"
    }
   ],
   "source": [
    "# 160 x 50 angstrom, = 0.016 x 0.005 um^2 = 0.00008 um^2 * 1000 = 0.08 um^2. Multiplicity 1\n",
    "# in rich media\n",
    "# 0.00008 um^2 * 3000 = 0.24 um^2, if 15000 would be like 20-30% of membrane space.\n",
    "counts.at[0, ecocyc_to_wcm_map['NADH-DHI-CPLX']]"
   ],
   "metadata": {
    "collapsed": false,
    "ExecuteTime": {
     "end_time": "2023-11-28T18:57:05.658855Z",
     "start_time": "2023-11-28T18:57:05.632187Z"
    }
   }
  },
  {
   "cell_type": "code",
   "execution_count": 36,
   "outputs": [
    {
     "data": {
      "text/plain": "1116"
     },
     "execution_count": 36,
     "metadata": {},
     "output_type": "execute_result"
    }
   ],
   "source": [
    "# roughly 70 by 40 rectangle. pretty big?, 0.007 x 0.004 um^2 = 0.000028 um^2 * 3000 ~= 0.09 um^2\n",
    "# grows to ~ 0.5 um^2 for 15000 counts in rich. Multiplicity 1. 8-15% of membrane space.\n",
    "counts.at[0, ecocyc_to_wcm_map['CYT-O-UBIOX-CPLX']]"
   ],
   "metadata": {
    "collapsed": false,
    "ExecuteTime": {
     "end_time": "2023-11-28T18:57:05.659117Z",
     "start_time": "2023-11-28T18:57:05.635800Z"
    }
   }
  },
  {
   "cell_type": "code",
   "execution_count": 37,
   "outputs": [
    {
     "data": {
      "text/plain": "845"
     },
     "execution_count": 37,
     "metadata": {},
     "output_type": "execute_result"
    }
   ],
   "source": [
    "# atpsyn, 25 rad circle, plus roughly 25 width accessory circling around. Multiplicity 1\n",
    "# 0.005 um^2 * 3 = 0.000075 um^2 * 3500 = 0.26 um^2\n",
    "# in rich media\n",
    "# 0.005 um^2 * 3 = 0.000075 um^2 * 10000 = 0.75 um^2, 10-20% of membrane space.\n",
    "counts.at[0, ecocyc_to_wcm_map['ATPSYN-CPLX']]"
   ],
   "metadata": {
    "collapsed": false,
    "ExecuteTime": {
     "end_time": "2023-11-28T18:57:05.659519Z",
     "start_time": "2023-11-28T18:57:05.639280Z"
    }
   }
  },
  {
   "cell_type": "code",
   "execution_count": 38,
   "outputs": [],
   "source": [
    "# sdh, rough 37 angstrom radius, half filled circle. multiplicity 3\n",
    "# 0.0037 um^2 * 3 / (2*3) = 0.000006845 um^2 * 3500 = 0.024 um^2\n",
    "# in rich, about the same."
   ],
   "metadata": {
    "collapsed": false,
    "ExecuteTime": {
     "end_time": "2023-11-28T18:57:05.659572Z",
     "start_time": "2023-11-28T18:57:05.641402Z"
    }
   }
  },
  {
   "cell_type": "code",
   "execution_count": 39,
   "outputs": [],
   "source": [
    "# ftsh, roughly 100 angstrom radius, circle. Multiplicity 24. Small impact.\n",
    "# 0.01 um^2 * 3 = 0.0003 um^2 * 1000/24 = 0.0125 um^2"
   ],
   "metadata": {
    "collapsed": false,
    "ExecuteTime": {
     "end_time": "2023-11-28T18:57:05.659619Z",
     "start_time": "2023-11-28T18:57:05.643484Z"
    }
   }
  },
  {
   "cell_type": "code",
   "execution_count": 40,
   "outputs": [],
   "source": [
    "# secyeg, roughly 40x40 rectangle. Multiplicity 1.\n",
    "# 0.004 um^2  = 0.000016 um^2 * 1700 = 0.0272 um^2\n",
    "# in rich, increases sixfold to 0.16 um^2. Becomes around 2-5%. Not bad.\n",
    "\n",
    "# add secdf\n"
   ],
   "metadata": {
    "collapsed": false,
    "ExecuteTime": {
     "end_time": "2023-11-28T18:57:05.659677Z",
     "start_time": "2023-11-28T18:57:05.645452Z"
    }
   }
  },
  {
   "cell_type": "code",
   "execution_count": 41,
   "outputs": [],
   "source": [
    "# tcs, about 30-50 copies for 30 different systems. 8 angstrom radius for dimer. Multiplicity 2.\n",
    "# 0.0008 um^2 * 3= 0.00000192 um^2 * 30 * 30 / 2  = 0.000900 um^2"
   ],
   "metadata": {
    "collapsed": false,
    "ExecuteTime": {
     "end_time": "2023-11-28T18:57:05.659787Z",
     "start_time": "2023-11-28T18:57:05.647806Z"
    }
   }
  },
  {
   "cell_type": "code",
   "execution_count": 42,
   "outputs": [],
   "source": [
    "# mscS, 40 angstrom radius, circle. 3000 copies. Multiplicity 7.\n",
    "# 0.004 um^2 * 3 = 0.000048 um^2 * 3000 / 7 = 0.0210 um^2\n",
    "# 1-2% of membrane. Not bad.\n",
    "\n",
    "# mscL, 20 angstrom radius, circle. 3000 copies. Multiplicity 5.\n",
    "# 0.002 um^2 * 3 = 0.000012 um^2 * 3000 / 5 = 0.0072 um^2"
   ],
   "metadata": {
    "collapsed": false,
    "ExecuteTime": {
     "end_time": "2023-11-28T18:57:05.659841Z",
     "start_time": "2023-11-28T18:57:05.650055Z"
    }
   }
  },
  {
   "cell_type": "code",
   "execution_count": 43,
   "outputs": [],
   "source": [
    "# pntAB, 60x20 rectangle. 3000-6000 copies, multiplicity 2.\n",
    "# 0.006 * 0.002 = 0.000012 um^2 * 3000 / 2 = 0.018 um^2\n",
    "# 1-2% of membrane. Not bad."
   ],
   "metadata": {
    "collapsed": false,
    "ExecuteTime": {
     "end_time": "2023-11-28T18:57:05.659886Z",
     "start_time": "2023-11-28T18:57:05.651898Z"
    }
   }
  },
  {
   "cell_type": "code",
   "execution_count": 44,
   "outputs": [
    {
     "data": {
      "text/plain": "         complex_id relevant_structure  estimated_area um2  multiplicity  \\\n0          CPLX-157               5IWS            0.000032             2   \n1     NADH-DHI-CPLX               7ZCI            0.000080             1   \n2  CYT-O-UBIOX-CPLX               6WTI            0.000028             1   \n3       ATPSYN-CPLX               6OQU            0.000075             1   \n4        CPLX0-8160               6WU6            0.000020             3   \n5        CPLX0-2982               7VHP            0.000300            24   \n6     SECE-G-Y-CPLX               7XHA            0.000016             1   \n7        CPLX0-7626               6VYM            0.000048             7   \n8        CPLX0-7627               2OAR            0.000012             5   \n\n   count_normal  count_rich  \n0          3500       15000  \n1           800        2000  \n2          3500       15000  \n3          3000       10000  \n4          3500        3500  \n5          1000        4500  \n6          1700       10000  \n7          3000        4000  \n8          3000        4000  ",
      "text/html": "<div>\n<style scoped>\n    .dataframe tbody tr th:only-of-type {\n        vertical-align: middle;\n    }\n\n    .dataframe tbody tr th {\n        vertical-align: top;\n    }\n\n    .dataframe thead th {\n        text-align: right;\n    }\n</style>\n<table border=\"1\" class=\"dataframe\">\n  <thead>\n    <tr style=\"text-align: right;\">\n      <th></th>\n      <th>complex_id</th>\n      <th>relevant_structure</th>\n      <th>estimated_area um2</th>\n      <th>multiplicity</th>\n      <th>count_normal</th>\n      <th>count_rich</th>\n    </tr>\n  </thead>\n  <tbody>\n    <tr>\n      <th>0</th>\n      <td>CPLX-157</td>\n      <td>5IWS</td>\n      <td>0.000032</td>\n      <td>2</td>\n      <td>3500</td>\n      <td>15000</td>\n    </tr>\n    <tr>\n      <th>1</th>\n      <td>NADH-DHI-CPLX</td>\n      <td>7ZCI</td>\n      <td>0.000080</td>\n      <td>1</td>\n      <td>800</td>\n      <td>2000</td>\n    </tr>\n    <tr>\n      <th>2</th>\n      <td>CYT-O-UBIOX-CPLX</td>\n      <td>6WTI</td>\n      <td>0.000028</td>\n      <td>1</td>\n      <td>3500</td>\n      <td>15000</td>\n    </tr>\n    <tr>\n      <th>3</th>\n      <td>ATPSYN-CPLX</td>\n      <td>6OQU</td>\n      <td>0.000075</td>\n      <td>1</td>\n      <td>3000</td>\n      <td>10000</td>\n    </tr>\n    <tr>\n      <th>4</th>\n      <td>CPLX0-8160</td>\n      <td>6WU6</td>\n      <td>0.000020</td>\n      <td>3</td>\n      <td>3500</td>\n      <td>3500</td>\n    </tr>\n    <tr>\n      <th>5</th>\n      <td>CPLX0-2982</td>\n      <td>7VHP</td>\n      <td>0.000300</td>\n      <td>24</td>\n      <td>1000</td>\n      <td>4500</td>\n    </tr>\n    <tr>\n      <th>6</th>\n      <td>SECE-G-Y-CPLX</td>\n      <td>7XHA</td>\n      <td>0.000016</td>\n      <td>1</td>\n      <td>1700</td>\n      <td>10000</td>\n    </tr>\n    <tr>\n      <th>7</th>\n      <td>CPLX0-7626</td>\n      <td>6VYM</td>\n      <td>0.000048</td>\n      <td>7</td>\n      <td>3000</td>\n      <td>4000</td>\n    </tr>\n    <tr>\n      <th>8</th>\n      <td>CPLX0-7627</td>\n      <td>2OAR</td>\n      <td>0.000012</td>\n      <td>5</td>\n      <td>3000</td>\n      <td>4000</td>\n    </tr>\n  </tbody>\n</table>\n</div>"
     },
     "execution_count": 44,
     "metadata": {},
     "output_type": "execute_result"
    }
   ],
   "source": [
    "# read in surface area occupancy estimates\n",
    "area_df = pd.read_csv('notebooks/cofactors/external_data/membrane_areas.txt', skipinitialspace=True)\n",
    "area_df\n",
    "\n",
    "# strip whitespace from"
   ],
   "metadata": {
    "collapsed": false,
    "ExecuteTime": {
     "end_time": "2023-11-28T18:57:05.659994Z",
     "start_time": "2023-11-28T18:57:05.654246Z"
    }
   }
  },
  {
   "cell_type": "code",
   "execution_count": 45,
   "outputs": [
    {
     "data": {
      "text/plain": "         complex_id relevant_structure  estimated_area um2  multiplicity  \\\n0          CPLX-157               5IWS            0.000032             2   \n1     NADH-DHI-CPLX               7ZCI            0.000080             1   \n2  CYT-O-UBIOX-CPLX               6WTI            0.000028             1   \n3       ATPSYN-CPLX               6OQU            0.000075             1   \n4        CPLX0-8160               6WU6            0.000020             3   \n5        CPLX0-2982               7VHP            0.000300            24   \n6     SECE-G-Y-CPLX               7XHA            0.000016             1   \n7        CPLX0-7626               6VYM            0.000048             7   \n8        CPLX0-7627               2OAR            0.000012             5   \n\n   count_normal  count_rich  fraction_normal  fraction_rich  \n0          3500       15000         0.014000       0.030000  \n1           800        2000         0.016000       0.020000  \n2          3500       15000         0.024500       0.052500  \n3          3000       10000         0.056250       0.093750  \n4          3500        3500         0.005833       0.002917  \n5          1000        4500         0.003125       0.007031  \n6          1700       10000         0.006800       0.020000  \n7          3000        4000         0.005143       0.003429  \n8          3000        4000         0.001800       0.001200  ",
      "text/html": "<div>\n<style scoped>\n    .dataframe tbody tr th:only-of-type {\n        vertical-align: middle;\n    }\n\n    .dataframe tbody tr th {\n        vertical-align: top;\n    }\n\n    .dataframe thead th {\n        text-align: right;\n    }\n</style>\n<table border=\"1\" class=\"dataframe\">\n  <thead>\n    <tr style=\"text-align: right;\">\n      <th></th>\n      <th>complex_id</th>\n      <th>relevant_structure</th>\n      <th>estimated_area um2</th>\n      <th>multiplicity</th>\n      <th>count_normal</th>\n      <th>count_rich</th>\n      <th>fraction_normal</th>\n      <th>fraction_rich</th>\n    </tr>\n  </thead>\n  <tbody>\n    <tr>\n      <th>0</th>\n      <td>CPLX-157</td>\n      <td>5IWS</td>\n      <td>0.000032</td>\n      <td>2</td>\n      <td>3500</td>\n      <td>15000</td>\n      <td>0.014000</td>\n      <td>0.030000</td>\n    </tr>\n    <tr>\n      <th>1</th>\n      <td>NADH-DHI-CPLX</td>\n      <td>7ZCI</td>\n      <td>0.000080</td>\n      <td>1</td>\n      <td>800</td>\n      <td>2000</td>\n      <td>0.016000</td>\n      <td>0.020000</td>\n    </tr>\n    <tr>\n      <th>2</th>\n      <td>CYT-O-UBIOX-CPLX</td>\n      <td>6WTI</td>\n      <td>0.000028</td>\n      <td>1</td>\n      <td>3500</td>\n      <td>15000</td>\n      <td>0.024500</td>\n      <td>0.052500</td>\n    </tr>\n    <tr>\n      <th>3</th>\n      <td>ATPSYN-CPLX</td>\n      <td>6OQU</td>\n      <td>0.000075</td>\n      <td>1</td>\n      <td>3000</td>\n      <td>10000</td>\n      <td>0.056250</td>\n      <td>0.093750</td>\n    </tr>\n    <tr>\n      <th>4</th>\n      <td>CPLX0-8160</td>\n      <td>6WU6</td>\n      <td>0.000020</td>\n      <td>3</td>\n      <td>3500</td>\n      <td>3500</td>\n      <td>0.005833</td>\n      <td>0.002917</td>\n    </tr>\n    <tr>\n      <th>5</th>\n      <td>CPLX0-2982</td>\n      <td>7VHP</td>\n      <td>0.000300</td>\n      <td>24</td>\n      <td>1000</td>\n      <td>4500</td>\n      <td>0.003125</td>\n      <td>0.007031</td>\n    </tr>\n    <tr>\n      <th>6</th>\n      <td>SECE-G-Y-CPLX</td>\n      <td>7XHA</td>\n      <td>0.000016</td>\n      <td>1</td>\n      <td>1700</td>\n      <td>10000</td>\n      <td>0.006800</td>\n      <td>0.020000</td>\n    </tr>\n    <tr>\n      <th>7</th>\n      <td>CPLX0-7626</td>\n      <td>6VYM</td>\n      <td>0.000048</td>\n      <td>7</td>\n      <td>3000</td>\n      <td>4000</td>\n      <td>0.005143</td>\n      <td>0.003429</td>\n    </tr>\n    <tr>\n      <th>8</th>\n      <td>CPLX0-7627</td>\n      <td>2OAR</td>\n      <td>0.000012</td>\n      <td>5</td>\n      <td>3000</td>\n      <td>4000</td>\n      <td>0.001800</td>\n      <td>0.001200</td>\n    </tr>\n  </tbody>\n</table>\n</div>"
     },
     "execution_count": 45,
     "metadata": {},
     "output_type": "execute_result"
    }
   ],
   "source": [
    "normal_surface_area = 4\n",
    "rich_surface_area = 8\n",
    "\n",
    "area_df['fraction_normal'] = (area_df['count_normal'] / area_df['multiplicity'] * area_df['estimated_area um2']) / normal_surface_area\n",
    "area_df['fraction_rich'] = (area_df['count_rich'] / area_df['multiplicity'] * area_df['estimated_area um2']) / rich_surface_area\n",
    "area_df"
   ],
   "metadata": {
    "collapsed": false,
    "ExecuteTime": {
     "end_time": "2023-11-28T18:57:05.667712Z",
     "start_time": "2023-11-28T18:57:05.663574Z"
    }
   }
  },
  {
   "cell_type": "code",
   "execution_count": 46,
   "outputs": [
    {
     "data": {
      "text/plain": "0.13345119047619045"
     },
     "execution_count": 46,
     "metadata": {},
     "output_type": "execute_result"
    }
   ],
   "source": [
    "area_df['fraction_normal'].sum()"
   ],
   "metadata": {
    "collapsed": false,
    "ExecuteTime": {
     "end_time": "2023-11-28T18:57:05.673812Z",
     "start_time": "2023-11-28T18:57:05.667248Z"
    }
   }
  },
  {
   "cell_type": "code",
   "execution_count": 47,
   "outputs": [
    {
     "data": {
      "text/plain": "0.2308264880952381"
     },
     "execution_count": 47,
     "metadata": {},
     "output_type": "execute_result"
    }
   ],
   "source": [
    "area_df['fraction_rich'].sum()"
   ],
   "metadata": {
    "collapsed": false,
    "ExecuteTime": {
     "end_time": "2023-11-28T18:57:05.674033Z",
     "start_time": "2023-11-28T18:57:05.670276Z"
    }
   }
  },
  {
   "cell_type": "code",
   "execution_count": 48,
   "outputs": [
    {
     "data": {
      "text/plain": "0    0.129968\n1    0.086645\n2    0.227444\n3    0.406149\n4    0.012636\n5    0.030461\n6    0.086645\n7    0.014853\n8    0.005199\nName: fraction_rich, dtype: float64"
     },
     "execution_count": 48,
     "metadata": {},
     "output_type": "execute_result"
    }
   ],
   "source": [
    "area_df['fraction_rich']  / area_df['fraction_rich'].sum()"
   ],
   "metadata": {
    "collapsed": false,
    "ExecuteTime": {
     "end_time": "2023-11-28T18:57:05.677746Z",
     "start_time": "2023-11-28T18:57:05.674554Z"
    }
   }
  },
  {
   "cell_type": "markdown",
   "source": [
    "# Saving outputs to files compatible with Julia"
   ],
   "metadata": {
    "collapsed": false
   }
  },
  {
   "cell_type": "code",
   "execution_count": 49,
   "outputs": [
    {
     "data": {
      "text/plain": "                                id  \\\n0               Transport-Pathways   \n1               Metabolic-Clusters   \n2                     OANTIGEN-PWY   \n3                         PWY-7206   \n4                         PWY-7184   \n...                            ...   \n1183                         Porin   \n1184  Iron-sulfur cluster assembly   \n1185                   Proteolysis   \n1186                    DNA repair   \n1187        Response to copper ion   \n\n                                                parents  \\\n0                                                    []   \n1                                                    []   \n2     [Metabolic-Clusters, SUGAR-NUCLEOTIDES, Super-...   \n3     [Metabolic-Clusters, Pyrimidine-Deoxyribonucle...   \n4     [Metabolic-Clusters, Pyrimid-Deoxyribonucleot-...   \n...                                                 ...   \n1183                                  [Other functions]   \n1184                                  [Other functions]   \n1185                                  [Other functions]   \n1186                                  [Other functions]   \n1187                                  [Other functions]   \n\n                                               children  level  \\\n0                                                    []      1   \n1     [OANTIGEN-PWY, PWY-7206, PWY-7184, PWY-7801, P...      1   \n2                                                    []      2   \n3                                                    []      2   \n4                                                    []      2   \n...                                                 ...    ...   \n1183                                                 []      2   \n1184                                                 []      2   \n1185                                                 []      2   \n1186                                                 []      2   \n1187                                                 []      2   \n\n                                            common_name  \n0                                             Transport  \n1                                    Metabolic Clusters  \n2     <i>O</i>-antigen building blocks biosynthesis ...  \n3     pyrimidine deoxyribonucleotides dephosphorylation  \n4     pyrimidine deoxyribonucleotides <i>de novo</i>...  \n...                                                 ...  \n1183                                              Porin  \n1184                       Iron-sulfur cluster assembly  \n1185                                        Proteolysis  \n1186                                         DNA repair  \n1187                             Response to copper ion  \n\n[1188 rows x 5 columns]",
      "text/html": "<div>\n<style scoped>\n    .dataframe tbody tr th:only-of-type {\n        vertical-align: middle;\n    }\n\n    .dataframe tbody tr th {\n        vertical-align: top;\n    }\n\n    .dataframe thead th {\n        text-align: right;\n    }\n</style>\n<table border=\"1\" class=\"dataframe\">\n  <thead>\n    <tr style=\"text-align: right;\">\n      <th></th>\n      <th>id</th>\n      <th>parents</th>\n      <th>children</th>\n      <th>level</th>\n      <th>common_name</th>\n    </tr>\n  </thead>\n  <tbody>\n    <tr>\n      <th>0</th>\n      <td>Transport-Pathways</td>\n      <td>[]</td>\n      <td>[]</td>\n      <td>1</td>\n      <td>Transport</td>\n    </tr>\n    <tr>\n      <th>1</th>\n      <td>Metabolic-Clusters</td>\n      <td>[]</td>\n      <td>[OANTIGEN-PWY, PWY-7206, PWY-7184, PWY-7801, P...</td>\n      <td>1</td>\n      <td>Metabolic Clusters</td>\n    </tr>\n    <tr>\n      <th>2</th>\n      <td>OANTIGEN-PWY</td>\n      <td>[Metabolic-Clusters, SUGAR-NUCLEOTIDES, Super-...</td>\n      <td>[]</td>\n      <td>2</td>\n      <td>&lt;i&gt;O&lt;/i&gt;-antigen building blocks biosynthesis ...</td>\n    </tr>\n    <tr>\n      <th>3</th>\n      <td>PWY-7206</td>\n      <td>[Metabolic-Clusters, Pyrimidine-Deoxyribonucle...</td>\n      <td>[]</td>\n      <td>2</td>\n      <td>pyrimidine deoxyribonucleotides dephosphorylation</td>\n    </tr>\n    <tr>\n      <th>4</th>\n      <td>PWY-7184</td>\n      <td>[Metabolic-Clusters, Pyrimid-Deoxyribonucleot-...</td>\n      <td>[]</td>\n      <td>2</td>\n      <td>pyrimidine deoxyribonucleotides &lt;i&gt;de novo&lt;/i&gt;...</td>\n    </tr>\n    <tr>\n      <th>...</th>\n      <td>...</td>\n      <td>...</td>\n      <td>...</td>\n      <td>...</td>\n      <td>...</td>\n    </tr>\n    <tr>\n      <th>1183</th>\n      <td>Porin</td>\n      <td>[Other functions]</td>\n      <td>[]</td>\n      <td>2</td>\n      <td>Porin</td>\n    </tr>\n    <tr>\n      <th>1184</th>\n      <td>Iron-sulfur cluster assembly</td>\n      <td>[Other functions]</td>\n      <td>[]</td>\n      <td>2</td>\n      <td>Iron-sulfur cluster assembly</td>\n    </tr>\n    <tr>\n      <th>1185</th>\n      <td>Proteolysis</td>\n      <td>[Other functions]</td>\n      <td>[]</td>\n      <td>2</td>\n      <td>Proteolysis</td>\n    </tr>\n    <tr>\n      <th>1186</th>\n      <td>DNA repair</td>\n      <td>[Other functions]</td>\n      <td>[]</td>\n      <td>2</td>\n      <td>DNA repair</td>\n    </tr>\n    <tr>\n      <th>1187</th>\n      <td>Response to copper ion</td>\n      <td>[Other functions]</td>\n      <td>[]</td>\n      <td>2</td>\n      <td>Response to copper ion</td>\n    </tr>\n  </tbody>\n</table>\n<p>1188 rows × 5 columns</p>\n</div>"
     },
     "execution_count": 49,
     "metadata": {},
     "output_type": "execute_result"
    }
   ],
   "source": [
    "parsed_pathway_df"
   ],
   "metadata": {
    "collapsed": false,
    "ExecuteTime": {
     "end_time": "2023-11-28T18:57:05.722385Z",
     "start_time": "2023-11-28T18:57:05.677445Z"
    }
   }
  },
  {
   "cell_type": "code",
   "execution_count": 50,
   "outputs": [],
   "source": [
    "complex_names = list(parsed_complex_df['common_name'])\n",
    "protein_names = list(parsed_protein_df['common_name'])\n",
    "cofactor_names = list(parsed_cofactor_df['common_name'])\n",
    "pathway_names = list(parsed_pathway_df['common_name'])\n",
    "\n",
    "# if cplx name is nan then use id\n",
    "complex_names = [complex_names[i] if type(complex_names[i]) == str else parsed_complex_df['id'][i] for i in range(len(complex_names))]\n",
    "protein_names = [protein_names[i] if type(protein_names[i]) == str else parsed_protein_df['id'][i] for i in range(len(protein_names))]\n",
    "cofactor_names = [cofactor_names[i] if type(cofactor_names[i]) == str else parsed_cofactor_df['id'][i] for i in range(len(cofactor_names))]\n",
    "pathway_names = [pathway_names[i] if type(pathway_names[i]) == str else parsed_pathway_df['id'][i] for i in range(len(pathway_names))]\n",
    "\n",
    "# save C, P and E to julia-compatible formats\n",
    "np.savetxt('notebooks/cofactors/data/C_matrix.csv', C.astype(np.int64), delimiter=',', fmt='%i')\n",
    "np.savetxt('notebooks/cofactors/data/P_matrix.csv', P.astype(np.int64), delimiter=',', fmt='%i')\n",
    "np.savetxt('notebooks/cofactors/data/E_matrix.csv', E.astype(np.int64), delimiter=',', fmt='%i')\n",
    "np.savetxt('notebooks/cofactors/data/W_matrix.csv', W.astype(np.float64), delimiter=',')\n",
    "np.savetxt('notebooks/cofactors/data/W1_matrix.csv', W1.astype(np.float64), delimiter=',')\n",
    "np.savetxt('notebooks/cofactors/data/W2_matrix.csv', W2.astype(np.float64), delimiter=',')\n",
    "np.savetxt('notebooks/cofactors/data/A_matrix.csv', A.astype(np.float64), delimiter=',')\n",
    "\n",
    "\n",
    "# write all ids to single file with each list on a new line\n",
    "with open('notebooks/cofactors/data/complex_ids.txt', 'w') as f:\n",
    "    f.write('\\n'.join(complex_ids))\n",
    "with open('notebooks/cofactors/data/protein_ids.txt', 'w') as f:\n",
    "    f.write('\\n'.join(protein_ids))\n",
    "with open('notebooks/cofactors/data/cofactor_ids.txt', 'w') as f:\n",
    "    f.write('\\n'.join(cofactor_ids))\n",
    "with open('notebooks/cofactors/data/element_ids.txt', 'w') as f:\n",
    "    f.write('\\n'.join(element_ids))\n",
    "with open('notebooks/cofactors/data/pathway_ids.txt', 'w') as f:\n",
    "    f.write('\\n'.join(pathway_ids))\n",
    "with open('notebooks/cofactors/data/amino_acid_ids.txt', 'w') as f:\n",
    "    f.write('\\n'.join(amino_acid_ids))\n",
    "\n",
    "# write all names to single file with each list on a new line\n",
    "with open('notebooks/cofactors/data/complex_names.txt', 'w') as f:\n",
    "    f.write('\\n'.join(complex_names))\n",
    "with open('notebooks/cofactors/data/protein_names.txt', 'w') as f:\n",
    "    f.write('\\n'.join(protein_names))\n",
    "with open('notebooks/cofactors/data/cofactor_names.txt', 'w') as f:\n",
    "    f.write('\\n'.join(cofactor_names))\n",
    "with open('notebooks/cofactors/data/pathway_names.txt', 'w') as f:\n",
    "    f.write('\\n'.join(pathway_names))\n",
    "\n",
    "\n",
    "# save counts of proteins and complexes\n",
    "np.savetxt('notebooks/cofactors/data/counts.csv', np.array(counts, dtype=np.int64), delimiter=',', fmt='%i')\n",
    "\n",
    "# save masses\n",
    "np.savetxt('notebooks/cofactors/data/monomer_masses.csv', np.array(parsed_protein_df['sequence_mass']), delimiter=',', fmt='%f')\n",
    "\n",
    "# save tree_matrix\n",
    "np.savetxt('notebooks/cofactors/data/tree_matrix.csv', tree_matrix, delimiter=',', fmt='%i')\n",
    "\n"
   ],
   "metadata": {
    "collapsed": false,
    "ExecuteTime": {
     "end_time": "2023-11-28T18:57:12.559759Z",
     "start_time": "2023-11-28T18:57:05.692329Z"
    }
   }
  },
  {
   "cell_type": "code",
   "execution_count": 51,
   "outputs": [],
   "source": [
    "# save counts as csv with header for Khoa\n",
    "counts.to_csv('notebooks/cofactors/data/counts_header.csv', index=False)\n",
    "\n",
    "parsed_protein_df.to_csv('notebooks/cofactors/data/protein_table.csv', index=False)"
   ],
   "metadata": {
    "collapsed": false,
    "ExecuteTime": {
     "end_time": "2023-11-28T18:57:14.578700Z",
     "start_time": "2023-11-28T18:57:12.559963Z"
    }
   }
  },
  {
   "cell_type": "markdown",
   "source": [
    "# Tests"
   ],
   "metadata": {
    "collapsed": false
   }
  },
  {
   "cell_type": "code",
   "execution_count": 52,
   "outputs": [
    {
     "data": {
      "text/plain": "                   id                                 common_name  \\\n1539  EG12332-MONOMER  iron-sulfur cluster insertion protein ErpA   \n\n     enzyme_reaction cofactors              direct_annotations  \\\n1539              {}        {}  {Iron-sulfur cluster assembly}   \n\n                                         go_annotations uniprot_id  \\\n1539  {GO:0051539, GO:0046872, GO:0009061, GO:000582...     P0ACC3   \n\n     metal_features_processed other_features_processed  \\\n1539                       {}                       {}   \n\n                                     sequence_processed  sequence_mass  \n1539  {'M': 3, 'S': 10, 'D': 10, 'V': 10, 'A': 6, 'L...    12074.75582  ",
      "text/html": "<div>\n<style scoped>\n    .dataframe tbody tr th:only-of-type {\n        vertical-align: middle;\n    }\n\n    .dataframe tbody tr th {\n        vertical-align: top;\n    }\n\n    .dataframe thead th {\n        text-align: right;\n    }\n</style>\n<table border=\"1\" class=\"dataframe\">\n  <thead>\n    <tr style=\"text-align: right;\">\n      <th></th>\n      <th>id</th>\n      <th>common_name</th>\n      <th>enzyme_reaction</th>\n      <th>cofactors</th>\n      <th>direct_annotations</th>\n      <th>go_annotations</th>\n      <th>uniprot_id</th>\n      <th>metal_features_processed</th>\n      <th>other_features_processed</th>\n      <th>sequence_processed</th>\n      <th>sequence_mass</th>\n    </tr>\n  </thead>\n  <tbody>\n    <tr>\n      <th>1539</th>\n      <td>EG12332-MONOMER</td>\n      <td>iron-sulfur cluster insertion protein ErpA</td>\n      <td>{}</td>\n      <td>{}</td>\n      <td>{Iron-sulfur cluster assembly}</td>\n      <td>{GO:0051539, GO:0046872, GO:0009061, GO:000582...</td>\n      <td>P0ACC3</td>\n      <td>{}</td>\n      <td>{}</td>\n      <td>{'M': 3, 'S': 10, 'D': 10, 'V': 10, 'A': 6, 'L...</td>\n      <td>12074.75582</td>\n    </tr>\n  </tbody>\n</table>\n</div>"
     },
     "execution_count": 52,
     "metadata": {},
     "output_type": "execute_result"
    }
   ],
   "source": [
    "parsed_protein_df[parsed_protein_df['id'] == 'EG12332-MONOMER']"
   ],
   "metadata": {
    "collapsed": false,
    "ExecuteTime": {
     "end_time": "2023-11-28T18:57:14.584962Z",
     "start_time": "2023-11-28T18:57:14.582945Z"
    }
   }
  },
  {
   "cell_type": "markdown",
   "source": [
    "First, let's test that the cofactor counts are correct for SULFITE-REDUCT-CPLX and its constituent BETACOMP-MONOMER"
   ],
   "metadata": {
    "collapsed": false
   }
  },
  {
   "cell_type": "code",
   "execution_count": 53,
   "outputs": [
    {
     "name": "stdout",
     "output_type": "stream",
     "text": [
      "found U in FDNG-MONOMER\n",
      "found U in FDOG-MONOMER\n",
      "found U in FORMATEDEHYDROGH-MONOMER\n"
     ]
    }
   ],
   "source": [
    "for i in range(len(parsed_protein_df)):\n",
    "    sequence = parsed_protein_df.at[i, 'sequence_processed']\n",
    "\n",
    "    if type(sequence) is dict and 'U' in sequence:\n",
    "        print(f'found U in {parsed_protein_df.at[i, \"id\"]}')"
   ],
   "metadata": {
    "collapsed": false,
    "ExecuteTime": {
     "end_time": "2023-11-28T18:57:14.597442Z",
     "start_time": "2023-11-28T18:57:14.595659Z"
    }
   }
  },
  {
   "cell_type": "code",
   "execution_count": 54,
   "outputs": [
    {
     "ename": "KeyError",
     "evalue": "1020",
     "output_type": "error",
     "traceback": [
      "\u001B[0;31m---------------------------------------------------------------------------\u001B[0m",
      "\u001B[0;31mKeyError\u001B[0m                                  Traceback (most recent call last)",
      "File \u001B[0;32m~/.pyenv/versions/viv-10/lib/python3.10/site-packages/pandas/core/indexes/base.py:3652\u001B[0m, in \u001B[0;36mIndex.get_loc\u001B[0;34m(self, key)\u001B[0m\n\u001B[1;32m   3651\u001B[0m \u001B[38;5;28;01mtry\u001B[39;00m:\n\u001B[0;32m-> 3652\u001B[0m     \u001B[38;5;28;01mreturn\u001B[39;00m \u001B[38;5;28;43mself\u001B[39;49m\u001B[38;5;241;43m.\u001B[39;49m\u001B[43m_engine\u001B[49m\u001B[38;5;241;43m.\u001B[39;49m\u001B[43mget_loc\u001B[49m\u001B[43m(\u001B[49m\u001B[43mcasted_key\u001B[49m\u001B[43m)\u001B[49m\n\u001B[1;32m   3653\u001B[0m \u001B[38;5;28;01mexcept\u001B[39;00m \u001B[38;5;167;01mKeyError\u001B[39;00m \u001B[38;5;28;01mas\u001B[39;00m err:\n",
      "File \u001B[0;32m~/.pyenv/versions/viv-10/lib/python3.10/site-packages/pandas/_libs/index.pyx:147\u001B[0m, in \u001B[0;36mpandas._libs.index.IndexEngine.get_loc\u001B[0;34m()\u001B[0m\n",
      "File \u001B[0;32m~/.pyenv/versions/viv-10/lib/python3.10/site-packages/pandas/_libs/index.pyx:171\u001B[0m, in \u001B[0;36mpandas._libs.index.IndexEngine.get_loc\u001B[0;34m()\u001B[0m\n",
      "File \u001B[0;32m~/.pyenv/versions/viv-10/lib/python3.10/site-packages/pandas/_libs/index.pyx:214\u001B[0m, in \u001B[0;36mpandas._libs.index.IndexEngine._get_loc_duplicates\u001B[0;34m()\u001B[0m\n",
      "File \u001B[0;32m~/.pyenv/versions/viv-10/lib/python3.10/site-packages/pandas/_libs/index.pyx:222\u001B[0m, in \u001B[0;36mpandas._libs.index.IndexEngine._maybe_get_bool_indexer\u001B[0;34m()\u001B[0m\n",
      "File \u001B[0;32m~/.pyenv/versions/viv-10/lib/python3.10/site-packages/pandas/_libs/index.pyx:114\u001B[0m, in \u001B[0;36mpandas._libs.index._unpack_bool_indexer\u001B[0;34m()\u001B[0m\n",
      "\u001B[0;31mKeyError\u001B[0m: 1020",
      "\nThe above exception was the direct cause of the following exception:\n",
      "\u001B[0;31mKeyError\u001B[0m                                  Traceback (most recent call last)",
      "Cell \u001B[0;32mIn[54], line 1\u001B[0m\n\u001B[0;32m----> 1\u001B[0m \u001B[38;5;28mprint\u001B[39m(\u001B[38;5;124mf\u001B[39m\u001B[38;5;124m'\u001B[39m\u001B[38;5;124mSulfite reductase complex count: \u001B[39m\u001B[38;5;132;01m{\u001B[39;00m\u001B[43mcounts\u001B[49m\u001B[43m[\u001B[49m\u001B[38;5;241;43m1020\u001B[39;49m\u001B[43m]\u001B[49m\u001B[38;5;132;01m}\u001B[39;00m\u001B[38;5;124m, hemoprotein subunit count: \u001B[39m\u001B[38;5;132;01m{\u001B[39;00mcounts[\u001B[38;5;241m1271\u001B[39m]\u001B[38;5;132;01m}\u001B[39;00m\u001B[38;5;124m'\u001B[39m)\n\u001B[1;32m      2\u001B[0m \u001B[38;5;28mprint\u001B[39m(\u001B[38;5;124mf\u001B[39m\u001B[38;5;124m'\u001B[39m\u001B[38;5;124mExpected iron count: \u001B[39m\u001B[38;5;132;01m{\u001B[39;00mcounts[\u001B[38;5;241m1020\u001B[39m]\u001B[38;5;250m \u001B[39m\u001B[38;5;241m*\u001B[39m\u001B[38;5;250m \u001B[39m\u001B[38;5;241m5\u001B[39m\u001B[38;5;250m \u001B[39m\u001B[38;5;241m*\u001B[39m\u001B[38;5;250m \u001B[39m\u001B[38;5;241m4\u001B[39m\u001B[38;5;132;01m}\u001B[39;00m\u001B[38;5;124m for the first, \u001B[39m\u001B[38;5;132;01m{\u001B[39;00mcounts[\u001B[38;5;241m1271\u001B[39m]\u001B[38;5;250m \u001B[39m\u001B[38;5;241m*\u001B[39m\u001B[38;5;250m \u001B[39m\u001B[38;5;241m5\u001B[39m\u001B[38;5;250m \u001B[39m\u001B[38;5;132;01m}\u001B[39;00m\u001B[38;5;124m for the second\u001B[39m\u001B[38;5;124m'\u001B[39m)\n",
      "File \u001B[0;32m~/.pyenv/versions/viv-10/lib/python3.10/site-packages/pandas/core/frame.py:3761\u001B[0m, in \u001B[0;36mDataFrame.__getitem__\u001B[0;34m(self, key)\u001B[0m\n\u001B[1;32m   3759\u001B[0m \u001B[38;5;28;01mif\u001B[39;00m \u001B[38;5;28mself\u001B[39m\u001B[38;5;241m.\u001B[39mcolumns\u001B[38;5;241m.\u001B[39mnlevels \u001B[38;5;241m>\u001B[39m \u001B[38;5;241m1\u001B[39m:\n\u001B[1;32m   3760\u001B[0m     \u001B[38;5;28;01mreturn\u001B[39;00m \u001B[38;5;28mself\u001B[39m\u001B[38;5;241m.\u001B[39m_getitem_multilevel(key)\n\u001B[0;32m-> 3761\u001B[0m indexer \u001B[38;5;241m=\u001B[39m \u001B[38;5;28;43mself\u001B[39;49m\u001B[38;5;241;43m.\u001B[39;49m\u001B[43mcolumns\u001B[49m\u001B[38;5;241;43m.\u001B[39;49m\u001B[43mget_loc\u001B[49m\u001B[43m(\u001B[49m\u001B[43mkey\u001B[49m\u001B[43m)\u001B[49m\n\u001B[1;32m   3762\u001B[0m \u001B[38;5;28;01mif\u001B[39;00m is_integer(indexer):\n\u001B[1;32m   3763\u001B[0m     indexer \u001B[38;5;241m=\u001B[39m [indexer]\n",
      "File \u001B[0;32m~/.pyenv/versions/viv-10/lib/python3.10/site-packages/pandas/core/indexes/base.py:3654\u001B[0m, in \u001B[0;36mIndex.get_loc\u001B[0;34m(self, key)\u001B[0m\n\u001B[1;32m   3652\u001B[0m     \u001B[38;5;28;01mreturn\u001B[39;00m \u001B[38;5;28mself\u001B[39m\u001B[38;5;241m.\u001B[39m_engine\u001B[38;5;241m.\u001B[39mget_loc(casted_key)\n\u001B[1;32m   3653\u001B[0m \u001B[38;5;28;01mexcept\u001B[39;00m \u001B[38;5;167;01mKeyError\u001B[39;00m \u001B[38;5;28;01mas\u001B[39;00m err:\n\u001B[0;32m-> 3654\u001B[0m     \u001B[38;5;28;01mraise\u001B[39;00m \u001B[38;5;167;01mKeyError\u001B[39;00m(key) \u001B[38;5;28;01mfrom\u001B[39;00m \u001B[38;5;21;01merr\u001B[39;00m\n\u001B[1;32m   3655\u001B[0m \u001B[38;5;28;01mexcept\u001B[39;00m \u001B[38;5;167;01mTypeError\u001B[39;00m:\n\u001B[1;32m   3656\u001B[0m     \u001B[38;5;66;03m# If we have a listlike key, _check_indexing_error will raise\u001B[39;00m\n\u001B[1;32m   3657\u001B[0m     \u001B[38;5;66;03m#  InvalidIndexError. Otherwise we fall through and re-raise\u001B[39;00m\n\u001B[1;32m   3658\u001B[0m     \u001B[38;5;66;03m#  the TypeError.\u001B[39;00m\n\u001B[1;32m   3659\u001B[0m     \u001B[38;5;28mself\u001B[39m\u001B[38;5;241m.\u001B[39m_check_indexing_error(key)\n",
      "\u001B[0;31mKeyError\u001B[0m: 1020"
     ]
    }
   ],
   "source": [
    "print(f'Sulfite reductase complex count: {counts[1020]}, hemoprotein subunit count: {counts[1271]}')\n",
    "print(f'Expected iron count: {counts[1020] * 5 * 4} for the first, {counts[1271] * 5 } for the second')"
   ],
   "metadata": {
    "collapsed": false,
    "ExecuteTime": {
     "end_time": "2023-11-28T18:57:15.466712Z",
     "start_time": "2023-11-28T18:57:14.599185Z"
    }
   }
  },
  {
   "cell_type": "markdown",
   "source": [
    "Let's check the pathway counts for the related pathway."
   ],
   "metadata": {
    "collapsed": false
   }
  },
  {
   "cell_type": "code",
   "execution_count": null,
   "outputs": [],
   "source": [
    "cplx_pathways = pathway_ids[ np.where((C @ W)[1020, :])[0][0] ]\n",
    "monomer_pathways = pathway_ids[ np.where((C @ W)[1271, :])[0][0] ]\n",
    "\n",
    "\n",
    "print(f'Sulfite reductase is in the following pathways: {cplx_pathways}, while the hemoprotein is in {monomer_pathways}')"
   ],
   "metadata": {
    "collapsed": false,
    "ExecuteTime": {
     "start_time": "2023-11-28T18:57:15.466577Z"
    }
   }
  },
  {
   "cell_type": "markdown",
   "source": [
    "That means the pathway counts for iron should be the same as the cplx counts (or larger)"
   ],
   "metadata": {
    "collapsed": false
   }
  },
  {
   "cell_type": "code",
   "execution_count": null,
   "outputs": [],
   "source": [
    "# pathway_counts = (iron_counts @ C_n @ W)[  np.where((C @ W)[1020, :])[0][0]  ]\n",
    "\n",
    "# print(f'Pathway counts for iron: {pathway_counts}')"
   ],
   "metadata": {
    "collapsed": false
   }
  },
  {
   "cell_type": "code",
   "execution_count": null,
   "outputs": [],
   "source": [
    "print(f\"\"\"Monomer index: {C_names.index('SUPEROX-DISMUTFE-MONOMER')}, complex index: {C_names.index('SUPEROX-DISMUTFE-CPLX')}\"\"\")"
   ],
   "metadata": {
    "collapsed": false
   }
  },
  {
   "cell_type": "code",
   "execution_count": null,
   "outputs": [],
   "source": [
    "print(f\"\"\"Monomer count: {counts[5232]}, complex count: {counts[1021]}\"\"\")"
   ],
   "metadata": {
    "collapsed": false
   }
  },
  {
   "cell_type": "code",
   "execution_count": null,
   "outputs": [],
   "source": [
    "print(f\"\"\"Monomer index: {C_names.index('SUPEROX-DISMUTMN-MONOMER')}, complex index: {C_names.index('SUPEROX-DISMUTMN-CPLX')}\"\"\")\n",
    "print(f\"\"\"Monomer count: {counts[5233]}, complex count: {counts[1022]}\"\"\")"
   ],
   "metadata": {
    "collapsed": false
   }
  },
  {
   "cell_type": "code",
   "execution_count": null,
   "outputs": [],
   "source": [
    "mn_idx = element_ids.index('MN')\n",
    "mn_counts = (np.array(counts).reshape(-1, 1) * C @ P @ E)[:, mn_idx]\n",
    "# each complex count of 1 counts as 1 total annotation, so need to normalize\n",
    "C_n = C / (C.sum(axis=1, keepdims=1) + 1e-10)\n",
    "\n",
    "nz_idx = np.where((C_n @ W @ W2).T @ mn_counts)[0]\n",
    "mn_counts_group = (C_n @ W @ W2).T @ mn_counts"
   ],
   "metadata": {
    "collapsed": false
   }
  },
  {
   "cell_type": "code",
   "execution_count": null,
   "outputs": [],
   "source": [
    "cplx_pathways = pathway_ids[ np.where((C @ W)[5233, :])[0][0] ]\n",
    "monomer_pathways = pathway_ids[ np.where((C @ W)[1022, :])[0][0] ]\n",
    "\n",
    "\n",
    "print(f'Superoxide dismutase is in the following pathways: {cplx_pathways}, while the monomer is in {monomer_pathways}')"
   ],
   "metadata": {
    "collapsed": false
   }
  },
  {
   "cell_type": "code",
   "execution_count": null,
   "outputs": [],
   "source": [
    "pathway_counts = (mn_counts @ C_n @ W @ W2)[  np.where((C @ W @ W2)[5233, :])[0][0]  ]\n",
    "pathway_counts"
   ],
   "metadata": {
    "collapsed": false
   }
  },
  {
   "cell_type": "code",
   "execution_count": null,
   "outputs": [],
   "source": [
    "mn_counts[1022]"
   ],
   "metadata": {
    "collapsed": false
   }
  },
  {
   "cell_type": "code",
   "execution_count": null,
   "outputs": [],
   "source": [
    "counts"
   ],
   "metadata": {
    "collapsed": false
   }
  },
  {
   "cell_type": "code",
   "execution_count": null,
   "outputs": [],
   "source": [
    "parsed_pathway_df[parsed_pathway_df['id'] == 'PWY0-1507']"
   ],
   "metadata": {
    "collapsed": false
   }
  },
  {
   "cell_type": "code",
   "execution_count": null,
   "outputs": [],
   "source": [
    "pathway_ids.index('PWY0-1507')"
   ],
   "metadata": {
    "collapsed": false
   }
  },
  {
   "cell_type": "code",
   "execution_count": null,
   "outputs": [],
   "source": [
    "np.where(W2[753,:])"
   ],
   "metadata": {
    "collapsed": false
   }
  },
  {
   "cell_type": "code",
   "execution_count": null,
   "outputs": [],
   "source": [
    "pathway_ids[718]"
   ],
   "metadata": {
    "collapsed": false
   }
  },
  {
   "cell_type": "markdown",
   "source": [
    "## go annotation for proteins"
   ],
   "metadata": {
    "collapsed": false
   }
  },
  {
   "cell_type": "code",
   "execution_count": null,
   "outputs": [],
   "source": [
    "parsed_protein_df[parsed_protein_df['id'] == 'BCCP-MONOMER']"
   ],
   "metadata": {
    "collapsed": false
   }
  },
  {
   "cell_type": "code",
   "execution_count": null,
   "outputs": [],
   "source": [
    "parsed_protein_df[parsed_protein_df['id'] == 'EG10889-MONOMER']"
   ],
   "metadata": {
    "collapsed": false
   }
  },
  {
   "cell_type": "code",
   "execution_count": null,
   "outputs": [],
   "source": [
    "parsed_protein_df"
   ],
   "metadata": {
    "collapsed": false
   }
  },
  {
   "cell_type": "code",
   "execution_count": null,
   "outputs": [],
   "source": [
    "bulk.loc[:, 'RNA0-301[c]']"
   ],
   "metadata": {
    "collapsed": false
   }
  },
  {
   "cell_type": "code",
   "execution_count": null,
   "outputs": [],
   "source": [
    "bulk.loc[:, 'RNA0-303[c]']"
   ],
   "metadata": {
    "collapsed": false
   }
  },
  {
   "cell_type": "code",
   "execution_count": null,
   "outputs": [],
   "source": [
    "for element in fba['estimated_fluxes']:\n",
    "    print(len(element))"
   ],
   "metadata": {
    "collapsed": false
   }
  },
  {
   "cell_type": "code",
   "execution_count": 55,
   "outputs": [
    {
     "data": {
      "text/plain": "array([[      0,       0,       0, ...,       0,       0, 1951298],\n       [      0,       0,       0, ...,       0,    2570, 1975789],\n       [      0,       0,       0, ...,       0,    4170, 1985757],\n       ...,\n       [      0,       0,       0, ...,       0,   23086, 4226118],\n       [      0,       0,       0, ...,       0,   22920, 4220689],\n       [      0,       0,       0, ...,       0,   22958, 4227858]])"
     },
     "execution_count": 55,
     "metadata": {},
     "output_type": "execute_result"
    }
   ],
   "source": [
    "fluxes"
   ],
   "metadata": {
    "collapsed": false,
    "ExecuteTime": {
     "end_time": "2023-11-28T18:58:47.041192Z",
     "start_time": "2023-11-28T18:58:47.034109Z"
    }
   }
  },
  {
   "cell_type": "code",
   "execution_count": 57,
   "outputs": [
    {
     "data": {
      "text/plain": "(5877, 9084)"
     },
     "execution_count": 57,
     "metadata": {},
     "output_type": "execute_result"
    }
   ],
   "source": [
    "stoichiometry.shape"
   ],
   "metadata": {
    "collapsed": false,
    "ExecuteTime": {
     "end_time": "2023-11-28T18:59:01.590475Z",
     "start_time": "2023-11-28T18:59:01.582511Z"
    }
   }
  },
  {
   "cell_type": "code",
   "execution_count": 63,
   "outputs": [
    {
     "data": {
      "text/plain": "dict_keys(['_parameters', '_schema_override', '_parallel', '_condition_path', '_command_result', '_pending_command', '_schema', 'metabolite_names', 'reaction_names', 'stoichiometry', 'catalyst_ids', 'catalyzed_rxn_enzymes_idx', 'media_id', 'cell_density', 'nAvogadro', 'ngam', 'gam', 'cell_mass', 'previous_mass', 'reaction_fluxes', '_biomass_concentrations', '_getBiomassAsConcentrations', 'concentration_updates', 'exchange_constraints', 'get_kinetic_constraints', 'kinetic_constraint_reactions', 'nutrient_to_doubling_time', 'exchange_molecules', 'homeostatic_metabolites', 'homeostatic_concs', 'network_flow_model', 'aa_names', 'kinetic_constraint_enzymes', 'kinetic_constraint_substrates', 'homeostatic_metabolite_idx', 'allowed_exchange_uptake', 'bulk_ids', 'catalyst_idx', 'kinetics_enzymes_idx', 'kinetics_substrates_idx', 'timestep', 'counts_to_molar', 'metabolite_dmdt', 'metabolite_exchange'])"
     },
     "execution_count": 63,
     "metadata": {},
     "output_type": "execute_result"
    }
   ],
   "source": [
    "vars(metabolism).keys()"
   ],
   "metadata": {
    "collapsed": false,
    "ExecuteTime": {
     "end_time": "2023-11-28T19:00:47.100232Z",
     "start_time": "2023-11-28T19:00:47.085505Z"
    }
   }
  },
  {
   "cell_type": "code",
   "execution_count": 74,
   "outputs": [
    {
     "data": {
      "text/plain": "3470"
     },
     "execution_count": 74,
     "metadata": {},
     "output_type": "execute_result"
    }
   ],
   "source": [
    "metabolism.reaction_names.index('RXN0-7077')"
   ],
   "metadata": {
    "collapsed": false,
    "ExecuteTime": {
     "end_time": "2023-11-28T19:03:24.523486Z",
     "start_time": "2023-11-28T19:03:24.514119Z"
    }
   }
  },
  {
   "cell_type": "code",
   "execution_count": 75,
   "outputs": [
    {
     "data": {
      "text/plain": "array([0, 0, 0, ..., 0, 0, 0])"
     },
     "execution_count": 75,
     "metadata": {},
     "output_type": "execute_result"
    }
   ],
   "source": [
    "fluxes[:, 3470]"
   ],
   "metadata": {
    "collapsed": false,
    "ExecuteTime": {
     "end_time": "2023-11-28T19:03:27.304724Z",
     "start_time": "2023-11-28T19:03:27.295235Z"
    }
   }
  },
  {
   "cell_type": "code",
   "execution_count": 77,
   "outputs": [
    {
     "data": {
      "text/plain": "dict_keys(['solution_fluxes', 'solution_dmdt', 'solution_residuals', 'time_per_step', 'estimated_fluxes', 'estimated_homeostatic_dmdt', 'target_homeostatic_dmdt', 'estimated_exchange_dmdt', 'estimated_intermediate_dmdt', 'target_kinetic_fluxes', 'target_kinetic_bounds', 'reaction_catalyst_counts', 'maintenance_target'])"
     },
     "execution_count": 77,
     "metadata": {},
     "output_type": "execute_result"
    }
   ],
   "source": [
    "fba.keys()"
   ],
   "metadata": {
    "collapsed": false,
    "ExecuteTime": {
     "end_time": "2023-11-28T19:04:00.523199Z",
     "start_time": "2023-11-28T19:04:00.514440Z"
    }
   }
  },
  {
   "cell_type": "code",
   "execution_count": 76,
   "outputs": [
    {
     "data": {
      "text/plain": "{'ACET[p]',\n 'AMMONIUM[c]',\n 'BETAINE[p]',\n 'BUTANAL[c]',\n 'CA+2[p]',\n 'CARBON-DIOXIDE[p]',\n 'CARBON-MONOXIDE[p]',\n 'CH33ADO[c]',\n 'CL-[p]',\n 'CO+2[p]',\n 'CPD-10774[p]',\n 'CPD-108[p]',\n 'CPD-1772[c]',\n 'CPD-239[p]',\n 'CPD-534[p]',\n 'CPD-560[p]',\n 'CPD-564[c]',\n 'CPD0-2167[c]',\n 'D-ALANINE[p]',\n 'D-LACTATE[p]',\n 'ETOH[p]',\n 'FE+2[p]',\n 'FE+3[p]',\n 'FORMATE[p]',\n 'GLC[p]',\n 'GLYCEROL[p]',\n 'GLYCOLALDEHYDE[c]',\n 'GLYCOLLATE[c]',\n 'HYDROGEN-MOLECULE[c]',\n 'HYPOXANTHINE[p]',\n 'INDOLE[p]',\n 'K+[p]',\n 'L-SELENOCYSTEINE[c]',\n 'METOH[p]',\n 'MG+2[p]',\n 'MI-PENTAKISPHOSPHATE[p]',\n 'MN+2[p]',\n 'NA+[p]',\n 'NI+2[p]',\n 'OXYGEN-MOLECULE[p]',\n 'PROTON[p]',\n 'Pi[p]',\n 'S-ADENOSYL-4-METHYLTHIO-2-OXOBUTANOATE[c]',\n 'SUC[p]',\n 'SULFATE[p]',\n 'THYMINE[p]',\n 'UNDECAPRENYL-DIPHOSPHATE[p]',\n 'URACIL[p]',\n 'UREA[p]',\n 'WATER[p]',\n 'XANTHINE[p]',\n 'ZN+2[p]'}"
     },
     "execution_count": 76,
     "metadata": {},
     "output_type": "execute_result"
    }
   ],
   "source": [
    "metabolism.exchange_molecules"
   ],
   "metadata": {
    "collapsed": false,
    "ExecuteTime": {
     "end_time": "2023-11-28T19:03:50.989368Z",
     "start_time": "2023-11-28T19:03:50.955794Z"
    }
   }
  },
  {
   "cell_type": "code",
   "execution_count": 90,
   "outputs": [
    {
     "data": {
      "text/plain": "0       256699\n1       256418\n2       283757\n3       311576\n4       313752\n         ...  \n2527    864922\n2528    874338\n2529    867965\n2530    875822\n2531    868411\nName: GLC[p], Length: 2532, dtype: int64"
     },
     "execution_count": 90,
     "metadata": {},
     "output_type": "execute_result"
    }
   ],
   "source": [
    "pd.DataFrame(exchanges).loc[:, 'GLC[p]']"
   ],
   "metadata": {
    "collapsed": false,
    "ExecuteTime": {
     "end_time": "2023-11-28T19:08:47.897656Z",
     "start_time": "2023-11-28T19:08:47.877523Z"
    }
   }
  },
  {
   "cell_type": "code",
   "execution_count": 99,
   "outputs": [
    {
     "data": {
      "text/plain": "ACET[p]                                            0\nAMMONIUM[c]                                   594264\nBETAINE[p]                                         0\nBUTANAL[c]                                         0\nCA+2[p]                                          382\nCARBON-DIOXIDE[p]                                  0\nCARBON-MONOXIDE[p]                               -13\nCH33ADO[c]                                       -32\nCL-[p]                                           368\nCO+2[p]                                           16\nCPD-10774[p]                                       0\nCPD-108[p]                                       -13\nCPD-1772[c]                                        0\nCPD-239[p]                                         0\nCPD-534[p]                                         0\nCPD-560[p]                                      -439\nCPD-564[c]                                         0\nCPD0-2167[c]                                       0\nD-ALANINE[p]                                       0\nD-LACTATE[p]                                       0\nETOH[p]                                            0\nFE+2[p]                                          532\nFE+3[p]                                            0\nFORMATE[p]                                         0\nGLC[p]                                        345708\nGLYCEROL[p]                                        0\nGLYCOLALDEHYDE[c]                                  0\nGLYCOLLATE[c]                                      0\nHYDROGEN-MOLECULE[c]                               0\nHYPOXANTHINE[p]                                    0\nINDOLE[p]                                          0\nK+[p]                                          13802\nL-SELENOCYSTEINE[c]                                6\nMETOH[p]                                          -3\nMG+2[p]                                          613\nMI-PENTAKISPHOSPHATE[p]                            0\nMN+2[p]                                           63\nNA+[p]                                            14\nNI+2[p]                                           37\nOXYGEN-MOLECULE[p]                                83\nPROTON[p]                                          0\nPi[p]                                          60814\nS-ADENOSYL-4-METHYLTHIO-2-OXOBUTANOATE[c]         -3\nSUC[p]                                             0\nSULFATE[p]                                      9641\nTHYMINE[p]                                         0\nUNDECAPRENYL-DIPHOSPHATE[p]                        0\nURACIL[p]                                          0\nUREA[p]                                            0\nWATER[p]                                     4645000\nXANTHINE[p]                                   -37004\nZN+2[p]                                           39\nName: 10, dtype: int64"
     },
     "execution_count": 99,
     "metadata": {},
     "output_type": "execute_result"
    }
   ],
   "source": [
    "pd.DataFrame(exchanges).loc[10, :]"
   ],
   "metadata": {
    "collapsed": false,
    "ExecuteTime": {
     "end_time": "2023-11-28T19:11:28.313697Z",
     "start_time": "2023-11-28T19:11:28.309709Z"
    }
   }
  },
  {
   "cell_type": "code",
   "execution_count": 110,
   "outputs": [
    {
     "data": {
      "text/plain": "      1-ACYLGLYCEROL-3-P-ACYLTRANSFER-RXN  1.1.1.127-RXN  \\\n0                                       0              0   \n1                                       0              0   \n2                                       0              0   \n3                                       0              0   \n4                                       0              0   \n...                                   ...            ...   \n2527                                    0              0   \n2528                                    0              0   \n2529                                    0              0   \n2530                                    0              0   \n2531                                    0              0   \n\n      1.1.1.127-RXN (reverse)  1.1.1.215-RXN (reverse)  1.1.1.251-RXN  \\\n0                           0                        0              0   \n1                           0                        0              0   \n2                           0                        0              0   \n3                           0                        0              0   \n4                           0                        0              0   \n...                       ...                      ...            ...   \n2527                        0                        0              0   \n2528                        0                        0              0   \n2529                        0                        0              0   \n2530                        0                        0              0   \n2531                        0                        0              0   \n\n      1.1.1.251-RXN (reverse)  1.1.1.271-RXN (reverse)  \\\n0                           0                        0   \n1                           0                        0   \n2                           0                        0   \n3                           0                        0   \n4                           0                        0   \n...                       ...                      ...   \n2527                        0                        0   \n2528                        0                        0   \n2529                        0                        0   \n2530                        0                        0   \n2531                        0                        0   \n\n      1.1.1.274-RXN (reverse)  1.1.1.283-RXN (reverse)  1.1.1.39-RXN  ...  \\\n0                           0                        0             0  ...   \n1                           0                        0             0  ...   \n2                           0                        0             0  ...   \n3                           0                        0             0  ...   \n4                           0                        0             0  ...   \n...                       ...                      ...           ...  ...   \n2527                        0                        0             0  ...   \n2528                        0                        0             0  ...   \n2529                        0                        0             0  ...   \n2530                        0                        0             0  ...   \n2531                        0                        0             0  ...   \n\n      VALINE-PYRUVATE-AMINOTRANSFER-RXN (reverse)  \\\n0                                               0   \n1                                               0   \n2                                               0   \n3                                               0   \n4                                               0   \n...                                           ...   \n2527                                            0   \n2528                                            0   \n2529                                            0   \n2530                                            0   \n2531                                            0   \n\n      XANPRIBOSYLTRAN-RXN (reverse)  XANTHOSINEPHOSPHORY-RXN  XYLISOM-RXN  \\\n0                                 0                        0            0   \n1                                 0                        0            0   \n2                                 0                        0            0   \n3                                 0                        0            0   \n4                                 0                        0            0   \n...                             ...                      ...          ...   \n2527                              0                        0            0   \n2528                              0                        0            0   \n2529                              0                        1            0   \n2530                              0                        0            0   \n2531                              0                        1            0   \n\n      XYLISOM-RXN (reverse)  XYLONATE-DEHYDRATASE-RXN  \\\n0                         0                         0   \n1                         0                         0   \n2                         0                         0   \n3                         0                         0   \n4                         0                         0   \n...                     ...                       ...   \n2527                      0                         0   \n2528                      0                         0   \n2529                      0                         0   \n2530                      0                         0   \n2531                      0                         0   \n\n      XYLULOKIN-RXN-CPD-24961/ATP//XYLULOSE-5-PHOSPHATE/ADP/PROTON.47.  \\\n0                                                     0                  \n1                                                     0                  \n2                                                     0                  \n3                                                     0                  \n4                                                     0                  \n...                                                 ...                  \n2527                                                  0                  \n2528                                                  0                  \n2529                                                  0                  \n2530                                                  0                  \n2531                                                  0                  \n\n      YIAE1-RXN (reverse)  glycogen-monomer-extension  maintenance_reaction  \n0                       0                           0               1951298  \n1                       0                        2570               1975789  \n2                       0                        4170               1985757  \n3                       0                        5538               1982058  \n4                       0                        6688               1978925  \n...                   ...                         ...                   ...  \n2527                    0                       23124               4225272  \n2528                    0                       23006               4226535  \n2529                    0                       23086               4226118  \n2530                    0                       22920               4220689  \n2531                    0                       22958               4227858  \n\n[2532 rows x 9084 columns]",
      "text/html": "<div>\n<style scoped>\n    .dataframe tbody tr th:only-of-type {\n        vertical-align: middle;\n    }\n\n    .dataframe tbody tr th {\n        vertical-align: top;\n    }\n\n    .dataframe thead th {\n        text-align: right;\n    }\n</style>\n<table border=\"1\" class=\"dataframe\">\n  <thead>\n    <tr style=\"text-align: right;\">\n      <th></th>\n      <th>1-ACYLGLYCEROL-3-P-ACYLTRANSFER-RXN</th>\n      <th>1.1.1.127-RXN</th>\n      <th>1.1.1.127-RXN (reverse)</th>\n      <th>1.1.1.215-RXN (reverse)</th>\n      <th>1.1.1.251-RXN</th>\n      <th>1.1.1.251-RXN (reverse)</th>\n      <th>1.1.1.271-RXN (reverse)</th>\n      <th>1.1.1.274-RXN (reverse)</th>\n      <th>1.1.1.283-RXN (reverse)</th>\n      <th>1.1.1.39-RXN</th>\n      <th>...</th>\n      <th>VALINE-PYRUVATE-AMINOTRANSFER-RXN (reverse)</th>\n      <th>XANPRIBOSYLTRAN-RXN (reverse)</th>\n      <th>XANTHOSINEPHOSPHORY-RXN</th>\n      <th>XYLISOM-RXN</th>\n      <th>XYLISOM-RXN (reverse)</th>\n      <th>XYLONATE-DEHYDRATASE-RXN</th>\n      <th>XYLULOKIN-RXN-CPD-24961/ATP//XYLULOSE-5-PHOSPHATE/ADP/PROTON.47.</th>\n      <th>YIAE1-RXN (reverse)</th>\n      <th>glycogen-monomer-extension</th>\n      <th>maintenance_reaction</th>\n    </tr>\n  </thead>\n  <tbody>\n    <tr>\n      <th>0</th>\n      <td>0</td>\n      <td>0</td>\n      <td>0</td>\n      <td>0</td>\n      <td>0</td>\n      <td>0</td>\n      <td>0</td>\n      <td>0</td>\n      <td>0</td>\n      <td>0</td>\n      <td>...</td>\n      <td>0</td>\n      <td>0</td>\n      <td>0</td>\n      <td>0</td>\n      <td>0</td>\n      <td>0</td>\n      <td>0</td>\n      <td>0</td>\n      <td>0</td>\n      <td>1951298</td>\n    </tr>\n    <tr>\n      <th>1</th>\n      <td>0</td>\n      <td>0</td>\n      <td>0</td>\n      <td>0</td>\n      <td>0</td>\n      <td>0</td>\n      <td>0</td>\n      <td>0</td>\n      <td>0</td>\n      <td>0</td>\n      <td>...</td>\n      <td>0</td>\n      <td>0</td>\n      <td>0</td>\n      <td>0</td>\n      <td>0</td>\n      <td>0</td>\n      <td>0</td>\n      <td>0</td>\n      <td>2570</td>\n      <td>1975789</td>\n    </tr>\n    <tr>\n      <th>2</th>\n      <td>0</td>\n      <td>0</td>\n      <td>0</td>\n      <td>0</td>\n      <td>0</td>\n      <td>0</td>\n      <td>0</td>\n      <td>0</td>\n      <td>0</td>\n      <td>0</td>\n      <td>...</td>\n      <td>0</td>\n      <td>0</td>\n      <td>0</td>\n      <td>0</td>\n      <td>0</td>\n      <td>0</td>\n      <td>0</td>\n      <td>0</td>\n      <td>4170</td>\n      <td>1985757</td>\n    </tr>\n    <tr>\n      <th>3</th>\n      <td>0</td>\n      <td>0</td>\n      <td>0</td>\n      <td>0</td>\n      <td>0</td>\n      <td>0</td>\n      <td>0</td>\n      <td>0</td>\n      <td>0</td>\n      <td>0</td>\n      <td>...</td>\n      <td>0</td>\n      <td>0</td>\n      <td>0</td>\n      <td>0</td>\n      <td>0</td>\n      <td>0</td>\n      <td>0</td>\n      <td>0</td>\n      <td>5538</td>\n      <td>1982058</td>\n    </tr>\n    <tr>\n      <th>4</th>\n      <td>0</td>\n      <td>0</td>\n      <td>0</td>\n      <td>0</td>\n      <td>0</td>\n      <td>0</td>\n      <td>0</td>\n      <td>0</td>\n      <td>0</td>\n      <td>0</td>\n      <td>...</td>\n      <td>0</td>\n      <td>0</td>\n      <td>0</td>\n      <td>0</td>\n      <td>0</td>\n      <td>0</td>\n      <td>0</td>\n      <td>0</td>\n      <td>6688</td>\n      <td>1978925</td>\n    </tr>\n    <tr>\n      <th>...</th>\n      <td>...</td>\n      <td>...</td>\n      <td>...</td>\n      <td>...</td>\n      <td>...</td>\n      <td>...</td>\n      <td>...</td>\n      <td>...</td>\n      <td>...</td>\n      <td>...</td>\n      <td>...</td>\n      <td>...</td>\n      <td>...</td>\n      <td>...</td>\n      <td>...</td>\n      <td>...</td>\n      <td>...</td>\n      <td>...</td>\n      <td>...</td>\n      <td>...</td>\n      <td>...</td>\n    </tr>\n    <tr>\n      <th>2527</th>\n      <td>0</td>\n      <td>0</td>\n      <td>0</td>\n      <td>0</td>\n      <td>0</td>\n      <td>0</td>\n      <td>0</td>\n      <td>0</td>\n      <td>0</td>\n      <td>0</td>\n      <td>...</td>\n      <td>0</td>\n      <td>0</td>\n      <td>0</td>\n      <td>0</td>\n      <td>0</td>\n      <td>0</td>\n      <td>0</td>\n      <td>0</td>\n      <td>23124</td>\n      <td>4225272</td>\n    </tr>\n    <tr>\n      <th>2528</th>\n      <td>0</td>\n      <td>0</td>\n      <td>0</td>\n      <td>0</td>\n      <td>0</td>\n      <td>0</td>\n      <td>0</td>\n      <td>0</td>\n      <td>0</td>\n      <td>0</td>\n      <td>...</td>\n      <td>0</td>\n      <td>0</td>\n      <td>0</td>\n      <td>0</td>\n      <td>0</td>\n      <td>0</td>\n      <td>0</td>\n      <td>0</td>\n      <td>23006</td>\n      <td>4226535</td>\n    </tr>\n    <tr>\n      <th>2529</th>\n      <td>0</td>\n      <td>0</td>\n      <td>0</td>\n      <td>0</td>\n      <td>0</td>\n      <td>0</td>\n      <td>0</td>\n      <td>0</td>\n      <td>0</td>\n      <td>0</td>\n      <td>...</td>\n      <td>0</td>\n      <td>0</td>\n      <td>1</td>\n      <td>0</td>\n      <td>0</td>\n      <td>0</td>\n      <td>0</td>\n      <td>0</td>\n      <td>23086</td>\n      <td>4226118</td>\n    </tr>\n    <tr>\n      <th>2530</th>\n      <td>0</td>\n      <td>0</td>\n      <td>0</td>\n      <td>0</td>\n      <td>0</td>\n      <td>0</td>\n      <td>0</td>\n      <td>0</td>\n      <td>0</td>\n      <td>0</td>\n      <td>...</td>\n      <td>0</td>\n      <td>0</td>\n      <td>0</td>\n      <td>0</td>\n      <td>0</td>\n      <td>0</td>\n      <td>0</td>\n      <td>0</td>\n      <td>22920</td>\n      <td>4220689</td>\n    </tr>\n    <tr>\n      <th>2531</th>\n      <td>0</td>\n      <td>0</td>\n      <td>0</td>\n      <td>0</td>\n      <td>0</td>\n      <td>0</td>\n      <td>0</td>\n      <td>0</td>\n      <td>0</td>\n      <td>0</td>\n      <td>...</td>\n      <td>0</td>\n      <td>0</td>\n      <td>1</td>\n      <td>0</td>\n      <td>0</td>\n      <td>0</td>\n      <td>0</td>\n      <td>0</td>\n      <td>22958</td>\n      <td>4227858</td>\n    </tr>\n  </tbody>\n</table>\n<p>2532 rows × 9084 columns</p>\n</div>"
     },
     "execution_count": 110,
     "metadata": {},
     "output_type": "execute_result"
    }
   ],
   "source": [
    "flux_df = pd.DataFrame(fluxes, columns=metabolism.reaction_names)\n",
    "flux_df"
   ],
   "metadata": {
    "collapsed": false,
    "ExecuteTime": {
     "end_time": "2023-11-28T19:15:23.539251Z",
     "start_time": "2023-11-28T19:15:23.524759Z"
    }
   }
  },
  {
   "cell_type": "code",
   "execution_count": 113,
   "outputs": [
    {
     "data": {
      "text/plain": "TRANS-RXN0-601-PROTON//PROTON.15. (reverse)                    16383745\nTRANS-RXN-218                                                   8191873\nTRANS-RXN-145                                                   5559696\nATPSYN-RXN (reverse)                                            4089091\nmaintenance_reaction                                            2011564\nGAPOXNPHOSPHN-RXN                                                643123\nPHOSGLYPHOS-RXN (reverse)                                        643121\nPHOSICITDEHASE-RXN                                               614038\nDEPHOSICITDEHASE-RXN                                             614038\nMALATE-DEH-RXN (reverse)                                         561999\n3PGAREARR-RXN (reverse)                                          523810\n2PGADEHYDRAT-RXN                                                 523794\nMALATE-DEHYDROGENASE-NADP+-RXN                                   511285\nRXN0-5224 (reverse)                                              453531\nPGLUCISOM-RXN                                                    395601\nTRIOSEPISOMERIZATION-RXN (reverse)                               334470\nTRANS-RXN0-574-GLC//GLC.9.                                       305708\nGLUCOKIN-RXN-GLC/ATP//ALPHA-GLC-6-P/ADP/PROTON.34.               304953\nINORGPYROPHOSPHAT-RXN[CCO-CYTOSOL]-PPI/WATER//Pi/PROTON.34.      269451\nGLUTDEHYD-RXN (reverse)                                          253632\nName: 50, dtype: int64"
     },
     "execution_count": 113,
     "metadata": {},
     "output_type": "execute_result"
    }
   ],
   "source": [
    "# find top 10 fluxes for timestep 50\n",
    "flux_df.loc[50, :].sort_values(ascending=False)[0:20]"
   ],
   "metadata": {
    "collapsed": false,
    "ExecuteTime": {
     "end_time": "2023-11-28T19:17:08.695024Z",
     "start_time": "2023-11-28T19:17:08.684977Z"
    }
   }
  },
  {
   "cell_type": "code",
   "execution_count": 178,
   "outputs": [],
   "source": [
    "time = '10'\n",
    "date = '2023-11-28'\n",
    "experiment = 'metabolism-redux-classic'\n",
    "entry = f'{experiment}_{time}_{date}'\n",
    "folder = f'out/cofactors/{entry}/'\n",
    "\n",
    "f = open(folder + 'agent_steps.pkl', 'rb')\n",
    "agent = dill.load(f)\n",
    "f.close()\n",
    "\n",
    "metabolism = agent['ecoli-metabolism-redux-classic']\n",
    "stoichiometry = metabolism.stoichiometry"
   ],
   "metadata": {
    "collapsed": false,
    "ExecuteTime": {
     "end_time": "2023-11-28T22:01:34.305722Z",
     "start_time": "2023-11-28T22:01:31.571693Z"
    }
   }
  },
  {
   "cell_type": "code",
   "execution_count": 179,
   "outputs": [
    {
     "data": {
      "text/plain": "[11929, 12223, 12414, 12513, 12414, 12343, 12293, 12386, 12356, 12406, 12445]"
     },
     "execution_count": 179,
     "metadata": {},
     "output_type": "execute_result"
    }
   ],
   "source": [
    "output_all = np.load(folder + '0_output.npy',allow_pickle='TRUE').item()\n",
    "# output = np.load(r\"out/geneRxnVerifData/output_glc.npy\", allow_pickle=True, encoding='ASCII').tolist()\n",
    "output = output_all['agents']['0']\n",
    "fba = output['listeners']['fba_results']\n",
    "mass = output['listeners']['mass']\n",
    "bulk = pd.DataFrame(output['bulk'])\n",
    "\n",
    "fluxes = np.array(fba['estimated_fluxes'][1:])\n",
    "exchanges = fba['estimated_exchange_dmdt']\n",
    "\n",
    "output['listeners']['unique_molecule_counts']['active_ribosome']"
   ],
   "metadata": {
    "collapsed": false,
    "ExecuteTime": {
     "end_time": "2023-11-28T22:01:34.427672Z",
     "start_time": "2023-11-28T22:01:34.305480Z"
    }
   }
  },
  {
   "cell_type": "code",
   "execution_count": 180,
   "outputs": [
    {
     "data": {
      "text/plain": "TRANS-RXN-145                                                                     3910151\nATPSYN-RXN (reverse)                                                              2618820\nmaintenance_reaction                                                              1986892\nNADH-DEHYDROG-A-RXN-NADH/UBIQUINONE-8/PROTON//NAD/CPD-9956/PROTON.46.             1220890\nTRANS-RXN0-545[CCO-PM-BAC-NEG]-CARBON-DIOXIDE//CARBON-DIOXIDE.47. (reverse)        806937\nGAPOXNPHOSPHN-RXN                                                                  774712\nPHOSGLYPHOS-RXN (reverse)                                                          774710\nTRANS-RXN0-474                                                                     710149\nRXN-21817-CPD-9956/PROTON/OXYGEN-MOLECULE//UBIQUINONE-8/PROTON/WATER.59.           710087\n3PGAREARR-RXN (reverse)                                                            687371\n2PGADEHYDRAT-RXN                                                                   687359\nPYRUVDEH-RXN                                                                       519636\nPGLUCISOM-RXN                                                                      449792\nTRIOSEPISOMERIZATION-RXN (reverse)                                                 395202\nDEPHOSICITDEHASE-RXN                                                               393954\nPHOSICITDEHASE-RXN                                                                 393954\n2.7.3.9-RXN                                                                        361778\nTRANS-RXN-157-Hpr-pi-phospho-L-histidines/GLC//ALPHA-GLC-6-P/Hpr-Histidine.61.     349280\nRXN0-313                                                                           304002\n2.7.1.121-RXN                                                                      294218\nCITSYN-RXN                                                                         230152\nRXN-14047                                                                          229896\nASPARTASE-RXN (reverse)                                                            229454\nMALATE-DEHYDROGENASE-NADP+-RXN                                                     229387\nRXN0-5224 (reverse)                                                                185202\nINORGPYROPHOSPHAT-RXN[CCO-CYTOSOL]-PPI/WATER//Pi/PROTON.34.                        182261\nSUCCINATE-DEHYDROGENASE-UBIQUINONE-RXN-SUC/UBIQUINONE-8//FUM/CPD-9956.31.          179106\nBIOTIN-CARBOXYL-RXN                                                                129405\nRXN0-5055                                                                          129405\nMALONYL-COA-ACP-TRANSACYL-RXN                                                      129400\nGLUTDEHYD-RXN (reverse)                                                            128192\nISOCITDEH-RXN                                                                      121780\nMALATE-DEH-RXN__MALATE-DEHASE (reverse)                                            116139\nADENYL-KIN-RXN                                                                     115082\nMALSYN-RXN                                                                         113522\nASPAMINOTRANS-RXN__ASPAMINOTRANS-DIMER                                             108923\nISOCIT-CLEAV-RXN                                                                   108078\nF16ALDOLASE-RXN__FRUCBISALD-CLASSII                                                101508\nGLUCOKIN-RXN-Glucopyranose/ATP//ALPHA-GLC-6-P/ADP/PROTON.44.                       100512\nTRANS-RXN0-574-GLC//Glucopyranose.19.                                              100512\n6PFRUCTPHOS-RXN__6PFK-1-CPX                                                         93138\nPGLYCDEHYDROG-RXN                                                                   87125\nRXN0-5114[CCO-CYTOSOL]-3-P-SERINE/WATER//SER/Pi.38.                                 86930\nPSERTRANSAM-RXN (reverse)                                                           86930\n2OXOGLUTARATEDEH-RXN                                                                70757\nTRANS-RXN-114                                                                       65578\nGLYOHMETRANS-RXN-SER/THF//GLY/METHYLENE-THF/WATER.33.                               58874\nGLUTAMINESYN-RXN                                                                    55401\nMETHYLENETHFDEHYDROG-NADP-RXN-METHYLENE-THF/NADP//5-10-METHENYL-THF/NADPH.44.       50956\nMETHENYLTHFCYCLOHYDRO-RXN-5-10-METHENYL-THF/WATER//10-FORMYL-THF/PROTON.46.         50956\nName: 9, dtype: int64"
     },
     "execution_count": 180,
     "metadata": {},
     "output_type": "execute_result"
    }
   ],
   "source": [
    "flux_df = pd.DataFrame(fluxes, columns=metabolism.reaction_names)\n",
    "flux_df\n",
    "\n",
    "# find top 10 fluxes for timestep 50\n",
    "flux_df.loc[9, :].sort_values(ascending=False)[0:50]"
   ],
   "metadata": {
    "collapsed": false,
    "ExecuteTime": {
     "end_time": "2023-11-28T22:01:34.436129Z",
     "start_time": "2023-11-28T22:01:34.428758Z"
    }
   }
  },
  {
   "cell_type": "code",
   "execution_count": 181,
   "outputs": [
    {
     "data": {
      "text/plain": "{'ACET[p]': [0, 0, 0, 0, 0, 0, 0, 0, 0, 0],\n 'AMMONIUM[c]': [523972,\n  445976,\n  471533,\n  491009,\n  456859,\n  438753,\n  462482,\n  476851,\n  472814,\n  478058],\n 'BETAINE[p]': [0, 0, 0, 0, 0, 0, 0, 0, 0, 0],\n 'BUTANAL[c]': [0, 0, 0, 0, 0, 0, 0, 0, 0, 0],\n 'CA+2[p]': [45, 104, 168, 225, 271, 301, 320, 340, 356, 372],\n 'CARBON-DIOXIDE[p]': [-660653,\n  -678049,\n  -723800,\n  -747740,\n  -756967,\n  -757774,\n  -779622,\n  -788801,\n  -795668,\n  -806937],\n 'CARBON-MONOXIDE[p]': [-1, -3, -6, -8, -9, -11, -11, -11, -13, -13],\n 'CH33ADO[c]': [0, 0, 0, 0, 0, 0, 0, 0, 0, 0],\n 'CL-[p]': [1, 100, 162, 216, 262, 290, 308, 327, 345, 357],\n 'CO+2[p]': [1, 4, 7, 10, 11, 13, 13, 14, 14, 16],\n 'CPD-10774[p]': [0, 0, 0, 0, 0, 0, 0, 0, 0, 0],\n 'CPD-108[p]': [-1, -3, -6, -8, -9, -11, -11, -11, -13, -13],\n 'CPD-1772[c]': [0, 0, 0, 0, 0, 0, 0, 0, 0, 0],\n 'CPD-239[p]': [0, 0, 0, 0, 0, 0, 0, 0, 0, 0],\n 'CPD-534[p]': [0, 0, 0, 0, 0, 0, 0, 0, 0, 0],\n 'CPD-560[p]': [0, -120, -193, -259, -312, -346, -368, -390, -411, -427],\n 'CPD-564[c]': [0, 0, 0, 0, 0, 0, 0, 0, 0, 0],\n 'CPD0-2167[c]': [-1, -8, -14, -19, -22, -26, -27, -28, -32, -31],\n 'D-ALANINE[p]': [0, 0, 0, 0, 0, 0, 0, 0, 0, 0],\n 'D-LACTATE[p]': [0, 0, 0, 0, 0, 0, 0, 0, 0, 0],\n 'ETOH[p]': [0, 0, 0, 0, 0, 0, 0, 0, 0, 0],\n 'FE+2[p]': [2, 141, 235, 313, 378, 419, 446, 473, 498, 516],\n 'FE+3[p]': [48, 3, 0, 0, 0, 0, 0, 0, 0, 0],\n 'FORMATE[p]': [0, 0, 0, 0, 0, 0, 0, 0, 0, 0],\n 'GLC[p]': [378763,\n  365396,\n  405037,\n  427240,\n  422736,\n  416796,\n  439217,\n  450375,\n  453627,\n  462291],\n 'GLYCEROL[p]': [0, 0, 0, 0, 0, 0, 0, 0, 0, 0],\n 'GLYCOLALDEHYDE[c]': [0, 0, 0, 0, 0, 0, 0, 0, 0, 0],\n 'GLYCOLLATE[c]': [0, 0, 0, 0, 0, 0, 0, 0, 0, 0],\n 'HYDROGEN-MOLECULE[c]': [0, 0, 0, 0, 0, 0, 0, 0, 0, 0],\n 'HYPOXANTHINE[p]': [0, 0, 0, 0, 0, 0, 0, 0, 0, 0],\n 'INDOLE[p]': [0, 0, 0, 0, 0, 0, 0, 0, 0, 0],\n 'K+[p]': [-2, 3768, 6062, 8126, 9810, 10871, 11561, 12266, 12923, 13401],\n 'L-SELENOCYSTEINE[c]': [0, 2, 2, 4, 4, 5, 6, 5, 6, 6],\n 'METOH[p]': [0, -1, -1, -2, -2, -2, -3, -2, -3, -3],\n 'MG+2[p]': [0, 167, 270, 361, 436, 483, 514, 545, 574, 596],\n 'MI-PENTAKISPHOSPHATE[p]': [0, 0, 0, 0, 0, 0, 0, 0, 0, 0],\n 'MN+2[p]': [0, 18, 27, 38, 44, 49, 53, 56, 58, 62],\n 'NA+[p]': [0, 4, 6, 9, 10, 11, 12, 13, 13, 14],\n 'NI+2[p]': [0, 11, 16, 22, 26, 29, 31, 33, 34, 36],\n 'OXYGEN-MOLECULE[p]': [732592,\n  682746,\n  708855,\n  715141,\n  695022,\n  691691,\n  699277,\n  711482,\n  708538,\n  710166],\n 'PROTON[p]': [0, 0, 0, 0, 0, 0, 0, 0, 0, 0],\n 'Pi[p]': [60120,\n  47334,\n  57926,\n  61384,\n  57592,\n  60774,\n  60969,\n  66480,\n  66421,\n  65592],\n 'S-ADENOSYL-4-METHYLTHIO-2-OXOBUTANOATE[c]': [0,\n  -1,\n  -1,\n  -2,\n  -2,\n  -2,\n  -3,\n  -2,\n  -3,\n  -3],\n 'SUC[p]': [0, 0, 0, 0, 0, 0, 0, 0, 0, 0],\n 'SULFATE[p]': [9163, 7383, 8075, 8739, 8753, 8138, 9405, 9431, 9387, 9694],\n 'THYMINE[p]': [0, 0, 0, 0, 0, 0, 0, 0, 0, 0],\n 'UNDECAPRENYL-DIPHOSPHATE[p]': [0, 0, 0, 0, 0, 0, 0, 0, 0, 0],\n 'URACIL[p]': [0, 0, 0, 0, 0, 0, 0, 0, 0, 0],\n 'UREA[p]': [0, 0, 0, 0, 0, 0, 0, 0, 0, 0],\n 'WATER[p]': [-1966990,\n  -110342,\n  771180,\n  1614410,\n  2435400,\n  2939664,\n  3168223,\n  3426571,\n  3720828,\n  3910144],\n 'XANTHINE[p]': [0, 0, 0, 0, 0, 0, 0, 0, 0, 0],\n 'ZN+2[p]': [1, 11, 17, 22, 27, 30, 32, 34, 36, 37]}"
     },
     "execution_count": 181,
     "metadata": {},
     "output_type": "execute_result"
    }
   ],
   "source": [
    "exchanges"
   ],
   "metadata": {
    "collapsed": false,
    "ExecuteTime": {
     "end_time": "2023-11-28T22:01:52.627118Z",
     "start_time": "2023-11-28T22:01:52.621138Z"
    }
   }
  },
  {
   "cell_type": "code",
   "execution_count": 177,
   "outputs": [
    {
     "data": {
      "text/plain": "2901"
     },
     "execution_count": 177,
     "metadata": {},
     "output_type": "execute_result"
    }
   ],
   "source": [
    "flux_df.loc[9, 'NADH-DEHYDROG-A-RXN-NADH/UBIQUINONE-8/PROTON//NAD/CPD-9956/PROTON.46.']"
   ],
   "metadata": {
    "collapsed": false,
    "ExecuteTime": {
     "end_time": "2023-11-28T21:57:12.428120Z",
     "start_time": "2023-11-28T21:57:12.416268Z"
    }
   }
  },
  {
   "cell_type": "code",
   "execution_count": 176,
   "outputs": [
    {
     "name": "stdout",
     "output_type": "stream",
     "text": [
      "RXN0-5388-NADH/CPD-9728/PROTON//NAD/REDUCED-MENAQUINONE/PROTON.53.\n"
     ]
    }
   ],
   "source": [
    "for name in metabolism.reaction_names:\n",
    "    if 'RXN0-5388' in name:\n",
    "        print(name)"
   ],
   "metadata": {
    "collapsed": false,
    "ExecuteTime": {
     "end_time": "2023-11-28T21:57:10.636059Z",
     "start_time": "2023-11-28T21:57:10.620418Z"
    }
   }
  },
  {
   "cell_type": "code",
   "execution_count": null,
   "outputs": [],
   "source": [],
   "metadata": {
    "collapsed": false
   }
  }
 ],
 "metadata": {
  "kernelspec": {
   "display_name": "Python 3",
   "language": "python",
   "name": "python3"
  },
  "language_info": {
   "codemirror_mode": {
    "name": "ipython",
    "version": 2
   },
   "file_extension": ".py",
   "mimetype": "text/x-python",
   "name": "python",
   "nbconvert_exporter": "python",
   "pygments_lexer": "ipython2",
   "version": "2.7.6"
  }
 },
 "nbformat": 4,
 "nbformat_minor": 0
}
