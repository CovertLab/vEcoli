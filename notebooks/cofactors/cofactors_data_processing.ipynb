{
 "cells": [
  {
   "cell_type": "markdown",
   "source": [
    "# Setup"
   ],
   "metadata": {
    "collapsed": false
   }
  },
  {
   "cell_type": "markdown",
   "source": [],
   "metadata": {
    "collapsed": false
   }
  },
  {
   "cell_type": "code",
   "execution_count": null,
   "metadata": {
    "collapsed": true,
    "ExecuteTime": {
     "end_time": "2023-09-22T17:57:56.209790Z",
     "start_time": "2023-09-22T17:57:56.148747Z"
    }
   },
   "outputs": [],
   "source": [
    "import numpy as np\n",
    "\n",
    "import seaborn as sns\n",
    "import pandas as pd\n",
    "import os\n",
    "import pprint\n",
    "import ast\n",
    "import re\n",
    "import matplotlib.pyplot as plt\n",
    "import dill\n",
    "import requests\n",
    "import xmltodict\n",
    "import json\n",
    "\n",
    "pp = pprint.PrettyPrinter(depth=6)\n",
    "\n",
    "os.chdir(os.path.expanduser('~/vivarium-ecoli'))\n",
    "\n",
    "ALLOWED_METAL_NAMES =   {'Iron': 'FE+2', 'Cobalt': 'CO+2', 'Copper': 'CU+2', 'Manganese': 'MN+2', 'Molybdenum': 'CPD-8123', 'Nickel': 'NI+2', 'Zinc': 'ZN+2',\n",
    "                        'Calcium': 'CA+2', 'Magnesium': 'MG+2', 'Sodium': 'NA+', 'Potassium': 'K+',\n",
    "                        'Iron-sulfur \\(4Fe-4S\\)': 'CPD-7', 'Iron-sulfur \\(2Fe-2S\\)': 'CPD-6',\n",
    "                         'Iron-sulfur \\(4Fe-4S-S-AdoMet\\)': 'CPD-7', 'Iron-sulfur \\(3Fe-4S\\)': '3FE-4S', 'Iron-oxo-sulfur \\(4Fe-2O-2S\\)': 'CPD-7',\n",
    "                         'Iron-sulfur': 'CPD-7', # has to be after others since it is a substring of others\n",
    "                        'heme': 'Heme-b', 'Molybdate': 'CPD-3', 'heme B': 'Heme-b',\n",
    "                         'Selenocysteine': 'L-SELENOCYSTEINE',\n",
    "                        'Divalent metal cation': 'Any+2'}\n",
    "\n",
    "\n",
    "ACCEPTED_OTHER_FEATURES = {'PYRIDOXAL_PHOSPHATE', 'THIAMINE-PYROPHOSPHATE', 'FMN', 'FAD', 'LIPOIC-ACID', 'BIOTIN'}\n",
    "\n",
    "AMINO_ACID_MAP = {'A': 'ALA', 'C': 'CYS', 'D': 'ASP', 'E': 'GLU', 'F': 'PHE', 'G': 'GLY', 'H': 'HIS', 'I': 'ILE',\n",
    "                  'K': 'LYS', 'L': 'LEU', 'M': 'MET', 'N': 'ASN', 'P': 'PRO', 'Q': 'GLN', 'R': 'ARG', 'S': 'SER',\n",
    "                  'T': 'THR', 'V': 'VAL', 'W': 'TRP', 'Y': 'TYR', 'U': 'SEL', '*': 'TER'}\n",
    "\n",
    "def get_pathway_ith_level_parents(cur_pathway_idx, pathway_matrix, name_list, level_vector, level=2, parent_dict=None):\n",
    "\n",
    "    if parent_dict is None:\n",
    "        parent_dict = {}\n",
    "\n",
    "    cur_pathway_level = level_vector[cur_pathway_idx]\n",
    "\n",
    "    if cur_pathway_level == level:\n",
    "        parent_dict[name_list[cur_pathway_idx]] = cur_pathway_level\n",
    "\n",
    "    parent_slice = pathway_matrix[:, cur_pathway_idx]\n",
    "    parent_idxs = np.where(parent_slice != 0)[0]\n",
    "\n",
    "\n",
    "    for idx in parent_idxs:\n",
    "\n",
    "        _ = get_pathway_ith_level_parents(idx, pathway_matrix, name_list, level_vector, level, parent_dict)\n",
    "\n",
    "    return parent_dict"
   ]
  },
  {
   "cell_type": "markdown",
   "source": [
    "## Reload data"
   ],
   "metadata": {
    "collapsed": false
   }
  },
  {
   "cell_type": "code",
   "execution_count": null,
   "outputs": [],
   "source": [
    "parsed_complex_df = pd.read_csv('notebooks/cofactors/data/raw_complexes.csv', index_col=False)\n",
    "\n",
    "# read stoichiometry, cofactors and enzyme_reaction as literal sets\n",
    "for column in ['stoichiometry', 'cofactors', 'enzyme_reaction']:\n",
    "    parsed_complex_df[column] = parsed_complex_df[column].apply(ast.literal_eval)\n",
    "\n",
    "parsed_protein_df = pd.read_csv('notebooks/cofactors/data/raw_proteins.csv', index_col=False)\n",
    "\n",
    "for column in ['cofactors', 'enzyme_reaction', 'metal_features', 'other_features', 'direct_annotations']:\n",
    "    parsed_protein_df[column] = parsed_protein_df[column].apply(ast.literal_eval)\n",
    "\n",
    "\n",
    "parsed_cofactor_df = pd.read_csv('notebooks/cofactors/data/raw_cofactors.csv', index_col=False)\n",
    "\n",
    "for column in ['elemental_composition']:\n",
    "    parsed_cofactor_df[column] = parsed_cofactor_df[column].apply(ast.literal_eval)\n",
    "\n",
    "parsed_pathway_df = pd.read_csv('notebooks/cofactors/data/raw_pathways.csv', index_col=False)\n",
    "\n",
    "for column in ['parents', 'children']:\n",
    "    parsed_pathway_df[column] = parsed_pathway_df[column].apply(ast.literal_eval)"
   ],
   "metadata": {
    "collapsed": false,
    "ExecuteTime": {
     "end_time": "2023-09-22T17:57:56.394796Z",
     "start_time": "2023-09-22T17:57:56.215017Z"
    }
   }
  },
  {
   "cell_type": "code",
   "execution_count": null,
   "outputs": [
    {
     "data": {
      "text/plain": "                                            id  \\\n0      1-ACYLGLYCEROL-3-P-ACYLTRANSFER-MONOMER   \n1                                1-PFK-MONOMER   \n2             2-DEHYDROPANTOATE-REDUCT-MONOMER   \n3                 2-ISOPROPYLMALATESYN-MONOMER   \n4     2-OCTAPRENYL-METHOXY-BENZOQ-METH-MONOMER   \n...                                        ...   \n4415                              YTFR-MONOMER   \n4416                              YTFT-MONOMER   \n4417                              ZNUA-MONOMER   \n4418                              ZNUB-MONOMER   \n4419                              ZNUC-MONOMER   \n\n                                            common_name  \\\n0     1-acylglycerol-3-phosphate <i>O</i>-acyltransf...   \n1                                 1-phosphofructokinase   \n2                         2-dehydropantoate 2-reductase   \n3                            2-isopropylmalate synthase   \n4     bifunctional 2-octaprenyl-6-methoxy-1,4-benzoq...   \n...                                                 ...   \n4415  galactofuranose ABC transporter putative ATP b...   \n4416  galactofuranose ABC transporter putative membr...   \n4417  Zn<sup>2+</sup> ABC transporter periplasmic bi...   \n4418   Zn<sup>2+</sup> ABC transporter membrane subunit   \n4419  Zn<sup>2+</sup> ABC transporter ATP binding su...   \n\n                                                    seq  \\\n0     MLYIFRLIITVIYSILVCVFGSIYCLFSPRNPKHVATFGHMFGRLA...   \n1     MSRRVATITLNPAYDLVGFCPEIERGEVNLVKTTGLHAAGKGINVA...   \n2     MKITVLGCGALGQLWLTALCKQGHEVQGWLRVPQPYCSVNLVETDG...   \n3     MSQQVIIFDTTLRDGEQALQASLSVKEKLQIALALERMGVDVMEVG...   \n4     MVDKSQETTHFGFQTVAKEQKADMVAHVFHSVASKYDVMNDLMSFG...   \n...                                                 ...   \n4415  MTTDQHQEILRTEGLSKFFPGVKALDNVDFSLRRGEIMALLGENGA...   \n4416  MMPQSLPDTTTPKRRFRWPTGMPQLVALLLVLLVDSLVAPHFWQVV...   \n4417  MLHKKTLLFAALSAALWGGATQAADAAVVASLKPVGFIASAIADGV...   \n4418  MIELLFPGWLAGIMLACAAGPLGSFVVWRRMSYFGDTLAHASLLGV...   \n4419  MTSLVSLENVSVSFGQRRVLSDVSLELKPGKILTLLGPNGAGKSTL...   \n\n                                        enzyme_reaction cofactors  \\\n0     {ENZRXN0-7994, ENZRXN0-7462, ENZRXN0-7993, ENZ...        {}   \n1                                                    {}        {}   \n2                     {2-DEHYDROPANTOATE-REDUCT-ENZRXN}        {}   \n3                                        {ENZRXN0-6250}        {}   \n4     {2-OCTAPRENYL-METHOXY-BENZOQ-METH-ENZRXN, ADOM...        {}   \n...                                                 ...       ...   \n4415                                                 {}        {}   \n4416                                                 {}        {}   \n4417                                                 {}        {}   \n4418                                                 {}        {}   \n4419                                                 {}        {}   \n\n                                         metal_features other_features  \\\n0                                                    []             []   \n1                                                    []          [ATP]   \n2                                                    []         [NADP]   \n3                                                    []             []   \n4                                                    []             []   \n...                                                 ...            ...   \n4415                                                 []          [ATP]   \n4416                                                 []             []   \n4417  [UniProt: Zinc., zinc-coordinating residues, i...             []   \n4418                                                 []             []   \n4419                                                 []          [ATP]   \n\n                  direct_annotations  \n0              {PWY0-1319, PWY-5667}  \n1                        {PWY0-1314}  \n2                        {PANTO-PWY}  \n3                       {LEUSYN-PWY}  \n4     {PWY-6708, MENAQUINONESYN-PWY}  \n...                              ...  \n4415                              {}  \n4416                              {}  \n4417                              {}  \n4418                              {}  \n4419                              {}  \n\n[4420 rows x 8 columns]",
      "text/html": "<div>\n<style scoped>\n    .dataframe tbody tr th:only-of-type {\n        vertical-align: middle;\n    }\n\n    .dataframe tbody tr th {\n        vertical-align: top;\n    }\n\n    .dataframe thead th {\n        text-align: right;\n    }\n</style>\n<table border=\"1\" class=\"dataframe\">\n  <thead>\n    <tr style=\"text-align: right;\">\n      <th></th>\n      <th>id</th>\n      <th>common_name</th>\n      <th>seq</th>\n      <th>enzyme_reaction</th>\n      <th>cofactors</th>\n      <th>metal_features</th>\n      <th>other_features</th>\n      <th>direct_annotations</th>\n    </tr>\n  </thead>\n  <tbody>\n    <tr>\n      <th>0</th>\n      <td>1-ACYLGLYCEROL-3-P-ACYLTRANSFER-MONOMER</td>\n      <td>1-acylglycerol-3-phosphate &lt;i&gt;O&lt;/i&gt;-acyltransf...</td>\n      <td>MLYIFRLIITVIYSILVCVFGSIYCLFSPRNPKHVATFGHMFGRLA...</td>\n      <td>{ENZRXN0-7994, ENZRXN0-7462, ENZRXN0-7993, ENZ...</td>\n      <td>{}</td>\n      <td>[]</td>\n      <td>[]</td>\n      <td>{PWY0-1319, PWY-5667}</td>\n    </tr>\n    <tr>\n      <th>1</th>\n      <td>1-PFK-MONOMER</td>\n      <td>1-phosphofructokinase</td>\n      <td>MSRRVATITLNPAYDLVGFCPEIERGEVNLVKTTGLHAAGKGINVA...</td>\n      <td>{}</td>\n      <td>{}</td>\n      <td>[]</td>\n      <td>[ATP]</td>\n      <td>{PWY0-1314}</td>\n    </tr>\n    <tr>\n      <th>2</th>\n      <td>2-DEHYDROPANTOATE-REDUCT-MONOMER</td>\n      <td>2-dehydropantoate 2-reductase</td>\n      <td>MKITVLGCGALGQLWLTALCKQGHEVQGWLRVPQPYCSVNLVETDG...</td>\n      <td>{2-DEHYDROPANTOATE-REDUCT-ENZRXN}</td>\n      <td>{}</td>\n      <td>[]</td>\n      <td>[NADP]</td>\n      <td>{PANTO-PWY}</td>\n    </tr>\n    <tr>\n      <th>3</th>\n      <td>2-ISOPROPYLMALATESYN-MONOMER</td>\n      <td>2-isopropylmalate synthase</td>\n      <td>MSQQVIIFDTTLRDGEQALQASLSVKEKLQIALALERMGVDVMEVG...</td>\n      <td>{ENZRXN0-6250}</td>\n      <td>{}</td>\n      <td>[]</td>\n      <td>[]</td>\n      <td>{LEUSYN-PWY}</td>\n    </tr>\n    <tr>\n      <th>4</th>\n      <td>2-OCTAPRENYL-METHOXY-BENZOQ-METH-MONOMER</td>\n      <td>bifunctional 2-octaprenyl-6-methoxy-1,4-benzoq...</td>\n      <td>MVDKSQETTHFGFQTVAKEQKADMVAHVFHSVASKYDVMNDLMSFG...</td>\n      <td>{2-OCTAPRENYL-METHOXY-BENZOQ-METH-ENZRXN, ADOM...</td>\n      <td>{}</td>\n      <td>[]</td>\n      <td>[]</td>\n      <td>{PWY-6708, MENAQUINONESYN-PWY}</td>\n    </tr>\n    <tr>\n      <th>...</th>\n      <td>...</td>\n      <td>...</td>\n      <td>...</td>\n      <td>...</td>\n      <td>...</td>\n      <td>...</td>\n      <td>...</td>\n      <td>...</td>\n    </tr>\n    <tr>\n      <th>4415</th>\n      <td>YTFR-MONOMER</td>\n      <td>galactofuranose ABC transporter putative ATP b...</td>\n      <td>MTTDQHQEILRTEGLSKFFPGVKALDNVDFSLRRGEIMALLGENGA...</td>\n      <td>{}</td>\n      <td>{}</td>\n      <td>[]</td>\n      <td>[ATP]</td>\n      <td>{}</td>\n    </tr>\n    <tr>\n      <th>4416</th>\n      <td>YTFT-MONOMER</td>\n      <td>galactofuranose ABC transporter putative membr...</td>\n      <td>MMPQSLPDTTTPKRRFRWPTGMPQLVALLLVLLVDSLVAPHFWQVV...</td>\n      <td>{}</td>\n      <td>{}</td>\n      <td>[]</td>\n      <td>[]</td>\n      <td>{}</td>\n    </tr>\n    <tr>\n      <th>4417</th>\n      <td>ZNUA-MONOMER</td>\n      <td>Zn&lt;sup&gt;2+&lt;/sup&gt; ABC transporter periplasmic bi...</td>\n      <td>MLHKKTLLFAALSAALWGGATQAADAAVVASLKPVGFIASAIADGV...</td>\n      <td>{}</td>\n      <td>{}</td>\n      <td>[UniProt: Zinc., zinc-coordinating residues, i...</td>\n      <td>[]</td>\n      <td>{}</td>\n    </tr>\n    <tr>\n      <th>4418</th>\n      <td>ZNUB-MONOMER</td>\n      <td>Zn&lt;sup&gt;2+&lt;/sup&gt; ABC transporter membrane subunit</td>\n      <td>MIELLFPGWLAGIMLACAAGPLGSFVVWRRMSYFGDTLAHASLLGV...</td>\n      <td>{}</td>\n      <td>{}</td>\n      <td>[]</td>\n      <td>[]</td>\n      <td>{}</td>\n    </tr>\n    <tr>\n      <th>4419</th>\n      <td>ZNUC-MONOMER</td>\n      <td>Zn&lt;sup&gt;2+&lt;/sup&gt; ABC transporter ATP binding su...</td>\n      <td>MTSLVSLENVSVSFGQRRVLSDVSLELKPGKILTLLGPNGAGKSTL...</td>\n      <td>{}</td>\n      <td>{}</td>\n      <td>[]</td>\n      <td>[ATP]</td>\n      <td>{}</td>\n    </tr>\n  </tbody>\n</table>\n<p>4420 rows × 8 columns</p>\n</div>"
     },
     "execution_count": 3,
     "metadata": {},
     "output_type": "execute_result"
    }
   ],
   "source": [
    "parsed_protein_df\n"
   ],
   "metadata": {
    "collapsed": false,
    "ExecuteTime": {
     "end_time": "2023-09-22T17:57:56.427735Z",
     "start_time": "2023-09-22T17:57:56.396778Z"
    }
   }
  },
  {
   "cell_type": "markdown",
   "source": [
    "# Data processing into final tables\n",
    "## Specific adjustments"
   ],
   "metadata": {
    "collapsed": false
   }
  },
  {
   "cell_type": "code",
   "execution_count": null,
   "outputs": [],
   "source": [
    "# removing specific troublesome interactions that have been discovered in the data\n",
    "# should not be in model\n",
    "\n",
    "# remove metal features from EG11415-MONOMER in parsed_protein_df\\\n",
    "prot_idx = np.where(parsed_protein_df['id'] == 'EG11415-MONOMER')[0][0]\n",
    "parsed_protein_df.at[prot_idx, 'metal_features'] = []"
   ],
   "metadata": {
    "collapsed": false,
    "ExecuteTime": {
     "end_time": "2023-09-22T17:57:56.550089Z",
     "start_time": "2023-09-22T17:57:56.450993Z"
    }
   }
  },
  {
   "cell_type": "markdown",
   "source": [
    "## Process raw EcoCyc annotations into standard EcoCyc names"
   ],
   "metadata": {
    "collapsed": false
   }
  },
  {
   "cell_type": "code",
   "execution_count": null,
   "outputs": [
    {
     "name": "stdout",
     "output_type": "stream",
     "text": [
      "No match for UniProt: Magnesium or manganese. in 3-ISOPROPYLMALDEHYDROG-MONOMER\n",
      "No match for conserved, Fe(III) binding motif in BASS-MONOMER\n",
      "No match for predicted heme d ligand in CYDA-MONOMER\n",
      "No match for UniProt: Fe(2+); catalytic. in CYTDEAM-MONOMER\n",
      "No match for UniProt: Zn(2+); catalytic. in CYTDEAM-MONOMER\n",
      "No match for The amino-terminus of ClpA contains a Zinc binding site. in EG10156-MONOMER\n",
      "No match for The active-site magnesium ion is coordinated by three aspartate residues (401, 403, 555). Two of them form part of \n",
      "the PDXD active-site motif. in EG10238-MONOMER\n",
      "No match for Divalent magnesium ions are chelated by three aspartate residues, two in the conserved DPD sequence (345, 347) \n",
      "and one in the conserved EGYMD sequence (269). in EG10239-MONOMER\n",
      "No match for Based on crystal structures, Glu-265 and Asp-309 coordinate a divalent cation. in EG10239-MONOMER\n",
      "No match for These residues are thought to coordinate the one or two divalent magnesium ions required for the \n",
      "gyrase cleavage-religation reaction. in EG10424-MONOMER\n",
      "No match for Mg<sup>2+</sup> binding site in EG10599-MONOMER\n",
      "No match for This metal-binding motif was identified in a crystal structure [<a href=\"http://www.ncbi.nlm.nih.gov/pubmed/16885166\">Ito06a</a>]. in EG10696-MONOMER\n",
      "No match for Asp-10 and Asp-134 coordinate a divalent manganese ion which, when present may inhibit enzymatic activity. in EG10860-MONOMER\n",
      "No match for Asn-44 and Glu-48 coordinate magnesium when it is present. in EG10860-MONOMER\n",
      "No match for Asp-10, Glu-48 and Asp-70 coordinate a divalent manganese ion which is required for catalytic activity. in EG10860-MONOMER\n",
      "No match for binds Zn<sup>2+</sup> and Cd<sup>2+</sup> with high affinity and Fe<sup>2+</sup> with lower affinity in EG11167-MONOMER\n",
      "No match for binds Fe<sup>2+</sup> with high affinity in EG11167-MONOMER\n",
      "No match for UniProt: Iron-sulfur 2 (4Fe-4S-substrate). in EG11595-MONOMER\n",
      "No match for UniProt: Iron-sulfur 1 (4Fe-4S-S-AdoMet). in EG11595-MONOMER\n",
      "No match for Zn<sup>2+</sup> binding in EG11918-MONOMER\n",
      "No match for predicted zinc binding site in EG11955-MONOMER\n",
      "No match for coordination of zinc in EG12045-MONOMER\n",
      "No match for cluster of cysteines that may be involved in binding zinc; possible zinc finger domains in EG12045-MONOMER\n",
      "No match for conserved histidines located in periplasmic regions on either side of the WWD region; ligands for heme in holoCcmE in EG12054-MONOMER\n",
      "No match for Ligands to <i>b</i> heme in EG12054-MONOMER\n",
      "No match for UniProt: Zn(2+); catalytic. in EG12097-MONOMER\n",
      "No match for Calcium in EG12244-MONOMER\n",
      "No match for type III, coupled binuclear Cu site in EG12318-MONOMER\n",
      "No match for type II, non-blue copper site in EG12318-MONOMER\n",
      "No match for type I, blue copper site in EG12318-MONOMER\n",
      "No match for labile or regulatory copper binding site; functions as an electron transfer site not a substrate reaction site in EG12318-MONOMER\n",
      "No match for substrate binding oxidation site: Cu(I) &rarr; Cu(II) in EG12318-MONOMER\n",
      "No match for a third Met ligand is likely located in the region 380-403; substrate binding oxidation site: Cu(I) &rarr; Cu(II) in EG12318-MONOMER\n",
      "No match for conserved in members of the TEES family of bacterial GTPases; implicated in potassium binding in <i>S. thermophilus</i> nFeoB in FEOB-MONOMER\n",
      "No match for 4Fe:4S coordination site in FUM-FE-S\n",
      "No match for 3Fe:4S coordination site in FUM-FE-S\n",
      "No match for 2Fe:2S coordination site in FUM-FE-S\n",
      "No match for UniProt: Iron-sulfur 2 (4Fe-4S). in FUM-FE-S\n",
      "No match for UniProt: Iron-sulfur 3 (3Fe-4S). in FUM-FE-S\n",
      "No match for UniProt: Iron-sulfur 1 (2Fe-2S). in FUM-FE-S\n",
      "No match for UniProt: Copper(1+). in G6263-MONOMER\n",
      "No match for Ag(I) binding; involved in binding one Ag(I) ion per CusS monomer in G6318-MONOMER\n",
      "No match for Ag(I) binding, symmetrical binding of two Ag(I) ions at the CusS dimer interface; F43, H176 and H42' co-ordinate one Ag(I) ion while F43', H176' and H42 coordinate the second in G6318-MONOMER\n",
      "No match for Each of the cysteines in this conserved iron-binding motif is individually required\n",
      "for MiaB enzymatic activity. in G6364-MONOMER\n",
      "No match for potential metal binding site in G6527-MONOMER\n",
      "No match for potential Zn(2) binding site in G6527-MONOMER\n",
      "No match for enzyme shows preference for Fe<sup>2+</sup>, Ni<sup>2+</sup> and Co<sup>2+</sup> over Zn<sup>2+</sup> in G6530-MONOMER\n",
      "No match for Cu<sup>2+</sup>-binding site in G7014-MONOMER\n",
      "No match for potential, conserved copper binding site in G7139-MONOMER\n",
      "No match for zinc binding site in G7430-MONOMER\n",
      "No match for zinc binding in G7458-MONOMER\n",
      "No match for UniProt: Iron-sulfur 1 (4Fe-4S-S-AdoMet). in G7953-MONOMER\n",
      "No match for UniProt: Iron-sulfur 2 (4Fe-4S). in G7953-MONOMER\n",
      "No match for UniProt: Iron-sulfur 3 (4Fe-4S). in G7953-MONOMER\n",
      "No match for Cys ligands for the nickel ion of the Ni-Fe active site in HYAB-MONOMER\n",
      "No match for heme <i>b</i> ligand in HYAC-MONOMER\n",
      "No match for ligand single calcium ions bound to each monomer of the homodimer; R167 and Ser152 ligands are from monomer A, Ser172 ligand is from monomer B in MONOMER0-341\n",
      "No match for predicted copper ligands in NADH-DHII-MONOMER\n",
      "No match for UniProt: Magnesium or cobalt. in NAG1P-URIDYLTRANS-MONOMER\n",
      "No match for coordinates a molybdenum hydroxo ligand in NARG-MONOMER\n",
      "No match for [4Fe-4S] coordination, FS2 in NARY-MONOMER\n",
      "No match for [4Fe-4S] corodination, FS3 in NARY-MONOMER\n",
      "No match for [4Fe-4S] coordination; FS1 in NARY-MONOMER\n",
      "No match for [3Fe-4S] coordination, FS4 in NARY-MONOMER\n",
      "No match for implicated in Na<sup>+</sup> binding above pH7 in NHAA-MONOMER\n",
      "No match for These residues make up the zinc-binding site. Histidines 79 and 238 appear to directly coordinate zinc, with\n",
      "additional coordination provided by one of the two other residues. All four are essential for catalytic\n",
      "activity [<a href=\"http://www.ncbi.nlm.nih.gov/pubmed/11148046\">Jackman01</a>]. Extended X-ray absorption fine structure spectroscopy suggests that aspartate-246\n",
      "coordinates zinc with the aid of a solvent molecule [<a href=\"http://www.ncbi.nlm.nih.gov/pubmed/12620676\">McClure03</a>]. in UDPACYLGLCNACDEACETYL-MONOMER\n",
      "No match for methionine pair located in transmembrane region of protein; suggested to form binding site as part of a methionine shuttle for movement of substrate in YBDE-MONOMER\n",
      "No match for methionine residues shown to coordinate Cu(I) in the periplasmic binding cleft in YBDE-MONOMER\n",
      "No match for methionine pair located in periplasmic region of protein; suggested to form binding site as part of a methionine shuttle for movement of substrate in YBDE-MONOMER\n",
      "No match for residues constituting a (Met<sub>2</sub> O/N) metal binding motif in YBDE-MONOMER\n",
      "No match for implicated in metal (Zn<sup>2+</sup> and Cd<sup>2+</sup>) coordination in YIIP-MONOMER\n",
      "No match for zinc-coordinating residues in ZNUA-MONOMER\n",
      "No match for implicated in a second zinc binding site in ZNUA-MONOMER\n"
     ]
    }
   ],
   "source": [
    "\n",
    "# remove all \\ characters from keys in ALLOWED_METAL_NAMES\n",
    "NON_REGEX_METAL = {key.replace('\\\\', ''): value for key, value in ALLOWED_METAL_NAMES.items()}\n",
    "\n",
    "parsed_protein_df['metal_features_processed'] = 0\n",
    "parsed_protein_df['metal_features_processed'] = parsed_protein_df['metal_features_processed'].astype(object)\n",
    "\n",
    "metal_pattern = '|'.join(ALLOWED_METAL_NAMES.keys())\n",
    "metal_regex = re.compile(f'(({metal_pattern})(\\s\\d[\\.,;]|[\\.,;]|\\s\\())')\n",
    "\n",
    "\n",
    "for i in range(len(parsed_protein_df.index)):\n",
    "\n",
    "    metal_binding = parsed_protein_df.loc[i, 'metal_features']\n",
    "\n",
    "    metal_count_dict = {}\n",
    "    existing_matches = set()\n",
    "\n",
    "    for feature in metal_binding:\n",
    "        matches = metal_regex.search(feature)\n",
    "        if matches:\n",
    "            metal = matches.group(0)[:-1]\n",
    "\n",
    "            # eliminate duplicates\n",
    "            if metal not in existing_matches:\n",
    "\n",
    "                existing_matches.add(metal)\n",
    "\n",
    "                if 'heme' in feature:\n",
    "                    metal = metal.replace('Iron', 'heme')\n",
    "\n",
    "                # check if last char of metal is a number, then crop\n",
    "                if metal[-1].isdigit():\n",
    "                    metal = metal[:-2]\n",
    "\n",
    "                metal = metal.strip()\n",
    "\n",
    "                # replace metal name with allowed metal name\n",
    "                metal = NON_REGEX_METAL[metal]\n",
    "\n",
    "                if metal in metal_count_dict:\n",
    "                    metal_count_dict[metal] += 1\n",
    "                else:\n",
    "                    metal_count_dict[metal] = 1\n",
    "\n",
    "        else:\n",
    "            print(f'No match for {feature} in {parsed_protein_df.loc[i, \"id\"]}')\n",
    "\n",
    "\n",
    "\n",
    "\n",
    "    # if both magnesium and manganese are present, replace with magnesium\n",
    "    # TODO remove when using UniProt data. Ecocyc data is not as reliable\n",
    "    if 'MG+2' in metal_count_dict and 'MN+2' in metal_count_dict and metal_count_dict['MG+2'] == metal_count_dict['MN+2']:\n",
    "        del metal_count_dict['MN+2']\n",
    "\n",
    "    parsed_protein_df.at[i, 'metal_features_processed'] = metal_count_dict"
   ],
   "metadata": {
    "collapsed": false,
    "ExecuteTime": {
     "end_time": "2023-09-22T17:57:56.730493Z",
     "start_time": "2023-09-22T17:57:56.517928Z"
    }
   }
  },
  {
   "cell_type": "code",
   "execution_count": null,
   "outputs": [
    {
     "data": {
      "text/plain": "                                            id  \\\n0      1-ACYLGLYCEROL-3-P-ACYLTRANSFER-MONOMER   \n1                                1-PFK-MONOMER   \n2             2-DEHYDROPANTOATE-REDUCT-MONOMER   \n3                 2-ISOPROPYLMALATESYN-MONOMER   \n4     2-OCTAPRENYL-METHOXY-BENZOQ-METH-MONOMER   \n...                                        ...   \n4415                              YTFR-MONOMER   \n4416                              YTFT-MONOMER   \n4417                              ZNUA-MONOMER   \n4418                              ZNUB-MONOMER   \n4419                              ZNUC-MONOMER   \n\n                                            common_name  \\\n0     1-acylglycerol-3-phosphate <i>O</i>-acyltransf...   \n1                                 1-phosphofructokinase   \n2                         2-dehydropantoate 2-reductase   \n3                            2-isopropylmalate synthase   \n4     bifunctional 2-octaprenyl-6-methoxy-1,4-benzoq...   \n...                                                 ...   \n4415  galactofuranose ABC transporter putative ATP b...   \n4416  galactofuranose ABC transporter putative membr...   \n4417  Zn<sup>2+</sup> ABC transporter periplasmic bi...   \n4418   Zn<sup>2+</sup> ABC transporter membrane subunit   \n4419  Zn<sup>2+</sup> ABC transporter ATP binding su...   \n\n                                                    seq  \\\n0     MLYIFRLIITVIYSILVCVFGSIYCLFSPRNPKHVATFGHMFGRLA...   \n1     MSRRVATITLNPAYDLVGFCPEIERGEVNLVKTTGLHAAGKGINVA...   \n2     MKITVLGCGALGQLWLTALCKQGHEVQGWLRVPQPYCSVNLVETDG...   \n3     MSQQVIIFDTTLRDGEQALQASLSVKEKLQIALALERMGVDVMEVG...   \n4     MVDKSQETTHFGFQTVAKEQKADMVAHVFHSVASKYDVMNDLMSFG...   \n...                                                 ...   \n4415  MTTDQHQEILRTEGLSKFFPGVKALDNVDFSLRRGEIMALLGENGA...   \n4416  MMPQSLPDTTTPKRRFRWPTGMPQLVALLLVLLVDSLVAPHFWQVV...   \n4417  MLHKKTLLFAALSAALWGGATQAADAAVVASLKPVGFIASAIADGV...   \n4418  MIELLFPGWLAGIMLACAAGPLGSFVVWRRMSYFGDTLAHASLLGV...   \n4419  MTSLVSLENVSVSFGQRRVLSDVSLELKPGKILTLLGPNGAGKSTL...   \n\n                                        enzyme_reaction cofactors  \\\n0     {ENZRXN0-7994, ENZRXN0-7462, ENZRXN0-7993, ENZ...        {}   \n1                                                    {}        {}   \n2                     {2-DEHYDROPANTOATE-REDUCT-ENZRXN}        {}   \n3                                        {ENZRXN0-6250}        {}   \n4     {2-OCTAPRENYL-METHOXY-BENZOQ-METH-ENZRXN, ADOM...        {}   \n...                                                 ...       ...   \n4415                                                 {}        {}   \n4416                                                 {}        {}   \n4417                                                 {}        {}   \n4418                                                 {}        {}   \n4419                                                 {}        {}   \n\n     other_features              direct_annotations metal_features_processed  \n0                []           {PWY0-1319, PWY-5667}                       {}  \n1             [ATP]                     {PWY0-1314}                       {}  \n2            [NADP]                     {PANTO-PWY}                       {}  \n3                []                    {LEUSYN-PWY}                       {}  \n4                []  {PWY-6708, MENAQUINONESYN-PWY}                       {}  \n...             ...                             ...                      ...  \n4415          [ATP]                              {}                       {}  \n4416             []                              {}                       {}  \n4417             []                              {}              {'ZN+2': 1}  \n4418             []                              {}                       {}  \n4419          [ATP]                              {}                       {}  \n\n[4420 rows x 8 columns]",
      "text/html": "<div>\n<style scoped>\n    .dataframe tbody tr th:only-of-type {\n        vertical-align: middle;\n    }\n\n    .dataframe tbody tr th {\n        vertical-align: top;\n    }\n\n    .dataframe thead th {\n        text-align: right;\n    }\n</style>\n<table border=\"1\" class=\"dataframe\">\n  <thead>\n    <tr style=\"text-align: right;\">\n      <th></th>\n      <th>id</th>\n      <th>common_name</th>\n      <th>seq</th>\n      <th>enzyme_reaction</th>\n      <th>cofactors</th>\n      <th>other_features</th>\n      <th>direct_annotations</th>\n      <th>metal_features_processed</th>\n    </tr>\n  </thead>\n  <tbody>\n    <tr>\n      <th>0</th>\n      <td>1-ACYLGLYCEROL-3-P-ACYLTRANSFER-MONOMER</td>\n      <td>1-acylglycerol-3-phosphate &lt;i&gt;O&lt;/i&gt;-acyltransf...</td>\n      <td>MLYIFRLIITVIYSILVCVFGSIYCLFSPRNPKHVATFGHMFGRLA...</td>\n      <td>{ENZRXN0-7994, ENZRXN0-7462, ENZRXN0-7993, ENZ...</td>\n      <td>{}</td>\n      <td>[]</td>\n      <td>{PWY0-1319, PWY-5667}</td>\n      <td>{}</td>\n    </tr>\n    <tr>\n      <th>1</th>\n      <td>1-PFK-MONOMER</td>\n      <td>1-phosphofructokinase</td>\n      <td>MSRRVATITLNPAYDLVGFCPEIERGEVNLVKTTGLHAAGKGINVA...</td>\n      <td>{}</td>\n      <td>{}</td>\n      <td>[ATP]</td>\n      <td>{PWY0-1314}</td>\n      <td>{}</td>\n    </tr>\n    <tr>\n      <th>2</th>\n      <td>2-DEHYDROPANTOATE-REDUCT-MONOMER</td>\n      <td>2-dehydropantoate 2-reductase</td>\n      <td>MKITVLGCGALGQLWLTALCKQGHEVQGWLRVPQPYCSVNLVETDG...</td>\n      <td>{2-DEHYDROPANTOATE-REDUCT-ENZRXN}</td>\n      <td>{}</td>\n      <td>[NADP]</td>\n      <td>{PANTO-PWY}</td>\n      <td>{}</td>\n    </tr>\n    <tr>\n      <th>3</th>\n      <td>2-ISOPROPYLMALATESYN-MONOMER</td>\n      <td>2-isopropylmalate synthase</td>\n      <td>MSQQVIIFDTTLRDGEQALQASLSVKEKLQIALALERMGVDVMEVG...</td>\n      <td>{ENZRXN0-6250}</td>\n      <td>{}</td>\n      <td>[]</td>\n      <td>{LEUSYN-PWY}</td>\n      <td>{}</td>\n    </tr>\n    <tr>\n      <th>4</th>\n      <td>2-OCTAPRENYL-METHOXY-BENZOQ-METH-MONOMER</td>\n      <td>bifunctional 2-octaprenyl-6-methoxy-1,4-benzoq...</td>\n      <td>MVDKSQETTHFGFQTVAKEQKADMVAHVFHSVASKYDVMNDLMSFG...</td>\n      <td>{2-OCTAPRENYL-METHOXY-BENZOQ-METH-ENZRXN, ADOM...</td>\n      <td>{}</td>\n      <td>[]</td>\n      <td>{PWY-6708, MENAQUINONESYN-PWY}</td>\n      <td>{}</td>\n    </tr>\n    <tr>\n      <th>...</th>\n      <td>...</td>\n      <td>...</td>\n      <td>...</td>\n      <td>...</td>\n      <td>...</td>\n      <td>...</td>\n      <td>...</td>\n      <td>...</td>\n    </tr>\n    <tr>\n      <th>4415</th>\n      <td>YTFR-MONOMER</td>\n      <td>galactofuranose ABC transporter putative ATP b...</td>\n      <td>MTTDQHQEILRTEGLSKFFPGVKALDNVDFSLRRGEIMALLGENGA...</td>\n      <td>{}</td>\n      <td>{}</td>\n      <td>[ATP]</td>\n      <td>{}</td>\n      <td>{}</td>\n    </tr>\n    <tr>\n      <th>4416</th>\n      <td>YTFT-MONOMER</td>\n      <td>galactofuranose ABC transporter putative membr...</td>\n      <td>MMPQSLPDTTTPKRRFRWPTGMPQLVALLLVLLVDSLVAPHFWQVV...</td>\n      <td>{}</td>\n      <td>{}</td>\n      <td>[]</td>\n      <td>{}</td>\n      <td>{}</td>\n    </tr>\n    <tr>\n      <th>4417</th>\n      <td>ZNUA-MONOMER</td>\n      <td>Zn&lt;sup&gt;2+&lt;/sup&gt; ABC transporter periplasmic bi...</td>\n      <td>MLHKKTLLFAALSAALWGGATQAADAAVVASLKPVGFIASAIADGV...</td>\n      <td>{}</td>\n      <td>{}</td>\n      <td>[]</td>\n      <td>{}</td>\n      <td>{'ZN+2': 1}</td>\n    </tr>\n    <tr>\n      <th>4418</th>\n      <td>ZNUB-MONOMER</td>\n      <td>Zn&lt;sup&gt;2+&lt;/sup&gt; ABC transporter membrane subunit</td>\n      <td>MIELLFPGWLAGIMLACAAGPLGSFVVWRRMSYFGDTLAHASLLGV...</td>\n      <td>{}</td>\n      <td>{}</td>\n      <td>[]</td>\n      <td>{}</td>\n      <td>{}</td>\n    </tr>\n    <tr>\n      <th>4419</th>\n      <td>ZNUC-MONOMER</td>\n      <td>Zn&lt;sup&gt;2+&lt;/sup&gt; ABC transporter ATP binding su...</td>\n      <td>MTSLVSLENVSVSFGQRRVLSDVSLELKPGKILTLLGPNGAGKSTL...</td>\n      <td>{}</td>\n      <td>{}</td>\n      <td>[ATP]</td>\n      <td>{}</td>\n      <td>{}</td>\n    </tr>\n  </tbody>\n</table>\n<p>4420 rows × 8 columns</p>\n</div>"
     },
     "execution_count": 6,
     "metadata": {},
     "output_type": "execute_result"
    }
   ],
   "source": [
    "parsed_protein_df = parsed_protein_df.drop(columns=['metal_features'])\n",
    "parsed_protein_df"
   ],
   "metadata": {
    "collapsed": false,
    "ExecuteTime": {
     "end_time": "2023-09-22T17:57:56.777691Z",
     "start_time": "2023-09-22T17:57:56.764610Z"
    }
   }
  },
  {
   "cell_type": "code",
   "execution_count": null,
   "outputs": [],
   "source": [
    "parsed_protein_df['other_features_processed'] = 0\n",
    "parsed_protein_df['other_features_processed'] = parsed_protein_df['other_features_processed'].astype(object)\n",
    "\n",
    "for i in range(len(parsed_protein_df.index)):\n",
    "\n",
    "    other_features = parsed_protein_df.loc[i, 'other_features']\n",
    "\n",
    "    other_feature_count_dict = {}\n",
    "    existing_matches = set()\n",
    "\n",
    "    for feature in other_features:\n",
    "\n",
    "        # eliminate duplicates\n",
    "        if feature not in existing_matches:\n",
    "\n",
    "            existing_matches.add(feature)\n",
    "\n",
    "            if feature in ACCEPTED_OTHER_FEATURES:\n",
    "                if feature in other_feature_count_dict:\n",
    "                    other_feature_count_dict[feature] += 1\n",
    "                else:\n",
    "                    other_feature_count_dict[feature] = 1\n",
    "\n",
    "    parsed_protein_df.at[i, 'other_features_processed'] = other_feature_count_dict"
   ],
   "metadata": {
    "collapsed": false,
    "ExecuteTime": {
     "end_time": "2023-09-22T17:57:56.923489Z",
     "start_time": "2023-09-22T17:57:56.771954Z"
    }
   }
  },
  {
   "cell_type": "code",
   "execution_count": null,
   "outputs": [
    {
     "name": "stdout",
     "output_type": "stream",
     "text": [
      "No sequence for MONOMER0-1241\n",
      "No sequence for MONOMER0-4223\n"
     ]
    }
   ],
   "source": [
    "# decompose sequence into dict of amino acid counts\n",
    "parsed_protein_df['sequence_processed'] = 0\n",
    "parsed_protein_df['sequence_processed'] = parsed_protein_df['sequence_processed'].astype(object)\n",
    "\n",
    "unique_aa = set()\n",
    "\n",
    "for i in range(len(parsed_protein_df.index)):\n",
    "\n",
    "    sequence = parsed_protein_df.loc[i, 'seq']\n",
    "\n",
    "    if type(sequence) != str:\n",
    "        print(f'No sequence for {parsed_protein_df.loc[i, \"id\"]}')\n",
    "        continue\n",
    "\n",
    "    aa_count_dict = {}\n",
    "\n",
    "    for aa in sequence:\n",
    "        if aa in aa_count_dict:\n",
    "            aa_count_dict[aa] += 1\n",
    "        else:\n",
    "            aa_count_dict[aa] = 1\n",
    "\n",
    "        if aa not in unique_aa:\n",
    "            unique_aa.add(aa)\n",
    "\n",
    "    parsed_protein_df.at[i, 'sequence_processed'] = aa_count_dict"
   ],
   "metadata": {
    "collapsed": false,
    "ExecuteTime": {
     "end_time": "2023-09-22T17:57:57.429492Z",
     "start_time": "2023-09-22T17:57:56.933237Z"
    }
   }
  },
  {
   "cell_type": "code",
   "execution_count": null,
   "outputs": [
    {
     "data": {
      "text/plain": "                                            id  \\\n0      1-ACYLGLYCEROL-3-P-ACYLTRANSFER-MONOMER   \n1                                1-PFK-MONOMER   \n2             2-DEHYDROPANTOATE-REDUCT-MONOMER   \n3                 2-ISOPROPYLMALATESYN-MONOMER   \n4     2-OCTAPRENYL-METHOXY-BENZOQ-METH-MONOMER   \n...                                        ...   \n4415                              YTFR-MONOMER   \n4416                              YTFT-MONOMER   \n4417                              ZNUA-MONOMER   \n4418                              ZNUB-MONOMER   \n4419                              ZNUC-MONOMER   \n\n                                            common_name  \\\n0     1-acylglycerol-3-phosphate <i>O</i>-acyltransf...   \n1                                 1-phosphofructokinase   \n2                         2-dehydropantoate 2-reductase   \n3                            2-isopropylmalate synthase   \n4     bifunctional 2-octaprenyl-6-methoxy-1,4-benzoq...   \n...                                                 ...   \n4415  galactofuranose ABC transporter putative ATP b...   \n4416  galactofuranose ABC transporter putative membr...   \n4417  Zn<sup>2+</sup> ABC transporter periplasmic bi...   \n4418   Zn<sup>2+</sup> ABC transporter membrane subunit   \n4419  Zn<sup>2+</sup> ABC transporter ATP binding su...   \n\n                                        enzyme_reaction cofactors  \\\n0     {ENZRXN0-7994, ENZRXN0-7462, ENZRXN0-7993, ENZ...        {}   \n1                                                    {}        {}   \n2                     {2-DEHYDROPANTOATE-REDUCT-ENZRXN}        {}   \n3                                        {ENZRXN0-6250}        {}   \n4     {2-OCTAPRENYL-METHOXY-BENZOQ-METH-ENZRXN, ADOM...        {}   \n...                                                 ...       ...   \n4415                                                 {}        {}   \n4416                                                 {}        {}   \n4417                                                 {}        {}   \n4418                                                 {}        {}   \n4419                                                 {}        {}   \n\n                  direct_annotations metal_features_processed  \\\n0              {PWY0-1319, PWY-5667}                       {}   \n1                        {PWY0-1314}                       {}   \n2                        {PANTO-PWY}                       {}   \n3                       {LEUSYN-PWY}                       {}   \n4     {PWY-6708, MENAQUINONESYN-PWY}                       {}   \n...                              ...                      ...   \n4415                              {}                       {}   \n4416                              {}                       {}   \n4417                              {}              {'ZN+2': 1}   \n4418                              {}                       {}   \n4419                              {}                       {}   \n\n     other_features_processed  \\\n0                          {}   \n1                          {}   \n2                          {}   \n3                          {}   \n4                          {}   \n...                       ...   \n4415                       {}   \n4416                       {}   \n4417                       {}   \n4418                       {}   \n4419                       {}   \n\n                                     sequence_processed  \n0     {'M': 6, 'L': 21, 'Y': 8, 'I': 22, 'F': 12, 'R...  \n1     {'M': 8, 'S': 21, 'R': 18, 'V': 32, 'A': 30, '...  \n2     {'M': 7, 'K': 7, 'I': 24, 'T': 21, 'V': 21, 'L...  \n3     {'M': 13, 'S': 30, 'Q': 22, 'V': 46, 'I': 39, ...  \n4     {'M': 10, 'V': 22, 'D': 19, 'K': 16, 'S': 16, ...  \n...                                                 ...  \n4415  {'M': 11, 'T': 26, 'D': 24, 'Q': 26, 'H': 7, '...  \n4416  {'M': 12, 'P': 15, 'Q': 11, 'S': 17, 'L': 53, ...  \n4417  {'M': 7, 'L': 34, 'H': 13, 'K': 20, 'T': 16, '...  \n4418  {'M': 13, 'I': 18, 'E': 4, 'L': 47, 'F': 12, '...  \n4419  {'M': 5, 'T': 12, 'S': 13, 'L': 42, 'V': 25, '...  \n\n[4420 rows x 8 columns]",
      "text/html": "<div>\n<style scoped>\n    .dataframe tbody tr th:only-of-type {\n        vertical-align: middle;\n    }\n\n    .dataframe tbody tr th {\n        vertical-align: top;\n    }\n\n    .dataframe thead th {\n        text-align: right;\n    }\n</style>\n<table border=\"1\" class=\"dataframe\">\n  <thead>\n    <tr style=\"text-align: right;\">\n      <th></th>\n      <th>id</th>\n      <th>common_name</th>\n      <th>enzyme_reaction</th>\n      <th>cofactors</th>\n      <th>direct_annotations</th>\n      <th>metal_features_processed</th>\n      <th>other_features_processed</th>\n      <th>sequence_processed</th>\n    </tr>\n  </thead>\n  <tbody>\n    <tr>\n      <th>0</th>\n      <td>1-ACYLGLYCEROL-3-P-ACYLTRANSFER-MONOMER</td>\n      <td>1-acylglycerol-3-phosphate &lt;i&gt;O&lt;/i&gt;-acyltransf...</td>\n      <td>{ENZRXN0-7994, ENZRXN0-7462, ENZRXN0-7993, ENZ...</td>\n      <td>{}</td>\n      <td>{PWY0-1319, PWY-5667}</td>\n      <td>{}</td>\n      <td>{}</td>\n      <td>{'M': 6, 'L': 21, 'Y': 8, 'I': 22, 'F': 12, 'R...</td>\n    </tr>\n    <tr>\n      <th>1</th>\n      <td>1-PFK-MONOMER</td>\n      <td>1-phosphofructokinase</td>\n      <td>{}</td>\n      <td>{}</td>\n      <td>{PWY0-1314}</td>\n      <td>{}</td>\n      <td>{}</td>\n      <td>{'M': 8, 'S': 21, 'R': 18, 'V': 32, 'A': 30, '...</td>\n    </tr>\n    <tr>\n      <th>2</th>\n      <td>2-DEHYDROPANTOATE-REDUCT-MONOMER</td>\n      <td>2-dehydropantoate 2-reductase</td>\n      <td>{2-DEHYDROPANTOATE-REDUCT-ENZRXN}</td>\n      <td>{}</td>\n      <td>{PANTO-PWY}</td>\n      <td>{}</td>\n      <td>{}</td>\n      <td>{'M': 7, 'K': 7, 'I': 24, 'T': 21, 'V': 21, 'L...</td>\n    </tr>\n    <tr>\n      <th>3</th>\n      <td>2-ISOPROPYLMALATESYN-MONOMER</td>\n      <td>2-isopropylmalate synthase</td>\n      <td>{ENZRXN0-6250}</td>\n      <td>{}</td>\n      <td>{LEUSYN-PWY}</td>\n      <td>{}</td>\n      <td>{}</td>\n      <td>{'M': 13, 'S': 30, 'Q': 22, 'V': 46, 'I': 39, ...</td>\n    </tr>\n    <tr>\n      <th>4</th>\n      <td>2-OCTAPRENYL-METHOXY-BENZOQ-METH-MONOMER</td>\n      <td>bifunctional 2-octaprenyl-6-methoxy-1,4-benzoq...</td>\n      <td>{2-OCTAPRENYL-METHOXY-BENZOQ-METH-ENZRXN, ADOM...</td>\n      <td>{}</td>\n      <td>{PWY-6708, MENAQUINONESYN-PWY}</td>\n      <td>{}</td>\n      <td>{}</td>\n      <td>{'M': 10, 'V': 22, 'D': 19, 'K': 16, 'S': 16, ...</td>\n    </tr>\n    <tr>\n      <th>...</th>\n      <td>...</td>\n      <td>...</td>\n      <td>...</td>\n      <td>...</td>\n      <td>...</td>\n      <td>...</td>\n      <td>...</td>\n      <td>...</td>\n    </tr>\n    <tr>\n      <th>4415</th>\n      <td>YTFR-MONOMER</td>\n      <td>galactofuranose ABC transporter putative ATP b...</td>\n      <td>{}</td>\n      <td>{}</td>\n      <td>{}</td>\n      <td>{}</td>\n      <td>{}</td>\n      <td>{'M': 11, 'T': 26, 'D': 24, 'Q': 26, 'H': 7, '...</td>\n    </tr>\n    <tr>\n      <th>4416</th>\n      <td>YTFT-MONOMER</td>\n      <td>galactofuranose ABC transporter putative membr...</td>\n      <td>{}</td>\n      <td>{}</td>\n      <td>{}</td>\n      <td>{}</td>\n      <td>{}</td>\n      <td>{'M': 12, 'P': 15, 'Q': 11, 'S': 17, 'L': 53, ...</td>\n    </tr>\n    <tr>\n      <th>4417</th>\n      <td>ZNUA-MONOMER</td>\n      <td>Zn&lt;sup&gt;2+&lt;/sup&gt; ABC transporter periplasmic bi...</td>\n      <td>{}</td>\n      <td>{}</td>\n      <td>{}</td>\n      <td>{'ZN+2': 1}</td>\n      <td>{}</td>\n      <td>{'M': 7, 'L': 34, 'H': 13, 'K': 20, 'T': 16, '...</td>\n    </tr>\n    <tr>\n      <th>4418</th>\n      <td>ZNUB-MONOMER</td>\n      <td>Zn&lt;sup&gt;2+&lt;/sup&gt; ABC transporter membrane subunit</td>\n      <td>{}</td>\n      <td>{}</td>\n      <td>{}</td>\n      <td>{}</td>\n      <td>{}</td>\n      <td>{'M': 13, 'I': 18, 'E': 4, 'L': 47, 'F': 12, '...</td>\n    </tr>\n    <tr>\n      <th>4419</th>\n      <td>ZNUC-MONOMER</td>\n      <td>Zn&lt;sup&gt;2+&lt;/sup&gt; ABC transporter ATP binding su...</td>\n      <td>{}</td>\n      <td>{}</td>\n      <td>{}</td>\n      <td>{}</td>\n      <td>{}</td>\n      <td>{'M': 5, 'T': 12, 'S': 13, 'L': 42, 'V': 25, '...</td>\n    </tr>\n  </tbody>\n</table>\n<p>4420 rows × 8 columns</p>\n</div>"
     },
     "execution_count": 9,
     "metadata": {},
     "output_type": "execute_result"
    }
   ],
   "source": [
    "parsed_protein_df = parsed_protein_df.drop(columns=['other_features','seq'])\n",
    "\n",
    "parsed_protein_df"
   ],
   "metadata": {
    "collapsed": false,
    "ExecuteTime": {
     "end_time": "2023-09-22T17:57:57.462971Z",
     "start_time": "2023-09-22T17:57:57.431127Z"
    }
   }
  },
  {
   "cell_type": "markdown",
   "source": [
    "## Create new column for monomer component stoichiometry"
   ],
   "metadata": {
    "collapsed": false
   }
  },
  {
   "cell_type": "code",
   "execution_count": null,
   "outputs": [],
   "source": [
    "complex_ids = parsed_complex_df['id'].tolist()\n",
    "monomer_names = parsed_protein_df['id'].tolist()"
   ],
   "metadata": {
    "collapsed": false,
    "ExecuteTime": {
     "end_time": "2023-09-22T17:57:57.463524Z",
     "start_time": "2023-09-22T17:57:57.445721Z"
    }
   }
  },
  {
   "cell_type": "code",
   "execution_count": null,
   "outputs": [],
   "source": [
    "def recursive_component_tree(current_component_name, complex_table, protein_table,\n",
    "                             current_multiplier=1, component_list=None, parent=None, return_cofactors=False):\n",
    "    \"\"\"\n",
    "    Recursively find all downstream components of a given complex.\n",
    "    \"\"\"\n",
    "\n",
    "    complex_names = complex_table['id'].tolist()\n",
    "    monomer_names = protein_table['id'].tolist()\n",
    "\n",
    "\n",
    "    my_children = {}\n",
    "\n",
    "    if component_list is None:\n",
    "        component_list = []\n",
    "\n",
    "\n",
    "    if current_component_name in complex_names:\n",
    "\n",
    "\n",
    "        cplx_idx = complex_table.index[complex_table['id'] == current_component_name][0]\n",
    "        stoichiometry = complex_table.at[cplx_idx, 'stoichiometry']\n",
    "\n",
    "        direct_children = {k: abs(v) for k, v in stoichiometry.items() if v < 0}\n",
    "\n",
    "        for component_name, coefficient in stoichiometry.items():\n",
    "\n",
    "            if coefficient < 0 and component_name != current_component_name:\n",
    "\n",
    "                child_multiplier = abs(coefficient * current_multiplier)\n",
    "\n",
    "                new_child = recursive_component_tree(component_name, complex_table, protein_table,\n",
    "                                                     child_multiplier, component_list, current_component_name, return_cofactors)\n",
    "\n",
    "                my_children = my_children | new_child\n",
    "\n",
    "\n",
    "            elif coefficient > 0 and component_name == current_component_name:\n",
    "                continue\n",
    "\n",
    "            else:\n",
    "                raise ValueError(f\"key {component_name} and value {coefficient} for complex {component_name} not processed properly.\")\n",
    "\n",
    "        component_list.append({'name': current_component_name,'parent': parent, 'children': direct_children,\n",
    "                               'multiplier': int(current_multiplier), })\n",
    "\n",
    "\n",
    "    elif current_component_name in monomer_names:\n",
    "\n",
    "        # TODO check if enzrxn\n",
    "        if return_cofactors:\n",
    "            protein_idx = protein_table.index[protein_table['id'] == current_component_name][0]\n",
    "\n",
    "            protein_metals = protein_table.at[protein_idx, 'metal_features_processed']\n",
    "            protein_other = protein_table.at[protein_idx, 'other_features_processed']\n",
    "\n",
    "            table_cofactors = protein_metals | protein_other\n",
    "\n",
    "            if len(table_cofactors) > 0:\n",
    "                # TODO Add apo protein to component list\n",
    "                my_children = {}\n",
    "\n",
    "                for cofactor, cofactor_coefficient in table_cofactors.items():\n",
    "                    if table_cofactors[cofactor] !=  None:\n",
    "                        my_children[cofactor] = cofactor_coefficient\n",
    "                        component_list.append({'parent': current_component_name,\n",
    "                                               'name': cofactor,\n",
    "                                               'multiplier': abs(int(current_multiplier * cofactor_coefficient)),\n",
    "                                               'children': None})\n",
    "\n",
    "            component_list.append({'parent': parent, 'name': current_component_name, 'multiplier': current_multiplier, 'children': my_children})\n",
    "\n",
    "        else:\n",
    "            my_children = None\n",
    "            component_list.append({'parent': parent, 'name': current_component_name, 'multiplier': current_multiplier, 'children': None})\n",
    "\n",
    "\n",
    "\n",
    "    else:\n",
    "        print(f\"component {current_component_name} not found in complex or protein tables\")\n",
    "\n",
    "        return {}\n",
    "\n",
    "\n",
    "    if parent is None:\n",
    "        return {current_component_name: my_children}, component_list\n",
    "    else:\n",
    "        return {current_component_name: my_children}\n"
   ],
   "metadata": {
    "collapsed": false,
    "ExecuteTime": {
     "end_time": "2023-09-22T17:57:57.463704Z",
     "start_time": "2023-09-22T17:57:57.455073Z"
    }
   }
  },
  {
   "cell_type": "code",
   "execution_count": null,
   "outputs": [
    {
     "name": "stdout",
     "output_type": "stream",
     "text": [
      "[{'children': None,\n",
      "  'multiplier': 4,\n",
      "  'name': 'HYAA-MONOMER',\n",
      "  'parent': 'FORMHYDROGI-CPLX'},\n",
      " {'children': None,\n",
      "  'multiplier': 4,\n",
      "  'name': 'HYAB-MONOMER',\n",
      "  'parent': 'FORMHYDROGI-CPLX'},\n",
      " {'children': None,\n",
      "  'multiplier': 2,\n",
      "  'name': 'HYAC-MONOMER',\n",
      "  'parent': 'FORMHYDROGI-CPLX'},\n",
      " {'children': {'HYAA-MONOMER': 2, 'HYAB-MONOMER': 2, 'HYAC-MONOMER': 1},\n",
      "  'multiplier': 2,\n",
      "  'name': 'FORMHYDROGI-CPLX',\n",
      "  'parent': 'CPLX0-8167'},\n",
      " {'children': {'FORMHYDROGI-CPLX': 2},\n",
      "  'multiplier': 1,\n",
      "  'name': 'CPLX0-8167',\n",
      "  'parent': None}]\n"
     ]
    }
   ],
   "source": [
    "complex_tree_structure, nodes = recursive_component_tree('CPLX0-8167', parsed_complex_df, parsed_protein_df)\n",
    "pp.pprint(nodes)"
   ],
   "metadata": {
    "collapsed": false,
    "ExecuteTime": {
     "end_time": "2023-09-22T17:57:57.463898Z",
     "start_time": "2023-09-22T17:57:57.455720Z"
    }
   }
  },
  {
   "cell_type": "code",
   "execution_count": null,
   "outputs": [
    {
     "name": "stdout",
     "output_type": "stream",
     "text": [
      "component CPLX0-7701 not found in complex or protein tables\n",
      "component CPLX0-7677 not found in complex or protein tables\n",
      "component MONOMER0-1781 not found in complex or protein tables\n",
      "component CPLX0-7702 not found in complex or protein tables\n",
      "component CSRB-RNA not found in complex or protein tables\n",
      "component RNPB-RNA not found in complex or protein tables\n",
      "component RRSA-RRNA not found in complex or protein tables\n",
      "component RRLA-RRNA not found in complex or protein tables\n",
      "component RRFA-RRNA not found in complex or protein tables\n",
      "component RRSA-RRNA not found in complex or protein tables\n",
      "component RRLA-RRNA not found in complex or protein tables\n",
      "component RRFA-RRNA not found in complex or protein tables\n",
      "component IS061-RNA not found in complex or protein tables\n",
      "component CSRC-RNA not found in complex or protein tables\n",
      "component FFS-RNA not found in complex or protein tables\n"
     ]
    }
   ],
   "source": [
    "parsed_complex_df['monomer_component_stoichiometry'] = 0\n",
    "parsed_complex_df['monomer_component_stoichiometry'] = parsed_complex_df['monomer_component_stoichiometry'].astype(object)\n",
    "\n",
    "for i in range(len(parsed_complex_df.index)):\n",
    "    complex_name = parsed_complex_df.loc[i, 'id']\n",
    "    complex_tree_structure, nodes = recursive_component_tree(complex_name, parsed_complex_df, parsed_protein_df)\n",
    "\n",
    "    monomer_components = {node['name']: node['multiplier'] for node in nodes if node['children'] is None}\n",
    "\n",
    "    parsed_complex_df.at[i, 'monomer_component_stoichiometry'] = monomer_components"
   ],
   "metadata": {
    "collapsed": false,
    "ExecuteTime": {
     "end_time": "2023-09-22T17:57:57.901656Z",
     "start_time": "2023-09-22T17:57:57.459344Z"
    }
   }
  },
  {
   "cell_type": "code",
   "execution_count": null,
   "outputs": [
    {
     "data": {
      "text/plain": "                                    id  \\\n0                                1-PFK   \n1                2OXOGLUTARATEDEH-CPLX   \n2          3-ISOPROPYLMALDEHYDROG-CPLX   \n3              3-ISOPROPYLMALISOM-CPLX   \n4     3-METHYL-2-OXOBUT-OHCH3XFER-CPLX   \n...                                ...   \n1064                        CPLX0-8053   \n1065                        CPLX0-8253   \n1066                          SRP-CPLX   \n1067                     CPLX0-7796APO   \n1068                         ARCB-CPLX   \n\n                                           common_name  \\\n0                                1-phosphofructokinase   \n1                 2-oxoglutarate dehydrogenase complex   \n2                      3-isopropylmalate dehydrogenase   \n3                        3-isopropylmalate dehydratase   \n4     3-methyl-2-oxobutanoate hydroxymethyltransferase   \n...                                                ...   \n1064         SelB-L-selenocysteinyl-tRNA<sup>sec</sup>   \n1065                        CsrA complex with CsrC RNA   \n1066                       Signal Recognition Particle   \n1067                                               NaN   \n1068                                               NaN   \n\n                                          stoichiometry  \\\n0                     {'1-PFK': 1, '1-PFK-MONOMER': -2}   \n1     {'2OXOGLUTARATEDEH-CPLX': 1, 'E1O': -1, 'E2O':...   \n2     {'3-ISOPROPYLMALDEHYDROG-CPLX': 1, '3-ISOPROPY...   \n3     {'3-ISOPROPYLMALISOM-CPLX': 1, 'LEUC-MONOMER':...   \n4     {'3-METHYL-2-OXOBUT-OHCH3XFER-CPLX': 1, '3-CH3...   \n...                                                 ...   \n1064           {'CPLX0-8053': 1, 'EG10942-MONOMER': -1}   \n1065  {'CPLX0-8253': 1, 'CSRC-RNA': -1, 'EG11447-MON...   \n1066  {'SRP-CPLX': 1, 'EG10300-MONOMER': -1, 'FFS-RN...   \n1067                {'CPLX0-7796APO': 1, 'PD04032': -2}   \n1068               {'ARCB-CPLX': 1, 'ARCB-MONOMER': -2}   \n\n                        monomer_component_stoichiometry  \\\n0                                  {'1-PFK-MONOMER': 2}   \n1     {'E1O-MONOMER': 12, 'E2O-MONOMER': 24, 'E3-MON...   \n2                 {'3-ISOPROPYLMALDEHYDROG-MONOMER': 2}   \n3                {'LEUC-MONOMER': 1, 'LEUD-MONOMER': 1}   \n4      {'3-CH3-2-OXOBUTANOATE-OH-CH3-XFER-MONOMER': 10}   \n...                                                 ...   \n1064                             {'EG10942-MONOMER': 1}   \n1065                             {'EG11447-MONOMER': 9}   \n1066                             {'EG10300-MONOMER': 1}   \n1067                                     {'PD04032': 2}   \n1068                                {'ARCB-MONOMER': 2}   \n\n                                             cofactors  \n0                                               {MG+2}  \n1     {THIAMINE-PYROPHOSPHATE, FAD, LIPOIC-ACID, MG+2}  \n2                                         {MN+2, MG+2}  \n3                                              {CPD-7}  \n4                                               {MG+2}  \n...                                                ...  \n1064                                                {}  \n1065                                                {}  \n1066                                                {}  \n1067                                                {}  \n1068                                                {}  \n\n[1069 rows x 5 columns]",
      "text/html": "<div>\n<style scoped>\n    .dataframe tbody tr th:only-of-type {\n        vertical-align: middle;\n    }\n\n    .dataframe tbody tr th {\n        vertical-align: top;\n    }\n\n    .dataframe thead th {\n        text-align: right;\n    }\n</style>\n<table border=\"1\" class=\"dataframe\">\n  <thead>\n    <tr style=\"text-align: right;\">\n      <th></th>\n      <th>id</th>\n      <th>common_name</th>\n      <th>stoichiometry</th>\n      <th>monomer_component_stoichiometry</th>\n      <th>cofactors</th>\n    </tr>\n  </thead>\n  <tbody>\n    <tr>\n      <th>0</th>\n      <td>1-PFK</td>\n      <td>1-phosphofructokinase</td>\n      <td>{'1-PFK': 1, '1-PFK-MONOMER': -2}</td>\n      <td>{'1-PFK-MONOMER': 2}</td>\n      <td>{MG+2}</td>\n    </tr>\n    <tr>\n      <th>1</th>\n      <td>2OXOGLUTARATEDEH-CPLX</td>\n      <td>2-oxoglutarate dehydrogenase complex</td>\n      <td>{'2OXOGLUTARATEDEH-CPLX': 1, 'E1O': -1, 'E2O':...</td>\n      <td>{'E1O-MONOMER': 12, 'E2O-MONOMER': 24, 'E3-MON...</td>\n      <td>{THIAMINE-PYROPHOSPHATE, FAD, LIPOIC-ACID, MG+2}</td>\n    </tr>\n    <tr>\n      <th>2</th>\n      <td>3-ISOPROPYLMALDEHYDROG-CPLX</td>\n      <td>3-isopropylmalate dehydrogenase</td>\n      <td>{'3-ISOPROPYLMALDEHYDROG-CPLX': 1, '3-ISOPROPY...</td>\n      <td>{'3-ISOPROPYLMALDEHYDROG-MONOMER': 2}</td>\n      <td>{MN+2, MG+2}</td>\n    </tr>\n    <tr>\n      <th>3</th>\n      <td>3-ISOPROPYLMALISOM-CPLX</td>\n      <td>3-isopropylmalate dehydratase</td>\n      <td>{'3-ISOPROPYLMALISOM-CPLX': 1, 'LEUC-MONOMER':...</td>\n      <td>{'LEUC-MONOMER': 1, 'LEUD-MONOMER': 1}</td>\n      <td>{CPD-7}</td>\n    </tr>\n    <tr>\n      <th>4</th>\n      <td>3-METHYL-2-OXOBUT-OHCH3XFER-CPLX</td>\n      <td>3-methyl-2-oxobutanoate hydroxymethyltransferase</td>\n      <td>{'3-METHYL-2-OXOBUT-OHCH3XFER-CPLX': 1, '3-CH3...</td>\n      <td>{'3-CH3-2-OXOBUTANOATE-OH-CH3-XFER-MONOMER': 10}</td>\n      <td>{MG+2}</td>\n    </tr>\n    <tr>\n      <th>...</th>\n      <td>...</td>\n      <td>...</td>\n      <td>...</td>\n      <td>...</td>\n      <td>...</td>\n    </tr>\n    <tr>\n      <th>1064</th>\n      <td>CPLX0-8053</td>\n      <td>SelB-L-selenocysteinyl-tRNA&lt;sup&gt;sec&lt;/sup&gt;</td>\n      <td>{'CPLX0-8053': 1, 'EG10942-MONOMER': -1}</td>\n      <td>{'EG10942-MONOMER': 1}</td>\n      <td>{}</td>\n    </tr>\n    <tr>\n      <th>1065</th>\n      <td>CPLX0-8253</td>\n      <td>CsrA complex with CsrC RNA</td>\n      <td>{'CPLX0-8253': 1, 'CSRC-RNA': -1, 'EG11447-MON...</td>\n      <td>{'EG11447-MONOMER': 9}</td>\n      <td>{}</td>\n    </tr>\n    <tr>\n      <th>1066</th>\n      <td>SRP-CPLX</td>\n      <td>Signal Recognition Particle</td>\n      <td>{'SRP-CPLX': 1, 'EG10300-MONOMER': -1, 'FFS-RN...</td>\n      <td>{'EG10300-MONOMER': 1}</td>\n      <td>{}</td>\n    </tr>\n    <tr>\n      <th>1067</th>\n      <td>CPLX0-7796APO</td>\n      <td>NaN</td>\n      <td>{'CPLX0-7796APO': 1, 'PD04032': -2}</td>\n      <td>{'PD04032': 2}</td>\n      <td>{}</td>\n    </tr>\n    <tr>\n      <th>1068</th>\n      <td>ARCB-CPLX</td>\n      <td>NaN</td>\n      <td>{'ARCB-CPLX': 1, 'ARCB-MONOMER': -2}</td>\n      <td>{'ARCB-MONOMER': 2}</td>\n      <td>{}</td>\n    </tr>\n  </tbody>\n</table>\n<p>1069 rows × 5 columns</p>\n</div>"
     },
     "execution_count": 14,
     "metadata": {},
     "output_type": "execute_result"
    }
   ],
   "source": [
    "parsed_complex_df = parsed_complex_df.loc[:, [\"id\", \"common_name\", \"stoichiometry\", \"monomer_component_stoichiometry\", \"cofactors\"]]\n",
    "parsed_complex_df"
   ],
   "metadata": {
    "collapsed": false,
    "ExecuteTime": {
     "end_time": "2023-09-22T17:57:57.910891Z",
     "start_time": "2023-09-22T17:57:57.908270Z"
    }
   }
  },
  {
   "cell_type": "markdown",
   "source": [
    "## Create tree matrix (also for Julia)"
   ],
   "metadata": {
    "collapsed": false
   }
  },
  {
   "cell_type": "code",
   "execution_count": null,
   "outputs": [
    {
     "name": "stdout",
     "output_type": "stream",
     "text": [
      "component CPLX0-7701 not found in complex or protein tables\n",
      "component CPLX0-7677 not found in complex or protein tables\n",
      "component MONOMER0-1781 not found in complex or protein tables\n",
      "component CPLX0-7702 not found in complex or protein tables\n",
      "component CSRB-RNA not found in complex or protein tables\n",
      "component RNPB-RNA not found in complex or protein tables\n",
      "component RRSA-RRNA not found in complex or protein tables\n",
      "component RRLA-RRNA not found in complex or protein tables\n",
      "component RRFA-RRNA not found in complex or protein tables\n",
      "component RRSA-RRNA not found in complex or protein tables\n",
      "component RRLA-RRNA not found in complex or protein tables\n",
      "component RRFA-RRNA not found in complex or protein tables\n",
      "component IS061-RNA not found in complex or protein tables\n",
      "component CSRC-RNA not found in complex or protein tables\n",
      "component FFS-RNA not found in complex or protein tables\n"
     ]
    }
   ],
   "source": [
    "# save names\n",
    "complex_ids = list(parsed_complex_df['id'])\n",
    "protein_ids = list(parsed_protein_df['id'])\n",
    "cofactor_ids = list(parsed_cofactor_df['id'])\n",
    "pathway_ids = list(parsed_pathway_df['id'])\n",
    "\n",
    "\n",
    "name_idx = complex_ids + protein_ids + cofactor_ids\n",
    "tree_matrix = np.zeros([len(complex_ids) + len(protein_ids) + len(cofactor_ids), len(complex_ids) + len(protein_ids) + len(cofactor_ids)], dtype=np.int64)\n",
    "\n",
    "for i in range(len(parsed_complex_df)):\n",
    "    name = parsed_complex_df.at[i, 'id']\n",
    "    tree_structure, nodes = recursive_component_tree(name, parsed_complex_df, parsed_protein_df, return_cofactors=True)\n",
    "\n",
    "    for node in nodes:\n",
    "        node_name = node['name']\n",
    "        node_children = node['children']\n",
    "\n",
    "        if node_children != None:\n",
    "            for child_name, child_coefficient in node_children.items():\n",
    "                if child_name in name_idx:\n",
    "                        tree_matrix[name_idx.index(node_name), name_idx.index(child_name)] = child_coefficient"
   ],
   "metadata": {
    "collapsed": false,
    "ExecuteTime": {
     "end_time": "2023-09-22T17:57:59.092598Z",
     "start_time": "2023-09-22T17:57:57.911045Z"
    }
   }
  },
  {
   "cell_type": "markdown",
   "source": [
    "# Create matrices to get cofactor counts"
   ],
   "metadata": {
    "collapsed": false
   }
  },
  {
   "cell_type": "code",
   "execution_count": null,
   "outputs": [
    {
     "data": {
      "text/plain": "                                      id  \\\n0                     Signaling-Pathways   \n1                              PWY0-1559   \n2                              PWY0-1495   \n3                              PWY0-1518   \n4                              PWY0-1490   \n...                                  ...   \n1159                  GLUTATHIONESYN-PWY   \n1160             Butanediol-Biosynthesis   \n1161                       CYCLOPEPTIDES   \n1162  6-HM-Dihydropterin-PP-Biosynthesis   \n1163                            PWY-6147   \n\n                                   parents  \\\n0                                       []   \n1                     [Signaling-Pathways]   \n2                     [Signaling-Pathways]   \n3                     [Signaling-Pathways]   \n4                     [Signaling-Pathways]   \n...                                    ...   \n1159                          [Reductants]   \n1160                  [Other-biosynthesis]   \n1161                  [Other-biosynthesis]   \n1162                  [Other-biosynthesis]   \n1163  [6-HM-Dihydropterin-PP-Biosynthesis]   \n\n                                               children  level  \\\n0     [PWY0-1559, PWY0-1495, PWY0-1518, PWY0-1490, P...      1   \n1                                                    []      2   \n2                                                    []      2   \n3                                                    []      2   \n4                                                    []      2   \n...                                                 ...    ...   \n1159                                                 []      4   \n1160                                                 []      3   \n1161                                                 []      3   \n1162                                         [PWY-6147]      3   \n1163                                                 []      4   \n\n                                            common_name  \n0                          Signal transduction pathways  \n1        BtsSR Two-Component Signal Transduction System  \n2     KdpDE Two-Component Signal Transduction System...  \n3         Chemotactic Two-Component Signal Transduction  \n4        EvgSA Two-Component Signal Transduction System  \n...                                                 ...  \n1159                           glutathione biosynthesis  \n1160                            Butanediol Biosynthesis  \n1161                          Cyclopeptide Biosynthesis  \n1162  6-Hydroxymethyl-Dihydropterin Diphosphate Bios...  \n1163  6-hydroxymethyl-dihydropterin diphosphate bios...  \n\n[1164 rows x 5 columns]",
      "text/html": "<div>\n<style scoped>\n    .dataframe tbody tr th:only-of-type {\n        vertical-align: middle;\n    }\n\n    .dataframe tbody tr th {\n        vertical-align: top;\n    }\n\n    .dataframe thead th {\n        text-align: right;\n    }\n</style>\n<table border=\"1\" class=\"dataframe\">\n  <thead>\n    <tr style=\"text-align: right;\">\n      <th></th>\n      <th>id</th>\n      <th>parents</th>\n      <th>children</th>\n      <th>level</th>\n      <th>common_name</th>\n    </tr>\n  </thead>\n  <tbody>\n    <tr>\n      <th>0</th>\n      <td>Signaling-Pathways</td>\n      <td>[]</td>\n      <td>[PWY0-1559, PWY0-1495, PWY0-1518, PWY0-1490, P...</td>\n      <td>1</td>\n      <td>Signal transduction pathways</td>\n    </tr>\n    <tr>\n      <th>1</th>\n      <td>PWY0-1559</td>\n      <td>[Signaling-Pathways]</td>\n      <td>[]</td>\n      <td>2</td>\n      <td>BtsSR Two-Component Signal Transduction System</td>\n    </tr>\n    <tr>\n      <th>2</th>\n      <td>PWY0-1495</td>\n      <td>[Signaling-Pathways]</td>\n      <td>[]</td>\n      <td>2</td>\n      <td>KdpDE Two-Component Signal Transduction System...</td>\n    </tr>\n    <tr>\n      <th>3</th>\n      <td>PWY0-1518</td>\n      <td>[Signaling-Pathways]</td>\n      <td>[]</td>\n      <td>2</td>\n      <td>Chemotactic Two-Component Signal Transduction</td>\n    </tr>\n    <tr>\n      <th>4</th>\n      <td>PWY0-1490</td>\n      <td>[Signaling-Pathways]</td>\n      <td>[]</td>\n      <td>2</td>\n      <td>EvgSA Two-Component Signal Transduction System</td>\n    </tr>\n    <tr>\n      <th>...</th>\n      <td>...</td>\n      <td>...</td>\n      <td>...</td>\n      <td>...</td>\n      <td>...</td>\n    </tr>\n    <tr>\n      <th>1159</th>\n      <td>GLUTATHIONESYN-PWY</td>\n      <td>[Reductants]</td>\n      <td>[]</td>\n      <td>4</td>\n      <td>glutathione biosynthesis</td>\n    </tr>\n    <tr>\n      <th>1160</th>\n      <td>Butanediol-Biosynthesis</td>\n      <td>[Other-biosynthesis]</td>\n      <td>[]</td>\n      <td>3</td>\n      <td>Butanediol Biosynthesis</td>\n    </tr>\n    <tr>\n      <th>1161</th>\n      <td>CYCLOPEPTIDES</td>\n      <td>[Other-biosynthesis]</td>\n      <td>[]</td>\n      <td>3</td>\n      <td>Cyclopeptide Biosynthesis</td>\n    </tr>\n    <tr>\n      <th>1162</th>\n      <td>6-HM-Dihydropterin-PP-Biosynthesis</td>\n      <td>[Other-biosynthesis]</td>\n      <td>[PWY-6147]</td>\n      <td>3</td>\n      <td>6-Hydroxymethyl-Dihydropterin Diphosphate Bios...</td>\n    </tr>\n    <tr>\n      <th>1163</th>\n      <td>PWY-6147</td>\n      <td>[6-HM-Dihydropterin-PP-Biosynthesis]</td>\n      <td>[]</td>\n      <td>4</td>\n      <td>6-hydroxymethyl-dihydropterin diphosphate bios...</td>\n    </tr>\n  </tbody>\n</table>\n<p>1164 rows × 5 columns</p>\n</div>"
     },
     "execution_count": 16,
     "metadata": {},
     "output_type": "execute_result"
    }
   ],
   "source": [
    "parsed_pathway_df"
   ],
   "metadata": {
    "collapsed": false,
    "ExecuteTime": {
     "end_time": "2023-09-22T17:57:59.100122Z",
     "start_time": "2023-09-22T17:57:59.097398Z"
    }
   }
  },
  {
   "cell_type": "code",
   "execution_count": null,
   "outputs": [],
   "source": [
    "priority_list = ['Activation-Inactivation-Interconversion','Metabolic-Clusters', 'Macromolecule-Modification', 'Glycan-Pathways','Detoxification',  'Degradation']\n",
    "\n",
    "# pathway matrix is necessary to traverse tree\n",
    "pathway_matrix = np.zeros((len(pathway_ids), len(pathway_ids)), dtype=np.int64)\n",
    "level_vector = np.zeros(len(pathway_ids), dtype=np.int64)\n",
    "\n",
    "for i in range(len(parsed_pathway_df)):\n",
    "\n",
    "    cur_pathway = parsed_pathway_df.at[i, 'id']\n",
    "    level_vector[i] = parsed_pathway_df.at[i, 'level']\n",
    "\n",
    "    pathway_parents = parsed_pathway_df.at[i, 'parents']\n",
    "    pathway_children = parsed_pathway_df.at[i, 'children']\n",
    "\n",
    "    for parent in pathway_parents:\n",
    "        j = pathway_ids.index(parent)\n",
    "        pathway_matrix[j, i] = 1\n",
    "\n",
    "    for child in pathway_children:\n",
    "        j = pathway_ids.index(child)\n",
    "        pathway_matrix[i, j] = 1\n",
    "\n",
    "original_pathway_matrix = pathway_matrix.copy()\n",
    "\n",
    "# get superpathway indices\n",
    "super_pathway_idx = pathway_ids.index('Super-Pathways')\n",
    "super_pathway_children_idxs = np.where(pathway_matrix[super_pathway_idx, :] == 1)[0]\n",
    "\n",
    "# zero out all superpathway children\n",
    "pathway_matrix[:, super_pathway_children_idxs] = 0\n",
    "\n",
    "# for columns (children) with multiple parents, if one parent leads to degradation or glycans, remove it.\n",
    "for i in range(len(pathway_matrix[0, :])):\n",
    "    cur_pathway = pathway_ids[i]\n",
    "\n",
    "    if pathway_matrix[:, i].sum() > 1:\n",
    "\n",
    "        nz_idxs = np.where(pathway_matrix[:, i] == 1)[0]\n",
    "        top_level_classes = [list(get_pathway_ith_level_parents(j, original_pathway_matrix, pathway_ids, level_vector, level=1).keys())[0] for j in nz_idxs]\n",
    "        # print(f\"multiple parents {top_level_classes} for {cur_pathway}\")\n",
    "\n",
    "\n",
    "        # when there are multiple parents, remove them in the following order of priority:\n",
    "        for priority in priority_list:\n",
    "            while priority in top_level_classes and len(nz_idxs) > 1:\n",
    "                priority_index = top_level_classes.index(priority)\n",
    "                pathway_matrix[nz_idxs[priority_index], i] = 0\n",
    "                nz_idxs = np.where(pathway_matrix[:, i] == 1)[0]\n",
    "                top_level_classes[priority_index] = 'N/A'\n",
    "\n",
    "\n",
    "        # then, if there are still multiple parents, remove all but the first one\n",
    "        # TODO Change to parent with most frequently occuring 2nd parent.\n",
    "        if len(nz_idxs) > 1:\n",
    "            # top_two_level_classes = [list(get_pathway_ith_level_parents(j, original_pathway_matrix, pathway_name_list, level_vector, level=2).keys())[0] for j in nz_idxs]\n",
    "            # print(f\"multiple parents with 2nd level categories {top_two_level_classes} for {cur_pathway}\")\n",
    "            pathway_matrix[nz_idxs[1:], i] = 0\n",
    "\n",
    "        nz_idxs = np.where(pathway_matrix[:, i] == 1)[0]\n",
    "        top_level_classes = [list(get_pathway_ith_level_parents(j, original_pathway_matrix, pathway_ids, level_vector, level=1).keys()) for j in nz_idxs]\n",
    "\n",
    "        # print(f\"pruned to {top_level_classes}\")"
   ],
   "metadata": {
    "collapsed": false,
    "ExecuteTime": {
     "end_time": "2023-09-22T17:57:59.172805Z",
     "start_time": "2023-09-22T17:57:59.109886Z"
    }
   }
  },
  {
   "cell_type": "code",
   "execution_count": null,
   "outputs": [],
   "source": [
    "# create protein name to pathway mapping\n",
    "W = np.zeros((len(parsed_protein_df.index), len(parsed_pathway_df.index)))\n",
    "\n",
    "for i in range(len(parsed_protein_df.index)):\n",
    "\n",
    "    cur_pathways = parsed_protein_df.at[i, 'direct_annotations']\n",
    "\n",
    "    for pathway in cur_pathways:\n",
    "        pathway_idx = pathway_ids.index(pathway)\n",
    "        W[i, pathway_idx] = 1\n",
    "\n",
    "\n",
    "for i in range(len(parsed_protein_df.index)):\n",
    "\n",
    "    cur_protein_pathways_idxs = np.where(W[i, :] == 1)[0]\n",
    "    cur_protein = parsed_protein_df.at[i, 'id']\n",
    "\n",
    "    if len(cur_protein_pathways_idxs) < 2:\n",
    "        continue\n",
    "\n",
    "    else:\n",
    "\n",
    "        # for pathway_idx in cur_protein_pathways_idxs:\n",
    "\n",
    "        # get top level class of every pathway, and remove all but the first one of each class.\n",
    "\n",
    "        cur_protein_pathway_parents = list()\n",
    "        cur_protein_pathway_two_parents = list()\n",
    "\n",
    "        for pathway_idx in cur_protein_pathways_idxs:\n",
    "            top_parents = get_pathway_ith_level_parents(pathway_idx, pathway_matrix, pathway_ids, level_vector, level=1)\n",
    "            top_two_parents = get_pathway_ith_level_parents(pathway_idx, pathway_matrix, pathway_ids, level_vector, level=2)\n",
    "\n",
    "            if len(top_parents) > 1:\n",
    "                print(f\"multiple parents {top_parents} for {pathway_ids[pathway_idx]} for {cur_protein}, should not happen.\")\n",
    "\n",
    "            if len(top_parents) == 1:\n",
    "                cur_protein_pathway_parents.append(list(top_parents.keys())[0])\n",
    "                cur_protein_pathway_two_parents.append(list(top_two_parents.keys())[0])\n",
    "            else:\n",
    "                # remove pathway with no parents\n",
    "                W[i, pathway_idx] = 0\n",
    "                cur_protein_pathway_parents.append('N/A')\n",
    "                cur_protein_pathway_two_parents.append('N/A')\n",
    "\n",
    "\n",
    "        # TODO - remove direct annotations with deprioritized parents\n",
    "        for priority in priority_list:\n",
    "            while priority in cur_protein_pathway_parents and len(np.where(W[i, :] == 1)[0]) > 1:\n",
    "                priority_index = cur_protein_pathway_parents.index(priority)\n",
    "                W[i, cur_protein_pathways_idxs[priority_index]] = 0\n",
    "                cur_protein_pathway_parents[priority_index] = 'N/A'\n",
    "\n",
    "\n",
    "        # remove all N/A\n",
    "        # cur_protein_pathways_idxs = cur_protein_pathways_idxs[cur_protein_pathway_parents != 'N/A']\n",
    "\n",
    "        if len(np.unique(cur_protein_pathway_parents)) < 2:\n",
    "            continue\n"
   ],
   "metadata": {
    "collapsed": false,
    "ExecuteTime": {
     "end_time": "2023-09-22T17:57:59.221032Z",
     "start_time": "2023-09-22T17:57:59.156883Z"
    }
   }
  },
  {
   "cell_type": "code",
   "execution_count": null,
   "outputs": [],
   "source": [
    "# create pathway to 2nd layer pathway mapping\n",
    "W2 = np.zeros((len(parsed_pathway_df.index), len(parsed_pathway_df.index)))\n",
    "\n",
    "for i in range(len(parsed_pathway_df.index)):\n",
    "\n",
    "    cur_pathway = parsed_pathway_df.at[i, 'id']\n",
    "    cur_pathway_idx = pathway_ids.index(cur_pathway)\n",
    "\n",
    "    # get 2nd level parents\n",
    "    cur_pathway_parents = get_pathway_ith_level_parents(cur_pathway_idx, pathway_matrix, pathway_ids, level_vector, level=2)\n",
    "\n",
    "    # if len(cur_pathway_parents) > 1:\n",
    "    #     print(f\"cur pathway {cur_pathway} has parents {cur_pathway_parents}\")\n",
    "\n",
    "    for parent in cur_pathway_parents:\n",
    "        parent_idx = pathway_ids.index(parent)\n",
    "        W2[i, parent_idx] = 1\n",
    "\n",
    "# zero diagonal (don't return self, since some pathways return themselves as level 2 parents)\n",
    "np.fill_diagonal(W2, 0)\n",
    "\n",
    "W1 = np.zeros((len(parsed_pathway_df.index), len(parsed_pathway_df.index)))\n",
    "\n",
    "for i in range(len(parsed_pathway_df.index)):\n",
    "\n",
    "    if parsed_pathway_df.at[i, 'level'] <= 2:\n",
    "        cur_pathway = parsed_pathway_df.at[i, 'id']\n",
    "        cur_pathway_idx = pathway_ids.index(cur_pathway)\n",
    "\n",
    "        # get 2nd level parents\n",
    "        cur_pathway_parents = get_pathway_ith_level_parents(cur_pathway_idx, pathway_matrix, pathway_ids, level_vector, level=1)\n",
    "\n",
    "        for parent in cur_pathway_parents:\n",
    "            parent_idx = pathway_ids.index(parent)\n",
    "            W1[i, parent_idx] = 1\n",
    "\n",
    "np.fill_diagonal(W1, 0)\n",
    "\n"
   ],
   "metadata": {
    "collapsed": false,
    "ExecuteTime": {
     "end_time": "2023-09-22T17:57:59.351941Z",
     "start_time": "2023-09-22T17:57:59.221769Z"
    }
   }
  },
  {
   "cell_type": "code",
   "execution_count": null,
   "outputs": [
    {
     "data": {
      "text/plain": "{'Electron-Transfer': 2}"
     },
     "execution_count": 20,
     "metadata": {},
     "output_type": "execute_result"
    }
   ],
   "source": [
    "\n",
    "array_name_list = np.array(pathway_ids)\n",
    "pathway = 'PWY0-1321'\n",
    "pathway_idx = pathway_ids.index(pathway)\n",
    "\n",
    "get_pathway_ith_level_parents(pathway_idx, pathway_matrix, pathway_ids, level_vector, level=2)"
   ],
   "metadata": {
    "collapsed": false,
    "ExecuteTime": {
     "end_time": "2023-09-22T17:57:59.412568Z",
     "start_time": "2023-09-22T17:57:59.370743Z"
    }
   }
  },
  {
   "cell_type": "code",
   "execution_count": null,
   "outputs": [
    {
     "data": {
      "text/plain": "'Electron-Transfer'"
     },
     "execution_count": 21,
     "metadata": {},
     "output_type": "execute_result"
    }
   ],
   "source": [
    "pwy_vec = np.zeros(len(parsed_pathway_df.index))\n",
    "pwy_vec[pathway_idx] = 1\n",
    "\n",
    "pathway_ids[np.where(pwy_vec @ W2)[0][0]]"
   ],
   "metadata": {
    "collapsed": false,
    "ExecuteTime": {
     "end_time": "2023-09-22T17:57:59.516417Z",
     "start_time": "2023-09-22T17:57:59.415233Z"
    }
   }
  },
  {
   "cell_type": "code",
   "execution_count": null,
   "outputs": [
    {
     "name": "stdout",
     "output_type": "stream",
     "text": [
      "component_name: EG10893-MONOMER, component_count: 2, component_index: 697\n",
      "component_name: RPOC-MONOMER, component_count: 1, component_index: 4108\n",
      "component_name: RPOB-MONOMER, component_count: 1, component_index: 4107\n"
     ]
    }
   ],
   "source": [
    "# C matrix transforms complexes + monomers to just monomers.\n",
    "\n",
    "# create protein name to index mapping\n",
    "protein_name_to_index = {}\n",
    "for i in range(len(parsed_protein_df.index)):\n",
    "    protein_name_to_index[parsed_protein_df.at[i, 'id']] = i\n",
    "\n",
    "# C matrix: complexes x proteins\n",
    "C = np.zeros((len(parsed_complex_df.index), len(parsed_protein_df.index)))\n",
    "\n",
    "for i in range(len(parsed_complex_df.index)):\n",
    "\n",
    "    complex_components = parsed_complex_df.loc[i, 'monomer_component_stoichiometry']\n",
    "\n",
    "    # TODO consider cofactors\n",
    "    # complex_cofactors = filter_complex_df.loc[i, 'cofactors']\n",
    "\n",
    "\n",
    "    for component_name, component_count in complex_components.items():\n",
    "        if component_count is not None:             # side effect of parquet\n",
    "            # get index of component in filter_protein_df\n",
    "            component_index = protein_name_to_index[component_name]\n",
    "\n",
    "            if parsed_complex_df.at[i, 'id'] == 'APORNAP-CPLX':\n",
    "                print(f'component_name: {component_name}, component_count: {component_count}, component_index: {component_index}')\n",
    "\n",
    "            C[i, component_index] = component_count\n",
    "\n",
    "# append an identity matrix to C\n",
    "C = np.concatenate((C, np.identity(len(parsed_protein_df.index))), axis=0)\n",
    "\n",
    "C_names = list(parsed_complex_df['id']) + list(parsed_protein_df['id'])"
   ],
   "metadata": {
    "collapsed": false,
    "ExecuteTime": {
     "end_time": "2023-09-22T17:57:59.646038Z",
     "start_time": "2023-09-22T17:57:59.493135Z"
    }
   }
  },
  {
   "cell_type": "code",
   "execution_count": null,
   "outputs": [],
   "source": [
    "# P matrix transforms proteins to their respective cofactor counts.\n",
    "\n",
    "# create cofactor name to index mapping\n",
    "cofactor_name_to_index = {}\n",
    "for i in range(len(parsed_cofactor_df.index)):\n",
    "    cofactor_name_to_index[parsed_cofactor_df.at[i, 'id']] = i\n",
    "\n",
    "cofactor_ids = list(parsed_cofactor_df['id'])\n",
    "\n",
    "# P matrix: proteins x cofactors\n",
    "P = np.zeros((len(parsed_protein_df.index), len(parsed_cofactor_df.index)))\n",
    "\n",
    "for i in range(len(parsed_protein_df.index)):\n",
    "    protein_metals = parsed_protein_df.loc[i, 'metal_features_processed']\n",
    "    protein_other = parsed_protein_df.loc[i, 'other_features_processed']\n",
    "\n",
    "    for metal, count in protein_metals.items():\n",
    "        if count is not None:             # side effect of parquet\n",
    "            cofactor_index = cofactor_name_to_index[metal]\n",
    "            P[i, cofactor_index] = count\n",
    "\n",
    "    for other, count in protein_other.items():\n",
    "        if count is not None:             # side effect of parquet\n",
    "            cofactor_index = cofactor_name_to_index[other]\n",
    "            P[i, cofactor_index] = count\n"
   ],
   "metadata": {
    "collapsed": false,
    "ExecuteTime": {
     "end_time": "2023-09-22T17:57:59.703230Z",
     "start_time": "2023-09-22T17:57:59.646712Z"
    }
   }
  },
  {
   "cell_type": "code",
   "execution_count": null,
   "outputs": [],
   "source": [
    "# E matrix transforms cofactors to their respective elemental composition\n",
    "\n",
    "# create list of unique elements\n",
    "unique_elements = set()\n",
    "for i in range(len(parsed_cofactor_df.index)):\n",
    "    cofactor = parsed_cofactor_df.at[i, 'elemental_composition']\n",
    "    unique_elements.update(cofactor.keys())\n",
    "\n",
    "unique_elements = list(unique_elements)\n",
    "\n",
    "# create E matrix: cofactors x elements\n",
    "E = np.zeros((len(parsed_cofactor_df.index), len(unique_elements)))\n",
    "\n",
    "for i in range(len(parsed_cofactor_df.index)):\n",
    "    cofactor = parsed_cofactor_df.at[i, 'elemental_composition']\n",
    "\n",
    "    for element, count in cofactor.items():\n",
    "        if count is not None:             # side effect of parquet\n",
    "            element_index = unique_elements.index(element)\n",
    "            E[i, element_index] = count\n",
    "\n",
    "\n",
    "element_ids = unique_elements"
   ],
   "metadata": {
    "collapsed": false,
    "ExecuteTime": {
     "end_time": "2023-09-22T17:57:59.711760Z",
     "start_time": "2023-09-22T17:57:59.709823Z"
    }
   }
  },
  {
   "cell_type": "code",
   "execution_count": null,
   "outputs": [],
   "source": [
    "# A matrix transforms proteins to their amino acid composition\n",
    "\n",
    "A = np.zeros((len(parsed_protein_df.index), len(unique_aa)))\n",
    "\n",
    "amino_acid_single_letter = list(unique_aa)\n",
    "amino_acid_ids = [AMINO_ACID_MAP[aa] for aa in amino_acid_single_letter]\n",
    "\n",
    "for i in range(len(parsed_protein_df.index)):\n",
    "    protein = parsed_protein_df.at[i, 'sequence_processed']\n",
    "\n",
    "    if type(protein) is not dict:\n",
    "        continue\n",
    "\n",
    "    for aa, count in protein.items():\n",
    "        if count is not None:             # side effect of parquet\n",
    "            aa_index = amino_acid_single_letter.index(aa)\n",
    "            A[i, aa_index] = count"
   ],
   "metadata": {
    "collapsed": false,
    "ExecuteTime": {
     "end_time": "2023-09-22T17:57:59.749454Z",
     "start_time": "2023-09-22T17:57:59.747365Z"
    }
   }
  },
  {
   "cell_type": "markdown",
   "source": [
    "# Now ... add the counts >:o"
   ],
   "metadata": {
    "collapsed": false
   }
  },
  {
   "cell_type": "code",
   "execution_count": null,
   "outputs": [],
   "source": [
    "time = '2000'\n",
    "date = '2023-09-11'\n",
    "experiment = 'metabolism-redux-classic'\n",
    "entry = f'{experiment}_{time}_{date}'\n",
    "folder = f'out/fbagd/{entry}/'"
   ],
   "metadata": {
    "collapsed": false,
    "ExecuteTime": {
     "end_time": "2023-09-22T17:57:59.751908Z",
     "start_time": "2023-09-22T17:57:59.749884Z"
    }
   }
  },
  {
   "cell_type": "code",
   "execution_count": null,
   "outputs": [],
   "source": [
    "output = np.load(folder + 'output.npy',allow_pickle='TRUE').item()\n",
    "# output = np.load(r\"out/geneRxnVerifData/output_glc.npy\", allow_pickle=True, encoding='ASCII').tolist()\n",
    "output = output['agents']['0']\n",
    "fba = output['listeners']['fba_results']\n",
    "mass = output['listeners']['mass']\n",
    "bulk = pd.DataFrame(output['bulk'])"
   ],
   "metadata": {
    "collapsed": false,
    "ExecuteTime": {
     "end_time": "2023-09-22T17:58:10.472178Z",
     "start_time": "2023-09-22T17:57:59.752858Z"
    }
   }
  },
  {
   "cell_type": "code",
   "execution_count": null,
   "outputs": [
    {
     "data": {
      "text/plain": "dict_keys(['listeners', 'bulk'])"
     },
     "execution_count": 28,
     "metadata": {},
     "output_type": "execute_result"
    }
   ],
   "source": [
    "output.keys()"
   ],
   "metadata": {
    "collapsed": false,
    "ExecuteTime": {
     "end_time": "2023-09-22T17:58:10.485242Z",
     "start_time": "2023-09-22T17:58:10.474280Z"
    }
   }
  },
  {
   "cell_type": "code",
   "execution_count": null,
   "outputs": [],
   "source": [
    "f = open(folder + 'agent_steps.pkl', 'rb')\n",
    "agent = dill.load(f)\n",
    "f.close()\n",
    "\n",
    "metabolism = agent['ecoli-metabolism-redux-classic']\n",
    "stoichiometry = metabolism.stoichiometry\n"
   ],
   "metadata": {
    "collapsed": false,
    "ExecuteTime": {
     "end_time": "2023-09-22T17:58:13.190762Z",
     "start_time": "2023-09-22T17:58:10.495544Z"
    }
   }
  },
  {
   "cell_type": "code",
   "execution_count": null,
   "outputs": [],
   "source": [
    "initial_state = json.load(open('data/wcecoli_t0.json'))\n",
    "\n",
    "bulk_ids = [item[0] for item in initial_state['bulk']]\n",
    "\n",
    "bulk.columns = bulk_ids"
   ],
   "metadata": {
    "collapsed": false,
    "ExecuteTime": {
     "end_time": "2023-09-22T17:58:13.266906Z",
     "start_time": "2023-09-22T17:58:13.194191Z"
    }
   }
  },
  {
   "cell_type": "code",
   "execution_count": null,
   "outputs": [
    {
     "name": "stdout",
     "output_type": "stream",
     "text": [
      "could not find EG11708-MONOMER\n",
      "could not find MONOMER0-1241\n",
      "could not find MONOMER0-4223\n",
      "could not find CPLX0-2423\n",
      "could not find CPLX0-3976\n",
      "could not find CPLX0-7879\n",
      "could not find RECFOR-CPLX\n",
      "could not find CPLX0-3964\n"
     ]
    }
   ],
   "source": [
    "ecocyc_to_wcm_map = {}\n",
    "\n",
    "# combined complex and protein names\n",
    "complex_protein_names = list(parsed_protein_df['id']) + list(parsed_complex_df['id'])\n",
    "\n",
    "for name in complex_protein_names:\n",
    "\n",
    "    # find complex name in bulk_ids\n",
    "    found = False\n",
    "\n",
    "    try:\n",
    "        idx = bulk_ids.index(name+'[c]')\n",
    "        ecocyc_to_wcm_map[name] = name+'[c]'\n",
    "        found = True\n",
    "        # print(f'found {complex_name} at {idx}')\n",
    "\n",
    "    except ValueError:\n",
    "        # delete key\n",
    "        found = False\n",
    "\n",
    "\n",
    "    if found == False:\n",
    "\n",
    "        for id in bulk_ids:\n",
    "            if name+'[' in id and id.startswith(name) and bulk.loc[:, id].sum() > 0:\n",
    "                #print(f'found {name} in {id} with nonzero count')\n",
    "                ecocyc_to_wcm_map[name] = id\n",
    "                found = True\n",
    "                break           # ensures preferring nonzero counts\n",
    "\n",
    "            elif name+'[' in id and id.startswith(name):\n",
    "                # print(f'found {name} in {id} with zero count')\n",
    "                ecocyc_to_wcm_map[name] = id\n",
    "                found = True\n",
    "\n",
    "    if found == False:\n",
    "        ecocyc_to_wcm_map[name] = '--TRANS-ACENAPHTHENE-12-DIOL[c]' # should be none\n",
    "        print(f'could not find {name}')\n"
   ],
   "metadata": {
    "collapsed": false,
    "ExecuteTime": {
     "end_time": "2023-09-22T17:58:17.916765Z",
     "start_time": "2023-09-22T17:58:13.286817Z"
    }
   }
  },
  {
   "cell_type": "code",
   "execution_count": null,
   "outputs": [],
   "source": [
    "complex_wcm_names = [ecocyc_to_wcm_map[name] for name in C_names]\n",
    "\n",
    "counts = bulk.loc[:, complex_wcm_names]"
   ],
   "metadata": {
    "collapsed": false,
    "ExecuteTime": {
     "end_time": "2023-09-22T17:58:17.948066Z",
     "start_time": "2023-09-22T17:58:17.918287Z"
    }
   }
  },
  {
   "cell_type": "markdown",
   "source": [
    "# External data sets"
   ],
   "metadata": {
    "collapsed": false
   }
  },
  {
   "cell_type": "markdown",
   "source": [
    "# Get surface area occupancy estimates"
   ],
   "metadata": {
    "collapsed": false
   }
  },
  {
   "cell_type": "code",
   "execution_count": null,
   "outputs": [
    {
     "data": {
      "text/plain": "1920"
     },
     "execution_count": 33,
     "metadata": {},
     "output_type": "execute_result"
    }
   ],
   "source": [
    "# roughly 90 by 35 rectangle. pretty big? Multiplicity 2.\n",
    "# 0.009 x 0.0035 um^2 = 0.000032 um^2 * 3500 / 2 = 0.055 um^2\n",
    "# in rich media\n",
    "# 0.009 x 0.0035 um^2 = 0.000032 um^2 * 15000 / 2 = 0.24 um^2\n",
    "counts.at[0, ecocyc_to_wcm_map['CPLX-157']]"
   ],
   "metadata": {
    "collapsed": false,
    "ExecuteTime": {
     "end_time": "2023-09-22T17:58:17.948455Z",
     "start_time": "2023-09-22T17:58:17.944051Z"
    }
   }
  },
  {
   "cell_type": "code",
   "execution_count": null,
   "outputs": [
    {
     "data": {
      "text/plain": "85"
     },
     "execution_count": 34,
     "metadata": {},
     "output_type": "execute_result"
    }
   ],
   "source": [
    "# 160 x 50 angstrom, = 0.016 x 0.005 um^2 = 0.00008 um^2 * 1000 = 0.08 um^2. Multiplicity 1\n",
    "# in rich media\n",
    "# 0.00008 um^2 * 3000 = 0.24 um^2, if 15000 would be like 20-30% of membrane space.\n",
    "counts.at[0, ecocyc_to_wcm_map['NADH-DHI-CPLX']]"
   ],
   "metadata": {
    "collapsed": false,
    "ExecuteTime": {
     "end_time": "2023-09-22T17:58:17.951022Z",
     "start_time": "2023-09-22T17:58:17.947496Z"
    }
   }
  },
  {
   "cell_type": "code",
   "execution_count": null,
   "outputs": [
    {
     "data": {
      "text/plain": "1116"
     },
     "execution_count": 35,
     "metadata": {},
     "output_type": "execute_result"
    }
   ],
   "source": [
    "# roughly 70 by 40 rectangle. pretty big?, 0.007 x 0.004 um^2 = 0.000028 um^2 * 3000 ~= 0.09 um^2\n",
    "# grows to ~ 0.5 um^2 for 15000 counts in rich. Multiplicity 1. 8-15% of membrane space.\n",
    "counts.at[0, ecocyc_to_wcm_map['CYT-O-UBIOX-CPLX']]"
   ],
   "metadata": {
    "collapsed": false,
    "ExecuteTime": {
     "end_time": "2023-09-22T17:58:17.953736Z",
     "start_time": "2023-09-22T17:58:17.951238Z"
    }
   }
  },
  {
   "cell_type": "code",
   "execution_count": null,
   "outputs": [
    {
     "data": {
      "text/plain": "845"
     },
     "execution_count": 36,
     "metadata": {},
     "output_type": "execute_result"
    }
   ],
   "source": [
    "# atpsyn, 25 rad circle, plus roughly 25 width accessory circling around. Multiplicity 1\n",
    "# 0.005 um^2 * 3 = 0.000075 um^2 * 3500 = 0.26 um^2\n",
    "# in rich media\n",
    "# 0.005 um^2 * 3 = 0.000075 um^2 * 10000 = 0.75 um^2, 10-20% of membrane space.\n",
    "counts.at[0, ecocyc_to_wcm_map['ATPSYN-CPLX']]"
   ],
   "metadata": {
    "collapsed": false,
    "ExecuteTime": {
     "end_time": "2023-09-22T17:58:17.956760Z",
     "start_time": "2023-09-22T17:58:17.954625Z"
    }
   }
  },
  {
   "cell_type": "code",
   "execution_count": null,
   "outputs": [],
   "source": [
    "# sdh, rough 37 angstrom radius, half filled circle. multiplicity 3\n",
    "# 0.0037 um^2 * 3 / (2*3) = 0.000006845 um^2 * 3500 = 0.024 um^2\n",
    "# in rich, about the same."
   ],
   "metadata": {
    "collapsed": false,
    "ExecuteTime": {
     "end_time": "2023-09-22T17:58:17.959298Z",
     "start_time": "2023-09-22T17:58:17.957451Z"
    }
   }
  },
  {
   "cell_type": "code",
   "execution_count": null,
   "outputs": [],
   "source": [
    "# ftsh, roughly 100 angstrom radius, circle. Multiplicity 24. Small impact.\n",
    "# 0.01 um^2 * 3 = 0.0003 um^2 * 1000/24 = 0.0125 um^2"
   ],
   "metadata": {
    "collapsed": false,
    "ExecuteTime": {
     "end_time": "2023-09-22T17:58:17.961444Z",
     "start_time": "2023-09-22T17:58:17.959536Z"
    }
   }
  },
  {
   "cell_type": "code",
   "execution_count": null,
   "outputs": [],
   "source": [
    "# secyeg, roughly 40x40 rectangle. Multiplicity 1.\n",
    "# 0.004 um^2  = 0.000016 um^2 * 1700 = 0.0272 um^2\n",
    "# in rich, increases sixfold to 0.16 um^2. Becomes around 2-5%. Not bad.\n",
    "\n",
    "# add secdf\n"
   ],
   "metadata": {
    "collapsed": false,
    "ExecuteTime": {
     "end_time": "2023-09-22T17:58:17.964019Z",
     "start_time": "2023-09-22T17:58:17.962120Z"
    }
   }
  },
  {
   "cell_type": "code",
   "execution_count": null,
   "outputs": [],
   "source": [
    "# tcs, about 30-50 copies for 30 different systems. 8 angstrom radius for dimer. Multiplicity 2.\n",
    "# 0.0008 um^2 * 3= 0.00000192 um^2 * 30 * 30 / 2  = 0.000900 um^2"
   ],
   "metadata": {
    "collapsed": false,
    "ExecuteTime": {
     "end_time": "2023-09-22T17:58:17.966220Z",
     "start_time": "2023-09-22T17:58:17.964324Z"
    }
   }
  },
  {
   "cell_type": "code",
   "execution_count": null,
   "outputs": [],
   "source": [
    "# mscS, 40 angstrom radius, circle. 3000 copies. Multiplicity 7.\n",
    "# 0.004 um^2 * 3 = 0.000048 um^2 * 3000 / 7 = 0.0210 um^2\n",
    "# 1-2% of membrane. Not bad.\n",
    "\n",
    "# mscL, 20 angstrom radius, circle. 3000 copies. Multiplicity 5.\n",
    "# 0.002 um^2 * 3 = 0.000012 um^2 * 3000 / 5 = 0.0072 um^2"
   ],
   "metadata": {
    "collapsed": false,
    "ExecuteTime": {
     "end_time": "2023-09-22T17:58:17.968287Z",
     "start_time": "2023-09-22T17:58:17.966795Z"
    }
   }
  },
  {
   "cell_type": "code",
   "execution_count": null,
   "outputs": [],
   "source": [
    "# pntAB, 60x20 rectangle. 3000-6000 copies, multiplicity 2.\n",
    "# 0.006 * 0.002 = 0.000012 um^2 * 3000 / 2 = 0.018 um^2\n",
    "# 1-2% of membrane. Not bad."
   ],
   "metadata": {
    "collapsed": false,
    "ExecuteTime": {
     "end_time": "2023-09-22T17:58:18.000983Z",
     "start_time": "2023-09-22T17:58:17.969005Z"
    }
   }
  },
  {
   "cell_type": "code",
   "execution_count": null,
   "outputs": [
    {
     "data": {
      "text/plain": "         complex_id relevant_structure  estimated_area um2  multiplicity  \\\n0          CPLX-157               5IWS            0.000032             2   \n1     NADH-DHI-CPLX               7ZCI            0.000080             1   \n2  CYT-O-UBIOX-CPLX               6WTI            0.000028             1   \n3       ATPSYN-CPLX               6OQU            0.000075             1   \n4        CPLX0-8160               6WU6            0.000020             3   \n5        CPLX0-2982               7VHP            0.000300            24   \n6     SECE-G-Y-CPLX               7XHA            0.000016             1   \n7        CPLX0-7626               6VYM            0.000048             7   \n8        CPLX0-7627               2OAR            0.000012             5   \n\n   count_normal  count_rich  \n0          3500       15000  \n1           800        2000  \n2          3500       15000  \n3          3000       10000  \n4          3500        3500  \n5          1000        4500  \n6          1700       10000  \n7          3000        4000  \n8          3000        4000  ",
      "text/html": "<div>\n<style scoped>\n    .dataframe tbody tr th:only-of-type {\n        vertical-align: middle;\n    }\n\n    .dataframe tbody tr th {\n        vertical-align: top;\n    }\n\n    .dataframe thead th {\n        text-align: right;\n    }\n</style>\n<table border=\"1\" class=\"dataframe\">\n  <thead>\n    <tr style=\"text-align: right;\">\n      <th></th>\n      <th>complex_id</th>\n      <th>relevant_structure</th>\n      <th>estimated_area um2</th>\n      <th>multiplicity</th>\n      <th>count_normal</th>\n      <th>count_rich</th>\n    </tr>\n  </thead>\n  <tbody>\n    <tr>\n      <th>0</th>\n      <td>CPLX-157</td>\n      <td>5IWS</td>\n      <td>0.000032</td>\n      <td>2</td>\n      <td>3500</td>\n      <td>15000</td>\n    </tr>\n    <tr>\n      <th>1</th>\n      <td>NADH-DHI-CPLX</td>\n      <td>7ZCI</td>\n      <td>0.000080</td>\n      <td>1</td>\n      <td>800</td>\n      <td>2000</td>\n    </tr>\n    <tr>\n      <th>2</th>\n      <td>CYT-O-UBIOX-CPLX</td>\n      <td>6WTI</td>\n      <td>0.000028</td>\n      <td>1</td>\n      <td>3500</td>\n      <td>15000</td>\n    </tr>\n    <tr>\n      <th>3</th>\n      <td>ATPSYN-CPLX</td>\n      <td>6OQU</td>\n      <td>0.000075</td>\n      <td>1</td>\n      <td>3000</td>\n      <td>10000</td>\n    </tr>\n    <tr>\n      <th>4</th>\n      <td>CPLX0-8160</td>\n      <td>6WU6</td>\n      <td>0.000020</td>\n      <td>3</td>\n      <td>3500</td>\n      <td>3500</td>\n    </tr>\n    <tr>\n      <th>5</th>\n      <td>CPLX0-2982</td>\n      <td>7VHP</td>\n      <td>0.000300</td>\n      <td>24</td>\n      <td>1000</td>\n      <td>4500</td>\n    </tr>\n    <tr>\n      <th>6</th>\n      <td>SECE-G-Y-CPLX</td>\n      <td>7XHA</td>\n      <td>0.000016</td>\n      <td>1</td>\n      <td>1700</td>\n      <td>10000</td>\n    </tr>\n    <tr>\n      <th>7</th>\n      <td>CPLX0-7626</td>\n      <td>6VYM</td>\n      <td>0.000048</td>\n      <td>7</td>\n      <td>3000</td>\n      <td>4000</td>\n    </tr>\n    <tr>\n      <th>8</th>\n      <td>CPLX0-7627</td>\n      <td>2OAR</td>\n      <td>0.000012</td>\n      <td>5</td>\n      <td>3000</td>\n      <td>4000</td>\n    </tr>\n  </tbody>\n</table>\n</div>"
     },
     "execution_count": 43,
     "metadata": {},
     "output_type": "execute_result"
    }
   ],
   "source": [
    "# read in surface area occupancy estimates\n",
    "area_df = pd.read_csv('notebooks/cofactors/external_data/membrane_areas.txt', skipinitialspace=True)\n",
    "area_df\n",
    "\n",
    "# strip whitespace from"
   ],
   "metadata": {
    "collapsed": false,
    "ExecuteTime": {
     "end_time": "2023-09-22T17:58:18.038826Z",
     "start_time": "2023-09-22T17:58:17.971584Z"
    }
   }
  },
  {
   "cell_type": "code",
   "execution_count": null,
   "outputs": [
    {
     "data": {
      "text/plain": "         complex_id relevant_structure  estimated_area um2  multiplicity  \\\n0          CPLX-157               5IWS            0.000032             2   \n1     NADH-DHI-CPLX               7ZCI            0.000080             1   \n2  CYT-O-UBIOX-CPLX               6WTI            0.000028             1   \n3       ATPSYN-CPLX               6OQU            0.000075             1   \n4        CPLX0-8160               6WU6            0.000020             3   \n5        CPLX0-2982               7VHP            0.000300            24   \n6     SECE-G-Y-CPLX               7XHA            0.000016             1   \n7        CPLX0-7626               6VYM            0.000048             7   \n8        CPLX0-7627               2OAR            0.000012             5   \n\n   count_normal  count_rich  fraction_normal  fraction_rich  \n0          3500       15000         0.014000       0.030000  \n1           800        2000         0.016000       0.020000  \n2          3500       15000         0.024500       0.052500  \n3          3000       10000         0.056250       0.093750  \n4          3500        3500         0.005833       0.002917  \n5          1000        4500         0.003125       0.007031  \n6          1700       10000         0.006800       0.020000  \n7          3000        4000         0.005143       0.003429  \n8          3000        4000         0.001800       0.001200  ",
      "text/html": "<div>\n<style scoped>\n    .dataframe tbody tr th:only-of-type {\n        vertical-align: middle;\n    }\n\n    .dataframe tbody tr th {\n        vertical-align: top;\n    }\n\n    .dataframe thead th {\n        text-align: right;\n    }\n</style>\n<table border=\"1\" class=\"dataframe\">\n  <thead>\n    <tr style=\"text-align: right;\">\n      <th></th>\n      <th>complex_id</th>\n      <th>relevant_structure</th>\n      <th>estimated_area um2</th>\n      <th>multiplicity</th>\n      <th>count_normal</th>\n      <th>count_rich</th>\n      <th>fraction_normal</th>\n      <th>fraction_rich</th>\n    </tr>\n  </thead>\n  <tbody>\n    <tr>\n      <th>0</th>\n      <td>CPLX-157</td>\n      <td>5IWS</td>\n      <td>0.000032</td>\n      <td>2</td>\n      <td>3500</td>\n      <td>15000</td>\n      <td>0.014000</td>\n      <td>0.030000</td>\n    </tr>\n    <tr>\n      <th>1</th>\n      <td>NADH-DHI-CPLX</td>\n      <td>7ZCI</td>\n      <td>0.000080</td>\n      <td>1</td>\n      <td>800</td>\n      <td>2000</td>\n      <td>0.016000</td>\n      <td>0.020000</td>\n    </tr>\n    <tr>\n      <th>2</th>\n      <td>CYT-O-UBIOX-CPLX</td>\n      <td>6WTI</td>\n      <td>0.000028</td>\n      <td>1</td>\n      <td>3500</td>\n      <td>15000</td>\n      <td>0.024500</td>\n      <td>0.052500</td>\n    </tr>\n    <tr>\n      <th>3</th>\n      <td>ATPSYN-CPLX</td>\n      <td>6OQU</td>\n      <td>0.000075</td>\n      <td>1</td>\n      <td>3000</td>\n      <td>10000</td>\n      <td>0.056250</td>\n      <td>0.093750</td>\n    </tr>\n    <tr>\n      <th>4</th>\n      <td>CPLX0-8160</td>\n      <td>6WU6</td>\n      <td>0.000020</td>\n      <td>3</td>\n      <td>3500</td>\n      <td>3500</td>\n      <td>0.005833</td>\n      <td>0.002917</td>\n    </tr>\n    <tr>\n      <th>5</th>\n      <td>CPLX0-2982</td>\n      <td>7VHP</td>\n      <td>0.000300</td>\n      <td>24</td>\n      <td>1000</td>\n      <td>4500</td>\n      <td>0.003125</td>\n      <td>0.007031</td>\n    </tr>\n    <tr>\n      <th>6</th>\n      <td>SECE-G-Y-CPLX</td>\n      <td>7XHA</td>\n      <td>0.000016</td>\n      <td>1</td>\n      <td>1700</td>\n      <td>10000</td>\n      <td>0.006800</td>\n      <td>0.020000</td>\n    </tr>\n    <tr>\n      <th>7</th>\n      <td>CPLX0-7626</td>\n      <td>6VYM</td>\n      <td>0.000048</td>\n      <td>7</td>\n      <td>3000</td>\n      <td>4000</td>\n      <td>0.005143</td>\n      <td>0.003429</td>\n    </tr>\n    <tr>\n      <th>8</th>\n      <td>CPLX0-7627</td>\n      <td>2OAR</td>\n      <td>0.000012</td>\n      <td>5</td>\n      <td>3000</td>\n      <td>4000</td>\n      <td>0.001800</td>\n      <td>0.001200</td>\n    </tr>\n  </tbody>\n</table>\n</div>"
     },
     "execution_count": 44,
     "metadata": {},
     "output_type": "execute_result"
    }
   ],
   "source": [
    "normal_surface_area = 4\n",
    "rich_surface_area = 8\n",
    "\n",
    "area_df['fraction_normal'] = (area_df['count_normal'] / area_df['multiplicity'] * area_df['estimated_area um2']) / normal_surface_area\n",
    "area_df['fraction_rich'] = (area_df['count_rich'] / area_df['multiplicity'] * area_df['estimated_area um2']) / rich_surface_area\n",
    "area_df"
   ],
   "metadata": {
    "collapsed": false,
    "ExecuteTime": {
     "end_time": "2023-09-22T17:58:18.039714Z",
     "start_time": "2023-09-22T17:58:17.981797Z"
    }
   }
  },
  {
   "cell_type": "code",
   "execution_count": null,
   "outputs": [
    {
     "data": {
      "text/plain": "0.13345119047619045"
     },
     "execution_count": 45,
     "metadata": {},
     "output_type": "execute_result"
    }
   ],
   "source": [
    "area_df['fraction_normal'].sum()"
   ],
   "metadata": {
    "collapsed": false,
    "ExecuteTime": {
     "end_time": "2023-09-22T17:58:18.042961Z",
     "start_time": "2023-09-22T17:58:17.985009Z"
    }
   }
  },
  {
   "cell_type": "code",
   "execution_count": null,
   "outputs": [
    {
     "data": {
      "text/plain": "0.2308264880952381"
     },
     "execution_count": 46,
     "metadata": {},
     "output_type": "execute_result"
    }
   ],
   "source": [
    "area_df['fraction_rich'].sum()"
   ],
   "metadata": {
    "collapsed": false,
    "ExecuteTime": {
     "end_time": "2023-09-22T17:58:18.077205Z",
     "start_time": "2023-09-22T17:58:17.989144Z"
    }
   }
  },
  {
   "cell_type": "code",
   "execution_count": null,
   "outputs": [
    {
     "data": {
      "text/plain": "0    0.129968\n1    0.086645\n2    0.227444\n3    0.406149\n4    0.012636\n5    0.030461\n6    0.086645\n7    0.014853\n8    0.005199\nName: fraction_rich, dtype: float64"
     },
     "execution_count": 47,
     "metadata": {},
     "output_type": "execute_result"
    }
   ],
   "source": [
    "area_df['fraction_rich']  / area_df['fraction_rich'].sum()"
   ],
   "metadata": {
    "collapsed": false,
    "ExecuteTime": {
     "end_time": "2023-09-22T17:58:18.080657Z",
     "start_time": "2023-09-22T17:58:17.992704Z"
    }
   }
  },
  {
   "cell_type": "markdown",
   "source": [
    "# Saving outputs to files compatible with Julia"
   ],
   "metadata": {
    "collapsed": false
   }
  },
  {
   "cell_type": "code",
   "execution_count": null,
   "outputs": [
    {
     "data": {
      "text/plain": "                                      id  \\\n0                     Signaling-Pathways   \n1                              PWY0-1559   \n2                              PWY0-1495   \n3                              PWY0-1518   \n4                              PWY0-1490   \n...                                  ...   \n1159                  GLUTATHIONESYN-PWY   \n1160             Butanediol-Biosynthesis   \n1161                       CYCLOPEPTIDES   \n1162  6-HM-Dihydropterin-PP-Biosynthesis   \n1163                            PWY-6147   \n\n                                   parents  \\\n0                                       []   \n1                     [Signaling-Pathways]   \n2                     [Signaling-Pathways]   \n3                     [Signaling-Pathways]   \n4                     [Signaling-Pathways]   \n...                                    ...   \n1159                          [Reductants]   \n1160                  [Other-biosynthesis]   \n1161                  [Other-biosynthesis]   \n1162                  [Other-biosynthesis]   \n1163  [6-HM-Dihydropterin-PP-Biosynthesis]   \n\n                                               children  level  \\\n0     [PWY0-1559, PWY0-1495, PWY0-1518, PWY0-1490, P...      1   \n1                                                    []      2   \n2                                                    []      2   \n3                                                    []      2   \n4                                                    []      2   \n...                                                 ...    ...   \n1159                                                 []      4   \n1160                                                 []      3   \n1161                                                 []      3   \n1162                                         [PWY-6147]      3   \n1163                                                 []      4   \n\n                                            common_name  \n0                          Signal transduction pathways  \n1        BtsSR Two-Component Signal Transduction System  \n2     KdpDE Two-Component Signal Transduction System...  \n3         Chemotactic Two-Component Signal Transduction  \n4        EvgSA Two-Component Signal Transduction System  \n...                                                 ...  \n1159                           glutathione biosynthesis  \n1160                            Butanediol Biosynthesis  \n1161                          Cyclopeptide Biosynthesis  \n1162  6-Hydroxymethyl-Dihydropterin Diphosphate Bios...  \n1163  6-hydroxymethyl-dihydropterin diphosphate bios...  \n\n[1164 rows x 5 columns]",
      "text/html": "<div>\n<style scoped>\n    .dataframe tbody tr th:only-of-type {\n        vertical-align: middle;\n    }\n\n    .dataframe tbody tr th {\n        vertical-align: top;\n    }\n\n    .dataframe thead th {\n        text-align: right;\n    }\n</style>\n<table border=\"1\" class=\"dataframe\">\n  <thead>\n    <tr style=\"text-align: right;\">\n      <th></th>\n      <th>id</th>\n      <th>parents</th>\n      <th>children</th>\n      <th>level</th>\n      <th>common_name</th>\n    </tr>\n  </thead>\n  <tbody>\n    <tr>\n      <th>0</th>\n      <td>Signaling-Pathways</td>\n      <td>[]</td>\n      <td>[PWY0-1559, PWY0-1495, PWY0-1518, PWY0-1490, P...</td>\n      <td>1</td>\n      <td>Signal transduction pathways</td>\n    </tr>\n    <tr>\n      <th>1</th>\n      <td>PWY0-1559</td>\n      <td>[Signaling-Pathways]</td>\n      <td>[]</td>\n      <td>2</td>\n      <td>BtsSR Two-Component Signal Transduction System</td>\n    </tr>\n    <tr>\n      <th>2</th>\n      <td>PWY0-1495</td>\n      <td>[Signaling-Pathways]</td>\n      <td>[]</td>\n      <td>2</td>\n      <td>KdpDE Two-Component Signal Transduction System...</td>\n    </tr>\n    <tr>\n      <th>3</th>\n      <td>PWY0-1518</td>\n      <td>[Signaling-Pathways]</td>\n      <td>[]</td>\n      <td>2</td>\n      <td>Chemotactic Two-Component Signal Transduction</td>\n    </tr>\n    <tr>\n      <th>4</th>\n      <td>PWY0-1490</td>\n      <td>[Signaling-Pathways]</td>\n      <td>[]</td>\n      <td>2</td>\n      <td>EvgSA Two-Component Signal Transduction System</td>\n    </tr>\n    <tr>\n      <th>...</th>\n      <td>...</td>\n      <td>...</td>\n      <td>...</td>\n      <td>...</td>\n      <td>...</td>\n    </tr>\n    <tr>\n      <th>1159</th>\n      <td>GLUTATHIONESYN-PWY</td>\n      <td>[Reductants]</td>\n      <td>[]</td>\n      <td>4</td>\n      <td>glutathione biosynthesis</td>\n    </tr>\n    <tr>\n      <th>1160</th>\n      <td>Butanediol-Biosynthesis</td>\n      <td>[Other-biosynthesis]</td>\n      <td>[]</td>\n      <td>3</td>\n      <td>Butanediol Biosynthesis</td>\n    </tr>\n    <tr>\n      <th>1161</th>\n      <td>CYCLOPEPTIDES</td>\n      <td>[Other-biosynthesis]</td>\n      <td>[]</td>\n      <td>3</td>\n      <td>Cyclopeptide Biosynthesis</td>\n    </tr>\n    <tr>\n      <th>1162</th>\n      <td>6-HM-Dihydropterin-PP-Biosynthesis</td>\n      <td>[Other-biosynthesis]</td>\n      <td>[PWY-6147]</td>\n      <td>3</td>\n      <td>6-Hydroxymethyl-Dihydropterin Diphosphate Bios...</td>\n    </tr>\n    <tr>\n      <th>1163</th>\n      <td>PWY-6147</td>\n      <td>[6-HM-Dihydropterin-PP-Biosynthesis]</td>\n      <td>[]</td>\n      <td>4</td>\n      <td>6-hydroxymethyl-dihydropterin diphosphate bios...</td>\n    </tr>\n  </tbody>\n</table>\n<p>1164 rows × 5 columns</p>\n</div>"
     },
     "execution_count": 48,
     "metadata": {},
     "output_type": "execute_result"
    }
   ],
   "source": [
    "parsed_pathway_df"
   ],
   "metadata": {
    "collapsed": false,
    "ExecuteTime": {
     "end_time": "2023-09-22T17:58:18.081047Z",
     "start_time": "2023-09-22T17:58:18.001260Z"
    }
   }
  },
  {
   "cell_type": "code",
   "execution_count": null,
   "outputs": [],
   "source": [
    "complex_names = list(parsed_complex_df['common_name'])\n",
    "protein_names = list(parsed_protein_df['common_name'])\n",
    "cofactor_names = list(parsed_cofactor_df['common_name'])\n",
    "pathway_names = list(parsed_pathway_df['common_name'])\n",
    "\n",
    "# if cplx name is nan then use id\n",
    "complex_names = [complex_names[i] if type(complex_names[i]) == str else parsed_complex_df['id'][i] for i in range(len(complex_names))]\n",
    "protein_names = [protein_names[i] if type(protein_names[i]) == str else parsed_protein_df['id'][i] for i in range(len(protein_names))]\n",
    "cofactor_names = [cofactor_names[i] if type(cofactor_names[i]) == str else parsed_cofactor_df['id'][i] for i in range(len(cofactor_names))]\n",
    "pathway_names = [pathway_names[i] if type(pathway_names[i]) == str else parsed_pathway_df['id'][i] for i in range(len(pathway_names))]\n",
    "\n",
    "# save C, P and E to julia-compatible formats\n",
    "np.savetxt('notebooks/cofactors/data/C_matrix.csv', C.astype(np.int64), delimiter=',', fmt='%i')\n",
    "np.savetxt('notebooks/cofactors/data/P_matrix.csv', P.astype(np.int64), delimiter=',', fmt='%i')\n",
    "np.savetxt('notebooks/cofactors/data/E_matrix.csv', E.astype(np.int64), delimiter=',', fmt='%i')\n",
    "np.savetxt('notebooks/cofactors/data/W_matrix.csv', W.astype(np.float64), delimiter=',')\n",
    "np.savetxt('notebooks/cofactors/data/W1_matrix.csv', W1.astype(np.float64), delimiter=',')\n",
    "np.savetxt('notebooks/cofactors/data/W2_matrix.csv', W2.astype(np.float64), delimiter=',')\n",
    "np.savetxt('notebooks/cofactors/data/A_matrix.csv', A.astype(np.float64), delimiter=',')\n",
    "\n",
    "\n",
    "# write all ids to single file with each list on a new line\n",
    "with open('notebooks/cofactors/data/complex_ids.txt', 'w') as f:\n",
    "    f.write('\\n'.join(complex_ids))\n",
    "with open('notebooks/cofactors/data/protein_ids.txt', 'w') as f:\n",
    "    f.write('\\n'.join(protein_ids))\n",
    "with open('notebooks/cofactors/data/cofactor_ids.txt', 'w') as f:\n",
    "    f.write('\\n'.join(cofactor_ids))\n",
    "with open('notebooks/cofactors/data/element_ids.txt', 'w') as f:\n",
    "    f.write('\\n'.join(element_ids))\n",
    "with open('notebooks/cofactors/data/pathway_ids.txt', 'w') as f:\n",
    "    f.write('\\n'.join(pathway_ids))\n",
    "with open('notebooks/cofactors/data/amino_acid_ids.txt', 'w') as f:\n",
    "    f.write('\\n'.join(amino_acid_ids))\n",
    "\n",
    "# write all names to single file with each list on a new line\n",
    "with open('notebooks/cofactors/data/complex_names.txt', 'w') as f:\n",
    "    f.write('\\n'.join(complex_names))\n",
    "with open('notebooks/cofactors/data/protein_names.txt', 'w') as f:\n",
    "    f.write('\\n'.join(protein_names))\n",
    "with open('notebooks/cofactors/data/cofactor_names.txt', 'w') as f:\n",
    "    f.write('\\n'.join(cofactor_names))\n",
    "with open('notebooks/cofactors/data/pathway_names.txt', 'w') as f:\n",
    "    f.write('\\n'.join(pathway_names))\n",
    "\n",
    "\n",
    "# save counts of proteins and complexes\n",
    "np.savetxt('notebooks/cofactors/data/counts.csv', np.array(counts, dtype=np.int64), delimiter=',', fmt='%i')\n",
    "\n",
    "# save tree_matrix\n",
    "np.savetxt('notebooks/cofactors/data/tree_matrix.csv', tree_matrix, delimiter=',', fmt='%i')\n",
    "\n"
   ],
   "metadata": {
    "collapsed": false,
    "ExecuteTime": {
     "end_time": "2023-09-22T17:58:27.223136Z",
     "start_time": "2023-09-22T17:58:18.023438Z"
    }
   }
  },
  {
   "cell_type": "markdown",
   "source": [
    "# Tests"
   ],
   "metadata": {
    "collapsed": false
   }
  },
  {
   "cell_type": "markdown",
   "source": [
    "First, let's test that the cofactor counts are correct for SULFITE-REDUCT-CPLX and its constituent BETACOMP-MONOMER"
   ],
   "metadata": {
    "collapsed": false
   }
  },
  {
   "cell_type": "code",
   "execution_count": null,
   "outputs": [
    {
     "ename": "KeyError",
     "evalue": "1020",
     "output_type": "error",
     "traceback": [
      "\u001B[0;31m---------------------------------------------------------------------------\u001B[0m",
      "\u001B[0;31mKeyError\u001B[0m                                  Traceback (most recent call last)",
      "File \u001B[0;32m~/.pyenv/versions/viv-10/lib/python3.10/site-packages/pandas/core/indexes/base.py:3652\u001B[0m, in \u001B[0;36mIndex.get_loc\u001B[0;34m(self, key)\u001B[0m\n\u001B[1;32m   3651\u001B[0m \u001B[38;5;28;01mtry\u001B[39;00m:\n\u001B[0;32m-> 3652\u001B[0m     \u001B[38;5;28;01mreturn\u001B[39;00m \u001B[38;5;28;43mself\u001B[39;49m\u001B[38;5;241;43m.\u001B[39;49m\u001B[43m_engine\u001B[49m\u001B[38;5;241;43m.\u001B[39;49m\u001B[43mget_loc\u001B[49m\u001B[43m(\u001B[49m\u001B[43mcasted_key\u001B[49m\u001B[43m)\u001B[49m\n\u001B[1;32m   3653\u001B[0m \u001B[38;5;28;01mexcept\u001B[39;00m \u001B[38;5;167;01mKeyError\u001B[39;00m \u001B[38;5;28;01mas\u001B[39;00m err:\n",
      "File \u001B[0;32m~/.pyenv/versions/viv-10/lib/python3.10/site-packages/pandas/_libs/index.pyx:147\u001B[0m, in \u001B[0;36mpandas._libs.index.IndexEngine.get_loc\u001B[0;34m()\u001B[0m\n",
      "File \u001B[0;32m~/.pyenv/versions/viv-10/lib/python3.10/site-packages/pandas/_libs/index.pyx:171\u001B[0m, in \u001B[0;36mpandas._libs.index.IndexEngine.get_loc\u001B[0;34m()\u001B[0m\n",
      "File \u001B[0;32m~/.pyenv/versions/viv-10/lib/python3.10/site-packages/pandas/_libs/index.pyx:214\u001B[0m, in \u001B[0;36mpandas._libs.index.IndexEngine._get_loc_duplicates\u001B[0;34m()\u001B[0m\n",
      "File \u001B[0;32m~/.pyenv/versions/viv-10/lib/python3.10/site-packages/pandas/_libs/index.pyx:222\u001B[0m, in \u001B[0;36mpandas._libs.index.IndexEngine._maybe_get_bool_indexer\u001B[0;34m()\u001B[0m\n",
      "File \u001B[0;32m~/.pyenv/versions/viv-10/lib/python3.10/site-packages/pandas/_libs/index.pyx:114\u001B[0m, in \u001B[0;36mpandas._libs.index._unpack_bool_indexer\u001B[0;34m()\u001B[0m\n",
      "\u001B[0;31mKeyError\u001B[0m: 1020",
      "\nThe above exception was the direct cause of the following exception:\n",
      "\u001B[0;31mKeyError\u001B[0m                                  Traceback (most recent call last)",
      "Cell \u001B[0;32mIn[50], line 1\u001B[0m\n\u001B[0;32m----> 1\u001B[0m \u001B[38;5;28mprint\u001B[39m(\u001B[38;5;124mf\u001B[39m\u001B[38;5;124m'\u001B[39m\u001B[38;5;124mSulfite reductase complex count: \u001B[39m\u001B[38;5;132;01m{\u001B[39;00m\u001B[43mcounts\u001B[49m\u001B[43m[\u001B[49m\u001B[38;5;241;43m1020\u001B[39;49m\u001B[43m]\u001B[49m\u001B[38;5;132;01m}\u001B[39;00m\u001B[38;5;124m, hemoprotein subunit count: \u001B[39m\u001B[38;5;132;01m{\u001B[39;00mcounts[\u001B[38;5;241m1271\u001B[39m]\u001B[38;5;132;01m}\u001B[39;00m\u001B[38;5;124m'\u001B[39m)\n\u001B[1;32m      2\u001B[0m \u001B[38;5;28mprint\u001B[39m(\u001B[38;5;124mf\u001B[39m\u001B[38;5;124m'\u001B[39m\u001B[38;5;124mExpected iron count: \u001B[39m\u001B[38;5;132;01m{\u001B[39;00mcounts[\u001B[38;5;241m1020\u001B[39m]\u001B[38;5;250m \u001B[39m\u001B[38;5;241m*\u001B[39m\u001B[38;5;250m \u001B[39m\u001B[38;5;241m5\u001B[39m\u001B[38;5;250m \u001B[39m\u001B[38;5;241m*\u001B[39m\u001B[38;5;250m \u001B[39m\u001B[38;5;241m4\u001B[39m\u001B[38;5;132;01m}\u001B[39;00m\u001B[38;5;124m for the first, \u001B[39m\u001B[38;5;132;01m{\u001B[39;00mcounts[\u001B[38;5;241m1271\u001B[39m]\u001B[38;5;250m \u001B[39m\u001B[38;5;241m*\u001B[39m\u001B[38;5;250m \u001B[39m\u001B[38;5;241m5\u001B[39m\u001B[38;5;250m \u001B[39m\u001B[38;5;132;01m}\u001B[39;00m\u001B[38;5;124m for the second\u001B[39m\u001B[38;5;124m'\u001B[39m)\n",
      "File \u001B[0;32m~/.pyenv/versions/viv-10/lib/python3.10/site-packages/pandas/core/frame.py:3761\u001B[0m, in \u001B[0;36mDataFrame.__getitem__\u001B[0;34m(self, key)\u001B[0m\n\u001B[1;32m   3759\u001B[0m \u001B[38;5;28;01mif\u001B[39;00m \u001B[38;5;28mself\u001B[39m\u001B[38;5;241m.\u001B[39mcolumns\u001B[38;5;241m.\u001B[39mnlevels \u001B[38;5;241m>\u001B[39m \u001B[38;5;241m1\u001B[39m:\n\u001B[1;32m   3760\u001B[0m     \u001B[38;5;28;01mreturn\u001B[39;00m \u001B[38;5;28mself\u001B[39m\u001B[38;5;241m.\u001B[39m_getitem_multilevel(key)\n\u001B[0;32m-> 3761\u001B[0m indexer \u001B[38;5;241m=\u001B[39m \u001B[38;5;28;43mself\u001B[39;49m\u001B[38;5;241;43m.\u001B[39;49m\u001B[43mcolumns\u001B[49m\u001B[38;5;241;43m.\u001B[39;49m\u001B[43mget_loc\u001B[49m\u001B[43m(\u001B[49m\u001B[43mkey\u001B[49m\u001B[43m)\u001B[49m\n\u001B[1;32m   3762\u001B[0m \u001B[38;5;28;01mif\u001B[39;00m is_integer(indexer):\n\u001B[1;32m   3763\u001B[0m     indexer \u001B[38;5;241m=\u001B[39m [indexer]\n",
      "File \u001B[0;32m~/.pyenv/versions/viv-10/lib/python3.10/site-packages/pandas/core/indexes/base.py:3654\u001B[0m, in \u001B[0;36mIndex.get_loc\u001B[0;34m(self, key)\u001B[0m\n\u001B[1;32m   3652\u001B[0m     \u001B[38;5;28;01mreturn\u001B[39;00m \u001B[38;5;28mself\u001B[39m\u001B[38;5;241m.\u001B[39m_engine\u001B[38;5;241m.\u001B[39mget_loc(casted_key)\n\u001B[1;32m   3653\u001B[0m \u001B[38;5;28;01mexcept\u001B[39;00m \u001B[38;5;167;01mKeyError\u001B[39;00m \u001B[38;5;28;01mas\u001B[39;00m err:\n\u001B[0;32m-> 3654\u001B[0m     \u001B[38;5;28;01mraise\u001B[39;00m \u001B[38;5;167;01mKeyError\u001B[39;00m(key) \u001B[38;5;28;01mfrom\u001B[39;00m \u001B[38;5;21;01merr\u001B[39;00m\n\u001B[1;32m   3655\u001B[0m \u001B[38;5;28;01mexcept\u001B[39;00m \u001B[38;5;167;01mTypeError\u001B[39;00m:\n\u001B[1;32m   3656\u001B[0m     \u001B[38;5;66;03m# If we have a listlike key, _check_indexing_error will raise\u001B[39;00m\n\u001B[1;32m   3657\u001B[0m     \u001B[38;5;66;03m#  InvalidIndexError. Otherwise we fall through and re-raise\u001B[39;00m\n\u001B[1;32m   3658\u001B[0m     \u001B[38;5;66;03m#  the TypeError.\u001B[39;00m\n\u001B[1;32m   3659\u001B[0m     \u001B[38;5;28mself\u001B[39m\u001B[38;5;241m.\u001B[39m_check_indexing_error(key)\n",
      "\u001B[0;31mKeyError\u001B[0m: 1020"
     ]
    }
   ],
   "source": [
    "print(f'Sulfite reductase complex count: {counts[1020]}, hemoprotein subunit count: {counts[1271]}')\n",
    "print(f'Expected iron count: {counts[1020] * 5 * 4} for the first, {counts[1271] * 5 } for the second')"
   ],
   "metadata": {
    "collapsed": false,
    "ExecuteTime": {
     "end_time": "2023-09-22T17:58:28.150589Z",
     "start_time": "2023-09-22T17:58:27.229006Z"
    }
   }
  },
  {
   "cell_type": "markdown",
   "source": [
    "Let's check the pathway counts for the related pathway."
   ],
   "metadata": {
    "collapsed": false
   }
  },
  {
   "cell_type": "code",
   "execution_count": null,
   "outputs": [],
   "source": [
    "cplx_pathways = pathway_ids[ np.where((C @ W)[1020, :])[0][0] ]\n",
    "monomer_pathways = pathway_ids[ np.where((C @ W)[1271, :])[0][0] ]\n",
    "\n",
    "\n",
    "print(f'Sulfite reductase is in the following pathways: {cplx_pathways}, while the hemoprotein is in {monomer_pathways}')"
   ],
   "metadata": {
    "collapsed": false
   }
  },
  {
   "cell_type": "markdown",
   "source": [
    "That means the pathway counts for iron should be the same as the cplx counts (or larger)"
   ],
   "metadata": {
    "collapsed": false
   }
  },
  {
   "cell_type": "code",
   "execution_count": null,
   "outputs": [],
   "source": [
    "# pathway_counts = (iron_counts @ C_n @ W)[  np.where((C @ W)[1020, :])[0][0]  ]\n",
    "\n",
    "# print(f'Pathway counts for iron: {pathway_counts}')"
   ],
   "metadata": {
    "collapsed": false
   }
  },
  {
   "cell_type": "code",
   "execution_count": null,
   "outputs": [],
   "source": [
    "print(f\"\"\"Monomer index: {C_names.index('SUPEROX-DISMUTFE-MONOMER')}, complex index: {C_names.index('SUPEROX-DISMUTFE-CPLX')}\"\"\")"
   ],
   "metadata": {
    "collapsed": false
   }
  },
  {
   "cell_type": "code",
   "execution_count": null,
   "outputs": [],
   "source": [
    "print(f\"\"\"Monomer count: {counts[5232]}, complex count: {counts[1021]}\"\"\")"
   ],
   "metadata": {
    "collapsed": false
   }
  },
  {
   "cell_type": "code",
   "execution_count": null,
   "outputs": [],
   "source": [
    "print(f\"\"\"Monomer index: {C_names.index('SUPEROX-DISMUTMN-MONOMER')}, complex index: {C_names.index('SUPEROX-DISMUTMN-CPLX')}\"\"\")\n",
    "print(f\"\"\"Monomer count: {counts[5233]}, complex count: {counts[1022]}\"\"\")"
   ],
   "metadata": {
    "collapsed": false
   }
  },
  {
   "cell_type": "code",
   "execution_count": null,
   "outputs": [],
   "source": [
    "mn_idx = element_ids.index('MN')\n",
    "mn_counts = (np.array(counts).reshape(-1, 1) * C @ P @ E)[:, mn_idx]\n",
    "# each complex count of 1 counts as 1 total annotation, so need to normalize\n",
    "C_n = C / (C.sum(axis=1, keepdims=1) + 1e-10)\n",
    "\n",
    "nz_idx = np.where((C_n @ W @ W2).T @ mn_counts)[0]\n",
    "mn_counts_group = (C_n @ W @ W2).T @ mn_counts"
   ],
   "metadata": {
    "collapsed": false
   }
  },
  {
   "cell_type": "code",
   "execution_count": null,
   "outputs": [],
   "source": [
    "cplx_pathways = pathway_ids[ np.where((C @ W)[5233, :])[0][0] ]\n",
    "monomer_pathways = pathway_ids[ np.where((C @ W)[1022, :])[0][0] ]\n",
    "\n",
    "\n",
    "print(f'Superoxide dismutase is in the following pathways: {cplx_pathways}, while the monomer is in {monomer_pathways}')"
   ],
   "metadata": {
    "collapsed": false
   }
  },
  {
   "cell_type": "code",
   "execution_count": null,
   "outputs": [],
   "source": [
    "pathway_counts = (mn_counts @ C_n @ W @ W2)[  np.where((C @ W @ W2)[5233, :])[0][0]  ]\n",
    "pathway_counts"
   ],
   "metadata": {
    "collapsed": false
   }
  },
  {
   "cell_type": "code",
   "execution_count": null,
   "outputs": [],
   "source": [
    "mn_counts[1022]"
   ],
   "metadata": {
    "collapsed": false
   }
  },
  {
   "cell_type": "code",
   "execution_count": null,
   "outputs": [],
   "source": [
    "counts"
   ],
   "metadata": {
    "collapsed": false
   }
  },
  {
   "cell_type": "code",
   "execution_count": null,
   "outputs": [],
   "source": [
    "parsed_pathway_df[parsed_pathway_df['id'] == 'PWY0-1507']"
   ],
   "metadata": {
    "collapsed": false
   }
  },
  {
   "cell_type": "code",
   "execution_count": null,
   "outputs": [],
   "source": [
    "pathway_ids.index('PWY0-1507')"
   ],
   "metadata": {
    "collapsed": false
   }
  },
  {
   "cell_type": "code",
   "execution_count": null,
   "outputs": [],
   "source": [
    "np.where(W2[753,:])"
   ],
   "metadata": {
    "collapsed": false
   }
  },
  {
   "cell_type": "code",
   "execution_count": null,
   "outputs": [],
   "source": [
    "pathway_ids[718]"
   ],
   "metadata": {
    "collapsed": false
   }
  },
  {
   "cell_type": "markdown",
   "source": [
    "## go annotation for proteins"
   ],
   "metadata": {
    "collapsed": false
   }
  },
  {
   "cell_type": "code",
   "execution_count": null,
   "outputs": [],
   "source": [
    "parsed_protein_df[parsed_protein_df['id'] == 'BCCP-MONOMER']"
   ],
   "metadata": {
    "collapsed": false
   }
  },
  {
   "cell_type": "code",
   "execution_count": null,
   "outputs": [],
   "source": [
    "parsed_protein_df[parsed_protein_df['id'] == 'EG10889-MONOMER']"
   ],
   "metadata": {
    "collapsed": false
   }
  },
  {
   "cell_type": "markdown",
   "source": [
    "# Finally ... add the counts >:o"
   ],
   "metadata": {
    "collapsed": false
   }
  },
  {
   "cell_type": "code",
   "execution_count": null,
   "outputs": [],
   "source": [
    "factored_cofactor_elements = np.array(counts).reshape(-1,1) * C @ P @ E"
   ],
   "metadata": {
    "collapsed": false
   }
  },
  {
   "cell_type": "code",
   "execution_count": null,
   "outputs": [],
   "source": [
    "factored_cofactor_elements"
   ],
   "metadata": {
    "collapsed": false
   }
  },
  {
   "cell_type": "code",
   "execution_count": null,
   "outputs": [],
   "source": [
    "{unique_elements[i]: factored_cofactor_elements.sum(axis=0)[i] for i in range(len(unique_elements))}"
   ],
   "metadata": {
    "collapsed": false
   }
  },
  {
   "cell_type": "code",
   "execution_count": null,
   "outputs": [],
   "source": [
    "parsed_protein_df[parsed_protein_df['id'] == 'FDOG-MONOMER']"
   ],
   "metadata": {
    "collapsed": false
   }
  },
  {
   "cell_type": "code",
   "execution_count": null,
   "outputs": [],
   "source": [
    "fdog_idx = C_names.index('FDOG-MONOMER')\n",
    "factored_cofactor_elements[fdog_idx, :]"
   ],
   "metadata": {
    "collapsed": false
   }
  },
  {
   "cell_type": "code",
   "execution_count": null,
   "outputs": [],
   "source": [
    "factored_cofactors = np.array(counts).reshape(-1,1) * C @ P\n",
    "{cofactor_ids[i]: factored_cofactors.sum(axis=0)[i] for i in range(len(cofactor_ids))}"
   ],
   "metadata": {
    "collapsed": false
   }
  },
  {
   "cell_type": "code",
   "execution_count": null,
   "outputs": [],
   "source": [
    "np.where(P[:,cofactor_ids.index('L-SELENOCYSTEINE')])[0]"
   ],
   "metadata": {
    "collapsed": false
   }
  },
  {
   "cell_type": "code",
   "execution_count": null,
   "outputs": [],
   "source": [
    "cidx = C_names.index('APORNAP-CPLX')\n",
    "{unique_elements[i]: factored_cofactor_elements[cidx,i] for i in range(len(unique_elements)) if factored_cofactor_elements[cidx,i] > 0}"
   ],
   "metadata": {
    "collapsed": false
   }
  },
  {
   "cell_type": "code",
   "execution_count": null,
   "outputs": [],
   "source": [
    "C_names.index('CARBPSYN-CPLX')"
   ],
   "metadata": {
    "collapsed": false
   }
  },
  {
   "cell_type": "code",
   "execution_count": null,
   "outputs": [],
   "source": [
    "parsed_protein_df[parsed_protein_df['id'] == 'CARBPSYN-LARGE']"
   ],
   "metadata": {
    "collapsed": false
   }
  },
  {
   "cell_type": "code",
   "execution_count": null,
   "outputs": [],
   "source": [
    "parsed_complex_df[parsed_complex_df['id'] == 'CARBPSYN-CPLX']"
   ],
   "metadata": {
    "collapsed": false
   }
  },
  {
   "cell_type": "code",
   "execution_count": null,
   "outputs": [],
   "source": [
    "test_vec = np.zeros(len(counts))\n",
    "test_vec[1] = 1\n",
    "\n",
    "np.where((C @ W @ W2 @ W1).T @ test_vec)[0]"
   ],
   "metadata": {
    "collapsed": false
   }
  },
  {
   "cell_type": "code",
   "execution_count": null,
   "outputs": [],
   "source": [
    "iron_idx = element_ids.index('FE')\n",
    "iron_counts = (np.array(counts).reshape(-1,1) * C @ P @ E)[:, iron_idx]"
   ],
   "metadata": {
    "collapsed": false
   }
  },
  {
   "cell_type": "code",
   "execution_count": null,
   "outputs": [],
   "source": [
    "# each complex count of 1 counts as 1 total annotation, so need to normalize\n",
    "C_n = C / (C.sum(axis=1, keepdims=1) + 1e-10)\n",
    "\n",
    "\n",
    "nz_idx = np.where((C_n @ W @ W2).T @ iron_counts)[0]\n",
    "iron_counts_group = (C_n @ W @ W2).T @ iron_counts"
   ],
   "metadata": {
    "collapsed": false
   }
  },
  {
   "cell_type": "code",
   "execution_count": null,
   "outputs": [],
   "source": [
    "iron_counts_group.sum()"
   ],
   "metadata": {
    "collapsed": false
   }
  },
  {
   "cell_type": "code",
   "execution_count": null,
   "outputs": [],
   "source": [
    "iron_counts.sum()"
   ],
   "metadata": {
    "collapsed": false
   }
  },
  {
   "cell_type": "code",
   "execution_count": null,
   "outputs": [],
   "source": [
    "for idx in nz_idx:\n",
    "    if iron_counts_group[idx] > 1000:\n",
    "        print(pathway_ids[idx], int(iron_counts_group[idx]))"
   ],
   "metadata": {
    "collapsed": false
   }
  },
  {
   "cell_type": "code",
   "execution_count": null,
   "outputs": [],
   "source": [
    "# iron_count_idxs = np.where(iron_counts)[0]\n",
    "#\n",
    "# for idx in iron_count_idxs:\n",
    "#     print(f'{C_names[idx]}: {int(iron_counts[idx])}')\n",
    "#     test_vec = np.zeros(len(iron_counts))\n",
    "#     test_vec[idx] = iron_counts[idx]\n",
    "#\n",
    "#\n",
    "#     nz_idx = np.where((C_n @ W @ W2).T @ test_vec)[0]\n",
    "#\n",
    "#     if len(nz_idx) > 0:\n",
    "#         category_count = int(((C_n @ W @ W2).T @ test_vec)[nz_idx][0])\n",
    "#         print(f'Transformed: {category_count}')\n",
    "#     else:\n",
    "#         print('Transformed: 0!')"
   ],
   "metadata": {
    "collapsed": false
   }
  }
 ],
 "metadata": {
  "kernelspec": {
   "display_name": "Python 3",
   "language": "python",
   "name": "python3"
  },
  "language_info": {
   "codemirror_mode": {
    "name": "ipython",
    "version": 2
   },
   "file_extension": ".py",
   "mimetype": "text/x-python",
   "name": "python",
   "nbconvert_exporter": "python",
   "pygments_lexer": "ipython2",
   "version": "2.7.6"
  }
 },
 "nbformat": 4,
 "nbformat_minor": 0
}
