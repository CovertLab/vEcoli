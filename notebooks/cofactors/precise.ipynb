{
 "cells": [
  {
   "cell_type": "code",
   "execution_count": 1,
   "id": "b183cd42-c9e4-4ebf-bcaa-0d8e9dd84784",
   "metadata": {},
   "outputs": [
    {
     "data": {
      "text/html": [
       "<style>\n",
       "/* Any CSS style can go in here. */\n",
       ".dataframe th {\n",
       "    font-size: 8px;\n",
       "}\n",
       ".dataframe td {\n",
       "    font-size: 8px;\n",
       "}\n",
       "</style>\n"
      ],
      "text/plain": [
       "<IPython.core.display.HTML object>"
      ]
     },
     "metadata": {},
     "output_type": "display_data"
    }
   ],
   "source": [
    "%%html\n",
    "<style>\n",
    "/* Any CSS style can go in here. */\n",
    ".dataframe th {\n",
    "    font-size: 8px;\n",
    "}\n",
    ".dataframe td {\n",
    "    font-size: 8px;\n",
    "}\n",
    "</style>"
   ]
  },
  {
   "cell_type": "code",
   "execution_count": 2,
   "id": "2bb35cf7-bc87-4af5-9f43-cb6dc0e4a779",
   "metadata": {},
   "outputs": [],
   "source": [
    "import pandas as pd\n",
    "import numpy as np\n",
    "import matplotlib.pyplot as plt\n",
    "import seaborn as sns\n",
    "\n",
    "import polars as pl\n",
    "\n",
    "cols = ['Experiment', 'study', 'condition_id', 'rep_id', 'creator', 'run_date', 'Strain Description', \n",
    " 'Base Media', 'Carbon Source (g/L)', 'Nitrogen Source (g/L)', 'Electron Acceptor', 'Trace Element Mixture', \n",
    " 'Supplement', 'Temperature (C)', 'pH', 'Growth Rate (1/hr)']\n",
    "\n",
    "sns.set(style=\"darkgrid\", palette=\"Set2\")"
   ]
  },
  {
   "cell_type": "code",
   "execution_count": 3,
   "id": "5cd0041b-cffa-4fe2-ae76-c7acf70cf66f",
   "metadata": {},
   "outputs": [
    {
     "data": {
      "text/html": [
       "<div><style>\n",
       ".dataframe > thead > tr,\n",
       ".dataframe > tbody > tr {\n",
       "  text-align: right;\n",
       "  white-space: pre-wrap;\n",
       "}\n",
       "</style>\n",
       "<small>shape: (4_355, 821)</small><table border=\"1\" class=\"dataframe\"><thead><tr><th>Geneid</th><th>ecoli_00178</th><th>ecoli_00188</th><th>ecoli_00825</th><th>ecoli_00057</th><th>ecoli_00471</th><th>ecoli_00215</th><th>ecoli_00270</th><th>ecoli_00100</th><th>ecoli_00019</th><th>ecoli_00837</th><th>ecoli_00005</th><th>ecoli_00726</th><th>ecoli_00033</th><th>ecoli_00227</th><th>ecoli_00260</th><th>ecoli_00042</th><th>ecoli_00187</th><th>ecoli_00286</th><th>ecoli_00306</th><th>ecoli_00762</th><th>ecoli_00072</th><th>ecoli_00134</th><th>ecoli_00613</th><th>ecoli_00032</th><th>ecoli_00563</th><th>ecoli_00330</th><th>ecoli_00123</th><th>ecoli_00749</th><th>ecoli_00658</th><th>ecoli_00289</th><th>ecoli_00086</th><th>ecoli_00435</th><th>ecoli_00535</th><th>ecoli_00119</th><th>ecoli_00181</th><th>ecoli_00400</th><th>&hellip;</th><th>ecoli_00448</th><th>ecoli_00368</th><th>ecoli_00586</th><th>ecoli_00374</th><th>ecoli_00098</th><th>ecoli_00647</th><th>ecoli_00093</th><th>ecoli_00004</th><th>ecoli_00425</th><th>ecoli_00013</th><th>ecoli_00399</th><th>ecoli_00517</th><th>ecoli_00063</th><th>ecoli_00699</th><th>ecoli_00834</th><th>ecoli_00300</th><th>ecoli_00777</th><th>ecoli_00172</th><th>ecoli_00445</th><th>ecoli_00084</th><th>ecoli_00221</th><th>ecoli_00625</th><th>ecoli_00067</th><th>ecoli_00641</th><th>ecoli_00609</th><th>ecoli_00302</th><th>ecoli_00074</th><th>ecoli_00393</th><th>ecoli_00800</th><th>ecoli_00195</th><th>ecoli_00265</th><th>ecoli_00037</th><th>ecoli_00419</th><th>ecoli_00567</th><th>ecoli_00784</th><th>ecoli_00544</th><th>ecoli_00338</th></tr><tr><td>str</td><td>i64</td><td>i64</td><td>i64</td><td>i64</td><td>i64</td><td>i64</td><td>i64</td><td>i64</td><td>i64</td><td>i64</td><td>i64</td><td>i64</td><td>i64</td><td>i64</td><td>i64</td><td>i64</td><td>i64</td><td>i64</td><td>i64</td><td>i64</td><td>i64</td><td>i64</td><td>i64</td><td>i64</td><td>i64</td><td>i64</td><td>i64</td><td>i64</td><td>i64</td><td>i64</td><td>i64</td><td>i64</td><td>i64</td><td>i64</td><td>i64</td><td>i64</td><td>&hellip;</td><td>i64</td><td>i64</td><td>i64</td><td>i64</td><td>i64</td><td>i64</td><td>i64</td><td>i64</td><td>i64</td><td>i64</td><td>i64</td><td>i64</td><td>i64</td><td>i64</td><td>i64</td><td>i64</td><td>i64</td><td>i64</td><td>i64</td><td>i64</td><td>i64</td><td>i64</td><td>i64</td><td>i64</td><td>i64</td><td>i64</td><td>i64</td><td>i64</td><td>i64</td><td>i64</td><td>i64</td><td>i64</td><td>i64</td><td>i64</td><td>i64</td><td>i64</td><td>i64</td></tr></thead><tbody><tr><td>&quot;b0001&quot;</td><td>1033</td><td>64</td><td>1079</td><td>464</td><td>19</td><td>1515</td><td>52</td><td>761</td><td>13</td><td>477</td><td>651</td><td>0</td><td>8</td><td>484</td><td>328</td><td>99</td><td>81</td><td>294</td><td>73</td><td>1143</td><td>255</td><td>71</td><td>585</td><td>553</td><td>41</td><td>278</td><td>22</td><td>1180</td><td>13942</td><td>509</td><td>20</td><td>300</td><td>140</td><td>7</td><td>450</td><td>169</td><td>&hellip;</td><td>748</td><td>79</td><td>543</td><td>56</td><td>4</td><td>7597</td><td>74</td><td>60</td><td>227</td><td>75</td><td>84</td><td>188</td><td>114</td><td>4884</td><td>250</td><td>279</td><td>315</td><td>619</td><td>152</td><td>60</td><td>339</td><td>4356</td><td>45</td><td>4454</td><td>73</td><td>60</td><td>1455</td><td>258</td><td>435</td><td>363</td><td>372</td><td>5</td><td>238</td><td>677</td><td>101</td><td>48</td><td>385</td></tr><tr><td>&quot;b0002&quot;</td><td>4831</td><td>47376</td><td>29852</td><td>4125</td><td>715</td><td>36396</td><td>13114</td><td>15639</td><td>3164</td><td>45157</td><td>37670</td><td>2</td><td>32386</td><td>18642</td><td>879</td><td>23258</td><td>45596</td><td>26190</td><td>21692</td><td>12426</td><td>5822</td><td>39559</td><td>42279</td><td>12496</td><td>376</td><td>78641</td><td>17497</td><td>18543</td><td>24982</td><td>50788</td><td>3918</td><td>13564</td><td>19194</td><td>18897</td><td>31252</td><td>6681</td><td>&hellip;</td><td>27448</td><td>1046</td><td>23677</td><td>768</td><td>920</td><td>24232</td><td>22661</td><td>62824</td><td>10912</td><td>13290</td><td>5633</td><td>31136</td><td>3114</td><td>22966</td><td>44921</td><td>20063</td><td>23391</td><td>23315</td><td>6261</td><td>36536</td><td>18926</td><td>44420</td><td>2014</td><td>41959</td><td>10337</td><td>18903</td><td>35932</td><td>16736</td><td>6609</td><td>34432</td><td>22045</td><td>7387</td><td>25654</td><td>32192</td><td>19660</td><td>1827</td><td>56611</td></tr><tr><td>&quot;b0003&quot;</td><td>1216</td><td>14035</td><td>8113</td><td>1467</td><td>595</td><td>11199</td><td>5566</td><td>4338</td><td>1692</td><td>11223</td><td>13110</td><td>0</td><td>8808</td><td>5777</td><td>450</td><td>7669</td><td>13547</td><td>7903</td><td>7565</td><td>3999</td><td>1822</td><td>8452</td><td>11457</td><td>3877</td><td>284</td><td>23053</td><td>5081</td><td>4808</td><td>8195</td><td>14895</td><td>1872</td><td>4339</td><td>6068</td><td>5965</td><td>9064</td><td>2192</td><td>&hellip;</td><td>7334</td><td>346</td><td>6525</td><td>301</td><td>433</td><td>7503</td><td>6634</td><td>24740</td><td>3281</td><td>4951</td><td>1754</td><td>8096</td><td>995</td><td>6842</td><td>11068</td><td>5363</td><td>7096</td><td>6984</td><td>1674</td><td>7208</td><td>5686</td><td>11347</td><td>1066</td><td>11589</td><td>3150</td><td>4691</td><td>11215</td><td>4794</td><td>2414</td><td>10421</td><td>5903</td><td>2445</td><td>7398</td><td>7113</td><td>4766</td><td>719</td><td>16584</td></tr><tr><td>&quot;b0004&quot;</td><td>1201</td><td>18761</td><td>10339</td><td>1528</td><td>658</td><td>14476</td><td>8043</td><td>5340</td><td>1342</td><td>14016</td><td>12802</td><td>3</td><td>8222</td><td>8237</td><td>533</td><td>7575</td><td>17399</td><td>11481</td><td>9548</td><td>6163</td><td>2528</td><td>10832</td><td>13217</td><td>4540</td><td>383</td><td>26664</td><td>5507</td><td>5846</td><td>9673</td><td>19520</td><td>1205</td><td>6593</td><td>7949</td><td>6817</td><td>13509</td><td>3259</td><td>&hellip;</td><td>10424</td><td>473</td><td>9550</td><td>444</td><td>470</td><td>8895</td><td>7814</td><td>15589</td><td>5512</td><td>4772</td><td>2440</td><td>8948</td><td>1361</td><td>9043</td><td>13844</td><td>7920</td><td>10424</td><td>9660</td><td>2189</td><td>8892</td><td>6734</td><td>13927</td><td>707</td><td>12847</td><td>3216</td><td>6161</td><td>10963</td><td>7401</td><td>2257</td><td>13940</td><td>6350</td><td>2886</td><td>12073</td><td>9795</td><td>7853</td><td>821</td><td>20620</td></tr><tr><td>&quot;b0005&quot;</td><td>77</td><td>250</td><td>161</td><td>42</td><td>161</td><td>315</td><td>270</td><td>304</td><td>53</td><td>241</td><td>386</td><td>11</td><td>75</td><td>239</td><td>9</td><td>137</td><td>249</td><td>202</td><td>177</td><td>352</td><td>60</td><td>259</td><td>764</td><td>85</td><td>48</td><td>659</td><td>76</td><td>3813</td><td>872</td><td>421</td><td>27</td><td>218</td><td>304</td><td>100</td><td>350</td><td>128</td><td>&hellip;</td><td>199</td><td>104</td><td>393</td><td>146</td><td>13</td><td>456</td><td>205</td><td>159</td><td>185</td><td>85</td><td>103</td><td>527</td><td>47</td><td>480</td><td>269</td><td>175</td><td>575</td><td>197</td><td>84</td><td>255</td><td>170</td><td>599</td><td>47</td><td>427</td><td>211</td><td>183</td><td>264</td><td>233</td><td>69</td><td>315</td><td>101</td><td>34</td><td>348</td><td>424</td><td>295</td><td>98</td><td>257</td></tr><tr><td>&hellip;</td><td>&hellip;</td><td>&hellip;</td><td>&hellip;</td><td>&hellip;</td><td>&hellip;</td><td>&hellip;</td><td>&hellip;</td><td>&hellip;</td><td>&hellip;</td><td>&hellip;</td><td>&hellip;</td><td>&hellip;</td><td>&hellip;</td><td>&hellip;</td><td>&hellip;</td><td>&hellip;</td><td>&hellip;</td><td>&hellip;</td><td>&hellip;</td><td>&hellip;</td><td>&hellip;</td><td>&hellip;</td><td>&hellip;</td><td>&hellip;</td><td>&hellip;</td><td>&hellip;</td><td>&hellip;</td><td>&hellip;</td><td>&hellip;</td><td>&hellip;</td><td>&hellip;</td><td>&hellip;</td><td>&hellip;</td><td>&hellip;</td><td>&hellip;</td><td>&hellip;</td><td>&hellip;</td><td>&hellip;</td><td>&hellip;</td><td>&hellip;</td><td>&hellip;</td><td>&hellip;</td><td>&hellip;</td><td>&hellip;</td><td>&hellip;</td><td>&hellip;</td><td>&hellip;</td><td>&hellip;</td><td>&hellip;</td><td>&hellip;</td><td>&hellip;</td><td>&hellip;</td><td>&hellip;</td><td>&hellip;</td><td>&hellip;</td><td>&hellip;</td><td>&hellip;</td><td>&hellip;</td><td>&hellip;</td><td>&hellip;</td><td>&hellip;</td><td>&hellip;</td><td>&hellip;</td><td>&hellip;</td><td>&hellip;</td><td>&hellip;</td><td>&hellip;</td><td>&hellip;</td><td>&hellip;</td><td>&hellip;</td><td>&hellip;</td><td>&hellip;</td><td>&hellip;</td><td>&hellip;</td></tr><tr><td>&quot;b4399&quot;</td><td>212</td><td>336</td><td>127</td><td>121</td><td>66</td><td>274</td><td>86</td><td>119</td><td>206</td><td>217</td><td>232</td><td>5</td><td>259</td><td>152</td><td>99</td><td>171</td><td>320</td><td>209</td><td>87</td><td>135</td><td>61</td><td>248</td><td>269</td><td>239</td><td>62</td><td>351</td><td>124</td><td>111</td><td>273</td><td>201</td><td>199</td><td>189</td><td>127</td><td>206</td><td>153</td><td>123</td><td>&hellip;</td><td>307</td><td>102</td><td>173</td><td>153</td><td>56</td><td>295</td><td>180</td><td>233</td><td>156</td><td>122</td><td>127</td><td>127</td><td>37</td><td>289</td><td>199</td><td>86</td><td>210</td><td>184</td><td>214</td><td>401</td><td>131</td><td>271</td><td>143</td><td>277</td><td>250</td><td>79</td><td>501</td><td>128</td><td>87</td><td>255</td><td>205</td><td>110</td><td>254</td><td>156</td><td>154</td><td>74</td><td>258</td></tr><tr><td>&quot;b4400&quot;</td><td>90</td><td>141</td><td>48</td><td>51</td><td>14</td><td>108</td><td>43</td><td>29</td><td>83</td><td>71</td><td>75</td><td>2</td><td>105</td><td>75</td><td>41</td><td>40</td><td>130</td><td>73</td><td>44</td><td>81</td><td>16</td><td>35</td><td>246</td><td>46</td><td>34</td><td>150</td><td>37</td><td>64</td><td>119</td><td>71</td><td>83</td><td>77</td><td>89</td><td>48</td><td>46</td><td>55</td><td>&hellip;</td><td>88</td><td>47</td><td>75</td><td>67</td><td>9</td><td>124</td><td>61</td><td>96</td><td>46</td><td>25</td><td>44</td><td>91</td><td>23</td><td>77</td><td>60</td><td>35</td><td>86</td><td>59</td><td>69</td><td>52</td><td>38</td><td>72</td><td>27</td><td>76</td><td>203</td><td>36</td><td>86</td><td>44</td><td>45</td><td>101</td><td>112</td><td>30</td><td>44</td><td>130</td><td>16</td><td>50</td><td>90</td></tr><tr><td>&quot;b4401&quot;</td><td>9583</td><td>12507</td><td>4117</td><td>1780</td><td>6416</td><td>7860</td><td>5796</td><td>1985</td><td>15762</td><td>6216</td><td>4503</td><td>3</td><td>6342</td><td>3537</td><td>3733</td><td>3742</td><td>12319</td><td>4386</td><td>3898</td><td>4094</td><td>1543</td><td>5276</td><td>8784</td><td>5333</td><td>5401</td><td>9312</td><td>4544</td><td>2587</td><td>4012</td><td>4073</td><td>3512</td><td>6102</td><td>8544</td><td>6936</td><td>4557</td><td>4094</td><td>&hellip;</td><td>6372</td><td>1835</td><td>7041</td><td>2476</td><td>2025</td><td>5438</td><td>4485</td><td>9075</td><td>5345</td><td>2886</td><td>3345</td><td>2748</td><td>431</td><td>5036</td><td>6275</td><td>3035</td><td>5538</td><td>4569</td><td>2681</td><td>3278</td><td>3511</td><td>8377</td><td>8355</td><td>8934</td><td>3749</td><td>4631</td><td>6842</td><td>3837</td><td>2234</td><td>4180</td><td>10014</td><td>5686</td><td>3679</td><td>5409</td><td>4864</td><td>4090</td><td>3605</td></tr><tr><td>&quot;b4402&quot;</td><td>18</td><td>4</td><td>16</td><td>15</td><td>16</td><td>17</td><td>25</td><td>15</td><td>3</td><td>19</td><td>16</td><td>362</td><td>13</td><td>13</td><td>18</td><td>8</td><td>12</td><td>8</td><td>16</td><td>15</td><td>7</td><td>17</td><td>180</td><td>17</td><td>10</td><td>53</td><td>2</td><td>12</td><td>42</td><td>19</td><td>17</td><td>39</td><td>60</td><td>4</td><td>7</td><td>420</td><td>&hellip;</td><td>61</td><td>25</td><td>11</td><td>35</td><td>0</td><td>38</td><td>22</td><td>14</td><td>26</td><td>3</td><td>342</td><td>14</td><td>3</td><td>28</td><td>35</td><td>4</td><td>8</td><td>16</td><td>3</td><td>8</td><td>7</td><td>30</td><td>8</td><td>56</td><td>77</td><td>20</td><td>21</td><td>18</td><td>7</td><td>13</td><td>25</td><td>5</td><td>10</td><td>71</td><td>7</td><td>26</td><td>15</td></tr><tr><td>&quot;b4403&quot;</td><td>165</td><td>298</td><td>127</td><td>76</td><td>89</td><td>283</td><td>395</td><td>121</td><td>273</td><td>309</td><td>289</td><td>3</td><td>213</td><td>152</td><td>81</td><td>142</td><td>321</td><td>164</td><td>182</td><td>174</td><td>64</td><td>175</td><td>982</td><td>151</td><td>287</td><td>480</td><td>87</td><td>146</td><td>254</td><td>194</td><td>113</td><td>163</td><td>440</td><td>112</td><td>199</td><td>102</td><td>&hellip;</td><td>366</td><td>120</td><td>219</td><td>153</td><td>36</td><td>286</td><td>191</td><td>241</td><td>145</td><td>134</td><td>82</td><td>145</td><td>20</td><td>222</td><td>292</td><td>99</td><td>316</td><td>194</td><td>92</td><td>148</td><td>121</td><td>322</td><td>169</td><td>387</td><td>291</td><td>150</td><td>245</td><td>148</td><td>86</td><td>243</td><td>290</td><td>130</td><td>123</td><td>383</td><td>118</td><td>120</td><td>237</td></tr></tbody></table></div>"
      ],
      "text/plain": [
       "shape: (4_355, 821)\n",
       "┌────────┬────────────┬────────────┬───────────┬───┬───────────┬───────────┬───────────┬───────────┐\n",
       "│ Geneid ┆ ecoli_0017 ┆ ecoli_0018 ┆ ecoli_008 ┆ … ┆ ecoli_005 ┆ ecoli_007 ┆ ecoli_005 ┆ ecoli_003 │\n",
       "│ ---    ┆ 8          ┆ 8          ┆ 25        ┆   ┆ 67        ┆ 84        ┆ 44        ┆ 38        │\n",
       "│ str    ┆ ---        ┆ ---        ┆ ---       ┆   ┆ ---       ┆ ---       ┆ ---       ┆ ---       │\n",
       "│        ┆ i64        ┆ i64        ┆ i64       ┆   ┆ i64       ┆ i64       ┆ i64       ┆ i64       │\n",
       "╞════════╪════════════╪════════════╪═══════════╪═══╪═══════════╪═══════════╪═══════════╪═══════════╡\n",
       "│ b0001  ┆ 1033       ┆ 64         ┆ 1079      ┆ … ┆ 677       ┆ 101       ┆ 48        ┆ 385       │\n",
       "│ b0002  ┆ 4831       ┆ 47376      ┆ 29852     ┆ … ┆ 32192     ┆ 19660     ┆ 1827      ┆ 56611     │\n",
       "│ b0003  ┆ 1216       ┆ 14035      ┆ 8113      ┆ … ┆ 7113      ┆ 4766      ┆ 719       ┆ 16584     │\n",
       "│ b0004  ┆ 1201       ┆ 18761      ┆ 10339     ┆ … ┆ 9795      ┆ 7853      ┆ 821       ┆ 20620     │\n",
       "│ b0005  ┆ 77         ┆ 250        ┆ 161       ┆ … ┆ 424       ┆ 295       ┆ 98        ┆ 257       │\n",
       "│ …      ┆ …          ┆ …          ┆ …         ┆ … ┆ …         ┆ …         ┆ …         ┆ …         │\n",
       "│ b4399  ┆ 212        ┆ 336        ┆ 127       ┆ … ┆ 156       ┆ 154       ┆ 74        ┆ 258       │\n",
       "│ b4400  ┆ 90         ┆ 141        ┆ 48        ┆ … ┆ 130       ┆ 16        ┆ 50        ┆ 90        │\n",
       "│ b4401  ┆ 9583       ┆ 12507      ┆ 4117      ┆ … ┆ 5409      ┆ 4864      ┆ 4090      ┆ 3605      │\n",
       "│ b4402  ┆ 18         ┆ 4          ┆ 16        ┆ … ┆ 71        ┆ 7         ┆ 26        ┆ 15        │\n",
       "│ b4403  ┆ 165        ┆ 298        ┆ 127       ┆ … ┆ 383       ┆ 118       ┆ 120       ┆ 237       │\n",
       "└────────┴────────────┴────────────┴───────────┴───┴───────────┴───────────┴───────────┴───────────┘"
      ]
     },
     "execution_count": 3,
     "metadata": {},
     "output_type": "execute_result"
    }
   ],
   "source": [
    "m = pl.read_csv(\"external_data/PRECISE2_metadata.tsv\", separator=\"\\t\")\n",
    "d = pl.read_csv(\"external_data/PRECISE2_counts.csv\")\n",
    "d"
   ]
  },
  {
   "cell_type": "code",
   "execution_count": 4,
   "id": "25356a43-0837-4d78-83ed-fae4c7ba6f6d",
   "metadata": {},
   "outputs": [
    {
     "data": {
      "text/html": [
       "<div><style>\n",
       ".dataframe > thead > tr,\n",
       ".dataframe > tbody > tr {\n",
       "  text-align: right;\n",
       "  white-space: pre-wrap;\n",
       "}\n",
       "</style>\n",
       "<small>shape: (3_571_100, 18)</small><table border=\"1\" class=\"dataframe\"><thead><tr><th>Experiment</th><th>Geneid</th><th>Gene_count</th><th>study</th><th>condition_id</th><th>rep_id</th><th>creator</th><th>run_date</th><th>Strain Description</th><th>Base Media</th><th>Carbon Source (g/L)</th><th>Nitrogen Source (g/L)</th><th>Electron Acceptor</th><th>Trace Element Mixture</th><th>Supplement</th><th>Temperature (C)</th><th>pH</th><th>Growth Rate (1/hr)</th></tr><tr><td>str</td><td>str</td><td>i64</td><td>str</td><td>str</td><td>i64</td><td>str</td><td>str</td><td>str</td><td>str</td><td>str</td><td>str</td><td>str</td><td>str</td><td>str</td><td>i64</td><td>f64</td><td>f64</td></tr></thead><tbody><tr><td>&quot;ecoli_00178&quot;</td><td>&quot;b0001&quot;</td><td>1033</td><td>&quot;ICA&quot;</td><td>&quot;gth&quot;</td><td>2</td><td>&quot;Ying Hefner&quot;</td><td>&quot;12/23/17&quot;</td><td>&quot;Escherichia coli K-12 MG1655&quot;</td><td>&quot;M9&quot;</td><td>&quot;glucose(2)&quot;</td><td>&quot;NH4Cl(1)&quot;</td><td>&quot;O2&quot;</td><td>&quot;sauer trace element mixture w/…</td><td>&quot;glutathione (1mM)&quot;</td><td>37</td><td>7.0</td><td>0.07</td></tr><tr><td>&quot;ecoli_00178&quot;</td><td>&quot;b0002&quot;</td><td>4831</td><td>&quot;ICA&quot;</td><td>&quot;gth&quot;</td><td>2</td><td>&quot;Ying Hefner&quot;</td><td>&quot;12/23/17&quot;</td><td>&quot;Escherichia coli K-12 MG1655&quot;</td><td>&quot;M9&quot;</td><td>&quot;glucose(2)&quot;</td><td>&quot;NH4Cl(1)&quot;</td><td>&quot;O2&quot;</td><td>&quot;sauer trace element mixture w/…</td><td>&quot;glutathione (1mM)&quot;</td><td>37</td><td>7.0</td><td>0.07</td></tr><tr><td>&quot;ecoli_00178&quot;</td><td>&quot;b0003&quot;</td><td>1216</td><td>&quot;ICA&quot;</td><td>&quot;gth&quot;</td><td>2</td><td>&quot;Ying Hefner&quot;</td><td>&quot;12/23/17&quot;</td><td>&quot;Escherichia coli K-12 MG1655&quot;</td><td>&quot;M9&quot;</td><td>&quot;glucose(2)&quot;</td><td>&quot;NH4Cl(1)&quot;</td><td>&quot;O2&quot;</td><td>&quot;sauer trace element mixture w/…</td><td>&quot;glutathione (1mM)&quot;</td><td>37</td><td>7.0</td><td>0.07</td></tr><tr><td>&quot;ecoli_00178&quot;</td><td>&quot;b0004&quot;</td><td>1201</td><td>&quot;ICA&quot;</td><td>&quot;gth&quot;</td><td>2</td><td>&quot;Ying Hefner&quot;</td><td>&quot;12/23/17&quot;</td><td>&quot;Escherichia coli K-12 MG1655&quot;</td><td>&quot;M9&quot;</td><td>&quot;glucose(2)&quot;</td><td>&quot;NH4Cl(1)&quot;</td><td>&quot;O2&quot;</td><td>&quot;sauer trace element mixture w/…</td><td>&quot;glutathione (1mM)&quot;</td><td>37</td><td>7.0</td><td>0.07</td></tr><tr><td>&quot;ecoli_00178&quot;</td><td>&quot;b0005&quot;</td><td>77</td><td>&quot;ICA&quot;</td><td>&quot;gth&quot;</td><td>2</td><td>&quot;Ying Hefner&quot;</td><td>&quot;12/23/17&quot;</td><td>&quot;Escherichia coli K-12 MG1655&quot;</td><td>&quot;M9&quot;</td><td>&quot;glucose(2)&quot;</td><td>&quot;NH4Cl(1)&quot;</td><td>&quot;O2&quot;</td><td>&quot;sauer trace element mixture w/…</td><td>&quot;glutathione (1mM)&quot;</td><td>37</td><td>7.0</td><td>0.07</td></tr><tr><td>&hellip;</td><td>&hellip;</td><td>&hellip;</td><td>&hellip;</td><td>&hellip;</td><td>&hellip;</td><td>&hellip;</td><td>&hellip;</td><td>&hellip;</td><td>&hellip;</td><td>&hellip;</td><td>&hellip;</td><td>&hellip;</td><td>&hellip;</td><td>&hellip;</td><td>&hellip;</td><td>&hellip;</td><td>&hellip;</td></tr><tr><td>&quot;ecoli_00338&quot;</td><td>&quot;b4399&quot;</td><td>258</td><td>&quot;OxyR ALE&quot;</td><td>&quot;oxyR_ale18_h2o2&quot;</td><td>2</td><td>&quot;Amitesh Anand&quot;</td><td>&quot;3/8/19&quot;</td><td>&quot;Escherichia coli OxyR.18.39&quot;</td><td>&quot;M9&quot;</td><td>&quot;glucose(4)&quot;</td><td>&quot;NH4Cl(1)&quot;</td><td>&quot;O2&quot;</td><td>null</td><td>&quot;H2O2(2mM)&quot;</td><td>37</td><td>7.0</td><td>null</td></tr><tr><td>&quot;ecoli_00338&quot;</td><td>&quot;b4400&quot;</td><td>90</td><td>&quot;OxyR ALE&quot;</td><td>&quot;oxyR_ale18_h2o2&quot;</td><td>2</td><td>&quot;Amitesh Anand&quot;</td><td>&quot;3/8/19&quot;</td><td>&quot;Escherichia coli OxyR.18.39&quot;</td><td>&quot;M9&quot;</td><td>&quot;glucose(4)&quot;</td><td>&quot;NH4Cl(1)&quot;</td><td>&quot;O2&quot;</td><td>null</td><td>&quot;H2O2(2mM)&quot;</td><td>37</td><td>7.0</td><td>null</td></tr><tr><td>&quot;ecoli_00338&quot;</td><td>&quot;b4401&quot;</td><td>3605</td><td>&quot;OxyR ALE&quot;</td><td>&quot;oxyR_ale18_h2o2&quot;</td><td>2</td><td>&quot;Amitesh Anand&quot;</td><td>&quot;3/8/19&quot;</td><td>&quot;Escherichia coli OxyR.18.39&quot;</td><td>&quot;M9&quot;</td><td>&quot;glucose(4)&quot;</td><td>&quot;NH4Cl(1)&quot;</td><td>&quot;O2&quot;</td><td>null</td><td>&quot;H2O2(2mM)&quot;</td><td>37</td><td>7.0</td><td>null</td></tr><tr><td>&quot;ecoli_00338&quot;</td><td>&quot;b4402&quot;</td><td>15</td><td>&quot;OxyR ALE&quot;</td><td>&quot;oxyR_ale18_h2o2&quot;</td><td>2</td><td>&quot;Amitesh Anand&quot;</td><td>&quot;3/8/19&quot;</td><td>&quot;Escherichia coli OxyR.18.39&quot;</td><td>&quot;M9&quot;</td><td>&quot;glucose(4)&quot;</td><td>&quot;NH4Cl(1)&quot;</td><td>&quot;O2&quot;</td><td>null</td><td>&quot;H2O2(2mM)&quot;</td><td>37</td><td>7.0</td><td>null</td></tr><tr><td>&quot;ecoli_00338&quot;</td><td>&quot;b4403&quot;</td><td>237</td><td>&quot;OxyR ALE&quot;</td><td>&quot;oxyR_ale18_h2o2&quot;</td><td>2</td><td>&quot;Amitesh Anand&quot;</td><td>&quot;3/8/19&quot;</td><td>&quot;Escherichia coli OxyR.18.39&quot;</td><td>&quot;M9&quot;</td><td>&quot;glucose(4)&quot;</td><td>&quot;NH4Cl(1)&quot;</td><td>&quot;O2&quot;</td><td>null</td><td>&quot;H2O2(2mM)&quot;</td><td>37</td><td>7.0</td><td>null</td></tr></tbody></table></div>"
      ],
      "text/plain": [
       "shape: (3_571_100, 18)\n",
       "┌─────────────┬────────┬────────────┬──────────┬───┬─────────────┬─────────────┬─────┬─────────────┐\n",
       "│ Experiment  ┆ Geneid ┆ Gene_count ┆ study    ┆ … ┆ Supplement  ┆ Temperature ┆ pH  ┆ Growth Rate │\n",
       "│ ---         ┆ ---    ┆ ---        ┆ ---      ┆   ┆ ---         ┆ (C)         ┆ --- ┆ (1/hr)      │\n",
       "│ str         ┆ str    ┆ i64        ┆ str      ┆   ┆ str         ┆ ---         ┆ f64 ┆ ---         │\n",
       "│             ┆        ┆            ┆          ┆   ┆             ┆ i64         ┆     ┆ f64         │\n",
       "╞═════════════╪════════╪════════════╪══════════╪═══╪═════════════╪═════════════╪═════╪═════════════╡\n",
       "│ ecoli_00178 ┆ b0001  ┆ 1033       ┆ ICA      ┆ … ┆ glutathione ┆ 37          ┆ 7.0 ┆ 0.07        │\n",
       "│             ┆        ┆            ┆          ┆   ┆ (1mM)       ┆             ┆     ┆             │\n",
       "│ ecoli_00178 ┆ b0002  ┆ 4831       ┆ ICA      ┆ … ┆ glutathione ┆ 37          ┆ 7.0 ┆ 0.07        │\n",
       "│             ┆        ┆            ┆          ┆   ┆ (1mM)       ┆             ┆     ┆             │\n",
       "│ ecoli_00178 ┆ b0003  ┆ 1216       ┆ ICA      ┆ … ┆ glutathione ┆ 37          ┆ 7.0 ┆ 0.07        │\n",
       "│             ┆        ┆            ┆          ┆   ┆ (1mM)       ┆             ┆     ┆             │\n",
       "│ ecoli_00178 ┆ b0004  ┆ 1201       ┆ ICA      ┆ … ┆ glutathione ┆ 37          ┆ 7.0 ┆ 0.07        │\n",
       "│             ┆        ┆            ┆          ┆   ┆ (1mM)       ┆             ┆     ┆             │\n",
       "│ ecoli_00178 ┆ b0005  ┆ 77         ┆ ICA      ┆ … ┆ glutathione ┆ 37          ┆ 7.0 ┆ 0.07        │\n",
       "│             ┆        ┆            ┆          ┆   ┆ (1mM)       ┆             ┆     ┆             │\n",
       "│ …           ┆ …      ┆ …          ┆ …        ┆ … ┆ …           ┆ …           ┆ …   ┆ …           │\n",
       "│ ecoli_00338 ┆ b4399  ┆ 258        ┆ OxyR ALE ┆ … ┆ H2O2(2mM)   ┆ 37          ┆ 7.0 ┆ null        │\n",
       "│ ecoli_00338 ┆ b4400  ┆ 90         ┆ OxyR ALE ┆ … ┆ H2O2(2mM)   ┆ 37          ┆ 7.0 ┆ null        │\n",
       "│ ecoli_00338 ┆ b4401  ┆ 3605       ┆ OxyR ALE ┆ … ┆ H2O2(2mM)   ┆ 37          ┆ 7.0 ┆ null        │\n",
       "│ ecoli_00338 ┆ b4402  ┆ 15         ┆ OxyR ALE ┆ … ┆ H2O2(2mM)   ┆ 37          ┆ 7.0 ┆ null        │\n",
       "│ ecoli_00338 ┆ b4403  ┆ 237        ┆ OxyR ALE ┆ … ┆ H2O2(2mM)   ┆ 37          ┆ 7.0 ┆ null        │\n",
       "└─────────────┴────────┴────────────┴──────────┴───┴─────────────┴─────────────┴─────┴─────────────┘"
      ]
     },
     "execution_count": 4,
     "metadata": {},
     "output_type": "execute_result"
    }
   ],
   "source": [
    "# melt data\n",
    "dm = d.melt(id_vars=\"Geneid\", variable_name=\"Experiment\", value_name=\"Gene_count\")\n",
    "dj = dm.join(m, on=\"Experiment\")\n",
    "\n",
    "cols = ['Experiment', 'Geneid', 'Gene_count', 'study', 'condition_id', 'rep_id', 'creator', 'run_date', 'Strain Description', \n",
    " 'Base Media', 'Carbon Source (g/L)', 'Nitrogen Source (g/L)', 'Electron Acceptor', 'Trace Element Mixture', \n",
    " 'Supplement', 'Temperature (C)', 'pH', 'Growth Rate (1/hr)']\n",
    "\n",
    "dj.select(cols)"
   ]
  },
  {
   "cell_type": "code",
   "execution_count": 7,
   "id": "46bbf779-d959-4ece-b800-8bf8b74826bc",
   "metadata": {},
   "outputs": [
    {
     "data": {
      "text/plain": [
       "<seaborn.axisgrid.FacetGrid at 0x168737520>"
      ]
     },
     "execution_count": 7,
     "metadata": {},
     "output_type": "execute_result"
    },
    {
     "data": {
      "image/png": "[encoded data removed]",
      "text/plain": [
       "<Figure size 500x500 with 1 Axes>"
      ]
     },
     "metadata": {},
     "output_type": "display_data"
    }
   ],
   "source": [
    "sns.displot(x='Gene_count', data = dj.filter(pl.col('Geneid')=='b4154').to_pandas(), \n",
    "            log_scale=[10,False],  common_norm=False, legend=True)"
   ]
  },
  {
   "cell_type": "code",
   "execution_count": 14,
   "id": "bad52557-60c6-4895-8dd4-4418b74eb52d",
   "metadata": {},
   "outputs": [
    {
     "data": {
      "text/html": [
       "<div><style>\n",
       ".dataframe > thead > tr,\n",
       ".dataframe > tbody > tr {\n",
       "  text-align: right;\n",
       "  white-space: pre-wrap;\n",
       "}\n",
       "</style>\n",
       "<small>shape: (20, 36)</small><table border=\"1\" class=\"dataframe\"><thead><tr><th>Geneid</th><th>Experiment</th><th>Gene_count</th><th>sample_id</th><th>study</th><th>project_id</th><th>condition_id</th><th>rep_id</th><th>contact</th><th>creator</th><th>run_date</th><th>Strain Description</th><th>Strain</th><th>Base Media</th><th>Carbon Source (g/L)</th><th>Nitrogen Source (g/L)</th><th>Electron Acceptor</th><th>Trace Element Mixture</th><th>Supplement</th><th>Temperature (C)</th><th>pH</th><th>Antibiotic for selection</th><th>Culture Type</th><th>Growth Rate (1/hr)</th><th>Evolved Sample</th><th>Isolate Type</th><th>Sequencing Machine</th><th>Additional Details</th><th>Biological Replicates</th><th>DOI</th><th>GEO</th><th>Published</th><th>SRX</th><th>Run</th><th>LibraryLayout</th><th>Platform</th></tr><tr><td>str</td><td>str</td><td>i64</td><td>str</td><td>str</td><td>str</td><td>str</td><td>i64</td><td>str</td><td>str</td><td>str</td><td>str</td><td>str</td><td>str</td><td>str</td><td>str</td><td>str</td><td>str</td><td>str</td><td>i64</td><td>f64</td><td>str</td><td>str</td><td>f64</td><td>str</td><td>str</td><td>str</td><td>str</td><td>i64</td><td>str</td><td>str</td><td>i64</td><td>str</td><td>str</td><td>str</td><td>str</td></tr></thead><tbody><tr><td>&quot;b4154&quot;</td><td>&quot;ecoli_00457&quot;</td><td>25675</td><td>&quot;tcs__del_atoC_LiCl__1&quot;</td><td>&quot;Two Component Systems&quot;</td><td>&quot;tcs&quot;</td><td>&quot;del_atoC_LiCl&quot;</td><td>1</td><td>&quot;Katherine Decker&quot;</td><td>&quot;Julia Kleinmanns&quot;</td><td>&quot;9/20/19&quot;</td><td>&quot;Escherichia coli K-12 MG1655 d…</td><td>&quot;MG1655&quot;</td><td>&quot;M9&quot;</td><td>&quot;glucose(4)&quot;</td><td>&quot;NH4Cl(1)&quot;</td><td>&quot;O2&quot;</td><td>null</td><td>&quot;LiCl(10mM)&quot;</td><td>37</td><td>7.0</td><td>null</td><td>&quot;Batch&quot;</td><td>null</td><td>&quot;No&quot;</td><td>null</td><td>null</td><td>null</td><td>2</td><td>null</td><td>null</td><td>0</td><td>null</td><td>null</td><td>&quot;PAIRED&quot;</td><td>&quot;ILLUMINA&quot;</td></tr><tr><td>&quot;b4154&quot;</td><td>&quot;ecoli_00079&quot;</td><td>27455</td><td>&quot;minspan__bw_delmntr__1&quot;</td><td>&quot;MinSpan&quot;</td><td>&quot;minspan&quot;</td><td>&quot;bw_delmntr&quot;</td><td>1</td><td>&quot;Aarash Bordbar&quot;</td><td>&quot;Haythem Latif&quot;</td><td>&quot;10/1/12&quot;</td><td>&quot;Escherichia coli BW25113 del_m…</td><td>&quot;BW25113&quot;</td><td>&quot;M9&quot;</td><td>&quot;glucose(4)&quot;</td><td>&quot;NH4Cl(1)&quot;</td><td>&quot;O2&quot;</td><td>&quot;sauer trace element mixture&quot;</td><td>null</td><td>37</td><td>7.0</td><td>&quot;Kanamycin&quot;</td><td>&quot;Batch&quot;</td><td>null</td><td>&quot;No&quot;</td><td>null</td><td>&quot;GAIIX&quot;</td><td>null</td><td>1</td><td>&quot;doi.org/10.15252/msb.20145243&quot;</td><td>&quot;GSE48324&quot;</td><td>1</td><td>&quot;SRX315224&quot;</td><td>&quot;SRR922272&quot;</td><td>&quot;PAIRED&quot;</td><td>&quot;ILLUMINA&quot;</td></tr><tr><td>&quot;b4154&quot;</td><td>&quot;ecoli_00456&quot;</td><td>28139</td><td>&quot;tcs__del_atoC_LiAcet__2&quot;</td><td>&quot;Two Component Systems&quot;</td><td>&quot;tcs&quot;</td><td>&quot;del_atoC_LiAcet&quot;</td><td>2</td><td>&quot;Katherine Decker&quot;</td><td>&quot;Julia Kleinmanns&quot;</td><td>&quot;9/20/19&quot;</td><td>&quot;Escherichia coli K-12 MG1655 d…</td><td>&quot;MG1655&quot;</td><td>&quot;M9&quot;</td><td>&quot;glucose(4)&quot;</td><td>&quot;NH4Cl(1)&quot;</td><td>&quot;O2&quot;</td><td>null</td><td>&quot;Acetoacetate/LiCl(10mM)&quot;</td><td>37</td><td>7.0</td><td>null</td><td>&quot;Batch&quot;</td><td>null</td><td>&quot;No&quot;</td><td>null</td><td>null</td><td>null</td><td>2</td><td>null</td><td>null</td><td>0</td><td>null</td><td>null</td><td>&quot;PAIRED&quot;</td><td>&quot;ILLUMINA&quot;</td></tr><tr><td>&quot;b4154&quot;</td><td>&quot;ecoli_00468&quot;</td><td>28662</td><td>&quot;tcs__del_btsR_lb__2&quot;</td><td>&quot;Two Component Systems&quot;</td><td>&quot;tcs&quot;</td><td>&quot;del_btsR_lb&quot;</td><td>2</td><td>&quot;Katherine Decker&quot;</td><td>&quot;Julia Kleinmanns&quot;</td><td>&quot;6/27/19&quot;</td><td>&quot;Escherichia coli K-12 MG1655 d…</td><td>&quot;MG1655&quot;</td><td>&quot;LB&quot;</td><td>null</td><td>null</td><td>&quot;O2&quot;</td><td>null</td><td>null</td><td>37</td><td>7.0</td><td>null</td><td>&quot;Batch&quot;</td><td>null</td><td>&quot;No&quot;</td><td>null</td><td>null</td><td>null</td><td>2</td><td>null</td><td>null</td><td>0</td><td>null</td><td>null</td><td>&quot;PAIRED&quot;</td><td>&quot;ILLUMINA&quot;</td></tr><tr><td>&quot;b4154&quot;</td><td>&quot;ecoli_00205&quot;</td><td>29940</td><td>&quot;ytf__delyiaJ__1&quot;</td><td>&quot;yTF&quot;</td><td>&quot;ytf&quot;</td><td>&quot;delyiaJ&quot;</td><td>1</td><td>&quot;Ye Gao&quot;</td><td>&quot;Ye Gao&quot;</td><td>&quot;10/2/17&quot;</td><td>&quot;Escherichia coli K-12 MG1655 d…</td><td>&quot;MG1655&quot;</td><td>&quot;M9&quot;</td><td>&quot;glucose(2)&quot;</td><td>&quot;NH4Cl(1)&quot;</td><td>&quot;O2&quot;</td><td>&quot;sauer trace element mixture&quot;</td><td>null</td><td>37</td><td>7.0</td><td>&quot;Kanamycin&quot;</td><td>&quot;Batch&quot;</td><td>0.66</td><td>&quot;No&quot;</td><td>null</td><td>&quot;HiSeq 4000&quot;</td><td>null</td><td>2</td><td>&quot;doi.org/10.1093/nar/gky752&quot;</td><td>&quot;GSE111094&quot;</td><td>1</td><td>&quot;SRX3741947&quot;</td><td>&quot;SRR6782003&quot;</td><td>&quot;PAIRED&quot;</td><td>&quot;ILLUMINA&quot;</td></tr><tr><td>&hellip;</td><td>&hellip;</td><td>&hellip;</td><td>&hellip;</td><td>&hellip;</td><td>&hellip;</td><td>&hellip;</td><td>&hellip;</td><td>&hellip;</td><td>&hellip;</td><td>&hellip;</td><td>&hellip;</td><td>&hellip;</td><td>&hellip;</td><td>&hellip;</td><td>&hellip;</td><td>&hellip;</td><td>&hellip;</td><td>&hellip;</td><td>&hellip;</td><td>&hellip;</td><td>&hellip;</td><td>&hellip;</td><td>&hellip;</td><td>&hellip;</td><td>&hellip;</td><td>&hellip;</td><td>&hellip;</td><td>&hellip;</td><td>&hellip;</td><td>&hellip;</td><td>&hellip;</td><td>&hellip;</td><td>&hellip;</td><td>&hellip;</td><td>&hellip;</td></tr><tr><td>&quot;b4154&quot;</td><td>&quot;ecoli_00311&quot;</td><td>40572</td><td>&quot;quinone__menF_ale8__1&quot;</td><td>&quot;Respiratory quinone&quot;</td><td>&quot;quinone&quot;</td><td>&quot;menF_ale8&quot;</td><td>1</td><td>&quot;Amitesh Anand&quot;</td><td>&quot;Amitesh Anand&quot;</td><td>&quot;5/21/18&quot;</td><td>&quot;Escherichia coli EEP_menF.8.45…</td><td>&quot;GMOS&quot;</td><td>&quot;M9&quot;</td><td>&quot;glucose(4)&quot;</td><td>&quot;NH4Cl(1)&quot;</td><td>&quot;O2&quot;</td><td>&quot;sauer trace element mixture&quot;</td><td>null</td><td>37</td><td>7.0</td><td>null</td><td>&quot;Batch&quot;</td><td>null</td><td>&quot;Endpoint&quot;</td><td>&quot;Clonal&quot;</td><td>&quot;HiSeq 4000&quot;</td><td>null</td><td>2</td><td>null</td><td>null</td><td>0</td><td>null</td><td>null</td><td>&quot;PAIRED&quot;</td><td>&quot;ILLUMINA&quot;</td></tr><tr><td>&quot;b4154&quot;</td><td>&quot;ecoli_00478&quot;</td><td>40735</td><td>&quot;tcs__del_cusR_lb__2&quot;</td><td>&quot;Two Component Systems&quot;</td><td>&quot;tcs&quot;</td><td>&quot;del_cusR_lb&quot;</td><td>2</td><td>&quot;Katherine Decker&quot;</td><td>&quot;Julia Kleinmanns&quot;</td><td>&quot;6/27/19&quot;</td><td>&quot;Escherichia coli K-12 MG1655 d…</td><td>&quot;MG1655&quot;</td><td>&quot;LB&quot;</td><td>null</td><td>null</td><td>&quot;O2&quot;</td><td>null</td><td>null</td><td>37</td><td>7.0</td><td>null</td><td>&quot;Batch&quot;</td><td>null</td><td>&quot;No&quot;</td><td>null</td><td>null</td><td>null</td><td>2</td><td>null</td><td>null</td><td>0</td><td>null</td><td>null</td><td>&quot;PAIRED&quot;</td><td>&quot;ILLUMINA&quot;</td></tr><tr><td>&quot;b4154&quot;</td><td>&quot;ecoli_00533&quot;</td><td>45479</td><td>&quot;ros_tale__7_103_0pq__2&quot;</td><td>&quot;ROS TALE&quot;</td><td>&quot;ros_tale&quot;</td><td>&quot;7_103_0pq&quot;</td><td>2</td><td>&quot;Kevin Rychel&quot;</td><td>&quot;Justin Tan&quot;</td><td>&quot;9/20/19&quot;</td><td>&quot;Escherichia Coli ERS.7.103&quot;</td><td>&quot;GMOS&quot;</td><td>&quot;M9&quot;</td><td>&quot;glucose(4)&quot;</td><td>&quot;NH4Cl(1)&quot;</td><td>&quot;O2&quot;</td><td>null</td><td>null</td><td>37</td><td>7.0</td><td>null</td><td>&quot;Batch&quot;</td><td>null</td><td>&quot;Endpoint&quot;</td><td>&quot;Clonal&quot;</td><td>&quot;NextSeq&quot;</td><td>&quot;Spacer development test&quot;</td><td>4</td><td>null</td><td>null</td><td>0</td><td>null</td><td>null</td><td>&quot;PAIRED&quot;</td><td>&quot;ILLUMINA&quot;</td></tr><tr><td>&quot;b4154&quot;</td><td>&quot;ecoli_00477&quot;</td><td>53003</td><td>&quot;tcs__del_cusR_lb__1&quot;</td><td>&quot;Two Component Systems&quot;</td><td>&quot;tcs&quot;</td><td>&quot;del_cusR_lb&quot;</td><td>1</td><td>&quot;Katherine Decker&quot;</td><td>&quot;Julia Kleinmanns&quot;</td><td>&quot;6/27/19&quot;</td><td>&quot;Escherichia coli K-12 MG1655 d…</td><td>&quot;MG1655&quot;</td><td>&quot;LB&quot;</td><td>null</td><td>null</td><td>&quot;O2&quot;</td><td>null</td><td>null</td><td>37</td><td>7.0</td><td>null</td><td>&quot;Batch&quot;</td><td>null</td><td>&quot;No&quot;</td><td>null</td><td>null</td><td>null</td><td>2</td><td>null</td><td>null</td><td>0</td><td>null</td><td>null</td><td>&quot;PAIRED&quot;</td><td>&quot;ILLUMINA&quot;</td></tr><tr><td>&quot;b4154&quot;</td><td>&quot;ecoli_00138&quot;</td><td>64570</td><td>&quot;42c__42c_ale6__1&quot;</td><td>&quot;42C Evolution&quot;</td><td>&quot;42c&quot;</td><td>&quot;42c_ale6&quot;</td><td>1</td><td>&quot;Ryan LaCroix&quot;</td><td>&quot;Richard Szubin&quot;</td><td>&quot;5/3/13&quot;</td><td>&quot;Escherichia coli 42C.6.164.1&quot;</td><td>&quot;MG1655&quot;</td><td>&quot;M9&quot;</td><td>&quot;glucose(4)&quot;</td><td>&quot;NH4Cl(1)&quot;</td><td>&quot;O2&quot;</td><td>&quot;sauer trace element mixture&quot;</td><td>null</td><td>42</td><td>7.0</td><td>null</td><td>&quot;Batch&quot;</td><td>0.97</td><td>&quot;Endpoint&quot;</td><td>&quot;Clonal&quot;</td><td>&quot;MiSeq&quot;</td><td>&quot;42C A6 F164 I1&quot;</td><td>1</td><td>&quot;doi.org/10.1093/molbev/msu209&quot;</td><td>&quot;GSE132442&quot;</td><td>1</td><td>&quot;SRX6027830&quot;</td><td>&quot;SRR9257369&quot;</td><td>&quot;PAIRED&quot;</td><td>&quot;ILLUMINA&quot;</td></tr></tbody></table></div>"
      ],
      "text/plain": [
       "shape: (20, 36)\n",
       "┌────────┬────────────┬────────────┬────────────┬───┬───────────┬───────────┬───────────┬──────────┐\n",
       "│ Geneid ┆ Experiment ┆ Gene_count ┆ sample_id  ┆ … ┆ SRX       ┆ Run       ┆ LibraryLa ┆ Platform │\n",
       "│ ---    ┆ ---        ┆ ---        ┆ ---        ┆   ┆ ---       ┆ ---       ┆ yout      ┆ ---      │\n",
       "│ str    ┆ str        ┆ i64        ┆ str        ┆   ┆ str       ┆ str       ┆ ---       ┆ str      │\n",
       "│        ┆            ┆            ┆            ┆   ┆           ┆           ┆ str       ┆          │\n",
       "╞════════╪════════════╪════════════╪════════════╪═══╪═══════════╪═══════════╪═══════════╪══════════╡\n",
       "│ b4154  ┆ ecoli_0045 ┆ 25675      ┆ tcs__del_a ┆ … ┆ null      ┆ null      ┆ PAIRED    ┆ ILLUMINA │\n",
       "│        ┆ 7          ┆            ┆ toC_LiCl__ ┆   ┆           ┆           ┆           ┆          │\n",
       "│        ┆            ┆            ┆ 1          ┆   ┆           ┆           ┆           ┆          │\n",
       "│ b4154  ┆ ecoli_0007 ┆ 27455      ┆ minspan__b ┆ … ┆ SRX315224 ┆ SRR922272 ┆ PAIRED    ┆ ILLUMINA │\n",
       "│        ┆ 9          ┆            ┆ w_delmntr_ ┆   ┆           ┆           ┆           ┆          │\n",
       "│        ┆            ┆            ┆ _1         ┆   ┆           ┆           ┆           ┆          │\n",
       "│ b4154  ┆ ecoli_0045 ┆ 28139      ┆ tcs__del_a ┆ … ┆ null      ┆ null      ┆ PAIRED    ┆ ILLUMINA │\n",
       "│        ┆ 6          ┆            ┆ toC_LiAcet ┆   ┆           ┆           ┆           ┆          │\n",
       "│        ┆            ┆            ┆ __2        ┆   ┆           ┆           ┆           ┆          │\n",
       "│ b4154  ┆ ecoli_0046 ┆ 28662      ┆ tcs__del_b ┆ … ┆ null      ┆ null      ┆ PAIRED    ┆ ILLUMINA │\n",
       "│        ┆ 8          ┆            ┆ tsR_lb__2  ┆   ┆           ┆           ┆           ┆          │\n",
       "│ b4154  ┆ ecoli_0020 ┆ 29940      ┆ ytf__delyi ┆ … ┆ SRX374194 ┆ SRR678200 ┆ PAIRED    ┆ ILLUMINA │\n",
       "│        ┆ 5          ┆            ┆ aJ__1      ┆   ┆ 7         ┆ 3         ┆           ┆          │\n",
       "│ …      ┆ …          ┆ …          ┆ …          ┆ … ┆ …         ┆ …         ┆ …         ┆ …        │\n",
       "│ b4154  ┆ ecoli_0031 ┆ 40572      ┆ quinone__m ┆ … ┆ null      ┆ null      ┆ PAIRED    ┆ ILLUMINA │\n",
       "│        ┆ 1          ┆            ┆ enF_ale8__ ┆   ┆           ┆           ┆           ┆          │\n",
       "│        ┆            ┆            ┆ 1          ┆   ┆           ┆           ┆           ┆          │\n",
       "│ b4154  ┆ ecoli_0047 ┆ 40735      ┆ tcs__del_c ┆ … ┆ null      ┆ null      ┆ PAIRED    ┆ ILLUMINA │\n",
       "│        ┆ 8          ┆            ┆ usR_lb__2  ┆   ┆           ┆           ┆           ┆          │\n",
       "│ b4154  ┆ ecoli_0053 ┆ 45479      ┆ ros_tale__ ┆ … ┆ null      ┆ null      ┆ PAIRED    ┆ ILLUMINA │\n",
       "│        ┆ 3          ┆            ┆ 7_103_0pq_ ┆   ┆           ┆           ┆           ┆          │\n",
       "│        ┆            ┆            ┆ _2         ┆   ┆           ┆           ┆           ┆          │\n",
       "│ b4154  ┆ ecoli_0047 ┆ 53003      ┆ tcs__del_c ┆ … ┆ null      ┆ null      ┆ PAIRED    ┆ ILLUMINA │\n",
       "│        ┆ 7          ┆            ┆ usR_lb__1  ┆   ┆           ┆           ┆           ┆          │\n",
       "│ b4154  ┆ ecoli_0013 ┆ 64570      ┆ 42c__42c_a ┆ … ┆ SRX602783 ┆ SRR925736 ┆ PAIRED    ┆ ILLUMINA │\n",
       "│        ┆ 8          ┆            ┆ le6__1     ┆   ┆ 0         ┆ 9         ┆           ┆          │\n",
       "└────────┴────────────┴────────────┴────────────┴───┴───────────┴───────────┴───────────┴──────────┘"
      ]
     },
     "execution_count": 14,
     "metadata": {},
     "output_type": "execute_result"
    }
   ],
   "source": [
    "dj.filter(pl.col(\"Geneid\") == \"b4154\").sort(pl.col(\"Gene_count\")).tail(20)"
   ]
  },
  {
   "cell_type": "code",
   "execution_count": 8,
   "id": "720cf8e3-caba-4180-aad2-3d9eb124df48",
   "metadata": {},
   "outputs": [
    {
     "data": {
      "text/plain": [
       "<seaborn.axisgrid.FacetGrid at 0x1775f8460>"
      ]
     },
     "execution_count": 8,
     "metadata": {},
     "output_type": "execute_result"
    },
    {
     "data": {
      "image/png": "[encoded data removed]",
      "text/plain": [
       "<Figure size 648.625x500 with 1 Axes>"
      ]
     },
     "metadata": {},
     "output_type": "display_data"
    }
   ],
   "source": [
    "sns.displot(x='Gene_count', data = dj.filter(pl.col('Geneid')=='b4154').to_pandas(), \n",
    "            kind='kde', log_scale=[10,False], hue='Electron Acceptor', common_norm=False)"
   ]
  },
  {
   "cell_type": "markdown",
   "id": "d624528b-f8d2-408c-b8c2-ccb702a1434c",
   "metadata": {},
   "source": [
    "# Li 2014"
   ]
  },
  {
   "cell_type": "code",
   "execution_count": 17,
   "id": "3c705654-43cf-413d-81b8-fee6ad7eafe4",
   "metadata": {},
   "outputs": [
    {
     "data": {
      "text/html": [
       "<div><style>\n",
       ".dataframe > thead > tr,\n",
       ".dataframe > tbody > tr {\n",
       "  text-align: right;\n",
       "  white-space: pre-wrap;\n",
       "}\n",
       "</style>\n",
       "<small>shape: (5, 4)</small><table border=\"1\" class=\"dataframe\"><thead><tr><th>Gene</th><th>MOPS complete</th><th>MOPS minimal</th><th>MOPS complete without methionine</th></tr><tr><td>str</td><td>i64</td><td>i64</td><td>i64</td></tr></thead><tbody><tr><td>&quot;aaeA&quot;</td><td>62</td><td>5</td><td>21</td></tr><tr><td>&quot;aaeB&quot;</td><td>16</td><td>2</td><td>0</td></tr><tr><td>&quot;aaeR&quot;</td><td>203</td><td>79</td><td>141</td></tr><tr><td>&quot;aaeX&quot;</td><td>28</td><td>5</td><td>11</td></tr><tr><td>&quot;aas&quot;</td><td>188</td><td>80</td><td>162</td></tr></tbody></table></div>"
      ],
      "text/plain": [
       "shape: (5, 4)\n",
       "┌──────┬───────────────┬──────────────┬──────────────────────────────────┐\n",
       "│ Gene ┆ MOPS complete ┆ MOPS minimal ┆ MOPS complete without methionine │\n",
       "│ ---  ┆ ---           ┆ ---          ┆ ---                              │\n",
       "│ str  ┆ i64           ┆ i64          ┆ i64                              │\n",
       "╞══════╪═══════════════╪══════════════╪══════════════════════════════════╡\n",
       "│ aaeA ┆ 62            ┆ 5            ┆ 21                               │\n",
       "│ aaeB ┆ 16            ┆ 2            ┆ 0                                │\n",
       "│ aaeR ┆ 203           ┆ 79           ┆ 141                              │\n",
       "│ aaeX ┆ 28            ┆ 5            ┆ 11                               │\n",
       "│ aas  ┆ 188           ┆ 80           ┆ 162                              │\n",
       "└──────┴───────────────┴──────────────┴──────────────────────────────────┘"
      ]
     },
     "execution_count": 17,
     "metadata": {},
     "output_type": "execute_result"
    }
   ],
   "source": [
    "li = pl.read_csv(\"external_data/Li_2014_profiling.csv\")\n",
    "li.head(5)"
   ]
  },
  {
   "cell_type": "code",
   "execution_count": 18,
   "id": "720d1b9b-4bf8-463f-beaf-def9f0c457bf",
   "metadata": {},
   "outputs": [
    {
     "data": {
      "text/html": [
       "<div><style>\n",
       ".dataframe > thead > tr,\n",
       ".dataframe > tbody > tr {\n",
       "  text-align: right;\n",
       "  white-space: pre-wrap;\n",
       "}\n",
       "</style>\n",
       "<small>shape: (5, 6)</small><table border=\"1\" class=\"dataframe\"><thead><tr><th>Gene</th><th>MOPS complete</th><th>MOPS minimal</th><th>MOPS complete without methionine</th><th>dropout FC</th><th>minimal FC</th></tr><tr><td>str</td><td>i64</td><td>i64</td><td>i64</td><td>f64</td><td>f64</td></tr></thead><tbody><tr><td>&quot;aaeA&quot;</td><td>62</td><td>5</td><td>21</td><td>0.430556</td><td>0.208333</td></tr><tr><td>&quot;aaeB&quot;</td><td>16</td><td>2</td><td>0</td><td>0.384615</td><td>0.461538</td></tr><tr><td>&quot;aaeR&quot;</td><td>203</td><td>79</td><td>141</td><td>0.70892</td><td>0.41784</td></tr><tr><td>&quot;aaeX&quot;</td><td>28</td><td>5</td><td>11</td><td>0.552632</td><td>0.394737</td></tr><tr><td>&quot;aas&quot;</td><td>188</td><td>80</td><td>162</td><td>0.868687</td><td>0.454545</td></tr></tbody></table></div>"
      ],
      "text/plain": [
       "shape: (5, 6)\n",
       "┌──────┬───────────────┬──────────────┬──────────────────────────────────┬────────────┬────────────┐\n",
       "│ Gene ┆ MOPS complete ┆ MOPS minimal ┆ MOPS complete without methionine ┆ dropout FC ┆ minimal FC │\n",
       "│ ---  ┆ ---           ┆ ---          ┆ ---                              ┆ ---        ┆ ---        │\n",
       "│ str  ┆ i64           ┆ i64          ┆ i64                              ┆ f64        ┆ f64        │\n",
       "╞══════╪═══════════════╪══════════════╪══════════════════════════════════╪════════════╪════════════╡\n",
       "│ aaeA ┆ 62            ┆ 5            ┆ 21                               ┆ 0.430556   ┆ 0.208333   │\n",
       "│ aaeB ┆ 16            ┆ 2            ┆ 0                                ┆ 0.384615   ┆ 0.461538   │\n",
       "│ aaeR ┆ 203           ┆ 79           ┆ 141                              ┆ 0.70892    ┆ 0.41784    │\n",
       "│ aaeX ┆ 28            ┆ 5            ┆ 11                               ┆ 0.552632   ┆ 0.394737   │\n",
       "│ aas  ┆ 188           ┆ 80           ┆ 162                              ┆ 0.868687   ┆ 0.454545   │\n",
       "└──────┴───────────────┴──────────────┴──────────────────────────────────┴────────────┴────────────┘"
      ]
     },
     "execution_count": 18,
     "metadata": {},
     "output_type": "execute_result"
    }
   ],
   "source": [
    "li = li.with_columns( ( (pl.col(\"MOPS complete without methionine\") + 10) / (10 + pl.col(\"MOPS complete\"))).alias(\"dropout FC\") )\n",
    "li = li.with_columns( ( (pl.col(\"MOPS minimal\") + 10) / (10 + pl.col(\"MOPS complete\"))).alias(\"minimal FC\") )\n",
    "li.head(5)"
   ]
  },
  {
   "cell_type": "code",
   "execution_count": 368,
   "id": "eea69da5-561c-4e00-8fe5-471d78d76428",
   "metadata": {},
   "outputs": [
    {
     "data": {
      "text/html": [
       "<div><style>\n",
       ".dataframe > thead > tr,\n",
       ".dataframe > tbody > tr {\n",
       "  text-align: right;\n",
       "  white-space: pre-wrap;\n",
       "}\n",
       "</style>\n",
       "<small>shape: (40, 6)</small><table border=\"1\" class=\"dataframe\"><thead><tr><th>Gene</th><th>MOPS complete</th><th>MOPS minimal</th><th>MOPS complete without methionine</th><th>dropout FC</th><th>minimal FC</th></tr><tr><td>str</td><td>i64</td><td>i64</td><td>i64</td><td>f64</td><td>f64</td></tr></thead><tbody><tr><td>&quot;gsiB&quot;</td><td>71</td><td>574</td><td>686</td><td>8.592593</td><td>7.209877</td></tr><tr><td>&quot;ilvX&quot;</td><td>102</td><td>972</td><td>1022</td><td>9.214286</td><td>8.767857</td></tr><tr><td>&quot;iaaA&quot;</td><td>74</td><td>257</td><td>809</td><td>9.75</td><td>3.178571</td></tr><tr><td>&quot;metL&quot;</td><td>972</td><td>581</td><td>9779</td><td>9.968432</td><td>0.601833</td></tr><tr><td>&quot;metC&quot;</td><td>596</td><td>1256</td><td>7277</td><td>12.024752</td><td>2.089109</td></tr><tr><td>&quot;cysM&quot;</td><td>473</td><td>1411</td><td>5838</td><td>12.10766</td><td>2.942029</td></tr><tr><td>&quot;iraD&quot;</td><td>7</td><td>44</td><td>218</td><td>13.411765</td><td>3.176471</td></tr><tr><td>&quot;yeeD&quot;</td><td>477</td><td>2008</td><td>6555</td><td>13.480493</td><td>4.143737</td></tr><tr><td>&quot;znuA&quot;</td><td>3453</td><td>25238</td><td>57733</td><td>16.674271</td><td>7.290788</td></tr><tr><td>&quot;tauA&quot;</td><td>3</td><td>39</td><td>231</td><td>18.538462</td><td>3.769231</td></tr><tr><td>&quot;fliY&quot;</td><td>1242</td><td>7219</td><td>26760</td><td>21.381789</td><td>5.773962</td></tr><tr><td>&quot;yeeE&quot;</td><td>19</td><td>290</td><td>785</td><td>27.413793</td><td>10.344828</td></tr><tr><td>&hellip;</td><td>&hellip;</td><td>&hellip;</td><td>&hellip;</td><td>&hellip;</td><td>&hellip;</td></tr><tr><td>&quot;cysA&quot;</td><td>36</td><td>2214</td><td>7403</td><td>161.152174</td><td>48.347826</td></tr><tr><td>&quot;cbl&quot;</td><td>6</td><td>372</td><td>2683</td><td>168.3125</td><td>23.875</td></tr><tr><td>&quot;ykgM&quot;</td><td>487</td><td>2318</td><td>85458</td><td>171.967807</td><td>4.684105</td></tr><tr><td>&quot;cysC&quot;</td><td>8</td><td>957</td><td>3541</td><td>197.277778</td><td>53.722222</td></tr><tr><td>&quot;ykgO&quot;</td><td>493</td><td>2593</td><td>101366</td><td>201.542744</td><td>5.17495</td></tr><tr><td>&quot;cysI&quot;</td><td>43</td><td>2569</td><td>11068</td><td>209.018868</td><td>48.660377</td></tr><tr><td>&quot;cysJ&quot;</td><td>34</td><td>2057</td><td>9860</td><td>224.318182</td><td>46.977273</td></tr><tr><td>&quot;cysP&quot;</td><td>24</td><td>2281</td><td>8037</td><td>236.676471</td><td>67.382353</td></tr><tr><td>&quot;metE&quot;</td><td>571</td><td>63552</td><td>282818</td><td>486.795181</td><td>109.401033</td></tr><tr><td>&quot;cysN&quot;</td><td>16</td><td>3066</td><td>13629</td><td>524.576923</td><td>118.307692</td></tr><tr><td>&quot;cysD&quot;</td><td>10</td><td>4115</td><td>22588</td><td>1129.9</td><td>206.25</td></tr><tr><td>&quot;sbp&quot;</td><td>7</td><td>831</td><td>28069</td><td>1651.705882</td><td>49.470588</td></tr></tbody></table></div>"
      ],
      "text/plain": [
       "shape: (40, 6)\n",
       "┌──────┬───────────────┬──────────────┬───────────────────────┬─────────────┬────────────┐\n",
       "│ Gene ┆ MOPS complete ┆ MOPS minimal ┆ MOPS complete without ┆ dropout FC  ┆ minimal FC │\n",
       "│ ---  ┆ ---           ┆ ---          ┆ methionine            ┆ ---         ┆ ---        │\n",
       "│ str  ┆ i64           ┆ i64          ┆ ---                   ┆ f64         ┆ f64        │\n",
       "│      ┆               ┆              ┆ i64                   ┆             ┆            │\n",
       "╞══════╪═══════════════╪══════════════╪═══════════════════════╪═════════════╪════════════╡\n",
       "│ gsiB ┆ 71            ┆ 574          ┆ 686                   ┆ 8.592593    ┆ 7.209877   │\n",
       "│ ilvX ┆ 102           ┆ 972          ┆ 1022                  ┆ 9.214286    ┆ 8.767857   │\n",
       "│ iaaA ┆ 74            ┆ 257          ┆ 809                   ┆ 9.75        ┆ 3.178571   │\n",
       "│ metL ┆ 972           ┆ 581          ┆ 9779                  ┆ 9.968432    ┆ 0.601833   │\n",
       "│ metC ┆ 596           ┆ 1256         ┆ 7277                  ┆ 12.024752   ┆ 2.089109   │\n",
       "│ …    ┆ …             ┆ …            ┆ …                     ┆ …           ┆ …          │\n",
       "│ cysP ┆ 24            ┆ 2281         ┆ 8037                  ┆ 236.676471  ┆ 67.382353  │\n",
       "│ metE ┆ 571           ┆ 63552        ┆ 282818                ┆ 486.795181  ┆ 109.401033 │\n",
       "│ cysN ┆ 16            ┆ 3066         ┆ 13629                 ┆ 524.576923  ┆ 118.307692 │\n",
       "│ cysD ┆ 10            ┆ 4115         ┆ 22588                 ┆ 1129.9      ┆ 206.25     │\n",
       "│ sbp  ┆ 7             ┆ 831          ┆ 28069                 ┆ 1651.705882 ┆ 49.470588  │\n",
       "└──────┴───────────────┴──────────────┴───────────────────────┴─────────────┴────────────┘"
      ]
     },
     "execution_count": 368,
     "metadata": {},
     "output_type": "execute_result"
    }
   ],
   "source": [
    "li.sort(\"dropout FC\").tail(40)"
   ]
  },
  {
   "cell_type": "code",
   "execution_count": 20,
   "id": "d9631714-2eb7-4856-be64-9fbbc2d59c83",
   "metadata": {},
   "outputs": [
    {
     "data": {
      "text/html": [
       "<div><style>\n",
       ".dataframe > thead > tr,\n",
       ".dataframe > tbody > tr {\n",
       "  text-align: right;\n",
       "  white-space: pre-wrap;\n",
       "}\n",
       "</style>\n",
       "<small>shape: (1, 6)</small><table border=\"1\" class=\"dataframe\"><thead><tr><th>Gene</th><th>MOPS complete</th><th>MOPS minimal</th><th>MOPS complete without methionine</th><th>dropout FC</th><th>minimal FC</th></tr><tr><td>str</td><td>i64</td><td>i64</td><td>i64</td><td>f64</td><td>f64</td></tr></thead><tbody><tr><td>null</td><td>18051444</td><td>5627623</td><td>10452920</td><td>9375.465686</td><td>6772.563954</td></tr></tbody></table></div>"
      ],
      "text/plain": [
       "shape: (1, 6)\n",
       "┌──────┬───────────────┬──────────────┬───────────────────────┬─────────────┬─────────────┐\n",
       "│ Gene ┆ MOPS complete ┆ MOPS minimal ┆ MOPS complete without ┆ dropout FC  ┆ minimal FC  │\n",
       "│ ---  ┆ ---           ┆ ---          ┆ methionine            ┆ ---         ┆ ---         │\n",
       "│ str  ┆ i64           ┆ i64          ┆ ---                   ┆ f64         ┆ f64         │\n",
       "│      ┆               ┆              ┆ i64                   ┆             ┆             │\n",
       "╞══════╪═══════════════╪══════════════╪═══════════════════════╪═════════════╪═════════════╡\n",
       "│ null ┆ 18051444      ┆ 5627623      ┆ 10452920              ┆ 9375.465686 ┆ 6772.563954 │\n",
       "└──────┴───────────────┴──────────────┴───────────────────────┴─────────────┴─────────────┘"
      ]
     },
     "execution_count": 20,
     "metadata": {},
     "output_type": "execute_result"
    }
   ],
   "source": [
    "li.sum()"
   ]
  },
  {
   "cell_type": "code",
   "execution_count": null,
   "id": "08f7e455-72e0-49c4-90a0-c68e10e5d3bb",
   "metadata": {},
   "outputs": [],
   "source": []
  }
 ],
 "metadata": {
  "kernelspec": {
   "display_name": "Python 3 (ipykernel)",
   "language": "python",
   "name": "python3"
  },
  "language_info": {
   "codemirror_mode": {
    "name": "ipython",
    "version": 3
   },
   "file_extension": ".py",
   "mimetype": "text/x-python",
   "name": "python",
   "nbconvert_exporter": "python",
   "pygments_lexer": "ipython3",
   "version": "3.10.12"
  }
 },
 "nbformat": 4,
 "nbformat_minor": 5
}
