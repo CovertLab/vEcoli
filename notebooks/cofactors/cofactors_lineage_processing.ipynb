{
 "cells": [
  {
   "cell_type": "markdown",
   "source": [
    "# Setup"
   ],
   "metadata": {
    "collapsed": false
   }
  },
  {
   "cell_type": "markdown",
   "source": [],
   "metadata": {
    "collapsed": false
   }
  },
  {
   "cell_type": "code",
   "metadata": {
    "collapsed": true,
    "ExecuteTime": {
     "end_time": "2025-06-02T23:48:39.670489Z",
     "start_time": "2025-06-02T23:48:39.501111Z"
    }
   },
   "source": [
    "import numpy as np\n",
    "\n",
    "import seaborn as sns\n",
    "import pandas as pd\n",
    "import polars as pl\n",
    "import os\n",
    "import pprint\n",
    "import ast\n",
    "import re\n",
    "import matplotlib.pyplot as plt\n",
    "import dill\n",
    "import requests\n",
    "import xmltodict\n",
    "import json\n",
    "\n",
    "pp = pprint.PrettyPrinter(depth=6)\n",
    "\n",
    "os.chdir(os.path.expanduser('~/vivarium-ecoli'))\n",
    "\n"
   ],
   "outputs": [],
   "execution_count": 1
  },
  {
   "metadata": {},
   "cell_type": "markdown",
   "source": "# Get relevant indices"
  },
  {
   "metadata": {
    "ExecuteTime": {
     "end_time": "2025-06-02T23:48:39.792048Z",
     "start_time": "2025-06-02T23:48:39.703922Z"
    }
   },
   "cell_type": "code",
   "source": [
    "initial_state = json.load(open('data/vivecoli_t1.json'))\n",
    "\n",
    "bulk_ids = [item[0] for item in initial_state['agents']['0']['bulk']]"
   ],
   "outputs": [],
   "execution_count": 2
  },
  {
   "metadata": {
    "ExecuteTime": {
     "end_time": "2025-06-02T23:48:59.960813Z",
     "start_time": "2025-06-02T23:48:39.935726Z"
    }
   },
   "cell_type": "code",
   "source": [
    "# experiment = 'metabolism-redux-classic-minimal'\n",
    "entry = f'sim_example'\n",
    "folder = f'out/cofactors/{entry}/'\n",
    "output_all = np.load(folder + '0_output.npy', allow_pickle='TRUE').item()\n",
    "# output = np.load(r\"out/geneRxnVerifData/output_glc.npy\", allow_pickle=True, encoding='ASCII').tolist()\n",
    "output = output_all['agents']['0']\n",
    "mass = output['listeners']['mass']\n",
    "bulk = pd.DataFrame(output['bulk'])\n",
    "\n",
    "f = open(folder + 'agent_steps.pkl', 'rb')\n",
    "agent = dill.load(f)\n",
    "f.close()\n",
    "\n",
    "rna_listen = agent['rna_synth_prob_listener']\n",
    "rna_count_listen = agent['RNA_counts_listener']\n",
    "gene_ids = rna_listen.gene_ids\n",
    "mrna_tu_ids = rna_count_listen.mRNA_TU_ids\n",
    "\n",
    "bulk.columns = bulk_ids\n",
    "\n",
    "for unique_key, bulk_id in [('active_ribosome', 'CPLX0-3962'), ('active_ribosome', 'CPLX0-3953'),\n",
    "                            ('active_RNAP', 'APORNAP-CPLX')]:\n",
    "    if unique_key in output['listeners']['unique_molecule_counts']:\n",
    "        unique_count = output['listeners']['unique_molecule_counts'][unique_key]\n",
    "        bulk.loc[:, bulk_id + '[c]'] += unique_count"
   ],
   "outputs": [],
   "execution_count": 3
  },
  {
   "metadata": {
    "ExecuteTime": {
     "end_time": "2025-06-02T23:48:59.975822Z",
     "start_time": "2025-06-02T23:48:59.973470Z"
    }
   },
   "cell_type": "code",
   "source": [
    "# get specific indices\n",
    "specific_gene_id = 'EG10282'\n",
    "specific_gene_idx = gene_ids == specific_gene_id\n",
    "\n",
    "specific_mrna_tu_id = 'TU0-14816[c]'\n",
    "specific_mrna_tu_idx = mrna_tu_ids == specific_mrna_tu_id\n",
    "\n",
    "specific_protein_id = 'FRUCBISALD-CLASSII[c]'\n",
    "specific_protein_idx = bulk_ids.index(specific_protein_id)"
   ],
   "outputs": [],
   "execution_count": 4
  },
  {
   "metadata": {},
   "cell_type": "markdown",
   "source": "# Save multi-gen timeseries"
  },
  {
   "metadata": {
    "ExecuteTime": {
     "end_time": "2025-06-03T00:19:42.508108Z",
     "start_time": "2025-06-03T00:17:48.968517Z"
    }
   },
   "cell_type": "code",
   "source": [
    "for i, cur_lineage in enumerate(['lineage_0', 'lineage_2', 'lineage_4', 'lineage_6']):\n",
    "    folder = f'out/cofactors/lineage/'\n",
    "    \n",
    "    output = np.load(folder + cur_lineage + '.npy', allow_pickle='TRUE').item()['agents']['0']\n",
    "    \n",
    "    mass = output['listeners']['mass']['cell_mass']\n",
    "    bulk = pd.DataFrame(output['bulk'])\n",
    "    gene_counts = np.array(output['listeners']['rna_synth_prob']['gene_copy_number'][1:])\n",
    "    rna_counts = np.array(output['listeners']['rna_counts']['mRNA_counts'][1:])\n",
    "    \n",
    "    bulk.columns = bulk_ids\n",
    "    \n",
    "    for unique_key, bulk_id in [('active_ribosome', 'CPLX0-3962'), ('active_ribosome', 'CPLX0-3953'),\n",
    "                                ('active_RNAP', 'APORNAP-CPLX')]:\n",
    "        if unique_key in output['listeners']['unique_molecule_counts']:\n",
    "            unique_count = output['listeners']['unique_molecule_counts'][unique_key]\n",
    "            bulk.loc[:, bulk_id + '[c]'] += unique_count\n",
    "    \n",
    "    mass = np.array(mass)[1:]\n",
    "    gene_counts = gene_counts[:, specific_gene_idx].flatten()\n",
    "    rna_counts = rna_counts[:, specific_mrna_tu_idx].flatten()\n",
    "    protein_counts = bulk.loc[:, specific_protein_id].values[1:]\n",
    "    \n",
    "    # make a dataframe\n",
    "    series_df = pl.DataFrame([mass, gene_counts, rna_counts, protein_counts],\n",
    "                             schema=['mass', 'gene_counts', 'rna_counts', 'protein_counts'])\n",
    "    \n",
    "    # if i=0 create new df otherwise concatenate\n",
    "    if i == 0:\n",
    "        all_series_df = series_df\n",
    "    else:\n",
    "        all_series_df = pl.concat([all_series_df, series_df], how='vertical')\n",
    "        \n",
    "# add row index timestep\n",
    "all_series_df = all_series_df.with_row_index(name='timestep')"
   ],
   "outputs": [],
   "execution_count": 17
  },
  {
   "metadata": {
    "ExecuteTime": {
     "end_time": "2025-06-03T00:20:15.663954Z",
     "start_time": "2025-06-03T00:20:15.658143Z"
    }
   },
   "cell_type": "code",
   "source": [
    "# melt all_series_df\n",
    "melt_series_df = all_series_df.melt(variable_name='variable', value_name='value', id_vars=['timestep'])\n",
    "\n",
    "melt_series_df\n",
    "\n",
    "melt_series_df.write_csv('notebooks/cofactors/data/lineage_timeseries.csv')"
   ],
   "outputs": [],
   "execution_count": 21
  },
  {
   "metadata": {
    "ExecuteTime": {
     "end_time": "2025-06-03T00:19:52.241072Z",
     "start_time": "2025-06-03T00:19:52.067176Z"
    }
   },
   "cell_type": "code",
   "source": [
    "# make a plot\n",
    "sns.relplot(data=melt_series_df, x='timestep', y='value', hue='variable', kind='line')"
   ],
   "outputs": [
    {
     "data": {
      "text/plain": [
       "<seaborn.axisgrid.FacetGrid at 0x75621f760>"
      ]
     },
     "execution_count": 20,
     "metadata": {},
     "output_type": "execute_result"
    }
   ],
   "execution_count": 20
  },
  {
   "metadata": {
    "ExecuteTime": {
     "end_time": "2025-06-02T23:49:16.309156Z",
     "start_time": "2025-06-02T23:49:16.306627Z"
    }
   },
   "cell_type": "code",
   "source": "print(mass.shape, gene_counts.shape, rna_counts.shape, protein_counts.shape)",
   "outputs": [
    {
     "name": "stdout",
     "output_type": "stream",
     "text": [
      "(1288,) (1288,) (1288,) (1288,)\n"
     ]
    }
   ],
   "execution_count": 6
  },
  {
   "metadata": {
    "ExecuteTime": {
     "end_time": "2025-06-02T18:28:49.447202Z",
     "start_time": "2025-06-02T18:27:58.441665Z"
    }
   },
   "cell_type": "code",
   "source": [
    "lineage_order = ['lineage_0', 'lineage_2',  'lineage_4', 'lineage_6']\n",
    "\n",
    "folder = f'out/cofactors/lineage/'\n",
    "\n",
    "output_0 = np.load(folder + 'lineage_0.npy', allow_pickle='TRUE').item()['agents']['0']['listeners']['mass']['cell_mass']\n",
    "output_2 = np.load(folder + 'lineage_2.npy', allow_pickle='TRUE').item()['agents']['0']['listeners']['mass']['cell_mass']\n",
    "output_4 = np.load(folder + 'lineage_4.npy', allow_pickle='TRUE').item()['agents']['0']['listeners']['mass']['cell_mass']\n",
    "output_6 = np.load(folder + 'lineage_6.npy', allow_pickle='TRUE').item()['agents']['0']['listeners']['mass']['cell_mass']\n"
   ],
   "outputs": [],
   "execution_count": 2
  },
  {
   "metadata": {
    "ExecuteTime": {
     "end_time": "2025-06-02T18:28:57.420312Z",
     "start_time": "2025-06-02T18:28:57.416635Z"
    }
   },
   "cell_type": "code",
   "source": [
    "# save output_0+output_2+output_4+output_6 to a file\n",
    "folder = f'notebooks/cofactors/data/'\n",
    "\n",
    "output = output_0 + output_2 + output_4 + output_6\n",
    "np.save(folder + 'lineage.npy', output)"
   ],
   "outputs": [],
   "execution_count": 3
  },
  {
   "metadata": {
    "ExecuteTime": {
     "end_time": "2025-06-02T18:28:58.079323Z",
     "start_time": "2025-06-02T18:28:57.951793Z"
    }
   },
   "cell_type": "code",
   "source": "plt.plot(output_0+output_2+output_4+output_6, label='lineage')",
   "outputs": [
    {
     "data": {
      "text/plain": [
       "[<matplotlib.lines.Line2D at 0x137c65990>]"
      ]
     },
     "execution_count": 4,
     "metadata": {},
     "output_type": "execute_result"
    },
    {
     "data": {
      "text/plain": [
       "<Figure size 640x480 with 1 Axes>"
      ],
      "image/png": "[encoded data removed]"
     },
     "metadata": {},
     "output_type": "display_data"
    }
   ],
   "execution_count": 4
  },
  {
   "metadata": {
    "ExecuteTime": {
     "end_time": "2025-05-28T18:44:25.274749Z",
     "start_time": "2025-05-28T18:44:25.272723Z"
    }
   },
   "cell_type": "code",
   "source": [
    "# experiment = 'metabolism-redux-classic-minimal'\n",
    "entry = f'sim_example'\n",
    "folder = f'out/cofactors/{entry}/'\n",
    "output_all = np.load(folder + '0_output.npy', allow_pickle='TRUE').item()\n",
    "# output = np.load(r\"out/geneRxnVerifData/output_glc.npy\", allow_pickle=True, encoding='ASCII').tolist()\n",
    "output = output_all['agents']['0']\n",
    "fba = output['listeners']['fba_results']\n",
    "mass = output['listeners']['mass']\n",
    "bulk = pd.DataFrame(output['bulk'])\n",
    "\n",
    "fluxes = np.array(fba['estimated_fluxes'][1:])\n",
    "exchanges = fba['estimated_exchange_dmdt']\n",
    "\n",
    "f = open(folder + 'agent_steps.pkl', 'rb')\n",
    "agent = dill.load(f)\n",
    "f.close()\n",
    "\n",
    "rna_listen = agent['rna_synth_prob_listener']\n",
    "rna_count_listen = agent['RNA_counts_listener']\n",
    "gene_ids = rna_listen.gene_ids\n",
    "mrna_tu_ids = rna_count_listen.mRNA_TU_ids\n",
    "\n",
    "# get protein counts\n",
    "bulk.columns = bulk_ids\n",
    "\n",
    "# in the bulk dataframe, update RNAP and 50S, 30S rib counts from unique molecules since they are sequestered as unique when in use.\n",
    "for unique_key, bulk_id in [('active_ribosome', 'CPLX0-3962'), ('active_ribosome', 'CPLX0-3953'),\n",
    "                            ('active_RNAP', 'APORNAP-CPLX')]:\n",
    "    if unique_key in output['listeners']['unique_molecule_counts']:\n",
    "        unique_count = output['listeners']['unique_molecule_counts'][unique_key]\n",
    "        bulk.loc[:, bulk_id + '[c]'] += unique_count\n",
    "\n",
    "# output['listeners']['unique_molecule_counts']['active_ribosome']\n",
    "gene_counts = np.array(output['listeners']['rna_synth_prob']['gene_copy_number'][1:])\n",
    "\n",
    "# convert to df\n",
    "gene_counts_df = pl.DataFrame(gene_counts, schema=list(gene_ids))\n",
    "\n",
    "# add timestep\n",
    "gene_counts_df = gene_counts_df.with_row_index(name='timestep')\n",
    "\n",
    "# melt to long format\n",
    "gene_counts_df = gene_counts_df.melt(variable_name='gene', value_name='count', id_vars=['timestep'])\n",
    "\n",
    "gene_counts_df.filter(pl.col('gene') == 'EG10584')\n",
    "rna_counts = np.array(output['listeners']['rna_counts']['mRNA_counts'][1:])\n",
    "\n",
    "# convert to df\n",
    "rna_counts_df = pl.DataFrame(rna_counts, schema=list(mrna_tu_ids))\n",
    "\n",
    "# add timestep\n",
    "rna_counts_df = rna_counts_df.with_row_index(name='timestep')\n",
    "\n",
    "# melt to long format\n",
    "rna_counts_df = rna_counts_df.melt(variable_name='mRNA', value_name='count', id_vars=['timestep'])\n",
    "\n",
    "# sort by count and print head\n",
    "rna_counts_df.sort('count').tail()"
   ],
   "outputs": [],
   "execution_count": 3
  }
 ],
 "metadata": {
  "kernelspec": {
   "display_name": "Python 3",
   "language": "python",
   "name": "python3"
  },
  "language_info": {
   "codemirror_mode": {
    "name": "ipython",
    "version": 2
   },
   "file_extension": ".py",
   "mimetype": "text/x-python",
   "name": "python",
   "nbconvert_exporter": "python",
   "pygments_lexer": "ipython2",
   "version": "2.7.6"
  }
 },
 "nbformat": 4,
 "nbformat_minor": 0
}
