{
 "cells": [
  {
   "cell_type": "markdown",
   "source": [
    "# Setup"
   ],
   "metadata": {
    "collapsed": false
   }
  },
  {
   "cell_type": "markdown",
   "source": [],
   "metadata": {
    "collapsed": false
   }
  },
  {
   "cell_type": "code",
   "metadata": {
    "collapsed": true,
    "ExecuteTime": {
     "end_time": "2025-06-09T21:42:38.247200Z",
     "start_time": "2025-06-09T21:42:37.639600Z"
    }
   },
   "source": [
    "import numpy as np\n",
    "\n",
    "import seaborn as sns\n",
    "import pandas as pd\n",
    "import polars as pl\n",
    "import os\n",
    "import pprint\n",
    "import ast\n",
    "import re\n",
    "import matplotlib.pyplot as plt\n",
    "import dill\n",
    "import requests\n",
    "import xmltodict\n",
    "import json\n",
    "from scipy.sparse import csr_matrix\n",
    "\n",
    "from ecoli.analysis.causality_network.build_network import PROTEINS_IN_METABOLISM\n",
    "\n",
    "pp = pprint.PrettyPrinter(depth=6)\n",
    "\n",
    "os.chdir(os.path.expanduser('~/vivarium-ecoli'))\n",
    "\n",
    "# Reading the matrix CSV files\n",
    "def read_matrix(file_path, sparse=False):\n",
    "    # add sparse matrix reading\n",
    "    if sparse:\n",
    "        return csr_matrix(pl.read_csv(file_path, has_header=False).to_numpy())\n",
    "    else:\n",
    "        return pl.read_csv(file_path, has_header=False).to_numpy()\n",
    "\n",
    "def read_names(file_path):\n",
    "    return np.genfromtxt(file_path, dtype=str, delimiter=\"\\n\")\n"
   ],
   "outputs": [],
   "execution_count": 1
  },
  {
   "metadata": {},
   "cell_type": "markdown",
   "source": "# Get relevant indices"
  },
  {
   "metadata": {
    "ExecuteTime": {
     "end_time": "2025-06-09T21:42:38.387772Z",
     "start_time": "2025-06-09T21:42:38.250697Z"
    }
   },
   "cell_type": "code",
   "source": [
    "initial_state = json.load(open('data/vivecoli_t1.json'))\n",
    "\n",
    "bulk_ids = [item[0] for item in initial_state['agents']['0']['bulk']]"
   ],
   "outputs": [],
   "execution_count": 2
  },
  {
   "metadata": {
    "ExecuteTime": {
     "end_time": "2025-06-09T21:42:56.170073Z",
     "start_time": "2025-06-09T21:42:38.471885Z"
    }
   },
   "cell_type": "code",
   "source": [
    "# experiment = 'metabolism-redux-classic-minimal'\n",
    "entry = f'sim_example'\n",
    "folder = f'out/cofactors/{entry}/'\n",
    "output_all = np.load(folder + '0_output.npy', allow_pickle='TRUE').item()\n",
    "# output = np.load(r\"out/geneRxnVerifData/output_glc.npy\", allow_pickle=True, encoding='ASCII').tolist()\n",
    "output = output_all['agents']['0']\n",
    "mass = output['listeners']['mass']\n",
    "bulk = pd.DataFrame(output['bulk'])\n",
    "\n",
    "f = open(folder + 'agent_steps.pkl', 'rb')\n",
    "agent = dill.load(f)\n",
    "f.close()\n",
    "\n",
    "rna_listen = agent['rna_synth_prob_listener']\n",
    "rna_count_listen = agent['RNA_counts_listener']\n",
    "gene_ids = rna_listen.gene_ids\n",
    "mrna_tu_ids = rna_count_listen.mRNA_TU_ids\n",
    "\n",
    "bulk.columns = bulk_ids\n",
    "\n",
    "for unique_key, bulk_id in [('active_ribosome', 'CPLX0-3962'), ('active_ribosome', 'CPLX0-3953'),\n",
    "                            ('active_RNAP', 'APORNAP-CPLX')]:\n",
    "    if unique_key in output['listeners']['unique_molecule_counts']:\n",
    "        unique_count = output['listeners']['unique_molecule_counts'][unique_key]\n",
    "        bulk.loc[:, bulk_id + '[c]'] += unique_count"
   ],
   "outputs": [],
   "execution_count": 3
  },
  {
   "metadata": {
    "ExecuteTime": {
     "end_time": "2025-06-05T23:09:09.061915Z",
     "start_time": "2025-06-05T23:09:09.059578Z"
    }
   },
   "cell_type": "code",
   "source": [
    "# get specific indices\n",
    "specific_gene_id = 'EG10282'\n",
    "specific_gene_idx = gene_ids == specific_gene_id\n",
    "\n",
    "specific_mrna_tu_id = 'TU0-14816[c]'\n",
    "specific_mrna_tu_idx = mrna_tu_ids == specific_mrna_tu_id\n",
    "\n",
    "specific_protein_id = 'FRUCBISALD-CLASSII[c]'\n",
    "specific_protein_idx = bulk_ids.index(specific_protein_id)\n",
    "\n",
    "mete_protein_id = 'HOMOCYSMET-MONOMER[c]'\n",
    "mete_protein_idx = bulk_ids.index(mete_protein_id)\n",
    "\n",
    "rpme_protein_id = 'CPLX0-3962[c]'\n",
    "rpme_protein_idx = bulk_ids.index(mete_protein_id)"
   ],
   "outputs": [],
   "execution_count": 4
  },
  {
   "metadata": {},
   "cell_type": "markdown",
   "source": "# import complex_wcm_names and C, P and E matrices"
  },
  {
   "metadata": {
    "ExecuteTime": {
     "end_time": "2025-06-05T23:09:09.481586Z",
     "start_time": "2025-06-05T23:09:09.073110Z"
    }
   },
   "cell_type": "code",
   "source": [
    "complex_wcm_names = read_names('notebooks/cofactors/data/complex_wcm_names.csv')\n",
    "\n",
    "C = read_matrix('notebooks/cofactors/data/C_matrix.csv', sparse=True)\n",
    "P = read_matrix('notebooks/cofactors/data/P_matrix.csv', sparse=True)\n",
    "E = read_matrix('notebooks/cofactors/data/E_matrix.csv', sparse=True)\n",
    "\n",
    "element_ids = read_names(\"notebooks/cofactors/data/element_ids.txt\")"
   ],
   "outputs": [],
   "execution_count": 5
  },
  {
   "metadata": {},
   "cell_type": "markdown",
   "source": "# Save multi-gen timeseries"
  },
  {
   "metadata": {
    "ExecuteTime": {
     "start_time": "2025-06-05T23:09:22.587147Z"
    }
   },
   "cell_type": "code",
   "source": [
    "for i, cur_lineage in enumerate(['lineage_0', 'lineage_2', 'lineage_4', 'lineage_6']):\n",
    "    folder = f'out/cofactors/lineage/'\n",
    "    \n",
    "    output = np.load(folder + cur_lineage + '.npy', allow_pickle='TRUE').item()['agents']['0']\n",
    "    \n",
    "    mass = output['listeners']['mass']['cell_mass']\n",
    "    bulk = pd.DataFrame(output['bulk'])\n",
    "    gene_counts = np.array(output['listeners']['rna_synth_prob']['gene_copy_number'][1:])\n",
    "    rna_counts = np.array(output['listeners']['rna_counts']['mRNA_counts'][1:])\n",
    "    \n",
    "    bulk.columns = bulk_ids\n",
    "    \n",
    "    for unique_key, bulk_id in [('active_ribosome', 'CPLX0-3962'), ('active_ribosome', 'CPLX0-3953'),\n",
    "                                ('active_RNAP', 'APORNAP-CPLX')]:\n",
    "        if unique_key in output['listeners']['unique_molecule_counts']:\n",
    "            unique_count = output['listeners']['unique_molecule_counts'][unique_key]\n",
    "            bulk.loc[:, bulk_id + '[c]'] += unique_count\n",
    "    \n",
    "    mass = np.array(mass)[1:]\n",
    "    gene_counts = gene_counts[:, specific_gene_idx].flatten()\n",
    "    rna_counts = rna_counts[:, specific_mrna_tu_idx].flatten()\n",
    "    protein_counts = bulk.loc[:, specific_protein_id].values[1:]\n",
    "\n",
    "    mete_counts = bulk.loc[:, mete_protein_id].values[1:]\n",
    "    rpme_counts = bulk.loc[:, rpme_protein_id].values[1:]\n",
    "\n",
    "    elements = [\"ZN\"]\n",
    "    element_indices = [np.where(element_ids == element)[0][0] for element in elements]\n",
    "    element_indices\n",
    "    \n",
    "    total_zn_counts = ((np.array(bulk.loc[1:, complex_wcm_names.tolist()])) @ C @ P @ E[:, element_indices]).flatten()\n",
    "    \n",
    "    # make a dataframe\n",
    "    series_df = pl.DataFrame([mass, gene_counts, rna_counts, protein_counts, total_zn_counts, mete_counts, rpme_counts],\n",
    "                             schema=['mass', 'gene_counts', 'rna_counts', 'protein_counts', 'total_zn_counts', 'mete_counts', 'rpme_counts'])\n",
    "    \n",
    "    # if i=0 create new df otherwise concatenate\n",
    "    if i == 0:\n",
    "        all_series_df = series_df\n",
    "    else:\n",
    "        all_series_df = pl.concat([all_series_df, series_df], how='vertical')\n",
    "        \n",
    "# add row index timestep\n",
    "all_series_df = all_series_df.with_row_index(name='timestep')"
   ],
   "outputs": [],
   "execution_count": null
  },
  {
   "metadata": {
    "ExecuteTime": {
     "end_time": "2025-06-03T23:42:14.169737Z",
     "start_time": "2025-06-03T23:42:14.161271Z"
    }
   },
   "cell_type": "code",
   "source": [
    "# melt all_series_df\n",
    "melt_series_df = all_series_df.melt(variable_name='variable', value_name='value', id_vars=['timestep'])\n",
    "\n",
    "melt_series_df\n",
    "\n",
    "melt_series_df.write_csv('notebooks/cofactors/data/lineage_timeseries.csv')"
   ],
   "outputs": [],
   "execution_count": 8
  },
  {
   "metadata": {},
   "cell_type": "markdown",
   "source": "# Minimal media"
  },
  {
   "metadata": {},
   "cell_type": "code",
   "outputs": [],
   "execution_count": null,
   "source": [
    "for i, cur_lineage in enumerate(['lineage_0', 'lineage_2', 'lineage_4']):\n",
    "    folder = f'out/cofactors/lineage-min/'\n",
    "\n",
    "    output = np.load(folder + cur_lineage + '.npy', allow_pickle='TRUE').item()['agents']['0']\n",
    "\n",
    "    mass = output['listeners']['mass']['cell_mass']\n",
    "    bulk = pd.DataFrame(output['bulk'])\n",
    "    gene_counts = np.array(output['listeners']['rna_synth_prob']['gene_copy_number'][1:])\n",
    "    rna_counts = np.array(output['listeners']['rna_counts']['mRNA_counts'][1:])\n",
    "\n",
    "    bulk.columns = bulk_ids\n",
    "\n",
    "    for unique_key, bulk_id in [('active_ribosome', 'CPLX0-3962'), ('active_ribosome', 'CPLX0-3953'),\n",
    "                                ('active_RNAP', 'APORNAP-CPLX')]:\n",
    "        if unique_key in output['listeners']['unique_molecule_counts']:\n",
    "            unique_count = output['listeners']['unique_molecule_counts'][unique_key]\n",
    "            bulk.loc[:, bulk_id + '[c]'] += unique_count\n",
    "\n",
    "    mass = np.array(mass)[1:]\n",
    "    gene_counts = gene_counts[:, specific_gene_idx].flatten()\n",
    "    rna_counts = rna_counts[:, specific_mrna_tu_idx].flatten()\n",
    "    protein_counts = bulk.loc[:, specific_protein_id].values[1:]\n",
    "\n",
    "    mete_counts = bulk.loc[:, mete_protein_id].values[1:]\n",
    "    rpme_counts = bulk.loc[:, rpme_protein_id].values[1:]\n",
    "\n",
    "    elements = [\"ZN\"]\n",
    "    element_indices = [np.where(element_ids == element)[0][0] for element in elements]\n",
    "    element_indices\n",
    "\n",
    "    total_zn_counts = ((np.array(bulk.loc[1:, complex_wcm_names.tolist()])) @ C @ P @ E[:, element_indices]).flatten()\n",
    "\n",
    "    # make a dataframe\n",
    "    series_df = pl.DataFrame([mass, gene_counts, rna_counts, protein_counts, total_zn_counts, mete_counts, rpme_counts],\n",
    "                             schema=['mass', 'gene_counts', 'rna_counts', 'protein_counts', 'total_zn_counts', 'mete_counts', 'rpme_counts'])\n",
    "\n",
    "    # if i=0 create new df otherwise concatenate\n",
    "    if i == 0:\n",
    "        all_series_df = series_df\n",
    "    else:\n",
    "        all_series_df = pl.concat([all_series_df, series_df], how='vertical')\n",
    "\n",
    "# add row index timestep\n",
    "all_series_df = all_series_df.with_row_index(name='timestep')"
   ]
  },
  {
   "metadata": {},
   "cell_type": "code",
   "outputs": [],
   "execution_count": null,
   "source": [
    "# melt all_series_df\n",
    "melt_series_df = all_series_df.melt(variable_name='variable', value_name='value', id_vars=['timestep'])\n",
    "\n",
    "melt_series_df\n",
    "\n",
    "melt_series_df.write_csv('notebooks/cofactors/data/lineage_min_timeseries.csv')"
   ]
  },
  {
   "metadata": {},
   "cell_type": "code",
   "outputs": [],
   "execution_count": null,
   "source": ""
  }
 ],
 "metadata": {
  "kernelspec": {
   "display_name": "Python 3",
   "language": "python",
   "name": "python3"
  },
  "language_info": {
   "codemirror_mode": {
    "name": "ipython",
    "version": 2
   },
   "file_extension": ".py",
   "mimetype": "text/x-python",
   "name": "python",
   "nbconvert_exporter": "python",
   "pygments_lexer": "ipython2",
   "version": "2.7.6"
  }
 },
 "nbformat": 4,
 "nbformat_minor": 0
}
