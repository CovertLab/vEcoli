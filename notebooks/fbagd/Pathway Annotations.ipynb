{
 "cells": [
  {
   "cell_type": "code",
   "execution_count": 2,
   "id": "c3bbc77d",
   "metadata": {},
   "outputs": [],
   "source": [
    "import requests\n",
    "import pandas as pd\n",
    "import numpy as np\n",
    "from xml.etree import ElementTree\n",
    "from collections import defaultdict\n",
    "import time\n",
    "from tqdm import tqdm"
   ]
  },
  {
   "cell_type": "markdown",
   "id": "35e34dcb",
   "metadata": {},
   "source": [
    "### Set up API Environment"
   ]
  },
  {
   "cell_type": "code",
   "execution_count": 3,
   "id": "551402e8",
   "metadata": {},
   "outputs": [
    {
     "data": {
      "text/plain": [
       "<Response [200]>"
      ]
     },
     "execution_count": 3,
     "metadata": {},
     "output_type": "execute_result"
    }
   ],
   "source": [
    "s = requests.Session() # create session\n",
    "# Po`st login credentials to session:\n",
    "s.post('https://websvc.biocyc.org/credentials/login/', data={'email':'aniketh@stanford.edu', 'password':'dcy*BWEfAm'})"
   ]
  },
  {
   "cell_type": "code",
   "execution_count": 4,
   "id": "0bdb90c8",
   "metadata": {},
   "outputs": [],
   "source": [
    "def etree_to_dict(t):\n",
    "    d = {t.tag: {} if t.attrib else None}\n",
    "    children = list(t)\n",
    "    if children:\n",
    "        dd = defaultdict(list)\n",
    "        for dc in map(etree_to_dict, children):\n",
    "            for k, v in dc.items():\n",
    "                dd[k].append(v)\n",
    "        d = {t.tag: {k: v[0] if len(v) == 1 else v\n",
    "                     for k, v in dd.items()}}\n",
    "    if t.attrib:\n",
    "        d[t.tag].update(('@' + k, v)\n",
    "                        for k, v in t.attrib.items())\n",
    "    if t.text:\n",
    "        text = t.text.strip()\n",
    "        if children or t.attrib:\n",
    "            if text:\n",
    "                d[t.tag]['#text'] = text\n",
    "        else:\n",
    "            d[t.tag] = text\n",
    "    return d"
   ]
  },
  {
   "cell_type": "markdown",
   "id": "9620ec47",
   "metadata": {},
   "source": [
    "### Get data"
   ]
  },
  {
   "cell_type": "code",
   "execution_count": 5,
   "id": "2d8b0193",
   "metadata": {},
   "outputs": [],
   "source": [
    "flows = pd.read_csv(\"whole_cell_flow_data.csv\")\n",
    "stoichiometry = pd.read_csv(\"whole_cell_s_matrix (1).csv\")\n",
    "metabolite_names = list(stoichiometry['Unnamed: 0'])\n",
    "reaction_names = list(stoichiometry.columns[1:])\n",
    "n_mets = len(metabolite_names)\n",
    "n_rxns = len(reaction_names)\n",
    "S = stoichiometry.iloc[:, 1:].to_numpy()"
   ]
  },
  {
   "cell_type": "code",
   "execution_count": 6,
   "id": "a81a44a0",
   "metadata": {},
   "outputs": [],
   "source": [
    "metabolites_processed = {}\n",
    "for meta in metabolite_names:\n",
    "    new = meta.split('[', 1)[0]\n",
    "    metabolites_processed[meta] = new"
   ]
  },
  {
   "cell_type": "code",
   "execution_count": 7,
   "id": "6ea3251c",
   "metadata": {},
   "outputs": [],
   "source": [
    "reactions_processed = {}\n",
    "\n",
    "for rxn in reaction_names:\n",
    "    new = rxn\n",
    "    \n",
    "    if \"(reverse)\" in new:\n",
    "        idx = new.find(\"(reverse)\")\n",
    "        new = new[:idx - 1]\n",
    "    \n",
    "    if \"__\" in new:\n",
    "        idx = new.find(\"__\")\n",
    "        new = new[:idx]\n",
    "    \n",
    "    if \"-RXN\" in new:\n",
    "        idx = new.find(\"-RXN\")\n",
    "        new = new[:idx + 4]\n",
    "    \n",
    "    reactions_processed[rxn] = new"
   ]
  },
  {
   "cell_type": "code",
   "execution_count": 8,
   "id": "01dabde4",
   "metadata": {},
   "outputs": [
    {
     "name": "stderr",
     "output_type": "stream",
     "text": [
      "100%|█████████████████████████████████████████| 489/489 [01:29<00:00,  5.45it/s]\n"
     ]
    }
   ],
   "source": [
    "pathway_dict = {}\n",
    "notfound_meta = []\n",
    "curr_time = 0\n",
    "for meta in tqdm(metabolite_names):\n",
    "    pathway_dict[meta] = []\n",
    "    object_id = metabolites_processed[meta]\n",
    "    request = \"https://websvc.biocyc.org/apixml?fn=pathways-of-compound&id=ECOLI:\" + object_id\n",
    "    \n",
    "    response = s.get(request)\n",
    "    \n",
    "    if response.status_code == 200:\n",
    "        tree = ElementTree.fromstring(response.content)\n",
    "        r = etree_to_dict(tree)\n",
    "    else:\n",
    "        notfound_meta.append((meta, response.status_code))\n",
    "        continue\n",
    "    \n",
    "    try:\n",
    "        curr = r['ptools-xml']['Pathway']\n",
    "        if type(curr) is list:\n",
    "            for val in curr:\n",
    "                pathway_dict[meta].append(val['@frameid'])\n",
    "        else:\n",
    "            pathway_dict[meta].append(curr['@frameid'])\n",
    "    except KeyError:\n",
    "        notfound_meta.append((meta, KeyError))"
   ]
  },
  {
   "cell_type": "code",
   "execution_count": 9,
   "id": "fde58b36",
   "metadata": {},
   "outputs": [
    {
     "name": "stderr",
     "output_type": "stream",
     "text": [
      "100%|█████████████████████████████████████████| 470/470 [01:01<00:00,  7.60it/s]\n"
     ]
    }
   ],
   "source": [
    "notfound_rxn = []\n",
    "for rxn in tqdm(reaction_names):\n",
    "    pathway_dict[rxn] = []\n",
    "    object_id = reactions_processed[rxn]\n",
    "    request = \"https://websvc.biocyc.org/getxml?id=ECOLI:\" + object_id\n",
    "    \n",
    "    response = s.get(request)\n",
    "    \n",
    "    if response.status_code == 200:\n",
    "        tree = ElementTree.fromstring(response.content)\n",
    "        r = etree_to_dict(tree)\n",
    "    else:\n",
    "        notfound_rxn.append((rxn, response.status_code))\n",
    "        continue\n",
    "    \n",
    "    try:\n",
    "        curr = r['ptools-xml']['Reaction']['in-pathway']['Pathway']\n",
    "        if type(curr) is list:\n",
    "            for val in curr:\n",
    "                pathway_dict[rxn].append(val['@frameid'])\n",
    "        else:\n",
    "            pathway_dict[rxn].append(curr['@frameid'])\n",
    "    except KeyError:\n",
    "        notfound_rxn.append((rxn, KeyError))"
   ]
  },
  {
   "cell_type": "code",
   "execution_count": 11,
   "id": "a6ef4d94",
   "metadata": {},
   "outputs": [
    {
     "data": {
      "text/plain": [
       "147"
      ]
     },
     "execution_count": 11,
     "metadata": {},
     "output_type": "execute_result"
    }
   ],
   "source": [
    "len(notfound_meta + notfound_rxn)"
   ]
  },
  {
   "cell_type": "code",
   "execution_count": 37,
   "id": "3308864b",
   "metadata": {},
   "outputs": [],
   "source": [
    "count = 0\n",
    "total = 0\n",
    "\n",
    "for key in pathway_dict:\n",
    "    if len(pathway_dict[key]) <= 5:\n",
    "        count += 1\n",
    "    total += 1"
   ]
  },
  {
   "cell_type": "code",
   "execution_count": 38,
   "id": "6ba7c5bc",
   "metadata": {},
   "outputs": [
    {
     "data": {
      "text/plain": [
       "825"
      ]
     },
     "execution_count": 38,
     "metadata": {},
     "output_type": "execute_result"
    }
   ],
   "source": [
    "count"
   ]
  },
  {
   "cell_type": "code",
   "execution_count": 39,
   "id": "189b2514",
   "metadata": {},
   "outputs": [
    {
     "data": {
      "text/plain": [
       "959"
      ]
     },
     "execution_count": 39,
     "metadata": {},
     "output_type": "execute_result"
    }
   ],
   "source": [
    "total"
   ]
  },
  {
   "cell_type": "code",
   "execution_count": 40,
   "id": "9b845252",
   "metadata": {},
   "outputs": [],
   "source": [
    "import json"
   ]
  },
  {
   "cell_type": "code",
   "execution_count": 41,
   "id": "64e54773",
   "metadata": {},
   "outputs": [],
   "source": [
    "# Save the dictionary to a file using JSON\n",
    "with open('pathway.json', 'w') as f:\n",
    "    json.dump(pathway_dict, f)"
   ]
  },
  {
   "cell_type": "code",
   "execution_count": 10,
   "id": "b06d7c87",
   "metadata": {},
   "outputs": [
    {
     "ename": "NameError",
     "evalue": "name 's' is not defined",
     "output_type": "error",
     "traceback": [
      "\u001b[0;31m---------------------------------------------------------------------------\u001b[0m",
      "\u001b[0;31mNameError\u001b[0m                                 Traceback (most recent call last)",
      "\u001b[0;32m/var/folders/zf/fxd7d9jj64bc8s9zvphjp8n40000gn/T/ipykernel_6255/2415559293.py\u001b[0m in \u001b[0;36m<module>\u001b[0;34m\u001b[0m\n\u001b[0;32m----> 1\u001b[0;31m \u001b[0mresponse\u001b[0m \u001b[0;34m=\u001b[0m \u001b[0ms\u001b[0m\u001b[0;34m.\u001b[0m\u001b[0mget\u001b[0m\u001b[0;34m(\u001b[0m\u001b[0;34m\"https://websvc.biocyc.org/getxml?id=ECOLI:PWY-7222\"\u001b[0m\u001b[0;34m)\u001b[0m\u001b[0;34m\u001b[0m\u001b[0;34m\u001b[0m\u001b[0m\n\u001b[0m\u001b[1;32m      2\u001b[0m \u001b[0;34m\u001b[0m\u001b[0m\n\u001b[1;32m      3\u001b[0m \u001b[0;32mif\u001b[0m \u001b[0mresponse\u001b[0m\u001b[0;34m.\u001b[0m\u001b[0mstatus_code\u001b[0m \u001b[0;34m==\u001b[0m \u001b[0;36m200\u001b[0m\u001b[0;34m:\u001b[0m\u001b[0;34m\u001b[0m\u001b[0;34m\u001b[0m\u001b[0m\n\u001b[1;32m      4\u001b[0m     \u001b[0mtree\u001b[0m \u001b[0;34m=\u001b[0m \u001b[0mElementTree\u001b[0m\u001b[0;34m.\u001b[0m\u001b[0mfromstring\u001b[0m\u001b[0;34m(\u001b[0m\u001b[0mresponse\u001b[0m\u001b[0;34m.\u001b[0m\u001b[0mcontent\u001b[0m\u001b[0;34m)\u001b[0m\u001b[0;34m\u001b[0m\u001b[0;34m\u001b[0m\u001b[0m\n\u001b[1;32m      5\u001b[0m     \u001b[0mr\u001b[0m \u001b[0;34m=\u001b[0m \u001b[0metree_to_dict\u001b[0m\u001b[0;34m(\u001b[0m\u001b[0mtree\u001b[0m\u001b[0;34m)\u001b[0m\u001b[0;34m\u001b[0m\u001b[0;34m\u001b[0m\u001b[0m\n",
      "\u001b[0;31mNameError\u001b[0m: name 's' is not defined"
     ]
    }
   ],
   "source": [
    "response = s.get(\"https://websvc.biocyc.org/getxml?id=ECOLI:PWY-7222\")\n",
    "    \n",
    "if response.status_code == 200:\n",
    "    tree = ElementTree.fromstring(response.content)\n",
    "    r = etree_to_dict(tree)\n",
    "else:\n",
    "    notfound_rxn.append((rxn, response.status_code))\n",
    "    continue"
   ]
  },
  {
   "cell_type": "code",
   "execution_count": null,
   "id": "1e595e5e",
   "metadata": {},
   "outputs": [],
   "source": []
  }
 ],
 "metadata": {
  "kernelspec": {
   "display_name": "Python 3 (ipykernel)",
   "language": "python",
   "name": "python3"
  },
  "language_info": {
   "codemirror_mode": {
    "name": "ipython",
    "version": 3
   },
   "file_extension": ".py",
   "mimetype": "text/x-python",
   "name": "python",
   "nbconvert_exporter": "python",
   "pygments_lexer": "ipython3",
   "version": "3.8.5"
  }
 },
 "nbformat": 4,
 "nbformat_minor": 5
}
