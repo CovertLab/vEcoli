{
 "cells": [
  {
   "cell_type": "code",
   "execution_count": 74,
   "id": "8022bfb4-c69b-4cb7-a24c-fec017cc3661",
   "metadata": {
    "ExecuteTime": {
     "start_time": "2023-05-03T13:22:09.066166Z",
     "end_time": "2023-05-03T13:22:09.073785Z"
    }
   },
   "source": [
    "import numpy as np\n",
    "\n",
    "import seaborn as sns\n",
    "import pandas as pd\n",
    "import os\n",
    "\n",
    "os.chdir(os.path.expanduser('~/vivarium-ecoli'))\n",
    "\n",
    "import matplotlib.pyplot as plt\n",
    "import dill\n",
    "import requests\n",
    "import xmltodict\n",
    "from ecoli.processes.metabolism_redux import NetworkFlowModel, FlowResult, BAD_RXNS, FREE_RXNS\n",
    "\n",
    "sns.set(style='darkgrid', palette='viridis', context='talk')\n"
   ],
   "outputs": []
  },
  {
   "cell_type": "markdown",
   "id": "a143cbbb-3570-4548-bc24-f499c070a880",
   "metadata": {
    "tags": []
   },
   "source": [
    "# Import simulation output\n",
    "\n",
    "Before running this, run a sim in ecoli/experiments/metabolism_redux_sim.py with -n 2 to generate a simulation output. This is necessary to replicate the simulation environment. Use the default .json config."
   ]
  },
  {
   "cell_type": "code",
   "execution_count": 75,
   "source": [
    "time = '10'\n",
    "date = '2023-04-24'\n",
    "experiment = 'fba-redux'\n",
    "entry = f'{experiment}_{time}_{date}'\n",
    "folder = f'out/fbagd/{entry}/'"
   ],
   "metadata": {
    "collapsed": false,
    "ExecuteTime": {
     "start_time": "2023-05-03T13:22:09.313385Z",
     "end_time": "2023-05-03T13:22:09.317853Z"
    }
   },
   "id": "e29db73a05c8e0a2",
   "outputs": []
  },
  {
   "cell_type": "code",
   "execution_count": 76,
   "source": [
    "output = np.load(folder + 'output.npy',allow_pickle='TRUE').item()\n",
    "# output = np.load(r\"out/geneRxnVerifData/output_glc.npy\", allow_pickle=True, encoding='ASCII').tolist()\n",
    "output = output['agents']['0']\n",
    "fba = output['listeners']['fba_results']\n",
    "mass = output['listeners']['mass']\n",
    "bulk = pd.DataFrame(output['bulk'])"
   ],
   "metadata": {
    "collapsed": false,
    "ExecuteTime": {
     "start_time": "2023-05-03T13:22:09.511005Z",
     "end_time": "2023-05-03T13:22:10.151903Z"
    }
   },
   "id": "12f9b8749e1bff78",
   "outputs": []
  },
  {
   "cell_type": "code",
   "execution_count": 77,
   "source": [
    "f = open(folder + 'agent_steps.pkl', 'rb')\n",
    "agent = dill.load(f)\n",
    "f.close()"
   ],
   "metadata": {
    "collapsed": false,
    "ExecuteTime": {
     "start_time": "2023-05-03T13:22:10.152973Z",
     "end_time": "2023-05-03T13:22:10.861384Z"
    }
   },
   "id": "22a8bc2a0270c0c5",
   "outputs": []
  },
  {
   "cell_type": "code",
   "execution_count": 78,
   "source": [
    "kind = 'ecoli-metabolism-redux'\n",
    "\n",
    "if kind == 'ecoli-metabolism-redux':\n",
    "    metabolism = agent['ecoli-metabolism-redux']\n",
    "    stoichiometry = metabolism.stoichiometry\n",
    "    stoichiometric_matrix_dict = {item[\"reaction id\"]: item[\"stoichiometry\"] for item in stoichiometry}\n",
    "elif kind == 'ecoli-metabolism':\n",
    "    stoichiometry = agent['ecoli-metabolism'].model.stoichiometry\n",
    "    maintenance_reaction = agent['ecoli-metabolism'].model.maintenance_reaction\n",
    "    stoichiometry[\"maintenance_reaction\"] = maintenance_reaction\n",
    "\n",
    "\n",
    "# for rxn in BAD_RXNS:\n",
    "#     stoichiometric_matrix_dict.pop(rxn, None)"
   ],
   "metadata": {
    "collapsed": false,
    "ExecuteTime": {
     "start_time": "2023-05-03T13:22:10.866117Z",
     "end_time": "2023-05-03T13:22:10.867699Z"
    }
   },
   "id": "cb1793bf507f33e7",
   "outputs": []
  },
  {
   "cell_type": "markdown",
   "source": [
    "Pandas automatically understands dicts of dicts as matrices."
   ],
   "metadata": {
    "collapsed": false
   },
   "id": "30091eed08b0aa86"
  },
  {
   "cell_type": "code",
   "execution_count": 79,
   "source": [
    "sim_exchanges = pd.DataFrame(fba[\"estimated_exchange_dmdt\"])\n",
    "sim_exchanges = pd.DataFrame(sim_exchanges.loc[4, :].abs().sort_values(ascending=False))\n",
    "sim_exchanges.head(10)\n",
    "\n",
    "# plot the top 10 fluxes from sim_fluxes as a bar plot.\n",
    "plt.figure(figsize=(15, 5))\n",
    "plt.plot(sim_exchanges.head(20), 'o')\n",
    "\n",
    "# shorten all xtick names to 10 characters\n",
    "plt.xticks([i for i in range(20)], [i[:20] for i in sim_exchanges.index[:20]], rotation=45, ha= 'right')\n",
    "# make xticks aligned to right left of bar\n",
    "plt.yscale('log')\n",
    "plt.ylabel('Flux counts')\n",
    "plt.title('Top 10 Fluxes')\n",
    "plt.show()"
   ],
   "metadata": {
    "collapsed": false,
    "ExecuteTime": {
     "start_time": "2023-05-03T13:22:10.917919Z",
     "end_time": "2023-05-03T13:22:11.163700Z"
    }
   },
   "id": "b70422070fb389ee",
   "outputs": []
  },
  {
   "cell_type": "code",
   "execution_count": 80,
   "source": [
    "sim_fluxes = pd.DataFrame(fba[\"estimated_fluxes\"])\n",
    "sim_fluxes = pd.DataFrame(sim_fluxes.loc[4, :].abs().sort_values(ascending=False))\n",
    "\n",
    "\n",
    "# plot the top 10 fluxes from sim_fluxes as a bar plot.\n",
    "plt.figure(figsize=(15, 5))\n",
    "plt.plot(sim_fluxes.head(20), 'o')\n",
    "\n",
    "# shorten all xtick names to 10 characters\n",
    "plt.xticks([i for i in range(20)], [i[:20] for i in sim_fluxes.index[:20]], rotation=45, ha= 'right')\n",
    "# make xticks aligned to right left of bar\n",
    "\n",
    "\n",
    "plt.ylabel('Flux counts')\n",
    "# log scale\n",
    "plt.yscale('log')\n",
    "plt.title('Top 10 Fluxes')\n",
    "plt.show()"
   ],
   "metadata": {
    "collapsed": false,
    "ExecuteTime": {
     "start_time": "2023-05-03T13:22:11.138586Z",
     "end_time": "2023-05-03T13:22:11.379747Z"
    }
   },
   "id": "704856700302e2a",
   "outputs": []
  },
  {
   "cell_type": "code",
   "execution_count": 81,
   "source": [
    "sim_fluxes.head(20)"
   ],
   "metadata": {
    "collapsed": false,
    "ExecuteTime": {
     "start_time": "2023-05-03T13:22:11.382002Z",
     "end_time": "2023-05-03T13:22:11.384297Z"
    }
   },
   "id": "81685f43f6828d2c",
   "outputs": []
  },
  {
   "cell_type": "code",
   "execution_count": 82,
   "source": [
    "sim_catalysts = pd.DataFrame(fba[\"reaction_catalyst_counts\"])\n",
    "sim_catalysts = pd.DataFrame(sim_catalysts.loc[4, :].abs().sort_values(ascending=False))\n",
    "sim_catalysts"
   ],
   "metadata": {
    "collapsed": false,
    "ExecuteTime": {
     "start_time": "2023-05-03T13:22:11.428139Z",
     "end_time": "2023-05-03T13:22:11.527544Z"
    }
   },
   "id": "b7796149ca531110",
   "outputs": []
  },
  {
   "cell_type": "markdown",
   "source": [
    "# Test changing nutrient composition"
   ],
   "metadata": {
    "collapsed": false
   },
   "id": "912d44dfa306bf7e"
  },
  {
   "cell_type": "code",
   "execution_count": 83,
   "source": [
    "uptake = (fba[\"unconstrained_molecules\"][3]).copy()\n",
    "uptake_c = fba[\"constrained_molecules\"]\n",
    "\n",
    "uptake.extend(list(uptake_c.keys()))\n",
    "uptake = set(uptake)\n",
    "\n",
    "# addition = set([\"CPD0-1074[c]\"])\n",
    "addition = set([\n",
    "        # \"FRU[p]\",\n",
    "        # \"NITRATE[p]\"\n",
    "        # 'THIAMINE[p]',\n",
    "        # 'HYDROGEN-MOLECULE[p]',\n",
    "        # 'FUM[p]'\n",
    "])\n",
    "removals = set([\n",
    "                  # \"GLC[p]\",\n",
    "               #      # 'AMMONIUM[c]',\n",
    "               #      # 'WATER[p]'\n",
    "               #       # 'Pi[p]',\n",
    "               #       # 'SULFATE[p]'\n",
    "               # 'OXYGEN-MOLECULE[p]'\n",
    "])\n",
    "\n",
    "\n",
    "uptake = uptake | addition\n",
    "uptake = uptake - removals\n",
    "uptake"
   ],
   "metadata": {
    "collapsed": false,
    "ExecuteTime": {
     "start_time": "2023-05-03T13:22:11.464515Z",
     "end_time": "2023-05-03T13:22:11.527729Z"
    }
   },
   "id": "d05812310ab4662d",
   "outputs": []
  },
  {
   "cell_type": "markdown",
   "source": [
    "# Use NetworkFlowModel class to run model"
   ],
   "metadata": {
    "collapsed": false
   },
   "id": "59e695837c7172ad"
  },
  {
   "cell_type": "code",
   "execution_count": 84,
   "source": [
    "homeostatic = pd.DataFrame(fba[\"target_homeostatic_dmdt\"]).loc[4, :]\n",
    "exchanges = pd.DataFrame(fba[\"estimated_exchange_dmdt\"]).loc[4, :]\n",
    "maintenance = pd.DataFrame(fba[\"maintenance_target\"]).at[4, 'maintenance_reaction']\n",
    "kinetic = pd.DataFrame(fba[\"target_kinetic_fluxes\"]).loc[4, :]\n",
    "homeostatic"
   ],
   "metadata": {
    "collapsed": false,
    "ExecuteTime": {
     "start_time": "2023-05-03T13:22:11.468714Z",
     "end_time": "2023-05-03T13:22:11.551006Z"
    }
   },
   "id": "9cd1ed2873c7272f",
   "outputs": []
  },
  {
   "cell_type": "code",
   "execution_count": 85,
   "source": [
    "model = NetworkFlowModel(reactions=stoichiometric_matrix_dict,\n",
    "                         homeostatic_metabolites=metabolism.homeostatic_objective,\n",
    "                         free_reactions=FREE_RXNS)"
   ],
   "metadata": {
    "collapsed": false,
    "ExecuteTime": {
     "start_time": "2023-05-03T13:22:11.530620Z",
     "end_time": "2023-05-03T13:22:15.402965Z"
    }
   },
   "id": "6a3896f875aed1e5",
   "outputs": []
  },
  {
   "cell_type": "code",
   "execution_count": 86,
   "source": [
    "model.set_up_exchanges(exchanges=metabolism.exchange_molecules, uptakes=metabolism.allowed_exchange_uptake)"
   ],
   "metadata": {
    "collapsed": false,
    "ExecuteTime": {
     "start_time": "2023-05-03T13:22:15.397820Z",
     "end_time": "2023-05-03T13:22:15.882028Z"
    }
   },
   "id": "ba5e8e0940ab49b8",
   "outputs": []
  },
  {
   "cell_type": "code",
   "execution_count": 87,
   "source": [
    "solution: FlowResult = model.solve(homeostatic_targets=dict(homeostatic),\n",
    "                                   maintenance_target=maintenance,\n",
    "                                   kinetic_targets=dict(kinetic),\n",
    "                                   reaction_catalyst_counts=sim_catalysts.to_dict()[4],\n",
    "                                   objective_weights={'secretion': 0.01, 'efficiency': 0.0001, 'kinetics': 0.000001},\n",
    "                                   upper_flux_bound=100000000)"
   ],
   "metadata": {
    "collapsed": false,
    "ExecuteTime": {
     "start_time": "2023-05-03T13:22:15.937791Z",
     "end_time": "2023-05-03T13:22:16.319469Z"
    }
   },
   "id": "28e6691cb0c199da",
   "outputs": []
  },
  {
   "cell_type": "code",
   "execution_count": 88,
   "source": [
    "cur_exchanges = pd.Series(solution.exchanges).abs().sort_values(ascending=False)\n",
    "\n",
    "# plot the top 10 fluxes from sim_fluxes as a bar plot.\n",
    "plt.figure(figsize=(30, 5))\n",
    "plt.plot(cur_exchanges.head(30), 'o')\n",
    "\n",
    "# shorten all xtick names to 10 characters\n",
    "plt.xticks([i for i in range(30)], [i[:20] for i in cur_exchanges.index[:30]], rotation=45, ha= 'right')\n",
    "# make xticks aligned to right left of bar\n",
    "plt.yscale('log')\n",
    "plt.ylabel('Flux counts')\n",
    "plt.title('Top 10 Fluxes')\n",
    "plt.show()"
   ],
   "metadata": {
    "collapsed": false,
    "ExecuteTime": {
     "start_time": "2023-05-03T13:22:16.323042Z",
     "end_time": "2023-05-03T13:22:16.615742Z"
    }
   },
   "id": "ac4b16a3bc5ad31e",
   "outputs": []
  },
  {
   "cell_type": "code",
   "execution_count": 89,
   "source": [
    "cur_fluxes = pd.Series(solution.velocities).abs().sort_values(ascending=False)\n",
    "\n",
    "# plot the top 10 fluxes from sim_fluxes as a bar plot.\n",
    "plt.figure(figsize=(15, 5))\n",
    "plt.plot(cur_fluxes.head(20), 'o')\n",
    "\n",
    "# shorten all xtick names to 10 characters\n",
    "plt.xticks([i for i in range(20)], [i[:20] for i in cur_fluxes.index[:20]], rotation=45, ha= 'right')\n",
    "# make xticks aligned to right left of bar\n",
    "plt.yscale('log')\n",
    "plt.ylabel('Flux counts')\n",
    "plt.title('Top 10 Fluxes')\n",
    "plt.show()"
   ],
   "metadata": {
    "collapsed": false,
    "ExecuteTime": {
     "start_time": "2023-05-03T13:22:16.618573Z",
     "end_time": "2023-05-03T13:22:16.788059Z"
    }
   },
   "id": "2d7fe0bb5c91a128",
   "outputs": []
  },
  {
   "cell_type": "markdown",
   "id": "28db669f-93f3-4f5c-aea0-e23b6a811660",
   "metadata": {},
   "source": [
    "## Connect to EcoCyc to go from Genes -> Reactions"
   ]
  },
  {
   "cell_type": "code",
   "execution_count": 90,
   "id": "a59449e4-be36-49c8-94ed-35c14f5bb72d",
   "metadata": {
    "ExecuteTime": {
     "start_time": "2023-05-03T13:22:16.787988Z",
     "end_time": "2023-05-03T13:22:17.108193Z"
    }
   },
   "source": [
    "s = requests.Session() # create session\n",
    "# Post login credentials to session:\n",
    "s.post('https://websvc.biocyc.org/credentials/login/', data={'email':'cellulararchitect@protonmail.com', 'password':'Cellman0451'})"
   ],
   "outputs": []
  },
  {
   "cell_type": "code",
   "execution_count": 91,
   "source": [
    "{\"G6245\", \"G7431\", \"G7452\"}"
   ],
   "metadata": {
    "collapsed": false,
    "ExecuteTime": {
     "start_time": "2023-05-03T13:22:17.107510Z",
     "end_time": "2023-05-03T13:22:17.110101Z"
    }
   },
   "id": "f9bd9252af7ce664",
   "outputs": []
  },
  {
   "cell_type": "code",
   "execution_count": 92,
   "id": "ab016fac-3d48-49fb-85c7-63826a8f5664",
   "metadata": {
    "ExecuteTime": {
     "start_time": "2023-05-03T13:22:17.120431Z",
     "end_time": "2023-05-03T13:22:17.122819Z"
    }
   },
   "source": [
    "condition_sets = {0: {\"Environment\": \"Hydrogen + fumarate, -O2, -Glc\",\n",
    "                      \"Genes\": {\"EG10468\", \"EG10469\", \"EG10470\", \"EG11799\", \"EG11800\", \"EG11801\", \"G7554\"},\n",
    "                      \"Add\": {\"FUM[p]\", 'HYDROGEN-MOLECULE[p]'},\n",
    "                      \"Remove\": {\"GLC[p]\", \"OXYGEN-MOLECULE[p]\"},\n",
    "                      },\n",
    "                  \n",
    "                  1: {\"Environment\": \"Ribose C-source\",\n",
    "                      \"Genes\": {\"EG10814\", \"EG10815\", \"EG10816\", \"EG10818\"},\n",
    "                      \"Add\": {\"D-Ribopyranose[p]\"},\n",
    "                      \"Remove\": {\"GLC[p]\"},\n",
    "                      },\n",
    "                  \n",
    "                  2: {\"Environment\": \"Thiamine salvaging\",\n",
    "                      \"Genes\": {\"EG11574\", \"G6566\", \"M007\", \"EG11573\", \"EG11572\"},\n",
    "                      \"Add\": {\"THIAMINE[p]\"},\n",
    "                      \"Remove\": set(),\n",
    "                      },\n",
    "                  \n",
    "                  3: {\"Environment\": \"Nitrate as reduction target\",\n",
    "                      \"Genes\": {\"EG10638\", \"EG10639\", \"EG10640\", \"EG10644\", \"EG10647\", \"EG10648\"},\n",
    "                      \"Add\": {\"NITRATE[p]\"},\n",
    "                      \"Remove\": {\"OXYGEN-MOLECULE[p]\"},\n",
    "                      },\n",
    "                  \n",
    "                  4: {\"Environment\": \"3-Phenylpropionate as carbon and energy source\",\n",
    "                      \"Genes\": {\"M010\", \"M011\", \"M012\", \"G6206\"},\n",
    "                      \"Add\": {\"3-PHENYLPROPIONATE[p]\"},\n",
    "                      \"Remove\": {\"GLC[p]\"},\n",
    "                      },\n",
    "\n",
    "                  5: {\"Environment\": \"Molybdenum cofactor synthesis\",\n",
    "                      \"Genes\": {\"EG11595\", \"EG11666\", \"EG11597\", \"EG11598\", \"EG11829\", \"G7496\", \"EG10002\", \"EG10152\",\n",
    "                                \"EG10153\", \"EG10154\"},\n",
    "                      \"Add\": {\"CPD-3[p]\"},\n",
    "                      \"Remove\": set(),\n",
    "                      \"Demand\": {\"CPD-8123[c]\"},\n",
    "                      },\n",
    "\n",
    "                  6: {\"Environment\": \"pre-Quenosine synthesis\",\n",
    "                      \"Genes\": {\"G6245\", \"G7431\", \"G7452\"},\n",
    "                      \"Add\": set(),\n",
    "                      \"Remove\": set(),\n",
    "                      \"Demand\": {\"7-AMINOMETHYL-7-DEAZAGUANINE[c]\"},\n",
    "                      },\n",
    "\n",
    "\n",
    "                  \n",
    "                  # 5: {\"Genes\": set([\"EG10286\", \"EG10287\", \"EG10288\", \"EG10289\", \n",
    "                  #                   \"EG10290\", \"EG10293\", \"EG10294\", \"EG10295\", \n",
    "                  #                   \"EG10296\", \"EG10298\", \"EG10302\", \"EG10303\", \n",
    "                  #                   \"EG10304\", \"EG10305\", \"EG10306\", \"G6414\"]), \n",
    "                  #     \"Add\": set(),\n",
    "                  #     \"Remove\": set(),\n",
    "                  #     \"Environment\": \"Proper metal (iron) uptake\"}\n",
    "                 }\n",
    "\n",
    "condition_df = pd.DataFrame(condition_sets).T\n",
    "condition_df[\"Reactions\"] = [[np.nan]] * len(condition_df)\n",
    "condition_df[\"Demand\"] = condition_df[\"Demand\"].fillna(False)\n",
    "condition_df"
   ],
   "outputs": []
  },
  {
   "cell_type": "code",
   "execution_count": 93,
   "id": "0ecc835e-9a66-4cfe-838f-257cf37449b0",
   "metadata": {
    "ExecuteTime": {
     "start_time": "2023-05-03T13:22:17.123952Z",
     "end_time": "2023-05-03T13:22:18.814660Z"
    }
   },
   "source": [
    "for i in range(len(condition_df.index)):\n",
    "    \n",
    "    genes = condition_df.loc[i, \"Genes\"]\n",
    "    rxn_set = set()\n",
    "\n",
    "    for gene in genes:\n",
    "        function = \"reactions-of-gene\"\n",
    "        name = gene\n",
    "        req_str = f\"https://websvc.biocyc.org/apixml?fn={function}&id=ECOLI:{name}&detail=none&fmt=json\"\n",
    "\n",
    "        r = s.get(req_str)\n",
    "        o = xmltodict.parse(r.content)['ptools-xml']['Reaction']\n",
    "        if type(o) is dict:\n",
    "            o = [o]\n",
    "        \n",
    "        for rxn in o:\n",
    "            if type(rxn) is not str: # no rxns\n",
    "                rxn_set.add(rxn['@frameid'])\n",
    "            else:\n",
    "                print(gene, rxn)\n",
    "            \n",
    "    condition_df.at[i, \"Reactions\"] = rxn_set"
   ],
   "outputs": []
  },
  {
   "cell_type": "code",
   "execution_count": 94,
   "id": "4ec194b0-2aeb-43b9-85c6-108bebb4a0e9",
   "metadata": {
    "ExecuteTime": {
     "start_time": "2023-05-03T13:22:18.821816Z",
     "end_time": "2023-05-03T13:22:18.824076Z"
    }
   },
   "source": [
    "condition_df"
   ],
   "outputs": []
  },
  {
   "cell_type": "markdown",
   "id": "bed4cb3d-8c43-44a6-9677-2769b81ade20",
   "metadata": {},
   "source": [
    "## Quick and dirty loop (after init)"
   ]
  },
  {
   "cell_type": "code",
   "execution_count": 95,
   "id": "810fa6c8-b907-45b1-a1a7-d072f2295fe2",
   "metadata": {
    "ExecuteTime": {
     "start_time": "2023-05-03T13:22:18.830617Z",
     "end_time": "2023-05-03T13:22:54.413756Z"
    }
   },
   "source": [
    "results_df = pd.DataFrame(columns=[\"Environment\", \"Reaction\", \"Flux\"])\n",
    "\n",
    "for i in range(len(condition_df)):\n",
    "    condition_idx = i\n",
    "\n",
    "    uptake = (fba[\"unconstrained_molecules\"][3]).copy()\n",
    "    uptake_c = fba[\"constrained_molecules\"]\n",
    "\n",
    "    homeostatic = dict(pd.DataFrame(fba[\"target_homeostatic_dmdt\"]).loc[4, :])\n",
    "    new_demand = condition_df.at[condition_idx, \"Demand\"]\n",
    "    if new_demand:\n",
    "        for met in new_demand:\n",
    "            homeostatic[met] = 100\n",
    "\n",
    "    uptake.extend(list(uptake_c.keys()))\n",
    "    uptake = set(uptake)\n",
    "\n",
    "    addition = condition_df.at[condition_idx, \"Add\"]\n",
    "    removals = condition_df.at[condition_idx, \"Remove\"]\n",
    "\n",
    "    uptake = uptake | addition\n",
    "    uptake = uptake - removals\n",
    "\n",
    "    model = NetworkFlowModel(reactions=stoichiometric_matrix_dict,\n",
    "                         homeostatic_metabolites=homeostatic,\n",
    "                         free_reactions=FREE_RXNS)\n",
    "\n",
    "    model.set_up_exchanges(exchanges=metabolism.exchange_molecules, uptakes=uptake)\n",
    "\n",
    "    solution: FlowResult = model.solve(homeostatic_targets=homeostatic,\n",
    "                                   maintenance_target=maintenance,\n",
    "                                   kinetic_targets=dict(kinetic),\n",
    "                                   reaction_catalyst_counts=sim_catalysts.to_dict()[4],\n",
    "                                   objective_weights={'secretion': 0.01, 'efficiency': 0.0001, 'kinetics': 0.000001},\n",
    "                                   upper_flux_bound=100000000)\n",
    "\n",
    "    # Check flux\n",
    "    fluxes = pd.DataFrame({model.rxns[i]: [solution.velocities[model.rxns[i]], stoichiometric_matrix_dict[model.rxns[i]]] for i in range(len(model.rxns))}).T\n",
    "    fluxes.columns = [\"Flux\", \"Stoichiometry\"]\n",
    "\n",
    "    relevant_rxns = condition_df.at[condition_idx, \"Reactions\"]\n",
    "    relevant_rxn_idx = []\n",
    "\n",
    "    for rxn in relevant_rxns:\n",
    "        relevant_rxn_idx.extend(list(np.where(fluxes.index.str.contains(rxn))[0] ))\n",
    "\n",
    "    relevant_fluxes = fluxes.iloc[relevant_rxn_idx, :]\n",
    "    \n",
    "    relevant_nonzero_fluxes = relevant_fluxes[relevant_fluxes[\"Flux\"] != 0].loc[:, \"Flux\"]\n",
    "    \n",
    "    for j, k in enumerate(relevant_nonzero_fluxes.index):\n",
    "        results_df = results_df.append(pd.DataFrame([[condition_df.at[condition_idx, \"Environment\"],\n",
    "                          relevant_nonzero_fluxes.index[j],\n",
    "                          relevant_nonzero_fluxes[k]]], columns=[\"Environment\", \"Reaction\", \"Flux\"]))\n",
    "\n",
    "    print(f\"\"\"finished {condition_df.at[condition_idx, \"Environment\"]}\"\"\")"
   ],
   "outputs": []
  },
  {
   "cell_type": "code",
   "execution_count": 108,
   "id": "3feb60e7-d881-4b21-afc4-e501301874bc",
   "metadata": {
    "ExecuteTime": {
     "start_time": "2023-05-03T13:38:34.731609Z",
     "end_time": "2023-05-03T13:38:34.737887Z"
    }
   },
   "source": [
    "results_df[\"Reaction\"] = results_df['Reaction'].str.slice(0,20)\n",
    "results_df[\"log(Flux)\"] = np.log10(results_df[\"Flux\"])\n",
    "results_df"
   ],
   "outputs": []
  },
  {
   "cell_type": "code",
   "execution_count": 114,
   "source": [
    "# for each environment, plot the fluxes of the reactions that are relevant to that environment\n",
    "g = sns.catplot(y=\"Environment\",hue=\"Reaction\", x=\"log(Flux)\", data=results_df, kind=\"bar\", aspect=2, height=10, sharey=False)\n",
    "g.savefig(\"notebooks/fbagd/figures/rxns_light_up.pdf\")"
   ],
   "metadata": {
    "collapsed": false,
    "ExecuteTime": {
     "start_time": "2023-05-03T13:40:35.617460Z",
     "end_time": "2023-05-03T13:40:36.234754Z"
    }
   },
   "id": "79bcaa9e8d71e4a9",
   "outputs": []
  },
  {
   "cell_type": "markdown",
   "id": "dc585496-f8aa-4a33-95c6-080673fdacee",
   "metadata": {
    "tags": []
   },
   "source": [
    "# Check kinetics"
   ]
  },
  {
   "cell_type": "code",
   "execution_count": 71,
   "source": [
    "uptake = (fba[\"unconstrained_molecules\"][3]).copy()\n",
    "uptake_c = fba[\"constrained_molecules\"]\n",
    "\n",
    "homeostatic = dict(pd.DataFrame(fba[\"target_homeostatic_dmdt\"]).loc[4, :])\n",
    "exchanges = pd.DataFrame(fba[\"estimated_exchange_dmdt\"]).loc[4, :]\n",
    "maintenance = pd.DataFrame(fba[\"maintenance_target\"]).at[4, 'maintenance_reaction']\n",
    "kinetic = dict(pd.DataFrame(fba[\"target_kinetic_fluxes\"]).loc[4, :])\n",
    "sim_fluxes = dict(pd.DataFrame(fba[\"estimated_fluxes\"]).loc[4, :])\n",
    "\n",
    "uptake.extend(list(uptake_c.keys()))\n",
    "uptake = set(uptake)"
   ],
   "metadata": {
    "collapsed": false,
    "ExecuteTime": {
     "start_time": "2023-04-28T10:37:03.150602Z",
     "end_time": "2023-04-28T10:37:03.236435Z"
    }
   },
   "id": "242b07a08dc99b97",
   "outputs": []
  },
  {
   "cell_type": "code",
   "execution_count": 63,
   "source": [
    "model = NetworkFlowModel(reactions=stoichiometric_matrix_dict,\n",
    "                         homeostatic_metabolites=metabolism.homeostatic_objective,\n",
    "                         free_reactions=FREE_RXNS)\n",
    "\n",
    "model.set_up_exchanges(exchanges=metabolism.exchange_molecules, uptakes=metabolism.allowed_exchange_uptake)\n",
    "\n",
    "solution: FlowResult = model.solve(homeostatic_targets=homeostatic,\n",
    "                                   maintenance_target=maintenance,\n",
    "                                   kinetic_targets=kinetic,\n",
    "                                   reaction_catalyst_counts=sim_catalysts.to_dict()[4],\n",
    "                                   objective_weights={'secretion': 0.01, 'efficiency': 0.0001, 'kinetics': 0.00001},\n",
    "                                   upper_flux_bound=100000000)"
   ],
   "metadata": {
    "collapsed": false,
    "ExecuteTime": {
     "start_time": "2023-04-28T10:02:20.823261Z",
     "end_time": "2023-04-28T10:02:26.443574Z"
    }
   },
   "id": "85f456654a45cdd",
   "outputs": []
  },
  {
   "cell_type": "code",
   "execution_count": 64,
   "source": [
    "solution.velocities"
   ],
   "metadata": {
    "collapsed": false,
    "ExecuteTime": {
     "start_time": "2023-04-28T10:02:26.457570Z",
     "end_time": "2023-04-28T10:02:26.460895Z"
    }
   },
   "id": "8295c8f3be3c5c5b",
   "outputs": []
  },
  {
   "cell_type": "code",
   "execution_count": 65,
   "source": [
    "comparison = {key: [kinetic[key], solution.velocities[key]] for key in kinetic.keys()}\n",
    "comparison = pd.DataFrame(comparison).T.reset_index()\n",
    "comparison.columns = [\"Reaction\", \"Target\", \"Estimated\"]\n",
    "# comparison = comparison.melt(id_vars=\"Reaction\", value_vars=[\"Target\", \"Estimated\"], var_name=\"Type\", value_name=\"Flux\")\n",
    "comparison"
   ],
   "metadata": {
    "collapsed": false,
    "ExecuteTime": {
     "start_time": "2023-04-28T10:02:26.469053Z",
     "end_time": "2023-04-28T10:02:26.494442Z"
    }
   },
   "id": "54be6e6e7986127e",
   "outputs": []
  },
  {
   "cell_type": "code",
   "execution_count": 66,
   "source": [
    "sns.scatterplot(x=\"Target\", y=\"Estimated\", data=comparison)\n",
    "plt.yscale('log')"
   ],
   "metadata": {
    "collapsed": false,
    "ExecuteTime": {
     "start_time": "2023-04-28T10:02:26.477709Z",
     "end_time": "2023-04-28T10:02:26.576911Z"
    }
   },
   "id": "cf7350b228bd2cad",
   "outputs": []
  },
  {
   "cell_type": "markdown",
   "source": [
    "## Evaluate actual sim fluxes"
   ],
   "metadata": {
    "collapsed": false
   },
   "id": "31301e9f4091cbd"
  },
  {
   "cell_type": "code",
   "execution_count": 68,
   "source": [
    "fba.keys()"
   ],
   "metadata": {
    "collapsed": false
   },
   "id": "58618e691d9e3948",
   "outputs": []
  },
  {
   "cell_type": "code",
   "execution_count": 73,
   "source": [
    "sim_comparison = {key: [kinetic[key], solution.velocities[key]] for key in kinetic.keys()}\n",
    "sim_comparison = pd.DataFrame(sim_comparison).T.reset_index()\n",
    "sim_comparison.columns = [\"Reaction\", \"Target\", \"Estimated\"]\n",
    "# comparison = comparison.melt(id_vars=\"Reaction\", value_vars=[\"Target\", \"Estimated\"], var_name=\"Type\", value_name=\"Flux\")\n",
    "sim_comparison"
   ],
   "metadata": {
    "collapsed": false
   },
   "id": "2d3455d3f36755c",
   "outputs": []
  },
  {
   "cell_type": "code",
   "execution_count": null,
   "source": [],
   "metadata": {
    "collapsed": false
   },
   "id": "4ed382eff1cd795e",
   "outputs": []
  }
 ],
 "metadata": {
  "kernelspec": {
   "display_name": "Python 3 (ipykernel)",
   "language": "python",
   "name": "python3"
  },
  "language_info": {
   "codemirror_mode": {
    "name": "ipython",
    "version": 3
   },
   "file_extension": ".py",
   "mimetype": "text/x-python",
   "name": "python",
   "nbconvert_exporter": "python",
   "pygments_lexer": "ipython3",
   "version": "3.9.9"
  }
 },
 "nbformat": 4,
 "nbformat_minor": 5
}
