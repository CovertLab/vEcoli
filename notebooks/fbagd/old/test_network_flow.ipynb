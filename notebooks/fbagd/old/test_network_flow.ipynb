{
 "cells": [
  {
   "cell_type": "code",
   "execution_count": 1,
   "id": "8022bfb4-c69b-4cb7-a24c-fec017cc3661",
   "metadata": {},
   "source": [
    "%load_ext autoreload\n",
    "%autoreload 2\n",
    "\n",
    "import numpy as np\n",
    "\n",
    "import seaborn as sns\n",
    "import pandas as pd\n",
    "import os\n",
    "import matplotlib.pyplot as plt\n",
    "import dill\n",
    "import requests\n",
    "import xmltodict\n",
    "import cvxpy as cp\n",
    "import itertools\n",
    "from scipy.special import logsumexp\n",
    "\n",
    "sns.set(style='darkgrid', palette='viridis', context='talk')\n",
    "\n",
    "os.chdir(os.path.expanduser('~/vivarium-ecoli'))\n",
    "\n",
    "\n",
    "from ecoli.processes.metabolism_redux import NetworkFlowModel, FlowResult, BAD_RXNS, FREE_RXNS"
   ],
   "outputs": []
  },
  {
   "cell_type": "markdown",
   "id": "a143cbbb-3570-4548-bc24-f499c070a880",
   "metadata": {
    "tags": []
   },
   "source": [
    "# Import simulation output\n",
    "\n",
    "Before running this, run a sim in ecoli/experiments/metabolism_redux_sim.py with -n 2 to generate a simulation output. This is necessary to replicate the simulation environment. Use the default .json config."
   ]
  },
  {
   "cell_type": "code",
   "execution_count": 2,
   "id": "09934d23-df11-4304-9ef4-eb81f0b818c1",
   "metadata": {},
   "source": [
    "time = '10'\n",
    "date = '2023-04-24'\n",
    "experiment = 'fba-redux'\n",
    "entry = f'{experiment}_{time}_{date}'\n",
    "folder = f'out/fbagd/{entry}/'"
   ],
   "outputs": []
  },
  {
   "cell_type": "code",
   "execution_count": 3,
   "id": "b31e4a2e-0491-4e96-946d-9bca6cd43d79",
   "metadata": {},
   "source": [
    "output = np.load(folder + 'output.npy',allow_pickle='TRUE').item()\n",
    "# output = np.load(r\"out/geneRxnVerifData/output_glc.npy\", allow_pickle=True, encoding='ASCII').tolist()\n",
    "output = output['agents']['0']\n",
    "fba = output['listeners']['fba_results']\n",
    "mass = output['listeners']['mass']\n",
    "bulk = pd.DataFrame(output['bulk'])"
   ],
   "outputs": []
  },
  {
   "cell_type": "code",
   "execution_count": 4,
   "id": "fc9f4494-cab0-43d1-bae7-85572d8e4166",
   "metadata": {},
   "source": [
    "f = open(folder + 'agent_steps.pkl', 'rb')\n",
    "agent = dill.load(f)\n",
    "f.close()"
   ],
   "outputs": []
  },
  {
   "cell_type": "code",
   "execution_count": 5,
   "id": "27c1e87b-1ff5-4d04-89ac-5aa2bf6dbb9a",
   "metadata": {},
   "source": [
    "type = 'ecoli-metabolism-redux'\n",
    "\n",
    "if type == 'ecoli-metabolism-redux':\n",
    "    metabolism = agent['ecoli-metabolism-redux']\n",
    "    stoichiometry = metabolism.stoichiometry\n",
    "    stoichiometric_matrix_dict = {item[\"reaction id\"]: item[\"stoichiometry\"] for item in stoichiometry}\n",
    "elif type == 'ecoli-metabolism':\n",
    "    stoichiometry = agent['ecoli-metabolism'].model.stoichiometry\n",
    "    maintenance_reaction = agent['ecoli-metabolism'].model.maintenance_reaction\n",
    "    stoichiometry[\"maintenance_reaction\"] = maintenance_reaction\n",
    "\n",
    "\n",
    "# for rxn in BAD_RXNS:\n",
    "#     stoichiometric_matrix_dict.pop(rxn, None)"
   ],
   "outputs": []
  },
  {
   "cell_type": "markdown",
   "id": "cc853a7f-8d04-42f7-97d1-7ec846a4ef41",
   "metadata": {},
   "source": [
    "Pandas automatically understands dicts of dicts as matrices."
   ]
  },
  {
   "cell_type": "code",
   "execution_count": 6,
   "source": [
    "sim_exchanges = pd.DataFrame(fba[\"estimated_exchange_dmdt\"])\n",
    "sim_exchanges = pd.DataFrame(sim_exchanges.loc[4, :].abs().sort_values(ascending=False))\n",
    "sim_exchanges.head(10)\n",
    "\n",
    "# plot the top 10 fluxes from sim_fluxes as a bar plot.\n",
    "plt.figure(figsize=(15, 5))\n",
    "plt.plot(sim_exchanges.head(20), 'o')\n",
    "\n",
    "# shorten all xtick names to 10 characters\n",
    "plt.xticks([i for i in range(20)], [i[:20] for i in sim_exchanges.index[:20]], rotation=45, ha= 'right')\n",
    "# make xticks aligned to right left of bar\n",
    "plt.yscale('log')\n",
    "plt.ylabel('Flux counts')\n",
    "plt.title('Top 10 Fluxes')\n",
    "plt.show()"
   ],
   "metadata": {
    "collapsed": false
   },
   "id": "497630022ab683ad",
   "outputs": []
  },
  {
   "cell_type": "code",
   "execution_count": 7,
   "source": [
    "sim_fluxes = pd.DataFrame(fba[\"estimated_fluxes\"])\n",
    "sim_fluxes = pd.DataFrame(sim_fluxes.loc[4, :].abs().sort_values(ascending=False))\n",
    "\n",
    "\n",
    "# plot the top 10 fluxes from sim_fluxes as a bar plot.\n",
    "plt.figure(figsize=(15, 5))\n",
    "plt.plot(sim_fluxes.head(20), 'o')\n",
    "\n",
    "# shorten all xtick names to 10 characters\n",
    "plt.xticks([i for i in range(20)], [i[:20] for i in sim_fluxes.index[:20]], rotation=45, ha= 'right')\n",
    "# make xticks aligned to right left of bar\n",
    "\n",
    "\n",
    "plt.ylabel('Flux counts')\n",
    "# log scale\n",
    "plt.yscale('log')\n",
    "plt.title('Top 10 Fluxes')\n",
    "plt.show()"
   ],
   "metadata": {
    "collapsed": false
   },
   "id": "9985ed6b1ca825d5",
   "outputs": []
  },
  {
   "cell_type": "code",
   "execution_count": 8,
   "source": [
    "sim_fluxes.head(20)"
   ],
   "metadata": {
    "collapsed": false
   },
   "id": "fa65bb4f1c3563e9",
   "outputs": []
  },
  {
   "cell_type": "code",
   "execution_count": 9,
   "source": [
    "sim_catalysts = pd.DataFrame(fba[\"reaction_catalyst_counts\"])\n",
    "sim_catalysts = pd.DataFrame(sim_catalysts.loc[4, :].abs().sort_values(ascending=False))\n",
    "sim_catalysts"
   ],
   "metadata": {
    "collapsed": false
   },
   "id": "15e5cdc5314ad0d8",
   "outputs": []
  },
  {
   "cell_type": "markdown",
   "id": "31b1bb0c-c85e-442c-8482-5d24d54fba82",
   "metadata": {
    "tags": []
   },
   "source": [
    "# Test changing nutrient composition"
   ]
  },
  {
   "cell_type": "code",
   "execution_count": 10,
   "id": "2b1e4b98-f158-48f0-b15f-f47c73b3d94a",
   "metadata": {},
   "source": [
    "uptake = (fba[\"unconstrained_molecules\"][3]).copy()\n",
    "uptake_c = fba[\"constrained_molecules\"]\n",
    "\n",
    "uptake.extend(list(uptake_c.keys()))\n",
    "uptake = set(uptake)\n",
    "\n",
    "# addition = set([\"CPD0-1074[c]\"])\n",
    "addition = set([\n",
    "        # \"FRU[p]\",\n",
    "        # \"NITRATE[p]\"\n",
    "        # 'THIAMINE[p]',\n",
    "        # 'HYDROGEN-MOLECULE[p]',\n",
    "        # 'FUM[p]'\n",
    "])\n",
    "removals = set([\n",
    "                  # \"GLC[p]\",\n",
    "               #      # 'AMMONIUM[c]',\n",
    "               #      # 'WATER[p]'\n",
    "               #       # 'Pi[p]',\n",
    "               #       # 'SULFATE[p]'\n",
    "               # 'OXYGEN-MOLECULE[p]'\n",
    "])\n",
    "\n",
    "\n",
    "uptake = uptake | addition\n",
    "uptake = uptake - removals\n",
    "uptake"
   ],
   "outputs": []
  },
  {
   "cell_type": "markdown",
   "source": [
    "# Use NetworkFlowModel class to run model"
   ],
   "metadata": {
    "collapsed": false
   },
   "id": "d8ab452c41670416"
  },
  {
   "cell_type": "code",
   "execution_count": 11,
   "source": [
    "homeostatic = pd.DataFrame(fba[\"target_homeostatic_dmdt\"]).loc[4, :]\n",
    "exchanges = pd.DataFrame(fba[\"estimated_exchange_dmdt\"]).loc[4, :]\n",
    "maintenance = pd.DataFrame(fba[\"maintenance_target\"]).at[4, 'maintenance_reaction']\n",
    "kinetic = pd.DataFrame(fba[\"target_kinetic_fluxes\"]).loc[4, :]\n",
    "homeostatic"
   ],
   "metadata": {
    "collapsed": false
   },
   "id": "ebf3bbb2e420a17e",
   "outputs": []
  },
  {
   "cell_type": "code",
   "execution_count": 12,
   "source": [
    "model = NetworkFlowModel(reactions=stoichiometric_matrix_dict,\n",
    "                         homeostatic_metabolites=metabolism.homeostatic_objective,\n",
    "                         free_reactions=FREE_RXNS)"
   ],
   "metadata": {
    "collapsed": false
   },
   "id": "86740220a9ba0e3e",
   "outputs": []
  },
  {
   "cell_type": "code",
   "execution_count": 13,
   "source": [
    "model.set_up_exchanges(exchanges=metabolism.exchange_molecules, uptakes=metabolism.allowed_exchange_uptake)"
   ],
   "metadata": {
    "collapsed": false
   },
   "id": "79a32f431bcdd6ce",
   "outputs": []
  },
  {
   "cell_type": "code",
   "execution_count": 14,
   "source": [
    "solution: FlowResult = model.solve(homeostatic_targets=dict(homeostatic),\n",
    "                                   maintenance_target=maintenance,\n",
    "                                   kinetic_targets=dict(kinetic),\n",
    "                                   reaction_catalyst_counts=sim_catalysts.to_dict()[4],\n",
    "                                   objective_weights={'secretion': 0.01, 'efficiency': 0.0001, 'kinetics': 0.000001},\n",
    "                                   upper_flux_bound=100000000)"
   ],
   "metadata": {
    "collapsed": false
   },
   "id": "1d7c0b2240bef0ad",
   "outputs": []
  },
  {
   "cell_type": "code",
   "execution_count": 23,
   "source": [
    "cur_exchanges = pd.Series(solution.exchanges).abs().sort_values(ascending=False)\n",
    "\n",
    "# plot the top 10 fluxes from sim_fluxes as a bar plot.\n",
    "plt.figure(figsize=(30, 5))\n",
    "plt.plot(cur_exchanges.head(30), 'o')\n",
    "\n",
    "# shorten all xtick names to 10 characters\n",
    "plt.xticks([i for i in range(30)], [i[:20] for i in cur_exchanges.index[:30]], rotation=45, ha= 'right')\n",
    "# make xticks aligned to right left of bar\n",
    "plt.yscale('log')\n",
    "plt.ylabel('Flux counts')\n",
    "plt.title('Top 10 Fluxes')\n",
    "plt.show()"
   ],
   "metadata": {
    "collapsed": false
   },
   "id": "afd05686372004d1",
   "outputs": []
  },
  {
   "cell_type": "code",
   "execution_count": 16,
   "source": [
    "cur_fluxes = pd.Series(solution.velocities).abs().sort_values(ascending=False)\n",
    "\n",
    "# plot the top 10 fluxes from sim_fluxes as a bar plot.\n",
    "plt.figure(figsize=(15, 5))\n",
    "plt.plot(cur_fluxes.head(20), 'o')\n",
    "\n",
    "# shorten all xtick names to 10 characters\n",
    "plt.xticks([i for i in range(20)], [i[:20] for i in cur_fluxes.index[:20]], rotation=45, ha= 'right')\n",
    "# make xticks aligned to right left of bar\n",
    "plt.yscale('log')\n",
    "plt.ylabel('Flux counts')\n",
    "plt.title('Top 10 Fluxes')\n",
    "plt.show()"
   ],
   "metadata": {
    "collapsed": false
   },
   "id": "2d8589cdb5173a5f",
   "outputs": []
  },
  {
   "cell_type": "markdown",
   "source": [
    "# Use parametrized method"
   ],
   "metadata": {
    "collapsed": false
   },
   "id": "e2b37bfef0290514"
  }
 ],
 "metadata": {
  "kernelspec": {
   "display_name": "Python 3 (ipykernel)",
   "language": "python",
   "name": "python3"
  },
  "language_info": {
   "codemirror_mode": {
    "name": "ipython",
    "version": 3
   },
   "file_extension": ".py",
   "mimetype": "text/x-python",
   "name": "python",
   "nbconvert_exporter": "python",
   "pygments_lexer": "ipython3",
   "version": "3.9.9"
  }
 },
 "nbformat": 4,
 "nbformat_minor": 5
}
