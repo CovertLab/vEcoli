{
 "cells": [
  {
   "cell_type": "code",
   "execution_count": 29,
   "id": "8022bfb4-c69b-4cb7-a24c-fec017cc3661",
   "metadata": {},
   "source": [
    "import numpy as np\n",
    "from scipy import linalg, special\n",
    "from scipy.sparse import csr_matrix\n",
    "import sympy\n",
    "import seaborn as sns\n",
    "import pandas as pd\n",
    "import os\n",
    "\n",
    "os.chdir(os.path.expanduser('~/vivarium-ecoli'))\n",
    "\n",
    "import matplotlib.pyplot as plt\n",
    "import dill\n",
    "import cvxpy as cp\n",
    "import copy\n",
    "import requests\n",
    "import xmltodict\n",
    "from typing import Any, Iterable, Iterator, Mapping, Optional, Tuple, Union\n",
    "from dataclasses import dataclass\n",
    "from ecoli.processes.metabolism_redux import NetworkFlowModel, FlowResult\n",
    "\n",
    "\n",
    "sns.set(style='darkgrid', palette='viridis', context='talk')\n"
   ],
   "outputs": []
  },
  {
   "cell_type": "markdown",
   "id": "a143cbbb-3570-4548-bc24-f499c070a880",
   "metadata": {
    "tags": []
   },
   "source": [
    "# Import simulation output"
   ]
  },
  {
   "cell_type": "code",
   "execution_count": 30,
   "id": "09934d23-df11-4304-9ef4-eb81f0b818c1",
   "metadata": {},
   "source": [
    "time = '10'\n",
    "date = '2023-04-10'\n",
    "experiment = 'fba-redux-standard'\n",
    "entry = f'{experiment}_{time}_{date}'\n",
    "folder = f'out/fbagd/{entry}/'"
   ],
   "outputs": []
  },
  {
   "cell_type": "code",
   "execution_count": 31,
   "id": "b31e4a2e-0491-4e96-946d-9bca6cd43d79",
   "metadata": {},
   "source": [
    "output = np.load(folder + 'output.npy',allow_pickle='TRUE').item()\n",
    "# output = np.load(r\"out/geneRxnVerifData/output_glc.npy\", allow_pickle=True, encoding='ASCII').tolist()\n",
    "output = output['agents']['0']\n",
    "fba = output['listeners']['fba_results']\n",
    "mass = output['listeners']['mass']\n",
    "bulk = pd.DataFrame(output['bulk'])"
   ],
   "outputs": []
  },
  {
   "cell_type": "code",
   "execution_count": 32,
   "id": "fc9f4494-cab0-43d1-bae7-85572d8e4166",
   "metadata": {},
   "source": [
    "f = open(folder + 'agent_steps.pkl', 'rb')\n",
    "agent = dill.load(f)\n",
    "f.close()"
   ],
   "outputs": []
  },
  {
   "cell_type": "code",
   "execution_count": 33,
   "id": "27c1e87b-1ff5-4d04-89ac-5aa2bf6dbb9a",
   "metadata": {},
   "source": [
    "stoichiometry = agent['ecoli-metabolism'].model.stoichiometry\n",
    "maintenance_reaction = agent['ecoli-metabolism'].model.maintenance_reaction\n",
    "stoichiometry[\"maintenance_reaction\"] = maintenance_reaction\n",
    "\n",
    "bad_rxns = [\"RXN-12440\", \"TRANS-RXN-121\", \"TRANS-RXN-300\", \"TRANS-RXN-8\"] # generate carbon mistake in parca, efflux/influx proton gen, iron cheating\n",
    "for rxn in bad_rxns:\n",
    "    stoichiometry.pop(rxn, None)\n"
   ],
   "outputs": []
  },
  {
   "cell_type": "markdown",
   "id": "cc853a7f-8d04-42f7-97d1-7ec846a4ef41",
   "metadata": {},
   "source": [
    "Pandas automatically understands dicts of dicts as matrices."
   ]
  },
  {
   "cell_type": "code",
   "execution_count": 34,
   "id": "14eba36e-0710-4084-b94b-99a4a30ec6dc",
   "metadata": {},
   "source": [
    "sim_fluxes = pd.DataFrame(fba[\"estimated_fluxes\"])\n",
    "sim_fluxes = pd.DataFrame(sim_fluxes.loc[4, :].abs().sort_values(ascending=False))\n",
    "sim_fluxes.head(10)"
   ],
   "outputs": []
  },
  {
   "cell_type": "markdown",
   "id": "31b1bb0c-c85e-442c-8482-5d24d54fba82",
   "metadata": {
    "tags": []
   },
   "source": [
    "# Change nutrient composition"
   ]
  },
  {
   "cell_type": "code",
   "execution_count": 35,
   "id": "2b1e4b98-f158-48f0-b15f-f47c73b3d94a",
   "metadata": {},
   "source": [
    "uptake = (fba[\"unconstrained_molecules\"][3]).copy()\n",
    "uptake_c = fba[\"constrained_molecules\"]\n",
    "\n",
    "uptake.extend(list(uptake_c.keys()))\n",
    "uptake = set(uptake)\n",
    "\n",
    "# addition = set([\"CPD0-1074[c]\"])\n",
    "addition = set(\n",
    "    [\n",
    "        # \"D-Ribopyranose[p]\",\n",
    "        # \"NITRATE[p]\"\n",
    "        # 'THIAMINE[p]',\n",
    "        # 'HYDROGEN-MOLECULE[p]',\n",
    "        # 'FUM[p]'\n",
    "    ]\n",
    ")\n",
    "removals = set(\n",
    "                [\n",
    "               #    \"GLC[p]\",\n",
    "               #      # 'AMMONIUM[c]',\n",
    "               #      # 'WATER[p]'\n",
    "               #       # 'Pi[p]',\n",
    "               #       # 'SULFATE[p]'\n",
    "               # 'OXYGEN-MOLECULE[p]'\n",
    "                ]\n",
    "                )\n",
    "\n",
    "\n",
    "uptake = uptake | addition\n",
    "uptake = uptake - removals\n",
    "uptake"
   ],
   "outputs": []
  },
  {
   "cell_type": "markdown",
   "source": [
    "# Use NetworkFlowModel class to run model"
   ],
   "metadata": {
    "collapsed": false,
    "pycharm": {
     "name": "#%% md\n"
    }
   },
   "id": "1a89fff8c0762844"
  },
  {
   "cell_type": "code",
   "execution_count": 36,
   "source": [
    "homeostatic = pd.DataFrame(fba[\"target_homeostatic_dmdt\"]).loc[4, :]\n",
    "exchanges = pd.DataFrame(fba[\"estimated_exchange_dmdt\"]).loc[4, :]\n",
    "maintenance = pd.DataFrame(fba[\"target_maintenance_flux\"]).at[4, 0]\n",
    "kinetic = pd.DataFrame(fba[\"target_kinetic_fluxes\"]).loc[4, :]\n",
    "homeostatic"
   ],
   "metadata": {
    "collapsed": false,
    "pycharm": {
     "name": "#%%\n"
    }
   },
   "id": "5eaf702ab7b5ed32",
   "outputs": []
  },
  {
   "cell_type": "code",
   "execution_count": 37,
   "source": [
    "model = NetworkFlowModel(reactions=stoichiometry, homeostatic_metabolites=list(dict(homeostatic).keys()))"
   ],
   "metadata": {
    "collapsed": false,
    "pycharm": {
     "name": "#%%\n"
    }
   },
   "id": "a1c606d86d440059",
   "outputs": []
  },
  {
   "cell_type": "code",
   "execution_count": 38,
   "source": [
    "model.set_up_exchanges(exchanges=list(dict(exchanges).keys()), uptakes=uptake)"
   ],
   "metadata": {
    "collapsed": false,
    "pycharm": {
     "name": "#%%\n"
    }
   },
   "id": "c4e4e526b3c7d669",
   "outputs": []
  },
  {
   "cell_type": "code",
   "execution_count": 39,
   "source": [
    "solution: FlowResult = model.solve(homeostatic_targets=dict(homeostatic),\n",
    "                                   maintenance_target=maintenance,\n",
    "                                   kinetic_targets=dict(kinetic),\n",
    "                                   binary_kinetic_targets={},\n",
    "                                   objective_weights={'secretion': 0.001, 'efficiency': 0.00001, 'kinetics': 0.000001},\n",
    "                                   upper_flux_bound=100000000)"
   ],
   "metadata": {
    "collapsed": false,
    "pycharm": {
     "name": "#%%\n"
    }
   },
   "id": "2c9ff1f8ba2e7ccc",
   "outputs": []
  },
  {
   "cell_type": "code",
   "execution_count": 27,
   "source": [
    "pd.Series(solution.exchanges).sort_values(ascending=False).head(10)"
   ],
   "metadata": {
    "collapsed": false,
    "pycharm": {
     "name": "#%%\n"
    }
   },
   "id": "550e98c52b2ce441",
   "outputs": []
  },
  {
   "cell_type": "code",
   "execution_count": 28,
   "source": [
    "pd.Series(solution.velocities).sort_values(ascending=False).head(10)"
   ],
   "metadata": {
    "collapsed": false,
    "pycharm": {
     "name": "#%%\n"
    }
   },
   "id": "67e1c1ee3819e3db",
   "outputs": []
  },
  {
   "cell_type": "markdown",
   "source": [
    "# Original"
   ],
   "metadata": {
    "collapsed": false,
    "pycharm": {
     "name": "#%% md\n"
    }
   },
   "id": "760003a31fce2f66"
  },
  {
   "cell_type": "code",
   "execution_count": 88,
   "id": "77925289-ed73-4cda-b664-80afdaa47971",
   "metadata": {},
   "source": [
    "Sd = pd.DataFrame(stoichiometry, dtype=np.int8).fillna(0).astype(np.int8)\n"
   ],
   "outputs": []
  },
  {
   "cell_type": "code",
   "execution_count": 105,
   "id": "cca88dc1-eac0-48a2-a6c1-a8b697c86dc1",
   "metadata": {},
   "source": [
    "#stoich_dict = {item[\"reaction id\"]: item[\"stoichiometry\"] for item in stoichiometry}\n",
    "\n",
    "mets_df = pd.DataFrame(Sd.index, columns=[\"Name\"]) # index to name\n",
    "rxns_df = pd.DataFrame(Sd.columns, columns=[\"Name\"]) \n",
    "\n",
    "exchanges = pd.DataFrame(fba[\"estimated_exchange_dmdt\"])\n",
    "homeostatic = pd.DataFrame(fba[\"target_homeostatic_dmdt\"])\n",
    "maintenance = pd.DataFrame(fba[\"target_maintenance_flux\"])\n",
    "kinetic = pd.DataFrame(fba[\"target_kinetic_fluxes\"])\n",
    "\n",
    "kinetic = pd.DataFrame(fba[\"target_kinetic_fluxes\"])\n",
    "kin_rxns = list(kinetic.keys())\n",
    "\n",
    "homeostatic_mets = list(homeostatic.keys())\n",
    "exchange_mets = list(exchanges.keys())\n",
    "intermediate_mets = list(set(mets_df[\"Name\"]) - set(homeostatic.keys()))\n",
    "\n",
    "n_mets, n_orig_rxns = Sd.shape\n",
    "\n",
    "exchange_mets.extend(list(uptake))\n",
    "\n",
    "Se = pd.DataFrame(index=Sd.index)\n",
    "\n",
    "for met in exchange_mets:\n",
    "    exch_name = met + \" exchange\"\n",
    "    if met in uptake:\n",
    "        Se[exch_name] = np.zeros(n_mets).astype(np.int8)\n",
    "        Se.at[met, exch_name] = 1\n",
    "    \n",
    "    Se[exch_name + \" rev\"] = np.zeros(n_mets).astype(np.int8)\n",
    "    Se.at[met, exch_name + \" rev\"] = -1\n",
    "      \n",
    "    \n",
    "    \n",
    "S_orig = np.array(Sd, dtype=np.float64)\n",
    "S_exch = np.array(Se, dtype=np.float64)\n",
    "\n",
    "_, n_exch_rxns = S_exch.shape\n",
    "\n",
    "\n",
    "int_df = mets_df[mets_df['Name'].isin(intermediate_mets)].reset_index()\n",
    "int_idx = list(int_df[\"index\"])\n",
    "\n",
    "hom_df = mets_df[mets_df['Name'].isin(homeostatic_mets)].reset_index()\n",
    "target_hom = pd.DataFrame(homeostatic.loc[4, :]).reset_index(drop=False)\n",
    "target_hom.columns = [\"Name\", \"Count\"]\n",
    "merge_df = hom_df.set_index('Name').join(target_hom.set_index('Name'))\n",
    "\n",
    "kin_df = rxns_df[rxns_df['Name'].isin(kin_rxns)].reset_index()\n",
    "target_kin = pd.DataFrame(kinetic.loc[4, :]).reset_index(drop=False)\n",
    "target_kin.columns = [\"Name\", \"Flux\"]\n",
    "merge_kin_df = kin_df.set_index('Name').join(target_kin.set_index('Name'))\n",
    "\n",
    "v_hom = np.array(merge_df[\"Count\"]).astype(np.float64)\n",
    "hom_idx = np.array(merge_df[\"index\"]).astype(np.int64)\n",
    "\n",
    "v_kin = np.array(merge_kin_df[\"Flux\"]).astype(np.float64)\n",
    "kin_idx = np.array(merge_kin_df[\"index\"]).astype(np.int64)\n",
    "\n",
    "v_main = np.array(fba[\"target_maintenance_flux\"][4])\n",
    "main_idx = list(Sd.columns).index(\"maintenance_reaction\")\n",
    "\n",
    "\n",
    "secretion_idx = np.where(S_exch.sum(axis=0) == -1)[0]"
   ],
   "outputs": []
  },
  {
   "cell_type": "code",
   "execution_count": 106,
   "id": "2b4e0a7a-d825-40fb-855d-3b7c9b75c764",
   "metadata": {},
   "source": [
    "v = cp.Variable(n_orig_rxns)\n",
    "e = cp.Variable(n_exch_rxns)\n",
    "v_t = cp.hstack([v,e])\n",
    "dm = S_orig @ v + S_exch @ e \n",
    "\n",
    "\n",
    "constr = []\n",
    "constr.append(dm[int_idx] == 0)\n",
    "constr.append(v[main_idx] == v_main)\n",
    "# constr.append(dm[hom_idx] == v_hom)\n",
    "constr.extend([v >= 0, v <= 100000000, e >= 0, e <= 100000000])\n",
    "\n",
    "loss = 0\n",
    "loss += cp.norm1(dm[hom_idx] - v_hom)\n",
    "loss += 0.0001*(cp.sum(e[secretion_idx]))\n",
    "loss += 0.00001*(cp.sum(v))\n",
    "loss += 0.0000001 * cp.norm1(v[kin_idx] - v_kin)"
   ],
   "outputs": []
  },
  {
   "cell_type": "code",
   "execution_count": 107,
   "id": "220df076-1c00-4108-aa15-15eace88153a",
   "metadata": {},
   "source": [
    "p = cp.Problem(\n",
    "        cp.Minimize(loss),\n",
    "    constr\n",
    "    )\n",
    "               \n",
    "p.solve(solver=cp.GLOP, verbose=False)"
   ],
   "outputs": []
  },
  {
   "cell_type": "markdown",
   "id": "13095837-7ebf-4688-a90e-26840d832aaf",
   "metadata": {
    "tags": []
   },
   "source": [
    "# Analyze output"
   ]
  },
  {
   "cell_type": "code",
   "execution_count": 108,
   "id": "4bfdd4bd-b00b-4aa2-b584-c415d548b9fb",
   "metadata": {},
   "source": [
    "exchange_rxns = Se.columns\n",
    "exchange_nb = pd.DataFrame({exchange_rxns[i]: [e.value[i]] for i in range(len(exchange_rxns))}).sort_values(by=0, axis=1, ascending=False).T\n",
    "exchange_nb = exchange_nb[exchange_nb[0] != 0]\n",
    "index_raw = list(exchange_nb.index.str.split())\n",
    "index_cleaned = [index_raw[i][0] for i in range(len(index_raw))]\n",
    "exchange_nb.index = index_cleaned\n",
    "exchange_nb.columns = [\"Exchange flux\"]\n",
    "exchange_nb.head(5)"
   ],
   "outputs": []
  },
  {
   "cell_type": "code",
   "execution_count": 109,
   "id": "8184579a-626c-4a5b-878a-7e1619929fdf",
   "metadata": {},
   "source": [
    "exchange_sim = pd.DataFrame(exchanges.loc[4, :].abs().sort_values())\n",
    "exchange_sim = exchange_sim[exchange_sim[4] != 0]\n",
    "exchange_sim.columns = [\"Exchange flux\"]\n",
    "exchange_sim.head(5)"
   ],
   "outputs": []
  },
  {
   "cell_type": "code",
   "execution_count": 111,
   "id": "05b03974-901f-4624-99d1-cf0d4f71af20",
   "metadata": {},
   "source": [
    "exch_comp = pd.merge(exchange_nb, exchange_sim, left_index=True, right_index=True, suffixes=(' new', ' standard'), how='outer').fillna(0).astype(np.int64)\n",
    "exch_comp.sort_values(by=\"Exchange flux new\", ascending=False).head(10)"
   ],
   "outputs": []
  },
  {
   "cell_type": "code",
   "execution_count": 112,
   "id": "6d6d9806-4e14-4225-878c-c0722d7f9190",
   "metadata": {},
   "source": [
    "plt.figure(figsize=[8,8])\n",
    "\n",
    "sns.scatterplot(x=\"Exchange flux new\", y=\"Exchange flux standard\", data=exch_comp)\n",
    "plt.axis('equal')\n",
    "plt.xscale('log')\n",
    "plt.yscale('log')"
   ],
   "outputs": []
  },
  {
   "cell_type": "code",
   "execution_count": 113,
   "id": "55e5bdc2-0dbd-4294-ad1b-046333810d33",
   "metadata": {},
   "source": [
    "flux_indexed = list(Sd.columns[:n_orig_rxns])\n",
    "fluxes = pd.DataFrame({flux_indexed[i]: [v.value[i], stoichiometry[flux_indexed[i]]] for i in range(len(flux_indexed))}).T\n",
    "fluxes.sort_values(by=0, axis=0, ascending=False).head(15)"
   ],
   "outputs": []
  },
  {
   "cell_type": "code",
   "execution_count": 114,
   "id": "0b8a538b-b4e1-41a9-a690-c6181b62d4d0",
   "metadata": {},
   "source": [
    "sim_fluxes = pd.DataFrame(fba[\"estimated_fluxes\"])\n",
    "sim_fluxes = pd.DataFrame(sim_fluxes.loc[4, :].abs().sort_values(ascending=False))\n",
    "sim_fluxes.head(10)"
   ],
   "outputs": []
  },
  {
   "cell_type": "code",
   "execution_count": 115,
   "id": "993d51d4-3b30-48ed-b26d-d9aab6227f59",
   "metadata": {},
   "source": [
    "exchanges.loc[4,:].abs().sort_values(ascending=False).head(10)"
   ],
   "outputs": []
  },
  {
   "cell_type": "code",
   "execution_count": 116,
   "id": "7269f5bb-9ba0-4cf7-a163-c56c227610ab",
   "metadata": {},
   "source": [
    "dmdt_indexed = list(Sd.index)\n",
    "# hom_idx\n",
    "dmdt_dict = {dmdt_indexed[i]: [dm.value[i], v_hom[j], dm.value[i] - v_hom[j]] for j, i in enumerate(hom_idx)}\n",
    "dmdt = pd.DataFrame(dmdt_dict).sort_values(by=0, axis=1).T\n",
    "dmdt\n",
    "#dmdt = pd.DataFrame({dmdt_indexed[i]: [dm.value[i], v_hom[j]] for j, i in enumerate(hom_idx)})\n",
    "#dmdt.sort_values(by=0, axis=1, ascending=False).T.head(20)"
   ],
   "outputs": []
  },
  {
   "cell_type": "code",
   "execution_count": 117,
   "id": "de7675d0-147f-4401-b4f2-7e88e2e7e577",
   "metadata": {},
   "source": [
    "mets_df[mets_df.loc[:, \"Name\"].str.contains(\"FUM\")]"
   ],
   "outputs": []
  },
  {
   "cell_type": "markdown",
   "source": [
    "# Set up function"
   ],
   "metadata": {
    "collapsed": false,
    "pycharm": {
     "name": "#%% md\n"
    }
   },
   "id": "b01c09b21d7e21b7"
  },
  {
   "cell_type": "code",
   "execution_count": 118,
   "source": [
    "# inputs\n",
    "exchanges = pd.DataFrame(fba[\"estimated_exchange_dmdt\"]).loc[4,:]\n",
    "homeostatic = pd.DataFrame(fba[\"target_homeostatic_dmdt\"]).loc[4,:]\n",
    "maintenance = pd.DataFrame(fba[\"target_maintenance_flux\"]).loc[4,:]\n",
    "kinetic = pd.DataFrame(fba[\"target_kinetic_fluxes\"]).loc[4,:]\n",
    "\n",
    "exchange_mets = list(exchanges.keys())\n",
    "homeostatic_mets = list(homeostatic.keys())\n",
    "kin_rxns = list(kinetic.keys())\n",
    "\n",
    "uptake = (fba[\"unconstrained_molecules\"][3]).copy()\n",
    "uptake_c = fba[\"constrained_molecules\"]\n",
    "\n",
    "uptake.extend(list(uptake_c.keys()))\n",
    "uptake = set(uptake)\n",
    "\n",
    "stoichiometry\n",
    "\n",
    "kin_rxns = list(kinetic.keys())\n",
    "homeostatic_mets = list(homeostatic.keys())\n",
    "exchange_mets = list(exchanges.keys())"
   ],
   "metadata": {
    "collapsed": false,
    "pycharm": {
     "name": "#%%\n"
    }
   },
   "id": "c1cde1b352b33b3f",
   "outputs": []
  },
  {
   "cell_type": "code",
   "execution_count": 119,
   "source": [
    "@dataclass\n",
    "class FlowResult:\n",
    "    \"\"\"Reaction velocities and dm/dt for an FBA solution, with metrics.\"\"\"\n",
    "    velocities: Mapping[str, float]\n",
    "    dm_dt: Mapping[str, float]\n",
    "    exchanges: Mapping[str, float]\n",
    "    objective: float\n",
    "    # residual: Mapping[str, np.ndarray]\n",
    "\n",
    "class NetworkFlowModel:\n",
    "\n",
    "    def __init__(self,\n",
    "                 reactions: Iterable[dict],\n",
    "                 exchanges: Iterable[str],\n",
    "                 uptakes: Iterable[str],\n",
    "                 homeostatic_metabolites: Iterable[str]):\n",
    "\n",
    "        # inputs: reactions: dict of dict\n",
    "        # exchanges: list(set)\n",
    "        # homeostatic: dict of str:floats (concs)\n",
    "\n",
    "        # set up S matrix\n",
    "        # homeostatic objective keys\n",
    "        # exchange keys? if possible\n",
    "        # reversibility is not needed as matrix already does it\n",
    "\n",
    "        # pandas automatically creates S matrix from dict of dicts, then we fill zeros in remainder\n",
    "        Sd = pd.DataFrame.from_dict(reactions, dtype=np.int8).fillna(0).astype(np.int8)\n",
    "        self.n_mets, self.n_orig_rxns = Sd.shape\n",
    "\n",
    "        # extract names of mets and rxns\n",
    "        self.mets = list(Sd.index)\n",
    "        self.rxns = list(Sd.columns)\n",
    "        self.intermediates = list(set(self.mets) - set(homeostatic_metabolites))\n",
    "\n",
    "        all_exchanges = exchanges.copy()\n",
    "        all_exchanges.extend(uptakes)\n",
    "\n",
    "        # Set up exchange rxns df\n",
    "        Se = pd.DataFrame(index=Sd.index)\n",
    "\n",
    "        for met in all_exchanges:\n",
    "            exch_name = met + \" exchange\"\n",
    "            if met in uptakes:\n",
    "                Se[exch_name] = np.zeros(self.n_mets).astype(np.int8)\n",
    "                Se.at[met, exch_name] = 1\n",
    "\n",
    "            Se[exch_name + \" rev\"] = np.zeros(self.n_mets).astype(np.int8)\n",
    "            Se.at[met, exch_name + \" rev\"] = -1\n",
    "\n",
    "        self.S_orig = np.array(Sd, dtype=np.float64)\n",
    "        self.S_exch = np.array(Se, dtype=np.float64)\n",
    "\n",
    "        _, self.n_exch_rxns = self.S_exch.shape\n",
    "\n",
    "        # steady state indices, secretion indices\n",
    "        self.intermediates_idx = [self.mets.index(met) for met in self.intermediates]\n",
    "        self.secretion_idx = np.where(self.S_exch.sum(axis=0) == -1)[0]\n",
    "\n",
    "    def solve(self,\n",
    "              homeostatic_targets: Mapping[str, float],\n",
    "              maintenance_target: float,\n",
    "              kinetic_targets: Mapping[str, float],\n",
    "              **kwargs) -> FlowResult:\n",
    "\n",
    "        # objective targets: dict of dicts to floats, for now\n",
    "        ## kinetic\n",
    "        ## maintenance\n",
    "        ## homeostasis\n",
    "        ## binary kinetic\n",
    "        # starting fluxes: optional for now, could reintroduce\n",
    "        #\n",
    "\n",
    "        homeostatic_arr = [[self.mets.index(met), target] for met, target in homeostatic_targets.items()]\n",
    "        homeostatic_idx, homeostatic_target = np.array(homeostatic_arr)[:, 0], np.array(homeostatic_arr)[:, 1]\n",
    "\n",
    "        kinetic_array = [[self.rxns.index(met), target] for met, target in kinetic_targets.items()]\n",
    "        kinetic_idx, kinetic_target = np.array(kinetic_array)[:, 0], np.array(kinetic_array)[:, 1]\n",
    "\n",
    "        maintenance_idx = self.rxns.index(\"maintenance_reaction\")  # TODO (Cyrus) - use name provided\n",
    "\n",
    "        # set up variables\n",
    "        v = cp.Variable(self.n_orig_rxns)\n",
    "        e = cp.Variable(self.n_exch_rxns)\n",
    "        dm = self.S_orig @ v + self.S_exch @ e\n",
    "\n",
    "        constr = []\n",
    "        constr.append(dm[self.intermediates_idx] == 0)\n",
    "        constr.append(v[maintenance_idx] == maintenance_target)\n",
    "        # constr.append(dm[homeostatic_idx[]] == homeostatic_target)\n",
    "        constr.extend([v >= 0, v <= 100000000, e >= 0, e <= 100000000])\n",
    "\n",
    "        loss = 0\n",
    "        loss += cp.norm1(dm[homeostatic_idx] - homeostatic_target)\n",
    "        loss += 0.001 * (cp.sum(e[self.secretion_idx]))\n",
    "        loss += 0.00001 * (cp.sum(v))\n",
    "        loss += 0.000001 * cp.norm1(v[kinetic_idx] - kinetic_target)\n",
    "\n",
    "        p = cp.Problem(\n",
    "            cp.Minimize(loss),\n",
    "            constr\n",
    "        )\n",
    "\n",
    "        p.solve(solver=cp.GLOP, verbose=False)\n",
    "\n",
    "        return FlowResult(velocities=v.value,\n",
    "                          dm_dt=dm.value,\n",
    "                          exchanges=e.value,\n",
    "                          objective=p.value)\n",
    "\n",
    "model = NetworkFlowModel(stoichiometry, exchange_mets, uptake, homeostatic_mets)"
   ],
   "metadata": {
    "collapsed": false,
    "pycharm": {
     "name": "#%%\n"
    }
   },
   "id": "b7ecdfb94fe710e9",
   "outputs": []
  },
  {
   "cell_type": "code",
   "execution_count": 120,
   "source": [
    "result = model.solve(homeostatic_targets=dict(homeostatic), maintenance_target=maintenance, kinetic_targets=dict(kinetic))"
   ],
   "metadata": {
    "collapsed": false,
    "pycharm": {
     "name": "#%%\n"
    }
   },
   "id": "f758394b93e9c36",
   "outputs": []
  },
  {
   "cell_type": "code",
   "execution_count": 121,
   "source": [
    "result.objective"
   ],
   "metadata": {
    "collapsed": false,
    "pycharm": {
     "name": "#%%\n"
    }
   },
   "id": "967c4cc5dea4233a",
   "outputs": []
  },
  {
   "cell_type": "code",
   "execution_count": 122,
   "source": [
    "\n",
    "uptake = (fba[\"unconstrained_molecules\"][3]).copy()\n",
    "uptake_c = fba[\"constrained_molecules\"]\n",
    "\n",
    "uptake.extend(list(uptake_c.keys()))\n",
    "uptake = set(uptake)\n",
    "\n",
    "# convert stoich dict to stoich matrix\n",
    "Sd = pd.DataFrame(stoichiometry, dtype=np.int8).fillna(0).astype(np.int8)\n",
    "\n",
    "\n",
    "\n",
    "#stoich_dict = {item[\"reaction id\"]: item[\"stoichiometry\"] for item in stoichiometry}\n",
    "\n",
    "mets_df = pd.DataFrame(Sd.index, columns=[\"Name\"]) # index to name\n",
    "rxns_df = pd.DataFrame(Sd.columns, columns=[\"Name\"])\n",
    "\n",
    "exchanges = pd.DataFrame(fba[\"estimated_exchange_dmdt\"])\n",
    "homeostatic = pd.DataFrame(fba[\"target_homeostatic_dmdt\"])\n",
    "maintenance = pd.DataFrame(fba[\"target_maintenance_flux\"])\n",
    "\n",
    "kinetic = pd.DataFrame(fba[\"target_kinetic_fluxes\"])\n",
    "\n",
    "kin_rxns = list(kinetic.keys())\n",
    "homeostatic_mets = list(homeostatic.keys())\n",
    "exchange_mets = list(exchanges.keys())\n",
    "intermediate_mets = list(set(mets_df[\"Name\"]) - set(homeostatic.keys()))\n",
    "\n",
    "n_mets, n_orig_rxns = Sd.shape\n",
    "\n",
    "exchange_mets.extend(list(uptake))\n",
    "\n",
    "Se = pd.DataFrame(index=Sd.index)\n",
    "\n",
    "for met in exchange_mets:\n",
    "    exch_name = met + \" exchange\"\n",
    "    if met in uptake:\n",
    "        Se[exch_name] = np.zeros(n_mets).astype(np.int8)\n",
    "        Se.at[met, exch_name] = 1\n",
    "\n",
    "    Se[exch_name + \" rev\"] = np.zeros(n_mets).astype(np.int8)\n",
    "    Se.at[met, exch_name + \" rev\"] = -1\n",
    "\n",
    "\n",
    "\n",
    "S_orig = np.array(Sd, dtype=np.float64)\n",
    "S_exch = np.array(Se, dtype=np.float64)\n",
    "\n",
    "_, n_exch_rxns = S_exch.shape\n",
    "\n",
    "\n",
    "int_df = mets_df[mets_df['Name'].isin(intermediate_mets)].reset_index()\n",
    "int_idx = list(int_df[\"index\"])\n",
    "\n",
    "hom_df = mets_df[mets_df['Name'].isin(homeostatic_mets)].reset_index()\n",
    "target_hom = pd.DataFrame(homeostatic.loc[4, :]).reset_index(drop=False)\n",
    "target_hom.columns = [\"Name\", \"Count\"]\n",
    "merge_df = hom_df.set_index('Name').join(target_hom.set_index('Name'))\n",
    "\n",
    "kin_df = rxns_df[rxns_df['Name'].isin(kin_rxns)].reset_index()\n",
    "target_kin = pd.DataFrame(kinetic.loc[4, :]).reset_index(drop=False)\n",
    "target_kin.columns = [\"Name\", \"Flux\"]\n",
    "merge_kin_df = kin_df.set_index('Name').join(target_kin.set_index('Name'))\n",
    "\n",
    "v_hom = np.array(merge_df[\"Count\"]).astype(np.float64)\n",
    "hom_idx = np.array(merge_df[\"index\"]).astype(np.int64)\n",
    "\n",
    "v_kin = np.array(merge_kin_df[\"Flux\"]).astype(np.float64)\n",
    "kin_idx = np.array(merge_kin_df[\"index\"]).astype(np.int64)\n",
    "\n",
    "v_main = np.array(fba[\"target_maintenance_flux\"][4])\n",
    "main_idx = list(Sd.columns).index(\"maintenance_reaction\")\n",
    "\n",
    "\n",
    "secretion_idx = np.where(S_exch.sum(axis=0) == -1)[0]"
   ],
   "metadata": {
    "collapsed": false,
    "pycharm": {
     "name": "#%%\n"
    }
   },
   "id": "e7f90db5ce2bcfb0",
   "outputs": []
  },
  {
   "cell_type": "code",
   "execution_count": 123,
   "source": [
    "v = cp.Variable(n_orig_rxns)\n",
    "e = cp.Variable(n_exch_rxns)\n",
    "v_t = cp.hstack([v,e])\n",
    "dm = S_orig @ v + S_exch @ e\n",
    "\n",
    "\n",
    "constr = []\n",
    "constr.append(dm[int_idx] == 0)\n",
    "constr.append(v[main_idx] == v_main)\n",
    "# constr.append(dm[hom_idx] == v_hom)\n",
    "constr.extend([v >= 0, v <= 100000000, e >= 0, e <= 100000000])\n",
    "\n",
    "loss = 0\n",
    "loss += cp.norm1(dm[hom_idx] - v_hom)\n",
    "loss += 0.001*(cp.sum(e[secretion_idx]))\n",
    "loss += 0.00001*(cp.sum(v))\n",
    "loss += 0.000001 * cp.norm1(v[kin_idx] - v_kin)"
   ],
   "metadata": {
    "collapsed": false,
    "pycharm": {
     "name": "#%%\n"
    }
   },
   "id": "1c97a318c1118a9c",
   "outputs": []
  },
  {
   "cell_type": "code",
   "execution_count": 124,
   "source": [
    "p = cp.Problem(\n",
    "        cp.Minimize(loss),\n",
    "    constr\n",
    "    )\n",
    "\n",
    "p.solve(solver=cp.GLOP, verbose=False)"
   ],
   "metadata": {
    "collapsed": false,
    "pycharm": {
     "name": "#%%\n"
    }
   },
   "id": "f86846aabe4a029",
   "outputs": []
  },
  {
   "cell_type": "markdown",
   "id": "f7a574b2-9c14-4981-a658-1c22c1026d6c",
   "metadata": {
    "tags": []
   },
   "source": [
    "# Set up schema for testing lots of fluxes"
   ]
  },
  {
   "cell_type": "markdown",
   "id": "28db669f-93f3-4f5c-aea0-e23b6a811660",
   "metadata": {},
   "source": [
    "## Connect to EcoCyc to go from Genes -> Reactions"
   ]
  },
  {
   "cell_type": "code",
   "execution_count": 125,
   "id": "a59449e4-be36-49c8-94ed-35c14f5bb72d",
   "metadata": {},
   "source": [
    "s = requests.Session() # create session\n",
    "# Post login credentials to session:\n",
    "s.post('https://websvc.biocyc.org/credentials/login/', data={'email':'cellulararchitect@protonmail.com', 'password':'Cellman0451'})"
   ],
   "outputs": []
  },
  {
   "cell_type": "code",
   "execution_count": 126,
   "id": "ab016fac-3d48-49fb-85c7-63826a8f5664",
   "metadata": {},
   "source": [
    "condition_sets = {0: {\"Environment\": \"Hydrogen + fumarate, -O2, -Glc\",\n",
    "                      \"Genes\": set([\"EG10468\", \"EG10469\", \"EG10470\", \"EG11799\", \"EG11800\", \"EG11801\", \"G7554\"]), \n",
    "                      \"Add\": set([\"FUM[p]\", 'HYDROGEN-MOLECULE[p]']),\n",
    "                      \"Remove\": set([\"GLC[p]\", \"OXYGEN-MOLECULE[p]\"]),\n",
    "                      },\n",
    "                  \n",
    "                  1: {\"Environment\": \"Ribose C-source\",\n",
    "                      \"Genes\": set([\"EG10814\", \"EG10815\", \"EG10816\", \"EG10818\"]), \n",
    "                      \"Add\": set([\"D-Ribopyranose[p]\"]),\n",
    "                      \"Remove\": set([\"GLC[p]\"]),\n",
    "                      },\n",
    "                  \n",
    "                  2: {\"Environment\": \"Thiamine salvaging\",\n",
    "                      \"Genes\": set([\"EG11574\", \"G6566\", \"M007\", \"EG11573\", \"EG11572\"]), \n",
    "                      \"Add\": set([\"THIAMINE[p]\"]),\n",
    "                      \"Remove\": set(),\n",
    "                      },\n",
    "                  \n",
    "                  3: {\"Environment\": \"Nitrate as reduction target\",\n",
    "                      \"Genes\": set([\"EG10638\", \"EG10639\", \"EG10640\", \"EG10644\", \"EG10647\", \"EG10648\"]), \n",
    "                      \"Add\": set([\"NITRATE[p]\"]),\n",
    "                      \"Remove\": set([\"OXYGEN-MOLECULE[p]\"]),\n",
    "                      },\n",
    "                  \n",
    "                  4: {\"Environment\": \"3-Phenylpropionate as carbon and energy source\",\n",
    "                      \"Genes\": set([\"M010\", \"M011\", \"M012\", \"G6206\"]), \n",
    "                      \"Add\": set([\"3-PHENYLPROPIONATE[p]\"]),\n",
    "                      \"Remove\": set([\"GLC[p]\"]),\n",
    "                      },\n",
    "                  \n",
    "                  # 5: {\"Genes\": set([\"EG10286\", \"EG10287\", \"EG10288\", \"EG10289\", \n",
    "                  #                   \"EG10290\", \"EG10293\", \"EG10294\", \"EG10295\", \n",
    "                  #                   \"EG10296\", \"EG10298\", \"EG10302\", \"EG10303\", \n",
    "                  #                   \"EG10304\", \"EG10305\", \"EG10306\", \"G6414\"]), \n",
    "                  #     \"Add\": set(),\n",
    "                  #     \"Remove\": set(),\n",
    "                  #     \"Environment\": \"Proper metal (iron) uptake\"}\n",
    "                 }\n",
    "\n",
    "condition_df = pd.DataFrame(condition_sets).T\n",
    "condition_df[\"Reactions\"] = [[np.nan]] * len(condition_df)\n",
    "condition_df"
   ],
   "outputs": []
  },
  {
   "cell_type": "code",
   "execution_count": 127,
   "id": "0ecc835e-9a66-4cfe-838f-257cf37449b0",
   "metadata": {},
   "source": [
    "for i in range(len(condition_df.index)):\n",
    "    \n",
    "    genes = condition_df.loc[i, \"Genes\"]\n",
    "    rxn_set = set()\n",
    "\n",
    "    for gene in genes:\n",
    "        function = \"reactions-of-gene\"\n",
    "        name = gene\n",
    "        req_str = f\"https://websvc.biocyc.org/apixml?fn={function}&id=ECOLI:{name}&detail=none&fmt=json\"\n",
    "\n",
    "        r = s.get(req_str)\n",
    "        o = xmltodict.parse(r.content)['ptools-xml']['Reaction']\n",
    "        if type(o) is dict:\n",
    "            o = [o]\n",
    "        \n",
    "        for rxn in o:\n",
    "            if type(rxn) is not str: # no rxns\n",
    "                rxn_set.add(rxn['@frameid'])\n",
    "            else:\n",
    "                print(gene, rxn)\n",
    "            \n",
    "    condition_df.at[i, \"Reactions\"] = rxn_set"
   ],
   "outputs": []
  },
  {
   "cell_type": "code",
   "execution_count": 128,
   "id": "1f5e932e-70d4-45e9-8bbf-1fcda5be8c5a",
   "metadata": {},
   "source": [
    "xmltodict.parse(r.content)"
   ],
   "outputs": []
  },
  {
   "cell_type": "code",
   "execution_count": 129,
   "id": "4ec194b0-2aeb-43b9-85c6-108bebb4a0e9",
   "metadata": {},
   "source": [
    "condition_df"
   ],
   "outputs": []
  },
  {
   "cell_type": "markdown",
   "id": "79c72c16-8774-4794-93e8-43949641fab6",
   "metadata": {},
   "source": [
    "## Initialize FBA"
   ]
  },
  {
   "cell_type": "code",
   "execution_count": 130,
   "id": "39d99202-7a7b-4b7a-b419-50e683af494f",
   "metadata": {},
   "source": [
    "#stoich_dict = {item[\"reaction id\"]: item[\"stoichiometry\"] for item in stoichiometry}\n",
    "\n",
    "mets_df = pd.DataFrame(Sd.index, columns=[\"Name\"]) # index to name\n",
    "rxns_df = pd.DataFrame(Sd.columns, columns=[\"Name\"]) \n",
    "\n",
    "exchanges = pd.DataFrame(fba[\"estimated_exchange_dmdt\"])\n",
    "homeostatic = pd.DataFrame(fba[\"target_homeostatic_dmdt\"])\n",
    "maintenance = pd.DataFrame(fba[\"target_maintenance_flux\"])\n",
    "\n",
    "kinetic = pd.DataFrame(fba[\"target_kinetic_fluxes\"])\n",
    "kin_rxns = list(kinetic.keys())\n",
    "\n",
    "homeostatic_mets = list(homeostatic.keys())\n",
    "exchange_mets = list(exchanges.keys())\n",
    "intermediate_mets = list(set(mets_df[\"Name\"]) - set(homeostatic.keys()))\n",
    "\n",
    "n_mets, n_orig_rxns = Sd.shape\n",
    "\n",
    "\n",
    "int_df = mets_df[mets_df['Name'].isin(intermediate_mets)].reset_index()\n",
    "int_idx = list(int_df[\"index\"])\n",
    "\n",
    "hom_df = mets_df[mets_df['Name'].isin(homeostatic_mets)].reset_index()\n",
    "target_hom = pd.DataFrame(homeostatic.loc[4, :]).reset_index(drop=False)\n",
    "target_hom.columns = [\"Name\", \"Count\"]\n",
    "merge_df = hom_df.set_index('Name').join(target_hom.set_index('Name'))\n",
    "\n",
    "kin_df = rxns_df[rxns_df['Name'].isin(kin_rxns)].reset_index()\n",
    "target_kin = pd.DataFrame(kinetic.loc[4, :]).reset_index(drop=False)\n",
    "target_kin.columns = [\"Name\", \"Flux\"]\n",
    "merge_kin_df = kin_df.set_index('Name').join(target_kin.set_index('Name'))\n",
    "\n",
    "v_hom = np.array(merge_df[\"Count\"]).astype(np.float64)\n",
    "hom_idx = np.array(merge_df[\"index\"]).astype(np.int64)\n",
    "\n",
    "v_kin = np.array(merge_kin_df[\"Flux\"]).astype(np.float64)\n",
    "kin_idx = np.array(merge_kin_df[\"index\"]).astype(np.int64)\n",
    "\n",
    "v_main = np.array(fba[\"target_maintenance_flux\"][4])\n",
    "main_idx = list(Sd.columns).index(\"maintenance_reaction\")"
   ],
   "outputs": []
  },
  {
   "cell_type": "markdown",
   "id": "bed4cb3d-8c43-44a6-9677-2769b81ade20",
   "metadata": {},
   "source": [
    "## Quick and dirty loop (after init)"
   ]
  },
  {
   "cell_type": "code",
   "execution_count": 131,
   "id": "810fa6c8-b907-45b1-a1a7-d072f2295fe2",
   "metadata": {},
   "source": [
    "results_df = pd.DataFrame(columns=[\"Environment\", \"Reaction\", \"Flux\"])\n",
    "\n",
    "for i in range(len(condition_df)):\n",
    "    condition_idx = i\n",
    "\n",
    "    uptake = (fba[\"unconstrained_molecules\"][3]).copy()\n",
    "    uptake_c = fba[\"constrained_molecules\"]\n",
    "\n",
    "    uptake.extend(list(uptake_c.keys()))\n",
    "    uptake = set(uptake)\n",
    "\n",
    "    addition = condition_df.at[condition_idx, \"Add\"]\n",
    "    removals = condition_df.at[condition_idx, \"Remove\"]\n",
    "\n",
    "    uptake = uptake | addition\n",
    "    uptake = uptake - removals\n",
    "    uptake\n",
    "\n",
    "    # just need to change exchanges.\n",
    "    exchange_mets = list(exchanges.keys())\n",
    "    exchange_mets.extend(list(uptake))\n",
    "\n",
    "    Se = pd.DataFrame(index=Sd.index)\n",
    "\n",
    "    for met in exchange_mets:\n",
    "        exch_name = met + \" exchange\"\n",
    "        if met in uptake:\n",
    "            Se[exch_name] = np.zeros(n_mets).astype(np.int8)\n",
    "            Se.at[met, exch_name] = 1\n",
    "\n",
    "        Se[exch_name + \" rev\"] = np.zeros(n_mets).astype(np.int8)\n",
    "        Se.at[met, exch_name + \" rev\"] = -1\n",
    "\n",
    "    S_exch = np.array(Se, dtype=np.float64)\n",
    "\n",
    "    _, n_exch_rxns = S_exch.shape\n",
    "\n",
    "    secretion_idx = np.where(S_exch.sum(axis=0) == -1)[0]\n",
    "\n",
    "    v = cp.Variable(n_orig_rxns)\n",
    "    e = cp.Variable(n_exch_rxns)\n",
    "    v_t = cp.hstack([v,e])\n",
    "    dm = S_orig @ v + S_exch @ e \n",
    "\n",
    "\n",
    "    constr = []\n",
    "    constr.append(dm[int_idx] == 0)\n",
    "    constr.append(v[main_idx] == v_main)\n",
    "    # constr.append(dm[hom_idx] == v_hom)\n",
    "    constr.extend([v >= 0, v <= 100000000, e >= 0, e <= 100000000])\n",
    "\n",
    "    loss = 0\n",
    "    loss += cp.norm1(dm[hom_idx] - v_hom)\n",
    "    loss += 0.001*(cp.sum(e[secretion_idx]))\n",
    "    loss += 0.00001*(cp.sum(v))\n",
    "    loss += 0.000001 * cp.norm1(v[kin_idx] - v_kin)\n",
    "\n",
    "    p = cp.Problem(\n",
    "            cp.Minimize(loss),\n",
    "        constr\n",
    "        )\n",
    "\n",
    "    p.solve(solver=cp.GLOP, verbose=False)\n",
    "\n",
    "    # Check flux\n",
    "    flux_indexed = list(Sd.columns[:n_orig_rxns])\n",
    "    fluxes = pd.DataFrame({flux_indexed[i]: [v.value[i], stoichiometry[flux_indexed[i]]] for i in range(len(flux_indexed))}).T\n",
    "    fluxes.columns = [\"Flux\", \"Stoichiometry\"]\n",
    "\n",
    "    relevant_rxns = condition_df.at[condition_idx, \"Reactions\"]\n",
    "    relevant_rxn_idx = []\n",
    "\n",
    "    for rxn in relevant_rxns:\n",
    "        relevant_rxn_idx.extend(list(np.where(fluxes.index.str.contains(rxn))[0] ))\n",
    "\n",
    "    relevant_fluxes = fluxes.iloc[relevant_rxn_idx, :]\n",
    "    \n",
    "    relevant_nonzero_fluxes = relevant_fluxes[relevant_fluxes[\"Flux\"] != 0].loc[:, \"Flux\"]\n",
    "    \n",
    "    for j, k in enumerate(relevant_nonzero_fluxes.index):\n",
    "        results_df = results_df.append(pd.DataFrame([[condition_df.at[condition_idx, \"Environment\"],\n",
    "                          relevant_nonzero_fluxes.index[j],\n",
    "                          relevant_nonzero_fluxes[k]]], columns=[\"Environment\", \"Reaction\", \"Flux\"]))\n",
    "    #print(condition_df.at[condition_idx, \"Environment\"],\"\\n\" ,relevant_fluxes[relevant_fluxes[\"Flux\"] != 0].loc[:, \"Flux\"], \"\\n\")"
   ],
   "outputs": []
  },
  {
   "cell_type": "code",
   "execution_count": 132,
   "id": "3feb60e7-d881-4b21-afc4-e501301874bc",
   "metadata": {},
   "source": [
    "results_df[\"Reaction\"] = results_df['Reaction'].str.slice(0,20)\n",
    "results_df"
   ],
   "outputs": []
  },
  {
   "cell_type": "code",
   "execution_count": 133,
   "id": "f5dc4036-1bf6-4443-bfe8-198bfff75941",
   "metadata": {},
   "source": [
    "sns.catplot(y=\"Environment\",hue=\"Reaction\", x=\"Flux\", data=results_df, kind=\"bar\", aspect=2.5)\n",
    "plt.xscale('log')\n",
    "#plt.tight_layout()\n",
    "plt.savefig(\"notebooks/fbagd/figures/rxns_light_up.png\", dpi=300)"
   ],
   "outputs": []
  },
  {
   "cell_type": "markdown",
   "id": "7bc6d87b-b3bc-4e3c-b978-7c15f7bd7b96",
   "metadata": {},
   "source": [
    "# Check metal reactions"
   ]
  },
  {
   "cell_type": "code",
   "execution_count": null,
   "id": "f16b9906-40af-4a77-b29f-a97feec946c8",
   "metadata": {},
   "source": [
    "# find mets containing\n",
    "mets_df[mets_df.loc[:, \"Name\"].str.contains(\"FE\\+2\\[c\\]\")]\n",
    "\n",
    "# find reactions containing met\n",
    "reactions_id = Sd.loc[ \"FE+2[c]\", Sd.iloc[1092, :] != 0].index\n",
    "reactions_id"
   ],
   "outputs": []
  },
  {
   "cell_type": "code",
   "execution_count": null,
   "id": "4949ea91-02d3-4e94-bd6a-30226c512259",
   "metadata": {},
   "source": [
    "# find reactions containing met\n",
    "fluxes.loc[reactions_id,:]"
   ],
   "outputs": []
  },
  {
   "cell_type": "markdown",
   "id": "21050edf-d995-4a2d-aa4b-ab18f1406839",
   "metadata": {
    "tags": []
   },
   "source": [
    "# Troubleshoot wrong fluxes"
   ]
  },
  {
   "cell_type": "code",
   "execution_count": null,
   "id": "edca0469-dd15-4bc5-93bb-9e6357c259de",
   "metadata": {},
   "source": [
    "top_wrong = fluxes_wrong.sort_values(by=0, axis=1, ascending=False).T.head(50)\n",
    "top_right = fluxes.sort_values(by=0, axis=1, ascending=False).T.head(50)\n",
    "\n",
    "top_wrong.join(top_right, lsuffix=\"wrong\", rsuffix=\"right\")"
   ],
   "outputs": []
  },
  {
   "cell_type": "code",
   "execution_count": null,
   "id": "4afce1bf-1f15-44a0-94f4-d728ae26f0ca",
   "metadata": {},
   "source": [
    "m2 = []\n",
    "\n",
    "for rxn in [\"LXULRU5P-RXN (reverse)\", \"RXN-21400\", \"RXN0-703 (reverse)\", \"RXN0-704\", \"RIBULPEPIM-RXN__EG12287-MONOMER\", \"RXN0-705__EG12285-MONOMER\"]:\n",
    "    m2.append({key: 2*value for key, value in stoichiometry[rxn].items()})\n",
    "    \n",
    "pd.DataFrame(m2, dtype=np.int8).fillna(0).astype(np.int8).sum(axis=0)"
   ],
   "outputs": []
  },
  {
   "cell_type": "code",
   "execution_count": null,
   "id": "737cad21-e92f-440c-93d8-86d1068a9b35",
   "metadata": {},
   "source": [
    "m1 = []\n",
    "\n",
    "for rxn in [\"ALANINE-AMINOTRANSFERASE-RXN (reverse)\", \"MALATE-DEH-RXN (reverse)\", \"RXN-3523\", \"RXN-10981\", \\\n",
    " \"RXN-12440\", \"CHD-RXN (reverse)\", \"RXN0-7230-CHOLINE/UBIQUINONE-8//BETAINE_ALDEHYDE/CPD-9956.48.\", \"ALARACECAT-RXN\", \"PMPOXI-RXN\", \"RXN0-5240\"]:\n",
    "    m1.append({key: value for key, value in stoichiometry[rxn].items()})\n",
    "    \n",
    "pd.DataFrame(m1, dtype=np.int8).fillna(0).astype(np.int8).sum(axis=0)"
   ],
   "outputs": []
  },
  {
   "cell_type": "markdown",
   "id": "dc585496-f8aa-4a33-95c6-080673fdacee",
   "metadata": {
    "tags": []
   },
   "source": [
    "# Extract specific fluxes for balancing"
   ]
  },
  {
   "cell_type": "code",
   "execution_count": null,
   "id": "a365292b-41f5-4479-9faa-9f4288066d5f",
   "metadata": {},
   "source": [
    "rxns_names = ['PGLUCISOM-RXN', '6PFRUCTPHOS-RXN', 'F16ALDOLASE-RXN', 'TRIOSEPISOMERIZATION-RXN', \n",
    "              'GAPOXNPHOSPHN-RXN', 'PHOSGLYPHOS-RXN', '3PGAREARR-RXN',\n",
    "              '2PGADEHYDRAT-RXN', 'PEPDEPHOS-RXN']"
   ],
   "outputs": []
  },
  {
   "cell_type": "code",
   "execution_count": null,
   "id": "70d1d678-2b56-4720-b9ea-1e5dcc2cd85e",
   "metadata": {},
   "source": [
    "fluxes.sort_values(by=0, axis=1, ascending=False).T.head(10)"
   ],
   "outputs": []
  },
  {
   "cell_type": "code",
   "execution_count": null,
   "id": "741fa321-36cf-453b-a8cd-118ddc076956",
   "metadata": {},
   "source": [
    "fluxes_small = fluxes.loc[fluxes.index.isin(rxns_names), :]\n",
    "fluxes_small"
   ],
   "outputs": []
  },
  {
   "cell_type": "code",
   "execution_count": null,
   "id": "d740f972-9657-4f41-9134-53904ef364e2",
   "metadata": {},
   "source": [
    "fluxes.loc[fluxes.index.str.contains(\"TRIOSEPISOMERIZATION-RXN\"),:]"
   ],
   "outputs": []
  },
  {
   "cell_type": "code",
   "execution_count": null,
   "id": "3697f643-1b16-4a02-b5bb-35649d260ce8",
   "metadata": {},
   "source": [
    "fluxes.loc[fluxes.index.str.contains(\"3PGAREARR-RXN\"),:]"
   ],
   "outputs": []
  },
  {
   "cell_type": "code",
   "execution_count": null,
   "id": "ad776937-f57e-4a4f-ab3d-0592cff8dafe",
   "metadata": {},
   "source": [
    "fluxes.loc[fluxes.index.str.contains(\"PHOSGLYPHOS-RXN\"),:]"
   ],
   "outputs": []
  },
  {
   "cell_type": "code",
   "execution_count": null,
   "id": "bd9c3384-0d65-4333-a8bc-000fb75795ff",
   "metadata": {},
   "source": [
    "fluxes.loc[fluxes.index.str.contains(\"2TRANSKETO-RXN\"),:]"
   ],
   "outputs": []
  },
  {
   "cell_type": "markdown",
   "id": "a3456e47-a5de-4bf2-8954-d7e3ef868311",
   "metadata": {},
   "source": [
    "# Glucose transport"
   ]
  },
  {
   "cell_type": "code",
   "execution_count": null,
   "id": "b9f80e9e-1077-40bf-99b4-fdfbc7d816b7",
   "metadata": {},
   "source": [
    "glucose_transport_reactions = ['TRANS-RXN-157-PTSH-PHOSPHORYLATED/GLC//ALPHA-GLC-6-P/PTSH-MONOMER.52.',\n",
    "                               'TRANS-RXN-157-PTSH-PHOSPHORYLATED/GLC//D-glucopyranose-6-phosphate/PTSH-MONOMER.66.',\n",
    "                               'TRANS-RXN-157-PTSH-PHOSPHORYLATED/GLC//GLC-6-P/PTSH-MONOMER.46.',\n",
    "                               'RXN0-7077-GLC/PROTON//ALPHA-GLUCOSE/PROTON.33.',\n",
    "                               'RXN0-7077-GLC/PROTON//Glucopyranose/PROTON.33.',\n",
    "                               'RXN0-7077-GLC/PROTON//GLC/PROTON.23.',\n",
    "                               'TRANS-RXN0-574-GLC//GLC.9.',\n",
    "                               'TRANS-RXN0-574-GLC//Glucopyranose.19.',\n",
    "                               'TRANS-RXN-320-GLC/ATP/WATER//ALPHA-GLUCOSE/ADP/Pi/PROTON.43.',\n",
    "                               'TRANS-RXN-320-GLC/ATP/WATER//GLC/ADP/Pi/PROTON.33.',\n",
    "                               'TRANS-RXN-320-GLC/ATP/WATER//Glucopyranose/ADP/Pi/PROTON.43.']\n"
   ],
   "outputs": []
  },
  {
   "cell_type": "code",
   "execution_count": null,
   "id": "1389bc28-9889-4c34-bdbe-af444ceecbdd",
   "metadata": {},
   "source": [],
   "outputs": []
  }
 ],
 "metadata": {
  "kernelspec": {
   "display_name": "Python 3 (ipykernel)",
   "language": "python",
   "name": "python3"
  },
  "language_info": {
   "codemirror_mode": {
    "name": "ipython",
    "version": 3
   },
   "file_extension": ".py",
   "mimetype": "text/x-python",
   "name": "python",
   "nbconvert_exporter": "python",
   "pygments_lexer": "ipython3",
   "version": "3.9.9"
  }
 },
 "nbformat": 4,
 "nbformat_minor": 5
}
