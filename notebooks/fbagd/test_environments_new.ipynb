{
 "cells": [
  {
   "cell_type": "code",
   "execution_count": 1,
   "id": "8022bfb4-c69b-4cb7-a24c-fec017cc3661",
   "metadata": {
    "ExecuteTime": {
     "end_time": "2023-06-26T19:06:22.109616Z",
     "start_time": "2023-06-26T19:06:21.054198Z"
    }
   },
   "source": [
    "import numpy as np\n",
    "\n",
    "import seaborn as sns\n",
    "import pandas as pd\n",
    "import os\n",
    "\n",
    "os.chdir(os.path.expanduser('~/vivarium-ecoli'))\n",
    "\n",
    "import matplotlib.pyplot as plt\n",
    "import dill\n",
    "import requests\n",
    "import xmltodict\n",
    "from ecoli.processes.metabolism_redux import NetworkFlowModel, FlowResult, MetabolismRedux\n",
    "\n",
    "FREE_RXNS = [\"TRANS-RXN-145\", \"TRANS-RXN0-545\", \"TRANS-RXN0-474\"]\n",
    "\n",
    "sns.set(style='darkgrid', palette='viridis', context='talk')\n"
   ],
   "outputs": []
  },
  {
   "cell_type": "markdown",
   "id": "a143cbbb-3570-4548-bc24-f499c070a880",
   "metadata": {
    "tags": []
   },
   "source": [
    "# Import simulation output\n",
    "\n",
    "Before running this, run a sim in ecoli/experiments/metabolism_redux_sim.py with -n 2 to generate a simulation output. This is necessary to replicate the simulation environment. Use the default .json config."
   ]
  },
  {
   "cell_type": "code",
   "execution_count": 2,
   "source": [
    "time = '50'\n",
    "date = '2023-06-09'\n",
    "experiment = 'fba-redux'\n",
    "entry = f'{experiment}_{time}_{date}'\n",
    "folder = f'out/fbagd/{entry}/'"
   ],
   "metadata": {
    "collapsed": false,
    "ExecuteTime": {
     "end_time": "2023-06-26T19:06:22.114632Z",
     "start_time": "2023-06-26T19:06:22.110641Z"
    }
   },
   "id": "d6e8876ab8b3bb2a",
   "outputs": []
  },
  {
   "cell_type": "code",
   "execution_count": 3,
   "source": [
    "output = np.load(folder + 'output.npy',allow_pickle='TRUE').item()\n",
    "# output = np.load(r\"out/geneRxnVerifData/output_glc.npy\", allow_pickle=True, encoding='ASCII').tolist()\n",
    "output = output['agents']['0']\n",
    "fba = output['listeners']['fba_results']\n",
    "mass = output['listeners']['mass']\n",
    "bulk = pd.DataFrame(output['bulk'])"
   ],
   "metadata": {
    "collapsed": false,
    "ExecuteTime": {
     "end_time": "2023-06-26T19:06:22.674606Z",
     "start_time": "2023-06-26T19:06:22.112998Z"
    }
   },
   "id": "9d27481d5e5cd859",
   "outputs": []
  },
  {
   "cell_type": "code",
   "execution_count": 4,
   "source": [
    "f = open(folder + 'agent_steps.pkl', 'rb')\n",
    "agent = dill.load(f)\n",
    "f.close()"
   ],
   "metadata": {
    "collapsed": false,
    "ExecuteTime": {
     "end_time": "2023-06-26T19:06:23.487385Z",
     "start_time": "2023-06-26T19:06:22.675431Z"
    }
   },
   "id": "854107b73324bcd1",
   "outputs": []
  },
  {
   "cell_type": "code",
   "execution_count": 5,
   "source": [
    "metabolism = agent['ecoli-metabolism-redux']\n",
    "stoichiometry = metabolism.stoichiometry\n"
   ],
   "metadata": {
    "collapsed": false,
    "ExecuteTime": {
     "end_time": "2023-06-26T19:06:23.489604Z",
     "start_time": "2023-06-26T19:06:23.487666Z"
    }
   },
   "id": "407a096cb7b1d08f",
   "outputs": []
  },
  {
   "cell_type": "markdown",
   "source": [
    "Pandas automatically understands dicts of dicts as matrices."
   ],
   "metadata": {
    "collapsed": false
   },
   "id": "132ee6fd78c877c5"
  },
  {
   "cell_type": "code",
   "execution_count": 6,
   "source": [
    "fba[\"estimated_exchange_dmdt\"]"
   ],
   "metadata": {
    "collapsed": false,
    "ExecuteTime": {
     "end_time": "2023-06-26T19:06:23.501761Z",
     "start_time": "2023-06-26T19:06:23.496061Z"
    }
   },
   "id": "3aac97187cddd0bb",
   "outputs": []
  },
  {
   "cell_type": "code",
   "execution_count": 7,
   "source": [
    "sim_exchanges = pd.DataFrame(fba[\"estimated_exchange_dmdt\"])\n",
    "sim_exchanges = pd.DataFrame(sim_exchanges.loc[24, :].abs().sort_values(ascending=False))\n",
    "sim_exchanges.head(10)\n",
    "\n",
    "# plot the top 10 fluxes from sim_fluxes as a bar plot.\n",
    "plt.figure(figsize=(15, 5))\n",
    "plt.plot(sim_exchanges.head(20), 'o')\n",
    "\n",
    "# shorten all xtick names to 10 characters\n",
    "plt.xticks([i for i in range(20)], [i[:20] for i in sim_exchanges.index[:20]], rotation=45, ha= 'right')\n",
    "# make xticks aligned to right left of bar\n",
    "plt.yscale('log')\n",
    "plt.ylabel('Flux counts')\n",
    "plt.title('Top 10 Fluxes')\n",
    "plt.show()"
   ],
   "metadata": {
    "collapsed": false,
    "ExecuteTime": {
     "end_time": "2023-06-26T19:06:23.887908Z",
     "start_time": "2023-06-26T19:06:23.506008Z"
    }
   },
   "id": "3bbaef10934098a1",
   "outputs": []
  },
  {
   "cell_type": "code",
   "execution_count": 8,
   "source": [
    "sim_fluxes = pd.DataFrame(fba[\"estimated_fluxes\"], columns = metabolism.reaction_names)\n",
    "sim_fluxes = pd.DataFrame(sim_fluxes.loc[4, :].abs().sort_values(ascending=False))\n",
    "\n",
    "\n",
    "# plot the top 10 fluxes from sim_fluxes as a bar plot.\n",
    "plt.figure(figsize=(15, 5))\n",
    "plt.plot(sim_fluxes.head(20), 'o')\n",
    "\n",
    "# shorten all xtick names to 10 characters\n",
    "plt.xticks([i for i in range(20)], [i[:20] for i in sim_fluxes.index[:20]], rotation=45, ha= 'right')\n",
    "# make xticks aligned to right left of bar\n",
    "\n",
    "\n",
    "plt.ylabel('Flux counts')\n",
    "# log scale\n",
    "plt.yscale('log')\n",
    "plt.title('Top 10 Fluxes')\n",
    "plt.show()"
   ],
   "metadata": {
    "collapsed": false,
    "ExecuteTime": {
     "end_time": "2023-06-26T19:06:24.137601Z",
     "start_time": "2023-06-26T19:06:23.888894Z"
    }
   },
   "id": "ce8a9cd02e218fdd",
   "outputs": []
  },
  {
   "cell_type": "code",
   "execution_count": 9,
   "source": [
    "sim_fluxes.head(20)"
   ],
   "metadata": {
    "collapsed": false,
    "ExecuteTime": {
     "end_time": "2023-06-26T19:06:24.137784Z",
     "start_time": "2023-06-26T19:06:24.115142Z"
    }
   },
   "id": "b1445eb6e4ddf023",
   "outputs": []
  },
  {
   "cell_type": "code",
   "execution_count": 10,
   "source": [
    "fba[\"reaction_catalyst_counts\"]"
   ],
   "metadata": {
    "collapsed": false,
    "ExecuteTime": {
     "end_time": "2023-06-26T19:06:24.261823Z",
     "start_time": "2023-06-26T19:06:24.134582Z"
    }
   },
   "id": "67a6203e9600fe35",
   "outputs": []
  },
  {
   "cell_type": "code",
   "execution_count": 11,
   "source": [
    "sim_catalysts = pd.DataFrame(fba[\"reaction_catalyst_counts\"], columns=metabolism.reaction_names)\n",
    "sim_catalysts = pd.DataFrame(sim_catalysts.loc[4, :].abs().sort_values(ascending=False))\n",
    "sim_catalysts"
   ],
   "metadata": {
    "collapsed": false,
    "ExecuteTime": {
     "end_time": "2023-06-26T19:06:24.333696Z",
     "start_time": "2023-06-26T19:06:24.306108Z"
    }
   },
   "id": "9c52a465fbac675a",
   "outputs": []
  },
  {
   "cell_type": "markdown",
   "source": [
    "# Test changing nutrient composition"
   ],
   "metadata": {
    "collapsed": false
   },
   "id": "988bc451caf687c0"
  },
  {
   "cell_type": "code",
   "execution_count": 12,
   "source": [
    "uptake = metabolism.allowed_exchange_uptake\n",
    "uptake = set(uptake)\n",
    "\n",
    "# addition = set([\"CPD0-1074[c]\"])\n",
    "addition = set([\n",
    "        # \"FRU[p]\",\n",
    "        # \"NITRATE[p]\"\n",
    "        # 'THIAMINE[p]',\n",
    "        # 'HYDROGEN-MOLECULE[p]',\n",
    "        # 'FUM[p]'\n",
    "])\n",
    "removals = set([\n",
    "                  # \"GLC[p]\",\n",
    "               #      # 'AMMONIUM[c]',\n",
    "               #      # 'WATER[p]'\n",
    "               #       # 'Pi[p]',\n",
    "               #       # 'SULFATE[p]'\n",
    "               # 'OXYGEN-MOLECULE[p]'\n",
    "])\n",
    "\n",
    "\n",
    "uptake = uptake | addition\n",
    "uptake = uptake - removals\n",
    "uptake"
   ],
   "metadata": {
    "collapsed": false,
    "ExecuteTime": {
     "end_time": "2023-06-26T19:06:24.337983Z",
     "start_time": "2023-06-26T19:06:24.335409Z"
    }
   },
   "id": "9b81d6ea1ff03c3b",
   "outputs": []
  },
  {
   "cell_type": "markdown",
   "source": [
    "# Use NetworkFlowModel class to run model"
   ],
   "metadata": {
    "collapsed": false
   },
   "id": "8befb0cffd04a9e4"
  },
  {
   "cell_type": "code",
   "execution_count": 13,
   "source": [
    "fba[\"maintenance_target\"]"
   ],
   "metadata": {
    "collapsed": false,
    "ExecuteTime": {
     "end_time": "2023-06-26T19:06:24.341392Z",
     "start_time": "2023-06-26T19:06:24.338980Z"
    }
   },
   "id": "2a6a1bbfa23b1345",
   "outputs": []
  },
  {
   "cell_type": "code",
   "execution_count": 14,
   "source": [
    "homeostatic = pd.DataFrame(fba[\"target_homeostatic_dmdt\"], columns=metabolism.homeostatic_metabolites).loc[24, :]\n",
    "maintenance = pd.DataFrame(fba[\"maintenance_target\"][1:], columns=['maintenance_reaction']).iat[24, 0]\n",
    "kinetic = pd.DataFrame(fba[\"target_kinetic_fluxes\"], columns=metabolism.kinetic_constraint_reactions).loc[24, :]\n",
    "maintenance"
   ],
   "metadata": {
    "collapsed": false,
    "ExecuteTime": {
     "end_time": "2023-06-26T19:06:24.352427Z",
     "start_time": "2023-06-26T19:06:24.344104Z"
    }
   },
   "id": "2ecd1f5572276dc3",
   "outputs": []
  },
  {
   "cell_type": "code",
   "execution_count": 15,
   "source": [
    "model = NetworkFlowModel(\n",
    "            stoich_arr=metabolism.stoichiometry,\n",
    "            metabolites=metabolism.metabolite_names,\n",
    "            reactions=metabolism.reaction_names,\n",
    "            homeostatic_metabolites=list(dict(homeostatic).keys()),\n",
    "            kinetic_reactions=list(dict(kinetic).keys()),\n",
    "            free_reactions=FREE_RXNS)"
   ],
   "metadata": {
    "collapsed": false,
    "ExecuteTime": {
     "end_time": "2023-06-26T19:06:24.775269Z",
     "start_time": "2023-06-26T19:06:24.354150Z"
    }
   },
   "id": "3581431606c6e919",
   "outputs": []
  },
  {
   "cell_type": "code",
   "execution_count": 16,
   "source": [
    "model.set_up_exchanges(exchanges=metabolism.exchange_molecules, uptakes=metabolism.allowed_exchange_uptake)"
   ],
   "metadata": {
    "collapsed": false,
    "ExecuteTime": {
     "end_time": "2023-06-26T19:06:24.777068Z",
     "start_time": "2023-06-26T19:06:24.775416Z"
    }
   },
   "id": "e91a3941a5ddb17a",
   "outputs": []
  },
  {
   "cell_type": "code",
   "execution_count": 17,
   "source": [
    "objective_weights = {'secretion': 0.01, 'efficiency': 0.0001, 'kinetics': 0.000001}\n",
    "solution: FlowResult = model.solve(\n",
    "            homeostatic_targets=np.array(list(dict(homeostatic).values())),\n",
    "            maintenance_target=maintenance,\n",
    "            kinetic_targets=np.array(list(dict(kinetic).values())),\n",
    "            binary_kinetic_idx=[],\n",
    "            objective_weights=objective_weights,\n",
    "            upper_flux_bound=100000000)"
   ],
   "metadata": {
    "collapsed": false,
    "ExecuteTime": {
     "end_time": "2023-06-26T19:06:25.033011Z",
     "start_time": "2023-06-26T19:06:24.775553Z"
    }
   },
   "id": "150419393981d7d0",
   "outputs": []
  },
  {
   "cell_type": "code",
   "execution_count": 18,
   "source": [
    "pd.Series(solution.exchanges).abs().sort_values(ascending=False)"
   ],
   "metadata": {
    "collapsed": false,
    "ExecuteTime": {
     "end_time": "2023-06-26T19:06:25.037247Z",
     "start_time": "2023-06-26T19:06:25.033497Z"
    }
   },
   "id": "9f17f075a43db7cf",
   "outputs": []
  },
  {
   "cell_type": "code",
   "execution_count": 19,
   "source": [
    "cur_exchanges = pd.Series(solution.exchanges, index=metabolism.metabolite_names).abs().sort_values(ascending=False)\n",
    "nonzero = len(cur_exchanges[cur_exchanges > 0])\n",
    "\n",
    "# plot the top 10 fluxes from sim_fluxes as a bar plot.\n",
    "plt.figure(figsize=(30, 5))\n",
    "plt.plot(cur_exchanges.head(nonzero), 'o')\n",
    "\n",
    "# shorten all xtick names to 10 characters\n",
    "plt.xticks([i for i in range(nonzero)], [i[:20] for i in cur_exchanges.index[:nonzero]], rotation=45, ha= 'right')\n",
    "# make xticks aligned to right left of bar\n",
    "plt.yscale('log')\n",
    "plt.ylabel('Flux counts')\n",
    "plt.title('Top 10 Fluxes')\n",
    "plt.show()"
   ],
   "metadata": {
    "collapsed": false,
    "ExecuteTime": {
     "end_time": "2023-06-26T19:06:25.303692Z",
     "start_time": "2023-06-26T19:06:25.039178Z"
    }
   },
   "id": "8a968e2fc82343c1",
   "outputs": []
  },
  {
   "cell_type": "code",
   "execution_count": 20,
   "source": [
    "cur_fluxes = pd.Series(solution.velocities, index=metabolism.reaction_names).abs().sort_values(ascending=False)\n",
    "\n",
    "# plot the top 10 fluxes from sim_fluxes as a bar plot.\n",
    "plt.figure(figsize=(15, 5))\n",
    "plt.plot(cur_fluxes.head(20), 'o')\n",
    "\n",
    "# shorten all xtick names to 10 characters\n",
    "plt.xticks([i for i in range(20)], [i[:20] for i in cur_fluxes.index[:20]], rotation=45, ha= 'right')\n",
    "# make xticks aligned to right left of bar\n",
    "plt.yscale('log')\n",
    "plt.ylabel('Flux counts')\n",
    "plt.title('Top 10 Fluxes')\n",
    "plt.show()"
   ],
   "metadata": {
    "collapsed": false,
    "ExecuteTime": {
     "end_time": "2023-06-26T19:06:25.457288Z",
     "start_time": "2023-06-26T19:06:25.304614Z"
    }
   },
   "id": "b2a9b879b5b5484d",
   "outputs": []
  },
  {
   "cell_type": "markdown",
   "id": "28db669f-93f3-4f5c-aea0-e23b6a811660",
   "metadata": {},
   "source": [
    "## Connect to EcoCyc to go from Genes -> Reactions"
   ]
  },
  {
   "cell_type": "code",
   "execution_count": 21,
   "id": "a59449e4-be36-49c8-94ed-35c14f5bb72d",
   "metadata": {
    "ExecuteTime": {
     "end_time": "2023-06-26T19:06:25.817693Z",
     "start_time": "2023-06-26T19:06:25.456944Z"
    }
   },
   "source": [
    "s = requests.Session() # create session\n",
    "# Post login credentials to session:\n",
    "s.post('https://websvc.biocyc.org/credentials/login/', data={'email':'cellulararchitect@protonmail.com', 'password':'Cellman0451'})"
   ],
   "outputs": []
  },
  {
   "cell_type": "code",
   "execution_count": 22,
   "id": "ab016fac-3d48-49fb-85c7-63826a8f5664",
   "metadata": {
    "ExecuteTime": {
     "end_time": "2023-06-26T19:06:25.817958Z",
     "start_time": "2023-06-26T19:06:25.817592Z"
    }
   },
   "source": [
    "condition_sets = {0: {\"Environment\": \"Hydrogen + fumarate, -O2, -Glc\",\n",
    "                      \"Genes\": {\"EG10468\", \"EG10469\", \"EG10470\", \"EG11799\", \"EG11800\", \"EG11801\", \"G7554\"},\n",
    "                      \"Add\": {\"FUM[p]\", 'HYDROGEN-MOLECULE[p]'},\n",
    "                      \"Remove\": {\"GLC[p]\", \"OXYGEN-MOLECULE[p]\"},\n",
    "                      },\n",
    "                  \n",
    "                  1: {\"Environment\": \"Ribose C-source\",\n",
    "                      \"Genes\": {\"EG10814\", \"EG10815\", \"EG10816\", \"EG10818\"},\n",
    "                      \"Add\": {\"D-Ribopyranose[p]\"},\n",
    "                      \"Remove\": {\"GLC[p]\"},\n",
    "                      },\n",
    "                  \n",
    "                  2: {\"Environment\": \"Thiamine salvaging\",\n",
    "                      \"Genes\": {\"EG11574\", \"G6566\", \"M007\", \"EG11573\", \"EG11572\"},\n",
    "                      \"Add\": {\"THIAMINE[p]\"},\n",
    "                      \"Remove\": set(),\n",
    "                      },\n",
    "                  \n",
    "                  3: {\"Environment\": \"Nitrate as reduction target\",\n",
    "                      \"Genes\": {\"EG10638\", \"EG10639\", \"EG10640\", \"EG10644\", \"EG10647\", \"EG10648\"},\n",
    "                      \"Add\": {\"NITRATE[p]\"},\n",
    "                      \"Remove\": {\"OXYGEN-MOLECULE[p]\"},\n",
    "                      },\n",
    "                  \n",
    "                  4: {\"Environment\": \"3-Phenylpropionate as carbon and energy source\",\n",
    "                      \"Genes\": {\"M010\", \"M011\", \"M012\", \"G6206\"},\n",
    "                      \"Add\": {\"3-PHENYLPROPIONATE[p]\"},\n",
    "                      \"Remove\": {\"GLC[p]\"},\n",
    "                      },\n",
    "\n",
    "                  5: {\"Environment\": \"Molybdenum cofactor synthesis\",\n",
    "                      \"Genes\": {\"EG11595\", \"EG11666\", \"EG11597\", \"EG11598\", \"EG11829\", \"G7496\", \"EG10002\", \"EG10152\",\n",
    "                                \"EG10153\", \"EG10154\"},\n",
    "                      \"Add\": {\"CPD-3[p]\"},\n",
    "                      \"Remove\": set(),\n",
    "                      \"Demand\": {\"CPD-8123[c]\"},\n",
    "                      },\n",
    "\n",
    "                  6: {\"Environment\": \"pre-Quenosine synthesis\",\n",
    "                      \"Genes\": {\"G6245\", \"G7431\", \"G7452\"},\n",
    "                      \"Add\": set(),\n",
    "                      \"Remove\": set(),\n",
    "                      \"Demand\": {\"7-AMINOMETHYL-7-DEAZAGUANINE[c]\"},\n",
    "                      },\n",
    "\n",
    "\n",
    "                  \n",
    "                  # 5: {\"Genes\": set([\"EG10286\", \"EG10287\", \"EG10288\", \"EG10289\", \n",
    "                  #                   \"EG10290\", \"EG10293\", \"EG10294\", \"EG10295\", \n",
    "                  #                   \"EG10296\", \"EG10298\", \"EG10302\", \"EG10303\", \n",
    "                  #                   \"EG10304\", \"EG10305\", \"EG10306\", \"G6414\"]), \n",
    "                  #     \"Add\": set(),\n",
    "                  #     \"Remove\": set(),\n",
    "                  #     \"Environment\": \"Proper metal (iron) uptake\"}\n",
    "                 }\n",
    "\n",
    "condition_df = pd.DataFrame(condition_sets).T\n",
    "condition_df[\"Reactions\"] = [[np.nan]] * len(condition_df)\n",
    "condition_df[\"Demand\"] = condition_df[\"Demand\"].fillna(False)\n",
    "condition_df"
   ],
   "outputs": []
  },
  {
   "cell_type": "code",
   "execution_count": 23,
   "id": "0ecc835e-9a66-4cfe-838f-257cf37449b0",
   "metadata": {
    "ExecuteTime": {
     "end_time": "2023-06-26T19:06:27.529252Z",
     "start_time": "2023-06-26T19:06:25.817825Z"
    }
   },
   "source": [
    "for i in range(len(condition_df.index)):\n",
    "    \n",
    "    genes = condition_df.loc[i, \"Genes\"]\n",
    "    rxn_set = set()\n",
    "\n",
    "    for gene in genes:\n",
    "        function = \"reactions-of-gene\"\n",
    "        name = gene\n",
    "        req_str = f\"https://websvc.biocyc.org/apixml?fn={function}&id=ECOLI:{name}&detail=none&fmt=json\"\n",
    "\n",
    "        r = s.get(req_str)\n",
    "        o = xmltodict.parse(r.content)['ptools-xml']['Reaction']\n",
    "        if type(o) is dict:\n",
    "            o = [o]\n",
    "        \n",
    "        for rxn in o:\n",
    "            if type(rxn) is not str: # no rxns\n",
    "                rxn_set.add(rxn['@frameid'])\n",
    "            else:\n",
    "                print(gene, rxn)\n",
    "            \n",
    "    condition_df.at[i, \"Reactions\"] = rxn_set"
   ],
   "outputs": []
  },
  {
   "cell_type": "code",
   "execution_count": 24,
   "id": "4ec194b0-2aeb-43b9-85c6-108bebb4a0e9",
   "metadata": {
    "ExecuteTime": {
     "end_time": "2023-06-26T19:06:27.538169Z",
     "start_time": "2023-06-26T19:06:27.535842Z"
    }
   },
   "source": [
    "condition_df"
   ],
   "outputs": []
  },
  {
   "cell_type": "markdown",
   "id": "bed4cb3d-8c43-44a6-9677-2769b81ade20",
   "metadata": {},
   "source": [
    "## Quick and dirty loop (after init)"
   ]
  },
  {
   "cell_type": "code",
   "execution_count": 25,
   "id": "810fa6c8-b907-45b1-a1a7-d072f2295fe2",
   "metadata": {
    "ExecuteTime": {
     "end_time": "2023-06-26T19:06:31.436967Z",
     "start_time": "2023-06-26T19:06:27.546303Z"
    }
   },
   "source": [
    "results_df = pd.DataFrame(columns=[\"Environment\", \"Reaction\", \"Flux\"])\n",
    "\n",
    "for i in range(len(condition_df)):\n",
    "    condition_idx = i\n",
    "\n",
    "    uptake = metabolism.allowed_exchange_uptake\n",
    "\n",
    "    homeostatic = dict(pd.DataFrame(fba[\"target_homeostatic_dmdt\"], columns=metabolism.homeostatic_metabolites).loc[24, :])\n",
    "    new_demand = condition_df.at[condition_idx, \"Demand\"]\n",
    "    if new_demand:\n",
    "        for met in new_demand:\n",
    "            homeostatic[met] = 100\n",
    "\n",
    "    uptake = set(uptake)\n",
    "\n",
    "    addition = condition_df.at[condition_idx, \"Add\"]\n",
    "    removals = condition_df.at[condition_idx, \"Remove\"]\n",
    "\n",
    "    uptake = uptake | addition\n",
    "    uptake = uptake - removals\n",
    "\n",
    "    model = NetworkFlowModel(\n",
    "            stoich_arr=metabolism.stoichiometry,\n",
    "            metabolites=metabolism.metabolite_names,\n",
    "            reactions=metabolism.reaction_names,\n",
    "            homeostatic_metabolites=list(dict(homeostatic).keys()),\n",
    "            kinetic_reactions=list(dict(kinetic).keys()),\n",
    "            free_reactions=FREE_RXNS)\n",
    "\n",
    "    model.set_up_exchanges(exchanges=metabolism.exchange_molecules, uptakes=uptake)\n",
    "\n",
    "\n",
    "    objective_weights = {'secretion': 0.01, 'efficiency': 0.0001, 'kinetics': 0.000001}\n",
    "    solution: FlowResult = model.solve(\n",
    "                homeostatic_targets=np.array(list(dict(homeostatic).values())),\n",
    "                maintenance_target=maintenance,\n",
    "                kinetic_targets=np.array(list(dict(kinetic).values())),\n",
    "                binary_kinetic_idx=[],\n",
    "                objective_weights=objective_weights,\n",
    "                upper_flux_bound=100000000)\n",
    "\n",
    "    # Check flux\n",
    "    fluxes = pd.Series(solution.velocities, index=metabolism.reaction_names)\n",
    "    # fluxes = pd.DataFrame({model.rxns[i]: [solution.velocities[model.rxns[i]]] for i in range(len(model.rxns))}).T\n",
    "    fluxes.columns = [\"Flux\"]\n",
    "\n",
    "    relevant_rxns = condition_df.at[condition_idx, \"Reactions\"]\n",
    "    relevant_rxn_idx = []\n",
    "\n",
    "    for rxn in relevant_rxns:\n",
    "        relevant_rxn_idx.extend(list(np.where(fluxes.index.str.contains(rxn))[0] ))\n",
    "\n",
    "    relevant_fluxes = fluxes.iloc[relevant_rxn_idx]\n",
    "    \n",
    "    relevant_nonzero_fluxes = relevant_fluxes[relevant_fluxes != 0]\n",
    "    \n",
    "    for j, k in enumerate(relevant_nonzero_fluxes.index):\n",
    "        results_df = results_df.append(pd.DataFrame([[condition_df.at[condition_idx, \"Environment\"],\n",
    "                          relevant_nonzero_fluxes.index[j],\n",
    "                          relevant_nonzero_fluxes[k]]], columns=[\"Environment\", \"Reaction\", \"Flux\"]))\n",
    "\n",
    "    print(f\"\"\"finished {condition_df.at[condition_idx, \"Environment\"]}\"\"\")"
   ],
   "outputs": []
  },
  {
   "cell_type": "code",
   "execution_count": 26,
   "id": "3feb60e7-d881-4b21-afc4-e501301874bc",
   "metadata": {
    "ExecuteTime": {
     "end_time": "2023-06-26T19:06:31.444941Z",
     "start_time": "2023-06-26T19:06:31.442657Z"
    }
   },
   "source": [
    "results_df[\"Reaction\"] = results_df['Reaction'].str.slice(0,20)\n",
    "results_df[\"log(Flux)\"] = np.log10(results_df[\"Flux\"])\n",
    "results_df"
   ],
   "outputs": []
  },
  {
   "cell_type": "code",
   "execution_count": 27,
   "source": [
    "# for each environment, plot the fluxes of the reactions that are relevant to that environment\n",
    "g = sns.catplot(y=\"Environment\",hue=\"Reaction\", x=\"log(Flux)\", data=results_df, kind=\"bar\", aspect=2, height=10, sharey=False)\n",
    "g.savefig(\"notebooks/fbagd/figures/rxns_light_up.pdf\")"
   ],
   "metadata": {
    "collapsed": false,
    "ExecuteTime": {
     "end_time": "2023-06-26T19:06:32.082647Z",
     "start_time": "2023-06-26T19:06:31.451785Z"
    }
   },
   "id": "eb4242c500b260df",
   "outputs": []
  },
  {
   "metadata": {},
   "cell_type": "code",
   "execution_count": null,
   "source": "",
   "id": "aab12557df88bfbf",
   "outputs": []
  },
  {
   "metadata": {},
   "cell_type": "code",
   "execution_count": null,
   "source": "",
   "id": "b7d273d24a60005b",
   "outputs": []
  }
 ],
 "metadata": {
  "kernelspec": {
   "display_name": "Python 3 (ipykernel)",
   "language": "python",
   "name": "python3"
  },
  "language_info": {
   "codemirror_mode": {
    "name": "ipython",
    "version": 3
   },
   "file_extension": ".py",
   "mimetype": "text/x-python",
   "name": "python",
   "nbconvert_exporter": "python",
   "pygments_lexer": "ipython3",
   "version": "3.9.9"
  }
 },
 "nbformat": 4,
 "nbformat_minor": 5
}
