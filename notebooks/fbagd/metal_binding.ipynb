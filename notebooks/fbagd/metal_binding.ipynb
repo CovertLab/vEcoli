{
 "cells": [
  {
   "cell_type": "code",
   "execution_count": 113,
   "metadata": {
    "collapsed": true,
    "ExecuteTime": {
     "end_time": "2023-06-24T00:11:31.734198Z",
     "start_time": "2023-06-24T00:11:31.728052Z"
    }
   },
   "outputs": [],
   "source": [
    "import numpy as np\n",
    "\n",
    "import seaborn as sns\n",
    "import pandas as pd\n",
    "import os\n",
    "import pprint\n",
    "import ast\n",
    "import re\n",
    "import matplotlib.pyplot as plt\n",
    "import dill\n",
    "import requests\n",
    "import xmltodict\n",
    "\n",
    "pp = pprint.PrettyPrinter(depth=6)\n",
    "\n",
    "os.chdir(os.path.expanduser('~/vivarium-ecoli'))\n"
   ]
  },
  {
   "cell_type": "code",
   "execution_count": 114,
   "outputs": [],
   "source": [
    "complexation_rxn_df = pd.read_csv('reconstruction/ecoli/flat/complexation_reactions.tsv', sep='\\t')\n",
    "stoich_series = complexation_rxn_df.loc[:,['id', 'stoichiometry']].dropna().reset_index(drop=True)\n",
    "\n",
    "stoich_list = []\n",
    "for i, stoich in enumerate(stoich_series.loc[:, 'stoichiometry']):\n",
    "\n",
    "    stoich = stoich.replace('null', '-1')\n",
    "\n",
    "    stoich = ast.literal_eval(stoich)\n",
    "    for k,v in stoich.items():\n",
    "        stoich_list.append([k, v, stoich_series.loc[i, 'id'], None, None, None])"
   ],
   "metadata": {
    "collapsed": false,
    "ExecuteTime": {
     "end_time": "2023-06-24T00:11:36.003825Z",
     "start_time": "2023-06-24T00:11:35.970943Z"
    }
   }
  },
  {
   "cell_type": "code",
   "execution_count": 115,
   "outputs": [
    {
     "data": {
      "text/plain": "                               complex  stoichiometry  \\\n0                                1-PFK              1   \n1                2OXOGLUTARATEDEH-CPLX              1   \n2          3-ISOPROPYLMALDEHYDROG-CPLX              1   \n3              3-ISOPROPYLMALISOM-CPLX              1   \n4     3-METHYL-2-OXOBUT-OHCH3XFER-CPLX              1   \n...                                ...            ...   \n1096                        CPLX0-8053              1   \n1097                        CPLX0-8253              1   \n1098                          SRP-CPLX              1   \n1099                     CPLX0-7796APO              1   \n1100                         ARCB-CPLX              1   \n\n                                  reaction enzyme-reaction cofactors  \\\n0                                1-PFK_RXN            None      None   \n1                2OXOGLUTARATEDEH-CPLX_RXN            None      None   \n2          3-ISOPROPYLMALDEHYDROG-CPLX_RXN            None      None   \n3              3-ISOPROPYLMALISOM-CPLX_RXN            None      None   \n4     3-METHYL-2-OXOBUT-OHCH3XFER-CPLX_RXN            None      None   \n...                                    ...             ...       ...   \n1096                        CPLX0-8053_RXN            None      None   \n1097                        CPLX0-8253_RXN            None      None   \n1098                          SRP-CPLX_RXN            None      None   \n1099                     CPLX0-7796APO_RXN            None      None   \n1100                         ARCB-CPLX_RXN            None      None   \n\n     metal_binding  \n0             None  \n1             None  \n2             None  \n3             None  \n4             None  \n...            ...  \n1096          None  \n1097          None  \n1098          None  \n1099          None  \n1100          None  \n\n[1101 rows x 6 columns]",
      "text/html": "<div>\n<style scoped>\n    .dataframe tbody tr th:only-of-type {\n        vertical-align: middle;\n    }\n\n    .dataframe tbody tr th {\n        vertical-align: top;\n    }\n\n    .dataframe thead th {\n        text-align: right;\n    }\n</style>\n<table border=\"1\" class=\"dataframe\">\n  <thead>\n    <tr style=\"text-align: right;\">\n      <th></th>\n      <th>complex</th>\n      <th>stoichiometry</th>\n      <th>reaction</th>\n      <th>enzyme-reaction</th>\n      <th>cofactors</th>\n      <th>metal_binding</th>\n    </tr>\n  </thead>\n  <tbody>\n    <tr>\n      <th>0</th>\n      <td>1-PFK</td>\n      <td>1</td>\n      <td>1-PFK_RXN</td>\n      <td>None</td>\n      <td>None</td>\n      <td>None</td>\n    </tr>\n    <tr>\n      <th>1</th>\n      <td>2OXOGLUTARATEDEH-CPLX</td>\n      <td>1</td>\n      <td>2OXOGLUTARATEDEH-CPLX_RXN</td>\n      <td>None</td>\n      <td>None</td>\n      <td>None</td>\n    </tr>\n    <tr>\n      <th>2</th>\n      <td>3-ISOPROPYLMALDEHYDROG-CPLX</td>\n      <td>1</td>\n      <td>3-ISOPROPYLMALDEHYDROG-CPLX_RXN</td>\n      <td>None</td>\n      <td>None</td>\n      <td>None</td>\n    </tr>\n    <tr>\n      <th>3</th>\n      <td>3-ISOPROPYLMALISOM-CPLX</td>\n      <td>1</td>\n      <td>3-ISOPROPYLMALISOM-CPLX_RXN</td>\n      <td>None</td>\n      <td>None</td>\n      <td>None</td>\n    </tr>\n    <tr>\n      <th>4</th>\n      <td>3-METHYL-2-OXOBUT-OHCH3XFER-CPLX</td>\n      <td>1</td>\n      <td>3-METHYL-2-OXOBUT-OHCH3XFER-CPLX_RXN</td>\n      <td>None</td>\n      <td>None</td>\n      <td>None</td>\n    </tr>\n    <tr>\n      <th>...</th>\n      <td>...</td>\n      <td>...</td>\n      <td>...</td>\n      <td>...</td>\n      <td>...</td>\n      <td>...</td>\n    </tr>\n    <tr>\n      <th>1096</th>\n      <td>CPLX0-8053</td>\n      <td>1</td>\n      <td>CPLX0-8053_RXN</td>\n      <td>None</td>\n      <td>None</td>\n      <td>None</td>\n    </tr>\n    <tr>\n      <th>1097</th>\n      <td>CPLX0-8253</td>\n      <td>1</td>\n      <td>CPLX0-8253_RXN</td>\n      <td>None</td>\n      <td>None</td>\n      <td>None</td>\n    </tr>\n    <tr>\n      <th>1098</th>\n      <td>SRP-CPLX</td>\n      <td>1</td>\n      <td>SRP-CPLX_RXN</td>\n      <td>None</td>\n      <td>None</td>\n      <td>None</td>\n    </tr>\n    <tr>\n      <th>1099</th>\n      <td>CPLX0-7796APO</td>\n      <td>1</td>\n      <td>CPLX0-7796APO_RXN</td>\n      <td>None</td>\n      <td>None</td>\n      <td>None</td>\n    </tr>\n    <tr>\n      <th>1100</th>\n      <td>ARCB-CPLX</td>\n      <td>1</td>\n      <td>ARCB-CPLX_RXN</td>\n      <td>None</td>\n      <td>None</td>\n      <td>None</td>\n    </tr>\n  </tbody>\n</table>\n<p>1101 rows × 6 columns</p>\n</div>"
     },
     "execution_count": 115,
     "metadata": {},
     "output_type": "execute_result"
    }
   ],
   "source": [
    "pre_complex_df = pd.DataFrame(stoich_list, columns=['complex', 'stoichiometry', 'reaction', 'enzyme-reaction', 'cofactors', 'metal_binding'])\n",
    "pre_complex_df = pre_complex_df[pre_complex_df['stoichiometry'] > 0].reset_index(drop=True)\n",
    "pre_complex_df"
   ],
   "metadata": {
    "collapsed": false,
    "ExecuteTime": {
     "end_time": "2023-06-24T00:11:36.157834Z",
     "start_time": "2023-06-24T00:11:36.151859Z"
    }
   }
  },
  {
   "cell_type": "markdown",
   "source": [
    "## Connect to EcoCyc to go from Complex -> Cofactor + Metal sites"
   ],
   "metadata": {
    "collapsed": false
   }
  },
  {
   "cell_type": "code",
   "execution_count": 116,
   "outputs": [
    {
     "data": {
      "text/plain": "<Response [200]>"
     },
     "execution_count": 116,
     "metadata": {},
     "output_type": "execute_result"
    }
   ],
   "source": [
    "s = requests.Session() # create session\n",
    "# Post login credentials to session:\n",
    "s.post('https://websvc.biocyc.org/credentials/login/', data={'email':'cellulararchitect@protonmail.com', 'password':'Cellman0451'})"
   ],
   "metadata": {
    "collapsed": false,
    "ExecuteTime": {
     "end_time": "2023-06-24T00:11:37.445849Z",
     "start_time": "2023-06-24T00:11:37.195264Z"
    }
   }
  },
  {
   "cell_type": "code",
   "execution_count": 124,
   "outputs": [
    {
     "name": "stdout",
     "output_type": "stream",
     "text": [
      "{'@ptools-version': '27.0',\n",
      " '@xml:base': 'http://BioCyc.org/apixml?fn=monomers-of-protein%26id=ECOLI:CPLX0-8167%26detail=NONE',\n",
      " 'Protein': [{'@frameid': 'HYAC-MONOMER',\n",
      "              '@orgid': 'ECOLI',\n",
      "              '@resource': 'getxml?ECOLI:HYAC-MONOMER'},\n",
      "             {'@frameid': 'HYAB-MONOMER',\n",
      "              '@orgid': 'ECOLI',\n",
      "              '@resource': 'getxml?ECOLI:HYAB-MONOMER'},\n",
      "             {'@frameid': 'HYAA-MONOMER',\n",
      "              '@orgid': 'ECOLI',\n",
      "              '@resource': 'getxml?ECOLI:HYAA-MONOMER'}],\n",
      " 'metadata': {'num_results': '3',\n",
      "              'query': 'fn=monomers-of-protein&id=ECOLI:CPLX0-8167&detail=NONE',\n",
      "              'service_name': 'apixml',\n",
      "              'url': 'http://BioCyc.org/'}}\n"
     ]
    }
   ],
   "source": [
    "protein = 'CPLX0-8167'\n",
    "\n",
    "# req_str = f'https://websvc.biocyc.org/getxml?id=ECOLI:{protein}&detail=high'\n",
    "req_str = f'https://websvc.biocyc.org/apixml?fn=monomers-of-protein&id=ECOLI:{protein}&detail=none'\n",
    "\n",
    "r = s.get(req_str)\n",
    "\n",
    "o = xmltodict.parse(r.content)['ptools-xml']\n",
    "pp.pprint(o)"
   ],
   "metadata": {
    "collapsed": false,
    "ExecuteTime": {
     "end_time": "2023-06-24T00:15:02.784067Z",
     "start_time": "2023-06-24T00:15:02.741949Z"
    }
   }
  },
  {
   "cell_type": "code",
   "execution_count": 27,
   "outputs": [
    {
     "name": "stdout",
     "output_type": "stream",
     "text": [
      "CPLX0-2423 404\n",
      "CPLX0-3976 404\n",
      "RECFOR-CPLX 404\n",
      "CPLX0-7796APO 404\n"
     ]
    }
   ],
   "source": [
    "for i in range(len(pre_complex_df.index)): #\n",
    "\n",
    "    complex = pre_complex_df.loc[i, 'complex']\n",
    "\n",
    "    req_str = f'https://websvc.biocyc.org/getxml?id=ECOLI:{complex}&detail=low'\n",
    "\n",
    "    r = s.get(req_str)\n",
    "    if r.status_code != 200:\n",
    "        print(complex, r.status_code)\n",
    "        continue\n",
    "\n",
    "    o = xmltodict.parse(r.content)['ptools-xml']['Protein']\n",
    "\n",
    "    # don't allow non-top-level complexes that dont have enzymatic reactions.\n",
    "    if 'component-of' in o and 'catalyzes' not in o:\n",
    "        continue\n",
    "\n",
    "    # check if components have enzymatic-reaction:\n",
    "    components = o['component']\n",
    "    if type(components) is dict:\n",
    "        components = [components]\n",
    "\n",
    "    for component in components:\n",
    "\n",
    "        if \"Protein\" in component:\n",
    "            component_id = component['Protein']['@frameid']\n",
    "\n",
    "            req_str = f'https://websvc.biocyc.org/getxml?id=ECOLI:{component_id}&detail=high'\n",
    "            rc = s.get(req_str)\n",
    "            oc = xmltodict.parse(rc.content)['ptools-xml']['Protein']\n",
    "\n",
    "            feature_set = set()\n",
    "            if 'has-feature' in oc:\n",
    "                features = oc['has-feature']\n",
    "\n",
    "                if type(features) is dict:\n",
    "                    features = [features]\n",
    "\n",
    "                for feature in features:\n",
    "                    if 'parent' not in feature['Feature']:\n",
    "                        continue\n",
    "\n",
    "                    category = feature['Feature']['parent']['Feature']['@frameid']\n",
    "                    if category == 'Metal-Binding-Sites' and 'comment' in feature['Feature']:\n",
    "\n",
    "                        # Detect match to any of the allowed metal names and allowed cofactor names and add to list\n",
    "                        comment = feature['Feature']['comment']['#text']\n",
    "                        feature_set.add(comment)\n",
    "\n",
    "                        pre_complex_df.at[i, 'metal_binding'] = list(feature_set)\n",
    "\n",
    "\n",
    "    # if enzyme\n",
    "    if 'catalyzes' in o:\n",
    "        o = o['catalyzes']['Enzymatic-Reaction']\n",
    "\n",
    "        if type(o) is dict:\n",
    "            o = [o]\n",
    "\n",
    "        cofactor_set = set()\n",
    "        for enzrxn in o:\n",
    "            enz_id = enzrxn['@frameid']\n",
    "\n",
    "            enz_req_str = f'https://websvc.biocyc.org/getxml?id=ECOLI:{enz_id}&detail=high'\n",
    "\n",
    "            rz = s.get(enz_req_str)\n",
    "            oe = xmltodict.parse(rz.content)['ptools-xml']['Enzymatic-Reaction']\n",
    "\n",
    "            pre_complex_df.at[i, 'enzyme-reaction'] = enz_id\n",
    "\n",
    "            if \"cofactor\" in oe:\n",
    "                oe = oe['cofactor']\n",
    "\n",
    "                if type(oe) is dict:\n",
    "                    oe = [oe]\n",
    "\n",
    "                for cofactor in oe:\n",
    "                    cof = cofactor['Compound']['@frameid']\n",
    "                    cofactor_set.add(cof)\n",
    "\n",
    "        pre_complex_df.at[i, 'cofactors'] = cofactor_set\n",
    "\n"
   ],
   "metadata": {
    "collapsed": false,
    "ExecuteTime": {
     "end_time": "2023-06-21T17:35:47.859429Z",
     "start_time": "2023-06-21T17:26:36.495196Z"
    }
   }
  },
  {
   "cell_type": "code",
   "execution_count": 28,
   "outputs": [
    {
     "data": {
      "text/plain": "{'UniProt: Calcium 1.',\n 'UniProt: Calcium 1; via carbonyl oxygen.',\n 'UniProt: Calcium 1; via carbonyl oxygen; in dimeric form.',\n 'UniProt: Calcium 1; via carbonyl oxygen; shared with dimeric partner.',\n 'UniProt: Calcium 2.',\n 'UniProt: Calcium 2; in dimeric form.',\n 'UniProt: Calcium 2; via carbonyl oxygen.',\n 'UniProt: Calcium 2; via carbonyl oxygen; in dimeric form.',\n 'UniProt: Calcium 3; in monomeric form.',\n 'UniProt: Calcium 3; shared with dimeric partner.',\n 'UniProt: Calcium 3; via carbonyl oxygen; shared with dimeric partner.',\n 'UniProt: Calcium.',\n 'UniProt: Calcium; via carbonyl oxygen.',\n 'UniProt: Cobalt (adenosylcob(III)alamin axial ligand).',\n 'UniProt: Cobalt.',\n 'UniProt: Cobalt; via tele nitrogen.',\n 'UniProt: Copper.',\n 'UniProt: Copper; via pros nitrogen.',\n 'UniProt: Copper; via tele nitrogen.',\n 'UniProt: Divalent metal cation 1.',\n 'UniProt: Divalent metal cation 1; via carbamate group.',\n 'UniProt: Divalent metal cation 1; via carbonyl oxygen.',\n 'UniProt: Divalent metal cation 2.',\n 'UniProt: Divalent metal cation 2; via carbamate group.',\n 'UniProt: Divalent metal cation 3.',\n 'UniProt: Divalent metal cation.',\n 'UniProt: Divalent metal cation; shared with dimeric partner.',\n 'UniProt: Divalent metal cation; via pros nitrogen.',\n 'UniProt: Divalent metal cation; via tele nitrogen.',\n 'UniProt: Fe(2+); catalytic.',\n 'UniProt: Iron (heme 1 axial ligand).',\n 'UniProt: Iron (heme 2 axial ligand).',\n 'UniProt: Iron (heme 3 axial ligand).',\n 'UniProt: Iron (heme 4 axial ligand).',\n 'UniProt: Iron (heme 5 axial ligand).',\n 'UniProt: Iron (heme B 1 axial ligand).',\n 'UniProt: Iron (heme B 2 axial ligand).',\n 'UniProt: Iron (heme axial ligand).',\n 'UniProt: Iron (heme b axial ligand).',\n 'UniProt: Iron (heme b axial ligand); shared with dimeric partner.',\n 'UniProt: Iron (heme b proximal ligand); via tele nitrogen.',\n 'UniProt: Iron (heme b558 axial ligand).',\n 'UniProt: Iron (heme b595 axial ligand).',\n 'UniProt: Iron (heme distal ligand).',\n 'UniProt: Iron (heme o axial ligand).',\n 'UniProt: Iron (heme proximal ligand).',\n 'UniProt: Iron (siroheme axial ligand).',\n 'UniProt: Iron 1.',\n 'UniProt: Iron 1; shared with dodecameric partner.',\n 'UniProt: Iron 2.',\n 'UniProt: Iron 3.',\n 'UniProt: Iron-sulfur (2Fe-2S).',\n 'UniProt: Iron-sulfur (2Fe-2S); shared with dimeric partner.',\n 'UniProt: Iron-sulfur (2Fe-2S); via persulfide group; shared with IscU.',\n 'UniProt: Iron-sulfur (2Fe-2S); via pros nitrogen.',\n 'UniProt: Iron-sulfur (3Fe-4S).',\n 'UniProt: Iron-sulfur (4Fe-4S) 1.',\n 'UniProt: Iron-sulfur (4Fe-4S) 2.',\n 'UniProt: Iron-sulfur (4Fe-4S) 2; 4Fe-4S-S-AdoMet.',\n 'UniProt: Iron-sulfur (4Fe-4S) 3.',\n 'UniProt: Iron-sulfur (4Fe-4S) 4.',\n 'UniProt: Iron-sulfur (4Fe-4S).',\n 'UniProt: Iron-sulfur (4Fe-4S-S-AdoMet).',\n 'UniProt: Iron-sulfur 1 (2Fe-2S).',\n 'UniProt: Iron-sulfur 2 (4Fe-4S).',\n 'UniProt: Iron-sulfur 3 (3Fe-4S).',\n 'UniProt: Iron-sulfur.',\n 'UniProt: Iron.',\n 'UniProt: Iron; catalytic.',\n 'UniProt: Iron; via tele nitrogen.',\n 'UniProt: Iron; via tele nitrogen; catalytic.',\n 'UniProt: Magnesium 1.',\n 'UniProt: Magnesium 1; catalytic.',\n 'UniProt: Magnesium 1; via carbonyl oxygen.',\n 'UniProt: Magnesium 1; via pros nitrogen.',\n 'UniProt: Magnesium 2.',\n 'UniProt: Magnesium 2; catalytic.',\n 'UniProt: Magnesium 3.',\n 'UniProt: Magnesium or cobalt.',\n 'UniProt: Magnesium or manganese.',\n 'UniProt: Magnesium.',\n 'UniProt: Magnesium; catalytic.',\n 'UniProt: Magnesium; via carbamate group.',\n 'UniProt: Magnesium; via carbonyl oxygen.',\n 'UniProt: Magnesium; via tele nitrogen.',\n 'UniProt: Manganese 1.',\n 'UniProt: Manganese 1; via pros nitrogen.',\n 'UniProt: Manganese 1; via tele nitrogen.',\n 'UniProt: Manganese 2.',\n 'UniProt: Manganese 2; via tele nitrogen.',\n 'UniProt: Manganese 3.',\n 'UniProt: Manganese 4.',\n 'UniProt: Manganese.',\n 'UniProt: Manganese; via pros nitrogen.',\n 'UniProt: Molybdate.',\n 'UniProt: Molybdate; via amide nitrogen.',\n 'UniProt: Molybdenum (Mo-bis(molybdopterin guanine dinucleotide) metal ligand).',\n 'UniProt: Molybdenum (Mo-molybdopterin metal ligand).',\n 'UniProt: Molybdenum (Mo-molybdopterin metal ligand); via amide nitrogen.',\n 'UniProt: Molybdenum (Mo-molybdopterin metal ligand); via carbonyl oxygen.',\n 'UniProt: Molybdenum.',\n 'UniProt: Nickel 1.',\n 'UniProt: Nickel 2.',\n 'UniProt: Nickel.',\n 'UniProt: Nickel; shared with dimeric partner.',\n 'UniProt: Nickel; via tele nitrogen.',\n 'UniProt: Nickel; via tele nitrogen; shared with dimeric partner.',\n 'UniProt: Potassium 1.',\n 'UniProt: Potassium 1; via carbonyl oxygen.',\n 'UniProt: Potassium 2; via carbonyl oxygen.',\n 'UniProt: Potassium.',\n 'UniProt: Potassium; via carbonyl oxygen.',\n 'UniProt: Potassium; via carbonyl oxygen; shared with tetrameric partner.',\n 'UniProt: Sodium.',\n 'UniProt: Sodium; via carbonyl oxygen.',\n 'UniProt: Zinc 1.',\n 'UniProt: Zinc 1; catalytic.',\n 'UniProt: Zinc 1; via carbamate group.',\n 'UniProt: Zinc 1; via carbamate group; catalytic.',\n 'UniProt: Zinc 1; via tele nitrogen.',\n 'UniProt: Zinc 1; via tele nitrogen; catalytic.',\n 'UniProt: Zinc 2.',\n 'UniProt: Zinc 2; catalytic.',\n 'UniProt: Zinc 2; via carbamate group.',\n 'UniProt: Zinc 2; via carbamate group; catalytic.',\n 'UniProt: Zinc 2; via pros nitrogen.',\n 'UniProt: Zinc 2; via pros nitrogen; catalytic.',\n 'UniProt: Zinc 2; via tele nitrogen.',\n 'UniProt: Zinc 2; via tele nitrogen; catalytic.',\n 'UniProt: Zinc 3.',\n 'UniProt: Zinc.',\n 'UniProt: Zinc; catalytic.',\n 'UniProt: Zinc; shared with EIIA-Glc.',\n 'UniProt: Zinc; shared with dimeric partner.',\n 'UniProt: Zinc; shared with glycerol kinase.',\n 'UniProt: Zinc; structural.',\n 'UniProt: Zinc; via pros nitrogen.',\n 'UniProt: Zinc; via pros nitrogen; catalytic.',\n 'UniProt: Zinc; via tele nitrogen.',\n 'UniProt: Zn(2+); catalytic.'}"
     },
     "execution_count": 28,
     "metadata": {},
     "output_type": "execute_result"
    }
   ],
   "source": [
    "total_features = set()\n",
    "\n",
    "for i in range(len(pre_complex_df.index)):\n",
    "\n",
    "        if pre_complex_df.loc[i, 'metal_binding'] is not None:\n",
    "            # only include set elements that have Uniprot in string\n",
    "            metal_binding = pre_complex_df.loc[i, 'metal_binding']\n",
    "            for feature in metal_binding:\n",
    "                if 'UniProt' in feature:\n",
    "                    total_features.add(feature)\n",
    "            metal_binding = [x for x in metal_binding if 'UniProt' in x]\n",
    "\n",
    "            pre_complex_df.at[i, 'metal_binding'] = metal_binding\n",
    "\n",
    "            total_features.update(metal_binding)\n",
    "\n",
    "total_features"
   ],
   "metadata": {
    "collapsed": false,
    "ExecuteTime": {
     "end_time": "2023-06-21T17:35:47.893545Z",
     "start_time": "2023-06-21T17:35:47.866154Z"
    }
   }
  },
  {
   "cell_type": "code",
   "execution_count": 29,
   "outputs": [],
   "source": [
    "ALLOWED_METAL_NAMES = {'Iron': 'FE+2', 'Cobalt': 'CO+2', 'Copper': 'CU+2', 'Manganese': 'MN+2', 'Molybdenum': 'MO+2', 'Nickel': 'NI+2', 'Tungsten': 'W', 'Zinc': 'ZN+2',\n",
    "                       'Calcium': 'CA+2', 'Magnesium': 'MG+2', 'Sodium': 'NA+', 'Potassium': 'K+',\n",
    "                       'Iron-sulfur \\(4Fe-4S\\)': 'CPD-7', 'Iron-sulfur \\(2Fe-2S\\)': 'CPD-6', 'heme': 'heme', 'Molybdate': 'CPD-3'}\n",
    "\n",
    "NON_REGEX_METAL = {'Iron': 'FE+2', 'Cobalt': 'CO+2', 'Copper': 'CU+2', 'Manganese': 'MN+2', 'Molybdenum': 'MO+2', 'Nickel': 'NI+2', 'Tungsten': 'W', 'Zinc': 'ZN+2',\n",
    "                       'Calcium': 'CA+2', 'Magnesium': 'MG+2', 'Sodium': 'NA+', 'Potassium': 'K+',\n",
    "                       'Iron-sulfur (4Fe-4S)': 'CPD-7', 'Iron-sulfur (2Fe-2S)': 'CPD-6', 'heme': 'heme', 'Molybdate': 'CPD-3'}\n",
    "\n",
    "pre_complex_df['metal_binding_processed'] = 0\n",
    "pre_complex_df['metal_binding_processed'] = pre_complex_df['metal_binding_processed'].astype(object)\n",
    "\n",
    "metal_pattern = '|'.join(ALLOWED_METAL_NAMES.keys())\n",
    "metal_regex = re.compile(f'(({metal_pattern})(\\s\\d[\\.,;]|[\\.,;]|\\s\\())')\n",
    "\n",
    "\n",
    "for i in range(len(pre_complex_df.index)):\n",
    "\n",
    "    if pre_complex_df.loc[i, 'metal_binding'] is not None:\n",
    "        metal_binding = pre_complex_df.loc[i, 'metal_binding']\n",
    "\n",
    "        metal_count_dict = {}\n",
    "        existing_matches = set()\n",
    "\n",
    "        for feature in metal_binding:\n",
    "            matches = metal_regex.search(feature)\n",
    "            if matches:\n",
    "                metal = matches.group(0)[:-1]\n",
    "\n",
    "                # eliminate duplicates\n",
    "                if metal not in existing_matches:\n",
    "\n",
    "                    existing_matches.add(metal)\n",
    "\n",
    "                    if 'heme' in feature:\n",
    "                        metal = metal.replace('Iron', 'heme')\n",
    "\n",
    "                    # check if last char of metal is a number, then crop\n",
    "                    if metal[-1].isdigit():\n",
    "                        metal = metal[:-2]\n",
    "\n",
    "                    metal = metal.strip()\n",
    "\n",
    "                    # replace metal name with allowed metal name\n",
    "                    metal = NON_REGEX_METAL[metal]\n",
    "\n",
    "                    if metal in metal_count_dict:\n",
    "                        metal_count_dict[metal] += 1\n",
    "                    else:\n",
    "                        metal_count_dict[metal] = 1\n",
    "\n",
    "\n",
    "\n",
    "\n",
    "        pre_complex_df.at[i, 'metal_binding_processed'] = metal_count_dict"
   ],
   "metadata": {
    "collapsed": false,
    "ExecuteTime": {
     "end_time": "2023-06-21T17:35:47.907513Z",
     "start_time": "2023-06-21T17:35:47.889213Z"
    }
   }
  },
  {
   "cell_type": "code",
   "execution_count": 30,
   "outputs": [
    {
     "data": {
      "text/plain": "                               complex  stoichiometry  \\\n0                                1-PFK              1   \n1                2OXOGLUTARATEDEH-CPLX              1   \n2          3-ISOPROPYLMALDEHYDROG-CPLX              1   \n3              3-ISOPROPYLMALISOM-CPLX              1   \n4     3-METHYL-2-OXOBUT-OHCH3XFER-CPLX              1   \n...                                ...            ...   \n1096                        CPLX0-8053              1   \n1097                        CPLX0-8253              1   \n1098                          SRP-CPLX              1   \n1099                     CPLX0-7796APO              1   \n1100                         ARCB-CPLX              1   \n\n                                  reaction  \\\n0                                1-PFK_RXN   \n1                2OXOGLUTARATEDEH-CPLX_RXN   \n2          3-ISOPROPYLMALDEHYDROG-CPLX_RXN   \n3              3-ISOPROPYLMALISOM-CPLX_RXN   \n4     3-METHYL-2-OXOBUT-OHCH3XFER-CPLX_RXN   \n...                                    ...   \n1096                        CPLX0-8053_RXN   \n1097                        CPLX0-8253_RXN   \n1098                          SRP-CPLX_RXN   \n1099                     CPLX0-7796APO_RXN   \n1100                         ARCB-CPLX_RXN   \n\n                         enzyme-reaction  \\\n0                  1PFRUCTPHOSPHN-ENZRXN   \n1                2OXOGLUTARATEDEH-ENZRXN   \n2          3-ISOPROPYLMALDEHYDROG-ENZRXN   \n3              3-ISOPROPYLMALISOM-ENZRXN   \n4     3-METHYL-2-OXOBUT-OHCH3XFER-ENZRXN   \n...                                  ...   \n1096                                None   \n1097                                None   \n1098                                None   \n1099                                None   \n1100                        ENZRXN0-8568   \n\n                                             cofactors  \\\n0                                               [MG+2]   \n1     [LIPOIC-ACID, THIAMINE-PYROPHOSPHATE, FAD, MG+2]   \n2                                         [MG+2, MN+2]   \n3                                              [CPD-7]   \n4                                               [MG+2]   \n...                                                ...   \n1096                                              None   \n1097                                              None   \n1098                                              None   \n1099                                              None   \n1100                                              None   \n\n                                          metal_binding  \\\n0                                                  None   \n1                                                  None   \n2     [UniProt: Magnesium or manganese., UniProt: Ma...   \n3                      [UniProt: Iron-sulfur (4Fe-4S).]   \n4                                 [UniProt: Magnesium.]   \n...                                                 ...   \n1096                                               None   \n1097                                               None   \n1098                                               None   \n1099                                               None   \n1100                                               None   \n\n     metal_binding_processed  \n0                          0  \n1                          0  \n2                {'MG+2': 1}  \n3               {'CPD-7': 1}  \n4                {'MG+2': 1}  \n...                      ...  \n1096                       0  \n1097                       0  \n1098                       0  \n1099                       0  \n1100                       0  \n\n[1101 rows x 7 columns]",
      "text/html": "<div>\n<style scoped>\n    .dataframe tbody tr th:only-of-type {\n        vertical-align: middle;\n    }\n\n    .dataframe tbody tr th {\n        vertical-align: top;\n    }\n\n    .dataframe thead th {\n        text-align: right;\n    }\n</style>\n<table border=\"1\" class=\"dataframe\">\n  <thead>\n    <tr style=\"text-align: right;\">\n      <th></th>\n      <th>complex</th>\n      <th>stoichiometry</th>\n      <th>reaction</th>\n      <th>enzyme-reaction</th>\n      <th>cofactors</th>\n      <th>metal_binding</th>\n      <th>metal_binding_processed</th>\n    </tr>\n  </thead>\n  <tbody>\n    <tr>\n      <th>0</th>\n      <td>1-PFK</td>\n      <td>1</td>\n      <td>1-PFK_RXN</td>\n      <td>1PFRUCTPHOSPHN-ENZRXN</td>\n      <td>[MG+2]</td>\n      <td>None</td>\n      <td>0</td>\n    </tr>\n    <tr>\n      <th>1</th>\n      <td>2OXOGLUTARATEDEH-CPLX</td>\n      <td>1</td>\n      <td>2OXOGLUTARATEDEH-CPLX_RXN</td>\n      <td>2OXOGLUTARATEDEH-ENZRXN</td>\n      <td>[LIPOIC-ACID, THIAMINE-PYROPHOSPHATE, FAD, MG+2]</td>\n      <td>None</td>\n      <td>0</td>\n    </tr>\n    <tr>\n      <th>2</th>\n      <td>3-ISOPROPYLMALDEHYDROG-CPLX</td>\n      <td>1</td>\n      <td>3-ISOPROPYLMALDEHYDROG-CPLX_RXN</td>\n      <td>3-ISOPROPYLMALDEHYDROG-ENZRXN</td>\n      <td>[MG+2, MN+2]</td>\n      <td>[UniProt: Magnesium or manganese., UniProt: Ma...</td>\n      <td>{'MG+2': 1}</td>\n    </tr>\n    <tr>\n      <th>3</th>\n      <td>3-ISOPROPYLMALISOM-CPLX</td>\n      <td>1</td>\n      <td>3-ISOPROPYLMALISOM-CPLX_RXN</td>\n      <td>3-ISOPROPYLMALISOM-ENZRXN</td>\n      <td>[CPD-7]</td>\n      <td>[UniProt: Iron-sulfur (4Fe-4S).]</td>\n      <td>{'CPD-7': 1}</td>\n    </tr>\n    <tr>\n      <th>4</th>\n      <td>3-METHYL-2-OXOBUT-OHCH3XFER-CPLX</td>\n      <td>1</td>\n      <td>3-METHYL-2-OXOBUT-OHCH3XFER-CPLX_RXN</td>\n      <td>3-METHYL-2-OXOBUT-OHCH3XFER-ENZRXN</td>\n      <td>[MG+2]</td>\n      <td>[UniProt: Magnesium.]</td>\n      <td>{'MG+2': 1}</td>\n    </tr>\n    <tr>\n      <th>...</th>\n      <td>...</td>\n      <td>...</td>\n      <td>...</td>\n      <td>...</td>\n      <td>...</td>\n      <td>...</td>\n      <td>...</td>\n    </tr>\n    <tr>\n      <th>1096</th>\n      <td>CPLX0-8053</td>\n      <td>1</td>\n      <td>CPLX0-8053_RXN</td>\n      <td>None</td>\n      <td>None</td>\n      <td>None</td>\n      <td>0</td>\n    </tr>\n    <tr>\n      <th>1097</th>\n      <td>CPLX0-8253</td>\n      <td>1</td>\n      <td>CPLX0-8253_RXN</td>\n      <td>None</td>\n      <td>None</td>\n      <td>None</td>\n      <td>0</td>\n    </tr>\n    <tr>\n      <th>1098</th>\n      <td>SRP-CPLX</td>\n      <td>1</td>\n      <td>SRP-CPLX_RXN</td>\n      <td>None</td>\n      <td>None</td>\n      <td>None</td>\n      <td>0</td>\n    </tr>\n    <tr>\n      <th>1099</th>\n      <td>CPLX0-7796APO</td>\n      <td>1</td>\n      <td>CPLX0-7796APO_RXN</td>\n      <td>None</td>\n      <td>None</td>\n      <td>None</td>\n      <td>0</td>\n    </tr>\n    <tr>\n      <th>1100</th>\n      <td>ARCB-CPLX</td>\n      <td>1</td>\n      <td>ARCB-CPLX_RXN</td>\n      <td>ENZRXN0-8568</td>\n      <td>None</td>\n      <td>None</td>\n      <td>0</td>\n    </tr>\n  </tbody>\n</table>\n<p>1101 rows × 7 columns</p>\n</div>"
     },
     "execution_count": 30,
     "metadata": {},
     "output_type": "execute_result"
    }
   ],
   "source": [
    "pre_complex_df"
   ],
   "metadata": {
    "collapsed": false,
    "ExecuteTime": {
     "end_time": "2023-06-21T17:35:47.913884Z",
     "start_time": "2023-06-21T17:35:47.905437Z"
    }
   }
  },
  {
   "cell_type": "code",
   "execution_count": 31,
   "outputs": [
    {
     "data": {
      "text/plain": "                               complex  \\\n0                                1-PFK   \n1                2OXOGLUTARATEDEH-CPLX   \n2          3-ISOPROPYLMALDEHYDROG-CPLX   \n3              3-ISOPROPYLMALISOM-CPLX   \n4     3-METHYL-2-OXOBUT-OHCH3XFER-CPLX   \n...                                ...   \n1096                        CPLX0-8053   \n1097                        CPLX0-8253   \n1098                          SRP-CPLX   \n1099                     CPLX0-7796APO   \n1100                         ARCB-CPLX   \n\n                                             cofactors metal_binding_processed  \n0                                               [MG+2]                      {}  \n1     [LIPOIC-ACID, THIAMINE-PYROPHOSPHATE, FAD, MG+2]                      {}  \n2                                         [MG+2, MN+2]             {'MG+2': 1}  \n3                                              [CPD-7]            {'CPD-7': 1}  \n4                                               [MG+2]             {'MG+2': 1}  \n...                                                ...                     ...  \n1096                                                []                      {}  \n1097                                                []                      {}  \n1098                                                []                      {}  \n1099                                                []                      {}  \n1100                                                []                      {}  \n\n[1101 rows x 3 columns]",
      "text/html": "<div>\n<style scoped>\n    .dataframe tbody tr th:only-of-type {\n        vertical-align: middle;\n    }\n\n    .dataframe tbody tr th {\n        vertical-align: top;\n    }\n\n    .dataframe thead th {\n        text-align: right;\n    }\n</style>\n<table border=\"1\" class=\"dataframe\">\n  <thead>\n    <tr style=\"text-align: right;\">\n      <th></th>\n      <th>complex</th>\n      <th>cofactors</th>\n      <th>metal_binding_processed</th>\n    </tr>\n  </thead>\n  <tbody>\n    <tr>\n      <th>0</th>\n      <td>1-PFK</td>\n      <td>[MG+2]</td>\n      <td>{}</td>\n    </tr>\n    <tr>\n      <th>1</th>\n      <td>2OXOGLUTARATEDEH-CPLX</td>\n      <td>[LIPOIC-ACID, THIAMINE-PYROPHOSPHATE, FAD, MG+2]</td>\n      <td>{}</td>\n    </tr>\n    <tr>\n      <th>2</th>\n      <td>3-ISOPROPYLMALDEHYDROG-CPLX</td>\n      <td>[MG+2, MN+2]</td>\n      <td>{'MG+2': 1}</td>\n    </tr>\n    <tr>\n      <th>3</th>\n      <td>3-ISOPROPYLMALISOM-CPLX</td>\n      <td>[CPD-7]</td>\n      <td>{'CPD-7': 1}</td>\n    </tr>\n    <tr>\n      <th>4</th>\n      <td>3-METHYL-2-OXOBUT-OHCH3XFER-CPLX</td>\n      <td>[MG+2]</td>\n      <td>{'MG+2': 1}</td>\n    </tr>\n    <tr>\n      <th>...</th>\n      <td>...</td>\n      <td>...</td>\n      <td>...</td>\n    </tr>\n    <tr>\n      <th>1096</th>\n      <td>CPLX0-8053</td>\n      <td>[]</td>\n      <td>{}</td>\n    </tr>\n    <tr>\n      <th>1097</th>\n      <td>CPLX0-8253</td>\n      <td>[]</td>\n      <td>{}</td>\n    </tr>\n    <tr>\n      <th>1098</th>\n      <td>SRP-CPLX</td>\n      <td>[]</td>\n      <td>{}</td>\n    </tr>\n    <tr>\n      <th>1099</th>\n      <td>CPLX0-7796APO</td>\n      <td>[]</td>\n      <td>{}</td>\n    </tr>\n    <tr>\n      <th>1100</th>\n      <td>ARCB-CPLX</td>\n      <td>[]</td>\n      <td>{}</td>\n    </tr>\n  </tbody>\n</table>\n<p>1101 rows × 3 columns</p>\n</div>"
     },
     "execution_count": 31,
     "metadata": {},
     "output_type": "execute_result"
    }
   ],
   "source": [
    "# for row of pre_complex_df, if metal_binding_processed is 0, set as empty dict\n",
    "for i in range(len(pre_complex_df.index)):\n",
    "    if pre_complex_df.loc[i, 'metal_binding_processed'] == 0:\n",
    "        pre_complex_df.at[i, 'metal_binding_processed'] = {}\n",
    "\n",
    "    if pre_complex_df.loc[i, 'cofactors'] == None:\n",
    "        pre_complex_df.at[i, 'cofactors'] = []\n",
    "\n",
    "pre_complex_df.loc[:, ['complex', 'cofactors', 'metal_binding_processed']]\n"
   ],
   "metadata": {
    "collapsed": false,
    "ExecuteTime": {
     "end_time": "2023-06-21T17:35:47.984684Z",
     "start_time": "2023-06-21T17:35:47.920942Z"
    }
   }
  },
  {
   "cell_type": "code",
   "execution_count": 40,
   "outputs": [
    {
     "data": {
      "text/plain": "                               complex  \\\n0                                1-PFK   \n1                2OXOGLUTARATEDEH-CPLX   \n2          3-ISOPROPYLMALDEHYDROG-CPLX   \n3              3-ISOPROPYLMALISOM-CPLX   \n4     3-METHYL-2-OXOBUT-OHCH3XFER-CPLX   \n...                                ...   \n1083                       UPPSYN-CPLX   \n1084         URACIL-PRIBOSYLTRANS-CPLX   \n1085                       URPHOS-CPLX   \n1088                      XYLISOM-CPLX   \n1091                        CPLX0-1382   \n\n                                             cofactors metal_binding_processed  \n0                                               [MG+2]                      {}  \n1     [LIPOIC-ACID, THIAMINE-PYROPHOSPHATE, FAD, MG+2]                      {}  \n2                                         [MG+2, MN+2]             {'MG+2': 1}  \n3                                              [CPD-7]            {'CPD-7': 1}  \n4                                               [MG+2]             {'MG+2': 1}  \n...                                                ...                     ...  \n1083                                            [MG+2]             {'MG+2': 1}  \n1084                                            [MG+2]                      {}  \n1085                                              [K+]                      {}  \n1088                                      [MG+2, MN+2]             {'MG+2': 2}  \n1091                                            [MG+2]                      {}  \n\n[447 rows x 3 columns]",
      "text/html": "<div>\n<style scoped>\n    .dataframe tbody tr th:only-of-type {\n        vertical-align: middle;\n    }\n\n    .dataframe tbody tr th {\n        vertical-align: top;\n    }\n\n    .dataframe thead th {\n        text-align: right;\n    }\n</style>\n<table border=\"1\" class=\"dataframe\">\n  <thead>\n    <tr style=\"text-align: right;\">\n      <th></th>\n      <th>complex</th>\n      <th>cofactors</th>\n      <th>metal_binding_processed</th>\n    </tr>\n  </thead>\n  <tbody>\n    <tr>\n      <th>0</th>\n      <td>1-PFK</td>\n      <td>[MG+2]</td>\n      <td>{}</td>\n    </tr>\n    <tr>\n      <th>1</th>\n      <td>2OXOGLUTARATEDEH-CPLX</td>\n      <td>[LIPOIC-ACID, THIAMINE-PYROPHOSPHATE, FAD, MG+2]</td>\n      <td>{}</td>\n    </tr>\n    <tr>\n      <th>2</th>\n      <td>3-ISOPROPYLMALDEHYDROG-CPLX</td>\n      <td>[MG+2, MN+2]</td>\n      <td>{'MG+2': 1}</td>\n    </tr>\n    <tr>\n      <th>3</th>\n      <td>3-ISOPROPYLMALISOM-CPLX</td>\n      <td>[CPD-7]</td>\n      <td>{'CPD-7': 1}</td>\n    </tr>\n    <tr>\n      <th>4</th>\n      <td>3-METHYL-2-OXOBUT-OHCH3XFER-CPLX</td>\n      <td>[MG+2]</td>\n      <td>{'MG+2': 1}</td>\n    </tr>\n    <tr>\n      <th>...</th>\n      <td>...</td>\n      <td>...</td>\n      <td>...</td>\n    </tr>\n    <tr>\n      <th>1083</th>\n      <td>UPPSYN-CPLX</td>\n      <td>[MG+2]</td>\n      <td>{'MG+2': 1}</td>\n    </tr>\n    <tr>\n      <th>1084</th>\n      <td>URACIL-PRIBOSYLTRANS-CPLX</td>\n      <td>[MG+2]</td>\n      <td>{}</td>\n    </tr>\n    <tr>\n      <th>1085</th>\n      <td>URPHOS-CPLX</td>\n      <td>[K+]</td>\n      <td>{}</td>\n    </tr>\n    <tr>\n      <th>1088</th>\n      <td>XYLISOM-CPLX</td>\n      <td>[MG+2, MN+2]</td>\n      <td>{'MG+2': 2}</td>\n    </tr>\n    <tr>\n      <th>1091</th>\n      <td>CPLX0-1382</td>\n      <td>[MG+2]</td>\n      <td>{}</td>\n    </tr>\n  </tbody>\n</table>\n<p>447 rows × 3 columns</p>\n</div>"
     },
     "execution_count": 40,
     "metadata": {},
     "output_type": "execute_result"
    }
   ],
   "source": [
    "# only include rows that have cofactors or metal binding\n",
    "pre_complex_df.loc[(pre_complex_df['cofactors'].map(len) > 0) | (pre_complex_df['metal_binding_processed'].map(len) > 0),['complex', 'cofactors', 'metal_binding_processed']]"
   ],
   "metadata": {
    "collapsed": false,
    "ExecuteTime": {
     "end_time": "2023-06-21T17:55:29.879045Z",
     "start_time": "2023-06-21T17:55:29.874924Z"
    }
   }
  },
  {
   "cell_type": "code",
   "execution_count": 55,
   "outputs": [
    {
     "data": {
      "text/plain": "                              complex  \\\n0                               1-PFK   \n1               2OXOGLUTARATEDEH-CPLX   \n2         3-ISOPROPYLMALDEHYDROG-CPLX   \n3             3-ISOPROPYLMALISOM-CPLX   \n4    3-METHYL-2-OXOBUT-OHCH3XFER-CPLX   \n..                                ...   \n442                       UPPSYN-CPLX   \n443         URACIL-PRIBOSYLTRANS-CPLX   \n444                       URPHOS-CPLX   \n445                      XYLISOM-CPLX   \n446                        CPLX0-1382   \n\n                                            cofactors metal_binding_processed  \n0                                              [MG+2]                      {}  \n1    [LIPOIC-ACID, THIAMINE-PYROPHOSPHATE, FAD, MG+2]                      {}  \n2                                        [MG+2, MN+2]             {'MG+2': 1}  \n3                                             [CPD-7]            {'CPD-7': 1}  \n4                                              [MG+2]             {'MG+2': 1}  \n..                                                ...                     ...  \n442                                            [MG+2]             {'MG+2': 1}  \n443                                            [MG+2]                      {}  \n444                                              [K+]                      {}  \n445                                      [MG+2, MN+2]             {'MG+2': 2}  \n446                                            [MG+2]                      {}  \n\n[447 rows x 3 columns]",
      "text/html": "<div>\n<style scoped>\n    .dataframe tbody tr th:only-of-type {\n        vertical-align: middle;\n    }\n\n    .dataframe tbody tr th {\n        vertical-align: top;\n    }\n\n    .dataframe thead th {\n        text-align: right;\n    }\n</style>\n<table border=\"1\" class=\"dataframe\">\n  <thead>\n    <tr style=\"text-align: right;\">\n      <th></th>\n      <th>complex</th>\n      <th>cofactors</th>\n      <th>metal_binding_processed</th>\n    </tr>\n  </thead>\n  <tbody>\n    <tr>\n      <th>0</th>\n      <td>1-PFK</td>\n      <td>[MG+2]</td>\n      <td>{}</td>\n    </tr>\n    <tr>\n      <th>1</th>\n      <td>2OXOGLUTARATEDEH-CPLX</td>\n      <td>[LIPOIC-ACID, THIAMINE-PYROPHOSPHATE, FAD, MG+2]</td>\n      <td>{}</td>\n    </tr>\n    <tr>\n      <th>2</th>\n      <td>3-ISOPROPYLMALDEHYDROG-CPLX</td>\n      <td>[MG+2, MN+2]</td>\n      <td>{'MG+2': 1}</td>\n    </tr>\n    <tr>\n      <th>3</th>\n      <td>3-ISOPROPYLMALISOM-CPLX</td>\n      <td>[CPD-7]</td>\n      <td>{'CPD-7': 1}</td>\n    </tr>\n    <tr>\n      <th>4</th>\n      <td>3-METHYL-2-OXOBUT-OHCH3XFER-CPLX</td>\n      <td>[MG+2]</td>\n      <td>{'MG+2': 1}</td>\n    </tr>\n    <tr>\n      <th>...</th>\n      <td>...</td>\n      <td>...</td>\n      <td>...</td>\n    </tr>\n    <tr>\n      <th>442</th>\n      <td>UPPSYN-CPLX</td>\n      <td>[MG+2]</td>\n      <td>{'MG+2': 1}</td>\n    </tr>\n    <tr>\n      <th>443</th>\n      <td>URACIL-PRIBOSYLTRANS-CPLX</td>\n      <td>[MG+2]</td>\n      <td>{}</td>\n    </tr>\n    <tr>\n      <th>444</th>\n      <td>URPHOS-CPLX</td>\n      <td>[K+]</td>\n      <td>{}</td>\n    </tr>\n    <tr>\n      <th>445</th>\n      <td>XYLISOM-CPLX</td>\n      <td>[MG+2, MN+2]</td>\n      <td>{'MG+2': 2}</td>\n    </tr>\n    <tr>\n      <th>446</th>\n      <td>CPLX0-1382</td>\n      <td>[MG+2]</td>\n      <td>{}</td>\n    </tr>\n  </tbody>\n</table>\n<p>447 rows × 3 columns</p>\n</div>"
     },
     "execution_count": 55,
     "metadata": {},
     "output_type": "execute_result"
    }
   ],
   "source": [
    "filtered_complex_df =  pre_complex_df.loc[(pre_complex_df['cofactors'].map(len) > 0) | (pre_complex_df['metal_binding_processed'].map(len) > 0),\n",
    "                                          ['complex', 'cofactors', 'metal_binding_processed']].reset_index(drop=True)\n",
    "\n",
    "filtered_complex_df"
   ],
   "metadata": {
    "collapsed": false,
    "ExecuteTime": {
     "end_time": "2023-06-21T23:50:55.663323Z",
     "start_time": "2023-06-21T23:50:55.654291Z"
    }
   }
  },
  {
   "cell_type": "code",
   "execution_count": 57,
   "outputs": [
    {
     "data": {
      "text/plain": "                              complex  \\\n0                               1-PFK   \n1               2OXOGLUTARATEDEH-CPLX   \n2         3-ISOPROPYLMALDEHYDROG-CPLX   \n3             3-ISOPROPYLMALISOM-CPLX   \n4    3-METHYL-2-OXOBUT-OHCH3XFER-CPLX   \n..                                ...   \n442                       UPPSYN-CPLX   \n443         URACIL-PRIBOSYLTRANS-CPLX   \n444                       URPHOS-CPLX   \n445                      XYLISOM-CPLX   \n446                        CPLX0-1382   \n\n                                            cofactors metal_binding_processed  \\\n0                                              [MG+2]                      {}   \n1    [LIPOIC-ACID, THIAMINE-PYROPHOSPHATE, FAD, MG+2]                      {}   \n2                                        [MG+2, MN+2]             {'MG+2': 1}   \n3                                             [CPD-7]            {'CPD-7': 1}   \n4                                              [MG+2]             {'MG+2': 1}   \n..                                                ...                     ...   \n442                                            [MG+2]             {'MG+2': 1}   \n443                                            [MG+2]                      {}   \n444                                              [K+]                      {}   \n445                                      [MG+2, MN+2]             {'MG+2': 2}   \n446                                            [MG+2]                      {}   \n\n                                              combined  \n0                                          {'MG+2': 1}  \n1    {'LIPOIC-ACID': 1, 'THIAMINE-PYROPHOSPHATE': 1...  \n2                               {'MG+2': 1, 'MN+2': 1}  \n3                                         {'CPD-7': 1}  \n4                                          {'MG+2': 1}  \n..                                                 ...  \n442                                        {'MG+2': 1}  \n443                                        {'MG+2': 1}  \n444                                          {'K+': 1}  \n445                             {'MG+2': 2, 'MN+2': 1}  \n446                                        {'MG+2': 1}  \n\n[447 rows x 4 columns]",
      "text/html": "<div>\n<style scoped>\n    .dataframe tbody tr th:only-of-type {\n        vertical-align: middle;\n    }\n\n    .dataframe tbody tr th {\n        vertical-align: top;\n    }\n\n    .dataframe thead th {\n        text-align: right;\n    }\n</style>\n<table border=\"1\" class=\"dataframe\">\n  <thead>\n    <tr style=\"text-align: right;\">\n      <th></th>\n      <th>complex</th>\n      <th>cofactors</th>\n      <th>metal_binding_processed</th>\n      <th>combined</th>\n    </tr>\n  </thead>\n  <tbody>\n    <tr>\n      <th>0</th>\n      <td>1-PFK</td>\n      <td>[MG+2]</td>\n      <td>{}</td>\n      <td>{'MG+2': 1}</td>\n    </tr>\n    <tr>\n      <th>1</th>\n      <td>2OXOGLUTARATEDEH-CPLX</td>\n      <td>[LIPOIC-ACID, THIAMINE-PYROPHOSPHATE, FAD, MG+2]</td>\n      <td>{}</td>\n      <td>{'LIPOIC-ACID': 1, 'THIAMINE-PYROPHOSPHATE': 1...</td>\n    </tr>\n    <tr>\n      <th>2</th>\n      <td>3-ISOPROPYLMALDEHYDROG-CPLX</td>\n      <td>[MG+2, MN+2]</td>\n      <td>{'MG+2': 1}</td>\n      <td>{'MG+2': 1, 'MN+2': 1}</td>\n    </tr>\n    <tr>\n      <th>3</th>\n      <td>3-ISOPROPYLMALISOM-CPLX</td>\n      <td>[CPD-7]</td>\n      <td>{'CPD-7': 1}</td>\n      <td>{'CPD-7': 1}</td>\n    </tr>\n    <tr>\n      <th>4</th>\n      <td>3-METHYL-2-OXOBUT-OHCH3XFER-CPLX</td>\n      <td>[MG+2]</td>\n      <td>{'MG+2': 1}</td>\n      <td>{'MG+2': 1}</td>\n    </tr>\n    <tr>\n      <th>...</th>\n      <td>...</td>\n      <td>...</td>\n      <td>...</td>\n      <td>...</td>\n    </tr>\n    <tr>\n      <th>442</th>\n      <td>UPPSYN-CPLX</td>\n      <td>[MG+2]</td>\n      <td>{'MG+2': 1}</td>\n      <td>{'MG+2': 1}</td>\n    </tr>\n    <tr>\n      <th>443</th>\n      <td>URACIL-PRIBOSYLTRANS-CPLX</td>\n      <td>[MG+2]</td>\n      <td>{}</td>\n      <td>{'MG+2': 1}</td>\n    </tr>\n    <tr>\n      <th>444</th>\n      <td>URPHOS-CPLX</td>\n      <td>[K+]</td>\n      <td>{}</td>\n      <td>{'K+': 1}</td>\n    </tr>\n    <tr>\n      <th>445</th>\n      <td>XYLISOM-CPLX</td>\n      <td>[MG+2, MN+2]</td>\n      <td>{'MG+2': 2}</td>\n      <td>{'MG+2': 2, 'MN+2': 1}</td>\n    </tr>\n    <tr>\n      <th>446</th>\n      <td>CPLX0-1382</td>\n      <td>[MG+2]</td>\n      <td>{}</td>\n      <td>{'MG+2': 1}</td>\n    </tr>\n  </tbody>\n</table>\n<p>447 rows × 4 columns</p>\n</div>"
     },
     "execution_count": 57,
     "metadata": {},
     "output_type": "execute_result"
    }
   ],
   "source": [
    "filtered_complex_df['combined'] = 0\n",
    "filtered_complex_df['combined'] = filtered_complex_df['combined'].astype(object)\n",
    "\n",
    "# for each complex, if there are both cofactors and metal binding, combine them\n",
    "for i in range(len(filtered_complex_df.index)):\n",
    "    cofactors = filtered_complex_df.at[i, 'cofactors']\n",
    "    metal_binding = filtered_complex_df.at[i, 'metal_binding_processed']\n",
    "\n",
    "    # if both are not empty\n",
    "    if len(cofactors) > 0 and len(metal_binding) > 0:\n",
    "\n",
    "        new_cofactors = set(cofactors) - set(metal_binding)\n",
    "\n",
    "        # create new dict that adds new cofactors to metal binding with stoichiometry of 1\n",
    "        new_metal_binding = metal_binding.copy()\n",
    "        for cofactor in new_cofactors:\n",
    "            new_metal_binding[cofactor] = 1\n",
    "\n",
    "\n",
    "        filtered_complex_df.at[i, 'combined'] = new_metal_binding\n",
    "\n",
    "    elif len(cofactors) > 0:\n",
    "        # create dict with stoichiometry of 1 for each cofactor\n",
    "        new_cofactors = {}\n",
    "        for cofactor in cofactors:\n",
    "            new_cofactors[cofactor] = 1\n",
    "\n",
    "        filtered_complex_df.at[i, 'combined'] = new_cofactors\n",
    "\n",
    "    elif len(metal_binding) > 0:\n",
    "        filtered_complex_df.at[i, 'combined'] = metal_binding\n",
    "\n",
    "filtered_complex_df"
   ],
   "metadata": {
    "collapsed": false,
    "ExecuteTime": {
     "end_time": "2023-06-21T23:52:07.278056Z",
     "start_time": "2023-06-21T23:52:07.275285Z"
    }
   }
  },
  {
   "cell_type": "code",
   "execution_count": 59,
   "outputs": [],
   "source": [
    "filtered_complex_df.to_csv('cofactors_new.csv', index=False)"
   ],
   "metadata": {
    "collapsed": false,
    "ExecuteTime": {
     "end_time": "2023-06-22T16:27:50.919277Z",
     "start_time": "2023-06-22T16:27:50.907076Z"
    }
   }
  },
  {
   "cell_type": "markdown",
   "source": [],
   "metadata": {
    "collapsed": false
   }
  },
  {
   "cell_type": "markdown",
   "source": [
    "# Experiment with UniProt API"
   ],
   "metadata": {
    "collapsed": false
   }
  },
  {
   "cell_type": "code",
   "execution_count": 104,
   "outputs": [
    {
     "name": "stdout",
     "output_type": "stream",
     "text": [
      "[{'name': 'Mn(2+)', 'dbReference': {'type': 'CHEBI', 'id': 'CHEBI:29035'}}]\n",
      "[{'value': 'Binds 1 Mn(2+) ion per subunit'}]\n"
     ]
    }
   ],
   "source": [
    "# Use UniProt api to fetch cofactor for protein P00448\n",
    "import urllib.request\n",
    "import json\n",
    "\n",
    "url = 'https://www.ebi.ac.uk/proteins/api/proteins/P00448'\n",
    "\n",
    "req = urllib.request.Request(url)\n",
    "with urllib.request.urlopen(req) as f:\n",
    "    response = f.read()\n",
    "    data = json.loads(response.decode('utf-8'))\n",
    "\n",
    "    # get cofactors\n",
    "    for comment in data['comments']:\n",
    "        if 'cofactors' in comment:\n",
    "            print(comment['cofactors'], comment['text'], sep='\\n')\n"
   ],
   "metadata": {
    "collapsed": false,
    "ExecuteTime": {
     "end_time": "2023-06-22T21:25:21.915988Z",
     "start_time": "2023-06-22T21:25:21.100732Z"
    }
   }
  },
  {
   "cell_type": "code",
   "execution_count": 100,
   "outputs": [
    {
     "name": "stdout",
     "output_type": "stream",
     "text": [
      "[{'text': [{'value': 'Destroys superoxide anion radicals which are normally '\n",
      "                     'produced within the cells and which are toxic to '\n",
      "                     'biological systems'}],\n",
      "  'type': 'FUNCTION'},\n",
      " {'reaction': {'dbReferences': [{'id': 'RHEA:20696', 'type': 'Rhea'},\n",
      "                                {'id': 'CHEBI:15378', 'type': 'ChEBI'},\n",
      "                                {'id': 'CHEBI:15379', 'type': 'ChEBI'},\n",
      "                                {'id': 'CHEBI:16240', 'type': 'ChEBI'},\n",
      "                                {'id': 'CHEBI:18421', 'type': 'ChEBI'}],\n",
      "               'ecNumber': '1.15.1.1',\n",
      "               'name': '2 H(+) + 2 superoxide = H2O2 + O2'},\n",
      "  'type': 'CATALYTIC_ACTIVITY'},\n",
      " {'cofactors': [{'dbReference': {'id': 'CHEBI:29035', 'type': 'CHEBI'},\n",
      "                 'name': 'Mn(2+)'}],\n",
      "  'text': [{'value': 'Binds 1 Mn(2+) ion per subunit'}],\n",
      "  'type': 'COFACTOR'},\n",
      " {'text': [{'value': 'Homodimer'}], 'type': 'SUBUNIT'},\n",
      " {'text': [{'evidences': [{'code': 'ECO:0000305'}],\n",
      "            'value': 'Belongs to the iron/manganese superoxide dismutase '\n",
      "                     'family'}],\n",
      "  'type': 'SIMILARITY'}]\n"
     ]
    }
   ],
   "source": [
    "pp.pprint(data['comments'])"
   ],
   "metadata": {
    "collapsed": false,
    "ExecuteTime": {
     "end_time": "2023-06-22T21:23:33.189130Z",
     "start_time": "2023-06-22T21:23:33.186586Z"
    }
   }
  },
  {
   "cell_type": "markdown",
   "source": [
    "# Annotate table with counts"
   ],
   "metadata": {
    "collapsed": false
   }
  },
  {
   "cell_type": "code",
   "execution_count": 62,
   "outputs": [
    {
     "data": {
      "text/plain": "                              complex  \\\n0                               1-PFK   \n1               2OXOGLUTARATEDEH-CPLX   \n2         3-ISOPROPYLMALDEHYDROG-CPLX   \n3             3-ISOPROPYLMALISOM-CPLX   \n4    3-METHYL-2-OXOBUT-OHCH3XFER-CPLX   \n..                                ...   \n442                       UPPSYN-CPLX   \n443         URACIL-PRIBOSYLTRANS-CPLX   \n444                       URPHOS-CPLX   \n445                      XYLISOM-CPLX   \n446                        CPLX0-1382   \n\n                                              combined  \n0                                          {'MG+2': 1}  \n1    {'LIPOIC-ACID': 1, 'THIAMINE-PYROPHOSPHATE': 1...  \n2                               {'MG+2': 1, 'MN+2': 1}  \n3                                         {'CPD-7': 1}  \n4                                          {'MG+2': 1}  \n..                                                 ...  \n442                                        {'MG+2': 1}  \n443                                        {'MG+2': 1}  \n444                                          {'K+': 1}  \n445                             {'MG+2': 2, 'MN+2': 1}  \n446                                        {'MG+2': 1}  \n\n[447 rows x 2 columns]",
      "text/html": "<div>\n<style scoped>\n    .dataframe tbody tr th:only-of-type {\n        vertical-align: middle;\n    }\n\n    .dataframe tbody tr th {\n        vertical-align: top;\n    }\n\n    .dataframe thead th {\n        text-align: right;\n    }\n</style>\n<table border=\"1\" class=\"dataframe\">\n  <thead>\n    <tr style=\"text-align: right;\">\n      <th></th>\n      <th>complex</th>\n      <th>combined</th>\n    </tr>\n  </thead>\n  <tbody>\n    <tr>\n      <th>0</th>\n      <td>1-PFK</td>\n      <td>{'MG+2': 1}</td>\n    </tr>\n    <tr>\n      <th>1</th>\n      <td>2OXOGLUTARATEDEH-CPLX</td>\n      <td>{'LIPOIC-ACID': 1, 'THIAMINE-PYROPHOSPHATE': 1...</td>\n    </tr>\n    <tr>\n      <th>2</th>\n      <td>3-ISOPROPYLMALDEHYDROG-CPLX</td>\n      <td>{'MG+2': 1, 'MN+2': 1}</td>\n    </tr>\n    <tr>\n      <th>3</th>\n      <td>3-ISOPROPYLMALISOM-CPLX</td>\n      <td>{'CPD-7': 1}</td>\n    </tr>\n    <tr>\n      <th>4</th>\n      <td>3-METHYL-2-OXOBUT-OHCH3XFER-CPLX</td>\n      <td>{'MG+2': 1}</td>\n    </tr>\n    <tr>\n      <th>...</th>\n      <td>...</td>\n      <td>...</td>\n    </tr>\n    <tr>\n      <th>442</th>\n      <td>UPPSYN-CPLX</td>\n      <td>{'MG+2': 1}</td>\n    </tr>\n    <tr>\n      <th>443</th>\n      <td>URACIL-PRIBOSYLTRANS-CPLX</td>\n      <td>{'MG+2': 1}</td>\n    </tr>\n    <tr>\n      <th>444</th>\n      <td>URPHOS-CPLX</td>\n      <td>{'K+': 1}</td>\n    </tr>\n    <tr>\n      <th>445</th>\n      <td>XYLISOM-CPLX</td>\n      <td>{'MG+2': 2, 'MN+2': 1}</td>\n    </tr>\n    <tr>\n      <th>446</th>\n      <td>CPLX0-1382</td>\n      <td>{'MG+2': 1}</td>\n    </tr>\n  </tbody>\n</table>\n<p>447 rows × 2 columns</p>\n</div>"
     },
     "execution_count": 62,
     "metadata": {},
     "output_type": "execute_result"
    }
   ],
   "source": [
    "complex_df = pd.read_csv('notebooks/fbagd/cofactors_new.csv', sep=',').fillna('None').loc[:, ['complex', 'combined']]\n",
    "complex_df.combined = complex_df.combined.apply(ast.literal_eval)\n",
    "\n",
    "\n",
    "complex_df"
   ],
   "metadata": {
    "collapsed": false,
    "ExecuteTime": {
     "end_time": "2023-06-22T16:45:44.133846Z",
     "start_time": "2023-06-22T16:45:44.121156Z"
    }
   }
  },
  {
   "cell_type": "code",
   "execution_count": 63,
   "outputs": [],
   "source": [
    "time = '50'\n",
    "date = '2023-06-13'\n",
    "experiment = 'fba-redux'\n",
    "entry = f'{experiment}_{time}_{date}'\n",
    "folder = f'out/fbagd/{entry}/'"
   ],
   "metadata": {
    "collapsed": false,
    "ExecuteTime": {
     "end_time": "2023-06-22T16:47:32.088129Z",
     "start_time": "2023-06-22T16:47:32.081925Z"
    }
   }
  },
  {
   "cell_type": "code",
   "execution_count": 64,
   "outputs": [],
   "source": [
    "output = np.load(folder + 'output.npy',allow_pickle='TRUE').item()\n",
    "# output = np.load(r\"out/geneRxnVerifData/output_glc.npy\", allow_pickle=True, encoding='ASCII').tolist()\n",
    "output = output['agents']['0']\n",
    "fba = output['listeners']['fba_results']\n",
    "mass = output['listeners']['mass']\n"
   ],
   "metadata": {
    "collapsed": false,
    "ExecuteTime": {
     "end_time": "2023-06-22T16:47:33.369506Z",
     "start_time": "2023-06-22T16:47:33.328879Z"
    }
   }
  },
  {
   "cell_type": "code",
   "execution_count": 65,
   "outputs": [],
   "source": [
    "f = open(folder + 'agent_steps.pkl', 'rb')\n",
    "agent = dill.load(f)\n",
    "f.close()"
   ],
   "metadata": {
    "collapsed": false,
    "ExecuteTime": {
     "end_time": "2023-06-22T16:47:35.889210Z",
     "start_time": "2023-06-22T16:47:33.820310Z"
    }
   }
  },
  {
   "cell_type": "code",
   "execution_count": 66,
   "outputs": [],
   "source": [
    "metabolism = agent['ecoli-metabolism-redux']\n",
    "stoichiometry = metabolism.stoichiometry\n",
    "bulk_ids = metabolism.bulk_ids"
   ],
   "metadata": {
    "collapsed": false,
    "ExecuteTime": {
     "end_time": "2023-06-22T16:47:36.466907Z",
     "start_time": "2023-06-22T16:47:36.458720Z"
    }
   }
  },
  {
   "cell_type": "code",
   "execution_count": 67,
   "outputs": [],
   "source": [
    "bulk = pd.DataFrame(output['bulk'], columns=bulk_ids)"
   ],
   "metadata": {
    "collapsed": false,
    "ExecuteTime": {
     "end_time": "2023-06-22T16:47:37.266100Z",
     "start_time": "2023-06-22T16:47:36.725500Z"
    }
   }
  },
  {
   "cell_type": "code",
   "execution_count": 74,
   "outputs": [
    {
     "name": "stdout",
     "output_type": "stream",
     "text": [
      "CPLX0-7533[o]\n"
     ]
    }
   ],
   "source": [
    "for name in bulk.keys():\n",
    "    if 'CPLX0-7533' in name:\n",
    "        print(name)"
   ],
   "metadata": {
    "collapsed": false,
    "ExecuteTime": {
     "end_time": "2023-06-22T17:12:24.632577Z",
     "start_time": "2023-06-22T17:12:24.628917Z"
    }
   }
  },
  {
   "cell_type": "code",
   "execution_count": 80,
   "outputs": [],
   "source": [
    "for complex_name in complex_df['complex']:\n",
    "    bulk_name = complex_name + '[c]'\n",
    "\n",
    "    if bulk_name in bulk_ids:\n",
    "        complex_df.loc[complex_df['complex'] == complex_name, 'counts'] = bulk.at[24, bulk_name]\n",
    "\n",
    "    elif bulk_name not in bulk_ids:\n",
    "        for cpd in list(bulk_ids):\n",
    "            if complex_name in cpd and len(cpd) < len(complex_name) + 4:\n",
    "                bulk_name = cpd\n",
    "                complex_df.loc[complex_df['complex'] == complex_name, 'counts'] = bulk.at[24, bulk_name]\n"
   ],
   "metadata": {
    "collapsed": false,
    "ExecuteTime": {
     "end_time": "2023-06-22T19:13:36.412491Z",
     "start_time": "2023-06-22T19:13:35.481669Z"
    }
   }
  },
  {
   "cell_type": "code",
   "execution_count": 85,
   "outputs": [
    {
     "data": {
      "text/plain": "                    complex                      combined   counts\n359         ISOCITHASE-CPLX        {'MG+2': 1, 'MN+2': 1}  12315.0\n427   SUPEROX-DISMUTMN-CPLX                   {'MN+2': 1}  10096.0\n399          PHOSGLYCMUTASE  {'23-DIPHOSPHOGLYCERATE': 1}  10058.0\n305            ENOLASE-CPLX                   {'MG+2': 1}   6645.0\n18            ACSERLYA-CPLX    {'PYRIDOXAL_PHOSPHATE': 1}   6269.0\n..                      ...                           ...      ...\n307           ENTMULTI-CPLX                   {'MG+2': 1}      NaN\n321           GCVMULTI-CPLX            {'LIPOIC-ACID': 1}      NaN\n383               NQOR-CPLX                    {'FMN': 1}      NaN\n400  PHOSPHASERDECARB-DIMER              {'CPD0-2654': 1}      NaN\n420          SAMDECARB-CPLX   {'CPD0-2654': 1, 'MG+2': 1}      NaN\n\n[447 rows x 3 columns]",
      "text/html": "<div>\n<style scoped>\n    .dataframe tbody tr th:only-of-type {\n        vertical-align: middle;\n    }\n\n    .dataframe tbody tr th {\n        vertical-align: top;\n    }\n\n    .dataframe thead th {\n        text-align: right;\n    }\n</style>\n<table border=\"1\" class=\"dataframe\">\n  <thead>\n    <tr style=\"text-align: right;\">\n      <th></th>\n      <th>complex</th>\n      <th>combined</th>\n      <th>counts</th>\n    </tr>\n  </thead>\n  <tbody>\n    <tr>\n      <th>359</th>\n      <td>ISOCITHASE-CPLX</td>\n      <td>{'MG+2': 1, 'MN+2': 1}</td>\n      <td>12315.0</td>\n    </tr>\n    <tr>\n      <th>427</th>\n      <td>SUPEROX-DISMUTMN-CPLX</td>\n      <td>{'MN+2': 1}</td>\n      <td>10096.0</td>\n    </tr>\n    <tr>\n      <th>399</th>\n      <td>PHOSGLYCMUTASE</td>\n      <td>{'23-DIPHOSPHOGLYCERATE': 1}</td>\n      <td>10058.0</td>\n    </tr>\n    <tr>\n      <th>305</th>\n      <td>ENOLASE-CPLX</td>\n      <td>{'MG+2': 1}</td>\n      <td>6645.0</td>\n    </tr>\n    <tr>\n      <th>18</th>\n      <td>ACSERLYA-CPLX</td>\n      <td>{'PYRIDOXAL_PHOSPHATE': 1}</td>\n      <td>6269.0</td>\n    </tr>\n    <tr>\n      <th>...</th>\n      <td>...</td>\n      <td>...</td>\n      <td>...</td>\n    </tr>\n    <tr>\n      <th>307</th>\n      <td>ENTMULTI-CPLX</td>\n      <td>{'MG+2': 1}</td>\n      <td>NaN</td>\n    </tr>\n    <tr>\n      <th>321</th>\n      <td>GCVMULTI-CPLX</td>\n      <td>{'LIPOIC-ACID': 1}</td>\n      <td>NaN</td>\n    </tr>\n    <tr>\n      <th>383</th>\n      <td>NQOR-CPLX</td>\n      <td>{'FMN': 1}</td>\n      <td>NaN</td>\n    </tr>\n    <tr>\n      <th>400</th>\n      <td>PHOSPHASERDECARB-DIMER</td>\n      <td>{'CPD0-2654': 1}</td>\n      <td>NaN</td>\n    </tr>\n    <tr>\n      <th>420</th>\n      <td>SAMDECARB-CPLX</td>\n      <td>{'CPD0-2654': 1, 'MG+2': 1}</td>\n      <td>NaN</td>\n    </tr>\n  </tbody>\n</table>\n<p>447 rows × 3 columns</p>\n</div>"
     },
     "execution_count": 85,
     "metadata": {},
     "output_type": "execute_result"
    }
   ],
   "source": [
    "complex_df.sort_values(by='counts', ascending=False)"
   ],
   "metadata": {
    "collapsed": false,
    "ExecuteTime": {
     "end_time": "2023-06-22T19:15:31.092276Z",
     "start_time": "2023-06-22T19:15:31.090307Z"
    }
   }
  },
  {
   "cell_type": "code",
   "execution_count": 89,
   "outputs": [
    {
     "data": {
      "text/plain": "                              complex  \\\n0                               1-PFK   \n1               2OXOGLUTARATEDEH-CPLX   \n2         3-ISOPROPYLMALDEHYDROG-CPLX   \n3             3-ISOPROPYLMALISOM-CPLX   \n4    3-METHYL-2-OXOBUT-OHCH3XFER-CPLX   \n..                                ...   \n442                       UPPSYN-CPLX   \n443         URACIL-PRIBOSYLTRANS-CPLX   \n444                       URPHOS-CPLX   \n445                      XYLISOM-CPLX   \n446                        CPLX0-1382   \n\n                                             combined  counts  \n0                                              [MG+2]    31.0  \n1    [LIPOIC-ACID, THIAMINE-PYROPHOSPHATE, FAD, MG+2]    86.0  \n2                                        [MG+2, MN+2]  1065.0  \n3                                             [CPD-7]  2631.0  \n4                                              [MG+2]   174.0  \n..                                                ...     ...  \n442                                            [MG+2]    56.0  \n443                                            [MG+2]  1068.0  \n444                                              [K+]   176.0  \n445                                [MG+2, MG+2, MN+2]     1.0  \n446                                            [MG+2]     0.0  \n\n[447 rows x 3 columns]",
      "text/html": "<div>\n<style scoped>\n    .dataframe tbody tr th:only-of-type {\n        vertical-align: middle;\n    }\n\n    .dataframe tbody tr th {\n        vertical-align: top;\n    }\n\n    .dataframe thead th {\n        text-align: right;\n    }\n</style>\n<table border=\"1\" class=\"dataframe\">\n  <thead>\n    <tr style=\"text-align: right;\">\n      <th></th>\n      <th>complex</th>\n      <th>combined</th>\n      <th>counts</th>\n    </tr>\n  </thead>\n  <tbody>\n    <tr>\n      <th>0</th>\n      <td>1-PFK</td>\n      <td>[MG+2]</td>\n      <td>31.0</td>\n    </tr>\n    <tr>\n      <th>1</th>\n      <td>2OXOGLUTARATEDEH-CPLX</td>\n      <td>[LIPOIC-ACID, THIAMINE-PYROPHOSPHATE, FAD, MG+2]</td>\n      <td>86.0</td>\n    </tr>\n    <tr>\n      <th>2</th>\n      <td>3-ISOPROPYLMALDEHYDROG-CPLX</td>\n      <td>[MG+2, MN+2]</td>\n      <td>1065.0</td>\n    </tr>\n    <tr>\n      <th>3</th>\n      <td>3-ISOPROPYLMALISOM-CPLX</td>\n      <td>[CPD-7]</td>\n      <td>2631.0</td>\n    </tr>\n    <tr>\n      <th>4</th>\n      <td>3-METHYL-2-OXOBUT-OHCH3XFER-CPLX</td>\n      <td>[MG+2]</td>\n      <td>174.0</td>\n    </tr>\n    <tr>\n      <th>...</th>\n      <td>...</td>\n      <td>...</td>\n      <td>...</td>\n    </tr>\n    <tr>\n      <th>442</th>\n      <td>UPPSYN-CPLX</td>\n      <td>[MG+2]</td>\n      <td>56.0</td>\n    </tr>\n    <tr>\n      <th>443</th>\n      <td>URACIL-PRIBOSYLTRANS-CPLX</td>\n      <td>[MG+2]</td>\n      <td>1068.0</td>\n    </tr>\n    <tr>\n      <th>444</th>\n      <td>URPHOS-CPLX</td>\n      <td>[K+]</td>\n      <td>176.0</td>\n    </tr>\n    <tr>\n      <th>445</th>\n      <td>XYLISOM-CPLX</td>\n      <td>[MG+2, MG+2, MN+2]</td>\n      <td>1.0</td>\n    </tr>\n    <tr>\n      <th>446</th>\n      <td>CPLX0-1382</td>\n      <td>[MG+2]</td>\n      <td>0.0</td>\n    </tr>\n  </tbody>\n</table>\n<p>447 rows × 3 columns</p>\n</div>"
     },
     "execution_count": 89,
     "metadata": {},
     "output_type": "execute_result"
    }
   ],
   "source": [
    "# create a new column in complex_df that is a list with each cofactor multiplied by its stoichiometry\n",
    "\n",
    "for i in range(len(complex_df.index)):\n",
    "    cofactor_dict = complex_df.at[i, 'combined']\n",
    "    cofactor_list = []\n",
    "\n",
    "    for cofactor in cofactor_dict:\n",
    "        for j in range(cofactor_dict[cofactor]):\n",
    "            cofactor_list.append(cofactor)\n",
    "\n",
    "    complex_df.at[i, 'combined'] = cofactor_list\n",
    "\n",
    "complex_df\n"
   ],
   "metadata": {
    "collapsed": false,
    "ExecuteTime": {
     "end_time": "2023-06-22T19:20:47.535087Z",
     "start_time": "2023-06-22T19:20:47.532120Z"
    }
   }
  },
  {
   "cell_type": "code",
   "execution_count": 84,
   "outputs": [
    {
     "data": {
      "text/plain": "                   combined  counts\n0                      MG+2    31.0\n1               LIPOIC-ACID    86.0\n1    THIAMINE-PYROPHOSPHATE    86.0\n1                       FAD    86.0\n1                      MG+2    86.0\n..                      ...     ...\n443                    MG+2  1068.0\n444                      K+   176.0\n445                    MG+2     1.0\n445                    MN+2     1.0\n446                    MG+2     0.0\n\n[613 rows x 2 columns]",
      "text/html": "<div>\n<style scoped>\n    .dataframe tbody tr th:only-of-type {\n        vertical-align: middle;\n    }\n\n    .dataframe tbody tr th {\n        vertical-align: top;\n    }\n\n    .dataframe thead th {\n        text-align: right;\n    }\n</style>\n<table border=\"1\" class=\"dataframe\">\n  <thead>\n    <tr style=\"text-align: right;\">\n      <th></th>\n      <th>combined</th>\n      <th>counts</th>\n    </tr>\n  </thead>\n  <tbody>\n    <tr>\n      <th>0</th>\n      <td>MG+2</td>\n      <td>31.0</td>\n    </tr>\n    <tr>\n      <th>1</th>\n      <td>LIPOIC-ACID</td>\n      <td>86.0</td>\n    </tr>\n    <tr>\n      <th>1</th>\n      <td>THIAMINE-PYROPHOSPHATE</td>\n      <td>86.0</td>\n    </tr>\n    <tr>\n      <th>1</th>\n      <td>FAD</td>\n      <td>86.0</td>\n    </tr>\n    <tr>\n      <th>1</th>\n      <td>MG+2</td>\n      <td>86.0</td>\n    </tr>\n    <tr>\n      <th>...</th>\n      <td>...</td>\n      <td>...</td>\n    </tr>\n    <tr>\n      <th>443</th>\n      <td>MG+2</td>\n      <td>1068.0</td>\n    </tr>\n    <tr>\n      <th>444</th>\n      <td>K+</td>\n      <td>176.0</td>\n    </tr>\n    <tr>\n      <th>445</th>\n      <td>MG+2</td>\n      <td>1.0</td>\n    </tr>\n    <tr>\n      <th>445</th>\n      <td>MN+2</td>\n      <td>1.0</td>\n    </tr>\n    <tr>\n      <th>446</th>\n      <td>MG+2</td>\n      <td>0.0</td>\n    </tr>\n  </tbody>\n</table>\n<p>613 rows × 2 columns</p>\n</div>"
     },
     "execution_count": 84,
     "metadata": {},
     "output_type": "execute_result"
    }
   ],
   "source": [
    "cofactor_df = complex_df[['combined', 'counts']].explode('combined').groupby('combined').sum().sort_values(by='counts', ascending=False)\n",
    "cofactor_df"
   ],
   "metadata": {
    "collapsed": false,
    "ExecuteTime": {
     "end_time": "2023-06-22T19:14:54.615960Z",
     "start_time": "2023-06-22T19:14:54.610137Z"
    }
   }
  },
  {
   "cell_type": "code",
   "execution_count": 180,
   "outputs": [
    {
     "data": {
      "text/plain": "                        counts molecular_composition\ncofactors                                           \nMG+2                     55738                     0\nMN+2                     27211                     0\nPYRIDOXAL_PHOSPHATE      24413                     0\nZN+2                     12807                     0\n23-DIPHOSPHOGLYCERATE    10058                     0\nFAD                       8954                     0\nK+                        5157                     0\nCPD-7                     4556                     0\nFE+2                      3256                     0\nTHIAMINE-PYROPHOSPHATE    1868                     0\nNI+2                      1375                     0\nFMN                       1256                     0\nHeme-b                    1025                     0\nCU+2                       817                     0\nHEME_O                     814                     0\nNAD                        730                     0\nCPD-6                      635                     0\nHCO3                       426                     0\nCO+2                       353                     0\nNADP                       253                     0\n3FE-4S                     212                     0\nLIPOIC-ACID                180                     0\nFE+3                       161                     0\nCA+2                       155                     0\nPROTOHEME                  139                     0\nLYS                        116                     0\nFMNH2                      110                     0\nSIROHEME                    98                     0\nFeS-Centers                 76                     0\nAMMONIUM                    52                     0\nCPD-23429                   46                     0\nNADPH                       40                     0\nCPD-15873                   40                     0\nCPD-18260                   23                     0\nCPD-8123                    17                     0\nCPD0-1882                   15                     0\nHEME_D                      13                     0\nHEME_C                      13                     0\nADENOSYLCOBALAMIN            9                     0\nTOPAQUINONE                  3                     0\nCPD0-2654                    0                     0\nCPD-24862                    0                     0\nCPD-17649                    0                     0\nGTP                          0                     0",
      "text/html": "<div>\n<style scoped>\n    .dataframe tbody tr th:only-of-type {\n        vertical-align: middle;\n    }\n\n    .dataframe tbody tr th {\n        vertical-align: top;\n    }\n\n    .dataframe thead th {\n        text-align: right;\n    }\n</style>\n<table border=\"1\" class=\"dataframe\">\n  <thead>\n    <tr style=\"text-align: right;\">\n      <th></th>\n      <th>counts</th>\n      <th>molecular_composition</th>\n    </tr>\n    <tr>\n      <th>cofactors</th>\n      <th></th>\n      <th></th>\n    </tr>\n  </thead>\n  <tbody>\n    <tr>\n      <th>MG+2</th>\n      <td>55738</td>\n      <td>0</td>\n    </tr>\n    <tr>\n      <th>MN+2</th>\n      <td>27211</td>\n      <td>0</td>\n    </tr>\n    <tr>\n      <th>PYRIDOXAL_PHOSPHATE</th>\n      <td>24413</td>\n      <td>0</td>\n    </tr>\n    <tr>\n      <th>ZN+2</th>\n      <td>12807</td>\n      <td>0</td>\n    </tr>\n    <tr>\n      <th>23-DIPHOSPHOGLYCERATE</th>\n      <td>10058</td>\n      <td>0</td>\n    </tr>\n    <tr>\n      <th>FAD</th>\n      <td>8954</td>\n      <td>0</td>\n    </tr>\n    <tr>\n      <th>K+</th>\n      <td>5157</td>\n      <td>0</td>\n    </tr>\n    <tr>\n      <th>CPD-7</th>\n      <td>4556</td>\n      <td>0</td>\n    </tr>\n    <tr>\n      <th>FE+2</th>\n      <td>3256</td>\n      <td>0</td>\n    </tr>\n    <tr>\n      <th>THIAMINE-PYROPHOSPHATE</th>\n      <td>1868</td>\n      <td>0</td>\n    </tr>\n    <tr>\n      <th>NI+2</th>\n      <td>1375</td>\n      <td>0</td>\n    </tr>\n    <tr>\n      <th>FMN</th>\n      <td>1256</td>\n      <td>0</td>\n    </tr>\n    <tr>\n      <th>Heme-b</th>\n      <td>1025</td>\n      <td>0</td>\n    </tr>\n    <tr>\n      <th>CU+2</th>\n      <td>817</td>\n      <td>0</td>\n    </tr>\n    <tr>\n      <th>HEME_O</th>\n      <td>814</td>\n      <td>0</td>\n    </tr>\n    <tr>\n      <th>NAD</th>\n      <td>730</td>\n      <td>0</td>\n    </tr>\n    <tr>\n      <th>CPD-6</th>\n      <td>635</td>\n      <td>0</td>\n    </tr>\n    <tr>\n      <th>HCO3</th>\n      <td>426</td>\n      <td>0</td>\n    </tr>\n    <tr>\n      <th>CO+2</th>\n      <td>353</td>\n      <td>0</td>\n    </tr>\n    <tr>\n      <th>NADP</th>\n      <td>253</td>\n      <td>0</td>\n    </tr>\n    <tr>\n      <th>3FE-4S</th>\n      <td>212</td>\n      <td>0</td>\n    </tr>\n    <tr>\n      <th>LIPOIC-ACID</th>\n      <td>180</td>\n      <td>0</td>\n    </tr>\n    <tr>\n      <th>FE+3</th>\n      <td>161</td>\n      <td>0</td>\n    </tr>\n    <tr>\n      <th>CA+2</th>\n      <td>155</td>\n      <td>0</td>\n    </tr>\n    <tr>\n      <th>PROTOHEME</th>\n      <td>139</td>\n      <td>0</td>\n    </tr>\n    <tr>\n      <th>LYS</th>\n      <td>116</td>\n      <td>0</td>\n    </tr>\n    <tr>\n      <th>FMNH2</th>\n      <td>110</td>\n      <td>0</td>\n    </tr>\n    <tr>\n      <th>SIROHEME</th>\n      <td>98</td>\n      <td>0</td>\n    </tr>\n    <tr>\n      <th>FeS-Centers</th>\n      <td>76</td>\n      <td>0</td>\n    </tr>\n    <tr>\n      <th>AMMONIUM</th>\n      <td>52</td>\n      <td>0</td>\n    </tr>\n    <tr>\n      <th>CPD-23429</th>\n      <td>46</td>\n      <td>0</td>\n    </tr>\n    <tr>\n      <th>NADPH</th>\n      <td>40</td>\n      <td>0</td>\n    </tr>\n    <tr>\n      <th>CPD-15873</th>\n      <td>40</td>\n      <td>0</td>\n    </tr>\n    <tr>\n      <th>CPD-18260</th>\n      <td>23</td>\n      <td>0</td>\n    </tr>\n    <tr>\n      <th>CPD-8123</th>\n      <td>17</td>\n      <td>0</td>\n    </tr>\n    <tr>\n      <th>CPD0-1882</th>\n      <td>15</td>\n      <td>0</td>\n    </tr>\n    <tr>\n      <th>HEME_D</th>\n      <td>13</td>\n      <td>0</td>\n    </tr>\n    <tr>\n      <th>HEME_C</th>\n      <td>13</td>\n      <td>0</td>\n    </tr>\n    <tr>\n      <th>ADENOSYLCOBALAMIN</th>\n      <td>9</td>\n      <td>0</td>\n    </tr>\n    <tr>\n      <th>TOPAQUINONE</th>\n      <td>3</td>\n      <td>0</td>\n    </tr>\n    <tr>\n      <th>CPD0-2654</th>\n      <td>0</td>\n      <td>0</td>\n    </tr>\n    <tr>\n      <th>CPD-24862</th>\n      <td>0</td>\n      <td>0</td>\n    </tr>\n    <tr>\n      <th>CPD-17649</th>\n      <td>0</td>\n      <td>0</td>\n    </tr>\n    <tr>\n      <th>GTP</th>\n      <td>0</td>\n      <td>0</td>\n    </tr>\n  </tbody>\n</table>\n</div>"
     },
     "execution_count": 180,
     "metadata": {},
     "output_type": "execute_result"
    }
   ],
   "source": [
    "# change name of index value FeS-Centers to CPD-7\n",
    "\n",
    "cofactor_df['molecular_composition'] = 0\n",
    "cofactor_df['molecular_composition'] = cofactor_df['molecular_composition'].astype(object)\n",
    "\n",
    "cofactor_df"
   ],
   "metadata": {
    "collapsed": false,
    "ExecuteTime": {
     "end_time": "2023-06-14T21:12:45.786557Z",
     "start_time": "2023-06-14T21:12:45.782639Z"
    }
   }
  },
  {
   "cell_type": "code",
   "execution_count": 181,
   "outputs": [
    {
     "name": "stdout",
     "output_type": "stream",
     "text": [
      "No cml for FeS-Centers\n",
      "No cml for CPD-17649\n"
     ]
    }
   ],
   "source": [
    "for cofactor_name in cofactor_df.index:\n",
    "    mol = cofactor_name\n",
    "    mol = mol.replace('+', '%2b')\n",
    "    mol_str = f'https://websvc.biocyc.org/getxml?id=ECOLI:{mol}&detail=low'\n",
    "\n",
    "    r = s.get(mol_str)\n",
    "    o = xmltodict.parse(r.content)['ptools-xml']['Compound']\n",
    "\n",
    "    if 'cml' not in o:\n",
    "        print(f'No cml for {cofactor_name}')\n",
    "        cofactor_df.at[cofactor_name, 'molecular_composition'] = {}\n",
    "        continue\n",
    "    else:\n",
    "        atom_array = o['cml']['molecule']['atomArray']['atom']\n",
    "    #pp.pprint(o)\n",
    "\n",
    "    if type(atom_array) is dict:\n",
    "        atom_array = [atom_array]\n",
    "\n",
    "    element_dict = {}\n",
    "    # go through entries of atom array and add 1 to key of element_dict\n",
    "    for atom in atom_array:\n",
    "        element = atom['@elementType']\n",
    "        if element in element_dict:\n",
    "            element_dict[element] += 1\n",
    "        else:\n",
    "            element_dict[element] = 1\n",
    "\n",
    "    cofactor_df.at[cofactor_name, 'molecular_composition'] = element_dict"
   ],
   "metadata": {
    "collapsed": false,
    "ExecuteTime": {
     "end_time": "2023-06-14T21:12:56.625228Z",
     "start_time": "2023-06-14T21:12:54.239650Z"
    }
   }
  },
  {
   "cell_type": "code",
   "execution_count": 182,
   "outputs": [],
   "source": [
    "for cofactor_name in ['FeS-Centers', 'CPD-17649']:\n",
    "    cofactor_df.at[cofactor_name, 'molecular_composition'] = {'FE': 4, 'S': 4}"
   ],
   "metadata": {
    "collapsed": false,
    "ExecuteTime": {
     "end_time": "2023-06-14T21:12:58.850805Z",
     "start_time": "2023-06-14T21:12:58.848417Z"
    }
   }
  },
  {
   "cell_type": "code",
   "execution_count": 183,
   "outputs": [
    {
     "data": {
      "text/plain": "                         MG   MN     C     N     O    P   ZN    K   FE    S  \\\ncofactors                                                                     \nMG+2                    1.0  0.0   0.0   0.0   0.0  0.0  0.0  0.0  0.0  0.0   \nMN+2                    0.0  1.0   0.0   0.0   0.0  0.0  0.0  0.0  0.0  0.0   \nPYRIDOXAL_PHOSPHATE     0.0  0.0   8.0   1.0   6.0  1.0  0.0  0.0  0.0  0.0   \nZN+2                    0.0  0.0   0.0   0.0   0.0  0.0  1.0  0.0  0.0  0.0   \n23-DIPHOSPHOGLYCERATE   0.0  0.0   3.0   0.0  10.0  2.0  0.0  0.0  0.0  0.0   \nFAD                     0.0  0.0  27.0   9.0  15.0  2.0  0.0  0.0  0.0  0.0   \nK+                      0.0  0.0   0.0   0.0   0.0  0.0  0.0  1.0  0.0  0.0   \nCPD-7                   0.0  0.0   0.0   0.0   0.0  0.0  0.0  0.0  4.0  4.0   \nFE+2                    0.0  0.0   0.0   0.0   0.0  0.0  0.0  0.0  1.0  0.0   \nTHIAMINE-PYROPHOSPHATE  0.0  0.0  12.0   4.0   7.0  2.0  0.0  0.0  0.0  1.0   \nNI+2                    0.0  0.0   0.0   0.0   0.0  0.0  0.0  0.0  0.0  0.0   \nFMN                     0.0  0.0  17.0   4.0   9.0  1.0  0.0  0.0  0.0  0.0   \nHeme-b                  0.0  0.0  34.0   4.0   4.0  0.0  0.0  0.0  1.0  0.0   \nCU+2                    0.0  0.0   0.0   0.0   0.0  0.0  0.0  0.0  0.0  0.0   \nHEME_O                  0.0  0.0  49.0   4.0   5.0  0.0  0.0  0.0  1.0  0.0   \nNAD                     0.0  0.0  21.0   7.0  14.0  2.0  0.0  0.0  0.0  0.0   \nCPD-6                   0.0  0.0   0.0   0.0   0.0  0.0  0.0  0.0  2.0  6.0   \nHCO3                    0.0  0.0   1.0   0.0   3.0  0.0  0.0  0.0  0.0  0.0   \nCO+2                    0.0  0.0   0.0   0.0   0.0  0.0  0.0  0.0  0.0  0.0   \nNADP                    0.0  0.0  21.0   7.0  17.0  3.0  0.0  0.0  0.0  0.0   \n3FE-4S                  0.0  0.0   0.0   0.0   0.0  0.0  0.0  0.0  3.0  4.0   \nLIPOIC-ACID             0.0  0.0   8.0   0.0   2.0  0.0  0.0  0.0  0.0  2.0   \nFE+3                    0.0  0.0   0.0   0.0   0.0  0.0  0.0  0.0  1.0  0.0   \nCA+2                    0.0  0.0   0.0   0.0   0.0  0.0  0.0  0.0  0.0  0.0   \nPROTOHEME               0.0  0.0  34.0   4.0   4.0  0.0  0.0  0.0  1.0  0.0   \nLYS                     0.0  0.0   6.0   2.0   2.0  0.0  0.0  0.0  0.0  0.0   \nFMNH2                   0.0  0.0  17.0   4.0   9.0  1.0  0.0  0.0  0.0  0.0   \nSIROHEME                0.0  0.0  42.0   4.0  16.0  0.0  0.0  0.0  1.0  0.0   \nFeS-Centers             0.0  0.0   0.0   0.0   0.0  0.0  0.0  0.0  4.0  4.0   \nAMMONIUM                0.0  0.0   0.0   1.0   0.0  0.0  0.0  0.0  0.0  0.0   \nCPD-23429               0.0  0.0  34.0   4.0   6.0  0.0  0.0  0.0  1.0  0.0   \nNADPH                   0.0  0.0  21.0   7.0  17.0  3.0  0.0  0.0  0.0  0.0   \nCPD-15873               0.0  0.0  40.0  20.0  27.0  4.0  0.0  0.0  0.0  4.0   \nCPD-18260               0.0  0.0  22.0   4.0   9.0  1.0  0.0  0.0  0.0  0.0   \nCPD-8123                0.0  0.0  10.0   5.0   8.0  1.0  0.0  0.0  0.0  2.0   \nCPD0-1882               0.0  0.0  19.0   8.0  15.0  2.0  0.0  0.0  0.0  2.0   \nHEME_D                  0.0  0.0  34.0   4.0   6.0  0.0  0.0  0.0  1.0  0.0   \nHEME_C                  0.0  0.0  34.0   4.0   4.0  0.0  0.0  0.0  1.0  2.0   \nADENOSYLCOBALAMIN       0.0  0.0  72.0  18.0  17.0  1.0  0.0  0.0  0.0  0.0   \nTOPAQUINONE             0.0  0.0   9.0   1.0   4.0  0.0  0.0  0.0  0.0  0.0   \nCPD0-2654               0.0  0.0   3.0   0.0   2.0  0.0  0.0  0.0  0.0  0.0   \nCPD-24862               0.0  0.0   3.0   2.0   1.0  0.0  0.0  0.0  1.0  4.0   \nCPD-17649               0.0  0.0   0.0   0.0   0.0  0.0  0.0  0.0  4.0  4.0   \nGTP                     0.0  0.0  10.0   5.0  14.0  3.0  0.0  0.0  0.0  0.0   \n\n                         NI   CU    R   CO   CA    H   MO  Proteins  \ncofactors                                                            \nMG+2                    0.0  0.0  0.0  0.0  0.0  0.0  0.0       0.0  \nMN+2                    0.0  0.0  0.0  0.0  0.0  0.0  0.0       0.0  \nPYRIDOXAL_PHOSPHATE     0.0  0.0  0.0  0.0  0.0  0.0  0.0       0.0  \nZN+2                    0.0  0.0  0.0  0.0  0.0  0.0  0.0       0.0  \n23-DIPHOSPHOGLYCERATE   0.0  0.0  0.0  0.0  0.0  0.0  0.0       0.0  \nFAD                     0.0  0.0  0.0  0.0  0.0  0.0  0.0       0.0  \nK+                      0.0  0.0  0.0  0.0  0.0  0.0  0.0       0.0  \nCPD-7                   0.0  0.0  0.0  0.0  0.0  0.0  0.0       0.0  \nFE+2                    0.0  0.0  0.0  0.0  0.0  0.0  0.0       0.0  \nTHIAMINE-PYROPHOSPHATE  0.0  0.0  0.0  0.0  0.0  0.0  0.0       0.0  \nNI+2                    1.0  0.0  0.0  0.0  0.0  0.0  0.0       0.0  \nFMN                     0.0  0.0  0.0  0.0  0.0  0.0  0.0       0.0  \nHeme-b                  0.0  0.0  0.0  0.0  0.0  0.0  0.0       0.0  \nCU+2                    0.0  1.0  0.0  0.0  0.0  0.0  0.0       0.0  \nHEME_O                  0.0  0.0  0.0  0.0  0.0  0.0  0.0       0.0  \nNAD                     0.0  0.0  0.0  0.0  0.0  0.0  0.0       0.0  \nCPD-6                   0.0  0.0  4.0  0.0  0.0  0.0  0.0       0.0  \nHCO3                    0.0  0.0  0.0  0.0  0.0  0.0  0.0       0.0  \nCO+2                    0.0  0.0  0.0  1.0  0.0  0.0  0.0       0.0  \nNADP                    0.0  0.0  0.0  0.0  0.0  0.0  0.0       0.0  \n3FE-4S                  0.0  0.0  0.0  0.0  0.0  0.0  0.0       0.0  \nLIPOIC-ACID             0.0  0.0  0.0  0.0  0.0  0.0  0.0       0.0  \nFE+3                    0.0  0.0  0.0  0.0  0.0  0.0  0.0       0.0  \nCA+2                    0.0  0.0  0.0  0.0  1.0  0.0  0.0       0.0  \nPROTOHEME               0.0  0.0  0.0  0.0  0.0  0.0  0.0       0.0  \nLYS                     0.0  0.0  0.0  0.0  0.0  0.0  0.0       0.0  \nFMNH2                   0.0  0.0  0.0  0.0  0.0  0.0  0.0       0.0  \nSIROHEME                0.0  0.0  0.0  0.0  0.0  0.0  0.0       0.0  \nFeS-Centers             0.0  0.0  0.0  0.0  0.0  0.0  0.0       0.0  \nAMMONIUM                0.0  0.0  0.0  0.0  0.0  4.0  0.0       0.0  \nCPD-23429               0.0  0.0  0.0  0.0  0.0  0.0  0.0       0.0  \nNADPH                   0.0  0.0  0.0  0.0  0.0  0.0  0.0       0.0  \nCPD-15873               0.0  0.0  0.0  0.0  0.0  6.0  1.0       0.0  \nCPD-18260               0.0  0.0  0.0  0.0  0.0  0.0  0.0       0.0  \nCPD-8123                0.0  0.0  0.0  0.0  0.0  3.0  1.0       0.0  \nCPD0-1882               0.0  0.0  0.0  0.0  0.0  3.0  1.0       0.0  \nHEME_D                  0.0  0.0  0.0  0.0  0.0  0.0  0.0       0.0  \nHEME_C                  0.0  0.0  0.0  0.0  0.0  0.0  0.0       0.0  \nADENOSYLCOBALAMIN       0.0  0.0  0.0  1.0  0.0  0.0  0.0       0.0  \nTOPAQUINONE             0.0  0.0  0.0  0.0  0.0  0.0  0.0       2.0  \nCPD0-2654               0.0  0.0  0.0  0.0  0.0  0.0  0.0       1.0  \nCPD-24862               1.0  0.0  0.0  0.0  0.0  0.0  0.0       4.0  \nCPD-17649               0.0  0.0  0.0  0.0  0.0  0.0  0.0       0.0  \nGTP                     0.0  0.0  0.0  0.0  0.0  0.0  0.0       0.0  ",
      "text/html": "<div>\n<style scoped>\n    .dataframe tbody tr th:only-of-type {\n        vertical-align: middle;\n    }\n\n    .dataframe tbody tr th {\n        vertical-align: top;\n    }\n\n    .dataframe thead th {\n        text-align: right;\n    }\n</style>\n<table border=\"1\" class=\"dataframe\">\n  <thead>\n    <tr style=\"text-align: right;\">\n      <th></th>\n      <th>MG</th>\n      <th>MN</th>\n      <th>C</th>\n      <th>N</th>\n      <th>O</th>\n      <th>P</th>\n      <th>ZN</th>\n      <th>K</th>\n      <th>FE</th>\n      <th>S</th>\n      <th>NI</th>\n      <th>CU</th>\n      <th>R</th>\n      <th>CO</th>\n      <th>CA</th>\n      <th>H</th>\n      <th>MO</th>\n      <th>Proteins</th>\n    </tr>\n    <tr>\n      <th>cofactors</th>\n      <th></th>\n      <th></th>\n      <th></th>\n      <th></th>\n      <th></th>\n      <th></th>\n      <th></th>\n      <th></th>\n      <th></th>\n      <th></th>\n      <th></th>\n      <th></th>\n      <th></th>\n      <th></th>\n      <th></th>\n      <th></th>\n      <th></th>\n      <th></th>\n    </tr>\n  </thead>\n  <tbody>\n    <tr>\n      <th>MG+2</th>\n      <td>1.0</td>\n      <td>0.0</td>\n      <td>0.0</td>\n      <td>0.0</td>\n      <td>0.0</td>\n      <td>0.0</td>\n      <td>0.0</td>\n      <td>0.0</td>\n      <td>0.0</td>\n      <td>0.0</td>\n      <td>0.0</td>\n      <td>0.0</td>\n      <td>0.0</td>\n      <td>0.0</td>\n      <td>0.0</td>\n      <td>0.0</td>\n      <td>0.0</td>\n      <td>0.0</td>\n    </tr>\n    <tr>\n      <th>MN+2</th>\n      <td>0.0</td>\n      <td>1.0</td>\n      <td>0.0</td>\n      <td>0.0</td>\n      <td>0.0</td>\n      <td>0.0</td>\n      <td>0.0</td>\n      <td>0.0</td>\n      <td>0.0</td>\n      <td>0.0</td>\n      <td>0.0</td>\n      <td>0.0</td>\n      <td>0.0</td>\n      <td>0.0</td>\n      <td>0.0</td>\n      <td>0.0</td>\n      <td>0.0</td>\n      <td>0.0</td>\n    </tr>\n    <tr>\n      <th>PYRIDOXAL_PHOSPHATE</th>\n      <td>0.0</td>\n      <td>0.0</td>\n      <td>8.0</td>\n      <td>1.0</td>\n      <td>6.0</td>\n      <td>1.0</td>\n      <td>0.0</td>\n      <td>0.0</td>\n      <td>0.0</td>\n      <td>0.0</td>\n      <td>0.0</td>\n      <td>0.0</td>\n      <td>0.0</td>\n      <td>0.0</td>\n      <td>0.0</td>\n      <td>0.0</td>\n      <td>0.0</td>\n      <td>0.0</td>\n    </tr>\n    <tr>\n      <th>ZN+2</th>\n      <td>0.0</td>\n      <td>0.0</td>\n      <td>0.0</td>\n      <td>0.0</td>\n      <td>0.0</td>\n      <td>0.0</td>\n      <td>1.0</td>\n      <td>0.0</td>\n      <td>0.0</td>\n      <td>0.0</td>\n      <td>0.0</td>\n      <td>0.0</td>\n      <td>0.0</td>\n      <td>0.0</td>\n      <td>0.0</td>\n      <td>0.0</td>\n      <td>0.0</td>\n      <td>0.0</td>\n    </tr>\n    <tr>\n      <th>23-DIPHOSPHOGLYCERATE</th>\n      <td>0.0</td>\n      <td>0.0</td>\n      <td>3.0</td>\n      <td>0.0</td>\n      <td>10.0</td>\n      <td>2.0</td>\n      <td>0.0</td>\n      <td>0.0</td>\n      <td>0.0</td>\n      <td>0.0</td>\n      <td>0.0</td>\n      <td>0.0</td>\n      <td>0.0</td>\n      <td>0.0</td>\n      <td>0.0</td>\n      <td>0.0</td>\n      <td>0.0</td>\n      <td>0.0</td>\n    </tr>\n    <tr>\n      <th>FAD</th>\n      <td>0.0</td>\n      <td>0.0</td>\n      <td>27.0</td>\n      <td>9.0</td>\n      <td>15.0</td>\n      <td>2.0</td>\n      <td>0.0</td>\n      <td>0.0</td>\n      <td>0.0</td>\n      <td>0.0</td>\n      <td>0.0</td>\n      <td>0.0</td>\n      <td>0.0</td>\n      <td>0.0</td>\n      <td>0.0</td>\n      <td>0.0</td>\n      <td>0.0</td>\n      <td>0.0</td>\n    </tr>\n    <tr>\n      <th>K+</th>\n      <td>0.0</td>\n      <td>0.0</td>\n      <td>0.0</td>\n      <td>0.0</td>\n      <td>0.0</td>\n      <td>0.0</td>\n      <td>0.0</td>\n      <td>1.0</td>\n      <td>0.0</td>\n      <td>0.0</td>\n      <td>0.0</td>\n      <td>0.0</td>\n      <td>0.0</td>\n      <td>0.0</td>\n      <td>0.0</td>\n      <td>0.0</td>\n      <td>0.0</td>\n      <td>0.0</td>\n    </tr>\n    <tr>\n      <th>CPD-7</th>\n      <td>0.0</td>\n      <td>0.0</td>\n      <td>0.0</td>\n      <td>0.0</td>\n      <td>0.0</td>\n      <td>0.0</td>\n      <td>0.0</td>\n      <td>0.0</td>\n      <td>4.0</td>\n      <td>4.0</td>\n      <td>0.0</td>\n      <td>0.0</td>\n      <td>0.0</td>\n      <td>0.0</td>\n      <td>0.0</td>\n      <td>0.0</td>\n      <td>0.0</td>\n      <td>0.0</td>\n    </tr>\n    <tr>\n      <th>FE+2</th>\n      <td>0.0</td>\n      <td>0.0</td>\n      <td>0.0</td>\n      <td>0.0</td>\n      <td>0.0</td>\n      <td>0.0</td>\n      <td>0.0</td>\n      <td>0.0</td>\n      <td>1.0</td>\n      <td>0.0</td>\n      <td>0.0</td>\n      <td>0.0</td>\n      <td>0.0</td>\n      <td>0.0</td>\n      <td>0.0</td>\n      <td>0.0</td>\n      <td>0.0</td>\n      <td>0.0</td>\n    </tr>\n    <tr>\n      <th>THIAMINE-PYROPHOSPHATE</th>\n      <td>0.0</td>\n      <td>0.0</td>\n      <td>12.0</td>\n      <td>4.0</td>\n      <td>7.0</td>\n      <td>2.0</td>\n      <td>0.0</td>\n      <td>0.0</td>\n      <td>0.0</td>\n      <td>1.0</td>\n      <td>0.0</td>\n      <td>0.0</td>\n      <td>0.0</td>\n      <td>0.0</td>\n      <td>0.0</td>\n      <td>0.0</td>\n      <td>0.0</td>\n      <td>0.0</td>\n    </tr>\n    <tr>\n      <th>NI+2</th>\n      <td>0.0</td>\n      <td>0.0</td>\n      <td>0.0</td>\n      <td>0.0</td>\n      <td>0.0</td>\n      <td>0.0</td>\n      <td>0.0</td>\n      <td>0.0</td>\n      <td>0.0</td>\n      <td>0.0</td>\n      <td>1.0</td>\n      <td>0.0</td>\n      <td>0.0</td>\n      <td>0.0</td>\n      <td>0.0</td>\n      <td>0.0</td>\n      <td>0.0</td>\n      <td>0.0</td>\n    </tr>\n    <tr>\n      <th>FMN</th>\n      <td>0.0</td>\n      <td>0.0</td>\n      <td>17.0</td>\n      <td>4.0</td>\n      <td>9.0</td>\n      <td>1.0</td>\n      <td>0.0</td>\n      <td>0.0</td>\n      <td>0.0</td>\n      <td>0.0</td>\n      <td>0.0</td>\n      <td>0.0</td>\n      <td>0.0</td>\n      <td>0.0</td>\n      <td>0.0</td>\n      <td>0.0</td>\n      <td>0.0</td>\n      <td>0.0</td>\n    </tr>\n    <tr>\n      <th>Heme-b</th>\n      <td>0.0</td>\n      <td>0.0</td>\n      <td>34.0</td>\n      <td>4.0</td>\n      <td>4.0</td>\n      <td>0.0</td>\n      <td>0.0</td>\n      <td>0.0</td>\n      <td>1.0</td>\n      <td>0.0</td>\n      <td>0.0</td>\n      <td>0.0</td>\n      <td>0.0</td>\n      <td>0.0</td>\n      <td>0.0</td>\n      <td>0.0</td>\n      <td>0.0</td>\n      <td>0.0</td>\n    </tr>\n    <tr>\n      <th>CU+2</th>\n      <td>0.0</td>\n      <td>0.0</td>\n      <td>0.0</td>\n      <td>0.0</td>\n      <td>0.0</td>\n      <td>0.0</td>\n      <td>0.0</td>\n      <td>0.0</td>\n      <td>0.0</td>\n      <td>0.0</td>\n      <td>0.0</td>\n      <td>1.0</td>\n      <td>0.0</td>\n      <td>0.0</td>\n      <td>0.0</td>\n      <td>0.0</td>\n      <td>0.0</td>\n      <td>0.0</td>\n    </tr>\n    <tr>\n      <th>HEME_O</th>\n      <td>0.0</td>\n      <td>0.0</td>\n      <td>49.0</td>\n      <td>4.0</td>\n      <td>5.0</td>\n      <td>0.0</td>\n      <td>0.0</td>\n      <td>0.0</td>\n      <td>1.0</td>\n      <td>0.0</td>\n      <td>0.0</td>\n      <td>0.0</td>\n      <td>0.0</td>\n      <td>0.0</td>\n      <td>0.0</td>\n      <td>0.0</td>\n      <td>0.0</td>\n      <td>0.0</td>\n    </tr>\n    <tr>\n      <th>NAD</th>\n      <td>0.0</td>\n      <td>0.0</td>\n      <td>21.0</td>\n      <td>7.0</td>\n      <td>14.0</td>\n      <td>2.0</td>\n      <td>0.0</td>\n      <td>0.0</td>\n      <td>0.0</td>\n      <td>0.0</td>\n      <td>0.0</td>\n      <td>0.0</td>\n      <td>0.0</td>\n      <td>0.0</td>\n      <td>0.0</td>\n      <td>0.0</td>\n      <td>0.0</td>\n      <td>0.0</td>\n    </tr>\n    <tr>\n      <th>CPD-6</th>\n      <td>0.0</td>\n      <td>0.0</td>\n      <td>0.0</td>\n      <td>0.0</td>\n      <td>0.0</td>\n      <td>0.0</td>\n      <td>0.0</td>\n      <td>0.0</td>\n      <td>2.0</td>\n      <td>6.0</td>\n      <td>0.0</td>\n      <td>0.0</td>\n      <td>4.0</td>\n      <td>0.0</td>\n      <td>0.0</td>\n      <td>0.0</td>\n      <td>0.0</td>\n      <td>0.0</td>\n    </tr>\n    <tr>\n      <th>HCO3</th>\n      <td>0.0</td>\n      <td>0.0</td>\n      <td>1.0</td>\n      <td>0.0</td>\n      <td>3.0</td>\n      <td>0.0</td>\n      <td>0.0</td>\n      <td>0.0</td>\n      <td>0.0</td>\n      <td>0.0</td>\n      <td>0.0</td>\n      <td>0.0</td>\n      <td>0.0</td>\n      <td>0.0</td>\n      <td>0.0</td>\n      <td>0.0</td>\n      <td>0.0</td>\n      <td>0.0</td>\n    </tr>\n    <tr>\n      <th>CO+2</th>\n      <td>0.0</td>\n      <td>0.0</td>\n      <td>0.0</td>\n      <td>0.0</td>\n      <td>0.0</td>\n      <td>0.0</td>\n      <td>0.0</td>\n      <td>0.0</td>\n      <td>0.0</td>\n      <td>0.0</td>\n      <td>0.0</td>\n      <td>0.0</td>\n      <td>0.0</td>\n      <td>1.0</td>\n      <td>0.0</td>\n      <td>0.0</td>\n      <td>0.0</td>\n      <td>0.0</td>\n    </tr>\n    <tr>\n      <th>NADP</th>\n      <td>0.0</td>\n      <td>0.0</td>\n      <td>21.0</td>\n      <td>7.0</td>\n      <td>17.0</td>\n      <td>3.0</td>\n      <td>0.0</td>\n      <td>0.0</td>\n      <td>0.0</td>\n      <td>0.0</td>\n      <td>0.0</td>\n      <td>0.0</td>\n      <td>0.0</td>\n      <td>0.0</td>\n      <td>0.0</td>\n      <td>0.0</td>\n      <td>0.0</td>\n      <td>0.0</td>\n    </tr>\n    <tr>\n      <th>3FE-4S</th>\n      <td>0.0</td>\n      <td>0.0</td>\n      <td>0.0</td>\n      <td>0.0</td>\n      <td>0.0</td>\n      <td>0.0</td>\n      <td>0.0</td>\n      <td>0.0</td>\n      <td>3.0</td>\n      <td>4.0</td>\n      <td>0.0</td>\n      <td>0.0</td>\n      <td>0.0</td>\n      <td>0.0</td>\n      <td>0.0</td>\n      <td>0.0</td>\n      <td>0.0</td>\n      <td>0.0</td>\n    </tr>\n    <tr>\n      <th>LIPOIC-ACID</th>\n      <td>0.0</td>\n      <td>0.0</td>\n      <td>8.0</td>\n      <td>0.0</td>\n      <td>2.0</td>\n      <td>0.0</td>\n      <td>0.0</td>\n      <td>0.0</td>\n      <td>0.0</td>\n      <td>2.0</td>\n      <td>0.0</td>\n      <td>0.0</td>\n      <td>0.0</td>\n      <td>0.0</td>\n      <td>0.0</td>\n      <td>0.0</td>\n      <td>0.0</td>\n      <td>0.0</td>\n    </tr>\n    <tr>\n      <th>FE+3</th>\n      <td>0.0</td>\n      <td>0.0</td>\n      <td>0.0</td>\n      <td>0.0</td>\n      <td>0.0</td>\n      <td>0.0</td>\n      <td>0.0</td>\n      <td>0.0</td>\n      <td>1.0</td>\n      <td>0.0</td>\n      <td>0.0</td>\n      <td>0.0</td>\n      <td>0.0</td>\n      <td>0.0</td>\n      <td>0.0</td>\n      <td>0.0</td>\n      <td>0.0</td>\n      <td>0.0</td>\n    </tr>\n    <tr>\n      <th>CA+2</th>\n      <td>0.0</td>\n      <td>0.0</td>\n      <td>0.0</td>\n      <td>0.0</td>\n      <td>0.0</td>\n      <td>0.0</td>\n      <td>0.0</td>\n      <td>0.0</td>\n      <td>0.0</td>\n      <td>0.0</td>\n      <td>0.0</td>\n      <td>0.0</td>\n      <td>0.0</td>\n      <td>0.0</td>\n      <td>1.0</td>\n      <td>0.0</td>\n      <td>0.0</td>\n      <td>0.0</td>\n    </tr>\n    <tr>\n      <th>PROTOHEME</th>\n      <td>0.0</td>\n      <td>0.0</td>\n      <td>34.0</td>\n      <td>4.0</td>\n      <td>4.0</td>\n      <td>0.0</td>\n      <td>0.0</td>\n      <td>0.0</td>\n      <td>1.0</td>\n      <td>0.0</td>\n      <td>0.0</td>\n      <td>0.0</td>\n      <td>0.0</td>\n      <td>0.0</td>\n      <td>0.0</td>\n      <td>0.0</td>\n      <td>0.0</td>\n      <td>0.0</td>\n    </tr>\n    <tr>\n      <th>LYS</th>\n      <td>0.0</td>\n      <td>0.0</td>\n      <td>6.0</td>\n      <td>2.0</td>\n      <td>2.0</td>\n      <td>0.0</td>\n      <td>0.0</td>\n      <td>0.0</td>\n      <td>0.0</td>\n      <td>0.0</td>\n      <td>0.0</td>\n      <td>0.0</td>\n      <td>0.0</td>\n      <td>0.0</td>\n      <td>0.0</td>\n      <td>0.0</td>\n      <td>0.0</td>\n      <td>0.0</td>\n    </tr>\n    <tr>\n      <th>FMNH2</th>\n      <td>0.0</td>\n      <td>0.0</td>\n      <td>17.0</td>\n      <td>4.0</td>\n      <td>9.0</td>\n      <td>1.0</td>\n      <td>0.0</td>\n      <td>0.0</td>\n      <td>0.0</td>\n      <td>0.0</td>\n      <td>0.0</td>\n      <td>0.0</td>\n      <td>0.0</td>\n      <td>0.0</td>\n      <td>0.0</td>\n      <td>0.0</td>\n      <td>0.0</td>\n      <td>0.0</td>\n    </tr>\n    <tr>\n      <th>SIROHEME</th>\n      <td>0.0</td>\n      <td>0.0</td>\n      <td>42.0</td>\n      <td>4.0</td>\n      <td>16.0</td>\n      <td>0.0</td>\n      <td>0.0</td>\n      <td>0.0</td>\n      <td>1.0</td>\n      <td>0.0</td>\n      <td>0.0</td>\n      <td>0.0</td>\n      <td>0.0</td>\n      <td>0.0</td>\n      <td>0.0</td>\n      <td>0.0</td>\n      <td>0.0</td>\n      <td>0.0</td>\n    </tr>\n    <tr>\n      <th>FeS-Centers</th>\n      <td>0.0</td>\n      <td>0.0</td>\n      <td>0.0</td>\n      <td>0.0</td>\n      <td>0.0</td>\n      <td>0.0</td>\n      <td>0.0</td>\n      <td>0.0</td>\n      <td>4.0</td>\n      <td>4.0</td>\n      <td>0.0</td>\n      <td>0.0</td>\n      <td>0.0</td>\n      <td>0.0</td>\n      <td>0.0</td>\n      <td>0.0</td>\n      <td>0.0</td>\n      <td>0.0</td>\n    </tr>\n    <tr>\n      <th>AMMONIUM</th>\n      <td>0.0</td>\n      <td>0.0</td>\n      <td>0.0</td>\n      <td>1.0</td>\n      <td>0.0</td>\n      <td>0.0</td>\n      <td>0.0</td>\n      <td>0.0</td>\n      <td>0.0</td>\n      <td>0.0</td>\n      <td>0.0</td>\n      <td>0.0</td>\n      <td>0.0</td>\n      <td>0.0</td>\n      <td>0.0</td>\n      <td>4.0</td>\n      <td>0.0</td>\n      <td>0.0</td>\n    </tr>\n    <tr>\n      <th>CPD-23429</th>\n      <td>0.0</td>\n      <td>0.0</td>\n      <td>34.0</td>\n      <td>4.0</td>\n      <td>6.0</td>\n      <td>0.0</td>\n      <td>0.0</td>\n      <td>0.0</td>\n      <td>1.0</td>\n      <td>0.0</td>\n      <td>0.0</td>\n      <td>0.0</td>\n      <td>0.0</td>\n      <td>0.0</td>\n      <td>0.0</td>\n      <td>0.0</td>\n      <td>0.0</td>\n      <td>0.0</td>\n    </tr>\n    <tr>\n      <th>NADPH</th>\n      <td>0.0</td>\n      <td>0.0</td>\n      <td>21.0</td>\n      <td>7.0</td>\n      <td>17.0</td>\n      <td>3.0</td>\n      <td>0.0</td>\n      <td>0.0</td>\n      <td>0.0</td>\n      <td>0.0</td>\n      <td>0.0</td>\n      <td>0.0</td>\n      <td>0.0</td>\n      <td>0.0</td>\n      <td>0.0</td>\n      <td>0.0</td>\n      <td>0.0</td>\n      <td>0.0</td>\n    </tr>\n    <tr>\n      <th>CPD-15873</th>\n      <td>0.0</td>\n      <td>0.0</td>\n      <td>40.0</td>\n      <td>20.0</td>\n      <td>27.0</td>\n      <td>4.0</td>\n      <td>0.0</td>\n      <td>0.0</td>\n      <td>0.0</td>\n      <td>4.0</td>\n      <td>0.0</td>\n      <td>0.0</td>\n      <td>0.0</td>\n      <td>0.0</td>\n      <td>0.0</td>\n      <td>6.0</td>\n      <td>1.0</td>\n      <td>0.0</td>\n    </tr>\n    <tr>\n      <th>CPD-18260</th>\n      <td>0.0</td>\n      <td>0.0</td>\n      <td>22.0</td>\n      <td>4.0</td>\n      <td>9.0</td>\n      <td>1.0</td>\n      <td>0.0</td>\n      <td>0.0</td>\n      <td>0.0</td>\n      <td>0.0</td>\n      <td>0.0</td>\n      <td>0.0</td>\n      <td>0.0</td>\n      <td>0.0</td>\n      <td>0.0</td>\n      <td>0.0</td>\n      <td>0.0</td>\n      <td>0.0</td>\n    </tr>\n    <tr>\n      <th>CPD-8123</th>\n      <td>0.0</td>\n      <td>0.0</td>\n      <td>10.0</td>\n      <td>5.0</td>\n      <td>8.0</td>\n      <td>1.0</td>\n      <td>0.0</td>\n      <td>0.0</td>\n      <td>0.0</td>\n      <td>2.0</td>\n      <td>0.0</td>\n      <td>0.0</td>\n      <td>0.0</td>\n      <td>0.0</td>\n      <td>0.0</td>\n      <td>3.0</td>\n      <td>1.0</td>\n      <td>0.0</td>\n    </tr>\n    <tr>\n      <th>CPD0-1882</th>\n      <td>0.0</td>\n      <td>0.0</td>\n      <td>19.0</td>\n      <td>8.0</td>\n      <td>15.0</td>\n      <td>2.0</td>\n      <td>0.0</td>\n      <td>0.0</td>\n      <td>0.0</td>\n      <td>2.0</td>\n      <td>0.0</td>\n      <td>0.0</td>\n      <td>0.0</td>\n      <td>0.0</td>\n      <td>0.0</td>\n      <td>3.0</td>\n      <td>1.0</td>\n      <td>0.0</td>\n    </tr>\n    <tr>\n      <th>HEME_D</th>\n      <td>0.0</td>\n      <td>0.0</td>\n      <td>34.0</td>\n      <td>4.0</td>\n      <td>6.0</td>\n      <td>0.0</td>\n      <td>0.0</td>\n      <td>0.0</td>\n      <td>1.0</td>\n      <td>0.0</td>\n      <td>0.0</td>\n      <td>0.0</td>\n      <td>0.0</td>\n      <td>0.0</td>\n      <td>0.0</td>\n      <td>0.0</td>\n      <td>0.0</td>\n      <td>0.0</td>\n    </tr>\n    <tr>\n      <th>HEME_C</th>\n      <td>0.0</td>\n      <td>0.0</td>\n      <td>34.0</td>\n      <td>4.0</td>\n      <td>4.0</td>\n      <td>0.0</td>\n      <td>0.0</td>\n      <td>0.0</td>\n      <td>1.0</td>\n      <td>2.0</td>\n      <td>0.0</td>\n      <td>0.0</td>\n      <td>0.0</td>\n      <td>0.0</td>\n      <td>0.0</td>\n      <td>0.0</td>\n      <td>0.0</td>\n      <td>0.0</td>\n    </tr>\n    <tr>\n      <th>ADENOSYLCOBALAMIN</th>\n      <td>0.0</td>\n      <td>0.0</td>\n      <td>72.0</td>\n      <td>18.0</td>\n      <td>17.0</td>\n      <td>1.0</td>\n      <td>0.0</td>\n      <td>0.0</td>\n      <td>0.0</td>\n      <td>0.0</td>\n      <td>0.0</td>\n      <td>0.0</td>\n      <td>0.0</td>\n      <td>1.0</td>\n      <td>0.0</td>\n      <td>0.0</td>\n      <td>0.0</td>\n      <td>0.0</td>\n    </tr>\n    <tr>\n      <th>TOPAQUINONE</th>\n      <td>0.0</td>\n      <td>0.0</td>\n      <td>9.0</td>\n      <td>1.0</td>\n      <td>4.0</td>\n      <td>0.0</td>\n      <td>0.0</td>\n      <td>0.0</td>\n      <td>0.0</td>\n      <td>0.0</td>\n      <td>0.0</td>\n      <td>0.0</td>\n      <td>0.0</td>\n      <td>0.0</td>\n      <td>0.0</td>\n      <td>0.0</td>\n      <td>0.0</td>\n      <td>2.0</td>\n    </tr>\n    <tr>\n      <th>CPD0-2654</th>\n      <td>0.0</td>\n      <td>0.0</td>\n      <td>3.0</td>\n      <td>0.0</td>\n      <td>2.0</td>\n      <td>0.0</td>\n      <td>0.0</td>\n      <td>0.0</td>\n      <td>0.0</td>\n      <td>0.0</td>\n      <td>0.0</td>\n      <td>0.0</td>\n      <td>0.0</td>\n      <td>0.0</td>\n      <td>0.0</td>\n      <td>0.0</td>\n      <td>0.0</td>\n      <td>1.0</td>\n    </tr>\n    <tr>\n      <th>CPD-24862</th>\n      <td>0.0</td>\n      <td>0.0</td>\n      <td>3.0</td>\n      <td>2.0</td>\n      <td>1.0</td>\n      <td>0.0</td>\n      <td>0.0</td>\n      <td>0.0</td>\n      <td>1.0</td>\n      <td>4.0</td>\n      <td>1.0</td>\n      <td>0.0</td>\n      <td>0.0</td>\n      <td>0.0</td>\n      <td>0.0</td>\n      <td>0.0</td>\n      <td>0.0</td>\n      <td>4.0</td>\n    </tr>\n    <tr>\n      <th>CPD-17649</th>\n      <td>0.0</td>\n      <td>0.0</td>\n      <td>0.0</td>\n      <td>0.0</td>\n      <td>0.0</td>\n      <td>0.0</td>\n      <td>0.0</td>\n      <td>0.0</td>\n      <td>4.0</td>\n      <td>4.0</td>\n      <td>0.0</td>\n      <td>0.0</td>\n      <td>0.0</td>\n      <td>0.0</td>\n      <td>0.0</td>\n      <td>0.0</td>\n      <td>0.0</td>\n      <td>0.0</td>\n    </tr>\n    <tr>\n      <th>GTP</th>\n      <td>0.0</td>\n      <td>0.0</td>\n      <td>10.0</td>\n      <td>5.0</td>\n      <td>14.0</td>\n      <td>3.0</td>\n      <td>0.0</td>\n      <td>0.0</td>\n      <td>0.0</td>\n      <td>0.0</td>\n      <td>0.0</td>\n      <td>0.0</td>\n      <td>0.0</td>\n      <td>0.0</td>\n      <td>0.0</td>\n      <td>0.0</td>\n      <td>0.0</td>\n      <td>0.0</td>\n    </tr>\n  </tbody>\n</table>\n</div>"
     },
     "execution_count": 183,
     "metadata": {},
     "output_type": "execute_result"
    }
   ],
   "source": [
    "element_matrix = cofactor_df['molecular_composition'].apply(pd.Series).fillna(0)\n",
    "element_matrix"
   ],
   "metadata": {
    "collapsed": false,
    "ExecuteTime": {
     "end_time": "2023-06-14T21:12:59.340568Z",
     "start_time": "2023-06-14T21:12:59.273206Z"
    }
   }
  },
  {
   "cell_type": "code",
   "execution_count": 184,
   "outputs": [],
   "source": [
    "metals = ['MG', 'MN', 'ZN', 'FE', 'NI', 'CU', 'CO', 'CA', 'MO']\n",
    "metal_distribution = pd.DataFrame(index=element_matrix.index, columns=metals).fillna(0)\n",
    "for element in metals:\n",
    "    metal_distribution.loc[:, element] = cofactor_df['counts'] * element_matrix.loc[:, element]\n"
   ],
   "metadata": {
    "collapsed": false,
    "ExecuteTime": {
     "end_time": "2023-06-14T21:13:01.747717Z",
     "start_time": "2023-06-14T21:13:01.743268Z"
    }
   }
  },
  {
   "cell_type": "code",
   "execution_count": 185,
   "outputs": [
    {
     "data": {
      "text/plain": "cofactors\nCPD-7                     18224.0\nFE+2                       3256.0\nCPD-6                      1270.0\nHeme-b                     1025.0\nHEME_O                      814.0\n3FE-4S                      636.0\nFeS-Centers                 304.0\nFE+3                        161.0\nPROTOHEME                   139.0\nSIROHEME                     98.0\nCPD-23429                    46.0\nHEME_D                       13.0\nHEME_C                       13.0\nNADPH                         0.0\nCPD-17649                     0.0\nAMMONIUM                      0.0\nCPD-24862                     0.0\nADENOSYLCOBALAMIN             0.0\nCPD-15873                     0.0\nCPD-18260                     0.0\nTOPAQUINONE                   0.0\nCPD-8123                      0.0\nFMNH2                         0.0\nCPD0-1882                     0.0\nCPD0-2654                     0.0\nMG+2                          0.0\nLYS                           0.0\nCA+2                          0.0\nPYRIDOXAL_PHOSPHATE           0.0\nZN+2                          0.0\n23-DIPHOSPHOGLYCERATE         0.0\nFAD                           0.0\nK+                            0.0\nTHIAMINE-PYROPHOSPHATE        0.0\nNI+2                          0.0\nFMN                           0.0\nCU+2                          0.0\nNAD                           0.0\nHCO3                          0.0\nCO+2                          0.0\nNADP                          0.0\nLIPOIC-ACID                   0.0\nMN+2                          0.0\nGTP                           0.0\nName: FE, dtype: float64"
     },
     "execution_count": 185,
     "metadata": {},
     "output_type": "execute_result"
    }
   ],
   "source": [
    "metal_distribution.sort_values(by='FE', ascending=False)['FE']"
   ],
   "metadata": {
    "collapsed": false,
    "ExecuteTime": {
     "end_time": "2023-06-14T21:13:02.119465Z",
     "start_time": "2023-06-14T21:13:02.115059Z"
    }
   }
  },
  {
   "cell_type": "markdown",
   "source": [
    "# Chain iron content back to enzymes"
   ],
   "metadata": {
    "collapsed": false
   }
  },
  {
   "cell_type": "code",
   "execution_count": 186,
   "outputs": [
    {
     "data": {
      "text/plain": "                               complex  stoichiometry  \\\n0                                1-PFK              1   \n1                2OXOGLUTARATEDEH-CPLX              1   \n2          3-ISOPROPYLMALDEHYDROG-CPLX              1   \n3              3-ISOPROPYLMALISOM-CPLX              1   \n4     3-METHYL-2-OXOBUT-OHCH3XFER-CPLX              1   \n...                                ...            ...   \n1096                        CPLX0-8053              1   \n1097                        CPLX0-8253              1   \n1098                          SRP-CPLX              1   \n1099                     CPLX0-7796APO              1   \n1100                         ARCB-CPLX              1   \n\n                                  reaction  \\\n0                                1-PFK_RXN   \n1                2OXOGLUTARATEDEH-CPLX_RXN   \n2          3-ISOPROPYLMALDEHYDROG-CPLX_RXN   \n3              3-ISOPROPYLMALISOM-CPLX_RXN   \n4     3-METHYL-2-OXOBUT-OHCH3XFER-CPLX_RXN   \n...                                    ...   \n1096                        CPLX0-8053_RXN   \n1097                        CPLX0-8253_RXN   \n1098                          SRP-CPLX_RXN   \n1099                     CPLX0-7796APO_RXN   \n1100                         ARCB-CPLX_RXN   \n\n                         enzyme-reaction  \\\n0                  1PFRUCTPHOSPHN-ENZRXN   \n1                2OXOGLUTARATEDEH-ENZRXN   \n2          3-ISOPROPYLMALDEHYDROG-ENZRXN   \n3              3-ISOPROPYLMALISOM-ENZRXN   \n4     3-METHYL-2-OXOBUT-OHCH3XFER-ENZRXN   \n...                                  ...   \n1096                                None   \n1097                                None   \n1098                                None   \n1099                                None   \n1100                        ENZRXN0-8568   \n\n                                             cofactors  counts  \n0                                               [MG+2]      31  \n1     [LIPOIC-ACID, THIAMINE-PYROPHOSPHATE, FAD, MG+2]      86  \n2                                         [MG+2, MN+2]    1065  \n3                                              [CPD-7]    2631  \n4                                               [MG+2]     174  \n...                                                ...     ...  \n1096                                                []     208  \n1097                                                []       0  \n1098                                                []       0  \n1099                                                []      50  \n1100                                                []       1  \n\n[1101 rows x 6 columns]",
      "text/html": "<div>\n<style scoped>\n    .dataframe tbody tr th:only-of-type {\n        vertical-align: middle;\n    }\n\n    .dataframe tbody tr th {\n        vertical-align: top;\n    }\n\n    .dataframe thead th {\n        text-align: right;\n    }\n</style>\n<table border=\"1\" class=\"dataframe\">\n  <thead>\n    <tr style=\"text-align: right;\">\n      <th></th>\n      <th>complex</th>\n      <th>stoichiometry</th>\n      <th>reaction</th>\n      <th>enzyme-reaction</th>\n      <th>cofactors</th>\n      <th>counts</th>\n    </tr>\n  </thead>\n  <tbody>\n    <tr>\n      <th>0</th>\n      <td>1-PFK</td>\n      <td>1</td>\n      <td>1-PFK_RXN</td>\n      <td>1PFRUCTPHOSPHN-ENZRXN</td>\n      <td>[MG+2]</td>\n      <td>31</td>\n    </tr>\n    <tr>\n      <th>1</th>\n      <td>2OXOGLUTARATEDEH-CPLX</td>\n      <td>1</td>\n      <td>2OXOGLUTARATEDEH-CPLX_RXN</td>\n      <td>2OXOGLUTARATEDEH-ENZRXN</td>\n      <td>[LIPOIC-ACID, THIAMINE-PYROPHOSPHATE, FAD, MG+2]</td>\n      <td>86</td>\n    </tr>\n    <tr>\n      <th>2</th>\n      <td>3-ISOPROPYLMALDEHYDROG-CPLX</td>\n      <td>1</td>\n      <td>3-ISOPROPYLMALDEHYDROG-CPLX_RXN</td>\n      <td>3-ISOPROPYLMALDEHYDROG-ENZRXN</td>\n      <td>[MG+2, MN+2]</td>\n      <td>1065</td>\n    </tr>\n    <tr>\n      <th>3</th>\n      <td>3-ISOPROPYLMALISOM-CPLX</td>\n      <td>1</td>\n      <td>3-ISOPROPYLMALISOM-CPLX_RXN</td>\n      <td>3-ISOPROPYLMALISOM-ENZRXN</td>\n      <td>[CPD-7]</td>\n      <td>2631</td>\n    </tr>\n    <tr>\n      <th>4</th>\n      <td>3-METHYL-2-OXOBUT-OHCH3XFER-CPLX</td>\n      <td>1</td>\n      <td>3-METHYL-2-OXOBUT-OHCH3XFER-CPLX_RXN</td>\n      <td>3-METHYL-2-OXOBUT-OHCH3XFER-ENZRXN</td>\n      <td>[MG+2]</td>\n      <td>174</td>\n    </tr>\n    <tr>\n      <th>...</th>\n      <td>...</td>\n      <td>...</td>\n      <td>...</td>\n      <td>...</td>\n      <td>...</td>\n      <td>...</td>\n    </tr>\n    <tr>\n      <th>1096</th>\n      <td>CPLX0-8053</td>\n      <td>1</td>\n      <td>CPLX0-8053_RXN</td>\n      <td>None</td>\n      <td>[]</td>\n      <td>208</td>\n    </tr>\n    <tr>\n      <th>1097</th>\n      <td>CPLX0-8253</td>\n      <td>1</td>\n      <td>CPLX0-8253_RXN</td>\n      <td>None</td>\n      <td>[]</td>\n      <td>0</td>\n    </tr>\n    <tr>\n      <th>1098</th>\n      <td>SRP-CPLX</td>\n      <td>1</td>\n      <td>SRP-CPLX_RXN</td>\n      <td>None</td>\n      <td>[]</td>\n      <td>0</td>\n    </tr>\n    <tr>\n      <th>1099</th>\n      <td>CPLX0-7796APO</td>\n      <td>1</td>\n      <td>CPLX0-7796APO_RXN</td>\n      <td>None</td>\n      <td>[]</td>\n      <td>50</td>\n    </tr>\n    <tr>\n      <th>1100</th>\n      <td>ARCB-CPLX</td>\n      <td>1</td>\n      <td>ARCB-CPLX_RXN</td>\n      <td>ENZRXN0-8568</td>\n      <td>[]</td>\n      <td>1</td>\n    </tr>\n  </tbody>\n</table>\n<p>1101 rows × 6 columns</p>\n</div>"
     },
     "execution_count": 186,
     "metadata": {},
     "output_type": "execute_result"
    }
   ],
   "source": [
    "complex_df.loc[:]"
   ],
   "metadata": {
    "collapsed": false,
    "ExecuteTime": {
     "end_time": "2023-06-14T21:13:05.545868Z",
     "start_time": "2023-06-14T21:13:05.541941Z"
    }
   }
  },
  {
   "cell_type": "code",
   "execution_count": 223,
   "outputs": [
    {
     "data": {
      "text/plain": "                     complex    cofactors  counts  fe_counts  fe_counts_norm\n7    3-ISOPROPYLMALISOM-CPLX        CPD-7    2631    10524.0       40.478480\n31                 ADHE-CPLX         FE+2      93       93.0        0.357706\n43     ANGLYC3PDEHYDROG-CPLX  FeS-Centers      69      276.0        1.061579\n48            APP-UBIOX-CPLX       HEME_D      13       13.0        0.050002\n49            APP-UBIOX-CPLX       Heme-b      13       13.0        0.050002\n..                       ...          ...     ...        ...             ...\n415      SULFITE-REDUCT-CPLX        CPD-7      93      372.0        1.430824\n418      SULFITE-REDUCT-CPLX     SIROHEME      93       93.0        0.357706\n419    SUPEROX-DISMUTFE-CPLX         FE+3     161      161.0        0.619255\n424          THREODEHYD-CPLX         FE+2      33       33.0        0.126928\n429         TMAOREDUCTI-CPLX       HEME_C       3        3.0        0.011539\n\n[65 rows x 5 columns]",
      "text/html": "<div>\n<style scoped>\n    .dataframe tbody tr th:only-of-type {\n        vertical-align: middle;\n    }\n\n    .dataframe tbody tr th {\n        vertical-align: top;\n    }\n\n    .dataframe thead th {\n        text-align: right;\n    }\n</style>\n<table border=\"1\" class=\"dataframe\">\n  <thead>\n    <tr style=\"text-align: right;\">\n      <th></th>\n      <th>complex</th>\n      <th>cofactors</th>\n      <th>counts</th>\n      <th>fe_counts</th>\n      <th>fe_counts_norm</th>\n    </tr>\n  </thead>\n  <tbody>\n    <tr>\n      <th>7</th>\n      <td>3-ISOPROPYLMALISOM-CPLX</td>\n      <td>CPD-7</td>\n      <td>2631</td>\n      <td>10524.0</td>\n      <td>40.478480</td>\n    </tr>\n    <tr>\n      <th>31</th>\n      <td>ADHE-CPLX</td>\n      <td>FE+2</td>\n      <td>93</td>\n      <td>93.0</td>\n      <td>0.357706</td>\n    </tr>\n    <tr>\n      <th>43</th>\n      <td>ANGLYC3PDEHYDROG-CPLX</td>\n      <td>FeS-Centers</td>\n      <td>69</td>\n      <td>276.0</td>\n      <td>1.061579</td>\n    </tr>\n    <tr>\n      <th>48</th>\n      <td>APP-UBIOX-CPLX</td>\n      <td>HEME_D</td>\n      <td>13</td>\n      <td>13.0</td>\n      <td>0.050002</td>\n    </tr>\n    <tr>\n      <th>49</th>\n      <td>APP-UBIOX-CPLX</td>\n      <td>Heme-b</td>\n      <td>13</td>\n      <td>13.0</td>\n      <td>0.050002</td>\n    </tr>\n    <tr>\n      <th>...</th>\n      <td>...</td>\n      <td>...</td>\n      <td>...</td>\n      <td>...</td>\n      <td>...</td>\n    </tr>\n    <tr>\n      <th>415</th>\n      <td>SULFITE-REDUCT-CPLX</td>\n      <td>CPD-7</td>\n      <td>93</td>\n      <td>372.0</td>\n      <td>1.430824</td>\n    </tr>\n    <tr>\n      <th>418</th>\n      <td>SULFITE-REDUCT-CPLX</td>\n      <td>SIROHEME</td>\n      <td>93</td>\n      <td>93.0</td>\n      <td>0.357706</td>\n    </tr>\n    <tr>\n      <th>419</th>\n      <td>SUPEROX-DISMUTFE-CPLX</td>\n      <td>FE+3</td>\n      <td>161</td>\n      <td>161.0</td>\n      <td>0.619255</td>\n    </tr>\n    <tr>\n      <th>424</th>\n      <td>THREODEHYD-CPLX</td>\n      <td>FE+2</td>\n      <td>33</td>\n      <td>33.0</td>\n      <td>0.126928</td>\n    </tr>\n    <tr>\n      <th>429</th>\n      <td>TMAOREDUCTI-CPLX</td>\n      <td>HEME_C</td>\n      <td>3</td>\n      <td>3.0</td>\n      <td>0.011539</td>\n    </tr>\n  </tbody>\n</table>\n<p>65 rows × 5 columns</p>\n</div>"
     },
     "execution_count": 223,
     "metadata": {},
     "output_type": "execute_result"
    }
   ],
   "source": [
    "# filter cofactors in element matrix that have FE coefficient > 0\n",
    "fe_cofactors = list(element_matrix[element_matrix['FE'] > 0].index)\n",
    "\n",
    "# filter complex_df to only include complexes where one of the cofactors is in fe_cofactors\n",
    "exploded_complexes = complex_df.explode('cofactors').dropna().reset_index(drop=True)\n",
    "fe_complexes = exploded_complexes.loc[exploded_complexes.cofactors.isin(fe_cofactors), ['complex', 'cofactors', 'counts']]\n",
    "fe_complexes\n",
    "\n",
    "# add column that multiplies counts by number of FE atoms in cofactor based on element matrix\n",
    "fe_complexes['fe_counts'] = 0\n",
    "for cofactor in fe_cofactors:\n",
    "    fe_complexes.loc[fe_complexes['cofactors'] == cofactor, 'fe_counts'] = fe_complexes.loc[fe_complexes['cofactors'] == cofactor, 'counts'] * element_matrix.loc[cofactor, 'FE']\n",
    "\n",
    "# add a column that divides the fe_counts by the total sum of fe_counts\n",
    "fe_complexes['fe_counts_norm'] = 100 * fe_complexes['fe_counts'] / fe_complexes['fe_counts'].sum()\n",
    "\n",
    "fe_complexes"
   ],
   "metadata": {
    "collapsed": false,
    "ExecuteTime": {
     "end_time": "2023-06-14T21:37:22.090616Z",
     "start_time": "2023-06-14T21:37:22.071682Z"
    }
   }
  },
  {
   "cell_type": "code",
   "execution_count": 219,
   "outputs": [
    {
     "data": {
      "text/plain": "                         MG   MN     C     N     O    P   ZN    K   FE    S  \\\ncofactors                                                                     \nMG+2                    1.0  0.0   0.0   0.0   0.0  0.0  0.0  0.0  0.0  0.0   \nMN+2                    0.0  1.0   0.0   0.0   0.0  0.0  0.0  0.0  0.0  0.0   \nPYRIDOXAL_PHOSPHATE     0.0  0.0   8.0   1.0   6.0  1.0  0.0  0.0  0.0  0.0   \nZN+2                    0.0  0.0   0.0   0.0   0.0  0.0  1.0  0.0  0.0  0.0   \n23-DIPHOSPHOGLYCERATE   0.0  0.0   3.0   0.0  10.0  2.0  0.0  0.0  0.0  0.0   \nFAD                     0.0  0.0  27.0   9.0  15.0  2.0  0.0  0.0  0.0  0.0   \nK+                      0.0  0.0   0.0   0.0   0.0  0.0  0.0  1.0  0.0  0.0   \nCPD-7                   0.0  0.0   0.0   0.0   0.0  0.0  0.0  0.0  4.0  4.0   \nFE+2                    0.0  0.0   0.0   0.0   0.0  0.0  0.0  0.0  1.0  0.0   \nTHIAMINE-PYROPHOSPHATE  0.0  0.0  12.0   4.0   7.0  2.0  0.0  0.0  0.0  1.0   \nNI+2                    0.0  0.0   0.0   0.0   0.0  0.0  0.0  0.0  0.0  0.0   \nFMN                     0.0  0.0  17.0   4.0   9.0  1.0  0.0  0.0  0.0  0.0   \nHeme-b                  0.0  0.0  34.0   4.0   4.0  0.0  0.0  0.0  1.0  0.0   \nCU+2                    0.0  0.0   0.0   0.0   0.0  0.0  0.0  0.0  0.0  0.0   \nHEME_O                  0.0  0.0  49.0   4.0   5.0  0.0  0.0  0.0  1.0  0.0   \nNAD                     0.0  0.0  21.0   7.0  14.0  2.0  0.0  0.0  0.0  0.0   \nCPD-6                   0.0  0.0   0.0   0.0   0.0  0.0  0.0  0.0  2.0  6.0   \nHCO3                    0.0  0.0   1.0   0.0   3.0  0.0  0.0  0.0  0.0  0.0   \nCO+2                    0.0  0.0   0.0   0.0   0.0  0.0  0.0  0.0  0.0  0.0   \nNADP                    0.0  0.0  21.0   7.0  17.0  3.0  0.0  0.0  0.0  0.0   \n3FE-4S                  0.0  0.0   0.0   0.0   0.0  0.0  0.0  0.0  3.0  4.0   \nLIPOIC-ACID             0.0  0.0   8.0   0.0   2.0  0.0  0.0  0.0  0.0  2.0   \nFE+3                    0.0  0.0   0.0   0.0   0.0  0.0  0.0  0.0  1.0  0.0   \nCA+2                    0.0  0.0   0.0   0.0   0.0  0.0  0.0  0.0  0.0  0.0   \nPROTOHEME               0.0  0.0  34.0   4.0   4.0  0.0  0.0  0.0  1.0  0.0   \nLYS                     0.0  0.0   6.0   2.0   2.0  0.0  0.0  0.0  0.0  0.0   \nFMNH2                   0.0  0.0  17.0   4.0   9.0  1.0  0.0  0.0  0.0  0.0   \nSIROHEME                0.0  0.0  42.0   4.0  16.0  0.0  0.0  0.0  1.0  0.0   \nFeS-Centers             0.0  0.0   0.0   0.0   0.0  0.0  0.0  0.0  4.0  4.0   \nAMMONIUM                0.0  0.0   0.0   1.0   0.0  0.0  0.0  0.0  0.0  0.0   \nCPD-23429               0.0  0.0  34.0   4.0   6.0  0.0  0.0  0.0  1.0  0.0   \nNADPH                   0.0  0.0  21.0   7.0  17.0  3.0  0.0  0.0  0.0  0.0   \nCPD-15873               0.0  0.0  40.0  20.0  27.0  4.0  0.0  0.0  0.0  4.0   \nCPD-18260               0.0  0.0  22.0   4.0   9.0  1.0  0.0  0.0  0.0  0.0   \nCPD-8123                0.0  0.0  10.0   5.0   8.0  1.0  0.0  0.0  0.0  2.0   \nCPD0-1882               0.0  0.0  19.0   8.0  15.0  2.0  0.0  0.0  0.0  2.0   \nHEME_D                  0.0  0.0  34.0   4.0   6.0  0.0  0.0  0.0  1.0  0.0   \nHEME_C                  0.0  0.0  34.0   4.0   4.0  0.0  0.0  0.0  1.0  2.0   \nADENOSYLCOBALAMIN       0.0  0.0  72.0  18.0  17.0  1.0  0.0  0.0  0.0  0.0   \nTOPAQUINONE             0.0  0.0   9.0   1.0   4.0  0.0  0.0  0.0  0.0  0.0   \nCPD0-2654               0.0  0.0   3.0   0.0   2.0  0.0  0.0  0.0  0.0  0.0   \nCPD-24862               0.0  0.0   3.0   2.0   1.0  0.0  0.0  0.0  1.0  4.0   \nCPD-17649               0.0  0.0   0.0   0.0   0.0  0.0  0.0  0.0  4.0  4.0   \nGTP                     0.0  0.0  10.0   5.0  14.0  3.0  0.0  0.0  0.0  0.0   \n\n                         NI   CU    R   CO   CA    H   MO  Proteins  \ncofactors                                                            \nMG+2                    0.0  0.0  0.0  0.0  0.0  0.0  0.0       0.0  \nMN+2                    0.0  0.0  0.0  0.0  0.0  0.0  0.0       0.0  \nPYRIDOXAL_PHOSPHATE     0.0  0.0  0.0  0.0  0.0  0.0  0.0       0.0  \nZN+2                    0.0  0.0  0.0  0.0  0.0  0.0  0.0       0.0  \n23-DIPHOSPHOGLYCERATE   0.0  0.0  0.0  0.0  0.0  0.0  0.0       0.0  \nFAD                     0.0  0.0  0.0  0.0  0.0  0.0  0.0       0.0  \nK+                      0.0  0.0  0.0  0.0  0.0  0.0  0.0       0.0  \nCPD-7                   0.0  0.0  0.0  0.0  0.0  0.0  0.0       0.0  \nFE+2                    0.0  0.0  0.0  0.0  0.0  0.0  0.0       0.0  \nTHIAMINE-PYROPHOSPHATE  0.0  0.0  0.0  0.0  0.0  0.0  0.0       0.0  \nNI+2                    1.0  0.0  0.0  0.0  0.0  0.0  0.0       0.0  \nFMN                     0.0  0.0  0.0  0.0  0.0  0.0  0.0       0.0  \nHeme-b                  0.0  0.0  0.0  0.0  0.0  0.0  0.0       0.0  \nCU+2                    0.0  1.0  0.0  0.0  0.0  0.0  0.0       0.0  \nHEME_O                  0.0  0.0  0.0  0.0  0.0  0.0  0.0       0.0  \nNAD                     0.0  0.0  0.0  0.0  0.0  0.0  0.0       0.0  \nCPD-6                   0.0  0.0  4.0  0.0  0.0  0.0  0.0       0.0  \nHCO3                    0.0  0.0  0.0  0.0  0.0  0.0  0.0       0.0  \nCO+2                    0.0  0.0  0.0  1.0  0.0  0.0  0.0       0.0  \nNADP                    0.0  0.0  0.0  0.0  0.0  0.0  0.0       0.0  \n3FE-4S                  0.0  0.0  0.0  0.0  0.0  0.0  0.0       0.0  \nLIPOIC-ACID             0.0  0.0  0.0  0.0  0.0  0.0  0.0       0.0  \nFE+3                    0.0  0.0  0.0  0.0  0.0  0.0  0.0       0.0  \nCA+2                    0.0  0.0  0.0  0.0  1.0  0.0  0.0       0.0  \nPROTOHEME               0.0  0.0  0.0  0.0  0.0  0.0  0.0       0.0  \nLYS                     0.0  0.0  0.0  0.0  0.0  0.0  0.0       0.0  \nFMNH2                   0.0  0.0  0.0  0.0  0.0  0.0  0.0       0.0  \nSIROHEME                0.0  0.0  0.0  0.0  0.0  0.0  0.0       0.0  \nFeS-Centers             0.0  0.0  0.0  0.0  0.0  0.0  0.0       0.0  \nAMMONIUM                0.0  0.0  0.0  0.0  0.0  4.0  0.0       0.0  \nCPD-23429               0.0  0.0  0.0  0.0  0.0  0.0  0.0       0.0  \nNADPH                   0.0  0.0  0.0  0.0  0.0  0.0  0.0       0.0  \nCPD-15873               0.0  0.0  0.0  0.0  0.0  6.0  1.0       0.0  \nCPD-18260               0.0  0.0  0.0  0.0  0.0  0.0  0.0       0.0  \nCPD-8123                0.0  0.0  0.0  0.0  0.0  3.0  1.0       0.0  \nCPD0-1882               0.0  0.0  0.0  0.0  0.0  3.0  1.0       0.0  \nHEME_D                  0.0  0.0  0.0  0.0  0.0  0.0  0.0       0.0  \nHEME_C                  0.0  0.0  0.0  0.0  0.0  0.0  0.0       0.0  \nADENOSYLCOBALAMIN       0.0  0.0  0.0  1.0  0.0  0.0  0.0       0.0  \nTOPAQUINONE             0.0  0.0  0.0  0.0  0.0  0.0  0.0       2.0  \nCPD0-2654               0.0  0.0  0.0  0.0  0.0  0.0  0.0       1.0  \nCPD-24862               1.0  0.0  0.0  0.0  0.0  0.0  0.0       4.0  \nCPD-17649               0.0  0.0  0.0  0.0  0.0  0.0  0.0       0.0  \nGTP                     0.0  0.0  0.0  0.0  0.0  0.0  0.0       0.0  ",
      "text/html": "<div>\n<style scoped>\n    .dataframe tbody tr th:only-of-type {\n        vertical-align: middle;\n    }\n\n    .dataframe tbody tr th {\n        vertical-align: top;\n    }\n\n    .dataframe thead th {\n        text-align: right;\n    }\n</style>\n<table border=\"1\" class=\"dataframe\">\n  <thead>\n    <tr style=\"text-align: right;\">\n      <th></th>\n      <th>MG</th>\n      <th>MN</th>\n      <th>C</th>\n      <th>N</th>\n      <th>O</th>\n      <th>P</th>\n      <th>ZN</th>\n      <th>K</th>\n      <th>FE</th>\n      <th>S</th>\n      <th>NI</th>\n      <th>CU</th>\n      <th>R</th>\n      <th>CO</th>\n      <th>CA</th>\n      <th>H</th>\n      <th>MO</th>\n      <th>Proteins</th>\n    </tr>\n    <tr>\n      <th>cofactors</th>\n      <th></th>\n      <th></th>\n      <th></th>\n      <th></th>\n      <th></th>\n      <th></th>\n      <th></th>\n      <th></th>\n      <th></th>\n      <th></th>\n      <th></th>\n      <th></th>\n      <th></th>\n      <th></th>\n      <th></th>\n      <th></th>\n      <th></th>\n      <th></th>\n    </tr>\n  </thead>\n  <tbody>\n    <tr>\n      <th>MG+2</th>\n      <td>1.0</td>\n      <td>0.0</td>\n      <td>0.0</td>\n      <td>0.0</td>\n      <td>0.0</td>\n      <td>0.0</td>\n      <td>0.0</td>\n      <td>0.0</td>\n      <td>0.0</td>\n      <td>0.0</td>\n      <td>0.0</td>\n      <td>0.0</td>\n      <td>0.0</td>\n      <td>0.0</td>\n      <td>0.0</td>\n      <td>0.0</td>\n      <td>0.0</td>\n      <td>0.0</td>\n    </tr>\n    <tr>\n      <th>MN+2</th>\n      <td>0.0</td>\n      <td>1.0</td>\n      <td>0.0</td>\n      <td>0.0</td>\n      <td>0.0</td>\n      <td>0.0</td>\n      <td>0.0</td>\n      <td>0.0</td>\n      <td>0.0</td>\n      <td>0.0</td>\n      <td>0.0</td>\n      <td>0.0</td>\n      <td>0.0</td>\n      <td>0.0</td>\n      <td>0.0</td>\n      <td>0.0</td>\n      <td>0.0</td>\n      <td>0.0</td>\n    </tr>\n    <tr>\n      <th>PYRIDOXAL_PHOSPHATE</th>\n      <td>0.0</td>\n      <td>0.0</td>\n      <td>8.0</td>\n      <td>1.0</td>\n      <td>6.0</td>\n      <td>1.0</td>\n      <td>0.0</td>\n      <td>0.0</td>\n      <td>0.0</td>\n      <td>0.0</td>\n      <td>0.0</td>\n      <td>0.0</td>\n      <td>0.0</td>\n      <td>0.0</td>\n      <td>0.0</td>\n      <td>0.0</td>\n      <td>0.0</td>\n      <td>0.0</td>\n    </tr>\n    <tr>\n      <th>ZN+2</th>\n      <td>0.0</td>\n      <td>0.0</td>\n      <td>0.0</td>\n      <td>0.0</td>\n      <td>0.0</td>\n      <td>0.0</td>\n      <td>1.0</td>\n      <td>0.0</td>\n      <td>0.0</td>\n      <td>0.0</td>\n      <td>0.0</td>\n      <td>0.0</td>\n      <td>0.0</td>\n      <td>0.0</td>\n      <td>0.0</td>\n      <td>0.0</td>\n      <td>0.0</td>\n      <td>0.0</td>\n    </tr>\n    <tr>\n      <th>23-DIPHOSPHOGLYCERATE</th>\n      <td>0.0</td>\n      <td>0.0</td>\n      <td>3.0</td>\n      <td>0.0</td>\n      <td>10.0</td>\n      <td>2.0</td>\n      <td>0.0</td>\n      <td>0.0</td>\n      <td>0.0</td>\n      <td>0.0</td>\n      <td>0.0</td>\n      <td>0.0</td>\n      <td>0.0</td>\n      <td>0.0</td>\n      <td>0.0</td>\n      <td>0.0</td>\n      <td>0.0</td>\n      <td>0.0</td>\n    </tr>\n    <tr>\n      <th>FAD</th>\n      <td>0.0</td>\n      <td>0.0</td>\n      <td>27.0</td>\n      <td>9.0</td>\n      <td>15.0</td>\n      <td>2.0</td>\n      <td>0.0</td>\n      <td>0.0</td>\n      <td>0.0</td>\n      <td>0.0</td>\n      <td>0.0</td>\n      <td>0.0</td>\n      <td>0.0</td>\n      <td>0.0</td>\n      <td>0.0</td>\n      <td>0.0</td>\n      <td>0.0</td>\n      <td>0.0</td>\n    </tr>\n    <tr>\n      <th>K+</th>\n      <td>0.0</td>\n      <td>0.0</td>\n      <td>0.0</td>\n      <td>0.0</td>\n      <td>0.0</td>\n      <td>0.0</td>\n      <td>0.0</td>\n      <td>1.0</td>\n      <td>0.0</td>\n      <td>0.0</td>\n      <td>0.0</td>\n      <td>0.0</td>\n      <td>0.0</td>\n      <td>0.0</td>\n      <td>0.0</td>\n      <td>0.0</td>\n      <td>0.0</td>\n      <td>0.0</td>\n    </tr>\n    <tr>\n      <th>CPD-7</th>\n      <td>0.0</td>\n      <td>0.0</td>\n      <td>0.0</td>\n      <td>0.0</td>\n      <td>0.0</td>\n      <td>0.0</td>\n      <td>0.0</td>\n      <td>0.0</td>\n      <td>4.0</td>\n      <td>4.0</td>\n      <td>0.0</td>\n      <td>0.0</td>\n      <td>0.0</td>\n      <td>0.0</td>\n      <td>0.0</td>\n      <td>0.0</td>\n      <td>0.0</td>\n      <td>0.0</td>\n    </tr>\n    <tr>\n      <th>FE+2</th>\n      <td>0.0</td>\n      <td>0.0</td>\n      <td>0.0</td>\n      <td>0.0</td>\n      <td>0.0</td>\n      <td>0.0</td>\n      <td>0.0</td>\n      <td>0.0</td>\n      <td>1.0</td>\n      <td>0.0</td>\n      <td>0.0</td>\n      <td>0.0</td>\n      <td>0.0</td>\n      <td>0.0</td>\n      <td>0.0</td>\n      <td>0.0</td>\n      <td>0.0</td>\n      <td>0.0</td>\n    </tr>\n    <tr>\n      <th>THIAMINE-PYROPHOSPHATE</th>\n      <td>0.0</td>\n      <td>0.0</td>\n      <td>12.0</td>\n      <td>4.0</td>\n      <td>7.0</td>\n      <td>2.0</td>\n      <td>0.0</td>\n      <td>0.0</td>\n      <td>0.0</td>\n      <td>1.0</td>\n      <td>0.0</td>\n      <td>0.0</td>\n      <td>0.0</td>\n      <td>0.0</td>\n      <td>0.0</td>\n      <td>0.0</td>\n      <td>0.0</td>\n      <td>0.0</td>\n    </tr>\n    <tr>\n      <th>NI+2</th>\n      <td>0.0</td>\n      <td>0.0</td>\n      <td>0.0</td>\n      <td>0.0</td>\n      <td>0.0</td>\n      <td>0.0</td>\n      <td>0.0</td>\n      <td>0.0</td>\n      <td>0.0</td>\n      <td>0.0</td>\n      <td>1.0</td>\n      <td>0.0</td>\n      <td>0.0</td>\n      <td>0.0</td>\n      <td>0.0</td>\n      <td>0.0</td>\n      <td>0.0</td>\n      <td>0.0</td>\n    </tr>\n    <tr>\n      <th>FMN</th>\n      <td>0.0</td>\n      <td>0.0</td>\n      <td>17.0</td>\n      <td>4.0</td>\n      <td>9.0</td>\n      <td>1.0</td>\n      <td>0.0</td>\n      <td>0.0</td>\n      <td>0.0</td>\n      <td>0.0</td>\n      <td>0.0</td>\n      <td>0.0</td>\n      <td>0.0</td>\n      <td>0.0</td>\n      <td>0.0</td>\n      <td>0.0</td>\n      <td>0.0</td>\n      <td>0.0</td>\n    </tr>\n    <tr>\n      <th>Heme-b</th>\n      <td>0.0</td>\n      <td>0.0</td>\n      <td>34.0</td>\n      <td>4.0</td>\n      <td>4.0</td>\n      <td>0.0</td>\n      <td>0.0</td>\n      <td>0.0</td>\n      <td>1.0</td>\n      <td>0.0</td>\n      <td>0.0</td>\n      <td>0.0</td>\n      <td>0.0</td>\n      <td>0.0</td>\n      <td>0.0</td>\n      <td>0.0</td>\n      <td>0.0</td>\n      <td>0.0</td>\n    </tr>\n    <tr>\n      <th>CU+2</th>\n      <td>0.0</td>\n      <td>0.0</td>\n      <td>0.0</td>\n      <td>0.0</td>\n      <td>0.0</td>\n      <td>0.0</td>\n      <td>0.0</td>\n      <td>0.0</td>\n      <td>0.0</td>\n      <td>0.0</td>\n      <td>0.0</td>\n      <td>1.0</td>\n      <td>0.0</td>\n      <td>0.0</td>\n      <td>0.0</td>\n      <td>0.0</td>\n      <td>0.0</td>\n      <td>0.0</td>\n    </tr>\n    <tr>\n      <th>HEME_O</th>\n      <td>0.0</td>\n      <td>0.0</td>\n      <td>49.0</td>\n      <td>4.0</td>\n      <td>5.0</td>\n      <td>0.0</td>\n      <td>0.0</td>\n      <td>0.0</td>\n      <td>1.0</td>\n      <td>0.0</td>\n      <td>0.0</td>\n      <td>0.0</td>\n      <td>0.0</td>\n      <td>0.0</td>\n      <td>0.0</td>\n      <td>0.0</td>\n      <td>0.0</td>\n      <td>0.0</td>\n    </tr>\n    <tr>\n      <th>NAD</th>\n      <td>0.0</td>\n      <td>0.0</td>\n      <td>21.0</td>\n      <td>7.0</td>\n      <td>14.0</td>\n      <td>2.0</td>\n      <td>0.0</td>\n      <td>0.0</td>\n      <td>0.0</td>\n      <td>0.0</td>\n      <td>0.0</td>\n      <td>0.0</td>\n      <td>0.0</td>\n      <td>0.0</td>\n      <td>0.0</td>\n      <td>0.0</td>\n      <td>0.0</td>\n      <td>0.0</td>\n    </tr>\n    <tr>\n      <th>CPD-6</th>\n      <td>0.0</td>\n      <td>0.0</td>\n      <td>0.0</td>\n      <td>0.0</td>\n      <td>0.0</td>\n      <td>0.0</td>\n      <td>0.0</td>\n      <td>0.0</td>\n      <td>2.0</td>\n      <td>6.0</td>\n      <td>0.0</td>\n      <td>0.0</td>\n      <td>4.0</td>\n      <td>0.0</td>\n      <td>0.0</td>\n      <td>0.0</td>\n      <td>0.0</td>\n      <td>0.0</td>\n    </tr>\n    <tr>\n      <th>HCO3</th>\n      <td>0.0</td>\n      <td>0.0</td>\n      <td>1.0</td>\n      <td>0.0</td>\n      <td>3.0</td>\n      <td>0.0</td>\n      <td>0.0</td>\n      <td>0.0</td>\n      <td>0.0</td>\n      <td>0.0</td>\n      <td>0.0</td>\n      <td>0.0</td>\n      <td>0.0</td>\n      <td>0.0</td>\n      <td>0.0</td>\n      <td>0.0</td>\n      <td>0.0</td>\n      <td>0.0</td>\n    </tr>\n    <tr>\n      <th>CO+2</th>\n      <td>0.0</td>\n      <td>0.0</td>\n      <td>0.0</td>\n      <td>0.0</td>\n      <td>0.0</td>\n      <td>0.0</td>\n      <td>0.0</td>\n      <td>0.0</td>\n      <td>0.0</td>\n      <td>0.0</td>\n      <td>0.0</td>\n      <td>0.0</td>\n      <td>0.0</td>\n      <td>1.0</td>\n      <td>0.0</td>\n      <td>0.0</td>\n      <td>0.0</td>\n      <td>0.0</td>\n    </tr>\n    <tr>\n      <th>NADP</th>\n      <td>0.0</td>\n      <td>0.0</td>\n      <td>21.0</td>\n      <td>7.0</td>\n      <td>17.0</td>\n      <td>3.0</td>\n      <td>0.0</td>\n      <td>0.0</td>\n      <td>0.0</td>\n      <td>0.0</td>\n      <td>0.0</td>\n      <td>0.0</td>\n      <td>0.0</td>\n      <td>0.0</td>\n      <td>0.0</td>\n      <td>0.0</td>\n      <td>0.0</td>\n      <td>0.0</td>\n    </tr>\n    <tr>\n      <th>3FE-4S</th>\n      <td>0.0</td>\n      <td>0.0</td>\n      <td>0.0</td>\n      <td>0.0</td>\n      <td>0.0</td>\n      <td>0.0</td>\n      <td>0.0</td>\n      <td>0.0</td>\n      <td>3.0</td>\n      <td>4.0</td>\n      <td>0.0</td>\n      <td>0.0</td>\n      <td>0.0</td>\n      <td>0.0</td>\n      <td>0.0</td>\n      <td>0.0</td>\n      <td>0.0</td>\n      <td>0.0</td>\n    </tr>\n    <tr>\n      <th>LIPOIC-ACID</th>\n      <td>0.0</td>\n      <td>0.0</td>\n      <td>8.0</td>\n      <td>0.0</td>\n      <td>2.0</td>\n      <td>0.0</td>\n      <td>0.0</td>\n      <td>0.0</td>\n      <td>0.0</td>\n      <td>2.0</td>\n      <td>0.0</td>\n      <td>0.0</td>\n      <td>0.0</td>\n      <td>0.0</td>\n      <td>0.0</td>\n      <td>0.0</td>\n      <td>0.0</td>\n      <td>0.0</td>\n    </tr>\n    <tr>\n      <th>FE+3</th>\n      <td>0.0</td>\n      <td>0.0</td>\n      <td>0.0</td>\n      <td>0.0</td>\n      <td>0.0</td>\n      <td>0.0</td>\n      <td>0.0</td>\n      <td>0.0</td>\n      <td>1.0</td>\n      <td>0.0</td>\n      <td>0.0</td>\n      <td>0.0</td>\n      <td>0.0</td>\n      <td>0.0</td>\n      <td>0.0</td>\n      <td>0.0</td>\n      <td>0.0</td>\n      <td>0.0</td>\n    </tr>\n    <tr>\n      <th>CA+2</th>\n      <td>0.0</td>\n      <td>0.0</td>\n      <td>0.0</td>\n      <td>0.0</td>\n      <td>0.0</td>\n      <td>0.0</td>\n      <td>0.0</td>\n      <td>0.0</td>\n      <td>0.0</td>\n      <td>0.0</td>\n      <td>0.0</td>\n      <td>0.0</td>\n      <td>0.0</td>\n      <td>0.0</td>\n      <td>1.0</td>\n      <td>0.0</td>\n      <td>0.0</td>\n      <td>0.0</td>\n    </tr>\n    <tr>\n      <th>PROTOHEME</th>\n      <td>0.0</td>\n      <td>0.0</td>\n      <td>34.0</td>\n      <td>4.0</td>\n      <td>4.0</td>\n      <td>0.0</td>\n      <td>0.0</td>\n      <td>0.0</td>\n      <td>1.0</td>\n      <td>0.0</td>\n      <td>0.0</td>\n      <td>0.0</td>\n      <td>0.0</td>\n      <td>0.0</td>\n      <td>0.0</td>\n      <td>0.0</td>\n      <td>0.0</td>\n      <td>0.0</td>\n    </tr>\n    <tr>\n      <th>LYS</th>\n      <td>0.0</td>\n      <td>0.0</td>\n      <td>6.0</td>\n      <td>2.0</td>\n      <td>2.0</td>\n      <td>0.0</td>\n      <td>0.0</td>\n      <td>0.0</td>\n      <td>0.0</td>\n      <td>0.0</td>\n      <td>0.0</td>\n      <td>0.0</td>\n      <td>0.0</td>\n      <td>0.0</td>\n      <td>0.0</td>\n      <td>0.0</td>\n      <td>0.0</td>\n      <td>0.0</td>\n    </tr>\n    <tr>\n      <th>FMNH2</th>\n      <td>0.0</td>\n      <td>0.0</td>\n      <td>17.0</td>\n      <td>4.0</td>\n      <td>9.0</td>\n      <td>1.0</td>\n      <td>0.0</td>\n      <td>0.0</td>\n      <td>0.0</td>\n      <td>0.0</td>\n      <td>0.0</td>\n      <td>0.0</td>\n      <td>0.0</td>\n      <td>0.0</td>\n      <td>0.0</td>\n      <td>0.0</td>\n      <td>0.0</td>\n      <td>0.0</td>\n    </tr>\n    <tr>\n      <th>SIROHEME</th>\n      <td>0.0</td>\n      <td>0.0</td>\n      <td>42.0</td>\n      <td>4.0</td>\n      <td>16.0</td>\n      <td>0.0</td>\n      <td>0.0</td>\n      <td>0.0</td>\n      <td>1.0</td>\n      <td>0.0</td>\n      <td>0.0</td>\n      <td>0.0</td>\n      <td>0.0</td>\n      <td>0.0</td>\n      <td>0.0</td>\n      <td>0.0</td>\n      <td>0.0</td>\n      <td>0.0</td>\n    </tr>\n    <tr>\n      <th>FeS-Centers</th>\n      <td>0.0</td>\n      <td>0.0</td>\n      <td>0.0</td>\n      <td>0.0</td>\n      <td>0.0</td>\n      <td>0.0</td>\n      <td>0.0</td>\n      <td>0.0</td>\n      <td>4.0</td>\n      <td>4.0</td>\n      <td>0.0</td>\n      <td>0.0</td>\n      <td>0.0</td>\n      <td>0.0</td>\n      <td>0.0</td>\n      <td>0.0</td>\n      <td>0.0</td>\n      <td>0.0</td>\n    </tr>\n    <tr>\n      <th>AMMONIUM</th>\n      <td>0.0</td>\n      <td>0.0</td>\n      <td>0.0</td>\n      <td>1.0</td>\n      <td>0.0</td>\n      <td>0.0</td>\n      <td>0.0</td>\n      <td>0.0</td>\n      <td>0.0</td>\n      <td>0.0</td>\n      <td>0.0</td>\n      <td>0.0</td>\n      <td>0.0</td>\n      <td>0.0</td>\n      <td>0.0</td>\n      <td>4.0</td>\n      <td>0.0</td>\n      <td>0.0</td>\n    </tr>\n    <tr>\n      <th>CPD-23429</th>\n      <td>0.0</td>\n      <td>0.0</td>\n      <td>34.0</td>\n      <td>4.0</td>\n      <td>6.0</td>\n      <td>0.0</td>\n      <td>0.0</td>\n      <td>0.0</td>\n      <td>1.0</td>\n      <td>0.0</td>\n      <td>0.0</td>\n      <td>0.0</td>\n      <td>0.0</td>\n      <td>0.0</td>\n      <td>0.0</td>\n      <td>0.0</td>\n      <td>0.0</td>\n      <td>0.0</td>\n    </tr>\n    <tr>\n      <th>NADPH</th>\n      <td>0.0</td>\n      <td>0.0</td>\n      <td>21.0</td>\n      <td>7.0</td>\n      <td>17.0</td>\n      <td>3.0</td>\n      <td>0.0</td>\n      <td>0.0</td>\n      <td>0.0</td>\n      <td>0.0</td>\n      <td>0.0</td>\n      <td>0.0</td>\n      <td>0.0</td>\n      <td>0.0</td>\n      <td>0.0</td>\n      <td>0.0</td>\n      <td>0.0</td>\n      <td>0.0</td>\n    </tr>\n    <tr>\n      <th>CPD-15873</th>\n      <td>0.0</td>\n      <td>0.0</td>\n      <td>40.0</td>\n      <td>20.0</td>\n      <td>27.0</td>\n      <td>4.0</td>\n      <td>0.0</td>\n      <td>0.0</td>\n      <td>0.0</td>\n      <td>4.0</td>\n      <td>0.0</td>\n      <td>0.0</td>\n      <td>0.0</td>\n      <td>0.0</td>\n      <td>0.0</td>\n      <td>6.0</td>\n      <td>1.0</td>\n      <td>0.0</td>\n    </tr>\n    <tr>\n      <th>CPD-18260</th>\n      <td>0.0</td>\n      <td>0.0</td>\n      <td>22.0</td>\n      <td>4.0</td>\n      <td>9.0</td>\n      <td>1.0</td>\n      <td>0.0</td>\n      <td>0.0</td>\n      <td>0.0</td>\n      <td>0.0</td>\n      <td>0.0</td>\n      <td>0.0</td>\n      <td>0.0</td>\n      <td>0.0</td>\n      <td>0.0</td>\n      <td>0.0</td>\n      <td>0.0</td>\n      <td>0.0</td>\n    </tr>\n    <tr>\n      <th>CPD-8123</th>\n      <td>0.0</td>\n      <td>0.0</td>\n      <td>10.0</td>\n      <td>5.0</td>\n      <td>8.0</td>\n      <td>1.0</td>\n      <td>0.0</td>\n      <td>0.0</td>\n      <td>0.0</td>\n      <td>2.0</td>\n      <td>0.0</td>\n      <td>0.0</td>\n      <td>0.0</td>\n      <td>0.0</td>\n      <td>0.0</td>\n      <td>3.0</td>\n      <td>1.0</td>\n      <td>0.0</td>\n    </tr>\n    <tr>\n      <th>CPD0-1882</th>\n      <td>0.0</td>\n      <td>0.0</td>\n      <td>19.0</td>\n      <td>8.0</td>\n      <td>15.0</td>\n      <td>2.0</td>\n      <td>0.0</td>\n      <td>0.0</td>\n      <td>0.0</td>\n      <td>2.0</td>\n      <td>0.0</td>\n      <td>0.0</td>\n      <td>0.0</td>\n      <td>0.0</td>\n      <td>0.0</td>\n      <td>3.0</td>\n      <td>1.0</td>\n      <td>0.0</td>\n    </tr>\n    <tr>\n      <th>HEME_D</th>\n      <td>0.0</td>\n      <td>0.0</td>\n      <td>34.0</td>\n      <td>4.0</td>\n      <td>6.0</td>\n      <td>0.0</td>\n      <td>0.0</td>\n      <td>0.0</td>\n      <td>1.0</td>\n      <td>0.0</td>\n      <td>0.0</td>\n      <td>0.0</td>\n      <td>0.0</td>\n      <td>0.0</td>\n      <td>0.0</td>\n      <td>0.0</td>\n      <td>0.0</td>\n      <td>0.0</td>\n    </tr>\n    <tr>\n      <th>HEME_C</th>\n      <td>0.0</td>\n      <td>0.0</td>\n      <td>34.0</td>\n      <td>4.0</td>\n      <td>4.0</td>\n      <td>0.0</td>\n      <td>0.0</td>\n      <td>0.0</td>\n      <td>1.0</td>\n      <td>2.0</td>\n      <td>0.0</td>\n      <td>0.0</td>\n      <td>0.0</td>\n      <td>0.0</td>\n      <td>0.0</td>\n      <td>0.0</td>\n      <td>0.0</td>\n      <td>0.0</td>\n    </tr>\n    <tr>\n      <th>ADENOSYLCOBALAMIN</th>\n      <td>0.0</td>\n      <td>0.0</td>\n      <td>72.0</td>\n      <td>18.0</td>\n      <td>17.0</td>\n      <td>1.0</td>\n      <td>0.0</td>\n      <td>0.0</td>\n      <td>0.0</td>\n      <td>0.0</td>\n      <td>0.0</td>\n      <td>0.0</td>\n      <td>0.0</td>\n      <td>1.0</td>\n      <td>0.0</td>\n      <td>0.0</td>\n      <td>0.0</td>\n      <td>0.0</td>\n    </tr>\n    <tr>\n      <th>TOPAQUINONE</th>\n      <td>0.0</td>\n      <td>0.0</td>\n      <td>9.0</td>\n      <td>1.0</td>\n      <td>4.0</td>\n      <td>0.0</td>\n      <td>0.0</td>\n      <td>0.0</td>\n      <td>0.0</td>\n      <td>0.0</td>\n      <td>0.0</td>\n      <td>0.0</td>\n      <td>0.0</td>\n      <td>0.0</td>\n      <td>0.0</td>\n      <td>0.0</td>\n      <td>0.0</td>\n      <td>2.0</td>\n    </tr>\n    <tr>\n      <th>CPD0-2654</th>\n      <td>0.0</td>\n      <td>0.0</td>\n      <td>3.0</td>\n      <td>0.0</td>\n      <td>2.0</td>\n      <td>0.0</td>\n      <td>0.0</td>\n      <td>0.0</td>\n      <td>0.0</td>\n      <td>0.0</td>\n      <td>0.0</td>\n      <td>0.0</td>\n      <td>0.0</td>\n      <td>0.0</td>\n      <td>0.0</td>\n      <td>0.0</td>\n      <td>0.0</td>\n      <td>1.0</td>\n    </tr>\n    <tr>\n      <th>CPD-24862</th>\n      <td>0.0</td>\n      <td>0.0</td>\n      <td>3.0</td>\n      <td>2.0</td>\n      <td>1.0</td>\n      <td>0.0</td>\n      <td>0.0</td>\n      <td>0.0</td>\n      <td>1.0</td>\n      <td>4.0</td>\n      <td>1.0</td>\n      <td>0.0</td>\n      <td>0.0</td>\n      <td>0.0</td>\n      <td>0.0</td>\n      <td>0.0</td>\n      <td>0.0</td>\n      <td>4.0</td>\n    </tr>\n    <tr>\n      <th>CPD-17649</th>\n      <td>0.0</td>\n      <td>0.0</td>\n      <td>0.0</td>\n      <td>0.0</td>\n      <td>0.0</td>\n      <td>0.0</td>\n      <td>0.0</td>\n      <td>0.0</td>\n      <td>4.0</td>\n      <td>4.0</td>\n      <td>0.0</td>\n      <td>0.0</td>\n      <td>0.0</td>\n      <td>0.0</td>\n      <td>0.0</td>\n      <td>0.0</td>\n      <td>0.0</td>\n      <td>0.0</td>\n    </tr>\n    <tr>\n      <th>GTP</th>\n      <td>0.0</td>\n      <td>0.0</td>\n      <td>10.0</td>\n      <td>5.0</td>\n      <td>14.0</td>\n      <td>3.0</td>\n      <td>0.0</td>\n      <td>0.0</td>\n      <td>0.0</td>\n      <td>0.0</td>\n      <td>0.0</td>\n      <td>0.0</td>\n      <td>0.0</td>\n      <td>0.0</td>\n      <td>0.0</td>\n      <td>0.0</td>\n      <td>0.0</td>\n      <td>0.0</td>\n    </tr>\n  </tbody>\n</table>\n</div>"
     },
     "execution_count": 219,
     "metadata": {},
     "output_type": "execute_result"
    }
   ],
   "source": [
    "element_matrix"
   ],
   "metadata": {
    "collapsed": false,
    "ExecuteTime": {
     "end_time": "2023-06-14T21:35:45.816464Z",
     "start_time": "2023-06-14T21:35:45.813292Z"
    }
   }
  },
  {
   "cell_type": "code",
   "execution_count": null,
   "outputs": [],
   "source": [],
   "metadata": {
    "collapsed": false
   }
  }
 ],
 "metadata": {
  "kernelspec": {
   "display_name": "Python 3",
   "language": "python",
   "name": "python3"
  },
  "language_info": {
   "codemirror_mode": {
    "name": "ipython",
    "version": 2
   },
   "file_extension": ".py",
   "mimetype": "text/x-python",
   "name": "python",
   "nbconvert_exporter": "python",
   "pygments_lexer": "ipython2",
   "version": "2.7.6"
  }
 },
 "nbformat": 4,
 "nbformat_minor": 0
}
