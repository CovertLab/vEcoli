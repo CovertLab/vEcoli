{
 "cells": [
  {
   "cell_type": "code",
   "execution_count": 54,
   "metadata": {
    "collapsed": true,
    "ExecuteTime": {
     "end_time": "2023-06-14T00:51:20.160597Z",
     "start_time": "2023-06-14T00:51:20.152508Z"
    }
   },
   "outputs": [],
   "source": [
    "import numpy as np\n",
    "\n",
    "import seaborn as sns\n",
    "import pandas as pd\n",
    "import os\n",
    "import pprint\n",
    "import ast\n",
    "import re\n",
    "pp = pprint.PrettyPrinter(depth=6)\n",
    "\n",
    "os.chdir(os.path.expanduser('~/vivarium-ecoli'))\n",
    "\n",
    "import matplotlib.pyplot as plt\n",
    "import dill\n",
    "import requests\n",
    "import xmltodict"
   ]
  },
  {
   "cell_type": "code",
   "execution_count": 2,
   "outputs": [],
   "source": [
    "complexation_rxn_df = pd.read_csv('reconstruction/ecoli/flat/complexation_reactions.tsv', sep='\\t')\n",
    "stoich_series = complexation_rxn_df.loc[:,['id', 'stoichiometry']].dropna().reset_index(drop=True)\n",
    "\n",
    "stoich_list = []\n",
    "for i, stoich in enumerate(stoich_series.loc[:, 'stoichiometry']):\n",
    "\n",
    "    stoich = stoich.replace('null', '-1')\n",
    "\n",
    "    stoich = ast.literal_eval(stoich)\n",
    "    for k,v in stoich.items():\n",
    "        stoich_list.append([k, v, stoich_series.loc[i, 'id'], None, None])"
   ],
   "metadata": {
    "collapsed": false,
    "ExecuteTime": {
     "end_time": "2023-06-14T00:27:24.284340Z",
     "start_time": "2023-06-14T00:27:24.255231Z"
    }
   }
  },
  {
   "cell_type": "code",
   "execution_count": 3,
   "outputs": [
    {
     "data": {
      "text/plain": "                               complex  stoichiometry  \\\n0                                1-PFK              1   \n1                2OXOGLUTARATEDEH-CPLX              1   \n2          3-ISOPROPYLMALDEHYDROG-CPLX              1   \n3              3-ISOPROPYLMALISOM-CPLX              1   \n4     3-METHYL-2-OXOBUT-OHCH3XFER-CPLX              1   \n...                                ...            ...   \n1096                        CPLX0-8053              1   \n1097                        CPLX0-8253              1   \n1098                          SRP-CPLX              1   \n1099                     CPLX0-7796APO              1   \n1100                         ARCB-CPLX              1   \n\n                                  reaction enzyme-reaction cofactors  \n0                                1-PFK_RXN            None      None  \n1                2OXOGLUTARATEDEH-CPLX_RXN            None      None  \n2          3-ISOPROPYLMALDEHYDROG-CPLX_RXN            None      None  \n3              3-ISOPROPYLMALISOM-CPLX_RXN            None      None  \n4     3-METHYL-2-OXOBUT-OHCH3XFER-CPLX_RXN            None      None  \n...                                    ...             ...       ...  \n1096                        CPLX0-8053_RXN            None      None  \n1097                        CPLX0-8253_RXN            None      None  \n1098                          SRP-CPLX_RXN            None      None  \n1099                     CPLX0-7796APO_RXN            None      None  \n1100                         ARCB-CPLX_RXN            None      None  \n\n[1101 rows x 5 columns]",
      "text/html": "<div>\n<style scoped>\n    .dataframe tbody tr th:only-of-type {\n        vertical-align: middle;\n    }\n\n    .dataframe tbody tr th {\n        vertical-align: top;\n    }\n\n    .dataframe thead th {\n        text-align: right;\n    }\n</style>\n<table border=\"1\" class=\"dataframe\">\n  <thead>\n    <tr style=\"text-align: right;\">\n      <th></th>\n      <th>complex</th>\n      <th>stoichiometry</th>\n      <th>reaction</th>\n      <th>enzyme-reaction</th>\n      <th>cofactors</th>\n    </tr>\n  </thead>\n  <tbody>\n    <tr>\n      <th>0</th>\n      <td>1-PFK</td>\n      <td>1</td>\n      <td>1-PFK_RXN</td>\n      <td>None</td>\n      <td>None</td>\n    </tr>\n    <tr>\n      <th>1</th>\n      <td>2OXOGLUTARATEDEH-CPLX</td>\n      <td>1</td>\n      <td>2OXOGLUTARATEDEH-CPLX_RXN</td>\n      <td>None</td>\n      <td>None</td>\n    </tr>\n    <tr>\n      <th>2</th>\n      <td>3-ISOPROPYLMALDEHYDROG-CPLX</td>\n      <td>1</td>\n      <td>3-ISOPROPYLMALDEHYDROG-CPLX_RXN</td>\n      <td>None</td>\n      <td>None</td>\n    </tr>\n    <tr>\n      <th>3</th>\n      <td>3-ISOPROPYLMALISOM-CPLX</td>\n      <td>1</td>\n      <td>3-ISOPROPYLMALISOM-CPLX_RXN</td>\n      <td>None</td>\n      <td>None</td>\n    </tr>\n    <tr>\n      <th>4</th>\n      <td>3-METHYL-2-OXOBUT-OHCH3XFER-CPLX</td>\n      <td>1</td>\n      <td>3-METHYL-2-OXOBUT-OHCH3XFER-CPLX_RXN</td>\n      <td>None</td>\n      <td>None</td>\n    </tr>\n    <tr>\n      <th>...</th>\n      <td>...</td>\n      <td>...</td>\n      <td>...</td>\n      <td>...</td>\n      <td>...</td>\n    </tr>\n    <tr>\n      <th>1096</th>\n      <td>CPLX0-8053</td>\n      <td>1</td>\n      <td>CPLX0-8053_RXN</td>\n      <td>None</td>\n      <td>None</td>\n    </tr>\n    <tr>\n      <th>1097</th>\n      <td>CPLX0-8253</td>\n      <td>1</td>\n      <td>CPLX0-8253_RXN</td>\n      <td>None</td>\n      <td>None</td>\n    </tr>\n    <tr>\n      <th>1098</th>\n      <td>SRP-CPLX</td>\n      <td>1</td>\n      <td>SRP-CPLX_RXN</td>\n      <td>None</td>\n      <td>None</td>\n    </tr>\n    <tr>\n      <th>1099</th>\n      <td>CPLX0-7796APO</td>\n      <td>1</td>\n      <td>CPLX0-7796APO_RXN</td>\n      <td>None</td>\n      <td>None</td>\n    </tr>\n    <tr>\n      <th>1100</th>\n      <td>ARCB-CPLX</td>\n      <td>1</td>\n      <td>ARCB-CPLX_RXN</td>\n      <td>None</td>\n      <td>None</td>\n    </tr>\n  </tbody>\n</table>\n<p>1101 rows × 5 columns</p>\n</div>"
     },
     "execution_count": 3,
     "metadata": {},
     "output_type": "execute_result"
    }
   ],
   "source": [
    "pre_complex_df = pd.DataFrame(stoich_list, columns=['complex', 'stoichiometry', 'reaction', 'enzyme-reaction', 'cofactors'])\n",
    "pre_complex_df = pre_complex_df[pre_complex_df['stoichiometry'] > 0].reset_index(drop=True)\n",
    "pre_complex_df"
   ],
   "metadata": {
    "collapsed": false,
    "ExecuteTime": {
     "end_time": "2023-06-14T00:27:24.393261Z",
     "start_time": "2023-06-14T00:27:24.384037Z"
    }
   }
  },
  {
   "cell_type": "markdown",
   "source": [
    "## Connect to EcoCyc to go from Complex -> Cofactor + Metal sites"
   ],
   "metadata": {
    "collapsed": false
   }
  },
  {
   "cell_type": "code",
   "execution_count": 4,
   "outputs": [
    {
     "data": {
      "text/plain": "<Response [200]>"
     },
     "execution_count": 4,
     "metadata": {},
     "output_type": "execute_result"
    }
   ],
   "source": [
    "s = requests.Session() # create session\n",
    "# Post login credentials to session:\n",
    "s.post('https://websvc.biocyc.org/credentials/login/', data={'email':'cellulararchitect@protonmail.com', 'password':'Cellman0451'})"
   ],
   "metadata": {
    "collapsed": false,
    "ExecuteTime": {
     "end_time": "2023-06-14T00:27:24.947856Z",
     "start_time": "2023-06-14T00:27:24.702149Z"
    }
   }
  },
  {
   "cell_type": "code",
   "execution_count": 5,
   "outputs": [
    {
     "name": "stdout",
     "output_type": "stream",
     "text": [
      "CPLX0-2423 404\n",
      "CPLX0-3976 404\n",
      "RECFOR-CPLX 404\n",
      "CPLX0-7796APO 404\n"
     ]
    }
   ],
   "source": [
    "for i in range(len(pre_complex_df.index)): #\n",
    "\n",
    "    complex = pre_complex_df.loc[i, 'complex']\n",
    "\n",
    "    req_str = f'https://websvc.biocyc.org/getxml?id=ECOLI:{complex}&detail=low'\n",
    "\n",
    "    r = s.get(req_str)\n",
    "    if r.status_code != 200:\n",
    "        print(complex, r.status_code)\n",
    "        continue\n",
    "\n",
    "    o = xmltodict.parse(r.content)['ptools-xml']['Protein']\n",
    "\n",
    "    if 'catalyzes' not in o:\n",
    "        continue\n",
    "    else:\n",
    "        o = o['catalyzes']['Enzymatic-Reaction']\n",
    "\n",
    "    if type(o) is dict:\n",
    "        o = [o]\n",
    "\n",
    "    for enzrxn in o:\n",
    "        enz_id = enzrxn['@frameid']\n",
    "\n",
    "        enz_req_str = f'https://websvc.biocyc.org/getxml?id=ECOLI:{enz_id}&detail=high'\n",
    "\n",
    "        re = s.get(enz_req_str)\n",
    "        oe = xmltodict.parse(re.content)['ptools-xml']['Enzymatic-Reaction']\n",
    "\n",
    "        pre_complex_df.at[i, 'enzyme-reaction'] = enz_id\n",
    "\n",
    "        if \"cofactor\" in oe:\n",
    "            # print(enz_id)\n",
    "            oe = oe['cofactor']\n",
    "\n",
    "            if type(oe) is dict:\n",
    "                oe = [oe]\n",
    "\n",
    "            cofactor_list = []\n",
    "            for cofactor in oe:\n",
    "                cof = cofactor['Compound']['@frameid']\n",
    "                cofactor_list.append(cof)\n",
    "                # print('\\t' + cof)\n",
    "\n",
    "            pre_complex_df.at[i, 'cofactors'] = cofactor_list\n",
    "\n"
   ],
   "metadata": {
    "collapsed": false,
    "ExecuteTime": {
     "end_time": "2023-06-14T00:30:16.728966Z",
     "start_time": "2023-06-14T00:27:24.951037Z"
    }
   }
  },
  {
   "cell_type": "code",
   "execution_count": 10,
   "outputs": [
    {
     "data": {
      "text/plain": "                               complex  stoichiometry  \\\n0                                1-PFK              1   \n1                2OXOGLUTARATEDEH-CPLX              1   \n2          3-ISOPROPYLMALDEHYDROG-CPLX              1   \n3              3-ISOPROPYLMALISOM-CPLX              1   \n4     3-METHYL-2-OXOBUT-OHCH3XFER-CPLX              1   \n...                                ...            ...   \n1096                        CPLX0-8053              1   \n1097                        CPLX0-8253              1   \n1098                          SRP-CPLX              1   \n1099                     CPLX0-7796APO              1   \n1100                         ARCB-CPLX              1   \n\n                                  reaction  \\\n0                                1-PFK_RXN   \n1                2OXOGLUTARATEDEH-CPLX_RXN   \n2          3-ISOPROPYLMALDEHYDROG-CPLX_RXN   \n3              3-ISOPROPYLMALISOM-CPLX_RXN   \n4     3-METHYL-2-OXOBUT-OHCH3XFER-CPLX_RXN   \n...                                    ...   \n1096                        CPLX0-8053_RXN   \n1097                        CPLX0-8253_RXN   \n1098                          SRP-CPLX_RXN   \n1099                     CPLX0-7796APO_RXN   \n1100                         ARCB-CPLX_RXN   \n\n                         enzyme-reaction  \\\n0                  1PFRUCTPHOSPHN-ENZRXN   \n1                2OXOGLUTARATEDEH-ENZRXN   \n2          3-ISOPROPYLMALDEHYDROG-ENZRXN   \n3              3-ISOPROPYLMALISOM-ENZRXN   \n4     3-METHYL-2-OXOBUT-OHCH3XFER-ENZRXN   \n...                                  ...   \n1096                                None   \n1097                                None   \n1098                                None   \n1099                                None   \n1100                        ENZRXN0-8568   \n\n                                             cofactors  \n0                                               [MG+2]  \n1     [LIPOIC-ACID, THIAMINE-PYROPHOSPHATE, FAD, MG+2]  \n2                                         [MG+2, MN+2]  \n3                                              [CPD-7]  \n4                                               [MG+2]  \n...                                                ...  \n1096                                              None  \n1097                                              None  \n1098                                              None  \n1099                                              None  \n1100                                              None  \n\n[1101 rows x 5 columns]",
      "text/html": "<div>\n<style scoped>\n    .dataframe tbody tr th:only-of-type {\n        vertical-align: middle;\n    }\n\n    .dataframe tbody tr th {\n        vertical-align: top;\n    }\n\n    .dataframe thead th {\n        text-align: right;\n    }\n</style>\n<table border=\"1\" class=\"dataframe\">\n  <thead>\n    <tr style=\"text-align: right;\">\n      <th></th>\n      <th>complex</th>\n      <th>stoichiometry</th>\n      <th>reaction</th>\n      <th>enzyme-reaction</th>\n      <th>cofactors</th>\n    </tr>\n  </thead>\n  <tbody>\n    <tr>\n      <th>0</th>\n      <td>1-PFK</td>\n      <td>1</td>\n      <td>1-PFK_RXN</td>\n      <td>1PFRUCTPHOSPHN-ENZRXN</td>\n      <td>[MG+2]</td>\n    </tr>\n    <tr>\n      <th>1</th>\n      <td>2OXOGLUTARATEDEH-CPLX</td>\n      <td>1</td>\n      <td>2OXOGLUTARATEDEH-CPLX_RXN</td>\n      <td>2OXOGLUTARATEDEH-ENZRXN</td>\n      <td>[LIPOIC-ACID, THIAMINE-PYROPHOSPHATE, FAD, MG+2]</td>\n    </tr>\n    <tr>\n      <th>2</th>\n      <td>3-ISOPROPYLMALDEHYDROG-CPLX</td>\n      <td>1</td>\n      <td>3-ISOPROPYLMALDEHYDROG-CPLX_RXN</td>\n      <td>3-ISOPROPYLMALDEHYDROG-ENZRXN</td>\n      <td>[MG+2, MN+2]</td>\n    </tr>\n    <tr>\n      <th>3</th>\n      <td>3-ISOPROPYLMALISOM-CPLX</td>\n      <td>1</td>\n      <td>3-ISOPROPYLMALISOM-CPLX_RXN</td>\n      <td>3-ISOPROPYLMALISOM-ENZRXN</td>\n      <td>[CPD-7]</td>\n    </tr>\n    <tr>\n      <th>4</th>\n      <td>3-METHYL-2-OXOBUT-OHCH3XFER-CPLX</td>\n      <td>1</td>\n      <td>3-METHYL-2-OXOBUT-OHCH3XFER-CPLX_RXN</td>\n      <td>3-METHYL-2-OXOBUT-OHCH3XFER-ENZRXN</td>\n      <td>[MG+2]</td>\n    </tr>\n    <tr>\n      <th>...</th>\n      <td>...</td>\n      <td>...</td>\n      <td>...</td>\n      <td>...</td>\n      <td>...</td>\n    </tr>\n    <tr>\n      <th>1096</th>\n      <td>CPLX0-8053</td>\n      <td>1</td>\n      <td>CPLX0-8053_RXN</td>\n      <td>None</td>\n      <td>None</td>\n    </tr>\n    <tr>\n      <th>1097</th>\n      <td>CPLX0-8253</td>\n      <td>1</td>\n      <td>CPLX0-8253_RXN</td>\n      <td>None</td>\n      <td>None</td>\n    </tr>\n    <tr>\n      <th>1098</th>\n      <td>SRP-CPLX</td>\n      <td>1</td>\n      <td>SRP-CPLX_RXN</td>\n      <td>None</td>\n      <td>None</td>\n    </tr>\n    <tr>\n      <th>1099</th>\n      <td>CPLX0-7796APO</td>\n      <td>1</td>\n      <td>CPLX0-7796APO_RXN</td>\n      <td>None</td>\n      <td>None</td>\n    </tr>\n    <tr>\n      <th>1100</th>\n      <td>ARCB-CPLX</td>\n      <td>1</td>\n      <td>ARCB-CPLX_RXN</td>\n      <td>ENZRXN0-8568</td>\n      <td>None</td>\n    </tr>\n  </tbody>\n</table>\n<p>1101 rows × 5 columns</p>\n</div>"
     },
     "execution_count": 10,
     "metadata": {},
     "output_type": "execute_result"
    }
   ],
   "source": [
    "pre_complex_df"
   ],
   "metadata": {
    "collapsed": false,
    "ExecuteTime": {
     "end_time": "2023-06-14T00:33:26.092235Z",
     "start_time": "2023-06-14T00:33:26.089956Z"
    }
   }
  },
  {
   "cell_type": "code",
   "execution_count": 7,
   "outputs": [],
   "source": [
    "pre_complex_df.to_csv('cofactors.csv', index=False)"
   ],
   "metadata": {
    "collapsed": false,
    "ExecuteTime": {
     "end_time": "2023-06-14T00:30:16.753298Z",
     "start_time": "2023-06-14T00:30:16.746991Z"
    }
   }
  },
  {
   "cell_type": "markdown",
   "source": [],
   "metadata": {
    "collapsed": false
   }
  },
  {
   "cell_type": "markdown",
   "source": [
    "# Annotate table with counts"
   ],
   "metadata": {
    "collapsed": false
   }
  },
  {
   "cell_type": "code",
   "execution_count": 24,
   "outputs": [
    {
     "data": {
      "text/plain": "                               complex  stoichiometry  \\\n0                                1-PFK              1   \n1                2OXOGLUTARATEDEH-CPLX              1   \n2          3-ISOPROPYLMALDEHYDROG-CPLX              1   \n3              3-ISOPROPYLMALISOM-CPLX              1   \n4     3-METHYL-2-OXOBUT-OHCH3XFER-CPLX              1   \n...                                ...            ...   \n1096                        CPLX0-8053              1   \n1097                        CPLX0-8253              1   \n1098                          SRP-CPLX              1   \n1099                     CPLX0-7796APO              1   \n1100                         ARCB-CPLX              1   \n\n                                  reaction  \\\n0                                1-PFK_RXN   \n1                2OXOGLUTARATEDEH-CPLX_RXN   \n2          3-ISOPROPYLMALDEHYDROG-CPLX_RXN   \n3              3-ISOPROPYLMALISOM-CPLX_RXN   \n4     3-METHYL-2-OXOBUT-OHCH3XFER-CPLX_RXN   \n...                                    ...   \n1096                        CPLX0-8053_RXN   \n1097                        CPLX0-8253_RXN   \n1098                          SRP-CPLX_RXN   \n1099                     CPLX0-7796APO_RXN   \n1100                         ARCB-CPLX_RXN   \n\n                         enzyme-reaction  \\\n0                  1PFRUCTPHOSPHN-ENZRXN   \n1                2OXOGLUTARATEDEH-ENZRXN   \n2          3-ISOPROPYLMALDEHYDROG-ENZRXN   \n3              3-ISOPROPYLMALISOM-ENZRXN   \n4     3-METHYL-2-OXOBUT-OHCH3XFER-ENZRXN   \n...                                  ...   \n1096                                None   \n1097                                None   \n1098                                None   \n1099                                None   \n1100                        ENZRXN0-8568   \n\n                                             cofactors  counts  \n0                                               [MG+2]       0  \n1     [LIPOIC-ACID, THIAMINE-PYROPHOSPHATE, FAD, MG+2]       0  \n2                                         [MG+2, MN+2]       0  \n3                                              [CPD-7]       0  \n4                                               [MG+2]       0  \n...                                                ...     ...  \n1096                                              None       0  \n1097                                              None       0  \n1098                                              None       0  \n1099                                              None       0  \n1100                                              None       0  \n\n[1101 rows x 6 columns]",
      "text/html": "<div>\n<style scoped>\n    .dataframe tbody tr th:only-of-type {\n        vertical-align: middle;\n    }\n\n    .dataframe tbody tr th {\n        vertical-align: top;\n    }\n\n    .dataframe thead th {\n        text-align: right;\n    }\n</style>\n<table border=\"1\" class=\"dataframe\">\n  <thead>\n    <tr style=\"text-align: right;\">\n      <th></th>\n      <th>complex</th>\n      <th>stoichiometry</th>\n      <th>reaction</th>\n      <th>enzyme-reaction</th>\n      <th>cofactors</th>\n      <th>counts</th>\n    </tr>\n  </thead>\n  <tbody>\n    <tr>\n      <th>0</th>\n      <td>1-PFK</td>\n      <td>1</td>\n      <td>1-PFK_RXN</td>\n      <td>1PFRUCTPHOSPHN-ENZRXN</td>\n      <td>[MG+2]</td>\n      <td>0</td>\n    </tr>\n    <tr>\n      <th>1</th>\n      <td>2OXOGLUTARATEDEH-CPLX</td>\n      <td>1</td>\n      <td>2OXOGLUTARATEDEH-CPLX_RXN</td>\n      <td>2OXOGLUTARATEDEH-ENZRXN</td>\n      <td>[LIPOIC-ACID, THIAMINE-PYROPHOSPHATE, FAD, MG+2]</td>\n      <td>0</td>\n    </tr>\n    <tr>\n      <th>2</th>\n      <td>3-ISOPROPYLMALDEHYDROG-CPLX</td>\n      <td>1</td>\n      <td>3-ISOPROPYLMALDEHYDROG-CPLX_RXN</td>\n      <td>3-ISOPROPYLMALDEHYDROG-ENZRXN</td>\n      <td>[MG+2, MN+2]</td>\n      <td>0</td>\n    </tr>\n    <tr>\n      <th>3</th>\n      <td>3-ISOPROPYLMALISOM-CPLX</td>\n      <td>1</td>\n      <td>3-ISOPROPYLMALISOM-CPLX_RXN</td>\n      <td>3-ISOPROPYLMALISOM-ENZRXN</td>\n      <td>[CPD-7]</td>\n      <td>0</td>\n    </tr>\n    <tr>\n      <th>4</th>\n      <td>3-METHYL-2-OXOBUT-OHCH3XFER-CPLX</td>\n      <td>1</td>\n      <td>3-METHYL-2-OXOBUT-OHCH3XFER-CPLX_RXN</td>\n      <td>3-METHYL-2-OXOBUT-OHCH3XFER-ENZRXN</td>\n      <td>[MG+2]</td>\n      <td>0</td>\n    </tr>\n    <tr>\n      <th>...</th>\n      <td>...</td>\n      <td>...</td>\n      <td>...</td>\n      <td>...</td>\n      <td>...</td>\n      <td>...</td>\n    </tr>\n    <tr>\n      <th>1096</th>\n      <td>CPLX0-8053</td>\n      <td>1</td>\n      <td>CPLX0-8053_RXN</td>\n      <td>None</td>\n      <td>None</td>\n      <td>0</td>\n    </tr>\n    <tr>\n      <th>1097</th>\n      <td>CPLX0-8253</td>\n      <td>1</td>\n      <td>CPLX0-8253_RXN</td>\n      <td>None</td>\n      <td>None</td>\n      <td>0</td>\n    </tr>\n    <tr>\n      <th>1098</th>\n      <td>SRP-CPLX</td>\n      <td>1</td>\n      <td>SRP-CPLX_RXN</td>\n      <td>None</td>\n      <td>None</td>\n      <td>0</td>\n    </tr>\n    <tr>\n      <th>1099</th>\n      <td>CPLX0-7796APO</td>\n      <td>1</td>\n      <td>CPLX0-7796APO_RXN</td>\n      <td>None</td>\n      <td>None</td>\n      <td>0</td>\n    </tr>\n    <tr>\n      <th>1100</th>\n      <td>ARCB-CPLX</td>\n      <td>1</td>\n      <td>ARCB-CPLX_RXN</td>\n      <td>ENZRXN0-8568</td>\n      <td>None</td>\n      <td>0</td>\n    </tr>\n  </tbody>\n</table>\n<p>1101 rows × 6 columns</p>\n</div>"
     },
     "execution_count": 24,
     "metadata": {},
     "output_type": "execute_result"
    }
   ],
   "source": [
    "complex_df = pd.read_csv('notebooks/fbagd/cofactors.csv', sep=',').fillna('None')\n",
    "complex_df.cofactors = complex_df.cofactors.apply(ast.literal_eval)\n",
    "complex_df['counts'] = 0\n",
    "\n",
    "complex_df"
   ],
   "metadata": {
    "collapsed": false,
    "ExecuteTime": {
     "end_time": "2023-06-14T00:36:28.339440Z",
     "start_time": "2023-06-14T00:36:28.320620Z"
    }
   }
  },
  {
   "cell_type": "code",
   "execution_count": 25,
   "outputs": [],
   "source": [
    "time = '50'\n",
    "date = '2023-06-13'\n",
    "experiment = 'fba-redux'\n",
    "entry = f'{experiment}_{time}_{date}'\n",
    "folder = f'out/fbagd/{entry}/'"
   ],
   "metadata": {
    "collapsed": false,
    "ExecuteTime": {
     "end_time": "2023-06-14T00:36:28.924948Z",
     "start_time": "2023-06-14T00:36:28.920224Z"
    }
   }
  },
  {
   "cell_type": "code",
   "execution_count": 26,
   "outputs": [],
   "source": [
    "output = np.load(folder + 'output.npy',allow_pickle='TRUE').item()\n",
    "# output = np.load(r\"out/geneRxnVerifData/output_glc.npy\", allow_pickle=True, encoding='ASCII').tolist()\n",
    "output = output['agents']['0']\n",
    "fba = output['listeners']['fba_results']\n",
    "mass = output['listeners']['mass']\n"
   ],
   "metadata": {
    "collapsed": false,
    "ExecuteTime": {
     "end_time": "2023-06-14T00:36:29.971934Z",
     "start_time": "2023-06-14T00:36:29.929670Z"
    }
   }
  },
  {
   "cell_type": "code",
   "execution_count": 27,
   "outputs": [],
   "source": [
    "f = open(folder + 'agent_steps.pkl', 'rb')\n",
    "agent = dill.load(f)\n",
    "f.close()"
   ],
   "metadata": {
    "collapsed": false,
    "ExecuteTime": {
     "end_time": "2023-06-14T00:36:32.079905Z",
     "start_time": "2023-06-14T00:36:30.429298Z"
    }
   }
  },
  {
   "cell_type": "code",
   "execution_count": 28,
   "outputs": [],
   "source": [
    "metabolism = agent['ecoli-metabolism-redux']\n",
    "stoichiometry = metabolism.stoichiometry\n",
    "bulk_ids = metabolism.bulk_ids"
   ],
   "metadata": {
    "collapsed": false,
    "ExecuteTime": {
     "end_time": "2023-06-14T00:36:33.092321Z",
     "start_time": "2023-06-14T00:36:33.087330Z"
    }
   }
  },
  {
   "cell_type": "code",
   "execution_count": 29,
   "outputs": [],
   "source": [
    "bulk = pd.DataFrame(output['bulk'], columns=bulk_ids)"
   ],
   "metadata": {
    "collapsed": false,
    "ExecuteTime": {
     "end_time": "2023-06-14T00:36:33.836789Z",
     "start_time": "2023-06-14T00:36:33.346590Z"
    }
   }
  },
  {
   "cell_type": "code",
   "execution_count": 31,
   "outputs": [
    {
     "data": {
      "text/plain": "                               complex  stoichiometry  \\\n0                                1-PFK              1   \n1                2OXOGLUTARATEDEH-CPLX              1   \n2          3-ISOPROPYLMALDEHYDROG-CPLX              1   \n3              3-ISOPROPYLMALISOM-CPLX              1   \n4     3-METHYL-2-OXOBUT-OHCH3XFER-CPLX              1   \n...                                ...            ...   \n1096                        CPLX0-8053              1   \n1097                        CPLX0-8253              1   \n1098                          SRP-CPLX              1   \n1099                     CPLX0-7796APO              1   \n1100                         ARCB-CPLX              1   \n\n                                  reaction  \\\n0                                1-PFK_RXN   \n1                2OXOGLUTARATEDEH-CPLX_RXN   \n2          3-ISOPROPYLMALDEHYDROG-CPLX_RXN   \n3              3-ISOPROPYLMALISOM-CPLX_RXN   \n4     3-METHYL-2-OXOBUT-OHCH3XFER-CPLX_RXN   \n...                                    ...   \n1096                        CPLX0-8053_RXN   \n1097                        CPLX0-8253_RXN   \n1098                          SRP-CPLX_RXN   \n1099                     CPLX0-7796APO_RXN   \n1100                         ARCB-CPLX_RXN   \n\n                         enzyme-reaction  \\\n0                  1PFRUCTPHOSPHN-ENZRXN   \n1                2OXOGLUTARATEDEH-ENZRXN   \n2          3-ISOPROPYLMALDEHYDROG-ENZRXN   \n3              3-ISOPROPYLMALISOM-ENZRXN   \n4     3-METHYL-2-OXOBUT-OHCH3XFER-ENZRXN   \n...                                  ...   \n1096                                None   \n1097                                None   \n1098                                None   \n1099                                None   \n1100                        ENZRXN0-8568   \n\n                                             cofactors  counts  \n0                                               [MG+2]       0  \n1     [LIPOIC-ACID, THIAMINE-PYROPHOSPHATE, FAD, MG+2]       0  \n2                                         [MG+2, MN+2]       0  \n3                                              [CPD-7]       0  \n4                                               [MG+2]       0  \n...                                                ...     ...  \n1096                                              None       0  \n1097                                              None       0  \n1098                                              None       0  \n1099                                              None       0  \n1100                                              None       0  \n\n[1101 rows x 6 columns]",
      "text/html": "<div>\n<style scoped>\n    .dataframe tbody tr th:only-of-type {\n        vertical-align: middle;\n    }\n\n    .dataframe tbody tr th {\n        vertical-align: top;\n    }\n\n    .dataframe thead th {\n        text-align: right;\n    }\n</style>\n<table border=\"1\" class=\"dataframe\">\n  <thead>\n    <tr style=\"text-align: right;\">\n      <th></th>\n      <th>complex</th>\n      <th>stoichiometry</th>\n      <th>reaction</th>\n      <th>enzyme-reaction</th>\n      <th>cofactors</th>\n      <th>counts</th>\n    </tr>\n  </thead>\n  <tbody>\n    <tr>\n      <th>0</th>\n      <td>1-PFK</td>\n      <td>1</td>\n      <td>1-PFK_RXN</td>\n      <td>1PFRUCTPHOSPHN-ENZRXN</td>\n      <td>[MG+2]</td>\n      <td>0</td>\n    </tr>\n    <tr>\n      <th>1</th>\n      <td>2OXOGLUTARATEDEH-CPLX</td>\n      <td>1</td>\n      <td>2OXOGLUTARATEDEH-CPLX_RXN</td>\n      <td>2OXOGLUTARATEDEH-ENZRXN</td>\n      <td>[LIPOIC-ACID, THIAMINE-PYROPHOSPHATE, FAD, MG+2]</td>\n      <td>0</td>\n    </tr>\n    <tr>\n      <th>2</th>\n      <td>3-ISOPROPYLMALDEHYDROG-CPLX</td>\n      <td>1</td>\n      <td>3-ISOPROPYLMALDEHYDROG-CPLX_RXN</td>\n      <td>3-ISOPROPYLMALDEHYDROG-ENZRXN</td>\n      <td>[MG+2, MN+2]</td>\n      <td>0</td>\n    </tr>\n    <tr>\n      <th>3</th>\n      <td>3-ISOPROPYLMALISOM-CPLX</td>\n      <td>1</td>\n      <td>3-ISOPROPYLMALISOM-CPLX_RXN</td>\n      <td>3-ISOPROPYLMALISOM-ENZRXN</td>\n      <td>[CPD-7]</td>\n      <td>0</td>\n    </tr>\n    <tr>\n      <th>4</th>\n      <td>3-METHYL-2-OXOBUT-OHCH3XFER-CPLX</td>\n      <td>1</td>\n      <td>3-METHYL-2-OXOBUT-OHCH3XFER-CPLX_RXN</td>\n      <td>3-METHYL-2-OXOBUT-OHCH3XFER-ENZRXN</td>\n      <td>[MG+2]</td>\n      <td>0</td>\n    </tr>\n    <tr>\n      <th>...</th>\n      <td>...</td>\n      <td>...</td>\n      <td>...</td>\n      <td>...</td>\n      <td>...</td>\n      <td>...</td>\n    </tr>\n    <tr>\n      <th>1096</th>\n      <td>CPLX0-8053</td>\n      <td>1</td>\n      <td>CPLX0-8053_RXN</td>\n      <td>None</td>\n      <td>None</td>\n      <td>0</td>\n    </tr>\n    <tr>\n      <th>1097</th>\n      <td>CPLX0-8253</td>\n      <td>1</td>\n      <td>CPLX0-8253_RXN</td>\n      <td>None</td>\n      <td>None</td>\n      <td>0</td>\n    </tr>\n    <tr>\n      <th>1098</th>\n      <td>SRP-CPLX</td>\n      <td>1</td>\n      <td>SRP-CPLX_RXN</td>\n      <td>None</td>\n      <td>None</td>\n      <td>0</td>\n    </tr>\n    <tr>\n      <th>1099</th>\n      <td>CPLX0-7796APO</td>\n      <td>1</td>\n      <td>CPLX0-7796APO_RXN</td>\n      <td>None</td>\n      <td>None</td>\n      <td>0</td>\n    </tr>\n    <tr>\n      <th>1100</th>\n      <td>ARCB-CPLX</td>\n      <td>1</td>\n      <td>ARCB-CPLX_RXN</td>\n      <td>ENZRXN0-8568</td>\n      <td>None</td>\n      <td>0</td>\n    </tr>\n  </tbody>\n</table>\n<p>1101 rows × 6 columns</p>\n</div>"
     },
     "execution_count": 31,
     "metadata": {},
     "output_type": "execute_result"
    }
   ],
   "source": [
    "complex_df"
   ],
   "metadata": {
    "collapsed": false,
    "ExecuteTime": {
     "end_time": "2023-06-14T00:36:36.678683Z",
     "start_time": "2023-06-14T00:36:36.675655Z"
    }
   }
  },
  {
   "cell_type": "code",
   "execution_count": 32,
   "outputs": [],
   "source": [
    "for complex_name in complex_df['complex']:\n",
    "    bulk_name = complex_name + '[c]'\n",
    "\n",
    "    if bulk_name in bulk_ids:\n",
    "        complex_df.loc[complex_df['complex'] == complex_name, 'counts'] = bulk.at[24, bulk_name]\n",
    "\n",
    "    elif bulk_name not in bulk_ids:\n",
    "        for cpd in list(bulk_ids):\n",
    "            if complex_name in cpd and len(cpd) < len(complex_name) + 4:\n",
    "                bulk_name = cpd\n",
    "                complex_df.loc[complex_df['complex'] == complex_name, 'counts'] = bulk.at[24, bulk_name]\n"
   ],
   "metadata": {
    "collapsed": false,
    "ExecuteTime": {
     "end_time": "2023-06-14T00:36:44.842544Z",
     "start_time": "2023-06-14T00:36:41.196542Z"
    }
   }
  },
  {
   "cell_type": "code",
   "execution_count": 33,
   "outputs": [
    {
     "data": {
      "text/plain": "             complex  stoichiometry             reaction   enzyme-reaction  \\\n709       CPLX0-8223              1       CPLX0-8223_RXN              None   \n390       CPLX0-7534              1       CPLX0-7534_RXN      ENZRXN0-8522   \n864     GAPDH-A-CPLX              1     GAPDH-A-CPLX_RXN    GAPDH-A-ENZRXN   \n487       CPLX0-7747              1       CPLX0-7747_RXN       ENZRXN0-252   \n917  ISOCITHASE-CPLX              1  ISOCITHASE-CPLX_RXN  ISOCITDEH-ENZRXN   \n..               ...            ...                  ...               ...   \n123        ATOA-CPLX              1        ATOA-CPLX_RXN              None   \n124        ATOD-CPLX              1        ATOD-CPLX_RXN              None   \n126    ATPASE-1-CPLX              1    ATPASE-1-CPLX_RXN    TRANS-ENZRXN-2   \n132          B2-CPLX              1          B2-CPLX_RXN              None   \n328       CPLX0-3922              1       CPLX0-3922_RXN              None   \n\n    cofactors  counts  \n709      None   36915  \n390      None   19181  \n864      None   13436  \n487      None   12667  \n917    [MN+2]   12315  \n..        ...     ...  \n123      None       0  \n124      None       0  \n126      None       0  \n132      None       0  \n328      None       0  \n\n[1101 rows x 6 columns]",
      "text/html": "<div>\n<style scoped>\n    .dataframe tbody tr th:only-of-type {\n        vertical-align: middle;\n    }\n\n    .dataframe tbody tr th {\n        vertical-align: top;\n    }\n\n    .dataframe thead th {\n        text-align: right;\n    }\n</style>\n<table border=\"1\" class=\"dataframe\">\n  <thead>\n    <tr style=\"text-align: right;\">\n      <th></th>\n      <th>complex</th>\n      <th>stoichiometry</th>\n      <th>reaction</th>\n      <th>enzyme-reaction</th>\n      <th>cofactors</th>\n      <th>counts</th>\n    </tr>\n  </thead>\n  <tbody>\n    <tr>\n      <th>709</th>\n      <td>CPLX0-8223</td>\n      <td>1</td>\n      <td>CPLX0-8223_RXN</td>\n      <td>None</td>\n      <td>None</td>\n      <td>36915</td>\n    </tr>\n    <tr>\n      <th>390</th>\n      <td>CPLX0-7534</td>\n      <td>1</td>\n      <td>CPLX0-7534_RXN</td>\n      <td>ENZRXN0-8522</td>\n      <td>None</td>\n      <td>19181</td>\n    </tr>\n    <tr>\n      <th>864</th>\n      <td>GAPDH-A-CPLX</td>\n      <td>1</td>\n      <td>GAPDH-A-CPLX_RXN</td>\n      <td>GAPDH-A-ENZRXN</td>\n      <td>None</td>\n      <td>13436</td>\n    </tr>\n    <tr>\n      <th>487</th>\n      <td>CPLX0-7747</td>\n      <td>1</td>\n      <td>CPLX0-7747_RXN</td>\n      <td>ENZRXN0-252</td>\n      <td>None</td>\n      <td>12667</td>\n    </tr>\n    <tr>\n      <th>917</th>\n      <td>ISOCITHASE-CPLX</td>\n      <td>1</td>\n      <td>ISOCITHASE-CPLX_RXN</td>\n      <td>ISOCITDEH-ENZRXN</td>\n      <td>[MN+2]</td>\n      <td>12315</td>\n    </tr>\n    <tr>\n      <th>...</th>\n      <td>...</td>\n      <td>...</td>\n      <td>...</td>\n      <td>...</td>\n      <td>...</td>\n      <td>...</td>\n    </tr>\n    <tr>\n      <th>123</th>\n      <td>ATOA-CPLX</td>\n      <td>1</td>\n      <td>ATOA-CPLX_RXN</td>\n      <td>None</td>\n      <td>None</td>\n      <td>0</td>\n    </tr>\n    <tr>\n      <th>124</th>\n      <td>ATOD-CPLX</td>\n      <td>1</td>\n      <td>ATOD-CPLX_RXN</td>\n      <td>None</td>\n      <td>None</td>\n      <td>0</td>\n    </tr>\n    <tr>\n      <th>126</th>\n      <td>ATPASE-1-CPLX</td>\n      <td>1</td>\n      <td>ATPASE-1-CPLX_RXN</td>\n      <td>TRANS-ENZRXN-2</td>\n      <td>None</td>\n      <td>0</td>\n    </tr>\n    <tr>\n      <th>132</th>\n      <td>B2-CPLX</td>\n      <td>1</td>\n      <td>B2-CPLX_RXN</td>\n      <td>None</td>\n      <td>None</td>\n      <td>0</td>\n    </tr>\n    <tr>\n      <th>328</th>\n      <td>CPLX0-3922</td>\n      <td>1</td>\n      <td>CPLX0-3922_RXN</td>\n      <td>None</td>\n      <td>None</td>\n      <td>0</td>\n    </tr>\n  </tbody>\n</table>\n<p>1101 rows × 6 columns</p>\n</div>"
     },
     "execution_count": 33,
     "metadata": {},
     "output_type": "execute_result"
    }
   ],
   "source": [
    "complex_df.sort_values(by='counts', ascending=False)"
   ],
   "metadata": {
    "collapsed": false,
    "ExecuteTime": {
     "end_time": "2023-06-14T00:36:44.849436Z",
     "start_time": "2023-06-14T00:36:44.843038Z"
    }
   }
  },
  {
   "cell_type": "code",
   "execution_count": 94,
   "outputs": [
    {
     "data": {
      "text/plain": "                        counts\ncofactors                     \nMG+2                     55738\nMN+2                     27211\nPYRIDOXAL_PHOSPHATE      24413\nZN+2                     12807\n23-DIPHOSPHOGLYCERATE    10058\nFAD                       8954\nK+                        5157\nCPD-7                     4556\nFE+2                      3256\nTHIAMINE-PYROPHOSPHATE    1868\nNI+2                      1375\nFMN                       1256\nHeme-b                    1025\nCU+2                       817\nHEME_O                     814\nNAD                        730\nCPD-6                      635\nHCO3                       426\nCO+2                       353\nNADP                       253\n3FE-4S                     212\nLIPOIC-ACID                180\nFE+3                       161\nCA+2                       155\nPROTOHEME                  139\nLYS                        116\nFMNH2                      110\nSIROHEME                    98\nFeS-Centers                 76\nAMMONIUM                    52\nCPD-23429                   46\nNADPH                       40\nCPD-15873                   40\nCPD-18260                   23\nCPD-8123                    17\nCPD0-1882                   15\nHEME_D                      13\nHEME_C                      13\nADENOSYLCOBALAMIN            9\nTOPAQUINONE                  3\nCPD0-2654                    0\nCPD-24862                    0\nCPD-17649                    0\nGTP                          0",
      "text/html": "<div>\n<style scoped>\n    .dataframe tbody tr th:only-of-type {\n        vertical-align: middle;\n    }\n\n    .dataframe tbody tr th {\n        vertical-align: top;\n    }\n\n    .dataframe thead th {\n        text-align: right;\n    }\n</style>\n<table border=\"1\" class=\"dataframe\">\n  <thead>\n    <tr style=\"text-align: right;\">\n      <th></th>\n      <th>counts</th>\n    </tr>\n    <tr>\n      <th>cofactors</th>\n      <th></th>\n    </tr>\n  </thead>\n  <tbody>\n    <tr>\n      <th>MG+2</th>\n      <td>55738</td>\n    </tr>\n    <tr>\n      <th>MN+2</th>\n      <td>27211</td>\n    </tr>\n    <tr>\n      <th>PYRIDOXAL_PHOSPHATE</th>\n      <td>24413</td>\n    </tr>\n    <tr>\n      <th>ZN+2</th>\n      <td>12807</td>\n    </tr>\n    <tr>\n      <th>23-DIPHOSPHOGLYCERATE</th>\n      <td>10058</td>\n    </tr>\n    <tr>\n      <th>FAD</th>\n      <td>8954</td>\n    </tr>\n    <tr>\n      <th>K+</th>\n      <td>5157</td>\n    </tr>\n    <tr>\n      <th>CPD-7</th>\n      <td>4556</td>\n    </tr>\n    <tr>\n      <th>FE+2</th>\n      <td>3256</td>\n    </tr>\n    <tr>\n      <th>THIAMINE-PYROPHOSPHATE</th>\n      <td>1868</td>\n    </tr>\n    <tr>\n      <th>NI+2</th>\n      <td>1375</td>\n    </tr>\n    <tr>\n      <th>FMN</th>\n      <td>1256</td>\n    </tr>\n    <tr>\n      <th>Heme-b</th>\n      <td>1025</td>\n    </tr>\n    <tr>\n      <th>CU+2</th>\n      <td>817</td>\n    </tr>\n    <tr>\n      <th>HEME_O</th>\n      <td>814</td>\n    </tr>\n    <tr>\n      <th>NAD</th>\n      <td>730</td>\n    </tr>\n    <tr>\n      <th>CPD-6</th>\n      <td>635</td>\n    </tr>\n    <tr>\n      <th>HCO3</th>\n      <td>426</td>\n    </tr>\n    <tr>\n      <th>CO+2</th>\n      <td>353</td>\n    </tr>\n    <tr>\n      <th>NADP</th>\n      <td>253</td>\n    </tr>\n    <tr>\n      <th>3FE-4S</th>\n      <td>212</td>\n    </tr>\n    <tr>\n      <th>LIPOIC-ACID</th>\n      <td>180</td>\n    </tr>\n    <tr>\n      <th>FE+3</th>\n      <td>161</td>\n    </tr>\n    <tr>\n      <th>CA+2</th>\n      <td>155</td>\n    </tr>\n    <tr>\n      <th>PROTOHEME</th>\n      <td>139</td>\n    </tr>\n    <tr>\n      <th>LYS</th>\n      <td>116</td>\n    </tr>\n    <tr>\n      <th>FMNH2</th>\n      <td>110</td>\n    </tr>\n    <tr>\n      <th>SIROHEME</th>\n      <td>98</td>\n    </tr>\n    <tr>\n      <th>FeS-Centers</th>\n      <td>76</td>\n    </tr>\n    <tr>\n      <th>AMMONIUM</th>\n      <td>52</td>\n    </tr>\n    <tr>\n      <th>CPD-23429</th>\n      <td>46</td>\n    </tr>\n    <tr>\n      <th>NADPH</th>\n      <td>40</td>\n    </tr>\n    <tr>\n      <th>CPD-15873</th>\n      <td>40</td>\n    </tr>\n    <tr>\n      <th>CPD-18260</th>\n      <td>23</td>\n    </tr>\n    <tr>\n      <th>CPD-8123</th>\n      <td>17</td>\n    </tr>\n    <tr>\n      <th>CPD0-1882</th>\n      <td>15</td>\n    </tr>\n    <tr>\n      <th>HEME_D</th>\n      <td>13</td>\n    </tr>\n    <tr>\n      <th>HEME_C</th>\n      <td>13</td>\n    </tr>\n    <tr>\n      <th>ADENOSYLCOBALAMIN</th>\n      <td>9</td>\n    </tr>\n    <tr>\n      <th>TOPAQUINONE</th>\n      <td>3</td>\n    </tr>\n    <tr>\n      <th>CPD0-2654</th>\n      <td>0</td>\n    </tr>\n    <tr>\n      <th>CPD-24862</th>\n      <td>0</td>\n    </tr>\n    <tr>\n      <th>CPD-17649</th>\n      <td>0</td>\n    </tr>\n    <tr>\n      <th>GTP</th>\n      <td>0</td>\n    </tr>\n  </tbody>\n</table>\n</div>"
     },
     "execution_count": 94,
     "metadata": {},
     "output_type": "execute_result"
    }
   ],
   "source": [
    "cofactor_df = complex_df[['cofactors', 'counts']].explode('cofactors').groupby('cofactors').sum().sort_values(by='counts', ascending=False)\n",
    "cofactor_df"
   ],
   "metadata": {
    "collapsed": false,
    "ExecuteTime": {
     "end_time": "2023-06-14T01:04:07.589519Z",
     "start_time": "2023-06-14T01:04:07.581678Z"
    }
   }
  },
  {
   "cell_type": "code",
   "execution_count": 95,
   "outputs": [
    {
     "data": {
      "text/plain": "                        counts molecular_composition\ncofactors                                           \nMG+2                     55738                     0\nMN+2                     27211                     0\nPYRIDOXAL_PHOSPHATE      24413                     0\nZN+2                     12807                     0\n23-DIPHOSPHOGLYCERATE    10058                     0\nFAD                       8954                     0\nK+                        5157                     0\nCPD-7                     4556                     0\nFE+2                      3256                     0\nTHIAMINE-PYROPHOSPHATE    1868                     0\nNI+2                      1375                     0\nFMN                       1256                     0\nHeme-b                    1025                     0\nCU+2                       817                     0\nHEME_O                     814                     0\nNAD                        730                     0\nCPD-6                      635                     0\nHCO3                       426                     0\nCO+2                       353                     0\nNADP                       253                     0\n3FE-4S                     212                     0\nLIPOIC-ACID                180                     0\nFE+3                       161                     0\nCA+2                       155                     0\nPROTOHEME                  139                     0\nLYS                        116                     0\nFMNH2                      110                     0\nSIROHEME                    98                     0\nCPD-7                       76                     0\nAMMONIUM                    52                     0\nCPD-23429                   46                     0\nNADPH                       40                     0\nCPD-15873                   40                     0\nCPD-18260                   23                     0\nCPD-8123                    17                     0\nCPD0-1882                   15                     0\nHEME_D                      13                     0\nHEME_C                      13                     0\nADENOSYLCOBALAMIN            9                     0\nTOPAQUINONE                  3                     0\nCPD0-2654                    0                     0\nCPD-24862                    0                     0\nCPD-17649                    0                     0\nGTP                          0                     0",
      "text/html": "<div>\n<style scoped>\n    .dataframe tbody tr th:only-of-type {\n        vertical-align: middle;\n    }\n\n    .dataframe tbody tr th {\n        vertical-align: top;\n    }\n\n    .dataframe thead th {\n        text-align: right;\n    }\n</style>\n<table border=\"1\" class=\"dataframe\">\n  <thead>\n    <tr style=\"text-align: right;\">\n      <th></th>\n      <th>counts</th>\n      <th>molecular_composition</th>\n    </tr>\n    <tr>\n      <th>cofactors</th>\n      <th></th>\n      <th></th>\n    </tr>\n  </thead>\n  <tbody>\n    <tr>\n      <th>MG+2</th>\n      <td>55738</td>\n      <td>0</td>\n    </tr>\n    <tr>\n      <th>MN+2</th>\n      <td>27211</td>\n      <td>0</td>\n    </tr>\n    <tr>\n      <th>PYRIDOXAL_PHOSPHATE</th>\n      <td>24413</td>\n      <td>0</td>\n    </tr>\n    <tr>\n      <th>ZN+2</th>\n      <td>12807</td>\n      <td>0</td>\n    </tr>\n    <tr>\n      <th>23-DIPHOSPHOGLYCERATE</th>\n      <td>10058</td>\n      <td>0</td>\n    </tr>\n    <tr>\n      <th>FAD</th>\n      <td>8954</td>\n      <td>0</td>\n    </tr>\n    <tr>\n      <th>K+</th>\n      <td>5157</td>\n      <td>0</td>\n    </tr>\n    <tr>\n      <th>CPD-7</th>\n      <td>4556</td>\n      <td>0</td>\n    </tr>\n    <tr>\n      <th>FE+2</th>\n      <td>3256</td>\n      <td>0</td>\n    </tr>\n    <tr>\n      <th>THIAMINE-PYROPHOSPHATE</th>\n      <td>1868</td>\n      <td>0</td>\n    </tr>\n    <tr>\n      <th>NI+2</th>\n      <td>1375</td>\n      <td>0</td>\n    </tr>\n    <tr>\n      <th>FMN</th>\n      <td>1256</td>\n      <td>0</td>\n    </tr>\n    <tr>\n      <th>Heme-b</th>\n      <td>1025</td>\n      <td>0</td>\n    </tr>\n    <tr>\n      <th>CU+2</th>\n      <td>817</td>\n      <td>0</td>\n    </tr>\n    <tr>\n      <th>HEME_O</th>\n      <td>814</td>\n      <td>0</td>\n    </tr>\n    <tr>\n      <th>NAD</th>\n      <td>730</td>\n      <td>0</td>\n    </tr>\n    <tr>\n      <th>CPD-6</th>\n      <td>635</td>\n      <td>0</td>\n    </tr>\n    <tr>\n      <th>HCO3</th>\n      <td>426</td>\n      <td>0</td>\n    </tr>\n    <tr>\n      <th>CO+2</th>\n      <td>353</td>\n      <td>0</td>\n    </tr>\n    <tr>\n      <th>NADP</th>\n      <td>253</td>\n      <td>0</td>\n    </tr>\n    <tr>\n      <th>3FE-4S</th>\n      <td>212</td>\n      <td>0</td>\n    </tr>\n    <tr>\n      <th>LIPOIC-ACID</th>\n      <td>180</td>\n      <td>0</td>\n    </tr>\n    <tr>\n      <th>FE+3</th>\n      <td>161</td>\n      <td>0</td>\n    </tr>\n    <tr>\n      <th>CA+2</th>\n      <td>155</td>\n      <td>0</td>\n    </tr>\n    <tr>\n      <th>PROTOHEME</th>\n      <td>139</td>\n      <td>0</td>\n    </tr>\n    <tr>\n      <th>LYS</th>\n      <td>116</td>\n      <td>0</td>\n    </tr>\n    <tr>\n      <th>FMNH2</th>\n      <td>110</td>\n      <td>0</td>\n    </tr>\n    <tr>\n      <th>SIROHEME</th>\n      <td>98</td>\n      <td>0</td>\n    </tr>\n    <tr>\n      <th>CPD-7</th>\n      <td>76</td>\n      <td>0</td>\n    </tr>\n    <tr>\n      <th>AMMONIUM</th>\n      <td>52</td>\n      <td>0</td>\n    </tr>\n    <tr>\n      <th>CPD-23429</th>\n      <td>46</td>\n      <td>0</td>\n    </tr>\n    <tr>\n      <th>NADPH</th>\n      <td>40</td>\n      <td>0</td>\n    </tr>\n    <tr>\n      <th>CPD-15873</th>\n      <td>40</td>\n      <td>0</td>\n    </tr>\n    <tr>\n      <th>CPD-18260</th>\n      <td>23</td>\n      <td>0</td>\n    </tr>\n    <tr>\n      <th>CPD-8123</th>\n      <td>17</td>\n      <td>0</td>\n    </tr>\n    <tr>\n      <th>CPD0-1882</th>\n      <td>15</td>\n      <td>0</td>\n    </tr>\n    <tr>\n      <th>HEME_D</th>\n      <td>13</td>\n      <td>0</td>\n    </tr>\n    <tr>\n      <th>HEME_C</th>\n      <td>13</td>\n      <td>0</td>\n    </tr>\n    <tr>\n      <th>ADENOSYLCOBALAMIN</th>\n      <td>9</td>\n      <td>0</td>\n    </tr>\n    <tr>\n      <th>TOPAQUINONE</th>\n      <td>3</td>\n      <td>0</td>\n    </tr>\n    <tr>\n      <th>CPD0-2654</th>\n      <td>0</td>\n      <td>0</td>\n    </tr>\n    <tr>\n      <th>CPD-24862</th>\n      <td>0</td>\n      <td>0</td>\n    </tr>\n    <tr>\n      <th>CPD-17649</th>\n      <td>0</td>\n      <td>0</td>\n    </tr>\n    <tr>\n      <th>GTP</th>\n      <td>0</td>\n      <td>0</td>\n    </tr>\n  </tbody>\n</table>\n</div>"
     },
     "execution_count": 95,
     "metadata": {},
     "output_type": "execute_result"
    }
   ],
   "source": [
    "# change name of index value FeS-Centers to CPD-7\n",
    "\n",
    "cofactor_df['molecular_composition'] = 0\n",
    "cofactor_df['molecular_composition'] = cofactor_df['molecular_composition'].astype(object)\n",
    "\n",
    "cofactor_df"
   ],
   "metadata": {
    "collapsed": false,
    "ExecuteTime": {
     "end_time": "2023-06-14T01:04:08.247670Z",
     "start_time": "2023-06-14T01:04:08.243074Z"
    }
   }
  },
  {
   "cell_type": "code",
   "execution_count": 96,
   "outputs": [
    {
     "name": "stdout",
     "output_type": "stream",
     "text": [
      "MG+2\n"
     ]
    },
    {
     "ename": "ValueError",
     "evalue": "Incompatible indexer with Series",
     "output_type": "error",
     "traceback": [
      "\u001B[0;31m---------------------------------------------------------------------------\u001B[0m",
      "\u001B[0;31mValueError\u001B[0m                                Traceback (most recent call last)",
      "\u001B[0;32m/var/folders/dx/0239zgvj0tgf46b5h8l7v_fc0000gn/T/ipykernel_85561/3444974446.py\u001B[0m in \u001B[0;36m<module>\u001B[0;34m\u001B[0m\n\u001B[1;32m     13\u001B[0m     \u001B[0mre_output\u001B[0m \u001B[0;34m=\u001B[0m \u001B[0;34m{\u001B[0m\u001B[0mi\u001B[0m\u001B[0;34m.\u001B[0m\u001B[0msplit\u001B[0m\u001B[0;34m(\u001B[0m\u001B[0;34m' '\u001B[0m\u001B[0;34m)\u001B[0m\u001B[0;34m[\u001B[0m\u001B[0;36m0\u001B[0m\u001B[0;34m]\u001B[0m\u001B[0;34m:\u001B[0m \u001B[0mint\u001B[0m\u001B[0;34m(\u001B[0m\u001B[0mi\u001B[0m\u001B[0;34m.\u001B[0m\u001B[0msplit\u001B[0m\u001B[0;34m(\u001B[0m\u001B[0;34m' '\u001B[0m\u001B[0;34m)\u001B[0m\u001B[0;34m[\u001B[0m\u001B[0;36m1\u001B[0m\u001B[0;34m]\u001B[0m\u001B[0;34m)\u001B[0m \u001B[0;32mfor\u001B[0m \u001B[0mi\u001B[0m \u001B[0;32min\u001B[0m \u001B[0mre_output\u001B[0m\u001B[0;34m}\u001B[0m\u001B[0;34m\u001B[0m\u001B[0;34m\u001B[0m\u001B[0m\n\u001B[1;32m     14\u001B[0m \u001B[0;34m\u001B[0m\u001B[0m\n\u001B[0;32m---> 15\u001B[0;31m     \u001B[0mcofactor_df\u001B[0m\u001B[0;34m.\u001B[0m\u001B[0mat\u001B[0m\u001B[0;34m[\u001B[0m\u001B[0mcofactor_name\u001B[0m\u001B[0;34m,\u001B[0m \u001B[0;34m'molecular_composition'\u001B[0m\u001B[0;34m]\u001B[0m \u001B[0;34m=\u001B[0m \u001B[0mre_output\u001B[0m\u001B[0;34m\u001B[0m\u001B[0;34m\u001B[0m\u001B[0m\n\u001B[0m",
      "\u001B[0;32m~/.pyenv/versions/3.9.9/envs/viv/lib/python3.9/site-packages/pandas/core/indexing.py\u001B[0m in \u001B[0;36m__setitem__\u001B[0;34m(self, key, value)\u001B[0m\n\u001B[1;32m   2281\u001B[0m                 \u001B[0;32mraise\u001B[0m \u001B[0mValueError\u001B[0m\u001B[0;34m(\u001B[0m\u001B[0;34m\"Invalid call for scalar access (setting)!\"\u001B[0m\u001B[0;34m)\u001B[0m\u001B[0;34m\u001B[0m\u001B[0;34m\u001B[0m\u001B[0m\n\u001B[1;32m   2282\u001B[0m \u001B[0;34m\u001B[0m\u001B[0m\n\u001B[0;32m-> 2283\u001B[0;31m             \u001B[0mself\u001B[0m\u001B[0;34m.\u001B[0m\u001B[0mobj\u001B[0m\u001B[0;34m.\u001B[0m\u001B[0mloc\u001B[0m\u001B[0;34m[\u001B[0m\u001B[0mkey\u001B[0m\u001B[0;34m]\u001B[0m \u001B[0;34m=\u001B[0m \u001B[0mvalue\u001B[0m\u001B[0;34m\u001B[0m\u001B[0;34m\u001B[0m\u001B[0m\n\u001B[0m\u001B[1;32m   2284\u001B[0m             \u001B[0;32mreturn\u001B[0m\u001B[0;34m\u001B[0m\u001B[0;34m\u001B[0m\u001B[0m\n\u001B[1;32m   2285\u001B[0m \u001B[0;34m\u001B[0m\u001B[0m\n",
      "\u001B[0;32m~/.pyenv/versions/3.9.9/envs/viv/lib/python3.9/site-packages/pandas/core/indexing.py\u001B[0m in \u001B[0;36m__setitem__\u001B[0;34m(self, key, value)\u001B[0m\n\u001B[1;32m    721\u001B[0m \u001B[0;34m\u001B[0m\u001B[0m\n\u001B[1;32m    722\u001B[0m         \u001B[0miloc\u001B[0m \u001B[0;34m=\u001B[0m \u001B[0mself\u001B[0m \u001B[0;32mif\u001B[0m \u001B[0mself\u001B[0m\u001B[0;34m.\u001B[0m\u001B[0mname\u001B[0m \u001B[0;34m==\u001B[0m \u001B[0;34m\"iloc\"\u001B[0m \u001B[0;32melse\u001B[0m \u001B[0mself\u001B[0m\u001B[0;34m.\u001B[0m\u001B[0mobj\u001B[0m\u001B[0;34m.\u001B[0m\u001B[0miloc\u001B[0m\u001B[0;34m\u001B[0m\u001B[0;34m\u001B[0m\u001B[0m\n\u001B[0;32m--> 723\u001B[0;31m         \u001B[0miloc\u001B[0m\u001B[0;34m.\u001B[0m\u001B[0m_setitem_with_indexer\u001B[0m\u001B[0;34m(\u001B[0m\u001B[0mindexer\u001B[0m\u001B[0;34m,\u001B[0m \u001B[0mvalue\u001B[0m\u001B[0;34m,\u001B[0m \u001B[0mself\u001B[0m\u001B[0;34m.\u001B[0m\u001B[0mname\u001B[0m\u001B[0;34m)\u001B[0m\u001B[0;34m\u001B[0m\u001B[0;34m\u001B[0m\u001B[0m\n\u001B[0m\u001B[1;32m    724\u001B[0m \u001B[0;34m\u001B[0m\u001B[0m\n\u001B[1;32m    725\u001B[0m     \u001B[0;32mdef\u001B[0m \u001B[0m_validate_key\u001B[0m\u001B[0;34m(\u001B[0m\u001B[0mself\u001B[0m\u001B[0;34m,\u001B[0m \u001B[0mkey\u001B[0m\u001B[0;34m,\u001B[0m \u001B[0maxis\u001B[0m\u001B[0;34m:\u001B[0m \u001B[0mint\u001B[0m\u001B[0;34m)\u001B[0m\u001B[0;34m:\u001B[0m\u001B[0;34m\u001B[0m\u001B[0;34m\u001B[0m\u001B[0m\n",
      "\u001B[0;32m~/.pyenv/versions/3.9.9/envs/viv/lib/python3.9/site-packages/pandas/core/indexing.py\u001B[0m in \u001B[0;36m_setitem_with_indexer\u001B[0;34m(self, indexer, value, name)\u001B[0m\n\u001B[1;32m   1728\u001B[0m         \u001B[0;32mif\u001B[0m \u001B[0mtake_split_path\u001B[0m\u001B[0;34m:\u001B[0m\u001B[0;34m\u001B[0m\u001B[0;34m\u001B[0m\u001B[0m\n\u001B[1;32m   1729\u001B[0m             \u001B[0;31m# We have to operate column-wise\u001B[0m\u001B[0;34m\u001B[0m\u001B[0;34m\u001B[0m\u001B[0m\n\u001B[0;32m-> 1730\u001B[0;31m             \u001B[0mself\u001B[0m\u001B[0;34m.\u001B[0m\u001B[0m_setitem_with_indexer_split_path\u001B[0m\u001B[0;34m(\u001B[0m\u001B[0mindexer\u001B[0m\u001B[0;34m,\u001B[0m \u001B[0mvalue\u001B[0m\u001B[0;34m,\u001B[0m \u001B[0mname\u001B[0m\u001B[0;34m)\u001B[0m\u001B[0;34m\u001B[0m\u001B[0;34m\u001B[0m\u001B[0m\n\u001B[0m\u001B[1;32m   1731\u001B[0m         \u001B[0;32melse\u001B[0m\u001B[0;34m:\u001B[0m\u001B[0;34m\u001B[0m\u001B[0;34m\u001B[0m\u001B[0m\n\u001B[1;32m   1732\u001B[0m             \u001B[0mself\u001B[0m\u001B[0;34m.\u001B[0m\u001B[0m_setitem_single_block\u001B[0m\u001B[0;34m(\u001B[0m\u001B[0mindexer\u001B[0m\u001B[0;34m,\u001B[0m \u001B[0mvalue\u001B[0m\u001B[0;34m,\u001B[0m \u001B[0mname\u001B[0m\u001B[0;34m)\u001B[0m\u001B[0;34m\u001B[0m\u001B[0;34m\u001B[0m\u001B[0m\n",
      "\u001B[0;32m~/.pyenv/versions/3.9.9/envs/viv/lib/python3.9/site-packages/pandas/core/indexing.py\u001B[0m in \u001B[0;36m_setitem_with_indexer_split_path\u001B[0;34m(self, indexer, value, name)\u001B[0m\n\u001B[1;32m   1749\u001B[0m             \u001B[0;32mfrom\u001B[0m \u001B[0mpandas\u001B[0m \u001B[0;32mimport\u001B[0m \u001B[0mSeries\u001B[0m\u001B[0;34m\u001B[0m\u001B[0;34m\u001B[0m\u001B[0m\n\u001B[1;32m   1750\u001B[0m \u001B[0;34m\u001B[0m\u001B[0m\n\u001B[0;32m-> 1751\u001B[0;31m             \u001B[0mvalue\u001B[0m \u001B[0;34m=\u001B[0m \u001B[0mself\u001B[0m\u001B[0;34m.\u001B[0m\u001B[0m_align_series\u001B[0m\u001B[0;34m(\u001B[0m\u001B[0mindexer\u001B[0m\u001B[0;34m,\u001B[0m \u001B[0mSeries\u001B[0m\u001B[0;34m(\u001B[0m\u001B[0mvalue\u001B[0m\u001B[0;34m)\u001B[0m\u001B[0;34m)\u001B[0m\u001B[0;34m\u001B[0m\u001B[0;34m\u001B[0m\u001B[0m\n\u001B[0m\u001B[1;32m   1752\u001B[0m \u001B[0;34m\u001B[0m\u001B[0m\n\u001B[1;32m   1753\u001B[0m         \u001B[0;31m# Ensure we have something we can iterate over\u001B[0m\u001B[0;34m\u001B[0m\u001B[0;34m\u001B[0m\u001B[0m\n",
      "\u001B[0;32m~/.pyenv/versions/3.9.9/envs/viv/lib/python3.9/site-packages/pandas/core/indexing.py\u001B[0m in \u001B[0;36m_align_series\u001B[0;34m(self, indexer, ser, multiindex_indexer)\u001B[0m\n\u001B[1;32m   2147\u001B[0m             \u001B[0;32mreturn\u001B[0m \u001B[0mser\u001B[0m\u001B[0;34m.\u001B[0m\u001B[0mreindex\u001B[0m\u001B[0;34m(\u001B[0m\u001B[0max\u001B[0m\u001B[0;34m)\u001B[0m\u001B[0;34m.\u001B[0m\u001B[0m_values\u001B[0m\u001B[0;34m\u001B[0m\u001B[0;34m\u001B[0m\u001B[0m\n\u001B[1;32m   2148\u001B[0m \u001B[0;34m\u001B[0m\u001B[0m\n\u001B[0;32m-> 2149\u001B[0;31m         \u001B[0;32mraise\u001B[0m \u001B[0mValueError\u001B[0m\u001B[0;34m(\u001B[0m\u001B[0;34m\"Incompatible indexer with Series\"\u001B[0m\u001B[0;34m)\u001B[0m\u001B[0;34m\u001B[0m\u001B[0;34m\u001B[0m\u001B[0m\n\u001B[0m\u001B[1;32m   2150\u001B[0m \u001B[0;34m\u001B[0m\u001B[0m\n\u001B[1;32m   2151\u001B[0m     \u001B[0;32mdef\u001B[0m \u001B[0m_align_frame\u001B[0m\u001B[0;34m(\u001B[0m\u001B[0mself\u001B[0m\u001B[0;34m,\u001B[0m \u001B[0mindexer\u001B[0m\u001B[0;34m,\u001B[0m \u001B[0mdf\u001B[0m\u001B[0;34m:\u001B[0m \u001B[0mDataFrame\u001B[0m\u001B[0;34m)\u001B[0m\u001B[0;34m:\u001B[0m\u001B[0;34m\u001B[0m\u001B[0;34m\u001B[0m\u001B[0m\n",
      "\u001B[0;31mValueError\u001B[0m: Incompatible indexer with Series"
     ]
    }
   ],
   "source": [
    "for cofactor_name in cofactor_df.index:\n",
    "    mol = cofactor_name\n",
    "    print(cofactor_name)\n",
    "    mol = mol.replace('+', '%2b')\n",
    "    mol_str = f'https://websvc.biocyc.org/getxml?id=ECOLI:{mol}&detail=low'\n",
    "\n",
    "    r = s.get(mol_str)\n",
    "    o = xmltodict.parse(r.content)['ptools-xml']['Compound']['cml']['molecule']['formula']['@concise']\n",
    "    #pp.pprint(o)\n",
    "\n",
    "    re_output = re.findall(r'[A-Z]+ \\d+', o)\n",
    "    # split on space, convert number to int then make dict\n",
    "    re_output = {i.split(' ')[0]: int(i.split(' ')[1]) for i in re_output}\n",
    "\n",
    "    cofactor_df.at[cofactor_name, 'molecular_composition'] = re_output"
   ],
   "metadata": {
    "collapsed": false,
    "ExecuteTime": {
     "end_time": "2023-06-14T01:04:09.511563Z",
     "start_time": "2023-06-14T01:04:09.449429Z"
    }
   }
  },
  {
   "cell_type": "code",
   "execution_count": null,
   "outputs": [],
   "source": [],
   "metadata": {
    "collapsed": false
   }
  }
 ],
 "metadata": {
  "kernelspec": {
   "display_name": "Python 3",
   "language": "python",
   "name": "python3"
  },
  "language_info": {
   "codemirror_mode": {
    "name": "ipython",
    "version": 2
   },
   "file_extension": ".py",
   "mimetype": "text/x-python",
   "name": "python",
   "nbconvert_exporter": "python",
   "pygments_lexer": "ipython2",
   "version": "2.7.6"
  }
 },
 "nbformat": 4,
 "nbformat_minor": 0
}
