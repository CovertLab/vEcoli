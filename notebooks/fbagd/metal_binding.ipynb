{
 "cells": [
  {
   "cell_type": "code",
   "execution_count": 54,
   "metadata": {
    "collapsed": true,
    "ExecuteTime": {
     "end_time": "2023-06-14T00:51:20.160597Z",
     "start_time": "2023-06-14T00:51:20.152508Z"
    }
   },
   "outputs": [],
   "source": [
    "import numpy as np\n",
    "\n",
    "import seaborn as sns\n",
    "import pandas as pd\n",
    "import os\n",
    "import pprint\n",
    "import ast\n",
    "import re\n",
    "pp = pprint.PrettyPrinter(depth=6)\n",
    "\n",
    "os.chdir(os.path.expanduser('~/vivarium-ecoli'))\n",
    "\n",
    "import matplotlib.pyplot as plt\n",
    "import dill\n",
    "import requests\n",
    "import xmltodict"
   ]
  },
  {
   "cell_type": "code",
   "execution_count": 2,
   "outputs": [],
   "source": [
    "complexation_rxn_df = pd.read_csv('reconstruction/ecoli/flat/complexation_reactions.tsv', sep='\\t')\n",
    "stoich_series = complexation_rxn_df.loc[:,['id', 'stoichiometry']].dropna().reset_index(drop=True)\n",
    "\n",
    "stoich_list = []\n",
    "for i, stoich in enumerate(stoich_series.loc[:, 'stoichiometry']):\n",
    "\n",
    "    stoich = stoich.replace('null', '-1')\n",
    "\n",
    "    stoich = ast.literal_eval(stoich)\n",
    "    for k,v in stoich.items():\n",
    "        stoich_list.append([k, v, stoich_series.loc[i, 'id'], None, None])"
   ],
   "metadata": {
    "collapsed": false,
    "ExecuteTime": {
     "end_time": "2023-06-14T00:27:24.284340Z",
     "start_time": "2023-06-14T00:27:24.255231Z"
    }
   }
  },
  {
   "cell_type": "code",
   "execution_count": 3,
   "outputs": [
    {
     "data": {
      "text/plain": "                               complex  stoichiometry  \\\n0                                1-PFK              1   \n1                2OXOGLUTARATEDEH-CPLX              1   \n2          3-ISOPROPYLMALDEHYDROG-CPLX              1   \n3              3-ISOPROPYLMALISOM-CPLX              1   \n4     3-METHYL-2-OXOBUT-OHCH3XFER-CPLX              1   \n...                                ...            ...   \n1096                        CPLX0-8053              1   \n1097                        CPLX0-8253              1   \n1098                          SRP-CPLX              1   \n1099                     CPLX0-7796APO              1   \n1100                         ARCB-CPLX              1   \n\n                                  reaction enzyme-reaction cofactors  \n0                                1-PFK_RXN            None      None  \n1                2OXOGLUTARATEDEH-CPLX_RXN            None      None  \n2          3-ISOPROPYLMALDEHYDROG-CPLX_RXN            None      None  \n3              3-ISOPROPYLMALISOM-CPLX_RXN            None      None  \n4     3-METHYL-2-OXOBUT-OHCH3XFER-CPLX_RXN            None      None  \n...                                    ...             ...       ...  \n1096                        CPLX0-8053_RXN            None      None  \n1097                        CPLX0-8253_RXN            None      None  \n1098                          SRP-CPLX_RXN            None      None  \n1099                     CPLX0-7796APO_RXN            None      None  \n1100                         ARCB-CPLX_RXN            None      None  \n\n[1101 rows x 5 columns]",
      "text/html": "<div>\n<style scoped>\n    .dataframe tbody tr th:only-of-type {\n        vertical-align: middle;\n    }\n\n    .dataframe tbody tr th {\n        vertical-align: top;\n    }\n\n    .dataframe thead th {\n        text-align: right;\n    }\n</style>\n<table border=\"1\" class=\"dataframe\">\n  <thead>\n    <tr style=\"text-align: right;\">\n      <th></th>\n      <th>complex</th>\n      <th>stoichiometry</th>\n      <th>reaction</th>\n      <th>enzyme-reaction</th>\n      <th>cofactors</th>\n    </tr>\n  </thead>\n  <tbody>\n    <tr>\n      <th>0</th>\n      <td>1-PFK</td>\n      <td>1</td>\n      <td>1-PFK_RXN</td>\n      <td>None</td>\n      <td>None</td>\n    </tr>\n    <tr>\n      <th>1</th>\n      <td>2OXOGLUTARATEDEH-CPLX</td>\n      <td>1</td>\n      <td>2OXOGLUTARATEDEH-CPLX_RXN</td>\n      <td>None</td>\n      <td>None</td>\n    </tr>\n    <tr>\n      <th>2</th>\n      <td>3-ISOPROPYLMALDEHYDROG-CPLX</td>\n      <td>1</td>\n      <td>3-ISOPROPYLMALDEHYDROG-CPLX_RXN</td>\n      <td>None</td>\n      <td>None</td>\n    </tr>\n    <tr>\n      <th>3</th>\n      <td>3-ISOPROPYLMALISOM-CPLX</td>\n      <td>1</td>\n      <td>3-ISOPROPYLMALISOM-CPLX_RXN</td>\n      <td>None</td>\n      <td>None</td>\n    </tr>\n    <tr>\n      <th>4</th>\n      <td>3-METHYL-2-OXOBUT-OHCH3XFER-CPLX</td>\n      <td>1</td>\n      <td>3-METHYL-2-OXOBUT-OHCH3XFER-CPLX_RXN</td>\n      <td>None</td>\n      <td>None</td>\n    </tr>\n    <tr>\n      <th>...</th>\n      <td>...</td>\n      <td>...</td>\n      <td>...</td>\n      <td>...</td>\n      <td>...</td>\n    </tr>\n    <tr>\n      <th>1096</th>\n      <td>CPLX0-8053</td>\n      <td>1</td>\n      <td>CPLX0-8053_RXN</td>\n      <td>None</td>\n      <td>None</td>\n    </tr>\n    <tr>\n      <th>1097</th>\n      <td>CPLX0-8253</td>\n      <td>1</td>\n      <td>CPLX0-8253_RXN</td>\n      <td>None</td>\n      <td>None</td>\n    </tr>\n    <tr>\n      <th>1098</th>\n      <td>SRP-CPLX</td>\n      <td>1</td>\n      <td>SRP-CPLX_RXN</td>\n      <td>None</td>\n      <td>None</td>\n    </tr>\n    <tr>\n      <th>1099</th>\n      <td>CPLX0-7796APO</td>\n      <td>1</td>\n      <td>CPLX0-7796APO_RXN</td>\n      <td>None</td>\n      <td>None</td>\n    </tr>\n    <tr>\n      <th>1100</th>\n      <td>ARCB-CPLX</td>\n      <td>1</td>\n      <td>ARCB-CPLX_RXN</td>\n      <td>None</td>\n      <td>None</td>\n    </tr>\n  </tbody>\n</table>\n<p>1101 rows × 5 columns</p>\n</div>"
     },
     "execution_count": 3,
     "metadata": {},
     "output_type": "execute_result"
    }
   ],
   "source": [
    "pre_complex_df = pd.DataFrame(stoich_list, columns=['complex', 'stoichiometry', 'reaction', 'enzyme-reaction', 'cofactors'])\n",
    "pre_complex_df = pre_complex_df[pre_complex_df['stoichiometry'] > 0].reset_index(drop=True)\n",
    "pre_complex_df"
   ],
   "metadata": {
    "collapsed": false,
    "ExecuteTime": {
     "end_time": "2023-06-14T00:27:24.393261Z",
     "start_time": "2023-06-14T00:27:24.384037Z"
    }
   }
  },
  {
   "cell_type": "markdown",
   "source": [
    "## Connect to EcoCyc to go from Complex -> Cofactor + Metal sites"
   ],
   "metadata": {
    "collapsed": false
   }
  },
  {
   "cell_type": "code",
   "execution_count": 4,
   "outputs": [
    {
     "data": {
      "text/plain": "<Response [200]>"
     },
     "execution_count": 4,
     "metadata": {},
     "output_type": "execute_result"
    }
   ],
   "source": [
    "s = requests.Session() # create session\n",
    "# Post login credentials to session:\n",
    "s.post('https://websvc.biocyc.org/credentials/login/', data={'email':'cellulararchitect@protonmail.com', 'password':'Cellman0451'})"
   ],
   "metadata": {
    "collapsed": false,
    "ExecuteTime": {
     "end_time": "2023-06-14T00:27:24.947856Z",
     "start_time": "2023-06-14T00:27:24.702149Z"
    }
   }
  },
  {
   "cell_type": "code",
   "execution_count": 5,
   "outputs": [
    {
     "name": "stdout",
     "output_type": "stream",
     "text": [
      "CPLX0-2423 404\n",
      "CPLX0-3976 404\n",
      "RECFOR-CPLX 404\n",
      "CPLX0-7796APO 404\n"
     ]
    }
   ],
   "source": [
    "for i in range(len(pre_complex_df.index)): #\n",
    "\n",
    "    complex = pre_complex_df.loc[i, 'complex']\n",
    "\n",
    "    req_str = f'https://websvc.biocyc.org/getxml?id=ECOLI:{complex}&detail=low'\n",
    "\n",
    "    r = s.get(req_str)\n",
    "    if r.status_code != 200:\n",
    "        print(complex, r.status_code)\n",
    "        continue\n",
    "\n",
    "    o = xmltodict.parse(r.content)['ptools-xml']['Protein']\n",
    "\n",
    "    if 'catalyzes' not in o:\n",
    "        continue\n",
    "    else:\n",
    "        o = o['catalyzes']['Enzymatic-Reaction']\n",
    "\n",
    "    if type(o) is dict:\n",
    "        o = [o]\n",
    "\n",
    "    for enzrxn in o:\n",
    "        enz_id = enzrxn['@frameid']\n",
    "\n",
    "        enz_req_str = f'https://websvc.biocyc.org/getxml?id=ECOLI:{enz_id}&detail=high'\n",
    "\n",
    "        re = s.get(enz_req_str)\n",
    "        oe = xmltodict.parse(re.content)['ptools-xml']['Enzymatic-Reaction']\n",
    "\n",
    "        pre_complex_df.at[i, 'enzyme-reaction'] = enz_id\n",
    "\n",
    "        if \"cofactor\" in oe:\n",
    "            # print(enz_id)\n",
    "            oe = oe['cofactor']\n",
    "\n",
    "            if type(oe) is dict:\n",
    "                oe = [oe]\n",
    "\n",
    "            cofactor_list = []\n",
    "            for cofactor in oe:\n",
    "                cof = cofactor['Compound']['@frameid']\n",
    "                cofactor_list.append(cof)\n",
    "                # print('\\t' + cof)\n",
    "\n",
    "            pre_complex_df.at[i, 'cofactors'] = cofactor_list\n",
    "\n"
   ],
   "metadata": {
    "collapsed": false,
    "ExecuteTime": {
     "end_time": "2023-06-14T00:30:16.728966Z",
     "start_time": "2023-06-14T00:27:24.951037Z"
    }
   }
  },
  {
   "cell_type": "code",
   "execution_count": 10,
   "outputs": [
    {
     "data": {
      "text/plain": "                               complex  stoichiometry  \\\n0                                1-PFK              1   \n1                2OXOGLUTARATEDEH-CPLX              1   \n2          3-ISOPROPYLMALDEHYDROG-CPLX              1   \n3              3-ISOPROPYLMALISOM-CPLX              1   \n4     3-METHYL-2-OXOBUT-OHCH3XFER-CPLX              1   \n...                                ...            ...   \n1096                        CPLX0-8053              1   \n1097                        CPLX0-8253              1   \n1098                          SRP-CPLX              1   \n1099                     CPLX0-7796APO              1   \n1100                         ARCB-CPLX              1   \n\n                                  reaction  \\\n0                                1-PFK_RXN   \n1                2OXOGLUTARATEDEH-CPLX_RXN   \n2          3-ISOPROPYLMALDEHYDROG-CPLX_RXN   \n3              3-ISOPROPYLMALISOM-CPLX_RXN   \n4     3-METHYL-2-OXOBUT-OHCH3XFER-CPLX_RXN   \n...                                    ...   \n1096                        CPLX0-8053_RXN   \n1097                        CPLX0-8253_RXN   \n1098                          SRP-CPLX_RXN   \n1099                     CPLX0-7796APO_RXN   \n1100                         ARCB-CPLX_RXN   \n\n                         enzyme-reaction  \\\n0                  1PFRUCTPHOSPHN-ENZRXN   \n1                2OXOGLUTARATEDEH-ENZRXN   \n2          3-ISOPROPYLMALDEHYDROG-ENZRXN   \n3              3-ISOPROPYLMALISOM-ENZRXN   \n4     3-METHYL-2-OXOBUT-OHCH3XFER-ENZRXN   \n...                                  ...   \n1096                                None   \n1097                                None   \n1098                                None   \n1099                                None   \n1100                        ENZRXN0-8568   \n\n                                             cofactors  \n0                                               [MG+2]  \n1     [LIPOIC-ACID, THIAMINE-PYROPHOSPHATE, FAD, MG+2]  \n2                                         [MG+2, MN+2]  \n3                                              [CPD-7]  \n4                                               [MG+2]  \n...                                                ...  \n1096                                              None  \n1097                                              None  \n1098                                              None  \n1099                                              None  \n1100                                              None  \n\n[1101 rows x 5 columns]",
      "text/html": "<div>\n<style scoped>\n    .dataframe tbody tr th:only-of-type {\n        vertical-align: middle;\n    }\n\n    .dataframe tbody tr th {\n        vertical-align: top;\n    }\n\n    .dataframe thead th {\n        text-align: right;\n    }\n</style>\n<table border=\"1\" class=\"dataframe\">\n  <thead>\n    <tr style=\"text-align: right;\">\n      <th></th>\n      <th>complex</th>\n      <th>stoichiometry</th>\n      <th>reaction</th>\n      <th>enzyme-reaction</th>\n      <th>cofactors</th>\n    </tr>\n  </thead>\n  <tbody>\n    <tr>\n      <th>0</th>\n      <td>1-PFK</td>\n      <td>1</td>\n      <td>1-PFK_RXN</td>\n      <td>1PFRUCTPHOSPHN-ENZRXN</td>\n      <td>[MG+2]</td>\n    </tr>\n    <tr>\n      <th>1</th>\n      <td>2OXOGLUTARATEDEH-CPLX</td>\n      <td>1</td>\n      <td>2OXOGLUTARATEDEH-CPLX_RXN</td>\n      <td>2OXOGLUTARATEDEH-ENZRXN</td>\n      <td>[LIPOIC-ACID, THIAMINE-PYROPHOSPHATE, FAD, MG+2]</td>\n    </tr>\n    <tr>\n      <th>2</th>\n      <td>3-ISOPROPYLMALDEHYDROG-CPLX</td>\n      <td>1</td>\n      <td>3-ISOPROPYLMALDEHYDROG-CPLX_RXN</td>\n      <td>3-ISOPROPYLMALDEHYDROG-ENZRXN</td>\n      <td>[MG+2, MN+2]</td>\n    </tr>\n    <tr>\n      <th>3</th>\n      <td>3-ISOPROPYLMALISOM-CPLX</td>\n      <td>1</td>\n      <td>3-ISOPROPYLMALISOM-CPLX_RXN</td>\n      <td>3-ISOPROPYLMALISOM-ENZRXN</td>\n      <td>[CPD-7]</td>\n    </tr>\n    <tr>\n      <th>4</th>\n      <td>3-METHYL-2-OXOBUT-OHCH3XFER-CPLX</td>\n      <td>1</td>\n      <td>3-METHYL-2-OXOBUT-OHCH3XFER-CPLX_RXN</td>\n      <td>3-METHYL-2-OXOBUT-OHCH3XFER-ENZRXN</td>\n      <td>[MG+2]</td>\n    </tr>\n    <tr>\n      <th>...</th>\n      <td>...</td>\n      <td>...</td>\n      <td>...</td>\n      <td>...</td>\n      <td>...</td>\n    </tr>\n    <tr>\n      <th>1096</th>\n      <td>CPLX0-8053</td>\n      <td>1</td>\n      <td>CPLX0-8053_RXN</td>\n      <td>None</td>\n      <td>None</td>\n    </tr>\n    <tr>\n      <th>1097</th>\n      <td>CPLX0-8253</td>\n      <td>1</td>\n      <td>CPLX0-8253_RXN</td>\n      <td>None</td>\n      <td>None</td>\n    </tr>\n    <tr>\n      <th>1098</th>\n      <td>SRP-CPLX</td>\n      <td>1</td>\n      <td>SRP-CPLX_RXN</td>\n      <td>None</td>\n      <td>None</td>\n    </tr>\n    <tr>\n      <th>1099</th>\n      <td>CPLX0-7796APO</td>\n      <td>1</td>\n      <td>CPLX0-7796APO_RXN</td>\n      <td>None</td>\n      <td>None</td>\n    </tr>\n    <tr>\n      <th>1100</th>\n      <td>ARCB-CPLX</td>\n      <td>1</td>\n      <td>ARCB-CPLX_RXN</td>\n      <td>ENZRXN0-8568</td>\n      <td>None</td>\n    </tr>\n  </tbody>\n</table>\n<p>1101 rows × 5 columns</p>\n</div>"
     },
     "execution_count": 10,
     "metadata": {},
     "output_type": "execute_result"
    }
   ],
   "source": [
    "pre_complex_df"
   ],
   "metadata": {
    "collapsed": false,
    "ExecuteTime": {
     "end_time": "2023-06-14T00:33:26.092235Z",
     "start_time": "2023-06-14T00:33:26.089956Z"
    }
   }
  },
  {
   "cell_type": "code",
   "execution_count": 7,
   "outputs": [],
   "source": [
    "pre_complex_df.to_csv('cofactors.csv', index=False)"
   ],
   "metadata": {
    "collapsed": false,
    "ExecuteTime": {
     "end_time": "2023-06-14T00:30:16.753298Z",
     "start_time": "2023-06-14T00:30:16.746991Z"
    }
   }
  },
  {
   "cell_type": "markdown",
   "source": [],
   "metadata": {
    "collapsed": false
   }
  },
  {
   "cell_type": "markdown",
   "source": [
    "# Annotate table with counts"
   ],
   "metadata": {
    "collapsed": false
   }
  },
  {
   "cell_type": "code",
   "execution_count": 169,
   "outputs": [
    {
     "data": {
      "text/plain": "                               complex  stoichiometry  \\\n0                                1-PFK              1   \n1                2OXOGLUTARATEDEH-CPLX              1   \n2          3-ISOPROPYLMALDEHYDROG-CPLX              1   \n3              3-ISOPROPYLMALISOM-CPLX              1   \n4     3-METHYL-2-OXOBUT-OHCH3XFER-CPLX              1   \n...                                ...            ...   \n1096                        CPLX0-8053              1   \n1097                        CPLX0-8253              1   \n1098                          SRP-CPLX              1   \n1099                     CPLX0-7796APO              1   \n1100                         ARCB-CPLX              1   \n\n                                  reaction  \\\n0                                1-PFK_RXN   \n1                2OXOGLUTARATEDEH-CPLX_RXN   \n2          3-ISOPROPYLMALDEHYDROG-CPLX_RXN   \n3              3-ISOPROPYLMALISOM-CPLX_RXN   \n4     3-METHYL-2-OXOBUT-OHCH3XFER-CPLX_RXN   \n...                                    ...   \n1096                        CPLX0-8053_RXN   \n1097                        CPLX0-8253_RXN   \n1098                          SRP-CPLX_RXN   \n1099                     CPLX0-7796APO_RXN   \n1100                         ARCB-CPLX_RXN   \n\n                         enzyme-reaction  \\\n0                  1PFRUCTPHOSPHN-ENZRXN   \n1                2OXOGLUTARATEDEH-ENZRXN   \n2          3-ISOPROPYLMALDEHYDROG-ENZRXN   \n3              3-ISOPROPYLMALISOM-ENZRXN   \n4     3-METHYL-2-OXOBUT-OHCH3XFER-ENZRXN   \n...                                  ...   \n1096                                None   \n1097                                None   \n1098                                None   \n1099                                None   \n1100                        ENZRXN0-8568   \n\n                                             cofactors  counts  \n0                                               [MG+2]       0  \n1     [LIPOIC-ACID, THIAMINE-PYROPHOSPHATE, FAD, MG+2]       0  \n2                                         [MG+2, MN+2]       0  \n3                                              [CPD-7]       0  \n4                                               [MG+2]       0  \n...                                                ...     ...  \n1096                                                []       0  \n1097                                                []       0  \n1098                                                []       0  \n1099                                                []       0  \n1100                                                []       0  \n\n[1101 rows x 6 columns]",
      "text/html": "<div>\n<style scoped>\n    .dataframe tbody tr th:only-of-type {\n        vertical-align: middle;\n    }\n\n    .dataframe tbody tr th {\n        vertical-align: top;\n    }\n\n    .dataframe thead th {\n        text-align: right;\n    }\n</style>\n<table border=\"1\" class=\"dataframe\">\n  <thead>\n    <tr style=\"text-align: right;\">\n      <th></th>\n      <th>complex</th>\n      <th>stoichiometry</th>\n      <th>reaction</th>\n      <th>enzyme-reaction</th>\n      <th>cofactors</th>\n      <th>counts</th>\n    </tr>\n  </thead>\n  <tbody>\n    <tr>\n      <th>0</th>\n      <td>1-PFK</td>\n      <td>1</td>\n      <td>1-PFK_RXN</td>\n      <td>1PFRUCTPHOSPHN-ENZRXN</td>\n      <td>[MG+2]</td>\n      <td>0</td>\n    </tr>\n    <tr>\n      <th>1</th>\n      <td>2OXOGLUTARATEDEH-CPLX</td>\n      <td>1</td>\n      <td>2OXOGLUTARATEDEH-CPLX_RXN</td>\n      <td>2OXOGLUTARATEDEH-ENZRXN</td>\n      <td>[LIPOIC-ACID, THIAMINE-PYROPHOSPHATE, FAD, MG+2]</td>\n      <td>0</td>\n    </tr>\n    <tr>\n      <th>2</th>\n      <td>3-ISOPROPYLMALDEHYDROG-CPLX</td>\n      <td>1</td>\n      <td>3-ISOPROPYLMALDEHYDROG-CPLX_RXN</td>\n      <td>3-ISOPROPYLMALDEHYDROG-ENZRXN</td>\n      <td>[MG+2, MN+2]</td>\n      <td>0</td>\n    </tr>\n    <tr>\n      <th>3</th>\n      <td>3-ISOPROPYLMALISOM-CPLX</td>\n      <td>1</td>\n      <td>3-ISOPROPYLMALISOM-CPLX_RXN</td>\n      <td>3-ISOPROPYLMALISOM-ENZRXN</td>\n      <td>[CPD-7]</td>\n      <td>0</td>\n    </tr>\n    <tr>\n      <th>4</th>\n      <td>3-METHYL-2-OXOBUT-OHCH3XFER-CPLX</td>\n      <td>1</td>\n      <td>3-METHYL-2-OXOBUT-OHCH3XFER-CPLX_RXN</td>\n      <td>3-METHYL-2-OXOBUT-OHCH3XFER-ENZRXN</td>\n      <td>[MG+2]</td>\n      <td>0</td>\n    </tr>\n    <tr>\n      <th>...</th>\n      <td>...</td>\n      <td>...</td>\n      <td>...</td>\n      <td>...</td>\n      <td>...</td>\n      <td>...</td>\n    </tr>\n    <tr>\n      <th>1096</th>\n      <td>CPLX0-8053</td>\n      <td>1</td>\n      <td>CPLX0-8053_RXN</td>\n      <td>None</td>\n      <td>[]</td>\n      <td>0</td>\n    </tr>\n    <tr>\n      <th>1097</th>\n      <td>CPLX0-8253</td>\n      <td>1</td>\n      <td>CPLX0-8253_RXN</td>\n      <td>None</td>\n      <td>[]</td>\n      <td>0</td>\n    </tr>\n    <tr>\n      <th>1098</th>\n      <td>SRP-CPLX</td>\n      <td>1</td>\n      <td>SRP-CPLX_RXN</td>\n      <td>None</td>\n      <td>[]</td>\n      <td>0</td>\n    </tr>\n    <tr>\n      <th>1099</th>\n      <td>CPLX0-7796APO</td>\n      <td>1</td>\n      <td>CPLX0-7796APO_RXN</td>\n      <td>None</td>\n      <td>[]</td>\n      <td>0</td>\n    </tr>\n    <tr>\n      <th>1100</th>\n      <td>ARCB-CPLX</td>\n      <td>1</td>\n      <td>ARCB-CPLX_RXN</td>\n      <td>ENZRXN0-8568</td>\n      <td>[]</td>\n      <td>0</td>\n    </tr>\n  </tbody>\n</table>\n<p>1101 rows × 6 columns</p>\n</div>"
     },
     "execution_count": 169,
     "metadata": {},
     "output_type": "execute_result"
    }
   ],
   "source": [
    "complex_df = pd.read_csv('notebooks/fbagd/cofactors.csv', sep=',').fillna('None')\n",
    "complex_df.cofactors = complex_df.cofactors.apply(ast.literal_eval)\n",
    "complex_df['counts'] = 0\n",
    "\n",
    "# replace None with empty list\n",
    "complex_df['cofactors'] = complex_df['cofactors'].apply(lambda x: [] if x is None else x)\n",
    "\n",
    "complex_df"
   ],
   "metadata": {
    "collapsed": false,
    "ExecuteTime": {
     "end_time": "2023-06-14T21:11:57.117402Z",
     "start_time": "2023-06-14T21:11:57.103792Z"
    }
   }
  },
  {
   "cell_type": "code",
   "execution_count": 170,
   "outputs": [],
   "source": [
    "time = '50'\n",
    "date = '2023-06-13'\n",
    "experiment = 'fba-redux'\n",
    "entry = f'{experiment}_{time}_{date}'\n",
    "folder = f'out/fbagd/{entry}/'"
   ],
   "metadata": {
    "collapsed": false,
    "ExecuteTime": {
     "end_time": "2023-06-14T21:12:16.631995Z",
     "start_time": "2023-06-14T21:12:16.630454Z"
    }
   }
  },
  {
   "cell_type": "code",
   "execution_count": 171,
   "outputs": [],
   "source": [
    "output = np.load(folder + 'output.npy',allow_pickle='TRUE').item()\n",
    "# output = np.load(r\"out/geneRxnVerifData/output_glc.npy\", allow_pickle=True, encoding='ASCII').tolist()\n",
    "output = output['agents']['0']\n",
    "fba = output['listeners']['fba_results']\n",
    "mass = output['listeners']['mass']\n"
   ],
   "metadata": {
    "collapsed": false,
    "ExecuteTime": {
     "end_time": "2023-06-14T21:12:17.089573Z",
     "start_time": "2023-06-14T21:12:17.010486Z"
    }
   }
  },
  {
   "cell_type": "code",
   "execution_count": 172,
   "outputs": [],
   "source": [
    "f = open(folder + 'agent_steps.pkl', 'rb')\n",
    "agent = dill.load(f)\n",
    "f.close()"
   ],
   "metadata": {
    "collapsed": false,
    "ExecuteTime": {
     "end_time": "2023-06-14T21:12:17.951305Z",
     "start_time": "2023-06-14T21:12:17.442672Z"
    }
   }
  },
  {
   "cell_type": "code",
   "execution_count": 173,
   "outputs": [],
   "source": [
    "metabolism = agent['ecoli-metabolism-redux']\n",
    "stoichiometry = metabolism.stoichiometry\n",
    "bulk_ids = metabolism.bulk_ids"
   ],
   "metadata": {
    "collapsed": false,
    "ExecuteTime": {
     "end_time": "2023-06-14T21:12:17.956297Z",
     "start_time": "2023-06-14T21:12:17.954605Z"
    }
   }
  },
  {
   "cell_type": "code",
   "execution_count": 174,
   "outputs": [],
   "source": [
    "bulk = pd.DataFrame(output['bulk'], columns=bulk_ids)"
   ],
   "metadata": {
    "collapsed": false,
    "ExecuteTime": {
     "end_time": "2023-06-14T21:12:18.753896Z",
     "start_time": "2023-06-14T21:12:18.172277Z"
    }
   }
  },
  {
   "cell_type": "code",
   "execution_count": 175,
   "outputs": [
    {
     "data": {
      "text/plain": "                               complex  stoichiometry  \\\n0                                1-PFK              1   \n1                2OXOGLUTARATEDEH-CPLX              1   \n2          3-ISOPROPYLMALDEHYDROG-CPLX              1   \n3              3-ISOPROPYLMALISOM-CPLX              1   \n4     3-METHYL-2-OXOBUT-OHCH3XFER-CPLX              1   \n...                                ...            ...   \n1096                        CPLX0-8053              1   \n1097                        CPLX0-8253              1   \n1098                          SRP-CPLX              1   \n1099                     CPLX0-7796APO              1   \n1100                         ARCB-CPLX              1   \n\n                                  reaction  \\\n0                                1-PFK_RXN   \n1                2OXOGLUTARATEDEH-CPLX_RXN   \n2          3-ISOPROPYLMALDEHYDROG-CPLX_RXN   \n3              3-ISOPROPYLMALISOM-CPLX_RXN   \n4     3-METHYL-2-OXOBUT-OHCH3XFER-CPLX_RXN   \n...                                    ...   \n1096                        CPLX0-8053_RXN   \n1097                        CPLX0-8253_RXN   \n1098                          SRP-CPLX_RXN   \n1099                     CPLX0-7796APO_RXN   \n1100                         ARCB-CPLX_RXN   \n\n                         enzyme-reaction  \\\n0                  1PFRUCTPHOSPHN-ENZRXN   \n1                2OXOGLUTARATEDEH-ENZRXN   \n2          3-ISOPROPYLMALDEHYDROG-ENZRXN   \n3              3-ISOPROPYLMALISOM-ENZRXN   \n4     3-METHYL-2-OXOBUT-OHCH3XFER-ENZRXN   \n...                                  ...   \n1096                                None   \n1097                                None   \n1098                                None   \n1099                                None   \n1100                        ENZRXN0-8568   \n\n                                             cofactors  counts  \n0                                               [MG+2]       0  \n1     [LIPOIC-ACID, THIAMINE-PYROPHOSPHATE, FAD, MG+2]       0  \n2                                         [MG+2, MN+2]       0  \n3                                              [CPD-7]       0  \n4                                               [MG+2]       0  \n...                                                ...     ...  \n1096                                                []       0  \n1097                                                []       0  \n1098                                                []       0  \n1099                                                []       0  \n1100                                                []       0  \n\n[1101 rows x 6 columns]",
      "text/html": "<div>\n<style scoped>\n    .dataframe tbody tr th:only-of-type {\n        vertical-align: middle;\n    }\n\n    .dataframe tbody tr th {\n        vertical-align: top;\n    }\n\n    .dataframe thead th {\n        text-align: right;\n    }\n</style>\n<table border=\"1\" class=\"dataframe\">\n  <thead>\n    <tr style=\"text-align: right;\">\n      <th></th>\n      <th>complex</th>\n      <th>stoichiometry</th>\n      <th>reaction</th>\n      <th>enzyme-reaction</th>\n      <th>cofactors</th>\n      <th>counts</th>\n    </tr>\n  </thead>\n  <tbody>\n    <tr>\n      <th>0</th>\n      <td>1-PFK</td>\n      <td>1</td>\n      <td>1-PFK_RXN</td>\n      <td>1PFRUCTPHOSPHN-ENZRXN</td>\n      <td>[MG+2]</td>\n      <td>0</td>\n    </tr>\n    <tr>\n      <th>1</th>\n      <td>2OXOGLUTARATEDEH-CPLX</td>\n      <td>1</td>\n      <td>2OXOGLUTARATEDEH-CPLX_RXN</td>\n      <td>2OXOGLUTARATEDEH-ENZRXN</td>\n      <td>[LIPOIC-ACID, THIAMINE-PYROPHOSPHATE, FAD, MG+2]</td>\n      <td>0</td>\n    </tr>\n    <tr>\n      <th>2</th>\n      <td>3-ISOPROPYLMALDEHYDROG-CPLX</td>\n      <td>1</td>\n      <td>3-ISOPROPYLMALDEHYDROG-CPLX_RXN</td>\n      <td>3-ISOPROPYLMALDEHYDROG-ENZRXN</td>\n      <td>[MG+2, MN+2]</td>\n      <td>0</td>\n    </tr>\n    <tr>\n      <th>3</th>\n      <td>3-ISOPROPYLMALISOM-CPLX</td>\n      <td>1</td>\n      <td>3-ISOPROPYLMALISOM-CPLX_RXN</td>\n      <td>3-ISOPROPYLMALISOM-ENZRXN</td>\n      <td>[CPD-7]</td>\n      <td>0</td>\n    </tr>\n    <tr>\n      <th>4</th>\n      <td>3-METHYL-2-OXOBUT-OHCH3XFER-CPLX</td>\n      <td>1</td>\n      <td>3-METHYL-2-OXOBUT-OHCH3XFER-CPLX_RXN</td>\n      <td>3-METHYL-2-OXOBUT-OHCH3XFER-ENZRXN</td>\n      <td>[MG+2]</td>\n      <td>0</td>\n    </tr>\n    <tr>\n      <th>...</th>\n      <td>...</td>\n      <td>...</td>\n      <td>...</td>\n      <td>...</td>\n      <td>...</td>\n      <td>...</td>\n    </tr>\n    <tr>\n      <th>1096</th>\n      <td>CPLX0-8053</td>\n      <td>1</td>\n      <td>CPLX0-8053_RXN</td>\n      <td>None</td>\n      <td>[]</td>\n      <td>0</td>\n    </tr>\n    <tr>\n      <th>1097</th>\n      <td>CPLX0-8253</td>\n      <td>1</td>\n      <td>CPLX0-8253_RXN</td>\n      <td>None</td>\n      <td>[]</td>\n      <td>0</td>\n    </tr>\n    <tr>\n      <th>1098</th>\n      <td>SRP-CPLX</td>\n      <td>1</td>\n      <td>SRP-CPLX_RXN</td>\n      <td>None</td>\n      <td>[]</td>\n      <td>0</td>\n    </tr>\n    <tr>\n      <th>1099</th>\n      <td>CPLX0-7796APO</td>\n      <td>1</td>\n      <td>CPLX0-7796APO_RXN</td>\n      <td>None</td>\n      <td>[]</td>\n      <td>0</td>\n    </tr>\n    <tr>\n      <th>1100</th>\n      <td>ARCB-CPLX</td>\n      <td>1</td>\n      <td>ARCB-CPLX_RXN</td>\n      <td>ENZRXN0-8568</td>\n      <td>[]</td>\n      <td>0</td>\n    </tr>\n  </tbody>\n</table>\n<p>1101 rows × 6 columns</p>\n</div>"
     },
     "execution_count": 175,
     "metadata": {},
     "output_type": "execute_result"
    }
   ],
   "source": [
    "complex_df"
   ],
   "metadata": {
    "collapsed": false,
    "ExecuteTime": {
     "end_time": "2023-06-14T21:12:18.761011Z",
     "start_time": "2023-06-14T21:12:18.758491Z"
    }
   }
  },
  {
   "cell_type": "code",
   "execution_count": 176,
   "outputs": [],
   "source": [
    "for complex_name in complex_df['complex']:\n",
    "    bulk_name = complex_name + '[c]'\n",
    "\n",
    "    if bulk_name in bulk_ids:\n",
    "        complex_df.loc[complex_df['complex'] == complex_name, 'counts'] = bulk.at[24, bulk_name]\n",
    "\n",
    "    elif bulk_name not in bulk_ids:\n",
    "        for cpd in list(bulk_ids):\n",
    "            if complex_name in cpd and len(cpd) < len(complex_name) + 4:\n",
    "                bulk_name = cpd\n",
    "                complex_df.loc[complex_df['complex'] == complex_name, 'counts'] = bulk.at[24, bulk_name]\n"
   ],
   "metadata": {
    "collapsed": false,
    "ExecuteTime": {
     "end_time": "2023-06-14T21:12:25.830761Z",
     "start_time": "2023-06-14T21:12:22.273449Z"
    }
   }
  },
  {
   "cell_type": "code",
   "execution_count": 177,
   "outputs": [
    {
     "data": {
      "text/plain": "             complex  stoichiometry             reaction   enzyme-reaction  \\\n709       CPLX0-8223              1       CPLX0-8223_RXN              None   \n390       CPLX0-7534              1       CPLX0-7534_RXN      ENZRXN0-8522   \n864     GAPDH-A-CPLX              1     GAPDH-A-CPLX_RXN    GAPDH-A-ENZRXN   \n487       CPLX0-7747              1       CPLX0-7747_RXN       ENZRXN0-252   \n917  ISOCITHASE-CPLX              1  ISOCITHASE-CPLX_RXN  ISOCITDEH-ENZRXN   \n..               ...            ...                  ...               ...   \n123        ATOA-CPLX              1        ATOA-CPLX_RXN              None   \n124        ATOD-CPLX              1        ATOD-CPLX_RXN              None   \n126    ATPASE-1-CPLX              1    ATPASE-1-CPLX_RXN    TRANS-ENZRXN-2   \n132          B2-CPLX              1          B2-CPLX_RXN              None   \n328       CPLX0-3922              1       CPLX0-3922_RXN              None   \n\n    cofactors  counts  \n709        []   36915  \n390        []   19181  \n864        []   13436  \n487        []   12667  \n917    [MN+2]   12315  \n..        ...     ...  \n123        []       0  \n124        []       0  \n126        []       0  \n132        []       0  \n328        []       0  \n\n[1101 rows x 6 columns]",
      "text/html": "<div>\n<style scoped>\n    .dataframe tbody tr th:only-of-type {\n        vertical-align: middle;\n    }\n\n    .dataframe tbody tr th {\n        vertical-align: top;\n    }\n\n    .dataframe thead th {\n        text-align: right;\n    }\n</style>\n<table border=\"1\" class=\"dataframe\">\n  <thead>\n    <tr style=\"text-align: right;\">\n      <th></th>\n      <th>complex</th>\n      <th>stoichiometry</th>\n      <th>reaction</th>\n      <th>enzyme-reaction</th>\n      <th>cofactors</th>\n      <th>counts</th>\n    </tr>\n  </thead>\n  <tbody>\n    <tr>\n      <th>709</th>\n      <td>CPLX0-8223</td>\n      <td>1</td>\n      <td>CPLX0-8223_RXN</td>\n      <td>None</td>\n      <td>[]</td>\n      <td>36915</td>\n    </tr>\n    <tr>\n      <th>390</th>\n      <td>CPLX0-7534</td>\n      <td>1</td>\n      <td>CPLX0-7534_RXN</td>\n      <td>ENZRXN0-8522</td>\n      <td>[]</td>\n      <td>19181</td>\n    </tr>\n    <tr>\n      <th>864</th>\n      <td>GAPDH-A-CPLX</td>\n      <td>1</td>\n      <td>GAPDH-A-CPLX_RXN</td>\n      <td>GAPDH-A-ENZRXN</td>\n      <td>[]</td>\n      <td>13436</td>\n    </tr>\n    <tr>\n      <th>487</th>\n      <td>CPLX0-7747</td>\n      <td>1</td>\n      <td>CPLX0-7747_RXN</td>\n      <td>ENZRXN0-252</td>\n      <td>[]</td>\n      <td>12667</td>\n    </tr>\n    <tr>\n      <th>917</th>\n      <td>ISOCITHASE-CPLX</td>\n      <td>1</td>\n      <td>ISOCITHASE-CPLX_RXN</td>\n      <td>ISOCITDEH-ENZRXN</td>\n      <td>[MN+2]</td>\n      <td>12315</td>\n    </tr>\n    <tr>\n      <th>...</th>\n      <td>...</td>\n      <td>...</td>\n      <td>...</td>\n      <td>...</td>\n      <td>...</td>\n      <td>...</td>\n    </tr>\n    <tr>\n      <th>123</th>\n      <td>ATOA-CPLX</td>\n      <td>1</td>\n      <td>ATOA-CPLX_RXN</td>\n      <td>None</td>\n      <td>[]</td>\n      <td>0</td>\n    </tr>\n    <tr>\n      <th>124</th>\n      <td>ATOD-CPLX</td>\n      <td>1</td>\n      <td>ATOD-CPLX_RXN</td>\n      <td>None</td>\n      <td>[]</td>\n      <td>0</td>\n    </tr>\n    <tr>\n      <th>126</th>\n      <td>ATPASE-1-CPLX</td>\n      <td>1</td>\n      <td>ATPASE-1-CPLX_RXN</td>\n      <td>TRANS-ENZRXN-2</td>\n      <td>[]</td>\n      <td>0</td>\n    </tr>\n    <tr>\n      <th>132</th>\n      <td>B2-CPLX</td>\n      <td>1</td>\n      <td>B2-CPLX_RXN</td>\n      <td>None</td>\n      <td>[]</td>\n      <td>0</td>\n    </tr>\n    <tr>\n      <th>328</th>\n      <td>CPLX0-3922</td>\n      <td>1</td>\n      <td>CPLX0-3922_RXN</td>\n      <td>None</td>\n      <td>[]</td>\n      <td>0</td>\n    </tr>\n  </tbody>\n</table>\n<p>1101 rows × 6 columns</p>\n</div>"
     },
     "execution_count": 177,
     "metadata": {},
     "output_type": "execute_result"
    }
   ],
   "source": [
    "complex_df.sort_values(by='counts', ascending=False)"
   ],
   "metadata": {
    "collapsed": false,
    "ExecuteTime": {
     "end_time": "2023-06-14T21:12:25.837788Z",
     "start_time": "2023-06-14T21:12:25.831167Z"
    }
   }
  },
  {
   "cell_type": "code",
   "execution_count": 179,
   "outputs": [
    {
     "data": {
      "text/plain": "                        counts\ncofactors                     \nMG+2                     55738\nMN+2                     27211\nPYRIDOXAL_PHOSPHATE      24413\nZN+2                     12807\n23-DIPHOSPHOGLYCERATE    10058\nFAD                       8954\nK+                        5157\nCPD-7                     4556\nFE+2                      3256\nTHIAMINE-PYROPHOSPHATE    1868\nNI+2                      1375\nFMN                       1256\nHeme-b                    1025\nCU+2                       817\nHEME_O                     814\nNAD                        730\nCPD-6                      635\nHCO3                       426\nCO+2                       353\nNADP                       253\n3FE-4S                     212\nLIPOIC-ACID                180\nFE+3                       161\nCA+2                       155\nPROTOHEME                  139\nLYS                        116\nFMNH2                      110\nSIROHEME                    98\nFeS-Centers                 76\nAMMONIUM                    52\nCPD-23429                   46\nNADPH                       40\nCPD-15873                   40\nCPD-18260                   23\nCPD-8123                    17\nCPD0-1882                   15\nHEME_D                      13\nHEME_C                      13\nADENOSYLCOBALAMIN            9\nTOPAQUINONE                  3\nCPD0-2654                    0\nCPD-24862                    0\nCPD-17649                    0\nGTP                          0",
      "text/html": "<div>\n<style scoped>\n    .dataframe tbody tr th:only-of-type {\n        vertical-align: middle;\n    }\n\n    .dataframe tbody tr th {\n        vertical-align: top;\n    }\n\n    .dataframe thead th {\n        text-align: right;\n    }\n</style>\n<table border=\"1\" class=\"dataframe\">\n  <thead>\n    <tr style=\"text-align: right;\">\n      <th></th>\n      <th>counts</th>\n    </tr>\n    <tr>\n      <th>cofactors</th>\n      <th></th>\n    </tr>\n  </thead>\n  <tbody>\n    <tr>\n      <th>MG+2</th>\n      <td>55738</td>\n    </tr>\n    <tr>\n      <th>MN+2</th>\n      <td>27211</td>\n    </tr>\n    <tr>\n      <th>PYRIDOXAL_PHOSPHATE</th>\n      <td>24413</td>\n    </tr>\n    <tr>\n      <th>ZN+2</th>\n      <td>12807</td>\n    </tr>\n    <tr>\n      <th>23-DIPHOSPHOGLYCERATE</th>\n      <td>10058</td>\n    </tr>\n    <tr>\n      <th>FAD</th>\n      <td>8954</td>\n    </tr>\n    <tr>\n      <th>K+</th>\n      <td>5157</td>\n    </tr>\n    <tr>\n      <th>CPD-7</th>\n      <td>4556</td>\n    </tr>\n    <tr>\n      <th>FE+2</th>\n      <td>3256</td>\n    </tr>\n    <tr>\n      <th>THIAMINE-PYROPHOSPHATE</th>\n      <td>1868</td>\n    </tr>\n    <tr>\n      <th>NI+2</th>\n      <td>1375</td>\n    </tr>\n    <tr>\n      <th>FMN</th>\n      <td>1256</td>\n    </tr>\n    <tr>\n      <th>Heme-b</th>\n      <td>1025</td>\n    </tr>\n    <tr>\n      <th>CU+2</th>\n      <td>817</td>\n    </tr>\n    <tr>\n      <th>HEME_O</th>\n      <td>814</td>\n    </tr>\n    <tr>\n      <th>NAD</th>\n      <td>730</td>\n    </tr>\n    <tr>\n      <th>CPD-6</th>\n      <td>635</td>\n    </tr>\n    <tr>\n      <th>HCO3</th>\n      <td>426</td>\n    </tr>\n    <tr>\n      <th>CO+2</th>\n      <td>353</td>\n    </tr>\n    <tr>\n      <th>NADP</th>\n      <td>253</td>\n    </tr>\n    <tr>\n      <th>3FE-4S</th>\n      <td>212</td>\n    </tr>\n    <tr>\n      <th>LIPOIC-ACID</th>\n      <td>180</td>\n    </tr>\n    <tr>\n      <th>FE+3</th>\n      <td>161</td>\n    </tr>\n    <tr>\n      <th>CA+2</th>\n      <td>155</td>\n    </tr>\n    <tr>\n      <th>PROTOHEME</th>\n      <td>139</td>\n    </tr>\n    <tr>\n      <th>LYS</th>\n      <td>116</td>\n    </tr>\n    <tr>\n      <th>FMNH2</th>\n      <td>110</td>\n    </tr>\n    <tr>\n      <th>SIROHEME</th>\n      <td>98</td>\n    </tr>\n    <tr>\n      <th>FeS-Centers</th>\n      <td>76</td>\n    </tr>\n    <tr>\n      <th>AMMONIUM</th>\n      <td>52</td>\n    </tr>\n    <tr>\n      <th>CPD-23429</th>\n      <td>46</td>\n    </tr>\n    <tr>\n      <th>NADPH</th>\n      <td>40</td>\n    </tr>\n    <tr>\n      <th>CPD-15873</th>\n      <td>40</td>\n    </tr>\n    <tr>\n      <th>CPD-18260</th>\n      <td>23</td>\n    </tr>\n    <tr>\n      <th>CPD-8123</th>\n      <td>17</td>\n    </tr>\n    <tr>\n      <th>CPD0-1882</th>\n      <td>15</td>\n    </tr>\n    <tr>\n      <th>HEME_D</th>\n      <td>13</td>\n    </tr>\n    <tr>\n      <th>HEME_C</th>\n      <td>13</td>\n    </tr>\n    <tr>\n      <th>ADENOSYLCOBALAMIN</th>\n      <td>9</td>\n    </tr>\n    <tr>\n      <th>TOPAQUINONE</th>\n      <td>3</td>\n    </tr>\n    <tr>\n      <th>CPD0-2654</th>\n      <td>0</td>\n    </tr>\n    <tr>\n      <th>CPD-24862</th>\n      <td>0</td>\n    </tr>\n    <tr>\n      <th>CPD-17649</th>\n      <td>0</td>\n    </tr>\n    <tr>\n      <th>GTP</th>\n      <td>0</td>\n    </tr>\n  </tbody>\n</table>\n</div>"
     },
     "execution_count": 179,
     "metadata": {},
     "output_type": "execute_result"
    }
   ],
   "source": [
    "cofactor_df = complex_df[['cofactors', 'counts']].explode('cofactors').groupby('cofactors').sum().sort_values(by='counts', ascending=False)\n",
    "cofactor_df"
   ],
   "metadata": {
    "collapsed": false,
    "ExecuteTime": {
     "end_time": "2023-06-14T21:12:43.875673Z",
     "start_time": "2023-06-14T21:12:43.867800Z"
    }
   }
  },
  {
   "cell_type": "code",
   "execution_count": 180,
   "outputs": [
    {
     "data": {
      "text/plain": "                        counts molecular_composition\ncofactors                                           \nMG+2                     55738                     0\nMN+2                     27211                     0\nPYRIDOXAL_PHOSPHATE      24413                     0\nZN+2                     12807                     0\n23-DIPHOSPHOGLYCERATE    10058                     0\nFAD                       8954                     0\nK+                        5157                     0\nCPD-7                     4556                     0\nFE+2                      3256                     0\nTHIAMINE-PYROPHOSPHATE    1868                     0\nNI+2                      1375                     0\nFMN                       1256                     0\nHeme-b                    1025                     0\nCU+2                       817                     0\nHEME_O                     814                     0\nNAD                        730                     0\nCPD-6                      635                     0\nHCO3                       426                     0\nCO+2                       353                     0\nNADP                       253                     0\n3FE-4S                     212                     0\nLIPOIC-ACID                180                     0\nFE+3                       161                     0\nCA+2                       155                     0\nPROTOHEME                  139                     0\nLYS                        116                     0\nFMNH2                      110                     0\nSIROHEME                    98                     0\nFeS-Centers                 76                     0\nAMMONIUM                    52                     0\nCPD-23429                   46                     0\nNADPH                       40                     0\nCPD-15873                   40                     0\nCPD-18260                   23                     0\nCPD-8123                    17                     0\nCPD0-1882                   15                     0\nHEME_D                      13                     0\nHEME_C                      13                     0\nADENOSYLCOBALAMIN            9                     0\nTOPAQUINONE                  3                     0\nCPD0-2654                    0                     0\nCPD-24862                    0                     0\nCPD-17649                    0                     0\nGTP                          0                     0",
      "text/html": "<div>\n<style scoped>\n    .dataframe tbody tr th:only-of-type {\n        vertical-align: middle;\n    }\n\n    .dataframe tbody tr th {\n        vertical-align: top;\n    }\n\n    .dataframe thead th {\n        text-align: right;\n    }\n</style>\n<table border=\"1\" class=\"dataframe\">\n  <thead>\n    <tr style=\"text-align: right;\">\n      <th></th>\n      <th>counts</th>\n      <th>molecular_composition</th>\n    </tr>\n    <tr>\n      <th>cofactors</th>\n      <th></th>\n      <th></th>\n    </tr>\n  </thead>\n  <tbody>\n    <tr>\n      <th>MG+2</th>\n      <td>55738</td>\n      <td>0</td>\n    </tr>\n    <tr>\n      <th>MN+2</th>\n      <td>27211</td>\n      <td>0</td>\n    </tr>\n    <tr>\n      <th>PYRIDOXAL_PHOSPHATE</th>\n      <td>24413</td>\n      <td>0</td>\n    </tr>\n    <tr>\n      <th>ZN+2</th>\n      <td>12807</td>\n      <td>0</td>\n    </tr>\n    <tr>\n      <th>23-DIPHOSPHOGLYCERATE</th>\n      <td>10058</td>\n      <td>0</td>\n    </tr>\n    <tr>\n      <th>FAD</th>\n      <td>8954</td>\n      <td>0</td>\n    </tr>\n    <tr>\n      <th>K+</th>\n      <td>5157</td>\n      <td>0</td>\n    </tr>\n    <tr>\n      <th>CPD-7</th>\n      <td>4556</td>\n      <td>0</td>\n    </tr>\n    <tr>\n      <th>FE+2</th>\n      <td>3256</td>\n      <td>0</td>\n    </tr>\n    <tr>\n      <th>THIAMINE-PYROPHOSPHATE</th>\n      <td>1868</td>\n      <td>0</td>\n    </tr>\n    <tr>\n      <th>NI+2</th>\n      <td>1375</td>\n      <td>0</td>\n    </tr>\n    <tr>\n      <th>FMN</th>\n      <td>1256</td>\n      <td>0</td>\n    </tr>\n    <tr>\n      <th>Heme-b</th>\n      <td>1025</td>\n      <td>0</td>\n    </tr>\n    <tr>\n      <th>CU+2</th>\n      <td>817</td>\n      <td>0</td>\n    </tr>\n    <tr>\n      <th>HEME_O</th>\n      <td>814</td>\n      <td>0</td>\n    </tr>\n    <tr>\n      <th>NAD</th>\n      <td>730</td>\n      <td>0</td>\n    </tr>\n    <tr>\n      <th>CPD-6</th>\n      <td>635</td>\n      <td>0</td>\n    </tr>\n    <tr>\n      <th>HCO3</th>\n      <td>426</td>\n      <td>0</td>\n    </tr>\n    <tr>\n      <th>CO+2</th>\n      <td>353</td>\n      <td>0</td>\n    </tr>\n    <tr>\n      <th>NADP</th>\n      <td>253</td>\n      <td>0</td>\n    </tr>\n    <tr>\n      <th>3FE-4S</th>\n      <td>212</td>\n      <td>0</td>\n    </tr>\n    <tr>\n      <th>LIPOIC-ACID</th>\n      <td>180</td>\n      <td>0</td>\n    </tr>\n    <tr>\n      <th>FE+3</th>\n      <td>161</td>\n      <td>0</td>\n    </tr>\n    <tr>\n      <th>CA+2</th>\n      <td>155</td>\n      <td>0</td>\n    </tr>\n    <tr>\n      <th>PROTOHEME</th>\n      <td>139</td>\n      <td>0</td>\n    </tr>\n    <tr>\n      <th>LYS</th>\n      <td>116</td>\n      <td>0</td>\n    </tr>\n    <tr>\n      <th>FMNH2</th>\n      <td>110</td>\n      <td>0</td>\n    </tr>\n    <tr>\n      <th>SIROHEME</th>\n      <td>98</td>\n      <td>0</td>\n    </tr>\n    <tr>\n      <th>FeS-Centers</th>\n      <td>76</td>\n      <td>0</td>\n    </tr>\n    <tr>\n      <th>AMMONIUM</th>\n      <td>52</td>\n      <td>0</td>\n    </tr>\n    <tr>\n      <th>CPD-23429</th>\n      <td>46</td>\n      <td>0</td>\n    </tr>\n    <tr>\n      <th>NADPH</th>\n      <td>40</td>\n      <td>0</td>\n    </tr>\n    <tr>\n      <th>CPD-15873</th>\n      <td>40</td>\n      <td>0</td>\n    </tr>\n    <tr>\n      <th>CPD-18260</th>\n      <td>23</td>\n      <td>0</td>\n    </tr>\n    <tr>\n      <th>CPD-8123</th>\n      <td>17</td>\n      <td>0</td>\n    </tr>\n    <tr>\n      <th>CPD0-1882</th>\n      <td>15</td>\n      <td>0</td>\n    </tr>\n    <tr>\n      <th>HEME_D</th>\n      <td>13</td>\n      <td>0</td>\n    </tr>\n    <tr>\n      <th>HEME_C</th>\n      <td>13</td>\n      <td>0</td>\n    </tr>\n    <tr>\n      <th>ADENOSYLCOBALAMIN</th>\n      <td>9</td>\n      <td>0</td>\n    </tr>\n    <tr>\n      <th>TOPAQUINONE</th>\n      <td>3</td>\n      <td>0</td>\n    </tr>\n    <tr>\n      <th>CPD0-2654</th>\n      <td>0</td>\n      <td>0</td>\n    </tr>\n    <tr>\n      <th>CPD-24862</th>\n      <td>0</td>\n      <td>0</td>\n    </tr>\n    <tr>\n      <th>CPD-17649</th>\n      <td>0</td>\n      <td>0</td>\n    </tr>\n    <tr>\n      <th>GTP</th>\n      <td>0</td>\n      <td>0</td>\n    </tr>\n  </tbody>\n</table>\n</div>"
     },
     "execution_count": 180,
     "metadata": {},
     "output_type": "execute_result"
    }
   ],
   "source": [
    "# change name of index value FeS-Centers to CPD-7\n",
    "\n",
    "cofactor_df['molecular_composition'] = 0\n",
    "cofactor_df['molecular_composition'] = cofactor_df['molecular_composition'].astype(object)\n",
    "\n",
    "cofactor_df"
   ],
   "metadata": {
    "collapsed": false,
    "ExecuteTime": {
     "end_time": "2023-06-14T21:12:45.786557Z",
     "start_time": "2023-06-14T21:12:45.782639Z"
    }
   }
  },
  {
   "cell_type": "code",
   "execution_count": 181,
   "outputs": [
    {
     "name": "stdout",
     "output_type": "stream",
     "text": [
      "No cml for FeS-Centers\n",
      "No cml for CPD-17649\n"
     ]
    }
   ],
   "source": [
    "for cofactor_name in cofactor_df.index:\n",
    "    mol = cofactor_name\n",
    "    mol = mol.replace('+', '%2b')\n",
    "    mol_str = f'https://websvc.biocyc.org/getxml?id=ECOLI:{mol}&detail=low'\n",
    "\n",
    "    r = s.get(mol_str)\n",
    "    o = xmltodict.parse(r.content)['ptools-xml']['Compound']\n",
    "\n",
    "    if 'cml' not in o:\n",
    "        print(f'No cml for {cofactor_name}')\n",
    "        cofactor_df.at[cofactor_name, 'molecular_composition'] = {}\n",
    "        continue\n",
    "    else:\n",
    "        atom_array = o['cml']['molecule']['atomArray']['atom']\n",
    "    #pp.pprint(o)\n",
    "\n",
    "    if type(atom_array) is dict:\n",
    "        atom_array = [atom_array]\n",
    "\n",
    "    element_dict = {}\n",
    "    # go through entries of atom array and add 1 to key of element_dict\n",
    "    for atom in atom_array:\n",
    "        element = atom['@elementType']\n",
    "        if element in element_dict:\n",
    "            element_dict[element] += 1\n",
    "        else:\n",
    "            element_dict[element] = 1\n",
    "\n",
    "    cofactor_df.at[cofactor_name, 'molecular_composition'] = element_dict"
   ],
   "metadata": {
    "collapsed": false,
    "ExecuteTime": {
     "end_time": "2023-06-14T21:12:56.625228Z",
     "start_time": "2023-06-14T21:12:54.239650Z"
    }
   }
  },
  {
   "cell_type": "code",
   "execution_count": 182,
   "outputs": [],
   "source": [
    "for cofactor_name in ['FeS-Centers', 'CPD-17649']:\n",
    "    cofactor_df.at[cofactor_name, 'molecular_composition'] = {'FE': 4, 'S': 4}"
   ],
   "metadata": {
    "collapsed": false,
    "ExecuteTime": {
     "end_time": "2023-06-14T21:12:58.850805Z",
     "start_time": "2023-06-14T21:12:58.848417Z"
    }
   }
  },
  {
   "cell_type": "code",
   "execution_count": 183,
   "outputs": [
    {
     "data": {
      "text/plain": "                         MG   MN     C     N     O    P   ZN    K   FE    S  \\\ncofactors                                                                     \nMG+2                    1.0  0.0   0.0   0.0   0.0  0.0  0.0  0.0  0.0  0.0   \nMN+2                    0.0  1.0   0.0   0.0   0.0  0.0  0.0  0.0  0.0  0.0   \nPYRIDOXAL_PHOSPHATE     0.0  0.0   8.0   1.0   6.0  1.0  0.0  0.0  0.0  0.0   \nZN+2                    0.0  0.0   0.0   0.0   0.0  0.0  1.0  0.0  0.0  0.0   \n23-DIPHOSPHOGLYCERATE   0.0  0.0   3.0   0.0  10.0  2.0  0.0  0.0  0.0  0.0   \nFAD                     0.0  0.0  27.0   9.0  15.0  2.0  0.0  0.0  0.0  0.0   \nK+                      0.0  0.0   0.0   0.0   0.0  0.0  0.0  1.0  0.0  0.0   \nCPD-7                   0.0  0.0   0.0   0.0   0.0  0.0  0.0  0.0  4.0  4.0   \nFE+2                    0.0  0.0   0.0   0.0   0.0  0.0  0.0  0.0  1.0  0.0   \nTHIAMINE-PYROPHOSPHATE  0.0  0.0  12.0   4.0   7.0  2.0  0.0  0.0  0.0  1.0   \nNI+2                    0.0  0.0   0.0   0.0   0.0  0.0  0.0  0.0  0.0  0.0   \nFMN                     0.0  0.0  17.0   4.0   9.0  1.0  0.0  0.0  0.0  0.0   \nHeme-b                  0.0  0.0  34.0   4.0   4.0  0.0  0.0  0.0  1.0  0.0   \nCU+2                    0.0  0.0   0.0   0.0   0.0  0.0  0.0  0.0  0.0  0.0   \nHEME_O                  0.0  0.0  49.0   4.0   5.0  0.0  0.0  0.0  1.0  0.0   \nNAD                     0.0  0.0  21.0   7.0  14.0  2.0  0.0  0.0  0.0  0.0   \nCPD-6                   0.0  0.0   0.0   0.0   0.0  0.0  0.0  0.0  2.0  6.0   \nHCO3                    0.0  0.0   1.0   0.0   3.0  0.0  0.0  0.0  0.0  0.0   \nCO+2                    0.0  0.0   0.0   0.0   0.0  0.0  0.0  0.0  0.0  0.0   \nNADP                    0.0  0.0  21.0   7.0  17.0  3.0  0.0  0.0  0.0  0.0   \n3FE-4S                  0.0  0.0   0.0   0.0   0.0  0.0  0.0  0.0  3.0  4.0   \nLIPOIC-ACID             0.0  0.0   8.0   0.0   2.0  0.0  0.0  0.0  0.0  2.0   \nFE+3                    0.0  0.0   0.0   0.0   0.0  0.0  0.0  0.0  1.0  0.0   \nCA+2                    0.0  0.0   0.0   0.0   0.0  0.0  0.0  0.0  0.0  0.0   \nPROTOHEME               0.0  0.0  34.0   4.0   4.0  0.0  0.0  0.0  1.0  0.0   \nLYS                     0.0  0.0   6.0   2.0   2.0  0.0  0.0  0.0  0.0  0.0   \nFMNH2                   0.0  0.0  17.0   4.0   9.0  1.0  0.0  0.0  0.0  0.0   \nSIROHEME                0.0  0.0  42.0   4.0  16.0  0.0  0.0  0.0  1.0  0.0   \nFeS-Centers             0.0  0.0   0.0   0.0   0.0  0.0  0.0  0.0  4.0  4.0   \nAMMONIUM                0.0  0.0   0.0   1.0   0.0  0.0  0.0  0.0  0.0  0.0   \nCPD-23429               0.0  0.0  34.0   4.0   6.0  0.0  0.0  0.0  1.0  0.0   \nNADPH                   0.0  0.0  21.0   7.0  17.0  3.0  0.0  0.0  0.0  0.0   \nCPD-15873               0.0  0.0  40.0  20.0  27.0  4.0  0.0  0.0  0.0  4.0   \nCPD-18260               0.0  0.0  22.0   4.0   9.0  1.0  0.0  0.0  0.0  0.0   \nCPD-8123                0.0  0.0  10.0   5.0   8.0  1.0  0.0  0.0  0.0  2.0   \nCPD0-1882               0.0  0.0  19.0   8.0  15.0  2.0  0.0  0.0  0.0  2.0   \nHEME_D                  0.0  0.0  34.0   4.0   6.0  0.0  0.0  0.0  1.0  0.0   \nHEME_C                  0.0  0.0  34.0   4.0   4.0  0.0  0.0  0.0  1.0  2.0   \nADENOSYLCOBALAMIN       0.0  0.0  72.0  18.0  17.0  1.0  0.0  0.0  0.0  0.0   \nTOPAQUINONE             0.0  0.0   9.0   1.0   4.0  0.0  0.0  0.0  0.0  0.0   \nCPD0-2654               0.0  0.0   3.0   0.0   2.0  0.0  0.0  0.0  0.0  0.0   \nCPD-24862               0.0  0.0   3.0   2.0   1.0  0.0  0.0  0.0  1.0  4.0   \nCPD-17649               0.0  0.0   0.0   0.0   0.0  0.0  0.0  0.0  4.0  4.0   \nGTP                     0.0  0.0  10.0   5.0  14.0  3.0  0.0  0.0  0.0  0.0   \n\n                         NI   CU    R   CO   CA    H   MO  Proteins  \ncofactors                                                            \nMG+2                    0.0  0.0  0.0  0.0  0.0  0.0  0.0       0.0  \nMN+2                    0.0  0.0  0.0  0.0  0.0  0.0  0.0       0.0  \nPYRIDOXAL_PHOSPHATE     0.0  0.0  0.0  0.0  0.0  0.0  0.0       0.0  \nZN+2                    0.0  0.0  0.0  0.0  0.0  0.0  0.0       0.0  \n23-DIPHOSPHOGLYCERATE   0.0  0.0  0.0  0.0  0.0  0.0  0.0       0.0  \nFAD                     0.0  0.0  0.0  0.0  0.0  0.0  0.0       0.0  \nK+                      0.0  0.0  0.0  0.0  0.0  0.0  0.0       0.0  \nCPD-7                   0.0  0.0  0.0  0.0  0.0  0.0  0.0       0.0  \nFE+2                    0.0  0.0  0.0  0.0  0.0  0.0  0.0       0.0  \nTHIAMINE-PYROPHOSPHATE  0.0  0.0  0.0  0.0  0.0  0.0  0.0       0.0  \nNI+2                    1.0  0.0  0.0  0.0  0.0  0.0  0.0       0.0  \nFMN                     0.0  0.0  0.0  0.0  0.0  0.0  0.0       0.0  \nHeme-b                  0.0  0.0  0.0  0.0  0.0  0.0  0.0       0.0  \nCU+2                    0.0  1.0  0.0  0.0  0.0  0.0  0.0       0.0  \nHEME_O                  0.0  0.0  0.0  0.0  0.0  0.0  0.0       0.0  \nNAD                     0.0  0.0  0.0  0.0  0.0  0.0  0.0       0.0  \nCPD-6                   0.0  0.0  4.0  0.0  0.0  0.0  0.0       0.0  \nHCO3                    0.0  0.0  0.0  0.0  0.0  0.0  0.0       0.0  \nCO+2                    0.0  0.0  0.0  1.0  0.0  0.0  0.0       0.0  \nNADP                    0.0  0.0  0.0  0.0  0.0  0.0  0.0       0.0  \n3FE-4S                  0.0  0.0  0.0  0.0  0.0  0.0  0.0       0.0  \nLIPOIC-ACID             0.0  0.0  0.0  0.0  0.0  0.0  0.0       0.0  \nFE+3                    0.0  0.0  0.0  0.0  0.0  0.0  0.0       0.0  \nCA+2                    0.0  0.0  0.0  0.0  1.0  0.0  0.0       0.0  \nPROTOHEME               0.0  0.0  0.0  0.0  0.0  0.0  0.0       0.0  \nLYS                     0.0  0.0  0.0  0.0  0.0  0.0  0.0       0.0  \nFMNH2                   0.0  0.0  0.0  0.0  0.0  0.0  0.0       0.0  \nSIROHEME                0.0  0.0  0.0  0.0  0.0  0.0  0.0       0.0  \nFeS-Centers             0.0  0.0  0.0  0.0  0.0  0.0  0.0       0.0  \nAMMONIUM                0.0  0.0  0.0  0.0  0.0  4.0  0.0       0.0  \nCPD-23429               0.0  0.0  0.0  0.0  0.0  0.0  0.0       0.0  \nNADPH                   0.0  0.0  0.0  0.0  0.0  0.0  0.0       0.0  \nCPD-15873               0.0  0.0  0.0  0.0  0.0  6.0  1.0       0.0  \nCPD-18260               0.0  0.0  0.0  0.0  0.0  0.0  0.0       0.0  \nCPD-8123                0.0  0.0  0.0  0.0  0.0  3.0  1.0       0.0  \nCPD0-1882               0.0  0.0  0.0  0.0  0.0  3.0  1.0       0.0  \nHEME_D                  0.0  0.0  0.0  0.0  0.0  0.0  0.0       0.0  \nHEME_C                  0.0  0.0  0.0  0.0  0.0  0.0  0.0       0.0  \nADENOSYLCOBALAMIN       0.0  0.0  0.0  1.0  0.0  0.0  0.0       0.0  \nTOPAQUINONE             0.0  0.0  0.0  0.0  0.0  0.0  0.0       2.0  \nCPD0-2654               0.0  0.0  0.0  0.0  0.0  0.0  0.0       1.0  \nCPD-24862               1.0  0.0  0.0  0.0  0.0  0.0  0.0       4.0  \nCPD-17649               0.0  0.0  0.0  0.0  0.0  0.0  0.0       0.0  \nGTP                     0.0  0.0  0.0  0.0  0.0  0.0  0.0       0.0  ",
      "text/html": "<div>\n<style scoped>\n    .dataframe tbody tr th:only-of-type {\n        vertical-align: middle;\n    }\n\n    .dataframe tbody tr th {\n        vertical-align: top;\n    }\n\n    .dataframe thead th {\n        text-align: right;\n    }\n</style>\n<table border=\"1\" class=\"dataframe\">\n  <thead>\n    <tr style=\"text-align: right;\">\n      <th></th>\n      <th>MG</th>\n      <th>MN</th>\n      <th>C</th>\n      <th>N</th>\n      <th>O</th>\n      <th>P</th>\n      <th>ZN</th>\n      <th>K</th>\n      <th>FE</th>\n      <th>S</th>\n      <th>NI</th>\n      <th>CU</th>\n      <th>R</th>\n      <th>CO</th>\n      <th>CA</th>\n      <th>H</th>\n      <th>MO</th>\n      <th>Proteins</th>\n    </tr>\n    <tr>\n      <th>cofactors</th>\n      <th></th>\n      <th></th>\n      <th></th>\n      <th></th>\n      <th></th>\n      <th></th>\n      <th></th>\n      <th></th>\n      <th></th>\n      <th></th>\n      <th></th>\n      <th></th>\n      <th></th>\n      <th></th>\n      <th></th>\n      <th></th>\n      <th></th>\n      <th></th>\n    </tr>\n  </thead>\n  <tbody>\n    <tr>\n      <th>MG+2</th>\n      <td>1.0</td>\n      <td>0.0</td>\n      <td>0.0</td>\n      <td>0.0</td>\n      <td>0.0</td>\n      <td>0.0</td>\n      <td>0.0</td>\n      <td>0.0</td>\n      <td>0.0</td>\n      <td>0.0</td>\n      <td>0.0</td>\n      <td>0.0</td>\n      <td>0.0</td>\n      <td>0.0</td>\n      <td>0.0</td>\n      <td>0.0</td>\n      <td>0.0</td>\n      <td>0.0</td>\n    </tr>\n    <tr>\n      <th>MN+2</th>\n      <td>0.0</td>\n      <td>1.0</td>\n      <td>0.0</td>\n      <td>0.0</td>\n      <td>0.0</td>\n      <td>0.0</td>\n      <td>0.0</td>\n      <td>0.0</td>\n      <td>0.0</td>\n      <td>0.0</td>\n      <td>0.0</td>\n      <td>0.0</td>\n      <td>0.0</td>\n      <td>0.0</td>\n      <td>0.0</td>\n      <td>0.0</td>\n      <td>0.0</td>\n      <td>0.0</td>\n    </tr>\n    <tr>\n      <th>PYRIDOXAL_PHOSPHATE</th>\n      <td>0.0</td>\n      <td>0.0</td>\n      <td>8.0</td>\n      <td>1.0</td>\n      <td>6.0</td>\n      <td>1.0</td>\n      <td>0.0</td>\n      <td>0.0</td>\n      <td>0.0</td>\n      <td>0.0</td>\n      <td>0.0</td>\n      <td>0.0</td>\n      <td>0.0</td>\n      <td>0.0</td>\n      <td>0.0</td>\n      <td>0.0</td>\n      <td>0.0</td>\n      <td>0.0</td>\n    </tr>\n    <tr>\n      <th>ZN+2</th>\n      <td>0.0</td>\n      <td>0.0</td>\n      <td>0.0</td>\n      <td>0.0</td>\n      <td>0.0</td>\n      <td>0.0</td>\n      <td>1.0</td>\n      <td>0.0</td>\n      <td>0.0</td>\n      <td>0.0</td>\n      <td>0.0</td>\n      <td>0.0</td>\n      <td>0.0</td>\n      <td>0.0</td>\n      <td>0.0</td>\n      <td>0.0</td>\n      <td>0.0</td>\n      <td>0.0</td>\n    </tr>\n    <tr>\n      <th>23-DIPHOSPHOGLYCERATE</th>\n      <td>0.0</td>\n      <td>0.0</td>\n      <td>3.0</td>\n      <td>0.0</td>\n      <td>10.0</td>\n      <td>2.0</td>\n      <td>0.0</td>\n      <td>0.0</td>\n      <td>0.0</td>\n      <td>0.0</td>\n      <td>0.0</td>\n      <td>0.0</td>\n      <td>0.0</td>\n      <td>0.0</td>\n      <td>0.0</td>\n      <td>0.0</td>\n      <td>0.0</td>\n      <td>0.0</td>\n    </tr>\n    <tr>\n      <th>FAD</th>\n      <td>0.0</td>\n      <td>0.0</td>\n      <td>27.0</td>\n      <td>9.0</td>\n      <td>15.0</td>\n      <td>2.0</td>\n      <td>0.0</td>\n      <td>0.0</td>\n      <td>0.0</td>\n      <td>0.0</td>\n      <td>0.0</td>\n      <td>0.0</td>\n      <td>0.0</td>\n      <td>0.0</td>\n      <td>0.0</td>\n      <td>0.0</td>\n      <td>0.0</td>\n      <td>0.0</td>\n    </tr>\n    <tr>\n      <th>K+</th>\n      <td>0.0</td>\n      <td>0.0</td>\n      <td>0.0</td>\n      <td>0.0</td>\n      <td>0.0</td>\n      <td>0.0</td>\n      <td>0.0</td>\n      <td>1.0</td>\n      <td>0.0</td>\n      <td>0.0</td>\n      <td>0.0</td>\n      <td>0.0</td>\n      <td>0.0</td>\n      <td>0.0</td>\n      <td>0.0</td>\n      <td>0.0</td>\n      <td>0.0</td>\n      <td>0.0</td>\n    </tr>\n    <tr>\n      <th>CPD-7</th>\n      <td>0.0</td>\n      <td>0.0</td>\n      <td>0.0</td>\n      <td>0.0</td>\n      <td>0.0</td>\n      <td>0.0</td>\n      <td>0.0</td>\n      <td>0.0</td>\n      <td>4.0</td>\n      <td>4.0</td>\n      <td>0.0</td>\n      <td>0.0</td>\n      <td>0.0</td>\n      <td>0.0</td>\n      <td>0.0</td>\n      <td>0.0</td>\n      <td>0.0</td>\n      <td>0.0</td>\n    </tr>\n    <tr>\n      <th>FE+2</th>\n      <td>0.0</td>\n      <td>0.0</td>\n      <td>0.0</td>\n      <td>0.0</td>\n      <td>0.0</td>\n      <td>0.0</td>\n      <td>0.0</td>\n      <td>0.0</td>\n      <td>1.0</td>\n      <td>0.0</td>\n      <td>0.0</td>\n      <td>0.0</td>\n      <td>0.0</td>\n      <td>0.0</td>\n      <td>0.0</td>\n      <td>0.0</td>\n      <td>0.0</td>\n      <td>0.0</td>\n    </tr>\n    <tr>\n      <th>THIAMINE-PYROPHOSPHATE</th>\n      <td>0.0</td>\n      <td>0.0</td>\n      <td>12.0</td>\n      <td>4.0</td>\n      <td>7.0</td>\n      <td>2.0</td>\n      <td>0.0</td>\n      <td>0.0</td>\n      <td>0.0</td>\n      <td>1.0</td>\n      <td>0.0</td>\n      <td>0.0</td>\n      <td>0.0</td>\n      <td>0.0</td>\n      <td>0.0</td>\n      <td>0.0</td>\n      <td>0.0</td>\n      <td>0.0</td>\n    </tr>\n    <tr>\n      <th>NI+2</th>\n      <td>0.0</td>\n      <td>0.0</td>\n      <td>0.0</td>\n      <td>0.0</td>\n      <td>0.0</td>\n      <td>0.0</td>\n      <td>0.0</td>\n      <td>0.0</td>\n      <td>0.0</td>\n      <td>0.0</td>\n      <td>1.0</td>\n      <td>0.0</td>\n      <td>0.0</td>\n      <td>0.0</td>\n      <td>0.0</td>\n      <td>0.0</td>\n      <td>0.0</td>\n      <td>0.0</td>\n    </tr>\n    <tr>\n      <th>FMN</th>\n      <td>0.0</td>\n      <td>0.0</td>\n      <td>17.0</td>\n      <td>4.0</td>\n      <td>9.0</td>\n      <td>1.0</td>\n      <td>0.0</td>\n      <td>0.0</td>\n      <td>0.0</td>\n      <td>0.0</td>\n      <td>0.0</td>\n      <td>0.0</td>\n      <td>0.0</td>\n      <td>0.0</td>\n      <td>0.0</td>\n      <td>0.0</td>\n      <td>0.0</td>\n      <td>0.0</td>\n    </tr>\n    <tr>\n      <th>Heme-b</th>\n      <td>0.0</td>\n      <td>0.0</td>\n      <td>34.0</td>\n      <td>4.0</td>\n      <td>4.0</td>\n      <td>0.0</td>\n      <td>0.0</td>\n      <td>0.0</td>\n      <td>1.0</td>\n      <td>0.0</td>\n      <td>0.0</td>\n      <td>0.0</td>\n      <td>0.0</td>\n      <td>0.0</td>\n      <td>0.0</td>\n      <td>0.0</td>\n      <td>0.0</td>\n      <td>0.0</td>\n    </tr>\n    <tr>\n      <th>CU+2</th>\n      <td>0.0</td>\n      <td>0.0</td>\n      <td>0.0</td>\n      <td>0.0</td>\n      <td>0.0</td>\n      <td>0.0</td>\n      <td>0.0</td>\n      <td>0.0</td>\n      <td>0.0</td>\n      <td>0.0</td>\n      <td>0.0</td>\n      <td>1.0</td>\n      <td>0.0</td>\n      <td>0.0</td>\n      <td>0.0</td>\n      <td>0.0</td>\n      <td>0.0</td>\n      <td>0.0</td>\n    </tr>\n    <tr>\n      <th>HEME_O</th>\n      <td>0.0</td>\n      <td>0.0</td>\n      <td>49.0</td>\n      <td>4.0</td>\n      <td>5.0</td>\n      <td>0.0</td>\n      <td>0.0</td>\n      <td>0.0</td>\n      <td>1.0</td>\n      <td>0.0</td>\n      <td>0.0</td>\n      <td>0.0</td>\n      <td>0.0</td>\n      <td>0.0</td>\n      <td>0.0</td>\n      <td>0.0</td>\n      <td>0.0</td>\n      <td>0.0</td>\n    </tr>\n    <tr>\n      <th>NAD</th>\n      <td>0.0</td>\n      <td>0.0</td>\n      <td>21.0</td>\n      <td>7.0</td>\n      <td>14.0</td>\n      <td>2.0</td>\n      <td>0.0</td>\n      <td>0.0</td>\n      <td>0.0</td>\n      <td>0.0</td>\n      <td>0.0</td>\n      <td>0.0</td>\n      <td>0.0</td>\n      <td>0.0</td>\n      <td>0.0</td>\n      <td>0.0</td>\n      <td>0.0</td>\n      <td>0.0</td>\n    </tr>\n    <tr>\n      <th>CPD-6</th>\n      <td>0.0</td>\n      <td>0.0</td>\n      <td>0.0</td>\n      <td>0.0</td>\n      <td>0.0</td>\n      <td>0.0</td>\n      <td>0.0</td>\n      <td>0.0</td>\n      <td>2.0</td>\n      <td>6.0</td>\n      <td>0.0</td>\n      <td>0.0</td>\n      <td>4.0</td>\n      <td>0.0</td>\n      <td>0.0</td>\n      <td>0.0</td>\n      <td>0.0</td>\n      <td>0.0</td>\n    </tr>\n    <tr>\n      <th>HCO3</th>\n      <td>0.0</td>\n      <td>0.0</td>\n      <td>1.0</td>\n      <td>0.0</td>\n      <td>3.0</td>\n      <td>0.0</td>\n      <td>0.0</td>\n      <td>0.0</td>\n      <td>0.0</td>\n      <td>0.0</td>\n      <td>0.0</td>\n      <td>0.0</td>\n      <td>0.0</td>\n      <td>0.0</td>\n      <td>0.0</td>\n      <td>0.0</td>\n      <td>0.0</td>\n      <td>0.0</td>\n    </tr>\n    <tr>\n      <th>CO+2</th>\n      <td>0.0</td>\n      <td>0.0</td>\n      <td>0.0</td>\n      <td>0.0</td>\n      <td>0.0</td>\n      <td>0.0</td>\n      <td>0.0</td>\n      <td>0.0</td>\n      <td>0.0</td>\n      <td>0.0</td>\n      <td>0.0</td>\n      <td>0.0</td>\n      <td>0.0</td>\n      <td>1.0</td>\n      <td>0.0</td>\n      <td>0.0</td>\n      <td>0.0</td>\n      <td>0.0</td>\n    </tr>\n    <tr>\n      <th>NADP</th>\n      <td>0.0</td>\n      <td>0.0</td>\n      <td>21.0</td>\n      <td>7.0</td>\n      <td>17.0</td>\n      <td>3.0</td>\n      <td>0.0</td>\n      <td>0.0</td>\n      <td>0.0</td>\n      <td>0.0</td>\n      <td>0.0</td>\n      <td>0.0</td>\n      <td>0.0</td>\n      <td>0.0</td>\n      <td>0.0</td>\n      <td>0.0</td>\n      <td>0.0</td>\n      <td>0.0</td>\n    </tr>\n    <tr>\n      <th>3FE-4S</th>\n      <td>0.0</td>\n      <td>0.0</td>\n      <td>0.0</td>\n      <td>0.0</td>\n      <td>0.0</td>\n      <td>0.0</td>\n      <td>0.0</td>\n      <td>0.0</td>\n      <td>3.0</td>\n      <td>4.0</td>\n      <td>0.0</td>\n      <td>0.0</td>\n      <td>0.0</td>\n      <td>0.0</td>\n      <td>0.0</td>\n      <td>0.0</td>\n      <td>0.0</td>\n      <td>0.0</td>\n    </tr>\n    <tr>\n      <th>LIPOIC-ACID</th>\n      <td>0.0</td>\n      <td>0.0</td>\n      <td>8.0</td>\n      <td>0.0</td>\n      <td>2.0</td>\n      <td>0.0</td>\n      <td>0.0</td>\n      <td>0.0</td>\n      <td>0.0</td>\n      <td>2.0</td>\n      <td>0.0</td>\n      <td>0.0</td>\n      <td>0.0</td>\n      <td>0.0</td>\n      <td>0.0</td>\n      <td>0.0</td>\n      <td>0.0</td>\n      <td>0.0</td>\n    </tr>\n    <tr>\n      <th>FE+3</th>\n      <td>0.0</td>\n      <td>0.0</td>\n      <td>0.0</td>\n      <td>0.0</td>\n      <td>0.0</td>\n      <td>0.0</td>\n      <td>0.0</td>\n      <td>0.0</td>\n      <td>1.0</td>\n      <td>0.0</td>\n      <td>0.0</td>\n      <td>0.0</td>\n      <td>0.0</td>\n      <td>0.0</td>\n      <td>0.0</td>\n      <td>0.0</td>\n      <td>0.0</td>\n      <td>0.0</td>\n    </tr>\n    <tr>\n      <th>CA+2</th>\n      <td>0.0</td>\n      <td>0.0</td>\n      <td>0.0</td>\n      <td>0.0</td>\n      <td>0.0</td>\n      <td>0.0</td>\n      <td>0.0</td>\n      <td>0.0</td>\n      <td>0.0</td>\n      <td>0.0</td>\n      <td>0.0</td>\n      <td>0.0</td>\n      <td>0.0</td>\n      <td>0.0</td>\n      <td>1.0</td>\n      <td>0.0</td>\n      <td>0.0</td>\n      <td>0.0</td>\n    </tr>\n    <tr>\n      <th>PROTOHEME</th>\n      <td>0.0</td>\n      <td>0.0</td>\n      <td>34.0</td>\n      <td>4.0</td>\n      <td>4.0</td>\n      <td>0.0</td>\n      <td>0.0</td>\n      <td>0.0</td>\n      <td>1.0</td>\n      <td>0.0</td>\n      <td>0.0</td>\n      <td>0.0</td>\n      <td>0.0</td>\n      <td>0.0</td>\n      <td>0.0</td>\n      <td>0.0</td>\n      <td>0.0</td>\n      <td>0.0</td>\n    </tr>\n    <tr>\n      <th>LYS</th>\n      <td>0.0</td>\n      <td>0.0</td>\n      <td>6.0</td>\n      <td>2.0</td>\n      <td>2.0</td>\n      <td>0.0</td>\n      <td>0.0</td>\n      <td>0.0</td>\n      <td>0.0</td>\n      <td>0.0</td>\n      <td>0.0</td>\n      <td>0.0</td>\n      <td>0.0</td>\n      <td>0.0</td>\n      <td>0.0</td>\n      <td>0.0</td>\n      <td>0.0</td>\n      <td>0.0</td>\n    </tr>\n    <tr>\n      <th>FMNH2</th>\n      <td>0.0</td>\n      <td>0.0</td>\n      <td>17.0</td>\n      <td>4.0</td>\n      <td>9.0</td>\n      <td>1.0</td>\n      <td>0.0</td>\n      <td>0.0</td>\n      <td>0.0</td>\n      <td>0.0</td>\n      <td>0.0</td>\n      <td>0.0</td>\n      <td>0.0</td>\n      <td>0.0</td>\n      <td>0.0</td>\n      <td>0.0</td>\n      <td>0.0</td>\n      <td>0.0</td>\n    </tr>\n    <tr>\n      <th>SIROHEME</th>\n      <td>0.0</td>\n      <td>0.0</td>\n      <td>42.0</td>\n      <td>4.0</td>\n      <td>16.0</td>\n      <td>0.0</td>\n      <td>0.0</td>\n      <td>0.0</td>\n      <td>1.0</td>\n      <td>0.0</td>\n      <td>0.0</td>\n      <td>0.0</td>\n      <td>0.0</td>\n      <td>0.0</td>\n      <td>0.0</td>\n      <td>0.0</td>\n      <td>0.0</td>\n      <td>0.0</td>\n    </tr>\n    <tr>\n      <th>FeS-Centers</th>\n      <td>0.0</td>\n      <td>0.0</td>\n      <td>0.0</td>\n      <td>0.0</td>\n      <td>0.0</td>\n      <td>0.0</td>\n      <td>0.0</td>\n      <td>0.0</td>\n      <td>4.0</td>\n      <td>4.0</td>\n      <td>0.0</td>\n      <td>0.0</td>\n      <td>0.0</td>\n      <td>0.0</td>\n      <td>0.0</td>\n      <td>0.0</td>\n      <td>0.0</td>\n      <td>0.0</td>\n    </tr>\n    <tr>\n      <th>AMMONIUM</th>\n      <td>0.0</td>\n      <td>0.0</td>\n      <td>0.0</td>\n      <td>1.0</td>\n      <td>0.0</td>\n      <td>0.0</td>\n      <td>0.0</td>\n      <td>0.0</td>\n      <td>0.0</td>\n      <td>0.0</td>\n      <td>0.0</td>\n      <td>0.0</td>\n      <td>0.0</td>\n      <td>0.0</td>\n      <td>0.0</td>\n      <td>4.0</td>\n      <td>0.0</td>\n      <td>0.0</td>\n    </tr>\n    <tr>\n      <th>CPD-23429</th>\n      <td>0.0</td>\n      <td>0.0</td>\n      <td>34.0</td>\n      <td>4.0</td>\n      <td>6.0</td>\n      <td>0.0</td>\n      <td>0.0</td>\n      <td>0.0</td>\n      <td>1.0</td>\n      <td>0.0</td>\n      <td>0.0</td>\n      <td>0.0</td>\n      <td>0.0</td>\n      <td>0.0</td>\n      <td>0.0</td>\n      <td>0.0</td>\n      <td>0.0</td>\n      <td>0.0</td>\n    </tr>\n    <tr>\n      <th>NADPH</th>\n      <td>0.0</td>\n      <td>0.0</td>\n      <td>21.0</td>\n      <td>7.0</td>\n      <td>17.0</td>\n      <td>3.0</td>\n      <td>0.0</td>\n      <td>0.0</td>\n      <td>0.0</td>\n      <td>0.0</td>\n      <td>0.0</td>\n      <td>0.0</td>\n      <td>0.0</td>\n      <td>0.0</td>\n      <td>0.0</td>\n      <td>0.0</td>\n      <td>0.0</td>\n      <td>0.0</td>\n    </tr>\n    <tr>\n      <th>CPD-15873</th>\n      <td>0.0</td>\n      <td>0.0</td>\n      <td>40.0</td>\n      <td>20.0</td>\n      <td>27.0</td>\n      <td>4.0</td>\n      <td>0.0</td>\n      <td>0.0</td>\n      <td>0.0</td>\n      <td>4.0</td>\n      <td>0.0</td>\n      <td>0.0</td>\n      <td>0.0</td>\n      <td>0.0</td>\n      <td>0.0</td>\n      <td>6.0</td>\n      <td>1.0</td>\n      <td>0.0</td>\n    </tr>\n    <tr>\n      <th>CPD-18260</th>\n      <td>0.0</td>\n      <td>0.0</td>\n      <td>22.0</td>\n      <td>4.0</td>\n      <td>9.0</td>\n      <td>1.0</td>\n      <td>0.0</td>\n      <td>0.0</td>\n      <td>0.0</td>\n      <td>0.0</td>\n      <td>0.0</td>\n      <td>0.0</td>\n      <td>0.0</td>\n      <td>0.0</td>\n      <td>0.0</td>\n      <td>0.0</td>\n      <td>0.0</td>\n      <td>0.0</td>\n    </tr>\n    <tr>\n      <th>CPD-8123</th>\n      <td>0.0</td>\n      <td>0.0</td>\n      <td>10.0</td>\n      <td>5.0</td>\n      <td>8.0</td>\n      <td>1.0</td>\n      <td>0.0</td>\n      <td>0.0</td>\n      <td>0.0</td>\n      <td>2.0</td>\n      <td>0.0</td>\n      <td>0.0</td>\n      <td>0.0</td>\n      <td>0.0</td>\n      <td>0.0</td>\n      <td>3.0</td>\n      <td>1.0</td>\n      <td>0.0</td>\n    </tr>\n    <tr>\n      <th>CPD0-1882</th>\n      <td>0.0</td>\n      <td>0.0</td>\n      <td>19.0</td>\n      <td>8.0</td>\n      <td>15.0</td>\n      <td>2.0</td>\n      <td>0.0</td>\n      <td>0.0</td>\n      <td>0.0</td>\n      <td>2.0</td>\n      <td>0.0</td>\n      <td>0.0</td>\n      <td>0.0</td>\n      <td>0.0</td>\n      <td>0.0</td>\n      <td>3.0</td>\n      <td>1.0</td>\n      <td>0.0</td>\n    </tr>\n    <tr>\n      <th>HEME_D</th>\n      <td>0.0</td>\n      <td>0.0</td>\n      <td>34.0</td>\n      <td>4.0</td>\n      <td>6.0</td>\n      <td>0.0</td>\n      <td>0.0</td>\n      <td>0.0</td>\n      <td>1.0</td>\n      <td>0.0</td>\n      <td>0.0</td>\n      <td>0.0</td>\n      <td>0.0</td>\n      <td>0.0</td>\n      <td>0.0</td>\n      <td>0.0</td>\n      <td>0.0</td>\n      <td>0.0</td>\n    </tr>\n    <tr>\n      <th>HEME_C</th>\n      <td>0.0</td>\n      <td>0.0</td>\n      <td>34.0</td>\n      <td>4.0</td>\n      <td>4.0</td>\n      <td>0.0</td>\n      <td>0.0</td>\n      <td>0.0</td>\n      <td>1.0</td>\n      <td>2.0</td>\n      <td>0.0</td>\n      <td>0.0</td>\n      <td>0.0</td>\n      <td>0.0</td>\n      <td>0.0</td>\n      <td>0.0</td>\n      <td>0.0</td>\n      <td>0.0</td>\n    </tr>\n    <tr>\n      <th>ADENOSYLCOBALAMIN</th>\n      <td>0.0</td>\n      <td>0.0</td>\n      <td>72.0</td>\n      <td>18.0</td>\n      <td>17.0</td>\n      <td>1.0</td>\n      <td>0.0</td>\n      <td>0.0</td>\n      <td>0.0</td>\n      <td>0.0</td>\n      <td>0.0</td>\n      <td>0.0</td>\n      <td>0.0</td>\n      <td>1.0</td>\n      <td>0.0</td>\n      <td>0.0</td>\n      <td>0.0</td>\n      <td>0.0</td>\n    </tr>\n    <tr>\n      <th>TOPAQUINONE</th>\n      <td>0.0</td>\n      <td>0.0</td>\n      <td>9.0</td>\n      <td>1.0</td>\n      <td>4.0</td>\n      <td>0.0</td>\n      <td>0.0</td>\n      <td>0.0</td>\n      <td>0.0</td>\n      <td>0.0</td>\n      <td>0.0</td>\n      <td>0.0</td>\n      <td>0.0</td>\n      <td>0.0</td>\n      <td>0.0</td>\n      <td>0.0</td>\n      <td>0.0</td>\n      <td>2.0</td>\n    </tr>\n    <tr>\n      <th>CPD0-2654</th>\n      <td>0.0</td>\n      <td>0.0</td>\n      <td>3.0</td>\n      <td>0.0</td>\n      <td>2.0</td>\n      <td>0.0</td>\n      <td>0.0</td>\n      <td>0.0</td>\n      <td>0.0</td>\n      <td>0.0</td>\n      <td>0.0</td>\n      <td>0.0</td>\n      <td>0.0</td>\n      <td>0.0</td>\n      <td>0.0</td>\n      <td>0.0</td>\n      <td>0.0</td>\n      <td>1.0</td>\n    </tr>\n    <tr>\n      <th>CPD-24862</th>\n      <td>0.0</td>\n      <td>0.0</td>\n      <td>3.0</td>\n      <td>2.0</td>\n      <td>1.0</td>\n      <td>0.0</td>\n      <td>0.0</td>\n      <td>0.0</td>\n      <td>1.0</td>\n      <td>4.0</td>\n      <td>1.0</td>\n      <td>0.0</td>\n      <td>0.0</td>\n      <td>0.0</td>\n      <td>0.0</td>\n      <td>0.0</td>\n      <td>0.0</td>\n      <td>4.0</td>\n    </tr>\n    <tr>\n      <th>CPD-17649</th>\n      <td>0.0</td>\n      <td>0.0</td>\n      <td>0.0</td>\n      <td>0.0</td>\n      <td>0.0</td>\n      <td>0.0</td>\n      <td>0.0</td>\n      <td>0.0</td>\n      <td>4.0</td>\n      <td>4.0</td>\n      <td>0.0</td>\n      <td>0.0</td>\n      <td>0.0</td>\n      <td>0.0</td>\n      <td>0.0</td>\n      <td>0.0</td>\n      <td>0.0</td>\n      <td>0.0</td>\n    </tr>\n    <tr>\n      <th>GTP</th>\n      <td>0.0</td>\n      <td>0.0</td>\n      <td>10.0</td>\n      <td>5.0</td>\n      <td>14.0</td>\n      <td>3.0</td>\n      <td>0.0</td>\n      <td>0.0</td>\n      <td>0.0</td>\n      <td>0.0</td>\n      <td>0.0</td>\n      <td>0.0</td>\n      <td>0.0</td>\n      <td>0.0</td>\n      <td>0.0</td>\n      <td>0.0</td>\n      <td>0.0</td>\n      <td>0.0</td>\n    </tr>\n  </tbody>\n</table>\n</div>"
     },
     "execution_count": 183,
     "metadata": {},
     "output_type": "execute_result"
    }
   ],
   "source": [
    "element_matrix = cofactor_df['molecular_composition'].apply(pd.Series).fillna(0)\n",
    "element_matrix"
   ],
   "metadata": {
    "collapsed": false,
    "ExecuteTime": {
     "end_time": "2023-06-14T21:12:59.340568Z",
     "start_time": "2023-06-14T21:12:59.273206Z"
    }
   }
  },
  {
   "cell_type": "code",
   "execution_count": 184,
   "outputs": [],
   "source": [
    "metals = ['MG', 'MN', 'ZN', 'FE', 'NI', 'CU', 'CO', 'CA', 'MO']\n",
    "metal_distribution = pd.DataFrame(index=element_matrix.index, columns=metals).fillna(0)\n",
    "for element in metals:\n",
    "    metal_distribution.loc[:, element] = cofactor_df['counts'] * element_matrix.loc[:, element]\n"
   ],
   "metadata": {
    "collapsed": false,
    "ExecuteTime": {
     "end_time": "2023-06-14T21:13:01.747717Z",
     "start_time": "2023-06-14T21:13:01.743268Z"
    }
   }
  },
  {
   "cell_type": "code",
   "execution_count": 185,
   "outputs": [
    {
     "data": {
      "text/plain": "cofactors\nCPD-7                     18224.0\nFE+2                       3256.0\nCPD-6                      1270.0\nHeme-b                     1025.0\nHEME_O                      814.0\n3FE-4S                      636.0\nFeS-Centers                 304.0\nFE+3                        161.0\nPROTOHEME                   139.0\nSIROHEME                     98.0\nCPD-23429                    46.0\nHEME_D                       13.0\nHEME_C                       13.0\nNADPH                         0.0\nCPD-17649                     0.0\nAMMONIUM                      0.0\nCPD-24862                     0.0\nADENOSYLCOBALAMIN             0.0\nCPD-15873                     0.0\nCPD-18260                     0.0\nTOPAQUINONE                   0.0\nCPD-8123                      0.0\nFMNH2                         0.0\nCPD0-1882                     0.0\nCPD0-2654                     0.0\nMG+2                          0.0\nLYS                           0.0\nCA+2                          0.0\nPYRIDOXAL_PHOSPHATE           0.0\nZN+2                          0.0\n23-DIPHOSPHOGLYCERATE         0.0\nFAD                           0.0\nK+                            0.0\nTHIAMINE-PYROPHOSPHATE        0.0\nNI+2                          0.0\nFMN                           0.0\nCU+2                          0.0\nNAD                           0.0\nHCO3                          0.0\nCO+2                          0.0\nNADP                          0.0\nLIPOIC-ACID                   0.0\nMN+2                          0.0\nGTP                           0.0\nName: FE, dtype: float64"
     },
     "execution_count": 185,
     "metadata": {},
     "output_type": "execute_result"
    }
   ],
   "source": [
    "metal_distribution.sort_values(by='FE', ascending=False)['FE']"
   ],
   "metadata": {
    "collapsed": false,
    "ExecuteTime": {
     "end_time": "2023-06-14T21:13:02.119465Z",
     "start_time": "2023-06-14T21:13:02.115059Z"
    }
   }
  },
  {
   "cell_type": "markdown",
   "source": [
    "# Chain iron content back to enzymes"
   ],
   "metadata": {
    "collapsed": false
   }
  },
  {
   "cell_type": "code",
   "execution_count": 186,
   "outputs": [
    {
     "data": {
      "text/plain": "                               complex  stoichiometry  \\\n0                                1-PFK              1   \n1                2OXOGLUTARATEDEH-CPLX              1   \n2          3-ISOPROPYLMALDEHYDROG-CPLX              1   \n3              3-ISOPROPYLMALISOM-CPLX              1   \n4     3-METHYL-2-OXOBUT-OHCH3XFER-CPLX              1   \n...                                ...            ...   \n1096                        CPLX0-8053              1   \n1097                        CPLX0-8253              1   \n1098                          SRP-CPLX              1   \n1099                     CPLX0-7796APO              1   \n1100                         ARCB-CPLX              1   \n\n                                  reaction  \\\n0                                1-PFK_RXN   \n1                2OXOGLUTARATEDEH-CPLX_RXN   \n2          3-ISOPROPYLMALDEHYDROG-CPLX_RXN   \n3              3-ISOPROPYLMALISOM-CPLX_RXN   \n4     3-METHYL-2-OXOBUT-OHCH3XFER-CPLX_RXN   \n...                                    ...   \n1096                        CPLX0-8053_RXN   \n1097                        CPLX0-8253_RXN   \n1098                          SRP-CPLX_RXN   \n1099                     CPLX0-7796APO_RXN   \n1100                         ARCB-CPLX_RXN   \n\n                         enzyme-reaction  \\\n0                  1PFRUCTPHOSPHN-ENZRXN   \n1                2OXOGLUTARATEDEH-ENZRXN   \n2          3-ISOPROPYLMALDEHYDROG-ENZRXN   \n3              3-ISOPROPYLMALISOM-ENZRXN   \n4     3-METHYL-2-OXOBUT-OHCH3XFER-ENZRXN   \n...                                  ...   \n1096                                None   \n1097                                None   \n1098                                None   \n1099                                None   \n1100                        ENZRXN0-8568   \n\n                                             cofactors  counts  \n0                                               [MG+2]      31  \n1     [LIPOIC-ACID, THIAMINE-PYROPHOSPHATE, FAD, MG+2]      86  \n2                                         [MG+2, MN+2]    1065  \n3                                              [CPD-7]    2631  \n4                                               [MG+2]     174  \n...                                                ...     ...  \n1096                                                []     208  \n1097                                                []       0  \n1098                                                []       0  \n1099                                                []      50  \n1100                                                []       1  \n\n[1101 rows x 6 columns]",
      "text/html": "<div>\n<style scoped>\n    .dataframe tbody tr th:only-of-type {\n        vertical-align: middle;\n    }\n\n    .dataframe tbody tr th {\n        vertical-align: top;\n    }\n\n    .dataframe thead th {\n        text-align: right;\n    }\n</style>\n<table border=\"1\" class=\"dataframe\">\n  <thead>\n    <tr style=\"text-align: right;\">\n      <th></th>\n      <th>complex</th>\n      <th>stoichiometry</th>\n      <th>reaction</th>\n      <th>enzyme-reaction</th>\n      <th>cofactors</th>\n      <th>counts</th>\n    </tr>\n  </thead>\n  <tbody>\n    <tr>\n      <th>0</th>\n      <td>1-PFK</td>\n      <td>1</td>\n      <td>1-PFK_RXN</td>\n      <td>1PFRUCTPHOSPHN-ENZRXN</td>\n      <td>[MG+2]</td>\n      <td>31</td>\n    </tr>\n    <tr>\n      <th>1</th>\n      <td>2OXOGLUTARATEDEH-CPLX</td>\n      <td>1</td>\n      <td>2OXOGLUTARATEDEH-CPLX_RXN</td>\n      <td>2OXOGLUTARATEDEH-ENZRXN</td>\n      <td>[LIPOIC-ACID, THIAMINE-PYROPHOSPHATE, FAD, MG+2]</td>\n      <td>86</td>\n    </tr>\n    <tr>\n      <th>2</th>\n      <td>3-ISOPROPYLMALDEHYDROG-CPLX</td>\n      <td>1</td>\n      <td>3-ISOPROPYLMALDEHYDROG-CPLX_RXN</td>\n      <td>3-ISOPROPYLMALDEHYDROG-ENZRXN</td>\n      <td>[MG+2, MN+2]</td>\n      <td>1065</td>\n    </tr>\n    <tr>\n      <th>3</th>\n      <td>3-ISOPROPYLMALISOM-CPLX</td>\n      <td>1</td>\n      <td>3-ISOPROPYLMALISOM-CPLX_RXN</td>\n      <td>3-ISOPROPYLMALISOM-ENZRXN</td>\n      <td>[CPD-7]</td>\n      <td>2631</td>\n    </tr>\n    <tr>\n      <th>4</th>\n      <td>3-METHYL-2-OXOBUT-OHCH3XFER-CPLX</td>\n      <td>1</td>\n      <td>3-METHYL-2-OXOBUT-OHCH3XFER-CPLX_RXN</td>\n      <td>3-METHYL-2-OXOBUT-OHCH3XFER-ENZRXN</td>\n      <td>[MG+2]</td>\n      <td>174</td>\n    </tr>\n    <tr>\n      <th>...</th>\n      <td>...</td>\n      <td>...</td>\n      <td>...</td>\n      <td>...</td>\n      <td>...</td>\n      <td>...</td>\n    </tr>\n    <tr>\n      <th>1096</th>\n      <td>CPLX0-8053</td>\n      <td>1</td>\n      <td>CPLX0-8053_RXN</td>\n      <td>None</td>\n      <td>[]</td>\n      <td>208</td>\n    </tr>\n    <tr>\n      <th>1097</th>\n      <td>CPLX0-8253</td>\n      <td>1</td>\n      <td>CPLX0-8253_RXN</td>\n      <td>None</td>\n      <td>[]</td>\n      <td>0</td>\n    </tr>\n    <tr>\n      <th>1098</th>\n      <td>SRP-CPLX</td>\n      <td>1</td>\n      <td>SRP-CPLX_RXN</td>\n      <td>None</td>\n      <td>[]</td>\n      <td>0</td>\n    </tr>\n    <tr>\n      <th>1099</th>\n      <td>CPLX0-7796APO</td>\n      <td>1</td>\n      <td>CPLX0-7796APO_RXN</td>\n      <td>None</td>\n      <td>[]</td>\n      <td>50</td>\n    </tr>\n    <tr>\n      <th>1100</th>\n      <td>ARCB-CPLX</td>\n      <td>1</td>\n      <td>ARCB-CPLX_RXN</td>\n      <td>ENZRXN0-8568</td>\n      <td>[]</td>\n      <td>1</td>\n    </tr>\n  </tbody>\n</table>\n<p>1101 rows × 6 columns</p>\n</div>"
     },
     "execution_count": 186,
     "metadata": {},
     "output_type": "execute_result"
    }
   ],
   "source": [
    "complex_df.loc[:]"
   ],
   "metadata": {
    "collapsed": false,
    "ExecuteTime": {
     "end_time": "2023-06-14T21:13:05.545868Z",
     "start_time": "2023-06-14T21:13:05.541941Z"
    }
   }
  },
  {
   "cell_type": "code",
   "execution_count": 223,
   "outputs": [
    {
     "data": {
      "text/plain": "                     complex    cofactors  counts  fe_counts  fe_counts_norm\n7    3-ISOPROPYLMALISOM-CPLX        CPD-7    2631    10524.0       40.478480\n31                 ADHE-CPLX         FE+2      93       93.0        0.357706\n43     ANGLYC3PDEHYDROG-CPLX  FeS-Centers      69      276.0        1.061579\n48            APP-UBIOX-CPLX       HEME_D      13       13.0        0.050002\n49            APP-UBIOX-CPLX       Heme-b      13       13.0        0.050002\n..                       ...          ...     ...        ...             ...\n415      SULFITE-REDUCT-CPLX        CPD-7      93      372.0        1.430824\n418      SULFITE-REDUCT-CPLX     SIROHEME      93       93.0        0.357706\n419    SUPEROX-DISMUTFE-CPLX         FE+3     161      161.0        0.619255\n424          THREODEHYD-CPLX         FE+2      33       33.0        0.126928\n429         TMAOREDUCTI-CPLX       HEME_C       3        3.0        0.011539\n\n[65 rows x 5 columns]",
      "text/html": "<div>\n<style scoped>\n    .dataframe tbody tr th:only-of-type {\n        vertical-align: middle;\n    }\n\n    .dataframe tbody tr th {\n        vertical-align: top;\n    }\n\n    .dataframe thead th {\n        text-align: right;\n    }\n</style>\n<table border=\"1\" class=\"dataframe\">\n  <thead>\n    <tr style=\"text-align: right;\">\n      <th></th>\n      <th>complex</th>\n      <th>cofactors</th>\n      <th>counts</th>\n      <th>fe_counts</th>\n      <th>fe_counts_norm</th>\n    </tr>\n  </thead>\n  <tbody>\n    <tr>\n      <th>7</th>\n      <td>3-ISOPROPYLMALISOM-CPLX</td>\n      <td>CPD-7</td>\n      <td>2631</td>\n      <td>10524.0</td>\n      <td>40.478480</td>\n    </tr>\n    <tr>\n      <th>31</th>\n      <td>ADHE-CPLX</td>\n      <td>FE+2</td>\n      <td>93</td>\n      <td>93.0</td>\n      <td>0.357706</td>\n    </tr>\n    <tr>\n      <th>43</th>\n      <td>ANGLYC3PDEHYDROG-CPLX</td>\n      <td>FeS-Centers</td>\n      <td>69</td>\n      <td>276.0</td>\n      <td>1.061579</td>\n    </tr>\n    <tr>\n      <th>48</th>\n      <td>APP-UBIOX-CPLX</td>\n      <td>HEME_D</td>\n      <td>13</td>\n      <td>13.0</td>\n      <td>0.050002</td>\n    </tr>\n    <tr>\n      <th>49</th>\n      <td>APP-UBIOX-CPLX</td>\n      <td>Heme-b</td>\n      <td>13</td>\n      <td>13.0</td>\n      <td>0.050002</td>\n    </tr>\n    <tr>\n      <th>...</th>\n      <td>...</td>\n      <td>...</td>\n      <td>...</td>\n      <td>...</td>\n      <td>...</td>\n    </tr>\n    <tr>\n      <th>415</th>\n      <td>SULFITE-REDUCT-CPLX</td>\n      <td>CPD-7</td>\n      <td>93</td>\n      <td>372.0</td>\n      <td>1.430824</td>\n    </tr>\n    <tr>\n      <th>418</th>\n      <td>SULFITE-REDUCT-CPLX</td>\n      <td>SIROHEME</td>\n      <td>93</td>\n      <td>93.0</td>\n      <td>0.357706</td>\n    </tr>\n    <tr>\n      <th>419</th>\n      <td>SUPEROX-DISMUTFE-CPLX</td>\n      <td>FE+3</td>\n      <td>161</td>\n      <td>161.0</td>\n      <td>0.619255</td>\n    </tr>\n    <tr>\n      <th>424</th>\n      <td>THREODEHYD-CPLX</td>\n      <td>FE+2</td>\n      <td>33</td>\n      <td>33.0</td>\n      <td>0.126928</td>\n    </tr>\n    <tr>\n      <th>429</th>\n      <td>TMAOREDUCTI-CPLX</td>\n      <td>HEME_C</td>\n      <td>3</td>\n      <td>3.0</td>\n      <td>0.011539</td>\n    </tr>\n  </tbody>\n</table>\n<p>65 rows × 5 columns</p>\n</div>"
     },
     "execution_count": 223,
     "metadata": {},
     "output_type": "execute_result"
    }
   ],
   "source": [
    "# filter cofactors in element matrix that have FE coefficient > 0\n",
    "fe_cofactors = list(element_matrix[element_matrix['FE'] > 0].index)\n",
    "\n",
    "# filter complex_df to only include complexes where one of the cofactors is in fe_cofactors\n",
    "exploded_complexes = complex_df.explode('cofactors').dropna().reset_index(drop=True)\n",
    "fe_complexes = exploded_complexes.loc[exploded_complexes.cofactors.isin(fe_cofactors), ['complex', 'cofactors', 'counts']]\n",
    "fe_complexes\n",
    "\n",
    "# add column that multiplies counts by number of FE atoms in cofactor based on element matrix\n",
    "fe_complexes['fe_counts'] = 0\n",
    "for cofactor in fe_cofactors:\n",
    "    fe_complexes.loc[fe_complexes['cofactors'] == cofactor, 'fe_counts'] = fe_complexes.loc[fe_complexes['cofactors'] == cofactor, 'counts'] * element_matrix.loc[cofactor, 'FE']\n",
    "\n",
    "# add a column that divides the fe_counts by the total sum of fe_counts\n",
    "fe_complexes['fe_counts_norm'] = 100 * fe_complexes['fe_counts'] / fe_complexes['fe_counts'].sum()\n",
    "\n",
    "fe_complexes"
   ],
   "metadata": {
    "collapsed": false,
    "ExecuteTime": {
     "end_time": "2023-06-14T21:37:22.090616Z",
     "start_time": "2023-06-14T21:37:22.071682Z"
    }
   }
  },
  {
   "cell_type": "code",
   "execution_count": 219,
   "outputs": [
    {
     "data": {
      "text/plain": "                         MG   MN     C     N     O    P   ZN    K   FE    S  \\\ncofactors                                                                     \nMG+2                    1.0  0.0   0.0   0.0   0.0  0.0  0.0  0.0  0.0  0.0   \nMN+2                    0.0  1.0   0.0   0.0   0.0  0.0  0.0  0.0  0.0  0.0   \nPYRIDOXAL_PHOSPHATE     0.0  0.0   8.0   1.0   6.0  1.0  0.0  0.0  0.0  0.0   \nZN+2                    0.0  0.0   0.0   0.0   0.0  0.0  1.0  0.0  0.0  0.0   \n23-DIPHOSPHOGLYCERATE   0.0  0.0   3.0   0.0  10.0  2.0  0.0  0.0  0.0  0.0   \nFAD                     0.0  0.0  27.0   9.0  15.0  2.0  0.0  0.0  0.0  0.0   \nK+                      0.0  0.0   0.0   0.0   0.0  0.0  0.0  1.0  0.0  0.0   \nCPD-7                   0.0  0.0   0.0   0.0   0.0  0.0  0.0  0.0  4.0  4.0   \nFE+2                    0.0  0.0   0.0   0.0   0.0  0.0  0.0  0.0  1.0  0.0   \nTHIAMINE-PYROPHOSPHATE  0.0  0.0  12.0   4.0   7.0  2.0  0.0  0.0  0.0  1.0   \nNI+2                    0.0  0.0   0.0   0.0   0.0  0.0  0.0  0.0  0.0  0.0   \nFMN                     0.0  0.0  17.0   4.0   9.0  1.0  0.0  0.0  0.0  0.0   \nHeme-b                  0.0  0.0  34.0   4.0   4.0  0.0  0.0  0.0  1.0  0.0   \nCU+2                    0.0  0.0   0.0   0.0   0.0  0.0  0.0  0.0  0.0  0.0   \nHEME_O                  0.0  0.0  49.0   4.0   5.0  0.0  0.0  0.0  1.0  0.0   \nNAD                     0.0  0.0  21.0   7.0  14.0  2.0  0.0  0.0  0.0  0.0   \nCPD-6                   0.0  0.0   0.0   0.0   0.0  0.0  0.0  0.0  2.0  6.0   \nHCO3                    0.0  0.0   1.0   0.0   3.0  0.0  0.0  0.0  0.0  0.0   \nCO+2                    0.0  0.0   0.0   0.0   0.0  0.0  0.0  0.0  0.0  0.0   \nNADP                    0.0  0.0  21.0   7.0  17.0  3.0  0.0  0.0  0.0  0.0   \n3FE-4S                  0.0  0.0   0.0   0.0   0.0  0.0  0.0  0.0  3.0  4.0   \nLIPOIC-ACID             0.0  0.0   8.0   0.0   2.0  0.0  0.0  0.0  0.0  2.0   \nFE+3                    0.0  0.0   0.0   0.0   0.0  0.0  0.0  0.0  1.0  0.0   \nCA+2                    0.0  0.0   0.0   0.0   0.0  0.0  0.0  0.0  0.0  0.0   \nPROTOHEME               0.0  0.0  34.0   4.0   4.0  0.0  0.0  0.0  1.0  0.0   \nLYS                     0.0  0.0   6.0   2.0   2.0  0.0  0.0  0.0  0.0  0.0   \nFMNH2                   0.0  0.0  17.0   4.0   9.0  1.0  0.0  0.0  0.0  0.0   \nSIROHEME                0.0  0.0  42.0   4.0  16.0  0.0  0.0  0.0  1.0  0.0   \nFeS-Centers             0.0  0.0   0.0   0.0   0.0  0.0  0.0  0.0  4.0  4.0   \nAMMONIUM                0.0  0.0   0.0   1.0   0.0  0.0  0.0  0.0  0.0  0.0   \nCPD-23429               0.0  0.0  34.0   4.0   6.0  0.0  0.0  0.0  1.0  0.0   \nNADPH                   0.0  0.0  21.0   7.0  17.0  3.0  0.0  0.0  0.0  0.0   \nCPD-15873               0.0  0.0  40.0  20.0  27.0  4.0  0.0  0.0  0.0  4.0   \nCPD-18260               0.0  0.0  22.0   4.0   9.0  1.0  0.0  0.0  0.0  0.0   \nCPD-8123                0.0  0.0  10.0   5.0   8.0  1.0  0.0  0.0  0.0  2.0   \nCPD0-1882               0.0  0.0  19.0   8.0  15.0  2.0  0.0  0.0  0.0  2.0   \nHEME_D                  0.0  0.0  34.0   4.0   6.0  0.0  0.0  0.0  1.0  0.0   \nHEME_C                  0.0  0.0  34.0   4.0   4.0  0.0  0.0  0.0  1.0  2.0   \nADENOSYLCOBALAMIN       0.0  0.0  72.0  18.0  17.0  1.0  0.0  0.0  0.0  0.0   \nTOPAQUINONE             0.0  0.0   9.0   1.0   4.0  0.0  0.0  0.0  0.0  0.0   \nCPD0-2654               0.0  0.0   3.0   0.0   2.0  0.0  0.0  0.0  0.0  0.0   \nCPD-24862               0.0  0.0   3.0   2.0   1.0  0.0  0.0  0.0  1.0  4.0   \nCPD-17649               0.0  0.0   0.0   0.0   0.0  0.0  0.0  0.0  4.0  4.0   \nGTP                     0.0  0.0  10.0   5.0  14.0  3.0  0.0  0.0  0.0  0.0   \n\n                         NI   CU    R   CO   CA    H   MO  Proteins  \ncofactors                                                            \nMG+2                    0.0  0.0  0.0  0.0  0.0  0.0  0.0       0.0  \nMN+2                    0.0  0.0  0.0  0.0  0.0  0.0  0.0       0.0  \nPYRIDOXAL_PHOSPHATE     0.0  0.0  0.0  0.0  0.0  0.0  0.0       0.0  \nZN+2                    0.0  0.0  0.0  0.0  0.0  0.0  0.0       0.0  \n23-DIPHOSPHOGLYCERATE   0.0  0.0  0.0  0.0  0.0  0.0  0.0       0.0  \nFAD                     0.0  0.0  0.0  0.0  0.0  0.0  0.0       0.0  \nK+                      0.0  0.0  0.0  0.0  0.0  0.0  0.0       0.0  \nCPD-7                   0.0  0.0  0.0  0.0  0.0  0.0  0.0       0.0  \nFE+2                    0.0  0.0  0.0  0.0  0.0  0.0  0.0       0.0  \nTHIAMINE-PYROPHOSPHATE  0.0  0.0  0.0  0.0  0.0  0.0  0.0       0.0  \nNI+2                    1.0  0.0  0.0  0.0  0.0  0.0  0.0       0.0  \nFMN                     0.0  0.0  0.0  0.0  0.0  0.0  0.0       0.0  \nHeme-b                  0.0  0.0  0.0  0.0  0.0  0.0  0.0       0.0  \nCU+2                    0.0  1.0  0.0  0.0  0.0  0.0  0.0       0.0  \nHEME_O                  0.0  0.0  0.0  0.0  0.0  0.0  0.0       0.0  \nNAD                     0.0  0.0  0.0  0.0  0.0  0.0  0.0       0.0  \nCPD-6                   0.0  0.0  4.0  0.0  0.0  0.0  0.0       0.0  \nHCO3                    0.0  0.0  0.0  0.0  0.0  0.0  0.0       0.0  \nCO+2                    0.0  0.0  0.0  1.0  0.0  0.0  0.0       0.0  \nNADP                    0.0  0.0  0.0  0.0  0.0  0.0  0.0       0.0  \n3FE-4S                  0.0  0.0  0.0  0.0  0.0  0.0  0.0       0.0  \nLIPOIC-ACID             0.0  0.0  0.0  0.0  0.0  0.0  0.0       0.0  \nFE+3                    0.0  0.0  0.0  0.0  0.0  0.0  0.0       0.0  \nCA+2                    0.0  0.0  0.0  0.0  1.0  0.0  0.0       0.0  \nPROTOHEME               0.0  0.0  0.0  0.0  0.0  0.0  0.0       0.0  \nLYS                     0.0  0.0  0.0  0.0  0.0  0.0  0.0       0.0  \nFMNH2                   0.0  0.0  0.0  0.0  0.0  0.0  0.0       0.0  \nSIROHEME                0.0  0.0  0.0  0.0  0.0  0.0  0.0       0.0  \nFeS-Centers             0.0  0.0  0.0  0.0  0.0  0.0  0.0       0.0  \nAMMONIUM                0.0  0.0  0.0  0.0  0.0  4.0  0.0       0.0  \nCPD-23429               0.0  0.0  0.0  0.0  0.0  0.0  0.0       0.0  \nNADPH                   0.0  0.0  0.0  0.0  0.0  0.0  0.0       0.0  \nCPD-15873               0.0  0.0  0.0  0.0  0.0  6.0  1.0       0.0  \nCPD-18260               0.0  0.0  0.0  0.0  0.0  0.0  0.0       0.0  \nCPD-8123                0.0  0.0  0.0  0.0  0.0  3.0  1.0       0.0  \nCPD0-1882               0.0  0.0  0.0  0.0  0.0  3.0  1.0       0.0  \nHEME_D                  0.0  0.0  0.0  0.0  0.0  0.0  0.0       0.0  \nHEME_C                  0.0  0.0  0.0  0.0  0.0  0.0  0.0       0.0  \nADENOSYLCOBALAMIN       0.0  0.0  0.0  1.0  0.0  0.0  0.0       0.0  \nTOPAQUINONE             0.0  0.0  0.0  0.0  0.0  0.0  0.0       2.0  \nCPD0-2654               0.0  0.0  0.0  0.0  0.0  0.0  0.0       1.0  \nCPD-24862               1.0  0.0  0.0  0.0  0.0  0.0  0.0       4.0  \nCPD-17649               0.0  0.0  0.0  0.0  0.0  0.0  0.0       0.0  \nGTP                     0.0  0.0  0.0  0.0  0.0  0.0  0.0       0.0  ",
      "text/html": "<div>\n<style scoped>\n    .dataframe tbody tr th:only-of-type {\n        vertical-align: middle;\n    }\n\n    .dataframe tbody tr th {\n        vertical-align: top;\n    }\n\n    .dataframe thead th {\n        text-align: right;\n    }\n</style>\n<table border=\"1\" class=\"dataframe\">\n  <thead>\n    <tr style=\"text-align: right;\">\n      <th></th>\n      <th>MG</th>\n      <th>MN</th>\n      <th>C</th>\n      <th>N</th>\n      <th>O</th>\n      <th>P</th>\n      <th>ZN</th>\n      <th>K</th>\n      <th>FE</th>\n      <th>S</th>\n      <th>NI</th>\n      <th>CU</th>\n      <th>R</th>\n      <th>CO</th>\n      <th>CA</th>\n      <th>H</th>\n      <th>MO</th>\n      <th>Proteins</th>\n    </tr>\n    <tr>\n      <th>cofactors</th>\n      <th></th>\n      <th></th>\n      <th></th>\n      <th></th>\n      <th></th>\n      <th></th>\n      <th></th>\n      <th></th>\n      <th></th>\n      <th></th>\n      <th></th>\n      <th></th>\n      <th></th>\n      <th></th>\n      <th></th>\n      <th></th>\n      <th></th>\n      <th></th>\n    </tr>\n  </thead>\n  <tbody>\n    <tr>\n      <th>MG+2</th>\n      <td>1.0</td>\n      <td>0.0</td>\n      <td>0.0</td>\n      <td>0.0</td>\n      <td>0.0</td>\n      <td>0.0</td>\n      <td>0.0</td>\n      <td>0.0</td>\n      <td>0.0</td>\n      <td>0.0</td>\n      <td>0.0</td>\n      <td>0.0</td>\n      <td>0.0</td>\n      <td>0.0</td>\n      <td>0.0</td>\n      <td>0.0</td>\n      <td>0.0</td>\n      <td>0.0</td>\n    </tr>\n    <tr>\n      <th>MN+2</th>\n      <td>0.0</td>\n      <td>1.0</td>\n      <td>0.0</td>\n      <td>0.0</td>\n      <td>0.0</td>\n      <td>0.0</td>\n      <td>0.0</td>\n      <td>0.0</td>\n      <td>0.0</td>\n      <td>0.0</td>\n      <td>0.0</td>\n      <td>0.0</td>\n      <td>0.0</td>\n      <td>0.0</td>\n      <td>0.0</td>\n      <td>0.0</td>\n      <td>0.0</td>\n      <td>0.0</td>\n    </tr>\n    <tr>\n      <th>PYRIDOXAL_PHOSPHATE</th>\n      <td>0.0</td>\n      <td>0.0</td>\n      <td>8.0</td>\n      <td>1.0</td>\n      <td>6.0</td>\n      <td>1.0</td>\n      <td>0.0</td>\n      <td>0.0</td>\n      <td>0.0</td>\n      <td>0.0</td>\n      <td>0.0</td>\n      <td>0.0</td>\n      <td>0.0</td>\n      <td>0.0</td>\n      <td>0.0</td>\n      <td>0.0</td>\n      <td>0.0</td>\n      <td>0.0</td>\n    </tr>\n    <tr>\n      <th>ZN+2</th>\n      <td>0.0</td>\n      <td>0.0</td>\n      <td>0.0</td>\n      <td>0.0</td>\n      <td>0.0</td>\n      <td>0.0</td>\n      <td>1.0</td>\n      <td>0.0</td>\n      <td>0.0</td>\n      <td>0.0</td>\n      <td>0.0</td>\n      <td>0.0</td>\n      <td>0.0</td>\n      <td>0.0</td>\n      <td>0.0</td>\n      <td>0.0</td>\n      <td>0.0</td>\n      <td>0.0</td>\n    </tr>\n    <tr>\n      <th>23-DIPHOSPHOGLYCERATE</th>\n      <td>0.0</td>\n      <td>0.0</td>\n      <td>3.0</td>\n      <td>0.0</td>\n      <td>10.0</td>\n      <td>2.0</td>\n      <td>0.0</td>\n      <td>0.0</td>\n      <td>0.0</td>\n      <td>0.0</td>\n      <td>0.0</td>\n      <td>0.0</td>\n      <td>0.0</td>\n      <td>0.0</td>\n      <td>0.0</td>\n      <td>0.0</td>\n      <td>0.0</td>\n      <td>0.0</td>\n    </tr>\n    <tr>\n      <th>FAD</th>\n      <td>0.0</td>\n      <td>0.0</td>\n      <td>27.0</td>\n      <td>9.0</td>\n      <td>15.0</td>\n      <td>2.0</td>\n      <td>0.0</td>\n      <td>0.0</td>\n      <td>0.0</td>\n      <td>0.0</td>\n      <td>0.0</td>\n      <td>0.0</td>\n      <td>0.0</td>\n      <td>0.0</td>\n      <td>0.0</td>\n      <td>0.0</td>\n      <td>0.0</td>\n      <td>0.0</td>\n    </tr>\n    <tr>\n      <th>K+</th>\n      <td>0.0</td>\n      <td>0.0</td>\n      <td>0.0</td>\n      <td>0.0</td>\n      <td>0.0</td>\n      <td>0.0</td>\n      <td>0.0</td>\n      <td>1.0</td>\n      <td>0.0</td>\n      <td>0.0</td>\n      <td>0.0</td>\n      <td>0.0</td>\n      <td>0.0</td>\n      <td>0.0</td>\n      <td>0.0</td>\n      <td>0.0</td>\n      <td>0.0</td>\n      <td>0.0</td>\n    </tr>\n    <tr>\n      <th>CPD-7</th>\n      <td>0.0</td>\n      <td>0.0</td>\n      <td>0.0</td>\n      <td>0.0</td>\n      <td>0.0</td>\n      <td>0.0</td>\n      <td>0.0</td>\n      <td>0.0</td>\n      <td>4.0</td>\n      <td>4.0</td>\n      <td>0.0</td>\n      <td>0.0</td>\n      <td>0.0</td>\n      <td>0.0</td>\n      <td>0.0</td>\n      <td>0.0</td>\n      <td>0.0</td>\n      <td>0.0</td>\n    </tr>\n    <tr>\n      <th>FE+2</th>\n      <td>0.0</td>\n      <td>0.0</td>\n      <td>0.0</td>\n      <td>0.0</td>\n      <td>0.0</td>\n      <td>0.0</td>\n      <td>0.0</td>\n      <td>0.0</td>\n      <td>1.0</td>\n      <td>0.0</td>\n      <td>0.0</td>\n      <td>0.0</td>\n      <td>0.0</td>\n      <td>0.0</td>\n      <td>0.0</td>\n      <td>0.0</td>\n      <td>0.0</td>\n      <td>0.0</td>\n    </tr>\n    <tr>\n      <th>THIAMINE-PYROPHOSPHATE</th>\n      <td>0.0</td>\n      <td>0.0</td>\n      <td>12.0</td>\n      <td>4.0</td>\n      <td>7.0</td>\n      <td>2.0</td>\n      <td>0.0</td>\n      <td>0.0</td>\n      <td>0.0</td>\n      <td>1.0</td>\n      <td>0.0</td>\n      <td>0.0</td>\n      <td>0.0</td>\n      <td>0.0</td>\n      <td>0.0</td>\n      <td>0.0</td>\n      <td>0.0</td>\n      <td>0.0</td>\n    </tr>\n    <tr>\n      <th>NI+2</th>\n      <td>0.0</td>\n      <td>0.0</td>\n      <td>0.0</td>\n      <td>0.0</td>\n      <td>0.0</td>\n      <td>0.0</td>\n      <td>0.0</td>\n      <td>0.0</td>\n      <td>0.0</td>\n      <td>0.0</td>\n      <td>1.0</td>\n      <td>0.0</td>\n      <td>0.0</td>\n      <td>0.0</td>\n      <td>0.0</td>\n      <td>0.0</td>\n      <td>0.0</td>\n      <td>0.0</td>\n    </tr>\n    <tr>\n      <th>FMN</th>\n      <td>0.0</td>\n      <td>0.0</td>\n      <td>17.0</td>\n      <td>4.0</td>\n      <td>9.0</td>\n      <td>1.0</td>\n      <td>0.0</td>\n      <td>0.0</td>\n      <td>0.0</td>\n      <td>0.0</td>\n      <td>0.0</td>\n      <td>0.0</td>\n      <td>0.0</td>\n      <td>0.0</td>\n      <td>0.0</td>\n      <td>0.0</td>\n      <td>0.0</td>\n      <td>0.0</td>\n    </tr>\n    <tr>\n      <th>Heme-b</th>\n      <td>0.0</td>\n      <td>0.0</td>\n      <td>34.0</td>\n      <td>4.0</td>\n      <td>4.0</td>\n      <td>0.0</td>\n      <td>0.0</td>\n      <td>0.0</td>\n      <td>1.0</td>\n      <td>0.0</td>\n      <td>0.0</td>\n      <td>0.0</td>\n      <td>0.0</td>\n      <td>0.0</td>\n      <td>0.0</td>\n      <td>0.0</td>\n      <td>0.0</td>\n      <td>0.0</td>\n    </tr>\n    <tr>\n      <th>CU+2</th>\n      <td>0.0</td>\n      <td>0.0</td>\n      <td>0.0</td>\n      <td>0.0</td>\n      <td>0.0</td>\n      <td>0.0</td>\n      <td>0.0</td>\n      <td>0.0</td>\n      <td>0.0</td>\n      <td>0.0</td>\n      <td>0.0</td>\n      <td>1.0</td>\n      <td>0.0</td>\n      <td>0.0</td>\n      <td>0.0</td>\n      <td>0.0</td>\n      <td>0.0</td>\n      <td>0.0</td>\n    </tr>\n    <tr>\n      <th>HEME_O</th>\n      <td>0.0</td>\n      <td>0.0</td>\n      <td>49.0</td>\n      <td>4.0</td>\n      <td>5.0</td>\n      <td>0.0</td>\n      <td>0.0</td>\n      <td>0.0</td>\n      <td>1.0</td>\n      <td>0.0</td>\n      <td>0.0</td>\n      <td>0.0</td>\n      <td>0.0</td>\n      <td>0.0</td>\n      <td>0.0</td>\n      <td>0.0</td>\n      <td>0.0</td>\n      <td>0.0</td>\n    </tr>\n    <tr>\n      <th>NAD</th>\n      <td>0.0</td>\n      <td>0.0</td>\n      <td>21.0</td>\n      <td>7.0</td>\n      <td>14.0</td>\n      <td>2.0</td>\n      <td>0.0</td>\n      <td>0.0</td>\n      <td>0.0</td>\n      <td>0.0</td>\n      <td>0.0</td>\n      <td>0.0</td>\n      <td>0.0</td>\n      <td>0.0</td>\n      <td>0.0</td>\n      <td>0.0</td>\n      <td>0.0</td>\n      <td>0.0</td>\n    </tr>\n    <tr>\n      <th>CPD-6</th>\n      <td>0.0</td>\n      <td>0.0</td>\n      <td>0.0</td>\n      <td>0.0</td>\n      <td>0.0</td>\n      <td>0.0</td>\n      <td>0.0</td>\n      <td>0.0</td>\n      <td>2.0</td>\n      <td>6.0</td>\n      <td>0.0</td>\n      <td>0.0</td>\n      <td>4.0</td>\n      <td>0.0</td>\n      <td>0.0</td>\n      <td>0.0</td>\n      <td>0.0</td>\n      <td>0.0</td>\n    </tr>\n    <tr>\n      <th>HCO3</th>\n      <td>0.0</td>\n      <td>0.0</td>\n      <td>1.0</td>\n      <td>0.0</td>\n      <td>3.0</td>\n      <td>0.0</td>\n      <td>0.0</td>\n      <td>0.0</td>\n      <td>0.0</td>\n      <td>0.0</td>\n      <td>0.0</td>\n      <td>0.0</td>\n      <td>0.0</td>\n      <td>0.0</td>\n      <td>0.0</td>\n      <td>0.0</td>\n      <td>0.0</td>\n      <td>0.0</td>\n    </tr>\n    <tr>\n      <th>CO+2</th>\n      <td>0.0</td>\n      <td>0.0</td>\n      <td>0.0</td>\n      <td>0.0</td>\n      <td>0.0</td>\n      <td>0.0</td>\n      <td>0.0</td>\n      <td>0.0</td>\n      <td>0.0</td>\n      <td>0.0</td>\n      <td>0.0</td>\n      <td>0.0</td>\n      <td>0.0</td>\n      <td>1.0</td>\n      <td>0.0</td>\n      <td>0.0</td>\n      <td>0.0</td>\n      <td>0.0</td>\n    </tr>\n    <tr>\n      <th>NADP</th>\n      <td>0.0</td>\n      <td>0.0</td>\n      <td>21.0</td>\n      <td>7.0</td>\n      <td>17.0</td>\n      <td>3.0</td>\n      <td>0.0</td>\n      <td>0.0</td>\n      <td>0.0</td>\n      <td>0.0</td>\n      <td>0.0</td>\n      <td>0.0</td>\n      <td>0.0</td>\n      <td>0.0</td>\n      <td>0.0</td>\n      <td>0.0</td>\n      <td>0.0</td>\n      <td>0.0</td>\n    </tr>\n    <tr>\n      <th>3FE-4S</th>\n      <td>0.0</td>\n      <td>0.0</td>\n      <td>0.0</td>\n      <td>0.0</td>\n      <td>0.0</td>\n      <td>0.0</td>\n      <td>0.0</td>\n      <td>0.0</td>\n      <td>3.0</td>\n      <td>4.0</td>\n      <td>0.0</td>\n      <td>0.0</td>\n      <td>0.0</td>\n      <td>0.0</td>\n      <td>0.0</td>\n      <td>0.0</td>\n      <td>0.0</td>\n      <td>0.0</td>\n    </tr>\n    <tr>\n      <th>LIPOIC-ACID</th>\n      <td>0.0</td>\n      <td>0.0</td>\n      <td>8.0</td>\n      <td>0.0</td>\n      <td>2.0</td>\n      <td>0.0</td>\n      <td>0.0</td>\n      <td>0.0</td>\n      <td>0.0</td>\n      <td>2.0</td>\n      <td>0.0</td>\n      <td>0.0</td>\n      <td>0.0</td>\n      <td>0.0</td>\n      <td>0.0</td>\n      <td>0.0</td>\n      <td>0.0</td>\n      <td>0.0</td>\n    </tr>\n    <tr>\n      <th>FE+3</th>\n      <td>0.0</td>\n      <td>0.0</td>\n      <td>0.0</td>\n      <td>0.0</td>\n      <td>0.0</td>\n      <td>0.0</td>\n      <td>0.0</td>\n      <td>0.0</td>\n      <td>1.0</td>\n      <td>0.0</td>\n      <td>0.0</td>\n      <td>0.0</td>\n      <td>0.0</td>\n      <td>0.0</td>\n      <td>0.0</td>\n      <td>0.0</td>\n      <td>0.0</td>\n      <td>0.0</td>\n    </tr>\n    <tr>\n      <th>CA+2</th>\n      <td>0.0</td>\n      <td>0.0</td>\n      <td>0.0</td>\n      <td>0.0</td>\n      <td>0.0</td>\n      <td>0.0</td>\n      <td>0.0</td>\n      <td>0.0</td>\n      <td>0.0</td>\n      <td>0.0</td>\n      <td>0.0</td>\n      <td>0.0</td>\n      <td>0.0</td>\n      <td>0.0</td>\n      <td>1.0</td>\n      <td>0.0</td>\n      <td>0.0</td>\n      <td>0.0</td>\n    </tr>\n    <tr>\n      <th>PROTOHEME</th>\n      <td>0.0</td>\n      <td>0.0</td>\n      <td>34.0</td>\n      <td>4.0</td>\n      <td>4.0</td>\n      <td>0.0</td>\n      <td>0.0</td>\n      <td>0.0</td>\n      <td>1.0</td>\n      <td>0.0</td>\n      <td>0.0</td>\n      <td>0.0</td>\n      <td>0.0</td>\n      <td>0.0</td>\n      <td>0.0</td>\n      <td>0.0</td>\n      <td>0.0</td>\n      <td>0.0</td>\n    </tr>\n    <tr>\n      <th>LYS</th>\n      <td>0.0</td>\n      <td>0.0</td>\n      <td>6.0</td>\n      <td>2.0</td>\n      <td>2.0</td>\n      <td>0.0</td>\n      <td>0.0</td>\n      <td>0.0</td>\n      <td>0.0</td>\n      <td>0.0</td>\n      <td>0.0</td>\n      <td>0.0</td>\n      <td>0.0</td>\n      <td>0.0</td>\n      <td>0.0</td>\n      <td>0.0</td>\n      <td>0.0</td>\n      <td>0.0</td>\n    </tr>\n    <tr>\n      <th>FMNH2</th>\n      <td>0.0</td>\n      <td>0.0</td>\n      <td>17.0</td>\n      <td>4.0</td>\n      <td>9.0</td>\n      <td>1.0</td>\n      <td>0.0</td>\n      <td>0.0</td>\n      <td>0.0</td>\n      <td>0.0</td>\n      <td>0.0</td>\n      <td>0.0</td>\n      <td>0.0</td>\n      <td>0.0</td>\n      <td>0.0</td>\n      <td>0.0</td>\n      <td>0.0</td>\n      <td>0.0</td>\n    </tr>\n    <tr>\n      <th>SIROHEME</th>\n      <td>0.0</td>\n      <td>0.0</td>\n      <td>42.0</td>\n      <td>4.0</td>\n      <td>16.0</td>\n      <td>0.0</td>\n      <td>0.0</td>\n      <td>0.0</td>\n      <td>1.0</td>\n      <td>0.0</td>\n      <td>0.0</td>\n      <td>0.0</td>\n      <td>0.0</td>\n      <td>0.0</td>\n      <td>0.0</td>\n      <td>0.0</td>\n      <td>0.0</td>\n      <td>0.0</td>\n    </tr>\n    <tr>\n      <th>FeS-Centers</th>\n      <td>0.0</td>\n      <td>0.0</td>\n      <td>0.0</td>\n      <td>0.0</td>\n      <td>0.0</td>\n      <td>0.0</td>\n      <td>0.0</td>\n      <td>0.0</td>\n      <td>4.0</td>\n      <td>4.0</td>\n      <td>0.0</td>\n      <td>0.0</td>\n      <td>0.0</td>\n      <td>0.0</td>\n      <td>0.0</td>\n      <td>0.0</td>\n      <td>0.0</td>\n      <td>0.0</td>\n    </tr>\n    <tr>\n      <th>AMMONIUM</th>\n      <td>0.0</td>\n      <td>0.0</td>\n      <td>0.0</td>\n      <td>1.0</td>\n      <td>0.0</td>\n      <td>0.0</td>\n      <td>0.0</td>\n      <td>0.0</td>\n      <td>0.0</td>\n      <td>0.0</td>\n      <td>0.0</td>\n      <td>0.0</td>\n      <td>0.0</td>\n      <td>0.0</td>\n      <td>0.0</td>\n      <td>4.0</td>\n      <td>0.0</td>\n      <td>0.0</td>\n    </tr>\n    <tr>\n      <th>CPD-23429</th>\n      <td>0.0</td>\n      <td>0.0</td>\n      <td>34.0</td>\n      <td>4.0</td>\n      <td>6.0</td>\n      <td>0.0</td>\n      <td>0.0</td>\n      <td>0.0</td>\n      <td>1.0</td>\n      <td>0.0</td>\n      <td>0.0</td>\n      <td>0.0</td>\n      <td>0.0</td>\n      <td>0.0</td>\n      <td>0.0</td>\n      <td>0.0</td>\n      <td>0.0</td>\n      <td>0.0</td>\n    </tr>\n    <tr>\n      <th>NADPH</th>\n      <td>0.0</td>\n      <td>0.0</td>\n      <td>21.0</td>\n      <td>7.0</td>\n      <td>17.0</td>\n      <td>3.0</td>\n      <td>0.0</td>\n      <td>0.0</td>\n      <td>0.0</td>\n      <td>0.0</td>\n      <td>0.0</td>\n      <td>0.0</td>\n      <td>0.0</td>\n      <td>0.0</td>\n      <td>0.0</td>\n      <td>0.0</td>\n      <td>0.0</td>\n      <td>0.0</td>\n    </tr>\n    <tr>\n      <th>CPD-15873</th>\n      <td>0.0</td>\n      <td>0.0</td>\n      <td>40.0</td>\n      <td>20.0</td>\n      <td>27.0</td>\n      <td>4.0</td>\n      <td>0.0</td>\n      <td>0.0</td>\n      <td>0.0</td>\n      <td>4.0</td>\n      <td>0.0</td>\n      <td>0.0</td>\n      <td>0.0</td>\n      <td>0.0</td>\n      <td>0.0</td>\n      <td>6.0</td>\n      <td>1.0</td>\n      <td>0.0</td>\n    </tr>\n    <tr>\n      <th>CPD-18260</th>\n      <td>0.0</td>\n      <td>0.0</td>\n      <td>22.0</td>\n      <td>4.0</td>\n      <td>9.0</td>\n      <td>1.0</td>\n      <td>0.0</td>\n      <td>0.0</td>\n      <td>0.0</td>\n      <td>0.0</td>\n      <td>0.0</td>\n      <td>0.0</td>\n      <td>0.0</td>\n      <td>0.0</td>\n      <td>0.0</td>\n      <td>0.0</td>\n      <td>0.0</td>\n      <td>0.0</td>\n    </tr>\n    <tr>\n      <th>CPD-8123</th>\n      <td>0.0</td>\n      <td>0.0</td>\n      <td>10.0</td>\n      <td>5.0</td>\n      <td>8.0</td>\n      <td>1.0</td>\n      <td>0.0</td>\n      <td>0.0</td>\n      <td>0.0</td>\n      <td>2.0</td>\n      <td>0.0</td>\n      <td>0.0</td>\n      <td>0.0</td>\n      <td>0.0</td>\n      <td>0.0</td>\n      <td>3.0</td>\n      <td>1.0</td>\n      <td>0.0</td>\n    </tr>\n    <tr>\n      <th>CPD0-1882</th>\n      <td>0.0</td>\n      <td>0.0</td>\n      <td>19.0</td>\n      <td>8.0</td>\n      <td>15.0</td>\n      <td>2.0</td>\n      <td>0.0</td>\n      <td>0.0</td>\n      <td>0.0</td>\n      <td>2.0</td>\n      <td>0.0</td>\n      <td>0.0</td>\n      <td>0.0</td>\n      <td>0.0</td>\n      <td>0.0</td>\n      <td>3.0</td>\n      <td>1.0</td>\n      <td>0.0</td>\n    </tr>\n    <tr>\n      <th>HEME_D</th>\n      <td>0.0</td>\n      <td>0.0</td>\n      <td>34.0</td>\n      <td>4.0</td>\n      <td>6.0</td>\n      <td>0.0</td>\n      <td>0.0</td>\n      <td>0.0</td>\n      <td>1.0</td>\n      <td>0.0</td>\n      <td>0.0</td>\n      <td>0.0</td>\n      <td>0.0</td>\n      <td>0.0</td>\n      <td>0.0</td>\n      <td>0.0</td>\n      <td>0.0</td>\n      <td>0.0</td>\n    </tr>\n    <tr>\n      <th>HEME_C</th>\n      <td>0.0</td>\n      <td>0.0</td>\n      <td>34.0</td>\n      <td>4.0</td>\n      <td>4.0</td>\n      <td>0.0</td>\n      <td>0.0</td>\n      <td>0.0</td>\n      <td>1.0</td>\n      <td>2.0</td>\n      <td>0.0</td>\n      <td>0.0</td>\n      <td>0.0</td>\n      <td>0.0</td>\n      <td>0.0</td>\n      <td>0.0</td>\n      <td>0.0</td>\n      <td>0.0</td>\n    </tr>\n    <tr>\n      <th>ADENOSYLCOBALAMIN</th>\n      <td>0.0</td>\n      <td>0.0</td>\n      <td>72.0</td>\n      <td>18.0</td>\n      <td>17.0</td>\n      <td>1.0</td>\n      <td>0.0</td>\n      <td>0.0</td>\n      <td>0.0</td>\n      <td>0.0</td>\n      <td>0.0</td>\n      <td>0.0</td>\n      <td>0.0</td>\n      <td>1.0</td>\n      <td>0.0</td>\n      <td>0.0</td>\n      <td>0.0</td>\n      <td>0.0</td>\n    </tr>\n    <tr>\n      <th>TOPAQUINONE</th>\n      <td>0.0</td>\n      <td>0.0</td>\n      <td>9.0</td>\n      <td>1.0</td>\n      <td>4.0</td>\n      <td>0.0</td>\n      <td>0.0</td>\n      <td>0.0</td>\n      <td>0.0</td>\n      <td>0.0</td>\n      <td>0.0</td>\n      <td>0.0</td>\n      <td>0.0</td>\n      <td>0.0</td>\n      <td>0.0</td>\n      <td>0.0</td>\n      <td>0.0</td>\n      <td>2.0</td>\n    </tr>\n    <tr>\n      <th>CPD0-2654</th>\n      <td>0.0</td>\n      <td>0.0</td>\n      <td>3.0</td>\n      <td>0.0</td>\n      <td>2.0</td>\n      <td>0.0</td>\n      <td>0.0</td>\n      <td>0.0</td>\n      <td>0.0</td>\n      <td>0.0</td>\n      <td>0.0</td>\n      <td>0.0</td>\n      <td>0.0</td>\n      <td>0.0</td>\n      <td>0.0</td>\n      <td>0.0</td>\n      <td>0.0</td>\n      <td>1.0</td>\n    </tr>\n    <tr>\n      <th>CPD-24862</th>\n      <td>0.0</td>\n      <td>0.0</td>\n      <td>3.0</td>\n      <td>2.0</td>\n      <td>1.0</td>\n      <td>0.0</td>\n      <td>0.0</td>\n      <td>0.0</td>\n      <td>1.0</td>\n      <td>4.0</td>\n      <td>1.0</td>\n      <td>0.0</td>\n      <td>0.0</td>\n      <td>0.0</td>\n      <td>0.0</td>\n      <td>0.0</td>\n      <td>0.0</td>\n      <td>4.0</td>\n    </tr>\n    <tr>\n      <th>CPD-17649</th>\n      <td>0.0</td>\n      <td>0.0</td>\n      <td>0.0</td>\n      <td>0.0</td>\n      <td>0.0</td>\n      <td>0.0</td>\n      <td>0.0</td>\n      <td>0.0</td>\n      <td>4.0</td>\n      <td>4.0</td>\n      <td>0.0</td>\n      <td>0.0</td>\n      <td>0.0</td>\n      <td>0.0</td>\n      <td>0.0</td>\n      <td>0.0</td>\n      <td>0.0</td>\n      <td>0.0</td>\n    </tr>\n    <tr>\n      <th>GTP</th>\n      <td>0.0</td>\n      <td>0.0</td>\n      <td>10.0</td>\n      <td>5.0</td>\n      <td>14.0</td>\n      <td>3.0</td>\n      <td>0.0</td>\n      <td>0.0</td>\n      <td>0.0</td>\n      <td>0.0</td>\n      <td>0.0</td>\n      <td>0.0</td>\n      <td>0.0</td>\n      <td>0.0</td>\n      <td>0.0</td>\n      <td>0.0</td>\n      <td>0.0</td>\n      <td>0.0</td>\n    </tr>\n  </tbody>\n</table>\n</div>"
     },
     "execution_count": 219,
     "metadata": {},
     "output_type": "execute_result"
    }
   ],
   "source": [
    "element_matrix"
   ],
   "metadata": {
    "collapsed": false,
    "ExecuteTime": {
     "end_time": "2023-06-14T21:35:45.816464Z",
     "start_time": "2023-06-14T21:35:45.813292Z"
    }
   }
  },
  {
   "cell_type": "code",
   "execution_count": null,
   "outputs": [],
   "source": [],
   "metadata": {
    "collapsed": false
   }
  }
 ],
 "metadata": {
  "kernelspec": {
   "display_name": "Python 3",
   "language": "python",
   "name": "python3"
  },
  "language_info": {
   "codemirror_mode": {
    "name": "ipython",
    "version": 2
   },
   "file_extension": ".py",
   "mimetype": "text/x-python",
   "name": "python",
   "nbconvert_exporter": "python",
   "pygments_lexer": "ipython2",
   "version": "2.7.6"
  }
 },
 "nbformat": 4,
 "nbformat_minor": 0
}
