{
 "cells": [
  {
   "cell_type": "code",
   "execution_count": 1,
   "id": "89c876b4-8497-499f-a413-26ad32cec39e",
   "metadata": {
    "ExecuteTime": {
     "end_time": "2024-05-04T18:32:48.155427Z",
     "start_time": "2024-05-04T18:32:47.397741Z"
    }
   },
   "outputs": [],
   "source": [
    "import numpy as np\n",
    "from scipy.special import logsumexp\n",
    "import seaborn as sns\n",
    "import pandas as pd\n",
    "import os\n",
    "import matplotlib.pyplot as plt\n",
    "from equilibrator_api import ComponentContribution, Q_, Reaction\n",
    "import requests\n",
    "import xmltodict\n",
    "import pint\n",
    "import cvxpy as cp\n",
    "import itertools\n",
    "import copy\n",
    "from convex_kinetics_new import ConvexKineticsNew\n",
    "\n",
    "sns.set(style='darkgrid', palette='viridis', context='talk')\n",
    "\n",
    "os.chdir(os.path.expanduser('~/vivarium-ecoli'))"
   ]
  },
  {
   "cell_type": "markdown",
   "id": "82a34091-b89a-4a8b-b49e-ce86aeab25c6",
   "metadata": {},
   "source": [
    "A + B -E1> C -E2> D\n",
    "\n",
    "B -E3> F\n",
    "\n",
    "A -E4> G"
   ]
  },
  {
   "cell_type": "markdown",
   "id": "2cc077b2-8c38-4065-b306-2e91611fd975",
   "metadata": {
    "jp-MarkdownHeadingCollapsed": true,
    "tags": []
   },
   "source": [
    "# Testing eQuilibrator"
   ]
  },
  {
   "cell_type": "code",
   "execution_count": 2,
   "id": "77f87609-2312-4734-8970-05177c5c3434",
   "metadata": {
    "ExecuteTime": {
     "end_time": "2024-05-04T18:32:56.508593Z",
     "start_time": "2024-05-04T18:32:48.139823Z"
    }
   },
   "outputs": [],
   "source": [
    "cc = ComponentContribution()\n",
    "\n",
    "# optional: changing the aqueous environment parameters\n",
    "cc.p_h = Q_(7.4)\n",
    "cc.p_mg = Q_(3.0)\n",
    "cc.ionic_strength = Q_(\"0.25M\")\n",
    "cc.temperature = Q_(\"298.15K\")\n",
    "\n"
   ]
  },
  {
   "cell_type": "code",
   "execution_count": 3,
   "id": "90008655-107b-487c-b60b-a98b12137dd6",
   "metadata": {
    "ExecuteTime": {
     "end_time": "2024-05-04T18:32:56.529976Z",
     "start_time": "2024-05-04T18:32:56.510844Z"
    }
   },
   "outputs": [],
   "source": [
    "from equilibrator_api import Reaction\n",
    "compound_ids = [\"WATER\", \"ADP\", \"ATP\", \"Pi\"]\n",
    "compound_dict = {cid : cc.get_compound(f\"metacyc.compound:{cid}\") for cid in compound_ids}\n",
    "atpase_reaction = Reaction({\n",
    "    compound_dict[\"ATP\"]: -1,\n",
    "    compound_dict[\"WATER\"]: -1,\n",
    "    compound_dict[\"ADP\"]: 1,\n",
    "    compound_dict[\"Pi\"]: 1,\n",
    "})"
   ]
  },
  {
   "cell_type": "code",
   "execution_count": 4,
   "id": "ac886c79-121d-4d77-9ba0-eb4b25d19039",
   "metadata": {
    "ExecuteTime": {
     "end_time": "2024-05-04T18:32:57.008499Z",
     "start_time": "2024-05-04T18:32:56.531808Z"
    }
   },
   "outputs": [
    {
     "data": {
      "text/plain": "<Measurement(-29.144472212600157, 0.30427785535776736, kilojoule / mole)>",
      "text/html": "(-29.14 &plusmn; 0.30) kilojoule/mole",
      "text/latex": "$\\left(-29.14 \\pm 0.30\\right)\\ \\frac{\\mathrm{kilojoule}}{\\mathrm{mole}}$"
     },
     "execution_count": 4,
     "metadata": {},
     "output_type": "execute_result"
    }
   ],
   "source": [
    "standard_dg_prime = cc.standard_dg_prime(atpase_reaction)\n",
    "standard_dg_prime"
   ]
  },
  {
   "cell_type": "code",
   "execution_count": 5,
   "id": "c6be2265-c9ec-45cf-8b87-8ca2df1376dd",
   "metadata": {
    "ExecuteTime": {
     "end_time": "2024-05-04T18:33:04.026230Z",
     "start_time": "2024-05-04T18:32:57.009283Z"
    }
   },
   "outputs": [
    {
     "name": "stdout",
     "output_type": "stream",
     "text": [
      "(-44.8 +/- 0.6) kilojoule / mole\n"
     ]
    }
   ],
   "source": [
    "cytoplasmic_p_h = Q_(7.5)\n",
    "cytoplasmic_ionic_strength = Q_(\"250 mM\")\n",
    "periplasmic_p_h = Q_(7.0)\n",
    "periplasmic_ionic_strength = Q_(\"200 mM\")\n",
    "e_potential_difference = Q_(\"0.15 V\")\n",
    "cytoplasmic_reaction = \"bigg.metabolite:pep = bigg.metabolite:g6p + bigg.metabolite:pyr\"\n",
    "periplasmic_reaction = \"bigg.metabolite:glc__D = \"\n",
    "\n",
    "cc = ComponentContribution()\n",
    "cc.p_h = cytoplasmic_p_h\n",
    "cc.ionic_strength = cytoplasmic_ionic_strength\n",
    "standard_dg_prime = cc.multicompartmental_standard_dg_prime(\n",
    "    cc.parse_reaction_formula(cytoplasmic_reaction),\n",
    "    cc.parse_reaction_formula(periplasmic_reaction),\n",
    "    e_potential_difference=e_potential_difference,\n",
    "    p_h_outer=periplasmic_p_h,\n",
    "    ionic_strength_outer=periplasmic_ionic_strength,\n",
    ")\n",
    "\n",
    "print(standard_dg_prime)\n"
   ]
  },
  {
   "cell_type": "code",
   "execution_count": 6,
   "id": "3c97b6b4-77e2-4ddb-926c-b39f4780811b",
   "metadata": {
    "ExecuteTime": {
     "end_time": "2024-05-04T18:33:04.133827Z",
     "start_time": "2024-05-04T18:33:04.064911Z"
    }
   },
   "outputs": [],
   "source": [
    "cc.get_compound_by_inchi(\"WQZGKKKJIJFFOK-GASJEMHNSA-N\")"
   ]
  },
  {
   "cell_type": "markdown",
   "id": "fb140010-52ab-4edd-844e-a3645b3d5a41",
   "metadata": {
    "jp-MarkdownHeadingCollapsed": true,
    "tags": []
   },
   "source": [
    "# Using eQuilibrator to generate equilibrium constants"
   ]
  },
  {
   "cell_type": "code",
   "execution_count": 7,
   "id": "6cd11cad-2e4b-4cb7-bec6-6d3e4f7b21bd",
   "metadata": {
    "ExecuteTime": {
     "end_time": "2024-05-04T18:33:04.620429Z",
     "start_time": "2024-05-04T18:33:04.139602Z"
    }
   },
   "outputs": [],
   "source": [
    "s = requests.Session() # create session\n",
    "# Post login credentials to session:\n",
    "s.post('https://websvc.biocyc.org/credentials/login/', data={'email':'cellulararchitect@protonmail.com', 'password':'#'})\n",
    "# Issue web service request:\n",
    "r = s.get('https://websvc.biocyc.org/getxml?id=ECOLI:6PFRUCTPHOS-RXN&detail=low&fmt=json')"
   ]
  },
  {
   "cell_type": "code",
   "execution_count": 8,
   "id": "0ceafb21-0bf4-41d7-8e07-c159e8b73302",
   "metadata": {
    "ExecuteTime": {
     "end_time": "2024-05-04T18:33:04.813249Z",
     "start_time": "2024-05-04T18:33:04.621884Z"
    }
   },
   "outputs": [
    {
     "data": {
      "text/plain": "'F16ALDOLASE-ENZRXN-CLASSI'"
     },
     "execution_count": 8,
     "metadata": {},
     "output_type": "execute_result"
    }
   ],
   "source": [
    "name = 'F16ALDOLASE-RXN'\n",
    "\n",
    "r = s.get(f'https://websvc.biocyc.org/getxml?id=ECOLI:{name}&detail=low&fmt=json')\n",
    "o = xmltodict.parse(r.content)['ptools-xml']\n",
    "o['Reaction']['enzymatic-reaction']['Enzymatic-Reaction'][0]['@frameid']"
   ]
  },
  {
   "cell_type": "code",
   "execution_count": 9,
   "id": "837d6516-fa3c-4b71-ba39-4a98bb9689d3",
   "metadata": {
    "ExecuteTime": {
     "end_time": "2024-05-04T18:33:06.376069Z",
     "start_time": "2024-05-04T18:33:04.817103Z"
    }
   },
   "outputs": [
    {
     "data": {
      "text/plain": "{'6PFRUCTPHOS-RXN': <equilibrator_api.phased_reaction.PhasedReaction at 0x1569be440>,\n 'F16ALDOLASE-RXN': <equilibrator_api.phased_reaction.PhasedReaction at 0x1074de6e0>,\n '2TRANSKETO-RXN': <equilibrator_api.phased_reaction.PhasedReaction at 0x1074ddab0>,\n 'TRIOSEPISOMERIZATION-RXN': <equilibrator_api.phased_reaction.PhasedReaction at 0x1074f6980>}"
     },
     "execution_count": 9,
     "metadata": {},
     "output_type": "execute_result"
    }
   ],
   "source": [
    "\n",
    "rxns_names = ['6PFRUCTPHOS-RXN', 'F16ALDOLASE-RXN', '2TRANSKETO-RXN', 'TRIOSEPISOMERIZATION-RXN']\n",
    "\n",
    "rxns_dict = {}\n",
    "stoich_dict = {}\n",
    "regulation_dict = {}\n",
    "\n",
    "for name in rxns_names:\n",
    "    r = s.get(f'https://websvc.biocyc.org/getxml?id=ECOLI:{name}&detail=low&fmt=json')\n",
    "    rxn = xmltodict.parse(r.content)['ptools-xml']\n",
    "\n",
    "    rxn_dict = {}\n",
    "    stoich_loop_dict = {}\n",
    "    regulation_loop_dict = {}\n",
    "    left = rxn['Reaction']['left']\n",
    "    right = rxn['Reaction']['right'] \n",
    "    \n",
    "    # i will know exact complex in model (connected to rxn), but for now will pick random\n",
    "    enz_rxn = rxn['Reaction']['enzymatic-reaction']['Enzymatic-Reaction']\n",
    "    \n",
    "    if type(left) is dict:\n",
    "        left = [left]\n",
    "    \n",
    "    if type(right) is dict:\n",
    "        right = [right]\n",
    "        \n",
    "    if type(enz_rxn) is dict:\n",
    "        enz_rxn = [enz_rxn]\n",
    "    \n",
    "    enz_rxn_id =  enz_rxn[0]['@frameid']\n",
    "    re = s.get(f'https://websvc.biocyc.org/getxml?id=ECOLI:{enz_rxn_id}&detail=high&fmt=json')\n",
    "    oe = xmltodict.parse(re.content)['ptools-xml']['Enzymatic-Reaction']['regulated-by']['Regulation']\n",
    "    \n",
    "    if type(oe) is dict:\n",
    "        oe = [oe]\n",
    "        \n",
    "    # add regulators, target regulator directly with id to get info like irreversible, etc\n",
    "    for regulator in oe:\n",
    "        reg_name = regulator['regulator']['Compound']['@frameid']\n",
    "        reg_type = regulator['mode']['#text']\n",
    "        reg_type = 1 if reg_type == '+' else -1\n",
    "        regulation_loop_dict[reg_name] = reg_type\n",
    "    \n",
    "    for mol in left:\n",
    "        if type(mol) is dict:\n",
    "            cid = mol['Compound']['@frameid']\n",
    "            mol_cc = cc.get_compound(f\"metacyc.compound:{cid}\")\n",
    "            rxn_dict[mol_cc] = -1\n",
    "            stoich_loop_dict[cid] = -1\n",
    "\n",
    "    for mol in right:\n",
    "        if type(mol) is dict:\n",
    "            cid = mol['Compound']['@frameid']\n",
    "            mol_cc = cc.get_compound(f\"metacyc.compound:{cid}\")\n",
    "            rxn_dict[mol_cc] =  1\n",
    "            stoich_loop_dict[cid] = 1\n",
    "    \n",
    "    rxns_dict[name] = Reaction(rxn_dict)\n",
    "    stoich_dict[name] = stoich_loop_dict\n",
    "    regulation_dict[name] = regulation_loop_dict\n",
    "    \n",
    "rxns_dict"
   ]
  },
  {
   "cell_type": "code",
   "execution_count": 10,
   "id": "5e072326-7492-4a26-adba-02158fcedf0e",
   "metadata": {
    "ExecuteTime": {
     "end_time": "2024-05-04T18:33:06.908062Z",
     "start_time": "2024-05-04T18:33:06.427576Z"
    }
   },
   "outputs": [],
   "source": [
    "(standard_dg_prime, dg_uncertainty) = cc.standard_dg_prime_multi(list(rxns_dict.values()), uncertainty_representation=\"cov\")"
   ]
  },
  {
   "cell_type": "code",
   "execution_count": 11,
   "id": "748784e9-37fa-4e06-8fa9-88b497816064",
   "metadata": {
    "ExecuteTime": {
     "end_time": "2024-05-04T18:33:06.913881Z",
     "start_time": "2024-05-04T18:33:06.909811Z"
    }
   },
   "outputs": [
    {
     "data": {
      "text/plain": "array([-21.05010908,  22.04792453,  -5.94611551,  -5.61774239]) <Unit('kilojoule / mole')>",
      "text/html": "<table><tbody><tr><th>Magnitude</th><td style='text-align:left;'><pre>[-21.05010908198642 22.047924530096907 -5.946115510564027<br> -5.617742386692498]</pre></td></tr><tr><th>Units</th><td style='text-align:left;'>kilojoule/mole</td></tr></tbody></table>",
      "text/latex": "$\\begin{pmatrix} &  &  & \\end{pmatrix}\\ \\frac{\\mathrm{kilojoule}}{\\mathrm{mole}}$"
     },
     "execution_count": 11,
     "metadata": {},
     "output_type": "execute_result"
    }
   ],
   "source": [
    "standard_dg_prime"
   ]
  },
  {
   "cell_type": "code",
   "execution_count": 12,
   "id": "11142f27-1260-4d21-97bc-42c00f4920f6",
   "metadata": {
    "ExecuteTime": {
     "end_time": "2024-05-04T18:33:06.918173Z",
     "start_time": "2024-05-04T18:33:06.914732Z"
    }
   },
   "outputs": [
    {
     "data": {
      "text/plain": "array([[ 1.53982130e+00, -2.21674712e+00,  6.54108560e-01,\n        -4.66426081e-03],\n       [-2.21674712e+00,  5.28694603e+00, -2.43228772e+00,\n        -1.29118274e-01],\n       [ 6.54108560e-01, -2.43228772e+00,  5.54727081e+00,\n        -8.89399854e-02],\n       [-4.66426081e-03, -1.29118274e-01, -8.89399854e-02,\n         3.01034610e-01]]) <Unit('kilojoule ** 2 / mole ** 2')>",
      "text/html": "<table><tbody><tr><th>Magnitude</th><td style='text-align:left;'><pre>[[1.5398212990074907 -2.216747118056975 0.6541085596545124<br>  -0.004664260811859866]<br> [-2.216747118056975 5.286946034707539 -2.4322877177623585<br>  -0.12911827360174233]<br> [0.6541085596545124 -2.4322877177623585 5.547270812427002<br>  -0.08893998540651439]<br> [-0.004664260811859866 -0.12911827360174233 -0.08893998540651439<br>  0.3010346102557633]]</pre></td></tr><tr><th>Units</th><td style='text-align:left;'>kilojoule<sup>2</sup>/mole<sup>2</sup></td></tr></tbody></table>",
      "text/latex": "$\\begin{pmatrix} &  &  & \\\\ \n &  &  & \\\\ \n &  &  & \\\\ \n &  &  & \\end{pmatrix}\\ \\frac{\\mathrm{kilojoule}^{2}}{\\mathrm{mole}^{2}}$"
     },
     "execution_count": 12,
     "metadata": {},
     "output_type": "execute_result"
    }
   ],
   "source": [
    "dg_uncertainty"
   ]
  },
  {
   "cell_type": "code",
   "execution_count": 13,
   "id": "320ca8b3-34c3-4bfe-b43b-e71e5d5685bc",
   "metadata": {
    "ExecuteTime": {
     "end_time": "2024-05-04T18:33:06.928685Z",
     "start_time": "2024-05-04T18:33:06.917426Z"
    }
   },
   "outputs": [],
   "source": [
    "R = 0.008314 # kJ/mol*K\n",
    "T = 298.15 # K"
   ]
  },
  {
   "cell_type": "code",
   "execution_count": 14,
   "id": "6c217eee-8beb-4c13-82d5-200b12d4add9",
   "metadata": {
    "ExecuteTime": {
     "end_time": "2024-05-04T18:33:06.928853Z",
     "start_time": "2024-05-04T18:33:06.920111Z"
    }
   },
   "outputs": [],
   "source": [
    "dG = standard_dg_prime._magnitude\n",
    "\n",
    "keq = np.exp(-dG/(R*T))\n",
    "keq\n",
    "\n",
    "K_eq = np.log(keq)"
   ]
  },
  {
   "cell_type": "markdown",
   "id": "3a19ac18-e8ce-4653-9976-3946c1227c85",
   "metadata": {
    "jp-MarkdownHeadingCollapsed": true,
    "tags": []
   },
   "source": [
    "# Calculating set of kinetic parameters with given equilibrium constants and arbitrary fluxes"
   ]
  },
  {
   "cell_type": "code",
   "execution_count": 15,
   "id": "ad0c9880-fd76-40d6-9d15-3bb61f96e3e9",
   "metadata": {
    "ExecuteTime": {
     "end_time": "2024-05-04T18:33:06.952041Z",
     "start_time": "2024-05-04T18:33:06.924205Z"
    }
   },
   "outputs": [
    {
     "data": {
      "text/plain": "                             6PFRUCTPHOS-RXN  F16ALDOLASE-RXN  2TRANSKETO-RXN  \\\nFRUCTOSE-6P                               -1                0               1   \nATP                                       -1                0               0   \nPROTON                                     1                0               0   \nADP                                        1                0               0   \nFRUCTOSE-16-DIPHOSPHATE                    1               -1               0   \nDIHYDROXY-ACETONE-PHOSPHATE                0                1               0   \nGAP                                        0                1               1   \nERYTHROSE-4P                               0                0              -1   \nXYLULOSE-5-PHOSPHATE                       0                0              -1   \n\n                             TRIOSEPISOMERIZATION-RXN  \nFRUCTOSE-6P                                         0  \nATP                                                 0  \nPROTON                                              0  \nADP                                                 0  \nFRUCTOSE-16-DIPHOSPHATE                             0  \nDIHYDROXY-ACETONE-PHOSPHATE                         1  \nGAP                                                -1  \nERYTHROSE-4P                                        0  \nXYLULOSE-5-PHOSPHATE                                0  ",
      "text/html": "<div>\n<style scoped>\n    .dataframe tbody tr th:only-of-type {\n        vertical-align: middle;\n    }\n\n    .dataframe tbody tr th {\n        vertical-align: top;\n    }\n\n    .dataframe thead th {\n        text-align: right;\n    }\n</style>\n<table border=\"1\" class=\"dataframe\">\n  <thead>\n    <tr style=\"text-align: right;\">\n      <th></th>\n      <th>6PFRUCTPHOS-RXN</th>\n      <th>F16ALDOLASE-RXN</th>\n      <th>2TRANSKETO-RXN</th>\n      <th>TRIOSEPISOMERIZATION-RXN</th>\n    </tr>\n  </thead>\n  <tbody>\n    <tr>\n      <th>FRUCTOSE-6P</th>\n      <td>-1</td>\n      <td>0</td>\n      <td>1</td>\n      <td>0</td>\n    </tr>\n    <tr>\n      <th>ATP</th>\n      <td>-1</td>\n      <td>0</td>\n      <td>0</td>\n      <td>0</td>\n    </tr>\n    <tr>\n      <th>PROTON</th>\n      <td>1</td>\n      <td>0</td>\n      <td>0</td>\n      <td>0</td>\n    </tr>\n    <tr>\n      <th>ADP</th>\n      <td>1</td>\n      <td>0</td>\n      <td>0</td>\n      <td>0</td>\n    </tr>\n    <tr>\n      <th>FRUCTOSE-16-DIPHOSPHATE</th>\n      <td>1</td>\n      <td>-1</td>\n      <td>0</td>\n      <td>0</td>\n    </tr>\n    <tr>\n      <th>DIHYDROXY-ACETONE-PHOSPHATE</th>\n      <td>0</td>\n      <td>1</td>\n      <td>0</td>\n      <td>1</td>\n    </tr>\n    <tr>\n      <th>GAP</th>\n      <td>0</td>\n      <td>1</td>\n      <td>1</td>\n      <td>-1</td>\n    </tr>\n    <tr>\n      <th>ERYTHROSE-4P</th>\n      <td>0</td>\n      <td>0</td>\n      <td>-1</td>\n      <td>0</td>\n    </tr>\n    <tr>\n      <th>XYLULOSE-5-PHOSPHATE</th>\n      <td>0</td>\n      <td>0</td>\n      <td>-1</td>\n      <td>0</td>\n    </tr>\n  </tbody>\n</table>\n</div>"
     },
     "execution_count": 15,
     "metadata": {},
     "output_type": "execute_result"
    }
   ],
   "source": [
    "Sd = pd.DataFrame(stoich_dict).fillna(0).astype(np.int8)\n",
    "# Sd = Sd.iloc[0:7, 0:2]\n",
    "\n",
    "n_rxn = Sd.shape[1]\n",
    "n_met = Sd.shape[0]\n",
    "\n",
    "Sd\n",
    "\n",
    "Sd[\"6PFRUCTPHOS-RXN\"] = Sd[\"6PFRUCTPHOS-RXN\"] # * 2\n",
    "Sd"
   ]
  },
  {
   "cell_type": "code",
   "execution_count": 16,
   "id": "760bee51-984c-4f98-91fd-788113ce0d86",
   "metadata": {
    "ExecuteTime": {
     "end_time": "2024-05-04T18:33:06.963186Z",
     "start_time": "2024-05-04T18:33:06.934125Z"
    }
   },
   "outputs": [
    {
     "data": {
      "text/plain": "                             6PFRUCTPHOS-RXN  F16ALDOLASE-RXN  2TRANSKETO-RXN  \\\nFRUCTOSE-6P                                1                0               0   \nATP                                        0                0               0   \nPROTON                                     0                0               0   \nADP                                        1                0               0   \nFRUCTOSE-16-DIPHOSPHATE                    0                0               0   \nDIHYDROXY-ACETONE-PHOSPHATE                0                0               0   \nGAP                                        0                0               0   \nERYTHROSE-4P                               0                0               0   \nXYLULOSE-5-PHOSPHATE                       0                0               0   \n\n                             TRIOSEPISOMERIZATION-RXN  \nFRUCTOSE-6P                                         0  \nATP                                                 0  \nPROTON                                              0  \nADP                                                 0  \nFRUCTOSE-16-DIPHOSPHATE                             0  \nDIHYDROXY-ACETONE-PHOSPHATE                         0  \nGAP                                                 0  \nERYTHROSE-4P                                        0  \nXYLULOSE-5-PHOSPHATE                                0  ",
      "text/html": "<div>\n<style scoped>\n    .dataframe tbody tr th:only-of-type {\n        vertical-align: middle;\n    }\n\n    .dataframe tbody tr th {\n        vertical-align: top;\n    }\n\n    .dataframe thead th {\n        text-align: right;\n    }\n</style>\n<table border=\"1\" class=\"dataframe\">\n  <thead>\n    <tr style=\"text-align: right;\">\n      <th></th>\n      <th>6PFRUCTPHOS-RXN</th>\n      <th>F16ALDOLASE-RXN</th>\n      <th>2TRANSKETO-RXN</th>\n      <th>TRIOSEPISOMERIZATION-RXN</th>\n    </tr>\n  </thead>\n  <tbody>\n    <tr>\n      <th>FRUCTOSE-6P</th>\n      <td>1</td>\n      <td>0</td>\n      <td>0</td>\n      <td>0</td>\n    </tr>\n    <tr>\n      <th>ATP</th>\n      <td>0</td>\n      <td>0</td>\n      <td>0</td>\n      <td>0</td>\n    </tr>\n    <tr>\n      <th>PROTON</th>\n      <td>0</td>\n      <td>0</td>\n      <td>0</td>\n      <td>0</td>\n    </tr>\n    <tr>\n      <th>ADP</th>\n      <td>1</td>\n      <td>0</td>\n      <td>0</td>\n      <td>0</td>\n    </tr>\n    <tr>\n      <th>FRUCTOSE-16-DIPHOSPHATE</th>\n      <td>0</td>\n      <td>0</td>\n      <td>0</td>\n      <td>0</td>\n    </tr>\n    <tr>\n      <th>DIHYDROXY-ACETONE-PHOSPHATE</th>\n      <td>0</td>\n      <td>0</td>\n      <td>0</td>\n      <td>0</td>\n    </tr>\n    <tr>\n      <th>GAP</th>\n      <td>0</td>\n      <td>0</td>\n      <td>0</td>\n      <td>0</td>\n    </tr>\n    <tr>\n      <th>ERYTHROSE-4P</th>\n      <td>0</td>\n      <td>0</td>\n      <td>0</td>\n      <td>0</td>\n    </tr>\n    <tr>\n      <th>XYLULOSE-5-PHOSPHATE</th>\n      <td>0</td>\n      <td>0</td>\n      <td>0</td>\n      <td>0</td>\n    </tr>\n  </tbody>\n</table>\n</div>"
     },
     "execution_count": 16,
     "metadata": {},
     "output_type": "execute_result"
    }
   ],
   "source": [
    "Sr_min = pd.DataFrame(regulation_dict).fillna(0).astype(np.int8)\n",
    "\n",
    "Sr = Sd.copy()\n",
    "Sr.loc[:,:] = 0\n",
    "Sr.loc[Sd.index.intersection(Sr_min.index), :] = Sr_min.loc[Sd.index.intersection(Sr_min.index), :]\n",
    "Sr"
   ]
  },
  {
   "cell_type": "code",
   "execution_count": 17,
   "outputs": [
    {
     "data": {
      "text/plain": "          6PFRUCTPHOS-RXN  F16ALDOLASE-RXN  2TRANSKETO-RXN  \\\n$K_{eq}$         8.491991        -8.894527        2.398769   \n$v_1$           90.000000        70.000000      -30.000000   \n$v_2$          100.000000       100.000000       30.000000   \n$v_3$          110.000000        60.000000       75.000000   \nsign 1           1.000000         1.000000       -1.000000   \nsign 2           1.000000         1.000000        1.000000   \nsign 3           1.000000         1.000000        1.000000   \n\n          TRIOSEPISOMERIZATION-RXN  \n$K_{eq}$                  2.266298  \n$v_1$                    50.000000  \n$v_2$                    50.000000  \n$v_3$                    50.000000  \nsign 1                    1.000000  \nsign 2                    1.000000  \nsign 3                    1.000000  ",
      "text/html": "<div>\n<style scoped>\n    .dataframe tbody tr th:only-of-type {\n        vertical-align: middle;\n    }\n\n    .dataframe tbody tr th {\n        vertical-align: top;\n    }\n\n    .dataframe thead th {\n        text-align: right;\n    }\n</style>\n<table border=\"1\" class=\"dataframe\">\n  <thead>\n    <tr style=\"text-align: right;\">\n      <th></th>\n      <th>6PFRUCTPHOS-RXN</th>\n      <th>F16ALDOLASE-RXN</th>\n      <th>2TRANSKETO-RXN</th>\n      <th>TRIOSEPISOMERIZATION-RXN</th>\n    </tr>\n  </thead>\n  <tbody>\n    <tr>\n      <th>$K_{eq}$</th>\n      <td>8.491991</td>\n      <td>-8.894527</td>\n      <td>2.398769</td>\n      <td>2.266298</td>\n    </tr>\n    <tr>\n      <th>$v_1$</th>\n      <td>90.000000</td>\n      <td>70.000000</td>\n      <td>-30.000000</td>\n      <td>50.000000</td>\n    </tr>\n    <tr>\n      <th>$v_2$</th>\n      <td>100.000000</td>\n      <td>100.000000</td>\n      <td>30.000000</td>\n      <td>50.000000</td>\n    </tr>\n    <tr>\n      <th>$v_3$</th>\n      <td>110.000000</td>\n      <td>60.000000</td>\n      <td>75.000000</td>\n      <td>50.000000</td>\n    </tr>\n    <tr>\n      <th>sign 1</th>\n      <td>1.000000</td>\n      <td>1.000000</td>\n      <td>-1.000000</td>\n      <td>1.000000</td>\n    </tr>\n    <tr>\n      <th>sign 2</th>\n      <td>1.000000</td>\n      <td>1.000000</td>\n      <td>1.000000</td>\n      <td>1.000000</td>\n    </tr>\n    <tr>\n      <th>sign 3</th>\n      <td>1.000000</td>\n      <td>1.000000</td>\n      <td>1.000000</td>\n      <td>1.000000</td>\n    </tr>\n  </tbody>\n</table>\n</div>"
     },
     "execution_count": 17,
     "metadata": {},
     "output_type": "execute_result"
    }
   ],
   "source": [
    "K_eq = np.log(keq)\n",
    "K_eq_mod = K_eq[:, np.newaxis].T\n",
    "vE = np.array([[90, 70, -30, 50], [100, 100, 30, 50], [110, 60, 75, 50]])\n",
    "# vE[:, 0] = vE[:, 0] / 2\n",
    "\n",
    "n_flux_set = vE.shape[0]\n",
    "\n",
    "# K_eq[vE < 0] = 1/K_eq[vE < 0]\n",
    "\n",
    "lvE = np.log(np.abs(vE))\n",
    "pd.DataFrame(np.concatenate([K_eq_mod, vE, np.sign(vE, dtype=np.int8)]), columns=Sd.columns,\n",
    "             index=[\"$K_{eq}$\", \"$v_1$\", \"$v_2$\", \"$v_3$\", \"sign 1\", \"sign 2\", \"sign 3\"])"
   ],
   "metadata": {
    "collapsed": false,
    "ExecuteTime": {
     "end_time": "2024-05-04T18:33:06.995468Z",
     "start_time": "2024-05-04T18:33:06.940841Z"
    }
   },
   "id": "a35d2a38b36b7483"
  },
  {
   "cell_type": "code",
   "execution_count": 18,
   "outputs": [],
   "source": [
    "# set up variables\n",
    "\n",
    "S_mol = np.array(Sd)\n",
    "S = np.sign(S_mol) #\n",
    "S_s = -np.copy(S) # reverse neg sign\n",
    "S_p = np.copy(S)\n",
    "S_s[S > 0] = 0 # zeros products\n",
    "S_p[S < 0] = 0 # zeros substrates\n",
    "S_i = np.copy(np.array(Sr) == -1) # reaction direction does not matter\n",
    "S_a = np.copy(np.array(Sr) == 1)\n",
    "\n",
    "\n",
    "S_s_nz = np.array(S_s.nonzero())\n",
    "S_p_nz = np.array(S_p.nonzero())\n",
    "S_i_nz = np.array(S_i.nonzero())\n",
    "S_a_nz = np.array(S_a.nonzero())\n",
    "S_s_mol = np.abs(S_mol)[S_s.nonzero()]\n",
    "S_p_mol = np.abs(S_mol)[S_p.nonzero()]\n",
    "\n",
    "# TODO Refactor all the below lines as one liners\n",
    "# first coordinate, e.g. metabolites w nonzero substrate/product coeff across all reactions. also works as substrate indices.\n",
    "met_s_nz = S_s_nz[0, :]\n",
    "met_p_nz = S_p_nz[0, :]\n",
    "met_i_nz = S_i_nz[0, :]\n",
    "met_a_nz = S_a_nz[0, :]\n",
    "\n",
    "# second coordinate, e.g. reactions indices for those concentrations. works to index substrates as well.\n",
    "rxn_s_nz = S_s_nz[1, :]\n",
    "rxn_p_nz = S_p_nz[1, :]\n",
    "rxn_i_nz = S_i_nz[1, :]\n",
    "rxn_a_nz = S_a_nz[1, :]\n",
    "\n",
    "# one dim is always 2\n",
    "n_Km_s = np.max(met_s_nz.shape)\n",
    "n_Km_p = np.max(met_p_nz.shape)\n",
    "n_Km_i = np.max(met_i_nz.shape)\n",
    "n_Km_a = np.max(met_a_nz.shape)\n",
    "\n",
    "c = cp.Variable([n_met, n_flux_set])\n",
    "Km_s = cp.Variable(n_Km_s)\n",
    "Km_p = cp.Variable(n_Km_p)\n",
    "Km_i = cp.Variable(n_Km_i) if n_Km_i else None\n",
    "Km_a = cp.Variable(n_Km_a) if n_Km_a else None\n",
    "\n",
    "cfwd = cp.Variable(n_rxn)\n",
    "crev = cp.Variable(n_rxn)\n",
    "\n",
    "# define y vecs\n",
    "y_s_t = []\n",
    "y_p_t = []\n",
    "y_i_t = []\n",
    "y_a_t = []\n",
    "\n",
    "# define Km positions by nonzero S matrix concentrations. Activation is reverse val of inhibition.\n",
    "# TODO Add molecularity here.\n",
    "for i in range(n_flux_set):\n",
    "    y_s_t.append(cp.multiply(S_s_mol, c[met_s_nz, i] - Km_s))\n",
    "    y_p_t.append(cp.multiply(S_p_mol, c[met_p_nz, i] - Km_p))\n",
    "    y_i_t.append(c[met_i_nz, i] - Km_i if n_Km_i else None)\n",
    "    y_a_t.append(-(c[met_a_nz, i] - Km_a) if n_Km_a else None)\n",
    "\n",
    "y_s = cp.vstack(y_s_t)\n",
    "y_p = cp.vstack(y_p_t)\n",
    "y_i = cp.vstack(y_i_t)\n",
    "y_a = cp.vstack(y_a_t)\n",
    "\n",
    "# saturation stacks\n",
    "y_f_vec = [y_s]\n",
    "y_r_vec = [y_p]\n",
    "if n_Km_i:\n",
    "    y_f_vec.append(y_i)\n",
    "    y_r_vec.append(y_i)\n",
    "if n_Km_a:\n",
    "    y_f_vec.append(y_a)\n",
    "    y_r_vec.append(y_a)\n",
    "\n",
    "y_f = cp.hstack(y_f_vec)\n",
    "y_r = cp.hstack(y_r_vec)"
   ],
   "metadata": {
    "collapsed": false,
    "ExecuteTime": {
     "end_time": "2024-05-04T18:33:06.998334Z",
     "start_time": "2024-05-04T18:33:06.945624Z"
    }
   },
   "id": "356774a40e10091d"
  },
  {
   "cell_type": "code",
   "execution_count": 19,
   "outputs": [],
   "source": [
    "# number of saturation terms for sub, prod\n",
    "S_s_comb = np.concatenate((S_s, S_i, S_a), axis=0)\n",
    "S_p_comb = np.concatenate((S_p, S_i, S_a), axis=0)\n",
    "n_alpha = np.sum(np.power(2, np.sign(S_s_comb).sum(axis=0)) - 1)\n",
    "n_beta = np.sum(np.power(2, np.sign(S_p_comb).sum(axis=0)) - 1)\n",
    "\n",
    "# saturation matrix setup, first sub, then inhib, then act.\n",
    "C_alpha = np.zeros([n_alpha, len(met_s_nz) + len(met_i_nz) + len(met_a_nz)])\n",
    "C_beta = np.zeros([n_beta, len(met_p_nz) + len(met_i_nz) + len(met_a_nz)])\n",
    "\n",
    "# to separate different reactions saturation terms to their individual reaction equations.\n",
    "d_alpha = np.zeros(n_alpha, dtype=np.int8)\n",
    "d_beta = np.zeros(n_beta, dtype=np.int8)\n",
    "\n",
    "\n",
    "idx = 0\n",
    "\n",
    "for i in range(n_rxn):\n",
    "\n",
    "    # pick one reaction at a time (get substrate indicies)\n",
    "    #idx_cur_rxn = rxn_s_nz == i\n",
    "    # TODO This does not properly multiply by molecularity. Alternatively, generate C_alpha and\n",
    "    # TODO beta without molecularity (first ==1) and then multiply by molecularity in the end.\n",
    "    idx_cur_rxn = np.concatenate((rxn_s_nz == i, rxn_i_nz == i, rxn_a_nz == i))\n",
    "\n",
    "    # generates all binary permutations minus the first one since that would result in -1\n",
    "    sat_perm = np.array(list(itertools.product([0, 1], repeat=sum(idx_cur_rxn))))\n",
    "    sat_perm = sat_perm[1:, :]\n",
    "\n",
    "    r, _ = sat_perm.shape\n",
    "\n",
    "    # replace zeros with saturation matrix\n",
    "    C_alpha[idx:(idx+r), idx_cur_rxn] = sat_perm\n",
    "    d_alpha[idx:(idx+r)] = i\n",
    "\n",
    "    idx += r # add row #\n",
    "\n",
    "idx = 0\n",
    "\n",
    "for i in range(n_rxn):\n",
    "    idx_cur_rxn = np.concatenate((rxn_p_nz == i, rxn_i_nz == i, rxn_a_nz == i))\n",
    "\n",
    "    sat_perm = np.array(list(itertools.product([0, 1], repeat=sum(idx_cur_rxn))))\n",
    "    sat_perm = sat_perm[1:, :]\n",
    "\n",
    "    r, _ = sat_perm.shape\n",
    "\n",
    "    C_beta[idx:(idx+r), idx_cur_rxn] = sat_perm\n",
    "    d_beta[idx:(idx+r)] = i\n",
    "\n",
    "    idx += r # add row #"
   ],
   "metadata": {
    "collapsed": false,
    "ExecuteTime": {
     "end_time": "2024-05-04T18:33:06.998408Z",
     "start_time": "2024-05-04T18:33:06.956590Z"
    }
   },
   "id": "ecd5ba7a0843ebd0"
  },
  {
   "cell_type": "code",
   "execution_count": 20,
   "outputs": [
    {
     "data": {
      "text/plain": "array([[0., 0., 0., 0., 0., 0., 0., 1.],\n       [0., 0., 0., 0., 0., 0., 1., 0.],\n       [0., 0., 0., 0., 0., 0., 1., 1.],\n       [0., 1., 0., 0., 0., 0., 0., 0.],\n       [0., 1., 0., 0., 0., 0., 0., 1.],\n       [0., 1., 0., 0., 0., 0., 1., 0.],\n       [0., 1., 0., 0., 0., 0., 1., 1.],\n       [1., 0., 0., 0., 0., 0., 0., 0.],\n       [1., 0., 0., 0., 0., 0., 0., 1.],\n       [1., 0., 0., 0., 0., 0., 1., 0.],\n       [1., 0., 0., 0., 0., 0., 1., 1.],\n       [1., 1., 0., 0., 0., 0., 0., 0.],\n       [1., 1., 0., 0., 0., 0., 0., 1.],\n       [1., 1., 0., 0., 0., 0., 1., 0.],\n       [1., 1., 0., 0., 0., 0., 1., 1.],\n       [0., 0., 1., 0., 0., 0., 0., 0.],\n       [0., 0., 0., 0., 0., 1., 0., 0.],\n       [0., 0., 0., 0., 1., 0., 0., 0.],\n       [0., 0., 0., 0., 1., 1., 0., 0.],\n       [0., 0., 0., 1., 0., 0., 0., 0.]])"
     },
     "execution_count": 20,
     "metadata": {},
     "output_type": "execute_result"
    }
   ],
   "source": [
    "C_alpha"
   ],
   "metadata": {
    "collapsed": false,
    "ExecuteTime": {
     "end_time": "2024-05-04T18:33:06.998552Z",
     "start_time": "2024-05-04T18:33:06.959813Z"
    }
   },
   "id": "7876a61f1e3b73d9"
  },
  {
   "cell_type": "code",
   "execution_count": 21,
   "outputs": [
    {
     "data": {
      "text/plain": "[Expression(AFFINE, UNKNOWN, (48,)),\n Expression(AFFINE, UNKNOWN, (6,)),\n Expression(AFFINE, UNKNOWN, (8,)),\n Expression(AFFINE, UNKNOWN, (4,)),\n Expression(AFFINE, UNKNOWN, (48,)),\n Expression(AFFINE, UNKNOWN, (6,)),\n Expression(AFFINE, UNKNOWN, (8,)),\n Expression(AFFINE, UNKNOWN, (4,)),\n Expression(AFFINE, UNKNOWN, (48,)),\n Expression(AFFINE, UNKNOWN, (6,)),\n Expression(AFFINE, UNKNOWN, (8,)),\n Expression(AFFINE, UNKNOWN, (4,))]"
     },
     "execution_count": 21,
     "metadata": {},
     "output_type": "execute_result"
    }
   ],
   "source": [
    "n_lse_terms = np.max(np.power(2, S_s.sum(axis=0)) +  np.power(2, S_p.sum(axis=0)) - 2)\n",
    "LSE_expr = []\n",
    "denom_expr = []\n",
    "\n",
    "sign = np.sign(vE)\n",
    "lvE = np.log(sign * vE)\n",
    "\n",
    "for j in range(n_flux_set):\n",
    "    for i in range(n_rxn):\n",
    "        # sum terms are separate in logsumexp. one per saturation term (row in C_alpha, C_beta)\n",
    "\n",
    "        n_term_s = np.sum(d_alpha == i)\n",
    "        n_term_p = np.sum(d_beta == i)\n",
    "        n_term = n_term_s + n_term_p\n",
    "\n",
    "        Km_s_idx = np.nonzero(S_s_nz[1, :] == i)\n",
    "        S_s_idx = S_s_nz[0, S_s_nz[1, :] == i] # negate -1 entries\n",
    "\n",
    "        Km_p_idx = np.nonzero(S_p_nz[1, :] == i)\n",
    "        S_p_idx = S_p_nz[0, S_p_nz[1, :] == i]\n",
    "\n",
    "        if sign[j, i] == 1:\n",
    "            LSE_expr.append(cp.hstack( [\n",
    "                                         lvE[j, i] + (C_alpha @ cp.vec(y_f[j, :]))[d_alpha == i]\n",
    "                                            - cp.multiply(np.ones(n_term_s), - S.T[i, S_s_idx] @ cp.vec(y_s[j, Km_s_idx])) - cfwd[i],\n",
    "                                         lvE[j, i] + (C_beta @ cp.vec(y_r[j, :]))[d_beta == i]\n",
    "                                            - cp.multiply(np.ones(n_term_p), - S.T[i, S_s_idx] @ cp.vec(y_s[j, Km_s_idx])) - cfwd[i],\n",
    "\n",
    "                                         lvE[j, i] + 0 - cp.multiply(np.ones(1), -S.T[i, S_s_idx] @ cp.vec(y_s[j, Km_s_idx]))  - cfwd[i],\n",
    "\n",
    "                                         cp.multiply(np.ones(1), S.T[i, S_p_idx] @ cp.vec(y_p[j, Km_p_idx]))  + crev[i]\n",
    "                                            - cp.multiply(np.ones(1), -S.T[i, S_s_idx] @ cp.vec(y_s[j, Km_s_idx]))  - cfwd[i],\n",
    "\n",
    "                                       ]\n",
    "                                     )\n",
    "                           )  # remove +1 here, could also have cfwd outside objec.\n",
    "\n",
    "            denom_expr.append(cp.multiply(np.ones(1), -S.T[i, S_s_idx] @ cp.vec(y_s[j, Km_s_idx])) + cfwd[i],)\n",
    "\n",
    "\n",
    "        # keep saturation term the same, switch around fwd and rev terms. flip all signs with S matrix since it's signed.\n",
    "        if sign[j, i] == -1:\n",
    "            LSE_expr.append(cp.hstack( [ lvE[j, i] + (C_alpha @ cp.vec(y_f[j, :]))[d_alpha == i]\n",
    "                                            - cp.multiply(np.ones(n_term_s), S.T[i, S_p_idx] @ cp.vec(y_p[j, Km_p_idx])) - crev[i],\n",
    "\n",
    "                                         lvE[j, i] + (C_beta @ cp.vec(y_r[j, :]))[d_beta == i]\n",
    "                                            - cp.multiply(np.ones(n_term_p), S.T[i, S_p_idx] @ cp.vec(y_p[j, Km_p_idx])) - crev[i],\n",
    "\n",
    "                                         lvE[j, i] + 0 - cp.multiply(np.ones(1), S.T[i, S_p_idx] @ cp.vec(y_p[j, Km_p_idx])) - crev[i],\n",
    "\n",
    "                                         cp.multiply(np.ones(1), - S.T[i, S_s_idx] @ cp.vec(y_s[j, Km_s_idx]))  + cfwd[i]\n",
    "                                            - cp.multiply(np.ones(1), S.T[i, S_p_idx] @ cp.vec(y_p[j, Km_p_idx])) - crev[i],\n",
    "\n",
    "                                       ]\n",
    "                                     )\n",
    "                           )\n",
    "\n",
    "            denom_expr.append(cp.multiply(np.ones(1), S.T[i, S_p_idx] @ cp.vec(y_p[j, Km_p_idx])) + crev[i])\n",
    "\n",
    "\n",
    "#LSE_expr = cp.vstack(LSE_expr)\n",
    "LSE_expr"
   ],
   "metadata": {
    "collapsed": false,
    "ExecuteTime": {
     "end_time": "2024-05-04T18:33:07.036036Z",
     "start_time": "2024-05-04T18:33:06.970674Z"
    }
   },
   "id": "94583ebedbc980de"
  },
  {
   "cell_type": "code",
   "execution_count": 22,
   "outputs": [],
   "source": [
    "l = 0.001\n",
    "e = 0.001\n",
    "f = 0.000001\n",
    "reg =  cp.sum(cp.hstack([cfwd, crev, cp.vec(c)])) + cp.sum(cp.hstack([-Km_s, -Km_p])) # regularization\n",
    "reg2 = cp.norm1(cp.hstack([cfwd, crev, cp.vec(c)])) + cp.norm1(cp.hstack([-Km_s, -Km_p])) # regularization\n",
    "reg3 = cp.sum(cp.huber(cp.hstack([y_s, y_p]), 1)) # issue with matrix\n",
    "\n",
    "if n_Km_i:\n",
    "    reg += cp.sum(cp.hstack([-Km_i]))\n",
    "if n_Km_a:\n",
    "    reg += cp.sum(cp.hstack([-Km_a]))\n",
    "#reg3 = cp.norm1(cp.hstack([y_s, y_p])) # take a look at this\n",
    "\n",
    "loss = 0\n",
    "for i in range(len(LSE_expr)):\n",
    "    loss += cp.norm1(cp.pos(cp.log_sum_exp(LSE_expr[i])))\n",
    "for i in range(len(denom_expr)):\n",
    "    loss += 0.01 * denom_expr[i]\n",
    "loss += l * reg\n",
    "loss += e * reg2\n",
    "# loss += f * reg3\n",
    "#"
   ],
   "metadata": {
    "collapsed": false,
    "ExecuteTime": {
     "end_time": "2024-05-04T18:33:07.036197Z",
     "start_time": "2024-05-04T18:33:06.992518Z"
    }
   },
   "id": "8cdd817ad886e5fe"
  },
  {
   "cell_type": "code",
   "execution_count": 23,
   "outputs": [],
   "source": [
    "constr = [cp.hstack([cfwd, crev, cp.vec(c), Km_s, Km_p]) >= -12,\n",
    "          cp.hstack([cfwd, crev, cp.vec(c), Km_s, Km_p]) <= 12,\n",
    "          ]\n",
    "\n",
    "if n_Km_i:\n",
    "    constr.extend([Km_i >= -12, Km_i <= 12])\n",
    "if n_Km_a:\n",
    "    constr.extend([Km_a >= -12, Km_a <= 12])\n",
    "\n"
   ],
   "metadata": {
    "collapsed": false,
    "ExecuteTime": {
     "end_time": "2024-05-04T18:33:07.038177Z",
     "start_time": "2024-05-04T18:33:06.996493Z"
    }
   },
   "id": "3d2e26bf727f6531"
  },
  {
   "cell_type": "code",
   "execution_count": 24,
   "outputs": [],
   "source": [
    "haldane = []\n",
    "fwd_flux = []\n",
    "\n",
    "for i, r in enumerate(S.T):\n",
    "    Km_s_idx = np.nonzero(S_s_nz[1, :] == i)\n",
    "    S_s_idx = S_s_nz[0, S_s_nz[1, :] == i] # negate -1 entries\n",
    "\n",
    "    Km_p_idx = np.nonzero(S_p_nz[1, :] == i)\n",
    "    S_p_idx = S_p_nz[0, S_p_nz[1, :] == i]\n",
    "\n",
    "    haldane.append(K_eq[i] == cfwd[i] - crev[i] + r[S_p_idx] @ Km_p[Km_p_idx] - (-r[S_s_idx]) @ Km_s[Km_s_idx])\n",
    "\n",
    "for j in range(n_flux_set):\n",
    "    for i, r in enumerate(S.T):\n",
    "        Km_s_idx = np.nonzero(S_s_nz[1, :] == i)\n",
    "        S_s_idx = S_s_nz[0, S_s_nz[1, :] == i] # negate -1 entries\n",
    "\n",
    "        Km_p_idx = np.nonzero(S_p_nz[1, :] == i)\n",
    "        S_p_idx = S_p_nz[0, S_p_nz[1, :] == i]\n",
    "\n",
    "        if sign[j, i] == 1:\n",
    "            fwd_flux.append(cfwd[i] + (-r[S_s_idx]) @ cp.vec(y_s[j, Km_s_idx]) - (crev[i] + r[S_p_idx] @ cp.vec(y_p[j, Km_p_idx]))  >= 0)  # add minus since s matrix has minus\n",
    "\n",
    "        if sign[j, i] == -1:\n",
    "            fwd_flux.append(cfwd[i] + (-r[S_s_idx]) @ cp.vec(y_s[j, Km_s_idx]) - (crev[i] + r[S_p_idx] @ cp.vec(y_p[j, Km_p_idx]))  <= 0)  # add minus since s matrix has minus\n",
    "\n",
    "    constr.extend([cp.multiply(S.T @ cp.vec(c[:, j]), sign[j, :])  <= cp.multiply(K_eq, sign[j, :])])\n",
    "\n",
    "constr.extend(haldane)\n",
    "constr.extend(fwd_flux)"
   ],
   "metadata": {
    "collapsed": false,
    "ExecuteTime": {
     "end_time": "2024-05-04T18:33:07.067727Z",
     "start_time": "2024-05-04T18:33:07.005641Z"
    }
   },
   "id": "3c75a1b408e473"
  },
  {
   "cell_type": "code",
   "execution_count": 25,
   "outputs": [
    {
     "name": "stdout",
     "output_type": "stream",
     "text": [
      "===============================================================================\n",
      "                                     CVXPY                                     \n",
      "                                     v1.4.3                                    \n",
      "===============================================================================\n",
      "(CVXPY) May 04 11:33:07 AM: Your problem has 51 variables, 23 constraints, and 0 parameters.\n",
      "(CVXPY) May 04 11:33:07 AM: It is compliant with the following grammars: DCP, DQCP\n",
      "(CVXPY) May 04 11:33:07 AM: (If you need to solve this problem multiple times, but with different data, consider using parameters.)\n",
      "(CVXPY) May 04 11:33:07 AM: CVXPY will first compile your problem; then, it will invoke a numerical solver to obtain a solution.\n",
      "(CVXPY) May 04 11:33:07 AM: Your problem is compiled with the CPP canonicalization backend.\n",
      "-------------------------------------------------------------------------------\n",
      "                                  Compilation                                  \n",
      "-------------------------------------------------------------------------------\n",
      "(CVXPY) May 04 11:33:07 AM: Compiling problem (target solver=ECOS).\n",
      "(CVXPY) May 04 11:33:07 AM: Reduction chain: Dcp2Cone -> CvxAttr2Constr -> ConeMatrixStuffing -> ECOS\n",
      "(CVXPY) May 04 11:33:07 AM: Applying reduction Dcp2Cone\n",
      "(CVXPY) May 04 11:33:07 AM: Applying reduction CvxAttr2Constr\n",
      "(CVXPY) May 04 11:33:07 AM: Applying reduction ConeMatrixStuffing\n",
      "(CVXPY) May 04 11:33:07 AM: Applying reduction ECOS\n",
      "(CVXPY) May 04 11:33:07 AM: Finished problem compilation (took 3.045e-01 seconds).\n",
      "-------------------------------------------------------------------------------\n",
      "                                Numerical solver                               \n",
      "-------------------------------------------------------------------------------\n",
      "(CVXPY) May 04 11:33:07 AM: Invoking solver ECOS  to obtain a solution.\n",
      "-------------------------------------------------------------------------------\n",
      "                                    Summary                                    \n",
      "-------------------------------------------------------------------------------\n",
      "(CVXPY) May 04 11:33:07 AM: Problem status: optimal\n",
      "(CVXPY) May 04 11:33:07 AM: Optimal value: 6.528e-01\n",
      "(CVXPY) May 04 11:33:07 AM: Compilation took 3.045e-01 seconds\n",
      "(CVXPY) May 04 11:33:07 AM: Solver (including time spent in interface) took 1.431e-02 seconds\n"
     ]
    },
    {
     "data": {
      "text/plain": "0.6527584055951398"
     },
     "execution_count": 25,
     "metadata": {},
     "output_type": "execute_result"
    }
   ],
   "source": [
    "p = cp.Problem(cp.Minimize(loss), constr)\n",
    "p.solve(verbose=True, solver=cp.ECOS)"
   ],
   "metadata": {
    "collapsed": false,
    "ExecuteTime": {
     "end_time": "2024-05-04T18:33:07.351757Z",
     "start_time": "2024-05-04T18:33:07.014368Z"
    }
   },
   "id": "e842c44cd8f9a5e9"
  },
  {
   "cell_type": "code",
   "execution_count": 26,
   "outputs": [
    {
     "name": "stdout",
     "output_type": "stream",
     "text": [
      "Substrate Km: ['23.895', '10.336', '11.495', '1.058', '1.792', '1.792']\n",
      "Product Km: ['31.112', '1.000', '1.463', '20.747', '0.193', '0.999', '1.000', '1.000']\n",
      "Fwd kcat: ['39678.055', '1329.487', '5070.525', '850.010']\n",
      "Rev kcat: ['1.000', '162732.740', '4459.575', '83.212']\n",
      "Concentration: ['3.7831', '0.1928', '0.0000', '0.0542', '0.6843', '0.0000', '0.0662', '0.0000', '0.0000']\n",
      "Concentration: ['0.8177', '1.0000', '0.0000', '0.0535', '1.0000', '0.0000', '0.0662', '0.1719', '0.1719']\n",
      "Concentration: ['0.8840', '1.0000', '0.0000', '0.0538', '0.5823', '0.0000', '0.0662', '0.2698', '0.2698']\n",
      "Activation Km: ['0.020', '0.001']\n"
     ]
    }
   ],
   "source": [
    "print('Substrate Km:', [f'{val:.3f}' for val in np.exp(Km_s.value)])\n",
    "print('Product Km:', [f'{val:.3f}' for val in np.exp(Km_p.value)])\n",
    "print('Fwd kcat:', [f'{val:.3f}' for val in np.exp(cfwd.value)])\n",
    "print('Rev kcat:', [f'{val:.3f}' for val in np.exp(crev.value)])\n",
    "\n",
    "concs = np.exp(c.value).T\n",
    "for row in concs:\n",
    "    print('Concentration:', [f'{val:.4f}' for val in row])\n",
    "\n",
    "if n_Km_i:\n",
    "    print('Inhibition Km:', [f'{val:.3f}' for val in np.exp(Km_i.value)])\n",
    "if n_Km_a:\n",
    "    print('Activation Km:', [f'{val:.3f}' for val in np.exp(Km_a.value)])"
   ],
   "metadata": {
    "collapsed": false,
    "ExecuteTime": {
     "end_time": "2024-05-04T18:33:07.369588Z",
     "start_time": "2024-05-04T18:33:07.350807Z"
    }
   },
   "id": "5dc96cbcf5f92165"
  },
  {
   "cell_type": "code",
   "execution_count": 27,
   "outputs": [
    {
     "name": "stdout",
     "output_type": "stream",
     "text": [
      "-1.2318651482767784e-06\n",
      "-1.7974280498711526e-07\n",
      "-1.3402933257689043e-07\n",
      "-1.8793507894354633e-07\n",
      "-1.0730781659362698e-06\n",
      "-1.5509815351477663e-07\n",
      "-2.3356250705708348e-07\n",
      "-1.0040161903257516e-07\n",
      "-1.1511761434657153e-06\n",
      "-1.8146268292162926e-07\n",
      "-2.22083093026626e-07\n",
      "-1.0881231516518541e-07\n"
     ]
    }
   ],
   "source": [
    "for v in LSE_expr:\n",
    "    #print(v.value)\n",
    "    print(logsumexp(v.value))"
   ],
   "metadata": {
    "collapsed": false,
    "ExecuteTime": {
     "end_time": "2024-05-04T18:33:07.370604Z",
     "start_time": "2024-05-04T18:33:07.354414Z"
    }
   },
   "id": "614a1856236dd492"
  },
  {
   "cell_type": "markdown",
   "source": [
    "Perfect? Wow."
   ],
   "metadata": {
    "collapsed": false
   },
   "id": "84b952a45a6433a7"
  },
  {
   "cell_type": "markdown",
   "source": [
    "# Check flux reconstruction with inhibition/activation"
   ],
   "metadata": {
    "collapsed": false
   },
   "id": "3f8aa2dbe686be22"
  },
  {
   "cell_type": "code",
   "execution_count": 28,
   "outputs": [
    {
     "name": "stdout",
     "output_type": "stream",
     "text": [
      "[ 90.00011087  70.00001264 -30.00000402  50.0000094 ]\n",
      "[100.00010731 100.00001556  30.00000841  50.00000502]\n",
      "[110.00012663  60.00001094  75.00001797  50.00000544]\n"
     ]
    }
   ],
   "source": [
    "reconstructed_vE = np.zeros(vE.shape)\n",
    "\n",
    "for j in range(n_flux_set):\n",
    "    sat_expr = []\n",
    "    fwd_sat = np.zeros(n_rxn)\n",
    "    back_sat = np.zeros(n_rxn)\n",
    "    sat = np.zeros(n_rxn)\n",
    "\n",
    "    for i in range(n_rxn):\n",
    "        # sum terms are separate in logsumexp. one per saturation term (row in C_alpha, C_beta)\n",
    "        n_term_s = np.sum(d_alpha == i)\n",
    "        n_term_p = np.sum(d_beta == i)\n",
    "        n_term = n_term_s + n_term_p\n",
    "\n",
    "\n",
    "        Km_s_idx = np.nonzero(S_s_nz[1, :] == i)\n",
    "        S_s_idx = S_s_nz[0, S_s_nz[1, :] == i] # negate -1 entries\n",
    "\n",
    "        Km_p_idx = np.nonzero(S_p_nz[1, :] == i)\n",
    "        S_p_idx = S_p_nz[0, S_p_nz[1, :] == i]\n",
    "\n",
    "        #S_s_idx = S_s_nz[0, S_s_nz[1, :] == i]\n",
    "\n",
    "        sat_expr.append(           [ (C_alpha @ y_f.value[j, :].flatten())[d_alpha == i] ,\n",
    "                                     (C_beta @ y_r.value[j, :].flatten())[d_beta == i],\n",
    "                                     0,\n",
    "                                     #-1*np.ones(n_lse_terms - n_term + 1)\n",
    "                                   ]\n",
    "                       )\n",
    "        fwd_sat[i] = (np.exp(-S.T[i, S_s_idx] @ y_s.value[j, Km_s_idx].flatten())) # + cfwd.value[i]\n",
    "        back_sat[i] = (np.exp(S.T[i, S_p_idx] @ y_p.value[j, Km_p_idx].flatten())) # + cfwd.value[i]\n",
    "\n",
    "\n",
    "\n",
    "    for i, rxn in enumerate(sat_expr):\n",
    "        s = 0\n",
    "\n",
    "        for term in rxn:\n",
    "            s += np.sum(np.exp(term))\n",
    "\n",
    "        sat[i] = (s)\n",
    "\n",
    "    reconstr = np.exp(cfwd.value) * fwd_sat/sat - np.exp(crev.value) * back_sat/sat\n",
    "    print(reconstr)\n",
    "    reconstructed_vE[j, :] = reconstr"
   ],
   "metadata": {
    "collapsed": false,
    "ExecuteTime": {
     "end_time": "2024-05-04T18:33:07.413365Z",
     "start_time": "2024-05-04T18:33:07.365976Z"
    }
   },
   "id": "2ddb299ea4615230"
  },
  {
   "cell_type": "code",
   "execution_count": 29,
   "outputs": [
    {
     "data": {
      "text/plain": "         index                  variable       value                kind\n0   Flux set 1           6PFRUCTPHOS-RXN   90.000000         Actual flux\n1   Flux set 2           6PFRUCTPHOS-RXN  100.000000         Actual flux\n2   Flux set 3           6PFRUCTPHOS-RXN  110.000000         Actual flux\n3   Flux set 1           F16ALDOLASE-RXN   70.000000         Actual flux\n4   Flux set 2           F16ALDOLASE-RXN  100.000000         Actual flux\n5   Flux set 3           F16ALDOLASE-RXN   60.000000         Actual flux\n6   Flux set 1            2TRANSKETO-RXN  -30.000000         Actual flux\n7   Flux set 2            2TRANSKETO-RXN   30.000000         Actual flux\n8   Flux set 3            2TRANSKETO-RXN   75.000000         Actual flux\n9   Flux set 1  TRIOSEPISOMERIZATION-RXN   50.000000         Actual flux\n10  Flux set 2  TRIOSEPISOMERIZATION-RXN   50.000000         Actual flux\n11  Flux set 3  TRIOSEPISOMERIZATION-RXN   50.000000         Actual flux\n12  Flux set 1           6PFRUCTPHOS-RXN   90.000111  Reconstructed flux\n13  Flux set 2           6PFRUCTPHOS-RXN  100.000107  Reconstructed flux\n14  Flux set 3           6PFRUCTPHOS-RXN  110.000127  Reconstructed flux\n15  Flux set 1           F16ALDOLASE-RXN   70.000013  Reconstructed flux\n16  Flux set 2           F16ALDOLASE-RXN  100.000016  Reconstructed flux\n17  Flux set 3           F16ALDOLASE-RXN   60.000011  Reconstructed flux\n18  Flux set 1            2TRANSKETO-RXN  -30.000004  Reconstructed flux\n19  Flux set 2            2TRANSKETO-RXN   30.000008  Reconstructed flux\n20  Flux set 3            2TRANSKETO-RXN   75.000018  Reconstructed flux\n21  Flux set 1  TRIOSEPISOMERIZATION-RXN   50.000009  Reconstructed flux\n22  Flux set 2  TRIOSEPISOMERIZATION-RXN   50.000005  Reconstructed flux\n23  Flux set 3  TRIOSEPISOMERIZATION-RXN   50.000005  Reconstructed flux",
      "text/html": "<div>\n<style scoped>\n    .dataframe tbody tr th:only-of-type {\n        vertical-align: middle;\n    }\n\n    .dataframe tbody tr th {\n        vertical-align: top;\n    }\n\n    .dataframe thead th {\n        text-align: right;\n    }\n</style>\n<table border=\"1\" class=\"dataframe\">\n  <thead>\n    <tr style=\"text-align: right;\">\n      <th></th>\n      <th>index</th>\n      <th>variable</th>\n      <th>value</th>\n      <th>kind</th>\n    </tr>\n  </thead>\n  <tbody>\n    <tr>\n      <th>0</th>\n      <td>Flux set 1</td>\n      <td>6PFRUCTPHOS-RXN</td>\n      <td>90.000000</td>\n      <td>Actual flux</td>\n    </tr>\n    <tr>\n      <th>1</th>\n      <td>Flux set 2</td>\n      <td>6PFRUCTPHOS-RXN</td>\n      <td>100.000000</td>\n      <td>Actual flux</td>\n    </tr>\n    <tr>\n      <th>2</th>\n      <td>Flux set 3</td>\n      <td>6PFRUCTPHOS-RXN</td>\n      <td>110.000000</td>\n      <td>Actual flux</td>\n    </tr>\n    <tr>\n      <th>3</th>\n      <td>Flux set 1</td>\n      <td>F16ALDOLASE-RXN</td>\n      <td>70.000000</td>\n      <td>Actual flux</td>\n    </tr>\n    <tr>\n      <th>4</th>\n      <td>Flux set 2</td>\n      <td>F16ALDOLASE-RXN</td>\n      <td>100.000000</td>\n      <td>Actual flux</td>\n    </tr>\n    <tr>\n      <th>5</th>\n      <td>Flux set 3</td>\n      <td>F16ALDOLASE-RXN</td>\n      <td>60.000000</td>\n      <td>Actual flux</td>\n    </tr>\n    <tr>\n      <th>6</th>\n      <td>Flux set 1</td>\n      <td>2TRANSKETO-RXN</td>\n      <td>-30.000000</td>\n      <td>Actual flux</td>\n    </tr>\n    <tr>\n      <th>7</th>\n      <td>Flux set 2</td>\n      <td>2TRANSKETO-RXN</td>\n      <td>30.000000</td>\n      <td>Actual flux</td>\n    </tr>\n    <tr>\n      <th>8</th>\n      <td>Flux set 3</td>\n      <td>2TRANSKETO-RXN</td>\n      <td>75.000000</td>\n      <td>Actual flux</td>\n    </tr>\n    <tr>\n      <th>9</th>\n      <td>Flux set 1</td>\n      <td>TRIOSEPISOMERIZATION-RXN</td>\n      <td>50.000000</td>\n      <td>Actual flux</td>\n    </tr>\n    <tr>\n      <th>10</th>\n      <td>Flux set 2</td>\n      <td>TRIOSEPISOMERIZATION-RXN</td>\n      <td>50.000000</td>\n      <td>Actual flux</td>\n    </tr>\n    <tr>\n      <th>11</th>\n      <td>Flux set 3</td>\n      <td>TRIOSEPISOMERIZATION-RXN</td>\n      <td>50.000000</td>\n      <td>Actual flux</td>\n    </tr>\n    <tr>\n      <th>12</th>\n      <td>Flux set 1</td>\n      <td>6PFRUCTPHOS-RXN</td>\n      <td>90.000111</td>\n      <td>Reconstructed flux</td>\n    </tr>\n    <tr>\n      <th>13</th>\n      <td>Flux set 2</td>\n      <td>6PFRUCTPHOS-RXN</td>\n      <td>100.000107</td>\n      <td>Reconstructed flux</td>\n    </tr>\n    <tr>\n      <th>14</th>\n      <td>Flux set 3</td>\n      <td>6PFRUCTPHOS-RXN</td>\n      <td>110.000127</td>\n      <td>Reconstructed flux</td>\n    </tr>\n    <tr>\n      <th>15</th>\n      <td>Flux set 1</td>\n      <td>F16ALDOLASE-RXN</td>\n      <td>70.000013</td>\n      <td>Reconstructed flux</td>\n    </tr>\n    <tr>\n      <th>16</th>\n      <td>Flux set 2</td>\n      <td>F16ALDOLASE-RXN</td>\n      <td>100.000016</td>\n      <td>Reconstructed flux</td>\n    </tr>\n    <tr>\n      <th>17</th>\n      <td>Flux set 3</td>\n      <td>F16ALDOLASE-RXN</td>\n      <td>60.000011</td>\n      <td>Reconstructed flux</td>\n    </tr>\n    <tr>\n      <th>18</th>\n      <td>Flux set 1</td>\n      <td>2TRANSKETO-RXN</td>\n      <td>-30.000004</td>\n      <td>Reconstructed flux</td>\n    </tr>\n    <tr>\n      <th>19</th>\n      <td>Flux set 2</td>\n      <td>2TRANSKETO-RXN</td>\n      <td>30.000008</td>\n      <td>Reconstructed flux</td>\n    </tr>\n    <tr>\n      <th>20</th>\n      <td>Flux set 3</td>\n      <td>2TRANSKETO-RXN</td>\n      <td>75.000018</td>\n      <td>Reconstructed flux</td>\n    </tr>\n    <tr>\n      <th>21</th>\n      <td>Flux set 1</td>\n      <td>TRIOSEPISOMERIZATION-RXN</td>\n      <td>50.000009</td>\n      <td>Reconstructed flux</td>\n    </tr>\n    <tr>\n      <th>22</th>\n      <td>Flux set 2</td>\n      <td>TRIOSEPISOMERIZATION-RXN</td>\n      <td>50.000005</td>\n      <td>Reconstructed flux</td>\n    </tr>\n    <tr>\n      <th>23</th>\n      <td>Flux set 3</td>\n      <td>TRIOSEPISOMERIZATION-RXN</td>\n      <td>50.000005</td>\n      <td>Reconstructed flux</td>\n    </tr>\n  </tbody>\n</table>\n</div>"
     },
     "execution_count": 29,
     "metadata": {},
     "output_type": "execute_result"
    }
   ],
   "source": [
    "df_vE = pd.DataFrame(vE, columns=Sd.columns, index=[\"Flux set 1\", \"Flux set 2\", \"Flux set 3\"]).melt(ignore_index=False).reset_index(drop=False)\n",
    "df_vE[\"kind\"] = \"Actual flux\"\n",
    "df_recon = pd.DataFrame(reconstructed_vE, columns=Sd.columns, index=[\"Flux set 1\", \"Flux set 2\", \"Flux set 3\"]).melt(ignore_index=False).reset_index(drop=False)\n",
    "df_recon[\"kind\"] = \"Reconstructed flux\"\n",
    "\n",
    "df_reconstr_comp = pd.concat([df_vE, df_recon]).reset_index(drop=True)\n",
    "df_reconstr_comp"
   ],
   "metadata": {
    "collapsed": false,
    "ExecuteTime": {
     "end_time": "2024-05-04T18:33:07.427286Z",
     "start_time": "2024-05-04T18:33:07.372177Z"
    }
   },
   "id": "f2b325d0a4f20e05"
  },
  {
   "cell_type": "code",
   "execution_count": 30,
   "outputs": [
    {
     "data": {
      "text/plain": "<Figure size 1272.38x1000 with 4 Axes>",
      "image/png": "[encoded data removed]"
     },
     "metadata": {},
     "output_type": "display_data"
    }
   ],
   "source": [
    "sns.catplot(x=\"index\", y=\"value\", hue=\"kind\", col=\"variable\", kind=\"bar\", data=df_reconstr_comp, height=5, aspect=1, col_wrap=2)\n",
    "plt.savefig(\"flux_set_comparison.svg\")"
   ],
   "metadata": {
    "collapsed": false,
    "ExecuteTime": {
     "end_time": "2024-05-04T18:33:08.195861Z",
     "start_time": "2024-05-04T18:33:07.384415Z"
    }
   },
   "id": "9adae98f0fb2aa55"
  },
  {
   "cell_type": "markdown",
   "source": [
    "# Stupid class based method"
   ],
   "metadata": {
    "collapsed": false
   },
   "id": "a042e007c6c97a58"
  },
  {
   "cell_type": "code",
   "execution_count": 31,
   "outputs": [],
   "source": [
    "%load_ext autoreload\n",
    "%autoreload 2"
   ],
   "metadata": {
    "collapsed": false,
    "ExecuteTime": {
     "end_time": "2024-05-04T18:33:08.247125Z",
     "start_time": "2024-05-04T18:33:08.196221Z"
    }
   },
   "id": "5f7aa2a192b683c5"
  },
  {
   "cell_type": "code",
   "execution_count": 32,
   "outputs": [],
   "source": [
    "from convex_kinetics_new import ConvexKineticsNew"
   ],
   "metadata": {
    "collapsed": false,
    "ExecuteTime": {
     "end_time": "2024-05-04T18:33:08.247347Z",
     "start_time": "2024-05-04T18:33:08.219681Z"
    }
   },
   "id": "2764715d9e92d21c"
  },
  {
   "cell_type": "code",
   "execution_count": 33,
   "outputs": [
    {
     "name": "stdout",
     "output_type": "stream",
     "text": [
      "Number of metabolites: 9, number of reactions: 4, number of flux sets: 3\n",
      "Number of Km_s: 6, number of Km_p: 8, number of Km_i: 0, number of Km_a: 2\n",
      "Number of concentrations: (9, 3), number of y_f: (3, 8), number of y_r: (3, 10)\n"
     ]
    }
   ],
   "source": [
    "E = ConvexKineticsNew()\n",
    "y_f, y_r, y_s, y_p, y_i, y_a, cfwd, crev, c, Km_s, Km_p, Km_i, Km_a, S_s, S_p, S_i, S_a, \\\n",
    "            met_s_nz, met_p_nz, met_i_nz, met_a_nz, rxn_s_nz, rxn_p_nz, rxn_i_nz, rxn_a_nz, \\\n",
    "            n_rxn, n_met, n_flux_set, S_s_nz, S_p_nz, S = E.set_up_variables(S_matrix=Sd, R_matrix=Sr, flow_data=vE)"
   ],
   "metadata": {
    "collapsed": false,
    "ExecuteTime": {
     "end_time": "2024-05-04T18:33:08.268946Z",
     "start_time": "2024-05-04T18:33:08.242249Z"
    }
   },
   "id": "eeb2014b091ba8eb"
  },
  {
   "cell_type": "code",
   "execution_count": 34,
   "outputs": [
    {
     "name": "stdout",
     "output_type": "stream",
     "text": [
      "Shape of C_alpha: (20, 8), shape of C_beta: (38, 10)\n",
      "Shape of d_alpha: (20,), shape of d_beta: (38,)\n"
     ]
    }
   ],
   "source": [
    "C_alpha, C_beta, d_alpha, d_beta = E.construct_binding_matrix(n_rxn, S_s, S_p, S_i, S_a, Sr, met_s_nz, met_p_nz, met_i_nz, met_a_nz, rxn_s_nz, rxn_p_nz, rxn_i_nz, rxn_a_nz)"
   ],
   "metadata": {
    "collapsed": false,
    "ExecuteTime": {
     "end_time": "2024-05-04T18:33:08.317059Z",
     "start_time": "2024-05-04T18:33:08.265765Z"
    }
   },
   "id": "4acae2a5aecadc8e"
  },
  {
   "cell_type": "code",
   "execution_count": 35,
   "outputs": [],
   "source": [
    "LSE_expr, denom_expr = E.construct_kinetic_objective(vE, n_flux_set, n_rxn, C_alpha, C_beta, d_alpha, d_beta, S_s_nz, S_p_nz, S, y_f, y_r, y_s, y_p, cfwd, crev)"
   ],
   "metadata": {
    "collapsed": false,
    "ExecuteTime": {
     "end_time": "2024-05-04T18:33:08.924746Z",
     "start_time": "2024-05-04T18:33:08.897172Z"
    }
   },
   "id": "ffdc36a8ed5498e8"
  },
  {
   "cell_type": "code",
   "execution_count": 36,
   "outputs": [],
   "source": [
    "loss = E.create_objective_function(cfwd, crev, c, Km_s, Km_p, Km_i, Km_a, y_s, y_p, LSE_expr, denom_expr)"
   ],
   "metadata": {
    "collapsed": false,
    "ExecuteTime": {
     "end_time": "2024-05-04T18:33:08.950372Z",
     "start_time": "2024-05-04T18:33:08.925037Z"
    }
   },
   "id": "5f0596463e57abc1"
  },
  {
   "cell_type": "code",
   "execution_count": 37,
   "outputs": [],
   "source": [
    "constr = E.set_parameter_bounds(cfwd, crev, c, Km_s, Km_p, Km_i, Km_a)"
   ],
   "metadata": {
    "collapsed": false,
    "ExecuteTime": {
     "end_time": "2024-05-04T18:33:08.974673Z",
     "start_time": "2024-05-04T18:33:08.949717Z"
    }
   },
   "id": "fa8eb49f0ec3a492"
  },
  {
   "cell_type": "code",
   "execution_count": 38,
   "outputs": [],
   "source": [
    "constr = E.add_mechanistic_constraints(constr, vE, K_eq, S, S_s_nz, S_p_nz, cfwd, crev, Km_s, Km_p, n_flux_set, y_s, y_p, c)"
   ],
   "metadata": {
    "collapsed": false,
    "ExecuteTime": {
     "end_time": "2024-05-04T18:33:09.006952Z",
     "start_time": "2024-05-04T18:33:08.972241Z"
    }
   },
   "id": "656fa84652e2c075"
  },
  {
   "cell_type": "code",
   "execution_count": 39,
   "outputs": [],
   "source": [
    "problem = E.set_up_problem(loss, constr)"
   ],
   "metadata": {
    "collapsed": false,
    "ExecuteTime": {
     "end_time": "2024-05-04T18:33:09.020743Z",
     "start_time": "2024-05-04T18:33:08.994764Z"
    }
   },
   "id": "416c098f2a35451c"
  },
  {
   "cell_type": "code",
   "execution_count": 40,
   "outputs": [],
   "source": [
    "solution = E.solve(problem)"
   ],
   "metadata": {
    "collapsed": false,
    "ExecuteTime": {
     "end_time": "2024-05-04T18:33:09.473995Z",
     "start_time": "2024-05-04T18:33:09.146336Z"
    }
   },
   "id": "7ebd352f716d66d0"
  },
  {
   "cell_type": "code",
   "execution_count": 41,
   "outputs": [
    {
     "data": {
      "text/plain": "0.6527584158591424"
     },
     "execution_count": 41,
     "metadata": {},
     "output_type": "execute_result"
    }
   ],
   "source": [
    "solution.value"
   ],
   "metadata": {
    "collapsed": false,
    "ExecuteTime": {
     "end_time": "2024-05-04T18:33:09.491662Z",
     "start_time": "2024-05-04T18:33:09.466775Z"
    }
   },
   "id": "c324233b07165c41"
  },
  {
   "cell_type": "code",
   "execution_count": 42,
   "outputs": [
    {
     "data": {
      "text/plain": "0.6527584055951398"
     },
     "execution_count": 42,
     "metadata": {},
     "output_type": "execute_result"
    }
   ],
   "source": [
    "p.value"
   ],
   "metadata": {
    "collapsed": false,
    "ExecuteTime": {
     "end_time": "2024-05-04T18:33:09.536438Z",
     "start_time": "2024-05-04T18:33:09.490698Z"
    }
   },
   "id": "19731216af227f9b"
  },
  {
   "cell_type": "code",
   "execution_count": 43,
   "outputs": [
    {
     "name": "stdout",
     "output_type": "stream",
     "text": [
      "Substrate Km: ['23.809', '10.336', '11.495', '1.058', '1.789', '1.789']\n",
      "Product Km: ['31.001', '1.000', '1.458', '20.747', '0.193', '0.999', '1.000', '1.000']\n",
      "Fwd kcat: ['39678.086', '1329.487', '5070.524', '850.010']\n",
      "Rev kcat: ['1.000', '162729.221', '4459.573', '83.202']\n",
      "Concentration: ['3.7696', '0.1928', '0.0000', '0.0540', '0.6843', '0.0000', '0.0662', '0.0000', '0.0000']\n",
      "Concentration: ['0.8148', '1.0000', '0.0000', '0.0533', '1.0000', '0.0000', '0.0662', '0.1715', '0.1715']\n",
      "Concentration: ['0.8809', '1.0000', '0.0000', '0.0536', '0.5823', '0.0000', '0.0662', '0.2693', '0.2693']\n",
      "Activation Km: ['0.019', '0.001']\n"
     ]
    }
   ],
   "source": [
    "print('Substrate Km:', [f'{val:.3f}' for val in np.exp(Km_s.value)])\n",
    "print('Product Km:', [f'{val:.3f}' for val in np.exp(Km_p.value)])\n",
    "print('Fwd kcat:', [f'{val:.3f}' for val in np.exp(cfwd.value)])\n",
    "print('Rev kcat:', [f'{val:.3f}' for val in np.exp(crev.value)])\n",
    "\n",
    "concs = np.exp(c.value).T\n",
    "for row in concs:\n",
    "    print('Concentration:', [f'{val:.4f}' for val in row])\n",
    "\n",
    "if n_Km_i:\n",
    "    print('Inhibition Km:', [f'{val:.3f}' for val in np.exp(Km_i.value)])\n",
    "if n_Km_a:\n",
    "    print('Activation Km:', [f'{val:.3f}' for val in np.exp(Km_a.value)])"
   ],
   "metadata": {
    "collapsed": false,
    "ExecuteTime": {
     "end_time": "2024-05-04T18:33:09.653284Z",
     "start_time": "2024-05-04T18:33:09.615121Z"
    }
   },
   "id": "af41eb8cb1dca3bc"
  },
  {
   "cell_type": "code",
   "execution_count": 44,
   "outputs": [
    {
     "name": "stdout",
     "output_type": "stream",
     "text": [
      "Substrate Km: ['23.809', '10.336', '11.495', '1.058', '1.789', '1.789']\n",
      "Product Km: ['31.001', '1.000', '1.458', '20.747', '0.193', '0.999', '1.000', '1.000']\n",
      "Fwd kcat: ['39678.086', '1329.487', '5070.524', '850.010']\n",
      "Rev kcat: ['1.000', '162729.221', '4459.573', '83.202']\n",
      "Concentration: ['3.7696', '0.1928', '0.0000', '0.0540', '0.6843', '0.0000', '0.0662', '0.0000', '0.0000']\n",
      "Concentration: ['0.8148', '1.0000', '0.0000', '0.0533', '1.0000', '0.0000', '0.0662', '0.1715', '0.1715']\n",
      "Concentration: ['0.8809', '1.0000', '0.0000', '0.0536', '0.5823', '0.0000', '0.0662', '0.2693', '0.2693']\n",
      "Activation Km: ['0.019', '0.001']\n"
     ]
    }
   ],
   "source": [
    "print('Substrate Km:', [f'{val:.3f}' for val in np.exp(Km_s.value)])\n",
    "print('Product Km:', [f'{val:.3f}' for val in np.exp(Km_p.value)])\n",
    "print('Fwd kcat:', [f'{val:.3f}' for val in np.exp(cfwd.value)])\n",
    "print('Rev kcat:', [f'{val:.3f}' for val in np.exp(crev.value)])\n",
    "\n",
    "concs = np.exp(c.value).T\n",
    "for row in concs:\n",
    "    print('Concentration:', [f'{val:.4f}' for val in row])\n",
    "\n",
    "if n_Km_i:\n",
    "    print('Inhibition Km:', [f'{val:.3f}' for val in np.exp(Km_i.value)])\n",
    "if n_Km_a:\n",
    "    print('Activation Km:', [f'{val:.3f}' for val in np.exp(Km_a.value)])"
   ],
   "metadata": {
    "collapsed": false,
    "ExecuteTime": {
     "end_time": "2024-05-04T18:33:09.803773Z",
     "start_time": "2024-05-04T18:33:09.749214Z"
    }
   },
   "id": "4ec4ad8813bfa91b"
  },
  {
   "cell_type": "code",
   "execution_count": 59,
   "outputs": [
    {
     "name": "stdout",
     "output_type": "stream",
     "text": [
      "[ 90.0001306   70.00001497 -30.00000441  50.00001114]\n",
      "[100.00012651 100.00001843  30.00000995  50.00000594]\n",
      "[110.00014927  60.00001297  75.00002126  50.00000644]\n"
     ]
    }
   ],
   "source": [
    "reconstructed_vE = np.zeros(vE.shape)\n",
    "\n",
    "for j in range(n_flux_set):\n",
    "    sat_expr = []\n",
    "    fwd_sat = np.zeros(n_rxn)\n",
    "    back_sat = np.zeros(n_rxn)\n",
    "    sat = np.zeros(n_rxn)\n",
    "\n",
    "    for i in range(n_rxn):\n",
    "        # sum terms are separate in logsumexp. one per saturation term (row in C_alpha, C_beta)\n",
    "\n",
    "\n",
    "        Km_s_idx = np.nonzero(S_s_nz[1, :] == i)\n",
    "        S_s_idx = S_s_nz[0, S_s_nz[1, :] == i] # negate -1 entries\n",
    "\n",
    "        Km_p_idx = np.nonzero(S_p_nz[1, :] == i)\n",
    "        S_p_idx = S_p_nz[0, S_p_nz[1, :] == i]\n",
    "\n",
    "        sat_expr.append(           [ (C_alpha @ y_f.value[j, :].flatten())[d_alpha == i] ,\n",
    "                                     (C_beta @ y_r.value[j, :].flatten())[d_beta == i],\n",
    "                                     0,\n",
    "                                     #-1*np.ones(n_lse_terms - n_term + 1)\n",
    "                                   ]\n",
    "                       )\n",
    "        fwd_sat[i] = (np.exp(-S.T[i, S_s_idx] @ y_s.value[j, Km_s_idx].flatten())) \n",
    "        back_sat[i] = (np.exp(S.T[i, S_p_idx] @ y_p.value[j, Km_p_idx].flatten()))\n",
    "\n",
    "\n",
    "\n",
    "    for i, rxn in enumerate(sat_expr):\n",
    "        s = 0\n",
    "\n",
    "        for term in rxn:\n",
    "            s += np.sum(np.exp(term))\n",
    "\n",
    "        sat[i] = (s)\n",
    "\n",
    "    reconstr = np.exp(cfwd.value) * fwd_sat/sat - np.exp(crev.value) * back_sat/sat\n",
    "    print(reconstr)\n",
    "    reconstructed_vE[j, :] = reconstr"
   ],
   "metadata": {
    "collapsed": false,
    "ExecuteTime": {
     "end_time": "2024-05-04T19:03:09.255620Z",
     "start_time": "2024-05-04T19:03:09.197300Z"
    }
   },
   "id": "471d3352182b24c"
  },
  {
   "cell_type": "code",
   "execution_count": 65,
   "outputs": [
    {
     "data": {
      "text/plain": "array([[0., 0., 0., 0., 0., 0., 0., 1.],\n       [0., 0., 0., 0., 0., 0., 1., 0.],\n       [0., 0., 0., 0., 0., 0., 1., 1.],\n       [0., 1., 0., 0., 0., 0., 0., 0.],\n       [0., 1., 0., 0., 0., 0., 0., 1.],\n       [0., 1., 0., 0., 0., 0., 1., 0.],\n       [0., 1., 0., 0., 0., 0., 1., 1.],\n       [1., 0., 0., 0., 0., 0., 0., 0.],\n       [1., 0., 0., 0., 0., 0., 0., 1.],\n       [1., 0., 0., 0., 0., 0., 1., 0.],\n       [1., 0., 0., 0., 0., 0., 1., 1.],\n       [1., 1., 0., 0., 0., 0., 0., 0.],\n       [1., 1., 0., 0., 0., 0., 0., 1.],\n       [1., 1., 0., 0., 0., 0., 1., 0.],\n       [1., 1., 0., 0., 0., 0., 1., 1.],\n       [0., 0., 1., 0., 0., 0., 0., 0.],\n       [0., 0., 0., 0., 0., 1., 0., 0.],\n       [0., 0., 0., 0., 1., 0., 0., 0.],\n       [0., 0., 0., 0., 1., 1., 0., 0.],\n       [0., 0., 0., 1., 0., 0., 0., 0.]])"
     },
     "execution_count": 65,
     "metadata": {},
     "output_type": "execute_result"
    }
   ],
   "source": [
    "C_alpha"
   ],
   "metadata": {
    "collapsed": false,
    "ExecuteTime": {
     "end_time": "2024-05-04T19:05:07.165002Z",
     "start_time": "2024-05-04T19:05:07.138470Z"
    }
   },
   "id": "2f404476c416ffae"
  },
  {
   "cell_type": "code",
   "execution_count": 58,
   "outputs": [
    {
     "data": {
      "text/plain": "array([[-1.20000135e+02, -7.00001166e+01, -3.50001280e+01],\n       [-9.00001306e+01, -1.00000127e+02, -1.10000149e+02],\n       [ 9.00001306e+01,  1.00000127e+02,  1.10000149e+02],\n       [ 9.00001306e+01,  1.00000127e+02,  1.10000149e+02],\n       [ 2.00001156e+01,  1.08082576e-04,  5.00001363e+01],\n       [ 1.20000026e+02,  1.50000024e+02,  1.10000019e+02],\n       [-1.00000006e+01,  8.00000224e+01,  8.50000278e+01],\n       [ 3.00000044e+01, -3.00000099e+01, -7.50000213e+01],\n       [ 3.00000044e+01, -3.00000099e+01, -7.50000213e+01]])"
     },
     "execution_count": 58,
     "metadata": {},
     "output_type": "execute_result"
    }
   ],
   "source": [
    "dmdt_ext = S @ reconstructed_vE.T\n",
    "dmdt_ext"
   ],
   "metadata": {
    "collapsed": false,
    "ExecuteTime": {
     "end_time": "2024-05-04T18:57:37.293800Z",
     "start_time": "2024-05-04T18:57:37.263642Z"
    }
   },
   "id": "2458932aa987b224"
  },
  {
   "cell_type": "markdown",
   "source": [
    "# Function that calculates fluxes from concentrations and basic parameters"
   ],
   "metadata": {
    "collapsed": false
   },
   "id": "e7a8b33a9fd785c5"
  },
  {
   "cell_type": "code",
   "execution_count": null,
   "outputs": [],
   "source": [
    "# let's just first testing predicting one dmdt \n",
    "v = np.zeros(n_rxn)\n",
    "\n"
   ],
   "metadata": {
    "collapsed": false
   },
   "id": "242f37f22909cfd8"
  },
  {
   "cell_type": "code",
   "execution_count": 67,
   "outputs": [
    {
     "name": "stdout",
     "output_type": "stream",
     "text": [
      "[ 90.0001306   70.00001497 -30.00000441  50.00001114]\n"
     ]
    }
   ],
   "source": [
    "reconstructed_vE = np.zeros(vE.shape)\n",
    "\n",
    "j = 0\n",
    "\n",
    "sat_expr = []\n",
    "fwd_sat = np.zeros(n_rxn)\n",
    "back_sat = np.zeros(n_rxn)\n",
    "sat = np.zeros(n_rxn)\n",
    "\n",
    "for i in range(n_rxn):\n",
    "    # sum terms are separate in logsumexp. one per saturation term (row in C_alpha, C_beta)\n",
    "\n",
    "\n",
    "    Km_s_idx = np.nonzero(S_s_nz[1, :] == i)\n",
    "    S_s_idx = S_s_nz[0, S_s_nz[1, :] == i] # negate -1 entries\n",
    "\n",
    "    Km_p_idx = np.nonzero(S_p_nz[1, :] == i)\n",
    "    S_p_idx = S_p_nz[0, S_p_nz[1, :] == i]\n",
    "\n",
    "    sat_expr.append(           [ (C_alpha @ y_f.value[j, :].flatten())[d_alpha == i] ,\n",
    "                                 (C_beta @ y_r.value[j, :].flatten())[d_beta == i],\n",
    "                                 0,\n",
    "                                 #-1*np.ones(n_lse_terms - n_term + 1)\n",
    "                               ]\n",
    "                   )\n",
    "    fwd_sat[i] = (np.exp(-S.T[i, S_s_idx] @ y_s.value[j, Km_s_idx].flatten())) \n",
    "    back_sat[i] = (np.exp(S.T[i, S_p_idx] @ y_p.value[j, Km_p_idx].flatten()))\n",
    "\n",
    "\n",
    "\n",
    "for i, rxn in enumerate(sat_expr):\n",
    "    s = 0\n",
    "\n",
    "    for term in rxn:\n",
    "        s += np.sum(np.exp(term))\n",
    "\n",
    "    sat[i] = (s)\n",
    "\n",
    "reconstr = np.exp(cfwd.value) * fwd_sat/sat - np.exp(crev.value) * back_sat/sat\n",
    "print(reconstr)\n",
    "reconstructed_vE[j, :] = reconstr"
   ],
   "metadata": {
    "collapsed": false,
    "ExecuteTime": {
     "end_time": "2024-05-04T20:31:30.831791Z",
     "start_time": "2024-05-04T20:31:30.803229Z"
    }
   },
   "id": "175eaf948f71e4d8"
  },
  {
   "cell_type": "markdown",
   "source": [
    "# Try forward simulation"
   ],
   "metadata": {
    "collapsed": false
   },
   "id": "a33dbaaadf7affca"
  },
  {
   "cell_type": "code",
   "execution_count": null,
   "outputs": [],
   "source": [],
   "metadata": {
    "collapsed": false
   },
   "id": "efc4beb16af4187f"
  },
  {
   "cell_type": "code",
   "execution_count": 47,
   "outputs": [
    {
     "data": {
      "text/plain": "array([1.29114374, 1.11685118, 1.42017316, 1.0625064 ])"
     },
     "execution_count": 47,
     "metadata": {},
     "output_type": "execute_result"
    }
   ],
   "source": [
    "# each of the four compounds has a concentration and a sum of fluxes as derivative \n",
    "def dmdt(c, t):\n",
    "    \n",
    "    "
   ],
   "metadata": {
    "collapsed": false,
    "ExecuteTime": {
     "end_time": "2024-05-04T18:44:03.556847Z",
     "start_time": "2024-05-04T18:44:03.514502Z"
    }
   },
   "id": "bc3cefe38411038c"
  },
  {
   "cell_type": "code",
   "execution_count": 47,
   "outputs": [],
   "source": [],
   "metadata": {
    "collapsed": false,
    "ExecuteTime": {
     "end_time": "2024-05-04T18:44:03.813124Z",
     "start_time": "2024-05-04T18:44:03.779810Z"
    }
   },
   "id": "22ec087bc61bb409"
  },
  {
   "cell_type": "code",
   "execution_count": null,
   "outputs": [],
   "source": [],
   "metadata": {
    "collapsed": false
   },
   "id": "2e9ec118583e98fd"
  }
 ],
 "metadata": {
  "kernelspec": {
   "display_name": "Python 3 (ipykernel)",
   "language": "python",
   "name": "python3"
  },
  "language_info": {
   "codemirror_mode": {
    "name": "ipython",
    "version": 3
   },
   "file_extension": ".py",
   "mimetype": "text/x-python",
   "name": "python",
   "nbconvert_exporter": "python",
   "pygments_lexer": "ipython3",
   "version": "3.9.9"
  }
 },
 "nbformat": 4,
 "nbformat_minor": 5
}
