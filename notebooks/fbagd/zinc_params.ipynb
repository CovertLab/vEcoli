{
 "cells": [
  {
   "cell_type": "code",
   "id": "89c876b4-8497-499f-a413-26ad32cec39e",
   "metadata": {
    "ExecuteTime": {
     "end_time": "2024-05-21T21:36:28.147205Z",
     "start_time": "2024-05-21T21:36:28.141377Z"
    }
   },
   "source": [
    "import numpy as np\n",
    "from scipy.special import logsumexp\n",
    "from scipy.integrate import solve_ivp, odeint\n",
    "import seaborn as sns\n",
    "import pandas as pd\n",
    "import os\n",
    "import matplotlib.pyplot as plt\n",
    "from equilibrator_api import ComponentContribution, Q_, Reaction\n",
    "import requests\n",
    "import xmltodict\n",
    "import pint\n",
    "import cvxpy as cp\n",
    "import itertools\n",
    "import copy\n",
    "from convex_kinetics_new import ConvexKineticsNew\n",
    "\n",
    "sns.set(style='darkgrid', palette='viridis', context='talk')\n",
    "\n",
    "os.chdir(os.path.expanduser('~/vivarium-ecoli'))"
   ],
   "execution_count": 133,
   "outputs": []
  },
  {
   "cell_type": "markdown",
   "id": "82a34091-b89a-4a8b-b49e-ce86aeab25c6",
   "metadata": {},
   "source": [
    "A + B -E1> C -E2> D\n",
    "\n",
    "B -E3> F\n",
    "\n",
    "A -E4> G"
   ]
  },
  {
   "cell_type": "markdown",
   "id": "2cc077b2-8c38-4065-b306-2e91611fd975",
   "metadata": {
    "jp-MarkdownHeadingCollapsed": true,
    "tags": []
   },
   "source": [
    "# Testing eQuilibrator"
   ]
  },
  {
   "cell_type": "code",
   "id": "77f87609-2312-4734-8970-05177c5c3434",
   "metadata": {
    "ExecuteTime": {
     "end_time": "2024-05-21T21:13:16.175839Z",
     "start_time": "2024-05-21T21:13:08.467314Z"
    }
   },
   "source": [
    "cc = ComponentContribution()\n",
    "\n",
    "# optional: changing the aqueous environment parameters\n",
    "cc.p_h = Q_(7.4)\n",
    "cc.p_mg = Q_(3.0)\n",
    "cc.ionic_strength = Q_(\"0.25M\")\n",
    "cc.temperature = Q_(\"298.15K\")\n",
    "\n"
   ],
   "execution_count": 2,
   "outputs": []
  },
  {
   "cell_type": "code",
   "id": "90008655-107b-487c-b60b-a98b12137dd6",
   "metadata": {
    "ExecuteTime": {
     "end_time": "2024-05-21T21:13:16.195664Z",
     "start_time": "2024-05-21T21:13:16.186787Z"
    }
   },
   "source": [
    "from equilibrator_api import Reaction\n",
    "compound_ids = [\"WATER\", \"ADP\", \"ATP\", \"Pi\"]\n",
    "compound_dict = {cid : cc.get_compound(f\"metacyc.compound:{cid}\") for cid in compound_ids}\n",
    "atpase_reaction = Reaction({\n",
    "    compound_dict[\"ATP\"]: -1,\n",
    "    compound_dict[\"WATER\"]: -1,\n",
    "    compound_dict[\"ADP\"]: 1,\n",
    "    compound_dict[\"Pi\"]: 1,\n",
    "})"
   ],
   "execution_count": 3,
   "outputs": []
  },
  {
   "cell_type": "code",
   "id": "ac886c79-121d-4d77-9ba0-eb4b25d19039",
   "metadata": {
    "ExecuteTime": {
     "end_time": "2024-05-21T21:13:16.653642Z",
     "start_time": "2024-05-21T21:13:16.200214Z"
    }
   },
   "source": [
    "standard_dg_prime = cc.standard_dg_prime(atpase_reaction)\n",
    "standard_dg_prime"
   ],
   "execution_count": 4,
   "outputs": []
  },
  {
   "cell_type": "code",
   "id": "c6be2265-c9ec-45cf-8b87-8ca2df1376dd",
   "metadata": {
    "ExecuteTime": {
     "end_time": "2024-05-21T21:13:25.937196Z",
     "start_time": "2024-05-21T21:13:16.654475Z"
    }
   },
   "source": [
    "cytoplasmic_p_h = Q_(7.5)\n",
    "cytoplasmic_ionic_strength = Q_(\"250 mM\")\n",
    "periplasmic_p_h = Q_(7.0)\n",
    "periplasmic_ionic_strength = Q_(\"200 mM\")\n",
    "e_potential_difference = Q_(\"0.15 V\")\n",
    "cytoplasmic_reaction = \"bigg.metabolite:pep = bigg.metabolite:g6p + bigg.metabolite:pyr\"\n",
    "periplasmic_reaction = \"bigg.metabolite:glc__D = \"\n",
    "\n",
    "cc = ComponentContribution()\n",
    "cc.p_h = cytoplasmic_p_h\n",
    "cc.ionic_strength = cytoplasmic_ionic_strength\n",
    "standard_dg_prime = cc.multicompartmental_standard_dg_prime(\n",
    "    cc.parse_reaction_formula(cytoplasmic_reaction),\n",
    "    cc.parse_reaction_formula(periplasmic_reaction),\n",
    "    e_potential_difference=e_potential_difference,\n",
    "    p_h_outer=periplasmic_p_h,\n",
    "    ionic_strength_outer=periplasmic_ionic_strength,\n",
    ")\n",
    "\n",
    "print(standard_dg_prime)\n"
   ],
   "execution_count": 5,
   "outputs": []
  },
  {
   "cell_type": "code",
   "id": "3c97b6b4-77e2-4ddb-926c-b39f4780811b",
   "metadata": {
    "ExecuteTime": {
     "end_time": "2024-05-21T21:13:26.107133Z",
     "start_time": "2024-05-21T21:13:26.051808Z"
    }
   },
   "source": [
    "cc.get_compound_by_inchi(\"WQZGKKKJIJFFOK-GASJEMHNSA-N\")"
   ],
   "execution_count": 6,
   "outputs": []
  },
  {
   "cell_type": "markdown",
   "id": "fb140010-52ab-4edd-844e-a3645b3d5a41",
   "metadata": {
    "jp-MarkdownHeadingCollapsed": true,
    "tags": []
   },
   "source": [
    "# Using eQuilibrator to generate equilibrium constants"
   ]
  },
  {
   "cell_type": "code",
   "id": "6cd11cad-2e4b-4cb7-bec6-6d3e4f7b21bd",
   "metadata": {
    "ExecuteTime": {
     "end_time": "2024-05-21T21:13:39.658869Z",
     "start_time": "2024-05-21T21:13:39.276767Z"
    }
   },
   "source": [
    "s = requests.Session() # create session\n",
    "# Post login credentials to session:\n",
    "s.post('https://websvc.biocyc.org/credentials/login/', data={'email':'cellulararchitect@protonmail.com', 'password':'#'})\n",
    "# Issue web service request:\n",
    "r = s.get('https://websvc.biocyc.org/getxml?id=ECOLI:6PFRUCTPHOS-RXN&detail=low&fmt=json')"
   ],
   "execution_count": 9,
   "outputs": []
  },
  {
   "cell_type": "code",
   "id": "0ceafb21-0bf4-41d7-8e07-c159e8b73302",
   "metadata": {
    "ExecuteTime": {
     "end_time": "2024-05-21T21:13:41.728630Z",
     "start_time": "2024-05-21T21:13:41.636945Z"
    }
   },
   "source": [
    "name = 'F16ALDOLASE-RXN'\n",
    "\n",
    "r = s.get(f'https://websvc.biocyc.org/getxml?id=ECOLI:{name}&detail=low&fmt=json')\n",
    "o = xmltodict.parse(r.content)['ptools-xml']\n",
    "o['Reaction']['enzymatic-reaction']['Enzymatic-Reaction'][0]['@frameid']"
   ],
   "execution_count": 10,
   "outputs": []
  },
  {
   "cell_type": "code",
   "id": "837d6516-fa3c-4b71-ba39-4a98bb9689d3",
   "metadata": {
    "ExecuteTime": {
     "end_time": "2024-05-21T21:13:42.531068Z",
     "start_time": "2024-05-21T21:13:42.090729Z"
    }
   },
   "source": [
    "rxns_names = ['ABC-63-RXN', 'RXN0-5205']\n",
    "# rxns_names = ['6PFRUCTPHOS-RXN', 'F16ALDOLASE-RXN', '2TRANSKETO-RXN', 'TRIOSEPISOMERIZATION-RXN']\n",
    "\n",
    "rxns_dict = {}\n",
    "stoich_dict = {}\n",
    "regulation_dict = {}\n",
    "\n",
    "for name in rxns_names:\n",
    "    r = s.get(f'https://websvc.biocyc.org/getxml?id=ECOLI:{name}&detail=low&fmt=json')\n",
    "    rxn = xmltodict.parse(r.content)['ptools-xml']\n",
    "\n",
    "    rxn_dict = {}\n",
    "    stoich_loop_dict = {}\n",
    "    regulation_loop_dict = {}\n",
    "    left = rxn['Reaction']['left']\n",
    "    right = rxn['Reaction']['right'] \n",
    "    \n",
    "    # i will know exact complex in model (connected to rxn), but for now will pick random\n",
    "    enz_rxn = rxn['Reaction']['enzymatic-reaction']['Enzymatic-Reaction']\n",
    "    \n",
    "    if type(left) is dict:\n",
    "        left = [left]\n",
    "    \n",
    "    if type(right) is dict:\n",
    "        right = [right]\n",
    "        \n",
    "    if type(enz_rxn) is dict:\n",
    "        enz_rxn = [enz_rxn]\n",
    "    \n",
    "    enz_rxn_id =  enz_rxn[0]['@frameid']\n",
    "    re = s.get(f'https://websvc.biocyc.org/getxml?id=ECOLI:{enz_rxn_id}&detail=high&fmt=json')\n",
    "    oe = xmltodict.parse(re.content)['ptools-xml']['Enzymatic-Reaction']\n",
    "    \n",
    "    if 'regulated-by' in oe:\n",
    "        oe = oe['regulated-by']['Regulation']\n",
    "    \n",
    "        if type(oe) is dict:\n",
    "            oe = [oe]\n",
    "            \n",
    "        # add regulators, target regulator directly with id to get info like irreversible, etc\n",
    "        for regulator in oe:\n",
    "            reg_name = regulator['regulator']['Compound']['@frameid']\n",
    "            reg_type = regulator['mode']['#text']\n",
    "            reg_type = 1 if reg_type == '+' else -1\n",
    "            regulation_loop_dict[reg_name] = reg_type\n",
    "    \n",
    "    for mol in left:\n",
    "        if type(mol) is dict:\n",
    "            cid = mol['Compound']['@frameid']\n",
    "            mol_cc = cc.get_compound(f\"metacyc.compound:{cid}\")\n",
    "            \n",
    "            compartment = mol['compartment']['cco']['@frameid']\n",
    "            \n",
    "            if compartment == 'CCO-IN':\n",
    "                # mol_cc = mol_cc.in_compartment('c')\n",
    "                compartment = 'c'\n",
    "            elif compartment == 'CCO-OUT':\n",
    "                # mol_cc = mol_cc.in_compartment('p')\n",
    "                compartment = 'p'\n",
    "            \n",
    "            rxn_dict[mol_cc] = -1\n",
    "            stoich_loop_dict[f'{cid}[{compartment}]'] = -1\n",
    "\n",
    "    for mol in right:\n",
    "        if type(mol) is dict:\n",
    "            cid = mol['Compound']['@frameid']\n",
    "            mol_cc = cc.get_compound(f\"metacyc.compound:{cid}\")\n",
    "            \n",
    "            compartment = mol['compartment']['cco']['@frameid']\n",
    "            \n",
    "            if compartment == 'CCO-IN':\n",
    "                # mol_cc = mol_cc.in_compartment('c')\n",
    "                compartment = 'c'\n",
    "            elif compartment == 'CCO-OUT':\n",
    "                # mol_cc = mol_cc.in_compartment('p')\n",
    "                compartment = 'p'\n",
    "                \n",
    "            rxn_dict[mol_cc] =  1\n",
    "            stoich_loop_dict[f'{cid}[{compartment}]']  = 1\n",
    "    \n",
    "    rxns_dict[name] = Reaction(rxn_dict)\n",
    "    stoich_dict[name] = stoich_loop_dict\n",
    "    regulation_dict[name] = regulation_loop_dict\n",
    "\n",
    "# (standard_dg_prime, dg_uncertainty) = cc.standard_dg_prime_multi(list(rxns_dict.values()), uncertainty_representation=\"cov\")\n",
    "# R = 0.008314 # kJ/mol*K\n",
    "# T = 298.15 # K\n",
    "# dG = standard_dg_prime._magnitude\n",
    "# \n",
    "# K_eq = -dG/(R*T)\n",
    "\n",
    "rxns_dict"
   ],
   "execution_count": 11,
   "outputs": []
  },
  {
   "metadata": {
    "ExecuteTime": {
     "end_time": "2024-05-21T21:13:42.535548Z",
     "start_time": "2024-05-21T21:13:42.532497Z"
    }
   },
   "cell_type": "code",
   "source": "stoich_dict",
   "id": "747bbdd0dcedc056",
   "execution_count": 12,
   "outputs": []
  },
  {
   "metadata": {},
   "cell_type": "markdown",
   "source": "# Drop water and protons ",
   "id": "1f61b5f60bc6acd4"
  },
  {
   "metadata": {},
   "cell_type": "markdown",
   "source": "",
   "id": "4aaf97f22e37e489"
  },
  {
   "metadata": {
    "ExecuteTime": {
     "end_time": "2024-05-21T21:13:42.866904Z",
     "start_time": "2024-05-21T21:13:42.863994Z"
    }
   },
   "cell_type": "code",
   "source": [
    "# drop water and protons from dict\n",
    "for rxn in stoich_dict:\n",
    "    stoich_dict[rxn] = {k: v for k, v in stoich_dict[rxn].items() if 'WATER' not in k and 'PROTON' not in k}\n",
    "    \n",
    "stoich_dict"
   ],
   "id": "f84327ba78c1d8b2",
   "execution_count": 13,
   "outputs": []
  },
  {
   "cell_type": "markdown",
   "id": "3a19ac18-e8ce-4653-9976-3946c1227c85",
   "metadata": {
    "jp-MarkdownHeadingCollapsed": true,
    "tags": []
   },
   "source": [
    "# Calculating set of kinetic parameters with given equilibrium constants and arbitrary fluxes"
   ]
  },
  {
   "cell_type": "code",
   "id": "ad0c9880-fd76-40d6-9d15-3bb61f96e3e9",
   "metadata": {
    "ExecuteTime": {
     "end_time": "2024-05-21T21:25:57.047460Z",
     "start_time": "2024-05-21T21:25:57.041314Z"
    }
   },
   "source": [
    "Sd = pd.DataFrame(stoich_dict).fillna(0).astype(np.int8)\n",
    "# Sd = Sd.iloc[0:7, 0:2]\n",
    "\n",
    "n_rxn = Sd.shape[1]\n",
    "n_met = Sd.shape[0]\n",
    "\n",
    "Sd\n",
    "\n",
    "# Sd[\"6PFRUCTPHOS-RXN\"] = Sd[\"6PFRUCTPHOS-RXN\"] # * 2\n",
    "Sd"
   ],
   "execution_count": 90,
   "outputs": []
  },
  {
   "cell_type": "code",
   "id": "760bee51-984c-4f98-91fd-788113ce0d86",
   "metadata": {
    "ExecuteTime": {
     "end_time": "2024-05-21T21:25:57.211153Z",
     "start_time": "2024-05-21T21:25:57.206475Z"
    }
   },
   "source": [
    "Sr_min = pd.DataFrame(regulation_dict).fillna(0).astype(np.int8)\n",
    "\n",
    "Sr = Sd.copy()\n",
    "Sr.loc[:,:] = 0\n",
    "Sr.loc[Sd.index.intersection(Sr_min.index), :] = Sr_min.loc[Sd.index.intersection(Sr_min.index), :]\n",
    "Sr"
   ],
   "execution_count": 91,
   "outputs": []
  },
  {
   "metadata": {
    "ExecuteTime": {
     "end_time": "2024-05-21T21:25:57.345967Z",
     "start_time": "2024-05-21T21:25:57.343833Z"
    }
   },
   "cell_type": "code",
   "source": [
    "# estimate flows\n",
    "# ZnuBC has 125 copies per cell normally. Grows to about 600 copies per cell in zinc starvation.\n",
    "# ZntA has 300 copies per cell normally. Falls to zero in zinc starvation.\n",
    "# dynamic equilibrium flows are as follows in counts:\n",
    "# Zn_in = 400 atoms per second\n",
    "# Zn_out = 200 atoms per second\n",
    "# Zn_prot = 200 atoms per second\n",
    "\n",
    "# convert flows to molar/second\n",
    "cell_volume = 3e-15 # L\n",
    "Zn_in = 400 / (6.022e23 * cell_volume)\n",
    "Zn_out = 200 / (6.022e23 * cell_volume)\n",
    "Zn_prot = 200 / (6.022e23 * cell_volume)"
   ],
   "id": "77bfc7c2af1bbc61",
   "execution_count": 92,
   "outputs": []
  },
  {
   "metadata": {
    "ExecuteTime": {
     "end_time": "2024-05-21T21:25:57.481879Z",
     "start_time": "2024-05-21T21:25:57.479116Z"
    }
   },
   "cell_type": "code",
   "source": "vE",
   "id": "1a42c3fa68a81357",
   "execution_count": 93,
   "outputs": []
  },
  {
   "cell_type": "code",
   "source": [
    "# K_eq = np.log(keq)\n",
    "K_eq = np.array([8, 8])\n",
    "K_eq_mod = K_eq[:, np.newaxis].T\n",
    "vE = np.array([[Zn_in, Zn_out*2], \n",
    "               [Zn_in, Zn_out], \n",
    "               [Zn_in, Zn_out*4],\n",
    "               [1.2*Zn_in, 1.2*Zn_out],\n",
    "               [Zn_in, Zn_out],\n",
    "               [0.8*Zn_in, 0.8*Zn_out],\n",
    "               [Zn_in, Zn_out],\n",
    "               [Zn_in, Zn_out],\n",
    "               [Zn_in, Zn_out],])\n",
    "# vE[:, 0] = vE[:, 0] / 2\n",
    "\n",
    "n_flux_set = vE.shape[0]\n",
    "\n",
    "# K_eq[vE < 0] = 1/K_eq[vE < 0]\n",
    "\n",
    "lvE = np.log(np.abs(vE))\n",
    "pd.DataFrame(np.concatenate([K_eq_mod, vE, np.sign(vE)]), columns=Sd.columns,\n",
    "             index=[\"$K_{eq}$\", ] + [f\"Flux set {i}\" for i in range(n_flux_set)] + [f\"Sign set {i}\" for i in range(n_flux_set)])"
   ],
   "metadata": {
    "collapsed": false,
    "ExecuteTime": {
     "end_time": "2024-05-21T21:25:57.627053Z",
     "start_time": "2024-05-21T21:25:57.620199Z"
    }
   },
   "id": "a35d2a38b36b7483",
   "execution_count": 94,
   "outputs": []
  },
  {
   "cell_type": "code",
   "source": [
    "[Zn_in, Zn_out],[Zn_in, Zn_out],# set up variables\n",
    "\n",
    "S_mol = np.array(Sd)\n",
    "S = np.sign(S_mol) #\n",
    "S_s = -np.copy(S) # reverse neg sign\n",
    "S_p = np.copy(S)\n",
    "S_s[S > 0] = 0 # zeros products\n",
    "S_p[S < 0] = 0 # zeros substrates\n",
    "S_i = np.copy(np.array(Sr) == -1) # reaction direction does not matter\n",
    "S_a = np.copy(np.array(Sr) == 1)\n",
    "\n",
    "\n",
    "S_s_nz = np.array(S_s.nonzero())\n",
    "S_p_nz = np.array(S_p.nonzero())\n",
    "S_i_nz = np.array(S_i.nonzero())\n",
    "S_a_nz = np.array(S_a.nonzero())\n",
    "S_s_mol = np.abs(S_mol)[S_s.nonzero()]\n",
    "S_p_mol = np.abs(S_mol)[S_p.nonzero()]\n",
    "\n",
    "# TODO Refactor all the below lines as one liners\n",
    "# first coordinate, e.g. metabolites w nonzero substrate/product coeff across all reactions. also works as substrate indices.\n",
    "met_s_nz = S_s_nz[0, :]\n",
    "met_p_nz = S_p_nz[0, :]\n",
    "met_i_nz = S_i_nz[0, :]\n",
    "met_a_nz = S_a_nz[0, :]\n",
    "\n",
    "# second coordinate, e.g. reactions indices for those concentrations. works to index substrates as well.\n",
    "rxn_s_nz = S_s_nz[1, :]\n",
    "rxn_p_nz = S_p_nz[1, :]\n",
    "rxn_i_nz = S_i_nz[1, :]\n",
    "rxn_a_nz = S_a_nz[1, :]\n",
    "\n",
    "# one dim is always 2\n",
    "n_Km_s = np.max(met_s_nz.shape)\n",
    "n_Km_p = np.max(met_p_nz.shape)\n",
    "n_Km_i = np.max(met_i_nz.shape)\n",
    "n_Km_a = np.max(met_a_nz.shape)\n",
    "\n",
    "c = cp.Variable([n_met, n_flux_set])\n",
    "Km_s = cp.Variable(n_Km_s)\n",
    "Km_p = cp.Variable(n_Km_p)\n",
    "Km_i = cp.Variable(n_Km_i) if n_Km_i else None\n",
    "Km_a = cp.Variable(n_Km_a) if n_Km_a else None\n",
    "\n",
    "cfwd = cp.Variable(n_rxn)\n",
    "crev = cp.Variable(n_rxn)\n",
    "\n",
    "# define y vecs\n",
    "y_s_t = []\n",
    "y_p_t = []\n",
    "y_i_t = []\n",
    "y_a_t = []\n",
    "\n",
    "# define Km positions by nonzero S matrix concentrations. Activation is reverse val of inhibition.\n",
    "# TODO Add molecularity here.\n",
    "for i in range(n_flux_set):\n",
    "    y_s_t.append(cp.multiply(S_s_mol, c[met_s_nz, i] - Km_s))\n",
    "    y_p_t.append(cp.multiply(S_p_mol, c[met_p_nz, i] - Km_p))\n",
    "    y_i_t.append(c[met_i_nz, i] - Km_i if n_Km_i else None)\n",
    "    y_a_t.append(-(c[met_a_nz, i] - Km_a) if n_Km_a else None)\n",
    "\n",
    "y_s = cp.vstack(y_s_t)\n",
    "y_p = cp.vstack(y_p_t)\n",
    "y_i = cp.vstack(y_i_t)\n",
    "y_a = cp.vstack(y_a_t)\n",
    "\n",
    "# saturation stacks\n",
    "y_f_vec = [y_s]\n",
    "y_r_vec = [y_p]\n",
    "if n_Km_i:\n",
    "    y_f_vec.append(y_i)\n",
    "    y_r_vec.append(y_i)\n",
    "if n_Km_a:\n",
    "    y_f_vec.append(y_a)\n",
    "    y_r_vec.append(y_a)\n",
    "\n",
    "y_f = cp.hstack(y_f_vec)\n",
    "y_r = cp.hstack(y_r_vec)"
   ],
   "metadata": {
    "collapsed": false,
    "ExecuteTime": {
     "end_time": "2024-05-21T21:25:57.760056Z",
     "start_time": "2024-05-21T21:25:57.752121Z"
    }
   },
   "id": "356774a40e10091d",
   "execution_count": 95,
   "outputs": []
  },
  {
   "cell_type": "code",
   "source": [
    "# number of saturation terms for sub, prod\n",
    "S_s_comb = np.concatenate((S_s, S_i, S_a), axis=0)\n",
    "S_p_comb = np.concatenate((S_p, S_i, S_a), axis=0)\n",
    "n_alpha = np.sum(np.power(2, np.sign(S_s_comb).sum(axis=0)) - 1)\n",
    "n_beta = np.sum(np.power(2, np.sign(S_p_comb).sum(axis=0)) - 1)\n",
    "\n",
    "# saturation matrix setup, first sub, then inhib, then act.\n",
    "C_alpha = np.zeros([n_alpha, len(met_s_nz) + len(met_i_nz) + len(met_a_nz)])\n",
    "C_beta = np.zeros([n_beta, len(met_p_nz) + len(met_i_nz) + len(met_a_nz)])\n",
    "\n",
    "# to separate different reactions saturation terms to their individual reaction equations.\n",
    "d_alpha = np.zeros(n_alpha, dtype=np.int8)\n",
    "d_beta = np.zeros(n_beta, dtype=np.int8)\n",
    "\n",
    "\n",
    "idx = 0\n",
    "\n",
    "for i in range(n_rxn):\n",
    "\n",
    "    # pick one reaction at a time (get substrate indicies)\n",
    "    #idx_cur_rxn = rxn_s_nz == i\n",
    "    # TODO This does not properly multiply by molecularity. Alternatively, generate C_alpha and\n",
    "    # TODO beta without molecularity (first ==1) and then multiply by molecularity in the end.\n",
    "    idx_cur_rxn = np.concatenate((rxn_s_nz == i, rxn_i_nz == i, rxn_a_nz == i))\n",
    "\n",
    "    # generates all binary permutations minus the first one since that would result in -1\n",
    "    sat_perm = np.array(list(itertools.product([0, 1], repeat=sum(idx_cur_rxn))))\n",
    "    sat_perm = sat_perm[1:, :]\n",
    "\n",
    "    r, _ = sat_perm.shape\n",
    "\n",
    "    # replace zeros with saturation matrix\n",
    "    C_alpha[idx:(idx+r), idx_cur_rxn] = sat_perm\n",
    "    d_alpha[idx:(idx+r)] = i\n",
    "\n",
    "    idx += r # add row #\n",
    "\n",
    "idx = 0\n",
    "\n",
    "for i in range(n_rxn):\n",
    "    idx_cur_rxn = np.concatenate((rxn_p_nz == i, rxn_i_nz == i, rxn_a_nz == i))\n",
    "\n",
    "    sat_perm = np.array(list(itertools.product([0, 1], repeat=sum(idx_cur_rxn))))\n",
    "    sat_perm = sat_perm[1:, :]\n",
    "\n",
    "    r, _ = sat_perm.shape\n",
    "\n",
    "    C_beta[idx:(idx+r), idx_cur_rxn] = sat_perm\n",
    "    d_beta[idx:(idx+r)] = i\n",
    "\n",
    "    idx += r # add row #"
   ],
   "metadata": {
    "collapsed": false,
    "ExecuteTime": {
     "end_time": "2024-05-21T21:25:57.918167Z",
     "start_time": "2024-05-21T21:25:57.912964Z"
    }
   },
   "id": "ecd5ba7a0843ebd0",
   "execution_count": 96,
   "outputs": []
  },
  {
   "cell_type": "code",
   "source": [
    "C_alpha"
   ],
   "metadata": {
    "collapsed": false,
    "ExecuteTime": {
     "end_time": "2024-05-21T21:25:58.066353Z",
     "start_time": "2024-05-21T21:25:58.063894Z"
    }
   },
   "id": "7876a61f1e3b73d9",
   "execution_count": 97,
   "outputs": []
  },
  {
   "cell_type": "code",
   "source": [
    "n_lse_terms = np.max(np.power(2, S_s.sum(axis=0)) +  np.power(2, S_p.sum(axis=0)) - 2)\n",
    "LSE_expr = []\n",
    "denom_expr = []\n",
    "\n",
    "sign = np.sign(vE)\n",
    "lvE = np.log(sign * vE)\n",
    "\n",
    "for j in range(n_flux_set):\n",
    "    for i in range(n_rxn):\n",
    "        # sum terms are separate in logsumexp. one per saturation term (row in C_alpha, C_beta)\n",
    "\n",
    "        n_term_s = np.sum(d_alpha == i)\n",
    "        n_term_p = np.sum(d_beta == i)\n",
    "        n_term = n_term_s + n_term_p\n",
    "\n",
    "        Km_s_idx = np.nonzero(S_s_nz[1, :] == i)\n",
    "        S_s_idx = S_s_nz[0, S_s_nz[1, :] == i] # negate -1 entries\n",
    "\n",
    "        Km_p_idx = np.nonzero(S_p_nz[1, :] == i)\n",
    "        S_p_idx = S_p_nz[0, S_p_nz[1, :] == i]\n",
    "\n",
    "        if sign[j, i] == 1:\n",
    "            LSE_expr.append(cp.hstack( [\n",
    "                                         lvE[j, i] + (C_alpha @ cp.vec(y_f[j, :]))[d_alpha == i]\n",
    "                                            - cp.multiply(np.ones(n_term_s), - S.T[i, S_s_idx] @ cp.vec(y_s[j, Km_s_idx])) - cfwd[i],\n",
    "                                         lvE[j, i] + (C_beta @ cp.vec(y_r[j, :]))[d_beta == i]\n",
    "                                            - cp.multiply(np.ones(n_term_p), - S.T[i, S_s_idx] @ cp.vec(y_s[j, Km_s_idx])) - cfwd[i],\n",
    "\n",
    "                                         lvE[j, i] + 0 - cp.multiply(np.ones(1), -S.T[i, S_s_idx] @ cp.vec(y_s[j, Km_s_idx]))  - cfwd[i],\n",
    "\n",
    "                                         cp.multiply(np.ones(1), S.T[i, S_p_idx] @ cp.vec(y_p[j, Km_p_idx]))  + crev[i]\n",
    "                                            - cp.multiply(np.ones(1), -S.T[i, S_s_idx] @ cp.vec(y_s[j, Km_s_idx]))  - cfwd[i],\n",
    "\n",
    "                                       ]\n",
    "                                     )\n",
    "                           )  # remove +1 here, could also have cfwd outside objec.\n",
    "\n",
    "            denom_expr.append(cp.multiply(np.ones(1), -S.T[i, S_s_idx] @ cp.vec(y_s[j, Km_s_idx])) + cfwd[i],)\n",
    "\n",
    "\n",
    "        # keep saturation term the same, switch around fwd and rev terms. flip all signs with S matrix since it's signed.\n",
    "        if sign[j, i] == -1:\n",
    "            LSE_expr.append(cp.hstack( [ lvE[j, i] + (C_alpha @ cp.vec(y_f[j, :]))[d_alpha == i]\n",
    "                                            - cp.multiply(np.ones(n_term_s), S.T[i, S_p_idx] @ cp.vec(y_p[j, Km_p_idx])) - crev[i],\n",
    "\n",
    "                                         lvE[j, i] + (C_beta @ cp.vec(y_r[j, :]))[d_beta == i]\n",
    "                                            - cp.multiply(np.ones(n_term_p), S.T[i, S_p_idx] @ cp.vec(y_p[j, Km_p_idx])) - crev[i],\n",
    "\n",
    "                                         lvE[j, i] + 0 - cp.multiply(np.ones(1), S.T[i, S_p_idx] @ cp.vec(y_p[j, Km_p_idx])) - crev[i],\n",
    "\n",
    "                                         cp.multiply(np.ones(1), - S.T[i, S_s_idx] @ cp.vec(y_s[j, Km_s_idx]))  + cfwd[i]\n",
    "                                            - cp.multiply(np.ones(1), S.T[i, S_p_idx] @ cp.vec(y_p[j, Km_p_idx])) - crev[i],\n",
    "\n",
    "                                       ]\n",
    "                                     )\n",
    "                           )\n",
    "\n",
    "            denom_expr.append(cp.multiply(np.ones(1), S.T[i, S_p_idx] @ cp.vec(y_p[j, Km_p_idx])) + crev[i])\n",
    "\n",
    "\n",
    "#LSE_expr = cp.vstack(LSE_expr)\n",
    "LSE_expr"
   ],
   "metadata": {
    "collapsed": false,
    "ExecuteTime": {
     "end_time": "2024-05-21T21:25:58.242336Z",
     "start_time": "2024-05-21T21:25:58.210128Z"
    }
   },
   "id": "94583ebedbc980de",
   "execution_count": 98,
   "outputs": []
  },
  {
   "cell_type": "code",
   "source": [
    "l = 0.001\n",
    "e = 0.01\n",
    "f = 0.01\n",
    "g = 1\n",
    "reg =  cp.sum(cp.hstack([cfwd, crev, cp.vec(c)])) + cp.sum(cp.hstack([-Km_s, -Km_p])) # regularization\n",
    "reg2 = (cp.norm1(cp.hstack([cfwd, crev, cp.vec(c)])) \n",
    "        #+ cp.norm1(cp.hstack([-Km_s, -Km_p]) - 4)\n",
    "        ) # regularization\n",
    "reg3 = cp.sum(cp.huber(cp.hstack([-Km_s, -Km_p]) - 4,3  )) # issue with matrix\n",
    "\n",
    "# if y_s is larger than 3 or smaller than -3, add penalty\n",
    "reg4 = cp.sum(cp.max(cp.abs(cp.hstack([y_s, y_p])) - 3, 0))\n",
    "\n",
    "if n_Km_i:\n",
    "    reg += cp.sum(cp.hstack([-Km_i]))\n",
    "if n_Km_a:\n",
    "    reg += cp.sum(cp.hstack([-Km_a]))\n",
    "#reg3 = cp.norm1(cp.hstack([y_s, y_p])) # take a look at this\n",
    "\n",
    "loss = 0\n",
    "# for i in range(len(LSE_expr)):\n",
    "#     loss += cp.norm1(cp.pos(cp.log_sum_exp(LSE_expr[i])))\n",
    "for i in range(len(denom_expr)):\n",
    "    loss += 1 * denom_expr[i]\n",
    "loss += l * reg\n",
    "# loss += e * reg2\n",
    "# loss += f * reg3\n",
    "loss += g * reg4"
   ],
   "metadata": {
    "collapsed": false,
    "ExecuteTime": {
     "end_time": "2024-05-21T21:25:58.370759Z",
     "start_time": "2024-05-21T21:25:58.366280Z"
    }
   },
   "id": "8cdd817ad886e5fe",
   "execution_count": 99,
   "outputs": []
  },
  {
   "metadata": {
    "ExecuteTime": {
     "end_time": "2024-05-21T21:25:58.527523Z",
     "start_time": "2024-05-21T21:25:58.524374Z"
    }
   },
   "cell_type": "code",
   "source": "cp.max(cp.abs(cp.hstack([y_s, y_p])) - 3, 0)",
   "id": "721e71cfb4f43526",
   "execution_count": 100,
   "outputs": []
  },
  {
   "metadata": {
    "ExecuteTime": {
     "end_time": "2024-05-21T21:25:58.674370Z",
     "start_time": "2024-05-21T21:25:58.671970Z"
    }
   },
   "cell_type": "code",
   "source": [
    "# concentration estimates\n",
    "# Zn_conc_in = 1e-12 M\n",
    "# Zn_conc_out = 1e-6 M\n",
    "# ATP = 5e-3 M\n",
    "# ADP = 5e-4 M\n",
    "# Pi = 5e-4 M\n",
    "\n",
    "# km measured\n",
    "# ZntA_Zn_in = 1e-12 M\n",
    "\n",
    "list(Sd.index)"
   ],
   "id": "bf0b03f0a540f07c",
   "execution_count": 101,
   "outputs": []
  },
  {
   "metadata": {
    "ExecuteTime": {
     "end_time": "2024-05-21T21:25:58.834045Z",
     "start_time": "2024-05-21T21:25:58.831490Z"
    }
   },
   "cell_type": "code",
   "source": [
    "concentrations = {\n",
    "    'ZN+2[p]': [1e-6, 1e-6, 1e-6, 1e-6, 1e-6, 1e-6, 0.9e-6, 1.1e-6, 0.95e-6, ],\n",
    "    'ZN+2[c]': [1e-12, 0.5e-12, 2e-12,1e-12,1e-12,1e-12,0.9e-12,1.1e-12,0.95e-12],\n",
    "    'ATP[c]': [5e-3, 5e-3, 5e-3,5e-3, 5e-3, 5e-3,5.1e-3, 5.05e-3, 4.95e-3],\n",
    "    'ADP[c]': [5e-4, 5e-4, 5e-4,5e-4, 5e-4, 5e-4,5.1e-4, 5.05e-4, 4.95e-4],\n",
    "    'Pi[c]': [5e-4, 5e-4, 5e-4,5e-4, 5e-4, 5e-4,5.1e-4, 4.95e-4, 5.1e-4],\n",
    "}\n",
    "\n"
   ],
   "id": "e17544bbf53c8415",
   "execution_count": 102,
   "outputs": []
  },
  {
   "cell_type": "code",
   "source": [
    "constr = [cp.hstack([cfwd, crev, cp.vec(c), Km_s, Km_p]) >= -50,\n",
    "          cp.hstack([cfwd, crev, cp.vec(c), Km_s, Km_p]) <= 6,\n",
    "          ]\n",
    "\n",
    "if n_Km_i:\n",
    "    constr.extend([Km_i >= -12, Km_i <= 12])\n",
    "if n_Km_a:\n",
    "    constr.extend([Km_a >= -12, Km_a <= 12])\n",
    "\n",
    "# for now, just set concentrations as a constraint\n",
    "for i, met in enumerate(Sd.index):\n",
    "    if met in concentrations:\n",
    "        constr.extend([c[i, 0] == np.log(concentrations[met][0])])\n",
    "        constr.extend([c[i, 1] == np.log(concentrations[met][1])])\n",
    "        \n",
    "\n",
    "for i in range(len(LSE_expr)):\n",
    "    constr.extend([cp.pos(cp.log_sum_exp(LSE_expr[i])) <= 0])\n",
    "# set Kms as a constraint"
   ],
   "metadata": {
    "collapsed": false,
    "ExecuteTime": {
     "end_time": "2024-05-21T21:25:58.992072Z",
     "start_time": "2024-05-21T21:25:58.983254Z"
    }
   },
   "id": "3d2e26bf727f6531",
   "execution_count": 103,
   "outputs": []
  },
  {
   "cell_type": "code",
   "source": [
    "haldane = []\n",
    "fwd_flux = []\n",
    "\n",
    "for i, r in enumerate(S.T):\n",
    "    Km_s_idx = np.nonzero(S_s_nz[1, :] == i)\n",
    "    S_s_idx = S_s_nz[0, S_s_nz[1, :] == i] # negate -1 entries\n",
    "\n",
    "    Km_p_idx = np.nonzero(S_p_nz[1, :] == i)\n",
    "    S_p_idx = S_p_nz[0, S_p_nz[1, :] == i]\n",
    "\n",
    "    haldane.append(K_eq[i] == cfwd[i] - crev[i] + r[S_p_idx] @ Km_p[Km_p_idx] - (-r[S_s_idx]) @ Km_s[Km_s_idx])\n",
    "\n",
    "for j in range(n_flux_set):\n",
    "    for i, r in enumerate(S.T):\n",
    "        Km_s_idx = np.nonzero(S_s_nz[1, :] == i)\n",
    "        S_s_idx = S_s_nz[0, S_s_nz[1, :] == i] # negate -1 entries\n",
    "\n",
    "        Km_p_idx = np.nonzero(S_p_nz[1, :] == i)\n",
    "        S_p_idx = S_p_nz[0, S_p_nz[1, :] == i]\n",
    "\n",
    "        if sign[j, i] == 1:\n",
    "            fwd_flux.append(cfwd[i] + (-r[S_s_idx]) @ cp.vec(y_s[j, Km_s_idx]) - (crev[i] + r[S_p_idx] @ cp.vec(y_p[j, Km_p_idx]))  >= 0)  # add minus since s matrix has minus\n",
    "\n",
    "        if sign[j, i] == -1:\n",
    "            fwd_flux.append(cfwd[i] + (-r[S_s_idx]) @ cp.vec(y_s[j, Km_s_idx]) - (crev[i] + r[S_p_idx] @ cp.vec(y_p[j, Km_p_idx]))  <= 0)  # add minus since s matrix has minus\n",
    "\n",
    "    constr.extend([cp.multiply(S.T @ cp.vec(c[:, j]), sign[j, :])  <= cp.multiply(K_eq, sign[j, :])])\n",
    "\n",
    "# constr.extend(haldane)\n",
    "constr.extend(fwd_flux)"
   ],
   "metadata": {
    "collapsed": false,
    "ExecuteTime": {
     "end_time": "2024-05-21T21:25:59.143175Z",
     "start_time": "2024-05-21T21:25:59.132300Z"
    }
   },
   "id": "3c75a1b408e473",
   "execution_count": 104,
   "outputs": []
  },
  {
   "cell_type": "code",
   "source": [
    "p = cp.Problem(cp.Minimize(loss), constr)\n",
    "p.solve(verbose=True, solver=cp.CLARABEL)"
   ],
   "metadata": {
    "collapsed": false,
    "ExecuteTime": {
     "end_time": "2024-05-21T21:26:00.304581Z",
     "start_time": "2024-05-21T21:25:59.297863Z"
    }
   },
   "id": "e842c44cd8f9a5e9",
   "execution_count": 105,
   "outputs": []
  },
  {
   "cell_type": "code",
   "source": [
    "print('Substrate Km:', [f'{val:.6f}' for val in np.exp(Km_s.value)])\n",
    "print('Product Km:', [f'{val:.3f}' for val in np.exp(Km_p.value)])\n",
    "print('Fwd kcat:', [f'{val:.3f}' for val in np.exp(cfwd.value)])\n",
    "print('Rev kcat:', [f'{val:.3f}' for val in np.exp(crev.value)])\n",
    "\n",
    "concs = np.exp(c.value).T\n",
    "for row in concs:\n",
    "    print('Concentration:', [f'{val:.12f}' for val in row])\n",
    "\n",
    "if n_Km_i:\n",
    "    print('Inhibition Km:', [f'{val:.7f}' for val in np.exp(Km_i.value)])\n",
    "if n_Km_a:\n",
    "    print('Activation Km:', [f'{val:.7f}' for val in np.exp(Km_a.value)])"
   ],
   "metadata": {
    "collapsed": false,
    "ExecuteTime": {
     "end_time": "2024-05-21T21:26:00.309085Z",
     "start_time": "2024-05-21T21:26:00.305752Z"
    }
   },
   "id": "5dc96cbcf5f92165",
   "execution_count": 106,
   "outputs": []
  },
  {
   "metadata": {
    "ExecuteTime": {
     "end_time": "2024-05-21T21:26:00.311330Z",
     "start_time": "2024-05-21T21:26:00.310013Z"
    }
   },
   "cell_type": "code",
   "source": "",
   "id": "94d7fd1f4f9fe25d",
   "execution_count": 106,
   "outputs": []
  },
  {
   "metadata": {
    "ExecuteTime": {
     "end_time": "2024-05-21T21:26:00.317039Z",
     "start_time": "2024-05-21T21:26:00.312495Z"
    }
   },
   "cell_type": "code",
   "source": [
    "print('reaction 1, ZnuBC Out -> In, no water, proton')\n",
    "print('List of substrates: ', list(Sd.index[Sd.iloc[:, 0] < 0]))\n",
    "print('Substrate Km:', [f'{val:.4f}' for val in Km_s.value[0:2]])\n",
    "print('List of products: ', list(Sd.index[Sd.iloc[:, 0] > 0]))\n",
    "print('Product Km:', [f'{val:.4f}' for val in Km_p.value[0:3]])\n",
    "\n",
    "print('Fwd kcat:', [f'{val:.4f}' for val in cfwd.value][0])\n",
    "print('Rev kcat:', [f'{val:.4f}' for val in crev.value][0])\n",
    "\n",
    "\n",
    "print('reaction 2, ZntA in -> out, no water, proton')\n",
    "print('List of substrates: ', list(Sd.index[Sd.iloc[:, 1] < 0]))\n",
    "print('Substrate Km:', [f'{val:.4f}' for val in Km_s.value[2:4]])\n",
    "print('List of products: ', list(Sd.index[Sd.iloc[:, 1] > 0]))\n",
    "print('Product Km:', [f'{val:.4f}' for val in Km_p.value[3:6]])\n",
    "\n",
    "print('Fwd kcat:', [f'{val:.4f}' for val in cfwd.value][1])\n",
    "print('Rev kcat:', [f'{val:.4f}' for val in crev.value][1])\n",
    "\n",
    "# concentrations\n",
    "print('Molecules: ', list(Sd.index))\n",
    "print('Concentration:', [f'{val:.4f}' for val in c.value[:, 0]])"
   ],
   "id": "161ab745dda08e8e",
   "execution_count": 107,
   "outputs": []
  },
  {
   "metadata": {
    "ExecuteTime": {
     "end_time": "2024-05-21T21:26:00.320096Z",
     "start_time": "2024-05-21T21:26:00.317600Z"
    }
   },
   "cell_type": "code",
   "source": "y_p.value",
   "id": "eb9fad975337c713",
   "execution_count": 108,
   "outputs": []
  },
  {
   "cell_type": "code",
   "source": [
    "for v in LSE_expr:\n",
    "    #print(v.value)\n",
    "    print(logsumexp(v.value))"
   ],
   "metadata": {
    "collapsed": false,
    "ExecuteTime": {
     "end_time": "2024-05-21T21:26:00.339119Z",
     "start_time": "2024-05-21T21:26:00.320735Z"
    }
   },
   "id": "614a1856236dd492",
   "execution_count": 109,
   "outputs": []
  },
  {
   "cell_type": "markdown",
   "source": [
    "Perfect? Wow."
   ],
   "metadata": {
    "collapsed": false
   },
   "id": "84b952a45a6433a7"
  },
  {
   "cell_type": "markdown",
   "source": [
    "# Check flux reconstruction with inhibition/activation"
   ],
   "metadata": {
    "collapsed": false
   },
   "id": "3f8aa2dbe686be22"
  },
  {
   "cell_type": "code",
   "source": [
    "reconstructed_vE = np.zeros(vE.shape)\n",
    "\n",
    "for j in range(n_flux_set):\n",
    "    sat_expr = []\n",
    "    fwd_sat = np.zeros(n_rxn)\n",
    "    back_sat = np.zeros(n_rxn)\n",
    "    sat = np.zeros(n_rxn)\n",
    "\n",
    "    for i in range(n_rxn):\n",
    "        # sum terms are separate in logsumexp. one per saturation term (row in C_alpha, C_beta)\n",
    "        n_term_s = np.sum(d_alpha == i)\n",
    "        n_term_p = np.sum(d_beta == i)\n",
    "        n_term = n_term_s + n_term_p\n",
    "\n",
    "\n",
    "        Km_s_idx = np.nonzero(S_s_nz[1, :] == i)\n",
    "        S_s_idx = S_s_nz[0, S_s_nz[1, :] == i] # negate -1 entries\n",
    "\n",
    "        Km_p_idx = np.nonzero(S_p_nz[1, :] == i)\n",
    "        S_p_idx = S_p_nz[0, S_p_nz[1, :] == i]\n",
    "\n",
    "        #S_s_idx = S_s_nz[0, S_s_nz[1, :] == i]\n",
    "\n",
    "        sat_expr.append(           [ (C_alpha @ y_f.value[j, :].flatten())[d_alpha == i] ,\n",
    "                                     (C_beta @ y_r.value[j, :].flatten())[d_beta == i],\n",
    "                                     0,\n",
    "                                     #-1*np.ones(n_lse_terms - n_term + 1)\n",
    "                                   ]\n",
    "                       )\n",
    "        fwd_sat[i] = (np.exp(-S.T[i, S_s_idx] @ y_s.value[j, Km_s_idx].flatten())) # + cfwd.value[i]\n",
    "        back_sat[i] = (np.exp(S.T[i, S_p_idx] @ y_p.value[j, Km_p_idx].flatten())) # + cfwd.value[i]\n",
    "\n",
    "\n",
    "\n",
    "    for i, rxn in enumerate(sat_expr):\n",
    "        s = 0\n",
    "\n",
    "        for term in rxn:\n",
    "            s += np.sum(np.exp(term))\n",
    "\n",
    "        sat[i] = (s)\n",
    "\n",
    "    reconstr = np.exp(cfwd.value) * fwd_sat/sat - np.exp(crev.value) * back_sat/sat\n",
    "    print(reconstr)\n",
    "    reconstructed_vE[j, :] = reconstr"
   ],
   "metadata": {
    "collapsed": false,
    "ExecuteTime": {
     "end_time": "2024-05-21T21:26:02.948529Z",
     "start_time": "2024-05-21T21:26:02.927944Z"
    }
   },
   "id": "2ddb299ea4615230",
   "execution_count": 110,
   "outputs": []
  },
  {
   "cell_type": "code",
   "source": [
    "df_vE = pd.DataFrame(vE, columns=Sd.columns, index=[\"Flux set 1\", \"Flux set 2\",\"Flux set 3\"]).melt(ignore_index=False).reset_index(drop=False)\n",
    "df_vE[\"kind\"] = \"Actual flux\"\n",
    "df_recon = pd.DataFrame(reconstructed_vE, columns=Sd.columns, index=[\"Flux set 1\", \"Flux set 2\",\"Flux set 3\"]).melt(ignore_index=False).reset_index(drop=False)\n",
    "df_recon[\"kind\"] = \"Reconstructed flux\"\n",
    "\n",
    "df_reconstr_comp = pd.concat([df_vE, df_recon]).reset_index(drop=True)\n",
    "df_reconstr_comp"
   ],
   "metadata": {
    "collapsed": false,
    "ExecuteTime": {
     "end_time": "2024-05-21T21:26:03.994513Z",
     "start_time": "2024-05-21T21:26:03.949317Z"
    }
   },
   "id": "f2b325d0a4f20e05",
   "execution_count": 111,
   "outputs": []
  },
  {
   "cell_type": "code",
   "source": [
    "sns.catplot(x=\"index\", y=\"value\", hue=\"kind\", col=\"variable\", kind=\"bar\", data=df_reconstr_comp, height=5, aspect=1, col_wrap=2)\n",
    "plt.savefig(\"flux_set_comparison.svg\")"
   ],
   "metadata": {
    "collapsed": false,
    "ExecuteTime": {
     "end_time": "2024-05-21T21:26:04.619429Z",
     "start_time": "2024-05-21T21:26:04.608326Z"
    }
   },
   "id": "9adae98f0fb2aa55",
   "execution_count": 112,
   "outputs": []
  },
  {
   "cell_type": "code",
   "source": [
    "reconstructed_vE = np.zeros(vE.shape)\n",
    "\n",
    "for j in range(n_flux_set):\n",
    "    sat_expr = []\n",
    "    fwd_sat = np.zeros(n_rxn)\n",
    "    back_sat = np.zeros(n_rxn)\n",
    "    sat = np.zeros(n_rxn)\n",
    "\n",
    "    for i in range(n_rxn):\n",
    "        # sum terms are separate in logsumexp. one per saturation term (row in C_alpha, C_beta)\n",
    "\n",
    "\n",
    "        Km_s_idx = np.nonzero(S_s_nz[1, :] == i)\n",
    "        S_s_idx = S_s_nz[0, S_s_nz[1, :] == i] # negate -1 entries\n",
    "\n",
    "        Km_p_idx = np.nonzero(S_p_nz[1, :] == i)\n",
    "        S_p_idx = S_p_nz[0, S_p_nz[1, :] == i]\n",
    "\n",
    "        sat_expr.append(           [ (C_alpha @ y_f.value[j, :].flatten())[d_alpha == i] ,\n",
    "                                     (C_beta @ y_r.value[j, :].flatten())[d_beta == i],\n",
    "                                     0,\n",
    "                                     #-1*np.ones(n_lse_terms - n_term + 1)\n",
    "                                   ]\n",
    "                       )\n",
    "        fwd_sat[i] = (np.exp(-S.T[i, S_s_idx] @ y_s.value[j, Km_s_idx].flatten())) \n",
    "        back_sat[i] = (np.exp(S.T[i, S_p_idx] @ y_p.value[j, Km_p_idx].flatten()))\n",
    "\n",
    "\n",
    "\n",
    "    for i, rxn in enumerate(sat_expr):\n",
    "        s = 0\n",
    "\n",
    "        for term in rxn:\n",
    "            s += np.sum(np.exp(term))\n",
    "\n",
    "        sat[i] = (s)\n",
    "\n",
    "    reconstr = np.exp(cfwd.value) * fwd_sat/sat - np.exp(crev.value) * back_sat/sat\n",
    "    print(reconstr)\n",
    "    reconstructed_vE[j, :] = reconstr"
   ],
   "metadata": {
    "collapsed": false,
    "ExecuteTime": {
     "end_time": "2024-05-21T21:26:04.804235Z",
     "start_time": "2024-05-21T21:26:04.788222Z"
    }
   },
   "id": "471d3352182b24c",
   "execution_count": 113,
   "outputs": []
  },
  {
   "cell_type": "code",
   "source": [
    "dmdt_ext = S @ reconstructed_vE.T\n",
    "dmdt_ext"
   ],
   "metadata": {
    "collapsed": false,
    "ExecuteTime": {
     "end_time": "2024-05-21T21:26:06.451607Z",
     "start_time": "2024-05-21T21:26:06.448192Z"
    }
   },
   "id": "2458932aa987b224",
   "execution_count": 114,
   "outputs": []
  },
  {
   "metadata": {},
   "cell_type": "markdown",
   "source": "# Simulate dynamic response",
   "id": "89cf0cf48e43c80e"
  },
  {
   "metadata": {
    "ExecuteTime": {
     "end_time": "2024-05-21T21:26:07.813020Z",
     "start_time": "2024-05-21T21:26:07.810290Z"
    }
   },
   "cell_type": "code",
   "source": "c.value",
   "id": "291fa3ee1859fcdb",
   "execution_count": 115,
   "outputs": []
  },
  {
   "metadata": {
    "ExecuteTime": {
     "end_time": "2024-05-21T21:24:38.141939Z",
     "start_time": "2024-05-21T21:24:38.138857Z"
    }
   },
   "cell_type": "code",
   "source": "Sd.index",
   "id": "23d55da803c295b0",
   "execution_count": 81,
   "outputs": []
  },
  {
   "metadata": {
    "ExecuteTime": {
     "end_time": "2024-05-21T21:26:27.150386Z",
     "start_time": "2024-05-21T21:26:27.147698Z"
    }
   },
   "cell_type": "code",
   "source": "np.log(np.array([1e-6, 5e-3, 1e-12, 5e-4, 5e-4,]))",
   "id": "1c3ee62ca7cebdd6",
   "execution_count": 117,
   "outputs": []
  },
  {
   "metadata": {
    "ExecuteTime": {
     "end_time": "2024-05-22T04:44:42.119964Z",
     "start_time": "2024-05-22T04:44:36.681697Z"
    }
   },
   "cell_type": "code",
   "source": [
    "Cc = []\n",
    "Dmdt = []\n",
    "Vv = []\n",
    "\n",
    "for start in [0.001, 0.01, 0.1, 1, 10, 100, 1000]:\n",
    "    \n",
    "    \n",
    "    c = np.log(np.array([1e-6, 5e-3, 1e-12 * start, 5e-4, 5e-4,]))\n",
    "    \n",
    "    C = []\n",
    "    D = []\n",
    "    V = []\n",
    "    \n",
    "    for t in range(10000):\n",
    "        \n",
    "        v = np.zeros(n_rxn)\n",
    "    \n",
    "        for i in range(n_rxn):\n",
    "            y_s_t = []\n",
    "            y_p_t = []\n",
    "            sat_expr = []\n",
    "            \n",
    "            j = 0\n",
    "                \n",
    "            Km_s_idx = np.nonzero(S_s_nz[1, :] == i)\n",
    "            S_s_idx = S_s_nz[0, S_s_nz[1, :] == i] # negate -1 entries\n",
    "            \n",
    "            \n",
    "            Km_p_idx = np.nonzero(S_p_nz[1, :] == i)\n",
    "            S_p_idx = S_p_nz[0, S_p_nz[1, :] == i]\n",
    "            \n",
    "            y_s_t.append(np.multiply(S_s_mol, c[met_s_nz] - Km_s.value))\n",
    "            y_p_t.append(np.multiply(S_p_mol, c[met_p_nz] - Km_p.value))\n",
    "            \n",
    "            y_s = np.vstack(y_s_t)\n",
    "            y_p = np.vstack(y_p_t)\n",
    "            \n",
    "            y_f_vec = [y_s]\n",
    "            y_r_vec = [y_p]\n",
    "            \n",
    "            y_f = np.hstack(y_f_vec)\n",
    "            y_r = np.hstack(y_r_vec)\n",
    "            \n",
    "            sat_expr = list((C_alpha @ y_f[j, :].flatten())[d_alpha == i]) + list((C_beta @ y_r[j, :].flatten())[d_beta == i]) + [0]\n",
    "            sat_exp = np.sum(np.exp(sat_expr))\n",
    "            \n",
    "            fwd_sat = (np.exp(-S.T[i, S_s_idx] @ y_s[j, Km_s_idx].flatten())) \n",
    "            back_sat = (np.exp(S.T[i, S_p_idx] @ y_p[j, Km_p_idx].flatten()))\n",
    "            \n",
    "            v[i] = np.exp(cfwd.value[i]) * fwd_sat/sat_exp - np.exp(crev.value[i]) * back_sat/sat_exp\n",
    "            \n",
    "        \n",
    "        v[1] += 0.8 * v[0]\n",
    "        dmdt = S @ np.array(v)\n",
    "        \n",
    "        # add noise\n",
    "        noise = np.random.normal(0, 5*10**(-16))\n",
    "        \n",
    "        c[2] = np.log(np.max([np.exp(c[2]) + dmdt[2] * 0.0000001 + noise,10**(-18) ]   )) \n",
    "        \n",
    "        C.append(c[2])\n",
    "        D.append(dmdt[2])\n",
    "        V.append(v[0])\n",
    "        \n",
    "    Cc.append(C)\n",
    "    Dmdt.append(D)\n",
    "    Vv.append(V)"
   ],
   "id": "1ffd8c783c33fc1a",
   "execution_count": 282,
   "outputs": []
  },
  {
   "metadata": {
    "ExecuteTime": {
     "end_time": "2024-05-22T04:44:42.244428Z",
     "start_time": "2024-05-22T04:44:42.120972Z"
    }
   },
   "cell_type": "code",
   "source": "plt.plot(np.array(Cc).T )",
   "id": "e3340dab0c123110",
   "execution_count": 283,
   "outputs": []
  },
  {
   "metadata": {
    "ExecuteTime": {
     "end_time": "2024-05-22T04:33:20.644877Z",
     "start_time": "2024-05-22T04:33:20.643315Z"
    }
   },
   "cell_type": "code",
   "source": "",
   "id": "62b9b20aa8e38f89",
   "execution_count": 242,
   "outputs": []
  },
  {
   "metadata": {},
   "cell_type": "code",
   "execution_count": null,
   "source": "",
   "id": "dbcf25615b286adb",
   "outputs": []
  }
 ],
 "metadata": {
  "kernelspec": {
   "display_name": "Python 3 (ipykernel)",
   "language": "python",
   "name": "python3"
  },
  "language_info": {
   "codemirror_mode": {
    "name": "ipython",
    "version": 3
   },
   "file_extension": ".py",
   "mimetype": "text/x-python",
   "name": "python",
   "nbconvert_exporter": "python",
   "pygments_lexer": "ipython3",
   "version": "3.9.9"
  }
 },
 "nbformat": 4,
 "nbformat_minor": 5
}
