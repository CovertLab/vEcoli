{
 "cells": [
  {
   "cell_type": "code",
   "execution_count": 1,
   "id": "859226c6",
   "metadata": {},
   "outputs": [],
   "source": [
    "using HTTP\n",
    "using WGLMakie\n",
    "using GLMakie\n",
    "using Graphs\n",
    "using JSServe\n",
    "using NetworkLayout\n",
    "using GraphMakie\n",
    "using CSV\n",
    "using DataFrames\n",
    "using LinearAlgebra"
   ]
  },
  {
   "cell_type": "markdown",
   "id": "7f4128fc",
   "metadata": {},
   "source": [
    "### Set up API Environment"
   ]
  },
  {
   "cell_type": "code",
   "execution_count": 10,
   "id": "1c599034",
   "metadata": {},
   "outputs": [
    {
     "ename": "LoadError",
     "evalue": "HTTP.Exceptions.StatusError(401, \"POST\", \"/credentials/login/\", HTTP.Messages.Response:\n\"\"\"\nHTTP/1.1 401 Unauthorized\r\nDate: Wed, 19 Jul 2023 23:23:57 GMT\r\nConnection: Close\r\nServer: AllegroServe/1.3.85\r\nContent-Type: JS\r\nTransfer-Encoding: chunked\r\nContent-Encoding: GZIP\r\n\r\n\n⋮\n55-byte body\n\"\"\")",
     "output_type": "error",
     "traceback": [
      "HTTP.Exceptions.StatusError(401, \"POST\", \"/credentials/login/\", HTTP.Messages.Response:\n\"\"\"\nHTTP/1.1 401 Unauthorized\r\nDate: Wed, 19 Jul 2023 23:23:57 GMT\r\nConnection: Close\r\nServer: AllegroServe/1.3.85\r\nContent-Type: JS\r\nTransfer-Encoding: chunked\r\nContent-Encoding: GZIP\r\n\r\n\n⋮\n55-byte body\n\"\"\")",
      "",
      "Stacktrace:",
      "  [1] (::HTTP.ConnectionRequest.var\"#connections#5\"{HTTP.ConnectionRequest.var\"#connections#1#6\"{HTTP.TimeoutRequest.var\"#timeouts#3\"{HTTP.TimeoutRequest.var\"#timeouts#1#4\"{HTTP.ExceptionRequest.var\"#exceptions#2\"{HTTP.ExceptionRequest.var\"#exceptions#1#3\"{typeof(HTTP.StreamRequest.streamlayer)}}}}}})(req::HTTP.Messages.Request; proxy::Nothing, socket_type::Type, socket_type_tls::Type, readtimeout::Int64, connect_timeout::Int64, logerrors::Bool, logtag::Nothing, kw::Base.Pairs{Symbol, Union{Nothing, Int64}, Tuple{Symbol, Symbol, Symbol}, NamedTuple{(:iofunction, :decompress, :verbose), Tuple{Nothing, Nothing, Int64}}})",
      "    @ HTTP.ConnectionRequest ~/.julia/packages/HTTP/tKlUB/src/clientlayers/ConnectionRequest.jl:150",
      "  [2] (::Base.var\"#90#92\"{Base.var\"#90#91#93\"{ExponentialBackOff, HTTP.RetryRequest.var\"#2#5\"{Int64, typeof(HTTP.RetryRequest.FALSE), HTTP.Messages.Request, Base.RefValue{Int64}}, HTTP.ConnectionRequest.var\"#connections#5\"{HTTP.ConnectionRequest.var\"#connections#1#6\"{HTTP.TimeoutRequest.var\"#timeouts#3\"{HTTP.TimeoutRequest.var\"#timeouts#1#4\"{HTTP.ExceptionRequest.var\"#exceptions#2\"{HTTP.ExceptionRequest.var\"#exceptions#1#3\"{typeof(HTTP.StreamRequest.streamlayer)}}}}}}}})(args::HTTP.Messages.Request; kwargs::Base.Pairs{Symbol, Union{Nothing, Int64}, Tuple{Symbol, Symbol, Symbol}, NamedTuple{(:iofunction, :decompress, :verbose), Tuple{Nothing, Nothing, Int64}}})",
      "    @ Base ./error.jl:296",
      "  [3] (::HTTP.RetryRequest.var\"#manageretries#3\"{HTTP.RetryRequest.var\"#manageretries#1#4\"{HTTP.ConnectionRequest.var\"#connections#5\"{HTTP.ConnectionRequest.var\"#connections#1#6\"{HTTP.TimeoutRequest.var\"#timeouts#3\"{HTTP.TimeoutRequest.var\"#timeouts#1#4\"{HTTP.ExceptionRequest.var\"#exceptions#2\"{HTTP.ExceptionRequest.var\"#exceptions#1#3\"{typeof(HTTP.StreamRequest.streamlayer)}}}}}}}})(req::HTTP.Messages.Request; retry::Bool, retries::Int64, retry_delays::ExponentialBackOff, retry_check::Function, retry_non_idempotent::Bool, kw::Base.Pairs{Symbol, Union{Nothing, Int64}, Tuple{Symbol, Symbol, Symbol}, NamedTuple{(:iofunction, :decompress, :verbose), Tuple{Nothing, Nothing, Int64}}})",
      "    @ HTTP.RetryRequest ~/.julia/packages/HTTP/tKlUB/src/clientlayers/RetryRequest.jl:75",
      "  [4] manageretries",
      "    @ ~/.julia/packages/HTTP/tKlUB/src/clientlayers/RetryRequest.jl:30 [inlined]",
      "  [5] (::HTTP.CookieRequest.var\"#managecookies#4\"{HTTP.CookieRequest.var\"#managecookies#1#5\"{HTTP.RetryRequest.var\"#manageretries#3\"{HTTP.RetryRequest.var\"#manageretries#1#4\"{HTTP.ConnectionRequest.var\"#connections#5\"{HTTP.ConnectionRequest.var\"#connections#1#6\"{HTTP.TimeoutRequest.var\"#timeouts#3\"{HTTP.TimeoutRequest.var\"#timeouts#1#4\"{HTTP.ExceptionRequest.var\"#exceptions#2\"{HTTP.ExceptionRequest.var\"#exceptions#1#3\"{typeof(HTTP.StreamRequest.streamlayer)}}}}}}}}}})(req::HTTP.Messages.Request; cookies::Bool, cookiejar::HTTP.Cookies.CookieJar, kw::Base.Pairs{Symbol, Union{Nothing, Int64}, Tuple{Symbol, Symbol, Symbol}, NamedTuple{(:iofunction, :decompress, :verbose), Tuple{Nothing, Nothing, Int64}}})",
      "    @ HTTP.CookieRequest ~/.julia/packages/HTTP/tKlUB/src/clientlayers/CookieRequest.jl:42",
      "  [6] managecookies",
      "    @ ~/.julia/packages/HTTP/tKlUB/src/clientlayers/CookieRequest.jl:19 [inlined]",
      "  [7] (::HTTP.HeadersRequest.var\"#defaultheaders#2\"{HTTP.HeadersRequest.var\"#defaultheaders#1#3\"{HTTP.CookieRequest.var\"#managecookies#4\"{HTTP.CookieRequest.var\"#managecookies#1#5\"{HTTP.RetryRequest.var\"#manageretries#3\"{HTTP.RetryRequest.var\"#manageretries#1#4\"{HTTP.ConnectionRequest.var\"#connections#5\"{HTTP.ConnectionRequest.var\"#connections#1#6\"{HTTP.TimeoutRequest.var\"#timeouts#3\"{HTTP.TimeoutRequest.var\"#timeouts#1#4\"{HTTP.ExceptionRequest.var\"#exceptions#2\"{HTTP.ExceptionRequest.var\"#exceptions#1#3\"{typeof(HTTP.StreamRequest.streamlayer)}}}}}}}}}}}})(req::HTTP.Messages.Request; iofunction::Nothing, decompress::Nothing, basicauth::Bool, detect_content_type::Bool, canonicalize_headers::Bool, kw::Base.Pairs{Symbol, Int64, Tuple{Symbol}, NamedTuple{(:verbose,), Tuple{Int64}}})",
      "    @ HTTP.HeadersRequest ~/.julia/packages/HTTP/tKlUB/src/clientlayers/HeadersRequest.jl:71",
      "  [8] defaultheaders",
      "    @ ~/.julia/packages/HTTP/tKlUB/src/clientlayers/HeadersRequest.jl:14 [inlined]",
      "  [9] (::HTTP.RedirectRequest.var\"#redirects#3\"{HTTP.RedirectRequest.var\"#redirects#1#4\"{HTTP.HeadersRequest.var\"#defaultheaders#2\"{HTTP.HeadersRequest.var\"#defaultheaders#1#3\"{HTTP.CookieRequest.var\"#managecookies#4\"{HTTP.CookieRequest.var\"#managecookies#1#5\"{HTTP.RetryRequest.var\"#manageretries#3\"{HTTP.RetryRequest.var\"#manageretries#1#4\"{HTTP.ConnectionRequest.var\"#connections#5\"{HTTP.ConnectionRequest.var\"#connections#1#6\"{HTTP.TimeoutRequest.var\"#timeouts#3\"{HTTP.TimeoutRequest.var\"#timeouts#1#4\"{HTTP.ExceptionRequest.var\"#exceptions#2\"{HTTP.ExceptionRequest.var\"#exceptions#1#3\"{typeof(HTTP.StreamRequest.streamlayer)}}}}}}}}}}}}}})(req::HTTP.Messages.Request; redirect::Bool, redirect_limit::Int64, redirect_method::Nothing, forwardheaders::Bool, response_stream::Nothing, kw::Base.Pairs{Symbol, Int64, Tuple{Symbol}, NamedTuple{(:verbose,), Tuple{Int64}}})",
      "    @ HTTP.RedirectRequest ~/.julia/packages/HTTP/tKlUB/src/clientlayers/RedirectRequest.jl:25",
      " [10] redirects",
      "    @ ~/.julia/packages/HTTP/tKlUB/src/clientlayers/RedirectRequest.jl:14 [inlined]",
      " [11] (::HTTP.MessageRequest.var\"#makerequest#3\"{HTTP.MessageRequest.var\"#makerequest#1#4\"{HTTP.RedirectRequest.var\"#redirects#3\"{HTTP.RedirectRequest.var\"#redirects#1#4\"{HTTP.HeadersRequest.var\"#defaultheaders#2\"{HTTP.HeadersRequest.var\"#defaultheaders#1#3\"{HTTP.CookieRequest.var\"#managecookies#4\"{HTTP.CookieRequest.var\"#managecookies#1#5\"{HTTP.RetryRequest.var\"#manageretries#3\"{HTTP.RetryRequest.var\"#manageretries#1#4\"{HTTP.ConnectionRequest.var\"#connections#5\"{HTTP.ConnectionRequest.var\"#connections#1#6\"{HTTP.TimeoutRequest.var\"#timeouts#3\"{HTTP.TimeoutRequest.var\"#timeouts#1#4\"{HTTP.ExceptionRequest.var\"#exceptions#2\"{HTTP.ExceptionRequest.var\"#exceptions#1#3\"{typeof(HTTP.StreamRequest.streamlayer)}}}}}}}}}}}}}}}})(method::String, url::URIs.URI, headers::Dict{String, String}, body::Vector{UInt8}; copyheaders::Bool, response_stream::Nothing, http_version::HTTP.Strings.HTTPVersion, verbose::Int64, kw::Base.Pairs{Symbol, Union{}, Tuple{}, NamedTuple{(), Tuple{}}})",
      "    @ HTTP.MessageRequest ~/.julia/packages/HTTP/tKlUB/src/clientlayers/MessageRequest.jl:35",
      " [12] makerequest",
      "    @ ~/.julia/packages/HTTP/tKlUB/src/clientlayers/MessageRequest.jl:24 [inlined]",
      " [13] request(stack::HTTP.MessageRequest.var\"#makerequest#3\"{HTTP.MessageRequest.var\"#makerequest#1#4\"{HTTP.RedirectRequest.var\"#redirects#3\"{HTTP.RedirectRequest.var\"#redirects#1#4\"{HTTP.HeadersRequest.var\"#defaultheaders#2\"{HTTP.HeadersRequest.var\"#defaultheaders#1#3\"{HTTP.CookieRequest.var\"#managecookies#4\"{HTTP.CookieRequest.var\"#managecookies#1#5\"{HTTP.RetryRequest.var\"#manageretries#3\"{HTTP.RetryRequest.var\"#manageretries#1#4\"{HTTP.ConnectionRequest.var\"#connections#5\"{HTTP.ConnectionRequest.var\"#connections#1#6\"{HTTP.TimeoutRequest.var\"#timeouts#3\"{HTTP.TimeoutRequest.var\"#timeouts#1#4\"{HTTP.ExceptionRequest.var\"#exceptions#2\"{HTTP.ExceptionRequest.var\"#exceptions#1#3\"{typeof(HTTP.StreamRequest.streamlayer)}}}}}}}}}}}}}}}}, method::String, url::String, h::Dict{String, String}, b::Vector{UInt8}, q::Nothing; headers::Dict{String, String}, body::Vector{UInt8}, query::Nothing, kw::Base.Pairs{Symbol, Union{}, Tuple{}, NamedTuple{(), Tuple{}}})",
      "    @ HTTP ~/.julia/packages/HTTP/tKlUB/src/HTTP.jl:457",
      " [14] request(stack::Function, method::String, url::String, h::Dict{String, String}, b::Vector{UInt8}, q::Nothing)",
      "    @ HTTP ~/.julia/packages/HTTP/tKlUB/src/HTTP.jl:455",
      " [15] #request#20",
      "    @ ~/.julia/packages/HTTP/tKlUB/src/HTTP.jl:315 [inlined]",
      " [16] request",
      "    @ ~/.julia/packages/HTTP/tKlUB/src/HTTP.jl:313 [inlined]",
      " [17] request(method::String, url::String, h::Dict{String, String})",
      "    @ HTTP ~/.julia/packages/HTTP/tKlUB/src/HTTP.jl:313",
      " [18] post(::String, ::Vararg{Any}; kw::Base.Pairs{Symbol, Union{}, Tuple{}, NamedTuple{(), Tuple{}}})",
      "    @ HTTP ~/.julia/packages/HTTP/tKlUB/src/HTTP.jl:532",
      " [19] post(::String, ::Vararg{Any})",
      "    @ HTTP ~/.julia/packages/HTTP/tKlUB/src/HTTP.jl:532",
      " [20] top-level scope",
      "    @ In[10]:6"
     ]
    }
   ],
   "source": [
    "using HTTP\n",
    "\n",
    "# Post login credentials to the session\n",
    "login_url = \"https://websvc.biocyc.org/credentials/login/\"\n",
    "login_data = Dict(\"email\" => \"aniketh@stanford.edu\", \"password\" => \"dcy*BWEfAm\")\n",
    "response = HTTP.post(login_url, login_data)"
   ]
  },
  {
   "cell_type": "code",
   "execution_count": 3,
   "id": "e924bb9f",
   "metadata": {},
   "outputs": [
    {
     "data": {
      "text/html": [
       "<div><div style = \"float: left;\"><span>470×2 DataFrame</span></div><div style = \"float: right;\"><span style = \"font-style: italic;\">445 rows omitted</span></div><div style = \"clear: both;\"></div></div><div class = \"data-frame\" style = \"overflow-x: scroll;\"><table class = \"data-frame\" style = \"margin-bottom: 6px;\"><thead><tr class = \"header\"><th class = \"rowNumber\" style = \"font-weight: bold; text-align: right;\">Row</th><th style = \"text-align: left;\">Column1</th><th style = \"text-align: left;\">data</th></tr><tr class = \"subheader headerLastRow\"><th class = \"rowNumber\" style = \"font-weight: bold; text-align: right;\"></th><th title = \"String\" style = \"text-align: left;\">String</th><th title = \"Float64\" style = \"text-align: left;\">Float64</th></tr></thead><tbody><tr><td class = \"rowNumber\" style = \"font-weight: bold; text-align: right;\">1</td><td style = \"text-align: left;\">1.5.1.20-RXN-5-METHYL-THF/NAD//METHYLENE-THF/NADH/PROTON.44. (reverse)</td><td style = \"text-align: right;\">3851.0</td></tr><tr><td class = \"rowNumber\" style = \"font-weight: bold; text-align: right;\">2</td><td style = \"text-align: left;\">1.5.1.20-RXN-CPD-1302/NAD//CPD-12996/NADH/PROTON.36. (reverse)</td><td style = \"text-align: right;\">16095.0</td></tr><tr><td class = \"rowNumber\" style = \"font-weight: bold; text-align: right;\">3</td><td style = \"text-align: left;\">1PFRUCTPHOSN-RXN</td><td style = \"text-align: right;\">1.23812e6</td></tr><tr><td class = \"rowNumber\" style = \"font-weight: bold; text-align: right;\">4</td><td style = \"text-align: left;\">1TRANSKETO-RXN (reverse)</td><td style = \"text-align: right;\">7974.0</td></tr><tr><td class = \"rowNumber\" style = \"font-weight: bold; text-align: right;\">5</td><td style = \"text-align: left;\">2-DEHYDROPANTOATE-REDUCT-RXN (reverse)</td><td style = \"text-align: right;\">1131.0</td></tr><tr><td class = \"rowNumber\" style = \"font-weight: bold; text-align: right;\">6</td><td style = \"text-align: left;\">2-ISOPROPYLMALATESYN-RXN</td><td style = \"text-align: right;\">56297.0</td></tr><tr><td class = \"rowNumber\" style = \"font-weight: bold; text-align: right;\">7</td><td style = \"text-align: left;\">2-OCTAPRENYL-6-METHOXYPHENOL-HYDROX-RXN</td><td style = \"text-align: right;\">300.0</td></tr><tr><td class = \"rowNumber\" style = \"font-weight: bold; text-align: right;\">8</td><td style = \"text-align: left;\">2-OCTAPRENYL-6-OHPHENOL-METHY-RXN</td><td style = \"text-align: right;\">300.0</td></tr><tr><td class = \"rowNumber\" style = \"font-weight: bold; text-align: right;\">9</td><td style = \"text-align: left;\">2-OCTAPRENYL-METHOXY-BENZOQ-METH-RXN</td><td style = \"text-align: right;\">300.0</td></tr><tr><td class = \"rowNumber\" style = \"font-weight: bold; text-align: right;\">10</td><td style = \"text-align: left;\">2-OCTAPRENYLPHENOL-HYDROX-RXN</td><td style = \"text-align: right;\">300.0</td></tr><tr><td class = \"rowNumber\" style = \"font-weight: bold; text-align: right;\">11</td><td style = \"text-align: left;\">2.3.1.157-RXN</td><td style = \"text-align: right;\">16505.0</td></tr><tr><td class = \"rowNumber\" style = \"font-weight: bold; text-align: right;\">12</td><td style = \"text-align: left;\">2.5.1.19-RXN</td><td style = \"text-align: right;\">50577.0</td></tr><tr><td class = \"rowNumber\" style = \"font-weight: bold; text-align: right;\">13</td><td style = \"text-align: left;\">2.5.1.64-RXN</td><td style = \"text-align: right;\">106.0</td></tr><tr><td style = \"text-align: right;\">&vellip;</td><td style = \"text-align: right;\">&vellip;</td><td style = \"text-align: right;\">&vellip;</td></tr><tr><td class = \"rowNumber\" style = \"font-weight: bold; text-align: right;\">459</td><td style = \"text-align: left;\">GLUTDECARBOX-RXN__GLUTDECARBOXB-CPLX</td><td style = \"text-align: right;\">161.0</td></tr><tr><td class = \"rowNumber\" style = \"font-weight: bold; text-align: right;\">460</td><td style = \"text-align: left;\">ISOCHORSYN-RXN__ENTC-MONOMER</td><td style = \"text-align: right;\">316.0</td></tr><tr><td class = \"rowNumber\" style = \"font-weight: bold; text-align: right;\">461</td><td style = \"text-align: left;\">ISOCHORSYN-RXN__MENF-CPLX</td><td style = \"text-align: right;\">25.0</td></tr><tr><td class = \"rowNumber\" style = \"font-weight: bold; text-align: right;\">462</td><td style = \"text-align: left;\">RXN-9535__FABB-CPLX</td><td style = \"text-align: right;\">119.0</td></tr><tr><td class = \"rowNumber\" style = \"font-weight: bold; text-align: right;\">463</td><td style = \"text-align: left;\">RXN0-313__CPLX0-201 (reverse)</td><td style = \"text-align: right;\">31.0</td></tr><tr><td class = \"rowNumber\" style = \"font-weight: bold; text-align: right;\">464</td><td style = \"text-align: left;\">RXN0-384__H2NEOPTERINP3PYROPHOSPHOHYDRO-MONOMER</td><td style = \"text-align: right;\">4.0</td></tr><tr><td class = \"rowNumber\" style = \"font-weight: bold; text-align: right;\">465</td><td style = \"text-align: left;\">RXN0-5186__G7408-MONOMER</td><td style = \"text-align: right;\">2979.0</td></tr><tr><td class = \"rowNumber\" style = \"font-weight: bold; text-align: right;\">466</td><td style = \"text-align: left;\">SERINE-O-ACETTRAN-RXN__CPLX0-237</td><td style = \"text-align: right;\">17162.0</td></tr><tr><td class = \"rowNumber\" style = \"font-weight: bold; text-align: right;\">467</td><td style = \"text-align: left;\">SERINE-O-ACETTRAN-RXN__CYSSYNMULTI-CPLX</td><td style = \"text-align: right;\">16186.0</td></tr><tr><td class = \"rowNumber\" style = \"font-weight: bold; text-align: right;\">468</td><td style = \"text-align: left;\">UNDECAPRENYL-DIPHOSPHATASE-RXN[CCO-CYTOSOL]-UNDECAPRENYL-DIPHOSPHATE/WATER//CPD-9646/Pi/PROTON.64.__PGPPHOSPHAB-MONOMER</td><td style = \"text-align: right;\">143.0</td></tr><tr><td class = \"rowNumber\" style = \"font-weight: bold; text-align: right;\">469</td><td style = \"text-align: left;\">URPHOS-RXN__URPHOS-CPLX</td><td style = \"text-align: right;\">3.0</td></tr><tr><td class = \"rowNumber\" style = \"font-weight: bold; text-align: right;\">470</td><td style = \"text-align: left;\">maintenance_reaction</td><td style = \"text-align: right;\">3.05899e6</td></tr></tbody></table></div>"
      ],
      "text/latex": [
       "\\begin{tabular}{r|cc}\n",
       "\t& Column1 & \\\\\n",
       "\t\\hline\n",
       "\t& String & \\\\\n",
       "\t\\hline\n",
       "\t1 & 1.5.1.20-RXN-5-METHYL-THF/NAD//METHYLENE-THF/NADH/PROTON.44. (reverse) & $\\dots$ \\\\\n",
       "\t2 & 1.5.1.20-RXN-CPD-1302/NAD//CPD-12996/NADH/PROTON.36. (reverse) & $\\dots$ \\\\\n",
       "\t3 & 1PFRUCTPHOSN-RXN & $\\dots$ \\\\\n",
       "\t4 & 1TRANSKETO-RXN (reverse) & $\\dots$ \\\\\n",
       "\t5 & 2-DEHYDROPANTOATE-REDUCT-RXN (reverse) & $\\dots$ \\\\\n",
       "\t6 & 2-ISOPROPYLMALATESYN-RXN & $\\dots$ \\\\\n",
       "\t7 & 2-OCTAPRENYL-6-METHOXYPHENOL-HYDROX-RXN & $\\dots$ \\\\\n",
       "\t8 & 2-OCTAPRENYL-6-OHPHENOL-METHY-RXN & $\\dots$ \\\\\n",
       "\t9 & 2-OCTAPRENYL-METHOXY-BENZOQ-METH-RXN & $\\dots$ \\\\\n",
       "\t10 & 2-OCTAPRENYLPHENOL-HYDROX-RXN & $\\dots$ \\\\\n",
       "\t11 & 2.3.1.157-RXN & $\\dots$ \\\\\n",
       "\t12 & 2.5.1.19-RXN & $\\dots$ \\\\\n",
       "\t13 & 2.5.1.64-RXN & $\\dots$ \\\\\n",
       "\t14 & 2.7.1.148-RXN & $\\dots$ \\\\\n",
       "\t15 & 2.7.7.60-RXN & $\\dots$ \\\\\n",
       "\t16 & 2.8.1.6-RXN & $\\dots$ \\\\\n",
       "\t17 & 2OXOGLUTARATEDEH-RXN & $\\dots$ \\\\\n",
       "\t18 & 2PGADEHYDRAT-RXN & $\\dots$ \\\\\n",
       "\t19 & 2TRANSKETO-RXN (reverse) & $\\dots$ \\\\\n",
       "\t20 & 3-CH3-2-OXOBUTANOATE-OH-CH3-XFER-RXN-CPD-12996/2-KETO-ISOVALERATE/WATER//2-DEHYDROPANTOATE/CPD-1301.63. & $\\dots$ \\\\\n",
       "\t21 & 3-DEHYDROQUINATE-DEHYDRATASE-RXN & $\\dots$ \\\\\n",
       "\t22 & 3-DEHYDROQUINATE-SYNTHASE-RXN & $\\dots$ \\\\\n",
       "\t23 & 3-OCTAPRENYL-4-OHBENZOATE-DECARBOX-RXN & $\\dots$ \\\\\n",
       "\t24 & 3.2.2.10-RXN-CMP/WATER//RIBOSE-5P/CYTOSINE.30. & $\\dots$ \\\\\n",
       "\t25 & 3.2.2.10-RXN-UMP/WATER//RIBOSE-5P/URACIL.28. & $\\dots$ \\\\\n",
       "\t26 & 325-BISPHOSPHATE-NUCLEOTIDASE-RXN & $\\dots$ \\\\\n",
       "\t27 & 3PGAREARR-RXN (reverse) & $\\dots$ \\\\\n",
       "\t28 & 4OHBENZOATE-OCTAPRENYLTRANSFER-RXN & $\\dots$ \\\\\n",
       "\t29 & 5.1.3.20-RXN & $\\dots$ \\\\\n",
       "\t30 & 5.4.2.10-RXN-CPD-13469//GLUCOSAMINE-1P.26. & $\\dots$ \\\\\n",
       "\t$\\dots$ & $\\dots$ &  \\\\\n",
       "\\end{tabular}\n"
      ],
      "text/plain": [
       "\u001b[1m470×2 DataFrame\u001b[0m\n",
       "\u001b[1m Row \u001b[0m│\u001b[1m Column1                           \u001b[0m\u001b[1m data          \u001b[0m\n",
       "     │\u001b[90m String                            \u001b[0m\u001b[90m Float64       \u001b[0m\n",
       "─────┼──────────────────────────────────────────────────\n",
       "   1 │ 1.5.1.20-RXN-5-METHYL-THF/NAD//M…   3851.0\n",
       "   2 │ 1.5.1.20-RXN-CPD-1302/NAD//CPD-1…  16095.0\n",
       "   3 │ 1PFRUCTPHOSN-RXN                       1.23812e6\n",
       "   4 │ 1TRANSKETO-RXN (reverse)            7974.0\n",
       "   5 │ 2-DEHYDROPANTOATE-REDUCT-RXN (re…   1131.0\n",
       "   6 │ 2-ISOPROPYLMALATESYN-RXN           56297.0\n",
       "   7 │ 2-OCTAPRENYL-6-METHOXYPHENOL-HYD…    300.0\n",
       "   8 │ 2-OCTAPRENYL-6-OHPHENOL-METHY-RXN    300.0\n",
       "   9 │ 2-OCTAPRENYL-METHOXY-BENZOQ-METH…    300.0\n",
       "  10 │ 2-OCTAPRENYLPHENOL-HYDROX-RXN        300.0\n",
       "  11 │ 2.3.1.157-RXN                      16505.0\n",
       "  ⋮  │                 ⋮                        ⋮\n",
       " 461 │ ISOCHORSYN-RXN__MENF-CPLX             25.0\n",
       " 462 │ RXN-9535__FABB-CPLX                  119.0\n",
       " 463 │ RXN0-313__CPLX0-201 (reverse)         31.0\n",
       " 464 │ RXN0-384__H2NEOPTERINP3PYROPHOSP…      4.0\n",
       " 465 │ RXN0-5186__G7408-MONOMER            2979.0\n",
       " 466 │ SERINE-O-ACETTRAN-RXN__CPLX0-237   17162.0\n",
       " 467 │ SERINE-O-ACETTRAN-RXN__CYSSYNMUL…  16186.0\n",
       " 468 │ UNDECAPRENYL-DIPHOSPHATASE-RXN[C…    143.0\n",
       " 469 │ URPHOS-RXN__URPHOS-CPLX                3.0\n",
       " 470 │ maintenance_reaction                   3.05899e6\n",
       "\u001b[36m                                        449 rows omitted\u001b[0m"
      ]
     },
     "execution_count": 3,
     "metadata": {},
     "output_type": "execute_result"
    }
   ],
   "source": [
    "flows = DataFrame(CSV.File(\"whole_cell_flow_data.csv\"))"
   ]
  },
  {
   "cell_type": "code",
   "execution_count": 4,
   "id": "d3cb1a12",
   "metadata": {},
   "outputs": [
    {
     "data": {
      "text/plain": [
       "489×470 Matrix{Int64}:\n",
       "  1   1  0  0   0   0   0  0  0   0  0  …  0   0  0   0   0  0  0   0  0   0\n",
       " -1  -1  0  0   0   0   0  0  0   0  0     0   0  0   0   0  0  0   0  0   0\n",
       " -1  -1  1  0  -1   1  -1  1  1  -1  1     0  -1  0   1   0  0  0   1  0   1\n",
       "  0   0  0  0   0   0   0  0  0   0  0     0   0  0   0   0  0  0   0  0   0\n",
       "  0   0  0  0   1   0   1  0  0   1  0     0   0  0   0   0  0  0   0  0   0\n",
       "  0   0  0  0  -1   0  -1  0  0  -1  0  …  0   0  0   0   0  0  0   0  0   0\n",
       "  0   0  0  0   0   0   0  0  0   0  0     0   0  0   0   0  0  0   0  0   0\n",
       "  0   0  0  0   0   0   0  0  0   0  0     0   1  0   0   0  0  0   0  0   0\n",
       "  0   0  0  0   0   0   0  0  0   0  0     0   0  0   0   0  0  0   0  0   0\n",
       "  0   0  0  0   0   0   0  0  0   0  0     0   0  0   0   0  0  0   0  0   0\n",
       "  0   0  0  0   0   0   0  0  0   0  0  …  0   0  0   0   0  0  0   0  0   0\n",
       "  0   0  0  0   0  -1   1  0  0   1  0     0   0  0  -1  -1  0  0  -1  0  -1\n",
       "  0   0  0  0   0   0  -1  0  0  -1  0     0   0  0   0   0  0  0   0  0   0\n",
       "  ⋮                 ⋮                ⋮  ⋱  ⋮                 ⋮            \n",
       "  0   0  0  0   0   0   0  0  0   0  0     0   0  0   0   0  0  0   0  0   0\n",
       "  0   0  0  0   0   0   0  0  0   0  0     0   0  0   0   0  0  0   0  0   0\n",
       "  0   0  0  0   0   0   0  0  0   0  0     0   0  0   0   0  0  0   0  0   0\n",
       "  0   0  0  0   0   0   0  0  0   0  0  …  0   0  0   0   0  0  0   0  0   0\n",
       "  0   0  0  0   0   0   0  0  0   0  0     0   0  0   0   0  0  0   0  0   0\n",
       "  0   0  0  0   0   0   0  0  0   0  0     0   0  0   0   0  0  0   0  0   0\n",
       "  0   0  0  0   0   0   0  0  0   0  0     0   1  0   0   0  0  0   0  0   0\n",
       "  0   0  0  0   0   0   0  0  0   0  0     0   0  0   0   0  0  0   0  0   0\n",
       "  0   0  0  0   0   0   0  0  0   0  0  …  0   0  0   0   0  0  0   0  0   0\n",
       "  0   0  0  0   0   0   0  0  0   0  0     0   0  0   0   0  0  0   0  0   0\n",
       "  0   0  0  0   0   0   0  0  0   0  0     0   0  0   0   0  0  0   0  0   0\n",
       "  0   0  0  0   0   0   0  0  0   0  0     0   0  0   0   0  0  0   0  0   0"
      ]
     },
     "execution_count": 4,
     "metadata": {},
     "output_type": "execute_result"
    }
   ],
   "source": [
    "stoichiometry = DataFrame(CSV.File(\"whole_cell_s_matrix (1).csv\"))\n",
    "metabolite_names = stoichiometry[:, \"Column1\"]\n",
    "reaction_names = names(stoichiometry)[2:end]\n",
    "\n",
    "n_mets = length(metabolite_names)\n",
    "n_rxns = length(reaction_names)\n",
    "\n",
    "S = Matrix(stoichiometry[:, 2:end])"
   ]
  },
  {
   "cell_type": "code",
   "execution_count": 5,
   "id": "1bed0af7",
   "metadata": {},
   "outputs": [
    {
     "data": {
      "text/plain": [
       "489-element Vector{String}:\n",
       " \"NAD[c]\"\n",
       " \"NADH[c]\"\n",
       " \"PROTON[c]\"\n",
       " \"GLUCONATE[c]\"\n",
       " \"NADP[c]\"\n",
       " \"NADPH[c]\"\n",
       " \"MAL[c]\"\n",
       " \"CARBON-DIOXIDE[c]\"\n",
       " \"PYRUVATE[c]\"\n",
       " \"Red-Thioredoxin[c]\"\n",
       " \"Ox-Thioredoxin[c]\"\n",
       " \"WATER[c]\"\n",
       " \"OXYGEN-MOLECULE[c]\"\n",
       " ⋮\n",
       " \"Enoylpimeloyl-ACP-methyl-esters[c]\"\n",
       " \"Pimeloyl-ACP-methyl-esters[c]\"\n",
       " \"3-oxo-hexanoyl-ACPs[c]\"\n",
       " \"R-3-hydroxyhexanoyl-ACPs[c]\"\n",
       " \"3-oxo-dodecanoyl-ACPs[c]\"\n",
       " \"R-3-hydroxydodecanoyl-ACPs[c]\"\n",
       " \"3-oxo-myristoyl-ACPs[c]\"\n",
       " \"R-3-hydroxymyristoyl-ACPs[c]\"\n",
       " \"Adenylated-ThiS-Proteins[c]\"\n",
       " \"ThiS-CoASH-proteins[c]\"\n",
       " \"Thi-S[c]\"\n",
       " \"FRU[p]\""
      ]
     },
     "execution_count": 5,
     "metadata": {},
     "output_type": "execute_result"
    }
   ],
   "source": [
    "metabolite_names"
   ]
  },
  {
   "cell_type": "code",
   "execution_count": 6,
   "id": "c823774d",
   "metadata": {},
   "outputs": [
    {
     "data": {
      "text/plain": [
       "470-element Vector{String}:\n",
       " \"1.5.1.20-RXN-5-METHYL-THF/NAD//METHYLENE-THF/NADH/PROTON.44. (reverse)\"\n",
       " \"1.5.1.20-RXN-CPD-1302/NAD//CPD-12996/NADH/PROTON.36. (reverse)\"\n",
       " \"1PFRUCTPHOSN-RXN\"\n",
       " \"1TRANSKETO-RXN (reverse)\"\n",
       " \"2-DEHYDROPANTOATE-REDUCT-RXN (reverse)\"\n",
       " \"2-ISOPROPYLMALATESYN-RXN\"\n",
       " \"2-OCTAPRENYL-6-METHOXYPHENOL-HYDROX-RXN\"\n",
       " \"2-OCTAPRENYL-6-OHPHENOL-METHY-RXN\"\n",
       " \"2-OCTAPRENYL-METHOXY-BENZOQ-METH-RXN\"\n",
       " \"2-OCTAPRENYLPHENOL-HYDROX-RXN\"\n",
       " \"2.3.1.157-RXN\"\n",
       " \"2.5.1.19-RXN\"\n",
       " \"2.5.1.64-RXN\"\n",
       " ⋮\n",
       " \"GLUTDECARBOX-RXN__GLUTDECARBOXB-CPLX\"\n",
       " \"ISOCHORSYN-RXN__ENTC-MONOMER\"\n",
       " \"ISOCHORSYN-RXN__MENF-CPLX\"\n",
       " \"RXN-9535__FABB-CPLX\"\n",
       " \"RXN0-313__CPLX0-201 (reverse)\"\n",
       " \"RXN0-384__H2NEOPTERINP3PYROPHOSPHOHYDRO-MONOMER\"\n",
       " \"RXN0-5186__G7408-MONOMER\"\n",
       " \"SERINE-O-ACETTRAN-RXN__CPLX0-237\"\n",
       " \"SERINE-O-ACETTRAN-RXN__CYSSYNMULTI-CPLX\"\n",
       " \"UNDECAPRENYL-DIPHOSPHATASE-RXN[\" ⋯ 57 bytes ⋯ \"PROTON.64.__PGPPHOSPHAB-MONOMER\"\n",
       " \"URPHOS-RXN__URPHOS-CPLX\"\n",
       " \"maintenance_reaction\""
      ]
     },
     "execution_count": 6,
     "metadata": {},
     "output_type": "execute_result"
    }
   ],
   "source": [
    "reaction_names"
   ]
  },
  {
   "cell_type": "markdown",
   "id": "9af46a76",
   "metadata": {},
   "source": [
    "### Processing Metabolites"
   ]
  },
  {
   "cell_type": "code",
   "execution_count": 7,
   "id": "056e32a8",
   "metadata": {},
   "outputs": [],
   "source": [
    "metabolites_processed = Dict()\n",
    "for meta in metabolite_names\n",
    "    new = split(meta, '[', limit=2)[1]\n",
    "    metabolites_processed[meta] = new\n",
    "end"
   ]
  },
  {
   "cell_type": "code",
   "execution_count": 8,
   "id": "4c30dd8f",
   "metadata": {},
   "outputs": [],
   "source": [
    "reactions_processed = Dict()\n",
    "for rxn in reaction_names\n",
    "    new = rxn\n",
    "    if occursin(\"(reverse)\", new)\n",
    "        idx = findfirst(\"(reverse)\", rxn)[1]\n",
    "        new = rxn[1:idx - 2]\n",
    "    end\n",
    "    \n",
    "    if occursin(\"__\", new)\n",
    "        idx = findfirst(\"__\", new)[1]\n",
    "        new = new[1:idx - 1]\n",
    "    end\n",
    "    \n",
    "    if occursin(\"-RXN\", new)\n",
    "        idx = findfirst(\"-RXN\", new)[4]\n",
    "        new = new[1:idx]\n",
    "    end\n",
    "    \n",
    "    reactions_processed[rxn] = new\n",
    "end"
   ]
  },
  {
   "cell_type": "code",
   "execution_count": null,
   "id": "8f4b06b3",
   "metadata": {},
   "outputs": [],
   "source": [
    "for meta in metabolite_names\n",
    "    object_id = metabolites_processed[meta]\n",
    "    \n",
    "    \n",
    "    \n"
   ]
  },
  {
   "cell_type": "code",
   "execution_count": null,
   "id": "5e38bb8e",
   "metadata": {},
   "outputs": [],
   "source": []
  }
 ],
 "metadata": {
  "kernelspec": {
   "display_name": "Julia 1.9.1",
   "language": "julia",
   "name": "julia-1.9"
  },
  "language_info": {
   "file_extension": ".jl",
   "mimetype": "application/julia",
   "name": "julia",
   "version": "1.9.1"
  }
 },
 "nbformat": 4,
 "nbformat_minor": 5
}
