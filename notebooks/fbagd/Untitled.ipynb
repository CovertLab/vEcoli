{
 "cells": [
  {
   "cell_type": "code",
   "execution_count": 1,
   "id": "fad7844e",
   "metadata": {},
   "outputs": [
    {
     "ename": "LoadError",
     "evalue": "MethodError: no method matching getindex(::Scene, ::Type{Axis})\n\n\u001b[0mClosest candidates are:\n\u001b[0m  getindex(::Scene, \u001b[91m::Integer\u001b[39m)\n\u001b[0m\u001b[90m   @\u001b[39m \u001b[35mMakie\u001b[39m \u001b[90m~/.julia/packages/Makie/iECbF/src/\u001b[39m\u001b[90m\u001b[4mscenes.jl:381\u001b[24m\u001b[39m\n\u001b[0m  getindex(::Scene, \u001b[91m::Type{OldAxis}\u001b[39m)\n\u001b[0m\u001b[90m   @\u001b[39m \u001b[35mMakie\u001b[39m \u001b[90m~/.julia/packages/Makie/iECbF/src/\u001b[39m\u001b[90m\u001b[4mscenes.jl:405\u001b[24m\u001b[39m\n",
     "output_type": "error",
     "traceback": [
      "MethodError: no method matching getindex(::Scene, ::Type{Axis})\n\n\u001b[0mClosest candidates are:\n\u001b[0m  getindex(::Scene, \u001b[91m::Integer\u001b[39m)\n\u001b[0m\u001b[90m   @\u001b[39m \u001b[35mMakie\u001b[39m \u001b[90m~/.julia/packages/Makie/iECbF/src/\u001b[39m\u001b[90m\u001b[4mscenes.jl:381\u001b[24m\u001b[39m\n\u001b[0m  getindex(::Scene, \u001b[91m::Type{OldAxis}\u001b[39m)\n\u001b[0m\u001b[90m   @\u001b[39m \u001b[35mMakie\u001b[39m \u001b[90m~/.julia/packages/Makie/iECbF/src/\u001b[39m\u001b[90m\u001b[4mscenes.jl:405\u001b[24m\u001b[39m\n",
      "",
      "Stacktrace:",
      " [1] top-level scope",
      "   @ In[1]:9"
     ]
    }
   ],
   "source": [
    "using GLMakie\n",
    "\n",
    "# Generate sample data\n",
    "nodes = 10\n",
    "edges = [(rand(1:nodes), rand(1:nodes), rand()) for _ in 1:20]  # (source, target, weight)\n",
    "\n",
    "# Create 3D scene\n",
    "scene = Scene(resolution = (800, 600))\n",
    "axis = scene[Axis]()\n",
    "scatterplot!(axis, rand(nodes, 3), markersize = 0.2)  # Generate random node positions\n",
    "\n",
    "# Add weighted edges\n",
    "for (src, tgt, weight) in edges\n",
    "    line!(axis, [axis.plots[end].series[1].positions[src, :][1], axis.plots[end].series[1].positions[tgt, :][1]],\n",
    "                [axis.plots[end].series[1].positions[src, :][2], axis.plots[end].series[1].positions[tgt, :][2]],\n",
    "                [axis.plots[end].series[1].positions[src, :][3], axis.plots[end].series[1].positions[tgt, :][3]],\n",
    "                linewidth = 2 * weight, color = :blue)\n",
    "end\n",
    "\n",
    "# Show the scene\n",
    "display(scene)"
   ]
  },
  {
   "cell_type": "code",
   "execution_count": null,
   "id": "9b0c1f1f",
   "metadata": {},
   "outputs": [],
   "source": []
  }
 ],
 "metadata": {
  "kernelspec": {
   "display_name": "Julia 1.9.1",
   "language": "julia",
   "name": "julia-1.9"
  },
  "language_info": {
   "file_extension": ".jl",
   "mimetype": "application/julia",
   "name": "julia",
   "version": "1.9.1"
  }
 },
 "nbformat": 4,
 "nbformat_minor": 5
}
