{
 "cells": [
  {
   "cell_type": "code",
   "source": [
    "import numpy as np\n",
    "\n",
    "import seaborn as sns\n",
    "import pandas as pd\n",
    "import polars as pl\n",
    "import os\n",
    "import matplotlib.pyplot as plt\n",
    "import dill\n",
    "import requests\n",
    "import xmltodict\n",
    "import cvxpy as cp\n",
    "import itertools\n",
    "from scipy.special import logsumexp\n",
    "from scipy.sparse import csr_matrix\n",
    "\n",
    "sns.set(style='darkgrid', palette='viridis', context='talk')\n",
    "\n",
    "os.chdir(os.path.expanduser('~/vivarium-ecoli'))\n",
    "\n",
    "from ecoli.processes.metabolism_redux import NetworkFlowModel, FlowResult"
   ],
   "metadata": {
    "collapsed": false,
    "ExecuteTime": {
     "end_time": "2024-05-19T18:36:45.364086Z",
     "start_time": "2024-05-19T18:36:44.131744Z"
    }
   },
   "id": "f602b95acf25a8b7",
   "execution_count": 1,
   "outputs": []
  },
  {
   "cell_type": "code",
   "source": [
    "# Reading the matrix CSV files\n",
    "def read_matrix(file_path, sparse=False):\n",
    "    # add sparse matrix reading\n",
    "    if sparse:\n",
    "        return csr_matrix(pl.read_csv(file_path, has_header=False).to_numpy())\n",
    "    else:\n",
    "        return pl.read_csv(file_path, has_header=False).to_numpy()\n"
   ],
   "metadata": {
    "collapsed": false,
    "ExecuteTime": {
     "end_time": "2024-05-19T18:36:45.367184Z",
     "start_time": "2024-05-19T18:36:45.365081Z"
    }
   },
   "id": "a3a2f3e089c96a39",
   "execution_count": 2,
   "outputs": []
  },
  {
   "cell_type": "markdown",
   "source": [
    "# Import external data"
   ],
   "metadata": {
    "collapsed": false
   },
   "id": "151cf3567a05f066"
  },
  {
   "cell_type": "code",
   "source": [
    "# genes\n",
    "gn = pl.read_csv(\"notebooks/fbagd/external_data/gene_protein.txt\", separator='\\t')\n",
    "\n",
    "# reactions\n",
    "rx = pl.read_csv(\"notebooks/fbagd/external_data/reactions.txt\", separator='\\t')\n",
    "\n",
    "# ribosome profiling data\n",
    "li = pl.read_csv(\"notebooks/fbagd/external_data/Li_2014_profiling.csv\")\n",
    "\n",
    "# C matrix as np sparse matrix\n",
    "C = read_matrix(\"notebooks/fbagd/external_data/C_matrix.csv\", sparse=True)\n",
    "\n",
    "# join ribosome profiling data with genes on gene id\n",
    "li = li.join(gn, left_on='Gene', right_on='Common-Name')\n",
    "li.head()"
   ],
   "metadata": {
    "collapsed": false,
    "ExecuteTime": {
     "end_time": "2024-05-19T18:36:45.840041Z",
     "start_time": "2024-05-19T18:36:45.367843Z"
    }
   },
   "id": "f5c46c65bacd8c5f",
   "execution_count": 3,
   "outputs": []
  },
  {
   "cell_type": "code",
   "source": [
    "rx.head()"
   ],
   "metadata": {
    "collapsed": false,
    "ExecuteTime": {
     "end_time": "2024-05-19T18:36:45.844277Z",
     "start_time": "2024-05-19T18:36:45.841490Z"
    }
   },
   "id": "367d3416824437f8",
   "execution_count": 4,
   "outputs": []
  },
  {
   "cell_type": "markdown",
   "source": [
    "# Get stoichiometric matrix"
   ],
   "metadata": {
    "collapsed": false
   },
   "id": "76d0dc851468c73b"
  },
  {
   "cell_type": "code",
   "source": [
    "time = '10'\n",
    "date = '2024-04-27'\n",
    "experiment = 'convex_kinetics'\n",
    "entry = f'{experiment}_{time}_{date}'\n",
    "folder = f'out/cofactors/{entry}/'"
   ],
   "metadata": {
    "collapsed": false,
    "ExecuteTime": {
     "end_time": "2024-05-19T18:36:48.545388Z",
     "start_time": "2024-05-19T18:36:48.541713Z"
    }
   },
   "id": "1511d74ff4dba57b",
   "execution_count": 5,
   "outputs": []
  },
  {
   "cell_type": "code",
   "source": [
    "output = np.load(folder + '0_output.npy',allow_pickle='TRUE').item()\n",
    "# output = np.load(r\"out/geneRxnVerifData/output_glc.npy\", allow_pickle=True, encoding='ASCII').tolist()\n",
    "output = output['agents']['0']\n",
    "fba = output['listeners']['fba_results']\n",
    "mass = output['listeners']['mass']\n",
    "bulk = pd.DataFrame(output['bulk'])"
   ],
   "metadata": {
    "collapsed": false,
    "ExecuteTime": {
     "end_time": "2024-05-19T18:36:48.793865Z",
     "start_time": "2024-05-19T18:36:48.680812Z"
    }
   },
   "id": "ae9602c73521a216",
   "execution_count": 6,
   "outputs": []
  },
  {
   "cell_type": "code",
   "source": [
    "f = open(folder + 'agent_steps.pkl', 'rb')\n",
    "agent = dill.load(f)\n",
    "f.close()"
   ],
   "metadata": {
    "collapsed": false,
    "ExecuteTime": {
     "end_time": "2024-05-19T18:36:49.641Z",
     "start_time": "2024-05-19T18:36:48.838474Z"
    }
   },
   "id": "93cda45bf352332c",
   "execution_count": 7,
   "outputs": []
  },
  {
   "cell_type": "code",
   "source": [
    "stoichiometry = agent['ecoli-metabolism-redux-classic'].stoichiometry\n",
    "process_rxn_names = agent['ecoli-metabolism-redux-classic'].reaction_names\n",
    "process_met_names = agent['ecoli-metabolism-redux-classic'].metabolite_names\n",
    "process_rxn_enz_map = agent['ecoli-metabolism-redux-classic'].catalyzed_rxn_enzymes_idx\n",
    "process_enz_names = agent['ecoli-metabolism-redux-classic'].catalyst_ids\n",
    "\n",
    "# maintenance_reaction = agent['ecoli-metabolism-redux-classic'].model.maintenance_reaction\n",
    "# stoichiometry[\"maintenance_reaction\"] = maintenance_reaction\n",
    "\n",
    "bad_rxns = [\"RXN-12440\", \"TRANS-RXN-121\", \"TRANS-RXN-300\", \"TRANS-RXN-8\", \"R15-RXN-MET/CPD-479//CPD-479/MET.25.\",\"DISULFOXRED-RXN[CCO-PERI-BAC]-MONOMER0-4152/MONOMER0-4438//MONOMER0-4438/MONOMER0-4152.71.\"]\n",
    "# generate carbon mistake in parca, efflux/influx proton gen, iron cheating, mass gen\n",
    "# for rxn in bad_rxns:\n",
    "#    stoichiometry.pop(rxn, None)\n"
   ],
   "metadata": {
    "collapsed": false,
    "ExecuteTime": {
     "end_time": "2024-05-19T18:36:49.644581Z",
     "start_time": "2024-05-19T18:36:49.642221Z"
    }
   },
   "id": "aa7d72bc5c67adbb",
   "execution_count": 8,
   "outputs": []
  },
  {
   "metadata": {
    "ExecuteTime": {
     "end_time": "2024-05-19T18:46:11.647258Z",
     "start_time": "2024-05-19T18:46:11.559066Z"
    }
   },
   "cell_type": "code",
   "source": [
    "# get flux example\n",
    "fluxes_ar = np.array(fba['estimated_fluxes'][1:])\n",
    "fluxes = pl.DataFrame(np.array(fba['estimated_fluxes'][1:]), schema=process_rxn_names)\n",
    "\n",
    "flux_example = {rxn: flux for rxn, flux in zip(process_rxn_names, fluxes_ar[-1, :])}\n",
    "\n",
    "# get nonzero flux rxns\n",
    "nonzero_fluxes = {rxn: flux for rxn, flux in flux_example.items() if flux > 1e-6}\n",
    "\n",
    "# filter S matrix to only include nonzero flux rxns\n",
    "nz_rxn_idx = [process_rxn_names.index(rxn) for rxn in nonzero_fluxes.keys()]\n",
    "stoich_nz = stoichiometry[:, nz_rxn_idx]\n",
    "\n",
    "# remove zero columns\n",
    "stoich_nz = stoich_nz[np.any(stoich_nz != 0, axis=1), :]\n",
    "\n",
    "# export to csv, first matrix, then met names, then rxn names, then nonzero fluxes\n",
    "folder = 'notebooks/fbagd/external_data/'\n",
    "pl.DataFrame(stoich_nz).write_csv(folder + 'stoich_nz.csv', include_header=False)\n",
    "pl.DataFrame(process_met_names).write_csv(folder + 'met_names.csv', include_header=False)\n",
    "pl.DataFrame(process_rxn_names).write_csv(folder + 'rxn_names.csv', include_header=False)\n",
    "pl.DataFrame(list(nonzero_fluxes.keys())).write_csv(folder + 'nonzero_rxn_fluxes.csv', include_header=False)\n"
   ],
   "id": "1a866b2af4ff10d",
   "execution_count": 23,
   "outputs": []
  },
  {
   "cell_type": "markdown",
   "source": [
    "# Load enzyme counts"
   ],
   "metadata": {
    "collapsed": false
   },
   "id": "cc8f203a329acdca"
  },
  {
   "cell_type": "code",
   "execution_count": 66,
   "source": [
    "# from li, pick out mops minimal and product columns\n",
    " = li.select([\"Product\", \"MOPS minimal\"])"
   ],
   "metadata": {
    "collapsed": false,
    "ExecuteTime": {
     "end_time": "2024-05-03T22:41:05.426594Z",
     "start_time": "2024-05-03T22:41:05.415810Z"
    }
   },
   "id": "20d421c1181890d1",
   "outputs": []
  },
  {
   "cell_type": "code",
   "execution_count": 65,
   "source": [
    "li"
   ],
   "metadata": {
    "collapsed": false,
    "ExecuteTime": {
     "end_time": "2024-05-03T22:40:59.412218Z",
     "start_time": "2024-05-03T22:40:59.400513Z"
    }
   },
   "id": "c61dda8bc41a21dd",
   "outputs": []
  },
  {
   "cell_type": "code",
   "execution_count": null,
   "source": [
    "# To start with, we will be simulating MOPS minimal. "
   ],
   "metadata": {
    "collapsed": false
   },
   "id": "483811c89957533c",
   "outputs": []
  }
 ],
 "metadata": {
  "kernelspec": {
   "display_name": "Python 3",
   "language": "python",
   "name": "python3"
  },
  "language_info": {
   "codemirror_mode": {
    "name": "ipython",
    "version": 2
   },
   "file_extension": ".py",
   "mimetype": "text/x-python",
   "name": "python",
   "nbconvert_exporter": "python",
   "pygments_lexer": "ipython2",
   "version": "2.7.6"
  }
 },
 "nbformat": 4,
 "nbformat_minor": 5
}
