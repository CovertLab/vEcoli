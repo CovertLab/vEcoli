{
 "cells": [
  {
   "cell_type": "code",
   "execution_count": 2,
   "id": "d7a80a4c",
   "metadata": {
    "tags": []
   },
   "outputs": [],
   "source": [
    "using WGLMakie\n",
    "using GLMakie\n",
    "using Graphs\n",
    "using JSServe\n",
    "using NetworkLayout\n",
    "using GraphMakie\n",
    "using CSV\n",
    "using DataFrames\n",
    "using LinearAlgebra"
   ]
  },
  {
   "cell_type": "markdown",
   "id": "48212153",
   "metadata": {},
   "source": [
    "# Let's first get the graph structure."
   ]
  },
  {
   "cell_type": "code",
   "execution_count": 3,
   "id": "b532a68b",
   "metadata": {
    "tags": []
   },
   "outputs": [
    {
     "data": {
      "text/html": [
       "<div><div style = \"float: left;\"><span>470×2 DataFrame</span></div><div style = \"float: right;\"><span style = \"font-style: italic;\">445 rows omitted</span></div><div style = \"clear: both;\"></div></div><div class = \"data-frame\" style = \"overflow-x: scroll;\"><table class = \"data-frame\" style = \"margin-bottom: 6px;\"><thead><tr class = \"header\"><th class = \"rowNumber\" style = \"font-weight: bold; text-align: right;\">Row</th><th style = \"text-align: left;\">Column1</th><th style = \"text-align: left;\">data</th></tr><tr class = \"subheader headerLastRow\"><th class = \"rowNumber\" style = \"font-weight: bold; text-align: right;\"></th><th title = \"String\" style = \"text-align: left;\">String</th><th title = \"Float64\" style = \"text-align: left;\">Float64</th></tr></thead><tbody><tr><td class = \"rowNumber\" style = \"font-weight: bold; text-align: right;\">1</td><td style = \"text-align: left;\">1.5.1.20-RXN-5-METHYL-THF/NAD//METHYLENE-THF/NADH/PROTON.44. (reverse)</td><td style = \"text-align: right;\">3851.0</td></tr><tr><td class = \"rowNumber\" style = \"font-weight: bold; text-align: right;\">2</td><td style = \"text-align: left;\">1.5.1.20-RXN-CPD-1302/NAD//CPD-12996/NADH/PROTON.36. (reverse)</td><td style = \"text-align: right;\">16095.0</td></tr><tr><td class = \"rowNumber\" style = \"font-weight: bold; text-align: right;\">3</td><td style = \"text-align: left;\">1PFRUCTPHOSN-RXN</td><td style = \"text-align: right;\">1.23812e6</td></tr><tr><td class = \"rowNumber\" style = \"font-weight: bold; text-align: right;\">4</td><td style = \"text-align: left;\">1TRANSKETO-RXN (reverse)</td><td style = \"text-align: right;\">7974.0</td></tr><tr><td class = \"rowNumber\" style = \"font-weight: bold; text-align: right;\">5</td><td style = \"text-align: left;\">2-DEHYDROPANTOATE-REDUCT-RXN (reverse)</td><td style = \"text-align: right;\">1131.0</td></tr><tr><td class = \"rowNumber\" style = \"font-weight: bold; text-align: right;\">6</td><td style = \"text-align: left;\">2-ISOPROPYLMALATESYN-RXN</td><td style = \"text-align: right;\">56297.0</td></tr><tr><td class = \"rowNumber\" style = \"font-weight: bold; text-align: right;\">7</td><td style = \"text-align: left;\">2-OCTAPRENYL-6-METHOXYPHENOL-HYDROX-RXN</td><td style = \"text-align: right;\">300.0</td></tr><tr><td class = \"rowNumber\" style = \"font-weight: bold; text-align: right;\">8</td><td style = \"text-align: left;\">2-OCTAPRENYL-6-OHPHENOL-METHY-RXN</td><td style = \"text-align: right;\">300.0</td></tr><tr><td class = \"rowNumber\" style = \"font-weight: bold; text-align: right;\">9</td><td style = \"text-align: left;\">2-OCTAPRENYL-METHOXY-BENZOQ-METH-RXN</td><td style = \"text-align: right;\">300.0</td></tr><tr><td class = \"rowNumber\" style = \"font-weight: bold; text-align: right;\">10</td><td style = \"text-align: left;\">2-OCTAPRENYLPHENOL-HYDROX-RXN</td><td style = \"text-align: right;\">300.0</td></tr><tr><td class = \"rowNumber\" style = \"font-weight: bold; text-align: right;\">11</td><td style = \"text-align: left;\">2.3.1.157-RXN</td><td style = \"text-align: right;\">16505.0</td></tr><tr><td class = \"rowNumber\" style = \"font-weight: bold; text-align: right;\">12</td><td style = \"text-align: left;\">2.5.1.19-RXN</td><td style = \"text-align: right;\">50577.0</td></tr><tr><td class = \"rowNumber\" style = \"font-weight: bold; text-align: right;\">13</td><td style = \"text-align: left;\">2.5.1.64-RXN</td><td style = \"text-align: right;\">106.0</td></tr><tr><td style = \"text-align: right;\">&vellip;</td><td style = \"text-align: right;\">&vellip;</td><td style = \"text-align: right;\">&vellip;</td></tr><tr><td class = \"rowNumber\" style = \"font-weight: bold; text-align: right;\">459</td><td style = \"text-align: left;\">GLUTDECARBOX-RXN__GLUTDECARBOXB-CPLX</td><td style = \"text-align: right;\">161.0</td></tr><tr><td class = \"rowNumber\" style = \"font-weight: bold; text-align: right;\">460</td><td style = \"text-align: left;\">ISOCHORSYN-RXN__ENTC-MONOMER</td><td style = \"text-align: right;\">316.0</td></tr><tr><td class = \"rowNumber\" style = \"font-weight: bold; text-align: right;\">461</td><td style = \"text-align: left;\">ISOCHORSYN-RXN__MENF-CPLX</td><td style = \"text-align: right;\">25.0</td></tr><tr><td class = \"rowNumber\" style = \"font-weight: bold; text-align: right;\">462</td><td style = \"text-align: left;\">RXN-9535__FABB-CPLX</td><td style = \"text-align: right;\">119.0</td></tr><tr><td class = \"rowNumber\" style = \"font-weight: bold; text-align: right;\">463</td><td style = \"text-align: left;\">RXN0-313__CPLX0-201 (reverse)</td><td style = \"text-align: right;\">31.0</td></tr><tr><td class = \"rowNumber\" style = \"font-weight: bold; text-align: right;\">464</td><td style = \"text-align: left;\">RXN0-384__H2NEOPTERINP3PYROPHOSPHOHYDRO-MONOMER</td><td style = \"text-align: right;\">4.0</td></tr><tr><td class = \"rowNumber\" style = \"font-weight: bold; text-align: right;\">465</td><td style = \"text-align: left;\">RXN0-5186__G7408-MONOMER</td><td style = \"text-align: right;\">2979.0</td></tr><tr><td class = \"rowNumber\" style = \"font-weight: bold; text-align: right;\">466</td><td style = \"text-align: left;\">SERINE-O-ACETTRAN-RXN__CPLX0-237</td><td style = \"text-align: right;\">17162.0</td></tr><tr><td class = \"rowNumber\" style = \"font-weight: bold; text-align: right;\">467</td><td style = \"text-align: left;\">SERINE-O-ACETTRAN-RXN__CYSSYNMULTI-CPLX</td><td style = \"text-align: right;\">16186.0</td></tr><tr><td class = \"rowNumber\" style = \"font-weight: bold; text-align: right;\">468</td><td style = \"text-align: left;\">UNDECAPRENYL-DIPHOSPHATASE-RXN[CCO-CYTOSOL]-UNDECAPRENYL-DIPHOSPHATE/WATER//CPD-9646/Pi/PROTON.64.__PGPPHOSPHAB-MONOMER</td><td style = \"text-align: right;\">143.0</td></tr><tr><td class = \"rowNumber\" style = \"font-weight: bold; text-align: right;\">469</td><td style = \"text-align: left;\">URPHOS-RXN__URPHOS-CPLX</td><td style = \"text-align: right;\">3.0</td></tr><tr><td class = \"rowNumber\" style = \"font-weight: bold; text-align: right;\">470</td><td style = \"text-align: left;\">maintenance_reaction</td><td style = \"text-align: right;\">3.05899e6</td></tr></tbody></table></div>"
      ],
      "text/latex": [
       "\\begin{tabular}{r|cc}\n",
       "\t& Column1 & \\\\\n",
       "\t\\hline\n",
       "\t& String & \\\\\n",
       "\t\\hline\n",
       "\t1 & 1.5.1.20-RXN-5-METHYL-THF/NAD//METHYLENE-THF/NADH/PROTON.44. (reverse) & $\\dots$ \\\\\n",
       "\t2 & 1.5.1.20-RXN-CPD-1302/NAD//CPD-12996/NADH/PROTON.36. (reverse) & $\\dots$ \\\\\n",
       "\t3 & 1PFRUCTPHOSN-RXN & $\\dots$ \\\\\n",
       "\t4 & 1TRANSKETO-RXN (reverse) & $\\dots$ \\\\\n",
       "\t5 & 2-DEHYDROPANTOATE-REDUCT-RXN (reverse) & $\\dots$ \\\\\n",
       "\t6 & 2-ISOPROPYLMALATESYN-RXN & $\\dots$ \\\\\n",
       "\t7 & 2-OCTAPRENYL-6-METHOXYPHENOL-HYDROX-RXN & $\\dots$ \\\\\n",
       "\t8 & 2-OCTAPRENYL-6-OHPHENOL-METHY-RXN & $\\dots$ \\\\\n",
       "\t9 & 2-OCTAPRENYL-METHOXY-BENZOQ-METH-RXN & $\\dots$ \\\\\n",
       "\t10 & 2-OCTAPRENYLPHENOL-HYDROX-RXN & $\\dots$ \\\\\n",
       "\t11 & 2.3.1.157-RXN & $\\dots$ \\\\\n",
       "\t12 & 2.5.1.19-RXN & $\\dots$ \\\\\n",
       "\t13 & 2.5.1.64-RXN & $\\dots$ \\\\\n",
       "\t14 & 2.7.1.148-RXN & $\\dots$ \\\\\n",
       "\t15 & 2.7.7.60-RXN & $\\dots$ \\\\\n",
       "\t16 & 2.8.1.6-RXN & $\\dots$ \\\\\n",
       "\t17 & 2OXOGLUTARATEDEH-RXN & $\\dots$ \\\\\n",
       "\t18 & 2PGADEHYDRAT-RXN & $\\dots$ \\\\\n",
       "\t19 & 2TRANSKETO-RXN (reverse) & $\\dots$ \\\\\n",
       "\t20 & 3-CH3-2-OXOBUTANOATE-OH-CH3-XFER-RXN-CPD-12996/2-KETO-ISOVALERATE/WATER//2-DEHYDROPANTOATE/CPD-1301.63. & $\\dots$ \\\\\n",
       "\t21 & 3-DEHYDROQUINATE-DEHYDRATASE-RXN & $\\dots$ \\\\\n",
       "\t22 & 3-DEHYDROQUINATE-SYNTHASE-RXN & $\\dots$ \\\\\n",
       "\t23 & 3-OCTAPRENYL-4-OHBENZOATE-DECARBOX-RXN & $\\dots$ \\\\\n",
       "\t24 & 3.2.2.10-RXN-CMP/WATER//RIBOSE-5P/CYTOSINE.30. & $\\dots$ \\\\\n",
       "\t25 & 3.2.2.10-RXN-UMP/WATER//RIBOSE-5P/URACIL.28. & $\\dots$ \\\\\n",
       "\t26 & 325-BISPHOSPHATE-NUCLEOTIDASE-RXN & $\\dots$ \\\\\n",
       "\t27 & 3PGAREARR-RXN (reverse) & $\\dots$ \\\\\n",
       "\t28 & 4OHBENZOATE-OCTAPRENYLTRANSFER-RXN & $\\dots$ \\\\\n",
       "\t29 & 5.1.3.20-RXN & $\\dots$ \\\\\n",
       "\t30 & 5.4.2.10-RXN-CPD-13469//GLUCOSAMINE-1P.26. & $\\dots$ \\\\\n",
       "\t$\\dots$ & $\\dots$ &  \\\\\n",
       "\\end{tabular}\n"
      ],
      "text/plain": [
       "\u001b[1m470×2 DataFrame\u001b[0m\n",
       "\u001b[1m Row \u001b[0m│\u001b[1m Column1                           \u001b[0m\u001b[1m data          \u001b[0m\n",
       "     │\u001b[90m String                            \u001b[0m\u001b[90m Float64       \u001b[0m\n",
       "─────┼──────────────────────────────────────────────────\n",
       "   1 │ 1.5.1.20-RXN-5-METHYL-THF/NAD//M…   3851.0\n",
       "   2 │ 1.5.1.20-RXN-CPD-1302/NAD//CPD-1…  16095.0\n",
       "   3 │ 1PFRUCTPHOSN-RXN                       1.23812e6\n",
       "   4 │ 1TRANSKETO-RXN (reverse)            7974.0\n",
       "   5 │ 2-DEHYDROPANTOATE-REDUCT-RXN (re…   1131.0\n",
       "   6 │ 2-ISOPROPYLMALATESYN-RXN           56297.0\n",
       "   7 │ 2-OCTAPRENYL-6-METHOXYPHENOL-HYD…    300.0\n",
       "   8 │ 2-OCTAPRENYL-6-OHPHENOL-METHY-RXN    300.0\n",
       "   9 │ 2-OCTAPRENYL-METHOXY-BENZOQ-METH…    300.0\n",
       "  10 │ 2-OCTAPRENYLPHENOL-HYDROX-RXN        300.0\n",
       "  11 │ 2.3.1.157-RXN                      16505.0\n",
       "  ⋮  │                 ⋮                        ⋮\n",
       " 461 │ ISOCHORSYN-RXN__MENF-CPLX             25.0\n",
       " 462 │ RXN-9535__FABB-CPLX                  119.0\n",
       " 463 │ RXN0-313__CPLX0-201 (reverse)         31.0\n",
       " 464 │ RXN0-384__H2NEOPTERINP3PYROPHOSP…      4.0\n",
       " 465 │ RXN0-5186__G7408-MONOMER            2979.0\n",
       " 466 │ SERINE-O-ACETTRAN-RXN__CPLX0-237   17162.0\n",
       " 467 │ SERINE-O-ACETTRAN-RXN__CYSSYNMUL…  16186.0\n",
       " 468 │ UNDECAPRENYL-DIPHOSPHATASE-RXN[C…    143.0\n",
       " 469 │ URPHOS-RXN__URPHOS-CPLX                3.0\n",
       " 470 │ maintenance_reaction                   3.05899e6\n",
       "\u001b[36m                                        449 rows omitted\u001b[0m"
      ]
     },
     "execution_count": 3,
     "metadata": {},
     "output_type": "execute_result"
    }
   ],
   "source": [
    "flows = DataFrame(CSV.File(\"whole_cell_flow_data.csv\"))"
   ]
  },
  {
   "cell_type": "code",
   "execution_count": 4,
   "id": "e4c594ae",
   "metadata": {
    "tags": []
   },
   "outputs": [
    {
     "data": {
      "text/plain": [
       "489×470 Matrix{Int64}:\n",
       "  1   1  0  0   0   0   0  0  0   0  0  …  0   0  0   0   0  0  0   0  0   0\n",
       " -1  -1  0  0   0   0   0  0  0   0  0     0   0  0   0   0  0  0   0  0   0\n",
       " -1  -1  1  0  -1   1  -1  1  1  -1  1     0  -1  0   1   0  0  0   1  0   1\n",
       "  0   0  0  0   0   0   0  0  0   0  0     0   0  0   0   0  0  0   0  0   0\n",
       "  0   0  0  0   1   0   1  0  0   1  0     0   0  0   0   0  0  0   0  0   0\n",
       "  0   0  0  0  -1   0  -1  0  0  -1  0  …  0   0  0   0   0  0  0   0  0   0\n",
       "  0   0  0  0   0   0   0  0  0   0  0     0   0  0   0   0  0  0   0  0   0\n",
       "  0   0  0  0   0   0   0  0  0   0  0     0   1  0   0   0  0  0   0  0   0\n",
       "  0   0  0  0   0   0   0  0  0   0  0     0   0  0   0   0  0  0   0  0   0\n",
       "  0   0  0  0   0   0   0  0  0   0  0     0   0  0   0   0  0  0   0  0   0\n",
       "  0   0  0  0   0   0   0  0  0   0  0  …  0   0  0   0   0  0  0   0  0   0\n",
       "  0   0  0  0   0  -1   1  0  0   1  0     0   0  0  -1  -1  0  0  -1  0  -1\n",
       "  0   0  0  0   0   0  -1  0  0  -1  0     0   0  0   0   0  0  0   0  0   0\n",
       "  ⋮                 ⋮                ⋮  ⋱  ⋮                 ⋮            \n",
       "  0   0  0  0   0   0   0  0  0   0  0     0   0  0   0   0  0  0   0  0   0\n",
       "  0   0  0  0   0   0   0  0  0   0  0     0   0  0   0   0  0  0   0  0   0\n",
       "  0   0  0  0   0   0   0  0  0   0  0     0   0  0   0   0  0  0   0  0   0\n",
       "  0   0  0  0   0   0   0  0  0   0  0  …  0   0  0   0   0  0  0   0  0   0\n",
       "  0   0  0  0   0   0   0  0  0   0  0     0   0  0   0   0  0  0   0  0   0\n",
       "  0   0  0  0   0   0   0  0  0   0  0     0   0  0   0   0  0  0   0  0   0\n",
       "  0   0  0  0   0   0   0  0  0   0  0     0   1  0   0   0  0  0   0  0   0\n",
       "  0   0  0  0   0   0   0  0  0   0  0     0   0  0   0   0  0  0   0  0   0\n",
       "  0   0  0  0   0   0   0  0  0   0  0  …  0   0  0   0   0  0  0   0  0   0\n",
       "  0   0  0  0   0   0   0  0  0   0  0     0   0  0   0   0  0  0   0  0   0\n",
       "  0   0  0  0   0   0   0  0  0   0  0     0   0  0   0   0  0  0   0  0   0\n",
       "  0   0  0  0   0   0   0  0  0   0  0     0   0  0   0   0  0  0   0  0   0"
      ]
     },
     "execution_count": 4,
     "metadata": {},
     "output_type": "execute_result"
    }
   ],
   "source": [
    "stoichiometry = DataFrame(CSV.File(\"whole_cell_s_matrix (1).csv\"))\n",
    "metabolite_names = stoichiometry[:, \"Column1\"]\n",
    "reaction_names = names(stoichiometry)[2:end]\n",
    "\n",
    "n_mets = length(metabolite_names)\n",
    "n_rxns = length(reaction_names)\n",
    "\n",
    "S = Matrix(stoichiometry[:, 2:end])"
   ]
  },
  {
   "cell_type": "code",
   "execution_count": 5,
   "id": "136af9b9-9938-4ae4-a3fa-8620c1eca46c",
   "metadata": {
    "tags": []
   },
   "outputs": [
    {
     "data": {
      "text/plain": [
       "489×470 BitMatrix:\n",
       " 1  1  0  0  0  0  0  0  0  0  0  0  0  …  0  0  0  0  0  0  0  0  0  0  0  0\n",
       " 1  1  0  0  0  0  0  0  0  0  0  0  0     0  0  0  0  0  0  0  0  0  0  0  0\n",
       " 1  1  1  0  1  1  1  1  1  1  1  0  1     1  0  0  1  0  1  0  0  0  1  0  1\n",
       " 0  0  0  0  0  0  0  0  0  0  0  0  0     0  0  0  0  0  0  0  0  0  0  0  0\n",
       " 0  0  0  0  1  0  1  0  0  1  0  0  0     0  0  0  0  0  0  0  0  0  0  0  0\n",
       " 0  0  0  0  1  0  1  0  0  1  0  0  0  …  0  0  0  0  0  0  0  0  0  0  0  0\n",
       " 0  0  0  0  0  0  0  0  0  0  0  0  0     0  0  0  0  0  0  0  0  0  0  0  0\n",
       " 0  0  0  0  0  0  0  0  0  0  0  0  1     1  0  0  1  0  0  0  0  0  0  0  0\n",
       " 0  0  0  0  0  0  0  0  0  0  0  0  0     0  0  0  0  0  0  0  0  0  0  0  0\n",
       " 0  0  0  0  0  0  0  0  0  0  0  0  0     0  0  0  0  0  0  0  0  0  0  0  0\n",
       " 0  0  0  0  0  0  0  0  0  0  0  0  0  …  0  0  0  0  0  0  0  0  0  0  0  0\n",
       " 0  0  0  0  0  1  1  0  0  1  0  0  0     0  0  0  0  0  1  1  0  0  1  0  1\n",
       " 0  0  0  0  0  0  1  0  0  1  0  0  0     0  0  0  0  0  0  0  0  0  0  0  0\n",
       " ⋮              ⋮              ⋮        ⋱        ⋮              ⋮           \n",
       " 0  0  0  0  0  0  0  0  0  0  0  0  0     0  0  0  0  0  0  0  0  0  0  0  0\n",
       " 0  0  0  0  0  0  0  0  0  0  0  0  0     0  0  0  0  0  0  0  0  0  0  0  0\n",
       " 0  0  0  0  0  0  0  0  0  0  0  0  0     0  0  0  0  0  0  0  0  0  0  0  0\n",
       " 0  0  0  0  0  0  0  0  0  0  0  0  0  …  0  0  0  0  0  0  0  0  0  0  0  0\n",
       " 0  0  0  0  0  0  0  0  0  0  0  0  0     0  0  0  0  0  0  0  0  0  0  0  0\n",
       " 0  0  0  0  0  0  0  0  0  0  0  0  0     0  0  0  0  0  0  0  0  0  0  0  0\n",
       " 0  0  0  0  0  0  0  0  0  0  0  0  0     0  0  0  1  0  0  0  0  0  0  0  0\n",
       " 0  0  0  0  0  0  0  0  0  0  0  0  0     0  0  0  0  0  0  0  0  0  0  0  0\n",
       " 0  0  0  0  0  0  0  0  0  0  0  0  0  …  0  0  0  0  0  0  0  0  0  0  0  0\n",
       " 0  0  0  0  0  0  0  0  0  0  0  0  0     0  0  0  0  0  0  0  0  0  0  0  0\n",
       " 0  0  0  0  0  0  0  0  0  0  0  0  0     0  0  0  0  0  0  0  0  0  0  0  0\n",
       " 0  0  0  0  0  0  0  0  0  0  0  0  0     0  0  0  0  0  0  0  0  0  0  0  0"
      ]
     },
     "execution_count": 5,
     "metadata": {},
     "output_type": "execute_result"
    }
   ],
   "source": [
    "B = S .!= 0\n",
    "B"
   ]
  },
  {
   "cell_type": "code",
   "execution_count": 6,
   "id": "5674bbff",
   "metadata": {},
   "outputs": [
    {
     "data": {
      "text/plain": [
       "489×489 Matrix{Int64}:\n",
       " 38  36   33  0   2   1  0   5   1  0  …  1  1  0  0  0  0  0  0  0  0  0  0\n",
       " 36  36   31  0   1   1  0   5   1  0     1  1  0  0  0  0  0  0  0  0  0  0\n",
       " 33  31  236  0  30  29  1  42  11  2     1  2  2  1  2  1  3  2  1  0  1  0\n",
       "  0   0    0  1   0   0  0   0   0  0     0  0  0  0  0  0  0  0  0  0  0  0\n",
       "  2   1   30  0  33  32  0   2   0  1     0  0  1  1  1  1  1  1  0  0  0  0\n",
       "  1   1   29  0  32  32  0   2   0  1  …  0  0  1  1  1  1  1  1  0  0  0  0\n",
       "  0   0    1  0   0   0  1   0   0  0     0  0  0  0  0  0  0  0  0  0  0  0\n",
       "  5   5   42  0   2   2  0  50   8  0     0  0  1  0  1  0  2  0  0  0  0  0\n",
       "  1   1   11  0   0   0  0   8  18  0     0  0  0  0  0  0  0  0  0  0  0  0\n",
       "  0   0    2  0   1   1  0   0   0  2     0  0  0  0  0  0  0  0  0  0  0  0\n",
       "  0   0    2  0   1   1  0   0   0  2  …  0  0  0  0  0  0  0  0  0  0  0  0\n",
       "  6   6   51  1   4   4  1   7   3  0     1  1  0  1  0  1  0  1  0  1  1  0\n",
       "  0   0    4  0   2   2  0   1   0  0     0  0  0  0  0  0  0  0  0  0  0  0\n",
       "  ⋮                   ⋮                ⋱           ⋮              ⋮        \n",
       "  1   1    1  0   0   0  0   0   0  0     2  1  0  0  0  0  0  0  0  0  0  0\n",
       "  1   1    2  0   0   0  0   0   0  0     1  2  0  0  0  0  0  0  0  0  0  0\n",
       "  0   0    2  0   1   1  0   1   0  0     0  0  2  1  0  0  0  0  0  0  0  0\n",
       "  0   0    1  0   1   1  0   0   0  0  …  0  0  1  2  0  0  0  0  0  0  0  0\n",
       "  0   0    2  0   1   1  0   1   0  0     0  0  0  0  2  1  0  0  0  0  0  0\n",
       "  0   0    1  0   1   1  0   0   0  0     0  0  0  0  1  2  0  0  0  0  0  0\n",
       "  0   0    3  0   1   1  0   2   0  0     0  0  0  0  0  0  3  1  0  0  0  0\n",
       "  0   0    2  0   1   1  0   0   0  0     0  0  0  0  0  0  1  4  0  0  0  0\n",
       "  0   0    1  0   0   0  0   0   0  0  …  0  0  0  0  0  0  0  0  2  1  1  0\n",
       "  0   0    0  0   0   0  0   0   0  0     0  0  0  0  0  0  0  0  1  2  1  0\n",
       "  0   0    1  0   0   0  0   0   0  0     0  0  0  0  0  0  0  0  1  1  2  0\n",
       "  0   0    0  0   0   0  0   0   0  0     0  0  0  0  0  0  0  0  0  0  0  1"
      ]
     },
     "execution_count": 6,
     "metadata": {},
     "output_type": "execute_result"
    }
   ],
   "source": [
    "B * Transpose(B)"
   ]
  },
  {
   "cell_type": "code",
   "execution_count": 7,
   "id": "eb1a525e-7047-4b32-9afb-2e53b4f14ca8",
   "metadata": {
    "tags": []
   },
   "outputs": [
    {
     "data": {
      "text/plain": [
       "489-element Vector{Int64}:\n",
       "  38\n",
       "  36\n",
       " 236\n",
       "   1\n",
       "  33\n",
       "  32\n",
       "   1\n",
       "  50\n",
       "  18\n",
       "   2\n",
       "   2\n",
       " 120\n",
       "   8\n",
       "   ⋮\n",
       "   2\n",
       "   2\n",
       "   2\n",
       "   2\n",
       "   2\n",
       "   2\n",
       "   3\n",
       "   4\n",
       "   2\n",
       "   2\n",
       "   2\n",
       "   1"
      ]
     },
     "execution_count": 7,
     "metadata": {},
     "output_type": "execute_result"
    }
   ],
   "source": [
    "node_freq = diag(B * Transpose(B))\n",
    "node_freq"
   ]
  },
  {
   "cell_type": "code",
   "execution_count": 8,
   "id": "0d276bdd",
   "metadata": {},
   "outputs": [
    {
     "data": {
      "text/plain": [
       "2674-element Vector{Int64}:\n",
       " 36\n",
       " 33\n",
       "  2\n",
       "  1\n",
       "  5\n",
       "  1\n",
       "  6\n",
       "  1\n",
       "  1\n",
       "  1\n",
       "  1\n",
       "  2\n",
       "  1\n",
       "  ⋮\n",
       "  1\n",
       "  1\n",
       "  1\n",
       "  1\n",
       "  1\n",
       "  1\n",
       "  1\n",
       "  1\n",
       "  1\n",
       "  1\n",
       "  1\n",
       "  1"
      ]
     },
     "execution_count": 8,
     "metadata": {},
     "output_type": "execute_result"
    }
   ],
   "source": [
    "pair_freq_tri = LowerTriangular(B * Transpose(B) - Diagonal(node_freq))\n",
    "pair_indices = findall(pair_freq_tri .!= 0)\n",
    "pair_counts = pair_freq_tri[pair_indices]"
   ]
  },
  {
   "cell_type": "code",
   "execution_count": 9,
   "id": "3724408c-ce14-469d-9bed-fe5ab9dfb1ae",
   "metadata": {
    "tags": []
   },
   "outputs": [
    {
     "data": {
      "text/plain": [
       "489-element BitVector:\n",
       " 1\n",
       " 1\n",
       " 1\n",
       " 0\n",
       " 1\n",
       " 1\n",
       " 0\n",
       " 1\n",
       " 0\n",
       " 0\n",
       " 0\n",
       " 1\n",
       " 0\n",
       " ⋮\n",
       " 0\n",
       " 0\n",
       " 0\n",
       " 0\n",
       " 0\n",
       " 0\n",
       " 0\n",
       " 0\n",
       " 0\n",
       " 0\n",
       " 0\n",
       " 0"
      ]
     },
     "execution_count": 9,
     "metadata": {},
     "output_type": "execute_result"
    }
   ],
   "source": [
    "pair_max_threshold = 2\n",
    "\n",
    "removed_pairs = pair_indices[pair_counts .> pair_max_threshold]\n",
    "n_pairs = length(removed_pairs)\n",
    "\n",
    "node_max_threshold = 20\n",
    "removed_nodes = node_freq .> node_max_threshold"
   ]
  },
  {
   "cell_type": "code",
   "execution_count": 10,
   "id": "ed5bc395-9a86-4552-834c-843b3b24f0b2",
   "metadata": {
    "tags": []
   },
   "outputs": [
    {
     "data": {
      "text/plain": [
       "13-element Vector{String}:\n",
       " \"NAD[c]\"\n",
       " \"NADH[c]\"\n",
       " \"PROTON[c]\"\n",
       " \"NADP[c]\"\n",
       " \"NADPH[c]\"\n",
       " \"CARBON-DIOXIDE[c]\"\n",
       " \"WATER[c]\"\n",
       " \"ATP[c]\"\n",
       " \"ADP[c]\"\n",
       " \"CO-A[c]\"\n",
       " \"Pi[c]\"\n",
       " \"GLT[c]\"\n",
       " \"PPI[c]\""
      ]
     },
     "execution_count": 10,
     "metadata": {},
     "output_type": "execute_result"
    }
   ],
   "source": [
    "metabolite_names[removed_nodes]"
   ]
  },
  {
   "cell_type": "code",
   "execution_count": 11,
   "id": "82d112f0",
   "metadata": {},
   "outputs": [
    {
     "data": {
      "text/plain": [
       "13×470 view(::Matrix{Int64}, [1, 2, 3, 5, 6, 8, 12, 21, 23, 34, 46, 57, 63], :) with eltype Int64:\n",
       " 0  0  0  0  0  0  0  0  0  0  0  0  0  …  0  0  0  0  0  0  0  0  0  0  0  0\n",
       " 0  0  0  0  0  0  0  0  0  0  0  0  0     0  0  0  0  0  0  0  0  0  0  0  0\n",
       " 0  0  0  0  0  0  0  0  0  0  0  0  0     0  0  0  0  0  0  0  0  0  0  0  0\n",
       " 0  0  0  0  0  0  0  0  0  0  0  0  0     0  0  0  0  0  0  0  0  0  0  0  0\n",
       " 0  0  0  0  0  0  0  0  0  0  0  0  0     0  0  0  0  0  0  0  0  0  0  0  0\n",
       " 0  0  0  0  0  0  0  0  0  0  0  0  0  …  0  0  0  0  0  0  0  0  0  0  0  0\n",
       " 0  0  0  0  0  0  0  0  0  0  0  0  0     0  0  0  0  0  0  0  0  0  0  0  0\n",
       " 0  0  0  0  0  0  0  0  0  0  0  0  0     0  0  0  0  0  0  0  0  0  0  0  0\n",
       " 0  0  0  0  0  0  0  0  0  0  0  0  0     0  0  0  0  0  0  0  0  0  0  0  0\n",
       " 0  0  0  0  0  0  0  0  0  0  0  0  0     0  0  0  0  0  0  0  0  0  0  0  0\n",
       " 0  0  0  0  0  0  0  0  0  0  0  0  0  …  0  0  0  0  0  0  0  0  0  0  0  0\n",
       " 0  0  0  0  0  0  0  0  0  0  0  0  0     0  0  0  0  0  0  0  0  0  0  0  0\n",
       " 0  0  0  0  0  0  0  0  0  0  0  0  0     0  0  0  0  0  0  0  0  0  0  0  0"
      ]
     },
     "execution_count": 11,
     "metadata": {},
     "output_type": "execute_result"
    }
   ],
   "source": [
    "R = Int.(zeros(n_pairs, n_mets))\n",
    "\n",
    "for i in 1:n_pairs\n",
    "    pair = removed_pairs[i]\n",
    "    R[i, pair[1]] = 1\n",
    "    R[i, pair[2]] = 1\n",
    "end\n",
    "\n",
    "Sm = copy(S)\n",
    "\n",
    "for j in 1:n_rxns\n",
    "    \n",
    "    matched_pair_pair_indices = R * B[:, j] .== 2\n",
    "\n",
    "    matched_met_indices = unique(getindex.(removed_pairs[matched_pair_pair_indices], [1 2]))\n",
    "    \n",
    "    Sm[matched_met_indices, j] .= 0\n",
    "    \n",
    "end\n",
    "\n",
    "Sm[removed_nodes, :] .= 0"
   ]
  },
  {
   "cell_type": "code",
   "execution_count": 12,
   "id": "9ce634fd-3d3b-4324-ac3c-6fab14dc92e8",
   "metadata": {
    "tags": []
   },
   "outputs": [
    {
     "name": "stderr",
     "output_type": "stream",
     "text": [
      "WARNING: both LightGraphs and Graphs export \"SimpleDiGraph\"; uses of it in module Main must be qualified\n"
     ]
    },
    {
     "ename": "LoadError",
     "evalue": "UndefVarError: `SimpleDiGraph` not defined",
     "output_type": "error",
     "traceback": [
      "UndefVarError: `SimpleDiGraph` not defined",
      "",
      "Stacktrace:",
      " [1] top-level scope",
      "   @ In[12]:1"
     ]
    }
   ],
   "source": [
    "G = SimpleDiGraph(length(metabolite_names) + length(reaction_names))\n"
   ]
  },
  {
   "cell_type": "code",
   "execution_count": 13,
   "id": "463053a4-467f-4b1e-a99d-ab2e4919fb79",
   "metadata": {
    "tags": []
   },
   "outputs": [
    {
     "name": "stderr",
     "output_type": "stream",
     "text": [
      "WARNING: both LightGraphs and Graphs export \"add_edge!\"; uses of it in module Main must be qualified\n"
     ]
    },
    {
     "ename": "LoadError",
     "evalue": "UndefVarError: `G` not defined",
     "output_type": "error",
     "traceback": [
      "UndefVarError: `G` not defined",
      "",
      "Stacktrace:",
      " [1] top-level scope",
      "   @ ./In[13]:13"
     ]
    }
   ],
   "source": [
    "reactions = flows[:, \"Column1\"]\n",
    "flows = normalize(log.(flows[:, \"data\"])) * 100\n",
    "weights = Dict()\n",
    "\n",
    "\n",
    "for i in 1:n_mets\n",
    "    \n",
    "    for j in 1:n_rxns\n",
    "        \n",
    "        # check if \n",
    "        if Sm[i, j] > 0\n",
    "            # add_edge!(G, i, n_mets + j)\n",
    "            add_edge!(G, n_mets + j, i)\n",
    "        elseif Sm[i,j] < 0\n",
    "            add_edge!(G, i, n_mets + j)\n",
    "        end\n",
    "        \n",
    "        # Update edge weight dictionary\n",
    "        weights[n_mets + j] = flows[j]\n",
    "    end\n",
    "end\n"
   ]
  },
  {
   "cell_type": "code",
   "execution_count": 14,
   "id": "3139faa0-f8d2-41c2-aba3-20a96dbf56e8",
   "metadata": {
    "tags": []
   },
   "outputs": [
    {
     "name": "stderr",
     "output_type": "stream",
     "text": [
      "WARNING: both LightGraphs and Graphs export \"connected_components\"; uses of it in module Main must be qualified\n"
     ]
    },
    {
     "ename": "LoadError",
     "evalue": "UndefVarError: `connected_components` not defined",
     "output_type": "error",
     "traceback": [
      "UndefVarError: `connected_components` not defined",
      "",
      "Stacktrace:",
      " [1] top-level scope",
      "   @ In[14]:1"
     ]
    }
   ],
   "source": [
    "big_network_nodes = reduce(vcat, connected_components(G)[length.(connected_components(G)) .> 100])\n",
    "Gb = induced_subgraph(G, big_network_nodes)[1]"
   ]
  },
  {
   "cell_type": "markdown",
   "id": "499c7809-0dbf-450b-99bb-1eb6c8cc51f0",
   "metadata": {},
   "source": [
    "## Reduce paths between nodes with degree >2"
   ]
  },
  {
   "cell_type": "code",
   "execution_count": 15,
   "id": "bfdb7422-4f62-4a98-9523-b94921137a11",
   "metadata": {
    "tags": []
   },
   "outputs": [
    {
     "name": "stderr",
     "output_type": "stream",
     "text": [
      "WARNING: both LightGraphs and Graphs export \"degree\"; uses of it in module Main must be qualified\n"
     ]
    },
    {
     "ename": "LoadError",
     "evalue": "UndefVarError: `degree` not defined",
     "output_type": "error",
     "traceback": [
      "UndefVarError: `degree` not defined",
      "",
      "Stacktrace:",
      " [1] top-level scope",
      "   @ In[15]:1"
     ]
    }
   ],
   "source": [
    "path_nodes = findall(degree(Gb) .== 2)\n",
    "fork_nodes = findall(degree(Gb) .!= 2)\n",
    "\n",
    "found = false\n",
    "\n",
    "node_group = Int.(zeros(length(vertices(Gb))))\n",
    "cur_group = 1\n",
    "\n",
    "\n",
    "for node in path_nodes\n",
    "    # println(all_neighbors(Gb, node))\n",
    "    \n",
    "    # Start path if either connection is not path\n",
    "    side_neighbors = all_neighbors(Gb, node)\n",
    "    found = false\n",
    "    # println(\"starting node $node\")\n",
    "    # println(cur_group)\n",
    "    \n",
    "    if side_neighbors[1] in fork_nodes && side_neighbors[2] in fork_nodes\n",
    "        # println(\"double\")\n",
    "        # add to path\n",
    "        continue\n",
    "        \n",
    "    elseif side_neighbors[1] in fork_nodes && node_group[node] == 0\n",
    "        \n",
    "        # go through until fork is encountered and add to path\n",
    "        cur_node = node\n",
    "        prev_node = side_neighbors[1]\n",
    "        start_node = side_neighbors[1]\n",
    "        \n",
    "        # println(\"left, node $start_node is start fork, going to node $cur_node\")\n",
    "        \n",
    "        while found == false\n",
    "            \n",
    "            node_group[cur_node] = cur_group\n",
    "            \n",
    "            side_neighbors = all_neighbors(Gb, cur_node)\n",
    "            \n",
    "            # println(\"neighbors for $cur_node are $side_neighbors\")\n",
    "            \n",
    "            other_neighbor = setdiff(side_neighbors, prev_node)[1]\n",
    "            \n",
    "            if other_neighbor in fork_nodes\n",
    "                # println(\"node $other_neighbor is end fork\")\n",
    "                end_node = other_neighbor\n",
    "                \n",
    "                found = true\n",
    "            else\n",
    "                # println(\"traversing from node $cur_node to node $other_neighbor\")\n",
    "                prev_node = cur_node\n",
    "                cur_node = other_neighbor\n",
    "            end\n",
    "        end\n",
    "        \n",
    "        cur_group += 1\n",
    "        \n",
    "    elseif side_neighbors[2] in fork_nodes && node_group[node] == 0\n",
    "        # println(\"right\")\n",
    "        # go through until fork is encountered and add to path\n",
    "        \n",
    "        # go through until fork is encountered and add to path\n",
    "        cur_node = node\n",
    "        prev_node = side_neighbors[2]\n",
    "        start_node = side_neighbors[2]\n",
    "        \n",
    "        # println(\"left, node $start_node is start fork, going to node $cur_node\")\n",
    "        \n",
    "        while found == false\n",
    "            \n",
    "            node_group[cur_node] = cur_group\n",
    "            \n",
    "            side_neighbors = all_neighbors(Gb, cur_node)\n",
    "            \n",
    "            # println(\"neighbors for $cur_node are $side_neighbors\")\n",
    "            \n",
    "            other_neighbor = setdiff(side_neighbors, prev_node)[1]\n",
    "            \n",
    "            if other_neighbor in fork_nodes\n",
    "                # println(\"node $other_neighbor is end fork\")\n",
    "                end_node = other_neighbor\n",
    "                \n",
    "                found = true\n",
    "            else\n",
    "                # println(\"traversing from node $cur_node to node $other_neighbor\")\n",
    "                prev_node = cur_node\n",
    "                cur_node = other_neighbor\n",
    "            end\n",
    "        end\n",
    "        \n",
    "        \n",
    "        cur_group += 1\n",
    "        \n",
    "    else\n",
    "        # println(\"none\")\n",
    "        continue\n",
    "    end\n",
    "        \n",
    "end"
   ]
  },
  {
   "cell_type": "markdown",
   "id": "4d7e45fc-c828-453a-9dde-9caf3d6048ea",
   "metadata": {},
   "source": [
    "## Generate annotations"
   ]
  },
  {
   "cell_type": "code",
   "execution_count": 16,
   "id": "5d01294c-a0ab-4b49-b629-665fcea9d845",
   "metadata": {
    "tags": []
   },
   "outputs": [
    {
     "ename": "LoadError",
     "evalue": "UndefVarError: `big_network_nodes` not defined",
     "output_type": "error",
     "traceback": [
      "UndefVarError: `big_network_nodes` not defined",
      "",
      "Stacktrace:",
      " [1] top-level scope",
      "   @ In[16]:3"
     ]
    }
   ],
   "source": [
    "all_names = [metabolite_names; reaction_names]\n",
    "\n",
    "graph_node_labels = all_names[big_network_nodes[1:length(vertices(Gb))]]\n",
    "\n",
    "graph_node_colors = repeat([colorant\"blue\"], length(graph_node_labels))\n",
    "graph_node_colors[big_network_nodes .> length(metabolite_names)] .= colorant\"blue\"\n",
    "graph_node_colors[big_network_nodes .<= length(metabolite_names)] .= colorant\"red\"\n",
    "graph_node_colors[node_group .!= 0] .= colorant\"yellow\"\n"
   ]
  },
  {
   "cell_type": "code",
   "execution_count": 17,
   "id": "da35bd9d",
   "metadata": {},
   "outputs": [
    {
     "name": "stderr",
     "output_type": "stream",
     "text": [
      "WARNING: both LightGraphs and Graphs export \"dst\"; uses of it in module Main must be qualified\n",
      "WARNING: both LightGraphs and Graphs export \"src\"; uses of it in module Main must be qualified\n",
      "WARNING: both LightGraphs and Graphs export \"edges\"; uses of it in module Main must be qualified\n"
     ]
    },
    {
     "ename": "LoadError",
     "evalue": "UndefVarError: `edges` not defined",
     "output_type": "error",
     "traceback": [
      "UndefVarError: `edges` not defined",
      "",
      "Stacktrace:",
      " [1] top-level scope",
      "   @ ./In[17]:2"
     ]
    }
   ],
   "source": [
    "weight_vec = []\n",
    "for (i, edge) in enumerate(edges(Gb))\n",
    "    source = big_network_nodes[src(edge)]\n",
    "    dest = big_network_nodes[dst(edge)]\n",
    "    \n",
    "    if haskey(weights, source)\n",
    "        push!(weight_vec, weights[source])\n",
    "    elseif haskey(weights, dest)\n",
    "        push!(weight_vec, weights[dest])\n",
    "    else\n",
    "        print(edge)\n",
    "        error(\"Invalid edge\")\n",
    "    end\n",
    "    \n",
    "end"
   ]
  },
  {
   "cell_type": "code",
   "execution_count": 18,
   "id": "b915c27e",
   "metadata": {
    "tags": []
   },
   "outputs": [
    {
     "ename": "LoadError",
     "evalue": "UndefVarError: `graph_node_colors` not defined",
     "output_type": "error",
     "traceback": [
      "UndefVarError: `graph_node_colors` not defined",
      "",
      "Stacktrace:",
      " [1] top-level scope",
      "   @ In[18]:8"
     ]
    }
   ],
   "source": [
    "Page(exportable=true, offline=true)\n",
    "\n",
    "# WGLMakie.activate!()\n",
    "GLMakie.activate!(inline=false)\n",
    "\n",
    "screen = GLMakie.Screen(float=true)\n",
    "set_theme!(resolution=(500, 300))\n",
    "f, ax, p = graphplot(Gb, layout=Stress(dim=2), \n",
    "    node_color = graph_node_colors,\n",
    "    edge_width=weight_vec)\n",
    "\n",
    "scene = ax.scene\n",
    "\n",
    "on(events(scene).mousebutton) do event\n",
    "    if event.button == Mouse.left\n",
    "        if event.action == Mouse.press || event.action == Mouse.release\n",
    "            println(\"Graph axis position: $(event)\")\n",
    "        end\n",
    "    end\n",
    "end\n",
    "\n",
    "\n",
    "display(screen,f)\n"
   ]
  },
  {
   "cell_type": "code",
   "execution_count": null,
   "id": "2c159b67-be25-4077-93ab-475054f3e342",
   "metadata": {},
   "outputs": [],
   "source": [
    "scene.plots[2][1]"
   ]
  },
  {
   "cell_type": "code",
   "execution_count": null,
   "id": "a056a4bb-ab69-4f5a-9393-ef7b965237c1",
   "metadata": {
    "tags": []
   },
   "outputs": [],
   "source": [
    "Page(exportable=true, offline=true)\n",
    "\n",
    "WGLMakie.activate!()\n",
    "\n",
    "\n",
    "# set_theme!(resolution=(1000, 800))\n",
    "\n",
    "g = wheel_digraph(10)\n",
    "f, ax, p = graphplot(g, node_size=30, node_color=[colorant\"red\" for i in 1:nv(g)])\n",
    "\n",
    "# display(screen,f)\n",
    "\n",
    "open(\"index.html\", \"w\") do io\n",
    "    println(io, \"\"\"\n",
    "    <html>\n",
    "        <head>\n",
    "        </head>\n",
    "        <body>\n",
    "    \"\"\")\n",
    "    Page(exportable=true, offline=true)\n",
    "    # Then, you can just inline plots or whatever you want :)\n",
    "    # or anything else from JSServe, or that can be displayed as html:\n",
    "    show(io, MIME\"text/html\"(), graphplot(Gb, layout=Stress(dim=3), node_color = graph_node_colors,))\n",
    "    println(io, \"\"\"\n",
    "        </body>\n",
    "    </html>\n",
    "    \"\"\")\n",
    "end"
   ]
  },
  {
   "cell_type": "code",
   "execution_count": null,
   "id": "acc7f7f0",
   "metadata": {},
   "outputs": [],
   "source": [
    "# Generate random edge weights\n",
    "weights = rand(length(edges(Gb)))\n",
    "\n",
    "# Create a layout algorithm using the weights\n",
    "layout = layoutalgorithm(G, :Stress, edge_weights = weights)\n"
   ]
  },
  {
   "cell_type": "code",
   "execution_count": null,
   "id": "553185e7",
   "metadata": {},
   "outputs": [],
   "source": []
  }
 ],
 "metadata": {
  "kernelspec": {
   "display_name": "Julia 1.9.1",
   "language": "julia",
   "name": "julia-1.9"
  },
  "language_info": {
   "file_extension": ".jl",
   "mimetype": "application/julia",
   "name": "julia",
   "version": "1.9.1"
  }
 },
 "nbformat": 4,
 "nbformat_minor": 5
}
