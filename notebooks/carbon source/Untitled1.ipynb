{
 "cells": [
  {
   "cell_type": "code",
   "execution_count": 393,
   "id": "348de732-cb03-4581-9f5c-0ce82d127d3b",
   "metadata": {},
   "outputs": [],
   "source": [
    "import requests\n",
    "from xml.etree import ElementTree\n",
    "from collections import defaultdict\n",
    "import numpy as np\n",
    "import pandas as pd\n",
    "import statistics\n",
    "import math\n",
    "import seaborn as sns\n",
    "import matplotlib.pyplot as plt\n",
    "import ast\n",
    "import json\n",
    "import urllib.request\n",
    "import escher\n",
    "from escher import Builder\n",
    "import cobra\n",
    "import time\n",
    "from time import sleep"
   ]
  },
  {
   "cell_type": "code",
   "execution_count": 394,
   "id": "37275fee-f289-4d45-9b69-8575534657f3",
   "metadata": {},
   "outputs": [],
   "source": [
    "def etree_to_dict(t):\n",
    "    d = {t.tag: {} if t.attrib else None}\n",
    "    children = list(t)\n",
    "    if children:\n",
    "        dd = defaultdict(list)\n",
    "        for dc in map(etree_to_dict, children):\n",
    "            for k, v in dc.items():\n",
    "                dd[k].append(v)\n",
    "        d = {t.tag: {k: v[0] if len(v) == 1 else v\n",
    "                     for k, v in dd.items()}}\n",
    "    if t.attrib:\n",
    "        d[t.tag].update(('@' + k, v)\n",
    "                        for k, v in t.attrib.items())\n",
    "    if t.text:\n",
    "        text = t.text.strip()\n",
    "        if children or t.attrib:\n",
    "            if text:\n",
    "                d[t.tag]['#text'] = text\n",
    "        else:\n",
    "            d[t.tag] = text\n",
    "    return d"
   ]
  },
  {
   "cell_type": "code",
   "execution_count": 395,
   "id": "07734658-e3a8-4911-8984-7645eea44d45",
   "metadata": {},
   "outputs": [],
   "source": [
    "def createTree(link):\n",
    "    time.sleep(1)\n",
    "    response = requests.get(link)\n",
    "    tree = ElementTree.fromstring(response.content)\n",
    "    return tree"
   ]
  },
  {
   "cell_type": "code",
   "execution_count": 396,
   "id": "d6122985-ad04-449c-8d1e-9b872dedec5c",
   "metadata": {},
   "outputs": [],
   "source": [
    "def createDictFromName(complexList, errors):\n",
    "    result = {}\n",
    "\n",
    "    for name in complexList:\n",
    "        try:\n",
    "            linkComplex = \"https://websvc.biocyc.org/getxml?id=ECOLI:\" + name\n",
    "            treeComplex = createTree(linkComplex)\n",
    "            treeDictComplex = etree_to_dict(treeComplex)\n",
    "            result[name] = treeDictComplex\n",
    "        except Exception as e:\n",
    "            errors.append((name, e))\n",
    "\n",
    "    return result"
   ]
  },
  {
   "cell_type": "code",
   "execution_count": 397,
   "id": "168f3ecb-4e2b-41ff-a1f3-865d71384c52",
   "metadata": {},
   "outputs": [],
   "source": [
    "def createDictFromLink(complexList, errors):\n",
    "    result = {}\n",
    "\n",
    "    for name in complexList:\n",
    "        try:\n",
    "            linkComplex = \"https://websvc.biocyc.org/\" + name\n",
    "            treeComplex = createTree(linkComplex)\n",
    "            treeDictComplex = etree_to_dict(treeComplex)\n",
    "            result[name] = treeDictComplex\n",
    "        except Exception as e:\n",
    "            errors.append((name, e))\n",
    "\n",
    "    return result"
   ]
  },
  {
   "cell_type": "code",
   "execution_count": 398,
   "id": "4388cc03-d1a8-4399-9919-2de326676e61",
   "metadata": {},
   "outputs": [],
   "source": [
    "simData = np.load(r\"../../out/geneRxnVerifData/output.npy\", allow_pickle=True, encoding='ASCII')\n",
    "fluxesWithCaption = simData.tolist()['agents']['0']['listeners']['fba_results']['estimated_fluxes']\n",
    "complexes = simData.tolist()['agents']['0']['bulk']\n",
    "\n",
    "metabolData = np.load(r\"../../out/geneRxnVerifData/stoichiometry.npy\", allow_pickle=True, encoding='ASCII')\n",
    "rxn_metabolites = metabolData.tolist()"
   ]
  },
  {
   "cell_type": "code",
   "execution_count": 399,
   "id": "946d8588-7d38-4fba-a359-91f0d3da0aa1",
   "metadata": {},
   "outputs": [],
   "source": [
    "reactions = fluxesWithCaption.keys()"
   ]
  },
  {
   "cell_type": "code",
   "execution_count": 400,
   "id": "4d2f47c8-f0df-4c55-addb-290df321992e",
   "metadata": {},
   "outputs": [],
   "source": [
    "ecReactions = pd.read_csv('reactions.tsv', sep='\\t', header=0)['Reaction'].tolist()"
   ]
  },
  {
   "cell_type": "code",
   "execution_count": 401,
   "id": "770b80d3-a1cf-4e78-8f43-24868c566a9d",
   "metadata": {},
   "outputs": [],
   "source": [
    "foundNames = []\n",
    "notFound = []\n",
    "for rxn in ecReactions:\n",
    "    found = False\n",
    "    for key in fluxesWithCaption:\n",
    "        if rxn in key:\n",
    "            found = True\n",
    "            foundNames.append((rxn, key))\n",
    "    if not found:\n",
    "        notFound.append(rxn)"
   ]
  },
  {
   "cell_type": "code",
   "execution_count": 402,
   "id": "7ce11139-0c48-4ce5-b98d-8c046d533434",
   "metadata": {},
   "outputs": [],
   "source": [
    "prev = \"\"\n",
    "fluxes = {}\n",
    "for names in foundNames:\n",
    "    if prev == names[0]:\n",
    "        for i in range(len(fluxes[prev])):\n",
    "            if \"(reverse)\" in names[1]:\n",
    "                fluxes[prev][i] -= fluxesWithCaption[names[1]][i]\n",
    "            else:\n",
    "                fluxes[prev][i] += fluxesWithCaption[names[1]][i]\n",
    "    else:\n",
    "        prev = names[0]\n",
    "        fluxes[prev] = fluxesWithCaption[names[1]]"
   ]
  },
  {
   "cell_type": "code",
   "execution_count": 403,
   "id": "48525957-855d-4594-aa57-65f7c79f7ede",
   "metadata": {},
   "outputs": [],
   "source": [
    "with open('../../iJO1366.Central metabolism.json') as json_file:\n",
    "    data = json.load(json_file)\n",
    "    \n",
    "escherRxns = data[1]['reactions']\n",
    "escherNames = []\n",
    "\n",
    "for number in escherRxns:\n",
    "    reactionName = escherRxns[number]['name']\n",
    "    escherNames.append(reactionName.lower())"
   ]
  },
  {
   "cell_type": "code",
   "execution_count": 404,
   "id": "ba8bcb66-44bd-4cf5-adb2-ae89148dd688",
   "metadata": {},
   "outputs": [],
   "source": [
    "errors = []\n",
    "reactionDict = createDictFromName(fluxes.keys(), errors)"
   ]
  },
  {
   "cell_type": "code",
   "execution_count": 405,
   "id": "28867dac-c60b-482d-a478-40006fa80e2a",
   "metadata": {},
   "outputs": [
    {
     "name": "stdout",
     "output_type": "stream",
     "text": [
      "Stored 'reactionDict' (dict)\n"
     ]
    }
   ],
   "source": [
    "%store reactionDict"
   ]
  },
  {
   "cell_type": "code",
   "execution_count": 406,
   "id": "ed38f067-26c4-4426-938f-6b929f774162",
   "metadata": {},
   "outputs": [],
   "source": [
    "ECnames = {}\n",
    "\n",
    "for key in reactionDict.keys():\n",
    "    dicte = reactionDict[key]\n",
    "    names = []\n",
    "    \n",
    "    try:\n",
    "        temp = dicte['ptools-xml']['Reaction']['enzymatic-reaction']['Enzymatic-Reaction']\n",
    "        \n",
    "        if type(temp) is list:\n",
    "            for item in temp:\n",
    "                if item['common-name']['#text'] not in names:\n",
    "                    names.append(item['common-name']['#text'])\n",
    "        else:\n",
    "            names.append(dicte['ptools-xml']['Reaction']['enzymatic-reaction']['Enzymatic-Reaction']['common-name']['#text'])\n",
    "            \n",
    "    except Exception as e1:\n",
    "        try:\n",
    "            nest = dicte['ptools-xml']['Reaction']['in-pathway']['Reaction']['@resource']\n",
    "            temp = []\n",
    "            temp.append(nest)\n",
    "            new = createDictFromLink(temp, errors)\n",
    "            temp1 = new[temp[0]]['ptools-xml']['Reaction']['enzymatic-reaction']['Enzymatic-Reaction']\n",
    "            \n",
    "            if type(temp1) is list:\n",
    "                for item in temp1:\n",
    "                    if item['common-name']['#text'] not in names:\n",
    "                        names.append(item['common-name']['#text'])\n",
    "            else:\n",
    "                names.append(temp['common-name']['#text'])\n",
    "                \n",
    "        except Exception as e2:\n",
    "            errors.append((key, e1, e2))\n",
    "            \n",
    "    try:\n",
    "        temp = dicte['ptools-xml']['Reaction']['enzymatic-reaction']['Enzymatic-Reaction']\n",
    "        \n",
    "        if type(temp) is list:\n",
    "            for item in temp:\n",
    "                names += [x['#text'] for x in item['synonym']]\n",
    "        else:\n",
    "            names += [x['#text'] for x in temp['synonym']]\n",
    "            \n",
    "    except Exception as e1:\n",
    "        try:\n",
    "            temp = dicte['ptools-xml']['Reaction']['enzymatic-reaction']['Enzymatic-Reaction']\n",
    "        \n",
    "            if type(temp) is list:\n",
    "                for item in temp:\n",
    "                    names.append(item['synonym']['#text'])\n",
    "            else:\n",
    "                names.append(item['synonym']['#text'])\n",
    "        except Exception as e2:\n",
    "            errors.append((key, e1, e2))\n",
    "        \n",
    "    ECnames[key] = names\n",
    "    "
   ]
  },
  {
   "cell_type": "code",
   "execution_count": 407,
   "id": "fd5f625a-bf9b-4492-bed8-8f822a9577fb",
   "metadata": {},
   "outputs": [],
   "source": [
    "foundNames = {}\n",
    "\n",
    "for key in ECnames.keys():\n",
    "    names1 = ECnames[key]\n",
    "    for name in names1:\n",
    "        if name.lower() in escherNames:\n",
    "            foundNames[key] = name[0].upper() + name[1:]\n",
    "            break"
   ]
  },
  {
   "cell_type": "code",
   "execution_count": 408,
   "id": "d9b327fe-0eb3-44eb-8f1c-b4d8a9c309ca",
   "metadata": {},
   "outputs": [
    {
     "data": {
      "text/plain": [
       "{'1PFRUCTPHOSN-RXN': 'Phosphofructokinase',\n",
       " 'GLYCEROL-1-PHOSPHATASE-RXN': 'Glycerol-3-phosphatase',\n",
       " '3PGAREARR-RXN': 'Phosphoglycerate mutase',\n",
       " '1TRANSKETO-RXN': 'Transketolase',\n",
       " 'TRANSALDOL-RXN': 'Transaldolase',\n",
       " 'GLUC1PADENYLTRANS-RXN': 'Glucose-1-phosphate adenylyltransferase',\n",
       " '2PGADEHYDRAT-RXN': 'Enolase',\n",
       " 'MALATE-DEHYDROGENASE-ACCEPTOR-RXN': 'Malate dehydrogenase',\n",
       " 'PGLUCISOM-RXN': 'Glucose-6-phosphate isomerase',\n",
       " 'RXN-15513': 'Phosphoglycerate mutase',\n",
       " 'CITSYN-RXN': 'Citrate synthase',\n",
       " 'RIBOKIN-RXN': 'Ribokinase',\n",
       " 'DLACTDEHYDROGNAD-RXN': 'D-lactate dehydrogenase',\n",
       " 'METHGLYSYN-RXN': 'Methylglyoxal synthase',\n",
       " 'CATAL-RXN': 'Catalase',\n",
       " 'R601-RXN': 'Fumarate reductase',\n",
       " '2TRANSKETO-RXN': 'Transketolase',\n",
       " 'GAPOXNPHOSPHN-RXN': 'Glyceraldehyde-3-phosphate dehydrogenase',\n",
       " 'PYRUVDEH-RXN': 'Pyruvate dehydrogenase',\n",
       " 'GLYCOLATEDEHYDRO-RXN': 'Glycolate oxidase',\n",
       " 'XYLULOKIN-RXN': 'Xylulokinase',\n",
       " '6PGLUCONOLACT-RXN': '6-phosphogluconolactonase',\n",
       " 'GLUCOSE-1-PHOSPHAT-RXN': 'Glucose-1-phosphatase',\n",
       " 'ISOCIT-CLEAV-RXN': 'Isocitrate lyase',\n",
       " 'MALIC-NADP-RXN': 'Malate dehydrogenase',\n",
       " 'MALATE-DEH-RXN': 'Malate dehydrogenase',\n",
       " 'ACETALD-DEHYDROG-RXN': 'Acetaldehyde dehydrogenase (acetylating)',\n",
       " 'CITLY-RXN': 'Citrate lyase',\n",
       " 'PEPCARBOXYKIN-RXN': 'Phosphoenolpyruvate carboxylase',\n",
       " 'PHOSACETYLTRANS-RXN': 'Phosphotransacetylase',\n",
       " 'RXN-11496': 'Pyruvate oxidase',\n",
       " 'TRIOSEPISOMERIZATION-RXN': 'Triose-phosphate isomerase',\n",
       " 'RIB5PISOM-RXN': 'Ribose-5-phosphate isomerase',\n",
       " 'GLYCDEH-RXN': 'Glycerol dehydrogenase',\n",
       " 'RXN0-7362': 'Glucose-6-phosphate phosphatase',\n",
       " 'PEPCARBOX-RXN': 'Phosphoenolpyruvate carboxylase',\n",
       " 'XYLISOM-RXN': 'Xylose isomerase',\n",
       " 'SUPEROX-DISMUT-RXN': 'Superoxide dismutase',\n",
       " 'F16ALDOLASE-RXN': 'Fructose-bisphosphate aldolase',\n",
       " 'FUMHYDR-RXN': 'Fumarase',\n",
       " 'ACETATEKIN-RXN': 'Acetate kinase',\n",
       " 'GLYOXII-RXN': 'Hydroxyacylglutathione hydrolase',\n",
       " 'GLU6PDEHYDROG-RXN': 'Glucose 6-phosphate dehydrogenase',\n",
       " 'GLYCEROL-KIN-RXN': 'Glycerol kinase',\n",
       " 'GLYOXI-RXN': 'Lactoylglutathione lyase',\n",
       " 'RXN-9952': 'Phosphogluconate dehydrogenase',\n",
       " 'PEPSYNTH-RXN': 'Phosphoenolpyruvate synthase',\n",
       " 'PEPDEPHOS-RXN': 'Pyruvate kinase',\n",
       " 'PHOSGLYPHOS-RXN': 'Phosphoglycerate kinase',\n",
       " 'TRIPHOSPHATASE-RXN': 'Inorganic triphosphatase',\n",
       " 'OXALODECARB-RXN': 'Oxaloacetate decarboxylase',\n",
       " 'PGLUCONDEHYDRAT-RXN': '6-phosphogluconate dehydratase',\n",
       " 'PHOSPHOGLUCMUT-RXN': 'Phosphoglucomutase'}"
      ]
     },
     "execution_count": 408,
     "metadata": {},
     "output_type": "execute_result"
    }
   ],
   "source": [
    "foundNames"
   ]
  },
  {
   "cell_type": "code",
   "execution_count": 409,
   "id": "821dd53b-7ccf-412d-a907-3e7d452e76e2",
   "metadata": {},
   "outputs": [],
   "source": [
    "newFluxes = {}\n",
    "\n",
    "for key in fluxes.keys():\n",
    "    if key in foundNames.keys():\n",
    "        newFluxes[foundNames[key]] = fluxes[key][-1]"
   ]
  },
  {
   "cell_type": "code",
   "execution_count": 417,
   "id": "913ed578-9cdc-4b16-89da-5cf8747ea6f9",
   "metadata": {},
   "outputs": [],
   "source": [
    "additional = {'D-glucose transport via PEP:Pyr PTS': 0,\n",
    " 'FRUpts2': 0,\n",
    " 'Glucose-6-phosphate isomerase': -3665600,\n",
    " 'Phosphofructokinase': 0,\n",
    " 'Fructose-bisphosphatase': 38308,\n",
    " 'Fructose-bisphosphate aldolase': 385734,\n",
    " 'Triose-phosphate isomerase': 107701,\n",
    " 'Glyceraldehyde-3-phosphate dehydrogenase': 177895,\n",
    " 'Phosphoglycerate kinase': -711572,\n",
    " 'Phosphoglycerate mutase': 0,\n",
    " 'Phosphoglycerate mutase': -708632,\n",
    " 'Enolase': 177268,\n",
    " 'Pyruvate kinase': 0,\n",
    " 'Phosphoenolpyruvate synthase': 445971}"
   ]
  },
  {
   "cell_type": "code",
   "execution_count": 418,
   "id": "ad8fd4d5-4e42-4a7f-bc9c-9b33cd585661",
   "metadata": {},
   "outputs": [],
   "source": [
    "additional2 = {'D-glucose transport via PEP:Pyr PTS': 516124,\n",
    " 'FRUpts2': 0,\n",
    " 'Glucose-6-phosphate isomerase': 395206,\n",
    " 'Phosphofructokinase': 90275,\n",
    " 'Fructose-bisphosphatase': 9774,\n",
    " 'Fructose-bisphosphate aldolase': 151536,\n",
    " 'Triose-phosphate isomerase': -491270,\n",
    " 'Glyceraldehyde-3-phosphate dehydrogenase': 517023,\n",
    " 'Phosphoglycerate kinase': -1034042,\n",
    " 'Phosphoglycerate mutase': 0,\n",
    " 'Phosphoglycerate mutase': -1032508,\n",
    " 'Enolase': 516362,\n",
    " 'Pyruvate kinase': 0,\n",
    " 'Phosphoenolpyruvate synthase': 0}"
   ]
  },
  {
   "cell_type": "code",
   "execution_count": 425,
   "id": "37f05c11-ca67-4e99-970f-33ffbb467a27",
   "metadata": {},
   "outputs": [],
   "source": [
    "for x in additional2.keys():\n",
    "    newFluxes[x] = additional2[x]"
   ]
  },
  {
   "cell_type": "code",
   "execution_count": 426,
   "id": "fc78d7aa-59e5-41df-bfca-c30cbb6fb309",
   "metadata": {},
   "outputs": [
    {
     "data": {
      "text/plain": [
       "{'Phosphofructokinase': 90275,\n",
       " 'Glycerol-3-phosphatase': 0,\n",
       " 'Phosphoglycerate mutase': -1032508,\n",
       " 'Transketolase': 24877,\n",
       " 'Transaldolase': -128192,\n",
       " 'Glucose-1-phosphate adenylyltransferase': 9983,\n",
       " 'Enolase': 516362,\n",
       " 'Malate dehydrogenase': -383976,\n",
       " 'Glucose-6-phosphate isomerase': 395206,\n",
       " 'Citrate synthase': 30326,\n",
       " 'Ribokinase': 0,\n",
       " 'D-lactate dehydrogenase': 0,\n",
       " 'Methylglyoxal synthase': 187,\n",
       " 'Catalase': 70,\n",
       " 'Fumarate reductase': 22352,\n",
       " 'Glyceraldehyde-3-phosphate dehydrogenase': 517023,\n",
       " 'Pyruvate dehydrogenase': 0,\n",
       " 'Glycolate oxidase': 0,\n",
       " 'Xylulokinase': 0,\n",
       " '6-phosphogluconolactonase': 159683,\n",
       " 'Glucose-1-phosphatase': 753,\n",
       " 'Isocitrate lyase': -22785,\n",
       " 'Acetaldehyde dehydrogenase (acetylating)': 221,\n",
       " 'Citrate lyase': 0,\n",
       " 'Phosphoenolpyruvate carboxylase': 225749,\n",
       " 'Phosphotransacetylase': -17487,\n",
       " 'Pyruvate oxidase': 0,\n",
       " 'Triose-phosphate isomerase': -491270,\n",
       " 'Ribose-5-phosphate isomerase': -90935,\n",
       " 'Glycerol dehydrogenase': -12473,\n",
       " 'Glucose-6-phosphate phosphatase': 0,\n",
       " 'Xylose isomerase': 0,\n",
       " 'Superoxide dismutase': 0,\n",
       " 'Fructose-bisphosphate aldolase': 151536,\n",
       " 'Fumarase': 205524,\n",
       " 'Acetate kinase': 17648,\n",
       " 'Hydroxyacylglutathione hydrolase': 148,\n",
       " 'Glucose 6-phosphate dehydrogenase': 159683,\n",
       " 'Glycerol kinase': 12896,\n",
       " 'Lactoylglutathione lyase': 148,\n",
       " 'Phosphogluconate dehydrogenase': 159362,\n",
       " 'Phosphoenolpyruvate synthase': 0,\n",
       " 'Pyruvate kinase': 0,\n",
       " 'Phosphoglycerate kinase': -1034042,\n",
       " 'Inorganic triphosphatase': 0,\n",
       " 'Oxaloacetate decarboxylase': 0,\n",
       " '6-phosphogluconate dehydratase': 0,\n",
       " 'Phosphoglucomutase': -14116,\n",
       " 'D-glucose transport via PEP:Pyr PTS': 516124,\n",
       " 'FRUpts2': 0,\n",
       " 'Fructose-bisphosphatase': 9774}"
      ]
     },
     "execution_count": 426,
     "metadata": {},
     "output_type": "execute_result"
    }
   ],
   "source": [
    "newFluxes"
   ]
  },
  {
   "cell_type": "code",
   "execution_count": 427,
   "id": "ff0c056a-6d99-4c58-b150-e0fe526a7ed3",
   "metadata": {},
   "outputs": [
    {
     "data": {
      "text/plain": [
       "[{'organism': 'Saccharomyces cerevisiae',\n",
       "  'map_name': 'iMM904.Central carbon metabolism'},\n",
       " {'organism': 'Homo sapiens',\n",
       "  'map_name': 'RECON1.Inositol retinol metabolism'},\n",
       " {'organism': 'Homo sapiens', 'map_name': 'RECON1.Glycolysis TCA PPP'},\n",
       " {'organism': 'Homo sapiens', 'map_name': 'RECON1.Tryptophan metabolism'},\n",
       " {'organism': 'Homo sapiens', 'map_name': 'RECON1.Carbohydrate metabolism'},\n",
       " {'organism': 'Homo sapiens',\n",
       "  'map_name': 'RECON1.Amino acid metabolism (partial)'},\n",
       " {'organism': 'Escherichia coli', 'map_name': 'iJO1366.Nucleotide metabolism'},\n",
       " {'organism': 'Escherichia coli',\n",
       "  'map_name': 'iJO1366.Fatty acid biosynthesis (saturated)'},\n",
       " {'organism': 'Escherichia coli',\n",
       "  'map_name': 'iJO1366.Nucleotide and histidine biosynthesis'},\n",
       " {'organism': 'Escherichia coli', 'map_name': 'e_coli_core.Core metabolism'},\n",
       " {'organism': 'Escherichia coli', 'map_name': 'iJO1366.Central metabolism'},\n",
       " {'organism': 'Escherichia coli',\n",
       "  'map_name': 'iJO1366.Fatty acid beta-oxidation'}]"
      ]
     },
     "execution_count": 427,
     "metadata": {},
     "output_type": "execute_result"
    }
   ],
   "source": [
    "escher.list_available_maps()"
   ]
  },
  {
   "cell_type": "code",
   "execution_count": 428,
   "id": "f910ec4a-e8af-4c6e-8f58-9b485c17031a",
   "metadata": {},
   "outputs": [
    {
     "data": {
      "text/plain": [
       "[{'organism': 'Saccharomyces cerevisiae', 'model_name': 'iMM904'},\n",
       " {'organism': 'Homo sapiens', 'model_name': 'RECON1'},\n",
       " {'organism': 'Escherichia coli', 'model_name': 'e_coli_core'},\n",
       " {'organism': 'Escherichia coli', 'model_name': 'iJO1366'}]"
      ]
     },
     "execution_count": 428,
     "metadata": {},
     "output_type": "execute_result"
    }
   ],
   "source": [
    "escher.list_available_models()"
   ]
  },
  {
   "cell_type": "code",
   "execution_count": 429,
   "id": "de0ebbc0-2846-4c10-8782-fde11886323b",
   "metadata": {},
   "outputs": [
    {
     "name": "stdout",
     "output_type": "stream",
     "text": [
      "Downloading Map from https://escher.github.io/1-0-0/6/maps/Escherichia%20coli/e_coli_core.Core%20metabolism.json\n",
      "Downloading Model from https://escher.github.io/1-0-0/6/models/Escherichia%20coli/e_coli_core.json\n"
     ]
    }
   ],
   "source": [
    "builder = Builder(\n",
    "    map_name='e_coli_core.Core metabolism',\n",
    "    model_name='e_coli_core',\n",
    "    reaction_data={r: v for r, v in zip(newFluxes.keys(), newFluxes.values())},\n",
    ")"
   ]
  },
  {
   "cell_type": "code",
   "execution_count": 430,
   "id": "22edab43-e812-4e35-9ab8-e0547585e0fb",
   "metadata": {},
   "outputs": [
    {
     "data": {
      "application/vnd.jupyter.widget-view+json": {
       "model_id": "fea69e8b64ae412bb854a60da9c2abc1",
       "version_major": 2,
       "version_minor": 0
      },
      "text/plain": [
       "Builder(reaction_data={'Phosphofructokinase': 90275, 'Glycerol-3-phosphatase': 0, 'Phosphoglycerate mutase': -…"
      ]
     },
     "metadata": {},
     "output_type": "display_data"
    }
   ],
   "source": [
    "builder"
   ]
  },
  {
   "cell_type": "code",
   "execution_count": 347,
   "id": "aa4fd26a-e44c-475c-8fd6-cd10fed42682",
   "metadata": {},
   "outputs": [
    {
     "data": {
      "text/plain": [
       "['glucose-6-phosphate isomerase',\n",
       " 'phosphoglucose isomerase',\n",
       " 'D-glucose-6-phosphate-ketol-isomerase']"
      ]
     },
     "execution_count": 347,
     "metadata": {},
     "output_type": "execute_result"
    }
   ],
   "source": [
    "ECnames['PGLUCISOM-RXN']"
   ]
  },
  {
   "cell_type": "code",
   "execution_count": null,
   "id": "aee253e8-0124-4bf1-b82e-03916bfa87fd",
   "metadata": {},
   "outputs": [],
   "source": []
  },
  {
   "cell_type": "code",
   "execution_count": 331,
   "id": "8b7707fd-e719-4e11-ba89-9a0a868ea210",
   "metadata": {},
   "outputs": [
    {
     "data": {
      "text/plain": [
       "'glucose-6-phosphate isomerase'"
      ]
     },
     "execution_count": 331,
     "metadata": {},
     "output_type": "execute_result"
    }
   ],
   "source": [
    "reactionDict['PGLUCISOM-RXN']['ptools-xml']['Reaction']['enzymatic-reaction']['Enzymatic-Reaction'][0]['common-name']['#text']"
   ]
  },
  {
   "cell_type": "code",
   "execution_count": 332,
   "id": "d4d5688c-2fec-4154-ba07-deef17347914",
   "metadata": {},
   "outputs": [
    {
     "data": {
      "text/plain": [
       "'glucose-6-phosphate isomerase'"
      ]
     },
     "execution_count": 332,
     "metadata": {},
     "output_type": "execute_result"
    }
   ],
   "source": [
    "reactionDict['PGLUCISOM-RXN']['ptools-xml']['Reaction']['enzymatic-reaction']['Enzymatic-Reaction'][1]['common-name']['#text']"
   ]
  },
  {
   "cell_type": "code",
   "execution_count": 335,
   "id": "31ee749e-c964-479a-abca-964cebe71c25",
   "metadata": {},
   "outputs": [
    {
     "data": {
      "text/plain": [
       "[{'@datatype': 'string', '#text': 'phosphoglucose isomerase'},\n",
       " {'@datatype': 'string', '#text': 'D-glucose-6-phosphate-ketol-isomerase'}]"
      ]
     },
     "execution_count": 335,
     "metadata": {},
     "output_type": "execute_result"
    }
   ],
   "source": [
    "reactionDict['PGLUCISOM-RXN']['ptools-xml']['Reaction']['enzymatic-reaction']['Enzymatic-Reaction'][0]['synonym']"
   ]
  },
  {
   "cell_type": "code",
   "execution_count": 336,
   "id": "9b58675a-a340-44d6-8338-3236167d98a2",
   "metadata": {},
   "outputs": [
    {
     "ename": "SyntaxError",
     "evalue": "unexpected EOF while parsing (29049002.py, line 2)",
     "output_type": "error",
     "traceback": [
      "\u001b[0;36m  File \u001b[0;32m\"/tmp/ipykernel_264214/29049002.py\"\u001b[0;36m, line \u001b[0;32m2\u001b[0m\n\u001b[0;31m    for item in liste:\u001b[0m\n\u001b[0m                      ^\u001b[0m\n\u001b[0;31mSyntaxError\u001b[0m\u001b[0;31m:\u001b[0m unexpected EOF while parsing\n"
     ]
    }
   ],
   "source": [
    "def getNames(liste, names):\n",
    "    for item in liste:\n",
    "        if item['common-name']['#text'] not in names:\n",
    "            names.append(item['common-name']['#text'])\n",
    "    for item in liste:\n",
    "        names\n",
    "        "
   ]
  },
  {
   "cell_type": "code",
   "execution_count": 431,
   "id": "b4a25ff0-57bc-4183-babb-9295affabf0b",
   "metadata": {},
   "outputs": [],
   "source": [
    "np.save(\"glucoseReactionDict.npy\", reactionDict)"
   ]
  },
  {
   "cell_type": "code",
   "execution_count": null,
   "id": "403cb6df-e448-45e5-8200-f7cfa28658a3",
   "metadata": {},
   "outputs": [],
   "source": []
  }
 ],
 "metadata": {
  "kernelspec": {
   "display_name": "Python 3 (ipykernel)",
   "language": "python",
   "name": "python3"
  },
  "language_info": {
   "codemirror_mode": {
    "name": "ipython",
    "version": 3
   },
   "file_extension": ".py",
   "mimetype": "text/x-python",
   "name": "python",
   "nbconvert_exporter": "python",
   "pygments_lexer": "ipython3",
   "version": "3.8.7"
  }
 },
 "nbformat": 4,
 "nbformat_minor": 5
}
