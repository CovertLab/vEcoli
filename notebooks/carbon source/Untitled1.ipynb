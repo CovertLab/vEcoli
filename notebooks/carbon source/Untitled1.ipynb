{
 "cells": [
  {
   "cell_type": "code",
   "execution_count": 110,
   "id": "348de732-cb03-4581-9f5c-0ce82d127d3b",
   "metadata": {},
   "outputs": [],
   "source": [
    "import requests\n",
    "from xml.etree import ElementTree\n",
    "from collections import defaultdict\n",
    "import numpy as np\n",
    "import pandas as pd\n",
    "import statistics\n",
    "import math\n",
    "import seaborn as sns\n",
    "import matplotlib.pyplot as plt\n",
    "import ast\n",
    "import json\n",
    "import urllib.request\n",
    "import escher\n",
    "from escher import Builder\n",
    "import cobra\n",
    "import time\n",
    "from time import sleep"
   ]
  },
  {
   "cell_type": "code",
   "execution_count": 111,
   "id": "37275fee-f289-4d45-9b69-8575534657f3",
   "metadata": {},
   "outputs": [],
   "source": [
    "def etree_to_dict(t):\n",
    "    d = {t.tag: {} if t.attrib else None}\n",
    "    children = list(t)\n",
    "    if children:\n",
    "        dd = defaultdict(list)\n",
    "        for dc in map(etree_to_dict, children):\n",
    "            for k, v in dc.items():\n",
    "                dd[k].append(v)\n",
    "        d = {t.tag: {k: v[0] if len(v) == 1 else v\n",
    "                     for k, v in dd.items()}}\n",
    "    if t.attrib:\n",
    "        d[t.tag].update(('@' + k, v)\n",
    "                        for k, v in t.attrib.items())\n",
    "    if t.text:\n",
    "        text = t.text.strip()\n",
    "        if children or t.attrib:\n",
    "            if text:\n",
    "                d[t.tag]['#text'] = text\n",
    "        else:\n",
    "            d[t.tag] = text\n",
    "    return d"
   ]
  },
  {
   "cell_type": "code",
   "execution_count": 112,
   "id": "07734658-e3a8-4911-8984-7645eea44d45",
   "metadata": {},
   "outputs": [],
   "source": [
    "def createTree(link):\n",
    "    time.sleep(1)\n",
    "    response = requests.get(link)\n",
    "    tree = ElementTree.fromstring(response.content)\n",
    "    return tree"
   ]
  },
  {
   "cell_type": "code",
   "execution_count": 113,
   "id": "d6122985-ad04-449c-8d1e-9b872dedec5c",
   "metadata": {},
   "outputs": [],
   "source": [
    "def createDictFromName(complexList, errors):\n",
    "    result = []\n",
    "\n",
    "    for name in complexList:\n",
    "        try:\n",
    "            linkComplex = \"https://websvc.biocyc.org/getxml?id=ECOLI:\" + name\n",
    "            treeComplex = createTree(linkComplex)\n",
    "            treeDictComplex = etree_to_dict(treeComplex)\n",
    "            result.append((name, treeDictComplex))\n",
    "        except Exception as e:\n",
    "            errors.append((name, e))\n",
    "\n",
    "    return result"
   ]
  },
  {
   "cell_type": "code",
   "execution_count": 114,
   "id": "f46695b0-08f9-48ef-9894-02309c910073",
   "metadata": {},
   "outputs": [],
   "source": [
    "def checkAndReplaceCommonName(reaction, names):\n",
    "    e"
   ]
  },
  {
   "cell_type": "code",
   "execution_count": 115,
   "id": "2feb6fdf-6b89-44b3-a463-5bce0133322d",
   "metadata": {},
   "outputs": [],
   "source": [
    "def checkAndReplaceSynonyms(reactionList, names):\n",
    "    gh"
   ]
  },
  {
   "cell_type": "code",
   "execution_count": 116,
   "id": "4388cc03-d1a8-4399-9919-2de326676e61",
   "metadata": {},
   "outputs": [],
   "source": [
    "simData = np.load(r\"../../out/geneRxnVerifData/output.npy\", allow_pickle=True, encoding='ASCII')\n",
    "fluxesWithCaption = simData.tolist()['agents']['0']['listeners']['fba_results']['estimated_fluxes']\n",
    "complexes = simData.tolist()['agents']['0']['bulk']\n",
    "\n",
    "metabolData = np.load(r\"../../out/geneRxnVerifData/stoichiometry.npy\", allow_pickle=True, encoding='ASCII')\n",
    "rxn_metabolites = metabolData.tolist()"
   ]
  },
  {
   "cell_type": "code",
   "execution_count": 117,
   "id": "946d8588-7d38-4fba-a359-91f0d3da0aa1",
   "metadata": {},
   "outputs": [],
   "source": [
    "reactions = fluxesWithCaption.keys()"
   ]
  },
  {
   "cell_type": "code",
   "execution_count": 118,
   "id": "4d2f47c8-f0df-4c55-addb-290df321992e",
   "metadata": {},
   "outputs": [],
   "source": [
    "ecReactions = pd.read_csv('reactions.tsv', sep='\\t', header=0)['Reaction'].tolist()"
   ]
  },
  {
   "cell_type": "code",
   "execution_count": 119,
   "id": "770b80d3-a1cf-4e78-8f43-24868c566a9d",
   "metadata": {},
   "outputs": [],
   "source": [
    "foundNames = []\n",
    "notFound = []\n",
    "for rxn in ecReactions:\n",
    "    found = False\n",
    "    for key in fluxesWithCaption:\n",
    "        if rxn in key:\n",
    "            found = True\n",
    "            foundNames.append((rxn, key))\n",
    "    if not found:\n",
    "        notFound.append(rxn)"
   ]
  },
  {
   "cell_type": "code",
   "execution_count": 120,
   "id": "7ce11139-0c48-4ce5-b98d-8c046d533434",
   "metadata": {},
   "outputs": [],
   "source": [
    "prev = \"\"\n",
    "fluxes = {}\n",
    "for names in foundNames:\n",
    "    if prev == names[0]:\n",
    "        for i in range(len(fluxes[prev])):\n",
    "            if \"(reverse)\" in names[1]:\n",
    "                fluxes[prev][i] -= fluxesWithCaption[names[1]][i]\n",
    "            else:\n",
    "                fluxes[prev][i] += fluxesWithCaption[names[1]][i]\n",
    "    else:\n",
    "        prev = names[0]\n",
    "        fluxes[prev] = fluxesWithCaption[names[1]]"
   ]
  },
  {
   "cell_type": "code",
   "execution_count": 121,
   "id": "fc4cece9-0903-4868-855a-2764f963cd9e",
   "metadata": {},
   "outputs": [],
   "source": [
    "with open('../../iJO1366.Central metabolism.json') as json_file:\n",
    "    data = json.load(json_file)\n",
    "    \n",
    "escherRxns = data[1]['reactions']\n",
    "names = []\n",
    "\n",
    "for number in escherRxns:\n",
    "    reactionName = escherRxns[number]['name']\n",
    "    names.append(reactionName)"
   ]
  },
  {
   "cell_type": "code",
   "execution_count": 122,
   "id": "ba8bcb66-44bd-4cf5-adb2-ae89148dd688",
   "metadata": {},
   "outputs": [],
   "source": [
    "errors = []\n",
    "test = ['FADSYN-RXN']\n",
    "reactionDict = createDictFromName(test, errors)"
   ]
  },
  {
   "cell_type": "code",
   "execution_count": 123,
   "id": "18fd253a-8f01-4ffb-bb35-23dc9c4284ef",
   "metadata": {},
   "outputs": [
    {
     "data": {
      "text/plain": [
       "[('FADSYN-RXN',\n",
       "  {'ptools-xml': {'metadata': {'url': 'http://BioCyc.org/',\n",
       "     'service_name': 'getxml',\n",
       "     'query': 'ECOLI:FADSYN-RXN',\n",
       "     'num_results': '1',\n",
       "     'PGDB': {'species': {'@datatype': 'string', '#text': 'Escherichia coli'},\n",
       "      'strain': {'@datatype': 'string', '#text': 'K-12 substr. MG1655'},\n",
       "      'dblink': {'dblink-db': 'NCBI-TAXONOMY-DB',\n",
       "       'dblink-oid': '511145',\n",
       "       'dblink-relationship': 'unification',\n",
       "       'dblink-URL': 'http://www.ncbi.nlm.nih.gov/Taxonomy/Browser/wwwtax.cgi?mode=Info&id=511145'},\n",
       "      '@orgid': 'ECOLI',\n",
       "      '@version': '26.0'}},\n",
       "    'Reaction': {'parent': [{'Reaction': {'@resource': 'getxml?ECOLI:Chemical-Reactions',\n",
       "        '@orgid': 'ECOLI',\n",
       "        '@frameid': 'Chemical-Reactions',\n",
       "        '@class': 'true'}},\n",
       "      {'Reaction': {'@resource': 'getxml?ECOLI:Small-Molecule-Reactions',\n",
       "        '@orgid': 'ECOLI',\n",
       "        '@frameid': 'Small-Molecule-Reactions',\n",
       "        '@class': 'true'}}],\n",
       "     'physiologically-relevant': {'@datatype': 'boolean', '#text': 'true'},\n",
       "     'gibbs-0': {'@datatype': 'float',\n",
       "      '@units': 'kcal/mol',\n",
       "      '#text': '-54.05255'},\n",
       "     'in-pathway': {'Pathway': {'@resource': 'getxml?ECOLI:RIBOSYN2-PWY',\n",
       "       '@orgid': 'ECOLI',\n",
       "       '@frameid': 'RIBOSYN2-PWY'}},\n",
       "     'reaction-direction': 'REVERSIBLE',\n",
       "     'left': [{'Compound': {'@resource': 'getxml?ECOLI:FMN',\n",
       "        '@orgid': 'ECOLI',\n",
       "        '@frameid': 'FMN'}},\n",
       "      {'Compound': {'@resource': 'getxml?ECOLI:ATP',\n",
       "        '@orgid': 'ECOLI',\n",
       "        '@frameid': 'ATP'}},\n",
       "      {'Compound': {'@resource': 'getxml?ECOLI:PROTON',\n",
       "        '@orgid': 'ECOLI',\n",
       "        '@frameid': 'PROTON'}}],\n",
       "     'right': [{'Compound': {'@resource': 'getxml?ECOLI:FAD',\n",
       "        '@orgid': 'ECOLI',\n",
       "        '@frameid': 'FAD'}},\n",
       "      {'Compound': {'@resource': 'getxml?ECOLI:PPI',\n",
       "        '@orgid': 'ECOLI',\n",
       "        '@frameid': 'PPI'}}],\n",
       "     'comment': {'@datatype': 'string',\n",
       "      '#text': 'This reaction produces FAD from FMN.'},\n",
       "     'ec-number': {'official': 'T', '#text': 'EC-2.7.7.2'},\n",
       "     'enzymatic-reaction': {'Enzymatic-Reaction': {'reaction': {'Reaction': {'@resource': '#ECOLI:FADSYN-RXN',\n",
       "         '@orgid': 'ECOLI',\n",
       "         '@frameid': 'FADSYN-RXN'}},\n",
       "       'common-name': {'@datatype': 'string',\n",
       "        '#text': 'FMN adenylyltransferase'},\n",
       "       'synonym': [{'@datatype': 'string', '#text': 'FAD pyrophosphorylase'},\n",
       "        {'@datatype': 'string', '#text': 'ATP:FMN adenylyltransferase'},\n",
       "        {'@datatype': 'string', '#text': 'FAD synthetase'}],\n",
       "       'enzyme': {'Protein': {'@resource': 'getxml?ECOLI:RIBF-MONOMER',\n",
       "         '@orgid': 'ECOLI',\n",
       "         '@frameid': 'RIBF-MONOMER'}},\n",
       "       '@ID': 'ECOLI:FADSYN-ENZRXN',\n",
       "       '@orgid': 'ECOLI',\n",
       "       '@frameid': 'FADSYN-ENZRXN',\n",
       "       '@detail': 'low'}},\n",
       "     '@ID': 'ECOLI:FADSYN-RXN',\n",
       "     '@orgid': 'ECOLI',\n",
       "     '@frameid': 'FADSYN-RXN',\n",
       "     '@detail': 'full'},\n",
       "    '@ptools-version': '26.0',\n",
       "    '@{http://www.w3.org/XML/1998/namespace}base': 'http://BioCyc.org/getxml?ECOLI:FADSYN-RXN'}})]"
      ]
     },
     "execution_count": 123,
     "metadata": {},
     "output_type": "execute_result"
    }
   ],
   "source": [
    "reactionDict"
   ]
  },
  {
   "cell_type": "code",
   "execution_count": null,
   "id": "bce78caf-b3da-4032-bb74-0247840ef309",
   "metadata": {},
   "outputs": [],
   "source": [
    "commonName = reactionDict['FADSYN-RXN']['ptools-xml']['metadata']"
   ]
  },
  {
   "cell_type": "code",
   "execution_count": null,
   "id": "6180abb3-cb7a-4784-b606-853b8fb6b250",
   "metadata": {},
   "outputs": [],
   "source": []
  }
 ],
 "metadata": {
  "kernelspec": {
   "display_name": "Python 3 (ipykernel)",
   "language": "python",
   "name": "python3"
  },
  "language_info": {
   "codemirror_mode": {
    "name": "ipython",
    "version": 3
   },
   "file_extension": ".py",
   "mimetype": "text/x-python",
   "name": "python",
   "nbconvert_exporter": "python",
   "pygments_lexer": "ipython3",
   "version": "3.8.7"
  }
 },
 "nbformat": 4,
 "nbformat_minor": 5
}
