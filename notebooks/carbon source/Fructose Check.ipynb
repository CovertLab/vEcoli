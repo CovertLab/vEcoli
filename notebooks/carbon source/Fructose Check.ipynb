{
 "cells": [
  {
   "cell_type": "code",
   "execution_count": 20,
   "id": "fe3975c4-e53b-4101-9443-67df97bd1d14",
   "metadata": {},
   "outputs": [],
   "source": [
    "import numpy as np\n",
    "import pandas as pd\n",
    "import statistics\n",
    "import math\n",
    "import seaborn as sns\n",
    "import matplotlib.pyplot as plt\n",
    "import ast"
   ]
  },
  {
   "cell_type": "code",
   "execution_count": 21,
   "id": "d01dbcb5-877b-46f9-aeb4-16c6be60a010",
   "metadata": {},
   "outputs": [],
   "source": [
    "simData = np.load(r\"../../out/geneRxnVerifData/output.npy\", allow_pickle=True, encoding='ASCII')"
   ]
  },
  {
   "cell_type": "code",
   "execution_count": 22,
   "id": "ebc6dad9-f30b-41e3-8ef9-6668d63dfce8",
   "metadata": {},
   "outputs": [
    {
     "data": {
      "text/plain": [
       "dict_keys(['ACET[p]', 'AMMONIUM[c]', 'BETAINE[p]', 'BUTANAL[c]', 'CA+2[p]', 'CARBON-DIOXIDE[p]', 'CARBON-MONOXIDE[p]', 'CH33ADO[c]', 'CL-[p]', 'CO+2[p]', 'CPD-10774[p]', 'CPD-108[p]', 'CPD-1772[c]', 'CPD-239[p]', 'CPD-534[p]', 'CPD-560[p]', 'CPD-564[c]', 'CPD0-2167[c]', 'D-ALANINE[p]', 'D-LACTATE[p]', 'ETOH[p]', 'FE+2[p]', 'FORMATE[p]', 'GLC[p]', 'GLYCEROL[p]', 'GLYCOLALDEHYDE[c]', 'GLYCOLLATE[c]', 'HYDROGEN-MOLECULE[c]', 'HYPOXANTHINE[p]', 'INDOLE[p]', 'K+[p]', 'L-SELENOCYSTEINE[c]', 'METOH[p]', 'MG+2[p]', 'MI-PENTAKISPHOSPHATE[p]', 'MN+2[p]', 'NA+[p]', 'NI+2[p]', 'OXYGEN-MOLECULE[p]', 'PROTON[p]', 'Pi[p]', 'S-ADENOSYL-4-METHYLTHIO-2-OXOBUTANOATE[c]', 'SUC[p]', 'SULFATE[p]', 'THYMINE[p]', 'UNDECAPRENYL-DIPHOSPHATE[p]', 'URACIL[p]', 'UREA[p]', 'WATER[p]', 'XANTHINE[p]', 'ZN+2[p]'])"
      ]
     },
     "execution_count": 22,
     "metadata": {},
     "output_type": "execute_result"
    }
   ],
   "source": [
    "simData.tolist()['agents']['0']['listeners']['fba_results']['estimated_exchange_dmdt'].keys()"
   ]
  },
  {
   "cell_type": "code",
   "execution_count": null,
   "id": "c5db20ac-fdb6-41ea-be0f-3abec651ec3c",
   "metadata": {},
   "outputs": [],
   "source": []
  }
 ],
 "metadata": {
  "kernelspec": {
   "display_name": "Python 3 (ipykernel)",
   "language": "python",
   "name": "python3"
  },
  "language_info": {
   "codemirror_mode": {
    "name": "ipython",
    "version": 3
   },
   "file_extension": ".py",
   "mimetype": "text/x-python",
   "name": "python",
   "nbconvert_exporter": "python",
   "pygments_lexer": "ipython3",
   "version": "3.8.7"
  }
 },
 "nbformat": 4,
 "nbformat_minor": 5
}
