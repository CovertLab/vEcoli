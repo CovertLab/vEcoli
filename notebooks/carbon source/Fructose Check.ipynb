{
 "cells": [
  {
   "cell_type": "code",
   "execution_count": null,
   "id": "fe3975c4-e53b-4101-9443-67df97bd1d14",
   "metadata": {},
   "outputs": [],
   "source": [
    "import numpy as np\n",
    "import pandas as pd\n",
    "import statistics\n",
    "import math\n",
    "import seaborn as sns\n",
    "import matplotlib.pyplot as plt\n",
    "import ast"
   ]
  },
  {
   "cell_type": "code",
   "execution_count": null,
   "id": "d01dbcb5-877b-46f9-aeb4-16c6be60a010",
   "metadata": {},
   "outputs": [],
   "source": [
    "simData = np.load(r\"../../out/geneRxnVerifData/output.npy\", allow_pickle=True, encoding='ASCII')"
   ]
  },
  {
   "cell_type": "code",
   "execution_count": null,
   "id": "ebc6dad9-f30b-41e3-8ef9-6668d63dfce8",
   "metadata": {},
   "outputs": [],
   "source": [
    "x = simData.tolist()['agents']['0']['listeners']['fba_results']['estimated_exchange_dmdt']"
   ]
  },
  {
   "cell_type": "code",
   "execution_count": null,
   "id": "c5db20ac-fdb6-41ea-be0f-3abec651ec3c",
   "metadata": {},
   "outputs": [],
   "source": [
    "df = pd.DataFrame.from_dict(x, orient='index')"
   ]
  },
  {
   "cell_type": "code",
   "execution_count": null,
   "id": "28a33d8e-c37b-43ac-b596-df399b5a326b",
   "metadata": {},
   "outputs": [],
   "source": [
    "values = df.iloc[:, 29].tolist()"
   ]
  },
  {
   "cell_type": "code",
   "execution_count": null,
   "id": "c568beab-20fe-4a7f-a9f4-858e25041a2b",
   "metadata": {},
   "outputs": [],
   "source": [
    "y = {}\n",
    "liste = list(x.keys())\n",
    "for i in range(len(liste)):\n",
    "    if abs(values[i]) >= 1000:\n",
    "        y[liste[i]] = values[i]"
   ]
  },
  {
   "cell_type": "code",
   "execution_count": null,
   "id": "1fb44d0b-6bda-4e06-99ad-ba5f8bbeaad3",
   "metadata": {},
   "outputs": [],
   "source": [
    "df1 = pd.DataFrame.from_dict(y, orient='index')"
   ]
  },
  {
   "cell_type": "code",
   "execution_count": null,
   "id": "0b1b3cdb-01a6-4a90-8792-c6402f888394",
   "metadata": {},
   "outputs": [],
   "source": [
    "df1.plot.bar()"
   ]
  }
 ],
 "metadata": {
  "kernelspec": {
   "display_name": "Python 3 (ipykernel)",
   "language": "python",
   "name": "python3"
  },
  "language_info": {
   "codemirror_mode": {
    "name": "ipython",
    "version": 3
   },
   "file_extension": ".py",
   "mimetype": "text/x-python",
   "name": "python",
   "nbconvert_exporter": "python",
   "pygments_lexer": "ipython3",
   "version": "3.8.7"
  }
 },
 "nbformat": 4,
 "nbformat_minor": 5
}
