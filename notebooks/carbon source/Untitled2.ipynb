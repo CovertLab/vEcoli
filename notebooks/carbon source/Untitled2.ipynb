{
 "cells": [
  {
   "cell_type": "code",
   "execution_count": 2,
   "id": "07539e2b-8c0e-4992-968f-ee88ba193487",
   "metadata": {},
   "outputs": [],
   "source": [
    "import numpy as np"
   ]
  },
  {
   "cell_type": "code",
   "execution_count": 5,
   "id": "b47b635c-a04c-40a3-ac45-cd3cb6ead503",
   "metadata": {},
   "outputs": [
    {
     "data": {
      "text/plain": [
       "{'ACETYLORNTRANSAM-RXN (reverse)',\n",
       " 'ASPAMINOTRANS-RXN (reverse)',\n",
       " 'ASPARTATE-SEMIALDEHYDE-DEHYDROGENASE-RXN (reverse)',\n",
       " 'ASPARTATEKIN-RXN',\n",
       " 'GAPOXNPHOSPHN-RXN',\n",
       " 'GLU6PDEHYDROG-RXN-GLC-6-P/NADP//D-6-P-GLUCONO-DELTA-LACTONE/NADPH/PROTON.55.',\n",
       " 'INOPHOSPHOR-RXN__DEOD-CPLX',\n",
       " 'ISOCITDEH-RXN',\n",
       " 'PEPCARBOX-RXN (reverse)',\n",
       " 'PPENTOMUT-RXN-RIBOSE-1P//CPD-15318.21. (reverse)',\n",
       " 'PYFLAVOXRE-RXN (reverse)',\n",
       " 'PYRUVDEH-RXN',\n",
       " 'RXN-9952',\n",
       " 'RXN0-3921',\n",
       " 'RXN0-704',\n",
       " 'THREODEHYD-RXN',\n",
       " 'THRESYN-RXN'}"
      ]
     },
     "execution_count": 5,
     "metadata": {},
     "output_type": "execute_result"
    }
   ],
   "source": [
    "np.load(\"10thLevelCarbonReactions.npy\", allow_pickle=True).tolist()"
   ]
  },
  {
   "cell_type": "code",
   "execution_count": null,
   "id": "81a90fba-bd92-46db-904f-5932766b5c83",
   "metadata": {},
   "outputs": [],
   "source": []
  }
 ],
 "metadata": {
  "kernelspec": {
   "display_name": "Python 3 (ipykernel)",
   "language": "python",
   "name": "python3"
  },
  "language_info": {
   "codemirror_mode": {
    "name": "ipython",
    "version": 3
   },
   "file_extension": ".py",
   "mimetype": "text/x-python",
   "name": "python",
   "nbconvert_exporter": "python",
   "pygments_lexer": "ipython3",
   "version": "3.8.7"
  }
 },
 "nbformat": 4,
 "nbformat_minor": 5
}
