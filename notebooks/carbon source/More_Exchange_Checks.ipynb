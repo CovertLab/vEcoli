{
 "cells": [
  {
   "cell_type": "code",
   "execution_count": 40,
   "id": "418c038a-2d05-4672-8eb1-3862b39c60ba",
   "metadata": {},
   "outputs": [],
   "source": [
    "import numpy as np\n",
    "import pandas as pd\n",
    "import statistics\n",
    "import math\n",
    "import seaborn as sns\n",
    "import matplotlib.pyplot as plt\n",
    "import ast\n",
    "\n",
    "sns.set(style='darkgrid', palette='viridis', context='talk')"
   ]
  },
  {
   "cell_type": "code",
   "execution_count": 41,
   "id": "aa5b0757-9e45-47e4-85f3-e5b04377edba",
   "metadata": {},
   "outputs": [],
   "source": [
    "simData = np.load(r\"../../out/geneRxnVerifData/output.npy\", allow_pickle=True, encoding='ASCII')\n",
    "# simData = np.load(r\"../../out/geneRxnVerifData/output_glc.npy\", allow_pickle=True, encoding='ASCII')"
   ]
  },
  {
   "cell_type": "code",
   "execution_count": 42,
   "id": "1e457ebb-3630-4c50-9c08-d9b920186194",
   "metadata": {},
   "outputs": [],
   "source": [
    "metabolites = simData.tolist()['agents']['0']['bulk']"
   ]
  },
  {
   "cell_type": "code",
   "execution_count": 50,
   "id": "d67a19db-ebd0-43a6-8f12-689158081f49",
   "metadata": {},
   "outputs": [],
   "source": [
    "want = {}\n",
    "for key in metabolites:\n",
    "    amounts = metabolites[key]\n",
    "    mean = np.mean(amounts)\n",
    "    if mean > 1000000:\n",
    "        want[key] = amounts"
   ]
  },
  {
   "cell_type": "code",
   "execution_count": null,
   "id": "891824ab-c322-4d83-b315-2b39b4119b8a",
   "metadata": {},
   "outputs": [],
   "source": []
  }
 ],
 "metadata": {
  "kernelspec": {
   "display_name": "Python 3 (ipykernel)",
   "language": "python",
   "name": "python3"
  },
  "language_info": {
   "codemirror_mode": {
    "name": "ipython",
    "version": 3
   },
   "file_extension": ".py",
   "mimetype": "text/x-python",
   "name": "python",
   "nbconvert_exporter": "python",
   "pygments_lexer": "ipython3",
   "version": "3.8.5"
  }
 },
 "nbformat": 4,
 "nbformat_minor": 5
}
