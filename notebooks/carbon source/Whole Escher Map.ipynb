{
 "cells": [
  {
   "cell_type": "code",
   "execution_count": 1,
   "id": "348de732-cb03-4581-9f5c-0ce82d127d3b",
   "metadata": {},
   "outputs": [],
   "source": [
    "import requests\n",
    "from xml.etree import ElementTree\n",
    "from collections import defaultdict\n",
    "import numpy as np\n",
    "import pandas as pd\n",
    "import statistics\n",
    "import math\n",
    "import seaborn as sns\n",
    "import matplotlib.pyplot as plt\n",
    "import ast\n",
    "import json\n",
    "import urllib.request\n",
    "import escher\n",
    "from escher import Builder\n",
    "import cobra\n",
    "import time\n",
    "from time import sleep"
   ]
  },
  {
   "cell_type": "code",
   "execution_count": 2,
   "id": "37275fee-f289-4d45-9b69-8575534657f3",
   "metadata": {},
   "outputs": [],
   "source": [
    "def etree_to_dict(t):\n",
    "    d = {t.tag: {} if t.attrib else None}\n",
    "    children = list(t)\n",
    "    if children:\n",
    "        dd = defaultdict(list)\n",
    "        for dc in map(etree_to_dict, children):\n",
    "            for k, v in dc.items():\n",
    "                dd[k].append(v)\n",
    "        d = {t.tag: {k: v[0] if len(v) == 1 else v\n",
    "                     for k, v in dd.items()}}\n",
    "    if t.attrib:\n",
    "        d[t.tag].update(('@' + k, v)\n",
    "                        for k, v in t.attrib.items())\n",
    "    if t.text:\n",
    "        text = t.text.strip()\n",
    "        if children or t.attrib:\n",
    "            if text:\n",
    "                d[t.tag]['#text'] = text\n",
    "        else:\n",
    "            d[t.tag] = text\n",
    "    return d"
   ]
  },
  {
   "cell_type": "code",
   "execution_count": 3,
   "id": "07734658-e3a8-4911-8984-7645eea44d45",
   "metadata": {},
   "outputs": [],
   "source": [
    "def createTree(link):\n",
    "    time.sleep(1)\n",
    "    response = requests.get(link)\n",
    "    tree = ElementTree.fromstring(response.content)\n",
    "    return tree"
   ]
  },
  {
   "cell_type": "code",
   "execution_count": 4,
   "id": "d6122985-ad04-449c-8d1e-9b872dedec5c",
   "metadata": {},
   "outputs": [],
   "source": [
    "def createDictFromName(complexList, errors):\n",
    "    result = {}\n",
    "\n",
    "    for name in complexList:\n",
    "        try:\n",
    "            linkComplex = \"https://websvc.biocyc.org/getxml?id=ECOLI:\" + name\n",
    "            treeComplex = createTree(linkComplex)\n",
    "            treeDictComplex = etree_to_dict(treeComplex)\n",
    "            result[name] = treeDictComplex\n",
    "        except Exception as e:\n",
    "            errors.append((name, e))\n",
    "\n",
    "    return result"
   ]
  },
  {
   "cell_type": "code",
   "execution_count": 5,
   "id": "168f3ecb-4e2b-41ff-a1f3-865d71384c52",
   "metadata": {},
   "outputs": [],
   "source": [
    "def createDictFromLink(complexList, errors):\n",
    "    result = {}\n",
    "\n",
    "    for name in complexList:\n",
    "        try:\n",
    "            linkComplex = \"https://websvc.biocyc.org/\" + name\n",
    "            treeComplex = createTree(linkComplex)\n",
    "            treeDictComplex = etree_to_dict(treeComplex)\n",
    "            result[name] = treeDictComplex\n",
    "        except Exception as e:\n",
    "            errors.append((name, e))\n",
    "\n",
    "    return result"
   ]
  },
  {
   "cell_type": "code",
   "execution_count": 6,
   "id": "4388cc03-d1a8-4399-9919-2de326676e61",
   "metadata": {},
   "outputs": [],
   "source": [
    "simData = np.load(r\"../../out/geneRxnVerifData/output.npy\", allow_pickle=True, encoding='ASCII')\n",
    "fluxesWithCaption = simData.tolist()['agents']['0']['listeners']['fba_results']['estimated_fluxes']\n",
    "complexes = simData.tolist()['agents']['0']['bulk']\n",
    "\n",
    "metabolData = np.load(r\"../../out/geneRxnVerifData/stoichiometry.npy\", allow_pickle=True, encoding='ASCII')\n",
    "rxn_metabolites = metabolData.tolist()"
   ]
  },
  {
   "cell_type": "code",
   "execution_count": 7,
   "id": "946d8588-7d38-4fba-a359-91f0d3da0aa1",
   "metadata": {},
   "outputs": [],
   "source": [
    "reactions = fluxesWithCaption.keys()"
   ]
  },
  {
   "cell_type": "code",
   "execution_count": 8,
   "id": "4d2f47c8-f0df-4c55-addb-290df321992e",
   "metadata": {},
   "outputs": [],
   "source": [
    "ecReactions = pd.read_csv('reactions.tsv', sep='\\t', header=0)['Reaction'].tolist()"
   ]
  },
  {
   "cell_type": "code",
   "execution_count": 9,
   "id": "770b80d3-a1cf-4e78-8f43-24868c566a9d",
   "metadata": {},
   "outputs": [],
   "source": [
    "foundNames = []\n",
    "notFound = []\n",
    "for rxn in ecReactions:\n",
    "    found = False\n",
    "    for key in fluxesWithCaption:\n",
    "        if rxn in key:\n",
    "            found = True\n",
    "            foundNames.append((rxn, key))\n",
    "    if not found:\n",
    "        notFound.append(rxn)"
   ]
  },
  {
   "cell_type": "code",
   "execution_count": 10,
   "id": "7ce11139-0c48-4ce5-b98d-8c046d533434",
   "metadata": {},
   "outputs": [],
   "source": [
    "prev = \"\"\n",
    "fluxes = {}\n",
    "for names in foundNames:\n",
    "    if prev == names[0]:\n",
    "        for i in range(len(fluxes[prev])):\n",
    "            if \"(reverse)\" in names[1]:\n",
    "                fluxes[prev][i] -= fluxesWithCaption[names[1]][i]\n",
    "            else:\n",
    "                fluxes[prev][i] += fluxesWithCaption[names[1]][i]\n",
    "    else:\n",
    "        prev = names[0]\n",
    "        fluxes[prev] = fluxesWithCaption[names[1]]"
   ]
  },
  {
   "cell_type": "code",
   "execution_count": 11,
   "id": "48525957-855d-4594-aa57-65f7c79f7ede",
   "metadata": {},
   "outputs": [],
   "source": [
    "with open('../../iJO1366.Central metabolism.json') as json_file:\n",
    "    data = json.load(json_file)\n",
    "    \n",
    "escherRxns = data[1]['reactions']\n",
    "escherNames = []\n",
    "\n",
    "for number in escherRxns:\n",
    "    reactionName = escherRxns[number]['name']\n",
    "    escherNames.append(reactionName.lower())"
   ]
  },
  {
   "cell_type": "code",
   "execution_count": 17,
   "id": "ba8bcb66-44bd-4cf5-adb2-ae89148dd688",
   "metadata": {},
   "outputs": [],
   "source": [
    "errors = []"
   ]
  },
  {
   "cell_type": "code",
   "execution_count": 13,
   "id": "2f447a7e-a37f-4cdc-a7b9-6af65516534d",
   "metadata": {},
   "outputs": [],
   "source": [
    "reactionDict = np.load(\"acetateReactionDict.npy\", allow_pickle=True).tolist()"
   ]
  },
  {
   "cell_type": "code",
   "execution_count": 16,
   "id": "d5782441-849b-49c5-8611-f6e8790f11e0",
   "metadata": {},
   "outputs": [
    {
     "data": {
      "text/plain": [
       "1720"
      ]
     },
     "execution_count": 16,
     "metadata": {},
     "output_type": "execute_result"
    }
   ],
   "source": [
    "len(reactionDict.keys())"
   ]
  },
  {
   "cell_type": "raw",
   "id": "3b381f53-0dea-42ad-ad7d-ac95c117b98a",
   "metadata": {},
   "source": [
    "reactionDict = np.load(\"fructoseReactionDict.npy\", allow_pickle=True).tolist()"
   ]
  },
  {
   "cell_type": "markdown",
   "id": "91308e9f-1023-46f5-b6e5-ea9a7f4317b7",
   "metadata": {},
   "source": [
    "reactionDict = np.load(\"glucoseReactionDict.npy\", allow_pickle=True).tolist()"
   ]
  },
  {
   "cell_type": "code",
   "execution_count": 31,
   "id": "ed38f067-26c4-4426-938f-6b929f774162",
   "metadata": {},
   "outputs": [],
   "source": [
    "ECnames = {}\n",
    "\n",
    "for key in reactionDict.keys():\n",
    "    dicte = reactionDict[key]\n",
    "    names = []\n",
    "    \n",
    "    try:\n",
    "        temp = dicte['ptools-xml']['Reaction']['enzymatic-reaction']['Enzymatic-Reaction']\n",
    "        \n",
    "        if type(temp) is list:\n",
    "            for item in temp:\n",
    "                if item['common-name']['#text'] not in names:\n",
    "                    names.append(item['common-name']['#text'])\n",
    "        else:\n",
    "            names.append(dicte['ptools-xml']['Reaction']['enzymatic-reaction']['Enzymatic-Reaction']['common-name']['#text'])\n",
    "            \n",
    "    except Exception as e1:\n",
    "        try:\n",
    "            nest = dicte['ptools-xml']['Reaction']['in-pathway']['Reaction']['@resource']\n",
    "            temp = []\n",
    "            temp.append(nest)\n",
    "            new = createDictFromLink(temp, errors)\n",
    "            temp1 = new[temp[0]]['ptools-xml']['Reaction']['enzymatic-reaction']['Enzymatic-Reaction']\n",
    "            \n",
    "            if type(temp1) is list:\n",
    "                for item in temp1:\n",
    "                    if item['common-name']['#text'] not in names:\n",
    "                        names.append(item['common-name']['#text'])\n",
    "            else:\n",
    "                names.append(temp['common-name']['#text'])\n",
    "                \n",
    "        except Exception as e2:\n",
    "            errors.append((key, e1, e2))\n",
    "            \n",
    "    try:\n",
    "        temp = dicte['ptools-xml']['Reaction']['enzymatic-reaction']['Enzymatic-Reaction']\n",
    "        \n",
    "        if type(temp) is list:\n",
    "            for item in temp:\n",
    "                names += [x['#text'] for x in item['synonym']]\n",
    "        else:\n",
    "            names += [x['#text'] for x in temp['synonym']]\n",
    "            \n",
    "    except Exception as e1:\n",
    "        try:\n",
    "            temp = dicte['ptools-xml']['Reaction']['enzymatic-reaction']['Enzymatic-Reaction']\n",
    "        \n",
    "            if type(temp) is list:\n",
    "                for item in temp:\n",
    "                    names.append(item['synonym']['#text'])\n",
    "            else:\n",
    "                names.append(item['synonym']['#text'])\n",
    "        except Exception as e2:\n",
    "            errors.append((key, e1, e2))\n",
    "        \n",
    "    ECnames[key] = names\n",
    "    "
   ]
  },
  {
   "cell_type": "code",
   "execution_count": 32,
   "id": "fd5f625a-bf9b-4492-bed8-8f822a9577fb",
   "metadata": {},
   "outputs": [],
   "source": [
    "foundNames = {}\n",
    "\n",
    "for key in ECnames.keys():\n",
    "    names1 = ECnames[key]\n",
    "    for name in names1:\n",
    "        if name.lower() in escherNames:\n",
    "            foundNames[key] = name[0].upper() + name[1:]\n",
    "            break"
   ]
  },
  {
   "cell_type": "code",
   "execution_count": 62,
   "id": "d9b327fe-0eb3-44eb-8f1c-b4d8a9c309ca",
   "metadata": {},
   "outputs": [
    {
     "data": {
      "text/plain": [
       "{'1PFRUCTPHOSN-RXN': 'Phosphofructokinase',\n",
       " 'GLYCEROL-1-PHOSPHATASE-RXN': 'Glycerol-3-phosphatase',\n",
       " '3PGAREARR-RXN': 'Phosphoglycerate mutase',\n",
       " '1TRANSKETO-RXN': 'Transketolase',\n",
       " 'TRANSALDOL-RXN': 'Transaldolase',\n",
       " 'GLUC1PADENYLTRANS-RXN': 'Glucose-1-phosphate adenylyltransferase',\n",
       " '2PGADEHYDRAT-RXN': 'Enolase',\n",
       " 'MALATE-DEHYDROGENASE-ACCEPTOR-RXN': 'Malate dehydrogenase',\n",
       " 'PGLUCISOM-RXN': 'Glucose-6-phosphate isomerase',\n",
       " 'RXN-15513': 'Phosphoglycerate mutase',\n",
       " 'CITSYN-RXN': 'Citrate synthase',\n",
       " 'RIBOKIN-RXN': 'Ribokinase',\n",
       " 'DLACTDEHYDROGNAD-RXN': 'D-lactate dehydrogenase',\n",
       " 'METHGLYSYN-RXN': 'Methylglyoxal synthase',\n",
       " 'CATAL-RXN': 'Catalase',\n",
       " 'R601-RXN': 'Fumarate reductase',\n",
       " '2TRANSKETO-RXN': 'Transketolase',\n",
       " 'GAPOXNPHOSPHN-RXN': 'Glyceraldehyde-3-phosphate dehydrogenase',\n",
       " 'PYRUVDEH-RXN': 'Pyruvate dehydrogenase',\n",
       " 'GLYCOLATEDEHYDRO-RXN': 'Glycolate oxidase',\n",
       " 'XYLULOKIN-RXN': 'Xylulokinase',\n",
       " '6PGLUCONOLACT-RXN': '6-phosphogluconolactonase',\n",
       " 'GLUCOSE-1-PHOSPHAT-RXN': 'Glucose-1-phosphatase',\n",
       " 'ISOCIT-CLEAV-RXN': 'Isocitrate lyase',\n",
       " 'MALIC-NADP-RXN': 'Malate dehydrogenase',\n",
       " 'MALATE-DEH-RXN': 'Malate dehydrogenase',\n",
       " 'ACETALD-DEHYDROG-RXN': 'Acetaldehyde dehydrogenase (acetylating)',\n",
       " 'CITLY-RXN': 'Citrate lyase',\n",
       " 'PEPCARBOXYKIN-RXN': 'Phosphoenolpyruvate carboxylase',\n",
       " 'PHOSACETYLTRANS-RXN': 'Phosphotransacetylase',\n",
       " 'RXN-11496': 'Pyruvate oxidase',\n",
       " 'TRIOSEPISOMERIZATION-RXN': 'Triose-phosphate isomerase',\n",
       " 'RIB5PISOM-RXN': 'Ribose-5-phosphate isomerase',\n",
       " 'GLYCDEH-RXN': 'Glycerol dehydrogenase',\n",
       " 'RXN0-7362': 'Glucose-6-phosphate phosphatase',\n",
       " 'PEPCARBOX-RXN': 'Phosphoenolpyruvate carboxylase',\n",
       " 'XYLISOM-RXN': 'Xylose isomerase',\n",
       " 'SUPEROX-DISMUT-RXN': 'Superoxide dismutase',\n",
       " 'F16ALDOLASE-RXN': 'Fructose-bisphosphate aldolase',\n",
       " 'FUMHYDR-RXN': 'Fumarase',\n",
       " 'ACETATEKIN-RXN': 'Acetate kinase',\n",
       " 'GLYOXII-RXN': 'Hydroxyacylglutathione hydrolase',\n",
       " 'GLU6PDEHYDROG-RXN': 'Glucose 6-phosphate dehydrogenase',\n",
       " 'GLYCEROL-KIN-RXN': 'Glycerol kinase',\n",
       " 'GLYOXI-RXN': 'Lactoylglutathione lyase',\n",
       " 'RXN-9952': 'Phosphogluconate dehydrogenase',\n",
       " 'PEPSYNTH-RXN': 'Phosphoenolpyruvate synthase',\n",
       " 'PEPDEPHOS-RXN': 'Pyruvate kinase',\n",
       " 'PHOSGLYPHOS-RXN': 'Phosphoglycerate kinase',\n",
       " 'TRIPHOSPHATASE-RXN': 'Inorganic triphosphatase',\n",
       " 'OXALODECARB-RXN': 'Oxaloacetate decarboxylase',\n",
       " 'PGLUCONDEHYDRAT-RXN': '6-phosphogluconate dehydratase',\n",
       " 'PHOSPHOGLUCMUT-RXN': 'Phosphoglucomutase'}"
      ]
     },
     "execution_count": 62,
     "metadata": {},
     "output_type": "execute_result"
    }
   ],
   "source": [
    "foundNames"
   ]
  },
  {
   "cell_type": "code",
   "execution_count": 63,
   "id": "821dd53b-7ccf-412d-a907-3e7d452e76e2",
   "metadata": {},
   "outputs": [],
   "source": [
    "newFluxes = {}\n",
    "\n",
    "for key in fluxes.keys():\n",
    "    if key in foundNames.keys():\n",
    "        newFluxes[foundNames[key]] = fluxes[key][-1]"
   ]
  },
  {
   "cell_type": "code",
   "execution_count": 64,
   "id": "ab7527b2-73d6-4605-bb71-1a2653d69dad",
   "metadata": {},
   "outputs": [
    {
     "data": {
      "text/plain": [
       "{'Phosphofructokinase': 0,\n",
       " 'Glycerol-3-phosphatase': 0,\n",
       " 'Phosphoglycerate mutase': 0,\n",
       " 'Transketolase': 400192,\n",
       " 'Transaldolase': 415326,\n",
       " 'Glucose-1-phosphate adenylyltransferase': 8598,\n",
       " 'Enolase': 177197,\n",
       " 'Malate dehydrogenase': -207626,\n",
       " 'Glucose-6-phosphate isomerase': -916508,\n",
       " 'Citrate synthase': 2593,\n",
       " 'Ribokinase': 0,\n",
       " 'D-lactate dehydrogenase': 0,\n",
       " 'Methylglyoxal synthase': 75,\n",
       " 'Catalase': 0,\n",
       " 'Fumarate reductase': 209353,\n",
       " 'Glyceraldehyde-3-phosphate dehydrogenase': 177824,\n",
       " 'Pyruvate dehydrogenase': 0,\n",
       " 'Glycolate oxidase': 0,\n",
       " 'Xylulokinase': 0,\n",
       " '6-phosphogluconolactonase': 905030,\n",
       " 'Glucose-1-phosphatase': 753,\n",
       " 'Isocitrate lyase': -398381,\n",
       " 'Acetaldehyde dehydrogenase (acetylating)': -815,\n",
       " 'Citrate lyase': 160554,\n",
       " 'Phosphoenolpyruvate carboxylase': 591083,\n",
       " 'Phosphotransacetylase': -18159,\n",
       " 'Pyruvate oxidase': 0,\n",
       " 'Triose-phosphate isomerase': 107773,\n",
       " 'Ribose-5-phosphate isomerase': -465042,\n",
       " 'Glycerol dehydrogenase': -1675,\n",
       " 'Glucose-6-phosphate phosphatase': 0,\n",
       " 'Xylose isomerase': 0,\n",
       " 'Superoxide dismutase': 0,\n",
       " 'Fructose-bisphosphate aldolase': 160869,\n",
       " 'Fumarase': 205518,\n",
       " 'Acetate kinase': 18297,\n",
       " 'Hydroxyacylglutathione hydrolase': 0,\n",
       " 'Glucose 6-phosphate dehydrogenase': 905030,\n",
       " 'Glycerol kinase': 0,\n",
       " 'Lactoylglutathione lyase': 0,\n",
       " 'Phosphogluconate dehydrogenase': 904754,\n",
       " 'Phosphoenolpyruvate synthase': 446062,\n",
       " 'Pyruvate kinase': 0,\n",
       " 'Phosphoglycerate kinase': -177822,\n",
       " 'Inorganic triphosphatase': 0,\n",
       " 'Oxaloacetate decarboxylase': 0,\n",
       " '6-phosphogluconate dehydratase': 0,\n",
       " 'Phosphoglucomutase': -12360}"
      ]
     },
     "execution_count": 64,
     "metadata": {},
     "output_type": "execute_result"
    }
   ],
   "source": [
    "newFluxes"
   ]
  },
  {
   "cell_type": "code",
   "execution_count": 65,
   "id": "dad776f9-6d6f-4517-83b4-c55d5ebbd6de",
   "metadata": {},
   "outputs": [],
   "source": [
    "additional3 = {'D-glucose transport via PEP:Pyr PTS': 0,\n",
    " 'FRUpts2': 0,\n",
    " 'ACt2r': 0,\n",
    " 'Glucose-6-phosphate isomerase': -916508,\n",
    " 'Phosphofructokinase': 0,\n",
    " 'Fructose-bisphosphatase': 10126,\n",
    " 'Fructose-bisphosphate aldolase': 160869,\n",
    " 'Triose-phosphate isomerase': 107773,\n",
    " 'Glyceraldehyde-3-phosphate dehydrogenase': 177824,\n",
    " 'Phosphoglycerate kinase': -177822,\n",
    " 'Phosphoglycerate mutase': 0,\n",
    " 'Phosphoglycerate mutase': -177087,\n",
    " 'Enolase': 177197,\n",
    " 'Pyruvate kinase': 0,\n",
    " 'Phosphoenolpyruvate synthase': 446062}"
   ]
  },
  {
   "cell_type": "markdown",
   "id": "f54af260-539a-4a51-9921-d10c67d54d82",
   "metadata": {},
   "source": [
    "additional = {'D-glucose transport via PEP:Pyr PTS': 0,\n",
    " 'FRUpts2': 0,\n",
    " 'Glucose-6-phosphate isomerase': -3665600,\n",
    " 'Phosphofructokinase': 0,\n",
    " 'Fructose-bisphosphatase': 38308,\n",
    " 'Fructose-bisphosphate aldolase': 385734,\n",
    " 'Triose-phosphate isomerase': 107701,\n",
    " 'Glyceraldehyde-3-phosphate dehydrogenase': 177895,\n",
    " 'Phosphoglycerate kinase': -711572,\n",
    " 'Phosphoglycerate mutase': 0,\n",
    " 'Phosphoglycerate mutase': -708632,\n",
    " 'Enolase': 177268,\n",
    " 'Pyruvate kinase': 0,\n",
    " 'Phosphoenolpyruvate synthase': 445971}"
   ]
  },
  {
   "cell_type": "markdown",
   "id": "b4aa81d3-83bb-4613-98d2-2c7bcaebfa2d",
   "metadata": {},
   "source": [
    "additional2 = {'D-glucose transport via PEP:Pyr PTS': 516124,\n",
    " 'FRUpts2': 0,\n",
    " 'Glucose-6-phosphate isomerase': 395206,\n",
    " 'Phosphofructokinase': 90275,\n",
    " 'Fructose-bisphosphatase': 9774,\n",
    " 'Fructose-bisphosphate aldolase': 151536,\n",
    " 'Triose-phosphate isomerase': -491270,\n",
    " 'Glyceraldehyde-3-phosphate dehydrogenase': 517023,\n",
    " 'Phosphoglycerate kinase': -1034042,\n",
    " 'Phosphoglycerate mutase': 0,\n",
    " 'Phosphoglycerate mutase': -1032508,\n",
    " 'Enolase': 516362,\n",
    " 'Pyruvate kinase': 0,\n",
    " 'Phosphoenolpyruvate synthase': 0}"
   ]
  },
  {
   "cell_type": "markdown",
   "id": "9541e4ee-c6e3-4506-8fff-9fe6f74abd5a",
   "metadata": {},
   "source": [
    "for x in additional.keys():\n",
    "    newFluxes[x] = additional[x]"
   ]
  },
  {
   "cell_type": "markdown",
   "id": "b9e49047-c930-4960-aeb3-caa6bcd1f1f6",
   "metadata": {},
   "source": [
    "for x in additional2.keys():\n",
    "    newFluxes[x] = additional2[x]"
   ]
  },
  {
   "cell_type": "code",
   "execution_count": 66,
   "id": "f46e3822-9b16-4b70-9da2-4bef6b936d74",
   "metadata": {},
   "outputs": [],
   "source": [
    "for x in additional3.keys():\n",
    "    newFluxes[x] = additional3[x]"
   ]
  },
  {
   "cell_type": "code",
   "execution_count": 67,
   "id": "fc78d7aa-59e5-41df-bfca-c30cbb6fb309",
   "metadata": {},
   "outputs": [
    {
     "data": {
      "text/plain": [
       "{'Phosphofructokinase': 0,\n",
       " 'Glycerol-3-phosphatase': 0,\n",
       " 'Phosphoglycerate mutase': -177087,\n",
       " 'Transketolase': 400192,\n",
       " 'Transaldolase': 415326,\n",
       " 'Glucose-1-phosphate adenylyltransferase': 8598,\n",
       " 'Enolase': 177197,\n",
       " 'Malate dehydrogenase': -207626,\n",
       " 'Glucose-6-phosphate isomerase': -916508,\n",
       " 'Citrate synthase': 2593,\n",
       " 'Ribokinase': 0,\n",
       " 'D-lactate dehydrogenase': 0,\n",
       " 'Methylglyoxal synthase': 75,\n",
       " 'Catalase': 0,\n",
       " 'Fumarate reductase': 209353,\n",
       " 'Glyceraldehyde-3-phosphate dehydrogenase': 177824,\n",
       " 'Pyruvate dehydrogenase': 0,\n",
       " 'Glycolate oxidase': 0,\n",
       " 'Xylulokinase': 0,\n",
       " '6-phosphogluconolactonase': 905030,\n",
       " 'Glucose-1-phosphatase': 753,\n",
       " 'Isocitrate lyase': -398381,\n",
       " 'Acetaldehyde dehydrogenase (acetylating)': -815,\n",
       " 'Citrate lyase': 160554,\n",
       " 'Phosphoenolpyruvate carboxylase': 591083,\n",
       " 'Phosphotransacetylase': -18159,\n",
       " 'Pyruvate oxidase': 0,\n",
       " 'Triose-phosphate isomerase': 107773,\n",
       " 'Ribose-5-phosphate isomerase': -465042,\n",
       " 'Glycerol dehydrogenase': -1675,\n",
       " 'Glucose-6-phosphate phosphatase': 0,\n",
       " 'Xylose isomerase': 0,\n",
       " 'Superoxide dismutase': 0,\n",
       " 'Fructose-bisphosphate aldolase': 160869,\n",
       " 'Fumarase': 205518,\n",
       " 'Acetate kinase': 18297,\n",
       " 'Hydroxyacylglutathione hydrolase': 0,\n",
       " 'Glucose 6-phosphate dehydrogenase': 905030,\n",
       " 'Glycerol kinase': 0,\n",
       " 'Lactoylglutathione lyase': 0,\n",
       " 'Phosphogluconate dehydrogenase': 904754,\n",
       " 'Phosphoenolpyruvate synthase': 446062,\n",
       " 'Pyruvate kinase': 0,\n",
       " 'Phosphoglycerate kinase': -177822,\n",
       " 'Inorganic triphosphatase': 0,\n",
       " 'Oxaloacetate decarboxylase': 0,\n",
       " '6-phosphogluconate dehydratase': 0,\n",
       " 'Phosphoglucomutase': -12360,\n",
       " 'D-glucose transport via PEP:Pyr PTS': 0,\n",
       " 'FRUpts2': 0,\n",
       " 'ACt2r': 0,\n",
       " 'Fructose-bisphosphatase': 10126}"
      ]
     },
     "execution_count": 67,
     "metadata": {},
     "output_type": "execute_result"
    }
   ],
   "source": [
    "newFluxes"
   ]
  },
  {
   "cell_type": "code",
   "execution_count": 68,
   "id": "ff0c056a-6d99-4c58-b150-e0fe526a7ed3",
   "metadata": {},
   "outputs": [
    {
     "data": {
      "text/plain": [
       "[{'organism': 'Saccharomyces cerevisiae',\n",
       "  'map_name': 'iMM904.Central carbon metabolism'},\n",
       " {'organism': 'Homo sapiens',\n",
       "  'map_name': 'RECON1.Inositol retinol metabolism'},\n",
       " {'organism': 'Homo sapiens', 'map_name': 'RECON1.Glycolysis TCA PPP'},\n",
       " {'organism': 'Homo sapiens', 'map_name': 'RECON1.Tryptophan metabolism'},\n",
       " {'organism': 'Homo sapiens', 'map_name': 'RECON1.Carbohydrate metabolism'},\n",
       " {'organism': 'Homo sapiens',\n",
       "  'map_name': 'RECON1.Amino acid metabolism (partial)'},\n",
       " {'organism': 'Escherichia coli', 'map_name': 'iJO1366.Nucleotide metabolism'},\n",
       " {'organism': 'Escherichia coli',\n",
       "  'map_name': 'iJO1366.Fatty acid biosynthesis (saturated)'},\n",
       " {'organism': 'Escherichia coli',\n",
       "  'map_name': 'iJO1366.Nucleotide and histidine biosynthesis'},\n",
       " {'organism': 'Escherichia coli', 'map_name': 'e_coli_core.Core metabolism'},\n",
       " {'organism': 'Escherichia coli', 'map_name': 'iJO1366.Central metabolism'},\n",
       " {'organism': 'Escherichia coli',\n",
       "  'map_name': 'iJO1366.Fatty acid beta-oxidation'}]"
      ]
     },
     "execution_count": 68,
     "metadata": {},
     "output_type": "execute_result"
    }
   ],
   "source": [
    "escher.list_available_maps()"
   ]
  },
  {
   "cell_type": "code",
   "execution_count": 69,
   "id": "f910ec4a-e8af-4c6e-8f58-9b485c17031a",
   "metadata": {},
   "outputs": [
    {
     "data": {
      "text/plain": [
       "[{'organism': 'Saccharomyces cerevisiae', 'model_name': 'iMM904'},\n",
       " {'organism': 'Homo sapiens', 'model_name': 'RECON1'},\n",
       " {'organism': 'Escherichia coli', 'model_name': 'e_coli_core'},\n",
       " {'organism': 'Escherichia coli', 'model_name': 'iJO1366'}]"
      ]
     },
     "execution_count": 69,
     "metadata": {},
     "output_type": "execute_result"
    }
   ],
   "source": [
    "escher.list_available_models()"
   ]
  },
  {
   "cell_type": "code",
   "execution_count": 3,
   "id": "de0ebbc0-2846-4c10-8782-fde11886323b",
   "metadata": {},
   "outputs": [
    {
     "ename": "NameError",
     "evalue": "name 'newFluxes' is not defined",
     "output_type": "error",
     "traceback": [
      "\u001b[0;31m---------------------------------------------------------------------------\u001b[0m",
      "\u001b[0;31mNameError\u001b[0m                                 Traceback (most recent call last)",
      "\u001b[0;32m/var/folders/zf/fxd7d9jj64bc8s9zvphjp8n40000gn/T/ipykernel_17164/543767714.py\u001b[0m in \u001b[0;36m<module>\u001b[0;34m\u001b[0m\n\u001b[1;32m      2\u001b[0m     \u001b[0mmap_name\u001b[0m\u001b[0;34m=\u001b[0m\u001b[0;34m'e_coli_core.Core metabolism'\u001b[0m\u001b[0;34m,\u001b[0m\u001b[0;34m\u001b[0m\u001b[0;34m\u001b[0m\u001b[0m\n\u001b[1;32m      3\u001b[0m     \u001b[0mmodel_name\u001b[0m\u001b[0;34m=\u001b[0m\u001b[0;34m'e_coli_core'\u001b[0m\u001b[0;34m,\u001b[0m\u001b[0;34m\u001b[0m\u001b[0;34m\u001b[0m\u001b[0m\n\u001b[0;32m----> 4\u001b[0;31m     \u001b[0mreaction_data\u001b[0m\u001b[0;34m=\u001b[0m\u001b[0;34m{\u001b[0m\u001b[0mr\u001b[0m\u001b[0;34m:\u001b[0m \u001b[0mv\u001b[0m \u001b[0;32mfor\u001b[0m \u001b[0mr\u001b[0m\u001b[0;34m,\u001b[0m \u001b[0mv\u001b[0m \u001b[0;32min\u001b[0m \u001b[0mzip\u001b[0m\u001b[0;34m(\u001b[0m\u001b[0mnewFluxes\u001b[0m\u001b[0;34m.\u001b[0m\u001b[0mkeys\u001b[0m\u001b[0;34m(\u001b[0m\u001b[0;34m)\u001b[0m\u001b[0;34m,\u001b[0m \u001b[0mnewFluxes\u001b[0m\u001b[0;34m.\u001b[0m\u001b[0mvalues\u001b[0m\u001b[0;34m(\u001b[0m\u001b[0;34m)\u001b[0m\u001b[0;34m)\u001b[0m\u001b[0;34m}\u001b[0m\u001b[0;34m,\u001b[0m\u001b[0;34m\u001b[0m\u001b[0;34m\u001b[0m\u001b[0m\n\u001b[0m\u001b[1;32m      5\u001b[0m )\n",
      "\u001b[0;31mNameError\u001b[0m: name 'newFluxes' is not defined"
     ]
    }
   ],
   "source": [
    "builder = Builder(\n",
    "    map_name='e_coli_core.Core metabolism',\n",
    "    model_name='e_coli_core',\n",
    "    reaction_data={r: v for r, v in zip(newFluxes.keys(), newFluxes.values())},\n",
    ")"
   ]
  },
  {
   "cell_type": "code",
   "execution_count": null,
   "id": "22edab43-e812-4e35-9ab8-e0547585e0fb",
   "metadata": {},
   "outputs": [],
   "source": [
    "builder"
   ]
  },
  {
   "cell_type": "code",
   "execution_count": 26,
   "id": "aa4fd26a-e44c-475c-8fd6-cd10fed42682",
   "metadata": {},
   "outputs": [
    {
     "data": {
      "text/plain": [
       "['glucose-6-phosphate isomerase',\n",
       " 'phosphoglucose isomerase',\n",
       " 'D-glucose-6-phosphate-ketol-isomerase']"
      ]
     },
     "execution_count": 26,
     "metadata": {},
     "output_type": "execute_result"
    }
   ],
   "source": [
    "ECnames['PGLUCISOM-RXN']"
   ]
  },
  {
   "cell_type": "code",
   "execution_count": null,
   "id": "aee253e8-0124-4bf1-b82e-03916bfa87fd",
   "metadata": {},
   "outputs": [],
   "source": []
  },
  {
   "cell_type": "code",
   "execution_count": 27,
   "id": "8b7707fd-e719-4e11-ba89-9a0a868ea210",
   "metadata": {},
   "outputs": [
    {
     "data": {
      "text/plain": [
       "'glucose-6-phosphate isomerase'"
      ]
     },
     "execution_count": 27,
     "metadata": {},
     "output_type": "execute_result"
    }
   ],
   "source": [
    "reactionDict['PGLUCISOM-RXN']['ptools-xml']['Reaction']['enzymatic-reaction']['Enzymatic-Reaction'][0]['common-name']['#text']"
   ]
  },
  {
   "cell_type": "code",
   "execution_count": 28,
   "id": "d4d5688c-2fec-4154-ba07-deef17347914",
   "metadata": {},
   "outputs": [
    {
     "data": {
      "text/plain": [
       "'glucose-6-phosphate isomerase'"
      ]
     },
     "execution_count": 28,
     "metadata": {},
     "output_type": "execute_result"
    }
   ],
   "source": [
    "reactionDict['PGLUCISOM-RXN']['ptools-xml']['Reaction']['enzymatic-reaction']['Enzymatic-Reaction'][1]['common-name']['#text']"
   ]
  },
  {
   "cell_type": "code",
   "execution_count": 29,
   "id": "31ee749e-c964-479a-abca-964cebe71c25",
   "metadata": {},
   "outputs": [
    {
     "data": {
      "text/plain": [
       "[{'@datatype': 'string', '#text': 'phosphoglucose isomerase'},\n",
       " {'@datatype': 'string', '#text': 'D-glucose-6-phosphate-ketol-isomerase'}]"
      ]
     },
     "execution_count": 29,
     "metadata": {},
     "output_type": "execute_result"
    }
   ],
   "source": [
    "reactionDict['PGLUCISOM-RXN']['ptools-xml']['Reaction']['enzymatic-reaction']['Enzymatic-Reaction'][0]['synonym']"
   ]
  },
  {
   "cell_type": "code",
   "execution_count": 30,
   "id": "9b58675a-a340-44d6-8338-3236167d98a2",
   "metadata": {},
   "outputs": [],
   "source": [
    "def getNames(liste, names):\n",
    "    for item in liste:\n",
    "        if item['common-name']['#text'] not in names:\n",
    "            names.append(item['common-name']['#text'])\n",
    "    for item in liste:\n",
    "        names\n",
    "        "
   ]
  },
  {
   "cell_type": "code",
   "execution_count": 31,
   "id": "b4a25ff0-57bc-4183-babb-9295affabf0b",
   "metadata": {},
   "outputs": [],
   "source": [
    "np.save(\"glucoseReactionDict.npy\", reactionDict)"
   ]
  },
  {
   "cell_type": "code",
   "execution_count": null,
   "id": "403cb6df-e448-45e5-8200-f7cfa28658a3",
   "metadata": {},
   "outputs": [],
   "source": []
  }
 ],
 "metadata": {
  "kernelspec": {
   "display_name": "Python 3 (ipykernel)",
   "language": "python",
   "name": "python3"
  },
  "language_info": {
   "codemirror_mode": {
    "name": "ipython",
    "version": 3
   },
   "file_extension": ".py",
   "mimetype": "text/x-python",
   "name": "python",
   "nbconvert_exporter": "python",
   "pygments_lexer": "ipython3",
   "version": "3.8.5"
  }
 },
 "nbformat": 4,
 "nbformat_minor": 5
}
