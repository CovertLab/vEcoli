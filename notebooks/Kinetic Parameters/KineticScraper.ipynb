{
 "cells": [
  {
   "cell_type": "code",
   "execution_count": 85,
   "id": "79f78361-2754-4dd4-9197-fbac1edd80f0",
   "metadata": {},
   "outputs": [],
   "source": [
    "import math\n",
    "from collections import defaultdict\n",
    "from typing import List, Any\n",
    "from xml.etree import ElementTree\n",
    "import seaborn as sns\n",
    "import matplotlib.pyplot as plt\n",
    "\n",
    "import pandas as pd\n",
    "import requests"
   ]
  },
  {
   "cell_type": "code",
   "execution_count": 86,
   "id": "728b5fab-ad04-48cc-b795-92badabd8bc3",
   "metadata": {},
   "outputs": [
    {
     "data": {
      "text/plain": [
       "<Response [200]>"
      ]
     },
     "execution_count": 86,
     "metadata": {},
     "output_type": "execute_result"
    }
   ],
   "source": [
    "s = requests.Session() # create session\n",
    "# Post login credentials to session:\n",
    "s.post('https://websvc.biocyc.org/credentials/login/', data={'email':'aniketh@stanford.edu', 'password':'1324Ai22@4'})"
   ]
  },
  {
   "cell_type": "code",
   "execution_count": 87,
   "id": "fe8f23ba-2327-4cf9-9aa0-db6ae3bbeaf6",
   "metadata": {},
   "outputs": [],
   "source": [
    "def etree_to_dict(t):\n",
    "    d = {t.tag: {} if t.attrib else None}\n",
    "    children = list(t)\n",
    "    if children:\n",
    "        dd = defaultdict(list)\n",
    "        for dc in map(etree_to_dict, children):\n",
    "            for k, v in dc.items():\n",
    "                dd[k].append(v)\n",
    "        d = {t.tag: {k: v[0] if len(v) == 1 else v\n",
    "                     for k, v in dd.items()}}\n",
    "    if t.attrib:\n",
    "        d[t.tag].update(('@' + k, v)\n",
    "                        for k, v in t.attrib.items())\n",
    "    if t.text:\n",
    "        text = t.text.strip()\n",
    "        if children or t.attrib:\n",
    "            if text:\n",
    "                d[t.tag]['#text'] = text\n",
    "        else:\n",
    "            d[t.tag] = text\n",
    "    return d"
   ]
  },
  {
   "cell_type": "code",
   "execution_count": 88,
   "id": "59baf11f-e97a-4521-8016-2ad853e5fb55",
   "metadata": {},
   "outputs": [],
   "source": [
    "def getnames(values):\n",
    "    res = []\n",
    "    for i in range(len(dicte)):\n",
    "        temp = values[i]['CELL'][-4]\n",
    "\n",
    "        if ('VALUE' in temp and temp['VALUE'] is None):\n",
    "            continue\n",
    "\n",
    "        temp = temp['FRAME']\n",
    "\n",
    "        if type(temp) is list:\n",
    "            for val in temp:\n",
    "                res.append((val['@ID'], i))\n",
    "        else:\n",
    "            res.append((temp['@ID'], i))\n",
    "\n",
    "    return res"
   ]
  },
  {
   "cell_type": "code",
   "execution_count": 89,
   "id": "4ee775a5-f324-45cb-8c90-41955922353a",
   "metadata": {},
   "outputs": [
    {
     "data": {
      "text/plain": [
       "{'metadata': {'url': 'http://BioCyc.org/',\n",
       "  'service_name': 'apixml',\n",
       "  'query': 'fn=enzymes-of-reaction&id=ECOLI:ISOCIT-CLEAV-RXN&detail=LOW',\n",
       "  'num_results': '1',\n",
       "  'PGDB': {'species': {'@datatype': 'string', '#text': 'Escherichia coli'},\n",
       "   'strain': {'@datatype': 'string', '#text': 'K-12 substr. MG1655'},\n",
       "   '@orgid': 'ECOLI',\n",
       "   '@version': '26.5'}},\n",
       " 'Protein': {'parent': {'Protein': {'@resource': 'getxml?ECOLI:Protein-Complexes',\n",
       "    '@orgid': 'ECOLI',\n",
       "    '@frameid': 'Protein-Complexes',\n",
       "    '@class': 'true'}},\n",
       "  'catalyzes': {'Enzymatic-Reaction': {'common-name': {'@datatype': 'string',\n",
       "     '#text': 'isocitrate lyase'},\n",
       "    'enzyme': {'Protein': {'@resource': '#ECOLI:ISOCIT-LYASE',\n",
       "      '@orgid': 'ECOLI',\n",
       "      '@frameid': 'ISOCIT-LYASE'}},\n",
       "    'reaction': {'Reaction': {'@resource': 'getxml?ECOLI:ISOCIT-CLEAV-RXN',\n",
       "      '@orgid': 'ECOLI',\n",
       "      '@frameid': 'ISOCIT-CLEAV-RXN'}},\n",
       "    '@ID': 'ECOLI:ISOCITLYASE-ENZRXN',\n",
       "    '@orgid': 'ECOLI',\n",
       "    '@frameid': 'ISOCITLYASE-ENZRXN',\n",
       "    '@detail': 'low'}},\n",
       "  'component': {'Protein': {'@resource': 'getxml?ECOLI:ISOCIT-LYASE-MONOMER',\n",
       "    '@orgid': 'ECOLI',\n",
       "    '@frameid': 'ISOCIT-LYASE-MONOMER'},\n",
       "   'coefficient': {'@datatype': 'integer', '#text': '4'}},\n",
       "  '@ID': 'ECOLI:ISOCIT-LYASE',\n",
       "  '@orgid': 'ECOLI',\n",
       "  '@frameid': 'ISOCIT-LYASE',\n",
       "  '@detail': 'low'},\n",
       " '@ptools-version': '26.5',\n",
       " '@{http://www.w3.org/XML/1998/namespace}base': 'http://BioCyc.org/apixml?fn=enzymes-of-reaction%26id=ECOLI:ISOCIT-CLEAV-RXN%26detail=LOW'}"
      ]
     },
     "execution_count": 89,
     "metadata": {},
     "output_type": "execute_result"
    }
   ],
   "source": [
    "response = s.get(\"https://websvc.biocyc.org/apixml?fn=enzymes-of-reaction&id=ECOLI:ISOCIT-CLEAV-RXN&detail=low\")\n",
    "\n",
    "tree = ElementTree.fromstring(response.content)\n",
    "dicte = etree_to_dict(tree)\n",
    "dicte['ptools-xml']"
   ]
  },
  {
   "cell_type": "code",
   "execution_count": 75,
   "id": "5435748d-029e-441f-af4a-a9b2a3901b6c",
   "metadata": {},
   "outputs": [
    {
     "ename": "SyntaxError",
     "evalue": "unexpected EOF while parsing (2816650018.py, line 2)",
     "output_type": "error",
     "traceback": [
      "\u001b[0;36m  File \u001b[0;32m\"/var/folders/zf/fxd7d9jj64bc8s9zvphjp8n40000gn/T/ipykernel_1968/2816650018.py\"\u001b[0;36m, line \u001b[0;32m2\u001b[0m\n\u001b[0;31m    \u001b[0m\n\u001b[0m    ^\u001b[0m\n\u001b[0;31mSyntaxError\u001b[0m\u001b[0;31m:\u001b[0m unexpected EOF while parsing\n"
     ]
    }
   ],
   "source": [
    "def getEnzymes(reaction):\n",
    "    "
   ]
  },
  {
   "cell_type": "code",
   "execution_count": null,
   "id": "b7d06433-c071-4b81-9461-1148177355f1",
   "metadata": {},
   "outputs": [],
   "source": []
  },
  {
   "cell_type": "code",
   "execution_count": 32,
   "id": "2f9234fd-4b13-4938-8790-ce71f2883eb6",
   "metadata": {},
   "outputs": [],
   "source": [
    "genes = list(pd.read_csv(\"New Liste - Sheet.csv\")[\"Gene ID (EcoCyc)\"])\n",
    "res = {}"
   ]
  },
  {
   "cell_type": "code",
   "execution_count": null,
   "id": "af843e89-e757-487d-a3a2-41da46508082",
   "metadata": {},
   "outputs": [],
   "source": [
    "for gene in genes:\n",
    "    reactions = getReactions(gene)\n",
    "    for reaction in reactions:\n",
    "        otherGenes = getGenes(reaction)\n",
    "        enzymes = getEnzymes(reaction)\n",
    "        substrates = getSubstrates(reaction)\n",
    "        Kcat = getKcat(reaction)\n",
    "        Km = getKm(reaction)\n",
    "        temp = getTemp(reaction)"
   ]
  },
  {
   "cell_type": "code",
   "execution_count": 16,
   "id": "d70b6284-1f5f-40f7-9267-883459135d13",
   "metadata": {},
   "outputs": [],
   "source": [
    "response = requests.get(\"https://websvc.biocyc.org/getxml?id=ECOLI:ISOCITLYASE-ENZRXN&detail=full\")\n",
    "tree = ElementTree.fromstring(response.content)\n",
    "dicte = etree_to_dict(tree)"
   ]
  },
  {
   "cell_type": "code",
   "execution_count": 19,
   "id": "906e68ca-9fcd-4db8-bf1b-a5d540b9aaf7",
   "metadata": {},
   "outputs": [],
   "source": [
    "response = requests.get(\"https://websvc.biocyc.org/apixml?fn=reactions-of-gene&id=ECOLI:EG10022&detail=full\")\n",
    "tree = ElementTree.fromstring(response.content)\n",
    "dicte = etree_to_dict(tree)"
   ]
  },
  {
   "cell_type": "code",
   "execution_count": 26,
   "id": "2f6b8327-4a46-4223-b674-fd519f736929",
   "metadata": {},
   "outputs": [
    {
     "data": {
      "text/plain": [
       "{'parent': [{'Reaction': {'@resource': 'getxml?ECOLI:Chemical-Reactions',\n",
       "    '@orgid': 'ECOLI',\n",
       "    '@frameid': 'Chemical-Reactions',\n",
       "    '@class': 'true'}},\n",
       "  {'Reaction': {'@resource': 'getxml?ECOLI:Small-Molecule-Reactions',\n",
       "    '@orgid': 'ECOLI',\n",
       "    '@frameid': 'Small-Molecule-Reactions',\n",
       "    '@class': 'true'}}],\n",
       " 'in-pathway': {'Pathway': {'@resource': 'getxml?ECOLI:GLYOXYLATE-BYPASS',\n",
       "   '@orgid': 'ECOLI',\n",
       "   '@frameid': 'GLYOXYLATE-BYPASS'}},\n",
       " 'right': [{'Compound': {'@resource': 'getxml?ECOLI:GLYOX',\n",
       "    '@orgid': 'ECOLI',\n",
       "    '@frameid': 'GLYOX'}},\n",
       "  {'Compound': {'@resource': 'getxml?ECOLI:SUC',\n",
       "    '@orgid': 'ECOLI',\n",
       "    '@frameid': 'SUC'}}],\n",
       " 'left': {'Compound': {'@resource': 'getxml?ECOLI:THREO-DS-ISO-CITRATE',\n",
       "   '@orgid': 'ECOLI',\n",
       "   '@frameid': 'THREO-DS-ISO-CITRATE'}},\n",
       " 'comment': {'@datatype': 'string',\n",
       "  '#text': 'The reaction cleaves isocitrate in one direction, condenses\\nglyoxalate and succinate in the other direction'},\n",
       " 'synonym': [{'@datatype': 'string',\n",
       "   '#text': 'glyoxylate-succinate condensation'},\n",
       "  {'@datatype': 'string', '#text': 'isocitrate cleavage'}],\n",
       " 'ec-number': {'official': 'T', '#text': 'EC-4.1.3.1'},\n",
       " 'enzymatic-reaction': {'Enzymatic-Reaction': {'common-name': {'@datatype': 'string',\n",
       "    '#text': 'isocitrate lyase'},\n",
       "   'enzyme': {'Protein': {'@resource': 'getxml?ECOLI:ISOCIT-LYASE',\n",
       "     '@orgid': 'ECOLI',\n",
       "     '@frameid': 'ISOCIT-LYASE'}},\n",
       "   'reaction': {'Reaction': {'@resource': '#ECOLI:ISOCIT-CLEAV-RXN',\n",
       "     '@orgid': 'ECOLI',\n",
       "     '@frameid': 'ISOCIT-CLEAV-RXN'}},\n",
       "   '@ID': 'ECOLI:ISOCITLYASE-ENZRXN',\n",
       "   '@orgid': 'ECOLI',\n",
       "   '@frameid': 'ISOCITLYASE-ENZRXN',\n",
       "   '@detail': 'low'}},\n",
       " 'physiologically-relevant': {'@datatype': 'boolean', '#text': 'true'},\n",
       " 'gibbs-0': {'@datatype': 'float', '@units': 'kcal/mol', '#text': '3.2682343'},\n",
       " 'reaction-direction': 'REVERSIBLE',\n",
       " '@ID': 'ECOLI:ISOCIT-CLEAV-RXN',\n",
       " '@orgid': 'ECOLI',\n",
       " '@frameid': 'ISOCIT-CLEAV-RXN',\n",
       " '@detail': 'full'}"
      ]
     },
     "execution_count": 26,
     "metadata": {},
     "output_type": "execute_result"
    }
   ],
   "source": [
    "dicte['ptools-xml']['Reaction']"
   ]
  },
  {
   "cell_type": "code",
   "execution_count": null,
   "id": "43623255-d9ac-465f-b9fa-78f996671a58",
   "metadata": {},
   "outputs": [],
   "source": []
  }
 ],
 "metadata": {
  "kernelspec": {
   "display_name": "Python 3 (ipykernel)",
   "language": "python",
   "name": "python3"
  },
  "language_info": {
   "codemirror_mode": {
    "name": "ipython",
    "version": 3
   },
   "file_extension": ".py",
   "mimetype": "text/x-python",
   "name": "python",
   "nbconvert_exporter": "python",
   "pygments_lexer": "ipython3",
   "version": "3.8.5"
  }
 },
 "nbformat": 4,
 "nbformat_minor": 5
}
