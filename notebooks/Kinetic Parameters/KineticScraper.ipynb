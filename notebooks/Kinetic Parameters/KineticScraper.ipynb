{
 "cells": [
  {
   "cell_type": "code",
   "execution_count": 2,
   "id": "79f78361-2754-4dd4-9197-fbac1edd80f0",
   "metadata": {},
   "outputs": [],
   "source": [
    "import math\n",
    "from collections import defaultdict\n",
    "from typing import List, Any\n",
    "from xml.etree import ElementTree\n",
    "import seaborn as sns\n",
    "import matplotlib.pyplot as plt\n",
    "\n",
    "import pandas as pd\n",
    "import requests"
   ]
  },
  {
   "cell_type": "code",
   "execution_count": 3,
   "id": "728b5fab-ad04-48cc-b795-92badabd8bc3",
   "metadata": {},
   "outputs": [
    {
     "data": {
      "text/plain": [
       "<Response [200]>"
      ]
     },
     "execution_count": 3,
     "metadata": {},
     "output_type": "execute_result"
    }
   ],
   "source": [
    "s = requests.Session() # create session\n",
    "# Post login credentials to session:\n",
    "s.post('https://websvc.biocyc.org/credentials/login/', data={'email':'aniketh@stanford.edu', 'password':'1324Ai22@4'})"
   ]
  },
  {
   "cell_type": "code",
   "execution_count": 4,
   "id": "fe8f23ba-2327-4cf9-9aa0-db6ae3bbeaf6",
   "metadata": {},
   "outputs": [],
   "source": [
    "def etree_to_dict(t):\n",
    "    d = {t.tag: {} if t.attrib else None}\n",
    "    children = list(t)\n",
    "    if children:\n",
    "        dd = defaultdict(list)\n",
    "        for dc in map(etree_to_dict, children):\n",
    "            for k, v in dc.items():\n",
    "                dd[k].append(v)\n",
    "        d = {t.tag: {k: v[0] if len(v) == 1 else v\n",
    "                     for k, v in dd.items()}}\n",
    "    if t.attrib:\n",
    "        d[t.tag].update(('@' + k, v)\n",
    "                        for k, v in t.attrib.items())\n",
    "    if t.text:\n",
    "        text = t.text.strip()\n",
    "        if children or t.attrib:\n",
    "            if text:\n",
    "                d[t.tag]['#text'] = text\n",
    "        else:\n",
    "            d[t.tag] = text\n",
    "    return d"
   ]
  },
  {
   "cell_type": "code",
   "execution_count": 5,
   "id": "59baf11f-e97a-4521-8016-2ad853e5fb55",
   "metadata": {},
   "outputs": [],
   "source": [
    "def getnames(values):\n",
    "    res = []\n",
    "    for i in range(len(dicte)):\n",
    "        temp = values[i]['CELL'][-4]\n",
    "\n",
    "        if ('VALUE' in temp and temp['VALUE'] is None):\n",
    "            continue\n",
    "\n",
    "        temp = temp['FRAME']\n",
    "\n",
    "        if type(temp) is list:\n",
    "            for val in temp:\n",
    "                res.append((val['@ID'], i))\n",
    "        else:\n",
    "            res.append((temp['@ID'], i))\n",
    "\n",
    "    return res"
   ]
  },
  {
   "cell_type": "code",
   "execution_count": 11,
   "id": "e9df1d64-27ae-46c7-8f84-633154b8dc32",
   "metadata": {},
   "outputs": [
    {
     "data": {
      "text/plain": [
       "'16784868'"
      ]
     },
     "execution_count": 11,
     "metadata": {},
     "output_type": "execute_result"
    }
   ],
   "source": [
    "response = s.get(\"https://websvc.biocyc.org/getxml?id=ECOLI:RIBOKIN-ENZRXN&detail=full\")\n",
    "tree = ElementTree.fromstring(response.content)\n",
    "dicte = etree_to_dict(tree)\n",
    "dicte['ptools-xml']['Enzymatic-Reaction']['kcat'][0]['citation']['Publication']['pubmed-id']['#text']"
   ]
  },
  {
   "cell_type": "code",
   "execution_count": 46,
   "id": "120cfa05-4b97-4507-81d5-4e9846012020",
   "metadata": {},
   "outputs": [
    {
     "data": {
      "text/plain": [
       "{'@resource': '#ECOLI:PUB-BRENDA-2014',\n",
       " '@orgid': 'ECOLI',\n",
       " '@frameid': 'PUB-BRENDA-2014'}"
      ]
     },
     "execution_count": 46,
     "metadata": {},
     "output_type": "execute_result"
    }
   ],
   "source": [
    "response = s.get(\"https://websvc.biocyc.org/getxml?id=ECOLI:MALATE-DEH-ENZRXN&detail=full\")\n",
    "tree = ElementTree.fromstring(response.content)\n",
    "dicte = etree_to_dict(tree)\n",
    "dicte['ptools-xml']['Enzymatic-Reaction']['km'][0]['citation'][0]['Publication']"
   ]
  },
  {
   "cell_type": "code",
   "execution_count": 55,
   "id": "1efcafc8-70a8-4b0c-8819-e7bf07a80041",
   "metadata": {},
   "outputs": [
    {
     "data": {
      "text/plain": [
       "'GLUCOSE-1-PHOSPHAT-CPLX'"
      ]
     },
     "execution_count": 55,
     "metadata": {},
     "output_type": "execute_result"
    }
   ],
   "source": [
    "response = s.get(\"https://websvc.biocyc.org/getxml?id=ECOLI:ENZRXN0-1162&detail=full\")\n",
    "tree = ElementTree.fromstring(response.content)\n",
    "dicte = etree_to_dict(tree)\n",
    "dicte['ptools-xml']['Enzymatic-Reaction']['enzyme']['Protein']['@frameid']"
   ]
  },
  {
   "cell_type": "code",
   "execution_count": 80,
   "id": "2ed9e663-43ae-49d7-a7cb-c912c2d3cf0d",
   "metadata": {},
   "outputs": [
    {
     "data": {
      "text/plain": [
       "'GLUCOSE-1-PHOSPHAT-CPLX'"
      ]
     },
     "execution_count": 80,
     "metadata": {},
     "output_type": "execute_result"
    }
   ],
   "source": [
    "response = s.get(\"https://websvc.biocyc.org/getxml?id=ECOLI:ENZRXN0-1162&detail=full\")\n",
    "tree = ElementTree.fromstring(response.content)\n",
    "dicte = etree_to_dict(tree)\n",
    "dicte['ptools-xml']['Enzymatic-Reaction']['enzyme']['Protein']['@frameid']"
   ]
  },
  {
   "cell_type": "code",
   "execution_count": 72,
   "id": "1b5bade5-715d-4c90-b18a-0a222bacedc9",
   "metadata": {},
   "outputs": [
    {
     "data": {
      "text/plain": [
       "[{'common-name': {'@datatype': 'string', '#text': 'glucose-1-phosphatase'},\n",
       "  'synonym': [{'@datatype': 'string', '#text': 'G1Pase'},\n",
       "   {'@datatype': 'string', '#text': 'D-glucose-1-phosphate phosphohydrolase'}],\n",
       "  'enzyme': {'Protein': {'@resource': '#ECOLI:GLUCOSE-1-PHOSPHAT-CPLX',\n",
       "    '@orgid': 'ECOLI',\n",
       "    '@frameid': 'GLUCOSE-1-PHOSPHAT-CPLX'}},\n",
       "  'reaction': {'Reaction': {'@resource': 'getxml?ECOLI:GLUCOSE-1-PHOSPHAT-RXN',\n",
       "    '@orgid': 'ECOLI',\n",
       "    '@frameid': 'GLUCOSE-1-PHOSPHAT-RXN'}},\n",
       "  '@ID': 'ECOLI:GLUCOSE-1-PHOSPHAT-ENZRXN',\n",
       "  '@orgid': 'ECOLI',\n",
       "  '@frameid': 'GLUCOSE-1-PHOSPHAT-ENZRXN',\n",
       "  '@detail': 'low'},\n",
       " {'common-name': {'@datatype': 'string', '#text': '3-phytase'},\n",
       "  'synonym': [{'@datatype': 'string',\n",
       "    '#text': 'myo-inositol-hexakisphosphate 3-phosphohydrolase'},\n",
       "   {'@datatype': 'string', '#text': 'phytase'},\n",
       "   {'@datatype': 'string', '#text': 'phytate 1-phosphatase'},\n",
       "   {'@datatype': 'string', '#text': 'phytate 6-phosphatase'},\n",
       "   {'@datatype': 'string', '#text': '1-phytase'}],\n",
       "  'enzyme': {'Protein': {'@resource': '#ECOLI:GLUCOSE-1-PHOSPHAT-CPLX',\n",
       "    '@orgid': 'ECOLI',\n",
       "    '@frameid': 'GLUCOSE-1-PHOSPHAT-CPLX'}},\n",
       "  'reaction': {'Reaction': {'@resource': 'getxml?ECOLI:RXN0-1001',\n",
       "    '@orgid': 'ECOLI',\n",
       "    '@frameid': 'RXN0-1001'}},\n",
       "  '@ID': 'ECOLI:ENZRXN0-1162',\n",
       "  '@orgid': 'ECOLI',\n",
       "  '@frameid': 'ENZRXN0-1162',\n",
       "  '@detail': 'low'}]"
      ]
     },
     "execution_count": 72,
     "metadata": {},
     "output_type": "execute_result"
    }
   ],
   "source": [
    "response = s.get(\"https://websvc.biocyc.org/apixml?fn=enzymes-of-gene&id=ECOLI:EG10033&detail=low\")\n",
    "tree = ElementTree.fromstring(response.content)\n",
    "dicte = etree_to_dict(tree)\n",
    "dicte['ptools-xml']['Protein']['catalyzes']['Enzymatic-Reaction']"
   ]
  },
  {
   "cell_type": "code",
   "execution_count": 120,
   "id": "4ee775a5-f324-45cb-8c90-41955922353a",
   "metadata": {},
   "outputs": [
    {
     "data": {
      "text/plain": [
       "[]"
      ]
     },
     "execution_count": 120,
     "metadata": {},
     "output_type": "execute_result"
    }
   ],
   "source": [
    "response = s.get(\"https://websvc.biocyc.org/apixml?fn=reactions-of-gene&id=ECOLI:EG10022&detail=full\")\n",
    "tree = ElementTree.fromstring(response.content)\n",
    "dicte = etree_to_dict(tree)\n",
    "enzymeRxn = dicte['ptools-xml']['Reaction']['enzymatic-reaction']['Enzymatic-Reaction']['@frameid']\n",
    "response = s.get(\"https://websvc.biocyc.org/getxml?id=ECOLI:\" + enzymeRxn + \"&detail=full\")\n",
    "tree = ElementTree.fromstring(response.content)\n",
    "dicte = etree_to_dict(tree)\n",
    "\n",
    "new = dicte['ptools-xml']['Enzymatic-Reaction']\n",
    "res = []\n",
    "\n",
    "if 'kcat' in new:\n",
    "    new = new['km']\n",
    "\n",
    "    for dicte in new:\n",
    "        val = dicte['value']['#text']\n",
    "        res.append(float(val))\n",
    "res"
   ]
  },
  {
   "cell_type": "code",
   "execution_count": 75,
   "id": "5435748d-029e-441f-af4a-a9b2a3901b6c",
   "metadata": {},
   "outputs": [
    {
     "ename": "SyntaxError",
     "evalue": "unexpected EOF while parsing (2816650018.py, line 2)",
     "output_type": "error",
     "traceback": [
      "\u001b[0;36m  File \u001b[0;32m\"/var/folders/zf/fxd7d9jj64bc8s9zvphjp8n40000gn/T/ipykernel_1968/2816650018.py\"\u001b[0;36m, line \u001b[0;32m2\u001b[0m\n\u001b[0;31m    \u001b[0m\n\u001b[0m    ^\u001b[0m\n\u001b[0;31mSyntaxError\u001b[0m\u001b[0;31m:\u001b[0m unexpected EOF while parsing\n"
     ]
    }
   ],
   "source": [
    "def substrates(reaction):\n",
    "    "
   ]
  },
  {
   "cell_type": "code",
   "execution_count": null,
   "id": "b7d06433-c071-4b81-9461-1148177355f1",
   "metadata": {},
   "outputs": [],
   "source": []
  },
  {
   "cell_type": "code",
   "execution_count": 32,
   "id": "2f9234fd-4b13-4938-8790-ce71f2883eb6",
   "metadata": {},
   "outputs": [],
   "source": [
    "genes = list(pd.read_csv(\"New Liste - Sheet.csv\")[\"Gene ID (EcoCyc)\"])\n",
    "res = {}"
   ]
  },
  {
   "cell_type": "code",
   "execution_count": null,
   "id": "af843e89-e757-487d-a3a2-41da46508082",
   "metadata": {},
   "outputs": [],
   "source": [
    "for gene in genes:\n",
    "    reactions = getReactions(gene)\n",
    "    for reaction in reactions:\n",
    "        otherGenes = getGenes(reaction)\n",
    "        enzymes = getEnzymes(reaction)\n",
    "        substrates = getSubstrates(reaction)\n",
    "        Kcat = getKcat(reaction)\n",
    "        Km = getKm(reaction)\n",
    "        temp = getTemp(reaction)"
   ]
  },
  {
   "cell_type": "code",
   "execution_count": 16,
   "id": "d70b6284-1f5f-40f7-9267-883459135d13",
   "metadata": {},
   "outputs": [],
   "source": [
    "response = requests.get(\"https://websvc.biocyc.org/getxml?id=ECOLI:ISOCITLYASE-ENZRXN&detail=full\")\n",
    "tree = ElementTree.fromstring(response.content)\n",
    "dicte = etree_to_dict(tree)"
   ]
  },
  {
   "cell_type": "code",
   "execution_count": 19,
   "id": "906e68ca-9fcd-4db8-bf1b-a5d540b9aaf7",
   "metadata": {},
   "outputs": [],
   "source": [
    "response = requests.get(\"https://websvc.biocyc.org/apixml?fn=reactions-of-gene&id=ECOLI:EG10022&detail=full\")\n",
    "tree = ElementTree.fromstring(response.content)\n",
    "dicte = etree_to_dict(tree)"
   ]
  },
  {
   "cell_type": "code",
   "execution_count": 26,
   "id": "2f6b8327-4a46-4223-b674-fd519f736929",
   "metadata": {},
   "outputs": [
    {
     "data": {
      "text/plain": [
       "{'parent': [{'Reaction': {'@resource': 'getxml?ECOLI:Chemical-Reactions',\n",
       "    '@orgid': 'ECOLI',\n",
       "    '@frameid': 'Chemical-Reactions',\n",
       "    '@class': 'true'}},\n",
       "  {'Reaction': {'@resource': 'getxml?ECOLI:Small-Molecule-Reactions',\n",
       "    '@orgid': 'ECOLI',\n",
       "    '@frameid': 'Small-Molecule-Reactions',\n",
       "    '@class': 'true'}}],\n",
       " 'in-pathway': {'Pathway': {'@resource': 'getxml?ECOLI:GLYOXYLATE-BYPASS',\n",
       "   '@orgid': 'ECOLI',\n",
       "   '@frameid': 'GLYOXYLATE-BYPASS'}},\n",
       " 'right': [{'Compound': {'@resource': 'getxml?ECOLI:GLYOX',\n",
       "    '@orgid': 'ECOLI',\n",
       "    '@frameid': 'GLYOX'}},\n",
       "  {'Compound': {'@resource': 'getxml?ECOLI:SUC',\n",
       "    '@orgid': 'ECOLI',\n",
       "    '@frameid': 'SUC'}}],\n",
       " 'left': {'Compound': {'@resource': 'getxml?ECOLI:THREO-DS-ISO-CITRATE',\n",
       "   '@orgid': 'ECOLI',\n",
       "   '@frameid': 'THREO-DS-ISO-CITRATE'}},\n",
       " 'comment': {'@datatype': 'string',\n",
       "  '#text': 'The reaction cleaves isocitrate in one direction, condenses\\nglyoxalate and succinate in the other direction'},\n",
       " 'synonym': [{'@datatype': 'string',\n",
       "   '#text': 'glyoxylate-succinate condensation'},\n",
       "  {'@datatype': 'string', '#text': 'isocitrate cleavage'}],\n",
       " 'ec-number': {'official': 'T', '#text': 'EC-4.1.3.1'},\n",
       " 'enzymatic-reaction': {'Enzymatic-Reaction': {'common-name': {'@datatype': 'string',\n",
       "    '#text': 'isocitrate lyase'},\n",
       "   'enzyme': {'Protein': {'@resource': 'getxml?ECOLI:ISOCIT-LYASE',\n",
       "     '@orgid': 'ECOLI',\n",
       "     '@frameid': 'ISOCIT-LYASE'}},\n",
       "   'reaction': {'Reaction': {'@resource': '#ECOLI:ISOCIT-CLEAV-RXN',\n",
       "     '@orgid': 'ECOLI',\n",
       "     '@frameid': 'ISOCIT-CLEAV-RXN'}},\n",
       "   '@ID': 'ECOLI:ISOCITLYASE-ENZRXN',\n",
       "   '@orgid': 'ECOLI',\n",
       "   '@frameid': 'ISOCITLYASE-ENZRXN',\n",
       "   '@detail': 'low'}},\n",
       " 'physiologically-relevant': {'@datatype': 'boolean', '#text': 'true'},\n",
       " 'gibbs-0': {'@datatype': 'float', '@units': 'kcal/mol', '#text': '3.2682343'},\n",
       " 'reaction-direction': 'REVERSIBLE',\n",
       " '@ID': 'ECOLI:ISOCIT-CLEAV-RXN',\n",
       " '@orgid': 'ECOLI',\n",
       " '@frameid': 'ISOCIT-CLEAV-RXN',\n",
       " '@detail': 'full'}"
      ]
     },
     "execution_count": 26,
     "metadata": {},
     "output_type": "execute_result"
    }
   ],
   "source": [
    "dicte['ptools-xml']['Reaction']"
   ]
  },
  {
   "cell_type": "code",
   "execution_count": null,
   "id": "43623255-d9ac-465f-b9fa-78f996671a58",
   "metadata": {},
   "outputs": [],
   "source": []
  }
 ],
 "metadata": {
  "kernelspec": {
   "display_name": "Python 3 (ipykernel)",
   "language": "python",
   "name": "python3"
  },
  "language_info": {
   "codemirror_mode": {
    "name": "ipython",
    "version": 3
   },
   "file_extension": ".py",
   "mimetype": "text/x-python",
   "name": "python",
   "nbconvert_exporter": "python",
   "pygments_lexer": "ipython3",
   "version": "3.8.5"
  }
 },
 "nbformat": 4,
 "nbformat_minor": 5
}
