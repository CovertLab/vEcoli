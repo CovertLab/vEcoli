{
 "cells": [
  {
   "cell_type": "code",
   "execution_count": 12,
   "id": "25ec9210-0c9f-4183-b418-976067b80376",
   "metadata": {},
   "outputs": [],
   "source": [
    "from collections import defaultdict\n",
    "from typing import List, Any\n",
    "from xml.etree import ElementTree\n",
    "\n",
    "import pandas as pd\n",
    "import requests"
   ]
  },
  {
   "cell_type": "code",
   "execution_count": 13,
   "id": "5e17192e-da2d-4459-9831-a052181347a3",
   "metadata": {},
   "outputs": [],
   "source": [
    "def etree_to_dict(t):\n",
    "    d = {t.tag: {} if t.attrib else None}\n",
    "    children = list(t)\n",
    "    if children:\n",
    "        dd = defaultdict(list)\n",
    "        for dc in map(etree_to_dict, children):\n",
    "            for k, v in dc.items():\n",
    "                dd[k].append(v)\n",
    "        d = {t.tag: {k: v[0] if len(v) == 1 else v\n",
    "                     for k, v in dd.items()}}\n",
    "    if t.attrib:\n",
    "        d[t.tag].update(('@' + k, v)\n",
    "                        for k, v in t.attrib.items())\n",
    "    if t.text:\n",
    "        text = t.text.strip()\n",
    "        if children or t.attrib:\n",
    "            if text:\n",
    "                d[t.tag]['#text'] = text\n",
    "        else:\n",
    "            d[t.tag] = text\n",
    "    return d"
   ]
  },
  {
   "cell_type": "code",
   "execution_count": 14,
   "id": "34657d6b-a77c-4033-8e78-551d49190b44",
   "metadata": {},
   "outputs": [],
   "source": [
    "response = requests.get(\"https://websvc.biocyc.org/st-service-get?id=biocyc17-56717-3854927444&format=xml\")\n",
    "tree = ElementTree.fromstring(response.content)\n",
    "dicte = etree_to_dict(tree)['GROUP']['ROWS']['ROW']"
   ]
  },
  {
   "cell_type": "code",
   "execution_count": 52,
   "id": "78aa5432-71a2-4d1a-829d-e8a2dc9dd711",
   "metadata": {},
   "outputs": [
    {
     "data": {
      "text/plain": [
       "[{'FRAME': {'@ID': 'EG11817-MONOMER', '@PGDB': 'ECOLI'}},\n",
       " {'FRAME': {'@ID': 'EG11817', '@PGDB': 'ECOLI'}},\n",
       " {'FRAME': [{'@ID': 'ENZRXN0-5181', '@PGDB': 'ECOLI'},\n",
       "   {'@ID': 'ENZRXN0-5182', '@PGDB': 'ECOLI'},\n",
       "   {'@ID': 'ENZRXN0-7651', '@PGDB': 'ECOLI'},\n",
       "   {'@ID': 'ENZRXN0-7650', '@PGDB': 'ECOLI'},\n",
       "   {'@ID': 'ENZRXN0-7656', '@PGDB': 'ECOLI'}]},\n",
       " {'VALUE': ['11.0', '4.9', '3.55', '9.84', '5.93', '8.04']},\n",
       " {'VALUE': ['260.0', '320.0', '2490.0', '100.0', '370.0', '280.0']}]"
      ]
     },
     "execution_count": 52,
     "metadata": {},
     "output_type": "execute_result"
    }
   ],
   "source": [
    "treeDictGene['GROUP']['ROWS']['ROW'][6]['CELL']"
   ]
  },
  {
   "cell_type": "code",
   "execution_count": 55,
   "id": "e8f1b17a-d715-40b0-940f-b2c7ae2cff9e",
   "metadata": {},
   "outputs": [],
   "source": [
    "genesList = list(pd.read_csv(\"Gene_List.csv\", header=None).loc[1:, 0])"
   ]
  },
  {
   "cell_type": "code",
   "execution_count": null,
   "id": "9f63245f-b329-4840-a02c-8fdf67999668",
   "metadata": {},
   "outputs": [],
   "source": [
    "for i in range(len(dicte)):\n",
    "    Km = dicte[i]['CELL'][-1]\n",
    "    Kcat = dicte[i]['CELL'][-2]\n",
    "    "
   ]
  }
 ],
 "metadata": {
  "kernelspec": {
   "display_name": "Python 3 (ipykernel)",
   "language": "python",
   "name": "python3"
  },
  "language_info": {
   "codemirror_mode": {
    "name": "ipython",
    "version": 3
   },
   "file_extension": ".py",
   "mimetype": "text/x-python",
   "name": "python",
   "nbconvert_exporter": "python",
   "pygments_lexer": "ipython3",
   "version": "3.8.5"
  }
 },
 "nbformat": 4,
 "nbformat_minor": 5
}
