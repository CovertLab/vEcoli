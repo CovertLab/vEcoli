{
 "cells": [
  {
   "cell_type": "code",
   "execution_count": 1,
   "id": "25ec9210-0c9f-4183-b418-976067b80376",
   "metadata": {},
   "outputs": [],
   "source": [
    "from collections import defaultdict\n",
    "from typing import List, Any\n",
    "from xml.etree import ElementTree\n",
    "\n",
    "import pandas as pd\n",
    "import requests"
   ]
  },
  {
   "cell_type": "code",
   "execution_count": 2,
   "id": "5e17192e-da2d-4459-9831-a052181347a3",
   "metadata": {},
   "outputs": [],
   "source": [
    "def etree_to_dict(t):\n",
    "    d = {t.tag: {} if t.attrib else None}\n",
    "    children = list(t)\n",
    "    if children:\n",
    "        dd = defaultdict(list)\n",
    "        for dc in map(etree_to_dict, children):\n",
    "            for k, v in dc.items():\n",
    "                dd[k].append(v)\n",
    "        d = {t.tag: {k: v[0] if len(v) == 1 else v\n",
    "                     for k, v in dd.items()}}\n",
    "    if t.attrib:\n",
    "        d[t.tag].update(('@' + k, v)\n",
    "                        for k, v in t.attrib.items())\n",
    "    if t.text:\n",
    "        text = t.text.strip()\n",
    "        if children or t.attrib:\n",
    "            if text:\n",
    "                d[t.tag]['#text'] = text\n",
    "        else:\n",
    "            d[t.tag] = text\n",
    "    return d"
   ]
  },
  {
   "cell_type": "code",
   "execution_count": 90,
   "id": "34657d6b-a77c-4033-8e78-551d49190b44",
   "metadata": {},
   "outputs": [],
   "source": [
    "response = requests.get(\"https://websvc.biocyc.org/st-service-get?id=biocyc17-56717-3854927444&format=xml\")\n",
    "tree = ElementTree.fromstring(response.content)\n",
    "dicte = etree_to_dict(tree)['GROUP']['ROWS']['ROW']"
   ]
  },
  {
   "cell_type": "code",
   "execution_count": 106,
   "id": "78aa5432-71a2-4d1a-829d-e8a2dc9dd711",
   "metadata": {},
   "outputs": [
    {
     "data": {
      "text/plain": [
       "{'VALUE': ['437.0', '381.0']}"
      ]
     },
     "execution_count": 106,
     "metadata": {},
     "output_type": "execute_result"
    }
   ],
   "source": [
    "dicte[5]['CELL'][-1]"
   ]
  },
  {
   "cell_type": "code",
   "execution_count": 86,
   "id": "e8f1b17a-d715-40b0-940f-b2c7ae2cff9e",
   "metadata": {},
   "outputs": [],
   "source": [
    "genesList = list(pd.read_csv(\"Gene_List.csv\", header=None).loc[1:, 0])"
   ]
  },
  {
   "cell_type": "code",
   "execution_count": 87,
   "id": "5a42a337-931d-4224-9875-15d0cc619fe0",
   "metadata": {},
   "outputs": [],
   "source": [
    "gene_to_Km_Kcat = {}"
   ]
  },
  {
   "cell_type": "code",
   "execution_count": 88,
   "id": "98a0944b-6c7e-4178-a971-921e9147b592",
   "metadata": {},
   "outputs": [],
   "source": [
    "def getnames(values):\n",
    "    for i in range(len(dicte)):\n",
    "        temp = values[i]['CELL'][-4]['FRAME']\n",
    "        res = []\n",
    "        if type(temp) is list:\n",
    "            for val in temp:\n",
    "                res.append(val['@ID'])\n",
    "        else:\n",
    "            res.append(temp['@ID'])\n",
    "    \n",
    "    return res"
   ]
  },
  {
   "cell_type": "code",
   "execution_count": 89,
   "id": "9f63245f-b329-4840-a02c-8fdf67999668",
   "metadata": {},
   "outputs": [
    {
     "ename": "TypeError",
     "evalue": "list indices must be integers or slices, not str",
     "output_type": "error",
     "traceback": [
      "\u001b[0;31m---------------------------------------------------------------------------\u001b[0m",
      "\u001b[0;31mTypeError\u001b[0m                                 Traceback (most recent call last)",
      "\u001b[0;32m/var/folders/zf/fxd7d9jj64bc8s9zvphjp8n40000gn/T/ipykernel_83213/2903056994.py\u001b[0m in \u001b[0;36m<module>\u001b[0;34m\u001b[0m\n\u001b[0;32m----> 1\u001b[0;31m \u001b[0mnames\u001b[0m \u001b[0;34m=\u001b[0m \u001b[0mgetnames\u001b[0m\u001b[0;34m(\u001b[0m\u001b[0mdicte\u001b[0m\u001b[0;34m)\u001b[0m\u001b[0;34m\u001b[0m\u001b[0;34m\u001b[0m\u001b[0m\n\u001b[0m",
      "\u001b[0;32m/var/folders/zf/fxd7d9jj64bc8s9zvphjp8n40000gn/T/ipykernel_83213/2608629875.py\u001b[0m in \u001b[0;36mgetnames\u001b[0;34m(values)\u001b[0m\n\u001b[1;32m      3\u001b[0m         \u001b[0mtemp\u001b[0m \u001b[0;34m=\u001b[0m \u001b[0mvalues\u001b[0m\u001b[0;34m[\u001b[0m\u001b[0mi\u001b[0m\u001b[0;34m]\u001b[0m\u001b[0;34m[\u001b[0m\u001b[0;34m'CELL'\u001b[0m\u001b[0;34m]\u001b[0m\u001b[0;34m\u001b[0m\u001b[0;34m\u001b[0m\u001b[0m\n\u001b[1;32m      4\u001b[0m         \u001b[0mres\u001b[0m \u001b[0;34m=\u001b[0m \u001b[0;34m[\u001b[0m\u001b[0;34m]\u001b[0m\u001b[0;34m\u001b[0m\u001b[0;34m\u001b[0m\u001b[0m\n\u001b[0;32m----> 5\u001b[0;31m         \u001b[0mname\u001b[0m \u001b[0;34m=\u001b[0m \u001b[0mtemp\u001b[0m\u001b[0;34m[\u001b[0m\u001b[0;34m-\u001b[0m\u001b[0;36m4\u001b[0m\u001b[0;34m]\u001b[0m\u001b[0;34m[\u001b[0m\u001b[0;34m'FRAME'\u001b[0m\u001b[0;34m]\u001b[0m\u001b[0;34m[\u001b[0m\u001b[0;34m'@ID'\u001b[0m\u001b[0;34m]\u001b[0m\u001b[0;34m\u001b[0m\u001b[0;34m\u001b[0m\u001b[0m\n\u001b[0m\u001b[1;32m      6\u001b[0m         \u001b[0mres\u001b[0m\u001b[0;34m.\u001b[0m\u001b[0mappend\u001b[0m\u001b[0;34m(\u001b[0m\u001b[0mname\u001b[0m\u001b[0;34m)\u001b[0m\u001b[0;34m\u001b[0m\u001b[0;34m\u001b[0m\u001b[0m\n\u001b[1;32m      7\u001b[0m \u001b[0;34m\u001b[0m\u001b[0m\n",
      "\u001b[0;31mTypeError\u001b[0m: list indices must be integers or slices, not str"
     ]
    }
   ],
   "source": [
    "names = getnames(dicte)"
   ]
  },
  {
   "cell_type": "code",
   "execution_count": 49,
   "id": "cb7380fa-d23f-425d-8305-84df67eebaab",
   "metadata": {},
   "outputs": [
    {
     "data": {
      "text/plain": [
       "[]"
      ]
     },
     "execution_count": 49,
     "metadata": {},
     "output_type": "execute_result"
    }
   ],
   "source": [
    "names"
   ]
  },
  {
   "cell_type": "code",
   "execution_count": null,
   "id": "42a465ac-5042-4a98-92f3-41ccebbc4173",
   "metadata": {},
   "outputs": [],
   "source": [
    "for gene in genelist:\n",
    "    for i in range(len(dicte)):\n",
    "        res = []\n",
    "        getnames(dicte\n",
    "        if gene == \n",
    "        Km = dicte[i]['CELL'][-1]\n",
    "        Kcat = dicte[i]['CELL'][-2]\n",
    "    "
   ]
  }
 ],
 "metadata": {
  "kernelspec": {
   "display_name": "Python 3 (ipykernel)",
   "language": "python",
   "name": "python3"
  },
  "language_info": {
   "codemirror_mode": {
    "name": "ipython",
    "version": 3
   },
   "file_extension": ".py",
   "mimetype": "text/x-python",
   "name": "python",
   "nbconvert_exporter": "python",
   "pygments_lexer": "ipython3",
   "version": "3.8.5"
  }
 },
 "nbformat": 4,
 "nbformat_minor": 5
}
