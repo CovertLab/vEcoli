{
 "cells": [
  {
   "cell_type": "code",
   "execution_count": 65,
   "id": "f7dc8326-8baa-40a3-8712-936b2a07712b",
   "metadata": {},
   "outputs": [],
   "source": [
    "import seaborn\n",
    "import numpy\n",
    "import pandas\n",
    "import matplotlib.pyplot as plt"
   ]
  },
  {
   "cell_type": "code",
   "execution_count": 54,
   "id": "fb28817a-1553-4752-b257-848ef4f1ae95",
   "metadata": {},
   "outputs": [],
   "source": [
    "df = pandas.read_csv(\"params.csv\")"
   ]
  },
  {
   "cell_type": "code",
   "execution_count": 55,
   "id": "60c8ada8-a337-46cc-b271-40614b6266a9",
   "metadata": {},
   "outputs": [],
   "source": [
    "information = {\n",
    "    'kcat (1/s)': 0,\n",
    "    'kM (uM)': 0,\n",
    "    'vmax': 0,\n",
    "    'ph': 0,\n",
    "    'temperature': 0\n",
    "}"
   ]
  },
  {
   "cell_type": "code",
   "execution_count": 56,
   "id": "6073a464-cab0-4c5d-a2b6-8ea4240f9bfe",
   "metadata": {},
   "outputs": [],
   "source": [
    "# count kcats\n",
    "x = df['kcat (1/s)']\n",
    "for item in x:\n",
    "    item = item.strip('][').split(', ')\n",
    "    for val in item:\n",
    "        if val != '-1':\n",
    "            information['kcat (1/s)'] += 1"
   ]
  },
  {
   "cell_type": "code",
   "execution_count": 57,
   "id": "e91ca2ea-879d-46a3-8689-3c1bd45077f5",
   "metadata": {},
   "outputs": [],
   "source": [
    "# count kms\n",
    "x = df['kM (uM)']\n",
    "for item in x:\n",
    "    item = item.strip('][').split(', ')\n",
    "    for val in item:\n",
    "        if val != '-1':\n",
    "            information['kM (uM)'] += 1"
   ]
  },
  {
   "cell_type": "code",
   "execution_count": 58,
   "id": "4003a1a5-0221-4a2a-bad6-3eb5cf2de1b4",
   "metadata": {},
   "outputs": [],
   "source": [
    "# count vmax\n",
    "x = df['vmax']\n",
    "for item in x:\n",
    "    item = item.strip('][').split(', ')\n",
    "    for val in item:\n",
    "        if val != '-1':\n",
    "            information['vmax'] += 1"
   ]
  },
  {
   "cell_type": "code",
   "execution_count": 60,
   "id": "6df616d3-0276-4d03-a765-995c0257a07c",
   "metadata": {},
   "outputs": [],
   "source": [
    "# count ph\n",
    "x = df['ph']\n",
    "for item in x:\n",
    "    item = item.strip('][').split(', ')\n",
    "    for val in item:\n",
    "        if val != \"\":\n",
    "            information['ph'] += 1"
   ]
  },
  {
   "cell_type": "code",
   "execution_count": 62,
   "id": "5b085363-503f-46c3-9e88-b82819e1f8a4",
   "metadata": {},
   "outputs": [],
   "source": [
    "# count temperature\n",
    "x = df['temperature']\n",
    "for item in x:\n",
    "    item = item.strip('][').split(', ')\n",
    "    for val in item:\n",
    "        if val != \"\":\n",
    "            information['temperature'] += 1"
   ]
  },
  {
   "cell_type": "code",
   "execution_count": 63,
   "id": "80216aac-b419-47f1-b00a-f9c51b0d7e20",
   "metadata": {},
   "outputs": [
    {
     "data": {
      "text/plain": [
       "{'kcat (1/s)': 79, 'kM (uM)': 173, 'vmax': 39, 'ph': 34, 'temperature': 11}"
      ]
     },
     "execution_count": 63,
     "metadata": {},
     "output_type": "execute_result"
    }
   ],
   "source": [
    "information"
   ]
  },
  {
   "cell_type": "code",
   "execution_count": 72,
   "id": "a2f09771-e5c0-4439-85dc-96645ca0ac23",
   "metadata": {},
   "outputs": [
    {
     "data": {
      "image/png": "[encoded data removed]",
      "text/plain": [
       "<Figure size 432x288 with 1 Axes>"
      ]
     },
     "metadata": {
      "needs_background": "light"
     },
     "output_type": "display_data"
    }
   ],
   "source": [
    "keys = list(information.keys())\n",
    "# get values in the same order as keys, and parse percentage values\n",
    "vals = [float(information[k]) for k in keys]\n",
    "seaborn.barplot(x=keys, y=vals)\n",
    "plt.savefig(\"parameters.jpg\")\n",
    "plt.show()"
   ]
  },
  {
   "cell_type": "code",
   "execution_count": null,
   "id": "d5942110-79b8-4ca6-a29a-642fa7687569",
   "metadata": {},
   "outputs": [],
   "source": []
  }
 ],
 "metadata": {
  "kernelspec": {
   "display_name": "Python 3 (ipykernel)",
   "language": "python",
   "name": "python3"
  },
  "language_info": {
   "codemirror_mode": {
    "name": "ipython",
    "version": 3
   },
   "file_extension": ".py",
   "mimetype": "text/x-python",
   "name": "python",
   "nbconvert_exporter": "python",
   "pygments_lexer": "ipython3",
   "version": "3.8.5"
  }
 },
 "nbformat": 4,
 "nbformat_minor": 5
}
