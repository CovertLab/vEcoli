{
 "cells": [
  {
   "cell_type": "markdown",
   "id": "1fb56ef7-fae5-41e7-8b33-e0260c2fca5c",
   "metadata": {},
   "source": [
    "# **Sim Output to EcoCyc Data Comparison**"
   ]
  },
  {
   "cell_type": "raw",
   "id": "8307142d-5f2b-4364-9eb8-40a34d12b68f",
   "metadata": {},
   "source": [
    "This notebook is used to visualize and validate Vivarium Ecoli Simulation metabolism output. Several functions include heatmaps of reaction flux and complex counts over time, as well as comparison to EcoCyc data to visualize proper functioning within the model and isolate improper reaction/complex function within the model. "
   ]
  },
  {
   "cell_type": "code",
   "execution_count": 9,
   "id": "3c99d2a8-a824-4e9d-b8a2-e96a9b21f031",
   "metadata": {},
   "outputs": [],
   "source": [
    "import numpy as np\n",
    "import pandas as pd\n",
    "import statistics\n",
    "import math\n",
    "import seaborn as sns\n",
    "import matplotlib.pyplot as plt\n",
    "import ast"
   ]
  },
  {
   "cell_type": "code",
   "execution_count": 10,
   "id": "ca7b40a8-3e89-4276-89f1-d5c2fb2ed236",
   "metadata": {},
   "outputs": [],
   "source": [
    "logTransposeConst = 1\n",
    "\n",
    "def notPresent(key, complexesFunc):\n",
    "    amounts = complexesFunc[key]\n",
    "    for num in amounts:\n",
    "        if not num == 0:\n",
    "            return False\n",
    "    return True\n",
    "    \n",
    "def zeroFlux(key, dictionary):\n",
    "    fluxes = dictionary[key]\n",
    "    for num in fluxes:\n",
    "        if not num == 0:\n",
    "            return False\n",
    "    return True\n",
    "\n",
    "\n",
    "def createTuples(dictionary):\n",
    "    result = []\n",
    "    keys = dictionary.keys()\n",
    "    for key in keys:\n",
    "        mean = statistics.mean(dictionary[key])\n",
    "        result.append(tuple((key, mean)))\n",
    "    return result\n",
    "\n",
    "\n",
    "def getZeroFluxReactions(reactionDictionary):\n",
    "    reactions = reactionDictionary.keys()\n",
    "    zeroFluxReactions = []\n",
    "\n",
    "    for key in reactions:\n",
    "        if zeroFlux(key, reactionDictionary):\n",
    "            zeroFluxReactions.append(key)\n",
    "            \n",
    "    return zeroFluxReactions\n",
    "\n",
    "\n",
    "def createHeatMapFluxes(reactionDictionary, mapHeight, annot_grid):\n",
    "    reactions = reactionDictionary.keys()\n",
    "    zeroFluxReactions = []\n",
    "    nonZeroFlux = {}\n",
    "\n",
    "    for key in reactions:\n",
    "        if zeroFlux(key, reactionDictionary):\n",
    "            zeroFluxReactions.append(key)\n",
    "        else:\n",
    "            res = [abs(ele) for ele in reactionDictionary[key]]\n",
    "            nonZeroFlux[key] = res\n",
    "\n",
    "    transformedData = {}\n",
    "    for key in nonZeroFlux.keys():\n",
    "        new = []\n",
    "        old = nonZeroFlux[key]\n",
    "        for val in old:\n",
    "            new.append(math.log(val + logTransposeConst))\n",
    "        transformedData[key] = new\n",
    "\n",
    "    tuples = createTuples(transformedData)\n",
    "    tuples.sort(key=lambda x: x[1])\n",
    "\n",
    "    sortedReactions = {}\n",
    "    for elem in tuples:\n",
    "        key = elem[0]\n",
    "        sortedReactions[key] = transformedData[key]\n",
    "\n",
    "    df = pd.DataFrame.from_dict(sortedReactions, orient='index')\n",
    "    df.index.name = 'Reactions'\n",
    "    df.reset_index(inplace=False)\n",
    "    \n",
    "    revertedCounts = {}\n",
    "    for key in sortedReactions.keys():\n",
    "        temp = []\n",
    "        for val in sortedReactions[key]:\n",
    "            temp.append((math.e ** val) - 1)\n",
    "        revertedCounts[key] = temp\n",
    "\n",
    "    df2 = pd.DataFrame.from_dict(revertedCounts, orient='index')\n",
    "    df2.index.name = 'Reactions'\n",
    "    df2.reset_index(inplace=False)\n",
    "    \n",
    "    fig, ax = plt.subplots(figsize=(50, mapHeight))\n",
    "    plt.xlabel(\"Seconds\")\n",
    "    if annot_grid:\n",
    "        sns.heatmap(df, cmap=\"rocket_r\", linewidths=.5, annot=df2)\n",
    "    else:\n",
    "        sns.heatmap(df, cmap=\"rocket_r\")\n",
    "        \n",
    "    return \n",
    "\n",
    "def createHeatMapComplexes(complexes, mapHeight, annot_grid):\n",
    "    complexNames = complexes.keys()\n",
    "    zeroQuantComplexes = []\n",
    "    presentComplexes = {}\n",
    "\n",
    "    for key in complexes:\n",
    "        if notPresent(key, complexes):\n",
    "            zeroQuantComplexes.append(key)\n",
    "        else:\n",
    "            presentComplexes[key] = complexes[key]\n",
    "\n",
    "    transformedData = {}\n",
    "    for key in presentComplexes.keys():\n",
    "        new = []\n",
    "        old = presentComplexes[key]\n",
    "        for val in old:\n",
    "            new.append(math.log(val + logTransposeConst))\n",
    "        transformedData[key] = new\n",
    "\n",
    "    tuples = createTuples(transformedData)\n",
    "    tuples.sort(key=lambda x: x[1])\n",
    "\n",
    "    sortedComplexes = {}\n",
    "    for elem in tuples:\n",
    "        key = elem[0]\n",
    "        sortedComplexes[key] = transformedData[key]\n",
    "\n",
    "    df = pd.DataFrame.from_dict(sortedComplexes, orient='index')\n",
    "    df.index.name = 'Reactions'\n",
    "    df.reset_index(inplace=False)\n",
    "\n",
    "    fig, ax = plt.subplots(figsize=(50, mapHeight))\n",
    "    plt.xlabel(\"Seconds\")\n",
    "    if annot_grid:\n",
    "        sns.heatmap(df, cmap=\"rocket_r\", linewidths=.5, annot=True)\n",
    "    else:\n",
    "        sns.heatmap(df, cmap=\"rocket_r\")\n",
    "\n",
    "    return "
   ]
  },
  {
   "cell_type": "code",
   "execution_count": 11,
   "id": "9b51c302-8c83-4600-8df1-1fadbbd83b13",
   "metadata": {},
   "outputs": [],
   "source": [
    "simData = np.load(r\"../../out/geneRxnVerifData/output.npy\", allow_pickle=True, encoding='ASCII')\n",
    "fluxesWithCaption = simData.tolist()['agents']['0']['listeners']['fba_results']['estimated_fluxes']\n",
    "complexes = simData.tolist()['agents']['0']['bulk']\n",
    "\n",
    "ecData = pd.read_csv(r\"../new genes/geneData.txt\")\n",
    "ecReactions = ecData[\"reactionID\"].values.tolist()\n",
    "temp = []\n",
    "for word in ecReactions:\n",
    "    if not word == \"No Reaction Found\":\n",
    "        temp.append(word)\n",
    "ecReactions = temp\n",
    "\n",
    "metabolData = np.load(r\"../../out/stoichiometry.npy\", allow_pickle=True, encoding='ASCII')\n",
    "rxn_metabolites = metabolData.tolist()"
   ]
  },
  {
   "cell_type": "markdown",
   "id": "8f506629-46bd-40d8-9637-1b7bac30a7bc",
   "metadata": {},
   "source": [
    "### **Sim Output: Reaction Flux Analysis**"
   ]
  },
  {
   "cell_type": "markdown",
   "id": "c915b27b-d345-4ddb-81dc-063b6e4df260",
   "metadata": {},
   "source": [
    "#### *Run Following Block to visualize reactions with Flux throughout time frame*"
   ]
  },
  {
   "cell_type": "code",
   "execution_count": null,
   "id": "810da8d7-4a93-4439-9787-f79369c56336",
   "metadata": {},
   "outputs": [],
   "source": [
    "createHeatMapFluxes(fluxesWithCaption, 650, True)"
   ]
  },
  {
   "cell_type": "markdown",
   "id": "eb0c503d-22e7-4ddf-bd15-a488ccffa438",
   "metadata": {},
   "source": [
    "#### *Run Following Block to identify reactions with Zero Flux throughout time frame*"
   ]
  },
  {
   "cell_type": "code",
   "execution_count": 12,
   "id": "aebb0a2e-6015-4034-9826-05ab81404b5a",
   "metadata": {},
   "outputs": [
    {
     "name": "stdout",
     "output_type": "stream",
     "text": [
      "6792 zero flux reactions found.\n"
     ]
    },
    {
     "name": "stdin",
     "output_type": "stream",
     "text": [
      "Press 'Enter' to show reaction names. Click any other key to contintue wef\n"
     ]
    }
   ],
   "source": [
    "rxns = getZeroFluxReactions(fluxesWithCaption)\n",
    "print(len(rxns), \"zero flux reactions found.\")\n",
    "enter = input(\"Press 'Enter' to show reaction names. Click any other key to contintue\")\n",
    "if enter == \"\":\n",
    "    print(rxns)"
   ]
  },
  {
   "cell_type": "markdown",
   "id": "ff86f38b-ec5d-4ed9-a4b0-d84692eff692",
   "metadata": {},
   "source": [
    "### **Sim Output: Complex Analysis**"
   ]
  },
  {
   "cell_type": "markdown",
   "id": "50353107-9fc2-45f0-af6a-3ecf8fdbf351",
   "metadata": {},
   "source": [
    "#### *Run Following Block to visualize complexes present during time frame*"
   ]
  },
  {
   "cell_type": "code",
   "execution_count": null,
   "id": "af1d8526-628b-4516-aff3-9279ef6a14a9",
   "metadata": {},
   "outputs": [],
   "source": [
    "createHeatMapComplexes(complexes, 650, False)"
   ]
  },
  {
   "cell_type": "markdown",
   "id": "874d897b-178a-45f4-8eb5-8094f5a10456",
   "metadata": {},
   "source": [
    "#### *Run Following Block to identify complexes not present throughout time frame*"
   ]
  },
  {
   "cell_type": "code",
   "execution_count": null,
   "id": "15744fc4-0f9b-4aa3-ad24-232269118bb7",
   "metadata": {},
   "outputs": [],
   "source": [
    "zeroQuant = []\n",
    "for key in complexes.keys():\n",
    "    if notPresent(key, complexes):\n",
    "        zeroQuant.append(key)\n",
    "        \n",
    "print(len(zeroQuant), \"complexes not found.\")\n",
    "enter = input(\"Press 'Enter' to show reaction names. Click any other key to contintue\")\n",
    "if enter == \"\":\n",
    "    print(zeroQuant)     "
   ]
  },
  {
   "cell_type": "markdown",
   "id": "a4c8645d-8735-4196-a02a-3134821e8a65",
   "metadata": {},
   "source": [
    "#### *Run Following Block to identify complexes with incorrect compartments*"
   ]
  },
  {
   "cell_type": "code",
   "execution_count": null,
   "id": "9a7c2eae-c68f-48ec-bcad-00590147c230",
   "metadata": {},
   "outputs": [],
   "source": [
    "incorrectCompartments = []\n",
    "for complex_ in complexes:\n",
    "    if not (complex_[len(complex_) - 1 - 2] == '[' and complex_[len(complex_) - 1] == ']'):\n",
    "        incorrectCompartments.append(complex_)\n",
    "\n",
    "print(len(incorrectCompartments), \"incorrect compartments found.\")\n",
    "enter = input(\"Press 'Enter' to show complex names. Click any other key to contintue\")\n",
    "if enter == \"\":\n",
    "    print(incorrectCompartments)"
   ]
  },
  {
   "cell_type": "markdown",
   "id": "1bfdbe8c-5bd7-4815-a35c-c9719ff5ddc3",
   "metadata": {},
   "source": [
    "### **EcoCyc Comparison: Reaction Flux**"
   ]
  },
  {
   "cell_type": "markdown",
   "id": "a19e35da-11a3-4d7b-bfff-fd1a7f7e8a07",
   "metadata": {},
   "source": [
    "#### *Run following block before any other block in this section* **Block A**"
   ]
  },
  {
   "cell_type": "code",
   "execution_count": null,
   "id": "522b46eb-eca8-4693-8982-604948e4e1c3",
   "metadata": {},
   "outputs": [],
   "source": [
    "reactionsSim = fluxesWithCaption.keys()\n",
    "\n",
    "foundReactions = {}\n",
    "unfoundReactions = []\n",
    "\n",
    "for reaction in ecReactions:\n",
    "    x = 0\n",
    "    for reactionSim in reactionsSim:\n",
    "        if reaction in reactionSim:\n",
    "            index = reactionSim.find(reaction)\n",
    "            indexOfNextChar = index + len(reaction)\n",
    "            if indexOfNextChar >= len(reactionSim) or not (reactionSim[indexOfNextChar].isdigit() or reactionSim[indexOfNextChar].isalpha()):\n",
    "                x = 1\n",
    "                key = \"(\" + reaction + \")\" + reactionSim\n",
    "                foundReactions[key] = fluxesWithCaption[reactionSim]\n",
    "    if x == 0:\n",
    "        unfoundReactions.append(reaction)"
   ]
  },
  {
   "cell_type": "markdown",
   "id": "148db0c9-aaa7-4d65-8730-365aac95053a",
   "metadata": {},
   "source": [
    "#### *Run following block to identify EcoCyc reactions not found in Simulation*"
   ]
  },
  {
   "cell_type": "code",
   "execution_count": null,
   "id": "f72800bf-f69e-42a0-aaf5-dbb69836c0e2",
   "metadata": {},
   "outputs": [],
   "source": [
    "print(len(unfoundReactions), \"reactions not present.\")\n",
    "enter = input(\"Press 'Enter' to show complex names. Click any other key to contintue\")\n",
    "if enter == \"\":\n",
    "    print(unfoundReactions)"
   ]
  },
  {
   "cell_type": "markdown",
   "id": "072da8a9-ae88-4bcb-b898-c9f6ac07534e",
   "metadata": {},
   "source": [
    "#### *Run following block to identify EcoCyc reactions with No Flux in Simulation*"
   ]
  },
  {
   "cell_type": "code",
   "execution_count": null,
   "id": "4a2d11cc-d66c-42b9-81b7-11ee019eb95a",
   "metadata": {},
   "outputs": [],
   "source": [
    "rxns1 = getZeroFluxReactions(foundReactions)\n",
    "print(len(rxns1), \"zero flux reactions found.\")\n",
    "enter = input(\"Press 'Enter' to show reaction names. Click any other key to contintue\")\n",
    "if enter == \"\":\n",
    "    print(rxns1)"
   ]
  },
  {
   "cell_type": "markdown",
   "id": "a499d94f-8c02-4998-a379-535c188fc61f",
   "metadata": {},
   "source": [
    "#### *Run following block to visualize non-zero fluxes for EcoCyc reactions found in Simulation*"
   ]
  },
  {
   "cell_type": "code",
   "execution_count": null,
   "id": "14f09abe-3b3a-4245-b088-87f476cf6e85",
   "metadata": {},
   "outputs": [],
   "source": [
    "createHeatMapFluxes(foundReactions, 25, True)"
   ]
  },
  {
   "cell_type": "markdown",
   "id": "a3827587-eeb7-48f9-9b12-cb987876824c",
   "metadata": {},
   "source": [
    "### **EcoCyc Comparison: Stoichiometry**"
   ]
  },
  {
   "cell_type": "markdown",
   "id": "e37c30af-88cf-4503-897b-2240ceef9943",
   "metadata": {},
   "source": [
    "#### *Run following block to validate metabolite compartments*"
   ]
  },
  {
   "cell_type": "code",
   "execution_count": null,
   "id": "b208efd8-502a-451e-8ed6-ded39bc687ff",
   "metadata": {},
   "outputs": [],
   "source": [
    "incorrect = []\n",
    "\n",
    "for reaction in rxn_metabolites.keys():\n",
    "    for metabolite in rxn_metabolites[reaction].keys():\n",
    "        if not (metabolite[len(metabolite) - 1 - 2] == '[' and metabolite[len(metabolite) - 1] == ']'):\n",
    "            incorrect.append((reaction, metabolite))\n",
    "\n",
    "print(len(incorrect), \"incorrect compartments found.\")\n",
    "enter = input(\"Press 'Enter' to show metabolite names. Click any other key to contintue\")\n",
    "if enter == \"\":\n",
    "    print(incorrect)"
   ]
  },
  {
   "cell_type": "markdown",
   "id": "ed71bf98-e78c-4d84-8a49-88ec49d81bda",
   "metadata": {},
   "source": [
    "#### *Run following block to validate complexation/stoichiometry for EcoCyc reactions found in Sim*"
   ]
  },
  {
   "cell_type": "markdown",
   "id": "018a65a1-7b9e-4fb9-bbdf-a38f0f5b5653",
   "metadata": {},
   "source": [
    "**Please run Block A first**"
   ]
  },
  {
   "cell_type": "code",
   "execution_count": null,
   "id": "fdf0278e-d3dc-4c5b-bf12-2ea004b38d5a",
   "metadata": {},
   "outputs": [],
   "source": [
    "incorrect = []\n",
    "ecDict = dict(zip(ecData.reactionID, ecData.stoichiometry))\n",
    "\n",
    "errors = []\n",
    "\n",
    "for reaction in foundReactions.keys():\n",
    "    if \"(reverse)\" not in reaction:\n",
    "        x = 0\n",
    "        origKey = \"\"\n",
    "        newKey = \"\"\n",
    "\n",
    "        for i in range(len(reaction)):\n",
    "            if x >= 2:\n",
    "                newKey = reaction[i:]\n",
    "                break\n",
    "            if reaction[i] == '(' or reaction[i] == ')':\n",
    "                x += 1\n",
    "            else:\n",
    "                origKey += reaction[i]\n",
    "\n",
    "        ec_stoich1 = ecDict[origKey]\n",
    "        sim_stoich = rxn_metabolites[newKey]\n",
    "        ec_stoich = ast.literal_eval(ec_stoich1)\n",
    "\n",
    "        temp = sim_stoich.keys()\n",
    "        sim_stoich_new = {}\n",
    "\n",
    "        for metabolite in temp:\n",
    "            woutComp = metabolite[0:len(metabolite) - 3]\n",
    "            if woutComp not in sim_stoich_new.keys():\n",
    "                sim_stoich_new[woutComp] = sim_stoich[metabolite]\n",
    "            else:\n",
    "                temp = [sim_stoich_new[woutComp], sim_stoich[metabolite]]\n",
    "                sim_stoich_new[woutComp] = temp\n",
    "\n",
    "        for key in sim_stoich_new.keys():\n",
    "            if key in ec_stoich.keys():\n",
    "                a = sim_stoich_new[key]\n",
    "                b = ec_stoich[key]\n",
    "                if type(a) is list and type(b) is list:\n",
    "                    a = list(a)\n",
    "                    b = list(b)\n",
    "                if not a == b:\n",
    "                        errors.append((\"Discrepency in stoichiometry:\", reaction, key, sim_stoich_new[key], ec_stoich[key]))            \n",
    "            else:\n",
    "                errors.append((\"Metabolite not in EcoCyc Data:\", reaction, key))\n",
    "            \n",
    "print(len(errors), \"discrepencies found: \")\n",
    "x = input(\"Click 'Enter' to show errors. Click any other key to continue\")\n",
    "if x == \"\":\n",
    "    print(errors)"
   ]
  },
  {
   "cell_type": "markdown",
   "id": "1184604b-88a3-463f-9ca4-45b7405cef24",
   "metadata": {},
   "source": [
    "### **EcoCyc Comparison: Complexes**"
   ]
  },
  {
   "cell_type": "code",
   "execution_count": 14,
   "id": "4ff0a524-f499-4570-b9fa-ecb27316cf7f",
   "metadata": {},
   "outputs": [],
   "source": [
    "ecComplexes = []\n",
    "ecDict1 = list(ecData[\"protein_complexes\"])\n",
    "\n",
    "for s in ecDict1:\n",
    "    s1 = s.replace(\"[\", \"\")\n",
    "    s2 = s1.replace(\"]\", \"\")\n",
    "    s3 = s2.replace(\"\\'\", \"\")\n",
    "    sLi = s3.split(\", \")\n",
    "    ecComplexes += sLi"
   ]
  },
  {
   "cell_type": "markdown",
   "id": "df5fe507-bab2-4d10-b374-625083d6e2f7",
   "metadata": {},
   "source": [
    "#### *Run following block to identify EcoCyc complexes not in Sim Data complexes*"
   ]
  },
  {
   "cell_type": "code",
   "execution_count": 16,
   "id": "4995cd59-e4a8-444c-a8d3-9d2661f60b62",
   "metadata": {},
   "outputs": [
    {
     "name": "stdout",
     "output_type": "stream",
     "text": [
      "12 complexes not found.\n"
     ]
    },
    {
     "name": "stdin",
     "output_type": "stream",
     "text": [
      "Press 'Enter' to show complex names. Click any other key to contintue asdr\n"
     ]
    }
   ],
   "source": [
    "complexes_edit = []\n",
    "notPresent1 = []\n",
    "\n",
    "for complex1 in complexes.keys():\n",
    "    woutComp = complex1[0:len(complex1) - 3]\n",
    "    complexes_edit.append(woutComp)\n",
    "    \n",
    "for complex2 in ecComplexes:\n",
    "    if complex2 not in complexes_edit:\n",
    "        notPresent1.append(complex2)\n",
    "        \n",
    "print(len(notPresent1), \"complexes not found.\")\n",
    "enter = input(\"Press 'Enter' to show complex names. Click any other key to contintue\")\n",
    "\n",
    "if enter == \"\":\n",
    "    print(notPresent1)\n",
    "    \n",
    "for x in notPresent1:\n",
    "    if x not in ecComplexes:\n",
    "        print(a)"
   ]
  },
  {
   "cell_type": "markdown",
   "id": "e842cece-7f12-43fa-9265-7ee58f857ae5",
   "metadata": {},
   "source": [
    "#### *Run following block to identify EcoCyc complexes with no concentration in Sim Data*"
   ]
  },
  {
   "cell_type": "code",
   "execution_count": 18,
   "id": "9275fdd3-b63d-44d8-b29a-765de9df4ae3",
   "metadata": {},
   "outputs": [
    {
     "name": "stdout",
     "output_type": "stream",
     "text": [
      "19 complexes found.\n"
     ]
    },
    {
     "name": "stdin",
     "output_type": "stream",
     "text": [
      "Press 'Enter' to show complex names. Click any other key to contintue rth\n"
     ]
    }
   ],
   "source": [
    "zeroQuantg = []\n",
    "for key in complexes.keys():\n",
    "    if notPresent(key, complexes):\n",
    "        zeroQuantg.append(key)\n",
    "        \n",
    "zQuant_edit = []\n",
    "\n",
    "for complex14 in zeroQuantg:\n",
    "    woutComp = complex14[0:len(complex14) - 3]\n",
    "    zQuant_edit.append(woutComp)\n",
    "    \n",
    "ecZQuant = []\n",
    "for comp in ecComplexes:\n",
    "    if comp in zQuant_edit:\n",
    "        ecZQuant.append(comp)\n",
    "        \n",
    "print(len(ecZQuant), \"complexes found.\")\n",
    "enter = input(\"Press 'Enter' to show complex names. Click any other key to contintue\")\n",
    "\n",
    "if enter == \"\":\n",
    "    print(ecZQuant)"
   ]
  },
  {
   "cell_type": "markdown",
   "id": "a42d6ac5-8433-437c-8f67-5f76775336ed",
   "metadata": {},
   "source": [
    "#### *Run following block to visualize EcoCyc complexes with concentration in Sim Data*"
   ]
  },
  {
   "cell_type": "markdown",
   "id": "4e223175-569a-456e-aa17-94765fea7d6b",
   "metadata": {},
   "source": [
    "**Run all blocks in this section before this one**"
   ]
  },
  {
   "cell_type": "code",
   "execution_count": null,
   "id": "58795cea-2d87-417e-976a-974f48255012",
   "metadata": {},
   "outputs": [],
   "source": [
    "neccComp = []\n",
    "\n",
    "for x in ecComplexes:\n",
    "    if not (x in notPresent1 or x in ecZQuant):\n",
    "        neccComp.append(x)\n",
    "\n",
    "complexes_edit_dict = {}\n",
    "for complex5 in complexes.keys():\n",
    "    woutComp = complex5[0:len(complex5) - 3]\n",
    "    complexes_edit_dict[woutComp] = complexes[complex5]\n",
    "\n",
    "temp = {}\n",
    "\n",
    "for comp in neccComp:\n",
    "    temp[comp] = complexes_edit_dict[comp]\n",
    "        \n",
    "createHeatMapComplexes(temp, 200, False)"
   ]
  }
 ],
 "metadata": {
  "kernelspec": {
   "display_name": "Python 3 (ipykernel)",
   "language": "python",
   "name": "python3"
  },
  "language_info": {
   "codemirror_mode": {
    "name": "ipython",
    "version": 3
   },
   "file_extension": ".py",
   "mimetype": "text/x-python",
   "name": "python",
   "nbconvert_exporter": "python",
   "pygments_lexer": "ipython3",
   "version": "3.8.7"
  }
 },
 "nbformat": 4,
 "nbformat_minor": 5
}
