{
 "cells": [
  {
   "cell_type": "markdown",
   "id": "1fb56ef7-fae5-41e7-8b33-e0260c2fca5c",
   "metadata": {},
   "source": [
    "**Sim Output to EcoCyc Data Comparison**"
   ]
  },
  {
   "cell_type": "raw",
   "id": "8307142d-5f2b-4364-9eb8-40a34d12b68f",
   "metadata": {},
   "source": [
    "(some description of what the notebook does...)"
   ]
  },
  {
   "cell_type": "code",
   "execution_count": 23,
   "id": "3c99d2a8-a824-4e9d-b8a2-e96a9b21f031",
   "metadata": {},
   "outputs": [],
   "source": [
    "import numpy as np\n",
    "import pandas as pd\n",
    "import statistics\n",
    "import math\n",
    "import seaborn as sns\n",
    "import matplotlib.pyplot as plt"
   ]
  },
  {
   "cell_type": "code",
   "execution_count": 24,
   "id": "003e85de-505d-4459-b08b-348a62e11d21",
   "metadata": {},
   "outputs": [],
   "source": [
    "logTransposeConst = 0.00000000000000001\n",
    "\n",
    "\n",
    "def zeroFlux(key, dictionary):\n",
    "    fluxes = dictionary[key]\n",
    "    for num in fluxes:\n",
    "        if not num == 0:\n",
    "            return False\n",
    "    return True\n",
    "\n",
    "\n",
    "def createTuples(dictionary):\n",
    "    result = []\n",
    "    keys = dictionary.keys()\n",
    "    for key in keys:\n",
    "        mean = statistics.mean(dictionary[key])\n",
    "        result.append(tuple((key, mean)))\n",
    "    return result\n",
    "\n",
    "\n",
    "def getZeroFluxReactions(reactionDictionary):\n",
    "    reactions = reactionDictionary.keys()\n",
    "    zeroFluxReactions = []\n",
    "\n",
    "    for key in reactions:\n",
    "        if zeroFlux(key, reactionDictionary):\n",
    "            zeroFluxReactions.append(key)\n",
    "            \n",
    "    return zeroFluxReactions\n",
    "\n",
    "\n",
    "def createHeatMapFluxes(reactionDictionary, mapHeight, annot_grid):\n",
    "    reactions = reactionDictionary.keys()\n",
    "    zeroFluxReactions = []\n",
    "    nonZeroFlux = {}\n",
    "\n",
    "    for key in reactions:\n",
    "        if zeroFlux(key, reactionDictionary):\n",
    "            zeroFluxReactions.append(key)\n",
    "        else:\n",
    "            res = [abs(ele) for ele in reactionDictionary[key]]\n",
    "            nonZeroFlux[key] = res\n",
    "\n",
    "    transformedData = {}\n",
    "    for key in nonZeroFlux.keys():\n",
    "        new = []\n",
    "        old = nonZeroFlux[key]\n",
    "        for val in old:\n",
    "            new.append(math.log(val + logTransposeConst))\n",
    "        transformedData[key] = new\n",
    "\n",
    "    tuples = createTuples(transformedData)\n",
    "    tuples.sort(key=lambda x: x[1])\n",
    "\n",
    "    sortedReactions = {}\n",
    "    for elem in tuples:\n",
    "        key = elem[0]\n",
    "        sortedReactions[key] = transformedData[key]\n",
    "\n",
    "    df = pd.DataFrame.from_dict(sortedReactions, orient='index')\n",
    "    df.index.name = 'Reactions'\n",
    "    df.reset_index(inplace=False)\n",
    "\n",
    "    fig, ax = plt.subplots(figsize=(50, mapHeight))\n",
    "    plt.xlabel(\"Seconds\")\n",
    "    if annot_grid:\n",
    "        hmap = sns.heatmap(df, cmap=\"rocket_r\", linewidths=.5, annot=True)\n",
    "    else:\n",
    "        hmap = sns.heatmap(df, cmap=\"rocket_r\")\n",
    "\n",
    "    result = [hmap, zeroFluxReactions]\n",
    "\n",
    "    return result\n",
    "\n",
    "\n",
    "def notPresent(key, complexes):\n",
    "    amounts = complexes[key]\n",
    "    for num in amounts:\n",
    "        if not num == 0:\n",
    "            return False\n",
    "    return True\n",
    "\n",
    "\n",
    "def createHeatMapComplexes(complexes, mapHeight, annot_grid):\n",
    "    complexNames = complexes.keys()\n",
    "    zeroQuantComplexes = []\n",
    "    presentComplexes = {}\n",
    "\n",
    "    for key in complexes:\n",
    "        if notPresent(key, complexes):\n",
    "            zeroQuantComplexes.append(key)\n",
    "        else:\n",
    "            presentComplexes[key] = complexes[key]\n",
    "\n",
    "    transformedData = {}\n",
    "    for key in presentComplexes.keys():\n",
    "        new = []\n",
    "        old = presentComplexes[key]\n",
    "        for val in old:\n",
    "            new.append(math.log(val + logTransposeConst))\n",
    "        transformedData[key] = new\n",
    "\n",
    "    tuples = createTuples(transformedData)\n",
    "    tuples.sort(key=lambda x: x[1])\n",
    "\n",
    "    sortedComplexes = {}\n",
    "    for elem in tuples:\n",
    "        key = elem[0]\n",
    "        sortedComplexes[key] = transformedData[key]\n",
    "\n",
    "    df = pd.DataFrame.from_dict(sortedComplexes, orient='index')\n",
    "    df.index.name = 'Reactions'\n",
    "    df.reset_index(inplace=False)\n",
    "\n",
    "    fig, ax = plt.subplots(figsize=(50, mapHeight))\n",
    "    plt.xlabel(\"Seconds\")\n",
    "    if annot_grid:\n",
    "        hmap = sns.heatmap(df, cmap=\"rocket_r\", linewidths=.5, annot=True)\n",
    "    else:\n",
    "        hmap = sns.heatmap(df, cmap=\"rocket_r\")\n",
    "\n",
    "    result = [hmap, zeroQuantComplexes]\n",
    "\n",
    "    return result"
   ]
  },
  {
   "cell_type": "code",
   "execution_count": 25,
   "id": "9b51c302-8c83-4600-8df1-1fadbbd83b13",
   "metadata": {},
   "outputs": [],
   "source": [
    "simData = np.load(r\"../../out/geneRxnVerifData/output.npy\", allow_pickle=True, encoding='ASCII')\n",
    "fluxesWithCaption = simData.tolist()['agents']['0']['listeners']['fba_results']['estimated_fluxes']\n",
    "complexes = simData.tolist()['agents']['0']['bulk']\n",
    "\n",
    "ecData = pd.read_csv(r\"../new genes/geneData.txt\")\n",
    "ecReactions = ecData[\"reactionID\"].values.tolist()"
   ]
  },
  {
   "cell_type": "markdown",
   "id": "8f506629-46bd-40d8-9637-1b7bac30a7bc",
   "metadata": {},
   "source": [
    "**Sim Output: Reaction Flux Analysis**"
   ]
  },
  {
   "cell_type": "markdown",
   "id": "eb0c503d-22e7-4ddf-bd15-a488ccffa438",
   "metadata": {},
   "source": [
    "*Run Following Block to identify reactions with Zero Flux throughout time frame*"
   ]
  },
  {
   "cell_type": "code",
   "execution_count": 27,
   "id": "aebb0a2e-6015-4034-9826-05ab81404b5a",
   "metadata": {},
   "outputs": [
    {
     "name": "stdout",
     "output_type": "stream",
     "text": [
      "6703 zero flux reactions found.\n"
     ]
    },
    {
     "name": "stdin",
     "output_type": "stream",
     "text": [
      "Press 'Enter' to show reaction names. Click any other key to contintue qd\n"
     ]
    }
   ],
   "source": [
    "rxns = getZeroFluxReactions(fluxesWithCaption)\n",
    "print(len(rxns), \"zero flux reactions found.\")\n",
    "enter = input(\"Press 'Enter' to show reaction names. Click any other key to contintue\")\n",
    "if enter == \"\":\n",
    "    print(rxns)"
   ]
  },
  {
   "cell_type": "markdown",
   "id": "c915b27b-d345-4ddb-81dc-063b6e4df260",
   "metadata": {},
   "source": [
    "*Run Following Block to identify reactions with Zero Flux throughout time frame*"
   ]
  }
 ],
 "metadata": {
  "kernelspec": {
   "display_name": "Python 3 (ipykernel)",
   "language": "python",
   "name": "python3"
  },
  "language_info": {
   "codemirror_mode": {
    "name": "ipython",
    "version": 3
   },
   "file_extension": ".py",
   "mimetype": "text/x-python",
   "name": "python",
   "nbconvert_exporter": "python",
   "pygments_lexer": "ipython3",
   "version": "3.8.7"
  }
 },
 "nbformat": 4,
 "nbformat_minor": 5
}
