{
 "cells": [
  {
   "cell_type": "markdown",
   "id": "1fb56ef7-fae5-41e7-8b33-e0260c2fca5c",
   "metadata": {},
   "source": [
    "# **Sim Output to EcoCyc Data Comparison**"
   ]
  },
  {
   "cell_type": "raw",
   "id": "8307142d-5f2b-4364-9eb8-40a34d12b68f",
   "metadata": {},
   "source": [
    "(some description of what the notebook does...)"
   ]
  },
  {
   "cell_type": "code",
   "execution_count": null,
   "id": "3c99d2a8-a824-4e9d-b8a2-e96a9b21f031",
   "metadata": {},
   "outputs": [],
   "source": [
    "import numpy as np\n",
    "import pandas as pd\n",
    "import statistics\n",
    "import math\n",
    "import seaborn as sns\n",
    "import matplotlib.pyplot as plt"
   ]
  },
  {
   "cell_type": "code",
   "execution_count": null,
   "id": "003e85de-505d-4459-b08b-348a62e11d21",
   "metadata": {},
   "outputs": [],
   "source": [
    "logTransposeConst = 0.00000000000000001\n",
    "\n",
    "\n",
    "def zeroFlux(key, dictionary):\n",
    "    fluxes = dictionary[key]\n",
    "    for num in fluxes:\n",
    "        if not num == 0:\n",
    "            return False\n",
    "    return True\n",
    "\n",
    "\n",
    "def createTuples(dictionary):\n",
    "    result = []\n",
    "    keys = dictionary.keys()\n",
    "    for key in keys:\n",
    "        mean = statistics.mean(dictionary[key])\n",
    "        result.append(tuple((key, mean)))\n",
    "    return result\n",
    "\n",
    "\n",
    "def getZeroFluxReactions(reactionDictionary):\n",
    "    reactions = reactionDictionary.keys()\n",
    "    zeroFluxReactions = []\n",
    "\n",
    "    for key in reactions:\n",
    "        if zeroFlux(key, reactionDictionary):\n",
    "            zeroFluxReactions.append(key)\n",
    "            \n",
    "    return zeroFluxReactions\n",
    "\n",
    "\n",
    "def createHeatMapFluxes(reactionDictionary, mapHeight, annot_grid):\n",
    "    reactions = reactionDictionary.keys()\n",
    "    zeroFluxReactions = []\n",
    "    nonZeroFlux = {}\n",
    "\n",
    "    for key in reactions:\n",
    "        if zeroFlux(key, reactionDictionary):\n",
    "            zeroFluxReactions.append(key)\n",
    "        else:\n",
    "            res = [abs(ele) for ele in reactionDictionary[key]]\n",
    "            nonZeroFlux[key] = res\n",
    "\n",
    "    transformedData = {}\n",
    "    for key in nonZeroFlux.keys():\n",
    "        new = []\n",
    "        old = nonZeroFlux[key]\n",
    "        for val in old:\n",
    "            new.append(math.log(val + logTransposeConst))\n",
    "        transformedData[key] = new\n",
    "\n",
    "    tuples = createTuples(transformedData)\n",
    "    tuples.sort(key=lambda x: x[1])\n",
    "\n",
    "    sortedReactions = {}\n",
    "    for elem in tuples:\n",
    "        key = elem[0]\n",
    "        sortedReactions[key] = transformedData[key]\n",
    "\n",
    "    df = pd.DataFrame.from_dict(sortedReactions, orient='index')\n",
    "    df.index.name = 'Reactions'\n",
    "    df.reset_index(inplace=False)\n",
    "\n",
    "    fig, ax = plt.subplots(figsize=(50, mapHeight))\n",
    "    plt.xlabel(\"Seconds\")\n",
    "    if annot_grid:\n",
    "        sns.heatmap(df, cmap=\"rocket_r\", linewidths=.5, annot=True)\n",
    "    else:\n",
    "        sns.heatmap(df, cmap=\"rocket_r\")\n",
    "        \n",
    "    return \n",
    "\n",
    "\n",
    "def notPresent(key, complexes):\n",
    "    amounts = complexes[key]\n",
    "    for num in amounts:\n",
    "        if not num == 0:\n",
    "            return False\n",
    "    return True\n",
    "\n",
    "\n",
    "def createHeatMapComplexes(complexes, mapHeight, annot_grid):\n",
    "    complexNames = complexes.keys()\n",
    "    zeroQuantComplexes = []\n",
    "    presentComplexes = {}\n",
    "\n",
    "    for key in complexes:\n",
    "        if notPresent(key, complexes):\n",
    "            zeroQuantComplexes.append(key)\n",
    "        else:\n",
    "            presentComplexes[key] = complexes[key]\n",
    "\n",
    "    transformedData = {}\n",
    "    for key in presentComplexes.keys():\n",
    "        new = []\n",
    "        old = presentComplexes[key]\n",
    "        for val in old:\n",
    "            new.append(math.log(val + logTransposeConst))\n",
    "        transformedData[key] = new\n",
    "\n",
    "    tuples = createTuples(transformedData)\n",
    "    tuples.sort(key=lambda x: x[1])\n",
    "\n",
    "    sortedComplexes = {}\n",
    "    for elem in tuples:\n",
    "        key = elem[0]\n",
    "        sortedComplexes[key] = transformedData[key]\n",
    "\n",
    "    df = pd.DataFrame.from_dict(sortedComplexes, orient='index')\n",
    "    df.index.name = 'Reactions'\n",
    "    df.reset_index(inplace=False)\n",
    "\n",
    "    fig, ax = plt.subplots(figsize=(50, mapHeight))\n",
    "    plt.xlabel(\"Seconds\")\n",
    "    if annot_grid:\n",
    "        hmap = sns.heatmap(df, cmap=\"rocket_r\", linewidths=.5, annot=True)\n",
    "    else:\n",
    "        hmap = sns.heatmap(df, cmap=\"rocket_r\")\n",
    "\n",
    "    result = [hmap, zeroQuantComplexes]\n",
    "\n",
    "    return result"
   ]
  },
  {
   "cell_type": "code",
   "execution_count": null,
   "id": "9b51c302-8c83-4600-8df1-1fadbbd83b13",
   "metadata": {},
   "outputs": [],
   "source": [
    "simData = np.load(r\"../../out/geneRxnVerifData/output.npy\", allow_pickle=True, encoding='ASCII')\n",
    "fluxesWithCaption = simData.tolist()['agents']['0']['listeners']['fba_results']['estimated_fluxes']\n",
    "complexes = simData.tolist()['agents']['0']['bulk']\n",
    "\n",
    "ecData = pd.read_csv(r\"../new genes/geneData.txt\")\n",
    "ecReactions = ecData[\"reactionID\"].values.tolist()\n",
    "temp = []\n",
    "for word in ecReactions:\n",
    "    if not word == \"No Reaction Found\":\n",
    "        temp.append(word)\n",
    "ecReactions = temp\n",
    "\n",
    "metabolData = np.load(r\"../../out/stoichiometry.npy\", allow_pickle=True, encoding='ASCII')\n",
    "rxn_metabolites = metabolData.tolist()"
   ]
  },
  {
   "cell_type": "code",
   "execution_count": null,
   "id": "e2cadd29-736a-4efc-8646-139cf7a08202",
   "metadata": {},
   "outputs": [],
   "source": [
    "rxn_metabolites[\"ISOCIT-CLEAV-RXN\"]"
   ]
  },
  {
   "cell_type": "markdown",
   "id": "8f506629-46bd-40d8-9637-1b7bac30a7bc",
   "metadata": {},
   "source": [
    "### **Sim Output: Reaction Flux Analysis**"
   ]
  },
  {
   "cell_type": "markdown",
   "id": "c915b27b-d345-4ddb-81dc-063b6e4df260",
   "metadata": {},
   "source": [
    "#### *Run Following Block to visualize reactions with Flux throughout time frame*"
   ]
  },
  {
   "cell_type": "code",
   "execution_count": null,
   "id": "22aac4be-1415-4a82-a4cc-c47bf8d7ca5b",
   "metadata": {},
   "outputs": [],
   "source": [
    "createHeatMapFluxes(fluxesWithCaption, 650, True)"
   ]
  },
  {
   "cell_type": "markdown",
   "id": "eb0c503d-22e7-4ddf-bd15-a488ccffa438",
   "metadata": {},
   "source": [
    "#### *Run Following Block to identify reactions with Zero Flux throughout time frame*"
   ]
  },
  {
   "cell_type": "code",
   "execution_count": null,
   "id": "aebb0a2e-6015-4034-9826-05ab81404b5a",
   "metadata": {},
   "outputs": [],
   "source": [
    "rxns = getZeroFluxReactions(fluxesWithCaption)\n",
    "print(len(rxns), \"zero flux reactions found.\")\n",
    "enter = input(\"Press 'Enter' to show reaction names. Click any other key to contintue\")\n",
    "if enter == \"\":\n",
    "    print(rxns)"
   ]
  },
  {
   "cell_type": "markdown",
   "id": "ff86f38b-ec5d-4ed9-a4b0-d84692eff692",
   "metadata": {},
   "source": [
    "### **Sim Output: Complex Analysis**"
   ]
  },
  {
   "cell_type": "markdown",
   "id": "50353107-9fc2-45f0-af6a-3ecf8fdbf351",
   "metadata": {},
   "source": [
    "#### *Run Following Block to visualize complexes present during time frame*"
   ]
  },
  {
   "cell_type": "code",
   "execution_count": null,
   "id": "af1d8526-628b-4516-aff3-9279ef6a14a9",
   "metadata": {},
   "outputs": [],
   "source": [
    "createHeatMapComplexes(complexes, 650, False)"
   ]
  },
  {
   "cell_type": "markdown",
   "id": "874d897b-178a-45f4-8eb5-8094f5a10456",
   "metadata": {},
   "source": [
    "#### *Run Following Block to identify complexes not present throughout time frame*"
   ]
  },
  {
   "cell_type": "code",
   "execution_count": null,
   "id": "15744fc4-0f9b-4aa3-ad24-232269118bb7",
   "metadata": {},
   "outputs": [],
   "source": [
    "zeroQuant = []\n",
    "for key in complexes:\n",
    "    if notPresent(key, complexes):\n",
    "        zeroQuant.append(key)\n",
    "        \n",
    "print(len(zeroQuant), \"complexes not found.\")\n",
    "enter = input(\"Press 'Enter' to show reaction names. Click any other key to contintue\")\n",
    "if enter == \"\":\n",
    "    print(zeroQuant)     "
   ]
  },
  {
   "cell_type": "markdown",
   "id": "a4c8645d-8735-4196-a02a-3134821e8a65",
   "metadata": {},
   "source": [
    "#### *Run Following Block to identify complexes with incorrect compartments*"
   ]
  },
  {
   "cell_type": "code",
   "execution_count": null,
   "id": "9a7c2eae-c68f-48ec-bcad-00590147c230",
   "metadata": {},
   "outputs": [],
   "source": [
    "incorrectCompartments = []\n",
    "for complex_ in complexes:\n",
    "    if not (complex_[len(complex_) - 1 - 2] == '[' and complex_[len(complex_) - 1] == ']'):\n",
    "        incorrectCompartments.append(complex_)\n",
    "\n",
    "print(len(incorrectCompartments), \"incorrect compartments found.\")\n",
    "enter = input(\"Press 'Enter' to show complex names. Click any other key to contintue\")\n",
    "if enter == \"\":\n",
    "    print(incorrectCompartments)"
   ]
  },
  {
   "cell_type": "markdown",
   "id": "1bfdbe8c-5bd7-4815-a35c-c9719ff5ddc3",
   "metadata": {},
   "source": [
    "### **EcoCyc Comparison: Reaction Flux**"
   ]
  },
  {
   "cell_type": "markdown",
   "id": "a19e35da-11a3-4d7b-bfff-fd1a7f7e8a07",
   "metadata": {},
   "source": [
    "#### *Run following block before any other block in this section* **Block A**"
   ]
  },
  {
   "cell_type": "code",
   "execution_count": null,
   "id": "522b46eb-eca8-4693-8982-604948e4e1c3",
   "metadata": {},
   "outputs": [],
   "source": [
    "reactionsSim = fluxesWithCaption.keys()\n",
    "\n",
    "foundReactions = {}\n",
    "unfoundReactions = []\n",
    "\n",
    "for reaction in ecReactions:\n",
    "    x = 0\n",
    "    for reactionSim in reactionsSim:\n",
    "        if reaction in reactionSim:\n",
    "            index = reactionSim.find(reaction)\n",
    "            indexOfNextChar = index + len(reaction)\n",
    "            if indexOfNextChar >= len(reactionSim) or not (reactionSim[indexOfNextChar].isdigit() or reactionSim[indexOfNextChar].isalpha()):\n",
    "                x = 1\n",
    "                key = \"(\" + reaction + \")\" + reactionSim\n",
    "                foundReactions[key] = fluxesWithCaption[reactionSim]\n",
    "    if x == 0:\n",
    "        unfoundReactions.append(reaction)"
   ]
  },
  {
   "cell_type": "markdown",
   "id": "148db0c9-aaa7-4d65-8730-365aac95053a",
   "metadata": {},
   "source": [
    "#### *Run following block to identify EcoCyc reactions not found in Simulation*"
   ]
  },
  {
   "cell_type": "code",
   "execution_count": null,
   "id": "f72800bf-f69e-42a0-aaf5-dbb69836c0e2",
   "metadata": {},
   "outputs": [],
   "source": [
    "print(len(unfoundReactions), \"reactions not present.\")\n",
    "enter = input(\"Press 'Enter' to show complex names. Click any other key to contintue\")\n",
    "if enter == \"\":\n",
    "    print(unfoundReactions)"
   ]
  },
  {
   "cell_type": "markdown",
   "id": "072da8a9-ae88-4bcb-b898-c9f6ac07534e",
   "metadata": {},
   "source": [
    "#### *Run following block to identify EcoCyc reactions with No Flux in Simulation*"
   ]
  },
  {
   "cell_type": "code",
   "execution_count": null,
   "id": "4a2d11cc-d66c-42b9-81b7-11ee019eb95a",
   "metadata": {},
   "outputs": [],
   "source": [
    "rxns1 = getZeroFluxReactions(foundReactions)\n",
    "print(len(rxns1), \"zero flux reactions found.\")\n",
    "enter = input(\"Press 'Enter' to show reaction names. Click any other key to contintue\")\n",
    "if enter == \"\":\n",
    "    print(rxns1)"
   ]
  },
  {
   "cell_type": "markdown",
   "id": "a499d94f-8c02-4998-a379-535c188fc61f",
   "metadata": {},
   "source": [
    "#### *Run following block to visualize non-zero fluxes for EcoCyc reactions found in Simulation*"
   ]
  },
  {
   "cell_type": "code",
   "execution_count": null,
   "id": "14f09abe-3b3a-4245-b088-87f476cf6e85",
   "metadata": {},
   "outputs": [],
   "source": [
    "createHeatMapFluxes(foundReactions, 25, True)"
   ]
  },
  {
   "cell_type": "markdown",
   "id": "a3827587-eeb7-48f9-9b12-cb987876824c",
   "metadata": {},
   "source": [
    "### **EcoCyc Comparison: Stoichiometry**"
   ]
  },
  {
   "cell_type": "markdown",
   "id": "e37c30af-88cf-4503-897b-2240ceef9943",
   "metadata": {},
   "source": [
    "#### *Run following block to validate metabolite compartments*"
   ]
  },
  {
   "cell_type": "code",
   "execution_count": null,
   "id": "447612f9-11f8-43fa-a7fc-3dd864993c1d",
   "metadata": {},
   "outputs": [],
   "source": [
    "rxn_metabolites[\"ISOCIT-CLEAV-RXN\"]"
   ]
  },
  {
   "cell_type": "code",
   "execution_count": null,
   "id": "b208efd8-502a-451e-8ed6-ded39bc687ff",
   "metadata": {},
   "outputs": [],
   "source": [
    "incorrect = []\n",
    "\n",
    "for reaction in rxn_metabolites.keys():\n",
    "    for metabolite in rxn_metabolites[reaction].keys():\n",
    "        if not (metabolite[len(metabolite) - 1 - 2] == '[' and metabolite[len(metabolite) - 1] == ']'):\n",
    "            incorrect.append((reaction, metabolite))\n",
    "\n",
    "print(len(incorrect), \"incorrect compartments found.\")\n",
    "enter = input(\"Press 'Enter' to show metabolite names. Click any other key to contintue\")\n",
    "if enter == \"\":\n",
    "    print(incorrect)"
   ]
  },
  {
   "cell_type": "code",
   "execution_count": null,
   "id": "3303fefb-f98d-434f-a1c5-ff0da1317a65",
   "metadata": {},
   "outputs": [],
   "source": [
    "rxn_metabolites[\"ISOCIT-CLEAV-RXN\"]"
   ]
  },
  {
   "cell_type": "markdown",
   "id": "ed71bf98-e78c-4d84-8a49-88ec49d81bda",
   "metadata": {},
   "source": [
    "#### *Run following block to validate complexation/stoichiometry for EcoCyc reactions found in Sim*"
   ]
  },
  {
   "cell_type": "markdown",
   "id": "018a65a1-7b9e-4fb9-bbdf-a38f0f5b5653",
   "metadata": {},
   "source": [
    "**Please run Block A first**"
   ]
  },
  {
   "cell_type": "code",
   "execution_count": 126,
   "id": "fdf0278e-d3dc-4c5b-bf12-2ea004b38d5a",
   "metadata": {},
   "outputs": [
    {
     "ename": "ValueError",
     "evalue": "dictionary update sequence element #0 has length 4; 2 is required",
     "output_type": "error",
     "traceback": [
      "\u001b[0;31m---------------------------------------------------------------------------\u001b[0m",
      "\u001b[0;31mValueError\u001b[0m                                Traceback (most recent call last)",
      "\u001b[0;32m/tmp/ipykernel_61529/1892313864.py\u001b[0m in \u001b[0;36m<module>\u001b[0;34m\u001b[0m\n\u001b[1;32m     18\u001b[0m     \u001b[0mec_stoich1\u001b[0m \u001b[0;34m=\u001b[0m \u001b[0mecDict\u001b[0m\u001b[0;34m[\u001b[0m\u001b[0morigKey\u001b[0m\u001b[0;34m]\u001b[0m\u001b[0;34m\u001b[0m\u001b[0;34m\u001b[0m\u001b[0m\n\u001b[1;32m     19\u001b[0m     \u001b[0msim_stoich\u001b[0m \u001b[0;34m=\u001b[0m \u001b[0mrxn_metabolites\u001b[0m\u001b[0;34m[\u001b[0m\u001b[0mnewKey\u001b[0m\u001b[0;34m]\u001b[0m\u001b[0;34m\u001b[0m\u001b[0;34m\u001b[0m\u001b[0m\n\u001b[0;32m---> 20\u001b[0;31m     \u001b[0mec_stoich\u001b[0m \u001b[0;34m=\u001b[0m \u001b[0mdict\u001b[0m\u001b[0;34m(\u001b[0m\u001b[0mec_stoich\u001b[0m\u001b[0;34m.\u001b[0m\u001b[0msplit\u001b[0m\u001b[0;34m(\u001b[0m\u001b[0;34m\":\"\u001b[0m\u001b[0;34m)\u001b[0m \u001b[0;32mfor\u001b[0m \u001b[0msubString\u001b[0m \u001b[0;32min\u001b[0m \u001b[0mstr\u001b[0m\u001b[0;34m.\u001b[0m\u001b[0msplit\u001b[0m\u001b[0;34m(\u001b[0m\u001b[0;34m\",\"\u001b[0m\u001b[0;34m)\u001b[0m\u001b[0;34m)\u001b[0m\u001b[0;34m\u001b[0m\u001b[0;34m\u001b[0m\u001b[0m\n\u001b[0m\u001b[1;32m     21\u001b[0m \u001b[0;34m\u001b[0m\u001b[0m\n\u001b[1;32m     22\u001b[0m     \u001b[0mtemp\u001b[0m \u001b[0;34m=\u001b[0m \u001b[0msim_stoich\u001b[0m\u001b[0;34m.\u001b[0m\u001b[0mkeys\u001b[0m\u001b[0;34m(\u001b[0m\u001b[0;34m)\u001b[0m\u001b[0;34m\u001b[0m\u001b[0;34m\u001b[0m\u001b[0m\n",
      "\u001b[0;31mValueError\u001b[0m: dictionary update sequence element #0 has length 4; 2 is required"
     ]
    }
   ],
   "source": [
    "incorrect = []\n",
    "ecDict = dict(zip(ecData.reactionID, ecData.stoichiometry))\n",
    "\n",
    "for reaction in foundReactions.keys():\n",
    "    x = 0\n",
    "    origKey = \"\"\n",
    "    newKey = \"\"\n",
    "    \n",
    "    for i in range(len(reaction)):\n",
    "        if x >= 2:\n",
    "            newKey = reaction[i:]\n",
    "            break\n",
    "        if reaction[i] == '(' or reaction[i] == ')':\n",
    "            x += 1\n",
    "        else:\n",
    "            origKey += reaction[i]\n",
    "    \n",
    "    ec_stoich1 = ecDict[origKey]\n",
    "    sim_stoich = rxn_metabolites[newKey]\n",
    "    ec_stoich = dict(ec_stoich.split(\":\") for subString in str.split(\",\"))\n",
    "    \n",
    "    temp = sim_stoich.keys()\n",
    "    sim_stoich_new = {}\n",
    "    \n",
    "    for metabolite in temp:\n",
    "        woutComp = metabolite[0:len(metabolite) - 3]\n",
    "        if woutComp not in sim_stoich_new.keys():\n",
    "            sim_stoich_new[woutComp] = sim_stoich[metabolite]\n",
    "        else:\n",
    "            temp = [sim_stoich_new[woutComp], sim_stoich[metabolite]]\n",
    "            sim_stoich_new[woutComp] = temp\n",
    "    \n",
    "    errors = []\n",
    "    \n",
    "    for key in sim_stoich_new.keys():\n",
    "        if key in ec_stoich.keys():\n",
    "            a = set(sim_stoich[key])\n",
    "            b = set(ec_stoich[key])\n",
    "            if not a == b:\n",
    "                    errors.append((\"Discrepency in stoichiometry:\", reaction, key, sim_stoich[key], ec_stoich[key]))            \n",
    "        else:\n",
    "            errors.append((\"Metabolite not in EcoCyc Data:\", key))"
   ]
  },
  {
   "cell_type": "code",
   "execution_count": null,
   "id": "ca80f882-f1fe-4f16-95fc-0aac19bc1779",
   "metadata": {},
   "outputs": [],
   "source": []
  },
  {
   "cell_type": "code",
   "execution_count": null,
   "id": "232f5f41-0b22-4e5b-aa9e-7a04965b1a4a",
   "metadata": {},
   "outputs": [],
   "source": []
  }
 ],
 "metadata": {
  "kernelspec": {
   "display_name": "Python 3 (ipykernel)",
   "language": "python",
   "name": "python3"
  },
  "language_info": {
   "codemirror_mode": {
    "name": "ipython",
    "version": 3
   },
   "file_extension": ".py",
   "mimetype": "text/x-python",
   "name": "python",
   "nbconvert_exporter": "python",
   "pygments_lexer": "ipython3",
   "version": "3.8.7"
  }
 },
 "nbformat": 4,
 "nbformat_minor": 5
}
