{
 "cells": [
  {
   "cell_type": "code",
   "execution_count": 3,
   "id": "981aaf2c-76eb-44a8-bce9-8954d166a69e",
   "metadata": {},
   "outputs": [],
   "source": [
    "%store -r fluxesWithCaption"
   ]
  },
  {
   "cell_type": "code",
   "execution_count": 4,
   "id": "07ff282e-c3e7-4dff-ab3b-3fc31e75ad4d",
   "metadata": {},
   "outputs": [],
   "source": [
    "import pandas as pd\n",
    "import numpy as np"
   ]
  },
  {
   "cell_type": "code",
   "execution_count": 5,
   "id": "810871a9-c7bf-450c-9f6b-634524da3019",
   "metadata": {},
   "outputs": [],
   "source": [
    "df = pd.read_csv(r\"..\\new genes\\geneData.txt\")"
   ]
  },
  {
   "cell_type": "code",
   "execution_count": 6,
   "id": "6e37716c-290a-459c-911d-69939d1c40e6",
   "metadata": {},
   "outputs": [],
   "source": [
    "reactions = df[\"reactionID\"].values.tolist()"
   ]
  },
  {
   "cell_type": "code",
   "execution_count": 7,
   "id": "ee71651e-4766-469c-968b-e7c174b80cd0",
   "metadata": {},
   "outputs": [],
   "source": [
    "temp = []\n",
    "for word in reactions:\n",
    "    if not word == \"No Reaction Found\":\n",
    "        temp.append(word)\n",
    "reactions = temp"
   ]
  },
  {
   "cell_type": "code",
   "execution_count": 8,
   "id": "504a1063-99bd-4100-9fa8-107f0daf3d82",
   "metadata": {},
   "outputs": [],
   "source": [
    "simReactions = fluxesWithCaption.keys()"
   ]
  },
  {
   "cell_type": "code",
   "execution_count": 9,
   "id": "33f53dfe-6daf-45cc-ab16-feaf3275eb16",
   "metadata": {},
   "outputs": [],
   "source": [
    "foundReactions = {}\n",
    "unfoundReactions = []\n",
    "\n",
    "for reaction in reactions:\n",
    "    x = 0\n",
    "    for simReaction in simReactions:\n",
    "        if reaction in simReaction:\n",
    "            index = simReaction.find(reaction)\n",
    "            indexOfNextChar = index + len(reaction)\n",
    "            if indexOfNextChar >= len(simReaction) or not (simReaction[indexOfNextChar].isdigit() or simReaction[indexOfNextChar].isalpha()):\n",
    "                x = 1\n",
    "                key = \"(\" + reaction + \")\" + simReaction\n",
    "                foundReactions[key] = fluxesWithCaption[simReaction]\n",
    "    if x == 0:\n",
    "        unfoundReactions.append(reaction)"
   ]
  },
  {
   "cell_type": "code",
   "execution_count": 10,
   "id": "d4e3e7c8-1417-4f1e-8659-9828bf270946",
   "metadata": {},
   "outputs": [
    {
     "data": {
      "text/plain": [
       "['RXN0-7392',\n",
       " 'CYCPHOSDIESTER-RXN',\n",
       " '3-NUCLEOTID-RXN',\n",
       " '5.3.4.1-RXN',\n",
       " 'RXN0-5285',\n",
       " '1.5.1.34-RXN',\n",
       " 'RXN0-1804',\n",
       " 'RXN-22427',\n",
       " 'TRANS-RXN-387',\n",
       " 'RXN-16650',\n",
       " 'RXN-15119',\n",
       " 'R303-RXN',\n",
       " 'RXN0-7385',\n",
       " 'ADPSUGPPHOSPHAT-RXN',\n",
       " 'RXN-22510',\n",
       " 'RXN-22216',\n",
       " 'RXN-22214',\n",
       " 'RXN-22217']"
      ]
     },
     "execution_count": 10,
     "metadata": {},
     "output_type": "execute_result"
    }
   ],
   "source": [
    "unfoundReactions"
   ]
  },
  {
   "cell_type": "code",
   "execution_count": 11,
   "id": "550bd6bd-3e33-472e-89e0-25ffb91d7b22",
   "metadata": {},
   "outputs": [
    {
     "data": {
      "text/plain": [
       "530"
      ]
     },
     "execution_count": 11,
     "metadata": {},
     "output_type": "execute_result"
    }
   ],
   "source": [
    "len(foundReactions.keys())"
   ]
  },
  {
   "cell_type": "code",
   "execution_count": 12,
   "id": "5713f35e-15ed-4fd0-bae3-1e01679519cb",
   "metadata": {},
   "outputs": [
    {
     "name": "stdout",
     "output_type": "stream",
     "text": [
      "Stored 'foundReactions' (dict)\n"
     ]
    }
   ],
   "source": [
    "%store foundReactions"
   ]
  },
  {
   "cell_type": "code",
   "execution_count": null,
   "id": "51ed9681-2acd-4275-8d44-5f60c9d5446a",
   "metadata": {},
   "outputs": [],
   "source": []
  }
 ],
 "metadata": {
  "kernelspec": {
   "display_name": "Python 3",
   "language": "python",
   "name": "python3"
  },
  "language_info": {
   "codemirror_mode": {
    "name": "ipython",
    "version": 3
   },
   "file_extension": ".py",
   "mimetype": "text/x-python",
   "name": "python",
   "nbconvert_exporter": "python",
   "pygments_lexer": "ipython3",
   "version": "3.7.6"
  }
 },
 "nbformat": 4,
 "nbformat_minor": 5
}
