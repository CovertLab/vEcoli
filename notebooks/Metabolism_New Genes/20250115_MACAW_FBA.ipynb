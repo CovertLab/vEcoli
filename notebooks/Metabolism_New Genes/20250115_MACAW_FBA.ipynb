{
 "cells": [
  {
   "cell_type": "code",
   "execution_count": 1,
   "id": "75abe5b6-82a6-4927-abab-7a1a0a9b3d17",
   "metadata": {},
   "outputs": [],
   "source": [
    "import numpy as np\n",
    "import ast\n",
    "import seaborn as sns\n",
    "import pandas as pd\n",
    "import os\n",
    "import matplotlib.pyplot as plt\n",
    "import dill\n",
    "import requests\n",
    "import xmltodict\n",
    "import cvxpy as cp\n",
    "import itertools\n",
    "from scipy.special import logsumexp\n",
    "\n",
    "%matplotlib inline\n",
    "# sns.set(style='darkgrid', palette='viridis', context='talk')\n",
    "\n",
    "os.chdir(os.path.expanduser('~/dev/vivarium-ecoli'))\n",
    "\n",
    "from ecoli.processes.metabolism_redux_classic import NetworkFlowModel, FlowResult\n",
    "from ecoli.library.schema import numpy_schema, bulk_name_to_idx, listener_schema, counts\n",
    "from ecoli.processes.registries import topology_registry\n",
    "TOPOLOGY = topology_registry.access(\"ecoli-metabolism-redux\")"
   ]
  },
  {
   "cell_type": "code",
   "execution_count": 2,
   "id": "293dbefa-6da4-4504-864d-a1d4821a0b15",
   "metadata": {},
   "outputs": [],
   "source": [
    "# create a function to deal with non-homogeous dtype of columns. mixture of strings and lists\n",
    "def string_to_list(s):\n",
    "    try:\n",
    "        return np.array(ast.literal_eval(s))  # Safely convert string to array\n",
    "    except (ValueError, SyntaxError):\n",
    "        return np.array(s)  # Return as array if object is not a list and conversion fails (e.g., NaN values)"
   ]
  },
  {
   "cell_type": "code",
   "execution_count": 7,
   "id": "05f9800d-f56d-4de4-96a0-d67a17e0d655",
   "metadata": {},
   "outputs": [
    {
     "name": "stdout",
     "output_type": "stream",
     "text": [
      "Starting dead-end test...\n",
      " - Found 713 dead-end metabolites.\n",
      " - Found 901 reactions incapable of sustaining steady-state fluxes in either direction due to these dead-ends.\n",
      " - Found 243 reversible reactions that can only carry steady-state fluxes in a single direction due to dead-ends.\n",
      "Starting duplicate test...\n",
      " - Skipping redox duplicates because no redox_pairs and/or proton_ids were provided.\n",
      " - Found 77 reactions that were some type of duplicate:\n",
      "   - 2 were completely identical to at least one other reaction.\n",
      "   - 24 involve the same metabolites but go in the opposite direction or have the opposite reversibility as at least one other reaction.\n",
      "   - 63 involve the same metabolites but with different coefficients as at least one other reaction.\n",
      "Skipping diphosphate test because IDs for mono- and diphosphate ions were not provided.\n",
      "Starting loop test...\n",
      " - Found 61 reactions involved in infinite loops.\n",
      "Starting dilution test...\n"
     ]
    },
    {
     "ename": "KeyboardInterrupt",
     "evalue": "",
     "output_type": "error",
     "traceback": [
      "\u001b[0;31m---------------------------------------------------------------------------\u001b[0m",
      "\u001b[0;31mKeyboardInterrupt\u001b[0m                         Traceback (most recent call last)",
      "Cell \u001b[0;32mIn[7], line 6\u001b[0m\n\u001b[1;32m      4\u001b[0m NOTEBOOK_DIR \u001b[38;5;241m=\u001b[39m \u001b[38;5;124mf\u001b[39m\u001b[38;5;124m'\u001b[39m\u001b[38;5;124mnotebooks/Heena notebooks/Metabolism_New Genes\u001b[39m\u001b[38;5;124m'\u001b[39m\n\u001b[1;32m      5\u001b[0m model \u001b[38;5;241m=\u001b[39m cobra\u001b[38;5;241m.\u001b[39mio\u001b[38;5;241m.\u001b[39mread_sbml_model(os\u001b[38;5;241m.\u001b[39mpath\u001b[38;5;241m.\u001b[39mjoin(NOTEBOOK_DIR,\u001b[38;5;124m'\u001b[39m\u001b[38;5;124miML1515.xml\u001b[39m\u001b[38;5;124m'\u001b[39m))\n\u001b[0;32m----> 6\u001b[0m (test_results, edge_list) \u001b[38;5;241m=\u001b[39m \u001b[43mrun_all_tests\u001b[49m\u001b[43m(\u001b[49m\u001b[43mmodel\u001b[49m\u001b[43m)\u001b[49m\n",
      "File \u001b[0;32m~/.pyenv/versions/3.11.3/envs/viv-ecoli/lib/python3.11/site-packages/macaw/main.py:63\u001b[0m, in \u001b[0;36mrun_all_tests\u001b[0;34m(model, redox_pairs, proton_ids, diphosphate_met_ids, phosphate_met_ids, media_mets, timeout, max_attempts, zero_thresh, corr_thresh, use_names, add_suffixes, threads, verbose)\u001b[0m\n\u001b[1;32m     57\u001b[0m (loops, loop_edges) \u001b[38;5;241m=\u001b[39m loop_test(\n\u001b[1;32m     58\u001b[0m     model, zero_thresh, corr_thresh, use_names, add_suffixes, threads,\n\u001b[1;32m     59\u001b[0m     verbose\n\u001b[1;32m     60\u001b[0m )\n\u001b[1;32m     61\u001b[0m \u001b[38;5;66;03m# identify reactions that become incapable of sustaining non-zero fluxes\u001b[39;00m\n\u001b[1;32m     62\u001b[0m \u001b[38;5;66;03m# when dilution constraints are added to the model\u001b[39;00m\n\u001b[0;32m---> 63\u001b[0m (dilution_results, dilution_edges) \u001b[38;5;241m=\u001b[39m \u001b[43mdilution_test\u001b[49m\u001b[43m(\u001b[49m\n\u001b[1;32m     64\u001b[0m \u001b[43m    \u001b[49m\u001b[43mmodel\u001b[49m\u001b[43m,\u001b[49m\u001b[43m \u001b[49m\u001b[43mdead_end_results\u001b[49m\u001b[43m,\u001b[49m\u001b[43m \u001b[49m\u001b[43mmedia_mets\u001b[49m\u001b[43m,\u001b[49m\u001b[43m \u001b[49m\u001b[43mzero_thresh\u001b[49m\u001b[43m \u001b[49m\u001b[38;5;241;43m=\u001b[39;49m\u001b[43m \u001b[49m\u001b[43mzero_thresh\u001b[49m\u001b[43m,\u001b[49m\n\u001b[1;32m     65\u001b[0m \u001b[43m    \u001b[49m\u001b[43mtimeout\u001b[49m\u001b[43m \u001b[49m\u001b[38;5;241;43m=\u001b[39;49m\u001b[43m \u001b[49m\u001b[43mtimeout\u001b[49m\u001b[43m,\u001b[49m\u001b[43m \u001b[49m\u001b[43mmax_attempts\u001b[49m\u001b[43m \u001b[49m\u001b[38;5;241;43m=\u001b[39;49m\u001b[43m \u001b[49m\u001b[43mmax_attempts\u001b[49m\u001b[43m,\u001b[49m\u001b[43m \u001b[49m\u001b[43muse_names\u001b[49m\u001b[43m \u001b[49m\u001b[38;5;241;43m=\u001b[39;49m\u001b[43m \u001b[49m\u001b[43muse_names\u001b[49m\u001b[43m,\u001b[49m\n\u001b[1;32m     66\u001b[0m \u001b[43m    \u001b[49m\u001b[43madd_suffixes\u001b[49m\u001b[43m \u001b[49m\u001b[38;5;241;43m=\u001b[39;49m\u001b[43m \u001b[49m\u001b[43madd_suffixes\u001b[49m\u001b[43m,\u001b[49m\u001b[43m \u001b[49m\u001b[43mverbose\u001b[49m\u001b[43m \u001b[49m\u001b[38;5;241;43m=\u001b[39;49m\u001b[43m \u001b[49m\u001b[43mverbose\u001b[49m\u001b[43m,\u001b[49m\u001b[43m \u001b[49m\u001b[43mthreads\u001b[49m\u001b[43m \u001b[49m\u001b[38;5;241;43m=\u001b[39;49m\u001b[43m \u001b[49m\u001b[43mthreads\u001b[49m\n\u001b[1;32m     67\u001b[0m \u001b[43m\u001b[49m\u001b[43m)\u001b[49m\n\u001b[1;32m     68\u001b[0m \u001b[38;5;66;03m# merge the dataframes containing the results of all tests (dead-end and\u001b[39;00m\n\u001b[1;32m     69\u001b[0m \u001b[38;5;66;03m# dilution test results were already merged into dilution_test_results)\u001b[39;00m\n\u001b[1;32m     70\u001b[0m all_test_results \u001b[38;5;241m=\u001b[39m duplicates\u001b[38;5;241m.\u001b[39mmerge(diphosphates)\u001b[38;5;241m.\u001b[39mmerge(loops)\n",
      "File \u001b[0;32m~/.pyenv/versions/3.11.3/envs/viv-ecoli/lib/python3.11/site-packages/macaw/flux_based.py:227\u001b[0m, in \u001b[0;36mdilution_test\u001b[0;34m(given_model, dead_end_results, media_mets, mets_to_test, zero_thresh, timeout, max_attempts, use_names, add_suffixes, verbose, threads)\u001b[0m\n\u001b[1;32m    225\u001b[0m \u001b[38;5;28;01mwhile\u001b[39;00m \u001b[38;5;28;01mTrue\u001b[39;00m:\n\u001b[1;32m    226\u001b[0m     \u001b[38;5;28;01mtry\u001b[39;00m:\n\u001b[0;32m--> 227\u001b[0m         (max_dil) \u001b[38;5;241m=\u001b[39m \u001b[38;5;28mnext\u001b[39m(iterator)\n\u001b[1;32m    228\u001b[0m         \u001b[38;5;66;03m# see if all reactions involving this metabolite were incapable\u001b[39;00m\n\u001b[1;32m    229\u001b[0m         \u001b[38;5;66;03m# of non-zero flux without this dilution constraint\u001b[39;00m\n\u001b[1;32m    230\u001b[0m         rel_met \u001b[38;5;241m=\u001b[39m mets_to_test[i]\n",
      "File \u001b[0;32m~/.pyenv/versions/3.11.3/envs/viv-ecoli/lib/python3.11/site-packages/pebble/pool/base_pool.py:230\u001b[0m, in \u001b[0;36mMapResults.next\u001b[0;34m(self)\u001b[0m\n\u001b[1;32m    226\u001b[0m         \u001b[38;5;28;01mreturn\u001b[39;00m result\u001b[38;5;241m.\u001b[39mvalue\n\u001b[1;32m    228\u001b[0m     result \u001b[38;5;241m=\u001b[39m result\u001b[38;5;241m.\u001b[39mvalue\n\u001b[0;32m--> 230\u001b[0m \u001b[38;5;28;01mraise\u001b[39;00m result\n",
      "File \u001b[0;32m~/.pyenv/versions/3.11.3/envs/viv-ecoli/lib/python3.11/site-packages/pebble/pool/base_pool.py:268\u001b[0m, in \u001b[0;36mchunk_result\u001b[0;34m(future, timeout)\u001b[0m\n\u001b[1;32m    266\u001b[0m \u001b[38;5;250m\u001b[39m\u001b[38;5;124;03m\"\"\"Returns the results of a processed chunk.\"\"\"\u001b[39;00m\n\u001b[1;32m    267\u001b[0m \u001b[38;5;28;01mtry\u001b[39;00m:\n\u001b[0;32m--> 268\u001b[0m     \u001b[38;5;28;01mreturn\u001b[39;00m \u001b[43mfuture\u001b[49m\u001b[38;5;241;43m.\u001b[39;49m\u001b[43mresult\u001b[49m\u001b[43m(\u001b[49m\u001b[43mtimeout\u001b[49m\u001b[38;5;241;43m=\u001b[39;49m\u001b[43mtimeout\u001b[49m\u001b[43m)\u001b[49m\n\u001b[1;32m    269\u001b[0m \u001b[38;5;28;01mexcept\u001b[39;00m \u001b[38;5;167;01mBaseException\u001b[39;00m \u001b[38;5;28;01mas\u001b[39;00m error:\n\u001b[1;32m    270\u001b[0m     \u001b[38;5;28;01mreturn\u001b[39;00m (error, )\n",
      "File \u001b[0;32m~/.pyenv/versions/3.11.3/lib/python3.11/concurrent/futures/_base.py:451\u001b[0m, in \u001b[0;36mFuture.result\u001b[0;34m(self, timeout)\u001b[0m\n\u001b[1;32m    448\u001b[0m \u001b[38;5;28;01melif\u001b[39;00m \u001b[38;5;28mself\u001b[39m\u001b[38;5;241m.\u001b[39m_state \u001b[38;5;241m==\u001b[39m FINISHED:\n\u001b[1;32m    449\u001b[0m     \u001b[38;5;28;01mreturn\u001b[39;00m \u001b[38;5;28mself\u001b[39m\u001b[38;5;241m.\u001b[39m__get_result()\n\u001b[0;32m--> 451\u001b[0m \u001b[38;5;28;43mself\u001b[39;49m\u001b[38;5;241;43m.\u001b[39;49m\u001b[43m_condition\u001b[49m\u001b[38;5;241;43m.\u001b[39;49m\u001b[43mwait\u001b[49m\u001b[43m(\u001b[49m\u001b[43mtimeout\u001b[49m\u001b[43m)\u001b[49m\n\u001b[1;32m    453\u001b[0m \u001b[38;5;28;01mif\u001b[39;00m \u001b[38;5;28mself\u001b[39m\u001b[38;5;241m.\u001b[39m_state \u001b[38;5;129;01min\u001b[39;00m [CANCELLED, CANCELLED_AND_NOTIFIED]:\n\u001b[1;32m    454\u001b[0m     \u001b[38;5;28;01mraise\u001b[39;00m CancelledError()\n",
      "File \u001b[0;32m~/.pyenv/versions/3.11.3/lib/python3.11/threading.py:324\u001b[0m, in \u001b[0;36mCondition.wait\u001b[0;34m(self, timeout)\u001b[0m\n\u001b[1;32m    322\u001b[0m \u001b[38;5;28;01melse\u001b[39;00m:\n\u001b[1;32m    323\u001b[0m     \u001b[38;5;28;01mif\u001b[39;00m timeout \u001b[38;5;241m>\u001b[39m \u001b[38;5;241m0\u001b[39m:\n\u001b[0;32m--> 324\u001b[0m         gotit \u001b[38;5;241m=\u001b[39m \u001b[43mwaiter\u001b[49m\u001b[38;5;241;43m.\u001b[39;49m\u001b[43macquire\u001b[49m\u001b[43m(\u001b[49m\u001b[38;5;28;43;01mTrue\u001b[39;49;00m\u001b[43m,\u001b[49m\u001b[43m \u001b[49m\u001b[43mtimeout\u001b[49m\u001b[43m)\u001b[49m\n\u001b[1;32m    325\u001b[0m     \u001b[38;5;28;01melse\u001b[39;00m:\n\u001b[1;32m    326\u001b[0m         gotit \u001b[38;5;241m=\u001b[39m waiter\u001b[38;5;241m.\u001b[39macquire(\u001b[38;5;28;01mFalse\u001b[39;00m)\n",
      "\u001b[0;31mKeyboardInterrupt\u001b[0m: "
     ]
    }
   ],
   "source": [
    "import cobra\n",
    "from macaw.main import run_all_tests\n",
    "\n",
    "NOTEBOOK_DIR = f'notebooks/Heena notebooks/Metabolism_New Genes'\n",
    "model = cobra.io.read_sbml_model(os.path.join(NOTEBOOK_DIR,'iML1515.xml'))\n",
    "(test_results, edge_list) = run_all_tests(model)"
   ]
  },
  {
   "cell_type": "code",
   "execution_count": null,
   "id": "beaa6ca8-4e5b-4784-b1cb-34da7b9e0a5f",
   "metadata": {},
   "outputs": [],
   "source": []
  }
 ],
 "metadata": {
  "kernelspec": {
   "display_name": "Python 3 (ipykernel)",
   "language": "python",
   "name": "python3"
  },
  "language_info": {
   "codemirror_mode": {
    "name": "ipython",
    "version": 3
   },
   "file_extension": ".py",
   "mimetype": "text/x-python",
   "name": "python",
   "nbconvert_exporter": "python",
   "pygments_lexer": "ipython3",
   "version": "3.11.3"
  }
 },
 "nbformat": 4,
 "nbformat_minor": 5
}
