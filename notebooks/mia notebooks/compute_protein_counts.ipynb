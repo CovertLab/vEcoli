{
 "cells": [
  {
   "cell_type": "code",
   "execution_count": 102,
   "id": "initial_id",
   "metadata": {
    "collapsed": true,
    "ExecuteTime": {
     "end_time": "2024-05-22T17:21:34.389282Z",
     "start_time": "2024-05-22T17:21:34.370842Z"
    }
   },
   "outputs": [],
   "source": [
    "import polars as pl\n",
    "import numpy as np\n",
    "from matplotlib import pyplot as plt\n",
    "import os\n",
    "import json\n",
    "import pandas as pd\n",
    "import seaborn as sns\n",
    "from scipy.sparse import csr_matrix\n",
    "os.chdir(os.path.expanduser('~/vivarium-ecoli'))\n"
   ]
  },
  {
   "cell_type": "code",
   "execution_count": 103,
   "outputs": [],
   "source": [
    "def read_names(file_path):\n",
    "    return np.genfromtxt(file_path, dtype=str, delimiter=\"\\n\")\n",
    "\n",
    "def read_matrix(file_path, sparse=False):\n",
    "    # add sparse matrix reading\n",
    "    if sparse:\n",
    "        return csr_matrix(pl.read_csv(file_path, has_header=False).to_numpy())\n",
    "    else:\n",
    "        return pl.read_csv(file_path, has_header=False).to_numpy()\n",
    "\n",
    "\n",
    "Cmatrix = read_matrix(\"notebooks/mia notebooks/C_matrix.csv\", sparse=True)\n",
    "complex_ids = list(read_names(\"notebooks/mia notebooks/complex_ids.txt\"))\n",
    "monomer_ids = list(read_names(\"notebooks/mia notebooks/monomer_ids.txt\"))\n",
    "# Ecocyc data (https://ecocyc.org/groups?tab=SPECIAL&orgid=ECOLI): \n",
    "ecocyc_data = pd.read_excel(\"notebooks/mia notebooks/All_polypeptides_from_ecocyc_data.xlsx\")\n",
    "# validation data (https://www.sciencedirect.com/science/article/pii/S0092867414002323?via%3Dihub#app1):\n",
    "validation_data = pd.read_excel(\"notebooks/mia notebooks/data_from_li_et_al_2014.xlsx\")"
   ],
   "metadata": {
    "collapsed": false,
    "ExecuteTime": {
     "end_time": "2024-05-22T17:21:35.473602Z",
     "start_time": "2024-05-22T17:21:34.629848Z"
    }
   },
   "id": "fd0cf02365c37ae6"
  },
  {
   "cell_type": "markdown",
   "source": [
    "## Minimal Media Conditions Comparison of simulation data with data from Li et al., 2014 "
   ],
   "metadata": {
    "collapsed": false
   },
   "id": "72f8603a19e9ee76"
  },
  {
   "cell_type": "code",
   "execution_count": 104,
   "outputs": [],
   "source": [
    "time = '1300'\n",
    "date = '2024-04-29'\n",
    "experiment = 'validation_experiment'\n",
    "entry = f'{experiment}_{time}_{date}'\n",
    "folder = f'out/cofactors/{entry}/'"
   ],
   "metadata": {
    "collapsed": false,
    "ExecuteTime": {
     "end_time": "2024-05-22T17:21:36.133486Z",
     "start_time": "2024-05-22T17:21:36.128126Z"
    }
   },
   "id": "e5284712fd86e78e"
  },
  {
   "cell_type": "code",
   "execution_count": 105,
   "outputs": [],
   "source": [
    "output_all = np.load(folder + '0_output.npy',allow_pickle='TRUE').item()\n",
    "# output = np.load(r\"out/geneRxnVerifData/output_glc.npy\", allow_pickle=True, encoding='ASCII').tolist()\n",
    "output = output_all['agents']['0']\n",
    "fba = output['listeners']['fba_results']\n",
    "mass = output['listeners']['mass']\n",
    "bulk = pl.DataFrame(output['bulk'])\n",
    "\n",
    "fluxes = np.array(fba['estimated_fluxes'][1:])\n",
    "exchanges = fba['estimated_exchange_dmdt']\n",
    "\n",
    "ans = output['listeners']['unique_molecule_counts']['active_ribosome']"
   ],
   "metadata": {
    "collapsed": false,
    "ExecuteTime": {
     "end_time": "2024-05-22T17:21:41.515057Z",
     "start_time": "2024-05-22T17:21:36.993621Z"
    }
   },
   "id": "8e2d462ad3851d2f"
  },
  {
   "cell_type": "code",
   "execution_count": 106,
   "outputs": [],
   "source": [
    "# So say I want to find the names of the proteins themselves, these are functions to implement that do so: \n",
    "initial_state = json.load(open('data/wcecoli_t0.json'))\n",
    "\n",
    "bulk_ids = [item[0] for item in initial_state['bulk']]\n",
    "\n",
    "bulk.columns = bulk_ids"
   ],
   "metadata": {
    "collapsed": false,
    "ExecuteTime": {
     "end_time": "2024-05-22T17:21:41.569087Z",
     "start_time": "2024-05-22T17:21:41.514805Z"
    }
   },
   "id": "fd500e9dd10df548"
  },
  {
   "cell_type": "code",
   "execution_count": 127,
   "outputs": [
    {
     "data": {
      "text/plain": "12726"
     },
     "execution_count": 127,
     "metadata": {},
     "output_type": "execute_result"
    }
   ],
   "source": [
    "# Combine monomers in different compartments into one monomer id: \n",
    "id_idx_dict = {id: i for i, id in enumerate(bulk_ids)}\n",
    "idx_id_dict = {idx: i for i, idx in id_idx_dict.items()}\n",
    "\n",
    "# take the protein [location] out of the name of the bulk ids: \n",
    "ecocyc_ids = []\n",
    "for id in bulk_ids: \n",
    "\tecocyc_ids.append(id[0:-3])\n",
    "\n",
    "ecocyc_id_idxs = []\n",
    "for i in range(len(ecocyc_ids)):\n",
    "\tecocyc_id_idxs.append(i)\n",
    "\t\n",
    "all_names = [] # ends with 12726 total (down from 16097)\n",
    "name_groups = []\n",
    "idx_groups = []\n",
    "\n",
    "for p in bulk_ids:\n",
    "\tprot = p[0:-3]\n",
    "\tif prot not in all_names:\n",
    "\t\tindexes = [index for index, item in enumerate(ecocyc_ids) if item == prot]\n",
    "\t\tfor idx in indexes:\n",
    "\t\t\tif ecocyc_ids[idx] == prot:\n",
    "\t\t\t\t# confirm the index is correct\n",
    "\t\t\t\tpass\n",
    "\t\t\telse:\n",
    "\t\t\t\t# delete the index in case a mistake was made\n",
    "\t\t\t\tindexes.remove(idx)\n",
    "\t\tname_group = [idx_id_dict.get(name) for name in indexes]\n",
    "\t\tall_names.append(prot)\n",
    "\t\tname_groups.append(name_group)\n",
    "\t\tidx_groups.append(indexes)\n",
    "\t\t\n",
    "len(all_names)\n",
    "len(name_groups)"
   ],
   "metadata": {
    "collapsed": false,
    "ExecuteTime": {
     "end_time": "2024-05-22T20:15:17.166500Z",
     "start_time": "2024-05-22T20:15:12.465624Z"
    }
   },
   "id": "ad19c0c789f928e3"
  },
  {
   "cell_type": "code",
   "execution_count": 141,
   "outputs": [],
   "source": [
    "# figure out which proteins from the C matrix match those in the bulk data: \n",
    "protein_ids = complex_ids + monomer_ids\n",
    "protein_counts = np.zeros([bulk.shape[0], len(protein_ids)])\n",
    "pid_idx_dict = {id: i for i, id in enumerate(protein_ids)}\n",
    "idx_pid_dict = {idx: i for i, idx in pid_idx_dict.items()}\n",
    "\n",
    "for p in protein_ids:\n",
    "\tidx = [index for index, item in enumerate(all_names) if item == p]\n",
    "\tif len(idx) == 0:\n",
    "\t\tprotein_counts[:, pid_idx_dict[p]] = 0\n",
    "\telif len(idx) == 1:\n",
    "\t\tname = all_names[idx[0]]\n",
    "\t\tidx_group = idx_groups[idx[0]]\n",
    "\t\ttemp_counts = np.zeros([bulk.shape[0], len(idx_group)])\n",
    "\t\tfor i in range(len(idx_group)):\n",
    "\t\t\tselected_data = bulk.select(bulk_ids[idx_group[i]]) \n",
    "\t\t\ttemp_counts[:, i] = selected_data.to_numpy().flatten()\n",
    "\t\tprotein_counts[:, pid_idx_dict[p]] = np.sum(temp_counts, axis=1)\n",
    "\telse:\n",
    "\t\t# make sure there are no bugs in the code\n",
    "\t\tprint(p)\n",
    "\t\tprint(\"too many\")\n",
    "\t"
   ],
   "metadata": {
    "collapsed": false,
    "ExecuteTime": {
     "end_time": "2024-05-22T20:34:19.029005Z",
     "start_time": "2024-05-22T20:34:14.073702Z"
    }
   },
   "id": "58102f6956f0a0c2"
  },
  {
   "cell_type": "code",
   "execution_count": 142,
   "outputs": [
    {
     "data": {
      "text/plain": "(1301, 5527)"
     },
     "execution_count": 142,
     "metadata": {},
     "output_type": "execute_result"
    }
   ],
   "source": [
    "np.shape(protein_counts)"
   ],
   "metadata": {
    "collapsed": false,
    "ExecuteTime": {
     "end_time": "2024-05-22T20:34:43.896094Z",
     "start_time": "2024-05-22T20:34:43.881373Z"
    }
   },
   "id": "57ca80c660417589"
  },
  {
   "cell_type": "code",
   "execution_count": 151,
   "outputs": [],
   "source": [
    "mm_sim_protein_counts = protein_counts @ Cmatrix\n",
    "# simplify the results accordingly with the time steps: \n",
    "mm_avg_sim_data = mm_sim_protein_counts.mean(axis=0)\n",
    "# TODO: edit this to account for cell age\n",
    "# create dataframes for the simulation data:\n",
    "mm_avg_sim_df = pl.DataFrame((monomer_ids, mm_avg_sim_data), schema=[\"Monomer ID\",\"Sim Protein Counts\"])"
   ],
   "metadata": {
    "collapsed": false,
    "ExecuteTime": {
     "end_time": "2024-05-22T22:45:40.411074Z",
     "start_time": "2024-05-22T22:45:40.345133Z"
    }
   },
   "id": "f3527e3aec952b36"
  },
  {
   "cell_type": "code",
   "execution_count": 152,
   "outputs": [
    {
     "data": {
      "text/plain": "shape: (4_434, 2)\n┌───────────────────────────────────┬────────────────────┐\n│ Monomer ID                        ┆ Sim Protein Counts │\n│ ---                               ┆ ---                │\n│ str                               ┆ f64                │\n╞═══════════════════════════════════╪════════════════════╡\n│ 1-ACYLGLYCEROL-3-P-ACYLTRANSFER-… ┆ 142.265181         │\n│ 1-PFK-MONOMER                     ┆ 55.0               │\n│ 2-DEHYDROPANTOATE-REDUCT-MONOMER  ┆ 290.760953         │\n│ 2-ISOPROPYLMALATESYN-MONOMER      ┆ 1535.616449        │\n│ 2-OCTAPRENYL-METHOXY-BENZOQ-METH… ┆ 294.806303         │\n│ …                                 ┆ …                  │\n│ YTFR-MONOMER                      ┆ 25.0               │\n│ YTFT-MONOMER                      ┆ 20.0               │\n│ ZNUA-MONOMER                      ┆ 609.390469         │\n│ ZNUB-MONOMER                      ┆ 58.0               │\n│ ZNUC-MONOMER                      ┆ 67.0               │\n└───────────────────────────────────┴────────────────────┘",
      "text/html": "<div><style>\n.dataframe > thead > tr,\n.dataframe > tbody > tr {\n  text-align: right;\n  white-space: pre-wrap;\n}\n</style>\n<small>shape: (4_434, 2)</small><table border=\"1\" class=\"dataframe\"><thead><tr><th>Monomer ID</th><th>Sim Protein Counts</th></tr><tr><td>str</td><td>f64</td></tr></thead><tbody><tr><td>&quot;1-ACYLGLYCEROL…</td><td>142.265181</td></tr><tr><td>&quot;1-PFK-MONOMER&quot;</td><td>55.0</td></tr><tr><td>&quot;2-DEHYDROPANTO…</td><td>290.760953</td></tr><tr><td>&quot;2-ISOPROPYLMAL…</td><td>1535.616449</td></tr><tr><td>&quot;2-OCTAPRENYL-M…</td><td>294.806303</td></tr><tr><td>&hellip;</td><td>&hellip;</td></tr><tr><td>&quot;YTFR-MONOMER&quot;</td><td>25.0</td></tr><tr><td>&quot;YTFT-MONOMER&quot;</td><td>20.0</td></tr><tr><td>&quot;ZNUA-MONOMER&quot;</td><td>609.390469</td></tr><tr><td>&quot;ZNUB-MONOMER&quot;</td><td>58.0</td></tr><tr><td>&quot;ZNUC-MONOMER&quot;</td><td>67.0</td></tr></tbody></table></div>"
     },
     "execution_count": 152,
     "metadata": {},
     "output_type": "execute_result"
    }
   ],
   "source": [
    "mm_avg_sim_df"
   ],
   "metadata": {
    "collapsed": false,
    "ExecuteTime": {
     "end_time": "2024-05-22T22:45:40.964452Z",
     "start_time": "2024-05-22T22:45:40.952528Z"
    }
   },
   "id": "ae36d7783a713113"
  },
  {
   "cell_type": "code",
   "execution_count": 155,
   "outputs": [
    {
     "data": {
      "text/plain": "shape: (4_321, 5)\n┌──────────────────────────┬─────────┬─────────────────────┬─────────────┬────────────────────┐\n│ Proteins                 ┆ Genes   ┆ Accession-1 of Gene ┆ Common-Name ┆ Sim Protein Counts │\n│ ---                      ┆ ---     ┆ ---                 ┆ ---         ┆ ---                │\n│ str                      ┆ str     ┆ str                 ┆ str         ┆ f64                │\n╞══════════════════════════╪═════════╪═════════════════════╪═════════════╪════════════════════╡\n│ EG11817-MONOMER          ┆ EG11817 ┆ b2744               ┆ umpG        ┆ 56.18063           │\n│ MONOMER0-4534            ┆ G6577   ┆ b1120               ┆ cobB        ┆ 240.740968         │\n│ FDOI-MONOMER             ┆ EG11856 ┆ b3892               ┆ fdoI        ┆ 14.0               │\n│ G6991-MONOMER            ┆ G6991   ┆ b1807               ┆ tsaB        ┆ 202.0              │\n│ ADENODEAMIN-MONOMER      ┆ EG10030 ┆ b1623               ┆ add         ┆ 199.641814         │\n│ …                        ┆ …       ┆ …                   ┆ …           ┆ …                  │\n│ G7835-MONOMER            ┆ G7835   ┆ b4145               ┆ yjeJ        ┆ 63.249039          │\n│ GALACTITOLPDEHYD-MONOMER ┆ EG12417 ┆ b2091               ┆ gatD        ┆ 206.0              │\n│ EG10736-MONOMER          ┆ EG10736 ┆ b0708               ┆ phr         ┆ 38.804766          │\n│ EG10853-MONOMER          ┆ EG10853 ┆ b1427               ┆ rimL        ┆ 152.78555          │\n│ EG12344-MONOMER          ┆ EG12344 ┆ b1303               ┆ pspF        ┆ 44.0               │\n└──────────────────────────┴─────────┴─────────────────────┴─────────────┴────────────────────┘",
      "text/html": "<div><style>\n.dataframe > thead > tr,\n.dataframe > tbody > tr {\n  text-align: right;\n  white-space: pre-wrap;\n}\n</style>\n<small>shape: (4_321, 5)</small><table border=\"1\" class=\"dataframe\"><thead><tr><th>Proteins</th><th>Genes</th><th>Accession-1 of Gene</th><th>Common-Name</th><th>Sim Protein Counts</th></tr><tr><td>str</td><td>str</td><td>str</td><td>str</td><td>f64</td></tr></thead><tbody><tr><td>&quot;EG11817-MONOME…</td><td>&quot;EG11817&quot;</td><td>&quot;b2744&quot;</td><td>&quot;umpG&quot;</td><td>56.18063</td></tr><tr><td>&quot;MONOMER0-4534&quot;</td><td>&quot;G6577&quot;</td><td>&quot;b1120&quot;</td><td>&quot;cobB&quot;</td><td>240.740968</td></tr><tr><td>&quot;FDOI-MONOMER&quot;</td><td>&quot;EG11856&quot;</td><td>&quot;b3892&quot;</td><td>&quot;fdoI&quot;</td><td>14.0</td></tr><tr><td>&quot;G6991-MONOMER&quot;</td><td>&quot;G6991&quot;</td><td>&quot;b1807&quot;</td><td>&quot;tsaB&quot;</td><td>202.0</td></tr><tr><td>&quot;ADENODEAMIN-MO…</td><td>&quot;EG10030&quot;</td><td>&quot;b1623&quot;</td><td>&quot;add&quot;</td><td>199.641814</td></tr><tr><td>&hellip;</td><td>&hellip;</td><td>&hellip;</td><td>&hellip;</td><td>&hellip;</td></tr><tr><td>&quot;G7835-MONOMER&quot;</td><td>&quot;G7835&quot;</td><td>&quot;b4145&quot;</td><td>&quot;yjeJ&quot;</td><td>63.249039</td></tr><tr><td>&quot;GALACTITOLPDEH…</td><td>&quot;EG12417&quot;</td><td>&quot;b2091&quot;</td><td>&quot;gatD&quot;</td><td>206.0</td></tr><tr><td>&quot;EG10736-MONOME…</td><td>&quot;EG10736&quot;</td><td>&quot;b0708&quot;</td><td>&quot;phr&quot;</td><td>38.804766</td></tr><tr><td>&quot;EG10853-MONOME…</td><td>&quot;EG10853&quot;</td><td>&quot;b1427&quot;</td><td>&quot;rimL&quot;</td><td>152.78555</td></tr><tr><td>&quot;EG12344-MONOME…</td><td>&quot;EG12344&quot;</td><td>&quot;b1303&quot;</td><td>&quot;pspF&quot;</td><td>44.0</td></tr></tbody></table></div>"
     },
     "execution_count": 155,
     "metadata": {},
     "output_type": "execute_result"
    }
   ],
   "source": [
    "new_df = pl.DataFrame(ecocyc_data).join(mm_avg_sim_df,  how=\"inner\", left_on=\"Proteins\", right_on=\"Monomer ID\")\n",
    "# TODO: so the length of the original ecocyc data frame is 4481, so I think that it is filtering correctly! \n",
    "new_df"
   ],
   "metadata": {
    "collapsed": false,
    "ExecuteTime": {
     "end_time": "2024-05-23T14:22:21.388997Z",
     "start_time": "2024-05-23T14:22:21.373976Z"
    }
   },
   "id": "a15254c75d3e7884"
  },
  {
   "cell_type": "code",
   "execution_count": 156,
   "outputs": [
    {
     "data": {
      "text/plain": "shape: (3_362, 2)\n┌──────┬──────────────┐\n│ Gene ┆ MOPS minimal │\n│ ---  ┆ ---          │\n│ str  ┆ i64          │\n╞══════╪══════════════╡\n│ aaeA ┆ 5            │\n│ aaeR ┆ 79           │\n│ aas  ┆ 80           │\n│ aat  ┆ 111          │\n│ abgA ┆ 12           │\n│ …    ┆ …            │\n│ zraR ┆ 30           │\n│ zraS ┆ 4            │\n│ zupT ┆ 217          │\n│ zur  ┆ 167          │\n│ zwf  ┆ 1928         │\n└──────┴──────────────┘",
      "text/html": "<div><style>\n.dataframe > thead > tr,\n.dataframe > tbody > tr {\n  text-align: right;\n  white-space: pre-wrap;\n}\n</style>\n<small>shape: (3_362, 2)</small><table border=\"1\" class=\"dataframe\"><thead><tr><th>Gene</th><th>MOPS minimal</th></tr><tr><td>str</td><td>i64</td></tr></thead><tbody><tr><td>&quot;aaeA&quot;</td><td>5</td></tr><tr><td>&quot;aaeR&quot;</td><td>79</td></tr><tr><td>&quot;aas&quot;</td><td>80</td></tr><tr><td>&quot;aat&quot;</td><td>111</td></tr><tr><td>&quot;abgA&quot;</td><td>12</td></tr><tr><td>&hellip;</td><td>&hellip;</td></tr><tr><td>&quot;zraR&quot;</td><td>30</td></tr><tr><td>&quot;zraS&quot;</td><td>4</td></tr><tr><td>&quot;zupT&quot;</td><td>217</td></tr><tr><td>&quot;zur&quot;</td><td>167</td></tr><tr><td>&quot;zwf&quot;</td><td>1928</td></tr></tbody></table></div>"
     },
     "execution_count": 156,
     "metadata": {},
     "output_type": "execute_result"
    }
   ],
   "source": [
    "# Remove rows from validation_data that do not have high confidence (they will contain brackets) in the \"MOPS complete\" column:\n",
    "validation_data['MOPS minimal'] = validation_data['MOPS minimal'].astype(str)\n",
    "validation_data = validation_data[~validation_data['MOPS minimal'].str.contains(\"[\", regex=False)]\n",
    "validation_data = validation_data[validation_data['MOPS minimal'].str.isdigit()]\n",
    "validation_data['MOPS minimal'] = validation_data['MOPS minimal'].astype(int)\n",
    "v_mm_data = validation_data[['Gene', 'MOPS minimal']]\n",
    "v_mm_data = pl.DataFrame(v_mm_data)\n",
    "v_mm_data"
   ],
   "metadata": {
    "collapsed": false,
    "ExecuteTime": {
     "end_time": "2024-05-23T14:22:28.855919Z",
     "start_time": "2024-05-23T14:22:28.840201Z"
    }
   },
   "id": "a5eac1dec27aedd6"
  },
  {
   "cell_type": "code",
   "execution_count": 157,
   "outputs": [
    {
     "data": {
      "text/plain": "shape: (3_071, 6)\n┌─────────────────────┬─────────┬────────────────┬─────────────┬────────────────────┬──────────────┐\n│ Proteins            ┆ Genes   ┆ Accession-1 of ┆ Common-Name ┆ Sim Protein Counts ┆ MOPS minimal │\n│ ---                 ┆ ---     ┆ Gene           ┆ ---         ┆ ---                ┆ ---          │\n│ str                 ┆ str     ┆ ---            ┆ str         ┆ f64                ┆ i64          │\n│                     ┆         ┆ str            ┆             ┆                    ┆              │\n╞═════════════════════╪═════════╪════════════════╪═════════════╪════════════════════╪══════════════╡\n│ MONOMER0-4534       ┆ G6577   ┆ b1120          ┆ cobB        ┆ 240.740968         ┆ 572          │\n│ FDOI-MONOMER        ┆ EG11856 ┆ b3892          ┆ fdoI        ┆ 14.0               ┆ 16           │\n│ ADENODEAMIN-MONOMER ┆ EG10030 ┆ b1623          ┆ add         ┆ 199.641814         ┆ 265          │\n│ EG10875-MONOMER     ┆ EG10875 ┆ b3310          ┆ rplN        ┆ 14345.242121       ┆ 18836        │\n│ G6605-MONOMER       ┆ G6605   ┆ b1165          ┆ ymgA        ┆ 13.074558          ┆ 43           │\n│ …                   ┆ …       ┆ …              ┆ …           ┆ …                  ┆ …            │\n│ G7835-MONOMER       ┆ G7835   ┆ b4145          ┆ yjeJ        ┆ 63.249039          ┆ 19           │\n│ GALACTITOLPDEHYD-MO ┆ EG12417 ┆ b2091          ┆ gatD        ┆ 206.0              ┆ 2360         │\n│ NOMER               ┆         ┆                ┆             ┆                    ┆              │\n│ EG10736-MONOMER     ┆ EG10736 ┆ b0708          ┆ phr         ┆ 38.804766          ┆ 37           │\n│ EG10853-MONOMER     ┆ EG10853 ┆ b1427          ┆ rimL        ┆ 152.78555          ┆ 217          │\n│ EG12344-MONOMER     ┆ EG12344 ┆ b1303          ┆ pspF        ┆ 44.0               ┆ 66           │\n└─────────────────────┴─────────┴────────────────┴─────────────┴────────────────────┴──────────────┘",
      "text/html": "<div><style>\n.dataframe > thead > tr,\n.dataframe > tbody > tr {\n  text-align: right;\n  white-space: pre-wrap;\n}\n</style>\n<small>shape: (3_071, 6)</small><table border=\"1\" class=\"dataframe\"><thead><tr><th>Proteins</th><th>Genes</th><th>Accession-1 of Gene</th><th>Common-Name</th><th>Sim Protein Counts</th><th>MOPS minimal</th></tr><tr><td>str</td><td>str</td><td>str</td><td>str</td><td>f64</td><td>i64</td></tr></thead><tbody><tr><td>&quot;MONOMER0-4534&quot;</td><td>&quot;G6577&quot;</td><td>&quot;b1120&quot;</td><td>&quot;cobB&quot;</td><td>240.740968</td><td>572</td></tr><tr><td>&quot;FDOI-MONOMER&quot;</td><td>&quot;EG11856&quot;</td><td>&quot;b3892&quot;</td><td>&quot;fdoI&quot;</td><td>14.0</td><td>16</td></tr><tr><td>&quot;ADENODEAMIN-MO…</td><td>&quot;EG10030&quot;</td><td>&quot;b1623&quot;</td><td>&quot;add&quot;</td><td>199.641814</td><td>265</td></tr><tr><td>&quot;EG10875-MONOME…</td><td>&quot;EG10875&quot;</td><td>&quot;b3310&quot;</td><td>&quot;rplN&quot;</td><td>14345.242121</td><td>18836</td></tr><tr><td>&quot;G6605-MONOMER&quot;</td><td>&quot;G6605&quot;</td><td>&quot;b1165&quot;</td><td>&quot;ymgA&quot;</td><td>13.074558</td><td>43</td></tr><tr><td>&hellip;</td><td>&hellip;</td><td>&hellip;</td><td>&hellip;</td><td>&hellip;</td><td>&hellip;</td></tr><tr><td>&quot;G7835-MONOMER&quot;</td><td>&quot;G7835&quot;</td><td>&quot;b4145&quot;</td><td>&quot;yjeJ&quot;</td><td>63.249039</td><td>19</td></tr><tr><td>&quot;GALACTITOLPDEH…</td><td>&quot;EG12417&quot;</td><td>&quot;b2091&quot;</td><td>&quot;gatD&quot;</td><td>206.0</td><td>2360</td></tr><tr><td>&quot;EG10736-MONOME…</td><td>&quot;EG10736&quot;</td><td>&quot;b0708&quot;</td><td>&quot;phr&quot;</td><td>38.804766</td><td>37</td></tr><tr><td>&quot;EG10853-MONOME…</td><td>&quot;EG10853&quot;</td><td>&quot;b1427&quot;</td><td>&quot;rimL&quot;</td><td>152.78555</td><td>217</td></tr><tr><td>&quot;EG12344-MONOME…</td><td>&quot;EG12344&quot;</td><td>&quot;b1303&quot;</td><td>&quot;pspF&quot;</td><td>44.0</td><td>66</td></tr></tbody></table></div>"
     },
     "execution_count": 157,
     "metadata": {},
     "output_type": "execute_result"
    }
   ],
   "source": [
    "# find matches between the simulation minimal media data and validation minimal media data: \n",
    "vs_match_mm_df = pl.DataFrame(new_df).join(v_mm_data,  how=\"inner\", left_on=\"Common-Name\", right_on=\"Gene\")\n",
    "vs_match_mm_df"
   ],
   "metadata": {
    "collapsed": false,
    "ExecuteTime": {
     "end_time": "2024-05-23T14:22:32.642554Z",
     "start_time": "2024-05-23T14:22:32.626176Z"
    }
   },
   "id": "9fac194b54d20682"
  },
  {
   "cell_type": "code",
   "execution_count": 161,
   "outputs": [
    {
     "data": {
      "text/plain": "shape: (2_651, 3)\n┌──────────────────────────┬────────────────────┬──────────────┐\n│ Proteins                 ┆ Sim Protein Counts ┆ MOPS minimal │\n│ ---                      ┆ ---                ┆ ---          │\n│ str                      ┆ f64                ┆ i64          │\n╞══════════════════════════╪════════════════════╪══════════════╡\n│ MONOMER0-4534            ┆ 240.740968         ┆ 572          │\n│ FDOI-MONOMER             ┆ 14.0               ┆ 16           │\n│ ADENODEAMIN-MONOMER      ┆ 199.641814         ┆ 265          │\n│ EG10875-MONOMER          ┆ 14345.242121       ┆ 18836        │\n│ G6605-MONOMER            ┆ 13.074558          ┆ 43           │\n│ …                        ┆ …                  ┆ …            │\n│ G7835-MONOMER            ┆ 63.249039          ┆ 19           │\n│ GALACTITOLPDEHYD-MONOMER ┆ 206.0              ┆ 2360         │\n│ EG10736-MONOMER          ┆ 38.804766          ┆ 37           │\n│ EG10853-MONOMER          ┆ 152.78555          ┆ 217          │\n│ EG12344-MONOMER          ┆ 44.0               ┆ 66           │\n└──────────────────────────┴────────────────────┴──────────────┘",
      "text/html": "<div><style>\n.dataframe > thead > tr,\n.dataframe > tbody > tr {\n  text-align: right;\n  white-space: pre-wrap;\n}\n</style>\n<small>shape: (2_651, 3)</small><table border=\"1\" class=\"dataframe\"><thead><tr><th>Proteins</th><th>Sim Protein Counts</th><th>MOPS minimal</th></tr><tr><td>str</td><td>f64</td><td>i64</td></tr></thead><tbody><tr><td>&quot;MONOMER0-4534&quot;</td><td>240.740968</td><td>572</td></tr><tr><td>&quot;FDOI-MONOMER&quot;</td><td>14.0</td><td>16</td></tr><tr><td>&quot;ADENODEAMIN-MO…</td><td>199.641814</td><td>265</td></tr><tr><td>&quot;EG10875-MONOME…</td><td>14345.242121</td><td>18836</td></tr><tr><td>&quot;G6605-MONOMER&quot;</td><td>13.074558</td><td>43</td></tr><tr><td>&hellip;</td><td>&hellip;</td><td>&hellip;</td></tr><tr><td>&quot;G7835-MONOMER&quot;</td><td>63.249039</td><td>19</td></tr><tr><td>&quot;GALACTITOLPDEH…</td><td>206.0</td><td>2360</td></tr><tr><td>&quot;EG10736-MONOME…</td><td>38.804766</td><td>37</td></tr><tr><td>&quot;EG10853-MONOME…</td><td>152.78555</td><td>217</td></tr><tr><td>&quot;EG12344-MONOME…</td><td>44.0</td><td>66</td></tr></tbody></table></div>"
     },
     "execution_count": 161,
     "metadata": {},
     "output_type": "execute_result"
    }
   ],
   "source": [
    "# make a new data frame that holds just the protein names and the Sim Protein Counts and MOPS minimal data and then filter out counts that are less than 10: \n",
    "comparison_data = [\"Proteins\", \"Sim Protein Counts\", \"MOPS minimal\"]\n",
    "comparison_df = vs_match_mm_df.select(comparison_data)\n",
    "comparison_df = comparison_df.filter((pl.col(\"Sim Protein Counts\") > 10) & (pl.col(\"MOPS minimal\") > 10))\n",
    "comparison_df"
   ],
   "metadata": {
    "collapsed": false,
    "ExecuteTime": {
     "end_time": "2024-05-23T14:34:02.276474Z",
     "start_time": "2024-05-23T14:34:02.261876Z"
    }
   },
   "id": "794810c8f226c66e"
  },
  {
   "cell_type": "code",
   "execution_count": 163,
   "outputs": [
    {
     "ename": "ValueError",
     "evalue": "cannot create DataFrame from array with more than two dimensions; shape = (1, 2651, 2)",
     "output_type": "error",
     "traceback": [
      "\u001B[0;31m---------------------------------------------------------------------------\u001B[0m",
      "\u001B[0;31mValueError\u001B[0m                                Traceback (most recent call last)",
      "Cell \u001B[0;32mIn[163], line 3\u001B[0m\n\u001B[1;32m      1\u001B[0m \u001B[38;5;66;03m# plot the comparison graph:\u001B[39;00m\n\u001B[1;32m      2\u001B[0m \u001B[38;5;66;03m# filtered over ten graph:\u001B[39;00m\n\u001B[0;32m----> 3\u001B[0m mm_df \u001B[38;5;241m=\u001B[39m \u001B[43mpl\u001B[49m\u001B[38;5;241;43m.\u001B[39;49m\u001B[43mDataFrame\u001B[49m\u001B[43m(\u001B[49m\u001B[43mnp\u001B[49m\u001B[38;5;241;43m.\u001B[39;49m\u001B[43marray\u001B[49m\u001B[43m(\u001B[49m\u001B[43m[\u001B[49m\u001B[43mcomparison_df\u001B[49m\u001B[38;5;241;43m.\u001B[39;49m\u001B[43mselect\u001B[49m\u001B[43m(\u001B[49m\u001B[38;5;124;43m\"\u001B[39;49m\u001B[38;5;124;43mSim Protein Counts\u001B[39;49m\u001B[38;5;124;43m\"\u001B[39;49m\u001B[43m)\u001B[49m\u001B[43m,\u001B[49m\u001B[43m \u001B[49m\u001B[43mcomparison_df\u001B[49m\u001B[38;5;241;43m.\u001B[39;49m\u001B[43mselect\u001B[49m\u001B[43m(\u001B[49m\u001B[38;5;124;43m\"\u001B[39;49m\u001B[38;5;124;43mMOPS minimal\u001B[39;49m\u001B[38;5;124;43m\"\u001B[39;49m\u001B[43m)\u001B[49m\u001B[43m]\u001B[49m\u001B[43m)\u001B[49m\u001B[38;5;241;43m.\u001B[39;49m\u001B[43mT\u001B[49m\u001B[43m,\u001B[49m\u001B[43m \u001B[49m\u001B[43mschema\u001B[49m\u001B[38;5;241;43m=\u001B[39;49m\u001B[43m[\u001B[49m\u001B[38;5;124;43m\"\u001B[39;49m\u001B[38;5;124;43mSimulation\u001B[39;49m\u001B[38;5;124;43m\"\u001B[39;49m\u001B[43m,\u001B[49m\u001B[43m \u001B[49m\u001B[38;5;124;43m\"\u001B[39;49m\u001B[38;5;124;43mExperiment\u001B[39;49m\u001B[38;5;124;43m\"\u001B[39;49m\u001B[43m]\u001B[49m\u001B[43m)\u001B[49m\n\u001B[1;32m      4\u001B[0m sns\u001B[38;5;241m.\u001B[39mscatterplot(x\u001B[38;5;241m=\u001B[39m\u001B[38;5;124m\"\u001B[39m\u001B[38;5;124mSimulation\u001B[39m\u001B[38;5;124m\"\u001B[39m, y\u001B[38;5;241m=\u001B[39m\u001B[38;5;124m\"\u001B[39m\u001B[38;5;124mExperiment\u001B[39m\u001B[38;5;124m\"\u001B[39m, data\u001B[38;5;241m=\u001B[39mmm_df\u001B[38;5;241m.\u001B[39mto_pandas(), s\u001B[38;5;241m=\u001B[39m\u001B[38;5;241m5\u001B[39m)\n\u001B[1;32m      5\u001B[0m \u001B[38;5;66;03m#sns.scatterplot(x=\"Sim Protein Counts\", y=\"MOPS minimal\", data=comparison_df.to_pandas(), s=5)\u001B[39;00m\n\u001B[1;32m      6\u001B[0m \n\u001B[1;32m      7\u001B[0m \u001B[38;5;66;03m# find the max value of the plot for making a y=x line: \u001B[39;00m\n",
      "File \u001B[0;32m~/.pyenv/versions/3.11.3/envs/viv-ecoli/lib/python3.11/site-packages/polars/dataframe/frame.py:391\u001B[0m, in \u001B[0;36mDataFrame.__init__\u001B[0;34m(self, data, schema, schema_overrides, strict, orient, infer_schema_length, nan_to_null)\u001B[0m\n\u001B[1;32m    386\u001B[0m     \u001B[38;5;28mself\u001B[39m\u001B[38;5;241m.\u001B[39m_df \u001B[38;5;241m=\u001B[39m series_to_pydf(\n\u001B[1;32m    387\u001B[0m         data, schema\u001B[38;5;241m=\u001B[39mschema, schema_overrides\u001B[38;5;241m=\u001B[39mschema_overrides, strict\u001B[38;5;241m=\u001B[39mstrict\n\u001B[1;32m    388\u001B[0m     )\n\u001B[1;32m    390\u001B[0m \u001B[38;5;28;01melif\u001B[39;00m _check_for_numpy(data) \u001B[38;5;129;01mand\u001B[39;00m \u001B[38;5;28misinstance\u001B[39m(data, np\u001B[38;5;241m.\u001B[39mndarray):\n\u001B[0;32m--> 391\u001B[0m     \u001B[38;5;28mself\u001B[39m\u001B[38;5;241m.\u001B[39m_df \u001B[38;5;241m=\u001B[39m \u001B[43mnumpy_to_pydf\u001B[49m\u001B[43m(\u001B[49m\n\u001B[1;32m    392\u001B[0m \u001B[43m        \u001B[49m\u001B[43mdata\u001B[49m\u001B[43m,\u001B[49m\n\u001B[1;32m    393\u001B[0m \u001B[43m        \u001B[49m\u001B[43mschema\u001B[49m\u001B[38;5;241;43m=\u001B[39;49m\u001B[43mschema\u001B[49m\u001B[43m,\u001B[49m\n\u001B[1;32m    394\u001B[0m \u001B[43m        \u001B[49m\u001B[43mschema_overrides\u001B[49m\u001B[38;5;241;43m=\u001B[39;49m\u001B[43mschema_overrides\u001B[49m\u001B[43m,\u001B[49m\n\u001B[1;32m    395\u001B[0m \u001B[43m        \u001B[49m\u001B[43mstrict\u001B[49m\u001B[38;5;241;43m=\u001B[39;49m\u001B[43mstrict\u001B[49m\u001B[43m,\u001B[49m\n\u001B[1;32m    396\u001B[0m \u001B[43m        \u001B[49m\u001B[43morient\u001B[49m\u001B[38;5;241;43m=\u001B[39;49m\u001B[43morient\u001B[49m\u001B[43m,\u001B[49m\n\u001B[1;32m    397\u001B[0m \u001B[43m        \u001B[49m\u001B[43mnan_to_null\u001B[49m\u001B[38;5;241;43m=\u001B[39;49m\u001B[43mnan_to_null\u001B[49m\u001B[43m,\u001B[49m\n\u001B[1;32m    398\u001B[0m \u001B[43m    \u001B[49m\u001B[43m)\u001B[49m\n\u001B[1;32m    400\u001B[0m \u001B[38;5;28;01melif\u001B[39;00m _check_for_pyarrow(data) \u001B[38;5;129;01mand\u001B[39;00m \u001B[38;5;28misinstance\u001B[39m(data, pa\u001B[38;5;241m.\u001B[39mTable):\n\u001B[1;32m    401\u001B[0m     \u001B[38;5;28mself\u001B[39m\u001B[38;5;241m.\u001B[39m_df \u001B[38;5;241m=\u001B[39m arrow_to_pydf(\n\u001B[1;32m    402\u001B[0m         data, schema\u001B[38;5;241m=\u001B[39mschema, schema_overrides\u001B[38;5;241m=\u001B[39mschema_overrides, strict\u001B[38;5;241m=\u001B[39mstrict\n\u001B[1;32m    403\u001B[0m     )\n",
      "File \u001B[0;32m~/.pyenv/versions/3.11.3/envs/viv-ecoli/lib/python3.11/site-packages/polars/_utils/construction/dataframe.py:1226\u001B[0m, in \u001B[0;36mnumpy_to_pydf\u001B[0;34m(data, schema, schema_overrides, orient, strict, nan_to_null)\u001B[0m\n\u001B[1;32m   1224\u001B[0m         \u001B[38;5;28;01melse\u001B[39;00m:\n\u001B[1;32m   1225\u001B[0m             msg \u001B[38;5;241m=\u001B[39m \u001B[38;5;124mf\u001B[39m\u001B[38;5;124m\"\u001B[39m\u001B[38;5;124mcannot create DataFrame from array with more than two dimensions; shape = \u001B[39m\u001B[38;5;132;01m{\u001B[39;00mshape\u001B[38;5;132;01m}\u001B[39;00m\u001B[38;5;124m\"\u001B[39m\n\u001B[0;32m-> 1226\u001B[0m         \u001B[38;5;28;01mraise\u001B[39;00m \u001B[38;5;167;01mValueError\u001B[39;00m(msg)\n\u001B[1;32m   1228\u001B[0m \u001B[38;5;28;01mif\u001B[39;00m schema \u001B[38;5;129;01mis\u001B[39;00m \u001B[38;5;129;01mnot\u001B[39;00m \u001B[38;5;28;01mNone\u001B[39;00m \u001B[38;5;129;01mand\u001B[39;00m \u001B[38;5;28mlen\u001B[39m(schema) \u001B[38;5;241m!=\u001B[39m n_columns:\n\u001B[1;32m   1229\u001B[0m     \u001B[38;5;28;01mif\u001B[39;00m (n_schema_cols \u001B[38;5;241m:=\u001B[39m \u001B[38;5;28mlen\u001B[39m(schema)) \u001B[38;5;241m!=\u001B[39m \u001B[38;5;241m1\u001B[39m:\n",
      "\u001B[0;31mValueError\u001B[0m: cannot create DataFrame from array with more than two dimensions; shape = (1, 2651, 2)"
     ]
    }
   ],
   "source": [
    "# plot the comparison graph:\n",
    "# filtered over ten graph:\n",
    "mm_df = pl.DataFrame(np.array([comparison_df.select(\"Sim Protein Counts\"), comparison_df.select(\"MOPS minimal\")]).T, schema=[\"Simulation\", \"Experiment\"])\n",
    "sns.scatterplot(x=\"Simulation\", y=\"Experiment\", data=mm_df.to_pandas(), s=5)\n",
    "#sns.scatterplot(x=\"Sim Protein Counts\", y=\"MOPS minimal\", data=comparison_df.to_pandas(), s=5)\n",
    "\n",
    "# find the max value of the plot for making a y=x line: \n",
    "max_vals = [max(comparison_df.select(\"Sim Protein Counts\")), max(comparison_df.select(\"MOPS minimal\"))]; max_val = round(max(max_vals))\n",
    "yxvals = range(10, max_val + 1); \n",
    "plt.plot(yxvals, yxvals, linewidth=.8, linestyle=\"dashed\", color=\"#FF796C\"); \n",
    "\n",
    "# plot specs\n",
    "plt.xscale('log')\n",
    "plt.yscale('log')\n",
    "plt.axis('square')\n",
    "plt.title(\"Comparisons of E.coli Protein Counts in Minimal Media \\n from Literature Data and Simulation Data\")"
   ],
   "metadata": {
    "collapsed": false,
    "ExecuteTime": {
     "end_time": "2024-05-23T14:39:52.249666Z",
     "start_time": "2024-05-23T14:39:52.211371Z"
    }
   },
   "id": "cb5254b89889eddf"
  },
  {
   "cell_type": "markdown",
   "source": [
    "## Old solving method: "
   ],
   "metadata": {
    "collapsed": false
   },
   "id": "6724c11e7ef4d309"
  },
  {
   "cell_type": "code",
   "execution_count": 52,
   "outputs": [
    {
     "data": {
      "text/plain": "shape: (4_321, 5)\n┌──────────────────────────┬─────────┬─────────────────────┬─────────────┬───────────────┐\n│ Proteins                 ┆ Genes   ┆ Accession-1 of Gene ┆ Common-Name ┆ Protein Count │\n│ ---                      ┆ ---     ┆ ---                 ┆ ---         ┆ ---           │\n│ str                      ┆ str     ┆ str                 ┆ str         ┆ f64           │\n╞══════════════════════════╪═════════╪═════════════════════╪═════════════╪═══════════════╡\n│ EG11817-MONOMER          ┆ EG11817 ┆ b2744               ┆ umpG        ┆ 56.18063      │\n│ MONOMER0-4534            ┆ G6577   ┆ b1120               ┆ cobB        ┆ 240.740968    │\n│ FDOI-MONOMER             ┆ EG11856 ┆ b3892               ┆ fdoI        ┆ 14.0          │\n│ G6991-MONOMER            ┆ G6991   ┆ b1807               ┆ tsaB        ┆ 202.0         │\n│ ADENODEAMIN-MONOMER      ┆ EG10030 ┆ b1623               ┆ add         ┆ 199.641814    │\n│ …                        ┆ …       ┆ …                   ┆ …           ┆ …             │\n│ G7835-MONOMER            ┆ G7835   ┆ b4145               ┆ yjeJ        ┆ 63.249039     │\n│ GALACTITOLPDEHYD-MONOMER ┆ EG12417 ┆ b2091               ┆ gatD        ┆ 206.0         │\n│ EG10736-MONOMER          ┆ EG10736 ┆ b0708               ┆ phr         ┆ 38.804766     │\n│ EG10853-MONOMER          ┆ EG10853 ┆ b1427               ┆ rimL        ┆ 152.78555     │\n│ EG12344-MONOMER          ┆ EG12344 ┆ b1303               ┆ pspF        ┆ 44.0          │\n└──────────────────────────┴─────────┴─────────────────────┴─────────────┴───────────────┘",
      "text/html": "<div><style>\n.dataframe > thead > tr,\n.dataframe > tbody > tr {\n  text-align: right;\n  white-space: pre-wrap;\n}\n</style>\n<small>shape: (4_321, 5)</small><table border=\"1\" class=\"dataframe\"><thead><tr><th>Proteins</th><th>Genes</th><th>Accession-1 of Gene</th><th>Common-Name</th><th>Protein Count</th></tr><tr><td>str</td><td>str</td><td>str</td><td>str</td><td>f64</td></tr></thead><tbody><tr><td>&quot;EG11817-MONOME…</td><td>&quot;EG11817&quot;</td><td>&quot;b2744&quot;</td><td>&quot;umpG&quot;</td><td>56.18063</td></tr><tr><td>&quot;MONOMER0-4534&quot;</td><td>&quot;G6577&quot;</td><td>&quot;b1120&quot;</td><td>&quot;cobB&quot;</td><td>240.740968</td></tr><tr><td>&quot;FDOI-MONOMER&quot;</td><td>&quot;EG11856&quot;</td><td>&quot;b3892&quot;</td><td>&quot;fdoI&quot;</td><td>14.0</td></tr><tr><td>&quot;G6991-MONOMER&quot;</td><td>&quot;G6991&quot;</td><td>&quot;b1807&quot;</td><td>&quot;tsaB&quot;</td><td>202.0</td></tr><tr><td>&quot;ADENODEAMIN-MO…</td><td>&quot;EG10030&quot;</td><td>&quot;b1623&quot;</td><td>&quot;add&quot;</td><td>199.641814</td></tr><tr><td>&hellip;</td><td>&hellip;</td><td>&hellip;</td><td>&hellip;</td><td>&hellip;</td></tr><tr><td>&quot;G7835-MONOMER&quot;</td><td>&quot;G7835&quot;</td><td>&quot;b4145&quot;</td><td>&quot;yjeJ&quot;</td><td>63.249039</td></tr><tr><td>&quot;GALACTITOLPDEH…</td><td>&quot;EG12417&quot;</td><td>&quot;b2091&quot;</td><td>&quot;gatD&quot;</td><td>206.0</td></tr><tr><td>&quot;EG10736-MONOME…</td><td>&quot;EG10736&quot;</td><td>&quot;b0708&quot;</td><td>&quot;phr&quot;</td><td>38.804766</td></tr><tr><td>&quot;EG10853-MONOME…</td><td>&quot;EG10853&quot;</td><td>&quot;b1427&quot;</td><td>&quot;rimL&quot;</td><td>152.78555</td></tr><tr><td>&quot;EG12344-MONOME…</td><td>&quot;EG12344&quot;</td><td>&quot;b1303&quot;</td><td>&quot;pspF&quot;</td><td>44.0</td></tr></tbody></table></div>"
     },
     "execution_count": 52,
     "metadata": {},
     "output_type": "execute_result"
    }
   ],
   "source": [
    "# find the gene name for each monomer in the bulk data using Ecocyc data: \n",
    "mm_BD_gene_ids = []\n",
    "mm_monomers_not_in_EC = []\n",
    "mm_monomer_idxs_in_EC = []\n",
    "gene = 1\n",
    "for i in range(len(monomer_ids)):\n",
    "\tif gene not in mm_BD_gene_ids: \n",
    "\t\tmonomer = monomer_ids[i]\n",
    "\t\tmonomer_idx = [name for key, name in EC_id_idx_dict.items() if monomer in key]\n",
    "\t\tif len(monomer_idx) == 0:\n",
    "\t\t\tmm_monomers_not_in_EC.append(monomer)\n",
    "\t\telse: \n",
    "\t\t\tmonomer_idx = monomer_idx[0]\n",
    "\t\t\tgene = EC_idx_Gene_dict.get(monomer_idx)\n",
    "\t\t\tmm_BD_gene_ids.append([gene])\n",
    "\t\t\tmm_monomer_idxs_in_EC.append(i)\n",
    "\t\t\t\n",
    "len(mm_BD_gene_ids)\n",
    "# join mm_BD_gene_ids with ecocyc_data on protein names\n",
    "# do a join type where it will only keep the keys both share \n",
    "# TODO: replace the code above this with just the line below!!! <3 \n",
    "new_df = pl.DataFrame(ecocyc_data).join(mm_avg_sim_df,  how=\"inner\", left_on=\"Proteins\", right_on=\"Monomer ID\")\n",
    "new_df\n"
   ],
   "metadata": {
    "collapsed": false,
    "ExecuteTime": {
     "end_time": "2024-05-22T16:41:25.923977Z",
     "start_time": "2024-05-22T16:41:25.304062Z"
    }
   },
   "id": "926df63b3be0acff"
  },
  {
   "cell_type": "code",
   "execution_count": 53,
   "outputs": [
    {
     "data": {
      "text/plain": "shape: (4_321, 5)\n┌──────────────────────────┬─────────┬─────────────────────┬─────────────┬───────────────┐\n│ Proteins                 ┆ Genes   ┆ Accession-1 of Gene ┆ Common-Name ┆ Protein Count │\n│ ---                      ┆ ---     ┆ ---                 ┆ ---         ┆ ---           │\n│ str                      ┆ str     ┆ str                 ┆ str         ┆ f64           │\n╞══════════════════════════╪═════════╪═════════════════════╪═════════════╪═══════════════╡\n│ EG11817-MONOMER          ┆ EG11817 ┆ b2744               ┆ umpG        ┆ 56.18063      │\n│ MONOMER0-4534            ┆ G6577   ┆ b1120               ┆ cobB        ┆ 240.740968    │\n│ FDOI-MONOMER             ┆ EG11856 ┆ b3892               ┆ fdoI        ┆ 14.0          │\n│ G6991-MONOMER            ┆ G6991   ┆ b1807               ┆ tsaB        ┆ 202.0         │\n│ ADENODEAMIN-MONOMER      ┆ EG10030 ┆ b1623               ┆ add         ┆ 199.641814    │\n│ …                        ┆ …       ┆ …                   ┆ …           ┆ …             │\n│ G7835-MONOMER            ┆ G7835   ┆ b4145               ┆ yjeJ        ┆ 63.249039     │\n│ GALACTITOLPDEHYD-MONOMER ┆ EG12417 ┆ b2091               ┆ gatD        ┆ 206.0         │\n│ EG10736-MONOMER          ┆ EG10736 ┆ b0708               ┆ phr         ┆ 38.804766     │\n│ EG10853-MONOMER          ┆ EG10853 ┆ b1427               ┆ rimL        ┆ 152.78555     │\n│ EG12344-MONOMER          ┆ EG12344 ┆ b1303               ┆ pspF        ┆ 44.0          │\n└──────────────────────────┴─────────┴─────────────────────┴─────────────┴───────────────┘",
      "text/html": "<div><style>\n.dataframe > thead > tr,\n.dataframe > tbody > tr {\n  text-align: right;\n  white-space: pre-wrap;\n}\n</style>\n<small>shape: (4_321, 5)</small><table border=\"1\" class=\"dataframe\"><thead><tr><th>Proteins</th><th>Genes</th><th>Accession-1 of Gene</th><th>Common-Name</th><th>Protein Count</th></tr><tr><td>str</td><td>str</td><td>str</td><td>str</td><td>f64</td></tr></thead><tbody><tr><td>&quot;EG11817-MONOME…</td><td>&quot;EG11817&quot;</td><td>&quot;b2744&quot;</td><td>&quot;umpG&quot;</td><td>56.18063</td></tr><tr><td>&quot;MONOMER0-4534&quot;</td><td>&quot;G6577&quot;</td><td>&quot;b1120&quot;</td><td>&quot;cobB&quot;</td><td>240.740968</td></tr><tr><td>&quot;FDOI-MONOMER&quot;</td><td>&quot;EG11856&quot;</td><td>&quot;b3892&quot;</td><td>&quot;fdoI&quot;</td><td>14.0</td></tr><tr><td>&quot;G6991-MONOMER&quot;</td><td>&quot;G6991&quot;</td><td>&quot;b1807&quot;</td><td>&quot;tsaB&quot;</td><td>202.0</td></tr><tr><td>&quot;ADENODEAMIN-MO…</td><td>&quot;EG10030&quot;</td><td>&quot;b1623&quot;</td><td>&quot;add&quot;</td><td>199.641814</td></tr><tr><td>&hellip;</td><td>&hellip;</td><td>&hellip;</td><td>&hellip;</td><td>&hellip;</td></tr><tr><td>&quot;G7835-MONOMER&quot;</td><td>&quot;G7835&quot;</td><td>&quot;b4145&quot;</td><td>&quot;yjeJ&quot;</td><td>63.249039</td></tr><tr><td>&quot;GALACTITOLPDEH…</td><td>&quot;EG12417&quot;</td><td>&quot;b2091&quot;</td><td>&quot;gatD&quot;</td><td>206.0</td></tr><tr><td>&quot;EG10736-MONOME…</td><td>&quot;EG10736&quot;</td><td>&quot;b0708&quot;</td><td>&quot;phr&quot;</td><td>38.804766</td></tr><tr><td>&quot;EG10853-MONOME…</td><td>&quot;EG10853&quot;</td><td>&quot;b1427&quot;</td><td>&quot;rimL&quot;</td><td>152.78555</td></tr><tr><td>&quot;EG12344-MONOME…</td><td>&quot;EG12344&quot;</td><td>&quot;b1303&quot;</td><td>&quot;pspF&quot;</td><td>44.0</td></tr></tbody></table></div>"
     },
     "execution_count": 53,
     "metadata": {},
     "output_type": "execute_result"
    }
   ],
   "source": [
    "# merge the simulation data with the ecocyc data:\n",
    "new_df = pl.DataFrame(ecocyc_data).join(mm_avg_sim_df,  how=\"inner\", left_on=\"Proteins\", right_on=\"Monomer ID\")\n",
    "# TODO: so the length of the original ecocyc data frame is 4481, so I think that it is filtering correctly! \n",
    "new_df"
   ],
   "metadata": {
    "collapsed": false,
    "ExecuteTime": {
     "end_time": "2024-05-22T16:41:25.927517Z",
     "start_time": "2024-05-22T16:41:25.924414Z"
    }
   },
   "id": "5496651462721926"
  },
  {
   "cell_type": "code",
   "execution_count": 54,
   "outputs": [],
   "source": [
    "# validation data sets from Li et al., 2014 (https://www.sciencedirect.com/science/article/pii/S0092867414002323?via%3Dihub#app1):\n",
    "validation_genes = validation_data.Gene\n",
    "validation_MOPS_data = validation_data['MOPS complete']\n",
    "validation_MOPS_min = validation_data['MOPS minimal']\n",
    "validation_MOPS_wo_M = validation_data['MOPS complete without methionine']\n",
    "\n",
    "# organize validation genes:\n",
    "V_gene_idx_dict = {id: i for i, id in enumerate(validation_genes)}\n",
    "V_idx_gene_dict = {idx: i for i, idx in V_gene_idx_dict.items()}"
   ],
   "metadata": {
    "collapsed": false,
    "ExecuteTime": {
     "end_time": "2024-05-22T16:41:25.934361Z",
     "start_time": "2024-05-22T16:41:25.928614Z"
    }
   },
   "id": "f3df13e9f51e44fe"
  },
  {
   "cell_type": "code",
   "execution_count": 55,
   "outputs": [
    {
     "data": {
      "text/plain": "shape: (4_481, 4)\n┌──────────────────────────┬─────────┬─────────────────────┬─────────────┐\n│ Proteins                 ┆ Genes   ┆ Accession-1 of Gene ┆ Common-Name │\n│ ---                      ┆ ---     ┆ ---                 ┆ ---         │\n│ str                      ┆ str     ┆ str                 ┆ str         │\n╞══════════════════════════╪═════════╪═════════════════════╪═════════════╡\n│ LYSU-CPLX                ┆ EG10553 ┆ b4129               ┆ lysU        │\n│ EG11817-MONOMER          ┆ EG11817 ┆ b2744               ┆ umpG        │\n│ MONOMER0-4534            ┆ G6577   ┆ b1120               ┆ cobB        │\n│ FDOI-MONOMER             ┆ EG11856 ┆ b3892               ┆ fdoI        │\n│ G6991-MONOMER            ┆ G6991   ┆ b1807               ┆ tsaB        │\n│ …                        ┆ …       ┆ …                   ┆ …           │\n│ G7835-MONOMER            ┆ G7835   ┆ b4145               ┆ yjeJ        │\n│ GALACTITOLPDEHYD-MONOMER ┆ EG12417 ┆ b2091               ┆ gatD        │\n│ EG10736-MONOMER          ┆ EG10736 ┆ b0708               ┆ phr         │\n│ EG10853-MONOMER          ┆ EG10853 ┆ b1427               ┆ rimL        │\n│ EG12344-MONOMER          ┆ EG12344 ┆ b1303               ┆ pspF        │\n└──────────────────────────┴─────────┴─────────────────────┴─────────────┘",
      "text/html": "<div><style>\n.dataframe > thead > tr,\n.dataframe > tbody > tr {\n  text-align: right;\n  white-space: pre-wrap;\n}\n</style>\n<small>shape: (4_481, 4)</small><table border=\"1\" class=\"dataframe\"><thead><tr><th>Proteins</th><th>Genes</th><th>Accession-1 of Gene</th><th>Common-Name</th></tr><tr><td>str</td><td>str</td><td>str</td><td>str</td></tr></thead><tbody><tr><td>&quot;LYSU-CPLX&quot;</td><td>&quot;EG10553&quot;</td><td>&quot;b4129&quot;</td><td>&quot;lysU&quot;</td></tr><tr><td>&quot;EG11817-MONOME…</td><td>&quot;EG11817&quot;</td><td>&quot;b2744&quot;</td><td>&quot;umpG&quot;</td></tr><tr><td>&quot;MONOMER0-4534&quot;</td><td>&quot;G6577&quot;</td><td>&quot;b1120&quot;</td><td>&quot;cobB&quot;</td></tr><tr><td>&quot;FDOI-MONOMER&quot;</td><td>&quot;EG11856&quot;</td><td>&quot;b3892&quot;</td><td>&quot;fdoI&quot;</td></tr><tr><td>&quot;G6991-MONOMER&quot;</td><td>&quot;G6991&quot;</td><td>&quot;b1807&quot;</td><td>&quot;tsaB&quot;</td></tr><tr><td>&hellip;</td><td>&hellip;</td><td>&hellip;</td><td>&hellip;</td></tr><tr><td>&quot;G7835-MONOMER&quot;</td><td>&quot;G7835&quot;</td><td>&quot;b4145&quot;</td><td>&quot;yjeJ&quot;</td></tr><tr><td>&quot;GALACTITOLPDEH…</td><td>&quot;EG12417&quot;</td><td>&quot;b2091&quot;</td><td>&quot;gatD&quot;</td></tr><tr><td>&quot;EG10736-MONOME…</td><td>&quot;EG10736&quot;</td><td>&quot;b0708&quot;</td><td>&quot;phr&quot;</td></tr><tr><td>&quot;EG10853-MONOME…</td><td>&quot;EG10853&quot;</td><td>&quot;b1427&quot;</td><td>&quot;rimL&quot;</td></tr><tr><td>&quot;EG12344-MONOME…</td><td>&quot;EG12344&quot;</td><td>&quot;b1303&quot;</td><td>&quot;pspF&quot;</td></tr></tbody></table></div>"
     },
     "execution_count": 55,
     "metadata": {},
     "output_type": "execute_result"
    }
   ],
   "source": [
    "# test out loading in the data from Ecocyc (https://ecocyc.org/groups?tab=SPECIAL&orgid=ECOLI) using the polars methods: \n",
    "test_df = pl.read_csv(\"notebooks/mia notebooks/test_name_df.csv\", separator=\"\\t\", truncate_ragged_lines=True)\n",
    "test_df\n",
    "#TODO: why do I have this code here? is it not the same as \"ecocyc_data\"?"
   ],
   "metadata": {
    "collapsed": false,
    "ExecuteTime": {
     "end_time": "2024-05-22T16:41:25.934835Z",
     "start_time": "2024-05-22T16:41:25.930472Z"
    }
   },
   "id": "ba6fcf51d31dd003"
  },
  {
   "cell_type": "code",
   "execution_count": 56,
   "outputs": [
    {
     "data": {
      "text/plain": "                      Proteins    Genes Accession-1 of Gene Common-Name\n0                    LYSU-CPLX  EG10553               b4129        lysU\n1              EG11817-MONOMER  EG11817               b2744        umpG\n2                MONOMER0-4534    G6577               b1120        cobB\n3                 FDOI-MONOMER  EG11856               b3892        fdoI\n4                G6991-MONOMER    G6991               b1807        tsaB\n...                        ...      ...                 ...         ...\n4476             G7835-MONOMER    G7835               b4145        yjeJ\n4477  GALACTITOLPDEHYD-MONOMER  EG12417               b2091        gatD\n4478           EG10736-MONOMER  EG10736               b0708         phr\n4479           EG10853-MONOMER  EG10853               b1427        rimL\n4480           EG12344-MONOMER  EG12344               b1303        pspF\n\n[4481 rows x 4 columns]",
      "text/html": "<div>\n<style scoped>\n    .dataframe tbody tr th:only-of-type {\n        vertical-align: middle;\n    }\n\n    .dataframe tbody tr th {\n        vertical-align: top;\n    }\n\n    .dataframe thead th {\n        text-align: right;\n    }\n</style>\n<table border=\"1\" class=\"dataframe\">\n  <thead>\n    <tr style=\"text-align: right;\">\n      <th></th>\n      <th>Proteins</th>\n      <th>Genes</th>\n      <th>Accession-1 of Gene</th>\n      <th>Common-Name</th>\n    </tr>\n  </thead>\n  <tbody>\n    <tr>\n      <th>0</th>\n      <td>LYSU-CPLX</td>\n      <td>EG10553</td>\n      <td>b4129</td>\n      <td>lysU</td>\n    </tr>\n    <tr>\n      <th>1</th>\n      <td>EG11817-MONOMER</td>\n      <td>EG11817</td>\n      <td>b2744</td>\n      <td>umpG</td>\n    </tr>\n    <tr>\n      <th>2</th>\n      <td>MONOMER0-4534</td>\n      <td>G6577</td>\n      <td>b1120</td>\n      <td>cobB</td>\n    </tr>\n    <tr>\n      <th>3</th>\n      <td>FDOI-MONOMER</td>\n      <td>EG11856</td>\n      <td>b3892</td>\n      <td>fdoI</td>\n    </tr>\n    <tr>\n      <th>4</th>\n      <td>G6991-MONOMER</td>\n      <td>G6991</td>\n      <td>b1807</td>\n      <td>tsaB</td>\n    </tr>\n    <tr>\n      <th>...</th>\n      <td>...</td>\n      <td>...</td>\n      <td>...</td>\n      <td>...</td>\n    </tr>\n    <tr>\n      <th>4476</th>\n      <td>G7835-MONOMER</td>\n      <td>G7835</td>\n      <td>b4145</td>\n      <td>yjeJ</td>\n    </tr>\n    <tr>\n      <th>4477</th>\n      <td>GALACTITOLPDEHYD-MONOMER</td>\n      <td>EG12417</td>\n      <td>b2091</td>\n      <td>gatD</td>\n    </tr>\n    <tr>\n      <th>4478</th>\n      <td>EG10736-MONOMER</td>\n      <td>EG10736</td>\n      <td>b0708</td>\n      <td>phr</td>\n    </tr>\n    <tr>\n      <th>4479</th>\n      <td>EG10853-MONOMER</td>\n      <td>EG10853</td>\n      <td>b1427</td>\n      <td>rimL</td>\n    </tr>\n    <tr>\n      <th>4480</th>\n      <td>EG12344-MONOMER</td>\n      <td>EG12344</td>\n      <td>b1303</td>\n      <td>pspF</td>\n    </tr>\n  </tbody>\n</table>\n<p>4481 rows × 4 columns</p>\n</div>"
     },
     "execution_count": 56,
     "metadata": {},
     "output_type": "execute_result"
    }
   ],
   "source": [
    "ecocyc_data"
   ],
   "metadata": {
    "collapsed": false,
    "ExecuteTime": {
     "end_time": "2024-05-22T16:41:25.938853Z",
     "start_time": "2024-05-22T16:41:25.935577Z"
    }
   },
   "id": "b2f26e5b328e39da"
  },
  {
   "cell_type": "code",
   "execution_count": 57,
   "outputs": [
    {
     "data": {
      "text/plain": "      Gene MOPS complete MOPS minimal MOPS complete without methionine\n0     aaeA            62            5                             [21]\n1     aaeB            16          [2]                              [0]\n2     aaeR           203           79                              141\n3     aaeX          [28]          [5]                             [11]\n4      aas           188           80                              162\n...    ...           ...          ...                              ...\n4090  zraR            98           30                               50\n4091  zraS             8            4                              [0]\n4092  zupT           407          217                              295\n4093   zur           333          167                              582\n4094   zwf          5185         1928                             3262\n\n[4095 rows x 4 columns]",
      "text/html": "<div>\n<style scoped>\n    .dataframe tbody tr th:only-of-type {\n        vertical-align: middle;\n    }\n\n    .dataframe tbody tr th {\n        vertical-align: top;\n    }\n\n    .dataframe thead th {\n        text-align: right;\n    }\n</style>\n<table border=\"1\" class=\"dataframe\">\n  <thead>\n    <tr style=\"text-align: right;\">\n      <th></th>\n      <th>Gene</th>\n      <th>MOPS complete</th>\n      <th>MOPS minimal</th>\n      <th>MOPS complete without methionine</th>\n    </tr>\n  </thead>\n  <tbody>\n    <tr>\n      <th>0</th>\n      <td>aaeA</td>\n      <td>62</td>\n      <td>5</td>\n      <td>[21]</td>\n    </tr>\n    <tr>\n      <th>1</th>\n      <td>aaeB</td>\n      <td>16</td>\n      <td>[2]</td>\n      <td>[0]</td>\n    </tr>\n    <tr>\n      <th>2</th>\n      <td>aaeR</td>\n      <td>203</td>\n      <td>79</td>\n      <td>141</td>\n    </tr>\n    <tr>\n      <th>3</th>\n      <td>aaeX</td>\n      <td>[28]</td>\n      <td>[5]</td>\n      <td>[11]</td>\n    </tr>\n    <tr>\n      <th>4</th>\n      <td>aas</td>\n      <td>188</td>\n      <td>80</td>\n      <td>162</td>\n    </tr>\n    <tr>\n      <th>...</th>\n      <td>...</td>\n      <td>...</td>\n      <td>...</td>\n      <td>...</td>\n    </tr>\n    <tr>\n      <th>4090</th>\n      <td>zraR</td>\n      <td>98</td>\n      <td>30</td>\n      <td>50</td>\n    </tr>\n    <tr>\n      <th>4091</th>\n      <td>zraS</td>\n      <td>8</td>\n      <td>4</td>\n      <td>[0]</td>\n    </tr>\n    <tr>\n      <th>4092</th>\n      <td>zupT</td>\n      <td>407</td>\n      <td>217</td>\n      <td>295</td>\n    </tr>\n    <tr>\n      <th>4093</th>\n      <td>zur</td>\n      <td>333</td>\n      <td>167</td>\n      <td>582</td>\n    </tr>\n    <tr>\n      <th>4094</th>\n      <td>zwf</td>\n      <td>5185</td>\n      <td>1928</td>\n      <td>3262</td>\n    </tr>\n  </tbody>\n</table>\n<p>4095 rows × 4 columns</p>\n</div>"
     },
     "execution_count": 57,
     "metadata": {},
     "output_type": "execute_result"
    }
   ],
   "source": [
    "validation_data"
   ],
   "metadata": {
    "collapsed": false,
    "ExecuteTime": {
     "end_time": "2024-05-22T16:41:25.961530Z",
     "start_time": "2024-05-22T16:41:25.938514Z"
    }
   },
   "id": "5dc39ef2761557b3"
  },
  {
   "cell_type": "code",
   "execution_count": 58,
   "outputs": [
    {
     "data": {
      "text/plain": "shape: (3_362, 2)\n┌──────┬──────────────┐\n│ Gene ┆ MOPS minimal │\n│ ---  ┆ ---          │\n│ str  ┆ i64          │\n╞══════╪══════════════╡\n│ aaeA ┆ 5            │\n│ aaeR ┆ 79           │\n│ aas  ┆ 80           │\n│ aat  ┆ 111          │\n│ abgA ┆ 12           │\n│ …    ┆ …            │\n│ zraR ┆ 30           │\n│ zraS ┆ 4            │\n│ zupT ┆ 217          │\n│ zur  ┆ 167          │\n│ zwf  ┆ 1928         │\n└──────┴──────────────┘",
      "text/html": "<div><style>\n.dataframe > thead > tr,\n.dataframe > tbody > tr {\n  text-align: right;\n  white-space: pre-wrap;\n}\n</style>\n<small>shape: (3_362, 2)</small><table border=\"1\" class=\"dataframe\"><thead><tr><th>Gene</th><th>MOPS minimal</th></tr><tr><td>str</td><td>i64</td></tr></thead><tbody><tr><td>&quot;aaeA&quot;</td><td>5</td></tr><tr><td>&quot;aaeR&quot;</td><td>79</td></tr><tr><td>&quot;aas&quot;</td><td>80</td></tr><tr><td>&quot;aat&quot;</td><td>111</td></tr><tr><td>&quot;abgA&quot;</td><td>12</td></tr><tr><td>&hellip;</td><td>&hellip;</td></tr><tr><td>&quot;zraR&quot;</td><td>30</td></tr><tr><td>&quot;zraS&quot;</td><td>4</td></tr><tr><td>&quot;zupT&quot;</td><td>217</td></tr><tr><td>&quot;zur&quot;</td><td>167</td></tr><tr><td>&quot;zwf&quot;</td><td>1928</td></tr></tbody></table></div>"
     },
     "execution_count": 58,
     "metadata": {},
     "output_type": "execute_result"
    }
   ],
   "source": [
    "# Remove rows from validation_data that do not have high confidence (they will contain brackets) in the \"MOPS complete\" column:\n",
    "validation_data['MOPS minimal'] = validation_data['MOPS minimal'].astype(str)\n",
    "validation_data = validation_data[~validation_data['MOPS minimal'].str.contains(\"[\", regex=False)]\n",
    "validation_data = validation_data[validation_data['MOPS minimal'].str.isdigit()]\n",
    "validation_data['MOPS minimal'] = validation_data['MOPS minimal'].astype(int)\n",
    "v_mm_data = validation_data[['Gene', 'MOPS minimal']]\n",
    "v_mm_data = pl.DataFrame(v_mm_data)\n",
    "v_mm_data"
   ],
   "metadata": {
    "collapsed": false,
    "ExecuteTime": {
     "end_time": "2024-05-22T16:41:25.979219Z",
     "start_time": "2024-05-22T16:41:25.946580Z"
    }
   },
   "id": "d788b64963e7ec5f"
  },
  {
   "cell_type": "code",
   "execution_count": 59,
   "outputs": [
    {
     "data": {
      "text/plain": "3362"
     },
     "execution_count": 59,
     "metadata": {},
     "output_type": "execute_result"
    }
   ],
   "source": [
    "# Filter out less confident data from the validation data set: \n",
    "mm_V_data = []\n",
    "mm_V_data_idxs = []\n",
    "mm_V_data_unsure = []\n",
    "for i in range(len(validation_MOPS_min)):\n",
    "\tPC = validation_MOPS_min[i]\n",
    "\t# if the data is not confident enough, indicated by brackets, then leave it out\n",
    "\tif type(PC) == str:\n",
    "\t\tPC = PC.replace(\"[\",\"\"); PC = PC.replace(\"]\",\"\") # TODO: use pl. string replace function\n",
    "\t\tPC = int(PC)\n",
    "\t\tmm_V_data_unsure.append(PC)\n",
    "\telse:\n",
    "\t\tint(PC)\n",
    "\t\tmm_V_data.append(PC)\n",
    "\t\tmm_V_data_idxs.append(i)\n",
    "\n",
    "len(mm_V_data)\n",
    "\n",
    "# Extract the remaining gene names of the simulation data: \n",
    "mm_V_data_gene_ids = []\n",
    "for i in range(len(mm_V_data)):\n",
    "\tidx = mm_V_data_idxs[i]\n",
    "\tgene_id = V_idx_gene_dict.get(idx)\n",
    "\tmm_V_data_gene_ids.append(gene_id)\n",
    "\t\n",
    "# Reorganize the validation gene data set: \n",
    "mm_V_gene_idx_dict = {id: i for i, id in enumerate(mm_V_data_gene_ids)}\n",
    "mm_V_idx_gene_dict = {idx: i for i, idx in mm_V_gene_idx_dict.items()}\n",
    "len(mm_V_data_gene_ids)"
   ],
   "metadata": {
    "collapsed": false,
    "ExecuteTime": {
     "end_time": "2024-05-22T16:41:26.001105Z",
     "start_time": "2024-05-22T16:41:25.956953Z"
    }
   },
   "id": "29ec48829b6a82d9"
  },
  {
   "cell_type": "code",
   "execution_count": 60,
   "outputs": [
    {
     "data": {
      "text/plain": "3018"
     },
     "execution_count": 60,
     "metadata": {},
     "output_type": "execute_result"
    }
   ],
   "source": [
    "# find matches between the simulation minimal media data and validation minimal media data: \n",
    "mm_matches = []\n",
    "mm_V_match_idxs = []\n",
    "mm_sim_gene_idxs = []\n",
    "mm_non_matches = []\n",
    "\n",
    "G = 1\n",
    "for i in range(len(mm_BD_gene_ids)):\n",
    "\tif G not in mm_matches: \n",
    "\t\tG = (mm_BD_gene_ids[i])\n",
    "\t\tG = str(G[0])\n",
    "\t\tgene_idx = [name for key, name in mm_V_gene_idx_dict.items() if G in key]\n",
    "\t\tif len(gene_idx) == 0:\n",
    "\t\t\tmm_non_matches.append(G)\n",
    "\t\telse: \n",
    "\t\t\tgene_idx = gene_idx[0]\n",
    "\t\t\tmm_V_match_idxs.append(gene_idx)\n",
    "\t\t\tgene = mm_V_idx_gene_dict.get(gene_idx)\n",
    "\t\t\tmm_matches.append([gene])\n",
    "\t\t\tmm_sim_gene_idxs.append(i)\n",
    "\t\t\n",
    "len(mm_matches)"
   ],
   "metadata": {
    "collapsed": false,
    "ExecuteTime": {
     "end_time": "2024-05-22T16:41:26.319402Z",
     "start_time": "2024-05-22T16:41:26.012790Z"
    }
   },
   "id": "878f915d3e785996"
  },
  {
   "cell_type": "code",
   "execution_count": 61,
   "outputs": [
    {
     "data": {
      "text/plain": "shape: (3_071, 6)\n┌─────────────────────┬─────────┬─────────────────────┬─────────────┬───────────────┬──────────────┐\n│ Proteins            ┆ Genes   ┆ Accession-1 of Gene ┆ Common-Name ┆ Protein Count ┆ MOPS minimal │\n│ ---                 ┆ ---     ┆ ---                 ┆ ---         ┆ ---           ┆ ---          │\n│ str                 ┆ str     ┆ str                 ┆ str         ┆ f64           ┆ i64          │\n╞═════════════════════╪═════════╪═════════════════════╪═════════════╪═══════════════╪══════════════╡\n│ MONOMER0-4534       ┆ G6577   ┆ b1120               ┆ cobB        ┆ 240.740968    ┆ 572          │\n│ FDOI-MONOMER        ┆ EG11856 ┆ b3892               ┆ fdoI        ┆ 14.0          ┆ 16           │\n│ ADENODEAMIN-MONOMER ┆ EG10030 ┆ b1623               ┆ add         ┆ 199.641814    ┆ 265          │\n│ EG10875-MONOMER     ┆ EG10875 ┆ b3310               ┆ rplN        ┆ 14345.242121  ┆ 18836        │\n│ G6605-MONOMER       ┆ G6605   ┆ b1165               ┆ ymgA        ┆ 13.074558     ┆ 43           │\n│ …                   ┆ …       ┆ …                   ┆ …           ┆ …             ┆ …            │\n│ G7835-MONOMER       ┆ G7835   ┆ b4145               ┆ yjeJ        ┆ 63.249039     ┆ 19           │\n│ GALACTITOLPDEHYD-MO ┆ EG12417 ┆ b2091               ┆ gatD        ┆ 206.0         ┆ 2360         │\n│ NOMER               ┆         ┆                     ┆             ┆               ┆              │\n│ EG10736-MONOMER     ┆ EG10736 ┆ b0708               ┆ phr         ┆ 38.804766     ┆ 37           │\n│ EG10853-MONOMER     ┆ EG10853 ┆ b1427               ┆ rimL        ┆ 152.78555     ┆ 217          │\n│ EG12344-MONOMER     ┆ EG12344 ┆ b1303               ┆ pspF        ┆ 44.0          ┆ 66           │\n└─────────────────────┴─────────┴─────────────────────┴─────────────┴───────────────┴──────────────┘",
      "text/html": "<div><style>\n.dataframe > thead > tr,\n.dataframe > tbody > tr {\n  text-align: right;\n  white-space: pre-wrap;\n}\n</style>\n<small>shape: (3_071, 6)</small><table border=\"1\" class=\"dataframe\"><thead><tr><th>Proteins</th><th>Genes</th><th>Accession-1 of Gene</th><th>Common-Name</th><th>Protein Count</th><th>MOPS minimal</th></tr><tr><td>str</td><td>str</td><td>str</td><td>str</td><td>f64</td><td>i64</td></tr></thead><tbody><tr><td>&quot;MONOMER0-4534&quot;</td><td>&quot;G6577&quot;</td><td>&quot;b1120&quot;</td><td>&quot;cobB&quot;</td><td>240.740968</td><td>572</td></tr><tr><td>&quot;FDOI-MONOMER&quot;</td><td>&quot;EG11856&quot;</td><td>&quot;b3892&quot;</td><td>&quot;fdoI&quot;</td><td>14.0</td><td>16</td></tr><tr><td>&quot;ADENODEAMIN-MO…</td><td>&quot;EG10030&quot;</td><td>&quot;b1623&quot;</td><td>&quot;add&quot;</td><td>199.641814</td><td>265</td></tr><tr><td>&quot;EG10875-MONOME…</td><td>&quot;EG10875&quot;</td><td>&quot;b3310&quot;</td><td>&quot;rplN&quot;</td><td>14345.242121</td><td>18836</td></tr><tr><td>&quot;G6605-MONOMER&quot;</td><td>&quot;G6605&quot;</td><td>&quot;b1165&quot;</td><td>&quot;ymgA&quot;</td><td>13.074558</td><td>43</td></tr><tr><td>&hellip;</td><td>&hellip;</td><td>&hellip;</td><td>&hellip;</td><td>&hellip;</td><td>&hellip;</td></tr><tr><td>&quot;G7835-MONOMER&quot;</td><td>&quot;G7835&quot;</td><td>&quot;b4145&quot;</td><td>&quot;yjeJ&quot;</td><td>63.249039</td><td>19</td></tr><tr><td>&quot;GALACTITOLPDEH…</td><td>&quot;EG12417&quot;</td><td>&quot;b2091&quot;</td><td>&quot;gatD&quot;</td><td>206.0</td><td>2360</td></tr><tr><td>&quot;EG10736-MONOME…</td><td>&quot;EG10736&quot;</td><td>&quot;b0708&quot;</td><td>&quot;phr&quot;</td><td>38.804766</td><td>37</td></tr><tr><td>&quot;EG10853-MONOME…</td><td>&quot;EG10853&quot;</td><td>&quot;b1427&quot;</td><td>&quot;rimL&quot;</td><td>152.78555</td><td>217</td></tr><tr><td>&quot;EG12344-MONOME…</td><td>&quot;EG12344&quot;</td><td>&quot;b1303&quot;</td><td>&quot;pspF&quot;</td><td>44.0</td><td>66</td></tr></tbody></table></div>"
     },
     "execution_count": 61,
     "metadata": {},
     "output_type": "execute_result"
    }
   ],
   "source": [
    "# find matches between the simulation minimal media data and validation minimal media data: \n",
    "vs_match_mm_df = pl.DataFrame(new_df).join(v_mm_data,  how=\"inner\", left_on=\"Common-Name\", right_on=\"Gene\")\n",
    "vs_match_mm_df"
   ],
   "metadata": {
    "collapsed": false,
    "ExecuteTime": {
     "end_time": "2024-05-22T16:41:26.327149Z",
     "start_time": "2024-05-22T16:41:26.319594Z"
    }
   },
   "id": "d7ad2fd1d5f0e9fe"
  },
  {
   "cell_type": "code",
   "execution_count": 62,
   "outputs": [
    {
     "data": {
      "text/plain": "3018"
     },
     "execution_count": 62,
     "metadata": {},
     "output_type": "execute_result"
    }
   ],
   "source": [
    "# Extract data columns from monomers not found in the Ecocyc data (corresponding to the names in BD_gene_ids): \n",
    "mm_avg_sim_PCs = mm_avg_sim_data[mm_monomer_idxs_in_EC]\n",
    "\n",
    "# Map the genes that do match together (corresponding to the names in matches): \n",
    "mm_avg_sim_PCs = np.transpose(mm_avg_sim_PCs)\n",
    "mm_sim_PC_data = mm_avg_sim_PCs[mm_sim_gene_idxs]\n",
    "\n",
    "# obtain minimal media validation data that can be compared with simulation data: \n",
    "mm_v_MOPS_data = []\n",
    "mm_v_MOPS_ids = []\n",
    "for idx in mm_V_match_idxs: \n",
    "\tgene_id = mm_V_data_gene_ids[idx]\n",
    "\tmm_v_MOPS_ids.append(gene_id)\n",
    "\tPC_data = mm_V_data[idx]\n",
    "\tmm_v_MOPS_data.append(PC_data)\n",
    "\t\n",
    "len(mm_v_MOPS_data)"
   ],
   "metadata": {
    "collapsed": false,
    "ExecuteTime": {
     "end_time": "2024-05-22T16:41:26.327385Z",
     "start_time": "2024-05-22T16:41:26.324653Z"
    }
   },
   "id": "e5d783d67ba750c6"
  },
  {
   "cell_type": "code",
   "execution_count": 63,
   "outputs": [
    {
     "data": {
      "text/plain": "Text(0.5, 1.0, 'Comparisons of E.coli Protein Counts in Minimal Media Conditions \\n between Literature Data and Simulation Data')"
     },
     "execution_count": 63,
     "metadata": {},
     "output_type": "execute_result"
    },
    {
     "data": {
      "text/plain": "<Figure size 640x480 with 1 Axes>",
      "image/png": "[encoded data removed]"
     },
     "metadata": {},
     "output_type": "display_data"
    }
   ],
   "source": [
    "# Plot the minimal media comparison graph using matplotlib:\n",
    "mm_xdata = np.array(mm_v_MOPS_data); mm_ydata = np.array(mm_sim_PC_data)\n",
    "plt.scatter(mm_xdata+1, mm_ydata+1, s=1, label=\"data\")\n",
    "\n",
    "m, b = np.polyfit(mm_xdata, mm_ydata, 1)\n",
    "mm_Y_data = int(m) * mm_xdata + b\n",
    "mm_legend_str = \"linear fit: y = \"+ str(round(m, 2)) +\"x + \"+ str(round(b, 2))\n",
    "plt.plot(mm_xdata, mm_Y_data, linewidth=.5, color='#bcbd22', label=mm_legend_str)\n",
    "\n",
    "max_value = max(max(mm_xdata), max(mm_ydata))\n",
    "x=y=[i for i in range(0,max_value)]\n",
    "plt.plot(x, y, linewidth=.5, color=\"orange\", label=\"y=x\")\n",
    "\n",
    "plt.axis('square')\n",
    "plt.legend()\n",
    "plt.xlabel(\"MOPs Minimal Media Data (from Li et al., 2014)\")\n",
    "plt.ylabel(\"Simulation Data (from VEcoli)\")\n",
    "plt.title(\"Comparisons of E.coli Protein Counts in Minimal Media Conditions \\n between Literature Data and Simulation Data\")"
   ],
   "metadata": {
    "collapsed": false,
    "ExecuteTime": {
     "end_time": "2024-05-22T16:41:26.755408Z",
     "start_time": "2024-05-22T16:41:26.328420Z"
    }
   },
   "id": "52280f272bc8975f"
  },
  {
   "cell_type": "code",
   "execution_count": 64,
   "outputs": [
    {
     "data": {
      "text/plain": "Text(0.5, 1.0, 'Comparisons of E.coli Protein Counts in Minimal Media \\n from Literature Data and Simulation Data')"
     },
     "execution_count": 64,
     "metadata": {},
     "output_type": "execute_result"
    },
    {
     "data": {
      "text/plain": "<Figure size 640x480 with 1 Axes>",
      "image/png": "[encoded data removed]"
     },
     "metadata": {},
     "output_type": "display_data"
    }
   ],
   "source": [
    "# Plot using the Polars dataframe method and Seaborn plotting method:\n",
    "comparison_df = pl.DataFrame(np.array([mm_v_MOPS_data, mm_sim_PC_data]).T, schema=[\"Experiment\", \"Simulation\"])\n",
    "\n",
    "sns.scatterplot(x=\"Simulation\", y=\"Experiment\", data=comparison_df.to_pandas())\n",
    "\n",
    "plt.xscale('log')\n",
    "plt.yscale('log')\n",
    "plt.title(\"Comparisons of E.coli Protein Counts in Minimal Media \\n from Literature Data and Simulation Data\")"
   ],
   "metadata": {
    "collapsed": false,
    "ExecuteTime": {
     "end_time": "2024-05-22T16:41:27.144713Z",
     "start_time": "2024-05-22T16:41:26.755516Z"
    }
   },
   "id": "8bd1acba2743d589"
  },
  {
   "cell_type": "code",
   "execution_count": 65,
   "outputs": [],
   "source": [
    "# taking out the counts with proteins that are in abundance of less than 10 (likely subgenerational) \n",
    "idxs_over_10 = []\n",
    "mm_v_MOPS_data_10 =[]\n",
    "mm_sim_PC_data_10 = []\n",
    "for i in range(len(mm_v_MOPS_data)): \n",
    "\tMOPS_data = mm_v_MOPS_data[i]\n",
    "\tsim_data = mm_sim_PC_data[i]\n",
    "\tif MOPS_data > 10: \n",
    "\t\tif sim_data > 10: \n",
    "\t\t\tidxs_over_10.append(i)\n",
    "\t\t\tmm_v_MOPS_data_10.append(MOPS_data)\n",
    "\t\t\tmm_sim_PC_data_10.append(sim_data)\n",
    "\t\t\t\n",
    "\t\t\t\n",
    "\t\t\t"
   ],
   "metadata": {
    "collapsed": false,
    "ExecuteTime": {
     "end_time": "2024-05-22T16:41:27.152691Z",
     "start_time": "2024-05-22T16:41:27.145531Z"
    }
   },
   "id": "69a3ae4d898045fc"
  },
  {
   "cell_type": "code",
   "execution_count": 66,
   "outputs": [],
   "source": [
    "comparison_df = comparison_df.filter((pl.col(\"Experiment\") > 10) & (pl.col(\"Simulation\") > 10))"
   ],
   "metadata": {
    "collapsed": false,
    "ExecuteTime": {
     "end_time": "2024-05-22T16:41:27.152795Z",
     "start_time": "2024-05-22T16:41:27.147981Z"
    }
   },
   "id": "5b462e42baa3f0dc"
  },
  {
   "cell_type": "code",
   "execution_count": 67,
   "outputs": [
    {
     "data": {
      "text/plain": "Text(0.5, 1.0, 'Comparisons of E.coli Protein Counts in Minimal Media \\n from Literature Data and Simulation Data')"
     },
     "execution_count": 67,
     "metadata": {},
     "output_type": "execute_result"
    },
    {
     "data": {
      "text/plain": "<Figure size 640x480 with 1 Axes>",
      "image/png": "[encoded data removed]"
     },
     "metadata": {},
     "output_type": "display_data"
    }
   ],
   "source": [
    "# filtered over ten graph: \n",
    "comparison_df = pl.DataFrame(np.array([mm_v_MOPS_data_10, mm_sim_PC_data_10]).T, schema=[\"Experiment\", \"Simulation\"])\n",
    "sns.scatterplot(x=\"Simulation\", y=\"Experiment\", data=comparison_df.to_pandas(), s=5)\n",
    "\n",
    "# find the max value of the plot for making a y=x line: \n",
    "max_vals = [max(mm_v_MOPS_data_10), max(mm_sim_PC_data_10)]; max_val = round(max(max_vals))\n",
    "yxvals = range(10, max_val + 1); \n",
    "plt.plot(yxvals, yxvals, linewidth=.8, linestyle=\"dashed\", color=\"#FF796C\"); \n",
    "\n",
    "# plot specs\n",
    "plt.xscale('log')\n",
    "plt.yscale('log')\n",
    "plt.axis('square')\n",
    "plt.title(\"Comparisons of E.coli Protein Counts in Minimal Media \\n from Literature Data and Simulation Data\")"
   ],
   "metadata": {
    "collapsed": false,
    "ExecuteTime": {
     "end_time": "2024-05-22T16:41:27.578085Z",
     "start_time": "2024-05-22T16:41:27.151670Z"
    }
   },
   "id": "7518a1923a66336c"
  },
  {
   "cell_type": "code",
   "execution_count": 68,
   "outputs": [],
   "source": [
    "# find the geometric deviation from the y=x line:\n",
    "# command {}\n"
   ],
   "metadata": {
    "collapsed": false,
    "ExecuteTime": {
     "end_time": "2024-05-22T16:41:27.579637Z",
     "start_time": "2024-05-22T16:41:27.577744Z"
    }
   },
   "id": "28ab012c392e9310"
  },
  {
   "cell_type": "code",
   "execution_count": 69,
   "outputs": [
    {
     "data": {
      "text/plain": "shape: (1, 2)\n┌────────────┬────────────┐\n│ Experiment ┆ Simulation │\n│ ---        ┆ ---        │\n│ f64        ┆ f64        │\n╞════════════╪════════════╡\n│ 5.346269e6 ┆ 3.5105e6   │\n└────────────┴────────────┘",
      "text/html": "<div><style>\n.dataframe > thead > tr,\n.dataframe > tbody > tr {\n  text-align: right;\n  white-space: pre-wrap;\n}\n</style>\n<small>shape: (1, 2)</small><table border=\"1\" class=\"dataframe\"><thead><tr><th>Experiment</th><th>Simulation</th></tr><tr><td>f64</td><td>f64</td></tr></thead><tbody><tr><td>5.346269e6</td><td>3.5105e6</td></tr></tbody></table></div>"
     },
     "execution_count": 69,
     "metadata": {},
     "output_type": "execute_result"
    }
   ],
   "source": [
    "\n",
    "comparison_df.sum()"
   ],
   "metadata": {
    "collapsed": false,
    "ExecuteTime": {
     "end_time": "2024-05-22T16:41:27.587903Z",
     "start_time": "2024-05-22T16:41:27.582400Z"
    }
   },
   "id": "4b0590285945cde1"
  },
  {
   "cell_type": "markdown",
   "source": [
    "## Comparison of rich media data from simulation results and Li et al., 2014"
   ],
   "metadata": {
    "collapsed": false
   },
   "id": "c671a6501d7c6639"
  },
  {
   "cell_type": "code",
   "execution_count": 70,
   "outputs": [],
   "source": [
    "time = '1300'\n",
    "date = '2024-04-23'\n",
    "experiment = 'validation_experiment'\n",
    "entry = f'{experiment}_{time}_{date}'\n",
    "folder = f'out/cofactors/{entry}/'"
   ],
   "metadata": {
    "collapsed": false,
    "ExecuteTime": {
     "end_time": "2024-05-22T16:41:27.587992Z",
     "start_time": "2024-05-22T16:41:27.584956Z"
    }
   },
   "id": "3a75d9cb72769c73"
  },
  {
   "cell_type": "code",
   "execution_count": 71,
   "outputs": [],
   "source": [
    "output_all = np.load(folder + '0_output.npy',allow_pickle='TRUE').item()\n",
    "# output = np.load(r\"out/geneRxnVerifData/output_glc.npy\", allow_pickle=True, encoding='ASCII').tolist()\n",
    "output = output_all['agents']['0']\n",
    "fba = output['listeners']['fba_results']\n",
    "mass = output['listeners']['mass']\n",
    "bulk = pl.DataFrame(output['bulk'])\n",
    "\n",
    "fluxes = np.array(fba['estimated_fluxes'][1:])\n",
    "exchanges = fba['estimated_exchange_dmdt']\n",
    "\n",
    "ans = output['listeners']['unique_molecule_counts']['active_ribosome']"
   ],
   "metadata": {
    "collapsed": false,
    "ExecuteTime": {
     "end_time": "2024-05-22T16:41:31.121901Z",
     "start_time": "2024-05-22T16:41:27.587416Z"
    }
   },
   "id": "6cf107d3bdf84ab6"
  },
  {
   "cell_type": "code",
   "execution_count": 72,
   "outputs": [],
   "source": [
    "# So say I want to find the names of the proteins themselves, these are functions to implement that do so: \n",
    "initial_state = json.load(open('data/wcecoli_t0.json'))\n",
    "\n",
    "bulk_ids = [item[0] for item in initial_state['bulk']]\n",
    "\n",
    "bulk.columns = bulk_ids"
   ],
   "metadata": {
    "collapsed": false,
    "ExecuteTime": {
     "end_time": "2024-05-22T16:41:31.177138Z",
     "start_time": "2024-05-22T16:41:31.122305Z"
    }
   },
   "id": "6f6d0184064d6c60"
  },
  {
   "cell_type": "code",
   "execution_count": 73,
   "outputs": [],
   "source": [
    "# take the protein [location] out of the name of the bulk ids: \n",
    "ecocyc_ids = []\n",
    "for id in bulk_ids: \n",
    "\tecocyc_ids.append(id[0:-3])\n",
    "\n",
    "ecocyc_id_idxs = []\n",
    "for i in range(len(ecocyc_ids)):\n",
    "\tecocyc_id_idxs.append(i)"
   ],
   "metadata": {
    "collapsed": false,
    "ExecuteTime": {
     "end_time": "2024-05-22T16:41:31.185278Z",
     "start_time": "2024-05-22T16:41:31.179638Z"
    }
   },
   "id": "7ea49e3ebe5e0b2d"
  },
  {
   "cell_type": "code",
   "execution_count": 74,
   "outputs": [],
   "source": [
    "# combine the protein counts for each monomer: \n",
    "id_idx_dict = {id: i for i, id in enumerate(bulk_ids)}\n",
    "idx_id_dict = {idx: i for i, idx in id_idx_dict.items()}\n",
    "\n",
    "protein_ids = complex_ids + monomer_ids\n",
    "all_names = []\n",
    "name_groups = []\n",
    "idx_groups = []\n",
    "\n",
    "for p in protein_ids:\n",
    "\tif p not in all_names:\n",
    "\t\tindexes = [name for key, name in id_idx_dict.items() if p in key]\n",
    "\t\tfor idx in indexes:\n",
    "\t\t\tif ecocyc_ids[idx] == p:\n",
    "\t\t\t\tpass\n",
    "\t\t\telse:\n",
    "\t\t\t\tindexes.remove(idx)\n",
    "\t\tname_group = [idx_id_dict.get(name) for name in indexes]\n",
    "\t\tall_names.append(p)\n",
    "\t\tname_groups.append([name_group])\n",
    "\t\tidx_groups.append([indexes])"
   ],
   "metadata": {
    "collapsed": false,
    "ExecuteTime": {
     "end_time": "2024-05-22T16:41:33.120185Z",
     "start_time": "2024-05-22T16:41:31.193223Z"
    }
   },
   "id": "64696072e2b6c785"
  },
  {
   "cell_type": "code",
   "execution_count": 75,
   "outputs": [],
   "source": [
    "# fuse and collect protein counts of interest (in the C matrix): \n",
    "MM_bulk_interest_protein_counts = np.zeros([bulk.shape[0], len(protein_ids)])\n",
    "MM_bulk_PC_dict = {}\n",
    "\n",
    "for i in range(len(idx_groups)):\n",
    "\tid = protein_ids[i]\n",
    "\tidxs = idx_groups[i]\n",
    "\tif id in ecocyc_ids:\n",
    "\t\tif len(idxs) == 1:\n",
    "\t\t\tidx = idxs[0][0]\n",
    "\t\t\tdf = np.array(bulk.select(bulk_ids[idx]))\n",
    "\t\telse:\n",
    "\t\t\ttogether = []\n",
    "\t\t\tfor idx in idxs:\n",
    "\t\t\t\tindex = idx[0]\n",
    "\t\t\t\ttemp_df = np.array(bulk.select(bulk_ids[index]))\n",
    "\t\t\t\ttogether.append(temp_df)\n",
    "\t\t\tdf = np.sum(together, axis=1)\n",
    "\t\tprotein_counts = np.transpose(df)\n",
    "\t\tMM_bulk_interest_protein_counts[:, i] = protein_counts\n",
    "\t\tMM_bulk_PC_dict.update({id:idxs}) "
   ],
   "metadata": {
    "collapsed": false,
    "ExecuteTime": {
     "end_time": "2024-05-22T16:41:36.794178Z",
     "start_time": "2024-05-22T16:41:33.121554Z"
    }
   },
   "id": "45f99f94b78792dd"
  },
  {
   "cell_type": "code",
   "execution_count": 76,
   "outputs": [],
   "source": [
    "# Generate simulation data: \n",
    "MM_sim_protein_counts = MM_bulk_interest_protein_counts @ Cmatrix\n",
    "\n",
    "# average the data across the timepoints accordingly: \n",
    "MM_avg_sim_data = MM_sim_protein_counts.mean(axis=0)"
   ],
   "metadata": {
    "collapsed": false,
    "ExecuteTime": {
     "end_time": "2024-05-22T16:41:36.824349Z",
     "start_time": "2024-05-22T16:41:36.794766Z"
    }
   },
   "id": "dfaa1a39d3bd4092"
  },
  {
   "cell_type": "code",
   "execution_count": 77,
   "outputs": [],
   "source": [
    "# Data from Ecocyc (https://ecocyc.org/groups?tab=SPECIAL&orgid=ECOLI): \n",
    "EC_proteins = ecocyc_data.Proteins\n",
    "EC_genes = ecocyc_data.Genes\n",
    "EC_gene_CNs = ecocyc_data['Common-Name']\n",
    "\n",
    "# organize Ecocyc protein name and gene name data: \n",
    "EC_id_idx_dict = {id: i for i, id in enumerate(EC_proteins)}\n",
    "EC_idx_id_dict = {idx: i for i, idx in EC_id_idx_dict.items()}\n",
    "\n",
    "EC_Gene_idx_dict = {id: i for i, id in enumerate(EC_gene_CNs)}\n",
    "EC_idx_Gene_dict = {idx: i for i, idx in EC_Gene_idx_dict.items()}"
   ],
   "metadata": {
    "collapsed": false,
    "ExecuteTime": {
     "end_time": "2024-05-22T16:41:36.833570Z",
     "start_time": "2024-05-22T16:41:36.823728Z"
    }
   },
   "id": "2f875072a650a750"
  },
  {
   "cell_type": "code",
   "execution_count": 78,
   "outputs": [
    {
     "data": {
      "text/plain": "4321"
     },
     "execution_count": 78,
     "metadata": {},
     "output_type": "execute_result"
    }
   ],
   "source": [
    "# find the gene name for each monomer in the bulk data using Ecocyc data: \n",
    "MM_BD_gene_ids = []\n",
    "MM_monomers_not_in_EC = []\n",
    "MM_monomer_idxs_in_EC = []\n",
    "gene = 1\n",
    "for i in range(len(monomer_ids)):\n",
    "\tif gene not in MM_BD_gene_ids: \n",
    "\t\tmonomer = monomer_ids[i]\n",
    "\t\tmonomer_idx = [name for key, name in EC_id_idx_dict.items() if monomer in key]\n",
    "\t\tif len(monomer_idx) == 0:\n",
    "\t\t\tMM_monomers_not_in_EC.append(monomer)\n",
    "\t\telse: \n",
    "\t\t\tmonomer_idx = monomer_idx[0]\n",
    "\t\t\tgene = EC_idx_Gene_dict.get(monomer_idx)\n",
    "\t\t\tMM_BD_gene_ids.append([gene])\n",
    "\t\t\tMM_monomer_idxs_in_EC.append(i)\n",
    "\t\t\t\n",
    "len(MM_BD_gene_ids)"
   ],
   "metadata": {
    "collapsed": false,
    "ExecuteTime": {
     "end_time": "2024-05-22T16:41:37.477138Z",
     "start_time": "2024-05-22T16:41:36.879958Z"
    }
   },
   "id": "dd6e65ed68661fbf"
  },
  {
   "cell_type": "code",
   "execution_count": 79,
   "outputs": [],
   "source": [
    "# validation data sets from Li et al., 2014 (https://www.sciencedirect.com/science/article/pii/S0092867414002323?via%3Dihub#app1):\n",
    "validation_genes = validation_data.Gene\n",
    "validation_MOPS_data = validation_data['MOPS complete']\n",
    "validation_MOPS_min = validation_data['MOPS minimal']\n",
    "validation_MOPS_wo_M = validation_data['MOPS complete without methionine']\n",
    "\n",
    "# organize validation genes:\n",
    "V_gene_idx_dict = {id: i for i, id in enumerate(validation_genes)}\n",
    "V_idx_gene_dict = {idx: i for i, idx in V_gene_idx_dict.items()}"
   ],
   "metadata": {
    "collapsed": false,
    "ExecuteTime": {
     "end_time": "2024-05-22T16:41:37.483536Z",
     "start_time": "2024-05-22T16:41:37.478609Z"
    }
   },
   "id": "91de98822cac7673"
  },
  {
   "cell_type": "code",
   "execution_count": 80,
   "outputs": [
    {
     "ename": "KeyError",
     "evalue": "1",
     "output_type": "error",
     "traceback": [
      "\u001B[0;31m---------------------------------------------------------------------------\u001B[0m",
      "\u001B[0;31mKeyError\u001B[0m                                  Traceback (most recent call last)",
      "File \u001B[0;32m~/.pyenv/versions/3.11.3/envs/viv-ecoli/lib/python3.11/site-packages/pandas/core/indexes/base.py:3791\u001B[0m, in \u001B[0;36mIndex.get_loc\u001B[0;34m(self, key)\u001B[0m\n\u001B[1;32m   3790\u001B[0m \u001B[38;5;28;01mtry\u001B[39;00m:\n\u001B[0;32m-> 3791\u001B[0m     \u001B[38;5;28;01mreturn\u001B[39;00m \u001B[38;5;28;43mself\u001B[39;49m\u001B[38;5;241;43m.\u001B[39;49m\u001B[43m_engine\u001B[49m\u001B[38;5;241;43m.\u001B[39;49m\u001B[43mget_loc\u001B[49m\u001B[43m(\u001B[49m\u001B[43mcasted_key\u001B[49m\u001B[43m)\u001B[49m\n\u001B[1;32m   3792\u001B[0m \u001B[38;5;28;01mexcept\u001B[39;00m \u001B[38;5;167;01mKeyError\u001B[39;00m \u001B[38;5;28;01mas\u001B[39;00m err:\n",
      "File \u001B[0;32mindex.pyx:152\u001B[0m, in \u001B[0;36mpandas._libs.index.IndexEngine.get_loc\u001B[0;34m()\u001B[0m\n",
      "File \u001B[0;32mindex.pyx:181\u001B[0m, in \u001B[0;36mpandas._libs.index.IndexEngine.get_loc\u001B[0;34m()\u001B[0m\n",
      "File \u001B[0;32mpandas/_libs/hashtable_class_helper.pxi:2606\u001B[0m, in \u001B[0;36mpandas._libs.hashtable.Int64HashTable.get_item\u001B[0;34m()\u001B[0m\n",
      "File \u001B[0;32mpandas/_libs/hashtable_class_helper.pxi:2630\u001B[0m, in \u001B[0;36mpandas._libs.hashtable.Int64HashTable.get_item\u001B[0;34m()\u001B[0m\n",
      "\u001B[0;31mKeyError\u001B[0m: 1",
      "\nThe above exception was the direct cause of the following exception:\n",
      "\u001B[0;31mKeyError\u001B[0m                                  Traceback (most recent call last)",
      "Cell \u001B[0;32mIn[80], line 6\u001B[0m\n\u001B[1;32m      4\u001B[0m MM_V_data_unsure \u001B[38;5;241m=\u001B[39m []\n\u001B[1;32m      5\u001B[0m \u001B[38;5;28;01mfor\u001B[39;00m i \u001B[38;5;129;01min\u001B[39;00m \u001B[38;5;28mrange\u001B[39m(\u001B[38;5;28mlen\u001B[39m(validation_MOPS_data)):\n\u001B[0;32m----> 6\u001B[0m \tPC \u001B[38;5;241m=\u001B[39m \u001B[43mvalidation_MOPS_data\u001B[49m\u001B[43m[\u001B[49m\u001B[43mi\u001B[49m\u001B[43m]\u001B[49m\n\u001B[1;32m      7\u001B[0m \t\u001B[38;5;66;03m# if the data is not confident enough, indicated by brackets, then leave it out\u001B[39;00m\n\u001B[1;32m      8\u001B[0m \t\u001B[38;5;28;01mif\u001B[39;00m \u001B[38;5;28mtype\u001B[39m(PC) \u001B[38;5;241m==\u001B[39m \u001B[38;5;28mstr\u001B[39m:\n",
      "File \u001B[0;32m~/.pyenv/versions/3.11.3/envs/viv-ecoli/lib/python3.11/site-packages/pandas/core/series.py:1040\u001B[0m, in \u001B[0;36mSeries.__getitem__\u001B[0;34m(self, key)\u001B[0m\n\u001B[1;32m   1037\u001B[0m     \u001B[38;5;28;01mreturn\u001B[39;00m \u001B[38;5;28mself\u001B[39m\u001B[38;5;241m.\u001B[39m_values[key]\n\u001B[1;32m   1039\u001B[0m \u001B[38;5;28;01melif\u001B[39;00m key_is_scalar:\n\u001B[0;32m-> 1040\u001B[0m     \u001B[38;5;28;01mreturn\u001B[39;00m \u001B[38;5;28;43mself\u001B[39;49m\u001B[38;5;241;43m.\u001B[39;49m\u001B[43m_get_value\u001B[49m\u001B[43m(\u001B[49m\u001B[43mkey\u001B[49m\u001B[43m)\u001B[49m\n\u001B[1;32m   1042\u001B[0m \u001B[38;5;66;03m# Convert generator to list before going through hashable part\u001B[39;00m\n\u001B[1;32m   1043\u001B[0m \u001B[38;5;66;03m# (We will iterate through the generator there to check for slices)\u001B[39;00m\n\u001B[1;32m   1044\u001B[0m \u001B[38;5;28;01mif\u001B[39;00m is_iterator(key):\n",
      "File \u001B[0;32m~/.pyenv/versions/3.11.3/envs/viv-ecoli/lib/python3.11/site-packages/pandas/core/series.py:1156\u001B[0m, in \u001B[0;36mSeries._get_value\u001B[0;34m(self, label, takeable)\u001B[0m\n\u001B[1;32m   1153\u001B[0m     \u001B[38;5;28;01mreturn\u001B[39;00m \u001B[38;5;28mself\u001B[39m\u001B[38;5;241m.\u001B[39m_values[label]\n\u001B[1;32m   1155\u001B[0m \u001B[38;5;66;03m# Similar to Index.get_value, but we do not fall back to positional\u001B[39;00m\n\u001B[0;32m-> 1156\u001B[0m loc \u001B[38;5;241m=\u001B[39m \u001B[38;5;28;43mself\u001B[39;49m\u001B[38;5;241;43m.\u001B[39;49m\u001B[43mindex\u001B[49m\u001B[38;5;241;43m.\u001B[39;49m\u001B[43mget_loc\u001B[49m\u001B[43m(\u001B[49m\u001B[43mlabel\u001B[49m\u001B[43m)\u001B[49m\n\u001B[1;32m   1158\u001B[0m \u001B[38;5;28;01mif\u001B[39;00m is_integer(loc):\n\u001B[1;32m   1159\u001B[0m     \u001B[38;5;28;01mreturn\u001B[39;00m \u001B[38;5;28mself\u001B[39m\u001B[38;5;241m.\u001B[39m_values[loc]\n",
      "File \u001B[0;32m~/.pyenv/versions/3.11.3/envs/viv-ecoli/lib/python3.11/site-packages/pandas/core/indexes/base.py:3798\u001B[0m, in \u001B[0;36mIndex.get_loc\u001B[0;34m(self, key)\u001B[0m\n\u001B[1;32m   3793\u001B[0m     \u001B[38;5;28;01mif\u001B[39;00m \u001B[38;5;28misinstance\u001B[39m(casted_key, \u001B[38;5;28mslice\u001B[39m) \u001B[38;5;129;01mor\u001B[39;00m (\n\u001B[1;32m   3794\u001B[0m         \u001B[38;5;28misinstance\u001B[39m(casted_key, abc\u001B[38;5;241m.\u001B[39mIterable)\n\u001B[1;32m   3795\u001B[0m         \u001B[38;5;129;01mand\u001B[39;00m \u001B[38;5;28many\u001B[39m(\u001B[38;5;28misinstance\u001B[39m(x, \u001B[38;5;28mslice\u001B[39m) \u001B[38;5;28;01mfor\u001B[39;00m x \u001B[38;5;129;01min\u001B[39;00m casted_key)\n\u001B[1;32m   3796\u001B[0m     ):\n\u001B[1;32m   3797\u001B[0m         \u001B[38;5;28;01mraise\u001B[39;00m InvalidIndexError(key)\n\u001B[0;32m-> 3798\u001B[0m     \u001B[38;5;28;01mraise\u001B[39;00m \u001B[38;5;167;01mKeyError\u001B[39;00m(key) \u001B[38;5;28;01mfrom\u001B[39;00m \u001B[38;5;21;01merr\u001B[39;00m\n\u001B[1;32m   3799\u001B[0m \u001B[38;5;28;01mexcept\u001B[39;00m \u001B[38;5;167;01mTypeError\u001B[39;00m:\n\u001B[1;32m   3800\u001B[0m     \u001B[38;5;66;03m# If we have a listlike key, _check_indexing_error will raise\u001B[39;00m\n\u001B[1;32m   3801\u001B[0m     \u001B[38;5;66;03m#  InvalidIndexError. Otherwise we fall through and re-raise\u001B[39;00m\n\u001B[1;32m   3802\u001B[0m     \u001B[38;5;66;03m#  the TypeError.\u001B[39;00m\n\u001B[1;32m   3803\u001B[0m     \u001B[38;5;28mself\u001B[39m\u001B[38;5;241m.\u001B[39m_check_indexing_error(key)\n",
      "\u001B[0;31mKeyError\u001B[0m: 1"
     ]
    }
   ],
   "source": [
    "# Filter out less confident data from the validation data set: \n",
    "MM_V_data = []\n",
    "MM_V_data_idxs = []\n",
    "MM_V_data_unsure = []\n",
    "for i in range(len(validation_MOPS_data)):\n",
    "\tPC = validation_MOPS_data[i]\n",
    "\t# if the data is not confident enough, indicated by brackets, then leave it out\n",
    "\tif type(PC) == str:\n",
    "\t\tPC = PC.replace(\"[\",\"\"); PC = PC.replace(\"]\",\"\")\n",
    "\t\tPC = int(PC)\n",
    "\t\tMM_V_data_unsure.append(PC)\n",
    "\telse:\n",
    "\t\tint(PC)\n",
    "\t\tMM_V_data.append(PC)\n",
    "\t\tMM_V_data_idxs.append(i)\n",
    "\n",
    "len(MM_V_data)\n",
    "\n",
    "# Extract the remaining gene names of the simulation data: \n",
    "MM_V_data_gene_ids = []\n",
    "for i in range(len(MM_V_data)):\n",
    "\tidx = MM_V_data_idxs[i]\n",
    "\tgene_id = V_idx_gene_dict.get(idx)\n",
    "\tMM_V_data_gene_ids.append(gene_id)\n",
    "\t\n",
    "len(MM_V_data_gene_ids)\n",
    "\n",
    "# Reorganize the validation gene data set: \n",
    "MM_V_gene_idx_dict = {id: i for i, id in enumerate(MM_V_data_gene_ids)}\n",
    "MM_V_idx_gene_dict = {idx: i for i, idx in MM_V_gene_idx_dict.items()}"
   ],
   "metadata": {
    "collapsed": false,
    "ExecuteTime": {
     "end_time": "2024-05-22T16:41:37.511380Z",
     "start_time": "2024-05-22T16:41:37.483074Z"
    }
   },
   "id": "9771e76fa6d89c15"
  },
  {
   "cell_type": "code",
   "execution_count": null,
   "outputs": [],
   "source": [
    "MM_V_data_gene_ids"
   ],
   "metadata": {
    "collapsed": false,
    "ExecuteTime": {
     "start_time": "2024-05-22T16:41:37.511Z"
    }
   },
   "id": "173dad0e2dc480a0"
  },
  {
   "cell_type": "code",
   "execution_count": null,
   "outputs": [],
   "source": [
    "# find matches between the simulation data and validation data: \n",
    "MM_matches = []\n",
    "MM_V_match_idxs = []\n",
    "MM_sim_match_idxs = []\n",
    "MM_non_matches = []\n",
    "\n",
    "G = 1\n",
    "for i in range(len(MM_BD_gene_ids)):\n",
    "\tif G not in MM_matches: \n",
    "\t\tG = (MM_BD_gene_ids[i])\n",
    "\t\tG = str(G[0])\n",
    "\t\tgene_idx = [name for key, name in MM_V_gene_idx_dict.items() if G in key]\n",
    "\t\tif len(gene_idx) == 0:\n",
    "\t\t\tMM_non_matches.append(G)\n",
    "\t\telse: \n",
    "\t\t\tgene_idx = gene_idx[0]\n",
    "\t\t\tMM_V_match_idxs.append(gene_idx)\n",
    "\t\t\tgene = MM_V_idx_gene_dict.get(gene_idx)\n",
    "\t\t\tMM_matches.append([gene])\n",
    "\t\t\tMM_sim_match_idxs.append(i)\n",
    "\t\t\n",
    "len(MM_matches)"
   ],
   "metadata": {
    "collapsed": false,
    "ExecuteTime": {
     "end_time": "2024-05-22T16:41:37.513904Z",
     "start_time": "2024-05-22T16:41:37.512187Z"
    }
   },
   "id": "e33fda8326482cec"
  },
  {
   "cell_type": "code",
   "execution_count": null,
   "outputs": [],
   "source": [
    "# Extract data columns from monomers not found in the Ecocyc data (corresponding to the names in MM_BD_gene_ids): \n",
    "MM_avg_sim_PCs = MM_avg_sim_data[MM_monomer_idxs_in_EC]\n",
    "\n",
    "# Map the genes that do match together (corresponding to the names in matches): \n",
    "MM_avg_sim_PCs = np.transpose(MM_avg_sim_PCs)\n",
    "MM_sim_PC_data = MM_avg_sim_PCs[MM_sim_match_idxs]\n",
    "\n",
    "# obtain validation data that can be compared with simulation data\n",
    "MM_v_MOPS_data = []\n",
    "MM_v_MOPS_ids = []\n",
    "for idx in MM_V_match_idxs: \n",
    "\tgene_id = MM_V_data_gene_ids[idx]\n",
    "\tMM_v_MOPS_ids.append(gene_id)\n",
    "\tPC_data = MM_V_data[idx]\n",
    "\tMM_v_MOPS_data.append(PC_data)\n",
    "\t\n",
    "len(MM_v_MOPS_data)"
   ],
   "metadata": {
    "collapsed": false,
    "ExecuteTime": {
     "start_time": "2024-05-22T16:41:37.513194Z"
    }
   },
   "id": "740b015f4ca5e994"
  },
  {
   "cell_type": "code",
   "execution_count": null,
   "outputs": [],
   "source": [
    "MM_v_MOPS_ids"
   ],
   "metadata": {
    "collapsed": false,
    "ExecuteTime": {
     "start_time": "2024-05-22T16:41:37.514267Z"
    }
   },
   "id": "135a571be701624d"
  },
  {
   "cell_type": "code",
   "execution_count": null,
   "outputs": [],
   "source": [],
   "metadata": {
    "collapsed": false,
    "ExecuteTime": {
     "start_time": "2024-05-22T16:41:37.515610Z"
    }
   },
   "id": "50a17ab040cbe4b8"
  },
  {
   "cell_type": "code",
   "execution_count": null,
   "outputs": [],
   "source": [
    "# Plot the comparison graph: \n",
    "MM_xdata = np.array(MM_v_MOPS_data); MM_ydata = np.array(MM_sim_PC_data)\n",
    "plt.scatter(MM_xdata, MM_ydata, s=1, label=\"data\")\n",
    "\n",
    "m, b = np.polyfit(MM_xdata, MM_ydata, 1)\n",
    "MM_Y_data = int(m) * MM_xdata + b\n",
    "MM_legend_str = \"linear fit: y = \"+ str(round(m, 2)) +\"x + \"+ str(round(b, 2))\n",
    "plt.plot(MM_xdata, MM_Y_data, linewidth=.5, color='#bcbd22', label=MM_legend_str)\n",
    "\n",
    "max_value = max(max(MM_xdata), max(MM_ydata))\n",
    "x=y=[i for i in range(0,max_value)]\n",
    "plt.plot(x, y, linewidth=.5, color=\"orange\", label=\"y=x\")\n",
    "\n",
    "plt.axis('square')\n",
    "plt.legend()\n",
    "plt.xlabel(\"MOPs Literature Data (from Li et al., 2014)\")\n",
    "plt.ylabel(\"Simulation Data (from VEcoli)\")\n",
    "plt.title(\"Comparisons of Protein Counts for E.coli from Literature Data and Simulation Data\")"
   ],
   "metadata": {
    "collapsed": false,
    "ExecuteTime": {
     "end_time": "2024-05-22T16:41:37.525574Z",
     "start_time": "2024-05-22T16:41:37.516657Z"
    }
   },
   "id": "1a435a5944420625"
  },
  {
   "cell_type": "code",
   "execution_count": null,
   "outputs": [],
   "source": [
    "# Plot using the Polars dataframe method and Seaborn plotting method:\n",
    "comparison_df = pl.DataFrame(np.array([MM_v_MOPS_data, MM_sim_PC_data]).T, schema=[\"Experiment\", \"Simulation\"])\n",
    "\n",
    "sns.scatterplot(x=\"Simulation\", y=\"Experiment\", data=comparison_df.to_pandas())\n",
    "plt.title(\"Comparisons of Protein Counts for E.coli from Literature Data and Simulation Data\")"
   ],
   "metadata": {
    "collapsed": false,
    "ExecuteTime": {
     "start_time": "2024-05-22T16:41:37.517774Z"
    }
   },
   "id": "36d216748333ca94"
  },
  {
   "cell_type": "code",
   "execution_count": null,
   "outputs": [],
   "source": [
    "# taking out the counts with proteins that are in abundance of less than 10 (likely subgenerational) \n",
    "idxs_over_10 = []\n",
    "MM_v_MOPS_data_10 =[]\n",
    "MM_sim_PC_data_10 = []\n",
    "for i in range(len(MM_v_MOPS_data)): \n",
    "\tMOPS_data = MM_v_MOPS_data[i]\n",
    "\tsim_data = MM_sim_PC_data[i]\n",
    "\tif MOPS_data > 10: \n",
    "\t\tif sim_data > 10: \n",
    "\t\t\tidxs_over_10.append(i)\n",
    "\t\t\tMM_v_MOPS_data_10.append(MOPS_data)\n",
    "\t\t\tMM_sim_PC_data_10.append(sim_data)\n",
    "\t\t\t\n"
   ],
   "metadata": {
    "collapsed": false,
    "ExecuteTime": {
     "start_time": "2024-05-22T16:41:37.518799Z"
    }
   },
   "id": "a5952d073407f274"
  },
  {
   "cell_type": "code",
   "execution_count": null,
   "outputs": [],
   "source": [
    "# filtered over ten graph: \n",
    "MM_comparison_df = pl.DataFrame(np.array([MM_v_MOPS_data_10, MM_sim_PC_data_10]).T, schema=[\"Experiment\", \"Simulation\"])\n",
    "sns.scatterplot(x=\"Simulation\", y=\"Experiment\", data=MM_comparison_df.to_pandas(), s=5)\n",
    "\n",
    "# find the max value of the plot for making a y=x line: \n",
    "max_vals = [max(MM_v_MOPS_data_10), max(MM_sim_PC_data_10)]; max_val = round(max(max_vals))\n",
    "yxvals = range(10, max_val + 1); \n",
    "plt.plot(yxvals, yxvals, linewidth=.5, linestyle=\"dashed\", color=\"#FF796C\"); \n",
    "\n",
    "# plot specs\n",
    "plt.xscale('log')\n",
    "plt.yscale('log')\n",
    "plt.axis('square')\n",
    "plt.title(\"Comparisons of Protein Counts for E.coli from Literature Data and Simulation Data\")"
   ],
   "metadata": {
    "collapsed": false,
    "ExecuteTime": {
     "start_time": "2024-05-22T16:41:37.519742Z"
    }
   },
   "id": "ad37de23a85adeaa"
  },
  {
   "cell_type": "code",
   "execution_count": null,
   "outputs": [],
   "source": [
    "MM_comparison_df.head()"
   ],
   "metadata": {
    "collapsed": false,
    "ExecuteTime": {
     "start_time": "2024-05-22T16:41:37.520742Z"
    }
   },
   "id": "bc6f1a93c2292203"
  },
  {
   "cell_type": "code",
   "execution_count": null,
   "outputs": [],
   "source": [
    "MM_comparison_df.filter((pl.col(\"Experiment\") > 1000) &  (pl.col(\"Simulation\") > 1000))"
   ],
   "metadata": {
    "collapsed": false,
    "ExecuteTime": {
     "start_time": "2024-05-22T16:41:37.521391Z"
    }
   },
   "id": "e5b1626b3f32424e"
  },
  {
   "cell_type": "code",
   "execution_count": null,
   "outputs": [],
   "source": [
    "# TODO: take out the protiens that have counts less than ten, they might not be as valuable \n",
    "# done\n",
    "# TODO: make it into a log log plot instead \n",
    "# done\n",
    "# TODO: calc the GEOMETRIC (Not aboslute) deviation each protien has from the y=x line ( normalize it somehow maybe?) \n",
    "# not done, but it does look like when I added an y=x line, the data was above the line as expected!!\n"
   ],
   "metadata": {
    "collapsed": false,
    "ExecuteTime": {
     "start_time": "2024-05-22T16:41:37.522152Z"
    }
   },
   "id": "44f757fa20402871"
  },
  {
   "cell_type": "code",
   "execution_count": null,
   "outputs": [],
   "source": [
    "# Compute the geometric deviation from the y=x line: \n",
    "MM_v_MOPS_data_10 = np.array(MM_v_MOPS_data_10)\n",
    "MM_sim_PC_data_10 = np.array(MM_sim_PC_data_10)\n",
    "\n",
    "ratios = MM_v_MOPS_data_10 / MM_sim_PC_data_10\n",
    "geometric_deviation = np.prod(ratios) ** (1/len(ratios))"
   ],
   "metadata": {
    "collapsed": false,
    "ExecuteTime": {
     "start_time": "2024-05-22T16:41:37.522845Z"
    }
   },
   "id": "1f3e01c22a6db7e9"
  },
  {
   "cell_type": "code",
   "execution_count": null,
   "outputs": [],
   "source": [
    "geometric_deviation"
   ],
   "metadata": {
    "collapsed": false,
    "ExecuteTime": {
     "start_time": "2024-05-22T16:41:37.523527Z"
    }
   },
   "id": "d0d660b20c042770"
  },
  {
   "cell_type": "code",
   "execution_count": null,
   "outputs": [],
   "source": [
    "# plot the deviation from the y=x line: \n",
    "sns.scatterplot(data=ratios, s=3)\n",
    "plt.ylabel(\"protein count ratio\"); plt.xlabel(\"proteins\")\n",
    "\n",
    "plt.yscale('log')\n",
    "#plt.axis('square')\n",
    "plt.title(\"ratio of protein count experimental data (from Li et. al., 2014) to simulation data\")\n",
    "#TODO: how do i get rid of the x-axis numbers? bc technically they arent nubmers"
   ],
   "metadata": {
    "collapsed": false,
    "ExecuteTime": {
     "start_time": "2024-05-22T16:41:37.524214Z"
    }
   },
   "id": "16541efe2deebc9f"
  },
  {
   "cell_type": "code",
   "execution_count": null,
   "outputs": [],
   "source": [],
   "metadata": {
    "collapsed": false,
    "ExecuteTime": {
     "start_time": "2024-05-22T16:41:37.524872Z"
    }
   },
   "id": "dafdd9ea1b331a7"
  },
  {
   "cell_type": "code",
   "execution_count": null,
   "outputs": [],
   "source": [],
   "metadata": {
    "collapsed": false,
    "ExecuteTime": {
     "start_time": "2024-05-22T16:41:37.525539Z"
    }
   },
   "id": "6b6f3df60327a12c"
  }
 ],
 "metadata": {
  "kernelspec": {
   "display_name": "Python 3",
   "language": "python",
   "name": "python3"
  },
  "language_info": {
   "codemirror_mode": {
    "name": "ipython",
    "version": 2
   },
   "file_extension": ".py",
   "mimetype": "text/x-python",
   "name": "python",
   "nbconvert_exporter": "python",
   "pygments_lexer": "ipython2",
   "version": "2.7.6"
  }
 },
 "nbformat": 4,
 "nbformat_minor": 5
}
