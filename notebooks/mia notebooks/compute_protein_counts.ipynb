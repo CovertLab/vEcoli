{
 "cells": [
  {
   "cell_type": "code",
   "execution_count": 1,
   "id": "initial_id",
   "metadata": {
    "collapsed": true,
    "ExecuteTime": {
     "end_time": "2024-04-30T18:22:28.746438Z",
     "start_time": "2024-04-30T18:22:28.682575Z"
    }
   },
   "outputs": [],
   "source": [
    "import polars as pl\n",
    "import numpy as np\n",
    "from matplotlib import pyplot as plt\n",
    "import os\n",
    "import json\n",
    "import pandas as pd\n",
    "import seaborn as sns\n",
    "from scipy.sparse import csr_matrix\n",
    "os.chdir(os.path.expanduser('~/vivarium-ecoli'))\n"
   ]
  },
  {
   "cell_type": "code",
   "execution_count": 2,
   "outputs": [],
   "source": [
    "def read_names(file_path):\n",
    "    return np.genfromtxt(file_path, dtype=str, delimiter=\"\\n\")\n",
    "\n",
    "def read_matrix(file_path, sparse=False):\n",
    "    # add sparse matrix reading\n",
    "    if sparse:\n",
    "        return csr_matrix(pl.read_csv(file_path, has_header=False).to_numpy())\n",
    "    else:\n",
    "        return pl.read_csv(file_path, has_header=False).to_numpy()\n",
    "\n",
    "\n",
    "Cmatrix = read_matrix(\"notebooks/mia notebooks/C_matrix.csv\", sparse=True)\n",
    "complex_ids = list(read_names(\"notebooks/mia notebooks/complex_ids.txt\"))\n",
    "monomer_ids = list(read_names(\"notebooks/mia notebooks/monomer_ids.txt\"))\n",
    "# Ecocyc data (https://ecocyc.org/groups?tab=SPECIAL&orgid=ECOLI): \n",
    "ecocyc_data = pd.read_excel(\"notebooks/mia notebooks/All_polypeptides_from_ecocyc_data.xlsx\")\n",
    "# validation data (https://www.sciencedirect.com/science/article/pii/S0092867414002323?via%3Dihub#app1):\n",
    "validation_data = pd.read_excel(\"notebooks/mia notebooks/data_from_li_et_al_2014.xlsx\")"
   ],
   "metadata": {
    "collapsed": false,
    "ExecuteTime": {
     "end_time": "2024-04-30T18:22:29.434317Z",
     "start_time": "2024-04-30T18:22:28.733145Z"
    }
   },
   "id": "fd0cf02365c37ae6"
  },
  {
   "cell_type": "raw",
   "source": [
    "Minimal Media Conditions Comparison of simulation data with data from Li et al., 2014 "
   ],
   "metadata": {
    "collapsed": false
   },
   "id": "33bd75d04d63c14d"
  },
  {
   "cell_type": "code",
   "execution_count": 3,
   "outputs": [],
   "source": [
    "time = '1300'\n",
    "date = '2024-04-29'\n",
    "experiment = 'validation_experiment'\n",
    "entry = f'{experiment}_{time}_{date}'\n",
    "folder = f'out/cofactors/{entry}/'"
   ],
   "metadata": {
    "collapsed": false,
    "ExecuteTime": {
     "end_time": "2024-04-30T18:22:29.437129Z",
     "start_time": "2024-04-30T18:22:29.434596Z"
    }
   },
   "id": "e5284712fd86e78e"
  },
  {
   "cell_type": "code",
   "execution_count": 4,
   "outputs": [],
   "source": [
    "output_all = np.load(folder + '0_output.npy',allow_pickle='TRUE').item()\n",
    "# output = np.load(r\"out/geneRxnVerifData/output_glc.npy\", allow_pickle=True, encoding='ASCII').tolist()\n",
    "output = output_all['agents']['0']\n",
    "fba = output['listeners']['fba_results']\n",
    "mass = output['listeners']['mass']\n",
    "bulk = pl.DataFrame(output['bulk'])\n",
    "\n",
    "fluxes = np.array(fba['estimated_fluxes'][1:])\n",
    "exchanges = fba['estimated_exchange_dmdt']\n",
    "\n",
    "ans = output['listeners']['unique_molecule_counts']['active_ribosome']"
   ],
   "metadata": {
    "collapsed": false,
    "ExecuteTime": {
     "end_time": "2024-04-30T18:22:32.739636Z",
     "start_time": "2024-04-30T18:22:29.436504Z"
    }
   },
   "id": "8e2d462ad3851d2f"
  },
  {
   "cell_type": "code",
   "execution_count": 5,
   "outputs": [],
   "source": [
    "# So say I want to find the names of the proteins themselves, these are functions to implement that do so: \n",
    "initial_state = json.load(open('data/wcecoli_t0.json'))\n",
    "\n",
    "bulk_ids = [item[0] for item in initial_state['bulk']]\n",
    "\n",
    "bulk.columns = bulk_ids"
   ],
   "metadata": {
    "collapsed": false,
    "ExecuteTime": {
     "end_time": "2024-04-30T18:22:32.791919Z",
     "start_time": "2024-04-30T18:22:32.740061Z"
    }
   },
   "id": "fd500e9dd10df548"
  },
  {
   "cell_type": "code",
   "execution_count": 6,
   "outputs": [],
   "source": [
    "# take the protein [location] out of the name of the bulk ids: \n",
    "ecocyc_ids = []\n",
    "for id in bulk_ids: \n",
    "\tecocyc_ids.append(id[0:-3])\n",
    "\n",
    "ecocyc_id_idxs = []\n",
    "for i in range(len(ecocyc_ids)):\n",
    "\tecocyc_id_idxs.append(i)"
   ],
   "metadata": {
    "collapsed": false,
    "ExecuteTime": {
     "end_time": "2024-04-30T18:22:32.798916Z",
     "start_time": "2024-04-30T18:22:32.794205Z"
    }
   },
   "id": "ca0f5706c504e5ad"
  },
  {
   "cell_type": "code",
   "execution_count": 7,
   "outputs": [],
   "source": [
    "# combine the protein counts for each monomer: \n",
    "id_idx_dict = {id: i for i, id in enumerate(bulk_ids)}\n",
    "idx_id_dict = {idx: i for i, idx in id_idx_dict.items()}\n",
    "\n",
    "protein_ids = complex_ids + monomer_ids\n",
    "all_names = []\n",
    "name_groups = []\n",
    "idx_groups = []\n",
    "\n",
    "for p in protein_ids:\n",
    "\tif p not in all_names:\n",
    "\t\tindexes = [name for key, name in id_idx_dict.items() if p in key]\n",
    "\t\tfor idx in indexes:\n",
    "\t\t\tif ecocyc_ids[idx] == p:\n",
    "\t\t\t\tpass\n",
    "\t\t\telse:\n",
    "\t\t\t\tindexes.remove(idx)\n",
    "\t\tname_group = [idx_id_dict.get(name) for name in indexes]\n",
    "\t\tall_names.append(p)\n",
    "\t\tname_groups.append([name_group])\n",
    "\t\tidx_groups.append([indexes])"
   ],
   "metadata": {
    "collapsed": false,
    "ExecuteTime": {
     "end_time": "2024-04-30T18:22:34.789588Z",
     "start_time": "2024-04-30T18:22:32.808694Z"
    }
   },
   "id": "69debecfb928cf81"
  },
  {
   "cell_type": "code",
   "execution_count": 8,
   "outputs": [],
   "source": [
    "# fuse and collect protein counts of interest for minimal media (mm) in the C matrix: \n",
    "mm_bulk_interest_protein_counts = np.zeros([bulk.shape[0], len(protein_ids)])\n",
    "mm_bulk_PC_dict = {}\n",
    "\n",
    "for i in range(len(idx_groups)):\n",
    "\tid = protein_ids[i]\n",
    "\tidxs = idx_groups[i]\n",
    "\tif id in ecocyc_ids:\n",
    "\t\tif len(idxs) == 1:\n",
    "\t\t\tidx = idxs[0][0]\n",
    "\t\t\tdf = np.array(bulk.select(bulk_ids[idx]))\n",
    "\t\telse:\n",
    "\t\t\ttogether = []\n",
    "\t\t\tfor idx in idxs:\n",
    "\t\t\t\tindex = idx[0]\n",
    "\t\t\t\ttemp_df = np.array(bulk.select(bulk_ids[index]))\n",
    "\t\t\t\ttogether.append(temp_df)\n",
    "\t\t\tdf = np.sum(together, axis=1)\n",
    "\t\tprotein_counts = np.transpose(df)\n",
    "\t\tmm_bulk_interest_protein_counts[:, i] = protein_counts\n",
    "\t\tmm_bulk_PC_dict.update({id:idxs}) "
   ],
   "metadata": {
    "collapsed": false,
    "ExecuteTime": {
     "end_time": "2024-04-30T18:22:38.587033Z",
     "start_time": "2024-04-30T18:22:34.793838Z"
    }
   },
   "id": "cb1e5f28fc8266a"
  },
  {
   "cell_type": "code",
   "execution_count": 9,
   "outputs": [],
   "source": [
    "# Generate the minimal media data results:\n",
    "mm_sim_protein_counts = mm_bulk_interest_protein_counts @ Cmatrix\n",
    "\n",
    "# simplify the results accordingly with the time steps: \n",
    "mm_avg_sim_data = mm_sim_protein_counts.mean(axis=0)\n",
    "# TODO: edit this to account for cell age"
   ],
   "metadata": {
    "collapsed": false,
    "ExecuteTime": {
     "end_time": "2024-04-30T18:22:38.611537Z",
     "start_time": "2024-04-30T18:22:38.587664Z"
    }
   },
   "id": "f107c7e1e6c52090"
  },
  {
   "cell_type": "code",
   "execution_count": 10,
   "outputs": [],
   "source": [
    "# Data from Ecocyc (https://ecocyc.org/groups?tab=SPECIAL&orgid=ECOLI): \n",
    "EC_proteins = ecocyc_data.Proteins\n",
    "EC_genes = ecocyc_data.Genes\n",
    "EC_gene_CNs = ecocyc_data['Common-Name']\n",
    "\n",
    "# organize Ecocyc protein name and gene name data: \n",
    "EC_id_idx_dict = {id: i for i, id in enumerate(EC_proteins)}\n",
    "EC_idx_id_dict = {idx: i for i, idx in EC_id_idx_dict.items()}\n",
    "\n",
    "EC_Gene_idx_dict = {id: i for i, id in enumerate(EC_gene_CNs)}\n",
    "EC_idx_Gene_dict = {idx: i for i, idx in EC_Gene_idx_dict.items()}"
   ],
   "metadata": {
    "collapsed": false,
    "ExecuteTime": {
     "end_time": "2024-04-30T18:22:38.619048Z",
     "start_time": "2024-04-30T18:22:38.613644Z"
    }
   },
   "id": "53d87bc928b80328"
  },
  {
   "cell_type": "code",
   "execution_count": 11,
   "outputs": [
    {
     "data": {
      "text/plain": "4321"
     },
     "execution_count": 11,
     "metadata": {},
     "output_type": "execute_result"
    }
   ],
   "source": [
    "# find the gene name for each monomer in the bulk data using Ecocyc data: \n",
    "mm_BD_gene_ids = []\n",
    "mm_monomers_not_in_EC = []\n",
    "mm_monomer_idxs_in_EC = []\n",
    "gene = 1\n",
    "for i in range(len(monomer_ids)):\n",
    "\tif gene not in mm_BD_gene_ids: \n",
    "\t\tmonomer = monomer_ids[i]\n",
    "\t\tmonomer_idx = [name for key, name in EC_id_idx_dict.items() if monomer in key]\n",
    "\t\tif len(monomer_idx) == 0:\n",
    "\t\t\tmm_monomers_not_in_EC.append(monomer)\n",
    "\t\telse: \n",
    "\t\t\tmonomer_idx = monomer_idx[0]\n",
    "\t\t\tgene = EC_idx_Gene_dict.get(monomer_idx)\n",
    "\t\t\tmm_BD_gene_ids.append([gene])\n",
    "\t\t\tmm_monomer_idxs_in_EC.append(i)\n",
    "\t\t\t\n",
    "len(mm_BD_gene_ids)"
   ],
   "metadata": {
    "collapsed": false,
    "ExecuteTime": {
     "end_time": "2024-04-30T18:22:39.282525Z",
     "start_time": "2024-04-30T18:22:38.628111Z"
    }
   },
   "id": "926df63b3be0acff"
  },
  {
   "cell_type": "code",
   "execution_count": 12,
   "outputs": [],
   "source": [
    "# validation data sets from Li et al., 2014 (https://www.sciencedirect.com/science/article/pii/S0092867414002323?via%3Dihub#app1):\n",
    "validation_genes = validation_data.Gene\n",
    "validation_MOPS_data = validation_data['MOPS complete']\n",
    "validation_MOPS_min = validation_data['MOPS minimal']\n",
    "validation_MOPS_wo_M = validation_data['MOPS complete without methionine']\n",
    "\n",
    "# organize validation genes:\n",
    "V_gene_idx_dict = {id: i for i, id in enumerate(validation_genes)}\n",
    "V_idx_gene_dict = {idx: i for i, idx in V_gene_idx_dict.items()}"
   ],
   "metadata": {
    "collapsed": false,
    "ExecuteTime": {
     "end_time": "2024-04-30T18:22:39.285261Z",
     "start_time": "2024-04-30T18:22:39.282677Z"
    }
   },
   "id": "f3df13e9f51e44fe"
  },
  {
   "cell_type": "code",
   "execution_count": 13,
   "outputs": [
    {
     "data": {
      "text/plain": "shape: (4_481, 4)\n┌──────────────────────────┬─────────┬─────────────────────┬─────────────┐\n│ Proteins                 ┆ Genes   ┆ Accession-1 of Gene ┆ Common-Name │\n│ ---                      ┆ ---     ┆ ---                 ┆ ---         │\n│ str                      ┆ str     ┆ str                 ┆ str         │\n╞══════════════════════════╪═════════╪═════════════════════╪═════════════╡\n│ LYSU-CPLX                ┆ EG10553 ┆ b4129               ┆ lysU        │\n│ EG11817-MONOMER          ┆ EG11817 ┆ b2744               ┆ umpG        │\n│ MONOMER0-4534            ┆ G6577   ┆ b1120               ┆ cobB        │\n│ FDOI-MONOMER             ┆ EG11856 ┆ b3892               ┆ fdoI        │\n│ G6991-MONOMER            ┆ G6991   ┆ b1807               ┆ tsaB        │\n│ …                        ┆ …       ┆ …                   ┆ …           │\n│ G7835-MONOMER            ┆ G7835   ┆ b4145               ┆ yjeJ        │\n│ GALACTITOLPDEHYD-MONOMER ┆ EG12417 ┆ b2091               ┆ gatD        │\n│ EG10736-MONOMER          ┆ EG10736 ┆ b0708               ┆ phr         │\n│ EG10853-MONOMER          ┆ EG10853 ┆ b1427               ┆ rimL        │\n│ EG12344-MONOMER          ┆ EG12344 ┆ b1303               ┆ pspF        │\n└──────────────────────────┴─────────┴─────────────────────┴─────────────┘",
      "text/html": "<div><style>\n.dataframe > thead > tr,\n.dataframe > tbody > tr {\n  text-align: right;\n  white-space: pre-wrap;\n}\n</style>\n<small>shape: (4_481, 4)</small><table border=\"1\" class=\"dataframe\"><thead><tr><th>Proteins</th><th>Genes</th><th>Accession-1 of Gene</th><th>Common-Name</th></tr><tr><td>str</td><td>str</td><td>str</td><td>str</td></tr></thead><tbody><tr><td>&quot;LYSU-CPLX&quot;</td><td>&quot;EG10553&quot;</td><td>&quot;b4129&quot;</td><td>&quot;lysU&quot;</td></tr><tr><td>&quot;EG11817-MONOME…</td><td>&quot;EG11817&quot;</td><td>&quot;b2744&quot;</td><td>&quot;umpG&quot;</td></tr><tr><td>&quot;MONOMER0-4534&quot;</td><td>&quot;G6577&quot;</td><td>&quot;b1120&quot;</td><td>&quot;cobB&quot;</td></tr><tr><td>&quot;FDOI-MONOMER&quot;</td><td>&quot;EG11856&quot;</td><td>&quot;b3892&quot;</td><td>&quot;fdoI&quot;</td></tr><tr><td>&quot;G6991-MONOMER&quot;</td><td>&quot;G6991&quot;</td><td>&quot;b1807&quot;</td><td>&quot;tsaB&quot;</td></tr><tr><td>&hellip;</td><td>&hellip;</td><td>&hellip;</td><td>&hellip;</td></tr><tr><td>&quot;G7835-MONOMER&quot;</td><td>&quot;G7835&quot;</td><td>&quot;b4145&quot;</td><td>&quot;yjeJ&quot;</td></tr><tr><td>&quot;GALACTITOLPDEH…</td><td>&quot;EG12417&quot;</td><td>&quot;b2091&quot;</td><td>&quot;gatD&quot;</td></tr><tr><td>&quot;EG10736-MONOME…</td><td>&quot;EG10736&quot;</td><td>&quot;b0708&quot;</td><td>&quot;phr&quot;</td></tr><tr><td>&quot;EG10853-MONOME…</td><td>&quot;EG10853&quot;</td><td>&quot;b1427&quot;</td><td>&quot;rimL&quot;</td></tr><tr><td>&quot;EG12344-MONOME…</td><td>&quot;EG12344&quot;</td><td>&quot;b1303&quot;</td><td>&quot;pspF&quot;</td></tr></tbody></table></div>"
     },
     "execution_count": 13,
     "metadata": {},
     "output_type": "execute_result"
    }
   ],
   "source": [
    "# test out loading in the data from Ecocyc (https://ecocyc.org/groups?tab=SPECIAL&orgid=ECOLI) using the polars methods: \n",
    "test_df = pl.read_csv(\"notebooks/mia notebooks/test_name_df.csv\", separator=\"\\t\", truncate_ragged_lines=True)\n",
    "test_df"
   ],
   "metadata": {
    "collapsed": false,
    "ExecuteTime": {
     "end_time": "2024-04-30T18:22:39.290034Z",
     "start_time": "2024-04-30T18:22:39.284691Z"
    }
   },
   "id": "ba6fcf51d31dd003"
  },
  {
   "cell_type": "code",
   "execution_count": 14,
   "outputs": [],
   "source": [
    "# Filter out less confident data from the validation data set: \n",
    "mm_V_data = []\n",
    "mm_V_data_idxs = []\n",
    "mm_V_data_unsure = []\n",
    "for i in range(len(validation_MOPS_min)):\n",
    "\tPC = validation_MOPS_min[i]\n",
    "\t# if the data is not confident enough, indicated by brackets, then leave it out\n",
    "\tif type(PC) == str:\n",
    "\t\tPC = PC.replace(\"[\",\"\"); PC = PC.replace(\"]\",\"\")\n",
    "\t\tPC = int(PC)\n",
    "\t\tmm_V_data_unsure.append(PC)\n",
    "\telse:\n",
    "\t\tint(PC)\n",
    "\t\tmm_V_data.append(PC)\n",
    "\t\tmm_V_data_idxs.append(i)\n",
    "\n",
    "len(mm_V_data)\n",
    "\n",
    "# Extract the remaining gene names of the simulation data: \n",
    "mm_V_data_gene_ids = []\n",
    "for i in range(len(mm_V_data)):\n",
    "\tidx = mm_V_data_idxs[i]\n",
    "\tgene_id = V_idx_gene_dict.get(idx)\n",
    "\tmm_V_data_gene_ids.append(gene_id)\n",
    "\t\n",
    "len(mm_V_data_gene_ids)\n",
    "\n",
    "# Reorganize the validation gene data set: \n",
    "mm_V_gene_idx_dict = {id: i for i, id in enumerate(mm_V_data_gene_ids)}\n",
    "mm_V_idx_gene_dict = {idx: i for i, idx in mm_V_gene_idx_dict.items()}"
   ],
   "metadata": {
    "collapsed": false,
    "ExecuteTime": {
     "end_time": "2024-04-30T18:22:39.300858Z",
     "start_time": "2024-04-30T18:22:39.295801Z"
    }
   },
   "id": "29ec48829b6a82d9"
  },
  {
   "cell_type": "code",
   "execution_count": 15,
   "outputs": [
    {
     "data": {
      "text/plain": "3018"
     },
     "execution_count": 15,
     "metadata": {},
     "output_type": "execute_result"
    }
   ],
   "source": [
    "# find matches between the simulation minimal media data and validation minimal media data: \n",
    "mm_matches = []\n",
    "mm_V_match_idxs = []\n",
    "mm_sim_gene_idxs = []\n",
    "mm_non_matches = []\n",
    "\n",
    "G = 1\n",
    "for i in range(len(mm_BD_gene_ids)):\n",
    "\tif G not in mm_matches: \n",
    "\t\tG = (mm_BD_gene_ids[i])\n",
    "\t\tG = str(G[0])\n",
    "\t\tgene_idx = [name for key, name in mm_V_gene_idx_dict.items() if G in key]\n",
    "\t\tif len(gene_idx) == 0:\n",
    "\t\t\tmm_non_matches.append(G)\n",
    "\t\telse: \n",
    "\t\t\tgene_idx = gene_idx[0]\n",
    "\t\t\tmm_V_match_idxs.append(gene_idx)\n",
    "\t\t\tgene = mm_V_idx_gene_dict.get(gene_idx)\n",
    "\t\t\tmm_matches.append([gene])\n",
    "\t\t\tmm_sim_gene_idxs.append(i)\n",
    "\t\t\n",
    "len(mm_matches)"
   ],
   "metadata": {
    "collapsed": false,
    "ExecuteTime": {
     "end_time": "2024-04-30T18:22:39.665842Z",
     "start_time": "2024-04-30T18:22:39.309987Z"
    }
   },
   "id": "878f915d3e785996"
  },
  {
   "cell_type": "code",
   "execution_count": 16,
   "outputs": [
    {
     "data": {
      "text/plain": "3018"
     },
     "execution_count": 16,
     "metadata": {},
     "output_type": "execute_result"
    }
   ],
   "source": [
    "# Extract data columns from monomers not found in the Ecocyc data (corresponding to the names in BD_gene_ids): \n",
    "mm_avg_sim_PCs = mm_avg_sim_data[mm_monomer_idxs_in_EC]\n",
    "\n",
    "# Map the genes that do match together (corresponding to the names in matches): \n",
    "mm_avg_sim_PCs = np.transpose(mm_avg_sim_PCs)\n",
    "mm_sim_PC_data = mm_avg_sim_PCs[mm_sim_gene_idxs]\n",
    "\n",
    "# obtain minimal media validation data that can be compared with simulation data: \n",
    "mm_v_MOPS_data = []\n",
    "mm_v_MOPS_ids = []\n",
    "for idx in mm_V_match_idxs: \n",
    "\tgene_id = mm_V_data_gene_ids[idx]\n",
    "\tmm_v_MOPS_ids.append(gene_id)\n",
    "\tPC_data = mm_V_data[idx]\n",
    "\tmm_v_MOPS_data.append(PC_data)\n",
    "\t\n",
    "len(mm_v_MOPS_data)"
   ],
   "metadata": {
    "collapsed": false,
    "ExecuteTime": {
     "end_time": "2024-04-30T18:22:39.669042Z",
     "start_time": "2024-04-30T18:22:39.665344Z"
    }
   },
   "id": "e5d783d67ba750c6"
  },
  {
   "cell_type": "code",
   "execution_count": 39,
   "outputs": [
    {
     "data": {
      "text/plain": "Text(0.5, 1.0, 'Comparisons of E.coli Protein Counts in Minimal Media Conditions \\n between Literature Data and Simulation Data')"
     },
     "execution_count": 39,
     "metadata": {},
     "output_type": "execute_result"
    },
    {
     "data": {
      "text/plain": "<Figure size 640x480 with 1 Axes>",
      "image/png": "[encoded data removed]"
     },
     "metadata": {},
     "output_type": "display_data"
    }
   ],
   "source": [
    "# Plot the minimal media comparison graph using matplotlib:\n",
    "mm_xdata = np.array(mm_v_MOPS_data); mm_ydata = np.array(mm_sim_PC_data)\n",
    "plt.scatter(mm_xdata, mm_ydata, s=1, label=\"data\")\n",
    "\n",
    "m, b = np.polyfit(mm_xdata, mm_ydata, 1)\n",
    "mm_Y_data = int(m) * mm_xdata + b\n",
    "mm_legend_str = \"linear fit: y = \"+ str(round(m, 2)) +\"x + \"+ str(round(b, 2))\n",
    "plt.plot(mm_xdata, mm_Y_data, linewidth=.5, color='#bcbd22', label=mm_legend_str)\n",
    "\n",
    "plt.legend()\n",
    "plt.xlabel(\"MOPs Minimal Media Data (from Li et al., 2014)\")\n",
    "plt.ylabel(\"Simulation Data (from VEcoli)\")\n",
    "plt.title(\"Comparisons of E.coli Protein Counts in Minimal Media Conditions \\n between Literature Data and Simulation Data\")"
   ],
   "metadata": {
    "collapsed": false,
    "ExecuteTime": {
     "end_time": "2024-04-30T18:27:14.367126Z",
     "start_time": "2024-04-30T18:27:14.236573Z"
    }
   },
   "id": "52280f272bc8975f"
  },
  {
   "cell_type": "code",
   "execution_count": 18,
   "outputs": [
    {
     "data": {
      "text/plain": "Text(0.5, 1.0, 'Comparisons of E.coli Protein Counts in Minmal Media \\n from Literature Data and Simulation Data')"
     },
     "execution_count": 18,
     "metadata": {},
     "output_type": "execute_result"
    },
    {
     "data": {
      "text/plain": "<Figure size 640x480 with 1 Axes>",
      "image/png": "[encoded data removed]"
     },
     "metadata": {},
     "output_type": "display_data"
    }
   ],
   "source": [
    "# Plot using the Polars dataframe method and Seaborn plotting method:\n",
    "comparison_df = pl.DataFrame(np.array([mm_v_MOPS_data, mm_sim_PC_data]).T, schema=[\"Experiment\", \"Simulation\"])\n",
    "\n",
    "sns.scatterplot(x=\"Simulation\", y=\"Experiment\", data=comparison_df.to_pandas())\n",
    "plt.title(\"Comparisons of E.coli Protein Counts in Minmal Media \\n from Literature Data and Simulation Data\")"
   ],
   "metadata": {
    "collapsed": false,
    "ExecuteTime": {
     "end_time": "2024-04-30T18:22:40.018389Z",
     "start_time": "2024-04-30T18:22:39.883188Z"
    }
   },
   "id": "8bd1acba2743d589"
  },
  {
   "cell_type": "raw",
   "source": [
    "Comparison of nonminimal media data from simulation results and Li et al., 2014"
   ],
   "metadata": {
    "collapsed": false
   },
   "id": "dc13897583497f06"
  },
  {
   "cell_type": "code",
   "execution_count": 19,
   "outputs": [],
   "source": [
    "time = '1300'\n",
    "date = '2024-04-23'\n",
    "experiment = 'validation_experiment'\n",
    "entry = f'{experiment}_{time}_{date}'\n",
    "folder = f'out/cofactors/{entry}/'"
   ],
   "metadata": {
    "collapsed": false,
    "ExecuteTime": {
     "end_time": "2024-04-30T18:22:40.018472Z",
     "start_time": "2024-04-30T18:22:40.014570Z"
    }
   },
   "id": "3a75d9cb72769c73"
  },
  {
   "cell_type": "code",
   "execution_count": 20,
   "outputs": [],
   "source": [
    "output_all = np.load(folder + '0_output.npy',allow_pickle='TRUE').item()\n",
    "# output = np.load(r\"out/geneRxnVerifData/output_glc.npy\", allow_pickle=True, encoding='ASCII').tolist()\n",
    "output = output_all['agents']['0']\n",
    "fba = output['listeners']['fba_results']\n",
    "mass = output['listeners']['mass']\n",
    "bulk = pl.DataFrame(output['bulk'])\n",
    "\n",
    "fluxes = np.array(fba['estimated_fluxes'][1:])\n",
    "exchanges = fba['estimated_exchange_dmdt']\n",
    "\n",
    "ans = output['listeners']['unique_molecule_counts']['active_ribosome']"
   ],
   "metadata": {
    "collapsed": false,
    "ExecuteTime": {
     "end_time": "2024-04-30T18:22:44.311609Z",
     "start_time": "2024-04-30T18:22:40.016961Z"
    }
   },
   "id": "6cf107d3bdf84ab6"
  },
  {
   "cell_type": "code",
   "execution_count": 21,
   "outputs": [],
   "source": [
    "# So say I want to find the names of the proteins themselves, these are functions to implement that do so: \n",
    "initial_state = json.load(open('data/wcecoli_t0.json'))\n",
    "\n",
    "bulk_ids = [item[0] for item in initial_state['bulk']]\n",
    "\n",
    "bulk.columns = bulk_ids"
   ],
   "metadata": {
    "collapsed": false,
    "ExecuteTime": {
     "end_time": "2024-04-30T18:22:44.365939Z",
     "start_time": "2024-04-30T18:22:44.311729Z"
    }
   },
   "id": "6f6d0184064d6c60"
  },
  {
   "cell_type": "code",
   "execution_count": 22,
   "outputs": [],
   "source": [
    "# take the protein [location] out of the name of the bulk ids: \n",
    "ecocyc_ids = []\n",
    "for id in bulk_ids: \n",
    "\tecocyc_ids.append(id[0:-3])\n",
    "\n",
    "ecocyc_id_idxs = []\n",
    "for i in range(len(ecocyc_ids)):\n",
    "\tecocyc_id_idxs.append(i)"
   ],
   "metadata": {
    "collapsed": false,
    "ExecuteTime": {
     "end_time": "2024-04-30T18:22:44.380117Z",
     "start_time": "2024-04-30T18:22:44.368718Z"
    }
   },
   "id": "7ea49e3ebe5e0b2d"
  },
  {
   "cell_type": "code",
   "execution_count": 23,
   "outputs": [],
   "source": [
    "# combine the protein counts for each monomer: \n",
    "id_idx_dict = {id: i for i, id in enumerate(bulk_ids)}\n",
    "idx_id_dict = {idx: i for i, idx in id_idx_dict.items()}\n",
    "\n",
    "protein_ids = complex_ids + monomer_ids\n",
    "all_names = []\n",
    "name_groups = []\n",
    "idx_groups = []\n",
    "\n",
    "for p in protein_ids:\n",
    "\tif p not in all_names:\n",
    "\t\tindexes = [name for key, name in id_idx_dict.items() if p in key]\n",
    "\t\tfor idx in indexes:\n",
    "\t\t\tif ecocyc_ids[idx] == p:\n",
    "\t\t\t\tpass\n",
    "\t\t\telse:\n",
    "\t\t\t\tindexes.remove(idx)\n",
    "\t\tname_group = [idx_id_dict.get(name) for name in indexes]\n",
    "\t\tall_names.append(p)\n",
    "\t\tname_groups.append([name_group])\n",
    "\t\tidx_groups.append([indexes])"
   ],
   "metadata": {
    "collapsed": false,
    "ExecuteTime": {
     "end_time": "2024-04-30T18:22:46.366134Z",
     "start_time": "2024-04-30T18:22:44.395710Z"
    }
   },
   "id": "64696072e2b6c785"
  },
  {
   "cell_type": "code",
   "execution_count": 24,
   "outputs": [],
   "source": [
    "# fuse and collect protein counts of interest (in the C matrix): \n",
    "MM_bulk_interest_protein_counts = np.zeros([bulk.shape[0], len(protein_ids)])\n",
    "MM_bulk_PC_dict = {}\n",
    "\n",
    "for i in range(len(idx_groups)):\n",
    "\tid = protein_ids[i]\n",
    "\tidxs = idx_groups[i]\n",
    "\tif id in ecocyc_ids:\n",
    "\t\tif len(idxs) == 1:\n",
    "\t\t\tidx = idxs[0][0]\n",
    "\t\t\tdf = np.array(bulk.select(bulk_ids[idx]))\n",
    "\t\telse:\n",
    "\t\t\ttogether = []\n",
    "\t\t\tfor idx in idxs:\n",
    "\t\t\t\tindex = idx[0]\n",
    "\t\t\t\ttemp_df = np.array(bulk.select(bulk_ids[index]))\n",
    "\t\t\t\ttogether.append(temp_df)\n",
    "\t\t\tdf = np.sum(together, axis=1)\n",
    "\t\tprotein_counts = np.transpose(df)\n",
    "\t\tMM_bulk_interest_protein_counts[:, i] = protein_counts\n",
    "\t\tMM_bulk_PC_dict.update({id:idxs}) "
   ],
   "metadata": {
    "collapsed": false,
    "ExecuteTime": {
     "end_time": "2024-04-30T18:22:50.090167Z",
     "start_time": "2024-04-30T18:22:46.367291Z"
    }
   },
   "id": "45f99f94b78792dd"
  },
  {
   "cell_type": "code",
   "execution_count": 25,
   "outputs": [],
   "source": [
    "# Generate simulation data: \n",
    "MM_sim_protein_counts = MM_bulk_interest_protein_counts @ Cmatrix\n",
    "\n",
    "# average the data across the timepoints accordingly: \n",
    "MM_avg_sim_data = MM_sim_protein_counts.mean(axis=0)"
   ],
   "metadata": {
    "collapsed": false,
    "ExecuteTime": {
     "end_time": "2024-04-30T18:22:50.116631Z",
     "start_time": "2024-04-30T18:22:50.090395Z"
    }
   },
   "id": "dfaa1a39d3bd4092"
  },
  {
   "cell_type": "code",
   "execution_count": 26,
   "outputs": [],
   "source": [
    "# Data from Ecocyc (https://ecocyc.org/groups?tab=SPECIAL&orgid=ECOLI): \n",
    "EC_proteins = ecocyc_data.Proteins\n",
    "EC_genes = ecocyc_data.Genes\n",
    "EC_gene_CNs = ecocyc_data['Common-Name']\n",
    "\n",
    "# organize Ecocyc protein name and gene name data: \n",
    "EC_id_idx_dict = {id: i for i, id in enumerate(EC_proteins)}\n",
    "EC_idx_id_dict = {idx: i for i, idx in EC_id_idx_dict.items()}\n",
    "\n",
    "EC_Gene_idx_dict = {id: i for i, id in enumerate(EC_gene_CNs)}\n",
    "EC_idx_Gene_dict = {idx: i for i, idx in EC_Gene_idx_dict.items()}"
   ],
   "metadata": {
    "collapsed": false,
    "ExecuteTime": {
     "end_time": "2024-04-30T18:22:50.123661Z",
     "start_time": "2024-04-30T18:22:50.117880Z"
    }
   },
   "id": "2f875072a650a750"
  },
  {
   "cell_type": "code",
   "execution_count": 27,
   "outputs": [
    {
     "data": {
      "text/plain": "4321"
     },
     "execution_count": 27,
     "metadata": {},
     "output_type": "execute_result"
    }
   ],
   "source": [
    "# find the gene name for each monomer in the bulk data using Ecocyc data: \n",
    "MM_BD_gene_ids = []\n",
    "MM_monomers_not_in_EC = []\n",
    "MM_monomer_idxs_in_EC = []\n",
    "gene = 1\n",
    "for i in range(len(monomer_ids)):\n",
    "\tif gene not in MM_BD_gene_ids: \n",
    "\t\tmonomer = monomer_ids[i]\n",
    "\t\tmonomer_idx = [name for key, name in EC_id_idx_dict.items() if monomer in key]\n",
    "\t\tif len(monomer_idx) == 0:\n",
    "\t\t\tMM_monomers_not_in_EC.append(monomer)\n",
    "\t\telse: \n",
    "\t\t\tmonomer_idx = monomer_idx[0]\n",
    "\t\t\tgene = EC_idx_Gene_dict.get(monomer_idx)\n",
    "\t\t\tMM_BD_gene_ids.append([gene])\n",
    "\t\t\tMM_monomer_idxs_in_EC.append(i)\n",
    "\t\t\t\n",
    "len(MM_BD_gene_ids)"
   ],
   "metadata": {
    "collapsed": false,
    "ExecuteTime": {
     "end_time": "2024-04-30T18:22:50.782244Z",
     "start_time": "2024-04-30T18:22:50.175573Z"
    }
   },
   "id": "dd6e65ed68661fbf"
  },
  {
   "cell_type": "code",
   "execution_count": 28,
   "outputs": [],
   "source": [
    "# validation data sets from Li et al., 2014 (https://www.sciencedirect.com/science/article/pii/S0092867414002323?via%3Dihub#app1):\n",
    "validation_genes = validation_data.Gene\n",
    "validation_MOPS_data = validation_data['MOPS complete']\n",
    "validation_MOPS_min = validation_data['MOPS minimal']\n",
    "validation_MOPS_wo_M = validation_data['MOPS complete without methionine']\n",
    "\n",
    "# organize validation genes:\n",
    "V_gene_idx_dict = {id: i for i, id in enumerate(validation_genes)}\n",
    "V_idx_gene_dict = {idx: i for i, idx in V_gene_idx_dict.items()}"
   ],
   "metadata": {
    "collapsed": false,
    "ExecuteTime": {
     "end_time": "2024-04-30T18:22:50.784831Z",
     "start_time": "2024-04-30T18:22:50.782325Z"
    }
   },
   "id": "91de98822cac7673"
  },
  {
   "cell_type": "code",
   "execution_count": 29,
   "outputs": [],
   "source": [
    "# Filter out less confident data from the validation data set: \n",
    "MM_V_data = []\n",
    "MM_V_data_idxs = []\n",
    "MM_V_data_unsure = []\n",
    "for i in range(len(validation_MOPS_data)):\n",
    "\tPC = validation_MOPS_data[i]\n",
    "\t# if the data is not confident enough, indicated by brackets, then leave it out\n",
    "\tif type(PC) == str:\n",
    "\t\tPC = PC.replace(\"[\",\"\"); PC = PC.replace(\"]\",\"\")\n",
    "\t\tPC = int(PC)\n",
    "\t\tMM_V_data_unsure.append(PC)\n",
    "\telse:\n",
    "\t\tint(PC)\n",
    "\t\tMM_V_data.append(PC)\n",
    "\t\tMM_V_data_idxs.append(i)\n",
    "\n",
    "len(MM_V_data)\n",
    "\n",
    "# Extract the remaining gene names of the simulation data: \n",
    "MM_V_data_gene_ids = []\n",
    "for i in range(len(MM_V_data)):\n",
    "\tidx = MM_V_data_idxs[i]\n",
    "\tgene_id = V_idx_gene_dict.get(idx)\n",
    "\tMM_V_data_gene_ids.append(gene_id)\n",
    "\t\n",
    "len(MM_V_data_gene_ids)\n",
    "\n",
    "# Reorganize the validation gene data set: \n",
    "MM_V_gene_idx_dict = {id: i for i, id in enumerate(MM_V_data_gene_ids)}\n",
    "MM_V_idx_gene_dict = {idx: i for i, idx in MM_V_gene_idx_dict.items()}"
   ],
   "metadata": {
    "collapsed": false,
    "ExecuteTime": {
     "end_time": "2024-04-30T18:22:50.793004Z",
     "start_time": "2024-04-30T18:22:50.791073Z"
    }
   },
   "id": "9771e76fa6d89c15"
  },
  {
   "cell_type": "code",
   "execution_count": 30,
   "outputs": [
    {
     "data": {
      "text/plain": "2717"
     },
     "execution_count": 30,
     "metadata": {},
     "output_type": "execute_result"
    }
   ],
   "source": [
    "# find matches between the simulation data and validation data: \n",
    "MM_matches = []\n",
    "MM_V_match_idxs = []\n",
    "MM_sim_match_idxs = []\n",
    "MM_non_matches = []\n",
    "\n",
    "G = 1\n",
    "for i in range(len(MM_BD_gene_ids)):\n",
    "\tif G not in MM_matches: \n",
    "\t\tG = (MM_BD_gene_ids[i])\n",
    "\t\tG = str(G[0])\n",
    "\t\tgene_idx = [name for key, name in MM_V_gene_idx_dict.items() if G in key]\n",
    "\t\tif len(gene_idx) == 0:\n",
    "\t\t\tMM_non_matches.append(G)\n",
    "\t\telse: \n",
    "\t\t\tgene_idx = gene_idx[0]\n",
    "\t\t\tMM_V_match_idxs.append(gene_idx)\n",
    "\t\t\tgene = MM_V_idx_gene_dict.get(gene_idx)\n",
    "\t\t\tMM_matches.append([gene])\n",
    "\t\t\tMM_sim_match_idxs.append(i)\n",
    "\t\t\n",
    "len(MM_matches)"
   ],
   "metadata": {
    "collapsed": false,
    "ExecuteTime": {
     "end_time": "2024-04-30T18:22:51.125847Z",
     "start_time": "2024-04-30T18:22:50.842221Z"
    }
   },
   "id": "e33fda8326482cec"
  },
  {
   "cell_type": "code",
   "execution_count": 32,
   "outputs": [
    {
     "data": {
      "text/plain": "2717"
     },
     "execution_count": 32,
     "metadata": {},
     "output_type": "execute_result"
    }
   ],
   "source": [
    "# Extract data columns from monomers not found in the Ecocyc data (corresponding to the names in MM_BD_gene_ids): \n",
    "MM_avg_sim_PCs = MM_avg_sim_data[MM_monomer_idxs_in_EC]\n",
    "\n",
    "# Map the genes that do match together (corresponding to the names in matches): \n",
    "MM_avg_sim_PCs = np.transpose(MM_avg_sim_PCs)\n",
    "MM_sim_PC_data = MM_avg_sim_PCs[MM_sim_match_idxs]\n",
    "\n",
    "# obtain validation data that can be compared with simulation data\n",
    "MM_v_MOPS_data = []\n",
    "MM_v_MOPS_ids = []\n",
    "for idx in MM_V_match_idxs: \n",
    "\tgene_id = MM_V_data_gene_ids[idx]\n",
    "\tMM_v_MOPS_ids.append(gene_id)\n",
    "\tPC_data = MM_V_data[idx]\n",
    "\tMM_v_MOPS_data.append(PC_data)\n",
    "\t\n",
    "len(MM_v_MOPS_data)"
   ],
   "metadata": {
    "collapsed": false,
    "ExecuteTime": {
     "end_time": "2024-04-30T18:22:51.137411Z",
     "start_time": "2024-04-30T18:22:51.134701Z"
    }
   },
   "id": "740b015f4ca5e994"
  },
  {
   "cell_type": "code",
   "execution_count": 41,
   "outputs": [
    {
     "data": {
      "text/plain": "Text(0.5, 1.0, 'Comparisons of Protein Counts for E.coli from Literature Data and Simulation Data')"
     },
     "execution_count": 41,
     "metadata": {},
     "output_type": "execute_result"
    },
    {
     "data": {
      "text/plain": "<Figure size 640x480 with 1 Axes>",
      "image/png": "[encoded data removed]"
     },
     "metadata": {},
     "output_type": "display_data"
    }
   ],
   "source": [
    "# Plot the comparison graph: \n",
    "MM_xdata = np.array(MM_v_MOPS_data); MM_ydata = np.array(MM_sim_PC_data)\n",
    "plt.scatter(MM_xdata, MM_ydata, s=1, label=\"data\")\n",
    "\n",
    "m, b = np.polyfit(MM_xdata, MM_ydata, 1)\n",
    "MM_Y_data = int(m) * MM_xdata + b\n",
    "MM_legend_str = \"linear fit: y = \"+ str(round(m, 2)) +\"x + \"+ str(round(b, 2))\n",
    "plt.plot(MM_xdata, MM_Y_data, linewidth=.5, color='#bcbd22', label=MM_legend_str)\n",
    "\n",
    "plt.legend()\n",
    "plt.xlabel(\"MOPs Literature Data (from Li et al.,)\")\n",
    "plt.ylabel(\"Simulation Data (from VEcoli)\")\n",
    "plt.title(\"Comparisons of Protein Counts for E.coli from Literature Data and Simulation Data\")"
   ],
   "metadata": {
    "collapsed": false,
    "ExecuteTime": {
     "end_time": "2024-04-30T18:28:16.232055Z",
     "start_time": "2024-04-30T18:28:16.110660Z"
    }
   },
   "id": "1a435a5944420625"
  },
  {
   "cell_type": "code",
   "execution_count": 37,
   "outputs": [
    {
     "data": {
      "text/plain": "Text(0.5, 1.0, 'Comparisons of Protein Counts for E.coli from Literature Data and Simulation Data')"
     },
     "execution_count": 37,
     "metadata": {},
     "output_type": "execute_result"
    },
    {
     "data": {
      "text/plain": "<Figure size 640x480 with 1 Axes>",
      "image/png": "[encoded data removed]"
     },
     "metadata": {},
     "output_type": "display_data"
    }
   ],
   "source": [
    "# Plot using the Polars dataframe method and Seaborn plotting method:\n",
    "comparison_df = pl.DataFrame(np.array([MM_v_MOPS_data, MM_sim_PC_data]).T, schema=[\"Experiment\", \"Simulation\"])\n",
    "\n",
    "sns.scatterplot(x=\"Simulation\", y=\"Experiment\", data=comparison_df.to_pandas())\n",
    "plt.title(\"Comparisons of Protein Counts for E.coli from Literature Data and Simulation Data\")"
   ],
   "metadata": {
    "collapsed": false,
    "ExecuteTime": {
     "end_time": "2024-04-30T18:22:51.355378Z",
     "start_time": "2024-04-30T18:22:51.257579Z"
    }
   },
   "id": "36d216748333ca94"
  },
  {
   "cell_type": "code",
   "execution_count": 37,
   "outputs": [],
   "source": [],
   "metadata": {
    "collapsed": false,
    "ExecuteTime": {
     "end_time": "2024-04-30T18:22:51.357617Z",
     "start_time": "2024-04-30T18:22:51.354418Z"
    }
   },
   "id": "44f757fa20402871"
  }
 ],
 "metadata": {
  "kernelspec": {
   "display_name": "Python 3",
   "language": "python",
   "name": "python3"
  },
  "language_info": {
   "codemirror_mode": {
    "name": "ipython",
    "version": 2
   },
   "file_extension": ".py",
   "mimetype": "text/x-python",
   "name": "python",
   "nbconvert_exporter": "python",
   "pygments_lexer": "ipython2",
   "version": "2.7.6"
  }
 },
 "nbformat": 4,
 "nbformat_minor": 5
}
