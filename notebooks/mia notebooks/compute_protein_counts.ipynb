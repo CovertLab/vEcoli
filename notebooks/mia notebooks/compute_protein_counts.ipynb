{
 "cells": [
  {
   "cell_type": "code",
   "execution_count": 65,
   "id": "initial_id",
   "metadata": {
    "collapsed": true,
    "ExecuteTime": {
     "end_time": "2024-04-27T02:51:10.468437Z",
     "start_time": "2024-04-27T02:51:10.378167Z"
    }
   },
   "outputs": [],
   "source": [
    "import polars as pl\n",
    "import numpy as np\n",
    "import os\n",
    "import json\n",
    "import pandas as pd\n",
    "from scipy.sparse import csr_matrix\n",
    "os.chdir(os.path.expanduser('~/vivarium-ecoli'))\n"
   ]
  },
  {
   "cell_type": "code",
   "execution_count": 66,
   "outputs": [],
   "source": [
    "def read_names(file_path):\n",
    "    return np.genfromtxt(file_path, dtype=str, delimiter=\"\\n\")\n",
    "\n",
    "def read_matrix(file_path, sparse=False):\n",
    "    # add sparse matrix reading\n",
    "    if sparse:\n",
    "        return csr_matrix(pl.read_csv(file_path, has_header=False).to_numpy())\n",
    "    else:\n",
    "        return pl.read_csv(file_path, has_header=False).to_numpy()\n",
    "\n",
    "\n",
    "Cmatrix = read_matrix(\"notebooks/mia notebooks/C_matrix.csv\", sparse=True)\n",
    "complex_ids = list(read_names(\"notebooks/mia notebooks/complex_ids.txt\"))\n",
    "monomer_ids = list(read_names(\"notebooks/mia notebooks/monomer_ids.txt\"))\n",
    "ecocyc_data = pd.read_excel(\"notebooks/mia notebooks/All_polypeptides_from_ecocyc_data.xlsx\")\n",
    "validation_data = read_matrix(\"validation/ecoli/flat/li_protein_synthesis_rates_2014.tsv\")"
   ],
   "metadata": {
    "collapsed": false,
    "ExecuteTime": {
     "end_time": "2024-04-27T02:51:10.928579Z",
     "start_time": "2024-04-27T02:51:10.383468Z"
    }
   },
   "id": "fd0cf02365c37ae6"
  },
  {
   "cell_type": "code",
   "execution_count": 67,
   "outputs": [],
   "source": [
    "time = '1300'\n",
    "date = '2024-04-23'\n",
    "experiment = 'validation_experiment'\n",
    "entry = f'{experiment}_{time}_{date}'\n",
    "folder = f'out/cofactors/{entry}/'"
   ],
   "metadata": {
    "collapsed": false,
    "ExecuteTime": {
     "end_time": "2024-04-27T02:51:10.928736Z",
     "start_time": "2024-04-27T02:51:10.921233Z"
    }
   },
   "id": "e5284712fd86e78e"
  },
  {
   "cell_type": "code",
   "execution_count": 68,
   "outputs": [],
   "source": [
    "output_all = np.load(folder + '0_output.npy',allow_pickle='TRUE').item()\n",
    "# output = np.load(r\"out/geneRxnVerifData/output_glc.npy\", allow_pickle=True, encoding='ASCII').tolist()\n",
    "output = output_all['agents']['0']\n",
    "fba = output['listeners']['fba_results']\n",
    "mass = output['listeners']['mass']\n",
    "bulk = pl.DataFrame(output['bulk'])\n",
    "\n",
    "fluxes = np.array(fba['estimated_fluxes'][1:])\n",
    "exchanges = fba['estimated_exchange_dmdt']\n",
    "\n",
    "ans = output['listeners']['unique_molecule_counts']['active_ribosome']"
   ],
   "metadata": {
    "collapsed": false,
    "ExecuteTime": {
     "end_time": "2024-04-27T02:51:16.082294Z",
     "start_time": "2024-04-27T02:51:10.923739Z"
    }
   },
   "id": "8e2d462ad3851d2f"
  },
  {
   "cell_type": "code",
   "execution_count": 69,
   "outputs": [],
   "source": [
    "# So say I want to find the names of the proteins themselves, these are functions to implement that do so: \n",
    "initial_state = json.load(open('data/wcecoli_t0.json'))\n",
    "\n",
    "bulk_ids = [item[0] for item in initial_state['bulk']]\n",
    "\n",
    "bulk.columns = bulk_ids"
   ],
   "metadata": {
    "collapsed": false,
    "ExecuteTime": {
     "end_time": "2024-04-27T02:51:16.139597Z",
     "start_time": "2024-04-27T02:51:16.082818Z"
    }
   },
   "id": "fd500e9dd10df548"
  },
  {
   "cell_type": "code",
   "execution_count": 70,
   "outputs": [],
   "source": [
    "# take the protein [location] out of the name of the bulk ids: \n",
    "ecocyc_ids = []\n",
    "for id in bulk_ids: \n",
    "\tecocyc_ids.append(id[0:-3])\n",
    "\n",
    "ecocyc_id_idxs = []\n",
    "for i in range(len(ecocyc_ids)):\n",
    "\tecocyc_id_idxs.append(i)\n"
   ],
   "metadata": {
    "collapsed": false,
    "ExecuteTime": {
     "end_time": "2024-04-27T02:51:16.144937Z",
     "start_time": "2024-04-27T02:51:16.142007Z"
    }
   },
   "id": "ca0f5706c504e5ad"
  },
  {
   "cell_type": "code",
   "execution_count": 71,
   "outputs": [],
   "source": [
    "# combine the protein counts for each monomer (option 2): \n",
    "id_idx_dict = {id: i for i, id in enumerate(bulk_ids)}\n",
    "idx_id_dict = {idx: i for i, idx in id_idx_dict.items()}\n",
    "\n",
    "protein_ids = complex_ids + monomer_ids\n",
    "all_names = []\n",
    "name_groups = []\n",
    "idx_groups = []\n",
    "\n",
    "for p in protein_ids:\n",
    "\tif p not in all_names:\n",
    "\t\tindexes = [name for key, name in id_idx_dict.items() if p in key]\n",
    "\t\tfor idx in indexes:\n",
    "\t\t\tif ecocyc_ids[idx] == p:\n",
    "\t\t\t\tpass\n",
    "\t\t\telse:\n",
    "\t\t\t\tindexes.remove(idx)\n",
    "\t\tname_group = [idx_id_dict.get(name) for name in indexes]\n",
    "\t\tall_names.append(p)\n",
    "\t\tname_groups.append([name_group])\n",
    "\t\tidx_groups.append([indexes])"
   ],
   "metadata": {
    "collapsed": false,
    "ExecuteTime": {
     "end_time": "2024-04-27T02:51:18.154152Z",
     "start_time": "2024-04-27T02:51:16.193822Z"
    }
   },
   "id": "69debecfb928cf81"
  },
  {
   "cell_type": "code",
   "execution_count": 72,
   "outputs": [],
   "source": [
    "# fuse and collect protein counts of interest (in the C matrix): \n",
    "bulk_interest_protein_counts = np.zeros([bulk.shape[0], len(protein_ids)])\n",
    "bulk_PC_dict = {}\n",
    "\n",
    "for i in range(len(idx_groups)):\n",
    "\tid = protein_ids[i]\n",
    "\tidxs = idx_groups[i]\n",
    "\tif id in ecocyc_ids:\n",
    "\t\tif len(idxs) == 1:\n",
    "\t\t\tidx = idxs[0][0]\n",
    "\t\t\tdf = np.array(bulk.select(bulk_ids[idx]))\n",
    "\t\telse:\n",
    "\t\t\ttogether = []\n",
    "\t\t\tfor idx in idxs:\n",
    "\t\t\t\tindex = idx[0]\n",
    "\t\t\t\ttemp_df = np.array(bulk.select(bulk_ids[index]))\n",
    "\t\t\t\ttogether.append(temp_df)\n",
    "\t\t\tdf = np.sum(together, axis=1)\n",
    "\t\tprotein_counts = np.transpose(df)\n",
    "\t\tbulk_interest_protein_counts[:, i] = protein_counts\n",
    "\t\tbulk_PC_dict.update({id:idxs}) "
   ],
   "metadata": {
    "collapsed": false,
    "ExecuteTime": {
     "end_time": "2024-04-27T02:51:21.962315Z",
     "start_time": "2024-04-27T02:51:18.155317Z"
    }
   },
   "id": "cb1e5f28fc8266a"
  },
  {
   "cell_type": "code",
   "execution_count": 73,
   "outputs": [],
   "source": [
    "sim_protein_counts = bulk_interest_protein_counts @ Cmatrix"
   ],
   "metadata": {
    "collapsed": false,
    "ExecuteTime": {
     "end_time": "2024-04-27T02:51:21.989410Z",
     "start_time": "2024-04-27T02:51:21.962740Z"
    }
   },
   "id": "f107c7e1e6c52090"
  },
  {
   "cell_type": "code",
   "execution_count": 75,
   "outputs": [],
   "source": [
    "EC_proteins = ecocyc_data.Proteins\n",
    "EC_genes = ecocyc_data.Genes"
   ],
   "metadata": {
    "collapsed": false,
    "ExecuteTime": {
     "end_time": "2024-04-27T02:51:21.997030Z",
     "start_time": "2024-04-27T02:51:21.991292Z"
    }
   },
   "id": "53d87bc928b80328"
  },
  {
   "cell_type": "code",
   "execution_count": 85,
   "outputs": [
    {
     "data": {
      "text/plain": "4434"
     },
     "execution_count": 85,
     "metadata": {},
     "output_type": "execute_result"
    }
   ],
   "source": [
    "# find the gene name for each monomer in the bulk data: \n",
    "EC_id_idx_dict = {id: i for i, id in enumerate(EC_proteins)}\n",
    "EC_idx_id_dict = {idx: i for i, idx in id_idx_dict.items()}\n",
    "\n",
    "EC_Gene_idx_dict = {id: i for i, id in enumerate(EC_genes)}\n",
    "EC_idx_Gene_dict = {idx: i for i, idx in id_idx_dict.items()}\n",
    "\n",
    "BD_gene_ids = np.zeros(len(monomer_ids))\n",
    "gene = 0\n",
    "for i in range(len(monomer_ids)):\n",
    "\tif gene not in BD_gene_ids:\n",
    "\t\t#TODO: change this to be for the name \n",
    "\t\tmonomer = monomer_ids[i]\n",
    "\t\tmonomer_idx = [name for key, name in EC_id_idx_dict.items() if monomer in key]\n",
    "\t\tprint(monomer_idx)\n",
    "\t\tmonomer_idx = monomer_idx[0]\n",
    "\t\tgene = EC_idx_Gene_dict.get(monomer_idx)\n",
    "\t\tBD_gene_ids[i] = gene\n",
    "\t\n",
    "len(BD_gene_ids)\n",
    "\t"
   ],
   "metadata": {
    "collapsed": false,
    "ExecuteTime": {
     "end_time": "2024-04-27T02:57:21.841696Z",
     "start_time": "2024-04-27T02:57:21.821715Z"
    }
   },
   "id": "d44e6db56f854b27"
  },
  {
   "cell_type": "code",
   "execution_count": null,
   "outputs": [],
   "source": [
    "#TODO: find the gene id for each monomer in the validation data set"
   ],
   "metadata": {
    "collapsed": false
   },
   "id": "f3df13e9f51e44fe"
  },
  {
   "cell_type": "code",
   "execution_count": null,
   "outputs": [],
   "source": [
    "validation_data"
   ],
   "metadata": {
    "collapsed": false,
    "ExecuteTime": {
     "start_time": "2024-04-27T02:51:22.005629Z"
    }
   },
   "id": "e5d783d67ba750c6"
  },
  {
   "cell_type": "code",
   "execution_count": null,
   "outputs": [],
   "source": [
    "validation_proteins = validation_data\n"
   ],
   "metadata": {
    "collapsed": false,
    "ExecuteTime": {
     "end_time": "2024-04-27T02:51:22.007671Z",
     "start_time": "2024-04-27T02:51:22.006731Z"
    }
   },
   "id": "52280f272bc8975f"
  },
  {
   "cell_type": "code",
   "execution_count": null,
   "outputs": [],
   "source": [],
   "metadata": {
    "collapsed": false,
    "ExecuteTime": {
     "start_time": "2024-04-27T02:51:22.007523Z"
    }
   },
   "id": "3ae31fc4d78039fc"
  }
 ],
 "metadata": {
  "kernelspec": {
   "display_name": "Python 3",
   "language": "python",
   "name": "python3"
  },
  "language_info": {
   "codemirror_mode": {
    "name": "ipython",
    "version": 2
   },
   "file_extension": ".py",
   "mimetype": "text/x-python",
   "name": "python",
   "nbconvert_exporter": "python",
   "pygments_lexer": "ipython2",
   "version": "2.7.6"
  }
 },
 "nbformat": 4,
 "nbformat_minor": 5
}
