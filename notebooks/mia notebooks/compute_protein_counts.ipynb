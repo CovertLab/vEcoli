{
 "cells": [
  {
   "cell_type": "code",
   "execution_count": 1,
   "id": "initial_id",
   "metadata": {
    "collapsed": true,
    "ExecuteTime": {
     "end_time": "2024-04-30T18:22:28.746438Z",
     "start_time": "2024-04-30T18:22:28.682575Z"
    }
   },
   "outputs": [],
   "source": [
    "import polars as pl\n",
    "import numpy as np\n",
    "from matplotlib import pyplot as plt\n",
    "import os\n",
    "import json\n",
    "import pandas as pd\n",
    "import seaborn as sns\n",
    "from scipy.sparse import csr_matrix\n",
    "os.chdir(os.path.expanduser('~/vivarium-ecoli'))\n"
   ]
  },
  {
   "cell_type": "code",
   "execution_count": 42,
   "outputs": [],
   "source": [
    "def read_names(file_path):\n",
    "    return np.genfromtxt(file_path, dtype=str, delimiter=\"\\n\")\n",
    "\n",
    "def read_matrix(file_path, sparse=False):\n",
    "    # add sparse matrix reading\n",
    "    if sparse:\n",
    "        return csr_matrix(pl.read_csv(file_path, has_header=False).to_numpy())\n",
    "    else:\n",
    "        return pl.read_csv(file_path, has_header=False).to_numpy()\n",
    "\n",
    "\n",
    "Cmatrix = read_matrix(\"notebooks/mia notebooks/C_matrix.csv\", sparse=True)\n",
    "complex_ids = list(read_names(\"notebooks/mia notebooks/complex_ids.txt\"))\n",
    "monomer_ids = list(read_names(\"notebooks/mia notebooks/monomer_ids.txt\"))\n",
    "# Ecocyc data (https://ecocyc.org/groups?tab=SPECIAL&orgid=ECOLI): \n",
    "ecocyc_data = pd.read_excel(\"notebooks/mia notebooks/All_polypeptides_from_ecocyc_data.xlsx\")\n",
    "# validation data (https://www.sciencedirect.com/science/article/pii/S0092867414002323?via%3Dihub#app1):\n",
    "validation_data = pd.read_excel(\"notebooks/mia notebooks/data_from_li_et_al_2014.xlsx\")"
   ],
   "metadata": {
    "collapsed": false,
    "ExecuteTime": {
     "end_time": "2024-04-30T18:41:38.372677Z",
     "start_time": "2024-04-30T18:41:37.635702Z"
    }
   },
   "id": "fd0cf02365c37ae6"
  },
  {
   "cell_type": "markdown",
   "source": [
    "## Minimal Media Conditions Comparison of simulation data with data from Li et al., 2014 "
   ],
   "metadata": {
    "collapsed": false
   },
   "id": "72f8603a19e9ee76"
  },
  {
   "cell_type": "code",
   "execution_count": 3,
   "outputs": [],
   "source": [
    "time = '1300'\n",
    "date = '2024-04-29'\n",
    "experiment = 'validation_experiment'\n",
    "entry = f'{experiment}_{time}_{date}'\n",
    "folder = f'out/cofactors/{entry}/'"
   ],
   "metadata": {
    "collapsed": false,
    "ExecuteTime": {
     "end_time": "2024-04-30T18:22:29.437129Z",
     "start_time": "2024-04-30T18:22:29.434596Z"
    }
   },
   "id": "e5284712fd86e78e"
  },
  {
   "cell_type": "code",
   "execution_count": 4,
   "outputs": [],
   "source": [
    "output_all = np.load(folder + '0_output.npy',allow_pickle='TRUE').item()\n",
    "# output = np.load(r\"out/geneRxnVerifData/output_glc.npy\", allow_pickle=True, encoding='ASCII').tolist()\n",
    "output = output_all['agents']['0']\n",
    "fba = output['listeners']['fba_results']\n",
    "mass = output['listeners']['mass']\n",
    "bulk = pl.DataFrame(output['bulk'])\n",
    "\n",
    "fluxes = np.array(fba['estimated_fluxes'][1:])\n",
    "exchanges = fba['estimated_exchange_dmdt']\n",
    "\n",
    "ans = output['listeners']['unique_molecule_counts']['active_ribosome']"
   ],
   "metadata": {
    "collapsed": false,
    "ExecuteTime": {
     "end_time": "2024-04-30T18:22:32.739636Z",
     "start_time": "2024-04-30T18:22:29.436504Z"
    }
   },
   "id": "8e2d462ad3851d2f"
  },
  {
   "cell_type": "code",
   "execution_count": 5,
   "outputs": [],
   "source": [
    "# So say I want to find the names of the proteins themselves, these are functions to implement that do so: \n",
    "initial_state = json.load(open('data/wcecoli_t0.json'))\n",
    "\n",
    "bulk_ids = [item[0] for item in initial_state['bulk']]\n",
    "\n",
    "bulk.columns = bulk_ids"
   ],
   "metadata": {
    "collapsed": false,
    "ExecuteTime": {
     "end_time": "2024-04-30T18:22:32.791919Z",
     "start_time": "2024-04-30T18:22:32.740061Z"
    }
   },
   "id": "fd500e9dd10df548"
  },
  {
   "cell_type": "code",
   "execution_count": 6,
   "outputs": [],
   "source": [
    "# take the protein [location] out of the name of the bulk ids: \n",
    "ecocyc_ids = []\n",
    "for id in bulk_ids: \n",
    "\tecocyc_ids.append(id[0:-3])\n",
    "\n",
    "ecocyc_id_idxs = []\n",
    "for i in range(len(ecocyc_ids)):\n",
    "\tecocyc_id_idxs.append(i)"
   ],
   "metadata": {
    "collapsed": false,
    "ExecuteTime": {
     "end_time": "2024-04-30T18:22:32.798916Z",
     "start_time": "2024-04-30T18:22:32.794205Z"
    }
   },
   "id": "ca0f5706c504e5ad"
  },
  {
   "cell_type": "code",
   "execution_count": 7,
   "outputs": [],
   "source": [
    "# combine the protein counts for each monomer: \n",
    "id_idx_dict = {id: i for i, id in enumerate(bulk_ids)}\n",
    "idx_id_dict = {idx: i for i, idx in id_idx_dict.items()}\n",
    "\n",
    "protein_ids = complex_ids + monomer_ids\n",
    "all_names = []\n",
    "name_groups = []\n",
    "idx_groups = []\n",
    "\n",
    "for p in protein_ids:\n",
    "\tif p not in all_names:\n",
    "\t\tindexes = [name for key, name in id_idx_dict.items() if p in key]\n",
    "\t\tfor idx in indexes:\n",
    "\t\t\tif ecocyc_ids[idx] == p:\n",
    "\t\t\t\tpass\n",
    "\t\t\telse:\n",
    "\t\t\t\tindexes.remove(idx)\n",
    "\t\tname_group = [idx_id_dict.get(name) for name in indexes]\n",
    "\t\tall_names.append(p)\n",
    "\t\tname_groups.append([name_group])\n",
    "\t\tidx_groups.append([indexes])"
   ],
   "metadata": {
    "collapsed": false,
    "ExecuteTime": {
     "end_time": "2024-04-30T18:22:34.789588Z",
     "start_time": "2024-04-30T18:22:32.808694Z"
    }
   },
   "id": "69debecfb928cf81"
  },
  {
   "cell_type": "code",
   "execution_count": 8,
   "outputs": [],
   "source": [
    "# fuse and collect protein counts of interest for minimal media (mm) in the C matrix: \n",
    "mm_bulk_interest_protein_counts = np.zeros([bulk.shape[0], len(protein_ids)])\n",
    "mm_bulk_PC_dict = {}\n",
    "\n",
    "for i in range(len(idx_groups)):\n",
    "\tid = protein_ids[i]\n",
    "\tidxs = idx_groups[i]\n",
    "\tif id in ecocyc_ids:\n",
    "\t\tif len(idxs) == 1:\n",
    "\t\t\tidx = idxs[0][0]\n",
    "\t\t\tdf = np.array(bulk.select(bulk_ids[idx]))\n",
    "\t\telse:\n",
    "\t\t\ttogether = []\n",
    "\t\t\tfor idx in idxs:\n",
    "\t\t\t\tindex = idx[0]\n",
    "\t\t\t\ttemp_df = np.array(bulk.select(bulk_ids[index]))\n",
    "\t\t\t\ttogether.append(temp_df)\n",
    "\t\t\tdf = np.sum(together, axis=1)\n",
    "\t\tprotein_counts = np.transpose(df)\n",
    "\t\tmm_bulk_interest_protein_counts[:, i] = protein_counts\n",
    "\t\tmm_bulk_PC_dict.update({id:idxs}) "
   ],
   "metadata": {
    "collapsed": false,
    "ExecuteTime": {
     "end_time": "2024-04-30T18:22:38.587033Z",
     "start_time": "2024-04-30T18:22:34.793838Z"
    }
   },
   "id": "cb1e5f28fc8266a"
  },
  {
   "cell_type": "code",
   "execution_count": 9,
   "outputs": [],
   "source": [
    "# Generate the minimal media data results:\n",
    "mm_sim_protein_counts = mm_bulk_interest_protein_counts @ Cmatrix\n",
    "\n",
    "# simplify the results accordingly with the time steps: \n",
    "mm_avg_sim_data = mm_sim_protein_counts.mean(axis=0)\n",
    "# TODO: edit this to account for cell age"
   ],
   "metadata": {
    "collapsed": false,
    "ExecuteTime": {
     "end_time": "2024-04-30T18:22:38.611537Z",
     "start_time": "2024-04-30T18:22:38.587664Z"
    }
   },
   "id": "f107c7e1e6c52090"
  },
  {
   "cell_type": "code",
   "execution_count": 10,
   "outputs": [],
   "source": [
    "# Data from Ecocyc (https://ecocyc.org/groups?tab=SPECIAL&orgid=ECOLI): \n",
    "EC_proteins = ecocyc_data.Proteins\n",
    "EC_genes = ecocyc_data.Genes\n",
    "EC_gene_CNs = ecocyc_data['Common-Name']\n",
    "\n",
    "# organize Ecocyc protein name and gene name data: \n",
    "EC_id_idx_dict = {id: i for i, id in enumerate(EC_proteins)}\n",
    "EC_idx_id_dict = {idx: i for i, idx in EC_id_idx_dict.items()}\n",
    "\n",
    "EC_Gene_idx_dict = {id: i for i, id in enumerate(EC_gene_CNs)}\n",
    "EC_idx_Gene_dict = {idx: i for i, idx in EC_Gene_idx_dict.items()}"
   ],
   "metadata": {
    "collapsed": false,
    "ExecuteTime": {
     "end_time": "2024-04-30T18:22:38.619048Z",
     "start_time": "2024-04-30T18:22:38.613644Z"
    }
   },
   "id": "53d87bc928b80328"
  },
  {
   "cell_type": "code",
   "execution_count": 11,
   "outputs": [
    {
     "data": {
      "text/plain": "4321"
     },
     "execution_count": 11,
     "metadata": {},
     "output_type": "execute_result"
    }
   ],
   "source": [
    "# find the gene name for each monomer in the bulk data using Ecocyc data: \n",
    "mm_BD_gene_ids = []\n",
    "mm_monomers_not_in_EC = []\n",
    "mm_monomer_idxs_in_EC = []\n",
    "gene = 1\n",
    "for i in range(len(monomer_ids)):\n",
    "\tif gene not in mm_BD_gene_ids: \n",
    "\t\tmonomer = monomer_ids[i]\n",
    "\t\tmonomer_idx = [name for key, name in EC_id_idx_dict.items() if monomer in key]\n",
    "\t\tif len(monomer_idx) == 0:\n",
    "\t\t\tmm_monomers_not_in_EC.append(monomer)\n",
    "\t\telse: \n",
    "\t\t\tmonomer_idx = monomer_idx[0]\n",
    "\t\t\tgene = EC_idx_Gene_dict.get(monomer_idx)\n",
    "\t\t\tmm_BD_gene_ids.append([gene])\n",
    "\t\t\tmm_monomer_idxs_in_EC.append(i)\n",
    "\t\t\t\n",
    "len(mm_BD_gene_ids)"
   ],
   "metadata": {
    "collapsed": false,
    "ExecuteTime": {
     "end_time": "2024-04-30T18:22:39.282525Z",
     "start_time": "2024-04-30T18:22:38.628111Z"
    }
   },
   "id": "926df63b3be0acff"
  },
  {
   "cell_type": "code",
   "execution_count": 12,
   "outputs": [],
   "source": [
    "# validation data sets from Li et al., 2014 (https://www.sciencedirect.com/science/article/pii/S0092867414002323?via%3Dihub#app1):\n",
    "validation_genes = validation_data.Gene\n",
    "validation_MOPS_data = validation_data['MOPS complete']\n",
    "validation_MOPS_min = validation_data['MOPS minimal']\n",
    "validation_MOPS_wo_M = validation_data['MOPS complete without methionine']\n",
    "\n",
    "# organize validation genes:\n",
    "V_gene_idx_dict = {id: i for i, id in enumerate(validation_genes)}\n",
    "V_idx_gene_dict = {idx: i for i, idx in V_gene_idx_dict.items()}"
   ],
   "metadata": {
    "collapsed": false,
    "ExecuteTime": {
     "end_time": "2024-04-30T18:22:39.285261Z",
     "start_time": "2024-04-30T18:22:39.282677Z"
    }
   },
   "id": "f3df13e9f51e44fe"
  },
  {
   "cell_type": "code",
   "execution_count": 13,
   "outputs": [
    {
     "data": {
      "text/plain": "shape: (4_481, 4)\n┌──────────────────────────┬─────────┬─────────────────────┬─────────────┐\n│ Proteins                 ┆ Genes   ┆ Accession-1 of Gene ┆ Common-Name │\n│ ---                      ┆ ---     ┆ ---                 ┆ ---         │\n│ str                      ┆ str     ┆ str                 ┆ str         │\n╞══════════════════════════╪═════════╪═════════════════════╪═════════════╡\n│ LYSU-CPLX                ┆ EG10553 ┆ b4129               ┆ lysU        │\n│ EG11817-MONOMER          ┆ EG11817 ┆ b2744               ┆ umpG        │\n│ MONOMER0-4534            ┆ G6577   ┆ b1120               ┆ cobB        │\n│ FDOI-MONOMER             ┆ EG11856 ┆ b3892               ┆ fdoI        │\n│ G6991-MONOMER            ┆ G6991   ┆ b1807               ┆ tsaB        │\n│ …                        ┆ …       ┆ …                   ┆ …           │\n│ G7835-MONOMER            ┆ G7835   ┆ b4145               ┆ yjeJ        │\n│ GALACTITOLPDEHYD-MONOMER ┆ EG12417 ┆ b2091               ┆ gatD        │\n│ EG10736-MONOMER          ┆ EG10736 ┆ b0708               ┆ phr         │\n│ EG10853-MONOMER          ┆ EG10853 ┆ b1427               ┆ rimL        │\n│ EG12344-MONOMER          ┆ EG12344 ┆ b1303               ┆ pspF        │\n└──────────────────────────┴─────────┴─────────────────────┴─────────────┘",
      "text/html": "<div><style>\n.dataframe > thead > tr,\n.dataframe > tbody > tr {\n  text-align: right;\n  white-space: pre-wrap;\n}\n</style>\n<small>shape: (4_481, 4)</small><table border=\"1\" class=\"dataframe\"><thead><tr><th>Proteins</th><th>Genes</th><th>Accession-1 of Gene</th><th>Common-Name</th></tr><tr><td>str</td><td>str</td><td>str</td><td>str</td></tr></thead><tbody><tr><td>&quot;LYSU-CPLX&quot;</td><td>&quot;EG10553&quot;</td><td>&quot;b4129&quot;</td><td>&quot;lysU&quot;</td></tr><tr><td>&quot;EG11817-MONOME…</td><td>&quot;EG11817&quot;</td><td>&quot;b2744&quot;</td><td>&quot;umpG&quot;</td></tr><tr><td>&quot;MONOMER0-4534&quot;</td><td>&quot;G6577&quot;</td><td>&quot;b1120&quot;</td><td>&quot;cobB&quot;</td></tr><tr><td>&quot;FDOI-MONOMER&quot;</td><td>&quot;EG11856&quot;</td><td>&quot;b3892&quot;</td><td>&quot;fdoI&quot;</td></tr><tr><td>&quot;G6991-MONOMER&quot;</td><td>&quot;G6991&quot;</td><td>&quot;b1807&quot;</td><td>&quot;tsaB&quot;</td></tr><tr><td>&hellip;</td><td>&hellip;</td><td>&hellip;</td><td>&hellip;</td></tr><tr><td>&quot;G7835-MONOMER&quot;</td><td>&quot;G7835&quot;</td><td>&quot;b4145&quot;</td><td>&quot;yjeJ&quot;</td></tr><tr><td>&quot;GALACTITOLPDEH…</td><td>&quot;EG12417&quot;</td><td>&quot;b2091&quot;</td><td>&quot;gatD&quot;</td></tr><tr><td>&quot;EG10736-MONOME…</td><td>&quot;EG10736&quot;</td><td>&quot;b0708&quot;</td><td>&quot;phr&quot;</td></tr><tr><td>&quot;EG10853-MONOME…</td><td>&quot;EG10853&quot;</td><td>&quot;b1427&quot;</td><td>&quot;rimL&quot;</td></tr><tr><td>&quot;EG12344-MONOME…</td><td>&quot;EG12344&quot;</td><td>&quot;b1303&quot;</td><td>&quot;pspF&quot;</td></tr></tbody></table></div>"
     },
     "execution_count": 13,
     "metadata": {},
     "output_type": "execute_result"
    }
   ],
   "source": [
    "# test out loading in the data from Ecocyc (https://ecocyc.org/groups?tab=SPECIAL&orgid=ECOLI) using the polars methods: \n",
    "test_df = pl.read_csv(\"notebooks/mia notebooks/test_name_df.csv\", separator=\"\\t\", truncate_ragged_lines=True)\n",
    "test_df"
   ],
   "metadata": {
    "collapsed": false,
    "ExecuteTime": {
     "end_time": "2024-04-30T18:22:39.290034Z",
     "start_time": "2024-04-30T18:22:39.284691Z"
    }
   },
   "id": "ba6fcf51d31dd003"
  },
  {
   "cell_type": "code",
   "execution_count": 14,
   "outputs": [],
   "source": [
    "# Filter out less confident data from the validation data set: \n",
    "mm_V_data = []\n",
    "mm_V_data_idxs = []\n",
    "mm_V_data_unsure = []\n",
    "for i in range(len(validation_MOPS_min)):\n",
    "\tPC = validation_MOPS_min[i]\n",
    "\t# if the data is not confident enough, indicated by brackets, then leave it out\n",
    "\tif type(PC) == str:\n",
    "\t\tPC = PC.replace(\"[\",\"\"); PC = PC.replace(\"]\",\"\")\n",
    "\t\tPC = int(PC)\n",
    "\t\tmm_V_data_unsure.append(PC)\n",
    "\telse:\n",
    "\t\tint(PC)\n",
    "\t\tmm_V_data.append(PC)\n",
    "\t\tmm_V_data_idxs.append(i)\n",
    "\n",
    "len(mm_V_data)\n",
    "\n",
    "# Extract the remaining gene names of the simulation data: \n",
    "mm_V_data_gene_ids = []\n",
    "for i in range(len(mm_V_data)):\n",
    "\tidx = mm_V_data_idxs[i]\n",
    "\tgene_id = V_idx_gene_dict.get(idx)\n",
    "\tmm_V_data_gene_ids.append(gene_id)\n",
    "\t\n",
    "len(mm_V_data_gene_ids)\n",
    "\n",
    "# Reorganize the validation gene data set: \n",
    "mm_V_gene_idx_dict = {id: i for i, id in enumerate(mm_V_data_gene_ids)}\n",
    "mm_V_idx_gene_dict = {idx: i for i, idx in mm_V_gene_idx_dict.items()}"
   ],
   "metadata": {
    "collapsed": false,
    "ExecuteTime": {
     "end_time": "2024-04-30T18:22:39.300858Z",
     "start_time": "2024-04-30T18:22:39.295801Z"
    }
   },
   "id": "29ec48829b6a82d9"
  },
  {
   "cell_type": "code",
   "execution_count": 15,
   "outputs": [
    {
     "data": {
      "text/plain": "3018"
     },
     "execution_count": 15,
     "metadata": {},
     "output_type": "execute_result"
    }
   ],
   "source": [
    "# find matches between the simulation minimal media data and validation minimal media data: \n",
    "mm_matches = []\n",
    "mm_V_match_idxs = []\n",
    "mm_sim_gene_idxs = []\n",
    "mm_non_matches = []\n",
    "\n",
    "G = 1\n",
    "for i in range(len(mm_BD_gene_ids)):\n",
    "\tif G not in mm_matches: \n",
    "\t\tG = (mm_BD_gene_ids[i])\n",
    "\t\tG = str(G[0])\n",
    "\t\tgene_idx = [name for key, name in mm_V_gene_idx_dict.items() if G in key]\n",
    "\t\tif len(gene_idx) == 0:\n",
    "\t\t\tmm_non_matches.append(G)\n",
    "\t\telse: \n",
    "\t\t\tgene_idx = gene_idx[0]\n",
    "\t\t\tmm_V_match_idxs.append(gene_idx)\n",
    "\t\t\tgene = mm_V_idx_gene_dict.get(gene_idx)\n",
    "\t\t\tmm_matches.append([gene])\n",
    "\t\t\tmm_sim_gene_idxs.append(i)\n",
    "\t\t\n",
    "len(mm_matches)"
   ],
   "metadata": {
    "collapsed": false,
    "ExecuteTime": {
     "end_time": "2024-04-30T18:22:39.665842Z",
     "start_time": "2024-04-30T18:22:39.309987Z"
    }
   },
   "id": "878f915d3e785996"
  },
  {
   "cell_type": "code",
   "execution_count": 16,
   "outputs": [
    {
     "data": {
      "text/plain": "3018"
     },
     "execution_count": 16,
     "metadata": {},
     "output_type": "execute_result"
    }
   ],
   "source": [
    "# Extract data columns from monomers not found in the Ecocyc data (corresponding to the names in BD_gene_ids): \n",
    "mm_avg_sim_PCs = mm_avg_sim_data[mm_monomer_idxs_in_EC]\n",
    "\n",
    "# Map the genes that do match together (corresponding to the names in matches): \n",
    "mm_avg_sim_PCs = np.transpose(mm_avg_sim_PCs)\n",
    "mm_sim_PC_data = mm_avg_sim_PCs[mm_sim_gene_idxs]\n",
    "\n",
    "# obtain minimal media validation data that can be compared with simulation data: \n",
    "mm_v_MOPS_data = []\n",
    "mm_v_MOPS_ids = []\n",
    "for idx in mm_V_match_idxs: \n",
    "\tgene_id = mm_V_data_gene_ids[idx]\n",
    "\tmm_v_MOPS_ids.append(gene_id)\n",
    "\tPC_data = mm_V_data[idx]\n",
    "\tmm_v_MOPS_data.append(PC_data)\n",
    "\t\n",
    "len(mm_v_MOPS_data)"
   ],
   "metadata": {
    "collapsed": false,
    "ExecuteTime": {
     "end_time": "2024-04-30T18:22:39.669042Z",
     "start_time": "2024-04-30T18:22:39.665344Z"
    }
   },
   "id": "e5d783d67ba750c6"
  },
  {
   "cell_type": "code",
   "execution_count": 57,
   "outputs": [
    {
     "data": {
      "text/plain": "Text(0.5, 1.0, 'Comparisons of E.coli Protein Counts in Minimal Media Conditions \\n between Literature Data and Simulation Data')"
     },
     "execution_count": 57,
     "metadata": {},
     "output_type": "execute_result"
    },
    {
     "data": {
      "text/plain": "<Figure size 640x480 with 1 Axes>",
      "image/png": "[encoded data removed]"
     },
     "metadata": {},
     "output_type": "display_data"
    }
   ],
   "source": [
    "# Plot the minimal media comparison graph using matplotlib:\n",
    "mm_xdata = np.array(mm_v_MOPS_data); mm_ydata = np.array(mm_sim_PC_data)\n",
    "plt.scatter(mm_xdata, mm_ydata, s=1, label=\"data\")\n",
    "\n",
    "m, b = np.polyfit(mm_xdata, mm_ydata, 1)\n",
    "mm_Y_data = int(m) * mm_xdata + b\n",
    "mm_legend_str = \"linear fit: y = \"+ str(round(m, 2)) +\"x + \"+ str(round(b, 2))\n",
    "plt.plot(mm_xdata, mm_Y_data, linewidth=.5, color='#bcbd22', label=mm_legend_str)\n",
    "\n",
    "max_value = max(max(mm_xdata), max(mm_ydata))\n",
    "x=y=[i for i in range(0,max_value)]\n",
    "plt.plot(x, y, linewidth=.5, color=\"orange\", label=\"y=x\")\n",
    "\n",
    "plt.axis('square')\n",
    "plt.legend()\n",
    "plt.xlabel(\"MOPs Minimal Media Data (from Li et al., 2014)\")\n",
    "plt.ylabel(\"Simulation Data (from VEcoli)\")\n",
    "plt.title(\"Comparisons of E.coli Protein Counts in Minimal Media Conditions \\n between Literature Data and Simulation Data\")"
   ],
   "metadata": {
    "collapsed": false,
    "ExecuteTime": {
     "end_time": "2024-04-30T22:26:01.957066Z",
     "start_time": "2024-04-30T22:26:01.468423Z"
    }
   },
   "id": "52280f272bc8975f"
  },
  {
   "cell_type": "code",
   "execution_count": 52,
   "outputs": [
    {
     "data": {
      "text/plain": "[0,\n 1,\n 2,\n 3,\n 4,\n 5,\n 6,\n 7,\n 8,\n 9,\n 10,\n 11,\n 12,\n 13,\n 14,\n 15,\n 16,\n 17,\n 18,\n 19,\n 20,\n 21,\n 22,\n 23,\n 24,\n 25,\n 26,\n 27,\n 28,\n 29,\n 30,\n 31,\n 32,\n 33,\n 34,\n 35,\n 36,\n 37,\n 38,\n 39,\n 40,\n 41,\n 42,\n 43,\n 44,\n 45,\n 46,\n 47,\n 48,\n 49,\n 50,\n 51,\n 52,\n 53,\n 54,\n 55,\n 56,\n 57,\n 58,\n 59,\n 60,\n 61,\n 62,\n 63,\n 64,\n 65,\n 66,\n 67,\n 68,\n 69,\n 70,\n 71,\n 72,\n 73,\n 74,\n 75,\n 76,\n 77,\n 78,\n 79,\n 80,\n 81,\n 82,\n 83,\n 84,\n 85,\n 86,\n 87,\n 88,\n 89,\n 90,\n 91,\n 92,\n 93,\n 94,\n 95,\n 96,\n 97,\n 98,\n 99,\n 100,\n 101,\n 102,\n 103,\n 104,\n 105,\n 106,\n 107,\n 108,\n 109,\n 110,\n 111,\n 112,\n 113,\n 114,\n 115,\n 116,\n 117,\n 118,\n 119,\n 120,\n 121,\n 122,\n 123,\n 124,\n 125,\n 126,\n 127,\n 128,\n 129,\n 130,\n 131,\n 132,\n 133,\n 134,\n 135,\n 136,\n 137,\n 138,\n 139,\n 140,\n 141,\n 142,\n 143,\n 144,\n 145,\n 146,\n 147,\n 148,\n 149,\n 150,\n 151,\n 152,\n 153,\n 154,\n 155,\n 156,\n 157,\n 158,\n 159,\n 160,\n 161,\n 162,\n 163,\n 164,\n 165,\n 166,\n 167,\n 168,\n 169,\n 170,\n 171,\n 172,\n 173,\n 174,\n 175,\n 176,\n 177,\n 178,\n 179,\n 180,\n 181,\n 182,\n 183,\n 184,\n 185,\n 186,\n 187,\n 188,\n 189,\n 190,\n 191,\n 192,\n 193,\n 194,\n 195,\n 196,\n 197,\n 198,\n 199,\n 200,\n 201,\n 202,\n 203,\n 204,\n 205,\n 206,\n 207,\n 208,\n 209,\n 210,\n 211,\n 212,\n 213,\n 214,\n 215,\n 216,\n 217,\n 218,\n 219,\n 220,\n 221,\n 222,\n 223,\n 224,\n 225,\n 226,\n 227,\n 228,\n 229,\n 230,\n 231,\n 232,\n 233,\n 234,\n 235,\n 236,\n 237,\n 238,\n 239,\n 240,\n 241,\n 242,\n 243,\n 244,\n 245,\n 246,\n 247,\n 248,\n 249,\n 250,\n 251,\n 252,\n 253,\n 254,\n 255,\n 256,\n 257,\n 258,\n 259,\n 260,\n 261,\n 262,\n 263,\n 264,\n 265,\n 266,\n 267,\n 268,\n 269,\n 270,\n 271,\n 272,\n 273,\n 274,\n 275,\n 276,\n 277,\n 278,\n 279,\n 280,\n 281,\n 282,\n 283,\n 284,\n 285,\n 286,\n 287,\n 288,\n 289,\n 290,\n 291,\n 292,\n 293,\n 294,\n 295,\n 296,\n 297,\n 298,\n 299,\n 300,\n 301,\n 302,\n 303,\n 304,\n 305,\n 306,\n 307,\n 308,\n 309,\n 310,\n 311,\n 312,\n 313,\n 314,\n 315,\n 316,\n 317,\n 318,\n 319,\n 320,\n 321,\n 322,\n 323,\n 324,\n 325,\n 326,\n 327,\n 328,\n 329,\n 330,\n 331,\n 332,\n 333,\n 334,\n 335,\n 336,\n 337,\n 338,\n 339,\n 340,\n 341,\n 342,\n 343,\n 344,\n 345,\n 346,\n 347,\n 348,\n 349,\n 350,\n 351,\n 352,\n 353,\n 354,\n 355,\n 356,\n 357,\n 358,\n 359,\n 360,\n 361,\n 362,\n 363,\n 364,\n 365,\n 366,\n 367,\n 368,\n 369,\n 370,\n 371,\n 372,\n 373,\n 374,\n 375,\n 376,\n 377,\n 378,\n 379,\n 380,\n 381,\n 382,\n 383,\n 384,\n 385,\n 386,\n 387,\n 388,\n 389,\n 390,\n 391,\n 392,\n 393,\n 394,\n 395,\n 396,\n 397,\n 398,\n 399,\n 400,\n 401,\n 402,\n 403,\n 404,\n 405,\n 406,\n 407,\n 408,\n 409,\n 410,\n 411,\n 412,\n 413,\n 414,\n 415,\n 416,\n 417,\n 418,\n 419,\n 420,\n 421,\n 422,\n 423,\n 424,\n 425,\n 426,\n 427,\n 428,\n 429,\n 430,\n 431,\n 432,\n 433,\n 434,\n 435,\n 436,\n 437,\n 438,\n 439,\n 440,\n 441,\n 442,\n 443,\n 444,\n 445,\n 446,\n 447,\n 448,\n 449,\n 450,\n 451,\n 452,\n 453,\n 454,\n 455,\n 456,\n 457,\n 458,\n 459,\n 460,\n 461,\n 462,\n 463,\n 464,\n 465,\n 466,\n 467,\n 468,\n 469,\n 470,\n 471,\n 472,\n 473,\n 474,\n 475,\n 476,\n 477,\n 478,\n 479,\n 480,\n 481,\n 482,\n 483,\n 484,\n 485,\n 486,\n 487,\n 488,\n 489,\n 490,\n 491,\n 492,\n 493,\n 494,\n 495,\n 496,\n 497,\n 498,\n 499,\n 500,\n 501,\n 502,\n 503,\n 504,\n 505,\n 506,\n 507,\n 508,\n 509,\n 510,\n 511,\n 512,\n 513,\n 514,\n 515,\n 516,\n 517,\n 518,\n 519,\n 520,\n 521,\n 522,\n 523,\n 524,\n 525,\n 526,\n 527,\n 528,\n 529,\n 530,\n 531,\n 532,\n 533,\n 534,\n 535,\n 536,\n 537,\n 538,\n 539,\n 540,\n 541,\n 542,\n 543,\n 544,\n 545,\n 546,\n 547,\n 548,\n 549,\n 550,\n 551,\n 552,\n 553,\n 554,\n 555,\n 556,\n 557,\n 558,\n 559,\n 560,\n 561,\n 562,\n 563,\n 564,\n 565,\n 566,\n 567,\n 568,\n 569,\n 570,\n 571,\n 572,\n 573,\n 574,\n 575,\n 576,\n 577,\n 578,\n 579,\n 580,\n 581,\n 582,\n 583,\n 584,\n 585,\n 586,\n 587,\n 588,\n 589,\n 590,\n 591,\n 592,\n 593,\n 594,\n 595,\n 596,\n 597,\n 598,\n 599,\n 600,\n 601,\n 602,\n 603,\n 604,\n 605,\n 606,\n 607,\n 608,\n 609,\n 610,\n 611,\n 612,\n 613,\n 614,\n 615,\n 616,\n 617,\n 618,\n 619,\n 620,\n 621,\n 622,\n 623,\n 624,\n 625,\n 626,\n 627,\n 628,\n 629,\n 630,\n 631,\n 632,\n 633,\n 634,\n 635,\n 636,\n 637,\n 638,\n 639,\n 640,\n 641,\n 642,\n 643,\n 644,\n 645,\n 646,\n 647,\n 648,\n 649,\n 650,\n 651,\n 652,\n 653,\n 654,\n 655,\n 656,\n 657,\n 658,\n 659,\n 660,\n 661,\n 662,\n 663,\n 664,\n 665,\n 666,\n 667,\n 668,\n 669,\n 670,\n 671,\n 672,\n 673,\n 674,\n 675,\n 676,\n 677,\n 678,\n 679,\n 680,\n 681,\n 682,\n 683,\n 684,\n 685,\n 686,\n 687,\n 688,\n 689,\n 690,\n 691,\n 692,\n 693,\n 694,\n 695,\n 696,\n 697,\n 698,\n 699,\n 700,\n 701,\n 702,\n 703,\n 704,\n 705,\n 706,\n 707,\n 708,\n 709,\n 710,\n 711,\n 712,\n 713,\n 714,\n 715,\n 716,\n 717,\n 718,\n 719,\n 720,\n 721,\n 722,\n 723,\n 724,\n 725,\n 726,\n 727,\n 728,\n 729,\n 730,\n 731,\n 732,\n 733,\n 734,\n 735,\n 736,\n 737,\n 738,\n 739,\n 740,\n 741,\n 742,\n 743,\n 744,\n 745,\n 746,\n 747,\n 748,\n 749,\n 750,\n 751,\n 752,\n 753,\n 754,\n 755,\n 756,\n 757,\n 758,\n 759,\n 760,\n 761,\n 762,\n 763,\n 764,\n 765,\n 766,\n 767,\n 768,\n 769,\n 770,\n 771,\n 772,\n 773,\n 774,\n 775,\n 776,\n 777,\n 778,\n 779,\n 780,\n 781,\n 782,\n 783,\n 784,\n 785,\n 786,\n 787,\n 788,\n 789,\n 790,\n 791,\n 792,\n 793,\n 794,\n 795,\n 796,\n 797,\n 798,\n 799,\n 800,\n 801,\n 802,\n 803,\n 804,\n 805,\n 806,\n 807,\n 808,\n 809,\n 810,\n 811,\n 812,\n 813,\n 814,\n 815,\n 816,\n 817,\n 818,\n 819,\n 820,\n 821,\n 822,\n 823,\n 824,\n 825,\n 826,\n 827,\n 828,\n 829,\n 830,\n 831,\n 832,\n 833,\n 834,\n 835,\n 836,\n 837,\n 838,\n 839,\n 840,\n 841,\n 842,\n 843,\n 844,\n 845,\n 846,\n 847,\n 848,\n 849,\n 850,\n 851,\n 852,\n 853,\n 854,\n 855,\n 856,\n 857,\n 858,\n 859,\n 860,\n 861,\n 862,\n 863,\n 864,\n 865,\n 866,\n 867,\n 868,\n 869,\n 870,\n 871,\n 872,\n 873,\n 874,\n 875,\n 876,\n 877,\n 878,\n 879,\n 880,\n 881,\n 882,\n 883,\n 884,\n 885,\n 886,\n 887,\n 888,\n 889,\n 890,\n 891,\n 892,\n 893,\n 894,\n 895,\n 896,\n 897,\n 898,\n 899,\n 900,\n 901,\n 902,\n 903,\n 904,\n 905,\n 906,\n 907,\n 908,\n 909,\n 910,\n 911,\n 912,\n 913,\n 914,\n 915,\n 916,\n 917,\n 918,\n 919,\n 920,\n 921,\n 922,\n 923,\n 924,\n 925,\n 926,\n 927,\n 928,\n 929,\n 930,\n 931,\n 932,\n 933,\n 934,\n 935,\n 936,\n 937,\n 938,\n 939,\n 940,\n 941,\n 942,\n 943,\n 944,\n 945,\n 946,\n 947,\n 948,\n 949,\n 950,\n 951,\n 952,\n 953,\n 954,\n 955,\n 956,\n 957,\n 958,\n 959,\n 960,\n 961,\n 962,\n 963,\n 964,\n 965,\n 966,\n 967,\n 968,\n 969,\n 970,\n 971,\n 972,\n 973,\n 974,\n 975,\n 976,\n 977,\n 978,\n 979,\n 980,\n 981,\n 982,\n 983,\n 984,\n 985,\n 986,\n 987,\n 988,\n 989,\n 990,\n 991,\n 992,\n 993,\n 994,\n 995,\n 996,\n 997,\n 998,\n 999,\n ...]"
     },
     "execution_count": 52,
     "metadata": {},
     "output_type": "execute_result"
    }
   ],
   "source": [],
   "metadata": {
    "collapsed": false,
    "ExecuteTime": {
     "end_time": "2024-04-30T22:23:57.380778Z",
     "start_time": "2024-04-30T22:23:57.372446Z"
    }
   },
   "id": "24c53c06affd9c7d"
  },
  {
   "cell_type": "code",
   "execution_count": 45,
   "outputs": [
    {
     "data": {
      "text/plain": "Text(0.5, 1.0, 'Comparisons of E.coli Protein Counts in Minmal Media \\n from Literature Data and Simulation Data')"
     },
     "execution_count": 45,
     "metadata": {},
     "output_type": "execute_result"
    },
    {
     "data": {
      "text/plain": "<Figure size 640x480 with 1 Axes>",
      "image/png": "[encoded data removed]"
     },
     "metadata": {},
     "output_type": "display_data"
    }
   ],
   "source": [
    "# Plot using the Polars dataframe method and Seaborn plotting method:\n",
    "comparison_df = pl.DataFrame(np.array([mm_v_MOPS_data, mm_sim_PC_data]).T, schema=[\"Experiment\", \"Simulation\"])\n",
    "\n",
    "sns.scatterplot(x=\"Simulation\", y=\"Experiment\", data=comparison_df.to_pandas())\n",
    "plt.title(\"Comparisons of E.coli Protein Counts in Minmal Media \\n from Literature Data and Simulation Data\")"
   ],
   "metadata": {
    "collapsed": false,
    "ExecuteTime": {
     "end_time": "2024-04-30T18:43:34.254788Z",
     "start_time": "2024-04-30T18:43:34.147903Z"
    }
   },
   "id": "8bd1acba2743d589"
  },
  {
   "cell_type": "markdown",
   "source": [
    "## Comparison of rich media data from simulation results and Li et al., 2014"
   ],
   "metadata": {
    "collapsed": false
   },
   "id": "c671a6501d7c6639"
  },
  {
   "cell_type": "code",
   "execution_count": 44,
   "outputs": [],
   "source": [
    "time = '1300'\n",
    "date = '2024-04-23'\n",
    "experiment = 'validation_experiment'\n",
    "entry = f'{experiment}_{time}_{date}'\n",
    "folder = f'out/cofactors/{entry}/'"
   ],
   "metadata": {
    "collapsed": false,
    "ExecuteTime": {
     "end_time": "2024-04-30T18:43:30.878331Z",
     "start_time": "2024-04-30T18:43:30.866163Z"
    }
   },
   "id": "3a75d9cb72769c73"
  },
  {
   "cell_type": "code",
   "execution_count": 20,
   "outputs": [],
   "source": [
    "output_all = np.load(folder + '0_output.npy',allow_pickle='TRUE').item()\n",
    "# output = np.load(r\"out/geneRxnVerifData/output_glc.npy\", allow_pickle=True, encoding='ASCII').tolist()\n",
    "output = output_all['agents']['0']\n",
    "fba = output['listeners']['fba_results']\n",
    "mass = output['listeners']['mass']\n",
    "bulk = pl.DataFrame(output['bulk'])\n",
    "\n",
    "fluxes = np.array(fba['estimated_fluxes'][1:])\n",
    "exchanges = fba['estimated_exchange_dmdt']\n",
    "\n",
    "ans = output['listeners']['unique_molecule_counts']['active_ribosome']"
   ],
   "metadata": {
    "collapsed": false,
    "ExecuteTime": {
     "end_time": "2024-04-30T18:22:44.311609Z",
     "start_time": "2024-04-30T18:22:40.016961Z"
    }
   },
   "id": "6cf107d3bdf84ab6"
  },
  {
   "cell_type": "code",
   "execution_count": 21,
   "outputs": [],
   "source": [
    "# So say I want to find the names of the proteins themselves, these are functions to implement that do so: \n",
    "initial_state = json.load(open('data/wcecoli_t0.json'))\n",
    "\n",
    "bulk_ids = [item[0] for item in initial_state['bulk']]\n",
    "\n",
    "bulk.columns = bulk_ids"
   ],
   "metadata": {
    "collapsed": false,
    "ExecuteTime": {
     "end_time": "2024-04-30T18:22:44.365939Z",
     "start_time": "2024-04-30T18:22:44.311729Z"
    }
   },
   "id": "6f6d0184064d6c60"
  },
  {
   "cell_type": "code",
   "execution_count": 22,
   "outputs": [],
   "source": [
    "# take the protein [location] out of the name of the bulk ids: \n",
    "ecocyc_ids = []\n",
    "for id in bulk_ids: \n",
    "\tecocyc_ids.append(id[0:-3])\n",
    "\n",
    "ecocyc_id_idxs = []\n",
    "for i in range(len(ecocyc_ids)):\n",
    "\tecocyc_id_idxs.append(i)"
   ],
   "metadata": {
    "collapsed": false,
    "ExecuteTime": {
     "end_time": "2024-04-30T18:22:44.380117Z",
     "start_time": "2024-04-30T18:22:44.368718Z"
    }
   },
   "id": "7ea49e3ebe5e0b2d"
  },
  {
   "cell_type": "code",
   "execution_count": 23,
   "outputs": [],
   "source": [
    "# combine the protein counts for each monomer: \n",
    "id_idx_dict = {id: i for i, id in enumerate(bulk_ids)}\n",
    "idx_id_dict = {idx: i for i, idx in id_idx_dict.items()}\n",
    "\n",
    "protein_ids = complex_ids + monomer_ids\n",
    "all_names = []\n",
    "name_groups = []\n",
    "idx_groups = []\n",
    "\n",
    "for p in protein_ids:\n",
    "\tif p not in all_names:\n",
    "\t\tindexes = [name for key, name in id_idx_dict.items() if p in key]\n",
    "\t\tfor idx in indexes:\n",
    "\t\t\tif ecocyc_ids[idx] == p:\n",
    "\t\t\t\tpass\n",
    "\t\t\telse:\n",
    "\t\t\t\tindexes.remove(idx)\n",
    "\t\tname_group = [idx_id_dict.get(name) for name in indexes]\n",
    "\t\tall_names.append(p)\n",
    "\t\tname_groups.append([name_group])\n",
    "\t\tidx_groups.append([indexes])"
   ],
   "metadata": {
    "collapsed": false,
    "ExecuteTime": {
     "end_time": "2024-04-30T18:22:46.366134Z",
     "start_time": "2024-04-30T18:22:44.395710Z"
    }
   },
   "id": "64696072e2b6c785"
  },
  {
   "cell_type": "code",
   "execution_count": 24,
   "outputs": [],
   "source": [
    "# fuse and collect protein counts of interest (in the C matrix): \n",
    "MM_bulk_interest_protein_counts = np.zeros([bulk.shape[0], len(protein_ids)])\n",
    "MM_bulk_PC_dict = {}\n",
    "\n",
    "for i in range(len(idx_groups)):\n",
    "\tid = protein_ids[i]\n",
    "\tidxs = idx_groups[i]\n",
    "\tif id in ecocyc_ids:\n",
    "\t\tif len(idxs) == 1:\n",
    "\t\t\tidx = idxs[0][0]\n",
    "\t\t\tdf = np.array(bulk.select(bulk_ids[idx]))\n",
    "\t\telse:\n",
    "\t\t\ttogether = []\n",
    "\t\t\tfor idx in idxs:\n",
    "\t\t\t\tindex = idx[0]\n",
    "\t\t\t\ttemp_df = np.array(bulk.select(bulk_ids[index]))\n",
    "\t\t\t\ttogether.append(temp_df)\n",
    "\t\t\tdf = np.sum(together, axis=1)\n",
    "\t\tprotein_counts = np.transpose(df)\n",
    "\t\tMM_bulk_interest_protein_counts[:, i] = protein_counts\n",
    "\t\tMM_bulk_PC_dict.update({id:idxs}) "
   ],
   "metadata": {
    "collapsed": false,
    "ExecuteTime": {
     "end_time": "2024-04-30T18:22:50.090167Z",
     "start_time": "2024-04-30T18:22:46.367291Z"
    }
   },
   "id": "45f99f94b78792dd"
  },
  {
   "cell_type": "code",
   "execution_count": 25,
   "outputs": [],
   "source": [
    "# Generate simulation data: \n",
    "MM_sim_protein_counts = MM_bulk_interest_protein_counts @ Cmatrix\n",
    "\n",
    "# average the data across the timepoints accordingly: \n",
    "MM_avg_sim_data = MM_sim_protein_counts.mean(axis=0)"
   ],
   "metadata": {
    "collapsed": false,
    "ExecuteTime": {
     "end_time": "2024-04-30T18:22:50.116631Z",
     "start_time": "2024-04-30T18:22:50.090395Z"
    }
   },
   "id": "dfaa1a39d3bd4092"
  },
  {
   "cell_type": "code",
   "execution_count": 26,
   "outputs": [],
   "source": [
    "# Data from Ecocyc (https://ecocyc.org/groups?tab=SPECIAL&orgid=ECOLI): \n",
    "EC_proteins = ecocyc_data.Proteins\n",
    "EC_genes = ecocyc_data.Genes\n",
    "EC_gene_CNs = ecocyc_data['Common-Name']\n",
    "\n",
    "# organize Ecocyc protein name and gene name data: \n",
    "EC_id_idx_dict = {id: i for i, id in enumerate(EC_proteins)}\n",
    "EC_idx_id_dict = {idx: i for i, idx in EC_id_idx_dict.items()}\n",
    "\n",
    "EC_Gene_idx_dict = {id: i for i, id in enumerate(EC_gene_CNs)}\n",
    "EC_idx_Gene_dict = {idx: i for i, idx in EC_Gene_idx_dict.items()}"
   ],
   "metadata": {
    "collapsed": false,
    "ExecuteTime": {
     "end_time": "2024-04-30T18:22:50.123661Z",
     "start_time": "2024-04-30T18:22:50.117880Z"
    }
   },
   "id": "2f875072a650a750"
  },
  {
   "cell_type": "code",
   "execution_count": 27,
   "outputs": [
    {
     "data": {
      "text/plain": "4321"
     },
     "execution_count": 27,
     "metadata": {},
     "output_type": "execute_result"
    }
   ],
   "source": [
    "# find the gene name for each monomer in the bulk data using Ecocyc data: \n",
    "MM_BD_gene_ids = []\n",
    "MM_monomers_not_in_EC = []\n",
    "MM_monomer_idxs_in_EC = []\n",
    "gene = 1\n",
    "for i in range(len(monomer_ids)):\n",
    "\tif gene not in MM_BD_gene_ids: \n",
    "\t\tmonomer = monomer_ids[i]\n",
    "\t\tmonomer_idx = [name for key, name in EC_id_idx_dict.items() if monomer in key]\n",
    "\t\tif len(monomer_idx) == 0:\n",
    "\t\t\tMM_monomers_not_in_EC.append(monomer)\n",
    "\t\telse: \n",
    "\t\t\tmonomer_idx = monomer_idx[0]\n",
    "\t\t\tgene = EC_idx_Gene_dict.get(monomer_idx)\n",
    "\t\t\tMM_BD_gene_ids.append([gene])\n",
    "\t\t\tMM_monomer_idxs_in_EC.append(i)\n",
    "\t\t\t\n",
    "len(MM_BD_gene_ids)"
   ],
   "metadata": {
    "collapsed": false,
    "ExecuteTime": {
     "end_time": "2024-04-30T18:22:50.782244Z",
     "start_time": "2024-04-30T18:22:50.175573Z"
    }
   },
   "id": "dd6e65ed68661fbf"
  },
  {
   "cell_type": "code",
   "execution_count": 28,
   "outputs": [],
   "source": [
    "# validation data sets from Li et al., 2014 (https://www.sciencedirect.com/science/article/pii/S0092867414002323?via%3Dihub#app1):\n",
    "validation_genes = validation_data.Gene\n",
    "validation_MOPS_data = validation_data['MOPS complete']\n",
    "validation_MOPS_min = validation_data['MOPS minimal']\n",
    "validation_MOPS_wo_M = validation_data['MOPS complete without methionine']\n",
    "\n",
    "# organize validation genes:\n",
    "V_gene_idx_dict = {id: i for i, id in enumerate(validation_genes)}\n",
    "V_idx_gene_dict = {idx: i for i, idx in V_gene_idx_dict.items()}"
   ],
   "metadata": {
    "collapsed": false,
    "ExecuteTime": {
     "end_time": "2024-04-30T18:22:50.784831Z",
     "start_time": "2024-04-30T18:22:50.782325Z"
    }
   },
   "id": "91de98822cac7673"
  },
  {
   "cell_type": "code",
   "execution_count": 29,
   "outputs": [],
   "source": [
    "# Filter out less confident data from the validation data set: \n",
    "MM_V_data = []\n",
    "MM_V_data_idxs = []\n",
    "MM_V_data_unsure = []\n",
    "for i in range(len(validation_MOPS_data)):\n",
    "\tPC = validation_MOPS_data[i]\n",
    "\t# if the data is not confident enough, indicated by brackets, then leave it out\n",
    "\tif type(PC) == str:\n",
    "\t\tPC = PC.replace(\"[\",\"\"); PC = PC.replace(\"]\",\"\")\n",
    "\t\tPC = int(PC)\n",
    "\t\tMM_V_data_unsure.append(PC)\n",
    "\telse:\n",
    "\t\tint(PC)\n",
    "\t\tMM_V_data.append(PC)\n",
    "\t\tMM_V_data_idxs.append(i)\n",
    "\n",
    "len(MM_V_data)\n",
    "\n",
    "# Extract the remaining gene names of the simulation data: \n",
    "MM_V_data_gene_ids = []\n",
    "for i in range(len(MM_V_data)):\n",
    "\tidx = MM_V_data_idxs[i]\n",
    "\tgene_id = V_idx_gene_dict.get(idx)\n",
    "\tMM_V_data_gene_ids.append(gene_id)\n",
    "\t\n",
    "len(MM_V_data_gene_ids)\n",
    "\n",
    "# Reorganize the validation gene data set: \n",
    "MM_V_gene_idx_dict = {id: i for i, id in enumerate(MM_V_data_gene_ids)}\n",
    "MM_V_idx_gene_dict = {idx: i for i, idx in MM_V_gene_idx_dict.items()}"
   ],
   "metadata": {
    "collapsed": false,
    "ExecuteTime": {
     "end_time": "2024-04-30T18:22:50.793004Z",
     "start_time": "2024-04-30T18:22:50.791073Z"
    }
   },
   "id": "9771e76fa6d89c15"
  },
  {
   "cell_type": "code",
   "execution_count": 30,
   "outputs": [
    {
     "data": {
      "text/plain": "2717"
     },
     "execution_count": 30,
     "metadata": {},
     "output_type": "execute_result"
    }
   ],
   "source": [
    "# find matches between the simulation data and validation data: \n",
    "MM_matches = []\n",
    "MM_V_match_idxs = []\n",
    "MM_sim_match_idxs = []\n",
    "MM_non_matches = []\n",
    "\n",
    "G = 1\n",
    "for i in range(len(MM_BD_gene_ids)):\n",
    "\tif G not in MM_matches: \n",
    "\t\tG = (MM_BD_gene_ids[i])\n",
    "\t\tG = str(G[0])\n",
    "\t\tgene_idx = [name for key, name in MM_V_gene_idx_dict.items() if G in key]\n",
    "\t\tif len(gene_idx) == 0:\n",
    "\t\t\tMM_non_matches.append(G)\n",
    "\t\telse: \n",
    "\t\t\tgene_idx = gene_idx[0]\n",
    "\t\t\tMM_V_match_idxs.append(gene_idx)\n",
    "\t\t\tgene = MM_V_idx_gene_dict.get(gene_idx)\n",
    "\t\t\tMM_matches.append([gene])\n",
    "\t\t\tMM_sim_match_idxs.append(i)\n",
    "\t\t\n",
    "len(MM_matches)"
   ],
   "metadata": {
    "collapsed": false,
    "ExecuteTime": {
     "end_time": "2024-04-30T18:22:51.125847Z",
     "start_time": "2024-04-30T18:22:50.842221Z"
    }
   },
   "id": "e33fda8326482cec"
  },
  {
   "cell_type": "code",
   "execution_count": 32,
   "outputs": [
    {
     "data": {
      "text/plain": "2717"
     },
     "execution_count": 32,
     "metadata": {},
     "output_type": "execute_result"
    }
   ],
   "source": [
    "# Extract data columns from monomers not found in the Ecocyc data (corresponding to the names in MM_BD_gene_ids): \n",
    "MM_avg_sim_PCs = MM_avg_sim_data[MM_monomer_idxs_in_EC]\n",
    "\n",
    "# Map the genes that do match together (corresponding to the names in matches): \n",
    "MM_avg_sim_PCs = np.transpose(MM_avg_sim_PCs)\n",
    "MM_sim_PC_data = MM_avg_sim_PCs[MM_sim_match_idxs]\n",
    "\n",
    "# obtain validation data that can be compared with simulation data\n",
    "MM_v_MOPS_data = []\n",
    "MM_v_MOPS_ids = []\n",
    "for idx in MM_V_match_idxs: \n",
    "\tgene_id = MM_V_data_gene_ids[idx]\n",
    "\tMM_v_MOPS_ids.append(gene_id)\n",
    "\tPC_data = MM_V_data[idx]\n",
    "\tMM_v_MOPS_data.append(PC_data)\n",
    "\t\n",
    "len(MM_v_MOPS_data)"
   ],
   "metadata": {
    "collapsed": false,
    "ExecuteTime": {
     "end_time": "2024-04-30T18:22:51.137411Z",
     "start_time": "2024-04-30T18:22:51.134701Z"
    }
   },
   "id": "740b015f4ca5e994"
  },
  {
   "cell_type": "code",
   "execution_count": 58,
   "outputs": [
    {
     "data": {
      "text/plain": "Text(0.5, 1.0, 'Comparisons of Protein Counts for E.coli from Literature Data and Simulation Data')"
     },
     "execution_count": 58,
     "metadata": {},
     "output_type": "execute_result"
    },
    {
     "data": {
      "text/plain": "<Figure size 640x480 with 1 Axes>",
      "image/png": "[encoded data removed]"
     },
     "metadata": {},
     "output_type": "display_data"
    }
   ],
   "source": [
    "# Plot the comparison graph: \n",
    "MM_xdata = np.array(MM_v_MOPS_data); MM_ydata = np.array(MM_sim_PC_data)\n",
    "plt.scatter(MM_xdata, MM_ydata, s=1, label=\"data\")\n",
    "\n",
    "m, b = np.polyfit(MM_xdata, MM_ydata, 1)\n",
    "MM_Y_data = int(m) * MM_xdata + b\n",
    "MM_legend_str = \"linear fit: y = \"+ str(round(m, 2)) +\"x + \"+ str(round(b, 2))\n",
    "plt.plot(MM_xdata, MM_Y_data, linewidth=.5, color='#bcbd22', label=MM_legend_str)\n",
    "\n",
    "max_value = max(max(MM_xdata), max(MM_ydata))\n",
    "x=y=[i for i in range(0,max_value)]\n",
    "plt.plot(x, y, linewidth=.5, color=\"orange\", label=\"y=x\")\n",
    "\n",
    "plt.axis('square')\n",
    "plt.legend()\n",
    "plt.xlabel(\"MOPs Literature Data (from Li et al.,)\")\n",
    "plt.ylabel(\"Simulation Data (from VEcoli)\")\n",
    "plt.title(\"Comparisons of Protein Counts for E.coli from Literature Data and Simulation Data\")"
   ],
   "metadata": {
    "collapsed": false,
    "ExecuteTime": {
     "end_time": "2024-04-30T22:26:35.307023Z",
     "start_time": "2024-04-30T22:26:34.449894Z"
    }
   },
   "id": "1a435a5944420625"
  },
  {
   "cell_type": "code",
   "execution_count": 37,
   "outputs": [
    {
     "data": {
      "text/plain": "Text(0.5, 1.0, 'Comparisons of Protein Counts for E.coli from Literature Data and Simulation Data')"
     },
     "execution_count": 37,
     "metadata": {},
     "output_type": "execute_result"
    },
    {
     "data": {
      "text/plain": "<Figure size 640x480 with 1 Axes>",
      "image/png": "[encoded data removed]"
     },
     "metadata": {},
     "output_type": "display_data"
    }
   ],
   "source": [
    "# Plot using the Polars dataframe method and Seaborn plotting method:\n",
    "comparison_df = pl.DataFrame(np.array([MM_v_MOPS_data, MM_sim_PC_data]).T, schema=[\"Experiment\", \"Simulation\"])\n",
    "\n",
    "sns.scatterplot(x=\"Simulation\", y=\"Experiment\", data=comparison_df.to_pandas())\n",
    "plt.title(\"Comparisons of Protein Counts for E.coli from Literature Data and Simulation Data\")"
   ],
   "metadata": {
    "collapsed": false,
    "ExecuteTime": {
     "end_time": "2024-04-30T18:22:51.355378Z",
     "start_time": "2024-04-30T18:22:51.257579Z"
    }
   },
   "id": "36d216748333ca94"
  },
  {
   "cell_type": "code",
   "execution_count": 37,
   "outputs": [],
   "source": [],
   "metadata": {
    "collapsed": false,
    "ExecuteTime": {
     "end_time": "2024-04-30T18:22:51.357617Z",
     "start_time": "2024-04-30T18:22:51.354418Z"
    }
   },
   "id": "44f757fa20402871"
  }
 ],
 "metadata": {
  "kernelspec": {
   "display_name": "Python 3",
   "language": "python",
   "name": "python3"
  },
  "language_info": {
   "codemirror_mode": {
    "name": "ipython",
    "version": 2
   },
   "file_extension": ".py",
   "mimetype": "text/x-python",
   "name": "python",
   "nbconvert_exporter": "python",
   "pygments_lexer": "ipython2",
   "version": "2.7.6"
  }
 },
 "nbformat": 4,
 "nbformat_minor": 5
}
