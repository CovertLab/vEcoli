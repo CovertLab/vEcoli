{
 "cells": [
  {
   "cell_type": "code",
   "execution_count": 20,
   "id": "initial_id",
   "metadata": {
    "collapsed": true,
    "ExecuteTime": {
     "end_time": "2024-04-27T02:01:44.638201Z",
     "start_time": "2024-04-27T02:01:44.589883Z"
    }
   },
   "outputs": [],
   "source": [
    "import polars as pl\n",
    "import numpy as np\n",
    "import os\n",
    "import json\n",
    "from scipy.sparse import csr_matrix\n",
    "os.chdir(os.path.expanduser('~/vivarium-ecoli'))\n"
   ]
  },
  {
   "cell_type": "code",
   "execution_count": 21,
   "outputs": [],
   "source": [
    "def read_names(file_path):\n",
    "    return np.genfromtxt(file_path, dtype=str, delimiter=\"\\n\")\n",
    "\n",
    "def read_matrix(file_path, sparse=False):\n",
    "    # add sparse matrix reading\n",
    "    if sparse:\n",
    "        return csr_matrix(pl.read_csv(file_path, has_header=False).to_numpy())\n",
    "    else:\n",
    "        return pl.read_csv(file_path, has_header=False).to_numpy()\n",
    "\n",
    "\n",
    "Cmatrix = read_matrix(\"/Users/miagrahn/vivarium-ecoli/notebooks/mia notebooks/C_matrix.csv\", sparse=True)\n",
    "complex_ids = list(read_names(\"/Users/miagrahn/vivarium-ecoli/notebooks/mia notebooks/complex_ids.txt\"))\n",
    "monomer_ids = list(read_names(\"/Users/miagrahn/vivarium-ecoli/notebooks/mia notebooks/monomer_ids.txt\"))"
   ],
   "metadata": {
    "collapsed": false,
    "ExecuteTime": {
     "end_time": "2024-04-27T02:01:45.057049Z",
     "start_time": "2024-04-27T02:01:44.594743Z"
    }
   },
   "id": "fd0cf02365c37ae6"
  },
  {
   "cell_type": "code",
   "execution_count": 22,
   "outputs": [],
   "source": [
    "time = '1300'\n",
    "date = '2024-04-23'\n",
    "experiment = 'validation_experiment'\n",
    "entry = f'{experiment}_{time}_{date}'\n",
    "folder = f'out/cofactors/{entry}/'"
   ],
   "metadata": {
    "collapsed": false,
    "ExecuteTime": {
     "end_time": "2024-04-27T02:01:45.060257Z",
     "start_time": "2024-04-27T02:01:45.057580Z"
    }
   },
   "id": "e5284712fd86e78e"
  },
  {
   "cell_type": "code",
   "execution_count": 23,
   "outputs": [],
   "source": [
    "output_all = np.load(folder + '0_output.npy',allow_pickle='TRUE').item()\n",
    "# output = np.load(r\"out/geneRxnVerifData/output_glc.npy\", allow_pickle=True, encoding='ASCII').tolist()\n",
    "output = output_all['agents']['0']\n",
    "fba = output['listeners']['fba_results']\n",
    "mass = output['listeners']['mass']\n",
    "bulk = pl.DataFrame(output['bulk'])\n",
    "\n",
    "fluxes = np.array(fba['estimated_fluxes'][1:])\n",
    "exchanges = fba['estimated_exchange_dmdt']\n",
    "\n",
    "ans = output['listeners']['unique_molecule_counts']['active_ribosome']"
   ],
   "metadata": {
    "collapsed": false,
    "ExecuteTime": {
     "end_time": "2024-04-27T02:01:48.661107Z",
     "start_time": "2024-04-27T02:01:45.060171Z"
    }
   },
   "id": "8e2d462ad3851d2f"
  },
  {
   "cell_type": "code",
   "execution_count": 24,
   "outputs": [],
   "source": [
    "# So say I want to find the names of the proteins themselves, these are functions to implement that do so: \n",
    "initial_state = json.load(open('data/wcecoli_t0.json'))\n",
    "\n",
    "bulk_ids = [item[0] for item in initial_state['bulk']]\n",
    "\n",
    "bulk.columns = bulk_ids"
   ],
   "metadata": {
    "collapsed": false,
    "ExecuteTime": {
     "end_time": "2024-04-27T02:01:48.714877Z",
     "start_time": "2024-04-27T02:01:48.661557Z"
    }
   },
   "id": "fd500e9dd10df548"
  },
  {
   "cell_type": "code",
   "execution_count": 25,
   "outputs": [],
   "source": [
    "# take the protein [location] out of the name of the bulk ids: \n",
    "ecocyc_ids = []\n",
    "for id in bulk_ids: \n",
    "\tecocyc_ids.append(id[0:-3])\n",
    "\n",
    "ecocyc_id_idxs = []\n",
    "for i in range(len(ecocyc_ids)):\n",
    "\tecocyc_id_idxs.append(i)\n"
   ],
   "metadata": {
    "collapsed": false,
    "ExecuteTime": {
     "end_time": "2024-04-27T02:01:48.722447Z",
     "start_time": "2024-04-27T02:01:48.717318Z"
    }
   },
   "id": "ca0f5706c504e5ad"
  },
  {
   "cell_type": "code",
   "execution_count": 26,
   "outputs": [],
   "source": [
    "# combine the protein counts for each monomer (option 2): \n",
    "id_idx_dict = {id: i for i, id in enumerate(bulk_ids)}\n",
    "idx_id_dict = {idx: i for i, idx in id_idx_dict.items()}\n",
    "\n",
    "protein_ids = complex_ids + monomer_ids\n",
    "all_names = []\n",
    "name_groups = []\n",
    "idx_groups = []\n",
    "\n",
    "for p in protein_ids:\n",
    "\tif p not in all_names:\n",
    "\t\tindexes = [name for key, name in id_idx_dict.items() if p in key]\n",
    "\t\tfor idx in indexes:\n",
    "\t\t\tif ecocyc_ids[idx] == p:\n",
    "\t\t\t\tpass\n",
    "\t\t\telse:\n",
    "\t\t\t\tindexes.remove(idx)\n",
    "\t\tname_group = [idx_id_dict.get(name) for name in indexes]\n",
    "\t\tall_names.append(p)\n",
    "\t\tname_groups.append([name_group])\n",
    "\t\tidx_groups.append([indexes])"
   ],
   "metadata": {
    "collapsed": false,
    "ExecuteTime": {
     "end_time": "2024-04-27T02:02:14.536703Z",
     "start_time": "2024-04-27T02:02:12.479408Z"
    }
   },
   "id": "69debecfb928cf81"
  },
  {
   "cell_type": "code",
   "execution_count": 27,
   "outputs": [],
   "source": [
    "# fuse and collect protein counts of interest (in the C matrix): \n",
    "bulk_interest_protein_counts = np.zeros([bulk.shape[0], len(protein_ids)])\n",
    "bulk_PC_dict = {}\n",
    "\n",
    "for i in range(len(idx_groups)):\n",
    "\tid = protein_ids[i]\n",
    "\tidxs = idx_groups[i]\n",
    "\tif id in ecocyc_ids:\n",
    "\t\tif len(idxs) == 1:\n",
    "\t\t\tidx = idxs[0][0]\n",
    "\t\t\tdf = np.array(bulk.select(bulk_ids[idx]))\n",
    "\t\telse:\n",
    "\t\t\ttogether = []\n",
    "\t\t\tfor idx in idxs:\n",
    "\t\t\t\tindex = idx[0]\n",
    "\t\t\t\ttemp_df = np.array(bulk.select(bulk_ids[index]))\n",
    "\t\t\t\ttogether.append(temp_df)\n",
    "\t\t\tdf = np.sum(together, axis=1)\n",
    "\t\tprotein_counts = np.transpose(df)\n",
    "\t\tbulk_interest_protein_counts[:, i] = protein_counts\n",
    "\t\tbulk_PC_dict.update({id:idxs}) "
   ],
   "metadata": {
    "collapsed": false,
    "ExecuteTime": {
     "end_time": "2024-04-27T02:02:54.245013Z",
     "start_time": "2024-04-27T02:02:50.280177Z"
    }
   },
   "id": "cb1e5f28fc8266a"
  },
  {
   "cell_type": "code",
   "execution_count": 28,
   "outputs": [],
   "source": [
    "sim_protein_counts = bulk_interest_protein_counts @ Cmatrix"
   ],
   "metadata": {
    "collapsed": false,
    "ExecuteTime": {
     "end_time": "2024-04-27T02:03:16.739799Z",
     "start_time": "2024-04-27T02:03:16.694169Z"
    }
   },
   "id": "f107c7e1e6c52090"
  },
  {
   "cell_type": "code",
   "execution_count": 29,
   "outputs": [
    {
     "data": {
      "text/plain": "array([[128.,  55., 184., ..., 516.,  58.,  67.],\n       [128.,  55., 184., ..., 516.,  58.,  67.],\n       [128.,  55., 184., ..., 516.,  58.,  67.],\n       ...,\n       [206.,  55., 406., ..., 814.,  58.,  67.],\n       [206.,  55., 406., ..., 814.,  58.,  67.],\n       [206.,  55., 406., ..., 816.,  58.,  67.]])"
     },
     "execution_count": 29,
     "metadata": {},
     "output_type": "execute_result"
    }
   ],
   "source": [],
   "metadata": {
    "collapsed": false,
    "ExecuteTime": {
     "end_time": "2024-04-27T02:03:23.561847Z",
     "start_time": "2024-04-27T02:03:23.525720Z"
    }
   },
   "id": "1b9c6ef55a85816b"
  },
  {
   "cell_type": "code",
   "execution_count": null,
   "outputs": [],
   "source": [],
   "metadata": {
    "collapsed": false
   },
   "id": "4ca7e84730a71ba5"
  }
 ],
 "metadata": {
  "kernelspec": {
   "display_name": "Python 3",
   "language": "python",
   "name": "python3"
  },
  "language_info": {
   "codemirror_mode": {
    "name": "ipython",
    "version": 2
   },
   "file_extension": ".py",
   "mimetype": "text/x-python",
   "name": "python",
   "nbconvert_exporter": "python",
   "pygments_lexer": "ipython2",
   "version": "2.7.6"
  }
 },
 "nbformat": 4,
 "nbformat_minor": 5
}
