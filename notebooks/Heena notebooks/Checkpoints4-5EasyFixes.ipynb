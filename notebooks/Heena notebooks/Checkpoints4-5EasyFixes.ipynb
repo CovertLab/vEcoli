{
 "cells": [
  {
   "metadata": {},
   "cell_type": "markdown",
   "source": "# Adding Checkpoint 4 -5 Easy Fixes",
   "id": "4465bbbdde5c8331"
  },
  {
   "metadata": {},
   "cell_type": "markdown",
   "source": [
    "Description\n",
    " This script will use the basal simulation after cp4 and the implementation of microarray 2 as the base (which incorporates checkpoint 3 and microarray 1 too), and runs FBA externally to the model to see if model solves and see if there is growth (needs definition) and analyze gene usage. It will also implement some of the easy fixes that were identified in all checkpoint 5 and onward!\n",
    "\n",
    "Below are the specific easy gene fixes that were implemented in this notebook:\n",
    "<br>\n",
    "mtlA-EG10615, mmuP-G6135, panF-EG10685, frlA-EG12908, psuK-EG11646, shiA-G7067, thiK-G6566, gmd-EG11787, rhtB-EG11469, codB-EG11327, gltS-EG10406\n",
    "<br>\n",
    "\n",
    "See an upward trend in the gene usage (from 44.10% --> 45.87%) and new gene usage (from 32.89% --> 39.08%) from this new implementation.\n"
   ],
   "id": "3236c6c42df0f163"
  },
  {
   "cell_type": "code",
   "id": "initial_id",
   "metadata": {
    "collapsed": true,
    "ExecuteTime": {
     "end_time": "2025-08-19T22:46:00.182874Z",
     "start_time": "2025-08-19T22:45:57.677080Z"
    }
   },
   "source": [
    "from html.parser import interesting_normal\n",
    "\n",
    "import numpy as np\n",
    "import ast\n",
    "import pandas as pd\n",
    "import os\n",
    "import matplotlib.pyplot as plt\n",
    "import dill\n",
    "import requests\n",
    "import xmltodict\n",
    "import cvxpy as cp\n",
    "import itertools\n",
    "import networkx as nx\n",
    "import plotly.express as px\n",
    "\n",
    "from scipy.special import logsumexp\n",
    "\n",
    "%matplotlib inline\n",
    "# sns.set(style='dar|kgrid', palette='viridis', context='talk')\n",
    "\n",
    "os.chdir(os.path.expanduser('~/vEcoli')) #import repo\n",
    "\n",
    "from ecoli.processes.metabolism_redux_classic import NetworkFlowModel, FlowResult\n",
    "from ecoli.library.schema import numpy_schema, bulk_name_to_idx, listener_schema, counts\n",
    "from ecoli.processes.registries import topology_registry\n",
    "TOPOLOGY = topology_registry.access(\"ecoli-metabolism-redux\")\n",
    "import plotly.express as px"
   ],
   "outputs": [],
   "execution_count": 1
  },
  {
   "metadata": {
    "ExecuteTime": {
     "end_time": "2025-08-19T22:47:01.870259Z",
     "start_time": "2025-08-19T22:47:00.260842Z"
    }
   },
   "cell_type": "code",
   "source": [
    "# load checkpoint 2 model\n",
    "time = '400'\n",
    "date = '2025-05-15'\n",
    "experiment = 'NEW_NewGenes_checkpoint2'\n",
    "condition = 'basal'\n",
    "entry = f'{experiment}_{time}_{date}'\n",
    "folder = f'out/metabolism-comparison/{condition}/{entry}/'\n",
    "\n",
    "output = np.load(folder + '0_output.npy',allow_pickle='TRUE').item()\n",
    "# output = np.load(r\"out/geneRxnVerifData/output_glc.npy\", allow_pickle=True, encoding='ASCII').tolist()\n",
    "output = output['agents']['0']\n",
    "fba = output['listeners']['fba_results']\n",
    "bulk = pd.DataFrame(output['bulk'])\n",
    "f = open(folder + 'agent_steps.pkl', 'rb')\n",
    "agent = dill.load(f)\n",
    "f.close()"
   ],
   "id": "288fb1b43e98cb69",
   "outputs": [],
   "execution_count": 2
  },
  {
   "metadata": {
    "ExecuteTime": {
     "end_time": "2025-08-19T22:48:01.675737Z",
     "start_time": "2025-08-19T22:48:01.600044Z"
    }
   },
   "cell_type": "code",
   "source": [
    "# get commonly stored variables\n",
    "metabolism = agent['ecoli-metabolism-redux-classic']\n",
    "stoichiometry = metabolism.stoichiometry.copy()\n",
    "reaction_names = metabolism.reaction_names\n",
    "fba_new_reaction_ids = metabolism.parameters[\"fba_new_reaction_ids\"]\n",
    "fba_reaction_ids_to_base_reaction_ids = metabolism.parameters['fba_reaction_ids_to_base_reaction_ids']\n",
    "metabolites = metabolism.metabolite_names.copy()\n",
    "binary_kinetic_idx = metabolism.binary_kinetic_idx\n",
    "exchange_molecules = metabolism.exchange_molecules\n",
    "\n",
    "S = stoichiometry .copy()\n",
    "S = pd.DataFrame(S, index=metabolites , columns=reaction_names )\n",
    "homeostatic_count = pd.DataFrame(fba[\"homeostatic_metabolite_counts\"], columns=metabolism.homeostatic_metabolites).loc[24, :]\n",
    "homeostatic = pd.DataFrame(fba[\"target_homeostatic_dmdt\"], columns=metabolism.homeostatic_metabolites).loc[24, :]\n",
    "maintenance = pd.DataFrame(fba[\"maintenance_target\"][1:], columns=['maintenance_reaction']).iat[24, 0]\n",
    "kinetic = pd.DataFrame(fba[\"target_kinetic_fluxes\"], columns=metabolism.kinetic_constraint_reactions).loc[24, :].copy()"
   ],
   "id": "4f6e0bed32133329",
   "outputs": [],
   "execution_count": 3
  },
  {
   "metadata": {
    "ExecuteTime": {
     "end_time": "2025-08-19T22:48:01.701157Z",
     "start_time": "2025-08-19T22:48:01.698860Z"
    }
   },
   "cell_type": "code",
   "source": [
    "# parameters that are the same across the two simulation\n",
    "kinetic_reaction_ids = metabolism.kinetic_constraint_reactions\n",
    "allowed_exchange_uptake = metabolism.allowed_exchange_uptake\n",
    "FREE_RXNS = [\"TRANS-RXN-145\", \"TRANS-RXN0-545\", \"TRANS-RXN0-474\"]\n",
    "ADDED_RXNS = ['HS-TRANSPORT-RXN-CPD0-1202', 'HS-TRANSPORT-RXN-CPD0-1202 (reverse)',\n",
    "                   'HS-TRANSPORT-RXN[CCO-OUTER-MEM]-OXAMATE', 'HS-TRANSPORT-RXN[CCO-OUTER-MEM]-OXAMATE (reverse)',\n",
    "                   'HS-TRANSPORT-RXN[CCO-PM-BAC-NEG]-OXAMATE', 'HS-TRANSPORT-RXN[CCO-PM-BAC-NEG]-OXAMATE (reverse)',\n",
    "                   'HS-BETA-GLUCURONID-RXN_CPD-3611//METOH', 'HS-SPONTANEOUS-TRANSPORT[CCO-OUTER-MEM]-HCN', 'HS-SPONTANEOUS-TRANSPORT[CCO-OUTER-MEM]-HCN (reverse)',\n",
    "                   'HS-SPONTANEOUS-TRANSPORT[CCO-PM-BAC-NEG]-HCN','HS-SPONTANEOUS-TRANSPORT[CCO-PM-BAC-NEG]-HCN (reverse)']"
   ],
   "id": "d3b7d3d8962f297e",
   "outputs": [],
   "execution_count": 4
  },
  {
   "metadata": {},
   "cell_type": "markdown",
   "source": "# Define Functions",
   "id": "1093124a21bd1196"
  },
  {
   "metadata": {
    "ExecuteTime": {
     "end_time": "2025-08-19T22:48:01.726190Z",
     "start_time": "2025-08-19T22:48:01.717149Z"
    }
   },
   "cell_type": "code",
   "source": [
    "def get_subset_S(S, met_of_interest):\n",
    "    S_met = S.loc[met_of_interest, :]\n",
    "    S_met = S_met.loc[:,~np.all(S_met == 0, axis=0)]\n",
    "    return S_met, S_met.columns\n",
    "\n",
    "def get_keys(dict, value):\n",
    "    return [key for key in dict if dict[key] == value]\n",
    "\n",
    "def test_NetworkFlowModel(objective_weights,\n",
    "                          uptake_addition = set([]), uptake_removal = set([]), new_exchange_molecules = set([]),\n",
    "                          add_metabolite = None, add_homeostatic_demand = None, add_reaction = None, add_kinetic = None, remove_reaction = None, force_reaction = None):\n",
    "    # update exchanges\n",
    "    uptake = metabolism.allowed_exchange_uptake.copy()\n",
    "    uptake = set(uptake)\n",
    "    uptake = uptake | uptake_addition\n",
    "    uptake = uptake - uptake_removal\n",
    "\n",
    "    exchange_molecules = metabolism.exchange_molecules.copy()\n",
    "    exchange_molecules = exchange_molecules | new_exchange_molecules\n",
    "\n",
    "    # update stoichiometry\n",
    "    reaction_names = metabolism.reaction_names.copy()\n",
    "    kinetic_reaction_ids = metabolism.kinetic_constraint_reactions.copy()\n",
    "    kinetic = pd.DataFrame(fba[\"target_kinetic_fluxes\"], columns=metabolism.kinetic_constraint_reactions).loc[24, :].copy()\n",
    "    metabolites = metabolism.metabolite_names.copy()\n",
    "    homeostatic = pd.DataFrame(fba[\"target_homeostatic_dmdt\"], columns=metabolism.homeostatic_metabolites).loc[24, :].copy()\n",
    "    homeostatic_counts = homeostatic_count.copy() * metabolism.counts_to_molar.asNumber()\n",
    "\n",
    "    S_new = stoichiometry.copy()\n",
    "\n",
    "    if add_metabolite is not None: # add to metabolites list because they are currently not included in the model\n",
    "        for m in add_metabolite:\n",
    "            if m not in metabolites:\n",
    "                metabolites.append(m)\n",
    "        # append rows of zeros to S_new of length add_metabolite\n",
    "        S_new = np.concatenate((S_new, np.zeros((len(add_metabolite), S_new.shape[1]))), axis=0)\n",
    "\n",
    "    if add_reaction is not None:\n",
    "        # assert add_reaction is a dictionary\n",
    "        assert isinstance(add_reaction, dict)\n",
    "\n",
    "        for r,s in add_reaction.items():\n",
    "            if r not in reaction_names:\n",
    "                reaction_names.append(r)\n",
    "            # append columns of reaction stoich to S_new of length add_reaction\n",
    "            new_reaction = np.zeros((S_new.shape[0], 1))\n",
    "            for m, v in s.items():\n",
    "                new_reaction[metabolites.index(m), 0] = v\n",
    "            S_new = np.concatenate((S_new, new_reaction), axis=1)\n",
    "\n",
    "    if add_kinetic is not None:\n",
    "        # assert add_kinetic is a dictionary\n",
    "        assert isinstance(add_kinetic, dict)\n",
    "\n",
    "        for r, v in add_kinetic.items():\n",
    "            if r not in kinetic_reaction_ids:\n",
    "                kinetic_reaction_ids.append(r)\n",
    "                kinetic[r] = v\n",
    "\n",
    "    if remove_reaction is not None:\n",
    "        for r in remove_reaction:\n",
    "            r_idx = reaction_names.index(r)\n",
    "            S_new = np.delete(S_new, r_idx, axis=1)\n",
    "            reaction_names.remove(r)\n",
    "            if r in kinetic_reaction_ids:\n",
    "                kinetic_reaction_ids.remove(r)\n",
    "                del kinetic[r]\n",
    "\n",
    "    if force_reaction is not None:\n",
    "        force_reaction_idx = np.array([reaction_names.index(r) for r in force_reaction])\n",
    "    else:\n",
    "        force_reaction_idx = force_reaction\n",
    "\n",
    "    if add_homeostatic_demand is not None:\n",
    "        # assert add_homeostatic_demand is a set\n",
    "        assert isinstance(add_homeostatic_demand, list)\n",
    "\n",
    "        for met in add_homeostatic_demand:\n",
    "            homeostatic[met] = 100\n",
    "            homeostatic_counts[met] = 1\n",
    "\n",
    "    # Solve NetworkFlowModel\n",
    "    model = NetworkFlowModel(\n",
    "            stoich_arr=S_new,\n",
    "            metabolites=metabolites,\n",
    "            reactions=reaction_names,\n",
    "            homeostatic_metabolites=list(dict(homeostatic).keys()),\n",
    "            kinetic_reactions=kinetic_reaction_ids,\n",
    "            free_reactions=FREE_RXNS)\n",
    "    model.set_up_exchanges(exchanges=exchange_molecules, uptakes=uptake)\n",
    "    solution: FlowResult = model.solve(\n",
    "            homeostatic_concs=homeostatic_counts, # in conc\n",
    "            homeostatic_dm_targets=np.array(list(dict(homeostatic).values())), # *10^7\n",
    "            maintenance_target=maintenance, # *10^6 ish\n",
    "            kinetic_targets=np.array(list(dict(kinetic).values())), # *10^6 ish\n",
    "            # binary_kinetic_idx=binary_kinetic_idx, #7646\n",
    "            binary_kinetic_idx=None,\n",
    "            force_flow_idx=force_reaction_idx,\n",
    "            objective_weights=objective_weights, #same\n",
    "            upper_flux_bound= 1000000000, # increase to 10^9 because notebook runs FlowResult using Counts, WC runs using conc.\n",
    "            solver=cp.GLOP) #SCS. ECOS, MOSEK\n",
    "    return solution.objective, solution.velocities, reaction_names, S_new, metabolites, kinetic"
   ],
   "id": "22258a664c16cad1",
   "outputs": [],
   "execution_count": 5
  },
  {
   "metadata": {},
   "cell_type": "markdown",
   "source": "# Create DataFrames to Store Results",
   "id": "e5877c653c46fc0f"
  },
  {
   "metadata": {
    "ExecuteTime": {
     "end_time": "2025-08-19T22:48:02.012671Z",
     "start_time": "2025-08-19T22:48:01.749053Z"
    }
   },
   "cell_type": "code",
   "source": [
    "# all reactions\n",
    "sim = pd.DataFrame(fba[\"estimated_fluxes\"], columns= reaction_names).mean(axis=0).copy()\n",
    "# kinetic reactions\n",
    "kc_target_cp2 = pd.DataFrame(fba[\"target_kinetic_fluxes\"], columns= kinetic_reaction_ids).mean(axis=0).copy()"
   ],
   "id": "fe6d6513af8f134b",
   "outputs": [],
   "execution_count": 6
  },
  {
   "metadata": {
    "ExecuteTime": {
     "end_time": "2025-08-19T22:48:02.024662Z",
     "start_time": "2025-08-19T22:48:02.022123Z"
    }
   },
   "cell_type": "code",
   "source": [
    "#accumulating the simulations\n",
    "df_all = sim.copy()\n",
    "df_all.columns = ['sim_cp2_basal']"
   ],
   "id": "c22040d0990f00a5",
   "outputs": [],
   "execution_count": 7
  },
  {
   "metadata": {},
   "cell_type": "markdown",
   "source": "## Implement Checkpoints 5 (including some from checkpoint 3 that were not added) Easy Fixes",
   "id": "51bc111f91155e0f"
  },
  {
   "metadata": {
    "ExecuteTime": {
     "end_time": "2025-08-19T22:48:02.082016Z",
     "start_time": "2025-08-19T22:48:02.070511Z"
    }
   },
   "cell_type": "code",
   "source": [
    "#checkpoint conditions added that were easy fixes\n",
    "conditions = {\n",
    "     'EG10615-D-Mannitol and D-Sorbitol':{\n",
    "        'Add': set(['MANNITOL[e]', 'SORBITOL[e]']),\n",
    "        'Remove': set([]),\n",
    "        'Add Demand': None,\n",
    "    },\n",
    "    'G6135-S-methyl-L-methionine':{\n",
    "        'Add': set(['CPD-397[e]']),\n",
    "        'Remove': set([]),\n",
    "        'Add Demand': None,\n",
    "    },\n",
    "    'EG10685-(R)-pantothenate':{\n",
    "        'Add': set(['PANTOTHENATE[p]']),\n",
    "        'Remove': set([]),\n",
    "        'Add Demand': None,\n",
    "    },\n",
    "    'EG12908-N6-(D-psicosyl)-L-lysine and N6-(1-deoxy-D-fructos-1-yl)-L-lysine':{\n",
    "        'Add': set(['PSICOSELYSINE[c]', 'FRUCTOSELYSINE[c]']),\n",
    "        'Remove': set([]),\n",
    "        'Add Demand': None,\n",
    "    },\n",
    "    'EG11646-pseudouridine':{\n",
    "        'Add': set(['CPD-497[e]']),\n",
    "        'Remove': set([]),\n",
    "        'Add Demand': None,\n",
    "    },\n",
    "    'G7067-shikimate':{\n",
    "        'Add': set(['SHIKIMATE[e]']),\n",
    "        'Remove': set([]),\n",
    "        'Add Demand': None,\n",
    "\n",
    "    },\n",
    "    'G6566-thiamine':{\n",
    "        'Add': set(['THIAMINE[e]']),\n",
    "        'Remove': set([]),\n",
    "        'Add Demand': None,\n",
    "    },\n",
    "    'EG11787-4,6-pyr-α-D-Gal-(1→4)-β-D-GlcA-(1→3)-2-O-Ac-α-D-Gal-(1→3)-α-L-Fuc-(1→4)-3-O-Ac-α-L-Fuc-(1→3)-α-D-Glc-PP-Und':{\n",
    "        'Add': set([]),\n",
    "        'Remove': set([]),\n",
    "        'Add Demand': ['CPD-24196[e]'],\n",
    "    },\n",
    "    'EG11469-L-homoserine lactone':{\n",
    "        'Add': set([]),\n",
    "        'Remove': set([]),\n",
    "        'Add Demand': ['CPD-15554[e]'],\n",
    "    },\n",
    "    'EG11327-cytosine':{\n",
    "        'Add': set(['CYTOSINE[e]']),\n",
    "        'Remove': set([]),\n",
    "        'Add Demand': None,\n",
    "    },\n",
    "    'EG10406-L-glutamate':{\n",
    "        'Add': set(['GLT[p]']),\n",
    "        'Remove': set(['GLC[p]']),\n",
    "        'Remove Reaction': ['TRANS-RXN-261', 'TRANS-RXN-162'],\n",
    "        'Add Demand': None,\n",
    "    },\n",
    "\n",
    "}\n"
   ],
   "id": "36167680262bd403",
   "outputs": [],
   "execution_count": 8
  },
  {
   "metadata": {
    "ExecuteTime": {
     "end_time": "2025-08-19T22:48:06.215010Z",
     "start_time": "2025-08-19T22:48:02.128994Z"
    }
   },
   "cell_type": "code",
   "source": [
    "#add all of the conditions from above into the df_all\n",
    "condition_names = []\n",
    "for condition_name, condition in conditions.items():\n",
    "    \n",
    "    if 'Remove Reaction' in condition:\n",
    "        remove_reaction = condition['Remove Reaction']\n",
    "    else:\n",
    "        remove_reaction = None\n",
    "\n",
    "    \n",
    "    objective_weights = {'secretion': 0.01, 'efficiency': 0.000001, 'kinetics': 0.000001}\n",
    "    \n",
    "    _, solution_flux, test_reaction_names, S_new, test_metabolites, test_kinetic = test_NetworkFlowModel(\n",
    "                                        objective_weights, uptake_addition=condition['Add'],\n",
    "                                        uptake_removal=condition['Remove'], add_homeostatic_demand=condition['Add Demand'],\n",
    "                                        remove_reaction=remove_reaction,\n",
    "\n",
    "    )    \n",
    "    \n",
    "    # get the fluxes\n",
    "    sim_flux = pd.DataFrame({f'sim_cp5+_{condition_name}': solution_flux}, index = test_reaction_names)\n",
    "    condition_names.append(f'sim_cp5+_{condition_name}')\n",
    "    df_all = pd.concat([df_all, sim_flux], axis=1)\n",
    "    \n",
    "    print(f\"\"\"Finished enviornment: {condition_name}\"\"\")"
   ],
   "id": "3bed9832c74ec36a",
   "outputs": [
    {
     "name": "stdout",
     "output_type": "stream",
     "text": [
      "Finished enviornment: EG10615-D-Mannitol and D-Sorbitol\n",
      "Finished enviornment: G6135-S-methyl-L-methionine\n",
      "Finished enviornment: EG10685-(R)-pantothenate\n",
      "Finished enviornment: EG12908-N6-(D-psicosyl)-L-lysine and N6-(1-deoxy-D-fructos-1-yl)-L-lysine\n",
      "Finished enviornment: EG11646-pseudouridine\n",
      "Finished enviornment: G7067-shikimate\n",
      "Finished enviornment: G6566-thiamine\n",
      "Finished enviornment: EG11787-4,6-pyr-α-D-Gal-(1→4)-β-D-GlcA-(1→3)-2-O-Ac-α-D-Gal-(1→3)-α-L-Fuc-(1→4)-3-O-Ac-α-L-Fuc-(1→3)-α-D-Glc-PP-Und\n",
      "Finished enviornment: EG11469-L-homoserine lactone\n",
      "Finished enviornment: EG11327-cytosine\n",
      "Finished enviornment: EG10406-L-glutamate\n"
     ]
    }
   ],
   "execution_count": 9
  },
  {
   "metadata": {
    "ExecuteTime": {
     "end_time": "2025-08-19T22:48:06.259775Z",
     "start_time": "2025-08-19T22:48:06.244037Z"
    }
   },
   "cell_type": "code",
   "source": [
    "df_all['is_new'] = 'Old Reactions'\n",
    "df_all.loc[fba_new_reaction_ids, 'is_new'] = 'New Reactions'\n",
    "df_all.loc[ADDED_RXNS, 'is_new'] = 'Heena\\'s Reactions'\n",
    "\n",
    "df_all['kinetic'] = [kinetic[r] if r in kinetic_reaction_ids else False for r in df_all.index]\n"
   ],
   "id": "26ef288184ed88fe",
   "outputs": [],
   "execution_count": 10
  },
  {
   "metadata": {},
   "cell_type": "markdown",
   "source": "# Calculate % Gene Usage with Checkpoint 5 and Microarray 3 and 4",
   "id": "b3f0bc8eb01d0038"
  },
  {
   "metadata": {
    "ExecuteTime": {
     "end_time": "2025-08-19T22:48:57.577271Z",
     "start_time": "2025-08-19T22:48:57.562690Z"
    }
   },
   "cell_type": "code",
   "source": "%store -r df_gene_usage genes_to_enzymes df_all_gene_usage new_genes df_all_gene_usage_cp4_w_cp3 df_all_gene_usage_microarray3",
   "id": "a3b6d1d109f9e5b2",
   "outputs": [],
   "execution_count": 13
  },
  {
   "metadata": {
    "ExecuteTime": {
     "end_time": "2025-08-19T22:49:39.770360Z",
     "start_time": "2025-08-19T22:49:39.540681Z"
    }
   },
   "cell_type": "code",
   "source": [
    "# add checkpoint 5 to microarray 3 and 4\n",
    "df_all_gene_usage_cp5_w_m3 = df_all_gene_usage_microarray3.copy()\n",
    "reaction_catalysts = metabolism.parameters[\"reaction_catalysts\"]\n",
    "conditions_previous = ['basal', 'acetate', 'rich', 'anaerobic_basal', 'anaerobic_acetate', 'anaerobic_rich']\n",
    "conditions_all = conditions_previous + condition_names\n",
    "conditions_all = conditions_all + condition_names\n",
    "\n",
    "for condition in condition_names:\n",
    "    df_all_gene_usage_cp5_w_m3[condition] = 0\n",
    "    new_reaction_usage = df_all.loc[fba_new_reaction_ids, condition]\n",
    "    for rxn in fba_new_reaction_ids:\n",
    "        is_used = new_reaction_usage.loc[rxn]\n",
    "        enzymes = reaction_catalysts.get(rxn,[])\n",
    "        for enz in enzymes:\n",
    "            enz = enz[:-3]\n",
    "            genes = get_keys(genes_to_enzymes, enz)\n",
    "            for gene in genes:\n",
    "                if is_used:\n",
    "                    df_all_gene_usage_cp5_w_m3.loc[gene, condition] += 1\n",
    "                if rxn in kinetic_reaction_ids:\n",
    "                    df_all_gene_usage_cp5_w_m3.loc[gene, 'has_kinetic'] = True\n",
    "\n",
    "\n",
    "# tally usage\n",
    "df_all_gene_usage_cp5_w_m3['is_used'] = np.any(df_all_gene_usage_cp5_w_m3[conditions_all] > 0, axis=1)\n",
    "df_gene_usage_cp5_w_m3 = df_all_gene_usage_cp5_w_m3.loc[new_genes,:]"
   ],
   "id": "56d64c23ec689fa5",
   "outputs": [],
   "execution_count": 16
  },
  {
   "metadata": {
    "ExecuteTime": {
     "end_time": "2025-08-19T22:49:41.234559Z",
     "start_time": "2025-08-19T22:49:41.209118Z"
    }
   },
   "cell_type": "code",
   "source": "%store -r df_all_gene_usage df_all_gene_usage_cp1 df_all_gene_usage_cp2 df_all_gene_usage_cp3_w_cp2 all_gene_usage_cp4_w_microarray2 new_gene_usage_cp4_w_microarray2 new_gene_usage_cp4_w_microarray3 all_gene_usage_cp4_w_microarray3",
   "id": "adef1a0161c1e81e",
   "outputs": [],
   "execution_count": 17
  },
  {
   "metadata": {
    "ExecuteTime": {
     "end_time": "2025-08-19T22:52:28.609916Z",
     "start_time": "2025-08-19T22:52:28.596041Z"
    }
   },
   "cell_type": "code",
   "source": [
    "\n",
    "df_all_gene_usage = df_all_gene_usage.copy()\n",
    "\n",
    "gene_used_before = df_gene_usage['is_used']\n",
    "all_gene_used_before = df_all_gene_usage['is_used']\n",
    "num_genes = len(gene_used_before)\n",
    "\n",
    "perc_gene_usage_prev = sum(gene_used_before)/num_genes\n",
    "all_gene_usage_cp5_w_microarray3 = all_gene_usage_cp4_w_microarray3 | df_gene_usage_cp5_w_m3['is_used'] | all_gene_usage_cp4_w_microarray2\n",
    "new_gene_usage_cp5_w_microarray3 = all_gene_usage_cp5_w_microarray3[new_genes]\n",
    "\n",
    "perc_gene_usage_all_cp5= sum(all_gene_usage_cp5_w_microarray3)/len(all_gene_usage_cp5_w_microarray3)\n",
    "perc_gene_usage_new_cp5  = sum(all_gene_usage_cp5_w_microarray3.loc[new_genes])/num_genes\n",
    "\n",
    "print(f'% new genes usage before checkpoint 1 and 2 are: {perc_gene_usage_prev: 0.2%}')\n",
    "print(f'% new genes usage at checkpoint 5 are: {perc_gene_usage_new_cp5: 0.2%}')\n",
    "print(f'% all genes usage at checkpoint 5 with microarray 3 and 4 are: {perc_gene_usage_all_cp5: 0.2%}')"
   ],
   "id": "5f95dcb9360c38df",
   "outputs": [
    {
     "name": "stdout",
     "output_type": "stream",
     "text": [
      "% new genes usage before checkpoint 1 and 2 are:  4.56%\n",
      "% new genes usage at checkpoint 5 are:  39.09%\n",
      "% all genes usage at checkpoint 5 with microarray 3 and 4 are:  45.63%\n"
     ]
    }
   ],
   "execution_count": 23
  },
  {
   "metadata": {
    "ExecuteTime": {
     "end_time": "2025-08-19T22:52:31.038877Z",
     "start_time": "2025-08-19T22:52:31.030058Z"
    }
   },
   "cell_type": "code",
   "source": "all_gene_usage_cp5_w_microarray3",
   "id": "1684e7d32c011fc",
   "outputs": [
    {
     "data": {
      "text/plain": [
       "Gene ID (EcoCyc)\n",
       "EG10001     True\n",
       "EG10002    False\n",
       "EG10004     True\n",
       "EG10006     True\n",
       "EG10007    False\n",
       "           ...  \n",
       "M011        True\n",
       "M012        True\n",
       "M013       False\n",
       "M014        True\n",
       "M015        True\n",
       "Name: is_used, Length: 1247, dtype: bool"
      ]
     },
     "execution_count": 24,
     "metadata": {},
     "output_type": "execute_result"
    }
   ],
   "execution_count": 24
  },
  {
   "metadata": {
    "ExecuteTime": {
     "end_time": "2025-08-19T22:52:31.769421Z",
     "start_time": "2025-08-19T22:52:31.764923Z"
    }
   },
   "cell_type": "code",
   "source": [
    "ids_to_check = [\n",
    "    \"EG11557\", \"EG11559\", \"EG11560\", \"EG11561\", \"EG11787\", \"EG11788\", \"EG10144\",\n",
    "    \"EG10140\", \"EG10141\", \"EG10142\", \"G7096\", \"G7097\", \"G7099\", \"G7100\", \"G7102\",\n",
    "    \"G7103\", \"G7104\", \"EG10177\", \"EG10175\", \"EG10160\", \"EG11327\", \"EG11871\",\n",
    "    \"EG11104\", \"EG11469\", \"EG10556\", \"EG12495\", \"G7855\", \"EG10522\", \"EG11869\",\n",
    "    \"EG20051\", \"EG20053\", \"GB4478\", \"EG10592\", \"EG11700\", \"EG12281\", \"EG10401\",\n",
    "    \"EG10406\", \"EG12282\", \"EG12283\", \"EG12494\", \"G7856\", \"EG12522\", \"EG10615\",\n",
    "    \"G6135\", \"EG10685\", \"EG12908\", \"EG11646\", \"G6518\", \"G7067\", \"G6347\",\n",
    "    \"EG10953\", \"EG10954\", \"G6217\", \"G6218\", \"G6566\", \"EG11574\", \"G6219\",\n",
    "    \"EG11573\", \"EG11572\", \"EG11787\",\"EG10126\",\"EG10127\", \"EG10128\",\"EG10130\",\"EG10271\",\"EG10272\",\n",
    "    \"EG11012\"\n",
    "]\n",
    "all_gene_usage_cp5_w_microarray3.loc[ids_to_check]"
   ],
   "id": "ca7c5e341cfde8d",
   "outputs": [
    {
     "data": {
      "text/plain": [
       "Gene ID (EcoCyc)\n",
       "EG11557    False\n",
       "EG11559    False\n",
       "EG11560    False\n",
       "EG11561    False\n",
       "EG11787     True\n",
       "           ...  \n",
       "EG10128    False\n",
       "EG10130    False\n",
       "EG10271    False\n",
       "EG10272    False\n",
       "EG11012    False\n",
       "Name: is_used, Length: 67, dtype: bool"
      ]
     },
     "execution_count": 25,
     "metadata": {},
     "output_type": "execute_result"
    }
   ],
   "execution_count": 25
  },
  {
   "metadata": {
    "ExecuteTime": {
     "end_time": "2025-08-19T22:52:31.976741Z",
     "start_time": "2025-08-19T22:52:31.970638Z"
    }
   },
   "cell_type": "code",
   "source": [
    "#all of the genes that were shaded green expected to resolve\n",
    "ids_to_check = [\n",
    "    \"EG11557\", \"EG11559\", \"EG11560\", \"EG11561\", \"EG11787\", \"EG11788\", \"EG10144\",\n",
    "    \"EG10140\", \"EG10141\", \"EG10142\", \"G7096\", \"G7097\", \"G7099\", \"G7100\", \"G7102\",\n",
    "    \"G7103\", \"G7104\", \"EG10177\", \"EG10175\", \"EG10160\", \"EG11327\", \"EG11871\",\n",
    "    \"EG11104\", \"EG11469\", \"EG10556\", \"EG12495\", \"G7855\", \"EG10522\", \"EG11869\",\n",
    "    \"EG20051\", \"EG20053\", \"GB4478\", \"EG10592\", \"EG11700\", \"EG12281\", \"EG10401\",\n",
    "    \"EG10406\", \"EG12282\", \"EG12283\", \"EG12494\", \"G7856\", \"EG12522\", \"EG10615\",\n",
    "    \"G6135\", \"EG10685\", \"EG12908\", \"EG11646\", \"G6518\", \"G7067\", \"G6347\",\n",
    "    \"EG10953\", \"EG10954\", \"G6217\", \"G6218\", \"G6566\", \"EG11574\", \"G6219\",\n",
    "    \"EG11573\", \"EG11572\", \"EG11787\",\"EG10126\",\"EG10127\", \"EG10128\",\"EG10130\",\"EG10271\",\"EG10272\",\n",
    "    \"EG11012\"\n",
    "]\n",
    "column_name = \"Gene ID (EcoCyc)\"\n",
    "\n",
    "matches_df = all_gene_usage_cp5_w_microarray3[all_gene_usage_cp5_w_microarray3.index.isin(ids_to_check)] #extract the one of interset\n",
    "\n",
    "print(f\"Found {len(matches_df)} matches:\")\n",
    "print(matches_df)"
   ],
   "id": "5f4ab9d42b9a96f5",
   "outputs": [
    {
     "name": "stdout",
     "output_type": "stream",
     "text": [
      "Found 66 matches:\n",
      "Gene ID (EcoCyc)\n",
      "EG10126    False\n",
      "EG10127    False\n",
      "EG10128    False\n",
      "EG10130    False\n",
      "EG10140     True\n",
      "           ...  \n",
      "G7103       True\n",
      "G7104       True\n",
      "G7855       True\n",
      "G7856       True\n",
      "GB4478      True\n",
      "Name: is_used, Length: 66, dtype: bool\n"
     ]
    }
   ],
   "execution_count": 26
  },
  {
   "metadata": {
    "ExecuteTime": {
     "end_time": "2025-08-19T22:52:32.169572Z",
     "start_time": "2025-08-19T22:52:32.166919Z"
    }
   },
   "cell_type": "code",
   "source": "matches_df[matches_df] #ones that are true",
   "id": "62a0fbaec926f204",
   "outputs": [
    {
     "data": {
      "text/plain": [
       "Gene ID (EcoCyc)\n",
       "EG10140    True\n",
       "EG10141    True\n",
       "EG10142    True\n",
       "EG10144    True\n",
       "EG10160    True\n",
       "EG10175    True\n",
       "EG10177    True\n",
       "EG10401    True\n",
       "EG10406    True\n",
       "EG10522    True\n",
       "EG10556    True\n",
       "EG10615    True\n",
       "EG10685    True\n",
       "EG11327    True\n",
       "EG11469    True\n",
       "EG11572    True\n",
       "EG11573    True\n",
       "EG11574    True\n",
       "EG11646    True\n",
       "EG11700    True\n",
       "EG11787    True\n",
       "EG11788    True\n",
       "EG11869    True\n",
       "EG11871    True\n",
       "EG12494    True\n",
       "EG12495    True\n",
       "EG12522    True\n",
       "EG20051    True\n",
       "EG20053    True\n",
       "G6135      True\n",
       "G6217      True\n",
       "G6218      True\n",
       "G6219      True\n",
       "G6518      True\n",
       "G6566      True\n",
       "G7067      True\n",
       "G7096      True\n",
       "G7097      True\n",
       "G7099      True\n",
       "G7100      True\n",
       "G7102      True\n",
       "G7103      True\n",
       "G7104      True\n",
       "G7855      True\n",
       "G7856      True\n",
       "GB4478     True\n",
       "Name: is_used, dtype: bool"
      ]
     },
     "execution_count": 27,
     "metadata": {},
     "output_type": "execute_result"
    }
   ],
   "execution_count": 27
  },
  {
   "metadata": {
    "ExecuteTime": {
     "end_time": "2025-08-19T22:52:32.351378Z",
     "start_time": "2025-08-19T22:52:32.346689Z"
    }
   },
   "cell_type": "code",
   "source": [
    "df_diff = new_gene_usage_cp5_w_microarray3.compare(new_gene_usage_cp4_w_microarray2) #to see new genes used overall between checkpoints\n",
    "df_diff"
   ],
   "id": "550b5d67d9e7fd16",
   "outputs": [
    {
     "data": {
      "text/plain": [
       "                  self  other\n",
       "Gene ID (EcoCyc)             \n",
       "EG11327           True  False\n",
       "EG10160           True  False\n",
       "EG10175           True  False\n",
       "EG10177           True  False\n",
       "EG11788           True  False\n",
       "EG11787           True  False\n",
       "EG11871           True  False\n",
       "G6135             True  False\n",
       "EG10685           True  False\n",
       "EG11646           True  False\n",
       "EG11469           True  False\n",
       "G6518             True  False\n",
       "G7067             True  False\n",
       "G6217             True  False\n",
       "G6218             True  False\n",
       "G6219             True  False\n",
       "EG11574           True  False\n",
       "G6566             True  False\n",
       "EG11573           True  False\n",
       "EG11572           True  False\n",
       "G7104             True  False\n",
       "G7103             True  False\n",
       "G7102             True  False\n",
       "G7100             True  False\n",
       "G7099             True  False\n",
       "G7096             True  False\n",
       "G7097             True  False"
      ],
      "text/html": [
       "<div>\n",
       "<style scoped>\n",
       "    .dataframe tbody tr th:only-of-type {\n",
       "        vertical-align: middle;\n",
       "    }\n",
       "\n",
       "    .dataframe tbody tr th {\n",
       "        vertical-align: top;\n",
       "    }\n",
       "\n",
       "    .dataframe thead th {\n",
       "        text-align: right;\n",
       "    }\n",
       "</style>\n",
       "<table border=\"1\" class=\"dataframe\">\n",
       "  <thead>\n",
       "    <tr style=\"text-align: right;\">\n",
       "      <th></th>\n",
       "      <th>self</th>\n",
       "      <th>other</th>\n",
       "    </tr>\n",
       "    <tr>\n",
       "      <th>Gene ID (EcoCyc)</th>\n",
       "      <th></th>\n",
       "      <th></th>\n",
       "    </tr>\n",
       "  </thead>\n",
       "  <tbody>\n",
       "    <tr>\n",
       "      <th>EG11327</th>\n",
       "      <td>True</td>\n",
       "      <td>False</td>\n",
       "    </tr>\n",
       "    <tr>\n",
       "      <th>EG10160</th>\n",
       "      <td>True</td>\n",
       "      <td>False</td>\n",
       "    </tr>\n",
       "    <tr>\n",
       "      <th>EG10175</th>\n",
       "      <td>True</td>\n",
       "      <td>False</td>\n",
       "    </tr>\n",
       "    <tr>\n",
       "      <th>EG10177</th>\n",
       "      <td>True</td>\n",
       "      <td>False</td>\n",
       "    </tr>\n",
       "    <tr>\n",
       "      <th>EG11788</th>\n",
       "      <td>True</td>\n",
       "      <td>False</td>\n",
       "    </tr>\n",
       "    <tr>\n",
       "      <th>EG11787</th>\n",
       "      <td>True</td>\n",
       "      <td>False</td>\n",
       "    </tr>\n",
       "    <tr>\n",
       "      <th>EG11871</th>\n",
       "      <td>True</td>\n",
       "      <td>False</td>\n",
       "    </tr>\n",
       "    <tr>\n",
       "      <th>G6135</th>\n",
       "      <td>True</td>\n",
       "      <td>False</td>\n",
       "    </tr>\n",
       "    <tr>\n",
       "      <th>EG10685</th>\n",
       "      <td>True</td>\n",
       "      <td>False</td>\n",
       "    </tr>\n",
       "    <tr>\n",
       "      <th>EG11646</th>\n",
       "      <td>True</td>\n",
       "      <td>False</td>\n",
       "    </tr>\n",
       "    <tr>\n",
       "      <th>EG11469</th>\n",
       "      <td>True</td>\n",
       "      <td>False</td>\n",
       "    </tr>\n",
       "    <tr>\n",
       "      <th>G6518</th>\n",
       "      <td>True</td>\n",
       "      <td>False</td>\n",
       "    </tr>\n",
       "    <tr>\n",
       "      <th>G7067</th>\n",
       "      <td>True</td>\n",
       "      <td>False</td>\n",
       "    </tr>\n",
       "    <tr>\n",
       "      <th>G6217</th>\n",
       "      <td>True</td>\n",
       "      <td>False</td>\n",
       "    </tr>\n",
       "    <tr>\n",
       "      <th>G6218</th>\n",
       "      <td>True</td>\n",
       "      <td>False</td>\n",
       "    </tr>\n",
       "    <tr>\n",
       "      <th>G6219</th>\n",
       "      <td>True</td>\n",
       "      <td>False</td>\n",
       "    </tr>\n",
       "    <tr>\n",
       "      <th>EG11574</th>\n",
       "      <td>True</td>\n",
       "      <td>False</td>\n",
       "    </tr>\n",
       "    <tr>\n",
       "      <th>G6566</th>\n",
       "      <td>True</td>\n",
       "      <td>False</td>\n",
       "    </tr>\n",
       "    <tr>\n",
       "      <th>EG11573</th>\n",
       "      <td>True</td>\n",
       "      <td>False</td>\n",
       "    </tr>\n",
       "    <tr>\n",
       "      <th>EG11572</th>\n",
       "      <td>True</td>\n",
       "      <td>False</td>\n",
       "    </tr>\n",
       "    <tr>\n",
       "      <th>G7104</th>\n",
       "      <td>True</td>\n",
       "      <td>False</td>\n",
       "    </tr>\n",
       "    <tr>\n",
       "      <th>G7103</th>\n",
       "      <td>True</td>\n",
       "      <td>False</td>\n",
       "    </tr>\n",
       "    <tr>\n",
       "      <th>G7102</th>\n",
       "      <td>True</td>\n",
       "      <td>False</td>\n",
       "    </tr>\n",
       "    <tr>\n",
       "      <th>G7100</th>\n",
       "      <td>True</td>\n",
       "      <td>False</td>\n",
       "    </tr>\n",
       "    <tr>\n",
       "      <th>G7099</th>\n",
       "      <td>True</td>\n",
       "      <td>False</td>\n",
       "    </tr>\n",
       "    <tr>\n",
       "      <th>G7096</th>\n",
       "      <td>True</td>\n",
       "      <td>False</td>\n",
       "    </tr>\n",
       "    <tr>\n",
       "      <th>G7097</th>\n",
       "      <td>True</td>\n",
       "      <td>False</td>\n",
       "    </tr>\n",
       "  </tbody>\n",
       "</table>\n",
       "</div>"
      ]
     },
     "execution_count": 28,
     "metadata": {},
     "output_type": "execute_result"
    }
   ],
   "execution_count": 28
  },
  {
   "metadata": {},
   "cell_type": "markdown",
   "source": "# Plot 1: Create histogram to track gene usage",
   "id": "acdd99f66f5d5920"
  },
  {
   "metadata": {
    "ExecuteTime": {
     "end_time": "2025-08-19T22:52:32.734659Z",
     "start_time": "2025-08-19T22:52:32.731780Z"
    }
   },
   "cell_type": "code",
   "source": "%store -r perc_gene_usage_cp4",
   "id": "9cdc6cf63c31110d",
   "outputs": [],
   "execution_count": 29
  },
  {
   "metadata": {
    "ExecuteTime": {
     "end_time": "2025-08-19T22:56:31.652275Z",
     "start_time": "2025-08-19T22:56:31.644290Z"
    }
   },
   "cell_type": "code",
   "source": [
    "# % new gene usage\n",
    "df_gene_usage = df_all_gene_usage.loc[new_genes,:]\n",
    "df_gene_usage_cp1 = df_all_gene_usage_cp1.loc[new_genes,:]\n",
    "df_gene_usage_cp2 = df_all_gene_usage_cp2.loc[new_genes,:]\n",
    "df_gene_usage_cp3_w_cp2 = df_all_gene_usage_cp3_w_cp2.loc[new_genes,:]\n",
    "df_gene_usage_cp4_w_cp3 = df_all_gene_usage_cp4_w_cp3.loc[new_genes,:]\n",
    "\n",
    "num_genes = len(df_gene_usage)\n",
    "perc_gene_usage_basal = sum(df_gene_usage_cp2.basal > 0)/num_genes * 100\n",
    "perc_gene_usage_basic_conditions = sum(gene_used_before)/num_genes * 100\n",
    "perc_gene_usage_cp1  = sum(df_gene_usage_cp1['is_used'])/num_genes * 100\n",
    "perc_gene_usage_cp2  = sum(df_gene_usage_cp2['is_used'])/num_genes * 100\n",
    "perc_gene_usage_cp3  = sum(df_gene_usage_cp3_w_cp2['is_used'])/num_genes * 100\n",
    "perc_gene_usage_cp4 = sum(new_gene_usage_cp4_w_microarray2)/num_genes * 100 #bc one columned df\n",
    "perc_gene_usage_cp5 = sum(new_gene_usage_cp4_w_microarray3)/num_genes * 100\n",
    "perc_gene_usage_cp6 = sum(new_gene_usage_cp5_w_microarray3)/num_genes * 100\n",
    "\n",
    "perc = [perc_gene_usage_basal, perc_gene_usage_basic_conditions, perc_gene_usage_cp1, perc_gene_usage_cp2, perc_gene_usage_cp3, perc_gene_usage_cp4, perc_gene_usage_cp5, perc_gene_usage_cp6]\n",
    "x_label = ['Basal', 'Basal, Acetate, Rich, Anaerobic', 'Checkpoint 1', 'Checkpoint 2', 'Cp2 + Microarray 1', 'Checkpoint 4 + Microarray2', 'Microarray3+4', 'Checkpoint 5 + Microarray3+4']"
   ],
   "id": "a7df519916f77d81",
   "outputs": [],
   "execution_count": 34
  },
  {
   "metadata": {
    "ExecuteTime": {
     "end_time": "2025-08-19T22:56:32.619486Z",
     "start_time": "2025-08-19T22:56:32.614376Z"
    }
   },
   "cell_type": "code",
   "source": [
    "# % all gene usage\n",
    "num_genes = len(df_all_gene_usage)\n",
    "perc_all_gene_usage_basal = sum(df_all_gene_usage_cp2.basal > 0)/num_genes * 100\n",
    "perc_all_gene_usage_basic_conditions = sum(df_all_gene_usage['is_used'])/num_genes * 100\n",
    "perc_all_gene_usage_cp1  = sum(df_all_gene_usage_cp1['is_used'])/num_genes * 100\n",
    "perc_all_gene_usage_cp2  = sum(df_all_gene_usage_cp2['is_used'])/num_genes * 100\n",
    "perc_all_gene_usage_cp3_w_cp2  = sum(df_all_gene_usage_cp3_w_cp2['is_used'])/num_genes * 100\n",
    "perc_all_gene_usage_cp4 = sum(all_gene_usage_cp4_w_microarray2)/num_genes * 100\n",
    "perc_all_gene_usage_cp5 = sum(all_gene_usage_cp4_w_microarray3)/num_genes * 100\n",
    "perc_all_gene_usage_cp6 = sum(all_gene_usage_cp5_w_microarray3)/num_genes * 100\n",
    "\n",
    "perc_all = [perc_all_gene_usage_basal, perc_all_gene_usage_basic_conditions, perc_all_gene_usage_cp1, perc_all_gene_usage_cp2, perc_all_gene_usage_cp3_w_cp2, perc_all_gene_usage_cp4,perc_all_gene_usage_cp5,perc_all_gene_usage_cp6]"
   ],
   "id": "b93669fc2fae8528",
   "outputs": [],
   "execution_count": 35
  },
  {
   "metadata": {
    "ExecuteTime": {
     "end_time": "2025-08-19T22:56:33.296316Z",
     "start_time": "2025-08-19T22:56:32.985111Z"
    }
   },
   "cell_type": "code",
   "source": [
    "# Create a DataFrame\n",
    "df = pd.DataFrame({\n",
    "    \"Condition\": x_label,\n",
    "    \"New Metabolic Gene\": perc,\n",
    "    \"All Metabolic Gene\": perc_all,\n",
    "})\n",
    "\n",
    "# Reshape to long format\n",
    "df_long = df.melt(id_vars=\"Condition\",\n",
    "                  value_vars=[\"New Metabolic Gene\", \"All Metabolic Gene\"],\n",
    "                  var_name=\"Gene Group\",\n",
    "                  value_name=\"Percent Usage\")\n",
    "\n",
    "# Create grouped bar plot\n",
    "fig = px.bar(\n",
    "    df_long,\n",
    "    x=\"Condition\",\n",
    "    y=\"Percent Usage\",\n",
    "    color=\"Gene Group\",              # creates a legend\n",
    "    barmode=\"group\",                 # side-by-side bars\n",
    "    text=\"Percent Usage\",\n",
    "    title=\"New vs All Metabolic Gene Usage by Condition\",\n",
    "    labels={\"Percent Usage\": \"Percent gene usage (%)\"},\n",
    "    color_discrete_map={\n",
    "        \"New Metabolic Gene\": \"#4C78A8\",\n",
    "        \"All Metabolic Gene\": \"#c26426\"\n",
    "    }\n",
    ")\n",
    "\n",
    "# Customize appearance\n",
    "fig.update_traces(texttemplate='%{text:.2f}%', textposition='outside')\n",
    "fig.update_layout(\n",
    "    paper_bgcolor='rgba(255, 255, 255, 0)',\n",
    "    plot_bgcolor ='rgba(255, 255, 255, 0)',\n",
    "    yaxis_title=\"Percent gene usage (%)\",\n",
    "    yaxis=dict(range=[0, 45]),\n",
    "    xaxis_title=None,\n",
    "    font_color = 'white',\n",
    "    xaxis_tickangle=-35,\n",
    "    uniformtext_minsize=8,\n",
    "    uniformtext_mode='hide',\n",
    "    margin=dict(t=50, b=50, l=50, r=50),\n",
    "    width=1000,   # width in pixels\n",
    "    height=650\n",
    ")\n",
    "\n",
    "fig.show(renderer='browser')\n",
    "# save\n",
    "# fig.write_image(\"notebooks/Heena notebooks/Metabolism_New Genes/out/gene_usage_histogram_cp3.png\", scale=5, width=800, height=500)"
   ],
   "id": "b3aea3806a77c9fa",
   "outputs": [],
   "execution_count": 36
  },
  {
   "metadata": {},
   "cell_type": "code",
   "outputs": [],
   "execution_count": null,
   "source": "",
   "id": "c35dead9a70ce984"
  }
 ],
 "metadata": {
  "kernelspec": {
   "display_name": "Python 3",
   "language": "python",
   "name": "python3"
  },
  "language_info": {
   "codemirror_mode": {
    "name": "ipython",
    "version": 2
   },
   "file_extension": ".py",
   "mimetype": "text/x-python",
   "name": "python",
   "nbconvert_exporter": "python",
   "pygments_lexer": "ipython2",
   "version": "2.7.6"
  }
 },
 "nbformat": 4,
 "nbformat_minor": 5
}
