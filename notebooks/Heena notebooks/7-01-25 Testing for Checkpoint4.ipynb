{
 "cells": [
  {
   "metadata": {},
   "cell_type": "markdown",
   "source": "",
   "id": "8e3a4548e344a957"
  },
  {
   "metadata": {},
   "cell_type": "markdown",
   "source": [
    "Description:\n",
    "\n",
    "In 20250425_Biosynthesis_Kinetic_Genes, 20250429_OtherMetabolism_Kinetic_Genes, and 20250501_CellProcesses_Kinetic_Genes, we have attempted to fix DEMs and induce flow to new metabolic reactions added to the model that initially had no flow in 20250307_track_reaction_usage script. Though not all attempts were successful, we can still incorporate the successful updates in a new checkpoint that acts in addition to checkpoint 1. In this checkpoint, we have also attempted triage of ~40 new genes and selected a few (~10) genes that are easy to incorporate, as indicated by green highlight in the Excel file gene_usage_fix_all.xsl. \n",
    "\n",
    "The purpose of this script is to incorporate the changes in the whole-cell model, whether it is adding a new transport reaction or novel reactions etc, and see how many more new genes are being used compared to the results in 20250307_track_reaction_usage and checkpoint1. To be more specific, the genes being incorporated into this checkpoint are:\n",
    "\n",
    "G7408 (yqaB), EG11671 (atoE), EG11724 (adeP), EG10816\t(rbsC), EG10818\t(rbsK), EG11055\t(uidA), EG12393 (ttdT), EG11054 (uhpT), EG10172 (cybB), EG10780 (pspE). "
   ],
   "id": "3236c6c42df0f163"
  },
  {
   "cell_type": "code",
   "id": "initial_id",
   "metadata": {
    "collapsed": true,
    "ExecuteTime": {
     "end_time": "2025-08-04T21:49:42.556334Z",
     "start_time": "2025-08-04T21:49:41.318745Z"
    }
   },
   "source": [
    "import numpy as np\n",
    "import ast\n",
    "import pandas as pd\n",
    "import os\n",
    "import matplotlib.pyplot as plt\n",
    "import dill\n",
    "import requests\n",
    "import xmltodict\n",
    "import cvxpy as cp\n",
    "import itertools\n",
    "import networkx as nx\n",
    "import plotly.express as px\n",
    "\n",
    "from scipy.special import logsumexp\n",
    "\n",
    "%matplotlib inline\n",
    "# sns.set(style='dar|kgrid', palette='viridis', context='talk')\n",
    "\n",
    "os.chdir(os.path.expanduser('~/vEcoli'))\n",
    "\n",
    "from ecoli.processes.metabolism_redux_classic import NetworkFlowModel, FlowResult\n",
    "from ecoli.library.schema import numpy_schema, bulk_name_to_idx, listener_schema, counts\n",
    "from ecoli.processes.registries import topology_registry\n",
    "TOPOLOGY = topology_registry.access(\"ecoli-metabolism-redux\")"
   ],
   "outputs": [],
   "execution_count": 2
  },
  {
   "metadata": {
    "ExecuteTime": {
     "end_time": "2025-08-04T21:49:45.209756Z",
     "start_time": "2025-08-04T21:49:43.830244Z"
    }
   },
   "cell_type": "code",
   "source": [
    "# load checkpoint 2 model\n",
    "time = '400'\n",
    "date = '2025-07-01'\n",
    "experiment = 'NEW'\n",
    "condition = 'basal'\n",
    "entry = f'{experiment}_{time}_{date}'\n",
    "folder = f'out/metabolism-comparison/{condition}/{entry}/'\n",
    "\n",
    "output = np.load(folder + '0_output.npy',allow_pickle='TRUE').item()\n",
    "# output = np.load(r\"out/geneRxnVerifData/output_glc.npy\", allow_pickle=True, encoding='ASCII').tolist()\n",
    "output = output['agents']['0']\n",
    "fba_cp2 = output['listeners']['fba_results']\n",
    "bulk_cp2 = pd.DataFrame(output['bulk'])\n",
    "f = open(folder + 'agent_steps.pkl', 'rb')\n",
    "agent_cp2 = dill.load(f)\n",
    "f.close()"
   ],
   "id": "288fb1b43e98cb69",
   "outputs": [],
   "execution_count": 3
  },
  {
   "metadata": {
    "ExecuteTime": {
     "end_time": "2025-08-04T21:49:45.257663Z",
     "start_time": "2025-08-04T21:49:45.219897Z"
    }
   },
   "cell_type": "code",
   "source": [
    "# get commonly stored variables\n",
    "metabolism_cp2 = agent_cp2['ecoli-metabolism-redux-classic']\n",
    "stoichiometry_cp2 = metabolism_cp2.stoichiometry.copy()\n",
    "reaction_names_cp2 = metabolism_cp2.reaction_names\n",
    "fba_new_reaction_ids_cp2 = metabolism_cp2.parameters[\"fba_new_reaction_ids\"]\n",
    "fba_reaction_ids_to_base_reaction_ids_cp2 = metabolism_cp2.parameters['fba_reaction_ids_to_base_reaction_ids']\n",
    "metabolites_cp2 = metabolism_cp2.metabolite_names.copy()\n",
    "binary_kinetic_idx_cp2 = metabolism_cp2.binary_kinetic_idx\n",
    "exchange_molecules_cp2 = metabolism_cp2.exchange_molecules\n",
    "\n",
    "S_cp2 = stoichiometry_cp2.copy()\n",
    "S_cp2 = pd.DataFrame(S_cp2, index=metabolites_cp2, columns=reaction_names_cp2)\n",
    "homeostatic_count_cp2 = pd.DataFrame(fba_cp2[\"homeostatic_metabolite_counts\"], columns=metabolism_cp2.homeostatic_metabolites).loc[24, :]\n",
    "homeostatic_cp2 = pd.DataFrame(fba_cp2[\"target_homeostatic_dmdt\"], columns=metabolism_cp2.homeostatic_metabolites).loc[24, :]\n",
    "maintenance_cp2 = pd.DataFrame(fba_cp2[\"maintenance_target\"][1:], columns=['maintenance_reaction']).iat[24, 0]\n",
    "kinetic_cp2 = pd.DataFrame(fba_cp2[\"target_kinetic_fluxes\"], columns=metabolism_cp2.kinetic_constraint_reactions).loc[24, :].copy()"
   ],
   "id": "4f6e0bed32133329",
   "outputs": [],
   "execution_count": 4
  },
  {
   "metadata": {
    "ExecuteTime": {
     "end_time": "2025-08-04T21:49:45.276787Z",
     "start_time": "2025-08-04T21:49:45.274642Z"
    }
   },
   "cell_type": "code",
   "source": [
    "# parameters that are the same across the two simulation\n",
    "kinetic_reaction_ids = metabolism_cp2.kinetic_constraint_reactions\n",
    "allowed_exchange_uptake = metabolism_cp2.allowed_exchange_uptake\n",
    "FREE_RXNS = [\"TRANS-RXN-145\", \"TRANS-RXN0-545\", \"TRANS-RXN0-474\"]\n",
    "ADDED_RXNS = ['HS-TRANSPORT-RXN-CPD0-1202', 'HS-TRANSPORT-RXN-CPD0-1202 (reverse)',\n",
    "                   'HS-TRANSPORT-RXN[CCO-OUTER-MEM]-OXAMATE', 'HS-TRANSPORT-RXN[CCO-OUTER-MEM]-OXAMATE (reverse)',\n",
    "                   'HS-TRANSPORT-RXN[CCO-PM-BAC-NEG]-OXAMATE', 'HS-TRANSPORT-RXN[CCO-PM-BAC-NEG]-OXAMATE (reverse)',\n",
    "                   'HS-BETA-GLUCURONID-RXN_CPD-3611//METOH', 'HS-SPONTANEOUS-TRANSPORT[CCO-OUTER-MEM]-HCN', 'HS-SPONTANEOUS-TRANSPORT[CCO-OUTER-MEM]-HCN (reverse)',\n",
    "                   'HS-SPONTANEOUS-TRANSPORT[CCO-PM-BAC-NEG]-HCN','HS-SPONTANEOUS-TRANSPORT[CCO-PM-BAC-NEG]-HCN (reverse)']"
   ],
   "id": "d3b7d3d8962f297e",
   "outputs": [],
   "execution_count": 5
  },
  {
   "metadata": {},
   "cell_type": "markdown",
   "source": "# Define functions for testing",
   "id": "4d67a9b4dfe5157e"
  },
  {
   "metadata": {
    "ExecuteTime": {
     "end_time": "2025-08-11T22:59:33.961016Z",
     "start_time": "2025-08-11T22:59:33.957024Z"
    }
   },
   "cell_type": "code",
   "source": [
    "def get_subset_S(S, met_of_interest):\n",
    "    S_met = S.loc[met_of_interest, :]\n",
    "    S_met = S_met.loc[:,~np.all(S_met == 0, axis=0)]\n",
    "    return S_met, S_met.columns\n",
    "\n",
    "def test_NetworkFlowModel(objective_weights,\n",
    "                          uptake_addition = set([]), uptake_removal = set([]), new_exchange_molecules = set([]),\n",
    "                          add_metabolite = None, add_reaction = None, add_kinetic = None, remove_reaction = None,\n",
    "                          add_homeostatic_demand = None, force_reaction = None):\n",
    "    # update exchanges\n",
    "    uptake = metabolism_cp2.allowed_exchange_uptake.copy()\n",
    "    uptake = set(uptake)\n",
    "    uptake = uptake | uptake_addition\n",
    "    uptake = uptake - uptake_removal\n",
    "\n",
    "    exchange_molecules = metabolism_cp2.exchange_molecules.copy()\n",
    "    exchange_molecules = exchange_molecules | new_exchange_molecules\n",
    "\n",
    "    # update stoichiometry\n",
    "    reaction_names = metabolism_cp2.reaction_names.copy()\n",
    "    kinetic_reaction_ids = metabolism_cp2.kinetic_constraint_reactions.copy()\n",
    "    kinetic = pd.DataFrame(fba_cp2[\"target_kinetic_fluxes\"], columns=metabolism_cp2.kinetic_constraint_reactions).loc[24, :].copy()\n",
    "    metabolites = metabolism_cp2.metabolite_names.copy()\n",
    "    homeostatic = pd.DataFrame(fba_cp2[\"target_homeostatic_dmdt\"], columns=metabolism_cp2.homeostatic_metabolites).loc[24, :].copy()\n",
    "    homeostatic_counts = homeostatic_count_cp2.copy() * metabolism_cp2.counts_to_molar.asNumber()\n",
    "\n",
    "    S_new = stoichiometry_cp2.copy()\n",
    "\n",
    "    if add_metabolite is not None: # add to metabolites list because they are currently not included in the model\n",
    "        for m in add_metabolite:\n",
    "            if m not in metabolites:\n",
    "                metabolites.append(m)\n",
    "        # append rows of zeros to S_new of length add_metabolite\n",
    "        S_new = np.concatenate((S_new, np.zeros((len(add_metabolite), S_new.shape[1]))), axis=0)\n",
    "        print(S_new.shape)\n",
    "\n",
    "    if add_reaction is not None:\n",
    "        # assert add_reaction is a dictionary\n",
    "        assert isinstance(add_reaction, dict)\n",
    "\n",
    "        for r,s in add_reaction.items():\n",
    "            if r not in reaction_names:\n",
    "                reaction_names.append(r)\n",
    "            # append columns of reaction stoich to S_new of length add_reaction\n",
    "            new_reaction = np.zeros((S_new.shape[0], 1))\n",
    "            for m, v in s.items():\n",
    "                new_reaction[metabolites.index(m), 0] = v\n",
    "            S_new = np.concatenate((S_new, new_reaction), axis=1)\n",
    "        print(S_new.shape)\n",
    "\n",
    "    if add_kinetic is not None:\n",
    "        # assert add_kinetic is a dictionary\n",
    "        assert isinstance(add_kinetic, dict)\n",
    "\n",
    "        for r, v in add_kinetic.items():\n",
    "            if r not in kinetic_reaction_ids:\n",
    "                kinetic_reaction_ids.append(r)\n",
    "                kinetic[r] = v\n",
    "\n",
    "    if remove_reaction is not None:\n",
    "        for r in remove_reaction:\n",
    "            r_idx = reaction_names.index(r)\n",
    "            S_new = np.delete(S_new, r_idx, axis=1)\n",
    "            reaction_names.remove(r)\n",
    "            if r in kinetic_reaction_ids:\n",
    "                kinetic_reaction_ids.remove(r)\n",
    "                del kinetic[r]\n",
    "\n",
    "    if force_reaction is not None:\n",
    "        force_reaction_idx = np.array([reaction_names.index(r) for r in force_reaction])\n",
    "    else:\n",
    "        force_reaction_idx = force_reaction\n",
    "\n",
    "    if add_homeostatic_demand is not None:\n",
    "        # assert add_homeostatic_demand is a set\n",
    "        assert isinstance(add_homeostatic_demand, list)\n",
    "\n",
    "        for met in add_homeostatic_demand:\n",
    "            homeostatic[met] = 100\n",
    "            homeostatic_counts[met] = 1\n",
    "\n",
    "    print(f'Force Reaction ID is:',force_reaction_idx)\n",
    "    # Solve NetworkFlowModel\n",
    "    model = NetworkFlowModel(\n",
    "            stoich_arr=S_new,\n",
    "            metabolites=metabolites,\n",
    "            reactions=reaction_names,\n",
    "            homeostatic_metabolites=list(dict(homeostatic).keys()),\n",
    "            kinetic_reactions=kinetic_reaction_ids,\n",
    "            free_reactions=FREE_RXNS)\n",
    "    model.set_up_exchanges(exchanges=exchange_molecules, uptakes=uptake)\n",
    "    solution: FlowResult = model.solve(\n",
    "            homeostatic_concs=homeostatic_counts, # in conc\n",
    "            homeostatic_dm_targets=np.array(list(dict(homeostatic).values())), # *10^7\n",
    "            maintenance_target=maintenance_cp2, # *10^6 ish\n",
    "            kinetic_targets=np.array(list(dict(kinetic).values())), # *10^6 ish\n",
    "            # binary_kinetic_idx=binary_kinetic_idx, #7646\n",
    "            binary_kinetic_idx=None,\n",
    "            force_flow_idx=force_reaction_idx,\n",
    "            objective_weights=objective_weights, #same\n",
    "            upper_flux_bound= 1000000000, # increase to 10^9 because notebook runs FlowResult using Counts, WC runs using conc.\n",
    "            solver=cp.GLOP) #SCS. ECOS\n",
    "    print(f'Optimal objective function reached is: {solution.objective}')\n",
    "    return solution.velocities, reaction_names, S_new, metabolites, kinetic"
   ],
   "id": "22258a664c16cad1",
   "outputs": [],
   "execution_count": 1
  },
  {
   "metadata": {},
   "cell_type": "markdown",
   "source": "# Create Dataframes to Store Results\n",
   "id": "c4e25ec7bf5d725b"
  },
  {
   "metadata": {
    "ExecuteTime": {
     "end_time": "2025-08-04T21:49:47.393903Z",
     "start_time": "2025-08-04T21:49:47.204951Z"
    }
   },
   "cell_type": "code",
   "source": [
    "# all reactions\n",
    "sim_cp2 = pd.DataFrame(fba_cp2[\"estimated_fluxes\"], columns= reaction_names_cp2).loc[24, :].copy()\n",
    "\n",
    "# kinetic reactions\n",
    "kc_target_cp2 = pd.DataFrame(fba_cp2[\"target_kinetic_fluxes\"], columns= kinetic_reaction_ids).loc[24, :].copy()"
   ],
   "id": "fe6d6513af8f134b",
   "outputs": [],
   "execution_count": 7
  },
  {
   "metadata": {
    "ExecuteTime": {
     "end_time": "2025-08-04T21:49:47.576862Z",
     "start_time": "2025-08-04T21:49:47.573904Z"
    }
   },
   "cell_type": "code",
   "source": [
    "df_all = pd.concat([sim_cp2], axis=1).fillna(0)\n",
    "df_all.columns = ['sim_cp2_basal']"
   ],
   "id": "c22040d0990f00a5",
   "outputs": [],
   "execution_count": 8
  },
  {
   "metadata": {
    "ExecuteTime": {
     "end_time": "2025-08-04T21:49:48.030961Z",
     "start_time": "2025-08-04T21:49:48.002441Z"
    }
   },
   "cell_type": "code",
   "source": [
    "df_all['is_new'] = 'Old Reactions'\n",
    "df_all.loc[fba_new_reaction_ids_cp2, 'is_new'] = 'New Reactions'\n",
    "df_all.loc[ADDED_RXNS, 'is_new'] = 'Heena\\'s Reactions'\n",
    "\n",
    "\n",
    "df_all['kinetic'] = [kinetic_cp2[r] if r in kinetic_reaction_ids else False for r in df_all.index]"
   ],
   "id": "26ef288184ed88fe",
   "outputs": [],
   "execution_count": 9
  },
  {
   "metadata": {
    "ExecuteTime": {
     "end_time": "2025-08-04T21:49:48.398805Z",
     "start_time": "2025-08-04T21:49:48.387855Z"
    }
   },
   "cell_type": "code",
   "source": [
    "df_all.loc[['RXN0-5186__G7408-MONOMER','TRANS-RXN0-281', 'TRANS-RXN0-447', 'ABC-28-RXN-ATP/CPD-15829/WATER//ADP/CPD-15829/Pi/PROTON.45.',\n",
    "            'ABC-28-RXN-ATP/CPD-15829/WATER//ADP/CPD0-1110/Pi/PROTON.45.', 'ABC-28-RXN-ATP/CPD-15829/WATER//ADP/D-Ribopyranose/Pi/PROTON.50.',\n",
    "            'ABC-28-RXN-ATP/CPD0-1110/WATER//ADP/CPD-15829/Pi/PROTON.45.', 'ABC-28-RXN-ATP/CPD0-1110/WATER//ADP/CPD0-1110/Pi/PROTON.45.',\n",
    "            'ABC-28-RXN-ATP/CPD0-1110/WATER//ADP/D-Ribopyranose/Pi/PROTON.50.', 'HS-BETA-GLUCURONID-RXN_CPD-3611//METOH',\n",
    "            'THIOSULFATE-SULFURTRANSFERASE-RXN[CCO-PERI-BAC]-S2O3/HCN//HSCN/SO3/PROTON.40.','HS-SPONTANEOUS-TRANSPORT[CCO-PM-BAC-NEG]-HCN','HS-SPONTANEOUS-TRANSPORT[CCO-PM-BAC-NEG]-HCN (reverse)',\n",
    "            'THIOSULFATE--THIOL-SULFURTRANSFERASE-RXN', 'TRANS-RXN-127', 'TRANS-RXN-127 (reverse)','TRANS-RXN-33', 'TRANS-RXN0-502', 'TRANS-RXN0-501', 'TRANS-RXN0-534',\n",
    "            'RXN-20148-CPD-9956/OXYGEN-MOLECULE//SUPER-OXIDE/UBIQUINONE-8/PROTON.58. (reverse)']]"
   ],
   "id": "3f208f01c79fa594",
   "outputs": [
    {
     "data": {
      "text/plain": [
       "                                                    sim_cp2_basal  \\\n",
       "RXN0-5186__G7408-MONOMER                                      0.0   \n",
       "TRANS-RXN0-281                                                0.0   \n",
       "TRANS-RXN0-447                                                0.0   \n",
       "ABC-28-RXN-ATP/CPD-15829/WATER//ADP/CPD-15829/P...            0.0   \n",
       "ABC-28-RXN-ATP/CPD-15829/WATER//ADP/CPD0-1110/P...            0.0   \n",
       "ABC-28-RXN-ATP/CPD-15829/WATER//ADP/D-Ribopyran...            0.0   \n",
       "ABC-28-RXN-ATP/CPD0-1110/WATER//ADP/CPD-15829/P...            0.0   \n",
       "ABC-28-RXN-ATP/CPD0-1110/WATER//ADP/CPD0-1110/P...            0.0   \n",
       "ABC-28-RXN-ATP/CPD0-1110/WATER//ADP/D-Ribopyran...            0.0   \n",
       "HS-BETA-GLUCURONID-RXN_CPD-3611//METOH                        0.0   \n",
       "THIOSULFATE-SULFURTRANSFERASE-RXN[CCO-PERI-BAC]...            0.0   \n",
       "HS-SPONTANEOUS-TRANSPORT[CCO-PM-BAC-NEG]-HCN                  0.0   \n",
       "HS-SPONTANEOUS-TRANSPORT[CCO-PM-BAC-NEG]-HCN (r...            0.0   \n",
       "THIOSULFATE--THIOL-SULFURTRANSFERASE-RXN                      0.0   \n",
       "TRANS-RXN-127                                                 0.0   \n",
       "TRANS-RXN-127 (reverse)                                       0.0   \n",
       "TRANS-RXN-33                                                  0.0   \n",
       "TRANS-RXN0-502                                                0.0   \n",
       "TRANS-RXN0-501                                                0.0   \n",
       "TRANS-RXN0-534                                                0.0   \n",
       "RXN-20148-CPD-9956/OXYGEN-MOLECULE//SUPER-OXIDE...            0.0   \n",
       "\n",
       "                                                               is_new  kinetic  \n",
       "RXN0-5186__G7408-MONOMER                                New Reactions   2621.0  \n",
       "TRANS-RXN0-281                                          New Reactions    False  \n",
       "TRANS-RXN0-447                                          New Reactions    False  \n",
       "ABC-28-RXN-ATP/CPD-15829/WATER//ADP/CPD-15829/P...      New Reactions    False  \n",
       "ABC-28-RXN-ATP/CPD-15829/WATER//ADP/CPD0-1110/P...      New Reactions    False  \n",
       "ABC-28-RXN-ATP/CPD-15829/WATER//ADP/D-Ribopyran...      New Reactions    False  \n",
       "ABC-28-RXN-ATP/CPD0-1110/WATER//ADP/CPD-15829/P...      New Reactions    False  \n",
       "ABC-28-RXN-ATP/CPD0-1110/WATER//ADP/CPD0-1110/P...      New Reactions    False  \n",
       "ABC-28-RXN-ATP/CPD0-1110/WATER//ADP/D-Ribopyran...      New Reactions    False  \n",
       "HS-BETA-GLUCURONID-RXN_CPD-3611//METOH              Heena's Reactions    False  \n",
       "THIOSULFATE-SULFURTRANSFERASE-RXN[CCO-PERI-BAC]...      New Reactions  67668.0  \n",
       "HS-SPONTANEOUS-TRANSPORT[CCO-PM-BAC-NEG]-HCN        Heena's Reactions    False  \n",
       "HS-SPONTANEOUS-TRANSPORT[CCO-PM-BAC-NEG]-HCN (r...  Heena's Reactions    False  \n",
       "THIOSULFATE--THIOL-SULFURTRANSFERASE-RXN                New Reactions    False  \n",
       "TRANS-RXN-127                                           New Reactions    False  \n",
       "TRANS-RXN-127 (reverse)                                 New Reactions    False  \n",
       "TRANS-RXN-33                                            New Reactions    False  \n",
       "TRANS-RXN0-502                                          New Reactions    False  \n",
       "TRANS-RXN0-501                                          New Reactions    False  \n",
       "TRANS-RXN0-534                                          New Reactions    False  \n",
       "RXN-20148-CPD-9956/OXYGEN-MOLECULE//SUPER-OXIDE...      New Reactions    False  "
      ],
      "text/html": [
       "<div>\n",
       "<style scoped>\n",
       "    .dataframe tbody tr th:only-of-type {\n",
       "        vertical-align: middle;\n",
       "    }\n",
       "\n",
       "    .dataframe tbody tr th {\n",
       "        vertical-align: top;\n",
       "    }\n",
       "\n",
       "    .dataframe thead th {\n",
       "        text-align: right;\n",
       "    }\n",
       "</style>\n",
       "<table border=\"1\" class=\"dataframe\">\n",
       "  <thead>\n",
       "    <tr style=\"text-align: right;\">\n",
       "      <th></th>\n",
       "      <th>sim_cp2_basal</th>\n",
       "      <th>is_new</th>\n",
       "      <th>kinetic</th>\n",
       "    </tr>\n",
       "  </thead>\n",
       "  <tbody>\n",
       "    <tr>\n",
       "      <th>RXN0-5186__G7408-MONOMER</th>\n",
       "      <td>0.0</td>\n",
       "      <td>New Reactions</td>\n",
       "      <td>2621.0</td>\n",
       "    </tr>\n",
       "    <tr>\n",
       "      <th>TRANS-RXN0-281</th>\n",
       "      <td>0.0</td>\n",
       "      <td>New Reactions</td>\n",
       "      <td>False</td>\n",
       "    </tr>\n",
       "    <tr>\n",
       "      <th>TRANS-RXN0-447</th>\n",
       "      <td>0.0</td>\n",
       "      <td>New Reactions</td>\n",
       "      <td>False</td>\n",
       "    </tr>\n",
       "    <tr>\n",
       "      <th>ABC-28-RXN-ATP/CPD-15829/WATER//ADP/CPD-15829/Pi/PROTON.45.</th>\n",
       "      <td>0.0</td>\n",
       "      <td>New Reactions</td>\n",
       "      <td>False</td>\n",
       "    </tr>\n",
       "    <tr>\n",
       "      <th>ABC-28-RXN-ATP/CPD-15829/WATER//ADP/CPD0-1110/Pi/PROTON.45.</th>\n",
       "      <td>0.0</td>\n",
       "      <td>New Reactions</td>\n",
       "      <td>False</td>\n",
       "    </tr>\n",
       "    <tr>\n",
       "      <th>ABC-28-RXN-ATP/CPD-15829/WATER//ADP/D-Ribopyranose/Pi/PROTON.50.</th>\n",
       "      <td>0.0</td>\n",
       "      <td>New Reactions</td>\n",
       "      <td>False</td>\n",
       "    </tr>\n",
       "    <tr>\n",
       "      <th>ABC-28-RXN-ATP/CPD0-1110/WATER//ADP/CPD-15829/Pi/PROTON.45.</th>\n",
       "      <td>0.0</td>\n",
       "      <td>New Reactions</td>\n",
       "      <td>False</td>\n",
       "    </tr>\n",
       "    <tr>\n",
       "      <th>ABC-28-RXN-ATP/CPD0-1110/WATER//ADP/CPD0-1110/Pi/PROTON.45.</th>\n",
       "      <td>0.0</td>\n",
       "      <td>New Reactions</td>\n",
       "      <td>False</td>\n",
       "    </tr>\n",
       "    <tr>\n",
       "      <th>ABC-28-RXN-ATP/CPD0-1110/WATER//ADP/D-Ribopyranose/Pi/PROTON.50.</th>\n",
       "      <td>0.0</td>\n",
       "      <td>New Reactions</td>\n",
       "      <td>False</td>\n",
       "    </tr>\n",
       "    <tr>\n",
       "      <th>HS-BETA-GLUCURONID-RXN_CPD-3611//METOH</th>\n",
       "      <td>0.0</td>\n",
       "      <td>Heena's Reactions</td>\n",
       "      <td>False</td>\n",
       "    </tr>\n",
       "    <tr>\n",
       "      <th>THIOSULFATE-SULFURTRANSFERASE-RXN[CCO-PERI-BAC]-S2O3/HCN//HSCN/SO3/PROTON.40.</th>\n",
       "      <td>0.0</td>\n",
       "      <td>New Reactions</td>\n",
       "      <td>67668.0</td>\n",
       "    </tr>\n",
       "    <tr>\n",
       "      <th>HS-SPONTANEOUS-TRANSPORT[CCO-PM-BAC-NEG]-HCN</th>\n",
       "      <td>0.0</td>\n",
       "      <td>Heena's Reactions</td>\n",
       "      <td>False</td>\n",
       "    </tr>\n",
       "    <tr>\n",
       "      <th>HS-SPONTANEOUS-TRANSPORT[CCO-PM-BAC-NEG]-HCN (reverse)</th>\n",
       "      <td>0.0</td>\n",
       "      <td>Heena's Reactions</td>\n",
       "      <td>False</td>\n",
       "    </tr>\n",
       "    <tr>\n",
       "      <th>THIOSULFATE--THIOL-SULFURTRANSFERASE-RXN</th>\n",
       "      <td>0.0</td>\n",
       "      <td>New Reactions</td>\n",
       "      <td>False</td>\n",
       "    </tr>\n",
       "    <tr>\n",
       "      <th>TRANS-RXN-127</th>\n",
       "      <td>0.0</td>\n",
       "      <td>New Reactions</td>\n",
       "      <td>False</td>\n",
       "    </tr>\n",
       "    <tr>\n",
       "      <th>TRANS-RXN-127 (reverse)</th>\n",
       "      <td>0.0</td>\n",
       "      <td>New Reactions</td>\n",
       "      <td>False</td>\n",
       "    </tr>\n",
       "    <tr>\n",
       "      <th>TRANS-RXN-33</th>\n",
       "      <td>0.0</td>\n",
       "      <td>New Reactions</td>\n",
       "      <td>False</td>\n",
       "    </tr>\n",
       "    <tr>\n",
       "      <th>TRANS-RXN0-502</th>\n",
       "      <td>0.0</td>\n",
       "      <td>New Reactions</td>\n",
       "      <td>False</td>\n",
       "    </tr>\n",
       "    <tr>\n",
       "      <th>TRANS-RXN0-501</th>\n",
       "      <td>0.0</td>\n",
       "      <td>New Reactions</td>\n",
       "      <td>False</td>\n",
       "    </tr>\n",
       "    <tr>\n",
       "      <th>TRANS-RXN0-534</th>\n",
       "      <td>0.0</td>\n",
       "      <td>New Reactions</td>\n",
       "      <td>False</td>\n",
       "    </tr>\n",
       "    <tr>\n",
       "      <th>RXN-20148-CPD-9956/OXYGEN-MOLECULE//SUPER-OXIDE/UBIQUINONE-8/PROTON.58. (reverse)</th>\n",
       "      <td>0.0</td>\n",
       "      <td>New Reactions</td>\n",
       "      <td>False</td>\n",
       "    </tr>\n",
       "  </tbody>\n",
       "</table>\n",
       "</div>"
      ]
     },
     "execution_count": 10,
     "metadata": {},
     "output_type": "execute_result"
    }
   ],
   "execution_count": 10
  },
  {
   "metadata": {},
   "cell_type": "markdown",
   "source": "## Testing",
   "id": "96b56f1811b49bc8"
  },
  {
   "metadata": {
    "ExecuteTime": {
     "end_time": "2025-08-07T18:53:18.022289Z",
     "start_time": "2025-08-07T18:53:18.017900Z"
    }
   },
   "cell_type": "code",
   "source": [
    "force_reaction = ['RXN0-6734']\n",
    "objective_weights = {'secretion': 0.01, 'efficiency': 0.000001, 'kinetics': 0.00001}\n",
    "add_reaction={\n",
    "    'TEMP-TRANS-19237[p] -> [c]': {\n",
    "        'CPD-19237[c]' : 1,\n",
    "        'CPD-19237[p]' : -1,\n",
    "    },\n",
    "    'TEMP-TRANS-19237[p] -> [c] (REVERSE)': {\n",
    "        'CPD-19237[c]' : -1,\n",
    "        'CPD-19237[p]' : 1,\n",
    "    },\n",
    "}\n",
    "new_exchange_molecules = set(['CPD-19237[e]'])\n",
    "uptake_addition = set(['CPD0-1068[e]'])\n",
    "uptake_removal = set(['GLC[p]'])"
   ],
   "id": "2bfd95515b814524",
   "outputs": [],
   "execution_count": 118
  },
  {
   "metadata": {
    "ExecuteTime": {
     "end_time": "2025-08-07T18:53:19.085196Z",
     "start_time": "2025-08-07T18:53:18.321267Z"
    }
   },
   "cell_type": "code",
   "source": [
    "\n",
    "solution_flux, test_reaction_names, S_new, test_metabolites, test_kinetic = test_NetworkFlowModel(\n",
    "                                            objective_weights,\n",
    "                                            new_exchange_molecules= new_exchange_molecules,\n",
    "                                            add_reaction=add_reaction,\n",
    "                                            uptake_addition=uptake_addition,\n",
    "                                            # add_homeostatic_demand=['CPD-19237[c]'],\n",
    "                                             uptake_removal=uptake_removal,\n",
    "                                            # # new_exchange_molecules=new_exchange_molecules,\n",
    "                                            force_reaction=force_reaction,\n",
    "                                            # add_reaction=add_reaction,\n",
    "                                            # add_metabolite=['CH4[e]'],\n",
    "                                            # remove_reaction=['TRANS-RXN0-526'],\n",
    ")"
   ],
   "id": "e38d29106b4ab538",
   "outputs": [
    {
     "name": "stdout",
     "output_type": "stream",
     "text": [
      "(6078, 9374)\n",
      "Force Reaction ID is: [3547]\n"
     ]
    },
    {
     "ename": "ValueError",
     "evalue": "Network flow model of metabolism did not converge to an optimal solution.",
     "output_type": "error",
     "traceback": [
      "\u001B[31m---------------------------------------------------------------------------\u001B[39m",
      "\u001B[31mValueError\u001B[39m                                Traceback (most recent call last)",
      "\u001B[36mCell\u001B[39m\u001B[36m \u001B[39m\u001B[32mIn[119]\u001B[39m\u001B[32m, line 1\u001B[39m\n\u001B[32m----> \u001B[39m\u001B[32m1\u001B[39m solution_flux, test_reaction_names, S_new, test_metabolites, test_kinetic = \u001B[43mtest_NetworkFlowModel\u001B[49m\u001B[43m(\u001B[49m\n\u001B[32m      2\u001B[39m \u001B[43m                                            \u001B[49m\u001B[43mobjective_weights\u001B[49m\u001B[43m,\u001B[49m\n\u001B[32m      3\u001B[39m \u001B[43m                                            \u001B[49m\u001B[43mnew_exchange_molecules\u001B[49m\u001B[43m=\u001B[49m\u001B[43m \u001B[49m\u001B[43mnew_exchange_molecules\u001B[49m\u001B[43m,\u001B[49m\n\u001B[32m      4\u001B[39m \u001B[43m                                            \u001B[49m\u001B[43madd_reaction\u001B[49m\u001B[43m=\u001B[49m\u001B[43madd_reaction\u001B[49m\u001B[43m,\u001B[49m\n\u001B[32m      5\u001B[39m \u001B[43m                                            \u001B[49m\u001B[43muptake_addition\u001B[49m\u001B[43m=\u001B[49m\u001B[43muptake_addition\u001B[49m\u001B[43m,\u001B[49m\n\u001B[32m      6\u001B[39m \u001B[43m                                            \u001B[49m\u001B[38;5;66;43;03m# add_homeostatic_demand=['CPD-19237[c]'],\u001B[39;49;00m\n\u001B[32m      7\u001B[39m \u001B[43m                                             \u001B[49m\u001B[43muptake_removal\u001B[49m\u001B[43m=\u001B[49m\u001B[43muptake_removal\u001B[49m\u001B[43m,\u001B[49m\n\u001B[32m      8\u001B[39m \u001B[43m                                            \u001B[49m\u001B[38;5;66;43;03m# # new_exchange_molecules=new_exchange_molecules,\u001B[39;49;00m\n\u001B[32m      9\u001B[39m \u001B[43m                                            \u001B[49m\u001B[43mforce_reaction\u001B[49m\u001B[43m=\u001B[49m\u001B[43mforce_reaction\u001B[49m\u001B[43m,\u001B[49m\n\u001B[32m     10\u001B[39m \u001B[43m                                            \u001B[49m\u001B[38;5;66;43;03m# add_reaction=add_reaction,\u001B[39;49;00m\n\u001B[32m     11\u001B[39m \u001B[43m                                            \u001B[49m\u001B[38;5;66;43;03m# add_metabolite=['CH4[e]'],\u001B[39;49;00m\n\u001B[32m     12\u001B[39m \u001B[43m                                            \u001B[49m\u001B[38;5;66;43;03m# remove_reaction=['TRANS-RXN0-526'],\u001B[39;49;00m\n\u001B[32m     13\u001B[39m \u001B[43m)\u001B[49m\n",
      "\u001B[36mCell\u001B[39m\u001B[36m \u001B[39m\u001B[32mIn[6]\u001B[39m\u001B[32m, line 92\u001B[39m, in \u001B[36mtest_NetworkFlowModel\u001B[39m\u001B[34m(objective_weights, uptake_addition, uptake_removal, new_exchange_molecules, add_metabolite, add_reaction, add_kinetic, remove_reaction, add_homeostatic_demand, force_reaction)\u001B[39m\n\u001B[32m     84\u001B[39m model = NetworkFlowModel(\n\u001B[32m     85\u001B[39m         stoich_arr=S_new,\n\u001B[32m     86\u001B[39m         metabolites=metabolites,\n\u001B[32m   (...)\u001B[39m\u001B[32m     89\u001B[39m         kinetic_reactions=kinetic_reaction_ids,\n\u001B[32m     90\u001B[39m         free_reactions=FREE_RXNS)\n\u001B[32m     91\u001B[39m model.set_up_exchanges(exchanges=exchange_molecules, uptakes=uptake)\n\u001B[32m---> \u001B[39m\u001B[32m92\u001B[39m solution: FlowResult = \u001B[43mmodel\u001B[49m\u001B[43m.\u001B[49m\u001B[43msolve\u001B[49m\u001B[43m(\u001B[49m\n\u001B[32m     93\u001B[39m \u001B[43m        \u001B[49m\u001B[43mhomeostatic_concs\u001B[49m\u001B[43m=\u001B[49m\u001B[43mhomeostatic_counts\u001B[49m\u001B[43m,\u001B[49m\u001B[43m \u001B[49m\u001B[38;5;66;43;03m# in conc\u001B[39;49;00m\n\u001B[32m     94\u001B[39m \u001B[43m        \u001B[49m\u001B[43mhomeostatic_dm_targets\u001B[49m\u001B[43m=\u001B[49m\u001B[43mnp\u001B[49m\u001B[43m.\u001B[49m\u001B[43marray\u001B[49m\u001B[43m(\u001B[49m\u001B[38;5;28;43mlist\u001B[39;49m\u001B[43m(\u001B[49m\u001B[38;5;28;43mdict\u001B[39;49m\u001B[43m(\u001B[49m\u001B[43mhomeostatic\u001B[49m\u001B[43m)\u001B[49m\u001B[43m.\u001B[49m\u001B[43mvalues\u001B[49m\u001B[43m(\u001B[49m\u001B[43m)\u001B[49m\u001B[43m)\u001B[49m\u001B[43m)\u001B[49m\u001B[43m,\u001B[49m\u001B[43m \u001B[49m\u001B[38;5;66;43;03m# *10^7\u001B[39;49;00m\n\u001B[32m     95\u001B[39m \u001B[43m        \u001B[49m\u001B[43mmaintenance_target\u001B[49m\u001B[43m=\u001B[49m\u001B[43mmaintenance_cp2\u001B[49m\u001B[43m,\u001B[49m\u001B[43m \u001B[49m\u001B[38;5;66;43;03m# *10^6 ish\u001B[39;49;00m\n\u001B[32m     96\u001B[39m \u001B[43m        \u001B[49m\u001B[43mkinetic_targets\u001B[49m\u001B[43m=\u001B[49m\u001B[43mnp\u001B[49m\u001B[43m.\u001B[49m\u001B[43marray\u001B[49m\u001B[43m(\u001B[49m\u001B[38;5;28;43mlist\u001B[39;49m\u001B[43m(\u001B[49m\u001B[38;5;28;43mdict\u001B[39;49m\u001B[43m(\u001B[49m\u001B[43mkinetic\u001B[49m\u001B[43m)\u001B[49m\u001B[43m.\u001B[49m\u001B[43mvalues\u001B[49m\u001B[43m(\u001B[49m\u001B[43m)\u001B[49m\u001B[43m)\u001B[49m\u001B[43m)\u001B[49m\u001B[43m,\u001B[49m\u001B[43m \u001B[49m\u001B[38;5;66;43;03m# *10^6 ish\u001B[39;49;00m\n\u001B[32m     97\u001B[39m \u001B[43m        \u001B[49m\u001B[38;5;66;43;03m# binary_kinetic_idx=binary_kinetic_idx, #7646\u001B[39;49;00m\n\u001B[32m     98\u001B[39m \u001B[43m        \u001B[49m\u001B[43mbinary_kinetic_idx\u001B[49m\u001B[43m=\u001B[49m\u001B[38;5;28;43;01mNone\u001B[39;49;00m\u001B[43m,\u001B[49m\n\u001B[32m     99\u001B[39m \u001B[43m        \u001B[49m\u001B[43mforce_flow_idx\u001B[49m\u001B[43m=\u001B[49m\u001B[43mforce_reaction_idx\u001B[49m\u001B[43m,\u001B[49m\n\u001B[32m    100\u001B[39m \u001B[43m        \u001B[49m\u001B[43mobjective_weights\u001B[49m\u001B[43m=\u001B[49m\u001B[43mobjective_weights\u001B[49m\u001B[43m,\u001B[49m\u001B[43m \u001B[49m\u001B[38;5;66;43;03m#same\u001B[39;49;00m\n\u001B[32m    101\u001B[39m \u001B[43m        \u001B[49m\u001B[43mupper_flux_bound\u001B[49m\u001B[43m=\u001B[49m\u001B[43m \u001B[49m\u001B[32;43m1000000000\u001B[39;49m\u001B[43m,\u001B[49m\u001B[43m \u001B[49m\u001B[38;5;66;43;03m# increase to 10^9 because notebook runs FlowResult using Counts, WC runs using conc.\u001B[39;49;00m\n\u001B[32m    102\u001B[39m \u001B[43m        \u001B[49m\u001B[43msolver\u001B[49m\u001B[43m=\u001B[49m\u001B[43mcp\u001B[49m\u001B[43m.\u001B[49m\u001B[43mGLOP\u001B[49m\u001B[43m)\u001B[49m \u001B[38;5;66;03m#SCS. ECOS\u001B[39;00m\n\u001B[32m    103\u001B[39m \u001B[38;5;28mprint\u001B[39m(\u001B[33mf\u001B[39m\u001B[33m'\u001B[39m\u001B[33mOptimal objective function reached is: \u001B[39m\u001B[38;5;132;01m{\u001B[39;00msolution.objective\u001B[38;5;132;01m}\u001B[39;00m\u001B[33m'\u001B[39m)\n\u001B[32m    104\u001B[39m \u001B[38;5;28;01mreturn\u001B[39;00m solution.velocities, reaction_names, S_new, metabolites, kinetic\n",
      "\u001B[36mFile \u001B[39m\u001B[32m~/vEcoli/ecoli/processes/metabolism_redux_classic.py:725\u001B[39m, in \u001B[36mNetworkFlowModel.solve\u001B[39m\u001B[34m(self, homeostatic_concs, homeostatic_dm_targets, maintenance_target, kinetic_targets, binary_kinetic_idx, force_flow_idx, objective_weights, upper_flux_bound, solver)\u001B[39m\n\u001B[32m    723\u001B[39m p.solve(solver=solver, verbose=\u001B[38;5;28;01mFalse\u001B[39;00m)\n\u001B[32m    724\u001B[39m \u001B[38;5;28;01mif\u001B[39;00m p.status != \u001B[33m\"\u001B[39m\u001B[33moptimal\u001B[39m\u001B[33m\"\u001B[39m:\n\u001B[32m--> \u001B[39m\u001B[32m725\u001B[39m     \u001B[38;5;28;01mraise\u001B[39;00m \u001B[38;5;167;01mValueError\u001B[39;00m(\n\u001B[32m    726\u001B[39m         \u001B[33m\"\u001B[39m\u001B[33mNetwork flow model of metabolism did not \u001B[39m\u001B[33m\"\u001B[39m\n\u001B[32m    727\u001B[39m         \u001B[33m\"\u001B[39m\u001B[33mconverge to an optimal solution.\u001B[39m\u001B[33m\"\u001B[39m\n\u001B[32m    728\u001B[39m     )\n\u001B[32m    730\u001B[39m velocities = np.array(v.value)\n\u001B[32m    731\u001B[39m dm_dt = np.array(dm.value)\n",
      "\u001B[31mValueError\u001B[39m: Network flow model of metabolism did not converge to an optimal solution."
     ]
    }
   ],
   "execution_count": 119
  },
  {
   "metadata": {
    "ExecuteTime": {
     "end_time": "2025-08-07T18:52:54.511991Z",
     "start_time": "2025-08-07T18:52:24.085562Z"
    }
   },
   "cell_type": "code",
   "source": [
    "sim_flux = pd.DataFrame({\n",
    "    'flux': solution_flux,\n",
    "    'is_new': [\n",
    "        'New Reactions' if id in fba_new_reaction_ids_cp2\n",
    "        else 'TEMP' if id in add_reaction.keys()\n",
    "        else 'Old Reactions'\n",
    "            for id in test_reaction_names\n",
    "    ]\n",
    "}, index=test_reaction_names)\n"
   ],
   "id": "525381801833cae",
   "outputs": [],
   "execution_count": 113
  },
  {
   "metadata": {
    "ExecuteTime": {
     "end_time": "2025-08-07T18:52:55.226164Z",
     "start_time": "2025-08-07T18:52:55.208724Z"
    }
   },
   "cell_type": "code",
   "source": [
    "# met_of_interest = ['S-ADENOSYLMETHIONINE[c]']\n",
    "met_of_interest = ['CPD-19237[c]']\n",
    "S_new = pd.DataFrame(S_new, index=test_metabolites, columns=test_reaction_names)\n",
    "S_met, rxns  = get_subset_S(S_new, met_of_interest)\n",
    "rxns = ['RXN-17956', 'RXN0-6734']\n",
    "rxn_flux = sim_flux.loc[rxns]\n",
    "rxn_flux['kinetic'] = [test_kinetic[r] if r in kinetic_reaction_ids else False for r in rxn_flux.index]\n",
    "rxn_flux"
   ],
   "id": "d2d1fa8923408ecd",
   "outputs": [
    {
     "data": {
      "text/plain": [
       "            flux         is_new  kinetic\n",
       "RXN-17956  100.0  New Reactions    False\n",
       "RXN0-6734    0.0  New Reactions    False"
      ],
      "text/html": [
       "<div>\n",
       "<style scoped>\n",
       "    .dataframe tbody tr th:only-of-type {\n",
       "        vertical-align: middle;\n",
       "    }\n",
       "\n",
       "    .dataframe tbody tr th {\n",
       "        vertical-align: top;\n",
       "    }\n",
       "\n",
       "    .dataframe thead th {\n",
       "        text-align: right;\n",
       "    }\n",
       "</style>\n",
       "<table border=\"1\" class=\"dataframe\">\n",
       "  <thead>\n",
       "    <tr style=\"text-align: right;\">\n",
       "      <th></th>\n",
       "      <th>flux</th>\n",
       "      <th>is_new</th>\n",
       "      <th>kinetic</th>\n",
       "    </tr>\n",
       "  </thead>\n",
       "  <tbody>\n",
       "    <tr>\n",
       "      <th>RXN-17956</th>\n",
       "      <td>100.0</td>\n",
       "      <td>New Reactions</td>\n",
       "      <td>False</td>\n",
       "    </tr>\n",
       "    <tr>\n",
       "      <th>RXN0-6734</th>\n",
       "      <td>0.0</td>\n",
       "      <td>New Reactions</td>\n",
       "      <td>False</td>\n",
       "    </tr>\n",
       "  </tbody>\n",
       "</table>\n",
       "</div>"
      ]
     },
     "execution_count": 117,
     "metadata": {},
     "output_type": "execute_result"
    }
   ],
   "execution_count": 117
  },
  {
   "metadata": {
    "ExecuteTime": {
     "end_time": "2025-08-05T18:48:10.288571Z",
     "start_time": "2025-08-05T18:48:10.284029Z"
    }
   },
   "cell_type": "code",
   "source": [
    "# uptake_addition = set(['ADENOSYLCOBALAMIN[e]', 'COB-I-ALAMIN[e]', 'FERRIC-CITRATE-COMPLEX[e]'])\n",
    "# # remove_reaction = ['RXN-19341','RXN-19340','RXN-19334']\n",
    "# uptake_removal = set(['FE+3[e]'])\n",
    "add_reaction={\n",
    "    # 'TEMP-TRANS-1565[e] -> [c]': {\n",
    "    #     'COB-I-ALAMIN[c]' : -1,\n",
    "    #     'PROTON[c]': -1,\n",
    "    #     'P3I[c]': -1,\n",
    "    #     'ADENOSYLCOBALAMIN[p]' : 1,\n",
    "    # },\n",
    "    'TEMP-TRANS-psedo6550[e] -> [c] ()': {\n",
    "        'CPD-19237[c]' : -1,\n",
    "        'CPD-19237[p]' : 1,\n",
    "    },\n",
    "      'TEMP-TRANS-psedo526[p] -> [e] ()': {\n",
    "        'CH4[p]' : -1,\n",
    "        'CH4[e]' : 1,\n",
    "    },\n",
    "#     # 'TEMP-TRANS-1565-2[e] -> [c] (reverse)': {\n",
    "#     #     'ADENOSYLCOBALAMIN[p]' : 1,\n",
    "#     #     'ADENOSYLCOBALAMIN[c]' : -1,\n",
    "#     # },\n",
    "}\n",
    "\n",
    "# add_reaction= {}\n",
    "uptake_addition = set(['PYRUVFORMLY-INACTIVE-CPLX[c]'])\n",
    "uptake_removal = set(['Pi[p]'])\n",
    "objective_weights = {'secretion': 0.01, 'efficiency': 0.000001, 'kinetics': 0.00001}"
   ],
   "id": "3f3fb60835bc31ce",
   "outputs": [],
   "execution_count": 55
  },
  {
   "metadata": {
    "ExecuteTime": {
     "end_time": "2025-08-05T18:48:11.414750Z",
     "start_time": "2025-08-05T18:48:10.829215Z"
    }
   },
   "cell_type": "code",
   "source": [
    "\n",
    "solution_flux, test_reaction_names, S_new, test_metabolites, test_kinetic = test_NetworkFlowModel(\n",
    "                                            objective_weights,\n",
    "                                            uptake_addition=uptake_addition,\n",
    "                                             add_homeostatic_demand=['PYRUVFORMLY-MONOMER[c]'],\n",
    "                                            #  uptake_removal=uptake_removal,\n",
    "                                            # # new_exchange_molecules=new_exchange_molecules,\n",
    "                                             force_reaction=['RXN0-6734'],\n",
    "                                            add_reaction=add_reaction,\n",
    "                                            add_metabolite=['CH4[e]'],\n",
    "                                            # remove_reaction=['TRANS-RXN0-526'],\n",
    ")"
   ],
   "id": "8dcbcb93bbc82394",
   "outputs": [
    {
     "name": "stdout",
     "output_type": "stream",
     "text": [
      "(6079, 9372)\n",
      "(6079, 9374)\n",
      "Force Reaction ID is: [3547]\n"
     ]
    },
    {
     "ename": "ValueError",
     "evalue": "Network flow model of metabolism did not converge to an optimal solution.",
     "output_type": "error",
     "traceback": [
      "\u001B[31m---------------------------------------------------------------------------\u001B[39m",
      "\u001B[31mValueError\u001B[39m                                Traceback (most recent call last)",
      "\u001B[36mCell\u001B[39m\u001B[36m \u001B[39m\u001B[32mIn[56]\u001B[39m\u001B[32m, line 1\u001B[39m\n\u001B[32m----> \u001B[39m\u001B[32m1\u001B[39m solution_flux, test_reaction_names, S_new, test_metabolites, test_kinetic = \u001B[43mtest_NetworkFlowModel\u001B[49m\u001B[43m(\u001B[49m\n\u001B[32m      2\u001B[39m \u001B[43m                                            \u001B[49m\u001B[43mobjective_weights\u001B[49m\u001B[43m,\u001B[49m\n\u001B[32m      3\u001B[39m \u001B[43m                                            \u001B[49m\u001B[43muptake_addition\u001B[49m\u001B[43m=\u001B[49m\u001B[43muptake_addition\u001B[49m\u001B[43m,\u001B[49m\n\u001B[32m      4\u001B[39m \u001B[43m                                             \u001B[49m\u001B[43madd_homeostatic_demand\u001B[49m\u001B[43m=\u001B[49m\u001B[43m[\u001B[49m\u001B[33;43m'\u001B[39;49m\u001B[33;43mPYRUVFORMLY-MONOMER[c]\u001B[39;49m\u001B[33;43m'\u001B[39;49m\u001B[43m]\u001B[49m\u001B[43m,\u001B[49m\n\u001B[32m      5\u001B[39m \u001B[43m                                            \u001B[49m\u001B[38;5;66;43;03m#  uptake_removal=uptake_removal,\u001B[39;49;00m\n\u001B[32m      6\u001B[39m \u001B[43m                                            \u001B[49m\u001B[38;5;66;43;03m# # new_exchange_molecules=new_exchange_molecules,\u001B[39;49;00m\n\u001B[32m      7\u001B[39m \u001B[43m                                             \u001B[49m\u001B[43mforce_reaction\u001B[49m\u001B[43m=\u001B[49m\u001B[43m[\u001B[49m\u001B[33;43m'\u001B[39;49m\u001B[33;43mRXN0-6734\u001B[39;49m\u001B[33;43m'\u001B[39;49m\u001B[43m]\u001B[49m\u001B[43m,\u001B[49m\n\u001B[32m      8\u001B[39m \u001B[43m                                            \u001B[49m\u001B[43madd_reaction\u001B[49m\u001B[43m=\u001B[49m\u001B[43madd_reaction\u001B[49m\u001B[43m,\u001B[49m\n\u001B[32m      9\u001B[39m \u001B[43m                                            \u001B[49m\u001B[43madd_metabolite\u001B[49m\u001B[43m=\u001B[49m\u001B[43m[\u001B[49m\u001B[33;43m'\u001B[39;49m\u001B[33;43mCH4[e]\u001B[39;49m\u001B[33;43m'\u001B[39;49m\u001B[43m]\u001B[49m\u001B[43m,\u001B[49m\n\u001B[32m     10\u001B[39m \u001B[43m                                            \u001B[49m\u001B[38;5;66;43;03m# remove_reaction=['TRANS-RXN0-526'],\u001B[39;49;00m\n\u001B[32m     11\u001B[39m \u001B[43m)\u001B[49m\n",
      "\u001B[36mCell\u001B[39m\u001B[36m \u001B[39m\u001B[32mIn[6]\u001B[39m\u001B[32m, line 92\u001B[39m, in \u001B[36mtest_NetworkFlowModel\u001B[39m\u001B[34m(objective_weights, uptake_addition, uptake_removal, new_exchange_molecules, add_metabolite, add_reaction, add_kinetic, remove_reaction, add_homeostatic_demand, force_reaction)\u001B[39m\n\u001B[32m     84\u001B[39m model = NetworkFlowModel(\n\u001B[32m     85\u001B[39m         stoich_arr=S_new,\n\u001B[32m     86\u001B[39m         metabolites=metabolites,\n\u001B[32m   (...)\u001B[39m\u001B[32m     89\u001B[39m         kinetic_reactions=kinetic_reaction_ids,\n\u001B[32m     90\u001B[39m         free_reactions=FREE_RXNS)\n\u001B[32m     91\u001B[39m model.set_up_exchanges(exchanges=exchange_molecules, uptakes=uptake)\n\u001B[32m---> \u001B[39m\u001B[32m92\u001B[39m solution: FlowResult = \u001B[43mmodel\u001B[49m\u001B[43m.\u001B[49m\u001B[43msolve\u001B[49m\u001B[43m(\u001B[49m\n\u001B[32m     93\u001B[39m \u001B[43m        \u001B[49m\u001B[43mhomeostatic_concs\u001B[49m\u001B[43m=\u001B[49m\u001B[43mhomeostatic_counts\u001B[49m\u001B[43m,\u001B[49m\u001B[43m \u001B[49m\u001B[38;5;66;43;03m# in conc\u001B[39;49;00m\n\u001B[32m     94\u001B[39m \u001B[43m        \u001B[49m\u001B[43mhomeostatic_dm_targets\u001B[49m\u001B[43m=\u001B[49m\u001B[43mnp\u001B[49m\u001B[43m.\u001B[49m\u001B[43marray\u001B[49m\u001B[43m(\u001B[49m\u001B[38;5;28;43mlist\u001B[39;49m\u001B[43m(\u001B[49m\u001B[38;5;28;43mdict\u001B[39;49m\u001B[43m(\u001B[49m\u001B[43mhomeostatic\u001B[49m\u001B[43m)\u001B[49m\u001B[43m.\u001B[49m\u001B[43mvalues\u001B[49m\u001B[43m(\u001B[49m\u001B[43m)\u001B[49m\u001B[43m)\u001B[49m\u001B[43m)\u001B[49m\u001B[43m,\u001B[49m\u001B[43m \u001B[49m\u001B[38;5;66;43;03m# *10^7\u001B[39;49;00m\n\u001B[32m     95\u001B[39m \u001B[43m        \u001B[49m\u001B[43mmaintenance_target\u001B[49m\u001B[43m=\u001B[49m\u001B[43mmaintenance_cp2\u001B[49m\u001B[43m,\u001B[49m\u001B[43m \u001B[49m\u001B[38;5;66;43;03m# *10^6 ish\u001B[39;49;00m\n\u001B[32m     96\u001B[39m \u001B[43m        \u001B[49m\u001B[43mkinetic_targets\u001B[49m\u001B[43m=\u001B[49m\u001B[43mnp\u001B[49m\u001B[43m.\u001B[49m\u001B[43marray\u001B[49m\u001B[43m(\u001B[49m\u001B[38;5;28;43mlist\u001B[39;49m\u001B[43m(\u001B[49m\u001B[38;5;28;43mdict\u001B[39;49m\u001B[43m(\u001B[49m\u001B[43mkinetic\u001B[49m\u001B[43m)\u001B[49m\u001B[43m.\u001B[49m\u001B[43mvalues\u001B[49m\u001B[43m(\u001B[49m\u001B[43m)\u001B[49m\u001B[43m)\u001B[49m\u001B[43m)\u001B[49m\u001B[43m,\u001B[49m\u001B[43m \u001B[49m\u001B[38;5;66;43;03m# *10^6 ish\u001B[39;49;00m\n\u001B[32m     97\u001B[39m \u001B[43m        \u001B[49m\u001B[38;5;66;43;03m# binary_kinetic_idx=binary_kinetic_idx, #7646\u001B[39;49;00m\n\u001B[32m     98\u001B[39m \u001B[43m        \u001B[49m\u001B[43mbinary_kinetic_idx\u001B[49m\u001B[43m=\u001B[49m\u001B[38;5;28;43;01mNone\u001B[39;49;00m\u001B[43m,\u001B[49m\n\u001B[32m     99\u001B[39m \u001B[43m        \u001B[49m\u001B[43mforce_flow_idx\u001B[49m\u001B[43m=\u001B[49m\u001B[43mforce_reaction_idx\u001B[49m\u001B[43m,\u001B[49m\n\u001B[32m    100\u001B[39m \u001B[43m        \u001B[49m\u001B[43mobjective_weights\u001B[49m\u001B[43m=\u001B[49m\u001B[43mobjective_weights\u001B[49m\u001B[43m,\u001B[49m\u001B[43m \u001B[49m\u001B[38;5;66;43;03m#same\u001B[39;49;00m\n\u001B[32m    101\u001B[39m \u001B[43m        \u001B[49m\u001B[43mupper_flux_bound\u001B[49m\u001B[43m=\u001B[49m\u001B[43m \u001B[49m\u001B[32;43m1000000000\u001B[39;49m\u001B[43m,\u001B[49m\u001B[43m \u001B[49m\u001B[38;5;66;43;03m# increase to 10^9 because notebook runs FlowResult using Counts, WC runs using conc.\u001B[39;49;00m\n\u001B[32m    102\u001B[39m \u001B[43m        \u001B[49m\u001B[43msolver\u001B[49m\u001B[43m=\u001B[49m\u001B[43mcp\u001B[49m\u001B[43m.\u001B[49m\u001B[43mGLOP\u001B[49m\u001B[43m)\u001B[49m \u001B[38;5;66;03m#SCS. ECOS\u001B[39;00m\n\u001B[32m    103\u001B[39m \u001B[38;5;28mprint\u001B[39m(\u001B[33mf\u001B[39m\u001B[33m'\u001B[39m\u001B[33mOptimal objective function reached is: \u001B[39m\u001B[38;5;132;01m{\u001B[39;00msolution.objective\u001B[38;5;132;01m}\u001B[39;00m\u001B[33m'\u001B[39m)\n\u001B[32m    104\u001B[39m \u001B[38;5;28;01mreturn\u001B[39;00m solution.velocities, reaction_names, S_new, metabolites, kinetic\n",
      "\u001B[36mFile \u001B[39m\u001B[32m~/vEcoli/ecoli/processes/metabolism_redux_classic.py:725\u001B[39m, in \u001B[36mNetworkFlowModel.solve\u001B[39m\u001B[34m(self, homeostatic_concs, homeostatic_dm_targets, maintenance_target, kinetic_targets, binary_kinetic_idx, force_flow_idx, objective_weights, upper_flux_bound, solver)\u001B[39m\n\u001B[32m    723\u001B[39m p.solve(solver=solver, verbose=\u001B[38;5;28;01mFalse\u001B[39;00m)\n\u001B[32m    724\u001B[39m \u001B[38;5;28;01mif\u001B[39;00m p.status != \u001B[33m\"\u001B[39m\u001B[33moptimal\u001B[39m\u001B[33m\"\u001B[39m:\n\u001B[32m--> \u001B[39m\u001B[32m725\u001B[39m     \u001B[38;5;28;01mraise\u001B[39;00m \u001B[38;5;167;01mValueError\u001B[39;00m(\n\u001B[32m    726\u001B[39m         \u001B[33m\"\u001B[39m\u001B[33mNetwork flow model of metabolism did not \u001B[39m\u001B[33m\"\u001B[39m\n\u001B[32m    727\u001B[39m         \u001B[33m\"\u001B[39m\u001B[33mconverge to an optimal solution.\u001B[39m\u001B[33m\"\u001B[39m\n\u001B[32m    728\u001B[39m     )\n\u001B[32m    730\u001B[39m velocities = np.array(v.value)\n\u001B[32m    731\u001B[39m dm_dt = np.array(dm.value)\n",
      "\u001B[31mValueError\u001B[39m: Network flow model of metabolism did not converge to an optimal solution."
     ]
    }
   ],
   "execution_count": 56
  },
  {
   "metadata": {
    "ExecuteTime": {
     "end_time": "2025-08-04T23:23:18.094465Z",
     "start_time": "2025-08-04T23:23:18.075724Z"
    }
   },
   "cell_type": "code",
   "source": [
    "sim_flux = pd.DataFrame({\n",
    "    'flux': solution_flux,\n",
    "    'is_new': [\n",
    "        'New Reactions' if id in fba_new_reaction_ids_cp2\n",
    "        else 'TEMP' if id in add_reaction.keys()\n",
    "        else 'Old Reactions'\n",
    "            for id in test_reaction_names\n",
    "    ]\n",
    "}, index=test_reaction_names)"
   ],
   "id": "abd2da3237fa9c96",
   "outputs": [],
   "execution_count": 43
  },
  {
   "metadata": {
    "ExecuteTime": {
     "end_time": "2025-08-04T23:23:19.210841Z",
     "start_time": "2025-08-04T23:23:19.203655Z"
    }
   },
   "cell_type": "code",
   "source": [
    "\n",
    "met_of_interest = ['CPD0-2167[c]','CH33ADO[c]']\n",
    "S_new = pd.DataFrame(S_new, index=test_metabolites, columns=test_reaction_names)\n",
    "S_met, rxns  = get_subset_S(S_new, met_of_interest)\n",
    "# rxns = ['RXN0-6732', 'RXN-17954']\n",
    "rxn_flux = sim_flux.loc[rxns]\n",
    "rxn_flux['kinetic'] = [test_kinetic[r] if r in kinetic_reaction_ids else False for r in rxn_flux.index]\n",
    "rxn_flux"
   ],
   "id": "9bdaa89d1e742953",
   "outputs": [
    {
     "data": {
      "text/plain": [
       "                                                   flux         is_new kinetic\n",
       "1.97.1.4-A-RXN                                    100.0  New Reactions   False\n",
       "2.8.1.6-RXN                                         2.0  Old Reactions   250.0\n",
       "HEMN-RXN                                           -0.0  Old Reactions   False\n",
       "PYRIMSYN1-RXN                                      12.0  Old Reactions   False\n",
       "RNTRACTIV-RXN                                      -0.0  Old Reactions   False\n",
       "RXN-11319                                          12.0  Old Reactions   False\n",
       "RXN-11586                                          -0.0  Old Reactions   False\n",
       "RXN-14480                                          -0.0  Old Reactions   False\n",
       "RXN-17472                                          -0.0  Old Reactions   False\n",
       "RXN-17473                                          -0.0  Old Reactions   False\n",
       "RXN-17956                                           0.0  New Reactions   False\n",
       "RXN-8340                                           -0.0  New Reactions   False\n",
       "RXN0-5063                                          -0.0  Old Reactions   False\n",
       "RXN0-6366                                          -0.0  Old Reactions   False\n",
       "RXN0-6550                                         128.0  Old Reactions   False\n",
       "RXN0-6734                                           0.0  New Reactions   False\n",
       "RXN0-7007                                          -0.0  Old Reactions   False\n",
       "RXN0-949                                           -0.0  Old Reactions   False\n",
       "TDCEACT1-RXN                                       -0.0  New Reactions   False\n",
       "TRANS-RXN-108-CH33ADO/PROTON//CH33ADO/PROTON.31.    0.0  Old Reactions   False"
      ],
      "text/html": [
       "<div>\n",
       "<style scoped>\n",
       "    .dataframe tbody tr th:only-of-type {\n",
       "        vertical-align: middle;\n",
       "    }\n",
       "\n",
       "    .dataframe tbody tr th {\n",
       "        vertical-align: top;\n",
       "    }\n",
       "\n",
       "    .dataframe thead th {\n",
       "        text-align: right;\n",
       "    }\n",
       "</style>\n",
       "<table border=\"1\" class=\"dataframe\">\n",
       "  <thead>\n",
       "    <tr style=\"text-align: right;\">\n",
       "      <th></th>\n",
       "      <th>flux</th>\n",
       "      <th>is_new</th>\n",
       "      <th>kinetic</th>\n",
       "    </tr>\n",
       "  </thead>\n",
       "  <tbody>\n",
       "    <tr>\n",
       "      <th>1.97.1.4-A-RXN</th>\n",
       "      <td>100.0</td>\n",
       "      <td>New Reactions</td>\n",
       "      <td>False</td>\n",
       "    </tr>\n",
       "    <tr>\n",
       "      <th>2.8.1.6-RXN</th>\n",
       "      <td>2.0</td>\n",
       "      <td>Old Reactions</td>\n",
       "      <td>250.0</td>\n",
       "    </tr>\n",
       "    <tr>\n",
       "      <th>HEMN-RXN</th>\n",
       "      <td>-0.0</td>\n",
       "      <td>Old Reactions</td>\n",
       "      <td>False</td>\n",
       "    </tr>\n",
       "    <tr>\n",
       "      <th>PYRIMSYN1-RXN</th>\n",
       "      <td>12.0</td>\n",
       "      <td>Old Reactions</td>\n",
       "      <td>False</td>\n",
       "    </tr>\n",
       "    <tr>\n",
       "      <th>RNTRACTIV-RXN</th>\n",
       "      <td>-0.0</td>\n",
       "      <td>Old Reactions</td>\n",
       "      <td>False</td>\n",
       "    </tr>\n",
       "    <tr>\n",
       "      <th>RXN-11319</th>\n",
       "      <td>12.0</td>\n",
       "      <td>Old Reactions</td>\n",
       "      <td>False</td>\n",
       "    </tr>\n",
       "    <tr>\n",
       "      <th>RXN-11586</th>\n",
       "      <td>-0.0</td>\n",
       "      <td>Old Reactions</td>\n",
       "      <td>False</td>\n",
       "    </tr>\n",
       "    <tr>\n",
       "      <th>RXN-14480</th>\n",
       "      <td>-0.0</td>\n",
       "      <td>Old Reactions</td>\n",
       "      <td>False</td>\n",
       "    </tr>\n",
       "    <tr>\n",
       "      <th>RXN-17472</th>\n",
       "      <td>-0.0</td>\n",
       "      <td>Old Reactions</td>\n",
       "      <td>False</td>\n",
       "    </tr>\n",
       "    <tr>\n",
       "      <th>RXN-17473</th>\n",
       "      <td>-0.0</td>\n",
       "      <td>Old Reactions</td>\n",
       "      <td>False</td>\n",
       "    </tr>\n",
       "    <tr>\n",
       "      <th>RXN-17956</th>\n",
       "      <td>0.0</td>\n",
       "      <td>New Reactions</td>\n",
       "      <td>False</td>\n",
       "    </tr>\n",
       "    <tr>\n",
       "      <th>RXN-8340</th>\n",
       "      <td>-0.0</td>\n",
       "      <td>New Reactions</td>\n",
       "      <td>False</td>\n",
       "    </tr>\n",
       "    <tr>\n",
       "      <th>RXN0-5063</th>\n",
       "      <td>-0.0</td>\n",
       "      <td>Old Reactions</td>\n",
       "      <td>False</td>\n",
       "    </tr>\n",
       "    <tr>\n",
       "      <th>RXN0-6366</th>\n",
       "      <td>-0.0</td>\n",
       "      <td>Old Reactions</td>\n",
       "      <td>False</td>\n",
       "    </tr>\n",
       "    <tr>\n",
       "      <th>RXN0-6550</th>\n",
       "      <td>128.0</td>\n",
       "      <td>Old Reactions</td>\n",
       "      <td>False</td>\n",
       "    </tr>\n",
       "    <tr>\n",
       "      <th>RXN0-6734</th>\n",
       "      <td>0.0</td>\n",
       "      <td>New Reactions</td>\n",
       "      <td>False</td>\n",
       "    </tr>\n",
       "    <tr>\n",
       "      <th>RXN0-7007</th>\n",
       "      <td>-0.0</td>\n",
       "      <td>Old Reactions</td>\n",
       "      <td>False</td>\n",
       "    </tr>\n",
       "    <tr>\n",
       "      <th>RXN0-949</th>\n",
       "      <td>-0.0</td>\n",
       "      <td>Old Reactions</td>\n",
       "      <td>False</td>\n",
       "    </tr>\n",
       "    <tr>\n",
       "      <th>TDCEACT1-RXN</th>\n",
       "      <td>-0.0</td>\n",
       "      <td>New Reactions</td>\n",
       "      <td>False</td>\n",
       "    </tr>\n",
       "    <tr>\n",
       "      <th>TRANS-RXN-108-CH33ADO/PROTON//CH33ADO/PROTON.31.</th>\n",
       "      <td>0.0</td>\n",
       "      <td>Old Reactions</td>\n",
       "      <td>False</td>\n",
       "    </tr>\n",
       "  </tbody>\n",
       "</table>\n",
       "</div>"
      ]
     },
     "execution_count": 44,
     "metadata": {},
     "output_type": "execute_result"
    }
   ],
   "execution_count": 44
  },
  {
   "metadata": {
    "ExecuteTime": {
     "end_time": "2025-07-31T22:44:05.791973Z",
     "start_time": "2025-07-31T22:44:05.786662Z"
    }
   },
   "cell_type": "code",
   "source": [
    "uptake_addition = set(['TAURINE[e]'])\n",
    "uptake_removal = set(['GLC[p]'])\n",
    "force_reaction =['ABC-64-RXN']\n",
    "# uptake_addition = set(['SORBITOL[e]','MANNITOL[e]'])\n",
    "\n",
    "#force_reaction = ['RXN-24169', 'RXN-24170', 'RXN-14722']\n",
    "# uptake_addition = set(['COB-I-ALAMIN[e]', 'CPD-20903[e]', 'Oxidized-Flavoproteins[e]'])\n",
    "\n",
    "#uptake_addition = set(['CPD-20903[e]','COB-I-ALAMIN[e]'])\n",
    "# uptake_removal = set(['Pi[p]'])\n",
    "# force_reaction= ['RXN0-1565']\n",
    "# force_reaction = ['TRANS-RXN0-283', 'RXN0-1682','RXN0-1721', 'TRANS-RXN-297', 'TRANS-RXN-298']\n",
    "    # ['TRANS-RXN0-283','RXN0-1682']\n",
    "# 'BUTYL-HYDROPEROXIDE[p]' 'CPD0-2482[e]', 'CPD0-621[e]', 'CPD0-2241[e]\n",
    "# add_metabolite = {'CPD-334[e]'}'TRANS-RXN-162'\n",
    "# remove_reaction = ['RXN0-1565']\n",
    "\n",
    "# ['RXN0-1565', 'TRANS-RXN0-283', 'RXN0-1682', 'RXN0-1701', 'RXN0-1684', 'RXN0-1702', 'RXN0-1721', 'TRANS-RXN0-629']\n",
    "# add_reaction = {\n",
    "#     'TEMP-DTDP-RHAMNOSEs-in[e]->[p]': {\n",
    "#         'DTDP-RHAMNOSE[e]': -1,\n",
    "#         'DTDP-RHAMNOSE[p]': 1,\n",
    "#     },\n",
    "#     'TEMP-HDTDP-RHAMNOSEs-in[p]->[c]': {\n",
    "#         'DTDP-RHAMNOSE[p]': -1,\n",
    "#         'DTDP-RHAMNOSE[c]': 1,\n",
    "#     }\n",
    "#\n",
    "# }\n",
    "# ['RXN0-262', 'RXN-21601', 'RXN-16457', 'RXN-16456']\n",
    "# new_exchange_molecules = set(['FE+3[p]', 'N-23-DIHYDROXYBENZOYL-L-SERINE[e]'])\n",
    "# add_reaction={\n",
    "#     'TEMP-TRANS-1592[e] -> [c]': {\n",
    "#         'ADENOSYLCOBALAMIN[e]' : -1,\n",
    "#         'ADENOSYLCOBALAMIN[p]' : 1,\n",
    "#     },\n",
    "#     'TEMP-TRANS-1592-2[e] -> [c] (reverse)': {\n",
    "#         'ADENOSYLCOBALAMIN[p]' : 1,\n",
    "#         'ADENOSYLCOBALAMIN[c]' : -1,\n",
    "#     },\n",
    "# }\n",
    "# add_metabolite = {'ADENOSYLCOBALAMIN[e]'}\n",
    "objective_weights = {'secretion': 0.01, 'efficiency': 0.000001, 'kinetics': 0.00001}"
   ],
   "id": "840126a85414cc67",
   "outputs": [],
   "execution_count": 119
  },
  {
   "metadata": {
    "ExecuteTime": {
     "end_time": "2025-07-31T22:44:07.997933Z",
     "start_time": "2025-07-31T22:44:07.560746Z"
    }
   },
   "cell_type": "code",
   "source": [
    "\n",
    "solution_flux, test_reaction_names, S_new, test_metabolites, test_kinetic = test_NetworkFlowModel(\n",
    "                                            objective_weights,\n",
    "                                            uptake_addition=uptake_addition,\n",
    "                                            #  add_homeostatic_demand=['ADENOSYLCOBALAMIN[c]'],\n",
    "                                             uptake_removal=uptake_removal,\n",
    "                                            # # new_exchange_molecules=new_exchange_molecules,\n",
    "                                             force_reaction=force_reaction,\n",
    "                                            # add_reaction=add_reaction,\n",
    "                                            # add_metabolite=add_metabolite,\n",
    "                                            # remove_reaction=remove_reaction,\n",
    ")"
   ],
   "id": "5f6a5ae09d4b95a8",
   "outputs": [
    {
     "name": "stdout",
     "output_type": "stream",
     "text": [
      "Force Reaction ID is: [493]\n",
      "Optimal objective function reached is: 43373.99632072635\n"
     ]
    }
   ],
   "execution_count": 120
  },
  {
   "metadata": {
    "ExecuteTime": {
     "end_time": "2025-07-31T22:44:10.158056Z",
     "start_time": "2025-07-31T22:44:10.135460Z"
    }
   },
   "cell_type": "code",
   "source": [
    "sim_flux = pd.DataFrame({\n",
    "    'flux': solution_flux,\n",
    "    'is_new': [\n",
    "        'New Reactions' if id in fba_new_reaction_ids_cp2\n",
    "        else 'TEMP' if id in add_reaction.keys()\n",
    "        else 'Old Reactions'\n",
    "            for id in test_reaction_names\n",
    "    ]\n",
    "}, index=test_reaction_names)"
   ],
   "id": "39862a27518ff501",
   "outputs": [],
   "execution_count": 121
  },
  {
   "metadata": {
    "ExecuteTime": {
     "end_time": "2025-07-31T22:44:21.331214Z",
     "start_time": "2025-07-31T22:44:21.301981Z"
    }
   },
   "cell_type": "code",
   "source": [
    "# met_of_interest = [\"CPD-20903[p]\", 'FERRIC-ENTEROBACTIN-COMPLEX[p]', 'CPD0-2482[p]', 'CPD-25891[c]', 'CPD0-2114[c]','CPD0-2241[c]']\n",
    "# met_of_interest = ['COB-I-ALAMIN[p]','COB-I-ALAMIN[c]','CPD-1829[c]','CPD-20903[p]', 'Oxidized-Flavoproteins[c]']\n",
    "# met_of_interest = ['FERRIC-ENTEROBACTIN-COMPLEX[p]', 'CPD-17082[c]','CPD-25891[c]', 'CPD0-2241[c]','CPD0-2241[p]','CPD0-2114[c]','CPD0-621[c]']'CPD-536[c]','GLYCEROL[p]','GLYCEROL[c]',\n",
    "met_of_interest = ['TAURINE[c]']\n",
    "S_new = pd.DataFrame(S_new, index=test_metabolites, columns=test_reaction_names)\n",
    "S_met, rxns  = get_subset_S(S_new, met_of_interest)\n",
    "rxns = ['RXN0-2162']\n",
    "\n",
    "rxn_flux = sim_flux.loc[rxns]\n",
    "rxn_flux['kinetic'] = [test_kinetic[r] if r in kinetic_reaction_ids else False for r in rxn_flux.index]\n",
    "rxn_flux"
   ],
   "id": "c5bed4230ccafe3a",
   "outputs": [
    {
     "data": {
      "text/plain": [
       "           flux         is_new  kinetic\n",
       "RXN0-2162  -0.0  New Reactions    False"
      ],
      "text/html": [
       "<div>\n",
       "<style scoped>\n",
       "    .dataframe tbody tr th:only-of-type {\n",
       "        vertical-align: middle;\n",
       "    }\n",
       "\n",
       "    .dataframe tbody tr th {\n",
       "        vertical-align: top;\n",
       "    }\n",
       "\n",
       "    .dataframe thead th {\n",
       "        text-align: right;\n",
       "    }\n",
       "</style>\n",
       "<table border=\"1\" class=\"dataframe\">\n",
       "  <thead>\n",
       "    <tr style=\"text-align: right;\">\n",
       "      <th></th>\n",
       "      <th>flux</th>\n",
       "      <th>is_new</th>\n",
       "      <th>kinetic</th>\n",
       "    </tr>\n",
       "  </thead>\n",
       "  <tbody>\n",
       "    <tr>\n",
       "      <th>RXN0-2162</th>\n",
       "      <td>-0.0</td>\n",
       "      <td>New Reactions</td>\n",
       "      <td>False</td>\n",
       "    </tr>\n",
       "  </tbody>\n",
       "</table>\n",
       "</div>"
      ]
     },
     "execution_count": 122,
     "metadata": {},
     "output_type": "execute_result"
    }
   ],
   "execution_count": 122
  },
  {
   "metadata": {
    "ExecuteTime": {
     "end_time": "2025-07-22T21:32:08.966854Z",
     "start_time": "2025-07-22T21:32:08.962037Z"
    }
   },
   "cell_type": "code",
   "source": "DIMETHYLBENZIMIDAZOLE[CCO-PERI-BAC]S_met",
   "id": "6d21533f3ad7810e",
   "outputs": [
    {
     "ename": "SyntaxError",
     "evalue": "invalid syntax (1544789365.py, line 1)",
     "output_type": "error",
     "traceback": [
      "  \u001B[36mCell\u001B[39m\u001B[36m \u001B[39m\u001B[32mIn[791]\u001B[39m\u001B[32m, line 1\u001B[39m\n\u001B[31m    \u001B[39m\u001B[31mDIMETHYLBENZIMIDAZOLE[CCO-PERI-BAC]S_met\u001B[39m\n                                       ^\n\u001B[31mSyntaxError\u001B[39m\u001B[31m:\u001B[39m invalid syntax\n"
     ]
    }
   ],
   "execution_count": 791
  },
  {
   "metadata": {
    "ExecuteTime": {
     "end_time": "2025-07-16T22:33:26.206370Z",
     "start_time": "2025-07-16T22:33:26.199657Z"
    }
   },
   "cell_type": "code",
   "source": "homeostatic_cp2",
   "id": "777ca55abd2c671f",
   "outputs": [
    {
     "data": {
      "text/plain": [
       "2-3-DIHYDROXYBENZOATE[c]    18.0\n",
       "2-KETOGLUTARATE[c]          46.0\n",
       "2-PG[c]                     12.0\n",
       "2K-4CH3-PENTANOATE[c]       18.0\n",
       "4-AMINO-BUTYRATE[c]         38.0\n",
       "                            ... \n",
       "NA+[p]                      13.0\n",
       "OXYGEN-MOLECULE[p]          13.0\n",
       "FE+3[p]                     13.0\n",
       "CA+2[p]                     13.0\n",
       "Pi[p]                       13.0\n",
       "Name: 24, Length: 172, dtype: float64"
      ]
     },
     "execution_count": 77,
     "metadata": {},
     "output_type": "execute_result"
    }
   ],
   "execution_count": 77
  },
  {
   "metadata": {
    "ExecuteTime": {
     "end_time": "2025-07-11T20:50:25.243238Z",
     "start_time": "2025-07-11T20:50:25.232677Z"
    }
   },
   "cell_type": "code",
   "source": [
    "met_of_interest = ['HIS[e]', 'CPD-58[e]', 'HEXANOATE[e]', 'CPD-3785[e]', 'CPD-3617[e]', 'CPD-13399[e]', 'XYLITOL[e]', 'CPD0-1937[e]', 'CPD0-1123[e]', 'L-LACTATE[e]', 'GLUCOSAMINE[p]', 'ERYTHRITOL[e]', '4-HYDROXY-BUTYRATE[e]', 'CPD-13413[e]', 'CPD0-2460[e]', 'ACETAMIDE[e]', 'CPD-3611[e]', 'ILE[e]', 'LEU[e]', 'PHE[e]', '5-DEHYDROGLUCONATE[p]', 'CPD-3605[e]', 'CPD-13409[e]', 'OXALATE[e]', '5-AMINOPENTANOATE[e]', 'D-TARTRATE[p]', 'D-ARABINOSE[p]', 'DIHYDROXYACETONE[e]', 'L-ARABITOL[e]', 'VAL[e]', 'GLY[e]', 'CPD-3614[e]', 'CPD-230[e]', 'QUINATE[c]', 'TARTRATE[p]', '4-AMINO-BUTYRATE[e]', '4-hydroxybenzoate[e]', 'ITACONATE[e]', 'MET[e]', 'HOMO-SER[e]', 'ACETYL-GLU[e]', 'CPD-24954[e]', 'CPD-110[e]', '5-OXOPROLINE[c]', 'MANNITOL[e]', 'MALONATE[e]', 'CPD-3627[e]', 'DIACETYL[c]', 'METHYL-BETA-D-GALACTOSIDE[e]', 'BUTYRIC_ACID[e]', 'L-ORNITHINE[e]', 'CPD-335[e]', 'CPD-1099[e]', 'ARG[e]', 'LYS[e]', 'CPD-3609[e]', 'CPD-9569[c]', 'CPD-170[e]', 'CPD-1142[e]', '4-HYDROXY-L-PROLINE[e]', 'CPD-3607[e]', 'Ket0-D-Psicose[e]', 'Alpha-lactose[e]', 'CPD-3623[e]', 'CPD-3801[p]', 'HYDROQUINONE-O-BETA-D-GLUCOPYRANOSIDE[e]', 'PUTRESCINE[e]', 'CPD-355[e]']\n",
    "S_new = pd.DataFrame(S_new, index=test_metabolites, columns=test_reaction_names)\n",
    "S_met, rxns  = get_subset_S(S_new, met_of_interest)\n",
    "all_rxns_to_check = list(rxns)# rxn_flux = sim_flux.loc[rxns]\n",
    "# rxn_flux['kinetic'] = [test_kinetic[r] if r in kinetic_reaction_ids else False for r in rxn_flux.index]\n",
    "# rxn_flux"
   ],
   "id": "4425dd4c855f0040",
   "outputs": [],
   "execution_count": 141
  },
  {
   "metadata": {
    "ExecuteTime": {
     "end_time": "2025-07-11T20:50:25.773949Z",
     "start_time": "2025-07-11T20:50:25.771072Z"
    }
   },
   "cell_type": "code",
   "source": "%store all_rxns_to_check",
   "id": "64657b1a63112240",
   "outputs": [
    {
     "name": "stdout",
     "output_type": "stream",
     "text": [
      "Stored 'all_rxns_to_check' (list)\n"
     ]
    }
   ],
   "execution_count": 142
  }
 ],
 "metadata": {
  "kernelspec": {
   "display_name": "Python 3",
   "language": "python",
   "name": "python3"
  },
  "language_info": {
   "codemirror_mode": {
    "name": "ipython",
    "version": 2
   },
   "file_extension": ".py",
   "mimetype": "text/x-python",
   "name": "python",
   "nbconvert_exporter": "python",
   "pygments_lexer": "ipython2",
   "version": "2.7.6"
  }
 },
 "nbformat": 4,
 "nbformat_minor": 5
}
