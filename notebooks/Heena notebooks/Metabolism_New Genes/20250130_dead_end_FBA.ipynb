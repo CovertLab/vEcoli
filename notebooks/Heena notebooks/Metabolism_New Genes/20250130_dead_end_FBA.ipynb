{
 "cells": [
  {
   "cell_type": "code",
   "id": "initial_id",
   "metadata": {
    "collapsed": true,
    "ExecuteTime": {
     "end_time": "2025-01-30T23:01:23.491544Z",
     "start_time": "2025-01-30T23:01:23.480132Z"
    }
   },
   "source": [
    "import numpy as np\n",
    "import ast\n",
    "import seaborn as sns\n",
    "import pandas as pd\n",
    "import os\n",
    "import matplotlib.pyplot as plt\n",
    "import dill\n",
    "import requests\n",
    "import xmltodict\n",
    "import cvxpy as cp\n",
    "import itertools\n",
    "import networkx as nx\n",
    "\n",
    "from scipy.special import logsumexp\n",
    "\n",
    "%matplotlib inline\n",
    "# sns.set(style='darkgrid', palette='viridis', context='talk')\n",
    "\n",
    "os.chdir(os.path.expanduser('~/dev/vivarium-ecoli'))\n",
    "\n",
    "from ecoli.processes.metabolism_redux_classic import NetworkFlowModel, FlowResult\n",
    "from ecoli.library.schema import numpy_schema, bulk_name_to_idx, listener_schema, counts\n",
    "from ecoli.processes.registries import topology_registry\n",
    "TOPOLOGY = topology_registry.access(\"ecoli-metabolism-redux\")\n",
    "\n",
    "FREE_RXNS = [\"TRANS-RXN-145\", \"TRANS-RXN0-545\", \"TRANS-RXN0-474\"]\n",
    "\n",
    "%matplotlib inline"
   ],
   "outputs": [],
   "execution_count": 17
  },
  {
   "metadata": {},
   "cell_type": "markdown",
   "source": "### Load Experiments",
   "id": "36d6b1176accab2d"
  },
  {
   "metadata": {
    "ExecuteTime": {
     "end_time": "2025-01-30T23:01:25.929014Z",
     "start_time": "2025-01-30T23:01:23.504547Z"
    }
   },
   "cell_type": "code",
   "source": [
    "time = '400'\n",
    "date = '2025-01-30'\n",
    "experiment = 'NEW_updated_bad_rxn'\n",
    "condition = 'basal'\n",
    "entry = f'{experiment}_{time}_{date}'\n",
    "folder = f'out/metabolism-comparison/{condition}/{entry}/'\n",
    "\n",
    "output = np.load(folder + '0_output.npy',allow_pickle='TRUE').item()\n",
    "# output = np.load(r\"out/geneRxnVerifData/output_glc.npy\", allow_pickle=True, encoding='ASCII').tolist()\n",
    "output = output['agents']['0']\n",
    "fba = output['listeners']['fba_results']\n",
    "mass = output['listeners']['mass']\n",
    "bulk = pd.DataFrame(output['bulk'])"
   ],
   "id": "fe795efa23ebb3de",
   "outputs": [],
   "execution_count": 18
  },
  {
   "metadata": {
    "ExecuteTime": {
     "end_time": "2025-01-30T23:01:26.648376Z",
     "start_time": "2025-01-30T23:01:25.930139Z"
    }
   },
   "cell_type": "code",
   "source": [
    "f = open(folder + 'agent_steps.pkl', 'rb')\n",
    "agent = dill.load(f)\n",
    "f.close()"
   ],
   "id": "6ea849f1a6cff81e",
   "outputs": [],
   "execution_count": 19
  },
  {
   "metadata": {
    "ExecuteTime": {
     "end_time": "2025-01-30T23:01:26.656605Z",
     "start_time": "2025-01-30T23:01:26.648995Z"
    }
   },
   "cell_type": "code",
   "source": [
    "metabolism = agent['ecoli-metabolism-redux-classic']\n",
    "stoichiometry = metabolism.stoichiometry"
   ],
   "id": "4182be96387ac8f9",
   "outputs": [],
   "execution_count": 20
  },
  {
   "metadata": {},
   "cell_type": "markdown",
   "source": "### Construct Network Flow",
   "id": "2391215f17966288"
  },
  {
   "metadata": {
    "ExecuteTime": {
     "end_time": "2025-01-30T23:01:26.685493Z",
     "start_time": "2025-01-30T23:01:26.657986Z"
    }
   },
   "cell_type": "code",
   "source": [
    "homeostatic_count = pd.DataFrame(fba[\"homeostatic_metabolite_counts\"], columns=metabolism.homeostatic_metabolites).loc[24, :]\n",
    "homeostatic = pd.DataFrame(fba[\"target_homeostatic_dmdt\"], columns=metabolism.homeostatic_metabolites).loc[24, :]\n",
    "maintenance = pd.DataFrame(fba[\"maintenance_target\"][1:], columns=['maintenance_reaction']).iat[24, 0]\n",
    "kinetic = pd.DataFrame(fba[\"target_kinetic_fluxes\"], columns=metabolism.kinetic_constraint_reactions).loc[24, :]\n",
    "binary_kinetic_idx = metabolism.binary_kinetic_idx"
   ],
   "id": "393fcc4724bc15b7",
   "outputs": [],
   "execution_count": 21
  },
  {
   "metadata": {
    "ExecuteTime": {
     "end_time": "2025-01-30T23:01:26.997403Z",
     "start_time": "2025-01-30T23:01:26.686047Z"
    }
   },
   "cell_type": "code",
   "source": [
    "model = NetworkFlowModel(\n",
    "            stoich_arr=metabolism.stoichiometry,\n",
    "            metabolites=metabolism.metabolite_names,\n",
    "            reactions=metabolism.reaction_names,\n",
    "            homeostatic_metabolites=list(dict(homeostatic).keys()),\n",
    "            kinetic_reactions=list(dict(kinetic).keys()),\n",
    "            free_reactions=FREE_RXNS)"
   ],
   "id": "8dffd740362b76be",
   "outputs": [],
   "execution_count": 22
  },
  {
   "metadata": {
    "ExecuteTime": {
     "end_time": "2025-01-30T23:01:27.002364Z",
     "start_time": "2025-01-30T23:01:26.998240Z"
    }
   },
   "cell_type": "code",
   "source": "model.set_up_exchanges(exchanges=metabolism.exchange_molecules, uptakes=metabolism.allowed_exchange_uptake)",
   "id": "1d90d5c0f15faa9b",
   "outputs": [],
   "execution_count": 23
  },
  {
   "metadata": {
    "ExecuteTime": {
     "end_time": "2025-01-30T23:01:27.195916Z",
     "start_time": "2025-01-30T23:01:27.003090Z"
    }
   },
   "cell_type": "code",
   "source": [
    "objective_weights = {'secretion': 0.01, 'efficiency': 0.000001, 'kinetics': 0.0000001}\n",
    "solution: FlowResult = model.solve(\n",
    "            homeostatic_concs=homeostatic_count * metabolism.counts_to_molar.asNumber(), # in conc\n",
    "            homeostatic_dm_targets=np.array(list(dict(homeostatic).values())), # *10^7\n",
    "            maintenance_target=maintenance, # *10^6 ish\n",
    "            kinetic_targets=np.array(list(dict(kinetic).values())), # *10^6 ish\n",
    "            binary_kinetic_idx=binary_kinetic_idx,\n",
    "            force_flow_idx=None,\n",
    "            objective_weights=objective_weights, #same\n",
    "            upper_flux_bound= 1000000000, # increase to 10^9 because notebook runs FlowResult using Counts, WC runs using conc.   \n",
    "            solver=cp.GLOP)"
   ],
   "id": "afd000becd566256",
   "outputs": [],
   "execution_count": 24
  },
  {
   "metadata": {
    "ExecuteTime": {
     "end_time": "2025-01-30T23:01:27.201116Z",
     "start_time": "2025-01-30T23:01:27.196563Z"
    }
   },
   "cell_type": "code",
   "source": "pd.Series(solution.exchanges).abs().sort_values(ascending=False)",
   "id": "25edf571516e452",
   "outputs": [
    {
     "data": {
      "text/plain": [
       "5939    4374211.75\n",
       "5104     695287.25\n",
       "714      624998.25\n",
       "493      544053.00\n",
       "5317     457647.00\n",
       "           ...    \n",
       "2027          0.00\n",
       "2026          0.00\n",
       "2025          0.00\n",
       "2024          0.00\n",
       "6075          0.00\n",
       "Length: 6076, dtype: float64"
      ]
     },
     "execution_count": 25,
     "metadata": {},
     "output_type": "execute_result"
    }
   ],
   "execution_count": 25
  },
  {
   "metadata": {},
   "cell_type": "markdown",
   "source": "### Test Forcing NEW Reactions with no flux to have flux",
   "id": "5ebcf6f6c022bf90"
  },
  {
   "metadata": {
    "ExecuteTime": {
     "end_time": "2025-01-30T23:06:32.539146Z",
     "start_time": "2025-01-30T23:06:32.535276Z"
    }
   },
   "cell_type": "code",
   "source": [
    "fba_new_reaction_ids = metabolism.parameters[\"fba_new_reaction_ids\"]\n",
    "fba_reaction_ids_to_base_reaction_ids = metabolism.parameters['fba_reaction_ids_to_base_reaction_ids']"
   ],
   "id": "a9fa65ce5421d936",
   "outputs": [],
   "execution_count": 33
  },
  {
   "metadata": {
    "ExecuteTime": {
     "end_time": "2025-01-30T23:08:56.034125Z",
     "start_time": "2025-01-30T23:08:55.718358Z"
    }
   },
   "cell_type": "code",
   "source": [
    "# Get NEW reactions with no flux\n",
    "sim_fluxes = pd.DataFrame(fba[\"estimated_fluxes\"], columns = metabolism.reaction_names).iloc[42,]\n",
    "sim_fluxes.sort_values(ascending=False).head()\n"
   ],
   "id": "b26139a1228e93fd",
   "outputs": [
    {
     "data": {
      "text/plain": [
       "TRANS-RXN-145                                                            4420067.0\n",
       "ATPSYN-RXN (reverse)                                                     2393881.0\n",
       "maintenance_reaction                                                     2077217.0\n",
       "NADH-DEHYDROG-A-RXN-NADH/UBIQUINONE-8/PROTON//NAD/CPD-9956/PROTON.46.    1163856.0\n",
       "TRANS-RXN0-474                                                            681548.0\n",
       "Name: 42, dtype: float64"
      ]
     },
     "execution_count": 36,
     "metadata": {},
     "output_type": "execute_result"
    }
   ],
   "execution_count": 36
  },
  {
   "metadata": {
    "ExecuteTime": {
     "end_time": "2025-01-30T23:03:55.750849Z",
     "start_time": "2025-01-30T23:03:55.745801Z"
    }
   },
   "cell_type": "code",
   "source": "sim_fluxes_new.shape",
   "id": "9fd867bff11a1e1",
   "outputs": [
    {
     "data": {
      "text/plain": [
       "(401, 9358)"
      ]
     },
     "execution_count": 28,
     "metadata": {},
     "output_type": "execute_result"
    }
   ],
   "execution_count": 28
  },
  {
   "metadata": {},
   "cell_type": "code",
   "outputs": [],
   "execution_count": null,
   "source": "",
   "id": "2319636d58713d31"
  }
 ],
 "metadata": {
  "kernelspec": {
   "display_name": "Python 3",
   "language": "python",
   "name": "python3"
  },
  "language_info": {
   "codemirror_mode": {
    "name": "ipython",
    "version": 2
   },
   "file_extension": ".py",
   "mimetype": "text/x-python",
   "name": "python",
   "nbconvert_exporter": "python",
   "pygments_lexer": "ipython2",
   "version": "2.7.6"
  }
 },
 "nbformat": 4,
 "nbformat_minor": 5
}
