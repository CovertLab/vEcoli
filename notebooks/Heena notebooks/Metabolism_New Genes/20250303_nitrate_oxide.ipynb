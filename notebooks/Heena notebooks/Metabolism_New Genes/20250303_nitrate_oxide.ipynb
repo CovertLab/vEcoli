{
 "cells": [
  {
   "metadata": {},
   "cell_type": "markdown",
   "source": [
    "### This notebook investigates the role that dead-end metabolite Nitrous Oxide plays in the E. coli metabolism\n",
    "A small purpose is to activate RXN0-2721, which is the reaction that produces nitrous oxide in cytosol.\n",
    "- [ ] remove oxygen exchange + add reaction that breaks nitrous oxide into nitrogen and oxygen\n",
    "- [ ] find info on dinitrification of nitrous oxide in literature\n",
    "- [ ] consider kinetic rates for Nitrogen (N) related reactions"
   ],
   "id": "8050b48a34b91079"
  },
  {
   "cell_type": "code",
   "id": "initial_id",
   "metadata": {
    "collapsed": true,
    "ExecuteTime": {
     "end_time": "2025-03-11T00:44:41.637993Z",
     "start_time": "2025-03-11T00:44:40.588637Z"
    }
   },
   "source": [
    "import numpy as np\n",
    "import ast\n",
    "import seaborn as sns\n",
    "import pandas as pd\n",
    "import os\n",
    "import matplotlib.pyplot as plt\n",
    "import dill\n",
    "import requests\n",
    "import xmltodict\n",
    "import cvxpy as cp\n",
    "import itertools\n",
    "import networkx as nx\n",
    "import plotly.express as px\n",
    "\n",
    "from scipy.special import logsumexp\n",
    "\n",
    "%matplotlib inline\n",
    "# sns.set(style='darkgrid', palette='viridis', context='talk')\n",
    "\n",
    "os.chdir(os.path.expanduser('~/dev/vivarium-ecoli'))\n",
    "\n",
    "from ecoli.processes.metabolism_redux_classic import NetworkFlowModel, FlowResult\n",
    "from ecoli.library.schema import numpy_schema, bulk_name_to_idx, listener_schema, counts\n",
    "from ecoli.processes.registries import topology_registry\n",
    "TOPOLOGY = topology_registry.access(\"ecoli-metabolism-redux\")"
   ],
   "outputs": [],
   "execution_count": 1
  },
  {
   "metadata": {
    "ExecuteTime": {
     "end_time": "2025-03-11T00:47:57.650155Z",
     "start_time": "2025-03-11T00:47:54.834734Z"
    }
   },
   "cell_type": "code",
   "source": [
    "# load basal new model\n",
    "time = '400'\n",
    "date = '2025-01-30'\n",
    "experiment = 'NEW_updated_bad_rxn'\n",
    "condition = 'basal'\n",
    "entry = f'{experiment}_{time}_{date}'\n",
    "folder = f'out/metabolism-comparison/{condition}/{entry}/'\n",
    "\n",
    "output = np.load(folder + '0_output.npy',allow_pickle='TRUE').item()\n",
    "# output = np.load(r\"out/geneRxnVerifData/output_glc.npy\", allow_pickle=True, encoding='ASCII').tolist()\n",
    "output = output['agents']['0']\n",
    "fba = output['listeners']['fba_results']\n",
    "bulk = pd.DataFrame(output['bulk'])\n",
    "f = open(folder + 'agent_steps.pkl', 'rb')\n",
    "agent = dill.load(f)\n",
    "f.close()\n",
    "\n",
    "metabolism = agent['ecoli-metabolism-redux-classic']\n",
    "stoichiometry = metabolism.stoichiometry\n",
    "reaction_names = metabolism.reaction_names\n",
    "kinetic_reaction_ids = metabolism.kinetic_constraint_reactions\n",
    "fba_new_reaction_ids = metabolism.parameters[\"fba_new_reaction_ids\"]\n",
    "fba_reaction_ids_to_base_reaction_ids = metabolism.parameters['fba_reaction_ids_to_base_reaction_ids']\n",
    "binary_kinetic_idx = metabolism.binary_kinetic_idx\n",
    "metabolites = metabolism.metabolite_names\n",
    "\n",
    "homeostatic_count = pd.DataFrame(fba[\"homeostatic_metabolite_counts\"], columns=metabolism.homeostatic_metabolites).loc[24, :]\n",
    "homeostatic = pd.DataFrame(fba[\"target_homeostatic_dmdt\"], columns=metabolism.homeostatic_metabolites).loc[24, :]\n",
    "maintenance = pd.DataFrame(fba[\"maintenance_target\"][1:], columns=['maintenance_reaction']).iat[24, 0]\n",
    "kinetic = pd.DataFrame(fba[\"target_kinetic_fluxes\"], columns=metabolism.kinetic_constraint_reactions).loc[24, :]"
   ],
   "id": "11c905b01cdd852",
   "outputs": [],
   "execution_count": 4
  },
  {
   "metadata": {
    "ExecuteTime": {
     "end_time": "2025-03-11T01:12:26.753670Z",
     "start_time": "2025-03-11T01:12:26.733271Z"
    }
   },
   "cell_type": "code",
   "source": [
    "uptake = metabolism.allowed_exchange_uptake\n",
    "uptake = set(uptake)\n",
    "\n",
    "addition = set([\n",
    "    # \"NITROUS-OXIDE[e]\",\n",
    "    # \"NITRATE[p]\",\n",
    "])\n",
    "removals = set([\n",
    "    \"OXYGEN-MOLECULE[p]\",\n",
    "])\n",
    "\n",
    "\n",
    "uptake = uptake | addition\n",
    "uptake = uptake - removals"
   ],
   "id": "bf01d17638b3290b",
   "outputs": [],
   "execution_count": 7
  },
  {
   "metadata": {
    "ExecuteTime": {
     "end_time": "2025-03-11T00:44:58.544120Z",
     "start_time": "2025-03-11T00:44:58.251983Z"
    }
   },
   "cell_type": "code",
   "source": [
    "# #TODO: Add transport of and reduction of NITROUS-OXIDE[p] to [c] and in [c]\n",
    "# print(stoichiometry.shape)\n",
    "# new_reaction_names = metabolism.reaction_names.copy()\n",
    "# new_reaction_names.append('TEMP-Dinitrification')\n",
    "# \n",
    "# new_reaction = np.zeros((stoichiometry.shape[0], 1))\n",
    "# new_reaction[metabolites.index('NITROUS-OXIDE[c]'), 0] = -2\n",
    "# new_reaction[metabolites.index('OXYGEN-MOLECULE[c]'), 0] = 1\n",
    "# new_reaction[metabolites.index('NITROGEN-MOLECULE[c]'), 0] = 1\n",
    "# \n",
    "# \n",
    "# new_stoichiometry = np.concatenate((stoichiometry, new_reaction), axis=1)\n",
    "# new_stoichiometry.shape"
   ],
   "id": "1316a8f94dbe04b5",
   "outputs": [
    {
     "ename": "NameError",
     "evalue": "name 'stoichiometry' is not defined",
     "output_type": "error",
     "traceback": [
      "\u001B[0;31m---------------------------------------------------------------------------\u001B[0m",
      "\u001B[0;31mNameError\u001B[0m                                 Traceback (most recent call last)",
      "Cell \u001B[0;32mIn[2], line 2\u001B[0m\n\u001B[1;32m      1\u001B[0m \u001B[38;5;66;03m#TODO: Add transport of and reduction of NITROUS-OXIDE[p] to [c] and in [c]\u001B[39;00m\n\u001B[0;32m----> 2\u001B[0m \u001B[38;5;28mprint\u001B[39m(\u001B[43mstoichiometry\u001B[49m\u001B[38;5;241m.\u001B[39mshape)\n\u001B[1;32m      3\u001B[0m new_reaction_names \u001B[38;5;241m=\u001B[39m metabolism\u001B[38;5;241m.\u001B[39mreaction_names\u001B[38;5;241m.\u001B[39mcopy()\n\u001B[1;32m      4\u001B[0m new_reaction_names\u001B[38;5;241m.\u001B[39mappend(\u001B[38;5;124m'\u001B[39m\u001B[38;5;124mTEMP-TRANS-NITROUS-OXIDE[p]-[c]\u001B[39m\u001B[38;5;124m'\u001B[39m)\n",
      "\u001B[0;31mNameError\u001B[0m: name 'stoichiometry' is not defined"
     ]
    }
   ],
   "execution_count": 2
  },
  {
   "metadata": {
    "ExecuteTime": {
     "end_time": "2025-03-11T00:45:04.579401Z",
     "start_time": "2025-03-11T00:45:04.556532Z"
    }
   },
   "cell_type": "code",
   "source": [
    "model = NetworkFlowModel(\n",
    "            stoich_arr=new_stoichiometry,\n",
    "            metabolites=metabolism.metabolite_names,\n",
    "            reactions=reaction_names,\n",
    "            homeostatic_metabolites=metabolism.homeostatic_metabolites,\n",
    "            kinetic_reactions=kinetic_reaction_ids,\n",
    "            free_reactions=FREE_RXNS)\n",
    "model.set_up_exchanges(exchanges=metabolism.exchange_molecules, uptakes=uptake)\n",
    "solution: FlowResult = model.solve(\n",
    "            homeostatic_concs=homeostatic_count * metabolism.counts_to_molar.asNumber(), # in conc\n",
    "            homeostatic_dm_targets=np.array(list(dict(homeostatic).values())), # *10^7\n",
    "            maintenance_target=maintenance, # *10^6 ish\n",
    "            kinetic_targets=np.array(list(dict(kinetic).values())), # *10^6 ish\n",
    "            binary_kinetic_idx=binary_kinetic_idx,\n",
    "            force_flow_idx=None,\n",
    "            objective_weights=objective_weights, #same\n",
    "            upper_flux_bound= 1000000000, # increase to 10^9 because notebook runs FlowResult using Counts, WC runs using conc.   \n",
    "            solver=cp.GLOP)\n"
   ],
   "id": "17af78bb797a2ee0",
   "outputs": [
    {
     "ename": "NameError",
     "evalue": "name 'new_stoichiometry' is not defined",
     "output_type": "error",
     "traceback": [
      "\u001B[0;31m---------------------------------------------------------------------------\u001B[0m",
      "\u001B[0;31mNameError\u001B[0m                                 Traceback (most recent call last)",
      "Cell \u001B[0;32mIn[3], line 2\u001B[0m\n\u001B[1;32m      1\u001B[0m model \u001B[38;5;241m=\u001B[39m NetworkFlowModel(\n\u001B[0;32m----> 2\u001B[0m             stoich_arr\u001B[38;5;241m=\u001B[39m\u001B[43mnew_stoichiometry\u001B[49m,\n\u001B[1;32m      3\u001B[0m             metabolites\u001B[38;5;241m=\u001B[39mmetabolism\u001B[38;5;241m.\u001B[39mmetabolite_names,\n\u001B[1;32m      4\u001B[0m             reactions\u001B[38;5;241m=\u001B[39mreaction_names,\n\u001B[1;32m      5\u001B[0m             homeostatic_metabolites\u001B[38;5;241m=\u001B[39mmetabolism\u001B[38;5;241m.\u001B[39mhomeostatic_metabolites,\n\u001B[1;32m      6\u001B[0m             kinetic_reactions\u001B[38;5;241m=\u001B[39mkinetic_reaction_ids,\n\u001B[1;32m      7\u001B[0m             free_reactions\u001B[38;5;241m=\u001B[39mFREE_RXNS)\n",
      "\u001B[0;31mNameError\u001B[0m: name 'new_stoichiometry' is not defined"
     ]
    }
   ],
   "execution_count": 3
  },
  {
   "metadata": {
    "ExecuteTime": {
     "end_time": "2025-03-11T01:05:41.968090Z",
     "start_time": "2025-03-11T01:05:41.921085Z"
    }
   },
   "cell_type": "code",
   "source": "metabolites.index('NITROGEN-MOLECULE[c]')",
   "id": "f062866b31a30720",
   "outputs": [
    {
     "ename": "ValueError",
     "evalue": "'NITROGEN-MOLECULE[c]' is not in list",
     "output_type": "error",
     "traceback": [
      "\u001B[0;31m---------------------------------------------------------------------------\u001B[0m",
      "\u001B[0;31mValueError\u001B[0m                                Traceback (most recent call last)",
      "Cell \u001B[0;32mIn[6], line 1\u001B[0m\n\u001B[0;32m----> 1\u001B[0m \u001B[43mmetabolites\u001B[49m\u001B[38;5;241;43m.\u001B[39;49m\u001B[43mindex\u001B[49m\u001B[43m(\u001B[49m\u001B[38;5;124;43m'\u001B[39;49m\u001B[38;5;124;43mNITROGEN-MOLECULE[c]\u001B[39;49m\u001B[38;5;124;43m'\u001B[39;49m\u001B[43m)\u001B[49m\n",
      "\u001B[0;31mValueError\u001B[0m: 'NITROGEN-MOLECULE[c]' is not in list"
     ]
    }
   ],
   "execution_count": 6
  },
  {
   "metadata": {},
   "cell_type": "code",
   "outputs": [],
   "execution_count": null,
   "source": "",
   "id": "a2229a94bbfbcd0a"
  }
 ],
 "metadata": {
  "kernelspec": {
   "display_name": "Python 3",
   "language": "python",
   "name": "python3"
  },
  "language_info": {
   "codemirror_mode": {
    "name": "ipython",
    "version": 2
   },
   "file_extension": ".py",
   "mimetype": "text/x-python",
   "name": "python",
   "nbconvert_exporter": "python",
   "pygments_lexer": "ipython2",
   "version": "2.7.6"
  }
 },
 "nbformat": 4,
 "nbformat_minor": 5
}
