{
 "cells": [
  {
   "metadata": {},
   "cell_type": "markdown",
   "source": "",
   "id": "9eb46b87ec265091"
  },
  {
   "metadata": {},
   "cell_type": "markdown",
   "source": [
    "## Plan to focus on Metabolism -> Other Metatbolism {2 members} \n",
    "- [x] G7490 --> add 23-Diaminopropanoate transport and use it as sole carbon source (iffy)\n",
    "- [x] G7408 --> use α-D-fructopyranose (CPD-10725), β-D-fructopyranose (CPD-10726), and keto-D-fructose (CPD-15382) as sole carbon source"
   ],
   "id": "527ecb3f92d8495c"
  },
  {
   "cell_type": "code",
   "id": "initial_id",
   "metadata": {
    "collapsed": true,
    "ExecuteTime": {
     "end_time": "2025-06-05T18:51:49.259028Z",
     "start_time": "2025-06-05T18:51:49.249324Z"
    }
   },
   "source": [
    "import numpy as np\n",
    "import pandas as pd\n",
    "import os\n",
    "import matplotlib.pyplot as plt\n",
    "import dill\n",
    "import cvxpy as cp\n",
    "\n",
    "%matplotlib inline\n",
    "# sns.set(style='darkgrid', palette='viridis', context='talk')\n",
    "\n",
    "os.chdir(os.path.expanduser('~/dev/vivarium-ecoli'))\n",
    "\n",
    "from ecoli.processes.metabolism_redux_classic import NetworkFlowModel, FlowResult\n",
    "from ecoli.library.schema import bulk_name_to_idx, counts\n",
    "from ecoli.processes.registries import topology_registry\n",
    "TOPOLOGY = topology_registry.access(\"ecoli-metabolism-redux\")"
   ],
   "outputs": [],
   "execution_count": 17
  },
  {
   "metadata": {
    "ExecuteTime": {
     "end_time": "2025-06-04T23:18:33.136773Z",
     "start_time": "2025-06-04T23:18:30.842681Z"
    }
   },
   "cell_type": "code",
   "source": [
    "# load basal new model\n",
    "time = '400'\n",
    "date = '2025-01-30'\n",
    "experiment = 'NEW_updated_bad_rxn'\n",
    "condition = 'basal'\n",
    "entry = f'{experiment}_{time}_{date}'\n",
    "folder = f'out/metabolism-comparison/{condition}/{entry}/'\n",
    "\n",
    "output = np.load(folder + '0_output.npy',allow_pickle='TRUE').item()\n",
    "# output = np.load(r\"out/geneRxnVerifData/output_glc.npy\", allow_pickle=True, encoding='ASCII').tolist()\n",
    "output = output['agents']['0']\n",
    "fba_basal = output['listeners']['fba_results']\n",
    "bulk = pd.DataFrame(output['bulk'])\n",
    "f = open(folder + 'agent_steps.pkl', 'rb')\n",
    "agent_basal = dill.load(f)\n",
    "f.close()"
   ],
   "id": "3813e0cda0ec9e6f",
   "outputs": [],
   "execution_count": 2
  },
  {
   "metadata": {
    "ExecuteTime": {
     "end_time": "2025-06-04T23:18:33.183376Z",
     "start_time": "2025-06-04T23:18:33.137367Z"
    }
   },
   "cell_type": "code",
   "source": [
    "# get commonly stored variables\n",
    "metabolism_basal = agent_basal['ecoli-metabolism-redux-classic']\n",
    "stoichiometry = metabolism_basal.stoichiometry.copy()\n",
    "reaction_names = metabolism_basal.reaction_names\n",
    "kinetic_reaction_ids = metabolism_basal.kinetic_constraint_reactions\n",
    "fba_new_reaction_ids = metabolism_basal.parameters[\"fba_new_reaction_ids\"]\n",
    "fba_reaction_ids_to_base_reaction_ids = metabolism_basal.parameters['fba_reaction_ids_to_base_reaction_ids']\n",
    "binary_kinetic_idx = metabolism_basal.binary_kinetic_idx\n",
    "metabolites = metabolism_basal.metabolite_names\n",
    "\n",
    "S = stoichiometry.copy()\n",
    "S = pd.DataFrame(S, index=metabolites, columns=reaction_names)\n",
    "homeostatic_count = pd.DataFrame(fba_basal[\"homeostatic_metabolite_counts\"], columns=metabolism_basal.homeostatic_metabolites).loc[24, :].copy()\n",
    "homeostatic = pd.DataFrame(fba_basal[\"target_homeostatic_dmdt\"], columns=metabolism_basal.homeostatic_metabolites).loc[24, :].copy()\n",
    "maintenance = pd.DataFrame(fba_basal[\"maintenance_target\"][1:], columns=['maintenance_reaction']).iat[24, 0]\n",
    "\n",
    "FREE_RXNS = [\"TRANS-RXN-145\", \"TRANS-RXN0-545\", \"TRANS-RXN0-474\"]"
   ],
   "id": "dd41e3ba330f0087",
   "outputs": [],
   "execution_count": 3
  },
  {
   "metadata": {},
   "cell_type": "markdown",
   "source": "# load variables from track_reaction_usage.ipynb",
   "id": "192a891745c9e1a6"
  },
  {
   "metadata": {
    "ExecuteTime": {
     "end_time": "2025-06-04T23:18:33.196981Z",
     "start_time": "2025-06-04T23:18:33.184584Z"
    }
   },
   "cell_type": "code",
   "source": "%store -r df_reaction_flux df_reaction_track df_gene_usage unused_kinetic_gene",
   "id": "f303ab5269e6ba8e",
   "outputs": [],
   "execution_count": 4
  },
  {
   "metadata": {},
   "cell_type": "markdown",
   "source": "# Define functions for testing",
   "id": "5cd15e93087dd84d"
  },
  {
   "metadata": {
    "ExecuteTime": {
     "end_time": "2025-06-04T23:18:33.206168Z",
     "start_time": "2025-06-04T23:18:33.198113Z"
    }
   },
   "cell_type": "code",
   "source": [
    "def get_subset_S(S, met_of_interest):\n",
    "    S_met = S.loc[met_of_interest, :]\n",
    "    S_met = S_met.loc[:,~np.all(S_met == 0, axis=0)]\n",
    "    return S_met, S_met.columns\n",
    "\n",
    "def test_NetworkFlowModel(objective_weights,\n",
    "                          uptake_addition = set([]), uptake_removal = set([]), new_exchange_molecules = set([]),\n",
    "                          add_metabolite = None, add_reaction = None, add_kinetic = None, remove_reaction = None, \n",
    "                          # add_homeostatic_demand = None, force_reaction = None):\n",
    "    # update exchanges\n",
    "    uptake = metabolism_basal.allowed_exchange_uptake.copy()\n",
    "    uptake = set(uptake)\n",
    "    uptake = uptake | uptake_addition\n",
    "    uptake = uptake - uptake_removal\n",
    "    \n",
    "    exchange_molecules = metabolism_basal.exchange_molecules.copy()\n",
    "    exchange_molecules = exchange_molecules | new_exchange_molecules\n",
    "    \n",
    "    # update stoichiometry\n",
    "    reaction_names = metabolism_basal.reaction_names.copy()\n",
    "    kinetic_reaction_ids = metabolism_basal.kinetic_constraint_reactions.copy()\n",
    "    kinetic = pd.DataFrame(fba_basal[\"target_kinetic_fluxes\"], columns=metabolism_basal.kinetic_constraint_reactions).loc[24, :].copy()\n",
    "    metabolites = metabolism_basal.metabolite_names.copy()\n",
    "    homeostatic = pd.DataFrame(fba_basal[\"target_homeostatic_dmdt\"], columns=metabolism_basal.homeostatic_metabolites).loc[24, :].copy()\n",
    "    homeostatic_counts = homeostatic_count.copy() * metabolism_basal.counts_to_molar.asNumber()\n",
    "    \n",
    "    S_new = stoichiometry.copy()\n",
    "    \n",
    "    if add_metabolite is not None: # add to metabolites list because they are currently not included in the model\n",
    "        for m in add_metabolite:\n",
    "            if m not in metabolites:\n",
    "                metabolites.append(m)\n",
    "        # append rows of zeros to S_new of length add_metabolite\n",
    "        S_new = np.concatenate((S_new, np.zeros((len(add_metabolite), S_new.shape[1]))), axis=0)\n",
    "        print(S_new.shape)\n",
    "    \n",
    "    if add_reaction is not None:\n",
    "        # assert add_reaction is a dictionary\n",
    "        assert isinstance(add_reaction, dict)\n",
    "        \n",
    "        for r,s in add_reaction.items():\n",
    "            if r not in reaction_names:\n",
    "                reaction_names.append(r)\n",
    "            # append columns of reaction stoich to S_new of length add_reaction\n",
    "            new_reaction = np.zeros((S_new.shape[0], 1))\n",
    "            for m, v in s.items():\n",
    "                new_reaction[metabolites.index(m), 0] = v\n",
    "            S_new = np.concatenate((S_new, new_reaction), axis=1)\n",
    "        print(S_new.shape)\n",
    "    \n",
    "    if add_kinetic is not None:\n",
    "        # assert add_kinetic is a dictionary\n",
    "        assert isinstance(add_kinetic, dict)\n",
    "        \n",
    "        for r, v in add_kinetic.items():\n",
    "            if r not in kinetic_reaction_ids:\n",
    "                kinetic_reaction_ids.append(r)\n",
    "                kinetic[r] = v\n",
    "                \n",
    "    if remove_reaction is not None:\n",
    "        for r in remove_reaction:\n",
    "            r_idx = reaction_names.index(r)\n",
    "            S_new = np.delete(S_new, r_idx, axis=1)\n",
    "            reaction_names.remove(r)\n",
    "            if r in kinetic_reaction_ids:\n",
    "                kinetic_reaction_ids.remove(r)\n",
    "                del kinetic[r]\n",
    "                \n",
    "    if force_reaction is not None:\n",
    "        force_reaction_idx = np.array([reaction_names.index(r) for r in force_reaction])\n",
    "    else:\n",
    "        force_reaction_idx = force_reaction\n",
    "\n",
    "    if add_homeostatic_demand is not None:\n",
    "        # assert add_homeostatic_demand is a set\n",
    "        assert isinstance(add_homeostatic_demand, list)\n",
    "        \n",
    "        for met in add_homeostatic_demand:\n",
    "            homeostatic[met] = 100\n",
    "            homeostatic_counts[met] = 1\n",
    "            \n",
    "    print(f'Force Reaction ID is:',force_reaction_idx)\n",
    "    # Solve NetworkFlowModel\n",
    "    model = NetworkFlowModel(\n",
    "            stoich_arr=S_new,\n",
    "            metabolites=metabolites,\n",
    "            reactions=reaction_names,\n",
    "            homeostatic_metabolites=list(dict(homeostatic).keys()),\n",
    "            kinetic_reactions=kinetic_reaction_ids,\n",
    "            free_reactions=FREE_RXNS)\n",
    "    model.set_up_exchanges(exchanges=exchange_molecules, uptakes=uptake)\n",
    "    solution: FlowResult = model.solve(\n",
    "            homeostatic_concs=homeostatic_counts, # in conc\n",
    "            homeostatic_dm_targets=np.array(list(dict(homeostatic).values())), # *10^7\n",
    "            maintenance_target=maintenance, # *10^6 ish\n",
    "            kinetic_targets=np.array(list(dict(kinetic).values())), # *10^6 ish\n",
    "            # binary_kinetic_idx=binary_kinetic_idx, #7646\n",
    "            binary_kinetic_idx=None,\n",
    "            force_flow_idx=force_reaction_idx,\n",
    "            objective_weights=objective_weights, #same\n",
    "            upper_flux_bound= 1000000000, # increase to 10^9 because notebook runs FlowResult using Counts, WC runs using conc.   \n",
    "            solver=cp.GLOP) #SCS. ECOS\n",
    "    print(f'Optimal objective function reached is: {solution.objective}')\n",
    "    return solution.velocities, reaction_names, S_new, metabolites, kinetic"
   ],
   "id": "7c579a30e2e543ab",
   "outputs": [],
   "execution_count": 5
  },
  {
   "metadata": {},
   "cell_type": "markdown",
   "source": [
    "# G7490 --> ygeX --> 4.3.15-RXN\n",
    "23-Diaminopropanoate[CCO-CYTOSOL] is dem no production. TODO: add transport via TRANS-RXN0-265 and TRANS-RXN0-612"
   ],
   "id": "e3dc37b1edd4d4fb"
  },
  {
   "metadata": {
    "ExecuteTime": {
     "end_time": "2025-06-04T23:18:33.210057Z",
     "start_time": "2025-06-04T23:18:33.207211Z"
    }
   },
   "cell_type": "code",
   "source": [
    "# try removing fifth 2.1.1.79 reaction to see if this one will be used\n",
    "add_reaction = {\n",
    "    'TEMP-TRANSPORT-23-Diaminopropanoate[p]->[c]': {\n",
    "        '23-Diaminopropanoate[p]': -1,\n",
    "        '23-Diaminopropanoate[c]': 1\n",
    "    },\n",
    "    'TEMP-TRANSPORT-23-Diaminopropanoate[p]->[c] (reverse)': {\n",
    "        '23-Diaminopropanoate[p]': 1,\n",
    "        '23-Diaminopropanoate[c]': -1\n",
    "    },\n",
    "    'TEMP-TRANSPORT-23-Diaminopropanoate[e]->[p]': {\n",
    "        '23-Diaminopropanoate[e]': -1,\n",
    "        '23-Diaminopropanoate[p]': 1\n",
    "    },\n",
    "    'TEMP-TRANSPORT-23-Diaminopropanoate[e]->[p] (reverse)': {\n",
    "        '23-Diaminopropanoate[e]': 1,\n",
    "        '23-Diaminopropanoate[p]': -1\n",
    "    }\n",
    "}\n",
    "\n",
    "add_metabolite = ['23-Diaminopropanoate[e]', '23-Diaminopropanoate[p]']\n",
    "\n",
    "uptake_addition = set([\n",
    "                       '23-Diaminopropanoate[e]',\n",
    "                       ])\n",
    "uptake_removal = set([\n",
    "                      # \"OXYGEN-MOLECULE[p]\",\n",
    "                      'GLC[p]',\n",
    "                     ])\n",
    "new_exchange_molecules = set(['23-Diaminopropanoate[e]']) \n",
    "\n",
    "objective_weights = {'secretion': 0.01, 'efficiency': 0.000001, 'kinetics': 0.000001}"
   ],
   "id": "4644cb8a97f34e7a",
   "outputs": [],
   "execution_count": 6
  },
  {
   "metadata": {
    "ExecuteTime": {
     "end_time": "2025-06-04T23:18:34.300446Z",
     "start_time": "2025-06-04T23:18:33.211011Z"
    }
   },
   "cell_type": "code",
   "source": [
    "\n",
    "solution_flux, test_reaction_names, S_new, test_metabolites, test_kinetic = test_NetworkFlowModel(\n",
    "                                            objective_weights,\n",
    "                                            uptake_addition=uptake_addition,  uptake_removal=uptake_removal, new_exchange_molecules=new_exchange_molecules,\n",
    "                                            add_reaction=add_reaction, add_metabolite=add_metabolite,\n",
    ")\n",
    "\n",
    "sim_flux = pd.DataFrame({\n",
    "    'flux': solution_flux,\n",
    "    'is_new': [\n",
    "        'New Reactions' if id in fba_new_reaction_ids \n",
    "        else 'TEMP' if id in add_reaction.keys() \n",
    "        else 'Old Reactions' \n",
    "            for id in test_reaction_names\n",
    "    ]\n",
    "}, index=test_reaction_names)\n",
    "\n",
    "met_of_interest = ['23-Diaminopropanoate[e]', '23-Diaminopropanoate[p]', '23-Diaminopropanoate[c]']\n",
    "S_new = pd.DataFrame(S_new, index=test_metabolites, columns=test_reaction_names)\n",
    "S_met, rxns  = get_subset_S(S_new, met_of_interest)\n",
    "rxns\n",
    "rxn_flux = sim_flux.loc[rxns]\n",
    "rxn_flux['kinetic'] = [test_kinetic[r] if r in kinetic_reaction_ids else False for r in rxn_flux.index]\n",
    "rxn_flux"
   ],
   "id": "430e0a99166c230",
   "outputs": [
    {
     "name": "stdout",
     "output_type": "stream",
     "text": [
      "(6078, 9358)\n",
      "(6078, 9362)\n",
      "Force Reaction ID is: None\n",
      "Optimal objective function reached is: 45017.52665763971\n"
     ]
    },
    {
     "data": {
      "text/plain": [
       "                                                             flux  \\\n",
       "4.3.1.15-RXN                                        390811.666667   \n",
       "TEMP-TRANSPORT-23-Diaminopropanoate[p]->[c]         390811.666667   \n",
       "TEMP-TRANSPORT-23-Diaminopropanoate[p]->[c] (re...      -0.000000   \n",
       "TEMP-TRANSPORT-23-Diaminopropanoate[e]->[p]         390811.666667   \n",
       "TEMP-TRANSPORT-23-Diaminopropanoate[e]->[p] (re...      -0.000000   \n",
       "\n",
       "                                                           is_new kinetic  \n",
       "4.3.1.15-RXN                                        New Reactions   471.0  \n",
       "TEMP-TRANSPORT-23-Diaminopropanoate[p]->[c]                  TEMP   False  \n",
       "TEMP-TRANSPORT-23-Diaminopropanoate[p]->[c] (re...           TEMP   False  \n",
       "TEMP-TRANSPORT-23-Diaminopropanoate[e]->[p]                  TEMP   False  \n",
       "TEMP-TRANSPORT-23-Diaminopropanoate[e]->[p] (re...           TEMP   False  "
      ],
      "text/html": [
       "<div>\n",
       "<style scoped>\n",
       "    .dataframe tbody tr th:only-of-type {\n",
       "        vertical-align: middle;\n",
       "    }\n",
       "\n",
       "    .dataframe tbody tr th {\n",
       "        vertical-align: top;\n",
       "    }\n",
       "\n",
       "    .dataframe thead th {\n",
       "        text-align: right;\n",
       "    }\n",
       "</style>\n",
       "<table border=\"1\" class=\"dataframe\">\n",
       "  <thead>\n",
       "    <tr style=\"text-align: right;\">\n",
       "      <th></th>\n",
       "      <th>flux</th>\n",
       "      <th>is_new</th>\n",
       "      <th>kinetic</th>\n",
       "    </tr>\n",
       "  </thead>\n",
       "  <tbody>\n",
       "    <tr>\n",
       "      <th>4.3.1.15-RXN</th>\n",
       "      <td>390811.666667</td>\n",
       "      <td>New Reactions</td>\n",
       "      <td>471.0</td>\n",
       "    </tr>\n",
       "    <tr>\n",
       "      <th>TEMP-TRANSPORT-23-Diaminopropanoate[p]-&gt;[c]</th>\n",
       "      <td>390811.666667</td>\n",
       "      <td>TEMP</td>\n",
       "      <td>False</td>\n",
       "    </tr>\n",
       "    <tr>\n",
       "      <th>TEMP-TRANSPORT-23-Diaminopropanoate[p]-&gt;[c] (reverse)</th>\n",
       "      <td>-0.000000</td>\n",
       "      <td>TEMP</td>\n",
       "      <td>False</td>\n",
       "    </tr>\n",
       "    <tr>\n",
       "      <th>TEMP-TRANSPORT-23-Diaminopropanoate[e]-&gt;[p]</th>\n",
       "      <td>390811.666667</td>\n",
       "      <td>TEMP</td>\n",
       "      <td>False</td>\n",
       "    </tr>\n",
       "    <tr>\n",
       "      <th>TEMP-TRANSPORT-23-Diaminopropanoate[e]-&gt;[p] (reverse)</th>\n",
       "      <td>-0.000000</td>\n",
       "      <td>TEMP</td>\n",
       "      <td>False</td>\n",
       "    </tr>\n",
       "  </tbody>\n",
       "</table>\n",
       "</div>"
      ]
     },
     "execution_count": 7,
     "metadata": {},
     "output_type": "execute_result"
    }
   ],
   "execution_count": 7
  },
  {
   "metadata": {},
   "cell_type": "markdown",
   "source": "it will for sure be used in the model. if we add the transport reaction and use it as sole carbon source, it will be used.",
   "id": "233d1bc3582f9ea3"
  },
  {
   "metadata": {},
   "cell_type": "markdown",
   "source": [
    "# G7408 --> yqaB --> RXN0-5186\n",
    "use BETA-D-FRUCTOSE and CPD-10723 as sole carbon source"
   ],
   "id": "1ac07bbb40e54723"
  },
  {
   "metadata": {
    "ExecuteTime": {
     "end_time": "2025-06-04T23:18:34.592963Z",
     "start_time": "2025-06-04T23:18:34.301079Z"
    }
   },
   "cell_type": "code",
   "source": [
    "CPD-10723\n",
    "CPD-10725\n",
    "CPD-10726\n",
    "CPD-15382\n",
    "FRU"
   ],
   "id": "49102a62e6730db9",
   "outputs": [
    {
     "ename": "NameError",
     "evalue": "name 'CPD' is not defined",
     "output_type": "error",
     "traceback": [
      "\u001B[0;31m---------------------------------------------------------------------------\u001B[0m",
      "\u001B[0;31mNameError\u001B[0m                                 Traceback (most recent call last)",
      "Cell \u001B[0;32mIn[8], line 1\u001B[0m\n\u001B[0;32m----> 1\u001B[0m \u001B[43mCPD\u001B[49m\u001B[38;5;241m-\u001B[39m\u001B[38;5;241m10723\u001B[39m\n\u001B[1;32m      2\u001B[0m CPD\u001B[38;5;241m-\u001B[39m\u001B[38;5;241m10725\u001B[39m\n\u001B[1;32m      3\u001B[0m CPD\u001B[38;5;241m-\u001B[39m\u001B[38;5;241m10726\u001B[39m\n",
      "\u001B[0;31mNameError\u001B[0m: name 'CPD' is not defined"
     ]
    }
   ],
   "execution_count": 8
  },
  {
   "metadata": {},
   "cell_type": "code",
   "source": [
    "uptake_addition = set([\n",
    "                       'CPD-10723[e]',\n",
    "                       #    'FRU1P[e]',\n",
    "                       ])\n",
    "uptake_removal = set([\n",
    "                      # \"OXYGEN-MOLECULE[p]\",\n",
    "                      'GLC[p]',\n",
    "                     ])\n",
    "new_exchange_molecules = set(['CPD-10723[e]']) \n",
    "remove_reaction = ['1PFRUCTPHOSN-RXN']\n",
    "force_reaction = ['RXN0-5186__G7408-MONOMER']\n",
    "force_reaction = None\n",
    "objective_weights = {'secretion': 0.01, 'efficiency': 0.000001, 'kinetics': 0.000001}\n",
    "# objective_weights = {'secretion': 0.01, 'kinetics': 0.0001}"
   ],
   "id": "9cd25054a5b1e90d",
   "outputs": [],
   "execution_count": null
  },
  {
   "metadata": {},
   "cell_type": "code",
   "source": [
    "solution_flux, test_reaction_names, S_new, test_metabolites, test_kinetic = test_NetworkFlowModel(\n",
    "                                            objective_weights,\n",
    "                                            uptake_addition=uptake_addition,  uptake_removal=uptake_removal, \n",
    "                                            force_reaction=force_reaction, remove_reaction=remove_reaction,\n",
    ")\n",
    "\n",
    "sim_flux = pd.DataFrame({\n",
    "    'flux': solution_flux,\n",
    "    'is_new': [\n",
    "        'New Reactions' if id in fba_new_reaction_ids \n",
    "        else 'TEMP' if id in add_reaction.keys() \n",
    "        else 'Old Reactions' \n",
    "            for id in test_reaction_names\n",
    "    ]\n",
    "}, index=test_reaction_names)\n",
    "\n",
    "met_of_interest = ['CPD-10723[e]', 'CPD-10723[p]', 'FRU1P[c]', 'FRU1P[p]', 'FRU1P[e]']\n",
    "S_new = pd.DataFrame(S_new, index=test_metabolites, columns=test_reaction_names)\n",
    "S_met, rxns  = get_subset_S(S_new, met_of_interest)\n",
    "rxns\n",
    "rxn_flux = sim_flux.loc[rxns]\n",
    "rxn_flux['kinetic'] = [test_kinetic[r] if r in kinetic_reaction_ids else False for r in rxn_flux.index]\n",
    "rxn_flux"
   ],
   "id": "99f7f086bab25803",
   "outputs": [],
   "execution_count": null
  },
  {
   "metadata": {},
   "cell_type": "code",
   "source": "",
   "id": "67cc830fe5cac040",
   "outputs": [],
   "execution_count": null
  },
  {
   "metadata": {},
   "cell_type": "markdown",
   "source": "# Scratch",
   "id": "a6acf719719aa9aa"
  },
  {
   "metadata": {
    "ExecuteTime": {
     "end_time": "2025-06-04T23:49:05.114195Z",
     "start_time": "2025-06-04T23:49:05.093571Z"
    }
   },
   "cell_type": "code",
   "source": [
    "for rxn in metabolism_basal.reaction_names:\n",
    "    if 'RXN-16937' in rxn:\n",
    "        print(rxn)"
   ],
   "id": "619ee9edd9b8c033",
   "outputs": [
    {
     "name": "stdout",
     "output_type": "stream",
     "text": [
      "RXN-16937\n"
     ]
    }
   ],
   "execution_count": 9
  },
  {
   "metadata": {
    "ExecuteTime": {
     "end_time": "2025-06-09T23:25:37.690409Z",
     "start_time": "2025-06-09T23:25:37.061171Z"
    }
   },
   "cell_type": "code",
   "source": [
    "uptake_addition = set([\n",
    "                       'T2-C4-DECADIENYL-COA[c]'\n",
    "                       #    'FRU1P[e]',\n",
    "                       ])\n",
    "uptake_removal = set([\n",
    "                      # \"OXYGEN-MOLECULE[p]\",\n",
    "                      'GLC[p]',\n",
    "                      # 'Pi[p]',\n",
    "                      #   'SULFATE[e]',\n",
    "                      #   'AMMONIUM[e]'\n",
    "                     ])\n",
    "\n",
    "# add_homeostatic_demand = ['HOMO-SER[p]', 'CPD-15554[p]', 'THR[p]']\n",
    "# add_homeostatic_demand = ['T2-C4-DECADIENYL-COA[c]']\n",
    "\n",
    "force_reaction = ['TRANS-RXN-242', 'TRANS-RXN-242A', 'TRANS-RXN0-0244']\n",
    "# force_reaction = ['RXN0-2441']\n",
    "# force_reaction = None\n",
    "\n",
    "objective_weights = {'secretion': 0.01, 'efficiency': 0.000001, 'kinetics': 0.000001}\n",
    "# objective_weights = {'secretion': 0.01, 'kinetics': 0.0001}\n",
    "solution_flux, test_reaction_names, S_new, test_metabolites, test_kinetic = test_NetworkFlowModel(\n",
    "                                            objective_weights,\n",
    "                                            uptake_addition=uptake_addition, \n",
    "                                            # uptake_removal=uptake_removal,\n",
    "                                            # add_homeostatic_demand=add_homeostatic_demand,    \n",
    "                                            # force_reaction=force_reaction,\n",
    ")\n",
    "sim_flux = pd.DataFrame({\n",
    "    'flux': solution_flux,\n",
    "    'is_new': [\n",
    "        'New Reactions' if id in fba_new_reaction_ids \n",
    "        else 'TEMP' if id in add_reaction.keys() \n",
    "        else 'Old Reactions' \n",
    "            for id in test_reaction_names\n",
    "    ]\n",
    "}, index=test_reaction_names)\n",
    "#18391.51691059434"
   ],
   "id": "17b0de6c9a7db419",
   "outputs": [
    {
     "name": "stdout",
     "output_type": "stream",
     "text": [
      "Force Reaction ID is: None\n",
      "Optimal objective function reached is: 21701.904583182\n"
     ]
    }
   ],
   "execution_count": 225
  },
  {
   "metadata": {
    "ExecuteTime": {
     "end_time": "2025-06-09T23:25:39.096768Z",
     "start_time": "2025-06-09T23:25:39.081826Z"
    }
   },
   "cell_type": "code",
   "source": [
    "met_of_interest = ['T2-C4-DECADIENYL-COA[c]']\n",
    "S_new = pd.DataFrame(S_new, index=test_metabolites, columns=test_reaction_names)\n",
    "S_met, rxns  = get_subset_S(S_new, met_of_interest)\n",
    "# rxns = ['ABC-16-RXN-MALTOSE/ATP/WATER//MALTOSE/ADP/Pi/PROTON.41.', 'TRANS-RXN0-504', 'TRANS-RXN0-503']\n",
    "rxn_flux = sim_flux.loc[rxns]\n",
    "rxn_flux['kinetic'] = [test_kinetic[r] if r in kinetic_reaction_ids else False for r in rxn_flux.index]\n",
    "rxn_flux"
   ],
   "id": "96a79ab51f29cdc8",
   "outputs": [
    {
     "data": {
      "text/plain": [
       "                                 flux         is_new  kinetic\n",
       "DIENOYLCOAREDUCT-RXN (reverse)  312.0  New Reactions    False"
      ],
      "text/html": [
       "<div>\n",
       "<style scoped>\n",
       "    .dataframe tbody tr th:only-of-type {\n",
       "        vertical-align: middle;\n",
       "    }\n",
       "\n",
       "    .dataframe tbody tr th {\n",
       "        vertical-align: top;\n",
       "    }\n",
       "\n",
       "    .dataframe thead th {\n",
       "        text-align: right;\n",
       "    }\n",
       "</style>\n",
       "<table border=\"1\" class=\"dataframe\">\n",
       "  <thead>\n",
       "    <tr style=\"text-align: right;\">\n",
       "      <th></th>\n",
       "      <th>flux</th>\n",
       "      <th>is_new</th>\n",
       "      <th>kinetic</th>\n",
       "    </tr>\n",
       "  </thead>\n",
       "  <tbody>\n",
       "    <tr>\n",
       "      <th>DIENOYLCOAREDUCT-RXN (reverse)</th>\n",
       "      <td>312.0</td>\n",
       "      <td>New Reactions</td>\n",
       "      <td>False</td>\n",
       "    </tr>\n",
       "  </tbody>\n",
       "</table>\n",
       "</div>"
      ]
     },
     "execution_count": 226,
     "metadata": {},
     "output_type": "execute_result"
    }
   ],
   "execution_count": 226
  },
  {
   "metadata": {
    "ExecuteTime": {
     "end_time": "2025-06-09T22:21:17.575649Z",
     "start_time": "2025-06-09T22:21:17.566256Z"
    }
   },
   "cell_type": "code",
   "source": [
    "for met in homeostatic.index.tolist():\n",
    "    if 'ENTEROBACTIN' in met:\n",
    "        print(met, homeostatic[met])"
   ],
   "id": "56615b213e1f8264",
   "outputs": [
    {
     "name": "stdout",
     "output_type": "stream",
     "text": [
      "ENTEROBACTIN[c] 15.0\n"
     ]
    }
   ],
   "execution_count": 178
  },
  {
   "metadata": {
    "ExecuteTime": {
     "end_time": "2025-06-09T21:26:34.952420Z",
     "start_time": "2025-06-09T21:26:34.947189Z"
    }
   },
   "cell_type": "code",
   "source": "homeostatic",
   "id": "c13a23990f2116cd",
   "outputs": [
    {
     "data": {
      "text/plain": [
       "2-3-DIHYDROXYBENZOATE[c]    20.0\n",
       "2-KETOGLUTARATE[c]          53.0\n",
       "2-PG[c]                     13.0\n",
       "2K-4CH3-PENTANOATE[c]       20.0\n",
       "4-AMINO-BUTYRATE[c]         46.0\n",
       "                            ... \n",
       "NA+[p]                      15.0\n",
       "OXYGEN-MOLECULE[p]          15.0\n",
       "FE+3[p]                     15.0\n",
       "CA+2[p]                     15.0\n",
       "Pi[p]                       15.0\n",
       "Name: 24, Length: 172, dtype: float64"
      ]
     },
     "execution_count": 158,
     "metadata": {},
     "output_type": "execute_result"
    }
   ],
   "execution_count": 158
  },
  {
   "metadata": {
    "ExecuteTime": {
     "end_time": "2025-06-09T22:21:40.075191Z",
     "start_time": "2025-06-09T22:21:39.977131Z"
    }
   },
   "cell_type": "code",
   "source": [
    "molecule_of_interest = ['ENTEROBACTIN[c]','AMINEOXID-CPLX[c]']\n",
    "dem_of_interest_bulk_idx = bulk_name_to_idx(molecule_of_interest, metabolism_basal.bulk_ids)\n",
    "\n",
    "plt.figure(figsize=(10, 6))\n",
    "plt.subplot(3, 1, 1)\n",
    "plt.plot(bulk[dem_of_interest_bulk_idx[0]], label=\"ENTEROBACTIN[c]\")\n",
    "# plt.plot(bulk[dem_of_interest_bulk_idx[1]], label=\"CPD-18260[c]\")\n",
    "# plt.plot(bulk[dem_of_interest_bulk_idx[2]], label=\"CPD-14332[c]\")\n",
    "plt.xlabel('Time (s)')\n",
    "plt.ylabel(\"Amount of CPD-6761[c]\")\n",
    "plt.legend()\n",
    "plt.grid()"
   ],
   "id": "254d4ab1528fb519",
   "outputs": [
    {
     "data": {
      "text/plain": [
       "<Figure size 1000x600 with 1 Axes>"
      ],
      "image/png": "[encoded data removed]"
     },
     "metadata": {},
     "output_type": "display_data"
    }
   ],
   "execution_count": 180
  },
  {
   "metadata": {
    "ExecuteTime": {
     "end_time": "2025-06-05T19:07:18.600655Z",
     "start_time": "2025-06-05T19:07:18.597360Z"
    }
   },
   "cell_type": "code",
   "source": "dem_of_interest_bulk_idx",
   "id": "aa3f6a050128384d",
   "outputs": [
    {
     "data": {
      "text/plain": [
       "array([5333, 2105])"
      ]
     },
     "execution_count": 40,
     "metadata": {},
     "output_type": "execute_result"
    }
   ],
   "execution_count": 40
  },
  {
   "metadata": {
    "ExecuteTime": {
     "end_time": "2025-06-05T21:24:20.127036Z",
     "start_time": "2025-06-05T21:24:19.595630Z"
    }
   },
   "cell_type": "code",
   "source": [
    "basal_sim_fluxes = pd.DataFrame(fba_basal['solution_fluxes'], columns=metabolism_basal.reaction_names).mean(axis=0)\n",
    "basal_sim_fluxes = pd.DataFrame(fba_basal['solution_fluxes'], columns=metabolism_basal.reaction_names).loc[340:360,:]\n",
    "basal_sim_fluxes['RXN0-5266-CPD-9956/OXYGEN-MOLECULE/PROTON//UBIQUINONE-8/WATER/PROTON.59.']"
   ],
   "id": "c5bdc6d90851b1d5",
   "outputs": [
    {
     "data": {
      "text/plain": [
       "340   -0.0\n",
       "341   -0.0\n",
       "342   -0.0\n",
       "343   -0.0\n",
       "344   -0.0\n",
       "345   -0.0\n",
       "346   -0.0\n",
       "347   -0.0\n",
       "348   -0.0\n",
       "349   -0.0\n",
       "350   -0.0\n",
       "351   -0.0\n",
       "352   -0.0\n",
       "353   -0.0\n",
       "354   -0.0\n",
       "355   -0.0\n",
       "356   -0.0\n",
       "357   -0.0\n",
       "358   -0.0\n",
       "359   -0.0\n",
       "360   -0.0\n",
       "Name: RXN0-5266-CPD-9956/OXYGEN-MOLECULE/PROTON//UBIQUINONE-8/WATER/PROTON.59., dtype: float64"
      ]
     },
     "execution_count": 53,
     "metadata": {},
     "output_type": "execute_result"
    }
   ],
   "execution_count": 53
  },
  {
   "metadata": {
    "ExecuteTime": {
     "end_time": "2025-06-05T19:28:27.651755Z",
     "start_time": "2025-06-05T19:28:27.647926Z"
    }
   },
   "cell_type": "code",
   "source": [
    "for reaction in kinetic_reaction_ids:\n",
    "    if 'RXN-19492' in reaction:\n",
    "        print(reaction)"
   ],
   "id": "3278ae726ab770ec",
   "outputs": [],
   "execution_count": 45
  },
  {
   "metadata": {
    "ExecuteTime": {
     "end_time": "2025-06-06T01:51:36.857068Z",
     "start_time": "2025-06-06T01:51:36.853177Z"
    }
   },
   "cell_type": "code",
   "source": [
    "for reaction in reaction_names:\n",
    "    if 'ACONITATEHYDR-RXN' in reaction:\n",
    "        print(reaction)"
   ],
   "id": "6ac1cb4199cdbd3a",
   "outputs": [
    {
     "name": "stdout",
     "output_type": "stream",
     "text": [
      "ACONITATEHYDR-RXN\n",
      "ACONITATEHYDR-RXN (reverse)\n"
     ]
    }
   ],
   "execution_count": 147
  },
  {
   "metadata": {},
   "cell_type": "code",
   "outputs": [],
   "execution_count": null,
   "source": "",
   "id": "5e21aa65713871f3"
  }
 ],
 "metadata": {
  "kernelspec": {
   "display_name": "Python 3",
   "language": "python",
   "name": "python3"
  },
  "language_info": {
   "codemirror_mode": {
    "name": "ipython",
    "version": 2
   },
   "file_extension": ".py",
   "mimetype": "text/x-python",
   "name": "python",
   "nbconvert_exporter": "python",
   "pygments_lexer": "ipython2",
   "version": "2.7.6"
  }
 },
 "nbformat": 4,
 "nbformat_minor": 5
}
