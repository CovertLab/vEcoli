{
 "cells": [
  {
   "cell_type": "code",
   "execution_count": 1,
   "id": "75abe5b6-82a6-4927-abab-7a1a0a9b3d17",
   "metadata": {},
   "outputs": [],
   "source": [
    "import numpy as np\n",
    "import ast\n",
    "import seaborn as sns\n",
    "import pandas as pd\n",
    "import os\n",
    "import matplotlib.pyplot as plt\n",
    "import dill\n",
    "import requests\n",
    "import xmltodict\n",
    "import cvxpy as cp\n",
    "import itertools\n",
    "from scipy.special import logsumexp\n",
    "\n",
    "%matplotlib inline\n",
    "# sns.set(style='darkgrid', palette='viridis', context='talk')\n",
    "\n",
    "os.chdir(os.path.expanduser('~/dev/vivarium-ecoli'))\n",
    "\n",
    "from ecoli.processes.metabolism_redux_classic import NetworkFlowModel, FlowResult\n",
    "from ecoli.library.schema import numpy_schema, bulk_name_to_idx, listener_schema, counts\n",
    "from ecoli.processes.registries import topology_registry\n",
    "TOPOLOGY = topology_registry.access(\"ecoli-metabolism-redux\")"
   ]
  },
  {
   "cell_type": "code",
   "execution_count": 2,
   "id": "293dbefa-6da4-4504-864d-a1d4821a0b15",
   "metadata": {},
   "outputs": [],
   "source": [
    "# create a function to deal with non-homogeous dtype of columns. mixture of strings and lists\n",
    "def string_to_list(s):\n",
    "    try:\n",
    "        return np.array(ast.literal_eval(s))  # Safely convert string to array\n",
    "    except (ValueError, SyntaxError):\n",
    "        return np.array(s)  # Return as array if object is not a list and conversion fails (e.g., NaN values)"
   ]
  },
  {
   "cell_type": "code",
   "execution_count": null,
   "id": "05f9800d-f56d-4de4-96a0-d67a17e0d655",
   "metadata": {},
   "outputs": [
    {
     "name": "stdout",
     "output_type": "stream",
     "text": [
      "Starting dead-end test...\n",
      " - Found 713 dead-end metabolites.\n",
      " - Found 901 reactions incapable of sustaining steady-state fluxes in either direction due to these dead-ends.\n",
      " - Found 243 reversible reactions that can only carry steady-state fluxes in a single direction due to dead-ends.\n",
      "Starting duplicate test...\n",
      " - Skipping redox duplicates because no redox_pairs and/or proton_ids were provided.\n",
      " - Found 77 reactions that were some type of duplicate:\n",
      "   - 2 were completely identical to at least one other reaction.\n",
      "   - 24 involve the same metabolites but go in the opposite direction or have the opposite reversibility as at least one other reaction.\n",
      "   - 63 involve the same metabolites but with different coefficients as at least one other reaction.\n",
      "Skipping diphosphate test because IDs for mono- and diphosphate ions were not provided.\n",
      "Starting loop test...\n",
      " - Found 61 reactions involved in infinite loops.\n",
      "Starting dilution test...\n"
     ]
    }
   ],
   "source": [
    "import cobra\n",
    "from macaw.main import run_all_tests\n",
    "\n",
    "NOTEBOOK_DIR = f'notebooks/Heena notebooks/Metabolism_New Genes'\n",
    "model = cobra.io.read_sbml_model(os.path.join(NOTEBOOK_DIR,'iML1515.xml'))\n",
    "(test_results, edge_list) = run_all_tests(model)"
   ]
  },
  {
   "cell_type": "code",
   "execution_count": null,
   "id": "beaa6ca8-4e5b-4784-b1cb-34da7b9e0a5f",
   "metadata": {},
   "outputs": [],
   "source": []
  }
 ],
 "metadata": {
  "kernelspec": {
   "display_name": "Python 3 (ipykernel)",
   "language": "python",
   "name": "python3"
  },
  "language_info": {
   "codemirror_mode": {
    "name": "ipython",
    "version": 3
   },
   "file_extension": ".py",
   "mimetype": "text/x-python",
   "name": "python",
   "nbconvert_exporter": "python",
   "pygments_lexer": "ipython3",
   "version": "3.11.3"
  }
 },
 "nbformat": 4,
 "nbformat_minor": 5
}
