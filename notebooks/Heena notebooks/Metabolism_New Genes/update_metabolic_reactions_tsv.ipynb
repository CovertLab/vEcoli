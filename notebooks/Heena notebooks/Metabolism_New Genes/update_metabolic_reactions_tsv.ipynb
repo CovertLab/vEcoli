{
 "cells": [
  {
   "cell_type": "markdown",
   "id": "b4f86e05-92b0-4cc5-9319-5f14d213e021",
   "metadata": {},
   "source": [
    "# The purpose of this noteboook is to update the `metabolic_reactions.tsv` flat file in ecoli reconstruction with:\n",
    "* a new column indicating whether the reactions are new. i.e. added in 2022. \n",
    "* a new column indicating whether the reactions are using energy"
   ]
  },
  {
   "cell_type": "code",
   "id": "3d87d43e-00c8-4f3b-afa4-3b9296312d83",
   "metadata": {
    "ExecuteTime": {
     "end_time": "2025-08-11T23:40:18.114888Z",
     "start_time": "2025-08-11T23:40:17.869049Z"
    }
   },
   "source": [
    "import numpy as np\n",
    "import ast\n",
    "import seaborn as sns\n",
    "import pandas as pd\n",
    "import os\n",
    "import matplotlib.pyplot as plt\n",
    "import dill\n",
    "import requests\n",
    "import xmltodict\n",
    "import cvxpy as cp\n",
    "import itertools\n",
    "from scipy.special import logsumexp\n",
    "%matplotlib inline\n",
    "# sns.set(style='darkgrid', palette='viridis', context='talk')\n",
    "\n",
    "os.chdir(os.path.expanduser('~/dev/vivarium-ecoli/'))\n"
   ],
   "outputs": [],
   "execution_count": 1
  },
  {
   "cell_type": "code",
   "id": "38a4ad15-bf6d-496e-8f79-873a23b03ab7",
   "metadata": {
    "ExecuteTime": {
     "end_time": "2025-08-11T23:40:18.117225Z",
     "start_time": "2025-08-11T23:40:18.115596Z"
    }
   },
   "source": [
    "FLAT_DIR = f'reconstruction/ecoli/flat/'\n",
    "NOTEBOOK_DIR = f'notebooks/Heena notebooks/Metabolism_New Genes'"
   ],
   "outputs": [],
   "execution_count": 2
  },
  {
   "cell_type": "code",
   "id": "bb7d1e5b-f8a3-4b1e-bc50-1580ead4c32d",
   "metadata": {
    "ExecuteTime": {
     "end_time": "2025-08-11T23:40:18.120469Z",
     "start_time": "2025-08-11T23:40:18.118667Z"
    }
   },
   "source": [
    "# create a function to deal with non-homogeous dtype of columns. mixture of strings and lists\n",
    "def string_to_list(s):\n",
    "    try:\n",
    "        return np.array(ast.literal_eval(s))  # Safely convert string to array\n",
    "    except (ValueError, SyntaxError):\n",
    "        return np.array(s)  # Return as array if object is not a list and conversion fails (e.g., NaN values)"
   ],
   "outputs": [],
   "execution_count": 3
  },
  {
   "cell_type": "code",
   "id": "6098e67d-34e8-47d3-9564-2eb5b8ae79bf",
   "metadata": {
    "ExecuteTime": {
     "end_time": "2025-08-11T23:48:05.337701Z",
     "start_time": "2025-08-11T23:48:05.293173Z"
    }
   },
   "source": [
    "# load annotated new metabolic gene tsv and metabolic_reactions.tsv\n",
    "metabolic_gene_annotation = pd.read_csv(os.path.join(NOTEBOOK_DIR, \"new_metabolic_gene_annotation.csv\"), converters={'Reactions': string_to_list})\n",
    "metabolic_reactions = pd.read_csv(os.path.join(FLAT_DIR, \"metabolic_reactions.tsv\"),sep='\\t', skiprows=5)\n",
    "modified = pd.read_csv(os.path.join(FLAT_DIR, \"metabolic_reactions_modified.tsv\"),sep='\\t')\n",
    "added = pd.read_csv(os.path.join(FLAT_DIR, \"metabolic_reactions_added.tsv\"),sep='\\t', skiprows=1)"
   ],
   "outputs": [],
   "execution_count": 22
  },
  {
   "metadata": {
    "ExecuteTime": {
     "end_time": "2025-08-11T23:48:05.765634Z",
     "start_time": "2025-08-11T23:48:05.758688Z"
    }
   },
   "cell_type": "code",
   "source": "modified",
   "id": "901f8f80ccd9c495",
   "outputs": [
    {
     "data": {
      "text/plain": [
       "                                                  id  \\\n",
       "0                         ADENOSINE-NUCLEOSIDASE-RXN   \n",
       "1                           INOSINE-NUCLEOSIDASE-RXN   \n",
       "2  RXN-14882[CCO-CYTOSOL]-CPD-15818//D-Ribofurano...   \n",
       "3  RXN-14882[CCO-EXTRACELLULAR]-CPD-15818//D-Ribo...   \n",
       "4  RXN-14882[CCO-PERI-BAC]-CPD-15818//D-Ribofuran...   \n",
       "5                                           RXN0-361   \n",
       "6                                           RXN0-363   \n",
       "7                           URIDINE-NUCLEOSIDASE-RXN   \n",
       "8                                  ASPAMINOTRANS-RXN   \n",
       "9                                          RXN-15346   \n",
       "\n",
       "                                       stoichiometry direction  \\\n",
       "0  {\"ADENOSINE[CCO-CYTOSOL]\": -1, \"WATER[CCO-CYTO...       L2R   \n",
       "1  {\"INOSINE[CCO-CYTOSOL]\": -1, \"WATER[CCO-CYTOSO...       L2R   \n",
       "2  {\"CPD-15818[CCO-CYTOSOL]\": -1, \"CPD0-1108[CCO-...      BOTH   \n",
       "3  {\"CPD-15818[CCO-EXTRACELLULAR]\": -1, \"CPD0-110...      BOTH   \n",
       "4  {\"CPD-15818[CCO-PERI-BAC]\": -1, \"CPD0-1108[CCO...      BOTH   \n",
       "5  {\"CYTIDINE[CCO-CYTOSOL]\": -1, \"WATER[CCO-CYTOS...       L2R   \n",
       "6  {\"XANTHOSINE[CCO-CYTOSOL]\": -1, \"WATER[CCO-CYT...       L2R   \n",
       "7  {\"URIDINE[CCO-CYTOSOL]\": -1, \"WATER[CCO-CYTOSO...       L2R   \n",
       "8  {\"L-ASPARTATE[CCO-CYTOSOL]\": -1, \"2-KETOGLUTAR...      BOTH   \n",
       "9  {\"CPD-16551[CCO-CYTOSOL]\": -1, \"RIBOSE-5P[CCO-...       L2R   \n",
       "\n",
       "                                      catalyzed_by  is_new  \\\n",
       "0                              [\"EG11082-MONOMER\"]       0   \n",
       "1                              [\"EG11082-MONOMER\"]       0   \n",
       "2                                               []       0   \n",
       "3                                               []       0   \n",
       "4                                               []       0   \n",
       "5  [\"EG11082-MONOMER\", \"CPLX0-7904\", \"CPLX0-8280\"]       0   \n",
       "6                              [\"EG11082-MONOMER\"]       0   \n",
       "7  [\"CPLX0-7904\", \"CPLX0-8280\", \"EG11082-MONOMER\"]       0   \n",
       "8            [\"ASPAMINOTRANS-DIMER\", \"TYRB-DIMER\"]       0   \n",
       "9                                               []       0   \n",
       "\n",
       "                                           _comments  \n",
       "0  Replaced D-Ribofuranose (compound class that c...  \n",
       "1  Replaced D-Ribofuranose (compound class that c...  \n",
       "2  Replaced D-Ribofuranose (compound class that c...  \n",
       "3  Replaced D-Ribofuranose (compound class that c...  \n",
       "4  Replaced D-Ribofuranose (compound class that c...  \n",
       "5  Replaced D-Ribofuranose (compound class that c...  \n",
       "6  Replaced D-Ribofuranose (compound class that c...  \n",
       "7  Replaced D-Ribofuranose (compound class that c...  \n",
       "8  TYRB-DIMER added as an alternative catalyst ba...  \n",
       "9  Replaced CPD-15895 (aldehydo-D-ribose-5P) with...  "
      ],
      "text/html": [
       "<div>\n",
       "<style scoped>\n",
       "    .dataframe tbody tr th:only-of-type {\n",
       "        vertical-align: middle;\n",
       "    }\n",
       "\n",
       "    .dataframe tbody tr th {\n",
       "        vertical-align: top;\n",
       "    }\n",
       "\n",
       "    .dataframe thead th {\n",
       "        text-align: right;\n",
       "    }\n",
       "</style>\n",
       "<table border=\"1\" class=\"dataframe\">\n",
       "  <thead>\n",
       "    <tr style=\"text-align: right;\">\n",
       "      <th></th>\n",
       "      <th>id</th>\n",
       "      <th>stoichiometry</th>\n",
       "      <th>direction</th>\n",
       "      <th>catalyzed_by</th>\n",
       "      <th>is_new</th>\n",
       "      <th>_comments</th>\n",
       "    </tr>\n",
       "  </thead>\n",
       "  <tbody>\n",
       "    <tr>\n",
       "      <th>0</th>\n",
       "      <td>ADENOSINE-NUCLEOSIDASE-RXN</td>\n",
       "      <td>{\"ADENOSINE[CCO-CYTOSOL]\": -1, \"WATER[CCO-CYTO...</td>\n",
       "      <td>L2R</td>\n",
       "      <td>[\"EG11082-MONOMER\"]</td>\n",
       "      <td>0</td>\n",
       "      <td>Replaced D-Ribofuranose (compound class that c...</td>\n",
       "    </tr>\n",
       "    <tr>\n",
       "      <th>1</th>\n",
       "      <td>INOSINE-NUCLEOSIDASE-RXN</td>\n",
       "      <td>{\"INOSINE[CCO-CYTOSOL]\": -1, \"WATER[CCO-CYTOSO...</td>\n",
       "      <td>L2R</td>\n",
       "      <td>[\"EG11082-MONOMER\"]</td>\n",
       "      <td>0</td>\n",
       "      <td>Replaced D-Ribofuranose (compound class that c...</td>\n",
       "    </tr>\n",
       "    <tr>\n",
       "      <th>2</th>\n",
       "      <td>RXN-14882[CCO-CYTOSOL]-CPD-15818//D-Ribofurano...</td>\n",
       "      <td>{\"CPD-15818[CCO-CYTOSOL]\": -1, \"CPD0-1108[CCO-...</td>\n",
       "      <td>BOTH</td>\n",
       "      <td>[]</td>\n",
       "      <td>0</td>\n",
       "      <td>Replaced D-Ribofuranose (compound class that c...</td>\n",
       "    </tr>\n",
       "    <tr>\n",
       "      <th>3</th>\n",
       "      <td>RXN-14882[CCO-EXTRACELLULAR]-CPD-15818//D-Ribo...</td>\n",
       "      <td>{\"CPD-15818[CCO-EXTRACELLULAR]\": -1, \"CPD0-110...</td>\n",
       "      <td>BOTH</td>\n",
       "      <td>[]</td>\n",
       "      <td>0</td>\n",
       "      <td>Replaced D-Ribofuranose (compound class that c...</td>\n",
       "    </tr>\n",
       "    <tr>\n",
       "      <th>4</th>\n",
       "      <td>RXN-14882[CCO-PERI-BAC]-CPD-15818//D-Ribofuran...</td>\n",
       "      <td>{\"CPD-15818[CCO-PERI-BAC]\": -1, \"CPD0-1108[CCO...</td>\n",
       "      <td>BOTH</td>\n",
       "      <td>[]</td>\n",
       "      <td>0</td>\n",
       "      <td>Replaced D-Ribofuranose (compound class that c...</td>\n",
       "    </tr>\n",
       "    <tr>\n",
       "      <th>5</th>\n",
       "      <td>RXN0-361</td>\n",
       "      <td>{\"CYTIDINE[CCO-CYTOSOL]\": -1, \"WATER[CCO-CYTOS...</td>\n",
       "      <td>L2R</td>\n",
       "      <td>[\"EG11082-MONOMER\", \"CPLX0-7904\", \"CPLX0-8280\"]</td>\n",
       "      <td>0</td>\n",
       "      <td>Replaced D-Ribofuranose (compound class that c...</td>\n",
       "    </tr>\n",
       "    <tr>\n",
       "      <th>6</th>\n",
       "      <td>RXN0-363</td>\n",
       "      <td>{\"XANTHOSINE[CCO-CYTOSOL]\": -1, \"WATER[CCO-CYT...</td>\n",
       "      <td>L2R</td>\n",
       "      <td>[\"EG11082-MONOMER\"]</td>\n",
       "      <td>0</td>\n",
       "      <td>Replaced D-Ribofuranose (compound class that c...</td>\n",
       "    </tr>\n",
       "    <tr>\n",
       "      <th>7</th>\n",
       "      <td>URIDINE-NUCLEOSIDASE-RXN</td>\n",
       "      <td>{\"URIDINE[CCO-CYTOSOL]\": -1, \"WATER[CCO-CYTOSO...</td>\n",
       "      <td>L2R</td>\n",
       "      <td>[\"CPLX0-7904\", \"CPLX0-8280\", \"EG11082-MONOMER\"]</td>\n",
       "      <td>0</td>\n",
       "      <td>Replaced D-Ribofuranose (compound class that c...</td>\n",
       "    </tr>\n",
       "    <tr>\n",
       "      <th>8</th>\n",
       "      <td>ASPAMINOTRANS-RXN</td>\n",
       "      <td>{\"L-ASPARTATE[CCO-CYTOSOL]\": -1, \"2-KETOGLUTAR...</td>\n",
       "      <td>BOTH</td>\n",
       "      <td>[\"ASPAMINOTRANS-DIMER\", \"TYRB-DIMER\"]</td>\n",
       "      <td>0</td>\n",
       "      <td>TYRB-DIMER added as an alternative catalyst ba...</td>\n",
       "    </tr>\n",
       "    <tr>\n",
       "      <th>9</th>\n",
       "      <td>RXN-15346</td>\n",
       "      <td>{\"CPD-16551[CCO-CYTOSOL]\": -1, \"RIBOSE-5P[CCO-...</td>\n",
       "      <td>L2R</td>\n",
       "      <td>[]</td>\n",
       "      <td>0</td>\n",
       "      <td>Replaced CPD-15895 (aldehydo-D-ribose-5P) with...</td>\n",
       "    </tr>\n",
       "  </tbody>\n",
       "</table>\n",
       "</div>"
      ]
     },
     "execution_count": 23,
     "metadata": {},
     "output_type": "execute_result"
    }
   ],
   "execution_count": 23
  },
  {
   "cell_type": "code",
   "id": "b6071cda-d81d-4fe7-ac51-19d56f6959b7",
   "metadata": {
    "ExecuteTime": {
     "end_time": "2025-08-11T23:48:17.314390Z",
     "start_time": "2025-08-11T23:48:16.080805Z"
    }
   },
   "source": [
    "# add new column in metabolic_reactions indicating whether it is a new reaction\n",
    "is_new = [] # whether a metabolic rxn is new or not\n",
    "rxn_in_metabolic = [] #new rxn names that are in metabolic rxn\n",
    "all_new_rxn = np.hstack(metabolic_gene_annotation['Reactions'])\n",
    "all_new_rxn = [rxn for rxn in all_new_rxn if rxn != ''] #remove empty rxns\n",
    "all_new_rxn = np.unique(all_new_rxn) #remove duplicates\n",
    "\n",
    "for idx,reaction in enumerate(metabolic_reactions.iloc[:,0]):\n",
    "    is_new_reaction_described_in_reactions = [new_rxn in reaction for new_rxn in all_new_rxn]\n",
    "    \n",
    "    if any(is_new_reaction_described_in_reactions): #if reaction name in metabolic_reactions is found in all_new_rxn\n",
    "        # a reaction may have several variations catalyzed by different enzymes, which leads to longer reaction name stored in sim_data\n",
    "        # only the 'new_reactions' catalyzed by that encoded in metabolic_gene_annotation['Enzymes'] are the correct new_reactions\n",
    "\n",
    "        # get row index of new reaction in metabolic_gene_annotation - get enzyme encoded by new gene catalyzing the reaction\n",
    "        new_rxn_name = all_new_rxn[is_new_reaction_described_in_reactions]\n",
    "        index_new_rxn = metabolic_gene_annotation[metabolic_gene_annotation['Reactions'].apply(\n",
    "                        lambda x: any(rxn in x for rxn in new_rxn_name))].index\n",
    "        enzyme_encoded_new = metabolic_gene_annotation[\"Enzyme encoded\"][index_new_rxn]\n",
    "        enzyme_encoded_reaction = metabolic_reactions.catalyzed_by[idx] #catalyzed_by of metabolic_reactions of the reaction\n",
    "        \n",
    "        rxn_in_metabolic.append(new_rxn_name)\n",
    "        if any(enzyme in enzyme_encoded_reaction for enzyme in enzyme_encoded_new):\n",
    "            is_new.append(1) #True\n",
    "        else:\n",
    "            is_new.append(0) #False\n",
    "    else:\n",
    "        is_new.append(0) #False\n",
    "\n",
    "metabolic_reactions[\"is_new\"] = is_new"
   ],
   "outputs": [],
   "execution_count": 26
  },
  {
   "cell_type": "code",
   "id": "38187563-f8d1-4b63-8425-cde02f0fd3bd",
   "metadata": {
    "ExecuteTime": {
     "end_time": "2025-08-11T23:48:28.087120Z",
     "start_time": "2025-08-11T23:48:28.073513Z"
    }
   },
   "source": [
    "# upon initial investigation of the is_new matrix, I realize that not all new rxns are included in the metabolic_reactions.tsv file. \n",
    "# I want to extract those new rxns that aren't included and manually investigate them to determine whether they shuld be included or not\n",
    "rxn_in_metabolic = np.unique(np.hstack(rxn_in_metabolic))\n",
    "print(f'There are {len(all_new_rxn) - len(rxn_in_metabolic)} new reactions missing from the metabolic_reactions.tsv file:')\n",
    "print(all_new_rxn[~np.isin(all_new_rxn, rxn_in_metabolic)])\n"
   ],
   "outputs": [
    {
     "name": "stdout",
     "output_type": "stream",
     "text": [
      "There are 14 new reactions missing from the metabolic_reactions.tsv file:\n",
      "['1.5.1.34-RXN' '3-NUCLEOTID-RXN' 'CYCPHOSDIESTER-RXN' 'R303-RXN'\n",
      " 'RXN-15119' 'RXN-16650' 'RXN-24038' 'RXN-24042' 'RXN-24048' 'RXN-24049'\n",
      " 'RXN0-1804' 'RXN0-5001' 'RXN0-5285' 'TRANS-RXN-387']\n"
     ]
    }
   ],
   "execution_count": 28
  },
  {
   "cell_type": "code",
   "id": "5198bb67-7f4e-4f99-8bab-061c280aeb38",
   "metadata": {
    "ExecuteTime": {
     "end_time": "2025-08-11T23:48:32.305814Z",
     "start_time": "2025-08-11T23:48:32.300037Z"
    }
   },
   "source": [
    "all_new_rxn[~np.isin(all_new_rxn, rxn_in_metabolic)]"
   ],
   "outputs": [
    {
     "data": {
      "text/plain": [
       "array(['1.5.1.34-RXN', '3-NUCLEOTID-RXN', 'CYCPHOSDIESTER-RXN',\n",
       "       'R303-RXN', 'RXN-15119', 'RXN-16650', 'RXN-24038', 'RXN-24042',\n",
       "       'RXN-24048', 'RXN-24049', 'RXN0-1804', 'RXN0-5001', 'RXN0-5285',\n",
       "       'TRANS-RXN-387'], dtype='<U33')"
      ]
     },
     "execution_count": 29,
     "metadata": {},
     "output_type": "execute_result"
    }
   ],
   "execution_count": 29
  },
  {
   "cell_type": "code",
   "id": "0fc05a4a-da6c-4151-a5a9-0c6b25752b54",
   "metadata": {
    "ExecuteTime": {
     "end_time": "2025-08-11T23:48:37.309590Z",
     "start_time": "2025-08-11T23:48:37.303392Z"
    }
   },
   "source": [
    "# add new column in metabolic_reactions indicating whether a reaction uses energy\n",
    "def uses_energy(reaction):\n",
    "    \"\"\"\n",
    "    Check if a reaction uses energy.\n",
    "    \"\"\"\n",
    "    # Define keywords that indicate energy usage\n",
    "    energy_keywords = ['ATP', 'ADP', 'AMP', 'NADH', 'NADPH', 'FADH2', 'GTP', 'GDP']\n",
    "    \n",
    "    # Check if any of the keywords are in the reaction string\n",
    "    return any(keyword in reaction for keyword in energy_keywords)"
   ],
   "outputs": [],
   "execution_count": 30
  },
  {
   "cell_type": "code",
   "id": "62c459cf-4f89-4233-a9df-0aa8700c5a84",
   "metadata": {
    "ExecuteTime": {
     "end_time": "2025-08-11T23:48:56.737353Z",
     "start_time": "2025-08-11T23:48:56.695979Z"
    }
   },
   "source": [
    "# Update supplementary metabolic reactions files - modified and added\n",
    "# all added reactions aren't new. They are reactions not included in ecocyc and are manually added\n",
    "added.insert(loc=4,column='is_new',value=0)\n",
    "\n",
    "# all modified reactions happen to be old. Make sense though because we probably didn't try modifying any of the new reactions\n",
    "modified.insert(loc=4,column='is_new',value=0)"
   ],
   "outputs": [
    {
     "ename": "ValueError",
     "evalue": "cannot insert is_new, already exists",
     "output_type": "error",
     "traceback": [
      "\u001B[0;31m---------------------------------------------------------------------------\u001B[0m",
      "\u001B[0;31mValueError\u001B[0m                                Traceback (most recent call last)",
      "\u001B[0;32m/var/folders/bf/9hkc8_c546b6ynkgy9g7hps80000gn/T/ipykernel_8860/1519224941.py\u001B[0m in \u001B[0;36m?\u001B[0;34m()\u001B[0m\n\u001B[1;32m      1\u001B[0m \u001B[0;31m# Update supplementary metabolic reactions files - modified and added\u001B[0m\u001B[0;34m\u001B[0m\u001B[0;34m\u001B[0m\u001B[0m\n\u001B[1;32m      2\u001B[0m \u001B[0;31m# all added reactions aren't new. They are reactions not included in ecocyc and are manually added\u001B[0m\u001B[0;34m\u001B[0m\u001B[0;34m\u001B[0m\u001B[0m\n\u001B[0;32m----> 3\u001B[0;31m \u001B[0madded\u001B[0m\u001B[0;34m.\u001B[0m\u001B[0minsert\u001B[0m\u001B[0;34m(\u001B[0m\u001B[0mloc\u001B[0m\u001B[0;34m=\u001B[0m\u001B[0;36m4\u001B[0m\u001B[0;34m,\u001B[0m\u001B[0mcolumn\u001B[0m\u001B[0;34m=\u001B[0m\u001B[0;34m'is_new'\u001B[0m\u001B[0;34m,\u001B[0m\u001B[0mvalue\u001B[0m\u001B[0;34m=\u001B[0m\u001B[0;36m0\u001B[0m\u001B[0;34m)\u001B[0m\u001B[0;34m\u001B[0m\u001B[0;34m\u001B[0m\u001B[0m\n\u001B[0m\u001B[1;32m      4\u001B[0m \u001B[0;34m\u001B[0m\u001B[0m\n\u001B[1;32m      5\u001B[0m \u001B[0;31m# all modified reactions happen to be old. Make sense though because we probably didn't try modifying any of the new reactions\u001B[0m\u001B[0;34m\u001B[0m\u001B[0;34m\u001B[0m\u001B[0m\n\u001B[1;32m      6\u001B[0m \u001B[0mmodified\u001B[0m\u001B[0;34m.\u001B[0m\u001B[0minsert\u001B[0m\u001B[0;34m(\u001B[0m\u001B[0mloc\u001B[0m\u001B[0;34m=\u001B[0m\u001B[0;36m4\u001B[0m\u001B[0;34m,\u001B[0m\u001B[0mcolumn\u001B[0m\u001B[0;34m=\u001B[0m\u001B[0;34m'is_new'\u001B[0m\u001B[0;34m,\u001B[0m\u001B[0mvalue\u001B[0m\u001B[0;34m=\u001B[0m\u001B[0;36m0\u001B[0m\u001B[0;34m)\u001B[0m\u001B[0;34m\u001B[0m\u001B[0;34m\u001B[0m\u001B[0m\n",
      "\u001B[0;32m~/.pyenv/versions/3.11.3/envs/viv-ecoli/lib/python3.11/site-packages/pandas/core/frame.py\u001B[0m in \u001B[0;36m?\u001B[0;34m(self, loc, column, value, allow_duplicates)\u001B[0m\n\u001B[1;32m   4768\u001B[0m                 \u001B[0;34m\"'self.flags.allows_duplicate_labels' is False.\"\u001B[0m\u001B[0;34m\u001B[0m\u001B[0;34m\u001B[0m\u001B[0m\n\u001B[1;32m   4769\u001B[0m             )\n\u001B[1;32m   4770\u001B[0m         \u001B[0;32mif\u001B[0m \u001B[0;32mnot\u001B[0m \u001B[0mallow_duplicates\u001B[0m \u001B[0;32mand\u001B[0m \u001B[0mcolumn\u001B[0m \u001B[0;32min\u001B[0m \u001B[0mself\u001B[0m\u001B[0;34m.\u001B[0m\u001B[0mcolumns\u001B[0m\u001B[0;34m:\u001B[0m\u001B[0;34m\u001B[0m\u001B[0;34m\u001B[0m\u001B[0m\n\u001B[1;32m   4771\u001B[0m             \u001B[0;31m# Should this be a different kind of error??\u001B[0m\u001B[0;34m\u001B[0m\u001B[0;34m\u001B[0m\u001B[0m\n\u001B[0;32m-> 4772\u001B[0;31m             \u001B[0;32mraise\u001B[0m \u001B[0mValueError\u001B[0m\u001B[0;34m(\u001B[0m\u001B[0;34mf\"cannot insert {column}, already exists\"\u001B[0m\u001B[0;34m)\u001B[0m\u001B[0;34m\u001B[0m\u001B[0;34m\u001B[0m\u001B[0m\n\u001B[0m\u001B[1;32m   4773\u001B[0m         \u001B[0;32mif\u001B[0m \u001B[0;32mnot\u001B[0m \u001B[0misinstance\u001B[0m\u001B[0;34m(\u001B[0m\u001B[0mloc\u001B[0m\u001B[0;34m,\u001B[0m \u001B[0mint\u001B[0m\u001B[0;34m)\u001B[0m\u001B[0;34m:\u001B[0m\u001B[0;34m\u001B[0m\u001B[0;34m\u001B[0m\u001B[0m\n\u001B[1;32m   4774\u001B[0m             \u001B[0;32mraise\u001B[0m \u001B[0mTypeError\u001B[0m\u001B[0;34m(\u001B[0m\u001B[0;34m\"loc must be int\"\u001B[0m\u001B[0;34m)\u001B[0m\u001B[0;34m\u001B[0m\u001B[0;34m\u001B[0m\u001B[0m\n\u001B[1;32m   4775\u001B[0m \u001B[0;34m\u001B[0m\u001B[0m\n",
      "\u001B[0;31mValueError\u001B[0m: cannot insert is_new, already exists"
     ]
    }
   ],
   "execution_count": 31
  },
  {
   "cell_type": "code",
   "id": "55075d7b-50b2-48bc-8a22-23c70a530285",
   "metadata": {
    "ExecuteTime": {
     "end_time": "2025-08-11T23:49:01.947615Z",
     "start_time": "2025-08-11T23:49:01.932402Z"
    }
   },
   "source": [
    "# save updated metabolic reactions as tsv\n",
    "col_list = [\"id\", \"direction\"]\n",
    "for colname in col_list:\n",
    "    metabolic_reactions[colname] = metabolic_reactions[colname].apply(lambda x:'\"' + str(x) + '\"')\n",
    "    added[colname] = added[colname].apply(lambda x:'\"' + str(x) + '\"')\n",
    "    modified[colname] = modified[colname].apply(lambda x:'\"' + str(x) + '\"')\n",
    "\n",
    "added[\"_comments\"] = added[\"_comments\"].apply(lambda x:'\"' + str(x) + '\"')\n",
    "modified[\"_comments\"] = modified[\"_comments\"].apply(lambda x:'\"' + str(x) + '\"')"
   ],
   "outputs": [],
   "execution_count": 32
  },
  {
   "cell_type": "code",
   "id": "eac8a0f5-7170-4a32-a608-16474213580e",
   "metadata": {},
   "source": [
    "metabolic_reactions.head(2)"
   ],
   "outputs": [],
   "execution_count": null
  },
  {
   "cell_type": "code",
   "id": "ff9222f1-e318-4f75-bc93-faf91ad7edbc",
   "metadata": {
    "ExecuteTime": {
     "end_time": "2025-08-11T23:50:20.691429Z",
     "start_time": "2025-08-11T23:50:20.647437Z"
    }
   },
   "source": [
    "import csv\n",
    "metabolic_reactions[:0].to_csv(\"reconstruction/ecoli/flat/metabolic_reactions.tsv\", sep = \"\\t\", index=False, quoting=csv.QUOTE_NONNUMERIC)\n",
    "metabolic_reactions.to_csv(\"reconstruction/ecoli/flat/metabolic_reactions.tsv\", sep = \"\\t\", index = False, header = False, mode=\"a\", quoting=csv.QUOTE_NONE)"
   ],
   "outputs": [],
   "execution_count": 37
  },
  {
   "cell_type": "code",
   "id": "54da2757-4a21-4b24-bdb0-818a4611e61f",
   "metadata": {
    "ExecuteTime": {
     "end_time": "2025-08-11T23:50:39.271865Z",
     "start_time": "2025-08-11T23:50:39.255103Z"
    }
   },
   "source": [
    "added[:0].to_csv(\"reconstruction/ecoli/flat/metabolic_reactions_added.tsv\", sep = \"\\t\", index=False, quoting=csv.QUOTE_NONNUMERIC)\n",
    "modified[:0].to_csv(\"reconstruction/ecoli/flat/metabolic_reactions_modified.tsv\", sep = \"\\t\", index=False, quoting=csv.QUOTE_NONNUMERIC)\n",
    "\n",
    "added.to_csv(\"reconstruction/ecoli/flat/metabolic_reactions_added.tsv\", sep = \"\\t\", index = False, header = False, mode=\"a\", quoting=csv.QUOTE_NONE)\n",
    "modified.to_csv(\"reconstruction/ecoli/flat/metabolic_reactions_modified.tsv\", sep = \"\\t\", index = False, header = False, mode=\"a\", quoting=csv.QUOTE_NONE)"
   ],
   "outputs": [],
   "execution_count": 38
  },
  {
   "cell_type": "markdown",
   "id": "5d026782-aeef-49db-8f1b-9fdedeadcdcb",
   "metadata": {},
   "source": ""
  },
  {
   "cell_type": "code",
   "id": "7e95e2b4-4821-4949-a24e-101154d36af5",
   "metadata": {
    "ExecuteTime": {
     "end_time": "2025-08-11T23:50:11.617510Z",
     "start_time": "2025-08-11T23:50:11.603173Z"
    }
   },
   "source": "metabolic_reactions[:0]",
   "outputs": [
    {
     "data": {
      "text/plain": [
       "Empty DataFrame\n",
       "Columns: [id, stoichiometry, direction, catalyzed_by, is_new]\n",
       "Index: []"
      ],
      "text/html": [
       "<div>\n",
       "<style scoped>\n",
       "    .dataframe tbody tr th:only-of-type {\n",
       "        vertical-align: middle;\n",
       "    }\n",
       "\n",
       "    .dataframe tbody tr th {\n",
       "        vertical-align: top;\n",
       "    }\n",
       "\n",
       "    .dataframe thead th {\n",
       "        text-align: right;\n",
       "    }\n",
       "</style>\n",
       "<table border=\"1\" class=\"dataframe\">\n",
       "  <thead>\n",
       "    <tr style=\"text-align: right;\">\n",
       "      <th></th>\n",
       "      <th>id</th>\n",
       "      <th>stoichiometry</th>\n",
       "      <th>direction</th>\n",
       "      <th>catalyzed_by</th>\n",
       "      <th>is_new</th>\n",
       "    </tr>\n",
       "  </thead>\n",
       "  <tbody>\n",
       "  </tbody>\n",
       "</table>\n",
       "</div>"
      ]
     },
     "execution_count": 36,
     "metadata": {},
     "output_type": "execute_result"
    }
   ],
   "execution_count": 36
  },
  {
   "cell_type": "code",
   "id": "845a02c3-b32c-45cd-848a-1f7c4e19fbed",
   "metadata": {},
   "source": "",
   "outputs": [],
   "execution_count": null
  },
  {
   "cell_type": "code",
   "id": "00db95e5-50a9-46f5-85cf-49d5ae582fec",
   "metadata": {},
   "source": "",
   "outputs": [],
   "execution_count": null
  }
 ],
 "metadata": {
  "kernelspec": {
   "display_name": "Python 3 (ipykernel)",
   "language": "python",
   "name": "python3"
  },
  "language_info": {
   "codemirror_mode": {
    "name": "ipython",
    "version": 3
   },
   "file_extension": ".py",
   "mimetype": "text/x-python",
   "name": "python",
   "nbconvert_exporter": "python",
   "pygments_lexer": "ipython3",
   "version": "3.11.3"
  }
 },
 "nbformat": 4,
 "nbformat_minor": 5
}
