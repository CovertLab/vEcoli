{
 "cells": [
  {
   "cell_type": "code",
   "id": "initial_id",
   "metadata": {
    "collapsed": true,
    "ExecuteTime": {
     "end_time": "2025-07-10T21:19:50.623349Z",
     "start_time": "2025-07-10T21:19:50.480643Z"
    }
   },
   "source": [
    "import cvxpy as cp\n",
    "import numpy as np"
   ],
   "outputs": [],
   "execution_count": 1
  },
  {
   "metadata": {},
   "cell_type": "markdown",
   "source": "# DGP Approach 1 - Beta as variable",
   "id": "8e49c721021b6586"
  },
  {
   "metadata": {
    "ExecuteTime": {
     "end_time": "2025-07-10T21:19:50.658181Z",
     "start_time": "2025-07-10T21:19:50.624066Z"
    }
   },
   "cell_type": "code",
   "source": [
    "k_cats = cp.Variable(6, pos=True) # (1/sec)\n",
    "K_ms = cp.Variable(6, pos=True) # K_M (mol/L)\n",
    "BETA   = cp.Variable(1, pos=True) # unitless\n",
    "# k_cats_diff_slack = cp.Variable(1, pos=True) # (1/sec)\n",
    "# K_m_diff_slack = cp.Variable(1, pos=True) # (mol/L)\n",
    "S = cp.Variable(6, pos=True) # (mol/L)\n",
    "\n",
    "P_L = 0.00014218052336201800 # (mol/L)\n",
    "k_cat_exp = 0.071 # (1/sec)\n",
    "K_ms_exp = 3.7E-6 # (mol/L)\n",
    "#PD03938, G6890-MONOMER, G6737-MONOMER, RPOD-MONOMER, PD02936, RED-THIOREDOXIN2-MONOMER\n",
    "S_protein_concs = np.array([4.46510054478746E-07, 0.00027087422911447700, 0.0006261898295372690, 0.0006151283915983840, 8.64621184397196E-06, 0.0006831411710823680]) # (mol/L)\n",
    "S_std_dev = np.array([6.48605511482799E-07, 0.00017348313510493000, 0.00014728328233160000, 0.0002649777812708530, 2.04927424163342E-05, 0.00013085185087382300]) # (mol/L)\n",
    "t_half = np.array([79.1510021, 214.018094, 288.738238, 503.910765, 468.6027322, 367.223275])*60 # (sec)\n",
    "\n",
    "# construct constraints\n",
    "constraints = [BETA >= cp.sum(cp.multiply(cp.inv_pos(K_ms),S)) + 1,\n",
    "               S <= S_protein_concs + S_std_dev]\n",
    "for idx, (concs, dev) in enumerate(zip(S_protein_concs, S_std_dev)):\n",
    "    if concs - dev > 0:\n",
    "        constraints += [S[idx] >= concs - dev]\n",
    "    else:\n",
    "        constraints += [S[idx] >= 0.01 * concs]\n",
    "# if S_protein_concs[0] - S_std_dev[0] > 0:\n",
    "#     constraints += [S >= S_protein_concs - S_std_dev]\n",
    "# else:\n",
    "#     constraints += [S >= 0.01 * S_protein_concs]\n",
    "# constraints += [S >= 0.5 * S_protein_concs]\n",
    "constraints += [cp.multiply(P_L*k_cats, cp.inv_pos(K_ms * BETA)) >= np.log(2)/t_half]\n",
    "\n",
    "# construct objective\n",
    "rel_diff_k_cats = cp.maximum(k_cats / k_cat_exp, k_cat_exp / k_cats) \n",
    "rel_diff_K_ms = cp.maximum(K_ms / K_ms_exp, K_ms_exp / K_ms)\n",
    "\n",
    "obj_k_cats = cp.sum(rel_diff_k_cats) # minimize the sum of relative difference k_cats\n",
    "obj_K_ms = cp.sum(rel_diff_K_ms) # minimize the sum of relative difference K_ms\n",
    "obj_deg_rate = cp.sum(cp.multiply(P_L*k_cats, cp.inv_pos(K_ms * BETA))) # minimize to achieve ..\n",
    "objectives = [obj_k_cats, obj_K_ms, obj_deg_rate]\n",
    "\n",
    "# construct problem\n",
    "problem = cp.Problem(cp.Minimize(obj_k_cats + obj_K_ms + obj_deg_rate + BETA), constraints)\n",
    "problem.solve(gp=True, solver=cp.CLARABEL)"
   ],
   "id": "711964a6ba41be35",
   "outputs": [
    {
     "data": {
      "text/plain": [
       "86.10093306423687"
      ]
     },
     "execution_count": 2,
     "metadata": {},
     "output_type": "execute_result"
    }
   ],
   "execution_count": 2
  },
  {
   "metadata": {
    "ExecuteTime": {
     "end_time": "2025-07-10T21:19:50.662085Z",
     "start_time": "2025-07-10T21:19:50.658944Z"
    }
   },
   "cell_type": "code",
   "source": [
    "print('Simulated value of beta:', BETA.value)\n",
    "print('Simulated value of k_cats:', k_cats.value) \n",
    "print('Simulated value of K_ms:', K_ms.value) # show 2 decimal places\n",
    "print('Simulated value of S:', S.value)\n",
    "print('Simulated difference between obj_deg_rate and ln(2)/half_life:', obj_deg_rate.value - np.sum(np.log(2)/t_half))"
   ],
   "id": "2cc8d2043bd422e5",
   "outputs": [
    {
     "name": "stdout",
     "output_type": "stream",
     "text": [
      "Simulated value of beta: [39.5443234]\n",
      "Simulated value of k_cats: [0.071 0.071 0.071 0.071 0.071 0.071]\n",
      "Simulated value of K_ms: [3.70000004e-06 1.89666166e-05 4.20152305e-05 3.59292970e-05\n",
      " 3.70000005e-06 4.51182510e-05]\n",
      "Simulated value of S: [4.46527853e-09 9.73910950e-05 4.78906550e-04 3.50150613e-04\n",
      " 8.64622635e-08 5.52289323e-04]\n",
      "Simulated difference between obj_deg_rate and ln(2)/half_life: 0.16996764807725184\n"
     ]
    }
   ],
   "execution_count": 3
  },
  {
   "metadata": {
    "ExecuteTime": {
     "end_time": "2025-07-10T21:19:50.666124Z",
     "start_time": "2025-07-10T21:19:50.663050Z"
    }
   },
   "cell_type": "code",
   "source": "S_protein_concs",
   "id": "c465d369f4800961",
   "outputs": [
    {
     "data": {
      "text/plain": [
       "array([4.46510054e-07, 2.70874229e-04, 6.26189830e-04, 6.15128392e-04,\n",
       "       8.64621184e-06, 6.83141171e-04])"
      ]
     },
     "execution_count": 4,
     "metadata": {},
     "output_type": "execute_result"
    }
   ],
   "execution_count": 4
  },
  {
   "metadata": {
    "ExecuteTime": {
     "end_time": "2025-07-10T21:19:50.669081Z",
     "start_time": "2025-07-10T21:19:50.666794Z"
    }
   },
   "cell_type": "code",
   "source": "obj_deg_rate.value",
   "id": "acd740eff4fcb8dc",
   "outputs": [
    {
     "data": {
      "text/plain": [
       "0.17028662917139"
      ]
     },
     "execution_count": 5,
     "metadata": {},
     "output_type": "execute_result"
    }
   ],
   "execution_count": 5
  },
  {
   "metadata": {
    "ExecuteTime": {
     "end_time": "2025-07-10T21:19:50.672332Z",
     "start_time": "2025-07-10T21:19:50.669694Z"
    }
   },
   "cell_type": "code",
   "source": "np.sum(np.log(2)/t_half)",
   "id": "3aaea5296cd53dca",
   "outputs": [
    {
     "data": {
      "text/plain": [
       "0.0003189810941381753"
      ]
     },
     "execution_count": 6,
     "metadata": {},
     "output_type": "execute_result"
    }
   ],
   "execution_count": 6
  },
  {
   "metadata": {
    "ExecuteTime": {
     "end_time": "2025-07-10T21:19:50.675563Z",
     "start_time": "2025-07-10T21:19:50.672856Z"
    }
   },
   "cell_type": "code",
   "source": "BETA.value, np.sum(np.multiply(1/(K_ms.value),S.value)) + 1",
   "id": "dfadaf21c854934f",
   "outputs": [
    {
     "data": {
      "text/plain": [
       "(array([39.5443234]), 39.54432292639752)"
      ]
     },
     "execution_count": 7,
     "metadata": {},
     "output_type": "execute_result"
    }
   ],
   "execution_count": 7
  },
  {
   "metadata": {
    "ExecuteTime": {
     "end_time": "2025-07-10T21:19:50.678316Z",
     "start_time": "2025-07-10T21:19:50.676170Z"
    }
   },
   "cell_type": "code",
   "source": "rel_diff_k_cats.value",
   "id": "87909b34bf874b20",
   "outputs": [
    {
     "data": {
      "text/plain": [
       "array([1., 1., 1., 1., 1., 1.])"
      ]
     },
     "execution_count": 8,
     "metadata": {},
     "output_type": "execute_result"
    }
   ],
   "execution_count": 8
  },
  {
   "metadata": {},
   "cell_type": "markdown",
   "source": "# DGP Appraoch 2 - Beta as parameter",
   "id": "88fc181f7edda2da"
  },
  {
   "metadata": {
    "ExecuteTime": {
     "end_time": "2025-07-10T21:19:50.729331Z",
     "start_time": "2025-07-10T21:19:50.678940Z"
    }
   },
   "cell_type": "code",
   "source": [
    "k_cats = cp.Variable(6, pos=True) # (1/sec)\n",
    "K_ms = cp.Variable(6, pos=True) # K_M (mol/L)\n",
    "S = cp.Variable(6, pos=True) # (mol/L)\n",
    "\n",
    "P_L = 0.00014218052336201800 # (mol/L)\n",
    "k_cat_exp = 0.071 # (1/sec)\n",
    "K_ms_exp = 3.7E-6 # (mol/L)\n",
    "#PD03938, G6890-MONOMER, G6737-MONOMER, RPOD-MONOMER, PD02936, RED-THIOREDOXIN2-MONOMER\n",
    "S_protein_concs = np.array([4.46510054478746E-07, 0.00027087422911447700, 0.0006261898295372690, 0.0006151283915983840, 8.64621184397196E-06, 0.0006831411710823680]) # (mol/L)\n",
    "S_std_dev = np.array([6.48605511482799E-07, 0.00017348313510493000, 0.00014728328233160000, 0.0002649777812708530, 2.04927424163342E-05, 0.00013085185087382300]) # (mol/L)\n",
    "t_half = np.array([79.1510021, 214.018094, 288.738238, 503.910765, 468.6027322, 367.223275])*60 # (sec)\n",
    "\n",
    "# construct constraints\n",
    "# 1. Define beta as a parameter\n",
    "beta = cp.sum(cp.multiply(cp.inv_pos(K_ms),S)) + 1\n",
    "\n",
    "# 2. Define range of feasible substrate concentrations\n",
    "constraints = [S <= S_protein_concs + S_std_dev]\n",
    "for idx, (concs, dev) in enumerate(zip(S_protein_concs, S_std_dev)):\n",
    "    if concs - dev > 0:\n",
    "        constraints += [S[idx] >= concs - dev]\n",
    "    else:\n",
    "        constraints += [S[idx] >= 0.01 * concs]\n",
    "\n",
    "# 3. Define relationship between k_cats, K_ms, and half life that we try to minimize the difference of \n",
    "constraints += [cp.multiply(P_L*k_cats, cp.inv_pos(K_ms * beta)) >= np.log(2)/t_half]\n",
    "\n",
    "constraints += [k_cats >= k_cat_exp] # add constraint on k_cats\n",
    "# construct objective\n",
    "# 1. Define relative error between estimation and experimental values\n",
    "rel_diff_k_cats = cp.maximum(k_cats / k_cat_exp, k_cat_exp / k_cats) \n",
    "rel_diff_K_ms = cp.maximum(K_ms / K_ms_exp, K_ms_exp / K_ms)\n",
    "obj_k_cats = cp.sum(rel_diff_k_cats) # minimize the sum of relative difference k_cats\n",
    "obj_K_ms = cp.sum(rel_diff_K_ms) # minimize the sum of relative difference K_ms\n",
    "\n",
    "# 2. Define objective to minimize the degradation rate\n",
    "k_degs = [cp.quad_over_lin(P_L*k_cats[i], cp.inv_pos(K_ms[i] * beta)) for i in range(6)]\n",
    "obj_deg_rate = cp.sum(k_degs) # minimize to achieve degradation rate\n",
    "objectives = [obj_k_cats, obj_K_ms, obj_deg_rate]\n",
    "\n",
    "# construct problem\n",
    "problem = cp.Problem(cp.Minimize(obj_k_cats + obj_K_ms + obj_deg_rate), constraints)\n",
    "problem.solve(gp=True, solver=cp.CLARABEL)"
   ],
   "id": "69d7344ca354ca67",
   "outputs": [
    {
     "data": {
      "text/plain": [
       "12.000000014182937"
      ]
     },
     "execution_count": 9,
     "metadata": {},
     "output_type": "execute_result"
    }
   ],
   "execution_count": 9
  },
  {
   "metadata": {
    "ExecuteTime": {
     "end_time": "2025-07-10T21:19:50.732526Z",
     "start_time": "2025-07-10T21:19:50.729970Z"
    }
   },
   "cell_type": "code",
   "source": [
    "print('Simulated value of beta:', beta.value)\n",
    "print('Simulated value of k_cats:', k_cats.value) \n",
    "print('Simulated value of K_ms:', K_ms.value) # show 2 decimal places\n",
    "print('Simulated value of S:', S.value)\n",
    "print('Simulated difference between obj_deg_rate and ln(2)/half_life:', obj_deg_rate.value - np.sum(np.log(2)/t_half))"
   ],
   "id": "edbc8c7feb537204",
   "outputs": [
    {
     "name": "stdout",
     "output_type": "stream",
     "text": [
      "Simulated value of beta: 497.61419370801417\n",
      "Simulated value of k_cats: [0.071 0.071 0.071 0.071 0.071 0.071]\n",
      "Simulated value of K_ms: [3.7e-06 3.7e-06 3.7e-06 3.7e-06 3.7e-06 3.7e-06]\n",
      "Simulated value of S: [7.36131357e-07 1.83295263e-04 5.59012611e-04 4.49440584e-04\n",
      " 1.62156143e-05 6.28772313e-04]\n",
      "Simulated difference between obj_deg_rate and ln(2)/half_life: -0.00031898109301242353\n"
     ]
    }
   ],
   "execution_count": 10
  },
  {
   "metadata": {
    "ExecuteTime": {
     "end_time": "2025-07-10T21:19:50.784330Z",
     "start_time": "2025-07-10T21:19:50.733148Z"
    }
   },
   "cell_type": "code",
   "source": [
    "# Solve for problem without obj_k_cats and obj_K_ms\n",
    "problem = cp.Problem(cp.Minimize(obj_deg_rate), constraints)\n",
    "problem.solve(gp=True, solver=cp.CLARABEL)"
   ],
   "id": "dc16deeb33e9757e",
   "outputs": [
    {
     "data": {
      "text/plain": [
       "5.629708783161636e-13"
      ]
     },
     "execution_count": 11,
     "metadata": {},
     "output_type": "execute_result"
    }
   ],
   "execution_count": 11
  },
  {
   "metadata": {
    "ExecuteTime": {
     "end_time": "2025-07-10T21:19:50.788376Z",
     "start_time": "2025-07-10T21:19:50.785132Z"
    }
   },
   "cell_type": "code",
   "source": [
    "print('Simulated value of beta:', beta.value)\n",
    "print('Simulated value of k_cats:', k_cats.value) \n",
    "print('Simulated value of K_ms:', K_ms.value) # show 2 decimal places\n",
    "print('Simulated value of S:', S.value)\n",
    "print('Simulated difference between obj_deg_rate and ln(2)/half_life:', obj_deg_rate.value - np.sum(np.log(2)/t_half))"
   ],
   "id": "8f7f4e467a3fb8fb",
   "outputs": [
    {
     "name": "stdout",
     "output_type": "stream",
     "text": [
      "Simulated value of beta: 250801922.3311549\n",
      "Simulated value of k_cats: [0.07100005 0.071      0.071      0.071      0.07100001 0.071     ]\n",
      "Simulated value of K_ms: [1.98004046e-14 2.92458290e-12 6.48556638e-12 5.54538677e-12\n",
      " 8.71391375e-14 6.96466635e-12]\n",
      "Simulated value of S: [4.46510645e-09 9.73910954e-05 4.78906551e-04 3.50150613e-04\n",
      " 8.64621455e-08 5.52289324e-04]\n",
      "Simulated difference between obj_deg_rate and ln(2)/half_life: -0.0003189810935752044\n"
     ]
    }
   ],
   "execution_count": 12
  },
  {
   "metadata": {
    "ExecuteTime": {
     "end_time": "2025-07-10T21:19:50.791303Z",
     "start_time": "2025-07-10T21:19:50.789098Z"
    }
   },
   "cell_type": "code",
   "source": [
    "obj_deg_rate.value\n",
    "# let kcat (instead of km) to be the same for all"
   ],
   "id": "b55c6252593c489a",
   "outputs": [
    {
     "data": {
      "text/plain": [
       "5.629708783161636e-13"
      ]
     },
     "execution_count": 13,
     "metadata": {},
     "output_type": "execute_result"
    }
   ],
   "execution_count": 13
  },
  {
   "metadata": {
    "ExecuteTime": {
     "end_time": "2025-07-10T21:19:50.794102Z",
     "start_time": "2025-07-10T21:19:50.791875Z"
    }
   },
   "cell_type": "code",
   "source": "S[0].value/K_ms[0].value",
   "id": "8b2ced8969ad7521",
   "outputs": [
    {
     "data": {
      "text/plain": [
       "225505.81898695297"
      ]
     },
     "execution_count": 14,
     "metadata": {},
     "output_type": "execute_result"
    }
   ],
   "execution_count": 14
  },
  {
   "metadata": {
    "ExecuteTime": {
     "end_time": "2025-07-10T21:19:50.796868Z",
     "start_time": "2025-07-10T21:19:50.794728Z"
    }
   },
   "cell_type": "code",
   "source": [
    "t = k_cats <= 1\n",
    "t.is_dgp()"
   ],
   "id": "91b72b8b21fe74a9",
   "outputs": [
    {
     "data": {
      "text/plain": [
       "True"
      ]
     },
     "execution_count": 15,
     "metadata": {},
     "output_type": "execute_result"
    }
   ],
   "execution_count": 15
  },
  {
   "metadata": {
    "ExecuteTime": {
     "end_time": "2025-07-10T21:19:50.800467Z",
     "start_time": "2025-07-10T21:19:50.797503Z"
    }
   },
   "cell_type": "code",
   "source": [
    "temp = k_cats-k_cat_exp\n",
    "temp"
   ],
   "id": "1bcaa0166ec9e8c4",
   "outputs": [
    {
     "data": {
      "text/plain": [
       "Expression(AFFINE, UNKNOWN, (6,))"
      ]
     },
     "execution_count": 16,
     "metadata": {},
     "output_type": "execute_result"
    }
   ],
   "execution_count": 16
  },
  {
   "metadata": {
    "ExecuteTime": {
     "end_time": "2025-07-10T21:19:50.806657Z",
     "start_time": "2025-07-10T21:19:50.803956Z"
    }
   },
   "cell_type": "code",
   "source": "temp.is_dqcp()",
   "id": "83418609b2cdffdc",
   "outputs": [
    {
     "data": {
      "text/plain": [
       "True"
      ]
     },
     "execution_count": 17,
     "metadata": {},
     "output_type": "execute_result"
    }
   ],
   "execution_count": 17
  },
  {
   "metadata": {
    "ExecuteTime": {
     "end_time": "2025-07-10T21:19:51.054647Z",
     "start_time": "2025-07-10T21:19:50.807243Z"
    }
   },
   "cell_type": "code",
   "source": [
    "temp = k_cats-k_cat_exp <= k_cats_diff_slack\n",
    "temp"
   ],
   "id": "b836f28fb749aac0",
   "outputs": [
    {
     "ename": "NameError",
     "evalue": "name 'k_cats_diff_slack' is not defined",
     "output_type": "error",
     "traceback": [
      "\u001B[0;31m---------------------------------------------------------------------------\u001B[0m",
      "\u001B[0;31mNameError\u001B[0m                                 Traceback (most recent call last)",
      "Cell \u001B[0;32mIn[18], line 1\u001B[0m\n\u001B[0;32m----> 1\u001B[0m temp \u001B[38;5;241m=\u001B[39m k_cats\u001B[38;5;241m-\u001B[39mk_cat_exp \u001B[38;5;241m<\u001B[39m\u001B[38;5;241m=\u001B[39m \u001B[43mk_cats_diff_slack\u001B[49m\n\u001B[1;32m      2\u001B[0m temp\n",
      "\u001B[0;31mNameError\u001B[0m: name 'k_cats_diff_slack' is not defined"
     ]
    }
   ],
   "execution_count": 18
  },
  {
   "metadata": {
    "ExecuteTime": {
     "end_time": "2025-07-10T21:19:51.055378Z",
     "start_time": "2025-07-10T21:19:51.055319Z"
    }
   },
   "cell_type": "code",
   "source": "temp.is_dcp()",
   "id": "6d521aadb5311dc0",
   "outputs": [],
   "execution_count": null
  },
  {
   "metadata": {},
   "cell_type": "code",
   "source": "",
   "id": "71b625de4ce91640",
   "outputs": [],
   "execution_count": null
  },
  {
   "metadata": {},
   "cell_type": "code",
   "source": [
    "\n",
    "# consatruct problem\n",
    "# constraint = [\n",
    "#     S_protein_concs - S_std_dev >= cp.quad_over_lin(cp.sqrt(k_cats), K_ms), # (mol/L)\n",
    "#     # P_L * k_cats/(k_dogs*beta) <= S_protein_concs + S_std_dev,\n",
    "# ]\n",
    "constraints = []\n",
    "constraints +=  [cp.inv_pos(1/K_ms) + 1 <= beta]\n",
    "for i, (concs, std) in enumerate(zip(S_protein_concs, S_std_dev)):\n",
    "    upper = concs + std\n",
    "    if concs - std > 0:\n",
    "        lower = concs - std\n",
    "    else:\n",
    "        lower = 0.01*concs\n",
    "    constraints += [cp.inv_pos(K_ms[i]*beta) * k_cats[i] * P_L <= upper]\n",
    "    constraints += [cp.inv_pos(K_ms[i]*beta) * k_cats[i] * P_L >= lower]\n",
    "\n",
    "\n",
    "assert all(constraint.is_dgp() for constraint in constraints)\n",
    "# for constraint in constraints:\n",
    "#     print(constraint.is_dgp())\n",
    "#     print(constraint)\n",
    "#     print(constraint.is_dcp())\n",
    "\n",
    "objective = cp.Minimize(beta+ cp.norm1(k_cats-k_cat_est) + cp.norm1(K_ms-K_ms_est)) # minimize the sum of k_cats\n",
    "problem = cp.Problem(objective, constraints)\n",
    "assert problem.is_dgp()"
   ],
   "id": "c487cd1ab0e4a02c",
   "outputs": [],
   "execution_count": null
  },
  {
   "metadata": {},
   "cell_type": "code",
   "source": [
    "temp = cp.norm1(k_cats-k_cat_est)\n",
    "temp.is_log_log_convex()"
   ],
   "id": "3a97f9778a9d4101",
   "outputs": [],
   "execution_count": null
  },
  {
   "metadata": {},
   "cell_type": "code",
   "source": "cp.sum(cp.inv_pos(1/K_ms)) + 1",
   "id": "4047b316c05e32a1",
   "outputs": [],
   "execution_count": null
  },
  {
   "metadata": {},
   "cell_type": "code",
   "source": [
    "temp = cp.sum(cp.inv_pos(1/K_ms)) + 1 >= beta\n",
    "temp"
   ],
   "id": "cf570faea35d74c2",
   "outputs": [],
   "execution_count": null
  },
  {
   "metadata": {},
   "cell_type": "code",
   "source": "temp.is_dgp()",
   "id": "8bb31996b326a9c6",
   "outputs": [],
   "execution_count": null
  },
  {
   "metadata": {},
   "cell_type": "code",
   "source": [
    "f = cp.sum(cp.inv_pos(1/K_ms)) + 1\n",
    "f.is_dgp()\n",
    "f.is_log_log_convex()"
   ],
   "id": "e06803542cd0a90f",
   "outputs": [],
   "execution_count": null
  },
  {
   "metadata": {},
   "cell_type": "code",
   "source": "beta.is_log_log_affine()",
   "id": "547e5896c3ac344",
   "outputs": [],
   "execution_count": null
  },
  {
   "metadata": {},
   "cell_type": "code",
   "source": "f <= beta",
   "id": "749fc0124fd7599d",
   "outputs": [],
   "execution_count": null
  },
  {
   "metadata": {},
   "cell_type": "code",
   "source": "f >= beta",
   "id": "9569fbef98133e4f",
   "outputs": [],
   "execution_count": null
  },
  {
   "metadata": {},
   "cell_type": "code",
   "source": "beta <= f",
   "id": "6883fdaadc960bf0",
   "outputs": [],
   "execution_count": null
  },
  {
   "metadata": {},
   "cell_type": "code",
   "source": "",
   "id": "9b50f7b232774e8d",
   "outputs": [],
   "execution_count": null
  }
 ],
 "metadata": {
  "kernelspec": {
   "display_name": "Python 3",
   "language": "python",
   "name": "python3"
  },
  "language_info": {
   "codemirror_mode": {
    "name": "ipython",
    "version": 2
   },
   "file_extension": ".py",
   "mimetype": "text/x-python",
   "name": "python",
   "nbconvert_exporter": "python",
   "pygments_lexer": "ipython2",
   "version": "2.7.6"
  }
 },
 "nbformat": 4,
 "nbformat_minor": 5
}
