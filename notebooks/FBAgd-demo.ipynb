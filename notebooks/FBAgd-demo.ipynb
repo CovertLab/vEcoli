{
 "cells": [
  {
   "cell_type": "code",
   "execution_count": 1,
   "id": "3b8a6aab",
   "metadata": {
    "pycharm": {
     "name": "#%%\n"
    }
   },
   "outputs": [
    {
     "ename": "ModuleNotFoundError",
     "evalue": "No module named 'escher'",
     "output_type": "error",
     "traceback": [
      "\u001B[0;31m---------------------------------------------------------------------------\u001B[0m",
      "\u001B[0;31mModuleNotFoundError\u001B[0m                       Traceback (most recent call last)",
      "\u001B[0;32m/var/folders/dx/0239zgvj0tgf46b5h8l7v_fc0000gn/T/ipykernel_7818/2376565560.py\u001B[0m in \u001B[0;36m<module>\u001B[0;34m\u001B[0m\n\u001B[1;32m      4\u001B[0m \u001B[0;34m\u001B[0m\u001B[0m\n\u001B[1;32m      5\u001B[0m \u001B[0;32mimport\u001B[0m \u001B[0mcobra\u001B[0m\u001B[0;34m.\u001B[0m\u001B[0mtest\u001B[0m\u001B[0;34m\u001B[0m\u001B[0;34m\u001B[0m\u001B[0m\n\u001B[0;32m----> 6\u001B[0;31m \u001B[0;32mimport\u001B[0m \u001B[0mescher\u001B[0m\u001B[0;34m\u001B[0m\u001B[0;34m\u001B[0m\u001B[0m\n\u001B[0m\u001B[1;32m      7\u001B[0m \u001B[0;32mimport\u001B[0m \u001B[0mnumpy\u001B[0m \u001B[0;32mas\u001B[0m \u001B[0mnp\u001B[0m\u001B[0;34m\u001B[0m\u001B[0;34m\u001B[0m\u001B[0m\n\u001B[1;32m      8\u001B[0m \u001B[0;34m\u001B[0m\u001B[0m\n",
      "\u001B[0;31mModuleNotFoundError\u001B[0m: No module named 'escher'"
     ]
    }
   ],
   "source": [
    "import sys\n",
    "if \"../\" not in sys.path:\n",
    "    sys.path.insert(0, \"../\")\n",
    "\n",
    "import cobra.test\n",
    "import escher\n",
    "import numpy as np\n",
    "\n",
    "from ecoli.library import fba_gd\n"
   ]
  },
  {
   "cell_type": "markdown",
   "id": "0e934830",
   "metadata": {
    "pycharm": {
     "name": "#%% md\n"
    }
   },
   "source": [
    "# Test case: OAA -> Asp -> Asn, Lys, Met, Thr\n",
    "\n",
    "### Read full E. coli model from cobra, and extract a subset of reaction stoichiometries to work with"
   ]
  },
  {
   "cell_type": "code",
   "execution_count": 2,
   "id": "a5b94a12",
   "metadata": {
    "pycharm": {
     "name": "#%%\n"
    }
   },
   "outputs": [
    {
     "name": "stdout",
     "output_type": "stream",
     "text": [
      "Scaling...\n",
      " A: min|aij| =  1.000e+00  max|aij| =  1.000e+00  ratio =  1.000e+00\n",
      "Problem data seem to be well scaled\n"
     ]
    }
   ],
   "source": [
    "full_model = cobra.test.create_test_model(\"ecoli\")  # iJO1366\n",
    "\n",
    "# Reaction structures follows the knowledge base.\n",
    "reactions = []\n",
    "for reaction in full_model.reactions:\n",
    "    if reaction.id in [\n",
    "        \"ASPTA\",  # -> Asp\n",
    "        \"ASNN\",  # -> Asn. Note in iJO1366 this reaction is irreversible, Asn -> Asp only.\n",
    "        \"ASPK\",\n",
    "        \"ASAD\",\n",
    "\n",
    "        \"DHDPS\",\n",
    "        \"DHDPRy\",\n",
    "        \"THDPS\",\n",
    "        \"SDPTA\",\n",
    "        \"SDPDS\",\n",
    "        \"DAPE\",\n",
    "        \"DAPDC\",  # -> Lys\n",
    "\n",
    "        \"HSDy\",\n",
    "        \"HSK\",\n",
    "        \"THRS\",  # -> Thr\n",
    "\n",
    "        \"HSST\",\n",
    "        \"SHSL1\",\n",
    "        \"CYSTL\",\n",
    "        \"METS\",  # -> Met\n",
    "    ]:\n",
    "        reactions.append({\"reaction id\": reaction.id,\n",
    "                          \"stoichiometry\": {metabolite.id: coeff\n",
    "                                            for metabolite, coeff in reaction.metabolites.items()},\n",
    "                          \"is reversible\": reaction.lower_bound < 0})\n",
    "\n",
    "exchanges = ['5mthf_c', 'adp_c', 'akg_c', 'atp_c', 'co2_c', 'coa_c', 'cys__L_c',\n",
    "             'glu__L_c', 'h2o_c', 'h_c', 'nadp_c', 'nadph_c', 'nh4_c', 'oaa_c', 'pi_c',\n",
    "             'pyr_c', 'succ_c', 'succoa_c', 'thf_c']\n",
    "\n",
    "production_targets = {\n",
    "#     \"asn__L_c\": 0.6,  # Unmeetable with irreversible ASNN\n",
    "    \"asp__L_c\": 1.0,\n",
    "    \"lys__L_c\": 0.9,\n",
    "    \"met__L_c\": 0.5,\n",
    "    \"thr__L_c\": 2.\n",
    "}\n"
   ]
  },
  {
   "cell_type": "markdown",
   "id": "c3460c84",
   "metadata": {
    "pycharm": {
     "name": "#%% md\n"
    }
   },
   "source": [
    "### Set up the structure of the FBA problem"
   ]
  },
  {
   "cell_type": "code",
   "execution_count": 3,
   "id": "508aaa59",
   "metadata": {
    "pycharm": {
     "name": "#%%\n"
    }
   },
   "outputs": [
    {
     "ename": "NameError",
     "evalue": "name 'fba_gd' is not defined",
     "output_type": "error",
     "traceback": [
      "\u001B[0;31m---------------------------------------------------------------------------\u001B[0m",
      "\u001B[0;31mNameError\u001B[0m                                 Traceback (most recent call last)",
      "\u001B[0;32m/var/folders/dx/0239zgvj0tgf46b5h8l7v_fc0000gn/T/ipykernel_7818/1179522341.py\u001B[0m in \u001B[0;36m<module>\u001B[0;34m\u001B[0m\n\u001B[0;32m----> 1\u001B[0;31m fba1 = fba_gd.GradientDescentFba(\n\u001B[0m\u001B[1;32m      2\u001B[0m     \u001B[0mreactions\u001B[0m\u001B[0;34m=\u001B[0m\u001B[0mreactions\u001B[0m\u001B[0;34m,\u001B[0m\u001B[0;34m\u001B[0m\u001B[0;34m\u001B[0m\u001B[0m\n\u001B[1;32m      3\u001B[0m     \u001B[0mexchanges\u001B[0m\u001B[0;34m=\u001B[0m\u001B[0mexchanges\u001B[0m\u001B[0;34m,\u001B[0m\u001B[0;34m\u001B[0m\u001B[0;34m\u001B[0m\u001B[0m\n\u001B[1;32m      4\u001B[0m     \u001B[0mtarget_metabolites\u001B[0m\u001B[0;34m=\u001B[0m\u001B[0mproduction_targets\u001B[0m\u001B[0;34m.\u001B[0m\u001B[0mkeys\u001B[0m\u001B[0;34m(\u001B[0m\u001B[0;34m)\u001B[0m\u001B[0;34m,\u001B[0m\u001B[0;34m\u001B[0m\u001B[0;34m\u001B[0m\u001B[0m\n\u001B[1;32m      5\u001B[0m )\n",
      "\u001B[0;31mNameError\u001B[0m: name 'fba_gd' is not defined"
     ]
    }
   ],
   "source": [
    "fba1 = fba_gd.GradientDescentFba(\n",
    "    reactions=reactions,\n",
    "    exchanges=exchanges,\n",
    "    target_metabolites=production_targets.keys(),\n",
    ")\n",
    "fba1.add_objective(\"homeostatic\",\n",
    "                   fba_gd.TargetDmdtObjective(fba1.network, production_targets.keys()))"
   ]
  },
  {
   "cell_type": "markdown",
   "id": "af377380",
   "metadata": {
    "pycharm": {
     "name": "#%% md\n"
    }
   },
   "source": [
    "### Solve the problem, passing in current objectives"
   ]
  },
  {
   "cell_type": "code",
   "execution_count": null,
   "id": "d0a7a9b6",
   "metadata": {
    "pycharm": {
     "name": "#%%\n"
    }
   },
   "outputs": [],
   "source": [
    "soln1 = fba1.solve({\"homeostatic\": production_targets})\n",
    "\n",
    "# Steady-state residual is a measure of how far the solution is from steady-state\n",
    "print(f\"RMSE = {np.sqrt(np.sum(np.square(soln1.ss_residual)))}\")"
   ]
  },
  {
   "cell_type": "markdown",
   "id": "a0227f8a",
   "metadata": {
    "pycharm": {
     "name": "#%% md\n"
    }
   },
   "source": [
    "### The solution object has solved values for reaction velocities, and rates of change (dm/dt) of all molecules\n",
    "\n",
    "- Objective molecules have dm/dt close to their objective values\n",
    "- Exchange molecules' dm/dt are as needed to support production of the objectives\n",
    "- Internal (intermediate) molecules have dm/dt close to zero (i.e. steady state)"
   ]
  },
  {
   "cell_type": "code",
   "execution_count": null,
   "id": "6f67e68d",
   "metadata": {
    "pycharm": {
     "name": "#%%\n"
    }
   },
   "outputs": [],
   "source": [
    "print(\"Velocities\")\n",
    "for reaction_id in sorted(reaction[\"reaction id\"] for reaction in reactions):\n",
    "    print(f\"  {reaction_id:>10}:   {soln1.velocities[reaction_id]:+.2f}\")\n",
    "\n",
    "print()\n",
    "print(\"Production Targets\")\n",
    "for molecule in sorted(production_targets):\n",
    "    print(f\"  {molecule:>10}:   {soln1.dm_dt[molecule]:.2f} / {production_targets[molecule]:.2f}\")\n",
    "\n",
    "print()\n",
    "print(\"Exchanges\")\n",
    "for molecule in sorted(exchanges):\n",
    "    print(f\"  {molecule:>10}:   {soln1.dm_dt[molecule]:+.2f}\")\n",
    "\n",
    "print()\n",
    "print(\"Intermediates\")\n",
    "for molecule in fba1.network.molecule_ids():\n",
    "    if molecule not in production_targets and molecule not in exchanges:\n",
    "        print(f\"  {molecule:>10}:   {soln1.dm_dt[molecule]: .2e}\")\n",
    "\n",
    "escher.Builder(map_json='FBAgd-demo-eschermap.json',\n",
    "               menu='zoom',\n",
    "               never_ask_before_quit=True,\n",
    "               reaction_data=soln1.velocities,\n",
    "               reaction_styles=['color', 'size', 'text', 'abs'],\n",
    "               metabolite_data=soln1.dm_dt,\n",
    "               metabolite_styles=['color', 'text'],\n",
    "               metabolite_scale_preset='GeGaRd',\n",
    "              )\n"
   ]
  },
  {
   "cell_type": "markdown",
   "id": "dc21f330",
   "metadata": {
    "pycharm": {
     "name": "#%% md\n"
    }
   },
   "source": [
    "# Mixed Objective"
   ]
  },
  {
   "cell_type": "code",
   "execution_count": 4,
   "id": "262585e2",
   "metadata": {
    "pycharm": {
     "name": "#%%\n"
    }
   },
   "outputs": [
    {
     "ename": "NameError",
     "evalue": "name 'fba_gd' is not defined",
     "output_type": "error",
     "traceback": [
      "\u001B[0;31m---------------------------------------------------------------------------\u001B[0m",
      "\u001B[0;31mNameError\u001B[0m                                 Traceback (most recent call last)",
      "\u001B[0;32m/var/folders/dx/0239zgvj0tgf46b5h8l7v_fc0000gn/T/ipykernel_7818/3730015302.py\u001B[0m in \u001B[0;36m<module>\u001B[0;34m\u001B[0m\n\u001B[1;32m     11\u001B[0m \u001B[0;34m\u001B[0m\u001B[0m\n\u001B[1;32m     12\u001B[0m \u001B[0;31m# Production targets and kinetic objectives are added as named objectives.\u001B[0m\u001B[0;34m\u001B[0m\u001B[0;34m\u001B[0m\u001B[0m\n\u001B[0;32m---> 13\u001B[0;31m fba2 = fba_gd.GradientDescentFba(\n\u001B[0m\u001B[1;32m     14\u001B[0m     \u001B[0mreactions\u001B[0m\u001B[0;34m=\u001B[0m\u001B[0mreactions\u001B[0m\u001B[0;34m,\u001B[0m\u001B[0;34m\u001B[0m\u001B[0;34m\u001B[0m\u001B[0m\n\u001B[1;32m     15\u001B[0m     \u001B[0mexchanges\u001B[0m\u001B[0;34m=\u001B[0m\u001B[0mexchanges\u001B[0m\u001B[0;34m,\u001B[0m\u001B[0;34m\u001B[0m\u001B[0;34m\u001B[0m\u001B[0m\n",
      "\u001B[0;31mNameError\u001B[0m: name 'fba_gd' is not defined"
     ]
    }
   ],
   "source": [
    "# Constrains various branches\n",
    "kinetic_targets = {\"ASPTA\": -4.0, \"ASAD\": -3.5, \"DAPE\": 1.7}\n",
    "# Constrains one remaining branch\n",
    "production_targets = {\"met__L_c\": 0.2}\n",
    "# Add non-objective endpoints as exchanges\n",
    "exchanges=['5mthf_c', 'adp_c', 'akg_c', 'atp_c', 'co2_c', 'coa_c',\n",
    "           'cys__L_c', 'glu__L_c', 'h2o_c', 'h_c', 'nadp_c', 'nadph_c',\n",
    "           'nh4_c', 'oaa_c', 'pi_c', 'pyr_c', 'succ_c', 'succoa_c', 'thf_c',\n",
    "           'asp__L_c', 'lys__L_c', 'thr__L_c'\n",
    "          ]\n",
    "\n",
    "# Production targets and kinetic objectives are added as named objectives.\n",
    "fba2 = fba_gd.GradientDescentFba(\n",
    "    reactions=reactions,\n",
    "    exchanges=exchanges,\n",
    "    target_metabolites=production_targets.keys(),\n",
    ")\n",
    "fba2.add_objective(\"homeostatic\",\n",
    "                   fba_gd.TargetDmdtObjective(fba2.network, production_targets.keys()))\n",
    "fba2.add_objective(\"kinetic\",\n",
    "                   fba_gd.TargetVelocityObjective(fba2.network, kinetic_targets.keys()))\n"
   ]
  },
  {
   "cell_type": "code",
   "execution_count": 5,
   "id": "94f7db60",
   "metadata": {
    "pycharm": {
     "name": "#%%\n"
    }
   },
   "outputs": [
    {
     "ename": "NameError",
     "evalue": "name 'soln1' is not defined",
     "output_type": "error",
     "traceback": [
      "\u001B[0;31m---------------------------------------------------------------------------\u001B[0m",
      "\u001B[0;31mNameError\u001B[0m                                 Traceback (most recent call last)",
      "\u001B[0;32m/var/folders/dx/0239zgvj0tgf46b5h8l7v_fc0000gn/T/ipykernel_7818/2921386915.py\u001B[0m in \u001B[0;36m<module>\u001B[0;34m\u001B[0m\n\u001B[1;32m      3\u001B[0m \u001B[0;34m\u001B[0m\u001B[0m\n\u001B[1;32m      4\u001B[0m \u001B[0;31m# We also pass in the previous solution as the initial flux values, to show how it's done.\u001B[0m\u001B[0;34m\u001B[0m\u001B[0;34m\u001B[0m\u001B[0m\n\u001B[0;32m----> 5\u001B[0;31m \u001B[0mprevious\u001B[0m \u001B[0;34m=\u001B[0m \u001B[0msoln1\u001B[0m\u001B[0;34m.\u001B[0m\u001B[0mvelocities\u001B[0m\u001B[0;34m\u001B[0m\u001B[0;34m\u001B[0m\u001B[0m\n\u001B[0m\u001B[1;32m      6\u001B[0m \u001B[0;34m\u001B[0m\u001B[0m\n\u001B[1;32m      7\u001B[0m soln2 = fba2.solve({\"homeostatic\": production_targets, \"kinetic\": kinetic_targets},\n",
      "\u001B[0;31mNameError\u001B[0m: name 'soln1' is not defined"
     ]
    }
   ],
   "source": [
    "# At solve time we pass the current targets for production and kinetic objectives. Again\n",
    "# the details for how these are passed can be reworked.\n",
    "\n",
    "# We also pass in the previous solution as the initial flux values, to show how it's done.\n",
    "previous = soln1.velocities\n",
    "\n",
    "soln2 = fba2.solve({\"homeostatic\": production_targets, \"kinetic\": kinetic_targets},\n",
    "                   initial_velocities=previous)\n",
    "print(f\"RMSE = {np.sqrt(np.sum(np.square(soln2.ss_residual)))}\")\n"
   ]
  },
  {
   "cell_type": "code",
   "execution_count": 8,
   "id": "c9b572aa",
   "metadata": {
    "pycharm": {
     "name": "#%%\n"
    }
   },
   "outputs": [
    {
     "name": "stdout",
     "output_type": "stream",
     "text": [
      "Velocities\n",
      "        ASAD:   -3.50 / -3.50\n",
      "        ASNN:   -0.00\n",
      "        ASPK:   +3.50\n",
      "       ASPTA:   -4.00 / -4.00\n",
      "       CYSTL:   +0.20\n",
      "       DAPDC:   +1.70\n",
      "        DAPE:   +1.70 / +1.70\n",
      "      DHDPRy:   +1.70\n",
      "       DHDPS:   +1.70\n",
      "        HSDy:   -1.80\n",
      "         HSK:   +1.60\n",
      "        HSST:   +0.20\n",
      "        METS:   +0.20\n",
      "       SDPDS:   +1.70\n",
      "       SDPTA:   -1.70\n",
      "       SHSL1:   +0.20\n",
      "       THDPS:   +1.70\n",
      "        THRS:   +1.60\n",
      "\n",
      "Production Targets\n",
      "    met__L_c:   0.20 / 0.20\n",
      "\n",
      "Exchanges\n",
      "     5mthf_c:   -0.20\n",
      "       adp_c:   +5.10\n",
      "       akg_c:   +5.70\n",
      "    asp__L_c:   +0.50\n",
      "       atp_c:   -5.10\n",
      "       co2_c:   +1.70\n",
      "       coa_c:   +1.90\n",
      "    cys__L_c:   -0.20\n",
      "    glu__L_c:   -5.70\n",
      "       h2o_c:   -1.80\n",
      "         h_c:   -5.00\n",
      "    lys__L_c:   +1.70\n",
      "      nadp_c:   +7.00\n",
      "     nadph_c:   -7.00\n",
      "       nh4_c:   +0.20\n",
      "       oaa_c:   -4.00\n",
      "        pi_c:   +5.10\n",
      "       pyr_c:   -1.50\n",
      "      succ_c:   +1.90\n",
      "    succoa_c:   -1.90\n",
      "       thf_c:   +0.20\n",
      "    thr__L_c:   +1.60\n",
      "\n",
      "Intermediates\n",
      "     aspsa_c:    1.11e-15\n",
      "     4pasp_c:    0.00e+00\n",
      "    asn__L_c:    2.56e-22\n",
      "   cyst__L_c:   -3.33e-16\n",
      "   hcys__L_c:   -2.22e-16\n",
      "  26dap__M_c:   -4.44e-16\n",
      "  26dap_LL_c:   -6.66e-16\n",
      "    23dhdp_c:    0.00e+00\n",
      "      thdp_c:   -2.22e-16\n",
      "    hom__L_c:    1.11e-15\n",
      "      phom_c:    4.44e-16\n",
      "    suchms_c:   -3.33e-16\n",
      "    sl26da_c:    0.00e+00\n",
      "    sl2a6o_c:   -2.22e-16\n"
     ]
    },
    {
     "data": {
      "application/vnd.jupyter.widget-view+json": {
       "model_id": "4cef5859640e49698f8a1de8a4d00c28",
       "version_major": 2,
       "version_minor": 0
      },
      "text/plain": [
       "Builder(menu='zoom', metabolite_data={'aspsa_c': 1.1102230246251565e-15, 'nadp_c': 6.999999999999999, 'pi_c': …"
      ]
     },
     "metadata": {},
     "output_type": "display_data"
    }
   ],
   "source": [
    "print(\"Velocities\")\n",
    "for reaction_id in sorted(reaction[\"reaction id\"] for reaction in reactions):\n",
    "    if reaction_id in kinetic_targets:\n",
    "        print(f\"  {reaction_id:>10}:   {soln2.velocities[reaction_id]:+.2f} / {kinetic_targets[reaction_id]:+.2f}\")\n",
    "    else:\n",
    "        print(f\"  {reaction_id:>10}:   {soln2.velocities[reaction_id]:+.2f}\")\n",
    "\n",
    "print()\n",
    "print(\"Production Targets\")\n",
    "for molecule in sorted(production_targets):\n",
    "    print(f\"  {molecule:>10}:   {soln2.dm_dt[molecule]:.2f} / {production_targets[molecule]:.2f}\")\n",
    "\n",
    "print()\n",
    "print(\"Exchanges\")\n",
    "for molecule in sorted(exchanges):\n",
    "    print(f\"  {molecule:>10}:   {soln2.dm_dt[molecule]:+.2f}\")\n",
    "\n",
    "print()\n",
    "print(\"Intermediates\")\n",
    "for molecule in fba2.network.molecule_ids():\n",
    "    if molecule not in production_targets and molecule not in exchanges:\n",
    "        print(f\"  {molecule:>10}:   {soln2.dm_dt[molecule]: .2e}\")\n",
    "\n",
    "escher.Builder(map_json='FBAgd-demo-eschermap.json',\n",
    "               menu='zoom',\n",
    "               never_ask_before_quit=True,\n",
    "               reaction_data=soln2.velocities,\n",
    "               reaction_styles=['color', 'size', 'text', 'abs'],\n",
    "               metabolite_data=soln2.dm_dt,\n",
    "               metabolite_styles=['color', 'text'],\n",
    "               metabolite_scale_preset='GeGaRd',\n",
    "              )\n"
   ]
  }
 ],
 "metadata": {
  "kernelspec": {
   "display_name": "Python 3 (ipykernel)",
   "language": "python",
   "name": "python3"
  },
  "language_info": {
   "codemirror_mode": {
    "name": "ipython",
    "version": 3
   },
   "file_extension": ".py",
   "mimetype": "text/x-python",
   "name": "python",
   "nbconvert_exporter": "python",
   "pygments_lexer": "ipython3",
   "version": "3.9.9"
  },
  "varInspector": {
   "cols": {
    "lenName": 16,
    "lenType": 16,
    "lenVar": 40
   },
   "kernels_config": {
    "python": {
     "delete_cmd_postfix": "",
     "delete_cmd_prefix": "del ",
     "library": "var_list.py",
     "varRefreshCmd": "print(var_dic_list())"
    },
    "r": {
     "delete_cmd_postfix": ") ",
     "delete_cmd_prefix": "rm(",
     "library": "var_list.r",
     "varRefreshCmd": "cat(var_dic_list()) "
    }
   },
   "types_to_exclude": [
    "module",
    "function",
    "builtin_function_or_method",
    "instance",
    "_Feature"
   ],
   "window_display": false
  }
 },
 "nbformat": 4,
 "nbformat_minor": 5
}