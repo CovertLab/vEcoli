{
 "cells": [
  {
   "cell_type": "code",
   "execution_count": 30,
   "id": "8022bfb4-c69b-4cb7-a24c-fec017cc3661",
   "metadata": {
    "ExecuteTime": {
     "end_time": "2023-06-26T20:57:45.414004Z",
     "start_time": "2023-06-26T20:57:45.412114Z"
    }
   },
   "source": [
    "import numpy as np\n",
    "\n",
    "import seaborn as sns\n",
    "import pandas as pd\n",
    "import os\n",
    "\n",
    "os.chdir(os.path.expanduser('~/vivarium-ecoli'))\n",
    "\n",
    "import matplotlib.pyplot as plt\n",
    "import dill\n",
    "import requests\n",
    "import xmltodict\n",
    "from ecoli.processes.metabolism_redux import NetworkFlowModel, FlowResult, MetabolismRedux\n",
    "\n",
    "FREE_RXNS = [\"TRANS-RXN-145\", \"TRANS-RXN0-545\", \"TRANS-RXN0-474\"]\n",
    "\n",
    "sns.set(style='darkgrid', palette='viridis', context='talk')\n"
   ],
   "outputs": []
  },
  {
   "cell_type": "markdown",
   "id": "a143cbbb-3570-4548-bc24-f499c070a880",
   "metadata": {
    "tags": []
   },
   "source": [
    "# Import simulation output\n",
    "\n",
    "Before running this, I ran a sim in ecoli/experiments/metabolism_redux_sim.py with -n 2 to generate a simulation output. This is necessary to replicate the simulation environment, where we e.g. have dynamic demand for amino acids and nucleotides, and varying cell volumes.\n",
    "\n",
    "You don't have to do this for now. We'll use a single time step from the simulation output to test the network flow model on its own."
   ]
  },
  {
   "cell_type": "code",
   "execution_count": 31,
   "source": [
    "time = '50'\n",
    "date = '2023-06-09'\n",
    "experiment = 'fba-redux'\n",
    "entry = f'{experiment}_{time}_{date}'\n",
    "folder = f'out/fbagd/{entry}/'"
   ],
   "metadata": {
    "collapsed": false,
    "ExecuteTime": {
     "end_time": "2023-06-26T20:57:45.655960Z",
     "start_time": "2023-06-26T20:57:45.654112Z"
    }
   },
   "id": "dda4f133b7eff054",
   "outputs": []
  },
  {
   "cell_type": "code",
   "execution_count": 32,
   "source": [
    "output = np.load(folder + 'output.npy',allow_pickle='TRUE').item()\n",
    "# output = np.load(r\"out/geneRxnVerifData/output_glc.npy\", allow_pickle=True, encoding='ASCII').tolist()\n",
    "output = output['agents']['0']\n",
    "fba = output['listeners']['fba_results']\n",
    "mass = output['listeners']['mass']\n",
    "bulk = pd.DataFrame(output['bulk'])"
   ],
   "metadata": {
    "collapsed": false,
    "ExecuteTime": {
     "end_time": "2023-06-26T20:57:46.343772Z",
     "start_time": "2023-06-26T20:57:45.846198Z"
    }
   },
   "id": "de5815293fe5e3c5",
   "outputs": []
  },
  {
   "cell_type": "code",
   "execution_count": 33,
   "source": [
    "# this is the model itself - we'll pull e.g. stoichiometry from here.\n",
    "f = open(folder + 'agent_steps.pkl', 'rb')\n",
    "agent = dill.load(f)\n",
    "f.close()\n",
    "\n",
    "metabolism = agent['ecoli-metabolism-redux']\n",
    "stoichiometry = metabolism.stoichiometry"
   ],
   "metadata": {
    "collapsed": false,
    "ExecuteTime": {
     "end_time": "2023-06-26T20:57:46.880479Z",
     "start_time": "2023-06-26T20:57:46.345051Z"
    }
   },
   "id": "d6e98bc42a88af0a",
   "outputs": []
  },
  {
   "cell_type": "markdown",
   "source": [
    "# Check molecule exchanges from simulation - sanity check."
   ],
   "metadata": {
    "collapsed": false
   },
   "id": "a8866222cdac1950"
  },
  {
   "cell_type": "code",
   "execution_count": 34,
   "source": [
    "sim_exchanges = pd.DataFrame(fba[\"estimated_exchange_dmdt\"])\n",
    "sim_exchanges = pd.DataFrame(sim_exchanges.loc[24, :].abs().sort_values(ascending=False))\n",
    "\n",
    "# plot the top 10 fluxes from sim_fluxes as a bar plot.\n",
    "plt.figure(figsize=(15, 5))\n",
    "plt.plot(sim_exchanges.head(20), 'o')\n",
    "\n",
    "# shorten all xtick names to 10 characters\n",
    "plt.xticks([i for i in range(20)], [i[:20] for i in sim_exchanges.index[:20]], rotation=45, ha= 'right')\n",
    "# make xticks aligned to right left of bar\n",
    "plt.yscale('log')\n",
    "plt.ylabel('Flux counts')\n",
    "plt.title('Top 10 Fluxes')\n",
    "plt.show()"
   ],
   "metadata": {
    "collapsed": false,
    "ExecuteTime": {
     "end_time": "2023-06-26T20:57:47.095046Z",
     "start_time": "2023-06-26T20:57:46.900469Z"
    }
   },
   "id": "350663452088e582",
   "outputs": []
  },
  {
   "cell_type": "markdown",
   "source": [
    "# Check reaction fluxes from simulation - sanity check."
   ],
   "metadata": {
    "collapsed": false
   },
   "id": "7bea02528c2f0f60"
  },
  {
   "cell_type": "code",
   "execution_count": 35,
   "source": [
    "sim_fluxes = pd.DataFrame(fba[\"estimated_fluxes\"], columns = metabolism.reaction_names)\n",
    "sim_fluxes = pd.DataFrame(sim_fluxes.loc[24, :].abs().sort_values(ascending=False))\n",
    "\n",
    "\n",
    "# plot the top 10 fluxes from sim_fluxes as a bar plot.\n",
    "plt.figure(figsize=(15, 5))\n",
    "plt.plot(sim_fluxes.head(20), 'o')\n",
    "\n",
    "# shorten all xtick names to 10 characters\n",
    "plt.xticks([i for i in range(20)], [i[:20] for i in sim_fluxes.index[:20]], rotation=45, ha= 'right')\n",
    "# make xticks aligned to right left of bar\n",
    "\n",
    "\n",
    "plt.ylabel('Flux counts')\n",
    "# log scale\n",
    "plt.yscale('log')\n",
    "plt.title('Top 10 Fluxes')\n",
    "plt.show()"
   ],
   "metadata": {
    "collapsed": false,
    "ExecuteTime": {
     "end_time": "2023-06-26T20:57:47.585269Z",
     "start_time": "2023-06-26T20:57:47.420767Z"
    }
   },
   "id": "ad94bbe1bfc9fb8c",
   "outputs": []
  },
  {
   "cell_type": "code",
   "execution_count": 36,
   "source": [
    "sim_catalysts = pd.DataFrame(fba[\"reaction_catalyst_counts\"], columns=metabolism.reaction_names)\n",
    "sim_catalysts = pd.DataFrame(sim_catalysts.loc[4, :].abs().sort_values(ascending=False))\n",
    "sim_catalysts"
   ],
   "metadata": {
    "collapsed": false,
    "ExecuteTime": {
     "end_time": "2023-06-26T20:57:50.720960Z",
     "start_time": "2023-06-26T20:57:50.656856Z"
    }
   },
   "id": "91d6553c886b3279",
   "outputs": []
  },
  {
   "cell_type": "markdown",
   "source": [
    "# Test changing nutrient composition"
   ],
   "metadata": {
    "collapsed": false
   },
   "id": "33d37c1ff330a301"
  },
  {
   "cell_type": "code",
   "execution_count": 37,
   "source": [
    "uptake = metabolism.allowed_exchange_uptake\n",
    "uptake = set(uptake)\n",
    "\n",
    "# addition = set([\"CPD0-1074[c]\"])\n",
    "addition = set([\n",
    "        # \"FRU[p]\",\n",
    "        # \"NITRATE[p]\"\n",
    "        # 'THIAMINE[p]',\n",
    "        # 'HYDROGEN-MOLECULE[p]',\n",
    "        # 'FUM[p]'\n",
    "])\n",
    "removals = set([\n",
    "                  # \"GLC[p]\",\n",
    "               #      # 'AMMONIUM[c]',\n",
    "               #      # 'WATER[p]'\n",
    "               #       # 'Pi[p]',\n",
    "               #       # 'SULFATE[p]'\n",
    "               # 'OXYGEN-MOLECULE[p]'\n",
    "])\n",
    "\n",
    "\n",
    "uptake = uptake | addition\n",
    "uptake = uptake - removals\n",
    "uptake"
   ],
   "metadata": {
    "collapsed": false,
    "ExecuteTime": {
     "end_time": "2023-06-26T20:57:50.959153Z",
     "start_time": "2023-06-26T20:57:50.955010Z"
    }
   },
   "id": "4de0b5bc2007bdff",
   "outputs": []
  },
  {
   "cell_type": "markdown",
   "source": [
    "# Use NetworkFlowModel class to run model"
   ],
   "metadata": {
    "collapsed": false
   },
   "id": "3da0b4af70978072"
  },
  {
   "cell_type": "code",
   "execution_count": 38,
   "source": [
    "homeostatic = pd.DataFrame(fba[\"target_homeostatic_dmdt\"], columns=metabolism.homeostatic_metabolites).loc[24, :]\n",
    "maintenance = pd.DataFrame(fba[\"maintenance_target\"][1:], columns=['maintenance_reaction']).iat[24, 0]\n",
    "kinetic = pd.DataFrame(fba[\"target_kinetic_fluxes\"], columns=metabolism.kinetic_constraint_reactions).loc[24, :]"
   ],
   "metadata": {
    "collapsed": false,
    "ExecuteTime": {
     "end_time": "2023-06-26T20:57:51.545487Z",
     "start_time": "2023-06-26T20:57:51.536408Z"
    }
   },
   "id": "e5d565e150926398",
   "outputs": []
  },
  {
   "cell_type": "code",
   "execution_count": 39,
   "source": [
    "model = NetworkFlowModel(\n",
    "            stoich_arr=metabolism.stoichiometry,\n",
    "            metabolites=metabolism.metabolite_names,\n",
    "            reactions=metabolism.reaction_names,\n",
    "            homeostatic_metabolites=list(dict(homeostatic).keys()),\n",
    "            kinetic_reactions=list(dict(kinetic).keys()),\n",
    "            free_reactions=FREE_RXNS)"
   ],
   "metadata": {
    "collapsed": false,
    "ExecuteTime": {
     "end_time": "2023-06-26T20:57:52.203099Z",
     "start_time": "2023-06-26T20:57:51.791065Z"
    }
   },
   "id": "6d6a00d80b1d48d8",
   "outputs": []
  },
  {
   "cell_type": "code",
   "execution_count": 40,
   "source": [
    "model.set_up_exchanges(exchanges=metabolism.exchange_molecules, uptakes=metabolism.allowed_exchange_uptake)"
   ],
   "metadata": {
    "collapsed": false,
    "ExecuteTime": {
     "end_time": "2023-06-26T20:57:52.207568Z",
     "start_time": "2023-06-26T20:57:52.203915Z"
    }
   },
   "id": "112a7d13f8cb6b41",
   "outputs": []
  },
  {
   "cell_type": "code",
   "execution_count": 41,
   "source": [
    "objective_weights = {'secretion': 0.01, 'efficiency': 0.0001, 'kinetics': 0.000001}\n",
    "solution: FlowResult = model.solve(\n",
    "            homeostatic_targets=np.array(list(dict(homeostatic).values())),\n",
    "            maintenance_target=maintenance,\n",
    "            kinetic_targets=np.array(list(dict(kinetic).values())),\n",
    "            binary_kinetic_idx=[],\n",
    "            objective_weights=objective_weights,\n",
    "            upper_flux_bound=100000000)"
   ],
   "metadata": {
    "collapsed": false,
    "ExecuteTime": {
     "end_time": "2023-06-26T20:57:52.500557Z",
     "start_time": "2023-06-26T20:57:52.305711Z"
    }
   },
   "id": "966009584a647e86",
   "outputs": []
  },
  {
   "cell_type": "code",
   "execution_count": 42,
   "source": [
    "pd.Series(solution.exchanges).abs().sort_values(ascending=False)"
   ],
   "metadata": {
    "collapsed": false,
    "ExecuteTime": {
     "end_time": "2023-06-26T20:57:52.505455Z",
     "start_time": "2023-06-26T20:57:52.501004Z"
    }
   },
   "id": "2197cd7aa23d5e77",
   "outputs": []
  },
  {
   "cell_type": "code",
   "execution_count": 43,
   "source": [
    "cur_exchanges = pd.Series(solution.exchanges, index=metabolism.metabolite_names).abs().sort_values(ascending=False)\n",
    "nonzero = len(cur_exchanges[cur_exchanges > 0])\n",
    "\n",
    "# plot the top 10 fluxes from sim_fluxes as a bar plot.\n",
    "plt.figure(figsize=(30, 5))\n",
    "plt.plot(cur_exchanges.head(nonzero), 'o')\n",
    "\n",
    "# shorten all xtick names to 10 characters\n",
    "plt.xticks([i for i in range(nonzero)], [i[:20] for i in cur_exchanges.index[:nonzero]], rotation=45, ha= 'right')\n",
    "# make xticks aligned to right left of bar\n",
    "plt.yscale('log')\n",
    "plt.ylabel('Flux counts')\n",
    "plt.title('Top 10 Fluxes')\n",
    "plt.show()"
   ],
   "metadata": {
    "collapsed": false,
    "ExecuteTime": {
     "end_time": "2023-06-26T20:57:52.910522Z",
     "start_time": "2023-06-26T20:57:52.648900Z"
    }
   },
   "id": "d23f7e11452b3f13",
   "outputs": []
  },
  {
   "cell_type": "code",
   "execution_count": 44,
   "source": [
    "cur_fluxes = pd.Series(solution.velocities, index=metabolism.reaction_names).abs().sort_values(ascending=False)\n",
    "\n",
    "# plot the top 10 fluxes from sim_fluxes as a bar plot.\n",
    "plt.figure(figsize=(15, 5))\n",
    "plt.plot(cur_fluxes.head(20), 'o')\n",
    "\n",
    "# shorten all xtick names to 10 characters\n",
    "plt.xticks([i for i in range(20)], [i[:20] for i in cur_fluxes.index[:20]], rotation=45, ha= 'right')\n",
    "# make xticks aligned to right left of bar\n",
    "plt.yscale('log')\n",
    "plt.ylabel('Flux counts')\n",
    "plt.title('Top 10 Fluxes')\n",
    "plt.show()"
   ],
   "metadata": {
    "collapsed": false,
    "ExecuteTime": {
     "end_time": "2023-06-26T20:57:53.439778Z",
     "start_time": "2023-06-26T20:57:53.287110Z"
    }
   },
   "id": "81add8a27a039ae6",
   "outputs": []
  },
  {
   "cell_type": "markdown",
   "id": "28db669f-93f3-4f5c-aea0-e23b6a811660",
   "metadata": {},
   "source": [
    "## Connect to EcoCyc to go from Genes -> Reactions\n",
    "\n",
    "We use the EcoCyc API to automatically figure out what are made possible by the genes we are adding. While reactions are always possible, enzymes make them faster to the point that it is useful to the cell."
   ]
  },
  {
   "cell_type": "code",
   "execution_count": 45,
   "id": "a59449e4-be36-49c8-94ed-35c14f5bb72d",
   "metadata": {
    "ExecuteTime": {
     "end_time": "2023-06-26T20:57:53.907813Z",
     "start_time": "2023-06-26T20:57:53.664253Z"
    }
   },
   "source": [
    "s = requests.Session() # create session\n",
    "# Post login credentials to session:\n",
    "s.post('https://websvc.biocyc.org/credentials/login/', data={'email':'cellulararchitect@protonmail.com', 'password':'Cellman0451'})"
   ],
   "outputs": []
  },
  {
   "cell_type": "code",
   "execution_count": 21,
   "id": "ab016fac-3d48-49fb-85c7-63826a8f5664",
   "metadata": {
    "ExecuteTime": {
     "end_time": "2023-06-26T20:53:57.471936Z",
     "start_time": "2023-06-26T20:53:57.470309Z"
    }
   },
   "source": [
    "condition_sets = {0: {\"Environment\": \"Hydrogen + fumarate, -O2, -Glc\",\n",
    "                      \"Genes\": {\"EG10468\", \"EG10469\", \"EG10470\", \"EG11799\", \"EG11800\", \"EG11801\", \"G7554\"},\n",
    "                      \"Add\": {\"FUM[p]\", 'HYDROGEN-MOLECULE[p]'},\n",
    "                      \"Remove\": {\"GLC[p]\", \"OXYGEN-MOLECULE[p]\"},\n",
    "                      },\n",
    "                  \n",
    "                  1: {\"Environment\": \"Ribose C-source\",\n",
    "                      \"Genes\": {\"EG10814\", \"EG10815\", \"EG10816\", \"EG10818\"},\n",
    "                      \"Add\": {\"D-Ribopyranose[p]\"},\n",
    "                      \"Remove\": {\"GLC[p]\"},\n",
    "                      },\n",
    "                  \n",
    "                  2: {\"Environment\": \"Thiamine salvaging\",\n",
    "                      \"Genes\": {\"EG11574\", \"G6566\", \"M007\", \"EG11573\", \"EG11572\"},\n",
    "                      \"Add\": {\"THIAMINE[p]\"},\n",
    "                      \"Remove\": set(),\n",
    "                      },\n",
    "                  \n",
    "                  3: {\"Environment\": \"Nitrate as reduction target\",\n",
    "                      \"Genes\": {\"EG10638\", \"EG10639\", \"EG10640\", \"EG10644\", \"EG10647\", \"EG10648\"},\n",
    "                      \"Add\": {\"NITRATE[p]\"},\n",
    "                      \"Remove\": {\"OXYGEN-MOLECULE[p]\"},\n",
    "                      },\n",
    "                  \n",
    "                  4: {\"Environment\": \"3-Phenylpropionate as carbon and energy source\",\n",
    "                      \"Genes\": {\"M010\", \"M011\", \"M012\", \"G6206\"},\n",
    "                      \"Add\": {\"3-PHENYLPROPIONATE[p]\"},\n",
    "                      \"Remove\": {\"GLC[p]\"},\n",
    "                      },\n",
    "\n",
    "                  5: {\"Environment\": \"Molybdenum cofactor synthesis\",\n",
    "                      \"Genes\": {\"EG11595\", \"EG11666\", \"EG11597\", \"EG11598\", \"EG11829\", \"G7496\", \"EG10002\", \"EG10152\",\n",
    "                                \"EG10153\", \"EG10154\"},\n",
    "                      \"Add\": {\"CPD-3[p]\"},\n",
    "                      \"Remove\": set(),\n",
    "                      \"Demand\": {\"CPD-8123[c]\"},\n",
    "                      },\n",
    "\n",
    "                  6: {\"Environment\": \"pre-Quenosine synthesis\",\n",
    "                      \"Genes\": {\"G6245\", \"G7431\", \"G7452\"},\n",
    "                      \"Add\": set(),\n",
    "                      \"Remove\": set(),\n",
    "                      \"Demand\": {\"7-AMINOMETHYL-7-DEAZAGUANINE[c]\"},\n",
    "                      },\n",
    "\n",
    "\n",
    "                  \n",
    "                  # 5: {\"Genes\": set([\"EG10286\", \"EG10287\", \"EG10288\", \"EG10289\", \n",
    "                  #                   \"EG10290\", \"EG10293\", \"EG10294\", \"EG10295\", \n",
    "                  #                   \"EG10296\", \"EG10298\", \"EG10302\", \"EG10303\", \n",
    "                  #                   \"EG10304\", \"EG10305\", \"EG10306\", \"G6414\"]), \n",
    "                  #     \"Add\": set(),\n",
    "                  #     \"Remove\": set(),\n",
    "                  #     \"Environment\": \"Proper metal (iron) uptake\"}\n",
    "                 }\n",
    "\n",
    "condition_df = pd.DataFrame(condition_sets).T\n",
    "condition_df[\"Reactions\"] = [[np.nan]] * len(condition_df)\n",
    "condition_df[\"Demand\"] = condition_df[\"Demand\"].fillna(False)\n",
    "condition_df"
   ],
   "outputs": []
  },
  {
   "cell_type": "code",
   "execution_count": 22,
   "id": "0ecc835e-9a66-4cfe-838f-257cf37449b0",
   "metadata": {
    "ExecuteTime": {
     "end_time": "2023-06-26T20:53:59.237419Z",
     "start_time": "2023-06-26T20:53:57.473678Z"
    }
   },
   "source": [
    "for i in range(len(condition_df.index)):\n",
    "    \n",
    "    genes = condition_df.loc[i, \"Genes\"]\n",
    "    rxn_set = set()\n",
    "\n",
    "    for gene in genes:\n",
    "        function = \"reactions-of-gene\"\n",
    "        name = gene\n",
    "        req_str = f\"https://websvc.biocyc.org/apixml?fn={function}&id=ECOLI:{name}&detail=none&fmt=json\"\n",
    "\n",
    "        r = s.get(req_str)\n",
    "        o = xmltodict.parse(r.content)['ptools-xml']['Reaction']\n",
    "        if type(o) is dict:\n",
    "            o = [o]\n",
    "        \n",
    "        for rxn in o:\n",
    "            if type(rxn) is not str: # no rxns\n",
    "                rxn_set.add(rxn['@frameid'])\n",
    "            else:\n",
    "                print(gene, rxn)\n",
    "            \n",
    "    condition_df.at[i, \"Reactions\"] = rxn_set"
   ],
   "outputs": []
  },
  {
   "cell_type": "code",
   "execution_count": 23,
   "id": "4ec194b0-2aeb-43b9-85c6-108bebb4a0e9",
   "metadata": {
    "ExecuteTime": {
     "end_time": "2023-06-26T20:53:59.246439Z",
     "start_time": "2023-06-26T20:53:59.244345Z"
    }
   },
   "source": [
    "condition_df"
   ],
   "outputs": []
  },
  {
   "cell_type": "markdown",
   "id": "bed4cb3d-8c43-44a6-9677-2769b81ade20",
   "metadata": {},
   "source": [
    "## Quick and dirty loop (after init)"
   ]
  },
  {
   "cell_type": "code",
   "execution_count": 24,
   "id": "810fa6c8-b907-45b1-a1a7-d072f2295fe2",
   "metadata": {
    "ExecuteTime": {
     "end_time": "2023-06-26T20:54:03.118366Z",
     "start_time": "2023-06-26T20:53:59.256443Z"
    }
   },
   "source": [
    "results_df = pd.DataFrame(columns=[\"Environment\", \"Reaction\", \"Flux\"])\n",
    "\n",
    "for i in range(len(condition_df)):\n",
    "    condition_idx = i\n",
    "\n",
    "    uptake = metabolism.allowed_exchange_uptake\n",
    "\n",
    "    homeostatic = dict(pd.DataFrame(fba[\"target_homeostatic_dmdt\"], columns=metabolism.homeostatic_metabolites).loc[24, :])\n",
    "    new_demand = condition_df.at[condition_idx, \"Demand\"]\n",
    "    if new_demand:\n",
    "        for met in new_demand:\n",
    "            homeostatic[met] = 100\n",
    "\n",
    "    uptake = set(uptake)\n",
    "\n",
    "    addition = condition_df.at[condition_idx, \"Add\"]\n",
    "    removals = condition_df.at[condition_idx, \"Remove\"]\n",
    "\n",
    "    uptake = uptake | addition\n",
    "    uptake = uptake - removals\n",
    "\n",
    "    model = NetworkFlowModel(\n",
    "            stoich_arr=metabolism.stoichiometry,\n",
    "            metabolites=metabolism.metabolite_names,\n",
    "            reactions=metabolism.reaction_names,\n",
    "            homeostatic_metabolites=list(dict(homeostatic).keys()),\n",
    "            kinetic_reactions=list(dict(kinetic).keys()),\n",
    "            free_reactions=FREE_RXNS)\n",
    "\n",
    "    model.set_up_exchanges(exchanges=metabolism.exchange_molecules, uptakes=uptake)\n",
    "\n",
    "\n",
    "    objective_weights = {'secretion': 0.01, 'efficiency': 0.0001, 'kinetics': 0.000001}\n",
    "    solution: FlowResult = model.solve(\n",
    "                homeostatic_targets=np.array(list(dict(homeostatic).values())),\n",
    "                maintenance_target=maintenance,\n",
    "                kinetic_targets=np.array(list(dict(kinetic).values())),\n",
    "                binary_kinetic_idx=[],\n",
    "                objective_weights=objective_weights,\n",
    "                upper_flux_bound=100000000)\n",
    "\n",
    "    # Check flux\n",
    "    fluxes = pd.Series(solution.velocities, index=metabolism.reaction_names)\n",
    "    # fluxes = pd.DataFrame({model.rxns[i]: [solution.velocities[model.rxns[i]]] for i in range(len(model.rxns))}).T\n",
    "    fluxes.columns = [\"Flux\"]\n",
    "\n",
    "    relevant_rxns = condition_df.at[condition_idx, \"Reactions\"]\n",
    "    relevant_rxn_idx = []\n",
    "\n",
    "    for rxn in relevant_rxns:\n",
    "        relevant_rxn_idx.extend(list(np.where(fluxes.index.str.contains(rxn))[0] ))\n",
    "\n",
    "    relevant_fluxes = fluxes.iloc[relevant_rxn_idx]\n",
    "    \n",
    "    relevant_nonzero_fluxes = relevant_fluxes[relevant_fluxes != 0]\n",
    "    \n",
    "    for j, k in enumerate(relevant_nonzero_fluxes.index):\n",
    "        results_df = results_df.append(pd.DataFrame([[condition_df.at[condition_idx, \"Environment\"],\n",
    "                          relevant_nonzero_fluxes.index[j],\n",
    "                          relevant_nonzero_fluxes[k]]], columns=[\"Environment\", \"Reaction\", \"Flux\"]))\n",
    "\n",
    "    print(f\"\"\"finished {condition_df.at[condition_idx, \"Environment\"]}\"\"\")"
   ],
   "outputs": []
  },
  {
   "cell_type": "code",
   "execution_count": 25,
   "id": "3feb60e7-d881-4b21-afc4-e501301874bc",
   "metadata": {
    "ExecuteTime": {
     "end_time": "2023-06-26T20:54:03.125618Z",
     "start_time": "2023-06-26T20:54:03.123865Z"
    }
   },
   "source": [
    "results_df[\"Reaction\"] = results_df['Reaction'].str.slice(0,20)\n",
    "results_df[\"log(Flux)\"] = np.log10(results_df[\"Flux\"])\n",
    "results_df"
   ],
   "outputs": []
  },
  {
   "cell_type": "code",
   "execution_count": 26,
   "source": [
    "# for each environment, plot the fluxes of the reactions that are relevant to that environment\n",
    "g = sns.catplot(y=\"Environment\",hue=\"Reaction\", x=\"log(Flux)\", data=results_df, kind=\"bar\", aspect=2, height=10, sharey=False)\n",
    "g.savefig(\"notebooks/fbagd/figures/rxns_light_up.pdf\")"
   ],
   "metadata": {
    "collapsed": false,
    "ExecuteTime": {
     "end_time": "2023-06-26T20:54:03.878599Z",
     "start_time": "2023-06-26T20:54:03.128354Z"
    }
   },
   "id": "a77f540dee592cdc",
   "outputs": []
  }
 ],
 "metadata": {
  "kernelspec": {
   "display_name": "Python 3 (ipykernel)",
   "language": "python",
   "name": "python3"
  },
  "language_info": {
   "codemirror_mode": {
    "name": "ipython",
    "version": 3
   },
   "file_extension": ".py",
   "mimetype": "text/x-python",
   "name": "python",
   "nbconvert_exporter": "python",
   "pygments_lexer": "ipython3",
   "version": "3.9.9"
  }
 },
 "nbformat": 4,
 "nbformat_minor": 5
}
