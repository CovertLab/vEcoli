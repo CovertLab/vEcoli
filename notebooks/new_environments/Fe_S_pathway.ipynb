{
 "cells": [
  {
   "cell_type": "code",
   "execution_count": 445,
   "id": "8022bfb4-c69b-4cb7-a24c-fec017cc3661",
   "metadata": {
    "ExecuteTime": {
     "end_time": "2023-07-12T23:14:58.222988Z",
     "start_time": "2023-07-12T23:14:58.164248Z"
    }
   },
   "outputs": [],
   "source": [
    "import numpy as np\n",
    "\n",
    "import seaborn as sns\n",
    "import pandas as pd\n",
    "import os\n",
    "\n",
    "os.chdir(os.path.expanduser('~/Documents/vivarium-ecoli'))\n",
    "\n",
    "import matplotlib.pyplot as plt\n",
    "import dill\n",
    "import requests\n",
    "import xmltodict\n",
    "from ecoli.processes.metabolism_redux import NetworkFlowModel, FlowResult, MetabolismRedux\n",
    "\n",
    "\n",
    "FREE_RXNS = [\"TRANS-RXN-145\", \"TRANS-RXN0-545\", \"TRANS-RXN0-474\"]\n",
    "\n",
    "sns.set(style='darkgrid', palette='viridis', context='talk')\n"
   ]
  },
  {
   "cell_type": "markdown",
   "id": "a143cbbb-3570-4548-bc24-f499c070a880",
   "metadata": {
    "tags": []
   },
   "source": [
    "# Import simulation output\n",
    "\n",
    "Before running this, I ran a sim in ecoli/experiments/metabolism_redux_sim.py with -n 2 to generate a simulation output. This is necessary to replicate the simulation environment, where we e.g. have dynamic demand for amino acids and nucleotides, and varying cell volumes.\n",
    "\n",
    "You don't have to do this for now. We'll use a single time step from the simulation output to test the network flow model on its own."
   ]
  },
  {
   "cell_type": "code",
   "execution_count": 446,
   "outputs": [],
   "source": [
    "time = '50'\n",
    "date = '2023-06-26'\n",
    "experiment = 'fba-redux'\n",
    "entry = f'{experiment}_{time}_{date}'\n",
    "folder = f'out/fbagd/{entry}/'"
   ],
   "metadata": {
    "collapsed": false,
    "ExecuteTime": {
     "end_time": "2023-07-12T23:14:58.304081Z",
     "start_time": "2023-07-12T23:14:58.174130Z"
    }
   }
  },
  {
   "cell_type": "code",
   "execution_count": 447,
   "outputs": [],
   "source": [
    "output = np.load(folder + 'output.npy',allow_pickle='TRUE').item()\n",
    "# output = np.load(r\"out/geneRxnVerifData/output_glc.npy\", allow_pickle=True, encoding='ASCII').tolist()\n",
    "output = output['agents']['0']\n",
    "fba = output['listeners']['fba_results']\n",
    "mass = output['listeners']['mass']\n",
    "bulk = pd.DataFrame(output['bulk'])"
   ],
   "metadata": {
    "collapsed": false,
    "ExecuteTime": {
     "end_time": "2023-07-12T23:15:00.657380Z",
     "start_time": "2023-07-12T23:14:58.187192Z"
    }
   }
  },
  {
   "cell_type": "code",
   "execution_count": 448,
   "outputs": [],
   "source": [
    "# this is the model itself - we'll pull e.g. stoichiometry from here.\n",
    "f = open(folder + 'agent_steps.pkl', 'rb')\n",
    "agent = dill.load(f)\n",
    "f.close()\n",
    "\n",
    "metabolism = agent['ecoli-metabolism-redux']\n",
    "stoichiometry = metabolism.stoichiometry"
   ],
   "metadata": {
    "collapsed": false,
    "ExecuteTime": {
     "end_time": "2023-07-12T23:15:02.229964Z",
     "start_time": "2023-07-12T23:15:00.662454Z"
    }
   }
  },
  {
   "cell_type": "code",
   "execution_count": 449,
   "outputs": [],
   "source": [
    "homeostatic = pd.DataFrame(fba[\"target_homeostatic_dmdt\"], columns=metabolism.homeostatic_metabolites).loc[24, :]\n",
    "maintenance = pd.DataFrame(fba[\"maintenance_target\"][1:], columns=['maintenance_reaction']).iat[24, 0]\n",
    "kinetic = pd.DataFrame(fba[\"target_kinetic_fluxes\"], columns=metabolism.kinetic_constraint_reactions).loc[24, :]"
   ],
   "metadata": {
    "collapsed": false,
    "ExecuteTime": {
     "end_time": "2023-07-12T23:15:02.278892Z",
     "start_time": "2023-07-12T23:15:02.243501Z"
    }
   }
  },
  {
   "cell_type": "markdown",
   "id": "28db669f-93f3-4f5c-aea0-e23b6a811660",
   "metadata": {},
   "source": [
    "## Connect to EcoCyc to go from Genes -> Reactions\n",
    "\n",
    "We use the EcoCyc API to automatically figure out what are made possible by the genes we are adding. While reactions are always possible, enzymes make them faster to the point that it is useful to the cell."
   ]
  },
  {
   "cell_type": "code",
   "execution_count": 450,
   "id": "a59449e4-be36-49c8-94ed-35c14f5bb72d",
   "metadata": {
    "ExecuteTime": {
     "end_time": "2023-07-12T23:15:02.769478Z",
     "start_time": "2023-07-12T23:15:02.270539Z"
    }
   },
   "outputs": [
    {
     "data": {
      "text/plain": "<Response [200]>"
     },
     "execution_count": 450,
     "metadata": {},
     "output_type": "execute_result"
    }
   ],
   "source": [
    "s = requests.Session() # create session\n",
    "# Post login credentials to session:\n",
    "s.post('https://websvc.biocyc.org/credentials/login/', data={'email':'cellulararchitect@protonmail.com', 'password':'Cellman0451'})"
   ]
  },
  {
   "cell_type": "code",
   "execution_count": 451,
   "outputs": [],
   "source": [
    "added_gene_to_reaction = {\"EG10941\": \"putative-L-selenocysteine-synthesis\",\n",
    "                          \"G7325\": \"cysteine-desulfurase-FeS-cluster-assembly\",\n",
    "                          \"EG12132\": \"iron-transport-FeS-cluster-assembly\",\n",
    "                          \"G7324\": \"complex-formation-FeS-cluster-assembly\",\n",
    "                          \"EG12130\": \"cluster-transport-FeS-cluster-assembly\"\n",
    "                          # Missing HscB with HscA complex\n",
    "                          }"
   ],
   "metadata": {
    "collapsed": false,
    "ExecuteTime": {
     "end_time": "2023-07-12T23:15:02.777873Z",
     "start_time": "2023-07-12T23:15:02.774375Z"
    }
   }
  },
  {
   "cell_type": "code",
   "execution_count": 452,
   "id": "ab016fac-3d48-49fb-85c7-63826a8f5664",
   "metadata": {
    "ExecuteTime": {
     "end_time": "2023-07-12T23:15:02.824055Z",
     "start_time": "2023-07-12T23:15:02.776819Z"
    }
   },
   "outputs": [
    {
     "data": {
      "text/plain": "                Environment                                 Genes  \\\n0  Testing L-Selenocysteine                             {EG10941}   \n1     Testing Fe-S Clusters      {EG12132, EG12130, G7325, G7324}   \n2          Vitamin B Uptake  {EG10126, EG10130, EG10127, EG10128}   \n\n                  Add Remove                    Demand Reactions Substrates  \n0  {SER[c], SEPO3[c]}     {}     {L-SELENOCYSTEINE[c]}     [nan]      [nan]  \n1   {CYS[c], FE+2[c]}     {}  {DISORDERED-FdS-IscU[c]}     [nan]      [nan]  \n2   {COB-I-ALAMIN[p]}     {}         {COB-I-ALAMIN[c]}     [nan]      [nan]  ",
      "text/html": "<div>\n<style scoped>\n    .dataframe tbody tr th:only-of-type {\n        vertical-align: middle;\n    }\n\n    .dataframe tbody tr th {\n        vertical-align: top;\n    }\n\n    .dataframe thead th {\n        text-align: right;\n    }\n</style>\n<table border=\"1\" class=\"dataframe\">\n  <thead>\n    <tr style=\"text-align: right;\">\n      <th></th>\n      <th>Environment</th>\n      <th>Genes</th>\n      <th>Add</th>\n      <th>Remove</th>\n      <th>Demand</th>\n      <th>Reactions</th>\n      <th>Substrates</th>\n    </tr>\n  </thead>\n  <tbody>\n    <tr>\n      <th>0</th>\n      <td>Testing L-Selenocysteine</td>\n      <td>{EG10941}</td>\n      <td>{SER[c], SEPO3[c]}</td>\n      <td>{}</td>\n      <td>{L-SELENOCYSTEINE[c]}</td>\n      <td>[nan]</td>\n      <td>[nan]</td>\n    </tr>\n    <tr>\n      <th>1</th>\n      <td>Testing Fe-S Clusters</td>\n      <td>{EG12132, EG12130, G7325, G7324}</td>\n      <td>{CYS[c], FE+2[c]}</td>\n      <td>{}</td>\n      <td>{DISORDERED-FdS-IscU[c]}</td>\n      <td>[nan]</td>\n      <td>[nan]</td>\n    </tr>\n    <tr>\n      <th>2</th>\n      <td>Vitamin B Uptake</td>\n      <td>{EG10126, EG10130, EG10127, EG10128}</td>\n      <td>{COB-I-ALAMIN[p]}</td>\n      <td>{}</td>\n      <td>{COB-I-ALAMIN[c]}</td>\n      <td>[nan]</td>\n      <td>[nan]</td>\n    </tr>\n  </tbody>\n</table>\n</div>"
     },
     "execution_count": 452,
     "metadata": {},
     "output_type": "execute_result"
    }
   ],
   "source": [
    "condition_df = pd.read_excel(\"notebooks/new_environments/temp.xlsx\")\n",
    "condition_df[\"Genes\"] = condition_df[\"Genes\"].apply(lambda x: set(x.split(\", \") if x == x else set()))\n",
    "condition_df[\"Add\"] = condition_df[\"Add\"].apply(lambda x: set(str(x).split(\", \") if x == x else set()))\n",
    "condition_df[\"Remove\"] = condition_df[\"Remove\"].apply(lambda x: set(str(x).split(\", \") if x == x else set()))\n",
    "condition_df[\"Demand\"] = condition_df[\"Demand\"].apply(lambda x: set(str(x).split(\", \") if x == x else set()))\n",
    "condition_df[\"Reactions\"] = [[np.nan]] * len(condition_df)\n",
    "condition_df[\"Substrates\"] = [[np.nan]] * len(condition_df)\n",
    "\n",
    "condition_df"
   ]
  },
  {
   "cell_type": "code",
   "execution_count": 453,
   "outputs": [],
   "source": [
    "length = len(condition_df.index)\n",
    "\n",
    "for i in range(length):\n",
    "    genes = condition_df.loc[i, \"Genes\"]\n",
    "    rxn_set = set()\n",
    "    added_rxn_set = set()\n",
    "\n",
    "    for gene in genes:\n",
    "        function = \"reactions-of-gene\"\n",
    "        name = gene\n",
    "        req_str = f\"https://websvc.biocyc.org/apixml?fn={function}&id=ECOLI:{name}&detail=none&fmt=json\"\n",
    "\n",
    "        r = s.get(req_str)\n",
    "        if gene in added_gene_to_reaction.keys():\n",
    "            added_rxn_set.add(added_gene_to_reaction[gene])\n",
    "        else:\n",
    "            o = xmltodict.parse(r.content)['ptools-xml']['Reaction']\n",
    "            if type(o) is dict:\n",
    "                o = [o]\n",
    "\n",
    "            for rxn in o:\n",
    "                if type(rxn) is not str: # no rxns\n",
    "                    rxn_set.add(rxn['@frameid'])\n",
    "                else:\n",
    "                    print(gene, rxn)\n",
    "\n",
    "\n",
    "\n",
    "    overall_list = []\n",
    "    for reaction in rxn_set:\n",
    "        compound_set = set()\n",
    "        function = \"substrates-of-reaction\"\n",
    "        name = reaction\n",
    "        req_str = f\"https://websvc.biocyc.org/apixml?fn={function}&id=ECOLI:{name}&detail=none&fmt=json\"\n",
    "\n",
    "        r = s.get(req_str)\n",
    "        o = xmltodict.parse(r.content)['ptools-xml']['Compound']\n",
    "        if type(o) is dict:\n",
    "            o = [o]\n",
    "\n",
    "        for compound in o:\n",
    "            if type(compound) is not str:\n",
    "                compound_set.add(compound['@frameid'])\n",
    "            else:\n",
    "                print(reaction, compound)\n",
    "\n",
    "        overall_list.append(compound_set)\n",
    "\n",
    "    condition_df.at[i, \"Reactions\"] = rxn_set | added_rxn_set\n",
    "    # condition_df.at[i, \"Reactions\"].update(added_rxn_set)\n",
    "    condition_df.at[i, \"Substrates\"] = overall_list\n",
    "    condition_df.loc[i + length] = [condition_df.at[i, \"Environment\"] + \" CONTROL\", set(), set(), set(), set(), condition_df.at[i, \"Reactions\"], []]\n",
    "    # This is to create the control"
   ],
   "metadata": {
    "collapsed": false,
    "ExecuteTime": {
     "end_time": "2023-07-12T23:15:06.376638Z",
     "start_time": "2023-07-12T23:15:02.837581Z"
    }
   }
  },
  {
   "cell_type": "code",
   "execution_count": 454,
   "id": "4ec194b0-2aeb-43b9-85c6-108bebb4a0e9",
   "metadata": {
    "ExecuteTime": {
     "end_time": "2023-07-12T23:15:06.409258Z",
     "start_time": "2023-07-12T23:15:06.400414Z"
    }
   },
   "outputs": [
    {
     "data": {
      "text/plain": "                        Environment                                 Genes  \\\n0          Testing L-Selenocysteine                             {EG10941}   \n1             Testing Fe-S Clusters      {EG12132, EG12130, G7325, G7324}   \n2                  Vitamin B Uptake  {EG10126, EG10130, EG10127, EG10128}   \n3  Testing L-Selenocysteine CONTROL                                    {}   \n4     Testing Fe-S Clusters CONTROL                                    {}   \n5          Vitamin B Uptake CONTROL                                    {}   \n\n                  Add Remove                    Demand  \\\n0  {SER[c], SEPO3[c]}     {}     {L-SELENOCYSTEINE[c]}   \n1   {CYS[c], FE+2[c]}     {}  {DISORDERED-FdS-IscU[c]}   \n2   {COB-I-ALAMIN[p]}     {}         {COB-I-ALAMIN[c]}   \n3                  {}     {}                        {}   \n4                  {}     {}                        {}   \n5                  {}     {}                        {}   \n\n                                           Reactions  \\\n0              {putative-L-selenocysteine-synthesis}   \n1  {iron-transport-FeS-cluster-assembly, complex-...   \n2  {BTUR2-RXN, RXN-19342, RXN0-1565, COBALADENOSY...   \n3              {putative-L-selenocysteine-synthesis}   \n4  {iron-transport-FeS-cluster-assembly, complex-...   \n5  {BTUR2-RXN, RXN-19342, RXN0-1565, COBALADENOSY...   \n\n                                          Substrates  \n0                                                 []  \n1                                                 []  \n2  [{ADENOSYLCOBINAMIDE, P3I, CPD-20903, ATP}, {C...  \n3                                                 []  \n4                                                 []  \n5                                                 []  ",
      "text/html": "<div>\n<style scoped>\n    .dataframe tbody tr th:only-of-type {\n        vertical-align: middle;\n    }\n\n    .dataframe tbody tr th {\n        vertical-align: top;\n    }\n\n    .dataframe thead th {\n        text-align: right;\n    }\n</style>\n<table border=\"1\" class=\"dataframe\">\n  <thead>\n    <tr style=\"text-align: right;\">\n      <th></th>\n      <th>Environment</th>\n      <th>Genes</th>\n      <th>Add</th>\n      <th>Remove</th>\n      <th>Demand</th>\n      <th>Reactions</th>\n      <th>Substrates</th>\n    </tr>\n  </thead>\n  <tbody>\n    <tr>\n      <th>0</th>\n      <td>Testing L-Selenocysteine</td>\n      <td>{EG10941}</td>\n      <td>{SER[c], SEPO3[c]}</td>\n      <td>{}</td>\n      <td>{L-SELENOCYSTEINE[c]}</td>\n      <td>{putative-L-selenocysteine-synthesis}</td>\n      <td>[]</td>\n    </tr>\n    <tr>\n      <th>1</th>\n      <td>Testing Fe-S Clusters</td>\n      <td>{EG12132, EG12130, G7325, G7324}</td>\n      <td>{CYS[c], FE+2[c]}</td>\n      <td>{}</td>\n      <td>{DISORDERED-FdS-IscU[c]}</td>\n      <td>{iron-transport-FeS-cluster-assembly, complex-...</td>\n      <td>[]</td>\n    </tr>\n    <tr>\n      <th>2</th>\n      <td>Vitamin B Uptake</td>\n      <td>{EG10126, EG10130, EG10127, EG10128}</td>\n      <td>{COB-I-ALAMIN[p]}</td>\n      <td>{}</td>\n      <td>{COB-I-ALAMIN[c]}</td>\n      <td>{BTUR2-RXN, RXN-19342, RXN0-1565, COBALADENOSY...</td>\n      <td>[{ADENOSYLCOBINAMIDE, P3I, CPD-20903, ATP}, {C...</td>\n    </tr>\n    <tr>\n      <th>3</th>\n      <td>Testing L-Selenocysteine CONTROL</td>\n      <td>{}</td>\n      <td>{}</td>\n      <td>{}</td>\n      <td>{}</td>\n      <td>{putative-L-selenocysteine-synthesis}</td>\n      <td>[]</td>\n    </tr>\n    <tr>\n      <th>4</th>\n      <td>Testing Fe-S Clusters CONTROL</td>\n      <td>{}</td>\n      <td>{}</td>\n      <td>{}</td>\n      <td>{}</td>\n      <td>{iron-transport-FeS-cluster-assembly, complex-...</td>\n      <td>[]</td>\n    </tr>\n    <tr>\n      <th>5</th>\n      <td>Vitamin B Uptake CONTROL</td>\n      <td>{}</td>\n      <td>{}</td>\n      <td>{}</td>\n      <td>{}</td>\n      <td>{BTUR2-RXN, RXN-19342, RXN0-1565, COBALADENOSY...</td>\n      <td>[]</td>\n    </tr>\n  </tbody>\n</table>\n</div>"
     },
     "execution_count": 454,
     "metadata": {},
     "output_type": "execute_result"
    }
   ],
   "source": [
    "condition_df"
   ]
  },
  {
   "cell_type": "markdown",
   "id": "bed4cb3d-8c43-44a6-9677-2769b81ade20",
   "metadata": {},
   "source": [
    "## Quick and dirty but workhorse loop (after init)"
   ]
  },
  {
   "cell_type": "code",
   "execution_count": 458,
   "outputs": [
    {
     "name": "stdout",
     "output_type": "stream",
     "text": [
      "100\n",
      "Finished Testing L-Selenocysteine\n",
      "100\n",
      "Finished Testing Fe-S Clusters\n",
      "100\n",
      "Finished Vitamin B Uptake\n",
      "Finished Testing L-Selenocysteine CONTROL\n",
      "Finished Testing Fe-S Clusters CONTROL\n",
      "Finished Vitamin B Uptake CONTROL\n"
     ]
    }
   ],
   "source": [
    "results_df = pd.DataFrame(columns=[\"Environment\", \"Reaction\", \"Flux\"])\n",
    "zero_df = pd.DataFrame()\n",
    "all_flux = []\n",
    "\n",
    "reactions_add = {\"putative-L-selenocysteine-synthesis\": {'SEPO3[c]': -1, 'SER[c]': -1, 'Pi[c]': 1, 'L-SELENOCYSTEINE[c]': 1},\n",
    "                 \"cysteine-desulfurase-FeS-cluster-assembly\": {'CYS[c]': -1, 'L-ALPHA-ALANINE[c]': 1, 'S-SULFANYL-IscS[c]': 1},\n",
    "                 \"iron-transport-FeS-cluster-assembly\": {'FE+2[c]': -1, 'DISORDERED-FdS-IscU[c]': 1},\n",
    "                 \"complex-formation-FeS-cluster-assembly\": {'DISORDERED-FdS-IscU[c]': -1, 'S-SULFANYL-IscS[c]': -1, 'S-SULFANYL-DISORDERED-FdS-IscU[c]': 1},\n",
    "                 \"cluster-transport-FeS-cluster-assembly\": {'S-SULFANYL-DISORDERED-FdS-IscU[c]': -1, 'ATP[c]': -1, 'ADP[c]': 1, 'CPD-6[c]': 1}\n",
    "                 # Insert other added reactions here\n",
    "                 }\n",
    "\n",
    "metabolites_add = ['S-SULFANYL-IscS[c]', 'DISORDERED-FdS-IscU[c]', 'S-SULFANYL-DISORDERED-FdS-IscU[c]', 'CPD-6[c]']\n",
    "\n",
    "catalyst_add = {\"putative-L-selenocysteine-synthesis\": 'CPLX0-1141[c]',\n",
    "                \"cysteine-desulfurase-FeS-cluster-assembly\": 'G7325-MONOMER[c]',\n",
    "                \"iron-transport-FeS-cluster-assembly\": 'EG12132-MONOMER[c]',\n",
    "                \"complex-formation-FeS-cluster-assembly\": 'G7324-MONOMER[c]',\n",
    "                \"cluster-transport-FeS-cluster-assembly\": 'HSC-Complex[c]'}\n",
    "\n",
    "for j in range(len(condition_df)):\n",
    "    metabolites_idx = {species: i for i, species in enumerate(metabolism.metabolite_names)}\n",
    "    reaction_catalysts = metabolism.parameters['reaction_catalysts']\n",
    "    metabolism.catalyst_ids = metabolism.parameters['catalyst_ids']\n",
    "    catalyst_idx = {catalyst: i for i, catalyst in enumerate(metabolism.catalyst_ids)}\n",
    "\n",
    "    new_stoich = metabolism.stoichiometry.copy()\n",
    "    new_metabolites = metabolism.metabolite_names.copy()\n",
    "    new_reaction_names = metabolism.reaction_names.copy()\n",
    "\n",
    "    condition_idx = j\n",
    "\n",
    "    uptake = metabolism.allowed_exchange_uptake\n",
    "\n",
    "    homeostatic = dict(pd.DataFrame(fba[\"target_homeostatic_dmdt\"], columns=metabolism.homeostatic_metabolites).loc[24, :])\n",
    "    new_demand = condition_df.at[condition_idx, \"Demand\"]\n",
    "    if new_demand != set():\n",
    "        for met in new_demand:\n",
    "            homeostatic[met] = 0\n",
    "            flat_demand_add = 100\n",
    "            if met not in metabolites_add:\n",
    "                function = \"reactions-of-compound\"\n",
    "                name = met[:-3]\n",
    "                req_str = f\"https://websvc.biocyc.org/apixml?fn={function}&id=ECOLI:{name}&detail=none&fmt=json\"\n",
    "\n",
    "                r = s.get(req_str)\n",
    "                o = xmltodict.parse(r.content)['ptools-xml']['Reaction']\n",
    "                if type(o) is dict:\n",
    "                    o = [o]\n",
    "                for rxn in o:\n",
    "                    if type(rxn) is not str: # no rxns\n",
    "                        function = \"substrates-of-reaction\"\n",
    "                        req_str = f\"https://websvc.biocyc.org/getxml?id=ECOLI:{rxn['@frameid']}&detail=low\"\n",
    "                        r = s.get(req_str)\n",
    "                        o = xmltodict.parse(r.content)['ptools-xml']['Reaction']['left']\n",
    "                        right = xmltodict.parse(r.content)['ptools-xml']['Reaction']['right']\n",
    "                        if type(o) is dict:\n",
    "                            o = [o]\n",
    "                        if type(right) is dict:\n",
    "                            right = [right]\n",
    "                        for compound in o:\n",
    "                            if type(compound) is not str:\n",
    "                                try:\n",
    "                                    if compound['Compound']['@frameid'] == met:\n",
    "                                        for demand_compound in right:\n",
    "                                            if type(demand_compound) is not str:\n",
    "                                                homeostatic[met] += homeostatic[demand_compound]\n",
    "                                except:\n",
    "                                    if compound['Protein']['@frameid'] == met:\n",
    "                                        for demand_compound in right:\n",
    "                                            if type(demand_compound) is not str:\n",
    "                                                homeostatic[met] += homeostatic[demand_compound]\n",
    "                                finally:\n",
    "                                    pass\n",
    "\n",
    "            homeostatic[met] += flat_demand_add\n",
    "            print(homeostatic[met])\n",
    "            # Maybe look at what the demanded metabolite goes into and use that quantity + a flat value\n",
    "\n",
    "    uptake = set(uptake)\n",
    "\n",
    "    addition = condition_df.at[condition_idx, \"Add\"]\n",
    "    removals = condition_df.at[condition_idx, \"Remove\"]\n",
    "\n",
    "    uptake = uptake | addition\n",
    "    uptake = uptake - removals\n",
    "\n",
    "    for reaction in condition_df.at[condition_idx, \"Reactions\"]:\n",
    "        if reaction in catalyst_add:\n",
    "            catalyst_idx[catalyst_add[reaction]] = len(catalyst_idx)\n",
    "\n",
    "        if reaction in reactions_add:\n",
    "            for metabolite in reactions_add[reaction]:\n",
    "                if metabolite in metabolites_add:\n",
    "                    new_row = np.zeros([1, np.shape(new_stoich)[1]])\n",
    "                    new_stoich = np.append(new_stoich, new_row, axis=0)\n",
    "                    new_metabolites.append(metabolite)\n",
    "                    metabolites_idx[metabolite] = len(metabolites_idx)\n",
    "\n",
    "            new_reaction_names.append(reaction)\n",
    "            new_col = np.zeros([len(new_stoich), 1])\n",
    "            new_stoich = np.append(new_stoich, new_col, axis=1)\n",
    "\n",
    "            for species, coefficient in reactions_add[reaction].items():\n",
    "                i = metabolites_idx[species]\n",
    "                new_stoich[i, np.shape(new_stoich)[1] - 1] = coefficient\n",
    "\n",
    "            # now adds an entry for every reaction, list can be empty\n",
    "            reaction_catalysts[reaction] = [catalyst_add[reaction]]\n",
    "            # Taken from reconstruction/ecoli.../complexation reactions to find the complex that the gene forms\n",
    "            enzyme_idx = [catalyst_idx[catalyst] for catalyst in reaction_catalysts.get(reaction, [])]\n",
    "            metabolism.catalyzed_rxn_enzymes_idx.append(enzyme_idx)\n",
    "\n",
    "    model = NetworkFlowModel(\n",
    "            stoich_arr=new_stoich,\n",
    "            metabolites=new_metabolites,\n",
    "            reactions=new_reaction_names,\n",
    "            homeostatic_metabolites=list(dict(homeostatic).keys()),\n",
    "            kinetic_reactions=list(dict(kinetic).keys()),\n",
    "            free_reactions=FREE_RXNS)\n",
    "    model.set_up_exchanges(exchanges=metabolism.exchange_molecules, uptakes=uptake)\n",
    "\n",
    "    objective_weights = {'secretion': 0.01, 'efficiency': 0.0001, 'kinetics': 0.000001}\n",
    "    solution: FlowResult = model.solve(\n",
    "                homeostatic_targets=np.array(list(dict(homeostatic).values())),\n",
    "                maintenance_target=maintenance,\n",
    "                kinetic_targets=np.array(list(dict(kinetic).values())),\n",
    "                binary_kinetic_idx=[],\n",
    "                objective_weights=objective_weights,\n",
    "                upper_flux_bound=100000000)\n",
    "\n",
    "    # Check flux\n",
    "    fluxes = pd.Series(solution.velocities, index=new_reaction_names)\n",
    "    # fluxes = pd.DataFrame({model.rxns[i]: [solution.velocities[model.rxns[i]]] for i in range(len(model.rxns))}).T\n",
    "    fluxes.columns = [\"Flux\"]\n",
    "    all_flux.append(fluxes)\n",
    "\n",
    "    if condition_df.at[condition_idx, \"Environment\"][-7:] == \"CONTROL\":\n",
    "        control_df = pd.DataFrame()\n",
    "        flux_threshold = 100\n",
    "        for j, k in enumerate(fluxes.index):\n",
    "            if abs(all_flux[condition_idx - length][k] - fluxes[k]) / abs(fluxes[k] + 0.01) >= flux_threshold:\n",
    "                control_df = control_df.append(pd.DataFrame([[condition_df.at[condition_idx, \"Environment\"],\n",
    "                          fluxes.index[j],\n",
    "                         (all_flux[condition_idx - length][k] - fluxes[k]) / (fluxes[k] + 0.01) ]], columns=[\"Environment\", \"Reaction\", \"(Experiment - Control)/(Control + 0.01) Flux\"]))\n",
    "        if len(control_df) > 0:\n",
    "            control_df = control_df.sort_values(by=[\"(Experiment - Control)/(Control + 0.01) Flux\"], ascending=False)\n",
    "        control_df.to_csv(rf'notebooks/new_environments/figures/control_differences/{condition_df.at[condition_idx, \"Environment\"]}.csv')\n",
    "    else:\n",
    "        relevant_rxns = condition_df.at[condition_idx, \"Reactions\"]\n",
    "        relevant_rxn_idx = []\n",
    "\n",
    "        for rxn in relevant_rxns:\n",
    "            relevant_rxn_idx.extend(list(np.where(fluxes.index.str.contains(rxn))[0] ))\n",
    "\n",
    "        relevant_fluxes = fluxes.iloc[relevant_rxn_idx]\n",
    "\n",
    "        relevant_nonzero_fluxes = relevant_fluxes[relevant_fluxes != 0]\n",
    "        zero_fluxes = relevant_fluxes[relevant_fluxes == 0]\n",
    "\n",
    "        for j, k in enumerate(relevant_nonzero_fluxes.index):\n",
    "            results_df = results_df.append(pd.DataFrame([[condition_df.at[condition_idx, \"Environment\"],\n",
    "                          relevant_nonzero_fluxes.index[j],\n",
    "                          relevant_nonzero_fluxes[k]]], columns=[\"Environment\", \"Reaction\", \"Flux\"]))\n",
    "\n",
    "        for j, k in enumerate(zero_fluxes.index):\n",
    "            zero_df = zero_df.append(pd.DataFrame([[condition_df.at[condition_idx, \"Environment\"],\n",
    "                          zero_fluxes.index[j],\n",
    "                          zero_fluxes[k]]], columns=[\"Environment\", \"Reaction\", \"Flux\"]))\n",
    "\n",
    "    print(f\"\"\"Finished {condition_df.at[condition_idx, \"Environment\"]}\"\"\")\n",
    "zero_df.to_csv(r'notebooks/new_environments/figures/zero_flux.csv')"
   ],
   "metadata": {
    "collapsed": false,
    "ExecuteTime": {
     "end_time": "2023-07-12T23:43:40.896996Z",
     "start_time": "2023-07-12T23:43:07.660721Z"
    }
   }
  },
  {
   "cell_type": "code",
   "execution_count": null,
   "id": "3feb60e7-d881-4b21-afc4-e501301874bc",
   "metadata": {
    "ExecuteTime": {
     "start_time": "2023-07-12T23:15:14.873132Z"
    }
   },
   "outputs": [],
   "source": [
    "# results_df[\"Reaction\"] = results_df['Reaction'].str.slice(0,20)\n",
    "results_df[\"log(Flux)\"] = np.log10(results_df[\"Flux\"])\n",
    "results_df"
   ]
  },
  {
   "cell_type": "code",
   "execution_count": null,
   "outputs": [],
   "source": [
    "# for each environment, plot the fluxes of the reactions that are relevant to that environment.\n",
    "# g = sns.catplot(y=\"Environment\",hue=\"Reaction\", x=\"log(Flux)\", data=results_df, kind=\"bar\", aspect=2, height=10, sharey=False)\n",
    "# g.savefig(\"notebooks/new_environments/figures/rxns_light_up.pdf\")"
   ],
   "metadata": {
    "collapsed": false
   }
  },
  {
   "cell_type": "code",
   "execution_count": null,
   "outputs": [],
   "source": [
    "import textwrap\n",
    "\n",
    "def wrap_x_labels(ax, width, break_long_words=False):\n",
    "    labels = []\n",
    "    for label in ax.get_xticklabels():\n",
    "        text = label.get_text()\n",
    "        labels.append(textwrap.fill(text, width=width,\n",
    "                      break_long_words=break_long_words))\n",
    "    ax.set_xticklabels(labels, rotation=0)"
   ],
   "metadata": {
    "collapsed": false
   }
  },
  {
   "cell_type": "code",
   "execution_count": null,
   "outputs": [],
   "source": [
    "sns.set_theme(style=\"whitegrid\", rc={'figure.dpi': 300}, font_scale=0.5)\n",
    "fig, ax = plt.subplots(figsize=(len(results_df[\"Environment\"].unique()), 2))\n",
    "ax.set_title(\"Non-zero Fluxes\")\n",
    "ax = sns.barplot(data=results_df, x=\"Environment\", y=\"log(Flux)\", ax=ax, hue=\"Reaction\")\n",
    "ax.legend(bbox_to_anchor=(1, 1), title='Reactions', loc='upper left', ncol = 1)\n",
    "wrap_x_labels(ax, 10)\n",
    "fig = ax.get_figure()\n",
    "plt.show(fig)\n",
    "fig.savefig(\"notebooks/new_environments/figures/vert_bar_rxns.png\")"
   ],
   "metadata": {
    "collapsed": false
   }
  }
 ],
 "metadata": {
  "kernelspec": {
   "display_name": "Python 3 (ipykernel)",
   "language": "python",
   "name": "python3"
  },
  "language_info": {
   "codemirror_mode": {
    "name": "ipython",
    "version": 3
   },
   "file_extension": ".py",
   "mimetype": "text/x-python",
   "name": "python",
   "nbconvert_exporter": "python",
   "pygments_lexer": "ipython3",
   "version": "3.9.9"
  }
 },
 "nbformat": 4,
 "nbformat_minor": 5
}
