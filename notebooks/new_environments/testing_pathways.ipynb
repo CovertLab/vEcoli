{
 "cells": [
  {
   "cell_type": "code",
   "execution_count": 41,
   "outputs": [],
   "source": [
    "import numpy as np\n",
    "\n",
    "import seaborn as sns\n",
    "import pandas as pd\n",
    "import os\n",
    "\n",
    "os.chdir(os.path.expanduser('~/Documents/vivarium-ecoli'))\n",
    "\n",
    "import matplotlib.pyplot as plt\n",
    "import dill\n",
    "import requests\n",
    "import xmltodict\n",
    "import cvxpy as cp\n",
    "from ecoli.processes.metabolism_redux import NetworkFlowModel, FlowResult, MetabolismRedux\n",
    "\n",
    "FREE_RXNS = [\"TRANS-RXN-145\", \"TRANS-RXN0-545\", \"TRANS-RXN0-474\"]"
   ],
   "metadata": {
    "collapsed": false,
    "ExecuteTime": {
     "end_time": "2023-07-14T18:33:13.001144Z",
     "start_time": "2023-07-14T18:33:12.991515Z"
    }
   }
  },
  {
   "cell_type": "code",
   "execution_count": 42,
   "metadata": {
    "collapsed": true,
    "ExecuteTime": {
     "end_time": "2023-07-14T18:33:13.047304Z",
     "start_time": "2023-07-14T18:33:13.035902Z"
    }
   },
   "outputs": [
    {
     "name": "stdout",
     "output_type": "stream",
     "text": [
      "[1. 1. 1. 1.]\n"
     ]
    }
   ],
   "source": [
    "    s_matrix = np.array([[-1, 1, 1, 0, 0, 0, 0, 0, 0],\n",
    "                         [0, 0, 0, -1, 1, 0, 0, 0, 0],\n",
    "                         [0, 0, -1, 0, -1, 1, 0, 0, 0],\n",
    "                         [0, 0, 0, 0, 0, -1, -1, 1, 1]]).T\n",
    "\n",
    "    metabolites = [\"CYS[c]\", \"L-ALPHA-ALANINE[c]\", \"S-SULFANYL-IscS[c]\", \"FE+2[c]\", \"DISORDERED-FdS-IscU[c]\", \"S-SULFANYL-DISORDERED-FdS-IscU[c]\", \"ATP[c]\", \"ADP[c]\", \"CPD-6[c]\"]\n",
    "    reactions = [\"cysteine-desulfurase-FeS-cluster-assembly\", \"iron-transport-FeS-cluster-assembly\", \"complex-formation-FeS-cluster-assembly\", \"cluster-transport-FeS-cluster-assembly\"]\n",
    "    homeostatic_metabolites = {\"CPD-6[c]\": 1} # Demand has to be added for everything in the pathway\n",
    "\n",
    "    exchanges = {\"CYS[c]\", \"FE+2[c]\", \"ATP[c]\", \"ADP[c]\", \"L-ALPHA-ALANINE[c]\"}\n",
    "    uptakes = {\"CYS[c]\", \"FE+2[c]\", \"ATP[c]\"}\n",
    "\n",
    "    model = NetworkFlowModel(stoich_arr=s_matrix, reactions=reactions,\n",
    "                             metabolites=metabolites, homeostatic_metabolites=list(homeostatic_metabolites.keys()),\n",
    "                             kinetic_reactions=None)\n",
    "\n",
    "    model.set_up_exchanges(exchanges=exchanges, uptakes=uptakes)\n",
    "\n",
    "    solution: FlowResult = model.solve(homeostatic_targets=list(homeostatic_metabolites.values()),\n",
    "                                       objective_weights={'secretion': 0.01, 'efficiency': 0.0001},\n",
    "                                       # 0.01, 0.0001\n",
    "                                       upper_flux_bound=100, solver=cp.GLOP)\n",
    "\n",
    "    print(solution.velocities)\n",
    "    assert np.isclose(solution.velocities, np.array([1, 1, 1, 1])).all() == True, \"Network flow toy model did not converge to correct solution.\""
   ]
  },
  {
   "cell_type": "code",
   "execution_count": 42,
   "outputs": [],
   "source": [],
   "metadata": {
    "collapsed": false,
    "ExecuteTime": {
     "end_time": "2023-07-14T18:33:13.052859Z",
     "start_time": "2023-07-14T18:33:13.048695Z"
    }
   }
  }
 ],
 "metadata": {
  "kernelspec": {
   "display_name": "Python 3",
   "language": "python",
   "name": "python3"
  },
  "language_info": {
   "codemirror_mode": {
    "name": "ipython",
    "version": 2
   },
   "file_extension": ".py",
   "mimetype": "text/x-python",
   "name": "python",
   "nbconvert_exporter": "python",
   "pygments_lexer": "ipython2",
   "version": "2.7.6"
  }
 },
 "nbformat": 4,
 "nbformat_minor": 0
}
